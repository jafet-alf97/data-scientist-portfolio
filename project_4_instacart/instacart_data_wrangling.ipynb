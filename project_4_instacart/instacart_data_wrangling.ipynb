{
 "cells": [
  {
   "cell_type": "markdown",
   "id": "3c3d3c67",
   "metadata": {},
   "source": [
    "# ¡Hola Jafet!\n",
    "\n",
    "Mi nombre es Ezequiel Ferrario, soy code reviewer en Tripleten y tengo el agrado de revisar el proyecto que entregaste.\n",
    "\n",
    "Para simular la dinámica de un ambiente de trabajo, si veo algún error, en primer instancia solo los señalaré, dándote la oportunidad de encontrarlos y corregirlos por tu cuenta. En un trabajo real, el líder de tu equipo hará una dinámica similar. En caso de que no puedas resolver la tarea, te daré una información más precisa en la próxima revisión.\n",
    "\n",
    "Encontrarás mis comentarios más abajo - **por favor, no los muevas, no los modifiques ni los borres**.\n",
    "\n",
    "¿Cómo lo voy a hacer? Voy a leer detenidamente cada una de las implementaciones que has llevado a cabo para cumplir con lo solicitado. Verás los comentarios de esta forma:\n",
    "\n",
    "<div class=\"alert alert-block alert-success\">\n",
    "<b>Comentario del revisor</b> <a class=\"tocSkip\"></a>\n",
    "\n",
    "Si todo está perfecto.\n",
    "</div>\n",
    "\n",
    "\n",
    "<div class=\"alert alert-block alert-warning\">\n",
    "<b>Comentario del revisor</b> <a class=\"tocSkip\"></a>\n",
    "\n",
    "Si tu código está bien pero se puede mejorar o hay algún detalle que le hace falta. Se aceptan uno o dos comentarios de este tipo en el borrador, pero si hay más, deberá hacer las correcciones. Es como una tarea de prueba al solicitar un trabajo: muchos pequeños errores pueden hacer que un candidato sea rechazado.\n",
    "</div>\n",
    "\n",
    "<div class=\"alert alert-block alert-danger\">\n",
    "\n",
    "<b>Comentario del revisor</b> <a class=\"tocSkip\"></a>\n",
    "\n",
    "Si de pronto hace falta algo o existe algún problema con tu código o conclusiones.\n",
    "</div>\n",
    "\n",
    "Puedes responderme de esta forma:\n",
    "\n",
    "<div class=\"alert alert-block alert-info\">\n",
    "<b>Respuesta del estudiante</b> <a class=\"tocSkip\"></a>\n",
    "\n",
    "Hola, muchas gracias por tus comentarios y la revisión.\n",
    "</div>\n",
    "\n",
    "¡Empecemos!"
   ]
  },
  {
   "cell_type": "markdown",
   "id": "5451a3fd",
   "metadata": {},
   "source": [
    "------------\n",
    "\n",
    "<div class=\"alert alert-block alert-danger\">\n",
    "<b>Comentario general #1</b> <a class=\"tocSkip\"></a>\n",
    "\n",
    "Jafet, hiciste un muy buen proyecto aqui, donde abarcaste perfecto varios puntos.\n",
    "    \n",
    "La limpieza de los datasets en general esta muy bien, tanto duplicados como nulos fueron verificados.\n",
    "    \n",
    " A nivel graficos, supiste llevarlos a cabo y tu trabajo se refleja en la calidad de los mismos.\n",
    "\n",
    "Hay un detalle por abarcar y luego otros puntos minimos para finalizar este gran trabajo.\n",
    "    \n",
    " Espero tu correccion, saludos.\n",
    "    \n",
    "    \n",
    "</div>\n",
    "\n",
    "------------"
   ]
  },
  {
   "cell_type": "markdown",
   "id": "3Xg_RQfnafXz",
   "metadata": {
    "id": "3Xg_RQfnafXz"
   },
   "source": [
    "# ¡Llena ese carrito!"
   ]
  },
  {
   "cell_type": "markdown",
   "id": "mhIvmmkW414q",
   "metadata": {
    "id": "mhIvmmkW414q"
   },
   "source": [
    "# Introducción\n",
    "\n",
    "Instacart es una plataforma de entregas de comestibles donde la clientela puede registrar un pedido y hacer que se lo entreguen, similar a Uber Eats y Door Dash.\n",
    "El conjunto de datos que te hemos proporcionado tiene modificaciones del original. Redujimos el tamaño del conjunto para que tus cálculos se hicieran más rápido e introdujimos valores ausentes y duplicados. Tuvimos cuidado de conservar las distribuciones de los datos originales cuando hicimos los cambios.\n",
    "\n",
    "Debes completar tres pasos. Para cada uno de ellos, escribe una breve introducción que refleje con claridad cómo pretendes resolver cada paso, y escribe párrafos explicatorios que justifiquen tus decisiones al tiempo que avanzas en tu solución.  También escribe una conclusión que resuma tus hallazgos y elecciones.\n"
   ]
  },
  {
   "cell_type": "markdown",
   "id": "3MbyzpOQZ5Or",
   "metadata": {
    "id": "3MbyzpOQZ5Or"
   },
   "source": [
    "## Diccionario de datos\n",
    "\n",
    "Hay cinco tablas en el conjunto de datos, y tendrás que usarlas todas para hacer el preprocesamiento de datos y el análisis exploratorio de datos. A continuación se muestra un diccionario de datos que enumera las columnas de cada tabla y describe los datos que contienen.\n",
    "\n",
    "- `instact_orders.csv`: cada fila corresponde a un pedido en la aplicación Instacart.\n",
    "    - `'order_id'`: número de ID que identifica de manera única cada pedido.\n",
    "    - `'user_id'`: número de ID que identifica de manera única la cuenta de cada cliente.\n",
    "    - `'order_number'`: el número de veces que este cliente ha hecho un pedido.\n",
    "    - `'order_dow'`: día de la semana en que se hizo el pedido (0 si es domingo).\n",
    "    - `'order_hour_of_day'`: hora del día en que se hizo el pedido.\n",
    "    - `'days_since_prior_order'`: número de días transcurridos desde que este cliente hizo su pedido anterior.\n",
    "- `products.csv`: cada fila corresponde a un producto único que pueden comprar los clientes.\n",
    "    - `'product_id'`: número ID que identifica de manera única cada producto.\n",
    "    - `'product_name'`: nombre del producto.\n",
    "    - `'aisle_id'`: número ID que identifica de manera única cada categoría de pasillo de víveres.\n",
    "    - `'department_id'`: número ID que identifica de manera única cada departamento de víveres.\n",
    "- `order_products.csv`: cada fila corresponde a un artículo pedido en un pedido.\n",
    "    - `'order_id'`: número de ID que identifica de manera única cada pedido.\n",
    "    - `'product_id'`: número ID que identifica de manera única cada producto.\n",
    "    - `'add_to_cart_order'`: el orden secuencial en el que se añadió cada artículo en el carrito.\n",
    "    - `'reordered'`: 0 si el cliente nunca ha pedido este producto antes, 1 si lo ha pedido.\n",
    "- `aisles.csv`\n",
    "    - `'aisle_id'`: número ID que identifica de manera única cada categoría de pasillo de víveres.\n",
    "    - `'aisle'`: nombre del pasillo.\n",
    "- `departments.csv`\n",
    "    - `'department_id'`: número ID que identifica de manera única cada departamento de víveres.\n",
    "    - `'department'`: nombre del departamento."
   ]
  },
  {
   "cell_type": "markdown",
   "id": "n3Ha_cNSZ8lK",
   "metadata": {
    "id": "n3Ha_cNSZ8lK"
   },
   "source": [
    "# Paso 1. Descripción de los datos\n",
    "\n",
    "Lee los archivos de datos (`/datasets/instacart_orders.csv`, `/datasets/products.csv`, `/datasets/aisles.csv`, `/datasets/departments.csv` y `/datasets/order_products.csv`) con `pd.read_csv()` usando los parámetros adecuados para leer los datos correctamente. Verifica la información para cada DataFrame creado.\n"
   ]
  },
  {
   "cell_type": "markdown",
   "id": "0df93df0",
   "metadata": {},
   "source": [
    "<div class=\"alert alert-block alert-warning\">\n",
    "\n",
    "<b>Comentario del revisor</b> <a class=\"tocSkip\"></a>\n",
    "\n",
    "En este caso podes hacer una tabla de contenidos que este  linkeada a las secciones (al clickear debe llevarnos a esa seccion) de esta menera es mas facil desplazarse.\n",
    "\n",
    "Como consejo, si realizas bien todas las secciones (con su respectivo #) podes generarlo automáticamente desde jupyter lab. Para hacerlo, en la pestaña de herramientas de jupyter lab clickeas en el **botón de los puntos y barras**  (Table of contents) te generara automáticamente una tabla de contenidos linkeable y estética. A la **derecha** del seleccionador del tipo de celda (code/markdown)\n",
    "</div>"
   ]
  },
  {
   "cell_type": "markdown",
   "id": "OmlQPLlyaAfR",
   "metadata": {
    "id": "OmlQPLlyaAfR"
   },
   "source": [
    "## Plan de solución\n",
    "\n",
    "Escribe aquí tu plan de solución para el Paso 1. Descripción de los datos."
   ]
  },
  {
   "cell_type": "code",
   "execution_count": 1,
   "id": "fbf1adab",
   "metadata": {
    "id": "fbf1adab"
   },
   "outputs": [],
   "source": [
    "# importar librerías\n",
    "import pandas as pd \n",
    "from matplotlib import pyplot as plt\n"
   ]
  },
  {
   "cell_type": "code",
   "execution_count": 2,
   "id": "ad36396d",
   "metadata": {
    "id": "ad36396d"
   },
   "outputs": [],
   "source": [
    "# leer conjuntos de datos en los DataFrames\n",
    "df_instacart_orders = pd.read_csv(\"C:\\\\Users\\\\HP\\\\Downloads\\\\instacart_orders.csv\", sep=';', header=0)\n",
    "df_products = pd.read_csv(\"C:\\\\Users\\\\HP\\\\Downloads\\\\products.csv\", sep=';', header=0)\n",
    "df_aisles = pd.read_csv(\"C:\\\\Users\\\\HP\\\\Downloads\\\\aisles.csv\", sep=';', header=0)\n",
    "df_departments = pd.read_csv(\"C:\\\\Users\\\\HP\\\\Downloads\\\\departments.csv\", sep=';', header=0)\n",
    "df_order_products = pd.read_csv(\"C:\\\\Users\\\\HP\\\\Downloads\\\\order_products.csv\", sep=';', header=0)"
   ]
  },
  {
   "cell_type": "code",
   "execution_count": 3,
   "id": "ad6a1efa",
   "metadata": {
    "id": "ad6a1efa",
    "scrolled": true
   },
   "outputs": [
    {
     "name": "stdout",
     "output_type": "stream",
     "text": [
      "<class 'pandas.core.frame.DataFrame'>\n",
      "RangeIndex: 478967 entries, 0 to 478966\n",
      "Data columns (total 6 columns):\n",
      " #   Column                  Non-Null Count   Dtype  \n",
      "---  ------                  --------------   -----  \n",
      " 0   order_id                478967 non-null  int64  \n",
      " 1   user_id                 478967 non-null  int64  \n",
      " 2   order_number            478967 non-null  int64  \n",
      " 3   order_dow               478967 non-null  int64  \n",
      " 4   order_hour_of_day       478967 non-null  int64  \n",
      " 5   days_since_prior_order  450148 non-null  float64\n",
      "dtypes: float64(1), int64(5)\n",
      "memory usage: 21.9 MB\n"
     ]
    }
   ],
   "source": [
    "# mostrar información del DataFrame\n",
    "df_instacart_orders.info(show_counts=True)"
   ]
  },
  {
   "cell_type": "code",
   "execution_count": 4,
   "id": "5130e05e",
   "metadata": {
    "id": "5130e05e"
   },
   "outputs": [
    {
     "name": "stdout",
     "output_type": "stream",
     "text": [
      "<class 'pandas.core.frame.DataFrame'>\n",
      "RangeIndex: 49694 entries, 0 to 49693\n",
      "Data columns (total 4 columns):\n",
      " #   Column         Non-Null Count  Dtype \n",
      "---  ------         --------------  ----- \n",
      " 0   product_id     49694 non-null  int64 \n",
      " 1   product_name   48436 non-null  object\n",
      " 2   aisle_id       49694 non-null  int64 \n",
      " 3   department_id  49694 non-null  int64 \n",
      "dtypes: int64(3), object(1)\n",
      "memory usage: 1.5+ MB\n"
     ]
    }
   ],
   "source": [
    "# mostrar información del DataFrame\n",
    "df_products.info(show_counts=True)"
   ]
  },
  {
   "cell_type": "code",
   "execution_count": 5,
   "id": "d8370c05",
   "metadata": {
    "id": "d8370c05"
   },
   "outputs": [
    {
     "name": "stdout",
     "output_type": "stream",
     "text": [
      "<class 'pandas.core.frame.DataFrame'>\n",
      "RangeIndex: 134 entries, 0 to 133\n",
      "Data columns (total 2 columns):\n",
      " #   Column    Non-Null Count  Dtype \n",
      "---  ------    --------------  ----- \n",
      " 0   aisle_id  134 non-null    int64 \n",
      " 1   aisle     134 non-null    object\n",
      "dtypes: int64(1), object(1)\n",
      "memory usage: 2.2+ KB\n"
     ]
    }
   ],
   "source": [
    "# mostrar información del DataFrame\n",
    "df_aisles.info(show_counts=True)"
   ]
  },
  {
   "cell_type": "code",
   "execution_count": 6,
   "id": "59e2090f",
   "metadata": {
    "id": "59e2090f"
   },
   "outputs": [
    {
     "name": "stdout",
     "output_type": "stream",
     "text": [
      "<class 'pandas.core.frame.DataFrame'>\n",
      "RangeIndex: 21 entries, 0 to 20\n",
      "Data columns (total 2 columns):\n",
      " #   Column         Non-Null Count  Dtype \n",
      "---  ------         --------------  ----- \n",
      " 0   department_id  21 non-null     int64 \n",
      " 1   department     21 non-null     object\n",
      "dtypes: int64(1), object(1)\n",
      "memory usage: 468.0+ bytes\n"
     ]
    }
   ],
   "source": [
    "# mostrar información del DataFrame\n",
    "df_departments.info(show_counts=True)"
   ]
  },
  {
   "cell_type": "code",
   "execution_count": 7,
   "id": "6fc81694",
   "metadata": {
    "id": "6fc81694",
    "scrolled": true
   },
   "outputs": [
    {
     "name": "stdout",
     "output_type": "stream",
     "text": [
      "<class 'pandas.core.frame.DataFrame'>\n",
      "RangeIndex: 4545007 entries, 0 to 4545006\n",
      "Data columns (total 4 columns):\n",
      " #   Column             Non-Null Count    Dtype  \n",
      "---  ------             --------------    -----  \n",
      " 0   order_id           4545007 non-null  int64  \n",
      " 1   product_id         4545007 non-null  int64  \n",
      " 2   add_to_cart_order  4544171 non-null  float64\n",
      " 3   reordered          4545007 non-null  int64  \n",
      "dtypes: float64(1), int64(3)\n",
      "memory usage: 138.7 MB\n"
     ]
    }
   ],
   "source": [
    "# mostrar información del DataFrame\n",
    "df_order_products.info(show_counts=True)"
   ]
  },
  {
   "cell_type": "markdown",
   "id": "t75BD19oaR5f",
   "metadata": {
    "id": "t75BD19oaR5f"
   },
   "source": [
    "## Conclusiones\n",
    "\n",
    "Escribe aquí tus conclusiones intermedias sobre el Paso 1. Descripción de los datos. Para poder leer los archivos CSV no cargaba esto se debia a que las columnas se separaban por punto y coma y estas no estaban separadas de las filas sino que se podria entender que eran parte de ellas se procedio a poner encabezado y el separador para que corrieran los archivos\n"
   ]
  },
  {
   "cell_type": "markdown",
   "id": "f8fb6bc6",
   "metadata": {},
   "source": [
    "<div class=\"alert alert-block alert-success\">\n",
    "\n",
    "<b>Comentario del revisor</b> <a class=\"tocSkip\"></a>\n",
    "\n",
    "Buena exploracion inicial.\n",
    "\n",
    "\n",
    "</div>"
   ]
  },
  {
   "cell_type": "markdown",
   "id": "8RJHqxVmaVsF",
   "metadata": {
    "id": "8RJHqxVmaVsF"
   },
   "source": [
    "# Paso 2. Preprocesamiento de los datos\n",
    "\n",
    "Preprocesa los datos de la siguiente manera:\n",
    "\n",
    "- Verifica y corrige los tipos de datos (por ejemplo, asegúrate de que las columnas de ID sean números enteros).\n",
    "- Identifica y completa los valores ausentes.\n",
    "- Identifica y elimina los valores duplicados.\n",
    "\n",
    "Asegúrate de explicar qué tipos de valores ausentes y duplicados encontraste, cómo los completaste o eliminaste y por qué usaste esos métodos. ¿Por qué crees que estos valores ausentes y duplicados pueden haber estado presentes en el conjunto de datos? Una de las rzones de porque se presentan valores ausentes y duplicados es error de la personas al ingresar los datos, primero el tratamiento por dataframe se reviso los datos duplicados, se eliminaron por fila, luego por columna, para los ausentes: se revisaron cuantos ausentes y se cambiaron por una leyenda y finalmente los flotantes se cambiaron a numero entero"
   ]
  },
  {
   "cell_type": "markdown",
   "id": "p6poABZQaZYb",
   "metadata": {
    "id": "p6poABZQaZYb"
   },
   "source": [
    "## Plan de solución\n",
    "\n",
    "Escribe aquí tu plan para el Paso 2. Preprocesamiento de los datos."
   ]
  },
  {
   "cell_type": "markdown",
   "id": "f179f0a9",
   "metadata": {
    "id": "f179f0a9"
   },
   "source": [
    "### `instacart_orders` data frame"
   ]
  },
  {
   "cell_type": "code",
   "execution_count": 8,
   "id": "b99297a5-405a-463d-8535-9adc3da4ad74",
   "metadata": {
    "id": "b99297a5-405a-463d-8535-9adc3da4ad74"
   },
   "outputs": [
    {
     "name": "stdout",
     "output_type": "stream",
     "text": [
      "0         False\n",
      "1         False\n",
      "2         False\n",
      "3         False\n",
      "4         False\n",
      "          ...  \n",
      "478962    False\n",
      "478963    False\n",
      "478964    False\n",
      "478965    False\n",
      "478966    False\n",
      "Length: 478967, dtype: bool\n",
      "15\n"
     ]
    }
   ],
   "source": [
    "# Revisa si hay pedidos duplicados\n",
    "duplicated= df_instacart_orders.duplicated()\n",
    "sum_duplicated = duplicated.sum()\n",
    "print(duplicated)\n",
    "print(sum_duplicated)"
   ]
  },
  {
   "cell_type": "markdown",
   "id": "PEkwUX_gvt5A",
   "metadata": {
    "id": "PEkwUX_gvt5A"
   },
   "source": [
    "¿Tienes líneas duplicadas? Si sí, ¿qué tienen en común? Si hay valores duplicados ya que cada combinacion unica de las columnas de nuestro DataFrame se repite dos veces en nuestros valores duplicados"
   ]
  },
  {
   "cell_type": "code",
   "execution_count": 9,
   "id": "04076cb4",
   "metadata": {
    "scrolled": false
   },
   "outputs": [
    {
     "name": "stdout",
     "output_type": "stream",
     "text": [
      "Pedidos duplicados:\n",
      "        order_id  user_id  order_number  order_dow  order_hour_of_day  \\\n",
      "30371    1918001   188546            14          3                  2   \n",
      "99462     794638    50898            24          3                  2   \n",
      "119251    408114    68324             4          3                  2   \n",
      "142258   2845099    31189            11          3                  2   \n",
      "145574    794638    50898            24          3                  2   \n",
      "164581   1112182   202304            84          3                  2   \n",
      "200059   1782114   106752             1          3                  2   \n",
      "204042   2125197    14050            48          3                  2   \n",
      "215294   2160484   107525            16          3                  2   \n",
      "223105   2160484   107525            16          3                  2   \n",
      "230807   1918001   188546            14          3                  2   \n",
      "242618   1021560    53767             3          3                  2   \n",
      "250626    467134    63189            21          3                  2   \n",
      "257934   1919531   191501            32          3                  2   \n",
      "259636   2282673    86751            49          3                  2   \n",
      "266232   1782114   106752             1          3                  2   \n",
      "273805   1112182   202304            84          3                  2   \n",
      "284038   2845099    31189            11          3                  2   \n",
      "311713   1021560    53767             3          3                  2   \n",
      "314427   1286742   183220            48          3                  2   \n",
      "321100    408114    68324             4          3                  2   \n",
      "323900   1919531   191501            32          3                  2   \n",
      "324868   2232988    82565             1          3                  2   \n",
      "345917   2232988    82565             1          3                  2   \n",
      "354993    391768    57671            19          3                  2   \n",
      "371905    391768    57671            19          3                  2   \n",
      "394347    467134    63189            21          3                  2   \n",
      "411408   1286742   183220            48          3                  2   \n",
      "415163   2282673    86751            49          3                  2   \n",
      "441599   2125197    14050            48          3                  2   \n",
      "\n",
      "        days_since_prior_order  \n",
      "30371                     16.0  \n",
      "99462                      2.0  \n",
      "119251                    18.0  \n",
      "142258                     7.0  \n",
      "145574                     2.0  \n",
      "164581                     6.0  \n",
      "200059                     NaN  \n",
      "204042                     3.0  \n",
      "215294                    30.0  \n",
      "223105                    30.0  \n",
      "230807                    16.0  \n",
      "242618                     9.0  \n",
      "250626                     2.0  \n",
      "257934                     7.0  \n",
      "259636                     2.0  \n",
      "266232                     NaN  \n",
      "273805                     6.0  \n",
      "284038                     7.0  \n",
      "311713                     9.0  \n",
      "314427                     4.0  \n",
      "321100                    18.0  \n",
      "323900                     7.0  \n",
      "324868                     NaN  \n",
      "345917                     NaN  \n",
      "354993                    10.0  \n",
      "371905                    10.0  \n",
      "394347                     2.0  \n",
      "411408                     4.0  \n",
      "415163                     2.0  \n",
      "441599                     3.0  \n",
      "Valores comunes entre los pedidos duplicados\n",
      "    order_id  user_id  order_number  order_dow  order_hour_of_day  \\\n",
      "0     391768    57671            19          3                  2   \n",
      "1     408114    68324             4          3                  2   \n",
      "2     467134    63189            21          3                  2   \n",
      "3     794638    50898            24          3                  2   \n",
      "4    1021560    53767             3          3                  2   \n",
      "5    1112182   202304            84          3                  2   \n",
      "6    1286742   183220            48          3                  2   \n",
      "7    1918001   188546            14          3                  2   \n",
      "8    1919531   191501            32          3                  2   \n",
      "9    2125197    14050            48          3                  2   \n",
      "10   2160484   107525            16          3                  2   \n",
      "11   2282673    86751            49          3                  2   \n",
      "12   2845099    31189            11          3                  2   \n",
      "\n",
      "    days_since_prior_order  count  \n",
      "0                     10.0      2  \n",
      "1                     18.0      2  \n",
      "2                      2.0      2  \n",
      "3                      2.0      2  \n",
      "4                      9.0      2  \n",
      "5                      6.0      2  \n",
      "6                      4.0      2  \n",
      "7                     16.0      2  \n",
      "8                      7.0      2  \n",
      "9                      3.0      2  \n",
      "10                    30.0      2  \n",
      "11                     2.0      2  \n",
      "12                     7.0      2  \n"
     ]
    }
   ],
   "source": [
    "duplicated = df_instacart_orders[df_instacart_orders.duplicated(keep=False)]\n",
    "print('Pedidos duplicados:')\n",
    "print(duplicated)\n",
    "common_data = duplicated.groupby(list(duplicated.columns)).size().reset_index(name='count')\n",
    "print('Valores comunes entre los pedidos duplicados')\n",
    "print(common_data)"
   ]
  },
  {
   "cell_type": "code",
   "execution_count": 10,
   "id": "0d44de5d",
   "metadata": {
    "id": "0d44de5d"
   },
   "outputs": [
    {
     "name": "stdout",
     "output_type": "stream",
     "text": [
      "Pedidos realizados el miercoles a las 2:00 a.m\n",
      "        order_id  user_id  order_number  order_dow  order_hour_of_day  \\\n",
      "4838     2766110   162084            41          3                  2   \n",
      "5156     2190225   138285            18          3                  2   \n",
      "15506     553049    58599            13          3                  2   \n",
      "18420     382357   120200            19          3                  2   \n",
      "24691     690242    77357             2          3                  2   \n",
      "...          ...      ...           ...        ...                ...   \n",
      "457013   3384021    14881             6          3                  2   \n",
      "458816    910166   164782            18          3                  2   \n",
      "459635   1680532   106435             6          3                  2   \n",
      "468324    222962    54979            59          3                  2   \n",
      "477526   2592344    46860            38          3                  2   \n",
      "\n",
      "        days_since_prior_order  \n",
      "4838                      16.0  \n",
      "5156                      11.0  \n",
      "15506                      7.0  \n",
      "18420                     11.0  \n",
      "24691                      9.0  \n",
      "...                        ...  \n",
      "457013                    30.0  \n",
      "458816                     4.0  \n",
      "459635                    21.0  \n",
      "468324                     3.0  \n",
      "477526                     3.0  \n",
      "\n",
      "[121 rows x 6 columns]\n"
     ]
    }
   ],
   "source": [
    "# Basándote en tus hallazgos,\n",
    "# Verifica todos los pedidos que se hicieron el miércoles a las 2:00 a.m.\n",
    "orders_wednesday =df_instacart_orders[(df_instacart_orders['order_dow'] == 3) & (df_instacart_orders['order_hour_of_day'] == 2)]\n",
    "print('Pedidos realizados el miercoles a las 2:00 a.m')\n",
    "print(orders_wednesday)\n"
   ]
  },
  {
   "cell_type": "markdown",
   "id": "vu2OWyoqwOx5",
   "metadata": {
    "id": "vu2OWyoqwOx5"
   },
   "source": [
    "¿Qué sugiere este resultado? puede ser que el cliente tiene la disponibilidad de tiempo para hacer sus compras en ese horario, tambien. la demanda de la pagina disminuye en ese horario, tambien analizar que tipo de productos compra si son muy de alta demanda que en otros horarios no puede encontrar con facilidad"
   ]
  },
  {
   "cell_type": "code",
   "execution_count": 11,
   "id": "480563c7",
   "metadata": {
    "id": "480563c7"
   },
   "outputs": [
    {
     "name": "stdout",
     "output_type": "stream",
     "text": [
      "Cantidad de filas antes de eliminar duplicados: 478952\n",
      "Cantidad de filas después de eliminar duplicados: 478952\n",
      "        order_id  user_id  order_number  order_dow  order_hour_of_day  \\\n",
      "0        1515936   183418            11          6                 13   \n",
      "1        1690866   163593             5          5                 12   \n",
      "2        1454967    39980             4          5                 19   \n",
      "3        1768857    82516            56          0                 20   \n",
      "4        3007858   196724             2          4                 12   \n",
      "...          ...      ...           ...        ...                ...   \n",
      "478947   3210681     5617             5          1                 14   \n",
      "478948   3270802   112087             2          3                 13   \n",
      "478949    885349    82944            16          2                 11   \n",
      "478950    216274     4391             3          3                  8   \n",
      "478951   2071924     1730            18          1                 14   \n",
      "\n",
      "        days_since_prior_order  \n",
      "0                         30.0  \n",
      "1                          9.0  \n",
      "2                          2.0  \n",
      "3                         10.0  \n",
      "4                         17.0  \n",
      "...                        ...  \n",
      "478947                     7.0  \n",
      "478948                     6.0  \n",
      "478949                     6.0  \n",
      "478950                     8.0  \n",
      "478951                    15.0  \n",
      "\n",
      "[478952 rows x 6 columns]\n"
     ]
    }
   ],
   "source": [
    "# Elimina los pedidos duplicados\n",
    "df_instacart_orders = df_instacart_orders.drop_duplicates()\n",
    "print('Cantidad de filas antes de eliminar duplicados:', df_instacart_orders.shape[0])\n",
    "df_instacart_orders = df_instacart_orders.reset_index(drop=True)\n",
    "print('Cantidad de filas después de eliminar duplicados:', df_instacart_orders.shape[0])\n",
    "print(df_instacart_orders)"
   ]
  },
  {
   "cell_type": "code",
   "execution_count": 12,
   "id": "0b2396a2",
   "metadata": {
    "id": "0b2396a2"
   },
   "outputs": [
    {
     "name": "stdout",
     "output_type": "stream",
     "text": [
      "Numero de filas duplicadas despues de eliminar duplicados: 0\n"
     ]
    }
   ],
   "source": [
    "# Vuelve a verificar si hay filas duplicadas\n",
    "duplicates = df_instacart_orders.duplicated()\n",
    "total_duplicates = duplicates.sum()\n",
    "print('Numero de filas duplicadas despues de eliminar duplicados:', total_duplicates)"
   ]
  },
  {
   "cell_type": "markdown",
   "id": "f26e11ec",
   "metadata": {},
   "source": [
    "<div class=\"alert alert-block alert-warning\">\n",
    "\n",
    "<b>Comentario del revisor </b> <a class=\"tocSkip\"></a>\n",
    "\n",
    "Tene en cuenta que hacer la limpieza en el dataset original es lo que mas sentido tiene, ya que luego es engorroso ir utilizando otras variables diferentes al original (df_inscart_orders)\n",
    "\n",
    "</div>"
   ]
  },
  {
   "cell_type": "markdown",
   "id": "d8694696",
   "metadata": {},
   "source": [
    "<div class=\"alert alert-block alert-warning\">\n",
    "\n",
    "<b>Comentario del revisor</b> <a class=\"tocSkip\"></a>\n",
    "\n",
    "Luego de eliminar los duplicados, recorda reiniciar el indice tras la eliminación. Ya que el índice queda desordenado, dificultando manipulaciones. Al reiniciarlo, se obtiene un índice ordenado y se conserva el original en una nueva columna, preservando la integridad y facilitando futuras referencias . Recorda luego utilziar el parametro drop en true</div>"
   ]
  },
  {
   "cell_type": "code",
   "execution_count": 13,
   "id": "f6113ef1",
   "metadata": {
    "id": "f6113ef1"
   },
   "outputs": [
    {
     "name": "stdout",
     "output_type": "stream",
     "text": [
      "Numero de IDs duplicados de pedidos: 0\n"
     ]
    }
   ],
   "source": [
    "# Vuelve a verificar si hay IDs duplicados de pedidos\n",
    "duplicates_order_id = df_instacart_orders['order_id'].duplicated()\n",
    "total_duplicates_order_id = duplicates_order_id.sum()\n",
    "print('Numero de IDs duplicados de pedidos:', total_duplicates_order_id)"
   ]
  },
  {
   "cell_type": "markdown",
   "id": "5e8905ae",
   "metadata": {
    "id": "5e8905ae"
   },
   "source": [
    "Describe brevemente tus hallazgos y lo que hiciste con ellos: Primero hallando las filas duplicadas donde se encontraban combinaciones unicas donde datos de algunas columnas se repetian no todas la filas completamente, segundo: se procedio a eliminar los valores duplicados de las filas donde se debe verificar nuevamente si no existen mas duplicados que puedan afectar a nuestras conclusiones"
   ]
  },
  {
   "cell_type": "markdown",
   "id": "76c9a716",
   "metadata": {},
   "source": [
    "<div class=\"alert alert-block alert-success\">\n",
    "\n",
    "<b>Comentario del revisor</b> <a class=\"tocSkip\"></a>\n",
    "\n",
    "Muy bien.\n",
    "\n",
    "</div>"
   ]
  },
  {
   "cell_type": "markdown",
   "id": "45e6bc46",
   "metadata": {
    "id": "45e6bc46"
   },
   "source": [
    "### `products` data frame"
   ]
  },
  {
   "cell_type": "code",
   "execution_count": 14,
   "id": "5f526b5b-8175-46fa-a0fd-441767d50e64",
   "metadata": {
    "id": "5f526b5b-8175-46fa-a0fd-441767d50e64"
   },
   "outputs": [
    {
     "name": "stdout",
     "output_type": "stream",
     "text": [
      "Numero de filas duplicadas: 0\n"
     ]
    }
   ],
   "source": [
    "# Verifica si hay filas totalmente duplicadas\n",
    "duplicates_products = df_products.duplicated()\n",
    "total_duplicates_products = duplicates_products.sum()\n",
    "print('Numero de filas duplicadas:', total_duplicates_products)\n"
   ]
  },
  {
   "cell_type": "code",
   "execution_count": 15,
   "id": "88daa4f4",
   "metadata": {
    "id": "88daa4f4"
   },
   "outputs": [
    {
     "name": "stdout",
     "output_type": "stream",
     "text": [
      "Numero total de IDs duplicados de productos: 0\n"
     ]
    }
   ],
   "source": [
    "# Verifica si hay IDs duplicadas de productos\n",
    "duplicate_product_id = df_products['product_id'].duplicated()\n",
    "total_duplicate_product_id = duplicate_product_id.sum()\n",
    "print('Numero total de IDs duplicados de productos:', total_duplicate_product_id)"
   ]
  },
  {
   "cell_type": "code",
   "execution_count": 16,
   "id": "c773f0bf",
   "metadata": {
    "id": "c773f0bf"
   },
   "outputs": [
    {
     "name": "stdout",
     "output_type": "stream",
     "text": [
      "Numero total de nombres de productos duplicados: 1361\n"
     ]
    }
   ],
   "source": [
    "# Revisa si hay nombres duplicados de productos (convierte los nombres a letras mayúsculas para compararlos mejor)\n",
    "duplicate_names = df_products['product_name'].str.upper().duplicated()\n",
    "total_duplicate_names = duplicate_names.sum()\n",
    "print('Numero total de nombres de productos duplicados:', total_duplicate_names)"
   ]
  },
  {
   "cell_type": "code",
   "execution_count": 17,
   "id": "01efd02e",
   "metadata": {
    "id": "01efd02e"
   },
   "outputs": [
    {
     "name": "stdout",
     "output_type": "stream",
     "text": [
      "Nombres de duplicados de productos no faltantes\n",
      "product_name\n",
      "GREEN TEA WITH GINSENG AND HONEY                                        3\n",
      "CARROT AND CELERY STICKS                                                2\n",
      "APRICOT ENERGY BAR                                                      2\n",
      "TOP THE TATER CHIVE & ONION SOUR CREAM                                  2\n",
      "PROACTIVE HEALTH INDOOR WEIGHT & HAIRBALL CARE WITH CHICKEN CAT FOOD    2\n",
      "                                                                       ..\n",
      "CAULIFLOWER HEAD                                                        2\n",
      "HALF AND HALF                                                           2\n",
      "ORIGINAL BBQ SAUCE                                                      2\n",
      "SPREADABLE BUTTER WITH CANOLA OIL                                       2\n",
      "MANDARIN ORANGES IN LIGHT SYRUP                                         2\n",
      "Name: count, Length: 103, dtype: int64\n",
      "Total de nombres duplicados de productos no faltantes: 207\n"
     ]
    }
   ],
   "source": [
    "# Revisa si hay nombres duplicados de productos no faltantes\n",
    "non_missing_product_names = df_products['product_name'].dropna()\n",
    "duplicate_names_no_missing = non_missing_product_names.str.upper().value_counts()\n",
    "duplicate_names_no_missing_products = duplicate_names_no_missing[duplicate_names_no_missing > 1]\n",
    "total_duplicate_names_no_missing_products = duplicate_names_no_missing_products.sum()\n",
    "print('Nombres de duplicados de productos no faltantes')\n",
    "print(duplicate_names_no_missing_products)\n",
    "print('Total de nombres duplicados de productos no faltantes:', total_duplicate_names_no_missing_products)"
   ]
  },
  {
   "cell_type": "markdown",
   "id": "9da8d293",
   "metadata": {
    "id": "9da8d293"
   },
   "source": [
    "Describe brevemente tus hallazgos y lo que hiciste con ellos. Se presentan 1361 total de nombres de productos duplicados pero 207 nombres de productos son NaN"
   ]
  },
  {
   "cell_type": "markdown",
   "id": "38006f68",
   "metadata": {},
   "source": [
    "<div class=\"alert alert-block alert-success\">\n",
    "\n",
    "<b>Comentario del revisor</b> <a class=\"tocSkip\"></a>\n",
    "\n",
    "Muy bien.\n",
    "\n",
    "</div>"
   ]
  },
  {
   "cell_type": "markdown",
   "id": "60f30db1",
   "metadata": {
    "id": "60f30db1"
   },
   "source": [
    "### `departments` data frame"
   ]
  },
  {
   "cell_type": "code",
   "execution_count": 18,
   "id": "fb410ad4-0fbf-4b80-bb09-23fdea79afe3",
   "metadata": {
    "id": "fb410ad4-0fbf-4b80-bb09-23fdea79afe3"
   },
   "outputs": [
    {
     "name": "stdout",
     "output_type": "stream",
     "text": [
      "Numero de filas duplicadas: 0\n"
     ]
    }
   ],
   "source": [
    "# Revisa si hay filas totalmente duplicadas\n",
    "duplicates_departments = df_departments.duplicated()\n",
    "total_duplicates_departments = duplicates_departments.sum()\n",
    "print('Numero de filas duplicadas:', total_duplicates_departments)"
   ]
  },
  {
   "cell_type": "code",
   "execution_count": 19,
   "id": "332b12bb",
   "metadata": {
    "id": "332b12bb"
   },
   "outputs": [
    {
     "name": "stdout",
     "output_type": "stream",
     "text": [
      "Numero total de IDs duplicados de departamentos: 0\n"
     ]
    }
   ],
   "source": [
    "# Revisa si hay IDs duplicadas de productos\n",
    "duplicated_department_id = df_departments['department_id'].duplicated()\n",
    "total_duplicate_department_id = duplicated_department_id.sum()\n",
    "print('Numero total de IDs duplicados de departamentos:', total_duplicate_department_id)"
   ]
  },
  {
   "cell_type": "markdown",
   "id": "bd30d78e",
   "metadata": {
    "id": "bd30d78e"
   },
   "source": [
    "Describe brevemente tus hallazgos y lo que hiciste con ellos. Al ser un DataFrame con pocos datos a simple vista se nota que no existen datos duplicados y se comprueba mediante las funciones aplicadas que en las filas no se presentan ninguno y esto facilita estos datos para proximas manipulaciones"
   ]
  },
  {
   "cell_type": "markdown",
   "id": "889349c1",
   "metadata": {
    "id": "889349c1"
   },
   "source": [
    "### `aisles` data frame"
   ]
  },
  {
   "cell_type": "code",
   "execution_count": 20,
   "id": "9da89fb9-4679-40f5-ad0d-c34df753a3f8",
   "metadata": {
    "id": "9da89fb9-4679-40f5-ad0d-c34df753a3f8"
   },
   "outputs": [
    {
     "name": "stdout",
     "output_type": "stream",
     "text": [
      "Numero de filas duplicadas: 0\n"
     ]
    }
   ],
   "source": [
    "# Revisa si hay filas totalmente duplicadas\n",
    "duplicates_aisles = df_aisles.duplicated()\n",
    "total_duplicates_aisles = duplicates_aisles.sum()\n",
    "print('Numero de filas duplicadas:', total_duplicates_aisles)"
   ]
  },
  {
   "cell_type": "code",
   "execution_count": 21,
   "id": "da7c2822",
   "metadata": {
    "id": "da7c2822"
   },
   "outputs": [
    {
     "name": "stdout",
     "output_type": "stream",
     "text": [
      "Numero de IDs duplicados de pasillos: 0\n"
     ]
    }
   ],
   "source": [
    "# Revisa si hay IDs duplicadas de productos\n",
    "duplicated_aisles_id = df_aisles['aisle_id'].duplicated()\n",
    "total_duplicates_aisles_id = duplicated_aisles_id.sum()\n",
    "print('Numero de IDs duplicados de pasillos:', total_duplicates_aisles_id)"
   ]
  },
  {
   "cell_type": "markdown",
   "id": "ac63826f",
   "metadata": {
    "id": "ac63826f"
   },
   "source": [
    "Describe brevemente tus hallazgos y lo que hiciste con ellos. Al ser un DataFrame con una cantidad mayor de valores en las filas noes facil darse cuenta a simple vista si hay existen valores duplicados, pero al aplicar las funciones adecuadas se comprubea que no hay datos duplicados y esto no repercute en manipulaciones posteriores"
   ]
  },
  {
   "cell_type": "markdown",
   "id": "274cd06a",
   "metadata": {
    "id": "274cd06a"
   },
   "source": [
    "### `order_products` data frame"
   ]
  },
  {
   "cell_type": "code",
   "execution_count": 22,
   "id": "52326689-84a8-4b8f-a881-7c68780f62c9",
   "metadata": {
    "id": "52326689-84a8-4b8f-a881-7c68780f62c9"
   },
   "outputs": [
    {
     "name": "stdout",
     "output_type": "stream",
     "text": [
      "Numero de total de filas duplicadas: 0\n"
     ]
    }
   ],
   "source": [
    "# Revisa si hay filas totalmente duplicadas\n",
    "duplicates_order_products = df_order_products.duplicated()\n",
    "total_duplicates_order_products = duplicates_order_products.sum()\n",
    "print('Numero de total de filas duplicadas:', total_duplicates_order_products)\n"
   ]
  },
  {
   "cell_type": "code",
   "execution_count": 23,
   "id": "7b861391",
   "metadata": {
    "id": "7b861391"
   },
   "outputs": [
    {
     "name": "stdout",
     "output_type": "stream",
     "text": [
      "Numero de duplicados engañosos en (order_id y  product_id): 0\n",
      "Empty DataFrame\n",
      "Columns: [order_id, product_id, add_to_cart_order, reordered]\n",
      "Index: []\n"
     ]
    }
   ],
   "source": [
    "# Vuelve a verificar si hay cualquier otro duplicado engañoso\n",
    "duplicates_engaging = df_order_products.duplicated(subset=['order_id', 'product_id'])\n",
    "total_duplicates_engaging = duplicates_engaging.sum()\n",
    "print('Numero de duplicados engañosos en (order_id y  product_id):', total_duplicates_engaging)\n",
    "engaging_duplicates_df = df_order_products[duplicates_engaging]\n",
    "print(engaging_duplicates_df)\n"
   ]
  },
  {
   "cell_type": "markdown",
   "id": "0b890492",
   "metadata": {
    "id": "0b890492"
   },
   "source": [
    "Describe brevemente tus hallazgos y lo que hiciste con ellos. Al ser un DataFrame con una cantidad extensa de datos uno podria decir que existiera la posibilidad de que haya  filas duplicadas, por eso se escogio dos columnas donde hay mas probabilidad de que de que hubiera datos duplicados pero en este caso no se presentaron datos duplicados"
   ]
  },
  {
   "cell_type": "markdown",
   "id": "cabc6ac6",
   "metadata": {},
   "source": [
    "<div class=\"alert alert-block alert-success\">\n",
    "\n",
    "<b>Comentario del revisor</b> <a class=\"tocSkip\"></a>\n",
    "\n",
    "Excelente seccion.\n",
    "\n",
    "</div>"
   ]
  },
  {
   "cell_type": "markdown",
   "id": "1e46de76",
   "metadata": {
    "id": "1e46de76"
   },
   "source": [
    "## Encuentra y elimina los valores ausentes\n",
    "\n",
    "Al trabajar con valores duplicados, pudimos observar que también nos falta investigar valores ausentes:\n",
    "\n",
    "* La columna `'product_name'` de la tabla products.\n",
    "* La columna `'days_since_prior_order'` de la tabla orders.\n",
    "* La columna `'add_to_cart_order'` de la tabla order_productos."
   ]
  },
  {
   "cell_type": "markdown",
   "id": "c0aebd78",
   "metadata": {
    "id": "c0aebd78"
   },
   "source": [
    "### `products` data frame"
   ]
  },
  {
   "cell_type": "code",
   "execution_count": 24,
   "id": "fe4a8b0f",
   "metadata": {
    "id": "fe4a8b0f"
   },
   "outputs": [
    {
     "name": "stdout",
     "output_type": "stream",
     "text": [
      "Numero total de valores ausentes en (product_name): 1258\n"
     ]
    }
   ],
   "source": [
    "# Encuentra los valores ausentes en la columna 'product_name'\n",
    "missing_values_products = df_products['product_name'].isnull()\n",
    "total_missing_values_products = missing_values_products.sum()\n",
    "print('Numero total de valores ausentes en (product_name):', total_missing_values_products)"
   ]
  },
  {
   "cell_type": "markdown",
   "id": "-A6x1AbJhjkp",
   "metadata": {
    "id": "-A6x1AbJhjkp"
   },
   "source": [
    "Describe brevemente cuáles son tus hallazgos. Esos valores ausentes nos indican que esos productos no tienen nombre asignado y esto repercute en nuestro analisis de los datos y en proximas presentacion si se quieren presentar estos datos en graficos, tambien repercute en las ventas ya que los nombres es primordial a la hora del vender los productos "
   ]
  },
  {
   "cell_type": "code",
   "execution_count": 25,
   "id": "e96167bc",
   "metadata": {
    "id": "e96167bc"
   },
   "outputs": [
    {
     "name": "stdout",
     "output_type": "stream",
     "text": [
      "Numero de productos ausentes en el pasillo 100: 1258\n",
      "Todos los nombres de productos ausentes que estan relacionados con el pasillo 100: True\n"
     ]
    }
   ],
   "source": [
    "#  ¿Todos los nombres de productos ausentes están relacionados con el pasillo con ID 100?\n",
    "missing_id_aisle_100 = df_products[(df_products['product_name'].isnull()) & (df_products['aisle_id'] == 100)]\n",
    "num_missing_id_aisle_100 = missing_id_aisle_100.shape[0]\n",
    "missing_values_products = df_products['product_name'].isnull()\n",
    "total_missing_values_products = missing_values_products.sum()\n",
    "all_missing_id_aisle_100 = num_missing_id_aisle_100 == total_missing_values_products\n",
    "print('Numero de productos ausentes en el pasillo 100:', num_missing_id_aisle_100)\n",
    "print('Todos los nombres de productos ausentes que estan relacionados con el pasillo 100:', all_missing_id_aisle_100)\n"
   ]
  },
  {
   "cell_type": "markdown",
   "id": "WRpIfXRphpSL",
   "metadata": {
    "id": "WRpIfXRphpSL"
   },
   "source": [
    "Describe brevemente cuáles son tus hallazgos. Al ubicar el pasillo 100 al aplicar las funciones pertinentes nos muestra que todo ese pasillo pertenece a tod los valores ausentes y en efecto revisando la tabla faltan los datos del productos esto afecta al inventario, a las ventas del productos y no se puede indentificar a tales productos y esto se puede deber a que no se cargaron correctamente los datos es una opcion"
   ]
  },
  {
   "cell_type": "code",
   "execution_count": 26,
   "id": "8fd0a541",
   "metadata": {
    "id": "8fd0a541"
   },
   "outputs": [
    {
     "name": "stdout",
     "output_type": "stream",
     "text": [
      "Numero de productos ausentes en el departamento 21: 1258\n",
      "¿Todos los nombres de productos ausentes que estan relacionados con el departamento 21?: True\n"
     ]
    }
   ],
   "source": [
    "# ¿Todos los nombres de productos ausentes están relacionados con el departamento con ID 21?\n",
    "missing_id_department_21 = df_products[(df_products['product_name'].isnull()) & (df_products['department_id'] == 21)]\n",
    "num_missing_id_department_21 = missing_id_department_21.shape[0]\n",
    "missing_values_products = df_products['product_name'].isnull()\n",
    "total_missing_values_products = missing_values_products.sum()\n",
    "all_missing_id_department_21 = num_missing_id_department_21 == total_missing_values_products\n",
    "print('Numero de productos ausentes en el departamento 21:', num_missing_id_department_21)\n",
    "print('¿Todos los nombres de productos ausentes que estan relacionados con el departamento 21?:', all_missing_id_department_21)\n"
   ]
  },
  {
   "cell_type": "markdown",
   "id": "qDpdYn1Fht_I",
   "metadata": {
    "id": "qDpdYn1Fht_I"
   },
   "source": [
    "Describe brevemente cuáles son tus hallazgos. Si solo se viera lo que los valores que nos arrojan las funciones pensariamos que esta algo incorrecto, pero revisando el DataFrame se ouede notat que el pasillo con ID 100 y el departmento con ID 21 pertecen a la misma fila esto nos indica que los datos que nos indica con las funciones aplicadas son correctas"
   ]
  },
  {
   "cell_type": "code",
   "execution_count": 27,
   "id": "325c3464",
   "metadata": {
    "id": "325c3464",
    "scrolled": false
   },
   "outputs": [
    {
     "name": "stdout",
     "output_type": "stream",
     "text": [
      "Datos del pasillo con ID 100:\n",
      "    aisle_id    aisle\n",
      "99       100  missing\n",
      "Datos del departmento con ID 21:\n",
      "    department_id department\n",
      "20             21    missing\n"
     ]
    }
   ],
   "source": [
    "# Usa las tablas department y aisle para revisar los datos del pasillo con ID 100 y el departamento con ID 21.\n",
    "id_aisle_100 = df_aisles[df_aisles['aisle_id'] == 100]\n",
    "id_department_21 = df_departments[df_departments['department_id'] == 21]\n",
    "print('Datos del pasillo con ID 100:')\n",
    "print(id_aisle_100)\n",
    "print('Datos del departmento con ID 21:')\n",
    "print(id_department_21)"
   ]
  },
  {
   "cell_type": "markdown",
   "id": "nqhSTUPhhvEJ",
   "metadata": {
    "id": "nqhSTUPhhvEJ"
   },
   "source": [
    "    Describe brevemente cuáles son tus hallazgos. De los 1258 valores ausentes de la columna 'product_name' pertenecen al pasillo con ID 100 en conjunto con el departamento con ID 21, estos IDs especialmente se relacionaron en sus respectivos DataFrames(isles y departments) nos arroja una etiqueta 'missing' indica que no hay informacion valida que los relacion a estos DataFrames"
   ]
  },
  {
   "cell_type": "code",
   "execution_count": 28,
   "id": "6b295120",
   "metadata": {
    "id": "6b295120"
   },
   "outputs": [
    {
     "name": "stdout",
     "output_type": "stream",
     "text": [
      "Numero total de valores ausentes en (product_name) despues de la actualizacion: 0\n"
     ]
    }
   ],
   "source": [
    "# Completa los nombres de productos ausentes con 'Unknown'\n",
    "df_products['product_name'] = df_products['product_name'].fillna('Unknown')\n",
    "missing_values_after = df_products['product_name'].isnull()\n",
    "total_missing_values_after = missing_values_after.sum()\n",
    "print('Numero total de valores ausentes en (product_name) despues de la actualizacion:', total_missing_values_after)"
   ]
  },
  {
   "cell_type": "markdown",
   "id": "fc70e5ad",
   "metadata": {
    "id": "fc70e5ad"
   },
   "source": [
    "Describe brevemente tus hallazgos y lo que hiciste con ellos. A falta de los nombres de los productos en el pasillo con ID 100 y el departamento con ID 21 la columna product_name al reeplazar los valores ausentes con la leyenda Unknown ha mejorado la calidad de los datos ya sin datos faltantes"
   ]
  },
  {
   "cell_type": "markdown",
   "id": "a6fbfaa4",
   "metadata": {},
   "source": [
    "<div class=\"alert alert-block alert-success\">\n",
    "\n",
    "<b>Comentario del revisor</b> <a class=\"tocSkip\"></a>\n",
    "\n",
    "Excelente encontrando el patron de estos nulos, muy buenas observaciones.\n",
    "\n",
    "</div>"
   ]
  },
  {
   "cell_type": "markdown",
   "id": "7eb45c86",
   "metadata": {
    "id": "7eb45c86"
   },
   "source": [
    "### `orders` data frame"
   ]
  },
  {
   "cell_type": "code",
   "execution_count": 29,
   "id": "93e41d96",
   "metadata": {
    "id": "93e41d96"
   },
   "outputs": [
    {
     "name": "stdout",
     "output_type": "stream",
     "text": [
      "Numero de valores ausentes en days_since_prior_order: 28817\n"
     ]
    }
   ],
   "source": [
    "# Encuentra los valores ausentes\n",
    "missing_values_orders = df_instacart_orders['days_since_prior_order'].isnull()\n",
    "total_missing_values_orders = missing_values_orders.sum()\n",
    "print('Numero de valores ausentes en days_since_prior_order:', total_missing_values_orders)"
   ]
  },
  {
   "cell_type": "code",
   "execution_count": 30,
   "id": "166e5a86",
   "metadata": {
    "id": "166e5a86"
   },
   "outputs": [
    {
     "name": "stdout",
     "output_type": "stream",
     "text": [
      "Hay valores ausentes en  days_since_prior_order que no sean el primer pedido del cliente: False\n"
     ]
    }
   ],
   "source": [
    "# ¿Hay algún valor ausente que no sea el primer pedido del cliente?\n",
    "missing_non_first_orders = df_instacart_orders[df_instacart_orders['days_since_prior_order'].isnull() & (df_instacart_orders['order_number'] >1)]\n",
    "count_values_non_first_orders = len(missing_non_first_orders)>0\n",
    "print('Hay valores ausentes en  days_since_prior_order que no sean el primer pedido del cliente:', count_values_non_first_orders)\n"
   ]
  },
  {
   "cell_type": "markdown",
   "id": "4e23d089",
   "metadata": {
    "id": "4e23d089"
   },
   "source": [
    "Describe brevemente tus hallazgos y lo que hiciste con ellos. Todos los valores ausentes en la columna 'days_since_prior_order'  pertenecen a los primeros pedidos del cliente ya que no hay pedidos que se hayan realizado posterior al primero que tengan valores ausentes"
   ]
  },
  {
   "cell_type": "code",
   "execution_count": 31,
   "id": "bd439ea7",
   "metadata": {
    "scrolled": false
   },
   "outputs": [
    {
     "name": "stdout",
     "output_type": "stream",
     "text": [
      "0    30\n",
      "1     9\n",
      "2     2\n",
      "3    10\n",
      "4    17\n",
      "Name: days_since_prior_order, dtype: int32\n"
     ]
    }
   ],
   "source": [
    "df_insta_cart = df_instacart_orders.reset_index(drop=True).copy()\n",
    "df_insta_cart['days_since_prior_order']= df_insta_cart['days_since_prior_order'].fillna(0).astype(int)\n",
    "print(df_insta_cart['days_since_prior_order'].head())\n"
   ]
  },
  {
   "cell_type": "markdown",
   "id": "77d6519e",
   "metadata": {},
   "source": [
    "<div class=\"alert alert-block alert-success\">\n",
    "\n",
    "<b>Comentario del revisor</b> <a class=\"tocSkip\"></a>\n",
    "\n",
    "  Muy bien entendiendo estos nulos.\n",
    "\n",
    "</div>"
   ]
  },
  {
   "cell_type": "markdown",
   "id": "69dc9ca4",
   "metadata": {
    "id": "69dc9ca4"
   },
   "source": [
    "### `order_products` data frame"
   ]
  },
  {
   "cell_type": "code",
   "execution_count": 32,
   "id": "b8240253",
   "metadata": {
    "id": "b8240253",
    "scrolled": true
   },
   "outputs": [
    {
     "name": "stdout",
     "output_type": "stream",
     "text": [
      "Numero total de valores ausentes en (add_to_cart_order): 836\n"
     ]
    }
   ],
   "source": [
    "# Encuentra los valores ausentes\n",
    "missing_values_order_products = df_order_products['add_to_cart_order'].isnull()\n",
    "total_missing_values_orders = missing_values_order_products.sum()\n",
    "print('Numero total de valores ausentes en (add_to_cart_order):', total_missing_values_orders)"
   ]
  },
  {
   "cell_type": "code",
   "execution_count": 33,
   "id": "9a78e5ee",
   "metadata": {
    "id": "9a78e5ee"
   },
   "outputs": [
    {
     "name": "stdout",
     "output_type": "stream",
     "text": [
      "El valor minimo en add_to_cart_order: 1.0\n",
      "El valor maximo en add_to_cart_order: 64.0\n"
     ]
    }
   ],
   "source": [
    "# ¿Cuáles son los valores mínimos y máximos en esta columna?\n",
    "min_value_order = df_order_products['add_to_cart_order'].min()\n",
    "max_value_order = df_order_products['add_to_cart_order'].max()\n",
    "print('El valor minimo en add_to_cart_order:', min_value_order)\n",
    "print('El valor maximo en add_to_cart_order:', max_value_order)\n"
   ]
  },
  {
   "cell_type": "markdown",
   "id": "-Z2Ja215jW78",
   "metadata": {
    "id": "-Z2Ja215jW78"
   },
   "source": [
    "Describe brevemente cuáles son tus hallazgos. Estos 836 valores ausentes en la columna 'add_to_cart_order' no se registro el orden en que los productos se ingresaron al carrito, el valor minimo de 1 nos indica que solo un producto se ingresa al carrito y en el valor maximo es de 64  el carrtito puede tener 64 productos"
   ]
  },
  {
   "cell_type": "code",
   "execution_count": 34,
   "id": "ab9d0c2b",
   "metadata": {
    "id": "ab9d0c2b",
    "scrolled": true
   },
   "outputs": [
    {
     "name": "stdout",
     "output_type": "stream",
     "text": [
      "IDs de pedidos con valores ausentes en (add_to_cart_order): [2449164 1968313 2926893 1717990 1959075  844733   61355  936852  264710\n",
      " 1564093  129627  293169 2849370 1386261 3308010  903110 2136777 3347453\n",
      " 1888628  165801 2094761 1038146 2997021  813364 2256933  171934 2409109\n",
      " 1730767 1169835  733526  404157 3125735  747668 1800005 1961723  871281\n",
      "  388234 1648217 1477139  102236 1021563 1832957 2721963  678116 1220886\n",
      " 1673227 2999801 1633337 2470674 2625444 1677118 2479011 3383594 1183255\n",
      " 1713430 2652650 1598369 1916118  854647 1302315  888470  180546 2621907\n",
      " 1308785 2729254    9310 2170451 2979697 1625713 1529171]\n"
     ]
    }
   ],
   "source": [
    "# Guarda todas las IDs de pedidos que tengan un valor ausente en 'add_to_cart_order'\n",
    "missing_orders = df_order_products[missing_values_order_products]\n",
    "missing_order_id = missing_orders['order_id'].unique()\n",
    "print('IDs de pedidos con valores ausentes en (add_to_cart_order):', missing_order_id)"
   ]
  },
  {
   "cell_type": "code",
   "execution_count": 35,
   "id": "54c31695",
   "metadata": {
    "id": "54c31695",
    "scrolled": true
   },
   "outputs": [
    {
     "name": "stdout",
     "output_type": "stream",
     "text": [
      "Numero minimo de productos pedidos con valores ausentes: 1\n",
      "¿Todos los pedidos con valores ausentes tiene mas de 64 productos?: False\n"
     ]
    }
   ],
   "source": [
    "# ¿Todos los pedidos con valores ausentes tienen más de 64 productos?\n",
    "# Agrupa todos los pedidos con datos ausentes por su ID de pedido.\n",
    "# Cuenta el número de 'product_id' en cada pedido y revisa el valor mínimo del conteo.\n",
    "order_counts = missing_orders.groupby('order_id')['product_id'].count()\n",
    "min_product_count = order_counts.min()\n",
    "print('Numero minimo de productos pedidos con valores ausentes:', min_product_count)\n",
    "all_more_64 = (min_product_count > 64)\n",
    "print('¿Todos los pedidos con valores ausentes tiene mas de 64 productos?:', all_more_64)\n"
   ]
  },
  {
   "cell_type": "markdown",
   "id": "25680cde",
   "metadata": {},
   "source": [
    "<div class=\"alert alert-block alert-warning\">\n",
    "<b>Comentario del revisor </b> <a class=\"tocSkip\"></a>\n",
    "\n",
    "En razon de la pregunta si `¿Todos los pedidos con valores ausentes tienen más de 64 productos?`\n",
    "\n",
    "Podes buscar las `order_id` que tienen valores ausentes en la columna 'add_to_cart_order'.\n",
    "\n",
    "Después de identificar los IDs -unicos- de pedidos con valores ausentes, asegúrate de filtrar el DataFrame original para incluir solo las filas correspondientes a esos IDs de pedidos antes de realizar la agrupación (Verifica que se encuentren en el primer filtrado los datos). Esto asegurará que estás trabajando solo con los datos relevantes. (Como consejo utiliza en la agrupacion la id de orden pero utilizando el metodo unique para depurar)\n",
    "\n",
    "Al calcular la cantidad mínima de productos, asegúrate de que estás obteniendo la cantidad mínima de productos en un solo pedido con valores ausentes, no la cantidad mínima entre todos los pedidos agrupados. Revisa cómo estás aplicando la función de conteo y la función de mínimo para obtener el resultado correcto.\n",
    "</div>"
   ]
  },
  {
   "cell_type": "markdown",
   "id": "p9V6pddtjglj",
   "metadata": {
    "id": "p9V6pddtjglj"
   },
   "source": [
    "Describe brevemente cuáles son tus hallazgos. Esto indica que 1 pedido tiene un valor ausente en la columna add_to_cart_order solo tiene un producto esto nos indica al hacer el conteo y la agrupacion indicada, y nos devuelve false no todos los pedidos con valores ausentes al menos uno no la cumple"
   ]
  },
  {
   "cell_type": "code",
   "execution_count": 36,
   "id": "cc9b8935",
   "metadata": {},
   "outputs": [
    {
     "name": "stdout",
     "output_type": "stream",
     "text": [
      "Número mínimo de productos en un solo pedido con valores ausentes: 65\n",
      "Número máximo de productos en un solo pedido con valores ausentes: 127\n"
     ]
    }
   ],
   "source": [
    "missing_orders_df = df_order_products[df_order_products['order_id'].isin(missing_order_id)]\n",
    "product_count_per_order = missing_orders_df.groupby('order_id')['product_id'].count()\n",
    "min_product_count = product_count_per_order[product_count_per_order > 0].min()\n",
    "print('Número mínimo de productos en un solo pedido con valores ausentes:', min_product_count)\n",
    "max_product_count = product_count_per_order.max()\n",
    "print('Número máximo de productos en un solo pedido con valores ausentes:', max_product_count)\n",
    "                                     "
   ]
  },
  {
   "cell_type": "markdown",
   "id": "d1efaedb",
   "metadata": {},
   "source": [
    "El valor minimo de productos en uno solo pedido nos indica que el medido con la menor cantidad de prodcutos con valores ausentes de la columna 'add_to_cart_order', para el valor maximo el pedido con la mayor cantidad en un solo pedido  que incluye valores ausentes nos indica de igual que el cliente hace pedidos significativos "
   ]
  },
  {
   "cell_type": "code",
   "execution_count": 37,
   "id": "7a987d08",
   "metadata": {
    "id": "7a987d08"
   },
   "outputs": [
    {
     "name": "stdout",
     "output_type": "stream",
     "text": [
      "0    17\n",
      "1     1\n",
      "2     1\n",
      "3    35\n",
      "4     5\n",
      "Name: add_to_cart_order, dtype: int32\n",
      "Número de valores reemplazados por 999: 836\n"
     ]
    }
   ],
   "source": [
    "# Remplaza los valores ausentes en la columna 'add_to_cart? con 999 y convierte la columna al tipo entero.\n",
    "df_order_products['add_to_cart_order'] = df_order_products['add_to_cart_order'].fillna(999)\n",
    "df_order_products['add_to_cart_order'] = df_order_products['add_to_cart_order'].astype(int)\n",
    "print(df_order_products['add_to_cart_order'].head())\n",
    "count_of_999 = (df_order_products['add_to_cart_order'] == 999).sum()\n",
    "print('Número de valores reemplazados por 999:', count_of_999)"
   ]
  },
  {
   "cell_type": "markdown",
   "id": "fea4bcc7",
   "metadata": {
    "id": "fea4bcc7"
   },
   "source": [
    "Describe brevemente tus hallazgos y lo que hiciste con ellos. Esto nos indica que si se realizo el cambio de los valores ausentes a 999 y se cuenta cuantos valores con 999 se tiene y es igual al numero de valores ausentes que se tenia en un inicio y se cambio la columna de valor flotante a entero."
   ]
  },
  {
   "cell_type": "markdown",
   "id": "018d230c",
   "metadata": {},
   "source": [
    "<div class=\"alert alert-block alert-warning\">\n",
    "\n",
    "<b>Comentario del revisor</b> <a class=\"tocSkip\"></a>\n",
    "\n",
    "¿Por que crees que el maximo de `add_to_cart_order` se detiene en 64? ¿No crees que es un valor muy arbitrario?</div>"
   ]
  },
  {
   "cell_type": "markdown",
   "id": "e19bac71",
   "metadata": {},
   "source": [
    "Puede ser que el sistema solo deja ingresar maximo 64 productos puede que sea una restriccion o una condicional del sistema o se hizo un estudio que indico que 64 fuera el maximo, si si es arbitrario decisiones de la tienda en base a que estudian al cliente y ellos establecen sus condicionales de compra"
   ]
  },
  {
   "cell_type": "markdown",
   "id": "RnplPFY1gSrb",
   "metadata": {
    "id": "RnplPFY1gSrb"
   },
   "source": [
    "## Conclusiones\n",
    "\n",
    "Escribe aquí tus conclusiones intermedias sobre el Paso 2. Preprocesamiento de los datos\n"
   ]
  },
  {
   "cell_type": "markdown",
   "id": "4151ab8b",
   "metadata": {},
   "source": [
    "<div class=\"alert alert-block alert-danger\">\n",
    "\n",
    "<b>Comentario del revisor</b> <a class=\"tocSkip\"></a>\n",
    "\n",
    "Recorda dejar tus conclusiones sobre esta seccion.\n",
    "\n",
    "</div>"
   ]
  },
  {
   "cell_type": "markdown",
   "id": "c41a95c5",
   "metadata": {},
   "source": [
    "En esta parte del preprocesamiento de los datos de gran importancia para manipular los datos ya que si no se establecen las columnas, ver que esten separadas, eliminar las filas de duplicados de duplicados, las columnas si presentan duplicados por cada DF, revisar los ausentes de cada DF y reemplazarlo por la leyenda solicitada, checar valores unicos en ciertos casos como dias u horas, cambiar los numero de flotantes a enteros para mejor visualizacion, ya con datos limpios se puede trabajar de manera optima para que la tienda mejore y trabaje los puntos debiles o donde algo este fallando "
   ]
  },
  {
   "cell_type": "markdown",
   "id": "UjrOIwTcz3ri",
   "metadata": {
    "id": "UjrOIwTcz3ri"
   },
   "source": [
    "# Paso 3. Análisis de los datos\n",
    "\n",
    "Una vez los datos estén procesados y listos, haz el siguiente análisis:"
   ]
  },
  {
   "cell_type": "markdown",
   "id": "turkish-kidney",
   "metadata": {
    "id": "turkish-kidney"
   },
   "source": [
    "# [A] Fácil (deben completarse todos para aprobar)\n",
    "\n",
    "1. Verifica que los valores en las columnas `'order_hour_of_day'` y `'order_dow'` en la tabla orders sean razonables (es decir, `'order_hour_of_day'` oscile entre 0 y 23 y `'order_dow'` oscile entre 0 y 6).\n",
    "2. Crea un gráfico que muestre el número de personas que hacen pedidos dependiendo de la hora del día.\n",
    "3. Crea un gráfico que muestre qué día de la semana la gente hace sus compras.\n",
    "4. Crea un gráfico que muestre el tiempo que la gente espera hasta hacer su siguiente pedido, y comenta sobre los valores mínimos y máximos."
   ]
  },
  {
   "cell_type": "markdown",
   "id": "short-capability",
   "metadata": {
    "id": "short-capability"
   },
   "source": [
    "### [A1] Verifica que los valores sean sensibles"
   ]
  },
  {
   "cell_type": "code",
   "execution_count": 38,
   "id": "growing-fruit",
   "metadata": {
    "id": "growing-fruit",
    "scrolled": true
   },
   "outputs": [
    {
     "name": "stdout",
     "output_type": "stream",
     "text": [
      "Valores ausentes en cada columna:\n",
      "days_since_prior_order    28817\n",
      "dtype: int64\n"
     ]
    }
   ],
   "source": [
    "missing_values_insta_cart = df_instacart_orders.isnull().sum()\n",
    "print('Valores ausentes en cada columna:')\n",
    "print(missing_values_insta_cart[missing_values_insta_cart>0])\n",
    "\n",
    "\n"
   ]
  },
  {
   "cell_type": "code",
   "execution_count": 39,
   "id": "accessory-malaysia",
   "metadata": {
    "id": "accessory-malaysia"
   },
   "outputs": [
    {
     "name": "stdout",
     "output_type": "stream",
     "text": [
      "Valores validos para (order_hour_of_day): 0         True\n",
      "1         True\n",
      "2         True\n",
      "3         True\n",
      "4         True\n",
      "          ... \n",
      "478947    True\n",
      "478948    True\n",
      "478949    True\n",
      "478950    True\n",
      "478951    True\n",
      "Name: order_hour_of_day, Length: 478952, dtype: bool\n",
      "Valores validos para (order_dow): 0         True\n",
      "1         True\n",
      "2         True\n",
      "3         True\n",
      "4         True\n",
      "          ... \n",
      "478947    True\n",
      "478948    True\n",
      "478949    True\n",
      "478950    True\n",
      "478951    True\n",
      "Name: order_dow, Length: 478952, dtype: bool\n"
     ]
    }
   ],
   "source": [
    "valid_order_hour = (df_instacart_orders['order_hour_of_day'] >= 0) & (df_instacart_orders['order_hour_of_day'] <= 23)\n",
    "valid_order_dow = (df_instacart_orders['order_dow'] >= 0) & (df_instacart_orders['order_dow'] <= 6)\n",
    "print('Valores validos para (order_hour_of_day):', valid_order_hour)\n",
    "print('Valores validos para (order_dow):', valid_order_dow)\n"
   ]
  },
  {
   "cell_type": "markdown",
   "id": "hmR2GNQ6lCsX",
   "metadata": {
    "id": "hmR2GNQ6lCsX"
   },
   "source": [
    "Escribe aquí tus conclusiones Al aplicar las funciones nos indica una cosa primero que en la columna order_hour_of_day se afirma que las horas sean correctas y se cumpla las 24 horas de un dia y la segunda columna day_dow dia de la semana que se hace la orden que el 0 en el indica es seria el lunes siendo el primer dia al dumero 6 del indice que es el domingo el septimo dia"
   ]
  },
  {
   "cell_type": "markdown",
   "id": "71afe8aa",
   "metadata": {},
   "source": [
    "<div class=\"alert alert-block alert-success\">\n",
    "\n",
    "<b>Comentario del revisor</b> <a class=\"tocSkip\"></a>\n",
    "\n",
    "Excelente comprobacion.\n",
    "\n",
    "</div>"
   ]
  },
  {
   "cell_type": "markdown",
   "id": "a6743a70",
   "metadata": {
    "id": "a6743a70"
   },
   "source": [
    "### [A2] Para cada hora del día, ¿cuántas personas hacen órdenes?"
   ]
  },
  {
   "cell_type": "code",
   "execution_count": 40,
   "id": "a36cca27",
   "metadata": {
    "id": "a36cca27",
    "scrolled": false
   },
   "outputs": [
    {
     "name": "stdout",
     "output_type": "stream",
     "text": [
      "Cantidad de filas después de eliminar duplicados: 399002\n"
     ]
    },
    {
     "data": {
      "image/png": "[encoded data removed]",
      "text/plain": [
       "<Figure size 640x480 with 1 Axes>"
      ]
     },
     "metadata": {},
     "output_type": "display_data"
    }
   ],
   "source": [
    "from matplotlib import pyplot as plt\n",
    "df_instacart_orders = df_instacart_orders.drop_duplicates(subset=['order_hour_of_day', 'user_id'])\n",
    "print('Cantidad de filas después de eliminar duplicados:', df_instacart_orders.shape[0])\n",
    "users_per_hour = df_instacart_orders.groupby('order_hour_of_day')['user_id'].nunique().sort_index()\n",
    "users_per_hour.plot(kind='bar', xlabel='Hora del dia', ylabel='Numero de usuarios', title='Numero de personas que hacen pedidos por hora del dia', xlim=[0, 23])\n",
    "plt.xlabel('Hora del dia')\n",
    "plt.ylabel('Numero de usuarios')\n",
    "plt.show()"
   ]
  },
  {
   "cell_type": "markdown",
   "id": "e8c85a71",
   "metadata": {},
   "source": [
    "<div class=\"alert alert-block alert-danger\">\n",
    "<b>Comentario del revisor </b> <a class=\"tocSkip\"></a>\n",
    "\n",
    "Siguiendo las buenas practicas importa matplotlib en la celda del inicio (del  proyecto) y dedicala exclusivamente a la importacion de librerias.\n",
    "\n",
    "Esteo es importante por varios puntos\n",
    "\n",
    "- Tener todas las importaciones en un solo lugar facilita la lectura y comprensión del código, si yo al abrir un proyecto veo las librerias se de que va a ir el trabajo (por ejemplo si importa matplotlib habra graficos)\n",
    "- Otro beneficio es la detección temprana de errores ya que importar todas las librerías al inicio permite detectar errores de importación (como bibliotecas faltantes o incompatibilidades) antes de ejecutar cualquier linea de codigo.\n",
    "\n",
    "</div>"
   ]
  },
  {
   "cell_type": "markdown",
   "id": "11270eed",
   "metadata": {
    "id": "11270eed"
   },
   "source": [
    "Escribe aquí tus conclusiones Nos muestra que hay picos dependiendo la hora del dia hay mas usuarios comprando apartir de 10 am a 17 pm esto podria mejorar en las dispobilidad de productos en esos horarios para mejor atencion al cliente"
   ]
  },
  {
   "cell_type": "markdown",
   "id": "documented-command",
   "metadata": {
    "id": "documented-command"
   },
   "source": [
    "### [A3] ¿Qué día de la semana compran víveres las personas?"
   ]
  },
  {
   "cell_type": "code",
   "execution_count": 41,
   "id": "chief-digit",
   "metadata": {
    "id": "chief-digit",
    "scrolled": false
   },
   "outputs": [
    {
     "data": {
      "image/png": "[encoded data removed]",
      "text/plain": [
       "<Figure size 640x480 with 1 Axes>"
      ]
     },
     "metadata": {},
     "output_type": "display_data"
    }
   ],
   "source": [
    "order_per_dow = df_instacart_orders['order_dow'].value_counts().sort_index()\n",
    "order_per_dow.plot(kind='bar', xlabel='Dia de la semana', ylabel='Numero de pedidos', title='Numero de compras por dia de la semana', xlim=[0, 6])\n",
    "plt.xlabel('Dia de la semana')\n",
    "plt.ylabel('Numero de pedidos')\n",
    "plt.show()"
   ]
  },
  {
   "cell_type": "markdown",
   "id": "8ee5ecd2",
   "metadata": {},
   "source": [
    "<div class=\"alert alert-block alert-danger\">\n",
    "<b>Comentario del revisor </b> <a class=\"tocSkip\"></a>\n",
    "\n",
    "Ya importaste matplotlib, no vuelvas a hacerlo ya que no constituye una buen practica importar todo el tiempo las mismas librerias.\n",
    "</div>"
   ]
  },
  {
   "cell_type": "markdown",
   "id": "dominant-lightning",
   "metadata": {
    "id": "dominant-lightning"
   },
   "source": [
    "Escribe aquí tus conclusiones Este grafico nos muestra los dias que prefiere el usuarios hacer sus compras se muestra los dias domingo y lunes de mayor pedidos. y que podria hacer la tienda para poder vender mas los dias con pedidos mas bajos como precios mas bajos, promociones ese tipo de estrategias, y los dias que hay mayor demanda de pedidos se tenga con el inventario adecuado y no haya poca variedad de producto o escaso"
   ]
  },
  {
   "cell_type": "markdown",
   "id": "cutting-concert",
   "metadata": {
    "id": "cutting-concert"
   },
   "source": [
    "### [A4] ¿Cuánto tiempo esperan las personas hasta hacer otro pedido? Comenta sobre los valores mínimos y máximos."
   ]
  },
  {
   "cell_type": "code",
   "execution_count": 42,
   "id": "c231f523",
   "metadata": {
    "id": "c231f523"
   },
   "outputs": [
    {
     "name": "stdout",
     "output_type": "stream",
     "text": [
      "Valores de espera que son 64 o más:\n",
      "473888    64\n",
      "279469    64\n",
      "438361    65\n",
      "69780     69\n",
      "289490    67\n",
      "286143    70\n",
      "418070    72\n",
      "114467    73\n",
      "25305     71\n",
      "172861    65\n",
      "59820     66\n",
      "209637    65\n",
      "28432     66\n",
      "Name: wait_time, dtype: int32\n",
      "count    399002.000000\n",
      "mean          3.782169\n",
      "std           5.582524\n",
      "min           0.000000\n",
      "25%           0.000000\n",
      "50%           2.000000\n",
      "75%           5.000000\n",
      "max          73.000000\n",
      "Name: wait_time, dtype: float64\n"
     ]
    },
    {
     "data": {
      "image/png": "[encoded data removed]",
      "text/plain": [
       "<Figure size 1000x600 with 1 Axes>"
      ]
     },
     "metadata": {},
     "output_type": "display_data"
    },
    {
     "name": "stdout",
     "output_type": "stream",
     "text": [
      "Valor mínimo de espera: 0\n",
      "Valor máximo de espera: 73\n"
     ]
    }
   ],
   "source": [
    "df_instacart_orders = df_instacart_orders.sort_values(by=['user_id', 'order_number'])\n",
    "df_instacart_orders['wait_time'] = df_instacart_orders.groupby('user_id')['order_number'].diff().fillna(0)\n",
    "wait_time_values = df_instacart_orders['wait_time'].dropna()\n",
    "wait_time_values = wait_time_values.astype(int)\n",
    "print('Valores de espera que son 64 o más:')\n",
    "print(wait_time_values[wait_time_values >= 64])\n",
    "print(wait_time_values.describe())\n",
    "max_limit =20\n",
    "wait_time_values.plot(kind= 'hist', bins= 15, color= 'red', edgecolor= 'blue', title= 'Distribucion del tiempo de espera hasta el siguiente pedido', xlabel='Tiempo de espera hasta el siguiente pedido(order_number)', ylabel= 'Numero de usuarios', xlim=[wait_time_values.min(), max_limit], figsize= [10, 6])\n",
    "plt.xlabel('Tiempo de espera hasta el siguiente pedido (order_number)')\n",
    "plt.ylabel('Numero de usuarios')\n",
    "plt.show()\n",
    "print('Valor mínimo de espera:', wait_time_values.min())\n",
    "print('Valor máximo de espera:', wait_time_values.max())\n",
    "\n"
   ]
  },
  {
   "cell_type": "markdown",
   "id": "a3220dbf",
   "metadata": {},
   "source": [
    "<div class=\"alert alert-block alert-danger\">\n",
    "<b>Comentario del revisor </b> <a class=\"tocSkip\"></a>\n",
    "\n",
    "Ya importaste matplotlib, no vuelvas a hacerlo ya que no constituye una buen practica importar todo el tiempo las mismas librerias.\n",
    "</div>"
   ]
  },
  {
   "cell_type": "markdown",
   "id": "discrete-vertex",
   "metadata": {
    "id": "discrete-vertex"
   },
   "source": [
    "Escribe aquí tus conclusiones El grafico nos indica la mayoria de pedidos no pasan tanto tiempo de espera haciendo pedidos con diferencia entre ellos es poca entre mas mas transcurre el tiempo pas disminuye el numero de usuarios que hacen para hacer el siguiente pedido"
   ]
  },
  {
   "cell_type": "markdown",
   "id": "4399473c",
   "metadata": {},
   "source": [
    "<div class=\"alert alert-block alert-warning\">\n",
    "<b>Comentario del revisor</b> <a class=\"tocSkip\"></a>\n",
    "\n",
    "¿Los dias entre pedidos que tienen 0 a que corresponderia? puede der por distintas razones a) compras desesperadas que el cliente sienta o sepa que los prodcutos que consume son de alta demanda , b) productos que necesita con cierta urgencia lo que provoca la rapidez en sus compras, c) otra razon es que el cliente ya tenga en mente que prodcutos y no pierde el tiempo pensando que va comprar\n",
    "\n",
    "¿Porque crees la razon en que estan concentrados los mayores datos en que se piden cada siete dias? Hay distintas razones a) que hace compras de los productos que necesita en esos 7 dias ya sea por gusto que hace compras por semana o por cuestiones economicas que hace compras que se ajustan solo a los insispensable semanalmente b) otra de ellas es que comoren productos en un dia donde hay ofertas y aprovechan para hacer sus compras \n",
    "\n",
    "Responder este tipo de preguntas robustecen nuestro proyecto y le dan valor a nuestro rol de analista.</div>"
   ]
  },
  {
   "cell_type": "markdown",
   "id": "tight-staff",
   "metadata": {
    "id": "tight-staff"
   },
   "source": [
    "# [B] Intermedio (deben completarse todos para aprobar)\n",
    "\n",
    "1. ¿Existe alguna diferencia entre las distribuciones `'order_hour_of_day'` de los miércoles y los sábados? Traza gráficos de barra de `'order_hour_of_day'` para ambos días en la misma figura y describe las diferencias que observes.\n",
    "2. Grafica la distribución para el número de órdenes que hacen los clientes (es decir, cuántos clientes hicieron solo 1 pedido, cuántos hicieron 2, cuántos 3, y así sucesivamente...).\n",
    "3. ¿Cuáles son los 20 principales productos que se piden con más frecuencia (muestra su identificación y nombre)?"
   ]
  },
  {
   "cell_type": "markdown",
   "id": "packed-classic",
   "metadata": {
    "id": "packed-classic"
   },
   "source": [
    "### [B1] Diferencia entre miércoles y sábados para  `'order_hour_of_day'`. Traza gráficos de barra para los dos días y describe las diferencias que veas."
   ]
  },
  {
   "cell_type": "code",
   "execution_count": 43,
   "id": "d89b8403",
   "metadata": {
    "id": "d89b8403"
   },
   "outputs": [
    {
     "data": {
      "image/png": "[encoded data removed]",
      "text/plain": [
       "<Figure size 640x480 with 1 Axes>"
      ]
     },
     "metadata": {},
     "output_type": "display_data"
    }
   ],
   "source": [
    "\n",
    "wednesday_orders = df_instacart_orders[df_instacart_orders['order_dow'] ==3]\n",
    "saturday_orders = df_instacart_orders[df_instacart_orders['order_dow'] ==6]\n",
    "wednesday_hour_counts = wednesday_orders['order_hour_of_day'].value_counts().sort_index()\n",
    "saturday_hour_counts = saturday_orders['order_hour_of_day'].value_counts().sort_index()\n",
    "data_day_orders = pd.DataFrame({\n",
    "            'Wednesday': wednesday_hour_counts,\n",
    "            'Saturday' : saturday_hour_counts\n",
    "}).fillna(0)\n",
    "data_day_orders.plot(kind='bar', title='Distribucion de pedidos por hora del dia', xlabel='Hora del dia', ylabel='Numero de pedidos')\n",
    "plt.xlabel('Hora del dia')\n",
    "plt.xlim=[0, 23]\n",
    "plt.ylabel('Numero de pedidos')\n",
    "plt.legend(['Miercoles', 'Sabado'])\n",
    "plt.show()"
   ]
  },
  {
   "cell_type": "markdown",
   "id": "3eda2e2a",
   "metadata": {},
   "source": [
    "<div class=\"alert alert-block alert-danger\">\n",
    "<b>Comentario del revisor </b> <a class=\"tocSkip\"></a>\n",
    "\n",
    "Ya importaste matplotlib, no vuelvas a hacerlo ya que no constituye una buen practica importar todo el tiempo las mismas librerias.\n",
    "</div>"
   ]
  },
  {
   "cell_type": "markdown",
   "id": "charitable-congo",
   "metadata": {
    "id": "charitable-congo"
   },
   "source": [
    "Escribe aquí tus conclusiones  Estos graficos nos indican a las primeras horas del dia el numero de pedidos es baja al igual que en la noche para ambos dias va disminuyendo, pero presenta picos muy a la par en ambos dias esto nos indica: primero para el dia miercoles; en la mañana de 8 am a 12 pm aumenta por las personas que hacen sus compras para comida, a las 6 pm empieza a disminuir las compras. Para el sabado: como es dia de descanso para la mayoria de personas los pedidos aumentan 9 am a 16 pm con los mayores pedidos ya que hacen su compras para la semana y despues aprochar la tarde y disminuye a partir de 17 pm."
   ]
  },
  {
   "cell_type": "markdown",
   "id": "703252a4",
   "metadata": {},
   "source": [
    "<div class=\"alert alert-block alert-success\">\n",
    "<b>Comentario del revisor </b> <a class=\"tocSkip\"></a>\n",
    "\n",
    "El grafico es excelente ya que queda muy clara la diferencia.</div>"
   ]
  },
  {
   "cell_type": "markdown",
   "id": "e3891143",
   "metadata": {
    "id": "e3891143"
   },
   "source": [
    "### [B2] ¿Cuál es la distribución para el número de pedidos por cliente?"
   ]
  },
  {
   "cell_type": "code",
   "execution_count": 44,
   "id": "d8c26c23",
   "metadata": {
    "id": "d8c26c23",
    "scrolled": false
   },
   "outputs": [
    {
     "data": {
      "image/png": "[encoded data removed]",
      "text/plain": [
       "<Figure size 1000x600 with 1 Axes>"
      ]
     },
     "metadata": {},
     "output_type": "display_data"
    }
   ],
   "source": [
    "customer_order_counts = df_instacart_orders['user_id'].value_counts()\n",
    "order_distribution_client = customer_order_counts.value_counts().sort_index()\n",
    "order_distribution_client.plot(kind='bar', xlabel= ('Numero de ordenes'), ylabel = ('Numero de clientes'), title='Distribucion del numero de ordenes por cliente', color= 'green', xlim=[0, 19], figsize =[10, 6])\n",
    "plt.xlabel('Numero de ordenes')\n",
    "plt.ylabel('Numero de clientes')\n",
    "plt.grid(True)\n",
    "plt.show()"
   ]
  },
  {
   "cell_type": "markdown",
   "id": "daed0e21",
   "metadata": {},
   "source": [
    "<div class=\"alert alert-block alert-danger\">\n",
    "<b>Comentario del revisor </b> <a class=\"tocSkip\"></a>\n",
    "\n",
    "Ya importaste matplotlib, no vuelvas a hacerlo ya que no constituye una buen practica importar todo el tiempo las mismas librerias.\n",
    "</div>"
   ]
  },
  {
   "cell_type": "markdown",
   "id": "54a0319c",
   "metadata": {
    "id": "54a0319c"
   },
   "source": [
    "### [B3] ¿Cuáles son los 20 productos más populares (muestra su ID y nombre)?"
   ]
  },
  {
   "cell_type": "code",
   "execution_count": 45,
   "id": "exterior-arizona",
   "metadata": {
    "id": "exterior-arizona",
    "scrolled": true
   },
   "outputs": [
    {
     "name": "stdout",
     "output_type": "stream",
     "text": [
      "Número total de filas después de eliminar duplicados finales: 48333\n",
      "Número total de nombres de productos duplicados después de la eliminación final: 0\n"
     ]
    }
   ],
   "source": [
    "df_products['product_name'] = df_products['product_name'].fillna('Unknown')\n",
    "df_products_cleaned = df_products.drop_duplicates(subset='product_name', keep='first').copy()\n",
    "df_products_cleaned.loc[:, 'product_name'] = df_products_cleaned['product_name'].str.strip().str.lower()\n",
    "df_products_final = df_products_cleaned.drop_duplicates(subset='product_name', keep='first')\n",
    "total_rows_after_final = df_products_final.shape[0]\n",
    "print('Número total de filas después de eliminar duplicados finales:', total_rows_after_final)\n",
    "duplicate_names_final_check = df_products_final['product_name'].duplicated()\n",
    "total_duplicate_names_final_check = duplicate_names_final_check.sum()\n",
    "print('Número total de nombres de productos duplicados después de la eliminación final:', total_duplicate_names_final_check)\n"
   ]
  },
  {
   "cell_type": "code",
   "execution_count": 46,
   "id": "universal-facial",
   "metadata": {
    "id": "universal-facial"
   },
   "outputs": [
    {
     "name": "stdout",
     "output_type": "stream",
     "text": [
      "    product_id              product_name  count\n",
      "0        24852                    banana  66050\n",
      "1        13176    bag of organic bananas  53297\n",
      "2        21137      organic strawberries  37039\n",
      "3        21903      organic baby spinach  33971\n",
      "4        47209      organic hass avocado  29773\n",
      "5        47766           organic avocado  24689\n",
      "6        47626               large lemon  21495\n",
      "7        16797              strawberries  20018\n",
      "8        26209                     limes  19690\n",
      "9        27845        organic whole milk  19600\n",
      "10       27966       organic raspberries  19197\n",
      "11       22935      organic yellow onion  15898\n",
      "12       24964            organic garlic  15292\n",
      "13       45007          organic zucchini  14584\n",
      "14       39275       organic blueberries  13879\n",
      "15       49683            cucumber kirby  13675\n",
      "16       28204        organic fuji apple  12544\n",
      "17        5876             organic lemon  12232\n",
      "18        8277  apple honeycrisp organic  11993\n",
      "19       40706    organic grape tomatoes  11781\n"
     ]
    }
   ],
   "source": [
    "product_counts = df_order_products['product_id'].value_counts().reset_index()\n",
    "product_counts.columns = ['product_id', 'count']\n",
    "top_products = product_counts.merge(df_products_final[['product_id', 'product_name']], on='product_id')\n",
    "top_20_products = top_products.sort_values(by='count', ascending=False).head(20)[['product_id', 'product_name', 'count']]\n",
    "print(top_20_products)\n"
   ]
  },
  {
   "cell_type": "markdown",
   "id": "2c2e582f",
   "metadata": {},
   "source": [
    "<div class=\"alert alert-block alert-warning\">\n",
    "<b>Comentario del revisor</b> <a class=\"tocSkip\"></a>\n",
    "\n",
    "Recorda que en este caso le agregaria valor graficar ese top 20 con un grafico de barras. Tener a mano el grafico hara mas amena y legible la experiencia del cliente.</div>"
   ]
  },
  {
   "cell_type": "code",
   "execution_count": 47,
   "id": "bc97d1c3",
   "metadata": {},
   "outputs": [
    {
     "data": {
      "image/png": "[encoded data removed]",
      "text/plain": [
       "<Figure size 1200x800 with 1 Axes>"
      ]
     },
     "metadata": {},
     "output_type": "display_data"
    }
   ],
   "source": [
    "top_20_products.plot(x= 'product_name', y= 'count', kind='bar', xlabel= 'Numero de pedidos', ylabel = 'Productos', title='Top 20 de productos mas populares', color= 'orange', figsize =[12, 8])\n",
    "plt.xlabel('Numero de pedidos')\n",
    "plt.ylabel('Productos')\n",
    "plt.title('Top 20 de productos mas populares')\n",
    "plt.grid(True)\n",
    "plt.show()"
   ]
  },
  {
   "cell_type": "markdown",
   "id": "07f7f709",
   "metadata": {},
   "source": [
    "Este grafico de barras complementa lo que se concluyo los 20 prodcutos mas populares donde se encientran frutas, verduras y leche organica lo que nos indica que el consumidor se preocupa por su salud"
   ]
  },
  {
   "cell_type": "markdown",
   "id": "gross-theme",
   "metadata": {
    "id": "gross-theme"
   },
   "source": [
    "# [C] Difícil (deben completarse todos para aprobar)\n",
    "\n",
    "1. ¿Cuántos artículos suelen comprar las personas en un pedido? ¿Cómo es la distribución?\n",
    "2. ¿Cuáles son los 20 principales artículos que vuelven a pedirse con mayor frecuencia (muestra sus nombres e IDs de los productos)?\n",
    "3. Para cada producto, ¿cuál es la tasa de repetición del pedido (número de repeticiones de pedido/total de pedidos?\n",
    "4. Para cada cliente, ¿qué proporción de los productos que pidió ya los había pedido? Calcula la tasa de repetición de pedido para cada usuario en lugar de para cada producto.\n",
    "5. ¿Cuáles son los 20 principales artículos que la gente pone primero en sus carritos (muestra las IDs de los productos, sus nombres, y el número de veces en que fueron el primer artículo en añadirse al carrito)?"
   ]
  },
  {
   "cell_type": "markdown",
   "id": "romantic-deposit",
   "metadata": {
    "id": "romantic-deposit"
   },
   "source": [
    "### [C1] ¿Cuántos artículos compran normalmente las personas en un pedido? ¿Cómo es la distribución?"
   ]
  },
  {
   "cell_type": "code",
   "execution_count": 48,
   "id": "virtual-punch",
   "metadata": {
    "id": "virtual-punch"
   },
   "outputs": [
    {
     "name": "stdout",
     "output_type": "stream",
     "text": [
      "   order_id  num_articles\n",
      "0     61355           127\n",
      "1   3308010           115\n",
      "2   2136777           108\n",
      "3    171934           104\n",
      "4   1959075            98\n",
      "Media de artículos por pedido: 10.10\n",
      "Mediana de artículos por pedido: 8.00\n",
      "Desviación estándar de artículos por pedido: 7.54\n"
     ]
    },
    {
     "data": {
      "image/png": "[encoded data removed]",
      "text/plain": [
       "<Figure size 640x480 with 1 Axes>"
      ]
     },
     "metadata": {},
     "output_type": "display_data"
    }
   ],
   "source": [
    "articles_per_order = df_order_products['order_id'].value_counts().reset_index()\n",
    "articles_per_order.columns = ['order_id', 'num_articles']\n",
    "print(articles_per_order.head())\n",
    "mean_articles = articles_per_order['num_articles'].mean()\n",
    "median_articles = articles_per_order['num_articles'].median()\n",
    "std_articles = articles_per_order['num_articles'].std()\n",
    "print(f'Media de artículos por pedido: {mean_articles:.2f}')\n",
    "print(f'Mediana de artículos por pedido: {median_articles:.2f}')\n",
    "print(f'Desviación estándar de artículos por pedido: {std_articles:.2f}')\n",
    "plt.hist(articles_per_order['num_articles'], bins= 30, color= 'blue', edgecolor= 'red')\n",
    "plt.xlabel('Numero de articulos')\n",
    "plt.title('Distribucion del Numero de Articulos por Pedido')\n",
    "plt.ylabel('Frecuencia')\n",
    "plt.grid(True)\n",
    "plt.show()"
   ]
  },
  {
   "cell_type": "markdown",
   "id": "22e9599f",
   "metadata": {},
   "source": [
    "<div class=\"alert alert-block alert-danger\">\n",
    "<b>Comentario del revisor </b> <a class=\"tocSkip\"></a>\n",
    "\n",
    "Ya importaste matplotlib, no vuelvas a hacerlo ya que no constituye una buen practica importar todo el tiempo las mismas librerias.\n",
    "</div>"
   ]
  },
  {
   "cell_type": "markdown",
   "id": "6cf72906",
   "metadata": {},
   "source": [
    "<div class=\"alert alert-block alert-warning\">\n",
    "<b>Comentario del revisor</b> <a class=\"tocSkip\"></a>\n",
    "\n",
    "Esta perfecto el grafico, como consejo podrias graficar  (en otra celda) el top 30 o 40 para visualizar mejor los datos ya que a partir de alli practicamente no tenemos informacion.</div>"
   ]
  },
  {
   "cell_type": "markdown",
   "id": "designed-mortality",
   "metadata": {
    "id": "designed-mortality"
   },
   "source": [
    "Escribe aquí tus conclusiones La media nos indica que los clientes compran 10 articulos por pedido, la mediana nos muestra que la mitad de los pedidos tiene alrededor de 8 productos o menos, la distribucion mediante el histograma nos dice que el picose encuentra entre los 10 articulos por pedido que afirma lo que nos dice la media y mediana"
   ]
  },
  {
   "cell_type": "markdown",
   "id": "5e6b5537",
   "metadata": {
    "id": "5e6b5537"
   },
   "source": [
    "### [C2] ¿Cuáles son los 20 principales artículos que vuelven a pedirse con mayor frecuencia (muestra sus nombres e IDs de los productos)?"
   ]
  },
  {
   "cell_type": "code",
   "execution_count": 49,
   "id": "9374e55a",
   "metadata": {
    "id": "9374e55a"
   },
   "outputs": [
    {
     "name": "stdout",
     "output_type": "stream",
     "text": [
      "       product_id            product_name  count_repeats\n",
      "22396       24852                  Banana          31694\n",
      "11816       13176  Bag of Organic Bananas          26069\n",
      "19029       21137    Organic Strawberries          20449\n",
      "19722       21903    Organic Baby Spinach          19450\n",
      "42530       47209    Organic Hass Avocado          15897\n",
      "43041       47766         Organic Avocado          14331\n",
      "42916       47626             Large Lemon          13609\n",
      "23619       26209                   Limes          12588\n",
      "15092       16797            Strawberries          12574\n",
      "25205       27966     Organic Raspberries          10425\n",
      "20651       22935    Organic Yellow Onion           9985\n",
      "22495       24964          Organic Garlic           9927\n",
      "35379       39275     Organic Blueberries           9330\n",
      "40541       45007        Organic Zucchini           9259\n",
      "25096       27845      Organic Whole Milk           9228\n",
      "44782       49683          Cucumber Kirby           8662\n",
      "36664       40706  Organic Grape Tomatoes           7681\n",
      "5280         5876           Organic Lemon           7652\n",
      "25426       28204      Organic Fuji Apple           7496\n",
      "4405         4920     Seedless Red Grapes           7479\n"
     ]
    }
   ],
   "source": [
    "merged_df = df_order_products.merge(df_instacart_orders[['order_id', 'user_id']], on='order_id')\n",
    "repeat_orders = merged_df.groupby(['product_id', 'user_id']).size().reset_index(name='repeat_count')\n",
    "total_repeats = repeat_orders.groupby('product_id')['repeat_count'].count().reset_index(name='count_repeats')\n",
    "total_repeats = total_repeats.merge(df_products[['product_id', 'product_name']], on='product_id')\n",
    "top_repeated_products = total_repeats.sort_values(by='count_repeats', ascending=False).head(20)\n",
    "print(top_repeated_products[['product_id', 'product_name', 'count_repeats']])\n",
    "\n",
    "\n"
   ]
  },
  {
   "cell_type": "markdown",
   "id": "96b25ba5",
   "metadata": {},
   "source": [
    "<div class=\"alert alert-block alert-warning\">\n",
    "<b>Comentario del revisor</b> <a class=\"tocSkip\"></a>\n",
    "\n",
    "Recorda que en este caso le agregaria valor graficar ese top 20 con un grafico de barras. Tener a mano el grafico hara mas amena y legible la experiencia del cliente.</div>"
   ]
  },
  {
   "cell_type": "code",
   "execution_count": 50,
   "id": "dd72b5f7",
   "metadata": {},
   "outputs": [
    {
     "data": {
      "image/png": "[encoded data removed]",
      "text/plain": [
       "<Figure size 1200x800 with 1 Axes>"
      ]
     },
     "metadata": {},
     "output_type": "display_data"
    }
   ],
   "source": [
    "top_repeated_products.plot(x= 'product_name', y= 'count_repeats', kind='bar', xlabel= 'Productos', ylabel = 'Numero de repeticiones', title='Top 20 de productos repetidos mas frecuentes', color= 'brown', figsize =[12, 8])\n",
    "plt.xlabel('Productos')\n",
    "plt.ylabel('Numero de repeticiones')\n",
    "plt.title('Top 20 de productos repetidos mas frecuentes')\n",
    "plt.grid(True)\n",
    "plt.show()"
   ]
  },
  {
   "cell_type": "markdown",
   "id": "1ed180ce",
   "metadata": {},
   "source": [
    "Escribe tus conclusiones: Estos datos nos indican los 20 prodcutos de pedidos repetidos son verduras, frutas y en caso especial 'Organic whole Milk' leche organica son productos saludables que los clientes solictan con frecuencia esto puede aprovechar la tienda para que no haya desabasto del producto y sepa la demanda requerida "
   ]
  },
  {
   "cell_type": "code",
   "execution_count": 51,
   "id": "32d1371a",
   "metadata": {},
   "outputs": [
    {
     "name": "stdout",
     "output_type": "stream",
     "text": [
      "       product_id                          product_name  count_repeats\n",
      "22396       24852                                Banana          31694\n",
      "11816       13176                Bag of Organic Bananas          26069\n",
      "19029       21137                  Organic Strawberries          20449\n",
      "19722       21903                  Organic Baby Spinach          19450\n",
      "42530       47209                  Organic Hass Avocado          15897\n",
      "43041       47766                       Organic Avocado          14331\n",
      "42916       47626                           Large Lemon          13609\n",
      "23619       26209                                 Limes          12588\n",
      "15092       16797                          Strawberries          12574\n",
      "25205       27966                   Organic Raspberries          10425\n",
      "20651       22935                  Organic Yellow Onion           9985\n",
      "22495       24964                        Organic Garlic           9927\n",
      "35379       39275                   Organic Blueberries           9330\n",
      "40541       45007                      Organic Zucchini           9259\n",
      "25096       27845                    Organic Whole Milk           9228\n",
      "44782       49683                        Cucumber Kirby           8662\n",
      "36664       40706                Organic Grape Tomatoes           7681\n",
      "5280         5876                         Organic Lemon           7652\n",
      "25426       28204                    Organic Fuji Apple           7496\n",
      "4405         4920                   Seedless Red Grapes           7479\n",
      "4132         4605                         Yellow Onions           7449\n",
      "7415         8277              Apple Honeycrisp Organic           7049\n",
      "38065       42265                  Organic Baby Carrots           6916\n",
      "27394       30391                      Organic Cucumber           6863\n",
      "24427       27104                     Fresh Cauliflower           6733\n",
      "16001       17794                               Carrots           6643\n",
      "40594       45066                      Honeycrisp Apple           6631\n",
      "28593       31717                      Organic Cilantro           6612\n",
      "7641         8518                     Organic Red Onion           6484\n",
      "19464       21616                  Organic Baby Arugula           6414\n",
      "42324       46979                             Asparagus           6321\n",
      "39953       44359            Organic Small Bunch Celery           6287\n",
      "27482       30489                       Original Hummus           5911\n",
      "40204       44632            Sparkling Water Grapefruit           5890\n",
      "26129       28985                 Michigan Organic Kale           5878\n",
      "33937       37646                   Organic Gala Apples           5864\n",
      "17154       19057  Organic Large Extra Fancy Fuji Apple           5820\n",
      "37786       41950                Organic Tomato Cluster           5763\n",
      "30769       34126         Organic Italian Parsley Bunch           5671\n",
      "44382       49235                   Organic Half & Half           5659\n"
     ]
    }
   ],
   "source": [
    "top_40_repeated_products = total_repeats.sort_values(by='count_repeats', ascending=False).head(40)\n",
    "print(top_40_repeated_products[['product_id', 'product_name', 'count_repeats']])\n",
    "\n"
   ]
  },
  {
   "cell_type": "code",
   "execution_count": 52,
   "id": "e74668e3",
   "metadata": {},
   "outputs": [
    {
     "data": {
      "image/png": "[encoded data removed]",
      "text/plain": [
       "<Figure size 1200x800 with 1 Axes>"
      ]
     },
     "metadata": {},
     "output_type": "display_data"
    }
   ],
   "source": [
    "top_40_repeated_products.plot(x= 'product_name', y= 'count_repeats', kind='bar', xlabel= 'Productos', ylabel = 'Numero de repeticiones', title='Top 20 de productos repetidos mas frecuentes', color= 'brown', figsize =[12, 8])\n",
    "plt.xlabel('Productos')\n",
    "plt.ylabel('Numero de repeticiones')\n",
    "plt.title('Top 40 de productos repetidos mas frecuentes')\n",
    "plt.grid(True)\n",
    "plt.show()"
   ]
  },
  {
   "cell_type": "markdown",
   "id": "b6843291",
   "metadata": {},
   "source": [
    "Esta grafica complementa a la grafica de distribucion de produtos por pedido donde en el prodcutos 40 empezaba a disminuir la frecuencia pero ya no era muy visible, con esta grafica ayuda a visualizar la tendencia a la baja del numero de repeticiones apartir del procucto 30 hasta el 40 y viendo que tipo de produtos son de igual forma son verduras y frutas pero son del tipo no conocido o consumido comunmente por la gente, o solo cierto tipo de cliente le gusta consumirlos"
   ]
  },
  {
   "cell_type": "markdown",
   "id": "9d312b14",
   "metadata": {
    "id": "9d312b14"
   },
   "source": [
    "### [C3] Para cada producto, ¿cuál es la proporción de las veces que se pide y que se vuelve a pedir?"
   ]
  },
  {
   "cell_type": "code",
   "execution_count": 53,
   "id": "8ae9f4b1",
   "metadata": {
    "id": "8ae9f4b1"
   },
   "outputs": [
    {
     "name": "stdout",
     "output_type": "stream",
     "text": [
      "       product_id  repeat_count  total_count  repeat_proportion\n",
      "0           24852         66050        66050                1.0\n",
      "30397       14023             5            5                1.0\n",
      "30377       48285             5            5                1.0\n",
      "30378       38529             5            5                1.0\n",
      "30379       17817             5            5                1.0\n",
      "30380       10406             5            5                1.0\n",
      "30381       15326             5            5                1.0\n",
      "30382       27225             5            5                1.0\n",
      "30383       15812             5            5                1.0\n",
      "30384        5777             5            5                1.0\n",
      "30385       26447             5            5                1.0\n",
      "30386        3223             5            5                1.0\n",
      "30387       22014             5            5                1.0\n",
      "30388        5905             5            5                1.0\n",
      "30389       40491             5            5                1.0\n",
      "30390       18228             5            5                1.0\n",
      "30391        7800             5            5                1.0\n",
      "30392       38027             5            5                1.0\n",
      "30393       38762             5            5                1.0\n",
      "30394        7770             5            5                1.0\n"
     ]
    }
   ],
   "source": [
    "total_orders = df_order_products['product_id'].value_counts().reset_index()\n",
    "total_orders.columns = ['product_id', 'total_count']\n",
    "repeat_orders = df_order_products.groupby('product_id').size().reset_index(name='repeat_count')\n",
    "combined_orders = total_orders.merge(repeat_orders, on='product_id', how='left').fillna(0)\n",
    "combined_orders['repeat_proportion'] = combined_orders['repeat_count'] / combined_orders['total_count']\n",
    "result = combined_orders[['product_id', 'repeat_count', 'total_count', 'repeat_proportion']]\n",
    "result_sorted = result.sort_values(by='repeat_proportion', ascending=False)\n",
    "print(result_sorted.head(20))  \n"
   ]
  },
  {
   "cell_type": "markdown",
   "id": "22f17da5",
   "metadata": {},
   "source": [
    "Escribe tus conclusiones: el valor de 1.0 en repeat_proportion que una vez que se colicita ese producto el cliente vuelve a consumirlo por distintas razon del cliente sea por la calidad, el gusto por el, la necesidad de adquirirlo estos datos ayudan a la tienda a ver que prodcutos son mas consumidos y que nunca pueden faltar"
   ]
  },
  {
   "cell_type": "markdown",
   "id": "6b17c11a",
   "metadata": {},
   "source": [
    "<div class=\"alert alert-block alert-success\">\n",
    "<b>Comentario del revisor</b> <a class=\"tocSkip\"></a>\n",
    "\n",
    "Excelente extraccion.</div>"
   ]
  },
  {
   "cell_type": "markdown",
   "id": "subject-boxing",
   "metadata": {
    "id": "subject-boxing"
   },
   "source": [
    "### [C4] Para cada cliente, ¿qué proporción de sus productos ya los había pedido?"
   ]
  },
  {
   "cell_type": "code",
   "execution_count": 54,
   "id": "medical-couple",
   "metadata": {
    "id": "medical-couple",
    "scrolled": false
   },
   "outputs": [
    {
     "name": "stdout",
     "output_type": "stream",
     "text": [
      "    user_id  total_products  unique_previous_products  proportion_previous\n",
      "0         2              26                      24.0             0.923077\n",
      "1         4               2                       1.0             0.500000\n",
      "2         5              12                      11.0             0.916667\n",
      "3         6               4                       3.0             0.750000\n",
      "4         7              14                      11.0             0.785714\n",
      "5        10               0                       0.0                  NaN\n",
      "6        11              15                      14.0             0.933333\n",
      "7        12              12                      11.0             0.916667\n",
      "8        13              23                      15.0             0.652174\n",
      "9        14              61                      52.0             0.852459\n",
      "10       15               9                       5.0             0.555556\n",
      "11       16              23                      19.0             0.826087\n",
      "12       17              40                      21.0             0.525000\n",
      "13       19              48                      44.0             0.916667\n",
      "14       20               4                       3.0             0.750000\n",
      "15       21              20                      17.0             0.850000\n",
      "16       22               6                       4.0             0.666667\n",
      "17       23               0                       0.0                  NaN\n",
      "18       24               2                       1.0             0.500000\n",
      "19       25               0                       0.0                  NaN\n"
     ]
    }
   ],
   "source": [
    "df_instacart_orders = df_instacart_orders.drop_duplicates()\n",
    "df_order_products = df_order_products.drop_duplicates()\n",
    "combined_df =df_instacart_orders.merge(df_order_products, on='order_id', how='left')\n",
    "total_products_per_user = combined_df.groupby('user_id')['product_id'].count().reset_index()\n",
    "total_products_per_user.columns = ['user_id', 'total_products']\n",
    "combined_df['previous_order'] = combined_df['order_id'].shift(1)\n",
    "unique_products_per_user = combined_df[combined_df['previous_order'] == combined_df['order_id']].groupby('user_id')['product_id'].nunique().reset_index()\n",
    "unique_products_per_user.columns = ['user_id', 'unique_previous_products']\n",
    "combined_data = total_products_per_user.merge(unique_products_per_user, on='user_id', how='left').fillna(0)\n",
    "combined_data['proportion_previous'] = combined_data['unique_previous_products'] / combined_data['total_products']\n",
    "print(combined_data[['user_id', 'total_products', 'unique_previous_products', 'proportion_previous']].head(20))"
   ]
  },
  {
   "cell_type": "markdown",
   "id": "BgJSvXDsleXz",
   "metadata": {
    "id": "BgJSvXDsleXz"
   },
   "source": [
    "Escribe aquí tus conclusiones Asi como se observa productos con alta proporcion al ser nuenvamente consumidos tambien es un indicativo de cuales tienen baja proporcion e implementar estrategias de marketing para poder venderlos ya se porque es prodcuto nuevo o simplemente no llama tanto la atencion de las personas estos valores ayudan a que mejorar en la tienda"
   ]
  },
  {
   "cell_type": "markdown",
   "id": "9f0dae0d",
   "metadata": {},
   "source": [
    "<div class=\"alert alert-block alert-success\">\n",
    "<b>Comentario del revisor</b> <a class=\"tocSkip\"></a>\n",
    "\n",
    "Muy bueno.\n",
    "</div>"
   ]
  },
  {
   "cell_type": "markdown",
   "id": "92d35137",
   "metadata": {
    "id": "92d35137"
   },
   "source": [
    "### [C5] ¿Cuáles son los 20 principales artículos que las personas ponen primero en sus carritos?"
   ]
  },
  {
   "cell_type": "code",
   "execution_count": 55,
   "id": "0ae57274",
   "metadata": {
    "id": "0ae57274"
   },
   "outputs": [
    {
     "name": "stdout",
     "output_type": "stream",
     "text": [
      "    product_id                 product_name  count\n",
      "0        24852                       Banana  15562\n",
      "1        13176       Bag of Organic Bananas  11026\n",
      "2        27845           Organic Whole Milk   4363\n",
      "3        21137         Organic Strawberries   3946\n",
      "4        47209         Organic Hass Avocado   3390\n",
      "5        21903         Organic Baby Spinach   3336\n",
      "6        47766              Organic Avocado   3044\n",
      "7        19660                 Spring Water   2336\n",
      "8        16797                 Strawberries   2308\n",
      "9        27966          Organic Raspberries   2024\n",
      "10       44632   Sparkling Water Grapefruit   1914\n",
      "11       49235          Organic Half & Half   1797\n",
      "12       47626                  Large Lemon   1737\n",
      "13         196                         Soda   1733\n",
      "14       38689     Organic Reduced Fat Milk   1397\n",
      "15       26209                        Limes   1370\n",
      "16       12341                Hass Avocados   1340\n",
      "17        5785  Organic Reduced Fat 2% Milk   1310\n",
      "18       27086                  Half & Half   1309\n",
      "19       43352                  Raspberries   1246\n"
     ]
    }
   ],
   "source": [
    "first_position_products = df_order_products[df_order_products['add_to_cart_order'] == 1]\n",
    "product_counts_first = first_position_products['product_id'].value_counts().reset_index()\n",
    "product_counts_first.columns = ['product_id', 'count']\n",
    "top_first_products = product_counts_first.merge(df_products[['product_id', 'product_name']], on='product_id')\n",
    "top_20_first_products = top_first_products.sort_values(by='count', ascending=False).head(20)\n",
    "print(top_20_first_products[['product_id', 'product_name', 'count']])"
   ]
  },
  {
   "cell_type": "markdown",
   "id": "bf43f246",
   "metadata": {},
   "source": [
    "<div class=\"alert alert-block alert-warning\">\n",
    "<b>Comentario del revisor</b> <a class=\"tocSkip\"></a>\n",
    "\n",
    "Recorda que en este caso le agregaria valor graficar ese top 20 con un grafico de barras. Tener a mano el grafico hara mas amena y legible la experiencia del cliente.</div>"
   ]
  },
  {
   "cell_type": "code",
   "execution_count": 56,
   "id": "0c93bdfb",
   "metadata": {},
   "outputs": [
    {
     "data": {
      "image/png": "[encoded data removed]",
      "text/plain": [
       "<Figure size 1200x800 with 1 Axes>"
      ]
     },
     "metadata": {},
     "output_type": "display_data"
    }
   ],
   "source": [
    "top_20_first_products.plot(x= 'product_name', y= 'count', kind='bar', xlabel= 'Productos', ylabel = 'Numero de productos añadidos primero', title='Top 20 de productos repetidos mas frecuentes', color= 'pink', figsize =[12, 8])\n",
    "plt.xlabel('Productos')\n",
    "plt.ylabel('Numero de productos añadidos primero')\n",
    "plt.title('Top 20 de productos que las personas ponen en su carrito')\n",
    "plt.grid(True)\n",
    "plt.show()"
   ]
  },
  {
   "cell_type": "markdown",
   "id": "28ce9872",
   "metadata": {
    "id": "28ce9872"
   },
   "source": [
    "Escribe aquí tus conclusiones los productos que mas necesita en su hogar se ouede observar que son frutas, verduras, bebidad saludables, que son de uso diario o necesarios en el el hogar, esto le ayuda a la tienda a que no haya falta de estps productos en el stock, descuentos del prodcutos algun dia de la semana para mejorar e incrementar las ventas. Con ayuda del grafico de barra se observa la gran preferencia por las bananas y disminuye considerablemente con los otros productos "
   ]
  },
  {
   "cell_type": "markdown",
   "id": "uITbFCEoDosC",
   "metadata": {
    "id": "uITbFCEoDosC"
   },
   "source": [
    "### Conclusion general del proyecto:"
   ]
  },
  {
   "cell_type": "markdown",
   "id": "ef77f43a",
   "metadata": {},
   "source": [
    "Para poder trabajar con estos datos y se hace una ardua labor en lo primodial y esencial que es el preporcesamiento de los datos desde la lectura de los DF para que cargen observar que falla, por cada DF analizar los valores duplicados por fila, por columna y eliminarlos y analizar despues los valores ausentes y trabajarlos con las leyendas solcitadas, donde uno tiene que se muy observador ya que los errores son comunes.Una vez que los datos estan limpios se procede responder las interrigantes de la tienda con el fin de aumentar ventas y la mejora continua donde no solo con funciones sino con graficos que les muestran no solo lo positivo sino en que se podria mejorar para la venta de prodcutos y entender lo que quiere el cliente y que es lo que mas consume y que es lo que no consume tanto "
   ]
  },
  {
   "cell_type": "markdown",
   "id": "baa65068",
   "metadata": {},
   "source": [
    "<div class=\"alert alert-block alert-success\">\n",
    "<b>Comentario del revisor</b> <a class=\"tocSkip\"></a>\n",
    "\n",
    "Buena conclusion general.</div>"
   ]
  }
 ],
 "metadata": {
  "ExecuteTimeLog": [
   {
    "duration": 282,
    "start_time": "2024-10-03T17:45:35.691Z"
   },
   {
    "duration": 222,
    "start_time": "2024-10-03T17:45:35.975Z"
   },
   {
    "duration": 12,
    "start_time": "2024-10-03T17:45:40.552Z"
   },
   {
    "duration": 10,
    "start_time": "2024-10-03T17:45:43.658Z"
   },
   {
    "duration": 8,
    "start_time": "2024-10-03T17:46:24.522Z"
   },
   {
    "duration": 8,
    "start_time": "2024-10-03T17:46:32.878Z"
   },
   {
    "duration": 8,
    "start_time": "2024-10-03T17:46:42.507Z"
   },
   {
    "duration": 939,
    "start_time": "2024-10-03T18:15:13.276Z"
   },
   {
    "duration": 20,
    "start_time": "2024-10-03T18:15:26.765Z"
   },
   {
    "duration": 71,
    "start_time": "2024-10-03T18:25:36.750Z"
   },
   {
    "duration": 81,
    "start_time": "2024-10-03T18:26:07.760Z"
   },
   {
    "duration": 83,
    "start_time": "2024-10-03T18:26:34.469Z"
   },
   {
    "duration": 82,
    "start_time": "2024-10-03T18:27:13.004Z"
   },
   {
    "duration": 90,
    "start_time": "2024-10-03T18:53:25.440Z"
   },
   {
    "duration": 91,
    "start_time": "2024-10-03T18:53:43.519Z"
   },
   {
    "duration": 97,
    "start_time": "2024-10-03T19:07:19.844Z"
   },
   {
    "duration": 178,
    "start_time": "2024-10-03T19:20:30.236Z"
   },
   {
    "duration": 13,
    "start_time": "2024-10-03T19:20:43.688Z"
   },
   {
    "duration": 9,
    "start_time": "2024-10-03T19:22:12.216Z"
   },
   {
    "duration": 102,
    "start_time": "2024-10-03T19:45:08.971Z"
   },
   {
    "duration": 98,
    "start_time": "2024-10-03T19:45:26.192Z"
   },
   {
    "duration": 6,
    "start_time": "2024-10-03T19:50:08.885Z"
   },
   {
    "duration": 76,
    "start_time": "2024-10-03T19:50:15.521Z"
   },
   {
    "duration": 65,
    "start_time": "2024-10-03T19:51:33.980Z"
   },
   {
    "duration": 23,
    "start_time": "2024-10-03T19:56:38.399Z"
   },
   {
    "duration": 12,
    "start_time": "2024-10-03T20:07:53.421Z"
   },
   {
    "duration": 12,
    "start_time": "2024-10-03T20:13:48.131Z"
   },
   {
    "duration": 4,
    "start_time": "2024-10-03T20:14:11.559Z"
   },
   {
    "duration": 19,
    "start_time": "2024-10-03T20:31:27.055Z"
   },
   {
    "duration": 4,
    "start_time": "2024-10-03T20:43:21.048Z"
   },
   {
    "duration": 22,
    "start_time": "2024-10-03T20:43:30.884Z"
   },
   {
    "duration": 13,
    "start_time": "2024-10-03T20:53:26.243Z"
   },
   {
    "duration": 10,
    "start_time": "2024-10-03T20:54:16.120Z"
   },
   {
    "duration": 11,
    "start_time": "2024-10-03T20:55:22.339Z"
   },
   {
    "duration": 13,
    "start_time": "2024-10-03T20:56:53.356Z"
   },
   {
    "duration": 157,
    "start_time": "2024-10-04T02:00:55.467Z"
   },
   {
    "duration": 304,
    "start_time": "2024-10-04T02:01:44.773Z"
   },
   {
    "duration": 1008,
    "start_time": "2024-10-04T02:01:45.079Z"
   },
   {
    "duration": 11,
    "start_time": "2024-10-04T02:01:46.089Z"
   },
   {
    "duration": 9,
    "start_time": "2024-10-04T02:01:46.110Z"
   },
   {
    "duration": 9,
    "start_time": "2024-10-04T02:01:46.122Z"
   },
   {
    "duration": 9,
    "start_time": "2024-10-04T02:01:46.132Z"
   },
   {
    "duration": 25,
    "start_time": "2024-10-04T02:01:46.143Z"
   },
   {
    "duration": 128,
    "start_time": "2024-10-04T02:01:46.170Z"
   },
   {
    "duration": 113,
    "start_time": "2024-10-04T02:01:46.300Z"
   },
   {
    "duration": 7,
    "start_time": "2024-10-04T02:01:46.415Z"
   },
   {
    "duration": 111,
    "start_time": "2024-10-04T02:01:46.424Z"
   },
   {
    "duration": 104,
    "start_time": "2024-10-04T02:01:46.537Z"
   },
   {
    "duration": 24,
    "start_time": "2024-10-04T02:01:46.643Z"
   },
   {
    "duration": 14,
    "start_time": "2024-10-04T02:01:46.671Z"
   },
   {
    "duration": 22,
    "start_time": "2024-10-04T02:01:46.686Z"
   },
   {
    "duration": 20,
    "start_time": "2024-10-04T02:01:46.710Z"
   },
   {
    "duration": 21,
    "start_time": "2024-10-04T02:01:46.732Z"
   },
   {
    "duration": 4,
    "start_time": "2024-10-04T02:01:46.755Z"
   },
   {
    "duration": 3,
    "start_time": "2024-10-04T02:01:46.760Z"
   },
   {
    "duration": 3,
    "start_time": "2024-10-04T02:01:46.765Z"
   },
   {
    "duration": 3,
    "start_time": "2024-10-04T02:01:46.769Z"
   },
   {
    "duration": 2,
    "start_time": "2024-10-04T02:01:46.809Z"
   },
   {
    "duration": 3,
    "start_time": "2024-10-04T02:01:46.813Z"
   },
   {
    "duration": 3,
    "start_time": "2024-10-04T02:01:46.817Z"
   },
   {
    "duration": 3,
    "start_time": "2024-10-04T02:01:46.822Z"
   },
   {
    "duration": 2,
    "start_time": "2024-10-04T02:01:46.827Z"
   },
   {
    "duration": 3,
    "start_time": "2024-10-04T02:01:46.831Z"
   },
   {
    "duration": 2,
    "start_time": "2024-10-04T02:01:46.836Z"
   },
   {
    "duration": 4,
    "start_time": "2024-10-04T02:01:46.841Z"
   },
   {
    "duration": 3,
    "start_time": "2024-10-04T02:01:46.847Z"
   },
   {
    "duration": 2,
    "start_time": "2024-10-04T02:01:46.852Z"
   },
   {
    "duration": 2,
    "start_time": "2024-10-04T02:01:46.856Z"
   },
   {
    "duration": 50,
    "start_time": "2024-10-04T02:01:46.860Z"
   },
   {
    "duration": 3,
    "start_time": "2024-10-04T02:01:46.911Z"
   },
   {
    "duration": 3,
    "start_time": "2024-10-04T02:01:46.916Z"
   },
   {
    "duration": 394,
    "start_time": "2024-10-04T02:05:35.349Z"
   },
   {
    "duration": 13,
    "start_time": "2024-10-04T02:12:11.750Z"
   },
   {
    "duration": 13,
    "start_time": "2024-10-04T02:12:21.878Z"
   },
   {
    "duration": 4,
    "start_time": "2024-10-04T02:12:34.954Z"
   },
   {
    "duration": 21,
    "start_time": "2024-10-04T02:18:42.227Z"
   },
   {
    "duration": 2,
    "start_time": "2024-10-04T02:19:10.791Z"
   },
   {
    "duration": 897,
    "start_time": "2024-10-04T02:19:10.805Z"
   },
   {
    "duration": 11,
    "start_time": "2024-10-04T02:19:11.708Z"
   },
   {
    "duration": 12,
    "start_time": "2024-10-04T02:19:11.722Z"
   },
   {
    "duration": 9,
    "start_time": "2024-10-04T02:19:11.736Z"
   },
   {
    "duration": 7,
    "start_time": "2024-10-04T02:19:11.748Z"
   },
   {
    "duration": 51,
    "start_time": "2024-10-04T02:19:11.758Z"
   },
   {
    "duration": 107,
    "start_time": "2024-10-04T02:19:11.811Z"
   },
   {
    "duration": 94,
    "start_time": "2024-10-04T02:19:11.921Z"
   },
   {
    "duration": 9,
    "start_time": "2024-10-04T02:19:12.017Z"
   },
   {
    "duration": 95,
    "start_time": "2024-10-04T02:19:12.028Z"
   },
   {
    "duration": 106,
    "start_time": "2024-10-04T02:19:12.124Z"
   },
   {
    "duration": 27,
    "start_time": "2024-10-04T02:19:12.232Z"
   },
   {
    "duration": 13,
    "start_time": "2024-10-04T02:19:12.262Z"
   },
   {
    "duration": 4,
    "start_time": "2024-10-04T02:19:12.278Z"
   },
   {
    "duration": 46,
    "start_time": "2024-10-04T02:19:12.283Z"
   },
   {
    "duration": 21,
    "start_time": "2024-10-04T02:19:12.332Z"
   },
   {
    "duration": 5,
    "start_time": "2024-10-04T02:19:12.355Z"
   },
   {
    "duration": 3,
    "start_time": "2024-10-04T02:19:12.362Z"
   },
   {
    "duration": 47,
    "start_time": "2024-10-04T02:19:12.368Z"
   },
   {
    "duration": 0,
    "start_time": "2024-10-04T02:19:12.417Z"
   },
   {
    "duration": 0,
    "start_time": "2024-10-04T02:19:12.419Z"
   },
   {
    "duration": 0,
    "start_time": "2024-10-04T02:19:12.420Z"
   },
   {
    "duration": 0,
    "start_time": "2024-10-04T02:19:12.422Z"
   },
   {
    "duration": 0,
    "start_time": "2024-10-04T02:19:12.424Z"
   },
   {
    "duration": 0,
    "start_time": "2024-10-04T02:19:12.425Z"
   },
   {
    "duration": 0,
    "start_time": "2024-10-04T02:19:12.426Z"
   },
   {
    "duration": 0,
    "start_time": "2024-10-04T02:19:12.427Z"
   },
   {
    "duration": 0,
    "start_time": "2024-10-04T02:19:12.429Z"
   },
   {
    "duration": 0,
    "start_time": "2024-10-04T02:19:12.430Z"
   },
   {
    "duration": 0,
    "start_time": "2024-10-04T02:19:12.431Z"
   },
   {
    "duration": 0,
    "start_time": "2024-10-04T02:19:12.433Z"
   },
   {
    "duration": 0,
    "start_time": "2024-10-04T02:19:12.434Z"
   },
   {
    "duration": 0,
    "start_time": "2024-10-04T02:19:12.436Z"
   },
   {
    "duration": 0,
    "start_time": "2024-10-04T02:19:12.437Z"
   },
   {
    "duration": 4,
    "start_time": "2024-10-04T02:19:56.421Z"
   },
   {
    "duration": 3,
    "start_time": "2024-10-04T02:23:02.042Z"
   },
   {
    "duration": 776,
    "start_time": "2024-10-04T02:26:46.055Z"
   },
   {
    "duration": 800,
    "start_time": "2024-10-04T02:27:03.779Z"
   },
   {
    "duration": 669,
    "start_time": "2024-10-04T02:43:57.507Z"
   },
   {
    "duration": 19,
    "start_time": "2024-10-04T03:38:26.154Z"
   },
   {
    "duration": 7,
    "start_time": "2024-10-04T03:38:34.844Z"
   },
   {
    "duration": 11,
    "start_time": "2024-10-04T04:13:47.014Z"
   },
   {
    "duration": 9,
    "start_time": "2024-10-04T04:30:47.595Z"
   },
   {
    "duration": 7,
    "start_time": "2024-10-04T04:47:12.417Z"
   },
   {
    "duration": 15,
    "start_time": "2024-10-04T04:48:02.611Z"
   },
   {
    "duration": 6,
    "start_time": "2024-10-04T04:48:14.724Z"
   },
   {
    "duration": 6,
    "start_time": "2024-10-04T04:49:05.560Z"
   },
   {
    "duration": 9,
    "start_time": "2024-10-04T05:07:38.992Z"
   },
   {
    "duration": 9,
    "start_time": "2024-10-04T05:08:02.130Z"
   },
   {
    "duration": 5,
    "start_time": "2024-10-04T05:13:27.515Z"
   },
   {
    "duration": 157,
    "start_time": "2024-10-04T18:14:30.283Z"
   },
   {
    "duration": 324,
    "start_time": "2024-10-04T18:15:19.987Z"
   },
   {
    "duration": 1010,
    "start_time": "2024-10-04T18:15:20.313Z"
   },
   {
    "duration": 10,
    "start_time": "2024-10-04T18:15:21.325Z"
   },
   {
    "duration": 9,
    "start_time": "2024-10-04T18:15:21.338Z"
   },
   {
    "duration": 8,
    "start_time": "2024-10-04T18:15:21.349Z"
   },
   {
    "duration": 32,
    "start_time": "2024-10-04T18:15:21.358Z"
   },
   {
    "duration": 24,
    "start_time": "2024-10-04T18:15:21.392Z"
   },
   {
    "duration": 105,
    "start_time": "2024-10-04T18:15:21.418Z"
   },
   {
    "duration": 99,
    "start_time": "2024-10-04T18:15:21.525Z"
   },
   {
    "duration": 7,
    "start_time": "2024-10-04T18:15:21.628Z"
   },
   {
    "duration": 112,
    "start_time": "2024-10-04T18:15:21.637Z"
   },
   {
    "duration": 102,
    "start_time": "2024-10-04T18:15:21.751Z"
   },
   {
    "duration": 32,
    "start_time": "2024-10-04T18:15:21.855Z"
   },
   {
    "duration": 13,
    "start_time": "2024-10-04T18:15:21.888Z"
   },
   {
    "duration": 3,
    "start_time": "2024-10-04T18:15:21.903Z"
   },
   {
    "duration": 19,
    "start_time": "2024-10-04T18:15:21.908Z"
   },
   {
    "duration": 20,
    "start_time": "2024-10-04T18:15:21.928Z"
   },
   {
    "duration": 3,
    "start_time": "2024-10-04T18:15:21.950Z"
   },
   {
    "duration": 4,
    "start_time": "2024-10-04T18:15:21.987Z"
   },
   {
    "duration": 4,
    "start_time": "2024-10-04T18:15:21.992Z"
   },
   {
    "duration": 3,
    "start_time": "2024-10-04T18:15:21.998Z"
   },
   {
    "duration": 808,
    "start_time": "2024-10-04T18:15:22.003Z"
   },
   {
    "duration": 756,
    "start_time": "2024-10-04T18:15:22.813Z"
   },
   {
    "duration": 6,
    "start_time": "2024-10-04T18:15:23.571Z"
   },
   {
    "duration": 16,
    "start_time": "2024-10-04T18:15:23.578Z"
   },
   {
    "duration": 8,
    "start_time": "2024-10-04T18:15:23.596Z"
   },
   {
    "duration": 6,
    "start_time": "2024-10-04T18:15:23.606Z"
   },
   {
    "duration": 6,
    "start_time": "2024-10-04T18:15:23.617Z"
   },
   {
    "duration": 4,
    "start_time": "2024-10-04T18:15:23.625Z"
   },
   {
    "duration": 4,
    "start_time": "2024-10-04T18:15:23.631Z"
   },
   {
    "duration": 49,
    "start_time": "2024-10-04T18:15:23.637Z"
   },
   {
    "duration": 32,
    "start_time": "2024-10-04T18:15:23.689Z"
   },
   {
    "duration": 2,
    "start_time": "2024-10-04T18:15:23.723Z"
   },
   {
    "duration": 3,
    "start_time": "2024-10-04T18:15:23.727Z"
   },
   {
    "duration": 2,
    "start_time": "2024-10-04T18:15:23.732Z"
   },
   {
    "duration": 7,
    "start_time": "2024-10-04T18:39:35.703Z"
   },
   {
    "duration": 9,
    "start_time": "2024-10-04T18:43:30.695Z"
   },
   {
    "duration": 38,
    "start_time": "2024-10-04T18:55:13.410Z"
   },
   {
    "duration": 13,
    "start_time": "2024-10-04T18:58:37.284Z"
   },
   {
    "duration": 8,
    "start_time": "2024-10-04T19:02:10.481Z"
   },
   {
    "duration": 12,
    "start_time": "2024-10-04T19:05:20.359Z"
   },
   {
    "duration": 5,
    "start_time": "2024-10-04T19:30:46.948Z"
   },
   {
    "duration": 6,
    "start_time": "2024-10-04T19:57:33.309Z"
   },
   {
    "duration": 13,
    "start_time": "2024-10-04T20:12:55.064Z"
   },
   {
    "duration": 660,
    "start_time": "2024-10-04T20:13:24.898Z"
   },
   {
    "duration": 620,
    "start_time": "2024-10-04T20:15:29.445Z"
   },
   {
    "duration": 2,
    "start_time": "2024-10-04T20:18:25.252Z"
   },
   {
    "duration": 899,
    "start_time": "2024-10-04T20:18:25.267Z"
   },
   {
    "duration": 11,
    "start_time": "2024-10-04T20:18:26.168Z"
   },
   {
    "duration": 9,
    "start_time": "2024-10-04T20:18:26.186Z"
   },
   {
    "duration": 7,
    "start_time": "2024-10-04T20:18:26.197Z"
   },
   {
    "duration": 7,
    "start_time": "2024-10-04T20:18:26.207Z"
   },
   {
    "duration": 20,
    "start_time": "2024-10-04T20:18:26.216Z"
   },
   {
    "duration": 108,
    "start_time": "2024-10-04T20:18:26.238Z"
   },
   {
    "duration": 83,
    "start_time": "2024-10-04T20:18:26.348Z"
   },
   {
    "duration": 8,
    "start_time": "2024-10-04T20:18:26.432Z"
   },
   {
    "duration": 96,
    "start_time": "2024-10-04T20:18:26.441Z"
   },
   {
    "duration": 81,
    "start_time": "2024-10-04T20:18:26.539Z"
   },
   {
    "duration": 22,
    "start_time": "2024-10-04T20:18:26.622Z"
   },
   {
    "duration": 11,
    "start_time": "2024-10-04T20:18:26.646Z"
   },
   {
    "duration": 25,
    "start_time": "2024-10-04T20:18:26.661Z"
   },
   {
    "duration": 19,
    "start_time": "2024-10-04T20:18:26.688Z"
   },
   {
    "duration": 20,
    "start_time": "2024-10-04T20:18:26.708Z"
   },
   {
    "duration": 4,
    "start_time": "2024-10-04T20:18:26.730Z"
   },
   {
    "duration": 3,
    "start_time": "2024-10-04T20:18:26.736Z"
   },
   {
    "duration": 4,
    "start_time": "2024-10-04T20:18:26.741Z"
   },
   {
    "duration": 41,
    "start_time": "2024-10-04T20:18:26.746Z"
   },
   {
    "duration": 698,
    "start_time": "2024-10-04T20:18:26.788Z"
   },
   {
    "duration": 628,
    "start_time": "2024-10-04T20:18:27.488Z"
   },
   {
    "duration": 6,
    "start_time": "2024-10-04T20:18:28.119Z"
   },
   {
    "duration": 14,
    "start_time": "2024-10-04T20:18:28.127Z"
   },
   {
    "duration": 9,
    "start_time": "2024-10-04T20:18:28.144Z"
   },
   {
    "duration": 6,
    "start_time": "2024-10-04T20:18:28.155Z"
   },
   {
    "duration": 30,
    "start_time": "2024-10-04T20:18:28.162Z"
   },
   {
    "duration": 4,
    "start_time": "2024-10-04T20:18:28.193Z"
   },
   {
    "duration": 5,
    "start_time": "2024-10-04T20:18:28.198Z"
   },
   {
    "duration": 12,
    "start_time": "2024-10-04T20:18:28.204Z"
   },
   {
    "duration": 7,
    "start_time": "2024-10-04T20:18:28.217Z"
   },
   {
    "duration": 70,
    "start_time": "2024-10-04T20:18:28.226Z"
   },
   {
    "duration": 5,
    "start_time": "2024-10-04T20:18:28.298Z"
   },
   {
    "duration": 5,
    "start_time": "2024-10-04T20:18:28.305Z"
   },
   {
    "duration": 34,
    "start_time": "2024-10-04T20:18:28.312Z"
   },
   {
    "duration": 56,
    "start_time": "2024-10-04T20:19:50.977Z"
   },
   {
    "duration": 35,
    "start_time": "2024-10-04T20:22:22.085Z"
   },
   {
    "duration": 36,
    "start_time": "2024-10-04T20:22:46.354Z"
   },
   {
    "duration": 155,
    "start_time": "2024-10-05T01:42:06.611Z"
   },
   {
    "duration": 298,
    "start_time": "2024-10-05T01:42:16.369Z"
   },
   {
    "duration": 1036,
    "start_time": "2024-10-05T01:42:16.669Z"
   },
   {
    "duration": 14,
    "start_time": "2024-10-05T01:42:17.710Z"
   },
   {
    "duration": 9,
    "start_time": "2024-10-05T01:42:17.726Z"
   },
   {
    "duration": 7,
    "start_time": "2024-10-05T01:42:17.736Z"
   },
   {
    "duration": 8,
    "start_time": "2024-10-05T01:42:17.745Z"
   },
   {
    "duration": 24,
    "start_time": "2024-10-05T01:42:17.755Z"
   },
   {
    "duration": 114,
    "start_time": "2024-10-05T01:42:17.780Z"
   },
   {
    "duration": 103,
    "start_time": "2024-10-05T01:42:17.895Z"
   },
   {
    "duration": 12,
    "start_time": "2024-10-05T01:42:18.002Z"
   },
   {
    "duration": 101,
    "start_time": "2024-10-05T01:42:18.016Z"
   },
   {
    "duration": 101,
    "start_time": "2024-10-05T01:42:18.119Z"
   },
   {
    "duration": 24,
    "start_time": "2024-10-05T01:42:18.221Z"
   },
   {
    "duration": 12,
    "start_time": "2024-10-05T01:42:18.248Z"
   },
   {
    "duration": 4,
    "start_time": "2024-10-05T01:42:18.261Z"
   },
   {
    "duration": 44,
    "start_time": "2024-10-05T01:42:18.267Z"
   },
   {
    "duration": 19,
    "start_time": "2024-10-05T01:42:18.313Z"
   },
   {
    "duration": 3,
    "start_time": "2024-10-05T01:42:18.334Z"
   },
   {
    "duration": 4,
    "start_time": "2024-10-05T01:42:18.339Z"
   },
   {
    "duration": 3,
    "start_time": "2024-10-05T01:42:18.345Z"
   },
   {
    "duration": 3,
    "start_time": "2024-10-05T01:42:18.350Z"
   },
   {
    "duration": 770,
    "start_time": "2024-10-05T01:42:18.354Z"
   },
   {
    "duration": 677,
    "start_time": "2024-10-05T01:42:19.126Z"
   },
   {
    "duration": 10,
    "start_time": "2024-10-05T01:42:19.805Z"
   },
   {
    "duration": 8,
    "start_time": "2024-10-05T01:42:19.816Z"
   },
   {
    "duration": 7,
    "start_time": "2024-10-05T01:42:19.826Z"
   },
   {
    "duration": 6,
    "start_time": "2024-10-05T01:42:19.834Z"
   },
   {
    "duration": 6,
    "start_time": "2024-10-05T01:42:19.844Z"
   },
   {
    "duration": 5,
    "start_time": "2024-10-05T01:42:19.852Z"
   },
   {
    "duration": 6,
    "start_time": "2024-10-05T01:42:19.858Z"
   },
   {
    "duration": 61,
    "start_time": "2024-10-05T01:42:19.865Z"
   },
   {
    "duration": 7,
    "start_time": "2024-10-05T01:42:19.928Z"
   },
   {
    "duration": 35,
    "start_time": "2024-10-05T01:42:19.936Z"
   },
   {
    "duration": 6,
    "start_time": "2024-10-05T01:42:19.973Z"
   },
   {
    "duration": 4,
    "start_time": "2024-10-05T01:42:19.981Z"
   },
   {
    "duration": 39,
    "start_time": "2024-10-05T01:42:20.012Z"
   },
   {
    "duration": 37,
    "start_time": "2024-10-05T01:42:20.053Z"
   },
   {
    "duration": 7,
    "start_time": "2024-10-05T01:42:37.321Z"
   },
   {
    "duration": 370,
    "start_time": "2024-10-05T01:50:29.117Z"
   },
   {
    "duration": 7,
    "start_time": "2024-10-05T01:50:53.886Z"
   },
   {
    "duration": 8,
    "start_time": "2024-10-05T01:56:12.303Z"
   },
   {
    "duration": 6,
    "start_time": "2024-10-05T02:01:46.825Z"
   },
   {
    "duration": 166,
    "start_time": "2024-10-05T18:43:57.000Z"
   },
   {
    "duration": 13,
    "start_time": "2024-10-05T18:44:04.320Z"
   },
   {
    "duration": 0,
    "start_time": "2024-10-05T18:44:04.335Z"
   },
   {
    "duration": 0,
    "start_time": "2024-10-05T18:44:04.336Z"
   },
   {
    "duration": 11,
    "start_time": "2024-10-05T18:44:04.341Z"
   },
   {
    "duration": 0,
    "start_time": "2024-10-05T18:44:04.354Z"
   },
   {
    "duration": 0,
    "start_time": "2024-10-05T18:44:04.355Z"
   },
   {
    "duration": 0,
    "start_time": "2024-10-05T18:44:04.356Z"
   },
   {
    "duration": 13,
    "start_time": "2024-10-05T18:44:04.359Z"
   },
   {
    "duration": 0,
    "start_time": "2024-10-05T18:44:04.374Z"
   },
   {
    "duration": 21,
    "start_time": "2024-10-05T18:44:04.396Z"
   },
   {
    "duration": 0,
    "start_time": "2024-10-05T18:44:04.419Z"
   },
   {
    "duration": 0,
    "start_time": "2024-10-05T18:44:04.420Z"
   },
   {
    "duration": 0,
    "start_time": "2024-10-05T18:44:04.422Z"
   },
   {
    "duration": 0,
    "start_time": "2024-10-05T18:44:04.423Z"
   },
   {
    "duration": 0,
    "start_time": "2024-10-05T18:44:04.424Z"
   },
   {
    "duration": 12,
    "start_time": "2024-10-05T18:44:04.432Z"
   },
   {
    "duration": 0,
    "start_time": "2024-10-05T18:44:04.446Z"
   },
   {
    "duration": 0,
    "start_time": "2024-10-05T18:44:04.447Z"
   },
   {
    "duration": 0,
    "start_time": "2024-10-05T18:44:04.448Z"
   },
   {
    "duration": 0,
    "start_time": "2024-10-05T18:44:04.449Z"
   },
   {
    "duration": 0,
    "start_time": "2024-10-05T18:44:04.451Z"
   },
   {
    "duration": 0,
    "start_time": "2024-10-05T18:44:04.452Z"
   },
   {
    "duration": 277,
    "start_time": "2024-10-05T18:44:11.878Z"
   },
   {
    "duration": 1046,
    "start_time": "2024-10-05T18:44:12.157Z"
   },
   {
    "duration": 12,
    "start_time": "2024-10-05T18:44:13.205Z"
   },
   {
    "duration": 9,
    "start_time": "2024-10-05T18:44:13.219Z"
   },
   {
    "duration": 7,
    "start_time": "2024-10-05T18:44:13.231Z"
   },
   {
    "duration": 7,
    "start_time": "2024-10-05T18:44:13.240Z"
   },
   {
    "duration": 23,
    "start_time": "2024-10-05T18:44:13.249Z"
   },
   {
    "duration": 118,
    "start_time": "2024-10-05T18:44:13.273Z"
   },
   {
    "duration": 99,
    "start_time": "2024-10-05T18:44:13.393Z"
   },
   {
    "duration": 21,
    "start_time": "2024-10-05T18:44:13.494Z"
   },
   {
    "duration": 99,
    "start_time": "2024-10-05T18:44:13.516Z"
   },
   {
    "duration": 96,
    "start_time": "2024-10-05T18:44:13.617Z"
   },
   {
    "duration": 23,
    "start_time": "2024-10-05T18:44:13.715Z"
   },
   {
    "duration": 12,
    "start_time": "2024-10-05T18:44:13.742Z"
   },
   {
    "duration": 4,
    "start_time": "2024-10-05T18:44:13.755Z"
   },
   {
    "duration": 17,
    "start_time": "2024-10-05T18:44:13.761Z"
   },
   {
    "duration": 79,
    "start_time": "2024-10-05T18:44:13.780Z"
   },
   {
    "duration": 0,
    "start_time": "2024-10-05T18:44:13.860Z"
   },
   {
    "duration": 0,
    "start_time": "2024-10-05T18:44:13.862Z"
   },
   {
    "duration": 0,
    "start_time": "2024-10-05T18:44:13.863Z"
   },
   {
    "duration": 0,
    "start_time": "2024-10-05T18:44:13.865Z"
   },
   {
    "duration": 0,
    "start_time": "2024-10-05T18:44:13.866Z"
   },
   {
    "duration": 0,
    "start_time": "2024-10-05T18:44:13.868Z"
   },
   {
    "duration": 0,
    "start_time": "2024-10-05T18:44:13.869Z"
   },
   {
    "duration": 0,
    "start_time": "2024-10-05T18:44:13.871Z"
   },
   {
    "duration": 0,
    "start_time": "2024-10-05T18:44:13.872Z"
   },
   {
    "duration": 0,
    "start_time": "2024-10-05T18:44:13.873Z"
   },
   {
    "duration": 0,
    "start_time": "2024-10-05T18:44:13.875Z"
   },
   {
    "duration": 0,
    "start_time": "2024-10-05T18:44:13.877Z"
   },
   {
    "duration": 0,
    "start_time": "2024-10-05T18:44:13.878Z"
   },
   {
    "duration": 0,
    "start_time": "2024-10-05T18:44:13.911Z"
   },
   {
    "duration": 0,
    "start_time": "2024-10-05T18:44:13.912Z"
   },
   {
    "duration": 0,
    "start_time": "2024-10-05T18:44:13.914Z"
   },
   {
    "duration": 0,
    "start_time": "2024-10-05T18:44:13.915Z"
   },
   {
    "duration": 0,
    "start_time": "2024-10-05T18:44:13.917Z"
   },
   {
    "duration": 0,
    "start_time": "2024-10-05T18:44:13.918Z"
   },
   {
    "duration": 0,
    "start_time": "2024-10-05T18:44:13.920Z"
   },
   {
    "duration": 0,
    "start_time": "2024-10-05T18:44:13.921Z"
   },
   {
    "duration": 0,
    "start_time": "2024-10-05T18:44:13.923Z"
   },
   {
    "duration": 2,
    "start_time": "2024-10-05T18:44:36.067Z"
   },
   {
    "duration": 844,
    "start_time": "2024-10-05T18:44:36.073Z"
   },
   {
    "duration": 10,
    "start_time": "2024-10-05T18:44:36.919Z"
   },
   {
    "duration": 10,
    "start_time": "2024-10-05T18:44:36.931Z"
   },
   {
    "duration": 7,
    "start_time": "2024-10-05T18:44:36.943Z"
   },
   {
    "duration": 7,
    "start_time": "2024-10-05T18:44:36.953Z"
   },
   {
    "duration": 50,
    "start_time": "2024-10-05T18:44:36.962Z"
   },
   {
    "duration": 83,
    "start_time": "2024-10-05T18:44:37.014Z"
   },
   {
    "duration": 89,
    "start_time": "2024-10-05T18:44:37.099Z"
   },
   {
    "duration": 22,
    "start_time": "2024-10-05T18:44:37.190Z"
   },
   {
    "duration": 80,
    "start_time": "2024-10-05T18:44:37.213Z"
   },
   {
    "duration": 89,
    "start_time": "2024-10-05T18:44:37.295Z"
   },
   {
    "duration": 32,
    "start_time": "2024-10-05T18:44:37.385Z"
   },
   {
    "duration": 14,
    "start_time": "2024-10-05T18:44:37.418Z"
   },
   {
    "duration": 3,
    "start_time": "2024-10-05T18:44:37.435Z"
   },
   {
    "duration": 19,
    "start_time": "2024-10-05T18:44:37.439Z"
   },
   {
    "duration": 56,
    "start_time": "2024-10-05T18:44:37.459Z"
   },
   {
    "duration": 0,
    "start_time": "2024-10-05T18:44:37.516Z"
   },
   {
    "duration": 0,
    "start_time": "2024-10-05T18:44:37.517Z"
   },
   {
    "duration": 0,
    "start_time": "2024-10-05T18:44:37.518Z"
   },
   {
    "duration": 0,
    "start_time": "2024-10-05T18:44:37.520Z"
   },
   {
    "duration": 0,
    "start_time": "2024-10-05T18:44:37.521Z"
   },
   {
    "duration": 0,
    "start_time": "2024-10-05T18:44:37.523Z"
   },
   {
    "duration": 0,
    "start_time": "2024-10-05T18:44:37.524Z"
   },
   {
    "duration": 0,
    "start_time": "2024-10-05T18:44:37.526Z"
   },
   {
    "duration": 0,
    "start_time": "2024-10-05T18:44:37.528Z"
   },
   {
    "duration": 0,
    "start_time": "2024-10-05T18:44:37.529Z"
   },
   {
    "duration": 0,
    "start_time": "2024-10-05T18:44:37.530Z"
   },
   {
    "duration": 0,
    "start_time": "2024-10-05T18:44:37.531Z"
   },
   {
    "duration": 0,
    "start_time": "2024-10-05T18:44:37.532Z"
   },
   {
    "duration": 0,
    "start_time": "2024-10-05T18:44:37.534Z"
   },
   {
    "duration": 0,
    "start_time": "2024-10-05T18:44:37.535Z"
   },
   {
    "duration": 0,
    "start_time": "2024-10-05T18:44:37.536Z"
   },
   {
    "duration": 0,
    "start_time": "2024-10-05T18:44:37.536Z"
   },
   {
    "duration": 0,
    "start_time": "2024-10-05T18:44:37.537Z"
   },
   {
    "duration": 0,
    "start_time": "2024-10-05T18:44:37.539Z"
   },
   {
    "duration": 0,
    "start_time": "2024-10-05T18:44:37.540Z"
   },
   {
    "duration": 0,
    "start_time": "2024-10-05T18:44:37.541Z"
   },
   {
    "duration": 0,
    "start_time": "2024-10-05T18:44:37.542Z"
   },
   {
    "duration": 35,
    "start_time": "2024-10-05T18:45:22.855Z"
   },
   {
    "duration": 25,
    "start_time": "2024-10-05T18:45:27.747Z"
   },
   {
    "duration": 3,
    "start_time": "2024-10-05T18:52:11.714Z"
   },
   {
    "duration": 826,
    "start_time": "2024-10-05T18:52:11.721Z"
   },
   {
    "duration": 10,
    "start_time": "2024-10-05T18:52:12.550Z"
   },
   {
    "duration": 9,
    "start_time": "2024-10-05T18:52:12.562Z"
   },
   {
    "duration": 8,
    "start_time": "2024-10-05T18:52:12.573Z"
   },
   {
    "duration": 31,
    "start_time": "2024-10-05T18:52:12.584Z"
   },
   {
    "duration": 20,
    "start_time": "2024-10-05T18:52:12.617Z"
   },
   {
    "duration": 80,
    "start_time": "2024-10-05T18:52:12.639Z"
   },
   {
    "duration": 77,
    "start_time": "2024-10-05T18:52:12.720Z"
   },
   {
    "duration": 18,
    "start_time": "2024-10-05T18:52:12.798Z"
   },
   {
    "duration": 74,
    "start_time": "2024-10-05T18:52:12.817Z"
   },
   {
    "duration": 77,
    "start_time": "2024-10-05T18:52:12.893Z"
   },
   {
    "duration": 20,
    "start_time": "2024-10-05T18:52:12.972Z"
   },
   {
    "duration": 29,
    "start_time": "2024-10-05T18:52:12.994Z"
   },
   {
    "duration": 4,
    "start_time": "2024-10-05T18:52:13.027Z"
   },
   {
    "duration": 18,
    "start_time": "2024-10-05T18:52:13.032Z"
   },
   {
    "duration": 23,
    "start_time": "2024-10-05T18:52:13.051Z"
   },
   {
    "duration": 45,
    "start_time": "2024-10-05T18:52:13.076Z"
   },
   {
    "duration": 4,
    "start_time": "2024-10-05T18:52:13.122Z"
   },
   {
    "duration": 4,
    "start_time": "2024-10-05T18:52:13.127Z"
   },
   {
    "duration": 3,
    "start_time": "2024-10-05T18:52:13.133Z"
   },
   {
    "duration": 3,
    "start_time": "2024-10-05T18:52:13.138Z"
   },
   {
    "duration": 676,
    "start_time": "2024-10-05T18:52:13.143Z"
   },
   {
    "duration": 625,
    "start_time": "2024-10-05T18:52:13.821Z"
   },
   {
    "duration": 6,
    "start_time": "2024-10-05T18:52:14.448Z"
   },
   {
    "duration": 8,
    "start_time": "2024-10-05T18:52:14.457Z"
   },
   {
    "duration": 7,
    "start_time": "2024-10-05T18:52:14.467Z"
   },
   {
    "duration": 6,
    "start_time": "2024-10-05T18:52:14.475Z"
   },
   {
    "duration": 32,
    "start_time": "2024-10-05T18:52:14.483Z"
   },
   {
    "duration": 3,
    "start_time": "2024-10-05T18:52:14.517Z"
   },
   {
    "duration": 5,
    "start_time": "2024-10-05T18:52:14.522Z"
   },
   {
    "duration": 10,
    "start_time": "2024-10-05T18:52:14.528Z"
   },
   {
    "duration": 9,
    "start_time": "2024-10-05T18:52:14.539Z"
   },
   {
    "duration": 29,
    "start_time": "2024-10-05T18:52:14.549Z"
   },
   {
    "duration": 5,
    "start_time": "2024-10-05T18:52:14.612Z"
   },
   {
    "duration": 5,
    "start_time": "2024-10-05T18:52:14.619Z"
   },
   {
    "duration": 39,
    "start_time": "2024-10-05T18:52:14.626Z"
   },
   {
    "duration": 7,
    "start_time": "2024-10-05T18:52:14.667Z"
   },
   {
    "duration": 39,
    "start_time": "2024-10-05T18:52:14.676Z"
   },
   {
    "duration": 26,
    "start_time": "2024-10-05T18:53:52.254Z"
   },
   {
    "duration": 26,
    "start_time": "2024-10-05T18:54:16.720Z"
   },
   {
    "duration": 41,
    "start_time": "2024-10-05T19:08:31.413Z"
   },
   {
    "duration": 31,
    "start_time": "2024-10-05T19:08:39.503Z"
   },
   {
    "duration": 27,
    "start_time": "2024-10-05T19:18:33.002Z"
   },
   {
    "duration": 31,
    "start_time": "2024-10-05T20:04:37.045Z"
   },
   {
    "duration": 37,
    "start_time": "2024-10-05T20:05:07.469Z"
   },
   {
    "duration": 45,
    "start_time": "2024-10-05T20:06:46.356Z"
   },
   {
    "duration": 41,
    "start_time": "2024-10-05T20:06:52.343Z"
   },
   {
    "duration": 43,
    "start_time": "2024-10-05T20:08:29.944Z"
   },
   {
    "duration": 38,
    "start_time": "2024-10-05T20:10:01.138Z"
   },
   {
    "duration": 3,
    "start_time": "2024-10-05T20:28:14.211Z"
   },
   {
    "duration": 15,
    "start_time": "2024-10-05T20:28:29.746Z"
   },
   {
    "duration": 29,
    "start_time": "2024-10-05T20:28:36.950Z"
   },
   {
    "duration": 20,
    "start_time": "2024-10-05T20:28:47.823Z"
   },
   {
    "duration": 382,
    "start_time": "2024-10-05T20:35:10.414Z"
   },
   {
    "duration": 3,
    "start_time": "2024-10-05T20:37:32.775Z"
   },
   {
    "duration": 840,
    "start_time": "2024-10-05T20:37:32.780Z"
   },
   {
    "duration": 10,
    "start_time": "2024-10-05T20:37:33.622Z"
   },
   {
    "duration": 9,
    "start_time": "2024-10-05T20:37:33.634Z"
   },
   {
    "duration": 8,
    "start_time": "2024-10-05T20:37:33.645Z"
   },
   {
    "duration": 8,
    "start_time": "2024-10-05T20:37:33.654Z"
   },
   {
    "duration": 52,
    "start_time": "2024-10-05T20:37:33.664Z"
   },
   {
    "duration": 64,
    "start_time": "2024-10-05T20:37:33.718Z"
   },
   {
    "duration": 87,
    "start_time": "2024-10-05T20:37:33.784Z"
   },
   {
    "duration": 7,
    "start_time": "2024-10-05T20:37:33.872Z"
   },
   {
    "duration": 90,
    "start_time": "2024-10-05T20:37:33.882Z"
   },
   {
    "duration": 71,
    "start_time": "2024-10-05T20:37:33.974Z"
   },
   {
    "duration": 21,
    "start_time": "2024-10-05T20:37:34.047Z"
   },
   {
    "duration": 11,
    "start_time": "2024-10-05T20:37:34.070Z"
   },
   {
    "duration": 3,
    "start_time": "2024-10-05T20:37:34.083Z"
   },
   {
    "duration": 19,
    "start_time": "2024-10-05T20:37:34.111Z"
   },
   {
    "duration": 23,
    "start_time": "2024-10-05T20:37:34.131Z"
   },
   {
    "duration": 32,
    "start_time": "2024-10-05T20:37:34.155Z"
   },
   {
    "duration": 58,
    "start_time": "2024-10-05T20:37:34.189Z"
   },
   {
    "duration": 4,
    "start_time": "2024-10-05T20:37:34.248Z"
   },
   {
    "duration": 4,
    "start_time": "2024-10-05T20:37:34.254Z"
   },
   {
    "duration": 4,
    "start_time": "2024-10-05T20:37:34.259Z"
   },
   {
    "duration": 4,
    "start_time": "2024-10-05T20:37:34.264Z"
   },
   {
    "duration": 721,
    "start_time": "2024-10-05T20:37:34.270Z"
   },
   {
    "duration": 715,
    "start_time": "2024-10-05T20:37:34.993Z"
   },
   {
    "duration": 37,
    "start_time": "2024-10-05T20:37:35.712Z"
   },
   {
    "duration": 0,
    "start_time": "2024-10-05T20:37:35.751Z"
   },
   {
    "duration": 0,
    "start_time": "2024-10-05T20:37:35.752Z"
   },
   {
    "duration": 0,
    "start_time": "2024-10-05T20:37:35.754Z"
   },
   {
    "duration": 0,
    "start_time": "2024-10-05T20:37:35.754Z"
   },
   {
    "duration": 0,
    "start_time": "2024-10-05T20:37:35.755Z"
   },
   {
    "duration": 0,
    "start_time": "2024-10-05T20:37:35.756Z"
   },
   {
    "duration": 0,
    "start_time": "2024-10-05T20:37:35.757Z"
   },
   {
    "duration": 0,
    "start_time": "2024-10-05T20:37:35.758Z"
   },
   {
    "duration": 0,
    "start_time": "2024-10-05T20:37:35.758Z"
   },
   {
    "duration": 0,
    "start_time": "2024-10-05T20:37:35.759Z"
   },
   {
    "duration": 0,
    "start_time": "2024-10-05T20:37:35.760Z"
   },
   {
    "duration": 0,
    "start_time": "2024-10-05T20:37:35.761Z"
   },
   {
    "duration": 0,
    "start_time": "2024-10-05T20:37:35.762Z"
   },
   {
    "duration": 0,
    "start_time": "2024-10-05T20:37:35.763Z"
   },
   {
    "duration": 3,
    "start_time": "2024-10-05T20:38:50.452Z"
   },
   {
    "duration": 3,
    "start_time": "2024-10-05T20:45:21.249Z"
   },
   {
    "duration": 7,
    "start_time": "2024-10-05T20:45:37.040Z"
   },
   {
    "duration": 6,
    "start_time": "2024-10-05T20:52:10.955Z"
   },
   {
    "duration": 3,
    "start_time": "2024-10-05T20:52:27.845Z"
   },
   {
    "duration": 811,
    "start_time": "2024-10-05T20:52:27.853Z"
   },
   {
    "duration": 11,
    "start_time": "2024-10-05T20:52:28.666Z"
   },
   {
    "duration": 10,
    "start_time": "2024-10-05T20:52:28.679Z"
   },
   {
    "duration": 24,
    "start_time": "2024-10-05T20:52:28.691Z"
   },
   {
    "duration": 7,
    "start_time": "2024-10-05T20:52:28.718Z"
   },
   {
    "duration": 20,
    "start_time": "2024-10-05T20:52:28.726Z"
   },
   {
    "duration": 89,
    "start_time": "2024-10-05T20:52:28.748Z"
   },
   {
    "duration": 78,
    "start_time": "2024-10-05T20:52:28.839Z"
   },
   {
    "duration": 7,
    "start_time": "2024-10-05T20:52:28.919Z"
   },
   {
    "duration": 88,
    "start_time": "2024-10-05T20:52:28.927Z"
   },
   {
    "duration": 65,
    "start_time": "2024-10-05T20:52:29.017Z"
   },
   {
    "duration": 36,
    "start_time": "2024-10-05T20:52:29.084Z"
   },
   {
    "duration": 12,
    "start_time": "2024-10-05T20:52:29.122Z"
   },
   {
    "duration": 3,
    "start_time": "2024-10-05T20:52:29.138Z"
   },
   {
    "duration": 18,
    "start_time": "2024-10-05T20:52:29.143Z"
   },
   {
    "duration": 54,
    "start_time": "2024-10-05T20:52:29.163Z"
   },
   {
    "duration": 4,
    "start_time": "2024-10-05T20:52:29.218Z"
   },
   {
    "duration": 5,
    "start_time": "2024-10-05T20:52:29.223Z"
   },
   {
    "duration": 3,
    "start_time": "2024-10-05T20:52:29.230Z"
   },
   {
    "duration": 4,
    "start_time": "2024-10-05T20:52:29.234Z"
   },
   {
    "duration": 696,
    "start_time": "2024-10-05T20:52:29.240Z"
   },
   {
    "duration": 573,
    "start_time": "2024-10-05T20:52:29.939Z"
   },
   {
    "duration": 5,
    "start_time": "2024-10-05T20:52:30.514Z"
   },
   {
    "duration": 8,
    "start_time": "2024-10-05T20:52:30.521Z"
   },
   {
    "duration": 7,
    "start_time": "2024-10-05T20:52:30.531Z"
   },
   {
    "duration": 6,
    "start_time": "2024-10-05T20:52:30.540Z"
   },
   {
    "duration": 7,
    "start_time": "2024-10-05T20:52:30.548Z"
   },
   {
    "duration": 4,
    "start_time": "2024-10-05T20:52:30.556Z"
   },
   {
    "duration": 6,
    "start_time": "2024-10-05T20:52:30.562Z"
   },
   {
    "duration": 8,
    "start_time": "2024-10-05T20:52:30.613Z"
   },
   {
    "duration": 7,
    "start_time": "2024-10-05T20:52:30.623Z"
   },
   {
    "duration": 23,
    "start_time": "2024-10-05T20:52:30.632Z"
   },
   {
    "duration": 5,
    "start_time": "2024-10-05T20:52:30.657Z"
   },
   {
    "duration": 5,
    "start_time": "2024-10-05T20:52:30.664Z"
   },
   {
    "duration": 66,
    "start_time": "2024-10-05T20:52:30.670Z"
   },
   {
    "duration": 6,
    "start_time": "2024-10-05T20:52:30.738Z"
   },
   {
    "duration": 6,
    "start_time": "2024-10-05T20:52:30.747Z"
   },
   {
    "duration": 1855,
    "start_time": "2024-10-05T21:47:35.291Z"
   },
   {
    "duration": 13,
    "start_time": "2024-10-05T21:48:00.499Z"
   },
   {
    "duration": 135,
    "start_time": "2024-10-05T21:48:31.927Z"
   },
   {
    "duration": 2219,
    "start_time": "2024-10-06T02:33:29.684Z"
   },
   {
    "duration": 127,
    "start_time": "2024-10-06T02:33:45.281Z"
   },
   {
    "duration": 1067,
    "start_time": "2024-10-06T02:33:45.410Z"
   },
   {
    "duration": 16,
    "start_time": "2024-10-06T02:33:46.479Z"
   },
   {
    "duration": 9,
    "start_time": "2024-10-06T02:33:46.497Z"
   },
   {
    "duration": 9,
    "start_time": "2024-10-06T02:33:46.507Z"
   },
   {
    "duration": 7,
    "start_time": "2024-10-06T02:33:46.518Z"
   },
   {
    "duration": 25,
    "start_time": "2024-10-06T02:33:46.527Z"
   },
   {
    "duration": 123,
    "start_time": "2024-10-06T02:33:46.554Z"
   },
   {
    "duration": 99,
    "start_time": "2024-10-06T02:33:46.687Z"
   },
   {
    "duration": 8,
    "start_time": "2024-10-06T02:33:46.789Z"
   },
   {
    "duration": 106,
    "start_time": "2024-10-06T02:33:46.799Z"
   },
   {
    "duration": 95,
    "start_time": "2024-10-06T02:33:46.907Z"
   },
   {
    "duration": 25,
    "start_time": "2024-10-06T02:33:47.004Z"
   },
   {
    "duration": 12,
    "start_time": "2024-10-06T02:33:47.031Z"
   },
   {
    "duration": 4,
    "start_time": "2024-10-06T02:33:47.045Z"
   },
   {
    "duration": 43,
    "start_time": "2024-10-06T02:33:47.050Z"
   },
   {
    "duration": 30,
    "start_time": "2024-10-06T02:33:47.095Z"
   },
   {
    "duration": 4,
    "start_time": "2024-10-06T02:33:47.127Z"
   },
   {
    "duration": 4,
    "start_time": "2024-10-06T02:33:47.133Z"
   },
   {
    "duration": 4,
    "start_time": "2024-10-06T02:33:47.138Z"
   },
   {
    "duration": 3,
    "start_time": "2024-10-06T02:33:47.144Z"
   },
   {
    "duration": 825,
    "start_time": "2024-10-06T02:33:47.149Z"
   },
   {
    "duration": 726,
    "start_time": "2024-10-06T02:33:47.976Z"
   },
   {
    "duration": 5,
    "start_time": "2024-10-06T02:33:48.704Z"
   },
   {
    "duration": 8,
    "start_time": "2024-10-06T02:33:48.711Z"
   },
   {
    "duration": 8,
    "start_time": "2024-10-06T02:33:48.720Z"
   },
   {
    "duration": 6,
    "start_time": "2024-10-06T02:33:48.730Z"
   },
   {
    "duration": 8,
    "start_time": "2024-10-06T02:33:48.741Z"
   },
   {
    "duration": 38,
    "start_time": "2024-10-06T02:33:48.751Z"
   },
   {
    "duration": 6,
    "start_time": "2024-10-06T02:33:48.791Z"
   },
   {
    "duration": 16,
    "start_time": "2024-10-06T02:33:48.799Z"
   },
   {
    "duration": 7,
    "start_time": "2024-10-06T02:33:48.817Z"
   },
   {
    "duration": 61,
    "start_time": "2024-10-06T02:33:48.826Z"
   },
   {
    "duration": 5,
    "start_time": "2024-10-06T02:33:48.888Z"
   },
   {
    "duration": 5,
    "start_time": "2024-10-06T02:33:48.895Z"
   },
   {
    "duration": 41,
    "start_time": "2024-10-06T02:33:48.901Z"
   },
   {
    "duration": 7,
    "start_time": "2024-10-06T02:33:48.944Z"
   },
   {
    "duration": 39,
    "start_time": "2024-10-06T02:33:48.952Z"
   },
   {
    "duration": 33,
    "start_time": "2024-10-06T02:33:48.993Z"
   },
   {
    "duration": 470,
    "start_time": "2024-10-06T02:33:57.730Z"
   },
   {
    "duration": 54,
    "start_time": "2024-10-06T02:37:16.900Z"
   },
   {
    "duration": 54,
    "start_time": "2024-10-06T02:38:26.990Z"
   },
   {
    "duration": 117,
    "start_time": "2024-10-06T02:39:28.261Z"
   },
   {
    "duration": 63,
    "start_time": "2024-10-06T02:41:12.346Z"
   },
   {
    "duration": 2,
    "start_time": "2024-10-06T02:43:58.966Z"
   },
   {
    "duration": 852,
    "start_time": "2024-10-06T02:43:58.972Z"
   },
   {
    "duration": 10,
    "start_time": "2024-10-06T02:43:59.826Z"
   },
   {
    "duration": 9,
    "start_time": "2024-10-06T02:43:59.838Z"
   },
   {
    "duration": 7,
    "start_time": "2024-10-06T02:43:59.849Z"
   },
   {
    "duration": 34,
    "start_time": "2024-10-06T02:43:59.859Z"
   },
   {
    "duration": 21,
    "start_time": "2024-10-06T02:43:59.895Z"
   },
   {
    "duration": 86,
    "start_time": "2024-10-06T02:43:59.917Z"
   },
   {
    "duration": 92,
    "start_time": "2024-10-06T02:44:00.005Z"
   },
   {
    "duration": 7,
    "start_time": "2024-10-06T02:44:00.099Z"
   },
   {
    "duration": 104,
    "start_time": "2024-10-06T02:44:00.108Z"
   },
   {
    "duration": 94,
    "start_time": "2024-10-06T02:44:00.214Z"
   },
   {
    "duration": 29,
    "start_time": "2024-10-06T02:44:00.310Z"
   },
   {
    "duration": 12,
    "start_time": "2024-10-06T02:44:00.341Z"
   },
   {
    "duration": 3,
    "start_time": "2024-10-06T02:44:00.357Z"
   },
   {
    "duration": 46,
    "start_time": "2024-10-06T02:44:00.362Z"
   },
   {
    "duration": 32,
    "start_time": "2024-10-06T02:44:00.410Z"
   },
   {
    "duration": 3,
    "start_time": "2024-10-06T02:44:00.444Z"
   },
   {
    "duration": 4,
    "start_time": "2024-10-06T02:44:00.449Z"
   },
   {
    "duration": 5,
    "start_time": "2024-10-06T02:44:00.454Z"
   },
   {
    "duration": 29,
    "start_time": "2024-10-06T02:44:00.460Z"
   },
   {
    "duration": 784,
    "start_time": "2024-10-06T02:44:00.490Z"
   },
   {
    "duration": 714,
    "start_time": "2024-10-06T02:44:01.276Z"
   },
   {
    "duration": 6,
    "start_time": "2024-10-06T02:44:01.991Z"
   },
   {
    "duration": 8,
    "start_time": "2024-10-06T02:44:01.999Z"
   },
   {
    "duration": 9,
    "start_time": "2024-10-06T02:44:02.009Z"
   },
   {
    "duration": 6,
    "start_time": "2024-10-06T02:44:02.019Z"
   },
   {
    "duration": 10,
    "start_time": "2024-10-06T02:44:02.027Z"
   },
   {
    "duration": 10,
    "start_time": "2024-10-06T02:44:02.039Z"
   },
   {
    "duration": 38,
    "start_time": "2024-10-06T02:44:02.051Z"
   },
   {
    "duration": 10,
    "start_time": "2024-10-06T02:44:02.091Z"
   },
   {
    "duration": 8,
    "start_time": "2024-10-06T02:44:02.103Z"
   },
   {
    "duration": 29,
    "start_time": "2024-10-06T02:44:02.113Z"
   },
   {
    "duration": 5,
    "start_time": "2024-10-06T02:44:02.144Z"
   },
   {
    "duration": 38,
    "start_time": "2024-10-06T02:44:02.151Z"
   },
   {
    "duration": 40,
    "start_time": "2024-10-06T02:44:02.192Z"
   },
   {
    "duration": 7,
    "start_time": "2024-10-06T02:44:02.234Z"
   },
   {
    "duration": 6,
    "start_time": "2024-10-06T02:44:02.243Z"
   },
   {
    "duration": 82,
    "start_time": "2024-10-06T02:44:02.251Z"
   },
   {
    "duration": 57,
    "start_time": "2024-10-06T02:45:51.036Z"
   },
   {
    "duration": 53,
    "start_time": "2024-10-06T02:46:05.269Z"
   },
   {
    "duration": 20,
    "start_time": "2024-10-06T02:47:36.183Z"
   },
   {
    "duration": 54,
    "start_time": "2024-10-06T02:47:48.707Z"
   },
   {
    "duration": 16,
    "start_time": "2024-10-06T02:59:59.198Z"
   },
   {
    "duration": 384,
    "start_time": "2024-10-06T03:00:11.408Z"
   },
   {
    "duration": 273,
    "start_time": "2024-10-06T03:01:22.920Z"
   },
   {
    "duration": 5,
    "start_time": "2024-10-06T03:15:58.444Z"
   },
   {
    "duration": 73,
    "start_time": "2024-10-06T03:16:07.756Z"
   },
   {
    "duration": 65,
    "start_time": "2024-10-06T03:16:54.394Z"
   },
   {
    "duration": 229,
    "start_time": "2024-10-06T03:17:39.592Z"
   },
   {
    "duration": 14,
    "start_time": "2024-10-06T03:36:19.588Z"
   },
   {
    "duration": 17,
    "start_time": "2024-10-06T03:36:54.124Z"
   },
   {
    "duration": 114,
    "start_time": "2024-10-06T03:37:07.939Z"
   },
   {
    "duration": 114,
    "start_time": "2024-10-06T03:43:41.947Z"
   },
   {
    "duration": 116,
    "start_time": "2024-10-06T03:44:08.974Z"
   },
   {
    "duration": 114,
    "start_time": "2024-10-06T03:44:33.019Z"
   },
   {
    "duration": 113,
    "start_time": "2024-10-06T03:49:12.833Z"
   },
   {
    "duration": 0,
    "start_time": "2024-10-06T04:15:19.689Z"
   },
   {
    "duration": 0,
    "start_time": "2024-10-06T04:15:41.108Z"
   },
   {
    "duration": 0,
    "start_time": "2024-10-06T04:15:41.109Z"
   },
   {
    "duration": 0,
    "start_time": "2024-10-06T04:15:41.110Z"
   },
   {
    "duration": 0,
    "start_time": "2024-10-06T04:15:41.111Z"
   },
   {
    "duration": 0,
    "start_time": "2024-10-06T04:15:41.112Z"
   },
   {
    "duration": 0,
    "start_time": "2024-10-06T04:15:41.113Z"
   },
   {
    "duration": 0,
    "start_time": "2024-10-06T04:15:41.114Z"
   },
   {
    "duration": 0,
    "start_time": "2024-10-06T04:15:41.115Z"
   },
   {
    "duration": 0,
    "start_time": "2024-10-06T04:15:41.117Z"
   },
   {
    "duration": 0,
    "start_time": "2024-10-06T04:15:41.118Z"
   },
   {
    "duration": 0,
    "start_time": "2024-10-06T04:15:41.118Z"
   },
   {
    "duration": 0,
    "start_time": "2024-10-06T04:15:41.120Z"
   },
   {
    "duration": 0,
    "start_time": "2024-10-06T04:15:41.121Z"
   },
   {
    "duration": 0,
    "start_time": "2024-10-06T04:15:41.123Z"
   },
   {
    "duration": 0,
    "start_time": "2024-10-06T04:15:41.126Z"
   },
   {
    "duration": 0,
    "start_time": "2024-10-06T04:15:41.128Z"
   },
   {
    "duration": 0,
    "start_time": "2024-10-06T04:15:41.129Z"
   },
   {
    "duration": 0,
    "start_time": "2024-10-06T04:15:41.131Z"
   },
   {
    "duration": 0,
    "start_time": "2024-10-06T04:15:41.132Z"
   },
   {
    "duration": 0,
    "start_time": "2024-10-06T04:15:41.134Z"
   },
   {
    "duration": 0,
    "start_time": "2024-10-06T04:15:41.135Z"
   },
   {
    "duration": 0,
    "start_time": "2024-10-06T04:15:41.136Z"
   },
   {
    "duration": 0,
    "start_time": "2024-10-06T04:15:41.137Z"
   },
   {
    "duration": 0,
    "start_time": "2024-10-06T04:15:41.187Z"
   },
   {
    "duration": 0,
    "start_time": "2024-10-06T04:15:41.188Z"
   },
   {
    "duration": 0,
    "start_time": "2024-10-06T04:15:41.189Z"
   },
   {
    "duration": 0,
    "start_time": "2024-10-06T04:15:41.190Z"
   },
   {
    "duration": 0,
    "start_time": "2024-10-06T04:15:41.191Z"
   },
   {
    "duration": 0,
    "start_time": "2024-10-06T04:15:41.192Z"
   },
   {
    "duration": 0,
    "start_time": "2024-10-06T04:15:41.193Z"
   },
   {
    "duration": 0,
    "start_time": "2024-10-06T04:15:41.194Z"
   },
   {
    "duration": 0,
    "start_time": "2024-10-06T04:15:41.195Z"
   },
   {
    "duration": 0,
    "start_time": "2024-10-06T04:15:41.196Z"
   },
   {
    "duration": 0,
    "start_time": "2024-10-06T04:15:41.197Z"
   },
   {
    "duration": 0,
    "start_time": "2024-10-06T04:15:41.198Z"
   },
   {
    "duration": 0,
    "start_time": "2024-10-06T04:15:41.199Z"
   },
   {
    "duration": 0,
    "start_time": "2024-10-06T04:15:41.200Z"
   },
   {
    "duration": 0,
    "start_time": "2024-10-06T04:15:41.201Z"
   },
   {
    "duration": 0,
    "start_time": "2024-10-06T04:15:41.203Z"
   },
   {
    "duration": 0,
    "start_time": "2024-10-06T04:15:41.203Z"
   },
   {
    "duration": 0,
    "start_time": "2024-10-06T04:15:41.204Z"
   },
   {
    "duration": 2,
    "start_time": "2024-10-06T04:15:59.689Z"
   },
   {
    "duration": 814,
    "start_time": "2024-10-06T04:15:59.692Z"
   },
   {
    "duration": 10,
    "start_time": "2024-10-06T04:16:00.508Z"
   },
   {
    "duration": 9,
    "start_time": "2024-10-06T04:16:00.520Z"
   },
   {
    "duration": 8,
    "start_time": "2024-10-06T04:16:00.530Z"
   },
   {
    "duration": 7,
    "start_time": "2024-10-06T04:16:00.539Z"
   },
   {
    "duration": 50,
    "start_time": "2024-10-06T04:16:00.547Z"
   },
   {
    "duration": 71,
    "start_time": "2024-10-06T04:16:00.599Z"
   },
   {
    "duration": 76,
    "start_time": "2024-10-06T04:16:00.686Z"
   },
   {
    "duration": 6,
    "start_time": "2024-10-06T04:16:00.764Z"
   },
   {
    "duration": 90,
    "start_time": "2024-10-06T04:16:00.772Z"
   },
   {
    "duration": 76,
    "start_time": "2024-10-06T04:16:00.863Z"
   },
   {
    "duration": 22,
    "start_time": "2024-10-06T04:16:00.941Z"
   },
   {
    "duration": 27,
    "start_time": "2024-10-06T04:16:00.965Z"
   },
   {
    "duration": 3,
    "start_time": "2024-10-06T04:16:00.994Z"
   },
   {
    "duration": 19,
    "start_time": "2024-10-06T04:16:00.999Z"
   },
   {
    "duration": 32,
    "start_time": "2024-10-06T04:16:01.020Z"
   },
   {
    "duration": 4,
    "start_time": "2024-10-06T04:16:01.054Z"
   },
   {
    "duration": 4,
    "start_time": "2024-10-06T04:16:01.087Z"
   },
   {
    "duration": 4,
    "start_time": "2024-10-06T04:16:01.092Z"
   },
   {
    "duration": 4,
    "start_time": "2024-10-06T04:16:01.098Z"
   },
   {
    "duration": 782,
    "start_time": "2024-10-06T04:16:01.104Z"
   },
   {
    "duration": 657,
    "start_time": "2024-10-06T04:16:01.888Z"
   },
   {
    "duration": 5,
    "start_time": "2024-10-06T04:16:02.550Z"
   },
   {
    "duration": 9,
    "start_time": "2024-10-06T04:16:02.557Z"
   },
   {
    "duration": 26,
    "start_time": "2024-10-06T04:16:02.567Z"
   },
   {
    "duration": 6,
    "start_time": "2024-10-06T04:16:02.595Z"
   },
   {
    "duration": 9,
    "start_time": "2024-10-06T04:16:02.603Z"
   },
   {
    "duration": 3,
    "start_time": "2024-10-06T04:16:02.613Z"
   },
   {
    "duration": 6,
    "start_time": "2024-10-06T04:16:02.618Z"
   },
   {
    "duration": 8,
    "start_time": "2024-10-06T04:16:02.626Z"
   },
   {
    "duration": 7,
    "start_time": "2024-10-06T04:16:02.637Z"
   },
   {
    "duration": 47,
    "start_time": "2024-10-06T04:16:02.686Z"
   },
   {
    "duration": 6,
    "start_time": "2024-10-06T04:16:02.735Z"
   },
   {
    "duration": 5,
    "start_time": "2024-10-06T04:16:02.742Z"
   },
   {
    "duration": 71,
    "start_time": "2024-10-06T04:16:02.748Z"
   },
   {
    "duration": 6,
    "start_time": "2024-10-06T04:16:02.821Z"
   },
   {
    "duration": 6,
    "start_time": "2024-10-06T04:16:02.829Z"
   },
   {
    "duration": 268,
    "start_time": "2024-10-06T04:16:02.837Z"
   },
   {
    "duration": 146,
    "start_time": "2024-10-06T04:16:03.109Z"
   },
   {
    "duration": 0,
    "start_time": "2024-10-06T04:16:24.086Z"
   },
   {
    "duration": 21254,
    "start_time": "2024-10-06T04:16:31.463Z"
   },
   {
    "duration": 21906,
    "start_time": "2024-10-06T04:17:08.026Z"
   },
   {
    "duration": 21336,
    "start_time": "2024-10-06T04:18:22.114Z"
   },
   {
    "duration": 21176,
    "start_time": "2024-10-06T04:20:30.044Z"
   },
   {
    "duration": 4,
    "start_time": "2024-10-06T04:25:41.388Z"
   },
   {
    "duration": 5,
    "start_time": "2024-10-06T04:29:44.683Z"
   },
   {
    "duration": 21099,
    "start_time": "2024-10-06T04:30:39.658Z"
   },
   {
    "duration": 21459,
    "start_time": "2024-10-06T04:31:54.680Z"
   },
   {
    "duration": 21376,
    "start_time": "2024-10-06T04:35:29.350Z"
   },
   {
    "duration": 21779,
    "start_time": "2024-10-06T04:37:27.485Z"
   },
   {
    "duration": 21372,
    "start_time": "2024-10-06T04:39:33.180Z"
   },
   {
    "duration": 21855,
    "start_time": "2024-10-06T04:43:05.772Z"
   },
   {
    "duration": 21864,
    "start_time": "2024-10-06T04:44:09.058Z"
   },
   {
    "duration": 8,
    "start_time": "2024-10-06T19:33:01.529Z"
   },
   {
    "duration": 5,
    "start_time": "2024-10-06T19:33:20.314Z"
   },
   {
    "duration": 5,
    "start_time": "2024-10-06T19:34:42.133Z"
   },
   {
    "duration": 5,
    "start_time": "2024-10-06T19:40:23.881Z"
   },
   {
    "duration": 4,
    "start_time": "2024-10-06T19:40:33.972Z"
   },
   {
    "duration": 4,
    "start_time": "2024-10-06T19:40:58.442Z"
   },
   {
    "duration": 286,
    "start_time": "2024-10-06T19:41:20.874Z"
   },
   {
    "duration": 1032,
    "start_time": "2024-10-06T19:41:21.162Z"
   },
   {
    "duration": 17,
    "start_time": "2024-10-06T19:41:22.195Z"
   },
   {
    "duration": 10,
    "start_time": "2024-10-06T19:41:22.214Z"
   },
   {
    "duration": 8,
    "start_time": "2024-10-06T19:41:22.225Z"
   },
   {
    "duration": 8,
    "start_time": "2024-10-06T19:41:22.234Z"
   },
   {
    "duration": 23,
    "start_time": "2024-10-06T19:41:22.244Z"
   },
   {
    "duration": 118,
    "start_time": "2024-10-06T19:41:22.268Z"
   },
   {
    "duration": 109,
    "start_time": "2024-10-06T19:41:22.388Z"
   },
   {
    "duration": 8,
    "start_time": "2024-10-06T19:41:22.505Z"
   },
   {
    "duration": 106,
    "start_time": "2024-10-06T19:41:22.515Z"
   },
   {
    "duration": 104,
    "start_time": "2024-10-06T19:41:22.624Z"
   },
   {
    "duration": 23,
    "start_time": "2024-10-06T19:41:22.731Z"
   },
   {
    "duration": 12,
    "start_time": "2024-10-06T19:41:22.755Z"
   },
   {
    "duration": 3,
    "start_time": "2024-10-06T19:41:22.769Z"
   },
   {
    "duration": 42,
    "start_time": "2024-10-06T19:41:22.773Z"
   },
   {
    "duration": 30,
    "start_time": "2024-10-06T19:41:22.816Z"
   },
   {
    "duration": 3,
    "start_time": "2024-10-06T19:41:22.848Z"
   },
   {
    "duration": 4,
    "start_time": "2024-10-06T19:41:22.852Z"
   },
   {
    "duration": 3,
    "start_time": "2024-10-06T19:41:22.858Z"
   },
   {
    "duration": 4,
    "start_time": "2024-10-06T19:41:22.863Z"
   },
   {
    "duration": 819,
    "start_time": "2024-10-06T19:41:22.868Z"
   },
   {
    "duration": 699,
    "start_time": "2024-10-06T19:41:23.689Z"
   },
   {
    "duration": 5,
    "start_time": "2024-10-06T19:41:24.390Z"
   },
   {
    "duration": 7,
    "start_time": "2024-10-06T19:41:24.406Z"
   },
   {
    "duration": 8,
    "start_time": "2024-10-06T19:41:24.415Z"
   },
   {
    "duration": 6,
    "start_time": "2024-10-06T19:41:24.424Z"
   },
   {
    "duration": 7,
    "start_time": "2024-10-06T19:41:24.434Z"
   },
   {
    "duration": 5,
    "start_time": "2024-10-06T19:41:24.442Z"
   },
   {
    "duration": 4,
    "start_time": "2024-10-06T19:41:24.449Z"
   },
   {
    "duration": 56,
    "start_time": "2024-10-06T19:41:24.455Z"
   },
   {
    "duration": 7,
    "start_time": "2024-10-06T19:41:24.512Z"
   },
   {
    "duration": 30,
    "start_time": "2024-10-06T19:41:24.521Z"
   },
   {
    "duration": 5,
    "start_time": "2024-10-06T19:41:24.553Z"
   },
   {
    "duration": 4,
    "start_time": "2024-10-06T19:41:24.560Z"
   },
   {
    "duration": 69,
    "start_time": "2024-10-06T19:41:24.566Z"
   },
   {
    "duration": 6,
    "start_time": "2024-10-06T19:41:24.637Z"
   },
   {
    "duration": 7,
    "start_time": "2024-10-06T19:41:24.645Z"
   },
   {
    "duration": 2080,
    "start_time": "2024-10-06T19:41:24.654Z"
   },
   {
    "duration": 126,
    "start_time": "2024-10-06T19:41:26.735Z"
   },
   {
    "duration": 22022,
    "start_time": "2024-10-06T19:41:26.863Z"
   },
   {
    "duration": 4,
    "start_time": "2024-10-06T19:41:48.887Z"
   },
   {
    "duration": 4,
    "start_time": "2024-10-06T19:42:12.037Z"
   },
   {
    "duration": 4,
    "start_time": "2024-10-06T19:42:56.523Z"
   },
   {
    "duration": 4,
    "start_time": "2024-10-06T19:44:37.765Z"
   },
   {
    "duration": 5,
    "start_time": "2024-10-06T19:46:06.397Z"
   },
   {
    "duration": 243,
    "start_time": "2024-10-06T19:46:25.717Z"
   },
   {
    "duration": 5,
    "start_time": "2024-10-06T20:21:02.666Z"
   },
   {
    "duration": 5,
    "start_time": "2024-10-06T20:21:31.203Z"
   },
   {
    "duration": 22309,
    "start_time": "2024-10-06T20:22:14.818Z"
   },
   {
    "duration": 4,
    "start_time": "2024-10-06T20:25:21.513Z"
   },
   {
    "duration": 21779,
    "start_time": "2024-10-06T20:25:42.537Z"
   },
   {
    "duration": 21875,
    "start_time": "2024-10-06T20:27:48.806Z"
   },
   {
    "duration": 21329,
    "start_time": "2024-10-06T20:37:57.822Z"
   },
   {
    "duration": 22067,
    "start_time": "2024-10-06T20:39:59.903Z"
   },
   {
    "duration": 195,
    "start_time": "2024-10-06T21:05:19.534Z"
   },
   {
    "duration": 191,
    "start_time": "2024-10-06T21:05:48.974Z"
   },
   {
    "duration": 179,
    "start_time": "2024-10-06T21:06:03.196Z"
   },
   {
    "duration": 580,
    "start_time": "2024-10-06T21:07:02.442Z"
   },
   {
    "duration": 196,
    "start_time": "2024-10-06T21:07:09.331Z"
   },
   {
    "duration": 186,
    "start_time": "2024-10-06T21:07:50.718Z"
   },
   {
    "duration": 201,
    "start_time": "2024-10-06T21:09:19.707Z"
   },
   {
    "duration": 211,
    "start_time": "2024-10-06T21:10:32.908Z"
   },
   {
    "duration": 209,
    "start_time": "2024-10-06T21:12:51.967Z"
   },
   {
    "duration": 213,
    "start_time": "2024-10-06T21:14:55.777Z"
   },
   {
    "duration": 217,
    "start_time": "2024-10-06T21:15:30.427Z"
   },
   {
    "duration": 221,
    "start_time": "2024-10-06T21:15:44.088Z"
   },
   {
    "duration": 221,
    "start_time": "2024-10-06T21:17:27.022Z"
   },
   {
    "duration": 2,
    "start_time": "2024-10-06T21:19:09.780Z"
   },
   {
    "duration": 827,
    "start_time": "2024-10-06T21:19:09.785Z"
   },
   {
    "duration": 11,
    "start_time": "2024-10-06T21:19:10.614Z"
   },
   {
    "duration": 10,
    "start_time": "2024-10-06T21:19:10.626Z"
   },
   {
    "duration": 8,
    "start_time": "2024-10-06T21:19:10.638Z"
   },
   {
    "duration": 7,
    "start_time": "2024-10-06T21:19:10.648Z"
   },
   {
    "duration": 53,
    "start_time": "2024-10-06T21:19:10.657Z"
   },
   {
    "duration": 70,
    "start_time": "2024-10-06T21:19:10.713Z"
   },
   {
    "duration": 87,
    "start_time": "2024-10-06T21:19:10.785Z"
   },
   {
    "duration": 8,
    "start_time": "2024-10-06T21:19:10.874Z"
   },
   {
    "duration": 86,
    "start_time": "2024-10-06T21:19:10.884Z"
   },
   {
    "duration": 76,
    "start_time": "2024-10-06T21:19:10.972Z"
   },
   {
    "duration": 27,
    "start_time": "2024-10-06T21:19:11.053Z"
   },
   {
    "duration": 26,
    "start_time": "2024-10-06T21:19:11.082Z"
   },
   {
    "duration": 4,
    "start_time": "2024-10-06T21:19:11.109Z"
   },
   {
    "duration": 19,
    "start_time": "2024-10-06T21:19:11.114Z"
   },
   {
    "duration": 31,
    "start_time": "2024-10-06T21:19:11.134Z"
   },
   {
    "duration": 3,
    "start_time": "2024-10-06T21:19:11.167Z"
   },
   {
    "duration": 4,
    "start_time": "2024-10-06T21:19:11.172Z"
   },
   {
    "duration": 4,
    "start_time": "2024-10-06T21:19:11.206Z"
   },
   {
    "duration": 5,
    "start_time": "2024-10-06T21:19:11.211Z"
   },
   {
    "duration": 665,
    "start_time": "2024-10-06T21:19:11.217Z"
   },
   {
    "duration": 604,
    "start_time": "2024-10-06T21:19:11.884Z"
   },
   {
    "duration": 6,
    "start_time": "2024-10-06T21:19:12.489Z"
   },
   {
    "duration": 18,
    "start_time": "2024-10-06T21:19:12.496Z"
   },
   {
    "duration": 10,
    "start_time": "2024-10-06T21:19:12.516Z"
   },
   {
    "duration": 6,
    "start_time": "2024-10-06T21:19:12.527Z"
   },
   {
    "duration": 8,
    "start_time": "2024-10-06T21:19:12.535Z"
   },
   {
    "duration": 5,
    "start_time": "2024-10-06T21:19:12.545Z"
   },
   {
    "duration": 4,
    "start_time": "2024-10-06T21:19:12.551Z"
   },
   {
    "duration": 48,
    "start_time": "2024-10-06T21:19:12.557Z"
   },
   {
    "duration": 7,
    "start_time": "2024-10-06T21:19:12.607Z"
   },
   {
    "duration": 34,
    "start_time": "2024-10-06T21:19:12.616Z"
   },
   {
    "duration": 6,
    "start_time": "2024-10-06T21:19:12.651Z"
   },
   {
    "duration": 5,
    "start_time": "2024-10-06T21:19:12.658Z"
   },
   {
    "duration": 77,
    "start_time": "2024-10-06T21:19:12.664Z"
   },
   {
    "duration": 6,
    "start_time": "2024-10-06T21:19:12.745Z"
   },
   {
    "duration": 7,
    "start_time": "2024-10-06T21:19:12.752Z"
   },
   {
    "duration": 274,
    "start_time": "2024-10-06T21:19:12.761Z"
   },
   {
    "duration": 0,
    "start_time": "2024-10-06T21:19:13.036Z"
   },
   {
    "duration": 0,
    "start_time": "2024-10-06T21:19:13.037Z"
   },
   {
    "duration": 0,
    "start_time": "2024-10-06T21:19:13.038Z"
   },
   {
    "duration": 0,
    "start_time": "2024-10-06T21:19:13.039Z"
   },
   {
    "duration": 216,
    "start_time": "2024-10-06T21:19:20.505Z"
   },
   {
    "duration": 3,
    "start_time": "2024-10-06T21:20:42.733Z"
   },
   {
    "duration": 816,
    "start_time": "2024-10-06T21:20:42.738Z"
   },
   {
    "duration": 12,
    "start_time": "2024-10-06T21:20:43.556Z"
   },
   {
    "duration": 11,
    "start_time": "2024-10-06T21:20:43.570Z"
   },
   {
    "duration": 28,
    "start_time": "2024-10-06T21:20:43.583Z"
   },
   {
    "duration": 8,
    "start_time": "2024-10-06T21:20:43.612Z"
   },
   {
    "duration": 20,
    "start_time": "2024-10-06T21:20:43.621Z"
   },
   {
    "duration": 87,
    "start_time": "2024-10-06T21:20:43.643Z"
   },
   {
    "duration": 83,
    "start_time": "2024-10-06T21:20:43.732Z"
   },
   {
    "duration": 9,
    "start_time": "2024-10-06T21:20:43.817Z"
   },
   {
    "duration": 91,
    "start_time": "2024-10-06T21:20:43.828Z"
   },
   {
    "duration": 64,
    "start_time": "2024-10-06T21:20:43.921Z"
   },
   {
    "duration": 31,
    "start_time": "2024-10-06T21:20:43.987Z"
   },
   {
    "duration": 13,
    "start_time": "2024-10-06T21:20:44.020Z"
   },
   {
    "duration": 4,
    "start_time": "2024-10-06T21:20:44.035Z"
   },
   {
    "duration": 20,
    "start_time": "2024-10-06T21:20:44.040Z"
   },
   {
    "duration": 59,
    "start_time": "2024-10-06T21:20:44.061Z"
   },
   {
    "duration": 4,
    "start_time": "2024-10-06T21:20:44.122Z"
   },
   {
    "duration": 4,
    "start_time": "2024-10-06T21:20:44.128Z"
   },
   {
    "duration": 4,
    "start_time": "2024-10-06T21:20:44.135Z"
   },
   {
    "duration": 8,
    "start_time": "2024-10-06T21:20:44.141Z"
   },
   {
    "duration": 682,
    "start_time": "2024-10-06T21:20:44.151Z"
   },
   {
    "duration": 578,
    "start_time": "2024-10-06T21:20:44.835Z"
   },
   {
    "duration": 5,
    "start_time": "2024-10-06T21:20:45.415Z"
   },
   {
    "duration": 8,
    "start_time": "2024-10-06T21:20:45.422Z"
   },
   {
    "duration": 8,
    "start_time": "2024-10-06T21:20:45.431Z"
   },
   {
    "duration": 5,
    "start_time": "2024-10-06T21:20:45.441Z"
   },
   {
    "duration": 7,
    "start_time": "2024-10-06T21:20:45.448Z"
   },
   {
    "duration": 3,
    "start_time": "2024-10-06T21:20:45.459Z"
   },
   {
    "duration": 42,
    "start_time": "2024-10-06T21:20:45.465Z"
   },
   {
    "duration": 18,
    "start_time": "2024-10-06T21:20:45.509Z"
   },
   {
    "duration": 7,
    "start_time": "2024-10-06T21:20:45.529Z"
   },
   {
    "duration": 30,
    "start_time": "2024-10-06T21:20:45.538Z"
   },
   {
    "duration": 5,
    "start_time": "2024-10-06T21:20:45.570Z"
   },
   {
    "duration": 5,
    "start_time": "2024-10-06T21:20:45.605Z"
   },
   {
    "duration": 40,
    "start_time": "2024-10-06T21:20:45.611Z"
   },
   {
    "duration": 8,
    "start_time": "2024-10-06T21:20:45.653Z"
   },
   {
    "duration": 8,
    "start_time": "2024-10-06T21:20:45.663Z"
   },
   {
    "duration": 273,
    "start_time": "2024-10-06T21:20:45.674Z"
   },
   {
    "duration": 0,
    "start_time": "2024-10-06T21:20:45.949Z"
   },
   {
    "duration": 0,
    "start_time": "2024-10-06T21:20:45.950Z"
   },
   {
    "duration": 0,
    "start_time": "2024-10-06T21:20:45.951Z"
   },
   {
    "duration": 0,
    "start_time": "2024-10-06T21:20:45.952Z"
   },
   {
    "duration": 22109,
    "start_time": "2024-10-06T21:21:24.734Z"
   },
   {
    "duration": 0,
    "start_time": "2024-10-06T21:21:46.845Z"
   },
   {
    "duration": 221,
    "start_time": "2024-10-06T21:21:57.049Z"
   },
   {
    "duration": 216,
    "start_time": "2024-10-06T21:22:01.811Z"
   },
   {
    "duration": 204,
    "start_time": "2024-10-06T21:24:27.290Z"
   },
   {
    "duration": 209,
    "start_time": "2024-10-06T21:24:46.412Z"
   },
   {
    "duration": 201,
    "start_time": "2024-10-06T21:28:35.525Z"
   },
   {
    "duration": 121,
    "start_time": "2024-10-06T21:28:44.929Z"
   },
   {
    "duration": 211,
    "start_time": "2024-10-06T21:42:59.760Z"
   },
   {
    "duration": 333,
    "start_time": "2024-10-07T02:51:13.852Z"
   },
   {
    "duration": 1043,
    "start_time": "2024-10-07T02:51:14.187Z"
   },
   {
    "duration": 11,
    "start_time": "2024-10-07T02:51:15.231Z"
   },
   {
    "duration": 10,
    "start_time": "2024-10-07T02:51:15.244Z"
   },
   {
    "duration": 9,
    "start_time": "2024-10-07T02:51:15.256Z"
   },
   {
    "duration": 8,
    "start_time": "2024-10-07T02:51:15.267Z"
   },
   {
    "duration": 56,
    "start_time": "2024-10-07T02:51:15.277Z"
   },
   {
    "duration": 96,
    "start_time": "2024-10-07T02:51:15.335Z"
   },
   {
    "duration": 96,
    "start_time": "2024-10-07T02:51:15.434Z"
   },
   {
    "duration": 8,
    "start_time": "2024-10-07T02:51:15.534Z"
   },
   {
    "duration": 113,
    "start_time": "2024-10-07T02:51:15.543Z"
   },
   {
    "duration": 96,
    "start_time": "2024-10-07T02:51:15.658Z"
   },
   {
    "duration": 26,
    "start_time": "2024-10-07T02:51:15.755Z"
   },
   {
    "duration": 27,
    "start_time": "2024-10-07T02:51:15.782Z"
   },
   {
    "duration": 3,
    "start_time": "2024-10-07T02:51:15.811Z"
   },
   {
    "duration": 20,
    "start_time": "2024-10-07T02:51:15.816Z"
   },
   {
    "duration": 32,
    "start_time": "2024-10-07T02:51:15.837Z"
   },
   {
    "duration": 4,
    "start_time": "2024-10-07T02:51:15.870Z"
   },
   {
    "duration": 3,
    "start_time": "2024-10-07T02:51:15.876Z"
   },
   {
    "duration": 31,
    "start_time": "2024-10-07T02:51:15.881Z"
   },
   {
    "duration": 3,
    "start_time": "2024-10-07T02:51:15.914Z"
   },
   {
    "duration": 760,
    "start_time": "2024-10-07T02:51:15.919Z"
   },
   {
    "duration": 699,
    "start_time": "2024-10-07T02:51:16.681Z"
   },
   {
    "duration": 5,
    "start_time": "2024-10-07T02:51:17.382Z"
   },
   {
    "duration": 25,
    "start_time": "2024-10-07T02:51:17.389Z"
   },
   {
    "duration": 13,
    "start_time": "2024-10-07T02:51:17.419Z"
   },
   {
    "duration": 6,
    "start_time": "2024-10-07T02:51:17.435Z"
   },
   {
    "duration": 8,
    "start_time": "2024-10-07T02:51:17.447Z"
   },
   {
    "duration": 5,
    "start_time": "2024-10-07T02:51:17.456Z"
   },
   {
    "duration": 5,
    "start_time": "2024-10-07T02:51:17.462Z"
   },
   {
    "duration": 44,
    "start_time": "2024-10-07T02:51:17.468Z"
   },
   {
    "duration": 9,
    "start_time": "2024-10-07T02:51:17.514Z"
   },
   {
    "duration": 32,
    "start_time": "2024-10-07T02:51:17.525Z"
   },
   {
    "duration": 5,
    "start_time": "2024-10-07T02:51:17.559Z"
   },
   {
    "duration": 5,
    "start_time": "2024-10-07T02:51:17.567Z"
   },
   {
    "duration": 75,
    "start_time": "2024-10-07T02:51:17.573Z"
   },
   {
    "duration": 7,
    "start_time": "2024-10-07T02:51:17.649Z"
   },
   {
    "duration": 6,
    "start_time": "2024-10-07T02:51:17.657Z"
   },
   {
    "duration": 2158,
    "start_time": "2024-10-07T02:51:17.665Z"
   },
   {
    "duration": 120,
    "start_time": "2024-10-07T02:51:19.825Z"
   },
   {
    "duration": 21768,
    "start_time": "2024-10-07T02:51:19.948Z"
   },
   {
    "duration": 228,
    "start_time": "2024-10-07T02:51:41.718Z"
   },
   {
    "duration": 400,
    "start_time": "2024-10-07T02:51:41.947Z"
   },
   {
    "duration": 249,
    "start_time": "2024-10-07T02:52:55.026Z"
   },
   {
    "duration": 30,
    "start_time": "2024-10-07T03:15:45.285Z"
   },
   {
    "duration": 45,
    "start_time": "2024-10-07T03:20:40.078Z"
   },
   {
    "duration": 36,
    "start_time": "2024-10-07T03:28:27.467Z"
   },
   {
    "duration": 30,
    "start_time": "2024-10-07T03:35:06.501Z"
   },
   {
    "duration": 55,
    "start_time": "2024-10-07T03:36:13.938Z"
   },
   {
    "duration": 73,
    "start_time": "2024-10-07T03:36:44.331Z"
   },
   {
    "duration": 45,
    "start_time": "2024-10-07T03:38:30.609Z"
   },
   {
    "duration": 47,
    "start_time": "2024-10-07T03:39:31.011Z"
   },
   {
    "duration": 46,
    "start_time": "2024-10-07T03:40:17.021Z"
   },
   {
    "duration": 46,
    "start_time": "2024-10-07T03:43:00.483Z"
   },
   {
    "duration": 109,
    "start_time": "2024-10-07T03:51:01.256Z"
   },
   {
    "duration": 6,
    "start_time": "2024-10-07T04:22:28.370Z"
   },
   {
    "duration": 10,
    "start_time": "2024-10-07T04:23:30.333Z"
   },
   {
    "duration": 5,
    "start_time": "2024-10-07T04:24:24.080Z"
   },
   {
    "duration": 5,
    "start_time": "2024-10-07T04:24:39.427Z"
   },
   {
    "duration": 6,
    "start_time": "2024-10-07T04:27:03.388Z"
   },
   {
    "duration": 4,
    "start_time": "2024-10-07T04:27:23.356Z"
   },
   {
    "duration": 392,
    "start_time": "2024-10-07T04:28:02.809Z"
   },
   {
    "duration": 364,
    "start_time": "2024-10-07T04:46:05.103Z"
   },
   {
    "duration": 98,
    "start_time": "2024-10-07T04:51:16.222Z"
   },
   {
    "duration": 44,
    "start_time": "2024-10-07T04:57:24.383Z"
   },
   {
    "duration": 15,
    "start_time": "2024-10-07T05:06:55.658Z"
   },
   {
    "duration": 17,
    "start_time": "2024-10-07T05:07:19.567Z"
   },
   {
    "duration": 2257,
    "start_time": "2024-10-07T05:14:00.468Z"
   },
   {
    "duration": 2073,
    "start_time": "2024-10-07T05:17:13.552Z"
   },
   {
    "duration": 158,
    "start_time": "2024-10-07T17:51:21.777Z"
   },
   {
    "duration": 0,
    "start_time": "2024-10-07T17:51:21.936Z"
   },
   {
    "duration": 282,
    "start_time": "2024-10-07T17:51:44.003Z"
   },
   {
    "duration": 1054,
    "start_time": "2024-10-07T17:51:44.287Z"
   },
   {
    "duration": 10,
    "start_time": "2024-10-07T17:51:45.343Z"
   },
   {
    "duration": 9,
    "start_time": "2024-10-07T17:51:45.355Z"
   },
   {
    "duration": 8,
    "start_time": "2024-10-07T17:51:45.366Z"
   },
   {
    "duration": 7,
    "start_time": "2024-10-07T17:51:45.376Z"
   },
   {
    "duration": 25,
    "start_time": "2024-10-07T17:51:45.414Z"
   },
   {
    "duration": 100,
    "start_time": "2024-10-07T17:51:45.441Z"
   },
   {
    "duration": 102,
    "start_time": "2024-10-07T17:51:45.543Z"
   },
   {
    "duration": 8,
    "start_time": "2024-10-07T17:51:45.647Z"
   },
   {
    "duration": 112,
    "start_time": "2024-10-07T17:51:45.657Z"
   },
   {
    "duration": 102,
    "start_time": "2024-10-07T17:51:45.771Z"
   },
   {
    "duration": 25,
    "start_time": "2024-10-07T17:51:45.875Z"
   },
   {
    "duration": 12,
    "start_time": "2024-10-07T17:51:45.913Z"
   },
   {
    "duration": 3,
    "start_time": "2024-10-07T17:51:45.927Z"
   },
   {
    "duration": 18,
    "start_time": "2024-10-07T17:51:45.932Z"
   },
   {
    "duration": 28,
    "start_time": "2024-10-07T17:51:45.952Z"
   },
   {
    "duration": 37,
    "start_time": "2024-10-07T17:51:45.982Z"
   },
   {
    "duration": 4,
    "start_time": "2024-10-07T17:51:46.022Z"
   },
   {
    "duration": 4,
    "start_time": "2024-10-07T17:51:46.027Z"
   },
   {
    "duration": 3,
    "start_time": "2024-10-07T17:51:46.033Z"
   },
   {
    "duration": 808,
    "start_time": "2024-10-07T17:51:46.038Z"
   },
   {
    "duration": 706,
    "start_time": "2024-10-07T17:51:46.848Z"
   },
   {
    "duration": 4,
    "start_time": "2024-10-07T17:51:47.556Z"
   },
   {
    "duration": 8,
    "start_time": "2024-10-07T17:51:47.562Z"
   },
   {
    "duration": 8,
    "start_time": "2024-10-07T17:51:47.571Z"
   },
   {
    "duration": 30,
    "start_time": "2024-10-07T17:51:47.581Z"
   },
   {
    "duration": 9,
    "start_time": "2024-10-07T17:51:47.615Z"
   },
   {
    "duration": 5,
    "start_time": "2024-10-07T17:51:47.625Z"
   },
   {
    "duration": 5,
    "start_time": "2024-10-07T17:51:47.632Z"
   },
   {
    "duration": 18,
    "start_time": "2024-10-07T17:51:47.639Z"
   },
   {
    "duration": 8,
    "start_time": "2024-10-07T17:51:47.658Z"
   },
   {
    "duration": 71,
    "start_time": "2024-10-07T17:51:47.668Z"
   },
   {
    "duration": 5,
    "start_time": "2024-10-07T17:51:47.741Z"
   },
   {
    "duration": 4,
    "start_time": "2024-10-07T17:51:47.748Z"
   },
   {
    "duration": 63,
    "start_time": "2024-10-07T17:51:47.753Z"
   },
   {
    "duration": 36,
    "start_time": "2024-10-07T17:51:47.818Z"
   },
   {
    "duration": 7,
    "start_time": "2024-10-07T17:51:47.856Z"
   },
   {
    "duration": 2270,
    "start_time": "2024-10-07T17:51:47.865Z"
   },
   {
    "duration": 122,
    "start_time": "2024-10-07T17:51:50.137Z"
   },
   {
    "duration": 22152,
    "start_time": "2024-10-07T17:51:50.264Z"
   },
   {
    "duration": 233,
    "start_time": "2024-10-07T17:52:12.418Z"
   },
   {
    "duration": 208,
    "start_time": "2024-10-07T17:52:12.653Z"
   },
   {
    "duration": 49,
    "start_time": "2024-10-07T17:52:12.863Z"
   },
   {
    "duration": 115,
    "start_time": "2024-10-07T17:52:12.914Z"
   },
   {
    "duration": 393,
    "start_time": "2024-10-07T17:52:13.032Z"
   },
   {
    "duration": 2239,
    "start_time": "2024-10-07T17:52:13.427Z"
   },
   {
    "duration": 7,
    "start_time": "2024-10-07T17:53:52.877Z"
   },
   {
    "duration": 32,
    "start_time": "2024-10-07T18:02:21.330Z"
   },
   {
    "duration": 16,
    "start_time": "2024-10-07T18:03:43.143Z"
   },
   {
    "duration": 19,
    "start_time": "2024-10-07T18:06:52.341Z"
   },
   {
    "duration": 9,
    "start_time": "2024-10-07T18:07:14.629Z"
   },
   {
    "duration": 2,
    "start_time": "2024-10-07T18:09:08.192Z"
   },
   {
    "duration": 812,
    "start_time": "2024-10-07T18:09:08.198Z"
   },
   {
    "duration": 10,
    "start_time": "2024-10-07T18:09:09.012Z"
   },
   {
    "duration": 10,
    "start_time": "2024-10-07T18:09:09.024Z"
   },
   {
    "duration": 8,
    "start_time": "2024-10-07T18:09:09.035Z"
   },
   {
    "duration": 7,
    "start_time": "2024-10-07T18:09:09.046Z"
   },
   {
    "duration": 19,
    "start_time": "2024-10-07T18:09:09.055Z"
   },
   {
    "duration": 107,
    "start_time": "2024-10-07T18:09:09.076Z"
   },
   {
    "duration": 90,
    "start_time": "2024-10-07T18:09:09.185Z"
   },
   {
    "duration": 9,
    "start_time": "2024-10-07T18:09:09.276Z"
   },
   {
    "duration": 91,
    "start_time": "2024-10-07T18:09:09.287Z"
   },
   {
    "duration": 84,
    "start_time": "2024-10-07T18:09:09.380Z"
   },
   {
    "duration": 21,
    "start_time": "2024-10-07T18:09:09.466Z"
   },
   {
    "duration": 30,
    "start_time": "2024-10-07T18:09:09.489Z"
   },
   {
    "duration": 4,
    "start_time": "2024-10-07T18:09:09.523Z"
   },
   {
    "duration": 19,
    "start_time": "2024-10-07T18:09:09.529Z"
   },
   {
    "duration": 32,
    "start_time": "2024-10-07T18:09:09.549Z"
   },
   {
    "duration": 3,
    "start_time": "2024-10-07T18:09:09.583Z"
   },
   {
    "duration": 26,
    "start_time": "2024-10-07T18:09:09.588Z"
   },
   {
    "duration": 4,
    "start_time": "2024-10-07T18:09:09.616Z"
   },
   {
    "duration": 3,
    "start_time": "2024-10-07T18:09:09.622Z"
   },
   {
    "duration": 793,
    "start_time": "2024-10-07T18:09:09.627Z"
   },
   {
    "duration": 672,
    "start_time": "2024-10-07T18:09:10.422Z"
   },
   {
    "duration": 5,
    "start_time": "2024-10-07T18:09:11.096Z"
   },
   {
    "duration": 14,
    "start_time": "2024-10-07T18:09:11.104Z"
   },
   {
    "duration": 8,
    "start_time": "2024-10-07T18:09:11.120Z"
   },
   {
    "duration": 6,
    "start_time": "2024-10-07T18:09:11.130Z"
   },
   {
    "duration": 7,
    "start_time": "2024-10-07T18:09:11.138Z"
   },
   {
    "duration": 3,
    "start_time": "2024-10-07T18:09:11.147Z"
   },
   {
    "duration": 4,
    "start_time": "2024-10-07T18:09:11.152Z"
   },
   {
    "duration": 55,
    "start_time": "2024-10-07T18:09:11.158Z"
   },
   {
    "duration": 8,
    "start_time": "2024-10-07T18:09:11.214Z"
   },
   {
    "duration": 38,
    "start_time": "2024-10-07T18:09:11.223Z"
   },
   {
    "duration": 5,
    "start_time": "2024-10-07T18:09:11.263Z"
   },
   {
    "duration": 5,
    "start_time": "2024-10-07T18:09:11.271Z"
   },
   {
    "duration": 72,
    "start_time": "2024-10-07T18:09:11.277Z"
   },
   {
    "duration": 20,
    "start_time": "2024-10-07T18:09:11.351Z"
   },
   {
    "duration": 6,
    "start_time": "2024-10-07T18:09:11.373Z"
   },
   {
    "duration": 176,
    "start_time": "2024-10-07T18:09:11.380Z"
   },
   {
    "duration": 119,
    "start_time": "2024-10-07T18:09:11.558Z"
   },
   {
    "duration": 168,
    "start_time": "2024-10-07T18:09:11.679Z"
   },
   {
    "duration": 191,
    "start_time": "2024-10-07T18:09:11.852Z"
   },
   {
    "duration": 110,
    "start_time": "2024-10-07T18:09:12.046Z"
   },
   {
    "duration": 55,
    "start_time": "2024-10-07T18:09:12.157Z"
   },
   {
    "duration": 102,
    "start_time": "2024-10-07T18:09:12.213Z"
   },
   {
    "duration": 409,
    "start_time": "2024-10-07T18:09:12.317Z"
   },
   {
    "duration": 251,
    "start_time": "2024-10-07T18:09:12.728Z"
   },
   {
    "duration": 7,
    "start_time": "2024-10-07T18:15:14.560Z"
   },
   {
    "duration": 2,
    "start_time": "2024-10-07T18:16:25.076Z"
   },
   {
    "duration": 784,
    "start_time": "2024-10-07T18:16:25.082Z"
   },
   {
    "duration": 11,
    "start_time": "2024-10-07T18:16:25.868Z"
   },
   {
    "duration": 10,
    "start_time": "2024-10-07T18:16:25.880Z"
   },
   {
    "duration": 21,
    "start_time": "2024-10-07T18:16:25.892Z"
   },
   {
    "duration": 8,
    "start_time": "2024-10-07T18:16:25.916Z"
   },
   {
    "duration": 19,
    "start_time": "2024-10-07T18:16:25.926Z"
   },
   {
    "duration": 92,
    "start_time": "2024-10-07T18:16:25.947Z"
   },
   {
    "duration": 91,
    "start_time": "2024-10-07T18:16:26.041Z"
   },
   {
    "duration": 8,
    "start_time": "2024-10-07T18:16:26.134Z"
   },
   {
    "duration": 87,
    "start_time": "2024-10-07T18:16:26.143Z"
   },
   {
    "duration": 90,
    "start_time": "2024-10-07T18:16:26.232Z"
   },
   {
    "duration": 27,
    "start_time": "2024-10-07T18:16:26.324Z"
   },
   {
    "duration": 13,
    "start_time": "2024-10-07T18:16:26.354Z"
   },
   {
    "duration": 4,
    "start_time": "2024-10-07T18:16:26.371Z"
   },
   {
    "duration": 46,
    "start_time": "2024-10-07T18:16:26.376Z"
   },
   {
    "duration": 32,
    "start_time": "2024-10-07T18:16:26.424Z"
   },
   {
    "duration": 4,
    "start_time": "2024-10-07T18:16:26.458Z"
   },
   {
    "duration": 4,
    "start_time": "2024-10-07T18:16:26.463Z"
   },
   {
    "duration": 4,
    "start_time": "2024-10-07T18:16:26.469Z"
   },
   {
    "duration": 3,
    "start_time": "2024-10-07T18:16:26.475Z"
   },
   {
    "duration": 748,
    "start_time": "2024-10-07T18:16:26.480Z"
   },
   {
    "duration": 652,
    "start_time": "2024-10-07T18:16:27.229Z"
   },
   {
    "duration": 7,
    "start_time": "2024-10-07T18:16:27.883Z"
   },
   {
    "duration": 21,
    "start_time": "2024-10-07T18:16:27.892Z"
   },
   {
    "duration": 9,
    "start_time": "2024-10-07T18:16:27.915Z"
   },
   {
    "duration": 6,
    "start_time": "2024-10-07T18:16:27.926Z"
   },
   {
    "duration": 8,
    "start_time": "2024-10-07T18:16:27.935Z"
   },
   {
    "duration": 3,
    "start_time": "2024-10-07T18:16:27.945Z"
   },
   {
    "duration": 4,
    "start_time": "2024-10-07T18:16:27.950Z"
   },
   {
    "duration": 8,
    "start_time": "2024-10-07T18:16:27.956Z"
   },
   {
    "duration": 48,
    "start_time": "2024-10-07T18:16:27.966Z"
   },
   {
    "duration": 34,
    "start_time": "2024-10-07T18:16:28.015Z"
   },
   {
    "duration": 5,
    "start_time": "2024-10-07T18:16:28.051Z"
   },
   {
    "duration": 5,
    "start_time": "2024-10-07T18:16:28.057Z"
   },
   {
    "duration": 68,
    "start_time": "2024-10-07T18:16:28.063Z"
   },
   {
    "duration": 45,
    "start_time": "2024-10-07T18:16:28.133Z"
   },
   {
    "duration": 7,
    "start_time": "2024-10-07T18:16:28.180Z"
   },
   {
    "duration": 257,
    "start_time": "2024-10-07T18:16:28.189Z"
   },
   {
    "duration": 126,
    "start_time": "2024-10-07T18:16:28.448Z"
   },
   {
    "duration": 22860,
    "start_time": "2024-10-07T18:16:28.576Z"
   },
   {
    "duration": 230,
    "start_time": "2024-10-07T18:16:51.441Z"
   },
   {
    "duration": 212,
    "start_time": "2024-10-07T18:16:51.673Z"
   },
   {
    "duration": 60,
    "start_time": "2024-10-07T18:16:51.886Z"
   },
   {
    "duration": 125,
    "start_time": "2024-10-07T18:16:51.948Z"
   },
   {
    "duration": 402,
    "start_time": "2024-10-07T18:16:52.075Z"
   },
   {
    "duration": 2151,
    "start_time": "2024-10-07T18:16:52.478Z"
   },
   {
    "duration": 49,
    "start_time": "2024-10-07T18:18:26.220Z"
   },
   {
    "duration": 92,
    "start_time": "2024-10-07T18:18:56.502Z"
   },
   {
    "duration": 192,
    "start_time": "2024-10-07T18:31:02.756Z"
   },
   {
    "duration": 333,
    "start_time": "2024-10-07T18:47:17.595Z"
   },
   {
    "duration": 84,
    "start_time": "2024-10-07T18:49:13.785Z"
   },
   {
    "duration": 38,
    "start_time": "2024-10-07T18:49:57.261Z"
   },
   {
    "duration": 2,
    "start_time": "2024-10-07T18:57:22.918Z"
   },
   {
    "duration": 878,
    "start_time": "2024-10-07T18:57:22.928Z"
   },
   {
    "duration": 10,
    "start_time": "2024-10-07T18:57:23.811Z"
   },
   {
    "duration": 10,
    "start_time": "2024-10-07T18:57:23.824Z"
   },
   {
    "duration": 7,
    "start_time": "2024-10-07T18:57:23.836Z"
   },
   {
    "duration": 7,
    "start_time": "2024-10-07T18:57:23.846Z"
   },
   {
    "duration": 21,
    "start_time": "2024-10-07T18:57:23.854Z"
   },
   {
    "duration": 102,
    "start_time": "2024-10-07T18:57:23.877Z"
   },
   {
    "duration": 89,
    "start_time": "2024-10-07T18:57:23.981Z"
   },
   {
    "duration": 7,
    "start_time": "2024-10-07T18:57:24.072Z"
   },
   {
    "duration": 90,
    "start_time": "2024-10-07T18:57:24.081Z"
   },
   {
    "duration": 98,
    "start_time": "2024-10-07T18:57:24.173Z"
   },
   {
    "duration": 22,
    "start_time": "2024-10-07T18:57:24.274Z"
   },
   {
    "duration": 29,
    "start_time": "2024-10-07T18:57:24.299Z"
   },
   {
    "duration": 4,
    "start_time": "2024-10-07T18:57:24.333Z"
   },
   {
    "duration": 19,
    "start_time": "2024-10-07T18:57:24.339Z"
   },
   {
    "duration": 52,
    "start_time": "2024-10-07T18:57:24.360Z"
   },
   {
    "duration": 4,
    "start_time": "2024-10-07T18:57:24.413Z"
   },
   {
    "duration": 3,
    "start_time": "2024-10-07T18:57:24.419Z"
   },
   {
    "duration": 3,
    "start_time": "2024-10-07T18:57:24.424Z"
   },
   {
    "duration": 4,
    "start_time": "2024-10-07T18:57:24.429Z"
   },
   {
    "duration": 755,
    "start_time": "2024-10-07T18:57:24.434Z"
   },
   {
    "duration": 657,
    "start_time": "2024-10-07T18:57:25.191Z"
   },
   {
    "duration": 6,
    "start_time": "2024-10-07T18:57:25.851Z"
   },
   {
    "duration": 11,
    "start_time": "2024-10-07T18:57:25.859Z"
   },
   {
    "duration": 12,
    "start_time": "2024-10-07T18:57:25.871Z"
   },
   {
    "duration": 33,
    "start_time": "2024-10-07T18:57:25.885Z"
   },
   {
    "duration": 9,
    "start_time": "2024-10-07T18:57:25.921Z"
   },
   {
    "duration": 5,
    "start_time": "2024-10-07T18:57:25.932Z"
   },
   {
    "duration": 4,
    "start_time": "2024-10-07T18:57:25.939Z"
   },
   {
    "duration": 9,
    "start_time": "2024-10-07T18:57:25.945Z"
   },
   {
    "duration": 8,
    "start_time": "2024-10-07T18:57:25.955Z"
   },
   {
    "duration": 86,
    "start_time": "2024-10-07T18:57:25.965Z"
   },
   {
    "duration": 6,
    "start_time": "2024-10-07T18:57:26.053Z"
   },
   {
    "duration": 6,
    "start_time": "2024-10-07T18:57:26.061Z"
   },
   {
    "duration": 65,
    "start_time": "2024-10-07T18:57:26.069Z"
   },
   {
    "duration": 7,
    "start_time": "2024-10-07T18:57:26.136Z"
   },
   {
    "duration": 8,
    "start_time": "2024-10-07T18:57:26.145Z"
   },
   {
    "duration": 284,
    "start_time": "2024-10-07T18:57:26.155Z"
   },
   {
    "duration": 124,
    "start_time": "2024-10-07T18:57:26.441Z"
   },
   {
    "duration": 24303,
    "start_time": "2024-10-07T18:57:26.567Z"
   },
   {
    "duration": 258,
    "start_time": "2024-10-07T18:57:50.877Z"
   },
   {
    "duration": 212,
    "start_time": "2024-10-07T18:57:51.137Z"
   },
   {
    "duration": 60,
    "start_time": "2024-10-07T18:57:51.352Z"
   },
   {
    "duration": 112,
    "start_time": "2024-10-07T18:57:51.414Z"
   },
   {
    "duration": 429,
    "start_time": "2024-10-07T18:57:51.528Z"
   },
   {
    "duration": 2109,
    "start_time": "2024-10-07T18:57:51.960Z"
   },
   {
    "duration": 186,
    "start_time": "2024-10-07T18:57:54.071Z"
   },
   {
    "duration": 53,
    "start_time": "2024-10-07T18:57:54.260Z"
   },
   {
    "duration": 0,
    "start_time": "2024-10-07T18:57:54.315Z"
   },
   {
    "duration": 3,
    "start_time": "2024-10-07T18:58:08.336Z"
   },
   {
    "duration": 776,
    "start_time": "2024-10-07T18:58:08.343Z"
   },
   {
    "duration": 11,
    "start_time": "2024-10-07T18:58:09.121Z"
   },
   {
    "duration": 16,
    "start_time": "2024-10-07T18:58:09.134Z"
   },
   {
    "duration": 9,
    "start_time": "2024-10-07T18:58:09.152Z"
   },
   {
    "duration": 13,
    "start_time": "2024-10-07T18:58:09.166Z"
   },
   {
    "duration": 57,
    "start_time": "2024-10-07T18:58:09.181Z"
   },
   {
    "duration": 77,
    "start_time": "2024-10-07T18:58:09.240Z"
   },
   {
    "duration": 77,
    "start_time": "2024-10-07T18:58:09.319Z"
   },
   {
    "duration": 20,
    "start_time": "2024-10-07T18:58:09.398Z"
   },
   {
    "duration": 72,
    "start_time": "2024-10-07T18:58:09.420Z"
   },
   {
    "duration": 77,
    "start_time": "2024-10-07T18:58:09.494Z"
   },
   {
    "duration": 39,
    "start_time": "2024-10-07T18:58:09.573Z"
   },
   {
    "duration": 26,
    "start_time": "2024-10-07T18:58:09.614Z"
   },
   {
    "duration": 4,
    "start_time": "2024-10-07T18:58:09.645Z"
   },
   {
    "duration": 33,
    "start_time": "2024-10-07T18:58:09.651Z"
   },
   {
    "duration": 54,
    "start_time": "2024-10-07T18:58:09.685Z"
   },
   {
    "duration": 4,
    "start_time": "2024-10-07T18:58:09.741Z"
   },
   {
    "duration": 4,
    "start_time": "2024-10-07T18:58:09.746Z"
   },
   {
    "duration": 4,
    "start_time": "2024-10-07T18:58:09.751Z"
   },
   {
    "duration": 4,
    "start_time": "2024-10-07T18:58:09.757Z"
   },
   {
    "duration": 753,
    "start_time": "2024-10-07T18:58:09.762Z"
   },
   {
    "duration": 756,
    "start_time": "2024-10-07T18:58:10.518Z"
   },
   {
    "duration": 26,
    "start_time": "2024-10-07T18:58:11.276Z"
   },
   {
    "duration": 22,
    "start_time": "2024-10-07T18:58:11.304Z"
   },
   {
    "duration": 18,
    "start_time": "2024-10-07T18:58:11.328Z"
   },
   {
    "duration": 7,
    "start_time": "2024-10-07T18:58:11.348Z"
   },
   {
    "duration": 17,
    "start_time": "2024-10-07T18:58:11.357Z"
   },
   {
    "duration": 5,
    "start_time": "2024-10-07T18:58:11.376Z"
   },
   {
    "duration": 30,
    "start_time": "2024-10-07T18:58:11.383Z"
   },
   {
    "duration": 27,
    "start_time": "2024-10-07T18:58:11.416Z"
   },
   {
    "duration": 30,
    "start_time": "2024-10-07T18:58:11.445Z"
   },
   {
    "duration": 38,
    "start_time": "2024-10-07T18:58:11.477Z"
   },
   {
    "duration": 10,
    "start_time": "2024-10-07T18:58:11.518Z"
   },
   {
    "duration": 6,
    "start_time": "2024-10-07T18:58:11.532Z"
   },
   {
    "duration": 42,
    "start_time": "2024-10-07T18:58:11.540Z"
   },
   {
    "duration": 31,
    "start_time": "2024-10-07T18:58:11.584Z"
   },
   {
    "duration": 7,
    "start_time": "2024-10-07T18:58:11.619Z"
   },
   {
    "duration": 273,
    "start_time": "2024-10-07T18:58:11.628Z"
   },
   {
    "duration": 148,
    "start_time": "2024-10-07T18:58:11.903Z"
   },
   {
    "duration": 23863,
    "start_time": "2024-10-07T18:58:12.053Z"
   },
   {
    "duration": 228,
    "start_time": "2024-10-07T18:58:35.921Z"
   },
   {
    "duration": 212,
    "start_time": "2024-10-07T18:58:36.151Z"
   },
   {
    "duration": 66,
    "start_time": "2024-10-07T18:58:36.365Z"
   },
   {
    "duration": 115,
    "start_time": "2024-10-07T18:58:36.433Z"
   },
   {
    "duration": 445,
    "start_time": "2024-10-07T18:58:36.550Z"
   },
   {
    "duration": 2148,
    "start_time": "2024-10-07T18:58:36.998Z"
   },
   {
    "duration": 185,
    "start_time": "2024-10-07T18:58:39.147Z"
   },
   {
    "duration": 43,
    "start_time": "2024-10-07T18:58:39.335Z"
   },
   {
    "duration": 0,
    "start_time": "2024-10-07T18:58:39.380Z"
   },
   {
    "duration": 185,
    "start_time": "2024-10-07T23:10:15.029Z"
   },
   {
    "duration": 329,
    "start_time": "2024-10-07T23:10:22.476Z"
   },
   {
    "duration": 1067,
    "start_time": "2024-10-07T23:10:22.807Z"
   },
   {
    "duration": 11,
    "start_time": "2024-10-07T23:10:23.875Z"
   },
   {
    "duration": 9,
    "start_time": "2024-10-07T23:10:23.888Z"
   },
   {
    "duration": 8,
    "start_time": "2024-10-07T23:10:23.900Z"
   },
   {
    "duration": 32,
    "start_time": "2024-10-07T23:10:23.910Z"
   },
   {
    "duration": 23,
    "start_time": "2024-10-07T23:10:23.944Z"
   },
   {
    "duration": 99,
    "start_time": "2024-10-07T23:10:23.969Z"
   },
   {
    "duration": 102,
    "start_time": "2024-10-07T23:10:24.069Z"
   },
   {
    "duration": 7,
    "start_time": "2024-10-07T23:10:24.173Z"
   },
   {
    "duration": 106,
    "start_time": "2024-10-07T23:10:24.182Z"
   },
   {
    "duration": 105,
    "start_time": "2024-10-07T23:10:24.289Z"
   },
   {
    "duration": 23,
    "start_time": "2024-10-07T23:10:24.396Z"
   },
   {
    "duration": 28,
    "start_time": "2024-10-07T23:10:24.422Z"
   },
   {
    "duration": 3,
    "start_time": "2024-10-07T23:10:24.452Z"
   },
   {
    "duration": 22,
    "start_time": "2024-10-07T23:10:24.457Z"
   },
   {
    "duration": 30,
    "start_time": "2024-10-07T23:10:24.481Z"
   },
   {
    "duration": 4,
    "start_time": "2024-10-07T23:10:24.513Z"
   },
   {
    "duration": 27,
    "start_time": "2024-10-07T23:10:24.518Z"
   },
   {
    "duration": 4,
    "start_time": "2024-10-07T23:10:24.547Z"
   },
   {
    "duration": 3,
    "start_time": "2024-10-07T23:10:24.553Z"
   },
   {
    "duration": 809,
    "start_time": "2024-10-07T23:10:24.558Z"
   },
   {
    "duration": 720,
    "start_time": "2024-10-07T23:10:25.369Z"
   },
   {
    "duration": 6,
    "start_time": "2024-10-07T23:10:26.090Z"
   },
   {
    "duration": 9,
    "start_time": "2024-10-07T23:10:26.097Z"
   },
   {
    "duration": 8,
    "start_time": "2024-10-07T23:10:26.107Z"
   },
   {
    "duration": 27,
    "start_time": "2024-10-07T23:10:26.116Z"
   },
   {
    "duration": 8,
    "start_time": "2024-10-07T23:10:26.145Z"
   },
   {
    "duration": 4,
    "start_time": "2024-10-07T23:10:26.155Z"
   },
   {
    "duration": 4,
    "start_time": "2024-10-07T23:10:26.160Z"
   },
   {
    "duration": 16,
    "start_time": "2024-10-07T23:10:26.166Z"
   },
   {
    "duration": 7,
    "start_time": "2024-10-07T23:10:26.184Z"
   },
   {
    "duration": 74,
    "start_time": "2024-10-07T23:10:26.193Z"
   },
   {
    "duration": 4,
    "start_time": "2024-10-07T23:10:26.269Z"
   },
   {
    "duration": 4,
    "start_time": "2024-10-07T23:10:26.275Z"
   },
   {
    "duration": 64,
    "start_time": "2024-10-07T23:10:26.281Z"
   },
   {
    "duration": 7,
    "start_time": "2024-10-07T23:10:26.346Z"
   },
   {
    "duration": 7,
    "start_time": "2024-10-07T23:10:26.354Z"
   },
   {
    "duration": 2148,
    "start_time": "2024-10-07T23:10:26.362Z"
   },
   {
    "duration": 121,
    "start_time": "2024-10-07T23:10:28.512Z"
   },
   {
    "duration": 22070,
    "start_time": "2024-10-07T23:10:28.642Z"
   },
   {
    "duration": 236,
    "start_time": "2024-10-07T23:10:50.714Z"
   },
   {
    "duration": 212,
    "start_time": "2024-10-07T23:10:50.952Z"
   },
   {
    "duration": 45,
    "start_time": "2024-10-07T23:10:51.166Z"
   },
   {
    "duration": 118,
    "start_time": "2024-10-07T23:10:51.213Z"
   },
   {
    "duration": 413,
    "start_time": "2024-10-07T23:10:51.334Z"
   },
   {
    "duration": 2229,
    "start_time": "2024-10-07T23:10:51.749Z"
   },
   {
    "duration": 166,
    "start_time": "2024-10-07T23:10:53.980Z"
   },
   {
    "duration": 3115,
    "start_time": "2024-10-07T23:10:54.148Z"
   },
   {
    "duration": 0,
    "start_time": "2024-10-07T23:10:57.264Z"
   },
   {
    "duration": 41,
    "start_time": "2024-10-07T23:13:40.702Z"
   },
   {
    "duration": 3219,
    "start_time": "2024-10-07T23:19:15.965Z"
   },
   {
    "duration": 2190,
    "start_time": "2024-10-08T02:34:57.120Z"
   },
   {
    "duration": 119,
    "start_time": "2024-10-08T02:35:20.302Z"
   },
   {
    "duration": 1120,
    "start_time": "2024-10-08T02:35:20.424Z"
   },
   {
    "duration": 11,
    "start_time": "2024-10-08T02:35:21.547Z"
   },
   {
    "duration": 9,
    "start_time": "2024-10-08T02:35:21.560Z"
   },
   {
    "duration": 8,
    "start_time": "2024-10-08T02:35:21.571Z"
   },
   {
    "duration": 9,
    "start_time": "2024-10-08T02:35:21.580Z"
   },
   {
    "duration": 52,
    "start_time": "2024-10-08T02:35:21.591Z"
   },
   {
    "duration": 90,
    "start_time": "2024-10-08T02:35:21.645Z"
   },
   {
    "duration": 100,
    "start_time": "2024-10-08T02:35:21.743Z"
   },
   {
    "duration": 8,
    "start_time": "2024-10-08T02:35:21.845Z"
   },
   {
    "duration": 110,
    "start_time": "2024-10-08T02:35:21.855Z"
   },
   {
    "duration": 106,
    "start_time": "2024-10-08T02:35:21.967Z"
   },
   {
    "duration": 25,
    "start_time": "2024-10-08T02:35:22.076Z"
   },
   {
    "duration": 12,
    "start_time": "2024-10-08T02:35:22.105Z"
   },
   {
    "duration": 24,
    "start_time": "2024-10-08T02:35:22.119Z"
   },
   {
    "duration": 19,
    "start_time": "2024-10-08T02:35:22.145Z"
   },
   {
    "duration": 29,
    "start_time": "2024-10-08T02:35:22.166Z"
   },
   {
    "duration": 4,
    "start_time": "2024-10-08T02:35:22.196Z"
   },
   {
    "duration": 3,
    "start_time": "2024-10-08T02:35:22.202Z"
   },
   {
    "duration": 4,
    "start_time": "2024-10-08T02:35:22.207Z"
   },
   {
    "duration": 3,
    "start_time": "2024-10-08T02:35:22.244Z"
   },
   {
    "duration": 845,
    "start_time": "2024-10-08T02:35:22.249Z"
   },
   {
    "duration": 712,
    "start_time": "2024-10-08T02:35:23.096Z"
   },
   {
    "duration": 5,
    "start_time": "2024-10-08T02:35:23.809Z"
   },
   {
    "duration": 8,
    "start_time": "2024-10-08T02:35:23.817Z"
   },
   {
    "duration": 8,
    "start_time": "2024-10-08T02:35:23.843Z"
   },
   {
    "duration": 5,
    "start_time": "2024-10-08T02:35:23.853Z"
   },
   {
    "duration": 8,
    "start_time": "2024-10-08T02:35:23.860Z"
   },
   {
    "duration": 4,
    "start_time": "2024-10-08T02:35:23.870Z"
   },
   {
    "duration": 4,
    "start_time": "2024-10-08T02:35:23.876Z"
   },
   {
    "duration": 16,
    "start_time": "2024-10-08T02:35:23.882Z"
   },
   {
    "duration": 46,
    "start_time": "2024-10-08T02:35:23.900Z"
   },
   {
    "duration": 32,
    "start_time": "2024-10-08T02:35:23.948Z"
   },
   {
    "duration": 5,
    "start_time": "2024-10-08T02:35:23.982Z"
   },
   {
    "duration": 4,
    "start_time": "2024-10-08T02:35:23.989Z"
   },
   {
    "duration": 70,
    "start_time": "2024-10-08T02:35:23.995Z"
   },
   {
    "duration": 7,
    "start_time": "2024-10-08T02:35:24.067Z"
   },
   {
    "duration": 7,
    "start_time": "2024-10-08T02:35:24.075Z"
   },
   {
    "duration": 294,
    "start_time": "2024-10-08T02:35:24.084Z"
   },
   {
    "duration": 119,
    "start_time": "2024-10-08T02:35:24.380Z"
   },
   {
    "duration": 21414,
    "start_time": "2024-10-08T02:35:24.507Z"
   },
   {
    "duration": 221,
    "start_time": "2024-10-08T02:35:45.923Z"
   },
   {
    "duration": 167,
    "start_time": "2024-10-08T02:35:46.146Z"
   },
   {
    "duration": 51,
    "start_time": "2024-10-08T02:35:46.315Z"
   },
   {
    "duration": 108,
    "start_time": "2024-10-08T02:35:46.368Z"
   },
   {
    "duration": 413,
    "start_time": "2024-10-08T02:35:46.478Z"
   },
   {
    "duration": 1720,
    "start_time": "2024-10-08T02:35:46.893Z"
   },
   {
    "duration": 162,
    "start_time": "2024-10-08T02:35:48.615Z"
   },
   {
    "duration": 3003,
    "start_time": "2024-10-08T02:35:48.778Z"
   },
   {
    "duration": 40,
    "start_time": "2024-10-08T02:35:51.783Z"
   },
   {
    "duration": 282,
    "start_time": "2024-10-08T02:38:35.058Z"
   },
   {
    "duration": 243,
    "start_time": "2024-10-08T02:38:58.000Z"
   },
   {
    "duration": 39,
    "start_time": "2024-10-08T02:47:02.289Z"
   },
   {
    "duration": 109,
    "start_time": "2024-10-08T02:47:33.039Z"
   },
   {
    "duration": 103,
    "start_time": "2024-10-08T02:48:01.790Z"
   },
   {
    "duration": 104,
    "start_time": "2024-10-08T02:48:24.376Z"
   },
   {
    "duration": 3,
    "start_time": "2024-10-08T02:48:46.197Z"
   },
   {
    "duration": 846,
    "start_time": "2024-10-08T02:48:46.212Z"
   },
   {
    "duration": 10,
    "start_time": "2024-10-08T02:48:47.061Z"
   },
   {
    "duration": 9,
    "start_time": "2024-10-08T02:48:47.072Z"
   },
   {
    "duration": 8,
    "start_time": "2024-10-08T02:48:47.082Z"
   },
   {
    "duration": 8,
    "start_time": "2024-10-08T02:48:47.092Z"
   },
   {
    "duration": 53,
    "start_time": "2024-10-08T02:48:47.101Z"
   },
   {
    "duration": 71,
    "start_time": "2024-10-08T02:48:47.156Z"
   },
   {
    "duration": 93,
    "start_time": "2024-10-08T02:48:47.228Z"
   },
   {
    "duration": 6,
    "start_time": "2024-10-08T02:48:47.323Z"
   },
   {
    "duration": 86,
    "start_time": "2024-10-08T02:48:47.331Z"
   },
   {
    "duration": 89,
    "start_time": "2024-10-08T02:48:47.419Z"
   },
   {
    "duration": 21,
    "start_time": "2024-10-08T02:48:47.510Z"
   },
   {
    "duration": 11,
    "start_time": "2024-10-08T02:48:47.543Z"
   },
   {
    "duration": 3,
    "start_time": "2024-10-08T02:48:47.559Z"
   },
   {
    "duration": 18,
    "start_time": "2024-10-08T02:48:47.564Z"
   },
   {
    "duration": 30,
    "start_time": "2024-10-08T02:48:47.585Z"
   },
   {
    "duration": 29,
    "start_time": "2024-10-08T02:48:47.617Z"
   },
   {
    "duration": 4,
    "start_time": "2024-10-08T02:48:47.647Z"
   },
   {
    "duration": 3,
    "start_time": "2024-10-08T02:48:47.654Z"
   },
   {
    "duration": 3,
    "start_time": "2024-10-08T02:48:47.659Z"
   },
   {
    "duration": 790,
    "start_time": "2024-10-08T02:48:47.664Z"
   },
   {
    "duration": 712,
    "start_time": "2024-10-08T02:48:48.456Z"
   },
   {
    "duration": 6,
    "start_time": "2024-10-08T02:48:49.170Z"
   },
   {
    "duration": 8,
    "start_time": "2024-10-08T02:48:49.178Z"
   },
   {
    "duration": 8,
    "start_time": "2024-10-08T02:48:49.188Z"
   },
   {
    "duration": 6,
    "start_time": "2024-10-08T02:48:49.198Z"
   },
   {
    "duration": 41,
    "start_time": "2024-10-08T02:48:49.205Z"
   },
   {
    "duration": 4,
    "start_time": "2024-10-08T02:48:49.248Z"
   },
   {
    "duration": 4,
    "start_time": "2024-10-08T02:48:49.254Z"
   },
   {
    "duration": 10,
    "start_time": "2024-10-08T02:48:49.260Z"
   },
   {
    "duration": 8,
    "start_time": "2024-10-08T02:48:49.272Z"
   },
   {
    "duration": 66,
    "start_time": "2024-10-08T02:48:49.281Z"
   },
   {
    "duration": 4,
    "start_time": "2024-10-08T02:48:49.349Z"
   },
   {
    "duration": 5,
    "start_time": "2024-10-08T02:48:49.355Z"
   },
   {
    "duration": 45,
    "start_time": "2024-10-08T02:48:49.361Z"
   },
   {
    "duration": 35,
    "start_time": "2024-10-08T02:48:49.408Z"
   },
   {
    "duration": 8,
    "start_time": "2024-10-08T02:48:49.445Z"
   },
   {
    "duration": 323,
    "start_time": "2024-10-08T02:48:49.455Z"
   },
   {
    "duration": 118,
    "start_time": "2024-10-08T02:48:49.780Z"
   },
   {
    "duration": 21570,
    "start_time": "2024-10-08T02:48:49.900Z"
   },
   {
    "duration": 268,
    "start_time": "2024-10-08T02:49:11.476Z"
   },
   {
    "duration": 170,
    "start_time": "2024-10-08T02:49:11.746Z"
   },
   {
    "duration": 72,
    "start_time": "2024-10-08T02:49:11.919Z"
   },
   {
    "duration": 110,
    "start_time": "2024-10-08T02:49:11.994Z"
   },
   {
    "duration": 418,
    "start_time": "2024-10-08T02:49:12.106Z"
   },
   {
    "duration": 1653,
    "start_time": "2024-10-08T02:49:12.526Z"
   },
   {
    "duration": 166,
    "start_time": "2024-10-08T02:49:14.180Z"
   },
   {
    "duration": 2889,
    "start_time": "2024-10-08T02:49:14.348Z"
   },
   {
    "duration": 40,
    "start_time": "2024-10-08T02:49:17.244Z"
   },
   {
    "duration": 7,
    "start_time": "2024-10-08T17:16:16.514Z"
   },
   {
    "duration": 325,
    "start_time": "2024-10-08T20:13:30.291Z"
   },
   {
    "duration": 1070,
    "start_time": "2024-10-08T20:13:30.618Z"
   },
   {
    "duration": 13,
    "start_time": "2024-10-08T20:13:31.689Z"
   },
   {
    "duration": 10,
    "start_time": "2024-10-08T20:13:31.703Z"
   },
   {
    "duration": 8,
    "start_time": "2024-10-08T20:13:31.730Z"
   },
   {
    "duration": 8,
    "start_time": "2024-10-08T20:13:31.740Z"
   },
   {
    "duration": 24,
    "start_time": "2024-10-08T20:13:31.750Z"
   },
   {
    "duration": 115,
    "start_time": "2024-10-08T20:13:31.776Z"
   },
   {
    "duration": 132,
    "start_time": "2024-10-08T20:13:31.893Z"
   },
   {
    "duration": 10,
    "start_time": "2024-10-08T20:13:32.027Z"
   },
   {
    "duration": 122,
    "start_time": "2024-10-08T20:13:32.040Z"
   },
   {
    "duration": 104,
    "start_time": "2024-10-08T20:13:32.164Z"
   },
   {
    "duration": 29,
    "start_time": "2024-10-08T20:13:32.269Z"
   },
   {
    "duration": 13,
    "start_time": "2024-10-08T20:13:32.302Z"
   },
   {
    "duration": 16,
    "start_time": "2024-10-08T20:13:32.316Z"
   },
   {
    "duration": 20,
    "start_time": "2024-10-08T20:13:32.334Z"
   },
   {
    "duration": 31,
    "start_time": "2024-10-08T20:13:32.356Z"
   },
   {
    "duration": 3,
    "start_time": "2024-10-08T20:13:32.391Z"
   },
   {
    "duration": 6,
    "start_time": "2024-10-08T20:13:32.396Z"
   },
   {
    "duration": 29,
    "start_time": "2024-10-08T20:13:32.403Z"
   },
   {
    "duration": 4,
    "start_time": "2024-10-08T20:13:32.433Z"
   },
   {
    "duration": 802,
    "start_time": "2024-10-08T20:13:32.439Z"
   },
   {
    "duration": 719,
    "start_time": "2024-10-08T20:13:33.243Z"
   },
   {
    "duration": 5,
    "start_time": "2024-10-08T20:13:33.964Z"
   },
   {
    "duration": 32,
    "start_time": "2024-10-08T20:13:33.971Z"
   },
   {
    "duration": 9,
    "start_time": "2024-10-08T20:13:34.004Z"
   },
   {
    "duration": 6,
    "start_time": "2024-10-08T20:13:34.014Z"
   },
   {
    "duration": 15,
    "start_time": "2024-10-08T20:13:34.021Z"
   },
   {
    "duration": 5,
    "start_time": "2024-10-08T20:13:34.037Z"
   },
   {
    "duration": 201,
    "start_time": "2024-10-08T20:13:34.045Z"
   },
   {
    "duration": 0,
    "start_time": "2024-10-08T20:13:34.249Z"
   },
   {
    "duration": 0,
    "start_time": "2024-10-08T20:13:34.251Z"
   },
   {
    "duration": 0,
    "start_time": "2024-10-08T20:13:34.252Z"
   },
   {
    "duration": 0,
    "start_time": "2024-10-08T20:13:34.254Z"
   },
   {
    "duration": 0,
    "start_time": "2024-10-08T20:13:34.255Z"
   },
   {
    "duration": 0,
    "start_time": "2024-10-08T20:13:34.256Z"
   },
   {
    "duration": 0,
    "start_time": "2024-10-08T20:13:34.257Z"
   },
   {
    "duration": 0,
    "start_time": "2024-10-08T20:13:34.258Z"
   },
   {
    "duration": 0,
    "start_time": "2024-10-08T20:13:34.260Z"
   },
   {
    "duration": 0,
    "start_time": "2024-10-08T20:13:34.261Z"
   },
   {
    "duration": 0,
    "start_time": "2024-10-08T20:13:34.262Z"
   },
   {
    "duration": 0,
    "start_time": "2024-10-08T20:13:34.264Z"
   },
   {
    "duration": 0,
    "start_time": "2024-10-08T20:13:34.265Z"
   },
   {
    "duration": 0,
    "start_time": "2024-10-08T20:13:34.267Z"
   },
   {
    "duration": 0,
    "start_time": "2024-10-08T20:13:34.268Z"
   },
   {
    "duration": 0,
    "start_time": "2024-10-08T20:13:34.269Z"
   },
   {
    "duration": 0,
    "start_time": "2024-10-08T20:13:34.270Z"
   },
   {
    "duration": 0,
    "start_time": "2024-10-08T20:13:34.272Z"
   },
   {
    "duration": 0,
    "start_time": "2024-10-08T20:13:34.273Z"
   },
   {
    "duration": 0,
    "start_time": "2024-10-08T20:13:34.275Z"
   },
   {
    "duration": 2,
    "start_time": "2024-10-08T20:13:43.970Z"
   },
   {
    "duration": 849,
    "start_time": "2024-10-08T20:13:43.974Z"
   },
   {
    "duration": 11,
    "start_time": "2024-10-08T20:13:44.824Z"
   },
   {
    "duration": 10,
    "start_time": "2024-10-08T20:13:44.836Z"
   },
   {
    "duration": 8,
    "start_time": "2024-10-08T20:13:44.848Z"
   },
   {
    "duration": 8,
    "start_time": "2024-10-08T20:13:44.858Z"
   },
   {
    "duration": 21,
    "start_time": "2024-10-08T20:13:44.868Z"
   },
   {
    "duration": 110,
    "start_time": "2024-10-08T20:13:44.891Z"
   },
   {
    "duration": 100,
    "start_time": "2024-10-08T20:13:45.002Z"
   },
   {
    "duration": 7,
    "start_time": "2024-10-08T20:13:45.104Z"
   },
   {
    "duration": 108,
    "start_time": "2024-10-08T20:13:45.113Z"
   },
   {
    "duration": 95,
    "start_time": "2024-10-08T20:13:45.223Z"
   },
   {
    "duration": 30,
    "start_time": "2024-10-08T20:13:45.321Z"
   },
   {
    "duration": 12,
    "start_time": "2024-10-08T20:13:45.353Z"
   },
   {
    "duration": 4,
    "start_time": "2024-10-08T20:13:45.366Z"
   },
   {
    "duration": 19,
    "start_time": "2024-10-08T20:13:45.372Z"
   },
   {
    "duration": 56,
    "start_time": "2024-10-08T20:13:45.393Z"
   },
   {
    "duration": 4,
    "start_time": "2024-10-08T20:13:45.450Z"
   },
   {
    "duration": 3,
    "start_time": "2024-10-08T20:13:45.456Z"
   },
   {
    "duration": 3,
    "start_time": "2024-10-08T20:13:45.461Z"
   },
   {
    "duration": 4,
    "start_time": "2024-10-08T20:13:45.466Z"
   },
   {
    "duration": 821,
    "start_time": "2024-10-08T20:13:45.471Z"
   },
   {
    "duration": 718,
    "start_time": "2024-10-08T20:13:46.294Z"
   },
   {
    "duration": 5,
    "start_time": "2024-10-08T20:13:47.014Z"
   },
   {
    "duration": 13,
    "start_time": "2024-10-08T20:13:47.021Z"
   },
   {
    "duration": 7,
    "start_time": "2024-10-08T20:13:47.036Z"
   },
   {
    "duration": 6,
    "start_time": "2024-10-08T20:13:47.045Z"
   },
   {
    "duration": 8,
    "start_time": "2024-10-08T20:13:47.053Z"
   },
   {
    "duration": 4,
    "start_time": "2024-10-08T20:13:47.062Z"
   },
   {
    "duration": 12,
    "start_time": "2024-10-08T20:13:47.068Z"
   },
   {
    "duration": 0,
    "start_time": "2024-10-08T20:13:47.083Z"
   },
   {
    "duration": 0,
    "start_time": "2024-10-08T20:13:47.084Z"
   },
   {
    "duration": 0,
    "start_time": "2024-10-08T20:13:47.084Z"
   },
   {
    "duration": 0,
    "start_time": "2024-10-08T20:13:47.086Z"
   },
   {
    "duration": 0,
    "start_time": "2024-10-08T20:13:47.087Z"
   },
   {
    "duration": 0,
    "start_time": "2024-10-08T20:13:47.132Z"
   },
   {
    "duration": 0,
    "start_time": "2024-10-08T20:13:47.133Z"
   },
   {
    "duration": 0,
    "start_time": "2024-10-08T20:13:47.135Z"
   },
   {
    "duration": 0,
    "start_time": "2024-10-08T20:13:47.137Z"
   },
   {
    "duration": 0,
    "start_time": "2024-10-08T20:13:47.138Z"
   },
   {
    "duration": 0,
    "start_time": "2024-10-08T20:13:47.140Z"
   },
   {
    "duration": 0,
    "start_time": "2024-10-08T20:13:47.142Z"
   },
   {
    "duration": 0,
    "start_time": "2024-10-08T20:13:47.143Z"
   },
   {
    "duration": 0,
    "start_time": "2024-10-08T20:13:47.145Z"
   },
   {
    "duration": 0,
    "start_time": "2024-10-08T20:13:47.147Z"
   },
   {
    "duration": 0,
    "start_time": "2024-10-08T20:13:47.149Z"
   },
   {
    "duration": 0,
    "start_time": "2024-10-08T20:13:47.150Z"
   },
   {
    "duration": 0,
    "start_time": "2024-10-08T20:13:47.151Z"
   },
   {
    "duration": 0,
    "start_time": "2024-10-08T20:13:47.153Z"
   },
   {
    "duration": 0,
    "start_time": "2024-10-08T20:13:47.155Z"
   },
   {
    "duration": 2,
    "start_time": "2024-10-08T20:14:44.776Z"
   },
   {
    "duration": 838,
    "start_time": "2024-10-08T20:14:44.786Z"
   },
   {
    "duration": 13,
    "start_time": "2024-10-08T20:14:45.626Z"
   },
   {
    "duration": 10,
    "start_time": "2024-10-08T20:14:45.641Z"
   },
   {
    "duration": 8,
    "start_time": "2024-10-08T20:14:45.652Z"
   },
   {
    "duration": 8,
    "start_time": "2024-10-08T20:14:45.661Z"
   },
   {
    "duration": 21,
    "start_time": "2024-10-08T20:14:45.672Z"
   },
   {
    "duration": 113,
    "start_time": "2024-10-08T20:14:45.695Z"
   },
   {
    "duration": 97,
    "start_time": "2024-10-08T20:14:45.809Z"
   },
   {
    "duration": 8,
    "start_time": "2024-10-08T20:14:45.908Z"
   },
   {
    "duration": 115,
    "start_time": "2024-10-08T20:14:45.917Z"
   },
   {
    "duration": 87,
    "start_time": "2024-10-08T20:14:46.034Z"
   },
   {
    "duration": 29,
    "start_time": "2024-10-08T20:14:46.132Z"
   },
   {
    "duration": 14,
    "start_time": "2024-10-08T20:14:46.163Z"
   },
   {
    "duration": 4,
    "start_time": "2024-10-08T20:14:46.181Z"
   },
   {
    "duration": 48,
    "start_time": "2024-10-08T20:14:46.187Z"
   },
   {
    "duration": 35,
    "start_time": "2024-10-08T20:14:46.236Z"
   },
   {
    "duration": 4,
    "start_time": "2024-10-08T20:14:46.273Z"
   },
   {
    "duration": 5,
    "start_time": "2024-10-08T20:14:46.279Z"
   },
   {
    "duration": 4,
    "start_time": "2024-10-08T20:14:46.287Z"
   },
   {
    "duration": 5,
    "start_time": "2024-10-08T20:14:46.293Z"
   },
   {
    "duration": 829,
    "start_time": "2024-10-08T20:14:46.333Z"
   },
   {
    "duration": 715,
    "start_time": "2024-10-08T20:14:47.164Z"
   },
   {
    "duration": 5,
    "start_time": "2024-10-08T20:14:47.882Z"
   },
   {
    "duration": 11,
    "start_time": "2024-10-08T20:14:47.889Z"
   },
   {
    "duration": 9,
    "start_time": "2024-10-08T20:14:47.901Z"
   },
   {
    "duration": 8,
    "start_time": "2024-10-08T20:14:47.932Z"
   },
   {
    "duration": 9,
    "start_time": "2024-10-08T20:14:47.943Z"
   },
   {
    "duration": 5,
    "start_time": "2024-10-08T20:14:47.954Z"
   },
   {
    "duration": 13,
    "start_time": "2024-10-08T20:14:47.961Z"
   },
   {
    "duration": 0,
    "start_time": "2024-10-08T20:14:47.977Z"
   },
   {
    "duration": 0,
    "start_time": "2024-10-08T20:14:47.979Z"
   },
   {
    "duration": 0,
    "start_time": "2024-10-08T20:14:47.980Z"
   },
   {
    "duration": 0,
    "start_time": "2024-10-08T20:14:47.981Z"
   },
   {
    "duration": 0,
    "start_time": "2024-10-08T20:14:47.983Z"
   },
   {
    "duration": 0,
    "start_time": "2024-10-08T20:14:47.984Z"
   },
   {
    "duration": 0,
    "start_time": "2024-10-08T20:14:47.986Z"
   },
   {
    "duration": 0,
    "start_time": "2024-10-08T20:14:47.987Z"
   },
   {
    "duration": 0,
    "start_time": "2024-10-08T20:14:47.989Z"
   },
   {
    "duration": 0,
    "start_time": "2024-10-08T20:14:47.990Z"
   },
   {
    "duration": 0,
    "start_time": "2024-10-08T20:14:48.034Z"
   },
   {
    "duration": 0,
    "start_time": "2024-10-08T20:14:48.037Z"
   },
   {
    "duration": 0,
    "start_time": "2024-10-08T20:14:48.037Z"
   },
   {
    "duration": 0,
    "start_time": "2024-10-08T20:14:48.039Z"
   },
   {
    "duration": 0,
    "start_time": "2024-10-08T20:14:48.040Z"
   },
   {
    "duration": 0,
    "start_time": "2024-10-08T20:14:48.042Z"
   },
   {
    "duration": 0,
    "start_time": "2024-10-08T20:14:48.043Z"
   },
   {
    "duration": 0,
    "start_time": "2024-10-08T20:14:48.045Z"
   },
   {
    "duration": 0,
    "start_time": "2024-10-08T20:14:48.048Z"
   },
   {
    "duration": 0,
    "start_time": "2024-10-08T20:14:48.049Z"
   },
   {
    "duration": 2,
    "start_time": "2024-10-08T20:15:18.576Z"
   },
   {
    "duration": 846,
    "start_time": "2024-10-08T20:15:18.583Z"
   },
   {
    "duration": 10,
    "start_time": "2024-10-08T20:15:19.432Z"
   },
   {
    "duration": 11,
    "start_time": "2024-10-08T20:15:19.444Z"
   },
   {
    "duration": 8,
    "start_time": "2024-10-08T20:15:19.457Z"
   },
   {
    "duration": 7,
    "start_time": "2024-10-08T20:15:19.468Z"
   },
   {
    "duration": 56,
    "start_time": "2024-10-08T20:15:19.477Z"
   },
   {
    "duration": 85,
    "start_time": "2024-10-08T20:15:19.535Z"
   },
   {
    "duration": 97,
    "start_time": "2024-10-08T20:15:19.622Z"
   },
   {
    "duration": 16,
    "start_time": "2024-10-08T20:15:19.721Z"
   },
   {
    "duration": 105,
    "start_time": "2024-10-08T20:15:19.738Z"
   },
   {
    "duration": 75,
    "start_time": "2024-10-08T20:15:19.845Z"
   },
   {
    "duration": 24,
    "start_time": "2024-10-08T20:15:19.932Z"
   },
   {
    "duration": 18,
    "start_time": "2024-10-08T20:15:19.958Z"
   },
   {
    "duration": 4,
    "start_time": "2024-10-08T20:15:19.980Z"
   },
   {
    "duration": 50,
    "start_time": "2024-10-08T20:15:19.985Z"
   },
   {
    "duration": 33,
    "start_time": "2024-10-08T20:15:20.036Z"
   },
   {
    "duration": 4,
    "start_time": "2024-10-08T20:15:20.071Z"
   },
   {
    "duration": 3,
    "start_time": "2024-10-08T20:15:20.077Z"
   },
   {
    "duration": 5,
    "start_time": "2024-10-08T20:15:20.081Z"
   },
   {
    "duration": 4,
    "start_time": "2024-10-08T20:15:20.088Z"
   },
   {
    "duration": 798,
    "start_time": "2024-10-08T20:15:20.094Z"
   },
   {
    "duration": 677,
    "start_time": "2024-10-08T20:15:20.894Z"
   },
   {
    "duration": 7,
    "start_time": "2024-10-08T20:15:21.572Z"
   },
   {
    "duration": 10,
    "start_time": "2024-10-08T20:15:21.581Z"
   },
   {
    "duration": 9,
    "start_time": "2024-10-08T20:15:21.593Z"
   },
   {
    "duration": 27,
    "start_time": "2024-10-08T20:15:21.604Z"
   },
   {
    "duration": 10,
    "start_time": "2024-10-08T20:15:21.633Z"
   },
   {
    "duration": 5,
    "start_time": "2024-10-08T20:15:21.644Z"
   },
   {
    "duration": 14,
    "start_time": "2024-10-08T20:15:21.651Z"
   },
   {
    "duration": 0,
    "start_time": "2024-10-08T20:15:21.666Z"
   },
   {
    "duration": 0,
    "start_time": "2024-10-08T20:15:21.668Z"
   },
   {
    "duration": 0,
    "start_time": "2024-10-08T20:15:21.668Z"
   },
   {
    "duration": 0,
    "start_time": "2024-10-08T20:15:21.669Z"
   },
   {
    "duration": 0,
    "start_time": "2024-10-08T20:15:21.670Z"
   },
   {
    "duration": 0,
    "start_time": "2024-10-08T20:15:21.671Z"
   },
   {
    "duration": 0,
    "start_time": "2024-10-08T20:15:21.672Z"
   },
   {
    "duration": 0,
    "start_time": "2024-10-08T20:15:21.673Z"
   },
   {
    "duration": 0,
    "start_time": "2024-10-08T20:15:21.673Z"
   },
   {
    "duration": 0,
    "start_time": "2024-10-08T20:15:21.674Z"
   },
   {
    "duration": 0,
    "start_time": "2024-10-08T20:15:21.675Z"
   },
   {
    "duration": 0,
    "start_time": "2024-10-08T20:15:21.676Z"
   },
   {
    "duration": 0,
    "start_time": "2024-10-08T20:15:21.677Z"
   },
   {
    "duration": 0,
    "start_time": "2024-10-08T20:15:21.678Z"
   },
   {
    "duration": 0,
    "start_time": "2024-10-08T20:15:21.680Z"
   },
   {
    "duration": 0,
    "start_time": "2024-10-08T20:15:21.681Z"
   },
   {
    "duration": 0,
    "start_time": "2024-10-08T20:15:21.682Z"
   },
   {
    "duration": 0,
    "start_time": "2024-10-08T20:15:21.683Z"
   },
   {
    "duration": 0,
    "start_time": "2024-10-08T20:15:21.684Z"
   },
   {
    "duration": 0,
    "start_time": "2024-10-08T20:15:21.732Z"
   },
   {
    "duration": 6,
    "start_time": "2024-10-08T20:16:29.244Z"
   },
   {
    "duration": 8,
    "start_time": "2024-10-08T20:17:01.448Z"
   },
   {
    "duration": 25,
    "start_time": "2024-10-08T20:17:04.109Z"
   },
   {
    "duration": 5,
    "start_time": "2024-10-08T20:17:09.294Z"
   },
   {
    "duration": 5,
    "start_time": "2024-10-08T20:17:09.364Z"
   },
   {
    "duration": 36,
    "start_time": "2024-10-08T20:17:13.703Z"
   },
   {
    "duration": 7,
    "start_time": "2024-10-08T20:17:33.354Z"
   },
   {
    "duration": 7,
    "start_time": "2024-10-08T20:17:42.674Z"
   },
   {
    "duration": 2030,
    "start_time": "2024-10-08T20:17:47.967Z"
   },
   {
    "duration": 37,
    "start_time": "2024-10-08T20:18:00.094Z"
   },
   {
    "duration": 322,
    "start_time": "2024-10-08T20:18:08.872Z"
   },
   {
    "duration": 119,
    "start_time": "2024-10-08T20:18:23.096Z"
   },
   {
    "duration": 22434,
    "start_time": "2024-10-08T20:18:40.949Z"
   },
   {
    "duration": 22757,
    "start_time": "2024-10-08T20:19:09.452Z"
   },
   {
    "duration": 212,
    "start_time": "2024-10-08T20:19:44.679Z"
   },
   {
    "duration": 220,
    "start_time": "2024-10-08T20:19:55.073Z"
   },
   {
    "duration": 162,
    "start_time": "2024-10-08T20:20:14.488Z"
   },
   {
    "duration": 50,
    "start_time": "2024-10-08T20:20:37.966Z"
   },
   {
    "duration": 107,
    "start_time": "2024-10-08T20:20:43.595Z"
   },
   {
    "duration": 440,
    "start_time": "2024-10-08T20:22:01.170Z"
   },
   {
    "duration": 1768,
    "start_time": "2024-10-08T20:22:09.237Z"
   },
   {
    "duration": 157,
    "start_time": "2024-10-08T20:22:17.913Z"
   },
   {
    "duration": 2334,
    "start_time": "2024-10-08T20:22:39.654Z"
   },
   {
    "duration": 44,
    "start_time": "2024-10-08T20:22:48.466Z"
   },
   {
    "duration": 8,
    "start_time": "2024-10-09T03:30:27.032Z"
   },
   {
    "duration": 308,
    "start_time": "2024-10-09T03:31:37.657Z"
   },
   {
    "duration": 1048,
    "start_time": "2024-10-09T03:31:37.967Z"
   },
   {
    "duration": 11,
    "start_time": "2024-10-09T03:31:39.017Z"
   },
   {
    "duration": 10,
    "start_time": "2024-10-09T03:31:39.030Z"
   },
   {
    "duration": 8,
    "start_time": "2024-10-09T03:31:39.041Z"
   },
   {
    "duration": 7,
    "start_time": "2024-10-09T03:31:39.051Z"
   },
   {
    "duration": 49,
    "start_time": "2024-10-09T03:31:39.060Z"
   },
   {
    "duration": 86,
    "start_time": "2024-10-09T03:31:39.111Z"
   },
   {
    "duration": 112,
    "start_time": "2024-10-09T03:31:39.198Z"
   },
   {
    "duration": 7,
    "start_time": "2024-10-09T03:31:39.314Z"
   },
   {
    "duration": 113,
    "start_time": "2024-10-09T03:31:39.322Z"
   },
   {
    "duration": 95,
    "start_time": "2024-10-09T03:31:39.436Z"
   },
   {
    "duration": 24,
    "start_time": "2024-10-09T03:31:39.534Z"
   },
   {
    "duration": 14,
    "start_time": "2024-10-09T03:31:39.560Z"
   },
   {
    "duration": 4,
    "start_time": "2024-10-09T03:31:39.575Z"
   },
   {
    "duration": 41,
    "start_time": "2024-10-09T03:31:39.581Z"
   },
   {
    "duration": 34,
    "start_time": "2024-10-09T03:31:39.624Z"
   },
   {
    "duration": 4,
    "start_time": "2024-10-09T03:31:39.660Z"
   },
   {
    "duration": 3,
    "start_time": "2024-10-09T03:31:39.666Z"
   },
   {
    "duration": 4,
    "start_time": "2024-10-09T03:31:39.671Z"
   },
   {
    "duration": 32,
    "start_time": "2024-10-09T03:31:39.677Z"
   },
   {
    "duration": 781,
    "start_time": "2024-10-09T03:31:39.711Z"
   },
   {
    "duration": 703,
    "start_time": "2024-10-09T03:31:40.493Z"
   },
   {
    "duration": 13,
    "start_time": "2024-10-09T03:31:41.197Z"
   },
   {
    "duration": 8,
    "start_time": "2024-10-09T03:31:41.211Z"
   },
   {
    "duration": 8,
    "start_time": "2024-10-09T03:31:41.221Z"
   },
   {
    "duration": 6,
    "start_time": "2024-10-09T03:31:41.230Z"
   },
   {
    "duration": 8,
    "start_time": "2024-10-09T03:31:41.241Z"
   },
   {
    "duration": 3,
    "start_time": "2024-10-09T03:31:41.251Z"
   },
   {
    "duration": 5,
    "start_time": "2024-10-09T03:31:41.256Z"
   },
   {
    "duration": 58,
    "start_time": "2024-10-09T03:31:41.262Z"
   },
   {
    "duration": 6,
    "start_time": "2024-10-09T03:31:41.322Z"
   },
   {
    "duration": 30,
    "start_time": "2024-10-09T03:31:41.330Z"
   },
   {
    "duration": 5,
    "start_time": "2024-10-09T03:31:41.361Z"
   },
   {
    "duration": 5,
    "start_time": "2024-10-09T03:31:41.368Z"
   },
   {
    "duration": 36,
    "start_time": "2024-10-09T03:31:41.375Z"
   },
   {
    "duration": 0,
    "start_time": "2024-10-09T03:31:41.412Z"
   },
   {
    "duration": 0,
    "start_time": "2024-10-09T03:31:41.414Z"
   },
   {
    "duration": 0,
    "start_time": "2024-10-09T03:31:41.415Z"
   },
   {
    "duration": 0,
    "start_time": "2024-10-09T03:31:41.417Z"
   },
   {
    "duration": 0,
    "start_time": "2024-10-09T03:31:41.418Z"
   },
   {
    "duration": 0,
    "start_time": "2024-10-09T03:31:41.420Z"
   },
   {
    "duration": 0,
    "start_time": "2024-10-09T03:31:41.421Z"
   },
   {
    "duration": 0,
    "start_time": "2024-10-09T03:31:41.423Z"
   },
   {
    "duration": 0,
    "start_time": "2024-10-09T03:31:41.424Z"
   },
   {
    "duration": 0,
    "start_time": "2024-10-09T03:31:41.426Z"
   },
   {
    "duration": 0,
    "start_time": "2024-10-09T03:31:41.427Z"
   },
   {
    "duration": 0,
    "start_time": "2024-10-09T03:31:41.428Z"
   },
   {
    "duration": 0,
    "start_time": "2024-10-09T03:31:41.429Z"
   },
   {
    "duration": 0,
    "start_time": "2024-10-09T03:31:41.430Z"
   },
   {
    "duration": 0,
    "start_time": "2024-10-09T03:31:41.432Z"
   },
   {
    "duration": 2,
    "start_time": "2024-10-09T03:32:40.813Z"
   },
   {
    "duration": 863,
    "start_time": "2024-10-09T03:32:40.823Z"
   },
   {
    "duration": 10,
    "start_time": "2024-10-09T03:32:41.689Z"
   },
   {
    "duration": 14,
    "start_time": "2024-10-09T03:32:41.701Z"
   },
   {
    "duration": 8,
    "start_time": "2024-10-09T03:32:41.718Z"
   },
   {
    "duration": 9,
    "start_time": "2024-10-09T03:32:41.728Z"
   },
   {
    "duration": 20,
    "start_time": "2024-10-09T03:32:41.738Z"
   },
   {
    "duration": 109,
    "start_time": "2024-10-09T03:32:41.759Z"
   },
   {
    "duration": 88,
    "start_time": "2024-10-09T03:32:41.870Z"
   },
   {
    "duration": 8,
    "start_time": "2024-10-09T03:32:41.960Z"
   },
   {
    "duration": 98,
    "start_time": "2024-10-09T03:32:41.972Z"
   },
   {
    "duration": 80,
    "start_time": "2024-10-09T03:32:42.072Z"
   },
   {
    "duration": 24,
    "start_time": "2024-10-09T03:32:42.155Z"
   },
   {
    "duration": 28,
    "start_time": "2024-10-09T03:32:42.181Z"
   },
   {
    "duration": 4,
    "start_time": "2024-10-09T03:32:42.211Z"
   },
   {
    "duration": 19,
    "start_time": "2024-10-09T03:32:42.217Z"
   },
   {
    "duration": 33,
    "start_time": "2024-10-09T03:32:42.237Z"
   },
   {
    "duration": 3,
    "start_time": "2024-10-09T03:32:42.272Z"
   },
   {
    "duration": 33,
    "start_time": "2024-10-09T03:32:42.277Z"
   },
   {
    "duration": 4,
    "start_time": "2024-10-09T03:32:42.312Z"
   },
   {
    "duration": 3,
    "start_time": "2024-10-09T03:32:42.318Z"
   },
   {
    "duration": 769,
    "start_time": "2024-10-09T03:32:42.322Z"
   },
   {
    "duration": 691,
    "start_time": "2024-10-09T03:32:43.092Z"
   },
   {
    "duration": 5,
    "start_time": "2024-10-09T03:32:43.785Z"
   },
   {
    "duration": 21,
    "start_time": "2024-10-09T03:32:43.792Z"
   },
   {
    "duration": 8,
    "start_time": "2024-10-09T03:32:43.815Z"
   },
   {
    "duration": 7,
    "start_time": "2024-10-09T03:32:43.826Z"
   },
   {
    "duration": 8,
    "start_time": "2024-10-09T03:32:43.834Z"
   },
   {
    "duration": 3,
    "start_time": "2024-10-09T03:32:43.846Z"
   },
   {
    "duration": 6,
    "start_time": "2024-10-09T03:32:43.851Z"
   },
   {
    "duration": 10,
    "start_time": "2024-10-09T03:32:43.858Z"
   },
   {
    "duration": 7,
    "start_time": "2024-10-09T03:32:43.908Z"
   },
   {
    "duration": 24,
    "start_time": "2024-10-09T03:32:43.917Z"
   },
   {
    "duration": 5,
    "start_time": "2024-10-09T03:32:43.942Z"
   },
   {
    "duration": 4,
    "start_time": "2024-10-09T03:32:43.949Z"
   },
   {
    "duration": 4,
    "start_time": "2024-10-09T03:32:43.955Z"
   },
   {
    "duration": 0,
    "start_time": "2024-10-09T03:32:43.961Z"
   },
   {
    "duration": 0,
    "start_time": "2024-10-09T03:32:43.962Z"
   },
   {
    "duration": 0,
    "start_time": "2024-10-09T03:32:43.963Z"
   },
   {
    "duration": 0,
    "start_time": "2024-10-09T03:32:43.964Z"
   },
   {
    "duration": 0,
    "start_time": "2024-10-09T03:32:43.965Z"
   },
   {
    "duration": 0,
    "start_time": "2024-10-09T03:32:43.966Z"
   },
   {
    "duration": 0,
    "start_time": "2024-10-09T03:32:44.009Z"
   },
   {
    "duration": 0,
    "start_time": "2024-10-09T03:32:44.011Z"
   },
   {
    "duration": 0,
    "start_time": "2024-10-09T03:32:44.012Z"
   },
   {
    "duration": 0,
    "start_time": "2024-10-09T03:32:44.014Z"
   },
   {
    "duration": 0,
    "start_time": "2024-10-09T03:32:44.015Z"
   },
   {
    "duration": 0,
    "start_time": "2024-10-09T03:32:44.017Z"
   },
   {
    "duration": 0,
    "start_time": "2024-10-09T03:32:44.018Z"
   },
   {
    "duration": 0,
    "start_time": "2024-10-09T03:32:44.019Z"
   },
   {
    "duration": 0,
    "start_time": "2024-10-09T03:32:44.021Z"
   },
   {
    "duration": 6,
    "start_time": "2024-10-09T03:34:21.191Z"
   },
   {
    "duration": 4,
    "start_time": "2024-10-09T03:38:27.733Z"
   },
   {
    "duration": 64,
    "start_time": "2024-10-09T03:39:38.138Z"
   },
   {
    "duration": 32,
    "start_time": "2024-10-09T03:40:40.643Z"
   },
   {
    "duration": 338,
    "start_time": "2024-10-09T18:30:34.734Z"
   },
   {
    "duration": 1092,
    "start_time": "2024-10-09T18:30:35.074Z"
   },
   {
    "duration": 18,
    "start_time": "2024-10-09T18:30:36.168Z"
   },
   {
    "duration": 11,
    "start_time": "2024-10-09T18:30:36.189Z"
   },
   {
    "duration": 9,
    "start_time": "2024-10-09T18:30:36.202Z"
   },
   {
    "duration": 9,
    "start_time": "2024-10-09T18:30:36.213Z"
   },
   {
    "duration": 26,
    "start_time": "2024-10-09T18:30:36.225Z"
   },
   {
    "duration": 107,
    "start_time": "2024-10-09T18:30:36.288Z"
   },
   {
    "duration": 130,
    "start_time": "2024-10-09T18:30:36.397Z"
   },
   {
    "duration": 9,
    "start_time": "2024-10-09T18:30:36.530Z"
   },
   {
    "duration": 116,
    "start_time": "2024-10-09T18:30:36.540Z"
   },
   {
    "duration": 108,
    "start_time": "2024-10-09T18:30:36.658Z"
   },
   {
    "duration": 45,
    "start_time": "2024-10-09T18:30:36.768Z"
   },
   {
    "duration": 13,
    "start_time": "2024-10-09T18:30:36.815Z"
   },
   {
    "duration": 4,
    "start_time": "2024-10-09T18:30:36.830Z"
   },
   {
    "duration": 21,
    "start_time": "2024-10-09T18:30:36.836Z"
   },
   {
    "duration": 62,
    "start_time": "2024-10-09T18:30:36.859Z"
   },
   {
    "duration": 4,
    "start_time": "2024-10-09T18:30:36.924Z"
   },
   {
    "duration": 4,
    "start_time": "2024-10-09T18:30:36.930Z"
   },
   {
    "duration": 4,
    "start_time": "2024-10-09T18:30:36.937Z"
   },
   {
    "duration": 3,
    "start_time": "2024-10-09T18:30:36.943Z"
   },
   {
    "duration": 956,
    "start_time": "2024-10-09T18:30:36.948Z"
   },
   {
    "duration": 806,
    "start_time": "2024-10-09T18:30:37.906Z"
   },
   {
    "duration": 6,
    "start_time": "2024-10-09T18:30:38.714Z"
   },
   {
    "duration": 8,
    "start_time": "2024-10-09T18:30:38.722Z"
   },
   {
    "duration": 9,
    "start_time": "2024-10-09T18:30:38.732Z"
   },
   {
    "duration": 6,
    "start_time": "2024-10-09T18:30:38.743Z"
   },
   {
    "duration": 37,
    "start_time": "2024-10-09T18:30:38.755Z"
   },
   {
    "duration": 4,
    "start_time": "2024-10-09T18:30:38.794Z"
   },
   {
    "duration": 5,
    "start_time": "2024-10-09T18:30:38.800Z"
   },
   {
    "duration": 19,
    "start_time": "2024-10-09T18:30:38.807Z"
   },
   {
    "duration": 7,
    "start_time": "2024-10-09T18:30:38.828Z"
   },
   {
    "duration": 68,
    "start_time": "2024-10-09T18:30:38.837Z"
   },
   {
    "duration": 5,
    "start_time": "2024-10-09T18:30:38.907Z"
   },
   {
    "duration": 5,
    "start_time": "2024-10-09T18:30:38.914Z"
   },
   {
    "duration": 84,
    "start_time": "2024-10-09T18:30:38.920Z"
   },
   {
    "duration": 42,
    "start_time": "2024-10-09T18:30:39.006Z"
   },
   {
    "duration": 7,
    "start_time": "2024-10-09T18:30:39.050Z"
   },
   {
    "duration": 27,
    "start_time": "2024-10-09T18:30:39.061Z"
   },
   {
    "duration": 2305,
    "start_time": "2024-10-09T18:30:39.090Z"
   },
   {
    "duration": 127,
    "start_time": "2024-10-09T18:30:41.398Z"
   },
   {
    "duration": 22283,
    "start_time": "2024-10-09T18:30:41.527Z"
   },
   {
    "duration": 242,
    "start_time": "2024-10-09T18:31:03.813Z"
   },
   {
    "duration": 185,
    "start_time": "2024-10-09T18:31:04.057Z"
   },
   {
    "duration": 51,
    "start_time": "2024-10-09T18:31:04.244Z"
   },
   {
    "duration": 111,
    "start_time": "2024-10-09T18:31:04.297Z"
   },
   {
    "duration": 388,
    "start_time": "2024-10-09T18:31:04.410Z"
   },
   {
    "duration": 1821,
    "start_time": "2024-10-09T18:31:04.801Z"
   },
   {
    "duration": 164,
    "start_time": "2024-10-09T18:31:06.626Z"
   },
   {
    "duration": 2414,
    "start_time": "2024-10-09T18:31:06.792Z"
   },
   {
    "duration": 41,
    "start_time": "2024-10-09T18:31:09.209Z"
   },
   {
    "duration": 527,
    "start_time": "2024-10-09T19:01:09.277Z"
   },
   {
    "duration": 256,
    "start_time": "2024-10-09T19:03:27.291Z"
   },
   {
    "duration": 247,
    "start_time": "2024-10-09T19:04:52.887Z"
   },
   {
    "duration": 249,
    "start_time": "2024-10-09T19:46:55.867Z"
   },
   {
    "duration": 176,
    "start_time": "2024-10-09T19:47:08.731Z"
   },
   {
    "duration": 278,
    "start_time": "2024-10-09T19:55:37.967Z"
   },
   {
    "duration": 11,
    "start_time": "2024-10-09T20:02:04.062Z"
   },
   {
    "duration": 499,
    "start_time": "2024-10-09T20:02:10.722Z"
   },
   {
    "duration": 257,
    "start_time": "2024-10-09T20:05:11.632Z"
   },
   {
    "duration": 408,
    "start_time": "2024-10-09T20:08:58.263Z"
   },
   {
    "duration": 427,
    "start_time": "2024-10-09T20:16:22.847Z"
   },
   {
    "duration": 259,
    "start_time": "2024-10-09T20:25:04.839Z"
   },
   {
    "duration": 290,
    "start_time": "2024-10-09T20:26:07.379Z"
   },
   {
    "duration": 359,
    "start_time": "2024-10-09T20:26:40.505Z"
   },
   {
    "duration": 22224,
    "start_time": "2024-10-09T20:40:28.832Z"
   },
   {
    "duration": 21203,
    "start_time": "2024-10-09T20:52:51.930Z"
   },
   {
    "duration": 21543,
    "start_time": "2024-10-09T20:54:03.995Z"
   },
   {
    "duration": 21410,
    "start_time": "2024-10-09T20:54:48.852Z"
   },
   {
    "duration": 21284,
    "start_time": "2024-10-09T20:56:37.879Z"
   }
  ],
  "colab": {
   "provenance": []
  },
  "kernelspec": {
   "display_name": "base",
   "language": "python",
   "name": "python3"
  },
  "language_info": {
   "codemirror_mode": {
    "name": "ipython",
    "version": 3
   },
   "file_extension": ".py",
   "mimetype": "text/x-python",
   "name": "python",
   "nbconvert_exporter": "python",
   "pygments_lexer": "ipython3",
   "version": "3.12.4"
  },
  "toc": {
   "base_numbering": 1,
   "nav_menu": {},
   "number_sections": true,
   "sideBar": true,
   "skip_h1_title": true,
   "title_cell": "Table of Contents",
   "title_sidebar": "Contents",
   "toc_cell": false,
   "toc_position": {
    "height": "calc(100% - 180px)",
    "left": "10px",
    "top": "150px",
    "width": "326.319px"
   },
   "toc_section_display": true,
   "toc_window_display": true
  }
 },
 "nbformat": 4,
 "nbformat_minor": 5
}
