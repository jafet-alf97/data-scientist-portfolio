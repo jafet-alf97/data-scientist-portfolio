{
 "cells": [
  {
   "cell_type": "markdown",
   "metadata": {
    "id": "3rYiDeEH0q0f"
   },
   "source": [
    "# ¿Cuál es la mejor tarifa?\n",
    "\n",
    "Trabajas como analista para el operador de telecomunicaciones Megaline. La empresa ofrece a sus clientes dos tarifas de prepago, Surf y Ultimate. El departamento comercial quiere saber cuál de las tarifas genera más ingresos para poder ajustar el presupuesto de publicidad.\n",
    "\n",
    "Vas a realizar un análisis preliminar de las tarifas basado en una selección de clientes relativamente pequeña. Tendrás los datos de 500 clientes de Megaline: quiénes son los clientes, de dónde son, qué tarifa usan, así como la cantidad de llamadas que hicieron y los mensajes de texto que enviaron en 2018. Tu trabajo es analizar el comportamiento de los clientes y determinar qué tarifa de prepago genera más ingresos."
   ]
  },
  {
   "cell_type": "markdown",
   "metadata": {},
   "source": [
    "El propósito del proyecto: el departamento comercial requeriré saber cuál de las dos tarifas  genera más ganancias, la empresa de telecomunicaciones Megaline con el fin de ajustar el presupuesto destinado para publicidad pero también muestra que plan es mejor para la organización, ver porque uno de los dos no y ver la oportunidad de mejora de que hacer para genere más ingresoa tales como promociones, descuentos\n",
    "Las acciones que realizare:\n",
    "a) Cargar los DataFrames observar que cumplan con los estandares los encabezados, separador correcto, cumpla las coolumnas con la estructura snake_case, el uso correcto de munusculas en las variables\n",
    "b)Observar cada DataFrame no tenga duplicados, ni valores ausentes, cada variable este correcta fechas, conversion de unidades que nos facilite manipular nuestros datos\n",
    "c)Unir los datos que requiero de los distintos DataFrame para crear una tabla itermedia, creando las columnas que requiero \n",
    "d) Realizar graficos necesarios para comprobar los datos obtenidos\n",
    "e) Aplicar la estadistica descriptiva de los servicios de internet, mensajes y llamadas\n",
    "f) Prueba de hipotesis con el fin de que plan genera mas ingresos"
   ]
  },
  {
   "cell_type": "markdown",
   "metadata": {},
   "source": [
    "# Tabla de contenido\n",
    "1. [Incializacion](#inicializacion)\n",
    "2. [Cargar datos](#cargar-datos)\n",
    "3. [Preparar los datos](#preparar-los-datos)\n",
    "4. [Tarifas](#tarifas)\n",
    "5. [Corregir datos](#correguir-datos)\n",
    "6. [Enriquecer datos](#enriquecer-datos)\n",
    "7. [Usuario](#usuarios)\n",
    "- 7.1 [Correguir los datos](#correguir-los-datos)\n",
    "- 7.2 [Enriquecer los datos](#enriquecer-los-datos)\n",
    "8. [Llamadas](#llamadas)\n",
    "- 8.1 [Corregir datos](#correguir-los-datos)\n",
    "- 8.2 [Enriquecer los datos](#Enriquecer-los-datos)\n",
    "9. [Mensajes](#mensajes)\n",
    "- 9.1 [correguir los datos](#correguir-los-datos)\n",
    "- 9.2 [Enriquecer los datos](#enriquecer-los-datos)\n",
    "10. [Internet](#internet)\n",
    "- 10.1 [Enriquecer los datos](#enriquecer-los-datos)\n",
    "11. [Estudiar las condiciones las tarifas](#estudiar-las-condiciones-de-las-tarifas)\n",
    "12. [Agregar datos por usuario](#agregar-datos-por-usuario)\n",
    "13. [Estudia el comportamiento por usuario](#estudia-el-comportamiento-por-usuario)\n",
    "- 13.1 [Llamadas](#llamadas)\n",
    "- 13.2 [Mensajes](#mensajes)\n",
    "- 13.3 [Internet](#internet)\n",
    "14. [Ingreso](#ingreso)\n",
    "15. [Prueba las hipotesis estadisticas](#prueba-las-hipotesis-estadisticas)\n",
    "16. [Conclsuiones general](#conclsuion-general)\n",
    "\n"
   ]
  },
  {
   "cell_type": "markdown",
   "metadata": {
    "id": "MQi4IPy70q0y"
   },
   "source": [
    "## Inicialización"
   ]
  },
  {
   "cell_type": "code",
   "execution_count": 238,
   "metadata": {
    "id": "MtYIuBxu0q0z"
   },
   "outputs": [],
   "source": [
    "# Cargar todas las librerías\n",
    "import pandas as pd \n",
    "import numpy as np\n",
    "import matplotlib.pyplot as plt\n",
    "import seaborn as sns\n",
    "from scipy import stats as st\n",
    "\n"
   ]
  },
  {
   "cell_type": "markdown",
   "metadata": {
    "id": "4ysWWC5i0q00"
   },
   "source": [
    "## Cargar datos"
   ]
  },
  {
   "cell_type": "code",
   "execution_count": 177,
   "metadata": {
    "id": "CCqPW7rS0q01"
   },
   "outputs": [],
   "source": [
    "# Carga los archivos de datos en diferentes DataFrames\n",
    "df_calls= pd.read_csv('megaline_calls.csv', header=0)\n",
    "df_internet = pd.read_csv('megaline_internet.csv', header= 0)\n",
    "df_messages = pd.read_csv('megaline_messages.csv', header = 0)\n",
    "df_plans = pd.read_csv('megaline_plans.csv', header = 0)\n",
    "df_users = pd.read_csv('megaline_users.csv', header = 0)\n"
   ]
  },
  {
   "cell_type": "markdown",
   "metadata": {
    "id": "69qqoJ3r0q01"
   },
   "source": [
    "## Preparar los datos"
   ]
  },
  {
   "cell_type": "markdown",
   "metadata": {
    "id": "ohBhimvH0q01"
   },
   "source": [
    "## Tarifas"
   ]
  },
  {
   "cell_type": "code",
   "execution_count": 178,
   "metadata": {
    "id": "GptqP3Q40q02"
   },
   "outputs": [
    {
     "name": "stdout",
     "output_type": "stream",
     "text": [
      "Primera filas:\n",
      "   messages_included  mb_per_month_included  minutes_included  \\\n",
      "0                 50                  15360               500   \n",
      "1               1000                  30720              3000   \n",
      "\n",
      "   usd_monthly_pay  usd_per_gb  usd_per_message  usd_per_minute plan_name  \n",
      "0               20          10             0.03            0.03      surf  \n",
      "1               70           7             0.01            0.01  ultimate  \n",
      "\n",
      "Informacion:\n",
      "<class 'pandas.core.frame.DataFrame'>\n",
      "RangeIndex: 2 entries, 0 to 1\n",
      "Data columns (total 8 columns):\n",
      " #   Column                 Non-Null Count  Dtype  \n",
      "---  ------                 --------------  -----  \n",
      " 0   messages_included      2 non-null      int64  \n",
      " 1   mb_per_month_included  2 non-null      int64  \n",
      " 2   minutes_included       2 non-null      int64  \n",
      " 3   usd_monthly_pay        2 non-null      int64  \n",
      " 4   usd_per_gb             2 non-null      int64  \n",
      " 5   usd_per_message        2 non-null      float64\n",
      " 6   usd_per_minute         2 non-null      float64\n",
      " 7   plan_name              2 non-null      object \n",
      "dtypes: float64(2), int64(5), object(1)\n",
      "memory usage: 256.0+ bytes\n",
      "None\n",
      "\n",
      "El total de valores ausentes es:\n",
      "messages_included        0\n",
      "mb_per_month_included    0\n",
      "minutes_included         0\n",
      "usd_monthly_pay          0\n",
      "usd_per_gb               0\n",
      "usd_per_message          0\n",
      "usd_per_minute           0\n",
      "plan_name                0\n",
      "dtype: int64\n",
      "\n",
      "El total de valores duplicados es:\n",
      "0\n",
      "None\n"
     ]
    }
   ],
   "source": [
    "# Imprime la información general/resumida sobre el DataFrame de las tarifas\n",
    "def first_lookup(datos):\n",
    "    print('Primera filas:')\n",
    "    print(datos.head())\n",
    "    print()\n",
    "    print('Informacion:')\n",
    "    print(datos.info())\n",
    "    print()\n",
    "    print('El total de valores ausentes es:')\n",
    "    print(datos.isna().sum())\n",
    "    print()\n",
    "    print('El total de valores duplicados es:')\n",
    "    print(datos.duplicated().sum())\n",
    "print(first_lookup(df_plans))\n",
    "\n",
    "\n"
   ]
  },
  {
   "cell_type": "markdown",
   "metadata": {},
   "source": [
    "Los datos a correguir es convertir mb a gb para evitar confunsion a la hora de aplicar funciones y esos mismos valores convertirlos de float a entero"
   ]
  },
  {
   "cell_type": "markdown",
   "metadata": {
    "id": "R3C05i1l0q03"
   },
   "source": [
    "## Corregir datos"
   ]
  },
  {
   "cell_type": "markdown",
   "metadata": {
    "id": "bIi8StZI0q03"
   },
   "source": [
    "[Corrige los problemas obvios con los datos basándote en las observaciones iniciales.]"
   ]
  },
  {
   "cell_type": "code",
   "execution_count": 179,
   "metadata": {
    "id": "Y7SVmjGn0q03"
   },
   "outputs": [
    {
     "name": "stdout",
     "output_type": "stream",
     "text": [
      "   messages_included  minutes_included  usd_monthly_pay  usd_per_gb  \\\n",
      "0                 50               500               20          10   \n",
      "1               1000              3000               70           7   \n",
      "\n",
      "   usd_per_message  usd_per_minute plan_name  gb_per_month_included  \n",
      "0             0.03            0.03      surf                   15.0  \n",
      "1             0.01            0.01  ultimate                   30.0  \n"
     ]
    }
   ],
   "source": [
    "df_plans['gb_per_month_included'] = (df_plans['mb_per_month_included'] /1024)\n",
    "df_plans= df_plans.drop(columns=['mb_per_month_included'])\n",
    "df_plans = df_plans.reset_index(drop=True)\n",
    "print(df_plans)"
   ]
  },
  {
   "cell_type": "markdown",
   "metadata": {
    "id": "LJir7bml0q03"
   },
   "source": [
    "## Enriquecer los datos"
   ]
  },
  {
   "cell_type": "code",
   "execution_count": 180,
   "metadata": {
    "id": "gfcIEuXV0q04"
   },
   "outputs": [
    {
     "name": "stdout",
     "output_type": "stream",
     "text": [
      "   messages_included  minutes_included  usd_monthly_pay  usd_per_gb  \\\n",
      "0                 50               500               20          10   \n",
      "1               1000              3000               70           7   \n",
      "\n",
      "   usd_per_message  usd_per_minute plan_name  gb_per_month_included  \n",
      "0             0.03            0.03      surf                     15  \n",
      "1             0.01            0.01  ultimate                     30  \n"
     ]
    }
   ],
   "source": [
    "df_plans['gb_per_month_included'] =df_plans['gb_per_month_included'].astype(int)\n",
    "print(df_plans)"
   ]
  },
  {
   "cell_type": "markdown",
   "metadata": {
    "id": "1n2X6WXf0q04"
   },
   "source": [
    "## Usuarios/as"
   ]
  },
  {
   "cell_type": "code",
   "execution_count": 181,
   "metadata": {
    "id": "2NgjWFqx0q05"
   },
   "outputs": [
    {
     "name": "stdout",
     "output_type": "stream",
     "text": [
      "Primera filas:\n",
      "   user_id first_name  last_name  age                                   city  \\\n",
      "0     1000   Anamaria      Bauer   45  Atlanta-Sandy Springs-Roswell, GA MSA   \n",
      "1     1001     Mickey  Wilkerson   28        Seattle-Tacoma-Bellevue, WA MSA   \n",
      "2     1002     Carlee    Hoffman   36   Las Vegas-Henderson-Paradise, NV MSA   \n",
      "3     1003   Reynaldo    Jenkins   52                          Tulsa, OK MSA   \n",
      "4     1004    Leonila   Thompson   40        Seattle-Tacoma-Bellevue, WA MSA   \n",
      "\n",
      "     reg_date      plan churn_date  \n",
      "0  2018-12-24  ultimate        NaN  \n",
      "1  2018-08-13      surf        NaN  \n",
      "2  2018-10-21      surf        NaN  \n",
      "3  2018-01-28      surf        NaN  \n",
      "4  2018-05-23      surf        NaN  \n",
      "\n",
      "Informacion:\n",
      "<class 'pandas.core.frame.DataFrame'>\n",
      "RangeIndex: 500 entries, 0 to 499\n",
      "Data columns (total 8 columns):\n",
      " #   Column      Non-Null Count  Dtype \n",
      "---  ------      --------------  ----- \n",
      " 0   user_id     500 non-null    int64 \n",
      " 1   first_name  500 non-null    object\n",
      " 2   last_name   500 non-null    object\n",
      " 3   age         500 non-null    int64 \n",
      " 4   city        500 non-null    object\n",
      " 5   reg_date    500 non-null    object\n",
      " 6   plan        500 non-null    object\n",
      " 7   churn_date  34 non-null     object\n",
      "dtypes: int64(2), object(6)\n",
      "memory usage: 31.4+ KB\n",
      "None\n",
      "\n",
      "El total de valores ausentes es:\n",
      "user_id         0\n",
      "first_name      0\n",
      "last_name       0\n",
      "age             0\n",
      "city            0\n",
      "reg_date        0\n",
      "plan            0\n",
      "churn_date    466\n",
      "dtype: int64\n",
      "\n",
      "El total de valores duplicados es:\n",
      "0\n",
      "None\n"
     ]
    }
   ],
   "source": [
    "# Imprime la información general/resumida sobre el DataFrame de usuarios\n",
    "def first_lookup(datos):\n",
    "    print('Primera filas:')\n",
    "    print(datos.head())\n",
    "    print()\n",
    "    print('Informacion:')\n",
    "    print(datos.info())\n",
    "    print()\n",
    "    print('El total de valores ausentes es:')\n",
    "    print(datos.isna().sum())\n",
    "    print()\n",
    "    print('El total de valores duplicados es:')\n",
    "    print(datos.duplicated().sum())\n",
    "print(first_lookup(df_users))\n",
    "\n",
    "\n"
   ]
  },
  {
   "cell_type": "code",
   "execution_count": 182,
   "metadata": {
    "id": "1IN1L9uh0q05"
   },
   "outputs": [
    {
     "name": "stdout",
     "output_type": "stream",
     "text": [
      "El total de duplicados en las columnas first_name y last_name son: 0\n",
      "El total de duplicados de la columna user_id es: 0\n"
     ]
    }
   ],
   "source": [
    "# Imprime una muestra de datos para usuarios\n",
    "duplicate_name= df_users.duplicated(subset=['first_name', 'last_name']).sum()\n",
    "print('El total de duplicados en las columnas first_name y last_name son:', duplicate_name)\n",
    "duplicate_user= df_users.duplicated(subset=['user_id']).sum()\n",
    "print('El total de duplicados de la columna user_id es:', duplicate_user)\n",
    "\n"
   ]
  },
  {
   "cell_type": "markdown",
   "metadata": {},
   "source": [
    "La columna churn_date y reg_date requieren cambiar su formato a tipo fecha, aparte churn_date tiene 466 valores ausentes que para emjorar el codigo se ponen una fecha que no a pasado ya que no afecta nuestros datos ya que es como si el usuario esta activo"
   ]
  },
  {
   "cell_type": "markdown",
   "metadata": {
    "id": "BX5FQh_I0q06"
   },
   "source": [
    "### Corregir los datos"
   ]
  },
  {
   "cell_type": "markdown",
   "metadata": {
    "id": "8OdKMwJv0q06"
   },
   "source": [
    "[Corrige los problemas obvios con los datos basándote en las observaciones iniciales.]"
   ]
  },
  {
   "cell_type": "code",
   "execution_count": 183,
   "metadata": {
    "id": "yUqX-K0C0q07"
   },
   "outputs": [
    {
     "name": "stdout",
     "output_type": "stream",
     "text": [
      "<class 'pandas.core.frame.DataFrame'>\n",
      "RangeIndex: 500 entries, 0 to 499\n",
      "Data columns (total 8 columns):\n",
      " #   Column      Non-Null Count  Dtype         \n",
      "---  ------      --------------  -----         \n",
      " 0   user_id     500 non-null    int64         \n",
      " 1   first_name  500 non-null    object        \n",
      " 2   last_name   500 non-null    object        \n",
      " 3   age         500 non-null    int64         \n",
      " 4   city        500 non-null    object        \n",
      " 5   reg_date    500 non-null    datetime64[ns]\n",
      " 6   plan        500 non-null    object        \n",
      " 7   churn_date  34 non-null     datetime64[ns]\n",
      "dtypes: datetime64[ns](2), int64(2), object(4)\n",
      "memory usage: 31.4+ KB\n"
     ]
    }
   ],
   "source": [
    "df_users['churn_date'] = pd.to_datetime(df_users['churn_date'])\n",
    "df_users['reg_date'] = pd.to_datetime(df_users['reg_date'])\n",
    "df_users.info()\n"
   ]
  },
  {
   "cell_type": "markdown",
   "metadata": {
    "id": "ycwuARJp0q07"
   },
   "source": [
    "### Enriquecer los datos"
   ]
  },
  {
   "cell_type": "code",
   "execution_count": 184,
   "metadata": {
    "id": "iq0AaBS90q08"
   },
   "outputs": [
    {
     "name": "stdout",
     "output_type": "stream",
     "text": [
      "   user_id first_name  last_name  age                                   city  \\\n",
      "0     1000   Anamaria      Bauer   45  Atlanta-Sandy Springs-Roswell, GA MSA   \n",
      "1     1001     Mickey  Wilkerson   28        Seattle-Tacoma-Bellevue, WA MSA   \n",
      "2     1002     Carlee    Hoffman   36   Las Vegas-Henderson-Paradise, NV MSA   \n",
      "3     1003   Reynaldo    Jenkins   52                          Tulsa, OK MSA   \n",
      "4     1004    Leonila   Thompson   40        Seattle-Tacoma-Bellevue, WA MSA   \n",
      "\n",
      "    reg_date      plan churn_date  \n",
      "0 2018-12-24  ultimate 2099-01-01  \n",
      "1 2018-08-13      surf 2099-01-01  \n",
      "2 2018-10-21      surf 2099-01-01  \n",
      "3 2018-01-28      surf 2099-01-01  \n",
      "4 2018-05-23      surf 2099-01-01  \n",
      "\n",
      "<class 'pandas.core.frame.DataFrame'>\n",
      "RangeIndex: 500 entries, 0 to 499\n",
      "Data columns (total 8 columns):\n",
      " #   Column      Non-Null Count  Dtype         \n",
      "---  ------      --------------  -----         \n",
      " 0   user_id     500 non-null    int64         \n",
      " 1   first_name  500 non-null    object        \n",
      " 2   last_name   500 non-null    object        \n",
      " 3   age         500 non-null    int64         \n",
      " 4   city        500 non-null    object        \n",
      " 5   reg_date    500 non-null    datetime64[ns]\n",
      " 6   plan        500 non-null    object        \n",
      " 7   churn_date  500 non-null    datetime64[ns]\n",
      "dtypes: datetime64[ns](2), int64(2), object(4)\n",
      "memory usage: 31.4+ KB\n"
     ]
    }
   ],
   "source": [
    "df_users['churn_date'] = df_users['churn_date'].fillna(pd.Timestamp('2099-01-01'))\n",
    "print(df_users.head())\n",
    "print()\n",
    "df_users.info()"
   ]
  },
  {
   "cell_type": "markdown",
   "metadata": {
    "id": "o7MeKCid0q08"
   },
   "source": [
    "## Llamadas"
   ]
  },
  {
   "cell_type": "code",
   "execution_count": 185,
   "metadata": {
    "id": "6dDlnoDm0q08"
   },
   "outputs": [
    {
     "name": "stdout",
     "output_type": "stream",
     "text": [
      "Primera filas:\n",
      "         id  user_id   call_date  duration\n",
      "0   1000_93     1000  2018-12-27      8.52\n",
      "1  1000_145     1000  2018-12-27     13.66\n",
      "2  1000_247     1000  2018-12-27     14.48\n",
      "3  1000_309     1000  2018-12-28      5.76\n",
      "4  1000_380     1000  2018-12-30      4.22\n",
      "\n",
      "Informacion:\n",
      "<class 'pandas.core.frame.DataFrame'>\n",
      "RangeIndex: 137735 entries, 0 to 137734\n",
      "Data columns (total 4 columns):\n",
      " #   Column     Non-Null Count   Dtype  \n",
      "---  ------     --------------   -----  \n",
      " 0   id         137735 non-null  object \n",
      " 1   user_id    137735 non-null  int64  \n",
      " 2   call_date  137735 non-null  object \n",
      " 3   duration   137735 non-null  float64\n",
      "dtypes: float64(1), int64(1), object(2)\n",
      "memory usage: 4.2+ MB\n",
      "None\n",
      "\n",
      "El total de valores ausentes es:\n",
      "id           0\n",
      "user_id      0\n",
      "call_date    0\n",
      "duration     0\n",
      "dtype: int64\n",
      "\n",
      "El total de valores duplicados es:\n",
      "0\n",
      "None\n"
     ]
    }
   ],
   "source": [
    "# Imprime la información general/resumida sobre el DataFrame de las llamadas\n",
    "def first_lookup(datos):\n",
    "    print('Primera filas:')\n",
    "    print(datos.head())\n",
    "    print()\n",
    "    print('Informacion:')\n",
    "    print(datos.info())\n",
    "    print()\n",
    "    print('El total de valores ausentes es:')\n",
    "    print(datos.isna().sum())\n",
    "    print()\n",
    "    print('El total de valores duplicados es:')\n",
    "    print(datos.duplicated().sum())\n",
    "print(first_lookup(df_calls))\n",
    "\n"
   ]
  },
  {
   "cell_type": "markdown",
   "metadata": {},
   "source": [
    "La columna call_date requiere cambirse a tipo fecha y la columna duration requiere que el aunque se pase por decimas se paso al entero siguiente y se redondea"
   ]
  },
  {
   "cell_type": "markdown",
   "metadata": {
    "id": "S7hzxmbX0q0-"
   },
   "source": [
    "### Corregir los datos"
   ]
  },
  {
   "cell_type": "markdown",
   "metadata": {
    "id": "YxWyAjD20q0-"
   },
   "source": [
    "[Corrige los problemas obvios con los datos basándote en las observaciones iniciales.]"
   ]
  },
  {
   "cell_type": "code",
   "execution_count": 186,
   "metadata": {
    "id": "S2r8xA4f0q0-"
   },
   "outputs": [
    {
     "name": "stdout",
     "output_type": "stream",
     "text": [
      "<class 'pandas.core.frame.DataFrame'>\n",
      "RangeIndex: 137735 entries, 0 to 137734\n",
      "Data columns (total 4 columns):\n",
      " #   Column     Non-Null Count   Dtype         \n",
      "---  ------     --------------   -----         \n",
      " 0   id         137735 non-null  object        \n",
      " 1   user_id    137735 non-null  int64         \n",
      " 2   call_date  137735 non-null  datetime64[ns]\n",
      " 3   duration   137735 non-null  float64       \n",
      "dtypes: datetime64[ns](1), float64(1), int64(1), object(1)\n",
      "memory usage: 4.2+ MB\n"
     ]
    }
   ],
   "source": [
    "df_calls['call_date'] = pd.to_datetime(df_calls['call_date'])\n",
    "df_calls.info()"
   ]
  },
  {
   "cell_type": "markdown",
   "metadata": {
    "id": "KrMgTrlG0q0_"
   },
   "source": [
    "### Enriquecer los datos"
   ]
  },
  {
   "cell_type": "code",
   "execution_count": 187,
   "metadata": {},
   "outputs": [
    {
     "name": "stdout",
     "output_type": "stream",
     "text": [
      "         id  user_id  call_date  duration  rounded_duration  month\n",
      "0   1000_93     1000 2018-12-27      8.52                 9     12\n",
      "1  1000_145     1000 2018-12-27     13.66                14     12\n",
      "2  1000_247     1000 2018-12-27     14.48                15     12\n",
      "3  1000_309     1000 2018-12-28      5.76                 6     12\n",
      "4  1000_380     1000 2018-12-30      4.22                 5     12\n"
     ]
    }
   ],
   "source": [
    "df_calls['rounded_duration'] = np.ceil(df_calls['duration']).astype(int)\n",
    "df_calls['month'] = df_calls['call_date'].dt.month\n",
    "print(df_calls.head())"
   ]
  },
  {
   "cell_type": "markdown",
   "metadata": {
    "id": "mOUZSi180q0_"
   },
   "source": [
    "## Mensajes"
   ]
  },
  {
   "cell_type": "code",
   "execution_count": 188,
   "metadata": {
    "id": "R-bYJpdV0q1A"
   },
   "outputs": [
    {
     "name": "stdout",
     "output_type": "stream",
     "text": [
      "Primera filas:\n",
      "         id  user_id message_date\n",
      "0  1000_125     1000   2018-12-27\n",
      "1  1000_160     1000   2018-12-31\n",
      "2  1000_223     1000   2018-12-31\n",
      "3  1000_251     1000   2018-12-27\n",
      "4  1000_255     1000   2018-12-26\n",
      "\n",
      "Informacion:\n",
      "<class 'pandas.core.frame.DataFrame'>\n",
      "RangeIndex: 76051 entries, 0 to 76050\n",
      "Data columns (total 3 columns):\n",
      " #   Column        Non-Null Count  Dtype \n",
      "---  ------        --------------  ----- \n",
      " 0   id            76051 non-null  object\n",
      " 1   user_id       76051 non-null  int64 \n",
      " 2   message_date  76051 non-null  object\n",
      "dtypes: int64(1), object(2)\n",
      "memory usage: 1.7+ MB\n",
      "None\n",
      "\n",
      "El total de valores ausentes es:\n",
      "id              0\n",
      "user_id         0\n",
      "message_date    0\n",
      "dtype: int64\n",
      "\n",
      "El total de valores duplicados es:\n",
      "0\n",
      "None\n"
     ]
    }
   ],
   "source": [
    "# Imprime la información general/resumida sobre el DataFrame de los mensajes\n",
    "def first_lookup(datos):\n",
    "    print('Primera filas:')\n",
    "    print(datos.head())\n",
    "    print()\n",
    "    print('Informacion:')\n",
    "    print(datos.info())\n",
    "    print()\n",
    "    print('El total de valores ausentes es:')\n",
    "    print(datos.isna().sum())\n",
    "    print()\n",
    "    print('El total de valores duplicados es:')\n",
    "    print(datos.duplicated().sum())\n",
    "print(first_lookup(df_messages))\n",
    "\n",
    "\n"
   ]
  },
  {
   "cell_type": "markdown",
   "metadata": {
    "id": "04xDj7KH0q1A"
   },
   "source": [
    "[Describe lo que ves y observas en la información general y en la muestra de datos impresa para el precio de datos anterior. ¿Hay algún problema (tipos de datos no adecuados, datos ausentes, etc.) que pudieran necesitar investigación y cambios adicionales? ¿Cómo se puede arreglar?]"
   ]
  },
  {
   "cell_type": "markdown",
   "metadata": {},
   "source": [
    "La columna message_date requiere cambiar su tipo de dato a fecha para mejorar manupulacion"
   ]
  },
  {
   "cell_type": "markdown",
   "metadata": {
    "id": "Sprfak900q1B"
   },
   "source": [
    "### Corregir los datos"
   ]
  },
  {
   "cell_type": "code",
   "execution_count": 189,
   "metadata": {
    "id": "vsllvkoa0q1B"
   },
   "outputs": [
    {
     "name": "stdout",
     "output_type": "stream",
     "text": [
      "El total de duplicados de la columna id es: 0\n",
      "\n",
      "<class 'pandas.core.frame.DataFrame'>\n",
      "RangeIndex: 76051 entries, 0 to 76050\n",
      "Data columns (total 3 columns):\n",
      " #   Column        Non-Null Count  Dtype         \n",
      "---  ------        --------------  -----         \n",
      " 0   id            76051 non-null  object        \n",
      " 1   user_id       76051 non-null  int64         \n",
      " 2   message_date  76051 non-null  datetime64[ns]\n",
      "dtypes: datetime64[ns](1), int64(1), object(1)\n",
      "memory usage: 1.7+ MB\n"
     ]
    }
   ],
   "source": [
    "duplicate_id= df_messages.duplicated(subset=['id']).sum()\n",
    "print('El total de duplicados de la columna id es:', duplicate_id)\n",
    "print()\n",
    "df_messages['message_date'] = pd.to_datetime(df_messages['message_date'])\n",
    "df_messages.info()"
   ]
  },
  {
   "cell_type": "markdown",
   "metadata": {
    "id": "HvLid7iD0q1B"
   },
   "source": [
    "### Enriquecer los datos"
   ]
  },
  {
   "cell_type": "code",
   "execution_count": 190,
   "metadata": {},
   "outputs": [
    {
     "name": "stdout",
     "output_type": "stream",
     "text": [
      "         id  user_id message_date  month\n",
      "0  1000_125     1000   2018-12-27     12\n",
      "1  1000_160     1000   2018-12-31     12\n",
      "2  1000_223     1000   2018-12-31     12\n",
      "3  1000_251     1000   2018-12-27     12\n",
      "4  1000_255     1000   2018-12-26     12\n"
     ]
    }
   ],
   "source": [
    "df_messages['month'] = df_messages['message_date'].dt.month\n",
    "print(df_messages.head())"
   ]
  },
  {
   "cell_type": "markdown",
   "metadata": {
    "id": "bStkaxn40q1C"
   },
   "source": [
    "## Internet"
   ]
  },
  {
   "cell_type": "code",
   "execution_count": 191,
   "metadata": {
    "id": "e-Uz5qyn0q1C"
   },
   "outputs": [
    {
     "name": "stdout",
     "output_type": "stream",
     "text": [
      "Primera filas:\n",
      "         id  user_id session_date  mb_used\n",
      "0   1000_13     1000   2018-12-29    89.86\n",
      "1  1000_204     1000   2018-12-31     0.00\n",
      "2  1000_379     1000   2018-12-28   660.40\n",
      "3  1000_413     1000   2018-12-26   270.99\n",
      "4  1000_442     1000   2018-12-27   880.22\n",
      "\n",
      "Informacion:\n",
      "<class 'pandas.core.frame.DataFrame'>\n",
      "RangeIndex: 104825 entries, 0 to 104824\n",
      "Data columns (total 4 columns):\n",
      " #   Column        Non-Null Count   Dtype  \n",
      "---  ------        --------------   -----  \n",
      " 0   id            104825 non-null  object \n",
      " 1   user_id       104825 non-null  int64  \n",
      " 2   session_date  104825 non-null  object \n",
      " 3   mb_used       104825 non-null  float64\n",
      "dtypes: float64(1), int64(1), object(2)\n",
      "memory usage: 3.2+ MB\n",
      "None\n",
      "\n",
      "El total de valores ausentes es:\n",
      "id              0\n",
      "user_id         0\n",
      "session_date    0\n",
      "mb_used         0\n",
      "dtype: int64\n",
      "\n",
      "El total de valores duplicados es:\n",
      "0\n",
      "None\n"
     ]
    }
   ],
   "source": [
    "# Imprime la información general/resumida sobre el DataFrame de internet\n",
    "def first_lookup(datos):\n",
    "    print('Primera filas:')\n",
    "    print(datos.head())\n",
    "    print()\n",
    "    print('Informacion:')\n",
    "    print(datos.info())\n",
    "    print()\n",
    "    print('El total de valores ausentes es:')\n",
    "    print(datos.isna().sum())\n",
    "    print()\n",
    "    print('El total de valores duplicados es:')\n",
    "    print(datos.duplicated().sum())\n",
    "print(first_lookup(df_internet))\n",
    "\n",
    "\n"
   ]
  },
  {
   "cell_type": "markdown",
   "metadata": {
    "id": "EzOG5ik30q1D"
   },
   "source": [
    "[Describe lo que ves y observas en la información general y en la muestra de datos impresa para el precio de datos anterior. ¿Hay algún problema (tipos de datos no adecuados, datos ausentes, etc.) que pudieran necesitar investigación y cambios adicionales? ¿Cómo se puede arreglar?]"
   ]
  },
  {
   "cell_type": "markdown",
   "metadata": {},
   "source": [
    "La columna mb_used requiere comversion de unidades a gb finalizando con su redondeo al siguiente entero la empresa tanto gb como minutos cobrara demas aunque se pase por un decima, la columna session_date pasa a tipo fecha"
   ]
  },
  {
   "cell_type": "markdown",
   "metadata": {
    "id": "zlZMuIEK0q1D"
   },
   "source": [
    "[Corrige los problemas obvios con los datos basándote en las observaciones iniciales.]"
   ]
  },
  {
   "cell_type": "code",
   "execution_count": 192,
   "metadata": {
    "id": "zVeanzdd0q1E"
   },
   "outputs": [
    {
     "name": "stdout",
     "output_type": "stream",
     "text": [
      "El total de duplicados de la columna id es: 0\n",
      "\n",
      "              id  user_id session_date   gb_used  rounded_gb\n",
      "0        1000_13     1000   2018-12-29  0.087754           1\n",
      "1       1000_204     1000   2018-12-31  0.000000           0\n",
      "2       1000_379     1000   2018-12-28  0.644922           1\n",
      "3       1000_413     1000   2018-12-26  0.264639           1\n",
      "4       1000_442     1000   2018-12-27  0.859590           1\n",
      "...          ...      ...          ...       ...         ...\n",
      "104820  1499_215     1499   2018-10-20  0.212949           1\n",
      "104821  1499_216     1499   2018-12-30  0.297578           1\n",
      "104822  1499_217     1499   2018-09-22  0.285889           1\n",
      "104823  1499_218     1499   2018-12-07  0.000000           0\n",
      "104824  1499_219     1499   2018-12-24  0.740537           1\n",
      "\n",
      "[104825 rows x 5 columns]\n"
     ]
    }
   ],
   "source": [
    "duplicate_id= df_internet.duplicated(subset=['id']).sum()\n",
    "print('El total de duplicados de la columna id es:', duplicate_id)\n",
    "print()\n",
    "df_internet['gb_used'] = (df_internet['mb_used'] /1024)\n",
    "df_internet['rounded_gb'] = np.ceil(df_internet['gb_used']).astype(int)\n",
    "df_internet= df_internet.drop(columns=['mb_used'])\n",
    "df_internet = df_internet.reset_index(drop=True)\n",
    "print(df_internet)\n",
    "\n"
   ]
  },
  {
   "cell_type": "markdown",
   "metadata": {
    "id": "e8_mLF4a0q1E"
   },
   "source": [
    "### Enriquecer los datos"
   ]
  },
  {
   "cell_type": "markdown",
   "metadata": {
    "id": "xhNdn2tE0q1E"
   },
   "source": [
    "[Agrega factores adicionales a los datos si crees que pudieran ser útiles.]"
   ]
  },
  {
   "cell_type": "code",
   "execution_count": 193,
   "metadata": {
    "id": "ESiYPIEK0q1E"
   },
   "outputs": [
    {
     "name": "stdout",
     "output_type": "stream",
     "text": [
      "<class 'pandas.core.frame.DataFrame'>\n",
      "RangeIndex: 104825 entries, 0 to 104824\n",
      "Data columns (total 5 columns):\n",
      " #   Column        Non-Null Count   Dtype         \n",
      "---  ------        --------------   -----         \n",
      " 0   id            104825 non-null  object        \n",
      " 1   user_id       104825 non-null  int64         \n",
      " 2   session_date  104825 non-null  datetime64[ns]\n",
      " 3   gb_used       104825 non-null  float64       \n",
      " 4   rounded_gb    104825 non-null  int64         \n",
      "dtypes: datetime64[ns](1), float64(1), int64(2), object(1)\n",
      "memory usage: 4.0+ MB\n",
      "\n",
      "         id  user_id session_date   gb_used  rounded_gb  month\n",
      "0   1000_13     1000   2018-12-29  0.087754           1     12\n",
      "1  1000_204     1000   2018-12-31  0.000000           0     12\n",
      "2  1000_379     1000   2018-12-28  0.644922           1     12\n",
      "3  1000_413     1000   2018-12-26  0.264639           1     12\n",
      "4  1000_442     1000   2018-12-27  0.859590           1     12\n"
     ]
    }
   ],
   "source": [
    "df_internet['session_date'] = pd.to_datetime(df_internet['session_date'])\n",
    "df_internet.info()\n",
    "print()\n",
    "df_internet['month'] = df_internet['session_date'].dt.month\n",
    "print(df_internet.head())"
   ]
  },
  {
   "cell_type": "markdown",
   "metadata": {
    "id": "3UA2cqIW0q1E"
   },
   "source": [
    "## Estudiar las condiciones de las tarifas"
   ]
  },
  {
   "cell_type": "code",
   "execution_count": 194,
   "metadata": {
    "id": "i409op8p0q1F"
   },
   "outputs": [
    {
     "name": "stdout",
     "output_type": "stream",
     "text": [
      "   messages_included  minutes_included  usd_monthly_pay  usd_per_gb  \\\n",
      "0                 50               500               20          10   \n",
      "1               1000              3000               70           7   \n",
      "\n",
      "   usd_per_message  usd_per_minute plan_name  gb_per_month_included  \n",
      "0             0.03            0.03      surf                     15  \n",
      "1             0.01            0.01  ultimate                     30  \n"
     ]
    }
   ],
   "source": [
    "# Imprime las condiciones de la tarifa y asegúrate de que te quedan claras\n",
    "\n",
    "print(df_plans.head())"
   ]
  },
  {
   "cell_type": "markdown",
   "metadata": {
    "id": "hMR1tP5d0q1F"
   },
   "source": [
    "## Agregar datos por usuario\n",
    "\n",
    "[Ahora que los datos están limpios, agrega los datos por usuario y por periodo para que solo haya un registro por usuario y por periodo. Esto facilitará mucho el análisis posterior.]"
   ]
  },
  {
   "cell_type": "code",
   "execution_count": 195,
   "metadata": {
    "id": "A332cedB0q1G"
   },
   "outputs": [
    {
     "name": "stdout",
     "output_type": "stream",
     "text": [
      "      user_id  month  total_calls\n",
      "0        1000     12           16\n",
      "1        1001      8           27\n",
      "2        1001      9           49\n",
      "3        1001     10           65\n",
      "4        1001     11           64\n",
      "...       ...    ...          ...\n",
      "2253     1498     12           39\n",
      "2254     1499      9           41\n",
      "2255     1499     10           53\n",
      "2256     1499     11           45\n",
      "2257     1499     12           65\n",
      "\n",
      "[2258 rows x 3 columns]\n"
     ]
    }
   ],
   "source": [
    "# Calcula el número de llamadas hechas por cada usuario al mes. Guarda el resultado.\n",
    "fact_call = df_calls.groupby(['user_id', 'month']). agg({'rounded_duration' : ['count']})\n",
    "fact_call.columns = ['total_calls']\n",
    "fact_call.reset_index(inplace=True)\n",
    "print(fact_call)"
   ]
  },
  {
   "cell_type": "code",
   "execution_count": 196,
   "metadata": {
    "id": "aw2cmuql0q1G"
   },
   "outputs": [
    {
     "name": "stdout",
     "output_type": "stream",
     "text": [
      "      user_id  month  minutes_used  total_calls\n",
      "0        1000     12           124           16\n",
      "1        1001      8           182           27\n",
      "2        1001      9           315           49\n",
      "3        1001     10           393           65\n",
      "4        1001     11           426           64\n",
      "...       ...    ...           ...          ...\n",
      "2253     1498     12           339           39\n",
      "2254     1499      9           346           41\n",
      "2255     1499     10           385           53\n",
      "2256     1499     11           308           45\n",
      "2257     1499     12           496           65\n",
      "\n",
      "[2258 rows x 4 columns]\n"
     ]
    }
   ],
   "source": [
    "# Calcula la cantidad de minutos usados por cada usuario al mes. Guarda el resultado.\n",
    "\n",
    "fact_call = df_calls.groupby(['user_id', 'month']). agg({'rounded_duration' : ['sum', 'count']})\n",
    "fact_call.columns = ['minutes_used', 'total_calls']\n",
    "fact_call.reset_index(inplace=True)\n",
    "print(fact_call)"
   ]
  },
  {
   "cell_type": "code",
   "execution_count": 197,
   "metadata": {
    "id": "CcQvNHn60q1G"
   },
   "outputs": [
    {
     "name": "stdout",
     "output_type": "stream",
     "text": [
      "      user_id  month  total_messages\n",
      "0        1000     12              11\n",
      "1        1001      8              30\n",
      "2        1001      9              44\n",
      "3        1001     10              53\n",
      "4        1001     11              36\n",
      "...       ...    ...             ...\n",
      "1801     1496      9              21\n",
      "1802     1496     10              18\n",
      "1803     1496     11              13\n",
      "1804     1496     12              11\n",
      "1805     1497     12              50\n",
      "\n",
      "[1806 rows x 3 columns]\n"
     ]
    }
   ],
   "source": [
    "# Calcula el número de mensajes enviados por cada usuario al mes. Guarda el resultado.\n",
    "fact_messages = df_messages.groupby(['user_id', 'month']). agg({'id' : ['count']})\n",
    "fact_messages.columns = ['total_messages']\n",
    "fact_messages.reset_index(inplace=True)\n",
    "print(fact_messages)\n",
    "\n",
    "\n"
   ]
  },
  {
   "cell_type": "code",
   "execution_count": 198,
   "metadata": {
    "id": "H1AqN2eG0q1H"
   },
   "outputs": [
    {
     "name": "stdout",
     "output_type": "stream",
     "text": [
      "      user_id  month  gb_used_user  gb_used_user_rounded\n",
      "0        1000     12      1.856904                     2\n",
      "1        1001      8      6.756982                     7\n",
      "2        1001      9     13.002754                    14\n",
      "3        1001     10     21.807119                    22\n",
      "4        1001     11     18.070605                    19\n",
      "...       ...    ...           ...                   ...\n",
      "2272     1498     12     22.595400                    23\n",
      "2273     1499      9     12.680430                    13\n",
      "2274     1499     10     19.035576                    20\n",
      "2275     1499     11     16.419756                    17\n",
      "2276     1499     12     21.542197                    22\n",
      "\n",
      "[2277 rows x 4 columns]\n"
     ]
    }
   ],
   "source": [
    "# Calcula el volumen del tráfico de Internet usado por cada usuario al mes. Guarda el resultado.\n",
    "fact_internet = df_internet.groupby(['user_id', 'month']). agg({'gb_used' : ['sum']})\n",
    "fact_internet.columns = ['gb_used_user']\n",
    "fact_internet['gb_used_user_rounded'] = np.ceil(fact_internet['gb_used_user']).astype(int)\n",
    "fact_internet.reset_index(inplace=True)\n",
    "print(fact_internet)"
   ]
  },
  {
   "cell_type": "code",
   "execution_count": 199,
   "metadata": {
    "id": "FW99ykyf0q1H"
   },
   "outputs": [
    {
     "name": "stdout",
     "output_type": "stream",
     "text": [
      "      user_id  month  minutes_used  total_calls  total_messages  gb_used_user  \\\n",
      "0        1000   12.0         124.0         16.0            11.0      1.856904   \n",
      "1        1001    8.0         182.0         27.0            30.0      6.756982   \n",
      "2        1001    9.0         315.0         49.0            44.0     13.002754   \n",
      "3        1001   10.0         393.0         65.0            53.0     21.807119   \n",
      "4        1001   11.0         426.0         64.0            36.0     18.070605   \n",
      "...       ...    ...           ...          ...             ...           ...   \n",
      "2298     1307    NaN           NaN          NaN             NaN           NaN   \n",
      "2299     1319    NaN           NaN          NaN             NaN           NaN   \n",
      "2300     1378    NaN           NaN          NaN             NaN           NaN   \n",
      "2301     1463    NaN           NaN          NaN             NaN           NaN   \n",
      "2302     1473    NaN           NaN          NaN             NaN           NaN   \n",
      "\n",
      "      gb_used_user_rounded                                    city      plan  \n",
      "0                      2.0   Atlanta-Sandy Springs-Roswell, GA MSA  ultimate  \n",
      "1                      7.0         Seattle-Tacoma-Bellevue, WA MSA      surf  \n",
      "2                     14.0         Seattle-Tacoma-Bellevue, WA MSA      surf  \n",
      "3                     22.0         Seattle-Tacoma-Bellevue, WA MSA      surf  \n",
      "4                     19.0         Seattle-Tacoma-Bellevue, WA MSA      surf  \n",
      "...                    ...                                     ...       ...  \n",
      "2298                   NaN      Boston-Cambridge-Newton, MA-NH MSA      surf  \n",
      "2299                   NaN                Colorado Springs, CO MSA      surf  \n",
      "2300                   NaN          Denver-Aurora-Lakewood, CO MSA      surf  \n",
      "2301                   NaN   Atlanta-Sandy Springs-Roswell, GA MSA  ultimate  \n",
      "2302                   NaN  Louisville/Jefferson County, KY-IN MSA      surf  \n",
      "\n",
      "[2303 rows x 9 columns]\n"
     ]
    }
   ],
   "source": [
    "# Fusiona los datos de llamadas, minutos, mensajes e Internet con base en user_id y month\n",
    "inter_calls_messages = fact_call.merge(fact_messages, on= ['user_id', 'month'], how= 'outer')\n",
    "inter_calls_messages_internet = inter_calls_messages.merge(fact_internet, on= ['user_id', 'month'], how= 'outer')\n",
    "inter_fact_consumption = inter_calls_messages_internet.merge(df_users[['user_id', 'city', 'plan']], on=['user_id'], how= 'outer')\n",
    "print(inter_fact_consumption)\n"
   ]
  },
  {
   "cell_type": "code",
   "execution_count": 200,
   "metadata": {
    "id": "0dNOXHag0q1H"
   },
   "outputs": [
    {
     "name": "stdout",
     "output_type": "stream",
     "text": [
      "      user_id  month  minutes_used  total_calls  total_messages  gb_used_user  \\\n",
      "0        1000   12.0         124.0         16.0            11.0      1.856904   \n",
      "1        1006   11.0          10.0          2.0            15.0      2.019893   \n",
      "2        1006   12.0          59.0          9.0           139.0     31.366035   \n",
      "3        1008   10.0         476.0         71.0            21.0     16.706045   \n",
      "4        1008   11.0         446.0         63.0            37.0     23.121797   \n",
      "...       ...    ...           ...          ...             ...           ...   \n",
      "2298     1143    NaN           NaN          NaN             NaN           NaN   \n",
      "2299     1307    NaN           NaN          NaN             NaN           NaN   \n",
      "2300     1319    NaN           NaN          NaN             NaN           NaN   \n",
      "2301     1378    NaN           NaN          NaN             NaN           NaN   \n",
      "2302     1473    NaN           NaN          NaN             NaN           NaN   \n",
      "\n",
      "      gb_used_user_rounded                                    city      plan  \\\n",
      "0                      2.0   Atlanta-Sandy Springs-Roswell, GA MSA  ultimate   \n",
      "1                      3.0  San Francisco-Oakland-Berkeley, CA MSA  ultimate   \n",
      "2                     32.0  San Francisco-Oakland-Berkeley, CA MSA  ultimate   \n",
      "3                     17.0       Orlando-Kissimmee-Sanford, FL MSA  ultimate   \n",
      "4                     24.0       Orlando-Kissimmee-Sanford, FL MSA  ultimate   \n",
      "...                    ...                                     ...       ...   \n",
      "2298                   NaN                Cincinnati, OH-KY-IN MSA      surf   \n",
      "2299                   NaN      Boston-Cambridge-Newton, MA-NH MSA      surf   \n",
      "2300                   NaN                Colorado Springs, CO MSA      surf   \n",
      "2301                   NaN          Denver-Aurora-Lakewood, CO MSA      surf   \n",
      "2302                   NaN  Louisville/Jefferson County, KY-IN MSA      surf   \n",
      "\n",
      "      messages_included  minutes_included  usd_monthly_pay  usd_per_gb  \\\n",
      "0                  1000              3000               70           7   \n",
      "1                  1000              3000               70           7   \n",
      "2                  1000              3000               70           7   \n",
      "3                  1000              3000               70           7   \n",
      "4                  1000              3000               70           7   \n",
      "...                 ...               ...              ...         ...   \n",
      "2298                 50               500               20          10   \n",
      "2299                 50               500               20          10   \n",
      "2300                 50               500               20          10   \n",
      "2301                 50               500               20          10   \n",
      "2302                 50               500               20          10   \n",
      "\n",
      "      usd_per_message  usd_per_minute plan_name  gb_per_month_included  \n",
      "0                0.01            0.01  ultimate                     30  \n",
      "1                0.01            0.01  ultimate                     30  \n",
      "2                0.01            0.01  ultimate                     30  \n",
      "3                0.01            0.01  ultimate                     30  \n",
      "4                0.01            0.01  ultimate                     30  \n",
      "...               ...             ...       ...                    ...  \n",
      "2298             0.03            0.03      surf                     15  \n",
      "2299             0.03            0.03      surf                     15  \n",
      "2300             0.03            0.03      surf                     15  \n",
      "2301             0.03            0.03      surf                     15  \n",
      "2302             0.03            0.03      surf                     15  \n",
      "\n",
      "[2303 rows x 17 columns]\n"
     ]
    }
   ],
   "source": [
    "# Añade la información de la tarifa\n",
    "int_fact_plans = inter_fact_consumption.merge(df_plans, left_on = 'plan', right_on = 'plan_name', how= 'inner')\n",
    "print(int_fact_plans)\n"
   ]
  },
  {
   "cell_type": "code",
   "execution_count": 201,
   "metadata": {},
   "outputs": [
    {
     "name": "stdout",
     "output_type": "stream",
     "text": [
      "user_id                    0\n",
      "month                     10\n",
      "minutes_used              45\n",
      "total_calls               45\n",
      "total_messages           497\n",
      "gb_used_user              26\n",
      "gb_used_user_rounded      26\n",
      "city                       0\n",
      "plan                       0\n",
      "messages_included          0\n",
      "minutes_included           0\n",
      "usd_monthly_pay            0\n",
      "usd_per_gb                 0\n",
      "usd_per_message            0\n",
      "usd_per_minute             0\n",
      "plan_name                  0\n",
      "gb_per_month_included      0\n",
      "dtype: int64\n"
     ]
    }
   ],
   "source": [
    "# Analizar si tabla inermedia tiene valores ausentes y rellenarlos\n",
    "print(int_fact_plans.isna().sum())\n"
   ]
  },
  {
   "cell_type": "code",
   "execution_count": 202,
   "metadata": {},
   "outputs": [
    {
     "name": "stdout",
     "output_type": "stream",
     "text": [
      "None\n"
     ]
    }
   ],
   "source": [
    "print(int_fact_plans.fillna(0, inplace=True))"
   ]
  },
  {
   "cell_type": "code",
   "execution_count": 203,
   "metadata": {},
   "outputs": [],
   "source": [
    "def billable_calls(row):\n",
    "    minutes_used = row['minutes_used']\n",
    "    ext_charges = 0\n",
    "    if minutes_used > row['minutes_included']:\n",
    "      ext_charges = minutes_used -  row['minutes_included']\n",
    "    if minutes_used > row['minutes_included']:\n",
    "      ext_charges = minutes_used -  row['minutes_included']\n",
    "    return ext_charges"
   ]
  },
  {
   "cell_type": "code",
   "execution_count": 204,
   "metadata": {},
   "outputs": [],
   "source": [
    "def billable_messages(row):\n",
    "    total_messages = row['total_messages']\n",
    "    ext_charges = 0\n",
    "    if total_messages > row['messages_included']:\n",
    "       ext_charges = total_messages - row['messages_included']\n",
    "    if total_messages > row['messages_included']:\n",
    "       ext_charges = total_messages - row['messages_included']\n",
    "    return ext_charges"
   ]
  },
  {
   "cell_type": "code",
   "execution_count": 205,
   "metadata": {},
   "outputs": [],
   "source": [
    "def billable_internet(row):\n",
    "    gb_used_user = row['gb_used_user_rounded']\n",
    "    ext_charges = 0\n",
    "    if gb_used_user > row['gb_per_month_included']:\n",
    "       ext_charges = gb_used_user - row['gb_per_month_included']\n",
    "    if gb_used_user > row['gb_per_month_included']:\n",
    "       ext_charges = gb_used_user - row['gb_per_month_included']\n",
    "    return ext_charges"
   ]
  },
  {
   "cell_type": "code",
   "execution_count": 206,
   "metadata": {},
   "outputs": [
    {
     "name": "stdout",
     "output_type": "stream",
     "text": [
      "      user_id  month  minutes_used  total_calls  total_messages  gb_used_user  \\\n",
      "0        1000   12.0         124.0         16.0            11.0      1.856904   \n",
      "1        1006   11.0          10.0          2.0            15.0      2.019893   \n",
      "2        1006   12.0          59.0          9.0           139.0     31.366035   \n",
      "3        1008   10.0         476.0         71.0            21.0     16.706045   \n",
      "4        1008   11.0         446.0         63.0            37.0     23.121797   \n",
      "...       ...    ...           ...          ...             ...           ...   \n",
      "2298     1143    0.0           0.0          0.0             0.0      0.000000   \n",
      "2299     1307    0.0           0.0          0.0             0.0      0.000000   \n",
      "2300     1319    0.0           0.0          0.0             0.0      0.000000   \n",
      "2301     1378    0.0           0.0          0.0             0.0      0.000000   \n",
      "2302     1473    0.0           0.0          0.0             0.0      0.000000   \n",
      "\n",
      "      gb_used_user_rounded                                    city      plan  \\\n",
      "0                      2.0   Atlanta-Sandy Springs-Roswell, GA MSA  ultimate   \n",
      "1                      3.0  San Francisco-Oakland-Berkeley, CA MSA  ultimate   \n",
      "2                     32.0  San Francisco-Oakland-Berkeley, CA MSA  ultimate   \n",
      "3                     17.0       Orlando-Kissimmee-Sanford, FL MSA  ultimate   \n",
      "4                     24.0       Orlando-Kissimmee-Sanford, FL MSA  ultimate   \n",
      "...                    ...                                     ...       ...   \n",
      "2298                   0.0                Cincinnati, OH-KY-IN MSA      surf   \n",
      "2299                   0.0      Boston-Cambridge-Newton, MA-NH MSA      surf   \n",
      "2300                   0.0                Colorado Springs, CO MSA      surf   \n",
      "2301                   0.0          Denver-Aurora-Lakewood, CO MSA      surf   \n",
      "2302                   0.0  Louisville/Jefferson County, KY-IN MSA      surf   \n",
      "\n",
      "      messages_included  minutes_included  usd_monthly_pay  usd_per_gb  \\\n",
      "0                  1000              3000               70           7   \n",
      "1                  1000              3000               70           7   \n",
      "2                  1000              3000               70           7   \n",
      "3                  1000              3000               70           7   \n",
      "4                  1000              3000               70           7   \n",
      "...                 ...               ...              ...         ...   \n",
      "2298                 50               500               20          10   \n",
      "2299                 50               500               20          10   \n",
      "2300                 50               500               20          10   \n",
      "2301                 50               500               20          10   \n",
      "2302                 50               500               20          10   \n",
      "\n",
      "      usd_per_message  usd_per_minute plan_name  gb_per_month_included  \\\n",
      "0                0.01            0.01  ultimate                     30   \n",
      "1                0.01            0.01  ultimate                     30   \n",
      "2                0.01            0.01  ultimate                     30   \n",
      "3                0.01            0.01  ultimate                     30   \n",
      "4                0.01            0.01  ultimate                     30   \n",
      "...               ...             ...       ...                    ...   \n",
      "2298             0.03            0.03      surf                     15   \n",
      "2299             0.03            0.03      surf                     15   \n",
      "2300             0.03            0.03      surf                     15   \n",
      "2301             0.03            0.03      surf                     15   \n",
      "2302             0.03            0.03      surf                     15   \n",
      "\n",
      "      billable_calls  billable_messages  billable_internet  \n",
      "0                0.0                0.0                0.0  \n",
      "1                0.0                0.0                0.0  \n",
      "2                0.0                0.0                2.0  \n",
      "3                0.0                0.0                0.0  \n",
      "4                0.0                0.0                0.0  \n",
      "...              ...                ...                ...  \n",
      "2298             0.0                0.0                0.0  \n",
      "2299             0.0                0.0                0.0  \n",
      "2300             0.0                0.0                0.0  \n",
      "2301             0.0                0.0                0.0  \n",
      "2302             0.0                0.0                0.0  \n",
      "\n",
      "[2303 rows x 20 columns]\n"
     ]
    }
   ],
   "source": [
    "int_fact_plans['billable_calls'] = int_fact_plans.apply(billable_calls, axis=1)\n",
    "int_fact_plans['billable_messages'] = int_fact_plans.apply(billable_messages, axis=1)\n",
    "int_fact_plans['billable_internet'] = int_fact_plans.apply(billable_internet, axis=1)\n",
    "print(int_fact_plans)\n"
   ]
  },
  {
   "cell_type": "code",
   "execution_count": 207,
   "metadata": {
    "id": "5FGCf_c60q1I"
   },
   "outputs": [],
   "source": [
    "# Calcula el ingreso mensual para cada usuario\n",
    "def monthly_income(row):\n",
    "    ext_calls = row['billable_calls']\n",
    "    ext_messages = row['billable_messages']\n",
    "    ext_internet = row['billable_internet']\n",
    "    total_income = row['usd_monthly_pay'] + (ext_calls * row['usd_per_minute'] + ext_messages * row['usd_per_message'] + ext_internet * row['usd_per_gb'])\n",
    "    return total_income\n",
    "\n",
    "\n",
    "    \n"
   ]
  },
  {
   "cell_type": "code",
   "execution_count": 208,
   "metadata": {},
   "outputs": [
    {
     "name": "stdout",
     "output_type": "stream",
     "text": [
      "      user_id  month  minutes_used  total_calls  total_messages  gb_used_user  \\\n",
      "0        1000   12.0         124.0         16.0            11.0      1.856904   \n",
      "1        1006   11.0          10.0          2.0            15.0      2.019893   \n",
      "2        1006   12.0          59.0          9.0           139.0     31.366035   \n",
      "3        1008   10.0         476.0         71.0            21.0     16.706045   \n",
      "4        1008   11.0         446.0         63.0            37.0     23.121797   \n",
      "...       ...    ...           ...          ...             ...           ...   \n",
      "2298     1143    0.0           0.0          0.0             0.0      0.000000   \n",
      "2299     1307    0.0           0.0          0.0             0.0      0.000000   \n",
      "2300     1319    0.0           0.0          0.0             0.0      0.000000   \n",
      "2301     1378    0.0           0.0          0.0             0.0      0.000000   \n",
      "2302     1473    0.0           0.0          0.0             0.0      0.000000   \n",
      "\n",
      "      gb_used_user_rounded                                    city      plan  \\\n",
      "0                      2.0   Atlanta-Sandy Springs-Roswell, GA MSA  ultimate   \n",
      "1                      3.0  San Francisco-Oakland-Berkeley, CA MSA  ultimate   \n",
      "2                     32.0  San Francisco-Oakland-Berkeley, CA MSA  ultimate   \n",
      "3                     17.0       Orlando-Kissimmee-Sanford, FL MSA  ultimate   \n",
      "4                     24.0       Orlando-Kissimmee-Sanford, FL MSA  ultimate   \n",
      "...                    ...                                     ...       ...   \n",
      "2298                   0.0                Cincinnati, OH-KY-IN MSA      surf   \n",
      "2299                   0.0      Boston-Cambridge-Newton, MA-NH MSA      surf   \n",
      "2300                   0.0                Colorado Springs, CO MSA      surf   \n",
      "2301                   0.0          Denver-Aurora-Lakewood, CO MSA      surf   \n",
      "2302                   0.0  Louisville/Jefferson County, KY-IN MSA      surf   \n",
      "\n",
      "      messages_included  ...  usd_monthly_pay  usd_per_gb  usd_per_message  \\\n",
      "0                  1000  ...               70           7             0.01   \n",
      "1                  1000  ...               70           7             0.01   \n",
      "2                  1000  ...               70           7             0.01   \n",
      "3                  1000  ...               70           7             0.01   \n",
      "4                  1000  ...               70           7             0.01   \n",
      "...                 ...  ...              ...         ...              ...   \n",
      "2298                 50  ...               20          10             0.03   \n",
      "2299                 50  ...               20          10             0.03   \n",
      "2300                 50  ...               20          10             0.03   \n",
      "2301                 50  ...               20          10             0.03   \n",
      "2302                 50  ...               20          10             0.03   \n",
      "\n",
      "      usd_per_minute  plan_name gb_per_month_included  billable_calls  \\\n",
      "0               0.01   ultimate                    30             0.0   \n",
      "1               0.01   ultimate                    30             0.0   \n",
      "2               0.01   ultimate                    30             0.0   \n",
      "3               0.01   ultimate                    30             0.0   \n",
      "4               0.01   ultimate                    30             0.0   \n",
      "...              ...        ...                   ...             ...   \n",
      "2298            0.03       surf                    15             0.0   \n",
      "2299            0.03       surf                    15             0.0   \n",
      "2300            0.03       surf                    15             0.0   \n",
      "2301            0.03       surf                    15             0.0   \n",
      "2302            0.03       surf                    15             0.0   \n",
      "\n",
      "      billable_messages  billable_internet  monthly_income  \n",
      "0                   0.0                0.0            70.0  \n",
      "1                   0.0                0.0            70.0  \n",
      "2                   0.0                2.0            84.0  \n",
      "3                   0.0                0.0            70.0  \n",
      "4                   0.0                0.0            70.0  \n",
      "...                 ...                ...             ...  \n",
      "2298                0.0                0.0            20.0  \n",
      "2299                0.0                0.0            20.0  \n",
      "2300                0.0                0.0            20.0  \n",
      "2301                0.0                0.0            20.0  \n",
      "2302                0.0                0.0            20.0  \n",
      "\n",
      "[2303 rows x 21 columns]\n"
     ]
    }
   ],
   "source": [
    "int_fact_plans['monthly_income'] = int_fact_plans.apply(monthly_income, axis=1)\n",
    "print(int_fact_plans)"
   ]
  },
  {
   "cell_type": "markdown",
   "metadata": {
    "id": "-jtyHzJb0q1I"
   },
   "source": [
    "## Estudia el comportamiento de usuario"
   ]
  },
  {
   "cell_type": "markdown",
   "metadata": {
    "id": "vtW4CJEe0q1J"
   },
   "source": [
    "### Llamadas"
   ]
  },
  {
   "cell_type": "code",
   "execution_count": 209,
   "metadata": {
    "id": "Jf5v5--k0q1J"
   },
   "outputs": [],
   "source": [
    "# Compara la duración promedio de llamadas por cada plan y por cada mes. Traza un gráfico de barras para visualizarla.\n",
    "int_fact_plans['avg_minutes_used'] = int_fact_plans.groupby(['plan', 'month'])['minutes_used'].transform('mean')\n"
   ]
  },
  {
   "cell_type": "code",
   "execution_count": 210,
   "metadata": {},
   "outputs": [
    {
     "data": {
      "image/png": "[encoded data removed]",
      "text/plain": [
       "<Figure size 1200x600 with 1 Axes>"
      ]
     },
     "metadata": {},
     "output_type": "display_data"
    }
   ],
   "source": [
    "#Graficar la duración promedio de llamadas por plan y mes\n",
    "plt.figure(figsize=(12, 6))\n",
    "sns.barplot(data=int_fact_plans, x='month', y='avg_minutes_used', hue='plan', ci=None)\n",
    "plt.xlabel('Month')\n",
    "plt.ylabel('Average minutes used')\n",
    "plt.legend(title='Plan')\n",
    "plt.grid(axis='y')\n",
    "plt.show()"
   ]
  },
  {
   "cell_type": "markdown",
   "metadata": {},
   "source": [
    "En el grafico la duracion promedio de llamadas no se podria decir que alguno de los planes tuvo mayor predominio ambos tienen pico asi que se comentara por mes\n",
    "a) En enero predomina ligeramente el plan surf se puede deber a que en enero la mayoria de clientes estan mas gastados y se ocupa mejor este plan\n",
    "b) En febrero nos muestra una notorio predominio en el plan ultimate sobre el surf se puede deber a un sin fin de razones se podria hacer una encuesta para saber porque los clientes prefieren usar este plan este mes\n",
    "c) En marzo y abril un predominio del plan surf pero muy ligera la diferencia\n",
    "d) En mayo algo parejo en mabos planes pero mayor preferencia del plan ultimate\n",
    "f)junio y julio predominio del plan surf se puede deber a que son meses son de vacaciones pudo haber mayor demanda del plan\n",
    "g)agosto a noviembre predominio total del plan ultimate\n",
    "h) diciembre predominio del plan surf en general se puede decir que demanda de ambos planes pero varia mucho se puede deber a muchas razones que el departamento de marketing tiene la tarea de descubrir"
   ]
  },
  {
   "cell_type": "code",
   "execution_count": 211,
   "metadata": {},
   "outputs": [],
   "source": [
    "# Compara el numero de llamadas promedio  por cada plan y por cada mes. Traza un gráfico de barras para visualizarla.\n",
    "int_fact_plans['avg_total_calls'] = int_fact_plans.groupby(['plan', 'month'])['total_calls'].transform('mean')\n"
   ]
  },
  {
   "cell_type": "code",
   "execution_count": 212,
   "metadata": {
    "scrolled": true
   },
   "outputs": [
    {
     "data": {
      "image/png": "[encoded data removed]",
      "text/plain": [
       "<Figure size 1200x600 with 1 Axes>"
      ]
     },
     "metadata": {},
     "output_type": "display_data"
    }
   ],
   "source": [
    "#Graficar el numero de llamadas promedio  por plan y mes\n",
    "plt.figure(figsize=(12, 6))\n",
    "sns.barplot(data=int_fact_plans, x='month', y='avg_total_calls', hue='plan', ci=None)\n",
    "plt.xlabel('Month')\n",
    "plt.ylabel('Average numero de llamadas')\n",
    "plt.legend(title='Plan')\n",
    "plt.grid(axis='y')\n",
    "plt.show()"
   ]
  },
  {
   "cell_type": "markdown",
   "metadata": {},
   "source": [
    "El grafico en base al mumero de llamadas al mes se puede inferir que en general hay una demanda un numero considerable para ambos planes solo en dos meses en especial la diferencia fue notoria"
   ]
  },
  {
   "cell_type": "code",
   "execution_count": 213,
   "metadata": {},
   "outputs": [],
   "source": [
    "int_fact_plans['total_minutes_used'] = int_fact_plans.groupby(['plan', 'month'])['minutes_used'].transform('sum')\n",
    "\n"
   ]
  },
  {
   "cell_type": "code",
   "execution_count": 214,
   "metadata": {
    "id": "QoLqW1S_0q1J"
   },
   "outputs": [
    {
     "data": {
      "image/png": "[encoded data removed]",
      "text/plain": [
       "<Figure size 640x480 with 1 Axes>"
      ]
     },
     "metadata": {},
     "output_type": "display_data"
    }
   ],
   "source": [
    "# Compara el número de minutos mensuales que necesitan los usuarios de cada plan. Traza un histograma.\n",
    "sns.histplot(data=int_fact_plans, x='total_minutes_used', hue='plan', multiple='stack', bins=20)\n",
    "plt.title('Numero de minutos mensuales por usuario por cada plan')\n",
    "plt.xlabel('Total minutes used')\n",
    "plt.ylabel('Frecuency')\n",
    "plt.legend(title='Plan', labels=['Surf', 'Ultimate'])\n",
    "plt.grid(axis='y')\n",
    "plt.show()\n"
   ]
  },
  {
   "cell_type": "markdown",
   "metadata": {
    "id": "bLS9T8OH0q1K"
   },
   "source": [
    "[Calcula la media y la variable de la duración de las llamadas para averiguar si los usuarios de los distintos planes se comportan de forma diferente al realizar sus llamadas.]"
   ]
  },
  {
   "cell_type": "code",
   "execution_count": 215,
   "metadata": {
    "id": "oSndbAnt0q1K"
   },
   "outputs": [
    {
     "data": {
      "text/plain": [
       "0       63180.258670\n",
       "1       54351.738142\n",
       "2       63180.258670\n",
       "3       52829.190527\n",
       "4       54351.738142\n",
       "            ...     \n",
       "2298        0.000000\n",
       "2299        0.000000\n",
       "2300        0.000000\n",
       "2301        0.000000\n",
       "2302        0.000000\n",
       "Name: variance_monthly_call, Length: 2303, dtype: float64"
      ]
     },
     "execution_count": 215,
     "metadata": {},
     "output_type": "execute_result"
    }
   ],
   "source": [
    "# Calcula la media y la varianza de la duración mensual de llamadas.\n",
    "int_fact_plans['variance_monthly_call']= int_fact_plans.groupby('month')['minutes_used'].transform('var')\n",
    "int_fact_plans['variance_monthly_call']\n",
    "\n",
    "\n"
   ]
  },
  {
   "cell_type": "code",
   "execution_count": 216,
   "metadata": {},
   "outputs": [
    {
     "name": "stdout",
     "output_type": "stream",
     "text": [
      "         plan  mean_minutes_used  variance_minutes_used  median_minutes_used\n",
      "0    ultimate         428.071823           58543.878652                421.5\n",
      "724      surf         427.120329           55455.577400                424.0\n"
     ]
    }
   ],
   "source": [
    "#Calcula la media y la varianza de la duracion de llamadas por plan\n",
    "mean_call_surf = int_fact_plans[int_fact_plans['plan'] == 'surf']['minutes_used'].mean()\n",
    "mean_call_ultimate = int_fact_plans[int_fact_plans['plan'] == 'ultimate']['minutes_used'].mean()\n",
    "median_call_ultimate = int_fact_plans[int_fact_plans['plan'] == 'ultimate']['minutes_used'].median()\n",
    "var_call_surf = int_fact_plans[int_fact_plans['plan'] == 'surf']['minutes_used'].var()\n",
    "var_call_ultimate = int_fact_plans[int_fact_plans['plan'] == 'ultimate']['minutes_used'].var()\n",
    "median_call_surf = int_fact_plans[int_fact_plans['plan'] == 'surf']['minutes_used'].median()\n",
    "int_fact_plans['mean_minutes_used'] = int_fact_plans['plan'].map({\n",
    "    'surf': mean_call_surf,\n",
    "    'ultimate': mean_call_ultimate\n",
    "    })\n",
    "int_fact_plans['variance_minutes_used'] = int_fact_plans['plan'].map({\n",
    "    'surf': var_call_surf,\n",
    "    'ultimate': var_call_ultimate\n",
    "})\n",
    "int_fact_plans['median_minutes_used'] = int_fact_plans['plan'].map({\n",
    "    'surf': median_call_surf,\n",
    "    'ultimate': median_call_ultimate\n",
    "})\n",
    "int_fact_plans.reset_index(drop=True, inplace=True)\n",
    "print(int_fact_plans[['plan', 'mean_minutes_used', 'variance_minutes_used', 'median_minutes_used']].drop_duplicates())"
   ]
  },
  {
   "cell_type": "code",
   "execution_count": 217,
   "metadata": {},
   "outputs": [
    {
     "data": {
      "text/plain": [
       "0       9800.0\n",
       "1       7920.0\n",
       "2       9800.0\n",
       "3       6761.0\n",
       "4       7920.0\n",
       "         ...  \n",
       "2298       0.0\n",
       "2299       0.0\n",
       "2300       0.0\n",
       "2301       0.0\n",
       "2302       0.0\n",
       "Name: avg_monthly_total_call, Length: 2303, dtype: float64"
      ]
     },
     "execution_count": 217,
     "metadata": {},
     "output_type": "execute_result"
    }
   ],
   "source": [
    "#Calcula la media y la varianza del numero total  de llamadas al mes\n",
    "int_fact_plans['variance_monthly_total_call']= int_fact_plans.groupby('month')['total_calls'].transform('var')\n",
    "int_fact_plans['variance_monthly_total_call']\n",
    "int_fact_plans['avg_monthly_total_call'] = int_fact_plans.groupby(['plan', 'month'])['total_calls'].transform('sum')\n",
    "int_fact_plans['avg_monthly_total_call']"
   ]
  },
  {
   "cell_type": "code",
   "execution_count": 218,
   "metadata": {},
   "outputs": [
    {
     "name": "stdout",
     "output_type": "stream",
     "text": [
      "         plan  mean_total_calls  variance_total_calls  median_total_calls\n",
      "0    ultimate         60.291436           1119.205404                61.0\n",
      "724      surf         59.584547           1034.804476                60.0\n"
     ]
    }
   ],
   "source": [
    "#Calcula la media y la varianza del numero de llamadas por plan\n",
    "mean_total_call_surf = int_fact_plans[int_fact_plans['plan'] == 'surf']['total_calls'].mean()\n",
    "mean_total_call_ultimate = int_fact_plans[int_fact_plans['plan'] == 'ultimate']['total_calls'].mean()\n",
    "median_total_call_ultimate = int_fact_plans[int_fact_plans['plan'] == 'ultimate']['total_calls'].median()\n",
    "var_total_call_surf = int_fact_plans[int_fact_plans['plan'] == 'surf']['total_calls'].var()\n",
    "var_total_call_ultimate = int_fact_plans[int_fact_plans['plan'] == 'ultimate']['total_calls'].var()\n",
    "median_total_call_surf = int_fact_plans[int_fact_plans['plan'] == 'surf']['total_calls'].median()\n",
    "int_fact_plans['mean_total_calls'] = int_fact_plans['plan'].map({\n",
    "    'surf': mean_total_call_surf,\n",
    "    'ultimate': mean_total_call_ultimate\n",
    "    })\n",
    "int_fact_plans['variance_total_calls'] = int_fact_plans['plan'].map({\n",
    "    'surf': var_total_call_surf,\n",
    "    'ultimate': var_total_call_ultimate\n",
    "})\n",
    "int_fact_plans['median_total_calls'] = int_fact_plans['plan'].map({\n",
    "    'surf': median_total_call_surf,\n",
    "    'ultimate': median_total_call_ultimate\n",
    "})\n",
    "int_fact_plans.reset_index(drop=True, inplace=True)\n",
    "print(int_fact_plans[['plan', 'mean_total_calls', 'variance_total_calls', 'median_total_calls']].drop_duplicates())"
   ]
  },
  {
   "cell_type": "code",
   "execution_count": 219,
   "metadata": {
    "id": "nZzoRUKc0q1K"
   },
   "outputs": [
    {
     "data": {
      "image/png": "[encoded data removed]",
      "text/plain": [
       "<Figure size 1200x600 with 1 Axes>"
      ]
     },
     "metadata": {},
     "output_type": "display_data"
    }
   ],
   "source": [
    "# Traza un diagrama de caja para visualizar la distribución de la duración mensual de llamadas\n",
    "plt.figure(figsize=(12, 6))\n",
    "sns.boxplot(data= int_fact_plans, x='month', y='minutes_used', hue='plan')\n",
    "plt.title('Distribucion de la duración mensual de llamadas')\n",
    "plt.xlabel('Month')\n",
    "plt.ylabel('Minutes_used')\n",
    "plt.grid(axis='y')\n",
    "plt.legend(title='Plan')\n",
    "plt.tight_layout()\n",
    "plt.show()"
   ]
  },
  {
   "cell_type": "markdown",
   "metadata": {},
   "source": [
    "Explicacion del diagrama de caja y bigote \n",
    "Es igual de notorio en este grafico la gran variacion en el uso de minutos nos muestra que nunca fue estable de hecho apartir de julio hasta diciembre hay mas presencia de valores atipicos pero lo importante a destacar es que esos meses hay mas semejanza en los planes en valore de mediana y los valores de Q1 y Q3 donde se presenta la variacion es en los valores iniciales y finales en cuanto al uso de minutos"
   ]
  },
  {
   "cell_type": "code",
   "execution_count": 220,
   "metadata": {},
   "outputs": [
    {
     "data": {
      "image/png": "[encoded data removed]",
      "text/plain": [
       "<Figure size 1200x600 with 1 Axes>"
      ]
     },
     "metadata": {},
     "output_type": "display_data"
    }
   ],
   "source": [
    "# Traza un diagrama de caja para visualizar la distribución del numero de llamadas mensual\n",
    "plt.figure(figsize=(12, 6))\n",
    "sns.boxplot(data= int_fact_plans, x='month', y='total_calls', hue='plan')\n",
    "plt.title('Distribucion del numero de llamadas mensual')\n",
    "plt.xlabel('Month')\n",
    "plt.ylabel('Numero de llamadas')\n",
    "plt.grid(axis='y')\n",
    "plt.legend(title='Plan')\n",
    "plt.tight_layout()\n",
    "plt.show()"
   ]
  },
  {
   "cell_type": "markdown",
   "metadata": {},
   "source": [
    "La distribucion del numero llamadas en la mayoria de las caja la mediana presenta un sesgo ya sea ala izquierda o derecha donde nos dice que no hay siemtria, incremento de valores atipicos del mes de julio-diciembre"
   ]
  },
  {
   "cell_type": "markdown",
   "metadata": {
    "id": "r627zBO50q1K"
   },
   "source": [
    "[Elabora las conclusiones sobre el comportamiento de los usuarios con respecto a las llamadas. ¿Su comportamiento varía en función del plan?]"
   ]
  },
  {
   "cell_type": "markdown",
   "metadata": {
    "id": "8idKy8Wh0q1L"
   },
   "source": [
    "### Mensajes"
   ]
  },
  {
   "cell_type": "code",
   "execution_count": 221,
   "metadata": {
    "id": "NXLxiTit0q1L"
   },
   "outputs": [],
   "source": [
    "# Comprara el número de mensajes que tienden a enviar cada mes los usuarios de cada plan\n",
    "int_fact_plans['total_messages_plan'] = int_fact_plans.groupby(['month', 'plan'])['total_messages'].transform('sum')\n",
    "\n"
   ]
  },
  {
   "cell_type": "code",
   "execution_count": 222,
   "metadata": {},
   "outputs": [
    {
     "data": {
      "image/png": "[encoded data removed]",
      "text/plain": [
       "<Figure size 1200x600 with 1 Axes>"
      ]
     },
     "metadata": {},
     "output_type": "display_data"
    }
   ],
   "source": [
    "plt.figure(figsize=(12, 6))\n",
    "sns.barplot(data=int_fact_plans, x='month', y='total_messages_plan', hue='plan')\n",
    "plt.title('Numero de mensajes enviados al mes por cada plan')\n",
    "plt.xlabel('Month')\n",
    "plt.ylabel('Total messages')\n",
    "plt.legend(title='Plan')\n",
    "plt.grid(axis='y')\n",
    "plt.show()"
   ]
  },
  {
   "cell_type": "markdown",
   "metadata": {},
   "source": [
    "Un grafico donde el numero de mensajes enviados en el plan surf tuvo un crecimiento exponecial al igual que ultimate pero con mayor numero de mensaje, donde es punto  a considerar que pueden hacer para que los primeros cinco meses haya mayor aumento en cuanto a mensajes que estrategias aplicar"
   ]
  },
  {
   "cell_type": "code",
   "execution_count": 223,
   "metadata": {
    "id": "dtFwCGAp0q1M"
   },
   "outputs": [
    {
     "name": "stdout",
     "output_type": "stream",
     "text": [
      "0       1493.270880\n",
      "1       1122.582003\n",
      "2       1493.270880\n",
      "3       1261.771930\n",
      "4       1122.582003\n",
      "           ...     \n",
      "2298       0.000000\n",
      "2299       0.000000\n",
      "2300       0.000000\n",
      "2301       0.000000\n",
      "2302       0.000000\n",
      "Name: variance_monthly_messages, Length: 2303, dtype: float64\n"
     ]
    }
   ],
   "source": [
    "#Calcula la media y la varianza del numero de mensajes que envian cada mes los usuarios.\n",
    "int_fact_plans['avg_monthly_messages'] = int_fact_plans.groupby('month')['total_messages'].transform('mean')\n",
    "int_fact_plans['variance_monthly_messages'] = int_fact_plans.groupby('month')['total_messages'].transform('var')\n",
    "print(int_fact_plans['variance_monthly_messages'] )\n",
    "\n"
   ]
  },
  {
   "cell_type": "code",
   "execution_count": 224,
   "metadata": {},
   "outputs": [
    {
     "name": "stdout",
     "output_type": "stream",
     "text": [
      "         plan  mean_total_messages  variance_total_messages  \\\n",
      "0    ultimate            37.343923              1209.827612   \n",
      "724      surf            31.041165              1126.118076   \n",
      "\n",
      "     median_total_messages  \n",
      "0                     30.0  \n",
      "724                   24.0  \n"
     ]
    }
   ],
   "source": [
    "# Calcula la media y la varianza del número de mensajes por plan\n",
    "mean_messages_surf = int_fact_plans[int_fact_plans['plan'] == 'surf']['total_messages'].mean()\n",
    "mean_messages_ultimate = int_fact_plans[int_fact_plans['plan'] == 'ultimate']['total_messages'].mean()\n",
    "median_messages_surf = int_fact_plans[int_fact_plans['plan'] == 'surf']['total_messages'].median()\n",
    "median_messages_ultimate = int_fact_plans[int_fact_plans['plan'] == 'ultimate']['total_messages'].median()\n",
    "var_messages_surf = int_fact_plans[int_fact_plans['plan'] == 'surf']['total_messages'].var()\n",
    "var_messages_ultimate = int_fact_plans[int_fact_plans['plan'] == 'ultimate']['total_messages'].var()\n",
    "\n",
    "\n",
    "int_fact_plans['mean_total_messages'] = int_fact_plans['plan'].map({\n",
    "    'surf': mean_messages_surf,\n",
    "    'ultimate': mean_messages_ultimate\n",
    "})\n",
    "\n",
    "int_fact_plans['variance_total_messages'] = int_fact_plans['plan'].map({\n",
    "    'surf': var_messages_surf,\n",
    "    'ultimate': var_messages_ultimate\n",
    "})\n",
    "\n",
    "int_fact_plans['median_total_messages'] = int_fact_plans['plan'].map({\n",
    "    'surf': median_messages_surf,\n",
    "    'ultimate': median_messages_ultimate\n",
    "})\n",
    "\n",
    "\n",
    "int_fact_plans.reset_index(drop=True, inplace=True)\n",
    "\n",
    "\n",
    "print(int_fact_plans[['plan', 'mean_total_messages', 'variance_total_messages', 'median_total_messages']].drop_duplicates())\n"
   ]
  },
  {
   "cell_type": "code",
   "execution_count": 225,
   "metadata": {},
   "outputs": [
    {
     "data": {
      "image/png": "[encoded data removed]",
      "text/plain": [
       "<Figure size 1200x600 with 1 Axes>"
      ]
     },
     "metadata": {},
     "output_type": "display_data"
    }
   ],
   "source": [
    "#Traza un diagrama de caja y bigotes para visualizar  la distribucion del numero de mensajes cada mes y por plan\n",
    "plt.figure(figsize=(12, 6))\n",
    "sns.boxplot(data= int_fact_plans, x='month', y='total_messages', hue= 'plan')\n",
    "plt.title('Distribucion del numero de mensajes al mes por cada plan')\n",
    "plt.xlabel('Month')\n",
    "plt.ylabel('Total messages')\n",
    "plt.grid(axis='y')\n",
    "plt.legend(title='Plan')\n",
    "plt.tight_layout()\n",
    "plt.show()\n"
   ]
  },
  {
   "cell_type": "markdown",
   "metadata": {},
   "source": [
    "Se nota mayor simetria en la caja donde no se presenta sesgo, apartir del quinto mes aumenta la presencia de avalores atipicos, y una estabilidad ligera donde el plan ultimate en los meses de octubre a diciembre fueron mayores en cuanto a mensajes totales contra el plan surf"
   ]
  },
  {
   "cell_type": "markdown",
   "metadata": {
    "id": "390SSL480q1M"
   },
   "source": [
    "[Elabora las conclusiones sobre el comportamiento de los usuarios con respecto a los mensajes. ¿Su comportamiento varía en función del plan?]"
   ]
  },
  {
   "cell_type": "markdown",
   "metadata": {
    "id": "42YSypXz0q1M"
   },
   "source": [
    "### Internet"
   ]
  },
  {
   "cell_type": "code",
   "execution_count": 226,
   "metadata": {
    "id": "GRI_R7xF0q1L"
   },
   "outputs": [],
   "source": [
    "# Compara la cantidad de tráfico de Internet consumido por usuarios por plan y por mes \n",
    "int_fact_plans['internet_consumed_user'] = int_fact_plans.groupby(['month', 'plan'])['gb_used_user_rounded'].transform('sum')\n",
    "\n",
    "\n"
   ]
  },
  {
   "cell_type": "code",
   "execution_count": 227,
   "metadata": {
    "id": "lSuKPtjh0q1M"
   },
   "outputs": [
    {
     "data": {
      "image/png": "[encoded data removed]",
      "text/plain": [
       "<Figure size 1200x600 with 1 Axes>"
      ]
     },
     "metadata": {},
     "output_type": "display_data"
    }
   ],
   "source": [
    "plt.figure(figsize=(12, 6))\n",
    "sns.barplot(data=int_fact_plans, x='month', y='internet_consumed_user', hue='plan')\n",
    "plt.title('Cantidad de trafico de Internet consumido por mes segun el plan')\n",
    "plt.xlabel('Month')\n",
    "plt.ylabel('Cantidad de trafico de Internet')\n",
    "plt.legend(title='Plan')\n",
    "plt.grid(axis='y')\n",
    "plt.show()"
   ]
  },
  {
   "cell_type": "markdown",
   "metadata": {},
   "source": [
    "Un crecimiento exponencial positivo para la organizacion de la cantidad de gigabytes usados por plan donde el plan surf fue superior al plan ultimate al ver los paquetes es mas barato el plan surf en cuanto al consumo de gb por eso la preferencia de los clientes a costear algo mas que caro que tal vez no usen tanto o creen excederce de su limite"
   ]
  },
  {
   "cell_type": "code",
   "execution_count": 228,
   "metadata": {
    "id": "wnh8jYXi0q1N"
   },
   "outputs": [
    {
     "name": "stdout",
     "output_type": "stream",
     "text": [
      "0       18.289979\n",
      "1       16.643902\n",
      "2       18.289979\n",
      "3       17.504373\n",
      "4       16.643902\n",
      "          ...    \n",
      "2298     0.000000\n",
      "2299     0.000000\n",
      "2300     0.000000\n",
      "2301     0.000000\n",
      "2302     0.000000\n",
      "Name: avg_monthly_internet, Length: 2303, dtype: float64\n",
      "\n",
      "0       18.289979\n",
      "1       16.643902\n",
      "2       18.289979\n",
      "3       17.504373\n",
      "4       16.643902\n",
      "          ...    \n",
      "2298     0.000000\n",
      "2299     0.000000\n",
      "2300     0.000000\n",
      "2301     0.000000\n",
      "2302     0.000000\n",
      "Name: variance_monthly_intenet, Length: 2303, dtype: float64\n"
     ]
    }
   ],
   "source": [
    "#Calcula la media y la varianza la cantidad de tráfico de Internet consumido por usuarios al mes.\n",
    "int_fact_plans['avg_monthly_internet'] = int_fact_plans.groupby('month')['gb_used_user_rounded'].transform('mean')\n",
    "print(int_fact_plans['avg_monthly_internet'])\n",
    "print()\n",
    "int_fact_plans['variance_monthly_intenet'] = int_fact_plans.groupby('month')['gb_used_user_rounded'].transform('mean')\n",
    "print(int_fact_plans['variance_monthly_intenet'])\n"
   ]
  },
  {
   "cell_type": "code",
   "execution_count": 229,
   "metadata": {},
   "outputs": [
    {
     "name": "stdout",
     "output_type": "stream",
     "text": [
      "         plan  mean_internet_consumed  variance_internet_consumed  \\\n",
      "0    ultimate               17.211326                   60.153067   \n",
      "724      surf               16.607346                   62.402126   \n",
      "\n",
      "     median_internet_consumed  \n",
      "0                        17.0  \n",
      "724                      17.0  \n"
     ]
    }
   ],
   "source": [
    "#Calcula la media y la varianza la cantidad de tráfico de Internet consumido por usuarios por plan\n",
    "mean_internet_surf = int_fact_plans[int_fact_plans['plan'] == 'surf']['gb_used_user_rounded'].mean()\n",
    "mean_internet_ultimate = int_fact_plans[int_fact_plans['plan'] == 'ultimate']['gb_used_user_rounded'].mean()\n",
    "median_internet_ultimate = int_fact_plans[int_fact_plans['plan'] == 'ultimate']['gb_used_user_rounded'].median()\n",
    "var_internet_surf = int_fact_plans[int_fact_plans['plan'] == 'surf']['gb_used_user_rounded'].var()\n",
    "var_internet_ultimate = int_fact_plans[int_fact_plans['plan'] == 'ultimate']['gb_used_user_rounded'].var()\n",
    "median_internet_surf = int_fact_plans[int_fact_plans['plan'] == 'surf']['gb_used_user_rounded'].median()\n",
    "int_fact_plans['mean_internet_consumed'] = int_fact_plans['plan'].map({\n",
    "    'surf': mean_internet_surf,\n",
    "    'ultimate': mean_internet_ultimate\n",
    "    })\n",
    "int_fact_plans['variance_internet_consumed'] = int_fact_plans['plan'].map({\n",
    "    'surf': var_internet_surf,\n",
    "    'ultimate': var_internet_ultimate\n",
    "})\n",
    "int_fact_plans['median_internet_consumed'] = int_fact_plans['plan'].map({\n",
    "    'surf': median_internet_surf,\n",
    "    'ultimate': median_internet_ultimate\n",
    "})\n",
    "int_fact_plans.reset_index(drop=True, inplace=True)\n",
    "print(int_fact_plans[['plan', 'mean_internet_consumed', 'variance_internet_consumed', 'median_internet_consumed']].drop_duplicates())"
   ]
  },
  {
   "cell_type": "code",
   "execution_count": 230,
   "metadata": {
    "id": "5VlyJ9ry0q1N"
   },
   "outputs": [
    {
     "data": {
      "image/png": "[encoded data removed]",
      "text/plain": [
       "<Figure size 1200x600 with 1 Axes>"
      ]
     },
     "metadata": {},
     "output_type": "display_data"
    }
   ],
   "source": [
    "#Traza un diagrama de caja y bigotes para visualizar  la distribucion de la cantidad de tráfico de Internet consumido por usuarios por plan\n",
    "plt.figure(figsize=(12, 6))\n",
    "sns.boxplot(data= int_fact_plans, x='month', y='gb_used_user_rounded', hue= 'plan')\n",
    "plt.title('Distribucion de la cantidad de trafico de Internet consumido por usuario al mes por cada plan')\n",
    "plt.xlabel('Month')\n",
    "plt.ylabel('Cantidad de trafico de Internet')\n",
    "plt.grid(axis='y')\n",
    "plt.legend(title='Plan')\n",
    "plt.tight_layout()\n",
    "plt.show()\n"
   ]
  },
  {
   "cell_type": "markdown",
   "metadata": {},
   "source": [
    "En cuanto a la cantidad de gb consumido por plan existe gran varacion entre los meses, donde de igual froma de meses de julio-diciembre hay gran variabilidad en los datos se deberia estudiar a que se deben siempre en los mismo meses del año"
   ]
  },
  {
   "cell_type": "markdown",
   "metadata": {
    "id": "UN9zwuMP0q1N"
   },
   "source": [
    "[Elabora las conclusiones sobre cómo los usuarios tienden a consumir el tráfico de Internet. ¿Su comportamiento varía en función del plan?]"
   ]
  },
  {
   "cell_type": "markdown",
   "metadata": {
    "id": "tCijq3260q1N"
   },
   "source": [
    "## Ingreso"
   ]
  },
  {
   "cell_type": "markdown",
   "metadata": {
    "id": "9nq5IAcy0q1O"
   },
   "source": [
    "[Del mismo modo que has estudiado el comportamiento de los usuarios, describe estadísticamente los ingresos de los planes.]"
   ]
  },
  {
   "cell_type": "code",
   "execution_count": 231,
   "metadata": {
    "id": "tz-dq_V00q1O"
   },
   "outputs": [
    {
     "name": "stdout",
     "output_type": "stream",
     "text": [
      "0       72.301105\n",
      "1       72.301105\n",
      "2       72.301105\n",
      "3       72.301105\n",
      "4       72.301105\n",
      "          ...    \n",
      "2298    60.551729\n",
      "2299    60.551729\n",
      "2300    60.551729\n",
      "2301    60.551729\n",
      "2302    60.551729\n",
      "Name: avg_monthly_income, Length: 2303, dtype: float64\n",
      "\n",
      "0        129.159556\n",
      "1        129.159556\n",
      "2        129.159556\n",
      "3        129.159556\n",
      "4        129.159556\n",
      "           ...     \n",
      "2298    3062.446864\n",
      "2299    3062.446864\n",
      "2300    3062.446864\n",
      "2301    3062.446864\n",
      "2302    3062.446864\n",
      "Name: variance_monthly_income, Length: 2303, dtype: float64\n"
     ]
    }
   ],
   "source": [
    "int_fact_plans['avg_monthly_income'] = int_fact_plans.groupby('plan')['monthly_income'].transform('mean')\n",
    "int_fact_plans['variance_monthly_income'] = int_fact_plans.groupby('plan')['monthly_income'].transform('var')\n",
    "print(int_fact_plans['avg_monthly_income'] )\n",
    "print()\n",
    "print(int_fact_plans['variance_monthly_income'])\n"
   ]
  },
  {
   "cell_type": "code",
   "execution_count": 232,
   "metadata": {},
   "outputs": [
    {
     "name": "stdout",
     "output_type": "stream",
     "text": [
      "0       70.00\n",
      "1       70.00\n",
      "2       70.00\n",
      "3       70.00\n",
      "4       70.00\n",
      "        ...  \n",
      "2298    40.18\n",
      "2299    40.18\n",
      "2300    40.18\n",
      "2301    40.18\n",
      "2302    40.18\n",
      "Name: median_monthly_income, Length: 2303, dtype: float64\n",
      "\n",
      "0       11.364839\n",
      "1       11.364839\n",
      "2       11.364839\n",
      "3       11.364839\n",
      "4       11.364839\n",
      "          ...    \n",
      "2298    55.339379\n",
      "2299    55.339379\n",
      "2300    55.339379\n",
      "2301    55.339379\n",
      "2302    55.339379\n",
      "Name: std_dev_monthly_income, Length: 2303, dtype: float64\n"
     ]
    }
   ],
   "source": [
    "int_fact_plans['median_monthly_income'] = int_fact_plans.groupby('plan')['monthly_income'].transform('median')\n",
    "print(int_fact_plans['median_monthly_income'])\n",
    "print()\n",
    "int_fact_plans['std_dev_monthly_income'] = int_fact_plans.groupby('plan')['monthly_income'].transform('std')\n",
    "print(int_fact_plans['std_dev_monthly_income'])\n"
   ]
  },
  {
   "cell_type": "code",
   "execution_count": 233,
   "metadata": {
    "id": "0Y1v8ZUz0q1P"
   },
   "outputs": [
    {
     "data": {
      "image/png": "[encoded data removed]",
      "text/plain": [
       "<Figure size 1200x600 with 1 Axes>"
      ]
     },
     "metadata": {},
     "output_type": "display_data"
    }
   ],
   "source": [
    "plt.figure(figsize=(12, 6))\n",
    "sns.barplot(data=int_fact_plans, x='plan', y='monthly_income', hue='plan')\n",
    "plt.title('Distribucion de ingresos mensuales por plan')\n",
    "plt.xlabel('plan')\n",
    "plt.ylabel('Monthly income')\n",
    "plt.legend(title='Plan')\n",
    "plt.grid(axis='y')\n",
    "plt.show()"
   ]
  },
  {
   "cell_type": "markdown",
   "metadata": {},
   "source": [
    "El grafico nos indica que el plan que genera mayores ingresos a esta emoresa de telecomunicaciones es el plan ultimate se puede deber aunque es mas costoso puede que genere mas o tenga mayores clientes porque el plan es atractivo en a costo de te pasas del limite ya sea de llamadas, mensajes e internet."
   ]
  },
  {
   "cell_type": "code",
   "execution_count": 234,
   "metadata": {
    "id": "bYmwxyVh0q1P"
   },
   "outputs": [
    {
     "data": {
      "image/png": "[encoded data removed]",
      "text/plain": [
       "<Figure size 1200x600 with 1 Axes>"
      ]
     },
     "metadata": {},
     "output_type": "display_data"
    }
   ],
   "source": [
    "#Traza un diagrama de caja y bigotes para visualizar  la distribucion de la cantidad de tráfico de Internet consumido por usuarios por plan\n",
    "plt.figure(figsize=(12, 6))\n",
    "sns.boxplot(data= int_fact_plans, x='plan', y='monthly_income')\n",
    "plt.title('Distribucion de ingresos mensuales por plan')\n",
    "plt.xlabel('plan')\n",
    "plt.ylabel('Monthly income')\n",
    "plt.grid(axis='y')\n",
    "plt.tight_layout()\n",
    "plt.show()\n"
   ]
  },
  {
   "cell_type": "markdown",
   "metadata": {},
   "source": [
    "El grafico no nos muestra demasiado ya que el plan ultimate no nos muestra informacion que nos ayude a inferer que plan genera mayores ingresos por eso de apoyo esta el grafico de barras que nos ayuda visualmente a poder llegar a una conclusion mas fiable "
   ]
  },
  {
   "cell_type": "markdown",
   "metadata": {
    "id": "ajJ7VKeI0q1Q"
   },
   "source": [
    "## Prueba las hipótesis estadísticas"
   ]
  },
  {
   "cell_type": "markdown",
   "metadata": {
    "id": "AdXAZ-yL0q1Q"
   },
   "source": [
    "[Prueba la hipótesis de que son diferentes los ingresos promedio procedentes de los usuarios de los planes de llamada Ultimate y Surf.]"
   ]
  },
  {
   "cell_type": "markdown",
   "metadata": {
    "id": "IQwa_hsh0q1Q"
   },
   "source": [
    "[Elabora las hipótesis nula y alternativa, escoge la prueba estadística, determina el valor alfa.]"
   ]
  },
  {
   "cell_type": "code",
   "execution_count": 235,
   "metadata": {},
   "outputs": [
    {
     "name": "stdout",
     "output_type": "stream",
     "text": [
      "60.551728942368584\n",
      "3062.4468636121587\n",
      "72.3011049723757\n",
      "129.15955617707067\n"
     ]
    }
   ],
   "source": [
    "print(int_fact_plans.query('plan == \"surf\"')['monthly_income'].mean())\n",
    "print(int_fact_plans.query('plan == \"surf\"')['monthly_income'].var())\n",
    "print(int_fact_plans.query('plan == \"ultimate\"')['monthly_income'].mean())\n",
    "print(int_fact_plans.query('plan == \"ultimate\"')['monthly_income'].var())"
   ]
  },
  {
   "cell_type": "markdown",
   "metadata": {},
   "source": [
    "H1 : El ingreso promedio de surf es mayor que el ingreso promedio de ultimate\n",
    "H0 : El ingreso promedio de surf no es mayor que el ingreso promedio de ultimate"
   ]
  },
  {
   "cell_type": "code",
   "execution_count": 236,
   "metadata": {
    "id": "nFoPNlPq0q1R"
   },
   "outputs": [
    {
     "name": "stdout",
     "output_type": "stream",
     "text": [
      "valor de p: 1.218411585212325e-15\n",
      "Rechazamos la hipótesis nula\n"
     ]
    }
   ],
   "source": [
    "# Prueba las hipótesis\n",
    "\n",
    "surf_income = int_fact_plans.query('plan == \"surf\"')['monthly_income']\n",
    "ultimate_income = int_fact_plans.query('plan == \"ultimate\"')['monthly_income']\n",
    "alpha = 0.05\n",
    "results_income = st.ttest_ind(surf_income, ultimate_income, equal_var=False )\n",
    "print('valor de p:', results_income.pvalue)\n",
    "if (results_income.pvalue < alpha):\n",
    "     print('Rechazamos la hipótesis nula')\n",
    "else:\n",
    "    print('No podemos rechazar la hipótesis nula')\n"
   ]
  },
  {
   "cell_type": "markdown",
   "metadata": {},
   "source": [
    "Se tiene un 95% de confianza que el plan surf genera mayores ingresos mensuales que el plan ultimate, aunque la media nos dice que ultimate es mayor se comprobo mediante estadistica inferencial que no es asi"
   ]
  },
  {
   "cell_type": "markdown",
   "metadata": {
    "id": "tCcAruM60q1R"
   },
   "source": [
    "[Prueba la hipótesis de que el ingreso promedio de los usuarios del área NY-NJ es diferente al de los usuarios de otras regiones.]"
   ]
  },
  {
   "cell_type": "markdown",
   "metadata": {
    "id": "LsBgitqj0q1R"
   },
   "source": [
    "[Elabora las hipótesis nula y alternativa, escoge la prueba estadística, determina el valor alfa.]"
   ]
  },
  {
   "cell_type": "markdown",
   "metadata": {},
   "source": [
    "H1 : El ingreso promedio de los usuarios de area  NY-NJ es diferente al ingreso promedio de otras regiones\n",
    "H0 : El ingreso promedio de los usuarios de area  NY-NJ no es diferente al ingreso promedio de otras regiones\n",
    "    "
   ]
  },
  {
   "cell_type": "code",
   "execution_count": 237,
   "metadata": {
    "id": "Cqcj7wrZ0q1S"
   },
   "outputs": [
    {
     "name": "stdout",
     "output_type": "stream",
     "text": [
      "1890.7864451244156\n",
      "2221.035164632287\n",
      "valor de p: 0.03870322661292962\n",
      "Rechazamos la hipótesis nula\n"
     ]
    }
   ],
   "source": [
    "# Prueba las hipótesis\n",
    "ny_nj_income = int_fact_plans[int_fact_plans['city'].str.contains('NY-NJ-PA')]['monthly_income']\n",
    "other_city_income = int_fact_plans[~int_fact_plans['city'].str.contains('NY-NJ-PA')]['monthly_income']\n",
    "var_ny_nj = ny_nj_income.var()\n",
    "print(var_ny_nj)\n",
    "var_other = other_city_income.var()\n",
    "print(var_other)\n",
    "alpha = 0.05\n",
    "results_city_income = st.ttest_ind(ny_nj_income,other_city_income, equal_var=False )\n",
    "print('valor de p:', results_city_income.pvalue)\n",
    "if (results_city_income.pvalue < alpha):\n",
    "     print('Rechazamos la hipótesis nula')\n",
    "else:\n",
    "    print('No podemos rechazar la hipótesis nula')"
   ]
  },
  {
   "cell_type": "markdown",
   "metadata": {
    "id": "bbTR8UQO0q1T"
   },
   "source": [
    "## Conclusión general\n",
    "\n",
    "[En esta sección final, enumera tus conclusiones importantes. Asegúrate de que estas abarquen todas las decisiones (suposiciones) importantes que adoptaste y que determinaron la forma elegida para procesar y analizar los datos.]"
   ]
  },
  {
   "cell_type": "markdown",
   "metadata": {},
   "source": [
    "Un proceso paso a paso sobre lo que nos quieren decir los datos en este caso de la empresa de telecomunicaciones Megaline para poder saber que plan genera mas ingresos fue el plan surf los clientes solo requieren un plan basico de llamadas, mensajes e internet ver que tipo de clientes los consumen si estudiantes, comerciantes, empresarios dependiendo de sus necesades requeriran un plan que se adapte a sus necesidades. los pasos a seguir fueron:\n",
    "a)Cargar los dataframes(haciendo sus debidas correciones)\n",
    "b)Analizar la informacion de los DF haciendo los cambios necesarios para mejor manipulacion\n",
    "c)Creacion de un tabla intermedia de hechos que nos muestre solo los datos que necesito\n",
    "d)El uso de graficos que nos ayuden a observan que plan usa mas minutos, consumes mas internet y hace mas mensajes aplicando estaditica descriptiva; al igual que plan genera mas ingresos mensuales\n",
    "e) Aplicar estadistica inferencial finalmente para dar una conclusion final y ver todas mejores se pueden hacer como promociones, descuentos, encuestas mas en los meses mas bajos que son a principio de año e invertir en esos puntos debiles de la organizacion."
   ]
  }
 ],
 "metadata": {
  "ExecuteTimeLog": [
   {
    "duration": 828,
    "start_time": "2021-11-16T09:21:11.304Z"
   },
   {
    "duration": 893,
    "start_time": "2021-11-16T09:21:17.728Z"
   },
   {
    "duration": 1150,
    "start_time": "2021-11-16T09:21:29.568Z"
   },
   {
    "duration": 3,
    "start_time": "2021-11-16T09:24:14.495Z"
   },
   {
    "duration": 120,
    "start_time": "2021-11-16T09:24:46.630Z"
   },
   {
    "duration": 3,
    "start_time": "2021-11-16T09:28:27.882Z"
   },
   {
    "duration": 4,
    "start_time": "2021-11-16T09:29:54.281Z"
   },
   {
    "duration": 3,
    "start_time": "2021-11-16T09:30:45.936Z"
   },
   {
    "duration": 4,
    "start_time": "2021-11-16T09:31:06.300Z"
   },
   {
    "duration": 113,
    "start_time": "2021-11-16T09:31:37.208Z"
   },
   {
    "duration": 143,
    "start_time": "2021-11-16T09:31:48.656Z"
   },
   {
    "duration": 98,
    "start_time": "2021-11-16T09:31:55.678Z"
   },
   {
    "duration": 3,
    "start_time": "2021-11-16T09:32:08.535Z"
   },
   {
    "duration": 111,
    "start_time": "2021-11-16T09:32:10.120Z"
   },
   {
    "duration": 3,
    "start_time": "2021-11-16T09:32:15.732Z"
   },
   {
    "duration": 4,
    "start_time": "2021-11-16T09:32:29.423Z"
   },
   {
    "duration": 3,
    "start_time": "2021-11-16T10:03:03.074Z"
   },
   {
    "duration": 3,
    "start_time": "2021-11-16T10:10:01.288Z"
   },
   {
    "duration": 3,
    "start_time": "2021-11-16T10:10:46.923Z"
   },
   {
    "duration": 121,
    "start_time": "2021-11-16T10:37:46.494Z"
   },
   {
    "duration": 125,
    "start_time": "2021-11-16T10:38:20.632Z"
   },
   {
    "duration": 112,
    "start_time": "2021-11-16T10:46:53.001Z"
   },
   {
    "duration": 110,
    "start_time": "2021-11-16T10:48:25.775Z"
   },
   {
    "duration": 3,
    "start_time": "2021-11-16T10:50:18.720Z"
   },
   {
    "duration": 4,
    "start_time": "2021-11-16T10:50:37.649Z"
   },
   {
    "duration": 2,
    "start_time": "2021-11-16T10:50:51.884Z"
   },
   {
    "duration": 3,
    "start_time": "2021-11-16T10:51:56.237Z"
   },
   {
    "duration": 101,
    "start_time": "2021-11-16T10:53:13.791Z"
   },
   {
    "duration": 3,
    "start_time": "2021-11-16T10:55:59.186Z"
   },
   {
    "duration": 3,
    "start_time": "2021-11-16T10:56:10.751Z"
   },
   {
    "duration": 3,
    "start_time": "2021-11-16T10:56:49.038Z"
   },
   {
    "duration": 3,
    "start_time": "2021-11-16T10:56:49.174Z"
   },
   {
    "duration": 4,
    "start_time": "2021-11-16T10:56:49.414Z"
   },
   {
    "duration": 3,
    "start_time": "2021-11-16T10:56:49.680Z"
   },
   {
    "duration": 3,
    "start_time": "2021-11-16T10:56:50.370Z"
   },
   {
    "duration": 114,
    "start_time": "2021-11-16T10:59:34.518Z"
   },
   {
    "duration": 3,
    "start_time": "2021-11-16T11:01:41.201Z"
   },
   {
    "duration": 116,
    "start_time": "2021-11-16T11:01:48.754Z"
   },
   {
    "duration": 3,
    "start_time": "2021-11-16T11:02:16.685Z"
   },
   {
    "duration": 3,
    "start_time": "2021-11-16T11:02:19.479Z"
   },
   {
    "duration": 3,
    "start_time": "2021-11-16T11:02:47.067Z"
   },
   {
    "duration": 3,
    "start_time": "2021-11-16T11:02:49.353Z"
   },
   {
    "duration": 3,
    "start_time": "2021-11-16T11:03:07.835Z"
   },
   {
    "duration": 3,
    "start_time": "2021-11-16T11:03:07.953Z"
   },
   {
    "duration": 112,
    "start_time": "2021-11-16T11:07:52.072Z"
   },
   {
    "duration": 187,
    "start_time": "2021-11-16T11:09:23.468Z"
   },
   {
    "duration": 4,
    "start_time": "2021-11-16T11:10:01.455Z"
   },
   {
    "duration": 3,
    "start_time": "2021-11-16T11:10:05.069Z"
   },
   {
    "duration": 4,
    "start_time": "2021-11-16T11:10:13.376Z"
   },
   {
    "duration": 3,
    "start_time": "2021-11-16T11:10:14.434Z"
   },
   {
    "duration": 3,
    "start_time": "2021-11-16T11:10:22.853Z"
   },
   {
    "duration": 4,
    "start_time": "2021-11-16T11:27:29.279Z"
   },
   {
    "duration": 4,
    "start_time": "2021-11-16T11:29:08.919Z"
   },
   {
    "duration": 118,
    "start_time": "2021-11-16T11:29:46.703Z"
   },
   {
    "duration": 437,
    "start_time": "2021-11-16T11:36:02.181Z"
   },
   {
    "duration": 157,
    "start_time": "2021-11-16T11:36:14.388Z"
   },
   {
    "duration": 207,
    "start_time": "2021-11-16T11:47:15.898Z"
   },
   {
    "duration": 3,
    "start_time": "2021-11-16T11:53:52.092Z"
   },
   {
    "duration": 3,
    "start_time": "2021-11-16T11:53:52.236Z"
   },
   {
    "duration": 3,
    "start_time": "2021-11-16T11:59:12.005Z"
   },
   {
    "duration": 112,
    "start_time": "2021-11-16T12:00:33.446Z"
   },
   {
    "duration": 3,
    "start_time": "2021-11-16T12:02:14.453Z"
   },
   {
    "duration": 3,
    "start_time": "2021-11-16T12:02:39.512Z"
   },
   {
    "duration": 106,
    "start_time": "2021-11-16T12:03:03.460Z"
   },
   {
    "duration": 3,
    "start_time": "2021-11-17T20:37:21.139Z"
   },
   {
    "duration": 3,
    "start_time": "2021-11-17T20:37:22.229Z"
   },
   {
    "duration": 3,
    "start_time": "2021-11-17T20:38:38.806Z"
   },
   {
    "duration": 3,
    "start_time": "2021-11-17T20:38:41.958Z"
   },
   {
    "duration": 3,
    "start_time": "2021-11-17T20:43:46.551Z"
   },
   {
    "duration": 4,
    "start_time": "2021-11-17T20:58:21.835Z"
   },
   {
    "duration": 3,
    "start_time": "2021-11-17T20:59:21.872Z"
   },
   {
    "duration": 4,
    "start_time": "2021-11-17T20:59:45.352Z"
   },
   {
    "duration": 4,
    "start_time": "2021-11-17T20:59:49.646Z"
   },
   {
    "duration": 159,
    "start_time": "2021-11-17T21:02:26.949Z"
   },
   {
    "duration": 3,
    "start_time": "2021-11-17T21:03:53.461Z"
   },
   {
    "duration": 3,
    "start_time": "2021-11-17T21:03:53.694Z"
   },
   {
    "duration": 3,
    "start_time": "2021-11-17T21:05:28.145Z"
   },
   {
    "duration": 116,
    "start_time": "2021-11-17T21:05:57.787Z"
   },
   {
    "duration": 3,
    "start_time": "2021-11-17T21:06:37.993Z"
   },
   {
    "duration": 3,
    "start_time": "2021-11-17T21:06:38.261Z"
   },
   {
    "duration": 3,
    "start_time": "2021-11-17T21:11:54.358Z"
   },
   {
    "duration": 3,
    "start_time": "2021-11-17T21:12:43.846Z"
   },
   {
    "duration": 4,
    "start_time": "2021-11-17T21:13:08.773Z"
   },
   {
    "duration": 3,
    "start_time": "2021-11-17T21:14:44.441Z"
   },
   {
    "duration": 3,
    "start_time": "2021-11-17T21:15:42.059Z"
   },
   {
    "duration": 4,
    "start_time": "2021-11-17T21:15:51.995Z"
   },
   {
    "duration": 3,
    "start_time": "2021-11-17T21:15:53.923Z"
   },
   {
    "duration": 3,
    "start_time": "2021-11-17T21:15:55.282Z"
   },
   {
    "duration": 3,
    "start_time": "2021-11-17T21:16:28.492Z"
   },
   {
    "duration": 3,
    "start_time": "2021-11-17T21:16:32.603Z"
   },
   {
    "duration": 3,
    "start_time": "2021-11-17T21:17:06.941Z"
   },
   {
    "duration": 98,
    "start_time": "2021-11-17T21:18:05.733Z"
   },
   {
    "duration": 4,
    "start_time": "2021-11-17T21:21:35.255Z"
   },
   {
    "duration": 3,
    "start_time": "2021-11-17T21:21:37.804Z"
   },
   {
    "duration": 4,
    "start_time": "2021-11-17T21:23:06.071Z"
   },
   {
    "duration": 3,
    "start_time": "2021-11-17T21:23:24.799Z"
   },
   {
    "duration": 3,
    "start_time": "2021-11-17T21:23:32.591Z"
   },
   {
    "duration": 98,
    "start_time": "2021-11-17T21:28:31.559Z"
   },
   {
    "duration": 3,
    "start_time": "2021-11-17T21:28:45.448Z"
   },
   {
    "duration": 3,
    "start_time": "2021-11-17T21:29:17.303Z"
   },
   {
    "duration": 3,
    "start_time": "2021-11-17T21:29:29.617Z"
   },
   {
    "duration": 3,
    "start_time": "2021-11-17T21:29:32.681Z"
   },
   {
    "duration": 3,
    "start_time": "2021-11-17T21:36:11.474Z"
   },
   {
    "duration": 3,
    "start_time": "2021-11-17T21:36:14.791Z"
   },
   {
    "duration": 3,
    "start_time": "2021-11-17T21:36:53.943Z"
   },
   {
    "duration": 3,
    "start_time": "2021-11-17T21:36:56.165Z"
   },
   {
    "duration": 4,
    "start_time": "2021-11-17T21:37:16.590Z"
   },
   {
    "duration": 3,
    "start_time": "2021-11-17T21:37:22.702Z"
   },
   {
    "duration": 4,
    "start_time": "2021-11-17T21:38:03.479Z"
   },
   {
    "duration": 3,
    "start_time": "2021-11-17T21:38:08.601Z"
   },
   {
    "duration": 3,
    "start_time": "2021-11-17T21:38:12.928Z"
   },
   {
    "duration": 3,
    "start_time": "2021-11-17T21:38:48.896Z"
   },
   {
    "duration": 2,
    "start_time": "2021-11-17T21:38:49.171Z"
   },
   {
    "duration": 4,
    "start_time": "2021-11-17T21:39:57.889Z"
   },
   {
    "duration": 3,
    "start_time": "2021-11-17T21:39:58.057Z"
   },
   {
    "duration": 3,
    "start_time": "2021-11-17T21:41:20.108Z"
   },
   {
    "duration": 3,
    "start_time": "2021-11-17T21:41:20.629Z"
   },
   {
    "duration": 3,
    "start_time": "2021-11-17T21:42:49.136Z"
   },
   {
    "duration": 3,
    "start_time": "2021-11-17T21:43:15.137Z"
   },
   {
    "duration": 4,
    "start_time": "2021-11-17T21:43:16.766Z"
   },
   {
    "duration": 4,
    "start_time": "2021-11-17T21:43:31.711Z"
   },
   {
    "duration": 3,
    "start_time": "2021-11-17T21:43:36.312Z"
   },
   {
    "duration": 4,
    "start_time": "2021-11-17T21:45:08.825Z"
   },
   {
    "duration": 4,
    "start_time": "2021-11-17T21:45:10.119Z"
   },
   {
    "duration": 4,
    "start_time": "2021-11-17T21:45:13.748Z"
   },
   {
    "duration": 3,
    "start_time": "2021-11-17T21:45:22.219Z"
   },
   {
    "duration": 3,
    "start_time": "2021-11-17T21:45:33.412Z"
   },
   {
    "duration": 2,
    "start_time": "2021-11-17T21:46:01.885Z"
   },
   {
    "duration": 3,
    "start_time": "2021-11-17T21:46:03.628Z"
   },
   {
    "duration": 107,
    "start_time": "2021-11-17T21:47:32.512Z"
   },
   {
    "duration": 103,
    "start_time": "2021-11-17T21:50:36.243Z"
   },
   {
    "duration": 3,
    "start_time": "2021-11-18T06:28:31.440Z"
   },
   {
    "duration": 3,
    "start_time": "2021-11-18T06:29:00.168Z"
   },
   {
    "duration": 3,
    "start_time": "2021-11-18T06:31:27.008Z"
   },
   {
    "duration": 2,
    "start_time": "2021-11-18T06:35:34.288Z"
   },
   {
    "duration": 2,
    "start_time": "2021-11-18T06:38:04.527Z"
   },
   {
    "duration": 156,
    "start_time": "2024-10-17T02:46:57.471Z"
   },
   {
    "duration": 323,
    "start_time": "2024-10-17T02:47:10.294Z"
   },
   {
    "duration": 388,
    "start_time": "2024-10-17T02:47:12.695Z"
   },
   {
    "duration": 71,
    "start_time": "2024-10-17T02:47:36.800Z"
   },
   {
    "duration": 71,
    "start_time": "2024-10-17T02:52:10.951Z"
   },
   {
    "duration": 195,
    "start_time": "2024-10-17T03:26:50.780Z"
   },
   {
    "duration": 156,
    "start_time": "2024-10-17T03:27:02.252Z"
   },
   {
    "duration": 6,
    "start_time": "2024-10-17T17:38:33.442Z"
   },
   {
    "duration": 280,
    "start_time": "2024-10-17T17:38:42.203Z"
   },
   {
    "duration": 236,
    "start_time": "2024-10-17T17:38:42.485Z"
   },
   {
    "duration": 4,
    "start_time": "2024-10-17T17:38:42.722Z"
   },
   {
    "duration": 2,
    "start_time": "2024-10-17T17:38:42.728Z"
   },
   {
    "duration": 2,
    "start_time": "2024-10-17T17:38:42.732Z"
   },
   {
    "duration": 3,
    "start_time": "2024-10-17T17:38:42.735Z"
   },
   {
    "duration": 2,
    "start_time": "2024-10-17T17:38:42.739Z"
   },
   {
    "duration": 2,
    "start_time": "2024-10-17T17:38:42.743Z"
   },
   {
    "duration": 2,
    "start_time": "2024-10-17T17:38:42.747Z"
   },
   {
    "duration": 2,
    "start_time": "2024-10-17T17:38:42.753Z"
   },
   {
    "duration": 2,
    "start_time": "2024-10-17T17:38:42.757Z"
   },
   {
    "duration": 2,
    "start_time": "2024-10-17T17:38:42.761Z"
   },
   {
    "duration": 2,
    "start_time": "2024-10-17T17:38:42.764Z"
   },
   {
    "duration": 2,
    "start_time": "2024-10-17T17:38:42.768Z"
   },
   {
    "duration": 3,
    "start_time": "2024-10-17T17:38:42.824Z"
   },
   {
    "duration": 2,
    "start_time": "2024-10-17T17:38:42.829Z"
   },
   {
    "duration": 2,
    "start_time": "2024-10-17T17:38:42.833Z"
   },
   {
    "duration": 2,
    "start_time": "2024-10-17T17:38:42.838Z"
   },
   {
    "duration": 1,
    "start_time": "2024-10-17T17:38:42.842Z"
   },
   {
    "duration": 2,
    "start_time": "2024-10-17T17:38:42.845Z"
   },
   {
    "duration": 3,
    "start_time": "2024-10-17T17:38:42.848Z"
   },
   {
    "duration": 1,
    "start_time": "2024-10-17T17:38:42.854Z"
   },
   {
    "duration": 2,
    "start_time": "2024-10-17T17:38:42.857Z"
   },
   {
    "duration": 2,
    "start_time": "2024-10-17T17:38:42.861Z"
   },
   {
    "duration": 2,
    "start_time": "2024-10-17T17:38:42.865Z"
   },
   {
    "duration": 3,
    "start_time": "2024-10-17T17:38:42.868Z"
   },
   {
    "duration": 52,
    "start_time": "2024-10-17T17:38:42.872Z"
   },
   {
    "duration": 1,
    "start_time": "2024-10-17T17:38:42.927Z"
   },
   {
    "duration": 3,
    "start_time": "2024-10-17T17:39:35.214Z"
   },
   {
    "duration": 2,
    "start_time": "2024-10-17T17:39:36.614Z"
   },
   {
    "duration": 5,
    "start_time": "2024-10-17T17:39:44.453Z"
   },
   {
    "duration": 176,
    "start_time": "2024-10-17T17:40:28.739Z"
   },
   {
    "duration": 146,
    "start_time": "2024-10-17T17:41:10.336Z"
   },
   {
    "duration": 54,
    "start_time": "2024-10-17T17:41:19.429Z"
   },
   {
    "duration": 52,
    "start_time": "2024-10-17T17:48:16.972Z"
   },
   {
    "duration": 13,
    "start_time": "2024-10-17T17:51:11.121Z"
   },
   {
    "duration": 12,
    "start_time": "2024-10-17T18:26:37.378Z"
   },
   {
    "duration": 6,
    "start_time": "2024-10-17T18:46:26.443Z"
   },
   {
    "duration": 2,
    "start_time": "2024-10-17T18:47:20.424Z"
   },
   {
    "duration": 171,
    "start_time": "2024-10-17T18:47:20.430Z"
   },
   {
    "duration": 22,
    "start_time": "2024-10-17T18:47:20.603Z"
   },
   {
    "duration": 5,
    "start_time": "2024-10-17T18:47:20.627Z"
   },
   {
    "duration": 3,
    "start_time": "2024-10-17T18:47:20.633Z"
   },
   {
    "duration": 2,
    "start_time": "2024-10-17T18:47:20.638Z"
   },
   {
    "duration": 2,
    "start_time": "2024-10-17T18:47:20.642Z"
   },
   {
    "duration": 3,
    "start_time": "2024-10-17T18:47:20.646Z"
   },
   {
    "duration": 3,
    "start_time": "2024-10-17T18:47:20.650Z"
   },
   {
    "duration": 2,
    "start_time": "2024-10-17T18:47:20.655Z"
   },
   {
    "duration": 2,
    "start_time": "2024-10-17T18:47:20.659Z"
   },
   {
    "duration": 2,
    "start_time": "2024-10-17T18:47:20.663Z"
   },
   {
    "duration": 4,
    "start_time": "2024-10-17T18:47:20.667Z"
   },
   {
    "duration": 2,
    "start_time": "2024-10-17T18:47:20.672Z"
   },
   {
    "duration": 47,
    "start_time": "2024-10-17T18:47:20.678Z"
   },
   {
    "duration": 2,
    "start_time": "2024-10-17T18:47:20.727Z"
   },
   {
    "duration": 3,
    "start_time": "2024-10-17T18:47:20.731Z"
   },
   {
    "duration": 3,
    "start_time": "2024-10-17T18:47:20.736Z"
   },
   {
    "duration": 4,
    "start_time": "2024-10-17T18:47:20.740Z"
   },
   {
    "duration": 3,
    "start_time": "2024-10-17T18:47:20.745Z"
   },
   {
    "duration": 2,
    "start_time": "2024-10-17T18:47:20.750Z"
   },
   {
    "duration": 3,
    "start_time": "2024-10-17T18:47:20.754Z"
   },
   {
    "duration": 3,
    "start_time": "2024-10-17T18:47:20.758Z"
   },
   {
    "duration": 2,
    "start_time": "2024-10-17T18:47:20.763Z"
   },
   {
    "duration": 3,
    "start_time": "2024-10-17T18:47:20.767Z"
   },
   {
    "duration": 2,
    "start_time": "2024-10-17T18:47:20.772Z"
   },
   {
    "duration": 2,
    "start_time": "2024-10-17T18:47:20.776Z"
   },
   {
    "duration": 3,
    "start_time": "2024-10-17T18:47:20.823Z"
   },
   {
    "duration": 14,
    "start_time": "2024-10-17T18:56:49.963Z"
   },
   {
    "duration": 7,
    "start_time": "2024-10-17T18:57:04.332Z"
   },
   {
    "duration": 3,
    "start_time": "2024-10-17T18:58:35.936Z"
   },
   {
    "duration": 5,
    "start_time": "2024-10-17T18:58:45.661Z"
   },
   {
    "duration": 13,
    "start_time": "2024-10-17T19:00:22.179Z"
   },
   {
    "duration": 4,
    "start_time": "2024-10-17T19:08:12.572Z"
   },
   {
    "duration": 4,
    "start_time": "2024-10-17T19:08:34.914Z"
   },
   {
    "duration": 160,
    "start_time": "2024-10-18T01:06:14.762Z"
   },
   {
    "duration": 339,
    "start_time": "2024-10-18T01:06:21.899Z"
   },
   {
    "duration": 240,
    "start_time": "2024-10-18T01:06:22.240Z"
   },
   {
    "duration": 16,
    "start_time": "2024-10-18T01:06:22.484Z"
   },
   {
    "duration": 10,
    "start_time": "2024-10-18T01:06:22.503Z"
   },
   {
    "duration": 5,
    "start_time": "2024-10-18T01:06:22.515Z"
   },
   {
    "duration": 16,
    "start_time": "2024-10-18T01:06:22.522Z"
   },
   {
    "duration": 4,
    "start_time": "2024-10-18T01:06:22.539Z"
   },
   {
    "duration": 133,
    "start_time": "2024-10-18T01:06:22.545Z"
   },
   {
    "duration": 0,
    "start_time": "2024-10-18T01:06:22.681Z"
   },
   {
    "duration": 0,
    "start_time": "2024-10-18T01:06:22.682Z"
   },
   {
    "duration": 0,
    "start_time": "2024-10-18T01:06:22.683Z"
   },
   {
    "duration": 0,
    "start_time": "2024-10-18T01:06:22.686Z"
   },
   {
    "duration": 0,
    "start_time": "2024-10-18T01:06:22.687Z"
   },
   {
    "duration": 0,
    "start_time": "2024-10-18T01:06:22.688Z"
   },
   {
    "duration": 0,
    "start_time": "2024-10-18T01:06:22.689Z"
   },
   {
    "duration": 0,
    "start_time": "2024-10-18T01:06:22.690Z"
   },
   {
    "duration": 0,
    "start_time": "2024-10-18T01:06:22.692Z"
   },
   {
    "duration": 0,
    "start_time": "2024-10-18T01:06:22.693Z"
   },
   {
    "duration": 0,
    "start_time": "2024-10-18T01:06:22.694Z"
   },
   {
    "duration": 0,
    "start_time": "2024-10-18T01:06:22.696Z"
   },
   {
    "duration": 0,
    "start_time": "2024-10-18T01:06:22.697Z"
   },
   {
    "duration": 0,
    "start_time": "2024-10-18T01:06:22.699Z"
   },
   {
    "duration": 0,
    "start_time": "2024-10-18T01:06:22.700Z"
   },
   {
    "duration": 0,
    "start_time": "2024-10-18T01:06:22.701Z"
   },
   {
    "duration": 0,
    "start_time": "2024-10-18T01:06:22.703Z"
   },
   {
    "duration": 1,
    "start_time": "2024-10-18T01:06:22.704Z"
   },
   {
    "duration": 0,
    "start_time": "2024-10-18T01:06:22.706Z"
   },
   {
    "duration": 0,
    "start_time": "2024-10-18T01:06:22.707Z"
   },
   {
    "duration": 0,
    "start_time": "2024-10-18T01:06:22.708Z"
   },
   {
    "duration": 0,
    "start_time": "2024-10-18T01:06:22.709Z"
   },
   {
    "duration": 12,
    "start_time": "2024-10-18T01:08:06.043Z"
   },
   {
    "duration": 161,
    "start_time": "2024-10-18T03:13:33.095Z"
   },
   {
    "duration": 284,
    "start_time": "2024-10-18T03:13:37.478Z"
   },
   {
    "duration": 226,
    "start_time": "2024-10-18T03:13:37.764Z"
   },
   {
    "duration": 14,
    "start_time": "2024-10-18T03:13:37.992Z"
   },
   {
    "duration": 6,
    "start_time": "2024-10-18T03:13:38.009Z"
   },
   {
    "duration": 6,
    "start_time": "2024-10-18T03:13:38.017Z"
   },
   {
    "duration": 13,
    "start_time": "2024-10-18T03:13:38.025Z"
   },
   {
    "duration": 4,
    "start_time": "2024-10-18T03:13:38.040Z"
   },
   {
    "duration": 10,
    "start_time": "2024-10-18T03:13:38.045Z"
   },
   {
    "duration": 77,
    "start_time": "2024-10-18T03:13:38.057Z"
   },
   {
    "duration": 0,
    "start_time": "2024-10-18T03:13:38.137Z"
   },
   {
    "duration": 0,
    "start_time": "2024-10-18T03:13:38.139Z"
   },
   {
    "duration": 0,
    "start_time": "2024-10-18T03:13:38.140Z"
   },
   {
    "duration": 0,
    "start_time": "2024-10-18T03:13:38.141Z"
   },
   {
    "duration": 0,
    "start_time": "2024-10-18T03:13:38.143Z"
   },
   {
    "duration": 0,
    "start_time": "2024-10-18T03:13:38.144Z"
   },
   {
    "duration": 1,
    "start_time": "2024-10-18T03:13:38.144Z"
   },
   {
    "duration": 0,
    "start_time": "2024-10-18T03:13:38.146Z"
   },
   {
    "duration": 0,
    "start_time": "2024-10-18T03:13:38.146Z"
   },
   {
    "duration": 0,
    "start_time": "2024-10-18T03:13:38.147Z"
   },
   {
    "duration": 0,
    "start_time": "2024-10-18T03:13:38.148Z"
   },
   {
    "duration": 0,
    "start_time": "2024-10-18T03:13:38.149Z"
   },
   {
    "duration": 0,
    "start_time": "2024-10-18T03:13:38.149Z"
   },
   {
    "duration": 0,
    "start_time": "2024-10-18T03:13:38.150Z"
   },
   {
    "duration": 0,
    "start_time": "2024-10-18T03:13:38.151Z"
   },
   {
    "duration": 0,
    "start_time": "2024-10-18T03:13:38.152Z"
   },
   {
    "duration": 0,
    "start_time": "2024-10-18T03:13:38.153Z"
   },
   {
    "duration": 0,
    "start_time": "2024-10-18T03:13:38.153Z"
   },
   {
    "duration": 0,
    "start_time": "2024-10-18T03:13:38.155Z"
   },
   {
    "duration": 0,
    "start_time": "2024-10-18T03:13:38.157Z"
   },
   {
    "duration": 0,
    "start_time": "2024-10-18T03:13:38.159Z"
   },
   {
    "duration": 0,
    "start_time": "2024-10-18T03:13:38.160Z"
   },
   {
    "duration": 7,
    "start_time": "2024-10-18T03:14:06.380Z"
   },
   {
    "duration": 12,
    "start_time": "2024-10-18T03:14:30.168Z"
   },
   {
    "duration": 12,
    "start_time": "2024-10-18T03:14:38.514Z"
   },
   {
    "duration": 52,
    "start_time": "2024-10-18T03:17:22.854Z"
   },
   {
    "duration": 407,
    "start_time": "2024-10-18T03:19:52.330Z"
   },
   {
    "duration": 25,
    "start_time": "2024-10-18T03:20:18.410Z"
   },
   {
    "duration": 24,
    "start_time": "2024-10-18T03:20:31.272Z"
   },
   {
    "duration": 30,
    "start_time": "2024-10-18T03:25:18.267Z"
   },
   {
    "duration": 20,
    "start_time": "2024-10-18T03:28:42.209Z"
   },
   {
    "duration": 52,
    "start_time": "2024-10-18T03:29:39.989Z"
   },
   {
    "duration": 20,
    "start_time": "2024-10-18T03:37:19.780Z"
   },
   {
    "duration": 25,
    "start_time": "2024-10-18T03:40:45.809Z"
   },
   {
    "duration": 47,
    "start_time": "2024-10-18T03:41:24.828Z"
   },
   {
    "duration": 39,
    "start_time": "2024-10-18T03:45:13.044Z"
   },
   {
    "duration": 42,
    "start_time": "2024-10-18T03:45:44.835Z"
   },
   {
    "duration": 36,
    "start_time": "2024-10-18T03:45:56.378Z"
   },
   {
    "duration": 3,
    "start_time": "2024-10-18T03:46:09.393Z"
   },
   {
    "duration": 161,
    "start_time": "2024-10-18T03:46:09.399Z"
   },
   {
    "duration": 13,
    "start_time": "2024-10-18T03:46:09.562Z"
   },
   {
    "duration": 6,
    "start_time": "2024-10-18T03:46:09.577Z"
   },
   {
    "duration": 5,
    "start_time": "2024-10-18T03:46:09.585Z"
   },
   {
    "duration": 14,
    "start_time": "2024-10-18T03:46:09.606Z"
   },
   {
    "duration": 4,
    "start_time": "2024-10-18T03:46:09.621Z"
   },
   {
    "duration": 9,
    "start_time": "2024-10-18T03:46:09.627Z"
   },
   {
    "duration": 20,
    "start_time": "2024-10-18T03:46:09.639Z"
   },
   {
    "duration": 72,
    "start_time": "2024-10-18T03:46:09.661Z"
   },
   {
    "duration": 24,
    "start_time": "2024-10-18T03:46:09.735Z"
   },
   {
    "duration": 47,
    "start_time": "2024-10-18T03:46:09.760Z"
   },
   {
    "duration": 19,
    "start_time": "2024-10-18T03:46:09.808Z"
   },
   {
    "duration": 50,
    "start_time": "2024-10-18T03:46:09.829Z"
   },
   {
    "duration": 34,
    "start_time": "2024-10-18T03:46:09.880Z"
   },
   {
    "duration": 3,
    "start_time": "2024-10-18T03:46:09.915Z"
   },
   {
    "duration": 3,
    "start_time": "2024-10-18T03:46:09.919Z"
   },
   {
    "duration": 3,
    "start_time": "2024-10-18T03:46:09.923Z"
   },
   {
    "duration": 2,
    "start_time": "2024-10-18T03:46:09.928Z"
   },
   {
    "duration": 2,
    "start_time": "2024-10-18T03:46:09.932Z"
   },
   {
    "duration": 3,
    "start_time": "2024-10-18T03:46:09.936Z"
   },
   {
    "duration": 3,
    "start_time": "2024-10-18T03:46:09.941Z"
   },
   {
    "duration": 3,
    "start_time": "2024-10-18T03:46:09.945Z"
   },
   {
    "duration": 2,
    "start_time": "2024-10-18T03:46:09.952Z"
   },
   {
    "duration": 3,
    "start_time": "2024-10-18T03:46:09.956Z"
   },
   {
    "duration": 3,
    "start_time": "2024-10-18T03:46:09.960Z"
   },
   {
    "duration": 42,
    "start_time": "2024-10-18T03:46:09.964Z"
   },
   {
    "duration": 3,
    "start_time": "2024-10-18T03:46:10.008Z"
   },
   {
    "duration": 3,
    "start_time": "2024-10-18T03:46:10.012Z"
   },
   {
    "duration": 3,
    "start_time": "2024-10-18T03:46:10.017Z"
   },
   {
    "duration": 2,
    "start_time": "2024-10-18T03:46:10.022Z"
   },
   {
    "duration": 41,
    "start_time": "2024-10-18T03:46:28.301Z"
   },
   {
    "duration": 94,
    "start_time": "2024-10-18T03:46:33.755Z"
   },
   {
    "duration": 37,
    "start_time": "2024-10-18T03:46:50.045Z"
   },
   {
    "duration": 3,
    "start_time": "2024-10-18T03:47:07.157Z"
   },
   {
    "duration": 152,
    "start_time": "2024-10-18T03:47:07.164Z"
   },
   {
    "duration": 13,
    "start_time": "2024-10-18T03:47:07.318Z"
   },
   {
    "duration": 7,
    "start_time": "2024-10-18T03:47:07.333Z"
   },
   {
    "duration": 5,
    "start_time": "2024-10-18T03:47:07.342Z"
   },
   {
    "duration": 16,
    "start_time": "2024-10-18T03:47:07.351Z"
   },
   {
    "duration": 5,
    "start_time": "2024-10-18T03:47:07.368Z"
   },
   {
    "duration": 11,
    "start_time": "2024-10-18T03:47:07.405Z"
   },
   {
    "duration": 10,
    "start_time": "2024-10-18T03:47:07.419Z"
   },
   {
    "duration": 48,
    "start_time": "2024-10-18T03:47:07.431Z"
   },
   {
    "duration": 45,
    "start_time": "2024-10-18T03:47:07.481Z"
   },
   {
    "duration": 30,
    "start_time": "2024-10-18T03:47:07.527Z"
   },
   {
    "duration": 17,
    "start_time": "2024-10-18T03:47:07.559Z"
   },
   {
    "duration": 75,
    "start_time": "2024-10-18T03:47:07.578Z"
   },
   {
    "duration": 10,
    "start_time": "2024-10-18T03:47:07.656Z"
   },
   {
    "duration": 2,
    "start_time": "2024-10-18T03:47:07.668Z"
   },
   {
    "duration": 2,
    "start_time": "2024-10-18T03:47:07.672Z"
   },
   {
    "duration": 30,
    "start_time": "2024-10-18T03:47:07.676Z"
   },
   {
    "duration": 4,
    "start_time": "2024-10-18T03:47:07.707Z"
   },
   {
    "duration": 3,
    "start_time": "2024-10-18T03:47:07.712Z"
   },
   {
    "duration": 3,
    "start_time": "2024-10-18T03:47:07.718Z"
   },
   {
    "duration": 2,
    "start_time": "2024-10-18T03:47:07.724Z"
   },
   {
    "duration": 3,
    "start_time": "2024-10-18T03:47:07.727Z"
   },
   {
    "duration": 2,
    "start_time": "2024-10-18T03:47:07.732Z"
   },
   {
    "duration": 2,
    "start_time": "2024-10-18T03:47:07.736Z"
   },
   {
    "duration": 3,
    "start_time": "2024-10-18T03:47:07.740Z"
   },
   {
    "duration": 3,
    "start_time": "2024-10-18T03:47:07.744Z"
   },
   {
    "duration": 3,
    "start_time": "2024-10-18T03:47:07.748Z"
   },
   {
    "duration": 2,
    "start_time": "2024-10-18T03:47:07.753Z"
   },
   {
    "duration": 49,
    "start_time": "2024-10-18T03:47:07.757Z"
   },
   {
    "duration": 3,
    "start_time": "2024-10-18T03:47:07.807Z"
   },
   {
    "duration": 21,
    "start_time": "2024-10-18T03:47:25.093Z"
   },
   {
    "duration": 4,
    "start_time": "2024-10-18T03:48:10.070Z"
   },
   {
    "duration": 20,
    "start_time": "2024-10-18T03:48:22.344Z"
   },
   {
    "duration": 23,
    "start_time": "2024-10-18T03:52:08.071Z"
   },
   {
    "duration": 20,
    "start_time": "2024-10-18T03:52:49.663Z"
   },
   {
    "duration": 20,
    "start_time": "2024-10-18T03:54:54.496Z"
   },
   {
    "duration": 285,
    "start_time": "2024-10-18T18:58:52.488Z"
   },
   {
    "duration": 227,
    "start_time": "2024-10-18T18:58:52.775Z"
   },
   {
    "duration": 15,
    "start_time": "2024-10-18T18:58:53.004Z"
   },
   {
    "duration": 19,
    "start_time": "2024-10-18T18:58:53.021Z"
   },
   {
    "duration": 21,
    "start_time": "2024-10-18T18:58:53.042Z"
   },
   {
    "duration": 32,
    "start_time": "2024-10-18T18:58:53.066Z"
   },
   {
    "duration": 14,
    "start_time": "2024-10-18T18:58:53.100Z"
   },
   {
    "duration": 20,
    "start_time": "2024-10-18T18:58:53.116Z"
   },
   {
    "duration": 27,
    "start_time": "2024-10-18T18:58:53.137Z"
   },
   {
    "duration": 56,
    "start_time": "2024-10-18T18:58:53.168Z"
   },
   {
    "duration": 30,
    "start_time": "2024-10-18T18:58:53.226Z"
   },
   {
    "duration": 51,
    "start_time": "2024-10-18T18:58:53.258Z"
   },
   {
    "duration": 17,
    "start_time": "2024-10-18T18:58:53.311Z"
   },
   {
    "duration": 55,
    "start_time": "2024-10-18T18:58:53.330Z"
   },
   {
    "duration": 32,
    "start_time": "2024-10-18T18:58:53.387Z"
   },
   {
    "duration": 21,
    "start_time": "2024-10-18T18:58:53.421Z"
   },
   {
    "duration": 2,
    "start_time": "2024-10-18T18:58:53.444Z"
   },
   {
    "duration": 2,
    "start_time": "2024-10-18T18:58:53.448Z"
   },
   {
    "duration": 2,
    "start_time": "2024-10-18T18:58:53.452Z"
   },
   {
    "duration": 2,
    "start_time": "2024-10-18T18:58:53.456Z"
   },
   {
    "duration": 2,
    "start_time": "2024-10-18T18:58:53.461Z"
   },
   {
    "duration": 3,
    "start_time": "2024-10-18T18:58:53.464Z"
   },
   {
    "duration": 39,
    "start_time": "2024-10-18T18:58:53.470Z"
   },
   {
    "duration": 2,
    "start_time": "2024-10-18T18:58:53.511Z"
   },
   {
    "duration": 2,
    "start_time": "2024-10-18T18:58:53.515Z"
   },
   {
    "duration": 3,
    "start_time": "2024-10-18T18:58:53.518Z"
   },
   {
    "duration": 2,
    "start_time": "2024-10-18T18:58:53.522Z"
   },
   {
    "duration": 2,
    "start_time": "2024-10-18T18:58:53.528Z"
   },
   {
    "duration": 2,
    "start_time": "2024-10-18T18:58:53.531Z"
   },
   {
    "duration": 2,
    "start_time": "2024-10-18T18:58:53.535Z"
   },
   {
    "duration": 2,
    "start_time": "2024-10-18T18:58:53.539Z"
   },
   {
    "duration": 2,
    "start_time": "2024-10-18T18:58:53.543Z"
   },
   {
    "duration": 6,
    "start_time": "2024-10-18T19:08:31.657Z"
   },
   {
    "duration": 3,
    "start_time": "2024-10-18T19:09:04.813Z"
   },
   {
    "duration": 211,
    "start_time": "2024-10-18T19:09:04.818Z"
   },
   {
    "duration": 14,
    "start_time": "2024-10-18T19:09:05.031Z"
   },
   {
    "duration": 7,
    "start_time": "2024-10-18T19:09:05.047Z"
   },
   {
    "duration": 5,
    "start_time": "2024-10-18T19:09:05.058Z"
   },
   {
    "duration": 14,
    "start_time": "2024-10-18T19:09:05.064Z"
   },
   {
    "duration": 32,
    "start_time": "2024-10-18T19:09:05.079Z"
   },
   {
    "duration": 10,
    "start_time": "2024-10-18T19:09:05.114Z"
   },
   {
    "duration": 10,
    "start_time": "2024-10-18T19:09:05.127Z"
   },
   {
    "duration": 49,
    "start_time": "2024-10-18T19:09:05.139Z"
   },
   {
    "duration": 25,
    "start_time": "2024-10-18T19:09:05.209Z"
   },
   {
    "duration": 6,
    "start_time": "2024-10-18T19:09:05.236Z"
   },
   {
    "duration": 32,
    "start_time": "2024-10-18T19:09:05.243Z"
   },
   {
    "duration": 43,
    "start_time": "2024-10-18T19:09:05.279Z"
   },
   {
    "duration": 52,
    "start_time": "2024-10-18T19:09:05.324Z"
   },
   {
    "duration": 10,
    "start_time": "2024-10-18T19:09:05.378Z"
   },
   {
    "duration": 21,
    "start_time": "2024-10-18T19:09:05.409Z"
   },
   {
    "duration": 2,
    "start_time": "2024-10-18T19:09:05.432Z"
   },
   {
    "duration": 3,
    "start_time": "2024-10-18T19:09:05.435Z"
   },
   {
    "duration": 3,
    "start_time": "2024-10-18T19:09:05.440Z"
   },
   {
    "duration": 3,
    "start_time": "2024-10-18T19:09:05.445Z"
   },
   {
    "duration": 3,
    "start_time": "2024-10-18T19:09:05.450Z"
   },
   {
    "duration": 2,
    "start_time": "2024-10-18T19:09:05.454Z"
   },
   {
    "duration": 2,
    "start_time": "2024-10-18T19:09:05.458Z"
   },
   {
    "duration": 3,
    "start_time": "2024-10-18T19:09:05.462Z"
   },
   {
    "duration": 45,
    "start_time": "2024-10-18T19:09:05.466Z"
   },
   {
    "duration": 3,
    "start_time": "2024-10-18T19:09:05.512Z"
   },
   {
    "duration": 2,
    "start_time": "2024-10-18T19:09:05.517Z"
   },
   {
    "duration": 2,
    "start_time": "2024-10-18T19:09:05.521Z"
   },
   {
    "duration": 2,
    "start_time": "2024-10-18T19:09:05.525Z"
   },
   {
    "duration": 3,
    "start_time": "2024-10-18T19:09:05.529Z"
   },
   {
    "duration": 4,
    "start_time": "2024-10-18T19:09:05.533Z"
   },
   {
    "duration": 3,
    "start_time": "2024-10-18T19:09:05.538Z"
   },
   {
    "duration": 13,
    "start_time": "2024-10-18T19:14:33.487Z"
   },
   {
    "duration": 27,
    "start_time": "2024-10-18T19:23:46.374Z"
   },
   {
    "duration": 29,
    "start_time": "2024-10-18T19:23:53.763Z"
   },
   {
    "duration": 38,
    "start_time": "2024-10-18T19:25:43.108Z"
   },
   {
    "duration": 2,
    "start_time": "2024-10-18T19:25:58.287Z"
   },
   {
    "duration": 163,
    "start_time": "2024-10-18T19:25:58.308Z"
   },
   {
    "duration": 13,
    "start_time": "2024-10-18T19:25:58.474Z"
   },
   {
    "duration": 21,
    "start_time": "2024-10-18T19:25:58.488Z"
   },
   {
    "duration": 5,
    "start_time": "2024-10-18T19:25:58.510Z"
   },
   {
    "duration": 12,
    "start_time": "2024-10-18T19:25:58.518Z"
   },
   {
    "duration": 4,
    "start_time": "2024-10-18T19:25:58.532Z"
   },
   {
    "duration": 9,
    "start_time": "2024-10-18T19:25:58.538Z"
   },
   {
    "duration": 10,
    "start_time": "2024-10-18T19:25:58.549Z"
   },
   {
    "duration": 81,
    "start_time": "2024-10-18T19:25:58.560Z"
   },
   {
    "duration": 27,
    "start_time": "2024-10-18T19:25:58.644Z"
   },
   {
    "duration": 12,
    "start_time": "2024-10-18T19:25:58.672Z"
   },
   {
    "duration": 48,
    "start_time": "2024-10-18T19:25:58.685Z"
   },
   {
    "duration": 25,
    "start_time": "2024-10-18T19:25:58.734Z"
   },
   {
    "duration": 73,
    "start_time": "2024-10-18T19:25:58.763Z"
   },
   {
    "duration": 10,
    "start_time": "2024-10-18T19:25:58.838Z"
   },
   {
    "duration": 23,
    "start_time": "2024-10-18T19:25:58.850Z"
   },
   {
    "duration": 2,
    "start_time": "2024-10-18T19:25:58.875Z"
   },
   {
    "duration": 3,
    "start_time": "2024-10-18T19:25:58.879Z"
   },
   {
    "duration": 3,
    "start_time": "2024-10-18T19:25:58.909Z"
   },
   {
    "duration": 4,
    "start_time": "2024-10-18T19:25:58.913Z"
   },
   {
    "duration": 3,
    "start_time": "2024-10-18T19:25:58.918Z"
   },
   {
    "duration": 2,
    "start_time": "2024-10-18T19:25:58.923Z"
   },
   {
    "duration": 2,
    "start_time": "2024-10-18T19:25:58.927Z"
   },
   {
    "duration": 2,
    "start_time": "2024-10-18T19:25:58.931Z"
   },
   {
    "duration": 2,
    "start_time": "2024-10-18T19:25:58.935Z"
   },
   {
    "duration": 3,
    "start_time": "2024-10-18T19:25:58.939Z"
   },
   {
    "duration": 3,
    "start_time": "2024-10-18T19:25:58.943Z"
   },
   {
    "duration": 2,
    "start_time": "2024-10-18T19:25:58.948Z"
   },
   {
    "duration": 3,
    "start_time": "2024-10-18T19:25:58.952Z"
   },
   {
    "duration": 2,
    "start_time": "2024-10-18T19:25:58.957Z"
   },
   {
    "duration": 3,
    "start_time": "2024-10-18T19:25:58.961Z"
   },
   {
    "duration": 2,
    "start_time": "2024-10-18T19:25:59.010Z"
   },
   {
    "duration": 564,
    "start_time": "2024-10-18T19:34:18.247Z"
   },
   {
    "duration": 2,
    "start_time": "2024-10-18T19:34:55.653Z"
   },
   {
    "duration": 168,
    "start_time": "2024-10-18T19:34:55.659Z"
   },
   {
    "duration": 13,
    "start_time": "2024-10-18T19:34:55.830Z"
   },
   {
    "duration": 7,
    "start_time": "2024-10-18T19:34:55.845Z"
   },
   {
    "duration": 6,
    "start_time": "2024-10-18T19:34:55.854Z"
   },
   {
    "duration": 13,
    "start_time": "2024-10-18T19:34:55.861Z"
   },
   {
    "duration": 34,
    "start_time": "2024-10-18T19:34:55.876Z"
   },
   {
    "duration": 10,
    "start_time": "2024-10-18T19:34:55.912Z"
   },
   {
    "duration": 11,
    "start_time": "2024-10-18T19:34:55.924Z"
   },
   {
    "duration": 49,
    "start_time": "2024-10-18T19:34:55.937Z"
   },
   {
    "duration": 24,
    "start_time": "2024-10-18T19:34:56.010Z"
   },
   {
    "duration": 11,
    "start_time": "2024-10-18T19:34:56.036Z"
   },
   {
    "duration": 32,
    "start_time": "2024-10-18T19:34:56.049Z"
   },
   {
    "duration": 51,
    "start_time": "2024-10-18T19:34:56.082Z"
   },
   {
    "duration": 73,
    "start_time": "2024-10-18T19:34:56.136Z"
   },
   {
    "duration": 32,
    "start_time": "2024-10-18T19:34:56.210Z"
   },
   {
    "duration": 21,
    "start_time": "2024-10-18T19:34:56.243Z"
   },
   {
    "duration": 2,
    "start_time": "2024-10-18T19:34:56.266Z"
   },
   {
    "duration": 3,
    "start_time": "2024-10-18T19:34:56.269Z"
   },
   {
    "duration": 3,
    "start_time": "2024-10-18T19:34:56.273Z"
   },
   {
    "duration": 30,
    "start_time": "2024-10-18T19:34:56.278Z"
   },
   {
    "duration": 3,
    "start_time": "2024-10-18T19:34:56.309Z"
   },
   {
    "duration": 3,
    "start_time": "2024-10-18T19:34:56.313Z"
   },
   {
    "duration": 3,
    "start_time": "2024-10-18T19:34:56.317Z"
   },
   {
    "duration": 2,
    "start_time": "2024-10-18T19:34:56.322Z"
   },
   {
    "duration": 2,
    "start_time": "2024-10-18T19:34:56.327Z"
   },
   {
    "duration": 2,
    "start_time": "2024-10-18T19:34:56.331Z"
   },
   {
    "duration": 2,
    "start_time": "2024-10-18T19:34:56.335Z"
   },
   {
    "duration": 2,
    "start_time": "2024-10-18T19:34:56.341Z"
   },
   {
    "duration": 3,
    "start_time": "2024-10-18T19:34:56.345Z"
   },
   {
    "duration": 4,
    "start_time": "2024-10-18T19:34:56.349Z"
   },
   {
    "duration": 2,
    "start_time": "2024-10-18T19:34:56.355Z"
   },
   {
    "duration": 3,
    "start_time": "2024-10-18T19:34:56.359Z"
   },
   {
    "duration": 9,
    "start_time": "2024-10-18T19:38:36.580Z"
   },
   {
    "duration": 6,
    "start_time": "2024-10-18T19:40:17.941Z"
   },
   {
    "duration": 13,
    "start_time": "2024-10-18T19:54:11.190Z"
   },
   {
    "duration": 14,
    "start_time": "2024-10-18T19:54:28.967Z"
   },
   {
    "duration": 14,
    "start_time": "2024-10-18T19:54:52.176Z"
   },
   {
    "duration": 13,
    "start_time": "2024-10-18T19:55:47.346Z"
   },
   {
    "duration": 14,
    "start_time": "2024-10-18T19:59:45.970Z"
   },
   {
    "duration": 6,
    "start_time": "2024-10-18T20:01:41.286Z"
   },
   {
    "duration": 7,
    "start_time": "2024-10-18T20:01:57.949Z"
   },
   {
    "duration": 27,
    "start_time": "2024-10-18T20:03:05.270Z"
   },
   {
    "duration": 327,
    "start_time": "2024-10-19T00:56:11.247Z"
   },
   {
    "duration": 234,
    "start_time": "2024-10-19T00:56:11.576Z"
   },
   {
    "duration": 17,
    "start_time": "2024-10-19T00:56:11.813Z"
   },
   {
    "duration": 6,
    "start_time": "2024-10-19T00:56:11.832Z"
   },
   {
    "duration": 4,
    "start_time": "2024-10-19T00:56:11.840Z"
   },
   {
    "duration": 13,
    "start_time": "2024-10-19T00:56:11.846Z"
   },
   {
    "duration": 5,
    "start_time": "2024-10-19T00:56:11.861Z"
   },
   {
    "duration": 10,
    "start_time": "2024-10-19T00:56:11.867Z"
   },
   {
    "duration": 46,
    "start_time": "2024-10-19T00:56:11.878Z"
   },
   {
    "duration": 51,
    "start_time": "2024-10-19T00:56:11.927Z"
   },
   {
    "duration": 25,
    "start_time": "2024-10-19T00:56:11.980Z"
   },
   {
    "duration": 26,
    "start_time": "2024-10-19T00:56:12.007Z"
   },
   {
    "duration": 30,
    "start_time": "2024-10-19T00:56:12.035Z"
   },
   {
    "duration": 23,
    "start_time": "2024-10-19T00:56:12.067Z"
   },
   {
    "duration": 34,
    "start_time": "2024-10-19T00:56:12.091Z"
   },
   {
    "duration": 51,
    "start_time": "2024-10-19T00:56:12.126Z"
   },
   {
    "duration": 30,
    "start_time": "2024-10-19T00:56:12.178Z"
   },
   {
    "duration": 39,
    "start_time": "2024-10-19T00:56:12.209Z"
   },
   {
    "duration": 5,
    "start_time": "2024-10-19T00:56:12.249Z"
   },
   {
    "duration": 11,
    "start_time": "2024-10-19T00:56:12.256Z"
   },
   {
    "duration": 13,
    "start_time": "2024-10-19T00:56:12.268Z"
   },
   {
    "duration": 2,
    "start_time": "2024-10-19T00:56:12.283Z"
   },
   {
    "duration": 38,
    "start_time": "2024-10-19T00:56:12.286Z"
   },
   {
    "duration": 2,
    "start_time": "2024-10-19T00:56:12.326Z"
   },
   {
    "duration": 2,
    "start_time": "2024-10-19T00:56:12.330Z"
   },
   {
    "duration": 2,
    "start_time": "2024-10-19T00:56:12.334Z"
   },
   {
    "duration": 2,
    "start_time": "2024-10-19T00:56:12.339Z"
   },
   {
    "duration": 2,
    "start_time": "2024-10-19T00:56:12.345Z"
   },
   {
    "duration": 3,
    "start_time": "2024-10-19T00:56:12.348Z"
   },
   {
    "duration": 3,
    "start_time": "2024-10-19T00:56:12.353Z"
   },
   {
    "duration": 3,
    "start_time": "2024-10-19T00:56:12.357Z"
   },
   {
    "duration": 2,
    "start_time": "2024-10-19T00:56:12.362Z"
   },
   {
    "duration": 3,
    "start_time": "2024-10-19T00:56:12.366Z"
   },
   {
    "duration": 3,
    "start_time": "2024-10-19T00:56:12.370Z"
   },
   {
    "duration": 13,
    "start_time": "2024-10-19T00:56:25.318Z"
   },
   {
    "duration": 173,
    "start_time": "2024-10-19T01:10:23.965Z"
   },
   {
    "duration": 17,
    "start_time": "2024-10-19T01:10:30.863Z"
   },
   {
    "duration": 9,
    "start_time": "2024-10-19T01:10:37.339Z"
   },
   {
    "duration": 13,
    "start_time": "2024-10-19T01:42:41.767Z"
   },
   {
    "duration": 14,
    "start_time": "2024-10-19T01:47:00.384Z"
   },
   {
    "duration": 15,
    "start_time": "2024-10-19T01:49:15.708Z"
   },
   {
    "duration": 16,
    "start_time": "2024-10-19T01:50:23.740Z"
   },
   {
    "duration": 13,
    "start_time": "2024-10-19T01:58:47.673Z"
   },
   {
    "duration": 16,
    "start_time": "2024-10-19T02:02:01.179Z"
   },
   {
    "duration": 340,
    "start_time": "2024-10-19T02:03:46.262Z"
   },
   {
    "duration": 12,
    "start_time": "2024-10-19T02:04:02.413Z"
   },
   {
    "duration": 13,
    "start_time": "2024-10-19T02:04:57.695Z"
   },
   {
    "duration": 290,
    "start_time": "2024-10-19T02:37:39.470Z"
   },
   {
    "duration": 216,
    "start_time": "2024-10-19T02:37:39.762Z"
   },
   {
    "duration": 14,
    "start_time": "2024-10-19T02:37:39.980Z"
   },
   {
    "duration": 7,
    "start_time": "2024-10-19T02:37:39.996Z"
   },
   {
    "duration": 5,
    "start_time": "2024-10-19T02:37:40.004Z"
   },
   {
    "duration": 13,
    "start_time": "2024-10-19T02:37:40.010Z"
   },
   {
    "duration": 5,
    "start_time": "2024-10-19T02:37:40.024Z"
   },
   {
    "duration": 10,
    "start_time": "2024-10-19T02:37:40.030Z"
   },
   {
    "duration": 12,
    "start_time": "2024-10-19T02:37:40.041Z"
   },
   {
    "duration": 79,
    "start_time": "2024-10-19T02:37:40.056Z"
   },
   {
    "duration": 25,
    "start_time": "2024-10-19T02:37:40.137Z"
   },
   {
    "duration": 12,
    "start_time": "2024-10-19T02:37:40.163Z"
   },
   {
    "duration": 50,
    "start_time": "2024-10-19T02:37:40.177Z"
   },
   {
    "duration": 24,
    "start_time": "2024-10-19T02:37:40.228Z"
   },
   {
    "duration": 7,
    "start_time": "2024-10-19T02:37:40.255Z"
   },
   {
    "duration": 74,
    "start_time": "2024-10-19T02:37:40.263Z"
   },
   {
    "duration": 31,
    "start_time": "2024-10-19T02:37:40.339Z"
   },
   {
    "duration": 39,
    "start_time": "2024-10-19T02:37:40.372Z"
   },
   {
    "duration": 4,
    "start_time": "2024-10-19T02:37:40.413Z"
   },
   {
    "duration": 13,
    "start_time": "2024-10-19T02:37:40.419Z"
   },
   {
    "duration": 15,
    "start_time": "2024-10-19T02:37:40.433Z"
   },
   {
    "duration": 12,
    "start_time": "2024-10-19T02:37:40.449Z"
   },
   {
    "duration": 43,
    "start_time": "2024-10-19T02:37:40.463Z"
   },
   {
    "duration": 2,
    "start_time": "2024-10-19T02:37:40.508Z"
   },
   {
    "duration": 3,
    "start_time": "2024-10-19T02:37:40.511Z"
   },
   {
    "duration": 3,
    "start_time": "2024-10-19T02:37:40.515Z"
   },
   {
    "duration": 2,
    "start_time": "2024-10-19T02:37:40.520Z"
   },
   {
    "duration": 2,
    "start_time": "2024-10-19T02:37:40.526Z"
   },
   {
    "duration": 3,
    "start_time": "2024-10-19T02:37:40.529Z"
   },
   {
    "duration": 2,
    "start_time": "2024-10-19T02:37:40.534Z"
   },
   {
    "duration": 2,
    "start_time": "2024-10-19T02:37:40.538Z"
   },
   {
    "duration": 3,
    "start_time": "2024-10-19T02:37:40.542Z"
   },
   {
    "duration": 2,
    "start_time": "2024-10-19T02:37:40.547Z"
   },
   {
    "duration": 3,
    "start_time": "2024-10-19T02:37:40.551Z"
   },
   {
    "duration": 11,
    "start_time": "2024-10-19T02:44:37.571Z"
   },
   {
    "duration": 285,
    "start_time": "2024-10-19T02:51:43.435Z"
   },
   {
    "duration": 12,
    "start_time": "2024-10-19T02:52:23.773Z"
   },
   {
    "duration": 14,
    "start_time": "2024-10-19T02:52:44.214Z"
   },
   {
    "duration": 15,
    "start_time": "2024-10-19T02:53:51.072Z"
   },
   {
    "duration": 13,
    "start_time": "2024-10-19T02:54:33.862Z"
   },
   {
    "duration": 14,
    "start_time": "2024-10-19T02:56:25.508Z"
   },
   {
    "duration": 4,
    "start_time": "2024-10-19T03:14:30.347Z"
   },
   {
    "duration": 14,
    "start_time": "2024-10-19T03:15:06.853Z"
   },
   {
    "duration": 14,
    "start_time": "2024-10-19T03:16:24.548Z"
   },
   {
    "duration": 383,
    "start_time": "2024-10-19T03:38:10.577Z"
   },
   {
    "duration": 29,
    "start_time": "2024-10-19T03:43:22.040Z"
   },
   {
    "duration": 17,
    "start_time": "2024-10-19T03:44:04.169Z"
   },
   {
    "duration": 18,
    "start_time": "2024-10-19T03:51:34.869Z"
   },
   {
    "duration": 19,
    "start_time": "2024-10-19T04:00:08.302Z"
   },
   {
    "duration": 372,
    "start_time": "2024-10-19T04:00:37.194Z"
   },
   {
    "duration": 16,
    "start_time": "2024-10-19T04:04:42.702Z"
   },
   {
    "duration": 315,
    "start_time": "2024-10-19T18:07:46.411Z"
   },
   {
    "duration": 182,
    "start_time": "2024-10-19T18:07:46.729Z"
   },
   {
    "duration": 15,
    "start_time": "2024-10-19T18:07:46.913Z"
   },
   {
    "duration": 7,
    "start_time": "2024-10-19T18:07:46.930Z"
   },
   {
    "duration": 4,
    "start_time": "2024-10-19T18:07:46.939Z"
   },
   {
    "duration": 13,
    "start_time": "2024-10-19T18:07:46.945Z"
   },
   {
    "duration": 5,
    "start_time": "2024-10-19T18:07:46.959Z"
   },
   {
    "duration": 43,
    "start_time": "2024-10-19T18:07:46.965Z"
   },
   {
    "duration": 11,
    "start_time": "2024-10-19T18:07:47.010Z"
   },
   {
    "duration": 51,
    "start_time": "2024-10-19T18:07:47.025Z"
   },
   {
    "duration": 45,
    "start_time": "2024-10-19T18:07:47.078Z"
   },
   {
    "duration": 12,
    "start_time": "2024-10-19T18:07:47.125Z"
   },
   {
    "duration": 32,
    "start_time": "2024-10-19T18:07:47.139Z"
   },
   {
    "duration": 50,
    "start_time": "2024-10-19T18:07:47.172Z"
   },
   {
    "duration": 7,
    "start_time": "2024-10-19T18:07:47.224Z"
   },
   {
    "duration": 52,
    "start_time": "2024-10-19T18:07:47.232Z"
   },
   {
    "duration": 29,
    "start_time": "2024-10-19T18:07:47.306Z"
   },
   {
    "duration": 26,
    "start_time": "2024-10-19T18:07:47.337Z"
   },
   {
    "duration": 5,
    "start_time": "2024-10-19T18:07:47.364Z"
   },
   {
    "duration": 38,
    "start_time": "2024-10-19T18:07:47.371Z"
   },
   {
    "duration": 15,
    "start_time": "2024-10-19T18:07:47.411Z"
   },
   {
    "duration": 13,
    "start_time": "2024-10-19T18:07:47.428Z"
   },
   {
    "duration": 195,
    "start_time": "2024-10-19T18:07:47.443Z"
   },
   {
    "duration": 0,
    "start_time": "2024-10-19T18:07:47.640Z"
   },
   {
    "duration": 0,
    "start_time": "2024-10-19T18:07:47.641Z"
   },
   {
    "duration": 0,
    "start_time": "2024-10-19T18:07:47.643Z"
   },
   {
    "duration": 0,
    "start_time": "2024-10-19T18:07:47.644Z"
   },
   {
    "duration": 0,
    "start_time": "2024-10-19T18:07:47.645Z"
   },
   {
    "duration": 0,
    "start_time": "2024-10-19T18:07:47.647Z"
   },
   {
    "duration": 0,
    "start_time": "2024-10-19T18:07:47.648Z"
   },
   {
    "duration": 0,
    "start_time": "2024-10-19T18:07:47.650Z"
   },
   {
    "duration": 0,
    "start_time": "2024-10-19T18:07:47.651Z"
   },
   {
    "duration": 0,
    "start_time": "2024-10-19T18:07:47.652Z"
   },
   {
    "duration": 0,
    "start_time": "2024-10-19T18:07:47.654Z"
   },
   {
    "duration": 14,
    "start_time": "2024-10-19T18:08:40.401Z"
   },
   {
    "duration": 23,
    "start_time": "2024-10-19T18:08:47.673Z"
   },
   {
    "duration": 18,
    "start_time": "2024-10-19T18:08:59.137Z"
   },
   {
    "duration": 16,
    "start_time": "2024-10-19T18:09:06.690Z"
   },
   {
    "duration": 14,
    "start_time": "2024-10-19T18:09:12.461Z"
   },
   {
    "duration": 6,
    "start_time": "2024-10-19T18:10:32.136Z"
   },
   {
    "duration": 7,
    "start_time": "2024-10-19T18:15:21.192Z"
   },
   {
    "duration": 2,
    "start_time": "2024-10-19T18:15:39.957Z"
   },
   {
    "duration": 6,
    "start_time": "2024-10-19T18:15:46.640Z"
   },
   {
    "duration": 5,
    "start_time": "2024-10-19T18:16:13.117Z"
   },
   {
    "duration": 4,
    "start_time": "2024-10-19T18:16:22.262Z"
   },
   {
    "duration": 5,
    "start_time": "2024-10-19T18:16:33.999Z"
   },
   {
    "duration": 2,
    "start_time": "2024-10-19T18:16:40.244Z"
   },
   {
    "duration": 176,
    "start_time": "2024-10-19T18:16:40.255Z"
   },
   {
    "duration": 13,
    "start_time": "2024-10-19T18:16:40.433Z"
   },
   {
    "duration": 6,
    "start_time": "2024-10-19T18:16:40.448Z"
   },
   {
    "duration": 5,
    "start_time": "2024-10-19T18:16:40.456Z"
   },
   {
    "duration": 12,
    "start_time": "2024-10-19T18:16:40.463Z"
   },
   {
    "duration": 31,
    "start_time": "2024-10-19T18:16:40.476Z"
   },
   {
    "duration": 10,
    "start_time": "2024-10-19T18:16:40.509Z"
   },
   {
    "duration": 13,
    "start_time": "2024-10-19T18:16:40.520Z"
   },
   {
    "duration": 47,
    "start_time": "2024-10-19T18:16:40.534Z"
   },
   {
    "duration": 45,
    "start_time": "2024-10-19T18:16:40.583Z"
   },
   {
    "duration": 11,
    "start_time": "2024-10-19T18:16:40.631Z"
   },
   {
    "duration": 30,
    "start_time": "2024-10-19T18:16:40.643Z"
   },
   {
    "duration": 44,
    "start_time": "2024-10-19T18:16:40.676Z"
   },
   {
    "duration": 8,
    "start_time": "2024-10-19T18:16:40.723Z"
   },
   {
    "duration": 49,
    "start_time": "2024-10-19T18:16:40.732Z"
   },
   {
    "duration": 27,
    "start_time": "2024-10-19T18:16:40.804Z"
   },
   {
    "duration": 25,
    "start_time": "2024-10-19T18:16:40.833Z"
   },
   {
    "duration": 5,
    "start_time": "2024-10-19T18:16:40.860Z"
   },
   {
    "duration": 12,
    "start_time": "2024-10-19T18:16:40.867Z"
   },
   {
    "duration": 13,
    "start_time": "2024-10-19T18:16:40.905Z"
   },
   {
    "duration": 11,
    "start_time": "2024-10-19T18:16:40.920Z"
   },
   {
    "duration": 11,
    "start_time": "2024-10-19T18:16:40.933Z"
   },
   {
    "duration": 17,
    "start_time": "2024-10-19T18:16:40.946Z"
   },
   {
    "duration": 46,
    "start_time": "2024-10-19T18:16:40.965Z"
   },
   {
    "duration": 5,
    "start_time": "2024-10-19T18:16:41.013Z"
   },
   {
    "duration": 4,
    "start_time": "2024-10-19T18:16:41.020Z"
   },
   {
    "duration": 2,
    "start_time": "2024-10-19T18:16:41.026Z"
   },
   {
    "duration": 3,
    "start_time": "2024-10-19T18:16:41.030Z"
   },
   {
    "duration": 3,
    "start_time": "2024-10-19T18:16:41.035Z"
   },
   {
    "duration": 3,
    "start_time": "2024-10-19T18:16:41.040Z"
   },
   {
    "duration": 3,
    "start_time": "2024-10-19T18:16:41.044Z"
   },
   {
    "duration": 3,
    "start_time": "2024-10-19T18:16:41.048Z"
   },
   {
    "duration": 2,
    "start_time": "2024-10-19T18:16:41.053Z"
   },
   {
    "duration": 2,
    "start_time": "2024-10-19T18:16:41.057Z"
   },
   {
    "duration": 44,
    "start_time": "2024-10-19T18:16:41.061Z"
   },
   {
    "duration": 6,
    "start_time": "2024-10-20T00:43:39.632Z"
   },
   {
    "duration": 339,
    "start_time": "2024-10-20T00:56:42.660Z"
   },
   {
    "duration": 247,
    "start_time": "2024-10-20T00:56:43.001Z"
   },
   {
    "duration": 15,
    "start_time": "2024-10-20T00:56:43.249Z"
   },
   {
    "duration": 6,
    "start_time": "2024-10-20T00:56:43.267Z"
   },
   {
    "duration": 5,
    "start_time": "2024-10-20T00:56:43.275Z"
   },
   {
    "duration": 14,
    "start_time": "2024-10-20T00:56:43.281Z"
   },
   {
    "duration": 5,
    "start_time": "2024-10-20T00:56:43.296Z"
   },
   {
    "duration": 29,
    "start_time": "2024-10-20T00:56:43.302Z"
   },
   {
    "duration": 11,
    "start_time": "2024-10-20T00:56:43.333Z"
   },
   {
    "duration": 54,
    "start_time": "2024-10-20T00:56:43.346Z"
   },
   {
    "duration": 42,
    "start_time": "2024-10-20T00:56:43.402Z"
   },
   {
    "duration": 12,
    "start_time": "2024-10-20T00:56:43.446Z"
   },
   {
    "duration": 32,
    "start_time": "2024-10-20T00:56:43.459Z"
   },
   {
    "duration": 49,
    "start_time": "2024-10-20T00:56:43.493Z"
   },
   {
    "duration": 7,
    "start_time": "2024-10-20T00:56:43.543Z"
   },
   {
    "duration": 51,
    "start_time": "2024-10-20T00:56:43.552Z"
   },
   {
    "duration": 51,
    "start_time": "2024-10-20T00:56:43.605Z"
   },
   {
    "duration": 31,
    "start_time": "2024-10-20T00:56:43.658Z"
   },
   {
    "duration": 6,
    "start_time": "2024-10-20T00:56:43.691Z"
   },
   {
    "duration": 35,
    "start_time": "2024-10-20T00:56:43.698Z"
   },
   {
    "duration": 15,
    "start_time": "2024-10-20T00:56:43.734Z"
   },
   {
    "duration": 12,
    "start_time": "2024-10-20T00:56:43.751Z"
   },
   {
    "duration": 13,
    "start_time": "2024-10-20T00:56:43.764Z"
   },
   {
    "duration": 17,
    "start_time": "2024-10-20T00:56:43.778Z"
   },
   {
    "duration": 43,
    "start_time": "2024-10-20T00:56:43.797Z"
   },
   {
    "duration": 4,
    "start_time": "2024-10-20T00:56:43.842Z"
   },
   {
    "duration": 5,
    "start_time": "2024-10-20T00:56:43.848Z"
   },
   {
    "duration": 3,
    "start_time": "2024-10-20T00:56:43.856Z"
   },
   {
    "duration": 4,
    "start_time": "2024-10-20T00:56:43.860Z"
   },
   {
    "duration": 0,
    "start_time": "2024-10-20T00:56:43.866Z"
   },
   {
    "duration": 1,
    "start_time": "2024-10-20T00:56:43.867Z"
   },
   {
    "duration": 0,
    "start_time": "2024-10-20T00:56:43.869Z"
   },
   {
    "duration": 0,
    "start_time": "2024-10-20T00:56:43.870Z"
   },
   {
    "duration": 0,
    "start_time": "2024-10-20T00:56:43.871Z"
   },
   {
    "duration": 0,
    "start_time": "2024-10-20T00:56:43.872Z"
   },
   {
    "duration": 0,
    "start_time": "2024-10-20T00:56:43.874Z"
   },
   {
    "duration": 0,
    "start_time": "2024-10-20T00:56:43.875Z"
   },
   {
    "duration": 0,
    "start_time": "2024-10-20T00:56:43.876Z"
   },
   {
    "duration": 0,
    "start_time": "2024-10-20T00:56:43.877Z"
   },
   {
    "duration": 0,
    "start_time": "2024-10-20T00:56:43.878Z"
   },
   {
    "duration": 4,
    "start_time": "2024-10-20T00:57:13.599Z"
   },
   {
    "duration": 6,
    "start_time": "2024-10-20T00:57:19.485Z"
   },
   {
    "duration": 4,
    "start_time": "2024-10-20T00:57:28.939Z"
   },
   {
    "duration": 3,
    "start_time": "2024-10-20T00:57:47.099Z"
   },
   {
    "duration": 4,
    "start_time": "2024-10-20T00:57:53.124Z"
   },
   {
    "duration": 3,
    "start_time": "2024-10-20T00:58:05.206Z"
   },
   {
    "duration": 429,
    "start_time": "2024-10-20T00:58:10.150Z"
   },
   {
    "duration": 3,
    "start_time": "2024-10-20T01:00:38.427Z"
   },
   {
    "duration": 3,
    "start_time": "2024-10-20T01:00:40.240Z"
   },
   {
    "duration": 3,
    "start_time": "2024-10-20T01:00:43.010Z"
   },
   {
    "duration": 39,
    "start_time": "2024-10-20T01:00:45.444Z"
   },
   {
    "duration": 3,
    "start_time": "2024-10-20T01:06:12.711Z"
   },
   {
    "duration": 3,
    "start_time": "2024-10-20T01:06:28.967Z"
   },
   {
    "duration": 3,
    "start_time": "2024-10-20T01:06:34.984Z"
   },
   {
    "duration": 3,
    "start_time": "2024-10-20T01:06:50.304Z"
   },
   {
    "duration": 37,
    "start_time": "2024-10-20T01:06:57.265Z"
   },
   {
    "duration": 3,
    "start_time": "2024-10-20T01:09:17.126Z"
   },
   {
    "duration": 2,
    "start_time": "2024-10-20T01:09:19.806Z"
   },
   {
    "duration": 3,
    "start_time": "2024-10-20T01:09:21.879Z"
   },
   {
    "duration": 45,
    "start_time": "2024-10-20T01:09:25.823Z"
   },
   {
    "duration": 2,
    "start_time": "2024-10-20T01:11:30.309Z"
   },
   {
    "duration": 3,
    "start_time": "2024-10-20T01:11:32.295Z"
   },
   {
    "duration": 3,
    "start_time": "2024-10-20T01:11:34.206Z"
   },
   {
    "duration": 46,
    "start_time": "2024-10-20T01:11:36.596Z"
   },
   {
    "duration": 3,
    "start_time": "2024-10-20T01:11:58.049Z"
   },
   {
    "duration": 3,
    "start_time": "2024-10-20T01:11:59.686Z"
   },
   {
    "duration": 3,
    "start_time": "2024-10-20T01:12:00.521Z"
   },
   {
    "duration": 63,
    "start_time": "2024-10-20T01:12:01.324Z"
   },
   {
    "duration": 3,
    "start_time": "2024-10-20T01:13:13.579Z"
   },
   {
    "duration": 3,
    "start_time": "2024-10-20T01:13:15.331Z"
   },
   {
    "duration": 3,
    "start_time": "2024-10-20T01:13:16.289Z"
   },
   {
    "duration": 60,
    "start_time": "2024-10-20T01:13:16.971Z"
   },
   {
    "duration": 3,
    "start_time": "2024-10-20T01:13:30.681Z"
   },
   {
    "duration": 3,
    "start_time": "2024-10-20T01:13:31.893Z"
   },
   {
    "duration": 3,
    "start_time": "2024-10-20T01:13:32.407Z"
   },
   {
    "duration": 402,
    "start_time": "2024-10-20T01:13:32.930Z"
   },
   {
    "duration": 5,
    "start_time": "2024-10-20T01:14:16.020Z"
   },
   {
    "duration": 70,
    "start_time": "2024-10-20T01:14:16.596Z"
   },
   {
    "duration": 87,
    "start_time": "2024-10-20T01:14:20.227Z"
   },
   {
    "duration": 80,
    "start_time": "2024-10-20T01:14:36.034Z"
   },
   {
    "duration": 15,
    "start_time": "2024-10-20T01:19:36.480Z"
   },
   {
    "duration": 13,
    "start_time": "2024-10-20T01:21:21.375Z"
   },
   {
    "duration": 5,
    "start_time": "2024-10-20T01:43:14.140Z"
   },
   {
    "duration": 3,
    "start_time": "2024-10-20T01:43:23.317Z"
   },
   {
    "duration": 64,
    "start_time": "2024-10-20T01:43:27.474Z"
   },
   {
    "duration": 3,
    "start_time": "2024-10-20T01:44:30.476Z"
   },
   {
    "duration": 62,
    "start_time": "2024-10-20T01:44:37.107Z"
   },
   {
    "duration": 64,
    "start_time": "2024-10-20T01:44:44.459Z"
   },
   {
    "duration": 3,
    "start_time": "2024-10-20T01:45:44.060Z"
   },
   {
    "duration": 53,
    "start_time": "2024-10-20T01:45:46.356Z"
   },
   {
    "duration": 2187,
    "start_time": "2024-10-20T21:04:10.708Z"
   },
   {
    "duration": 234,
    "start_time": "2024-10-20T21:04:12.897Z"
   },
   {
    "duration": 19,
    "start_time": "2024-10-20T21:04:13.133Z"
   },
   {
    "duration": 7,
    "start_time": "2024-10-20T21:04:13.155Z"
   },
   {
    "duration": 5,
    "start_time": "2024-10-20T21:04:13.163Z"
   },
   {
    "duration": 17,
    "start_time": "2024-10-20T21:04:13.170Z"
   },
   {
    "duration": 7,
    "start_time": "2024-10-20T21:04:13.189Z"
   },
   {
    "duration": 44,
    "start_time": "2024-10-20T21:04:13.198Z"
   },
   {
    "duration": 11,
    "start_time": "2024-10-20T21:04:13.244Z"
   },
   {
    "duration": 54,
    "start_time": "2024-10-20T21:04:13.258Z"
   },
   {
    "duration": 27,
    "start_time": "2024-10-20T21:04:13.331Z"
   },
   {
    "duration": 12,
    "start_time": "2024-10-20T21:04:13.360Z"
   },
   {
    "duration": 31,
    "start_time": "2024-10-20T21:04:13.374Z"
   },
   {
    "duration": 25,
    "start_time": "2024-10-20T21:04:13.432Z"
   },
   {
    "duration": 7,
    "start_time": "2024-10-20T21:04:13.458Z"
   },
   {
    "duration": 68,
    "start_time": "2024-10-20T21:04:13.468Z"
   },
   {
    "duration": 31,
    "start_time": "2024-10-20T21:04:13.538Z"
   },
   {
    "duration": 27,
    "start_time": "2024-10-20T21:04:13.571Z"
   },
   {
    "duration": 4,
    "start_time": "2024-10-20T21:04:13.600Z"
   },
   {
    "duration": 38,
    "start_time": "2024-10-20T21:04:13.606Z"
   },
   {
    "duration": 15,
    "start_time": "2024-10-20T21:04:13.646Z"
   },
   {
    "duration": 15,
    "start_time": "2024-10-20T21:04:13.662Z"
   },
   {
    "duration": 16,
    "start_time": "2024-10-20T21:04:13.679Z"
   },
   {
    "duration": 46,
    "start_time": "2024-10-20T21:04:13.699Z"
   },
   {
    "duration": 13,
    "start_time": "2024-10-20T21:04:13.746Z"
   },
   {
    "duration": 5,
    "start_time": "2024-10-20T21:04:13.761Z"
   },
   {
    "duration": 5,
    "start_time": "2024-10-20T21:04:13.768Z"
   },
   {
    "duration": 3,
    "start_time": "2024-10-20T21:04:13.777Z"
   },
   {
    "duration": 3,
    "start_time": "2024-10-20T21:04:13.782Z"
   },
   {
    "duration": 4,
    "start_time": "2024-10-20T21:04:13.787Z"
   },
   {
    "duration": 117,
    "start_time": "2024-10-20T21:04:13.793Z"
   },
   {
    "duration": 3,
    "start_time": "2024-10-20T21:04:13.911Z"
   },
   {
    "duration": 66,
    "start_time": "2024-10-20T21:04:13.916Z"
   },
   {
    "duration": 15,
    "start_time": "2024-10-20T21:04:13.984Z"
   },
   {
    "duration": 6,
    "start_time": "2024-10-20T21:04:14.001Z"
   },
   {
    "duration": 0,
    "start_time": "2024-10-20T21:04:14.008Z"
   },
   {
    "duration": 0,
    "start_time": "2024-10-20T21:04:14.009Z"
   },
   {
    "duration": 0,
    "start_time": "2024-10-20T21:04:14.010Z"
   },
   {
    "duration": 0,
    "start_time": "2024-10-20T21:04:14.031Z"
   },
   {
    "duration": 0,
    "start_time": "2024-10-20T21:04:14.032Z"
   },
   {
    "duration": 0,
    "start_time": "2024-10-20T21:04:14.033Z"
   },
   {
    "duration": 0,
    "start_time": "2024-10-20T21:04:14.034Z"
   },
   {
    "duration": 447,
    "start_time": "2024-10-20T21:06:03.025Z"
   },
   {
    "duration": 165,
    "start_time": "2024-10-20T21:06:03.474Z"
   },
   {
    "duration": 14,
    "start_time": "2024-10-20T21:06:03.640Z"
   },
   {
    "duration": 7,
    "start_time": "2024-10-20T21:06:03.657Z"
   },
   {
    "duration": 5,
    "start_time": "2024-10-20T21:06:03.666Z"
   },
   {
    "duration": 14,
    "start_time": "2024-10-20T21:06:03.673Z"
   },
   {
    "duration": 5,
    "start_time": "2024-10-20T21:06:03.688Z"
   },
   {
    "duration": 39,
    "start_time": "2024-10-20T21:06:03.695Z"
   },
   {
    "duration": 12,
    "start_time": "2024-10-20T21:06:03.736Z"
   },
   {
    "duration": 52,
    "start_time": "2024-10-20T21:06:03.751Z"
   },
   {
    "duration": 46,
    "start_time": "2024-10-20T21:06:03.804Z"
   },
   {
    "duration": 12,
    "start_time": "2024-10-20T21:06:03.852Z"
   },
   {
    "duration": 33,
    "start_time": "2024-10-20T21:06:03.865Z"
   },
   {
    "duration": 50,
    "start_time": "2024-10-20T21:06:03.899Z"
   },
   {
    "duration": 7,
    "start_time": "2024-10-20T21:06:03.951Z"
   },
   {
    "duration": 76,
    "start_time": "2024-10-20T21:06:03.960Z"
   },
   {
    "duration": 33,
    "start_time": "2024-10-20T21:06:04.038Z"
   },
   {
    "duration": 27,
    "start_time": "2024-10-20T21:06:04.073Z"
   },
   {
    "duration": 4,
    "start_time": "2024-10-20T21:06:04.102Z"
   },
   {
    "duration": 15,
    "start_time": "2024-10-20T21:06:04.131Z"
   },
   {
    "duration": 17,
    "start_time": "2024-10-20T21:06:04.147Z"
   },
   {
    "duration": 14,
    "start_time": "2024-10-20T21:06:04.165Z"
   },
   {
    "duration": 15,
    "start_time": "2024-10-20T21:06:04.180Z"
   },
   {
    "duration": 48,
    "start_time": "2024-10-20T21:06:04.197Z"
   },
   {
    "duration": 14,
    "start_time": "2024-10-20T21:06:04.247Z"
   },
   {
    "duration": 6,
    "start_time": "2024-10-20T21:06:04.262Z"
   },
   {
    "duration": 4,
    "start_time": "2024-10-20T21:06:04.270Z"
   },
   {
    "duration": 3,
    "start_time": "2024-10-20T21:06:04.279Z"
   },
   {
    "duration": 2,
    "start_time": "2024-10-20T21:06:04.284Z"
   },
   {
    "duration": 3,
    "start_time": "2024-10-20T21:06:04.288Z"
   },
   {
    "duration": 81,
    "start_time": "2024-10-20T21:06:04.330Z"
   },
   {
    "duration": 3,
    "start_time": "2024-10-20T21:06:04.413Z"
   },
   {
    "duration": 53,
    "start_time": "2024-10-20T21:06:04.431Z"
   },
   {
    "duration": 17,
    "start_time": "2024-10-20T21:06:04.486Z"
   },
   {
    "duration": 4,
    "start_time": "2024-10-20T21:06:04.505Z"
   },
   {
    "duration": 0,
    "start_time": "2024-10-20T21:06:04.511Z"
   },
   {
    "duration": 0,
    "start_time": "2024-10-20T21:06:04.532Z"
   },
   {
    "duration": 0,
    "start_time": "2024-10-20T21:06:04.533Z"
   },
   {
    "duration": 0,
    "start_time": "2024-10-20T21:06:04.534Z"
   },
   {
    "duration": 0,
    "start_time": "2024-10-20T21:06:04.536Z"
   },
   {
    "duration": 0,
    "start_time": "2024-10-20T21:06:04.536Z"
   },
   {
    "duration": 0,
    "start_time": "2024-10-20T21:06:04.538Z"
   },
   {
    "duration": 4,
    "start_time": "2024-10-20T21:06:17.392Z"
   },
   {
    "duration": 838,
    "start_time": "2024-10-20T21:07:59.164Z"
   },
   {
    "duration": 21866,
    "start_time": "2024-10-20T21:08:48.796Z"
   },
   {
    "duration": 357,
    "start_time": "2024-10-20T21:10:39.574Z"
   },
   {
    "duration": 5,
    "start_time": "2024-10-20T21:12:12.057Z"
   },
   {
    "duration": 659,
    "start_time": "2024-10-20T21:12:41.442Z"
   },
   {
    "duration": 165,
    "start_time": "2024-10-20T21:13:58.428Z"
   },
   {
    "duration": 401,
    "start_time": "2024-10-20T21:15:34.591Z"
   },
   {
    "duration": 285,
    "start_time": "2024-10-20T21:16:04.041Z"
   },
   {
    "duration": 184,
    "start_time": "2024-10-20T21:16:23.658Z"
   },
   {
    "duration": 17,
    "start_time": "2024-10-20T21:23:46.163Z"
   },
   {
    "duration": 163,
    "start_time": "2024-10-20T22:39:23.718Z"
   },
   {
    "duration": 2578,
    "start_time": "2024-10-20T22:39:27.198Z"
   },
   {
    "duration": 215,
    "start_time": "2024-10-20T22:39:29.779Z"
   },
   {
    "duration": 14,
    "start_time": "2024-10-20T22:39:29.996Z"
   },
   {
    "duration": 6,
    "start_time": "2024-10-20T22:39:30.012Z"
   },
   {
    "duration": 4,
    "start_time": "2024-10-20T22:39:30.020Z"
   },
   {
    "duration": 12,
    "start_time": "2024-10-20T22:39:30.026Z"
   },
   {
    "duration": 4,
    "start_time": "2024-10-20T22:39:30.040Z"
   },
   {
    "duration": 10,
    "start_time": "2024-10-20T22:39:30.046Z"
   },
   {
    "duration": 40,
    "start_time": "2024-10-20T22:39:30.057Z"
   },
   {
    "duration": 52,
    "start_time": "2024-10-20T22:39:30.100Z"
   },
   {
    "duration": 46,
    "start_time": "2024-10-20T22:39:30.153Z"
   },
   {
    "duration": 12,
    "start_time": "2024-10-20T22:39:30.201Z"
   },
   {
    "duration": 30,
    "start_time": "2024-10-20T22:39:30.215Z"
   },
   {
    "duration": 49,
    "start_time": "2024-10-20T22:39:30.247Z"
   },
   {
    "duration": 7,
    "start_time": "2024-10-20T22:39:30.298Z"
   },
   {
    "duration": 54,
    "start_time": "2024-10-20T22:39:30.306Z"
   },
   {
    "duration": 48,
    "start_time": "2024-10-20T22:39:30.362Z"
   },
   {
    "duration": 26,
    "start_time": "2024-10-20T22:39:30.412Z"
   },
   {
    "duration": 5,
    "start_time": "2024-10-20T22:39:30.439Z"
   },
   {
    "duration": 13,
    "start_time": "2024-10-20T22:39:30.447Z"
   },
   {
    "duration": 15,
    "start_time": "2024-10-20T22:39:30.486Z"
   },
   {
    "duration": 12,
    "start_time": "2024-10-20T22:39:30.502Z"
   },
   {
    "duration": 12,
    "start_time": "2024-10-20T22:39:30.515Z"
   },
   {
    "duration": 17,
    "start_time": "2024-10-20T22:39:30.529Z"
   },
   {
    "duration": 45,
    "start_time": "2024-10-20T22:39:30.548Z"
   },
   {
    "duration": 6,
    "start_time": "2024-10-20T22:39:30.595Z"
   },
   {
    "duration": 4,
    "start_time": "2024-10-20T22:39:30.604Z"
   },
   {
    "duration": 3,
    "start_time": "2024-10-20T22:39:30.612Z"
   },
   {
    "duration": 3,
    "start_time": "2024-10-20T22:39:30.616Z"
   },
   {
    "duration": 3,
    "start_time": "2024-10-20T22:39:30.621Z"
   },
   {
    "duration": 107,
    "start_time": "2024-10-20T22:39:30.626Z"
   },
   {
    "duration": 3,
    "start_time": "2024-10-20T22:39:30.735Z"
   },
   {
    "duration": 59,
    "start_time": "2024-10-20T22:39:30.740Z"
   },
   {
    "duration": 15,
    "start_time": "2024-10-20T22:39:30.801Z"
   },
   {
    "duration": 214,
    "start_time": "2024-10-20T22:39:30.817Z"
   },
   {
    "duration": 15,
    "start_time": "2024-10-20T22:39:31.033Z"
   },
   {
    "duration": 158,
    "start_time": "2024-10-20T22:39:31.050Z"
   },
   {
    "duration": 3,
    "start_time": "2024-10-20T22:39:31.209Z"
   },
   {
    "duration": 3,
    "start_time": "2024-10-20T22:39:31.213Z"
   },
   {
    "duration": 3,
    "start_time": "2024-10-20T22:39:31.218Z"
   },
   {
    "duration": 3,
    "start_time": "2024-10-20T22:39:31.223Z"
   },
   {
    "duration": 2,
    "start_time": "2024-10-20T22:39:31.228Z"
   },
   {
    "duration": 2,
    "start_time": "2024-10-20T22:39:31.232Z"
   },
   {
    "duration": 5,
    "start_time": "2024-10-20T22:40:19.001Z"
   },
   {
    "duration": 160,
    "start_time": "2024-10-20T22:40:29.859Z"
   },
   {
    "duration": 13,
    "start_time": "2024-10-20T22:51:34.575Z"
   },
   {
    "duration": 404,
    "start_time": "2024-10-20T22:58:56.461Z"
   },
   {
    "duration": 13,
    "start_time": "2024-10-20T23:23:49.764Z"
   },
   {
    "duration": 562,
    "start_time": "2024-10-20T23:28:01.880Z"
   },
   {
    "duration": 557,
    "start_time": "2024-10-20T23:28:23.547Z"
   },
   {
    "duration": 2524,
    "start_time": "2024-10-21T01:41:24.204Z"
   },
   {
    "duration": 225,
    "start_time": "2024-10-21T01:41:26.730Z"
   },
   {
    "duration": 15,
    "start_time": "2024-10-21T01:41:26.956Z"
   },
   {
    "duration": 7,
    "start_time": "2024-10-21T01:41:26.973Z"
   },
   {
    "duration": 5,
    "start_time": "2024-10-21T01:41:26.982Z"
   },
   {
    "duration": 13,
    "start_time": "2024-10-21T01:41:26.988Z"
   },
   {
    "duration": 6,
    "start_time": "2024-10-21T01:41:27.005Z"
   },
   {
    "duration": 11,
    "start_time": "2024-10-21T01:41:27.012Z"
   },
   {
    "duration": 11,
    "start_time": "2024-10-21T01:41:27.025Z"
   },
   {
    "duration": 79,
    "start_time": "2024-10-21T01:41:27.038Z"
   },
   {
    "duration": 30,
    "start_time": "2024-10-21T01:41:27.120Z"
   },
   {
    "duration": 12,
    "start_time": "2024-10-21T01:41:27.151Z"
   },
   {
    "duration": 52,
    "start_time": "2024-10-21T01:41:27.165Z"
   },
   {
    "duration": 23,
    "start_time": "2024-10-21T01:41:27.222Z"
   },
   {
    "duration": 8,
    "start_time": "2024-10-21T01:41:27.246Z"
   },
   {
    "duration": 74,
    "start_time": "2024-10-21T01:41:27.255Z"
   },
   {
    "duration": 31,
    "start_time": "2024-10-21T01:41:27.331Z"
   },
   {
    "duration": 43,
    "start_time": "2024-10-21T01:41:27.363Z"
   },
   {
    "duration": 4,
    "start_time": "2024-10-21T01:41:27.407Z"
   },
   {
    "duration": 14,
    "start_time": "2024-10-21T01:41:27.413Z"
   },
   {
    "duration": 15,
    "start_time": "2024-10-21T01:41:27.429Z"
   },
   {
    "duration": 12,
    "start_time": "2024-10-21T01:41:27.446Z"
   },
   {
    "duration": 14,
    "start_time": "2024-10-21T01:41:27.459Z"
   },
   {
    "duration": 17,
    "start_time": "2024-10-21T01:41:27.506Z"
   },
   {
    "duration": 12,
    "start_time": "2024-10-21T01:41:27.525Z"
   },
   {
    "duration": 5,
    "start_time": "2024-10-21T01:41:27.539Z"
   },
   {
    "duration": 4,
    "start_time": "2024-10-21T01:41:27.546Z"
   },
   {
    "duration": 3,
    "start_time": "2024-10-21T01:41:27.552Z"
   },
   {
    "duration": 3,
    "start_time": "2024-10-21T01:41:27.557Z"
   },
   {
    "duration": 3,
    "start_time": "2024-10-21T01:41:27.562Z"
   },
   {
    "duration": 78,
    "start_time": "2024-10-21T01:41:27.606Z"
   },
   {
    "duration": 3,
    "start_time": "2024-10-21T01:41:27.685Z"
   },
   {
    "duration": 59,
    "start_time": "2024-10-21T01:41:27.689Z"
   },
   {
    "duration": 15,
    "start_time": "2024-10-21T01:41:27.750Z"
   },
   {
    "duration": 210,
    "start_time": "2024-10-21T01:41:27.767Z"
   },
   {
    "duration": 26,
    "start_time": "2024-10-21T01:41:27.979Z"
   },
   {
    "duration": 193,
    "start_time": "2024-10-21T01:41:28.007Z"
   },
   {
    "duration": 14,
    "start_time": "2024-10-21T01:41:28.202Z"
   },
   {
    "duration": 359,
    "start_time": "2024-10-21T01:41:28.220Z"
   },
   {
    "duration": 25,
    "start_time": "2024-10-21T01:41:28.581Z"
   },
   {
    "duration": 569,
    "start_time": "2024-10-21T01:41:28.611Z"
   },
   {
    "duration": 23,
    "start_time": "2024-10-21T01:41:29.182Z"
   },
   {
    "duration": 368,
    "start_time": "2024-10-21T01:41:29.207Z"
   },
   {
    "duration": 11,
    "start_time": "2024-10-21T01:41:29.577Z"
   },
   {
    "duration": 568,
    "start_time": "2024-10-21T01:41:29.590Z"
   },
   {
    "duration": 3,
    "start_time": "2024-10-21T01:41:30.160Z"
   },
   {
    "duration": 2,
    "start_time": "2024-10-21T01:41:30.165Z"
   },
   {
    "duration": 187,
    "start_time": "2024-10-21T01:42:43.476Z"
   },
   {
    "duration": 505,
    "start_time": "2024-10-21T01:47:52.666Z"
   },
   {
    "duration": 499,
    "start_time": "2024-10-21T01:48:50.692Z"
   },
   {
    "duration": 573,
    "start_time": "2024-10-21T01:49:44.764Z"
   },
   {
    "duration": 13,
    "start_time": "2024-10-21T01:54:15.659Z"
   },
   {
    "duration": 528,
    "start_time": "2024-10-21T01:57:31.587Z"
   },
   {
    "duration": 2510,
    "start_time": "2024-10-22T16:31:30.244Z"
   },
   {
    "duration": 225,
    "start_time": "2024-10-22T16:31:32.756Z"
   },
   {
    "duration": 15,
    "start_time": "2024-10-22T16:31:32.983Z"
   },
   {
    "duration": 6,
    "start_time": "2024-10-22T16:31:33.001Z"
   },
   {
    "duration": 5,
    "start_time": "2024-10-22T16:31:33.009Z"
   },
   {
    "duration": 16,
    "start_time": "2024-10-22T16:31:33.015Z"
   },
   {
    "duration": 6,
    "start_time": "2024-10-22T16:31:33.032Z"
   },
   {
    "duration": 11,
    "start_time": "2024-10-22T16:31:33.040Z"
   },
   {
    "duration": 13,
    "start_time": "2024-10-22T16:31:33.054Z"
   },
   {
    "duration": 78,
    "start_time": "2024-10-22T16:31:33.072Z"
   },
   {
    "duration": 25,
    "start_time": "2024-10-22T16:31:33.152Z"
   },
   {
    "duration": 12,
    "start_time": "2024-10-22T16:31:33.179Z"
   },
   {
    "duration": 51,
    "start_time": "2024-10-22T16:31:33.193Z"
   },
   {
    "duration": 23,
    "start_time": "2024-10-22T16:31:33.245Z"
   },
   {
    "duration": 7,
    "start_time": "2024-10-22T16:31:33.269Z"
   },
   {
    "duration": 80,
    "start_time": "2024-10-22T16:31:33.278Z"
   },
   {
    "duration": 32,
    "start_time": "2024-10-22T16:31:33.360Z"
   },
   {
    "duration": 35,
    "start_time": "2024-10-22T16:31:33.393Z"
   },
   {
    "duration": 5,
    "start_time": "2024-10-22T16:31:33.429Z"
   },
   {
    "duration": 13,
    "start_time": "2024-10-22T16:31:33.436Z"
   },
   {
    "duration": 15,
    "start_time": "2024-10-22T16:31:33.451Z"
   },
   {
    "duration": 12,
    "start_time": "2024-10-22T16:31:33.467Z"
   },
   {
    "duration": 44,
    "start_time": "2024-10-22T16:31:33.481Z"
   },
   {
    "duration": 16,
    "start_time": "2024-10-22T16:31:33.527Z"
   },
   {
    "duration": 12,
    "start_time": "2024-10-22T16:31:33.545Z"
   },
   {
    "duration": 5,
    "start_time": "2024-10-22T16:31:33.558Z"
   },
   {
    "duration": 5,
    "start_time": "2024-10-22T16:31:33.565Z"
   },
   {
    "duration": 2,
    "start_time": "2024-10-22T16:31:33.574Z"
   },
   {
    "duration": 3,
    "start_time": "2024-10-22T16:31:33.578Z"
   },
   {
    "duration": 2,
    "start_time": "2024-10-22T16:31:33.583Z"
   },
   {
    "duration": 80,
    "start_time": "2024-10-22T16:31:33.625Z"
   },
   {
    "duration": 3,
    "start_time": "2024-10-22T16:31:33.724Z"
   },
   {
    "duration": 52,
    "start_time": "2024-10-22T16:31:33.728Z"
   },
   {
    "duration": 15,
    "start_time": "2024-10-22T16:31:33.781Z"
   },
   {
    "duration": 214,
    "start_time": "2024-10-22T16:31:33.798Z"
   },
   {
    "duration": 24,
    "start_time": "2024-10-22T16:31:34.014Z"
   },
   {
    "duration": 203,
    "start_time": "2024-10-22T16:31:34.040Z"
   },
   {
    "duration": 20,
    "start_time": "2024-10-22T16:31:34.245Z"
   },
   {
    "duration": 575,
    "start_time": "2024-10-22T16:31:34.266Z"
   },
   {
    "duration": 12,
    "start_time": "2024-10-22T16:31:34.843Z"
   },
   {
    "duration": 612,
    "start_time": "2024-10-22T16:31:34.857Z"
   },
   {
    "duration": 14,
    "start_time": "2024-10-22T16:31:35.471Z"
   },
   {
    "duration": 537,
    "start_time": "2024-10-22T16:31:35.487Z"
   },
   {
    "duration": 12,
    "start_time": "2024-10-22T16:31:36.026Z"
   },
   {
    "duration": 576,
    "start_time": "2024-10-22T16:31:36.040Z"
   },
   {
    "duration": 18,
    "start_time": "2024-10-22T16:31:36.617Z"
   },
   {
    "duration": 524,
    "start_time": "2024-10-22T16:31:36.636Z"
   },
   {
    "duration": 3,
    "start_time": "2024-10-22T16:31:37.161Z"
   },
   {
    "duration": 3,
    "start_time": "2024-10-22T16:31:37.165Z"
   },
   {
    "duration": 2604,
    "start_time": "2024-10-22T23:15:11.067Z"
   },
   {
    "duration": 227,
    "start_time": "2024-10-22T23:15:13.673Z"
   },
   {
    "duration": 15,
    "start_time": "2024-10-22T23:15:13.902Z"
   },
   {
    "duration": 8,
    "start_time": "2024-10-22T23:15:13.919Z"
   },
   {
    "duration": 6,
    "start_time": "2024-10-22T23:15:13.928Z"
   },
   {
    "duration": 13,
    "start_time": "2024-10-22T23:15:13.936Z"
   },
   {
    "duration": 5,
    "start_time": "2024-10-22T23:15:13.950Z"
   },
   {
    "duration": 11,
    "start_time": "2024-10-22T23:15:13.956Z"
   },
   {
    "duration": 13,
    "start_time": "2024-10-22T23:15:13.968Z"
   },
   {
    "duration": 88,
    "start_time": "2024-10-22T23:15:13.984Z"
   },
   {
    "duration": 26,
    "start_time": "2024-10-22T23:15:14.073Z"
   },
   {
    "duration": 12,
    "start_time": "2024-10-22T23:15:14.101Z"
   },
   {
    "duration": 46,
    "start_time": "2024-10-22T23:15:14.114Z"
   },
   {
    "duration": 26,
    "start_time": "2024-10-22T23:15:14.162Z"
   },
   {
    "duration": 7,
    "start_time": "2024-10-22T23:15:14.191Z"
   },
   {
    "duration": 75,
    "start_time": "2024-10-22T23:15:14.199Z"
   },
   {
    "duration": 32,
    "start_time": "2024-10-22T23:15:14.276Z"
   },
   {
    "duration": 42,
    "start_time": "2024-10-22T23:15:14.309Z"
   },
   {
    "duration": 5,
    "start_time": "2024-10-22T23:15:14.353Z"
   },
   {
    "duration": 14,
    "start_time": "2024-10-22T23:15:14.360Z"
   },
   {
    "duration": 16,
    "start_time": "2024-10-22T23:15:14.376Z"
   },
   {
    "duration": 40,
    "start_time": "2024-10-22T23:15:14.394Z"
   },
   {
    "duration": 13,
    "start_time": "2024-10-22T23:15:14.436Z"
   },
   {
    "duration": 17,
    "start_time": "2024-10-22T23:15:14.450Z"
   },
   {
    "duration": 13,
    "start_time": "2024-10-22T23:15:14.468Z"
   },
   {
    "duration": 5,
    "start_time": "2024-10-22T23:15:14.483Z"
   },
   {
    "duration": 5,
    "start_time": "2024-10-22T23:15:14.489Z"
   },
   {
    "duration": 3,
    "start_time": "2024-10-22T23:15:14.531Z"
   },
   {
    "duration": 4,
    "start_time": "2024-10-22T23:15:14.535Z"
   },
   {
    "duration": 9,
    "start_time": "2024-10-22T23:15:14.542Z"
   },
   {
    "duration": 95,
    "start_time": "2024-10-22T23:15:14.553Z"
   },
   {
    "duration": 3,
    "start_time": "2024-10-22T23:15:14.650Z"
   },
   {
    "duration": 50,
    "start_time": "2024-10-22T23:15:14.655Z"
   },
   {
    "duration": 24,
    "start_time": "2024-10-22T23:15:14.707Z"
   },
   {
    "duration": 196,
    "start_time": "2024-10-22T23:15:14.732Z"
   },
   {
    "duration": 15,
    "start_time": "2024-10-22T23:15:14.931Z"
   },
   {
    "duration": 233,
    "start_time": "2024-10-22T23:15:14.948Z"
   },
   {
    "duration": 0,
    "start_time": "2024-10-22T23:15:15.183Z"
   },
   {
    "duration": 0,
    "start_time": "2024-10-22T23:15:15.185Z"
   },
   {
    "duration": 0,
    "start_time": "2024-10-22T23:15:15.186Z"
   },
   {
    "duration": 1,
    "start_time": "2024-10-22T23:15:15.187Z"
   },
   {
    "duration": 0,
    "start_time": "2024-10-22T23:15:15.189Z"
   },
   {
    "duration": 0,
    "start_time": "2024-10-22T23:15:15.190Z"
   },
   {
    "duration": 0,
    "start_time": "2024-10-22T23:15:15.192Z"
   },
   {
    "duration": 0,
    "start_time": "2024-10-22T23:15:15.194Z"
   },
   {
    "duration": 0,
    "start_time": "2024-10-22T23:15:15.195Z"
   },
   {
    "duration": 0,
    "start_time": "2024-10-22T23:15:15.197Z"
   },
   {
    "duration": 0,
    "start_time": "2024-10-22T23:15:15.198Z"
   },
   {
    "duration": 0,
    "start_time": "2024-10-22T23:15:15.199Z"
   },
   {
    "duration": 15,
    "start_time": "2024-10-22T23:15:43.578Z"
   },
   {
    "duration": 212,
    "start_time": "2024-10-22T23:17:52.137Z"
   },
   {
    "duration": 278,
    "start_time": "2024-10-22T23:19:00.798Z"
   },
   {
    "duration": 191,
    "start_time": "2024-10-22T23:19:11.247Z"
   },
   {
    "duration": 2614,
    "start_time": "2024-10-23T00:29:35.041Z"
   },
   {
    "duration": 235,
    "start_time": "2024-10-23T00:29:37.658Z"
   },
   {
    "duration": 17,
    "start_time": "2024-10-23T00:29:37.894Z"
   },
   {
    "duration": 7,
    "start_time": "2024-10-23T00:29:37.914Z"
   },
   {
    "duration": 6,
    "start_time": "2024-10-23T00:29:37.923Z"
   },
   {
    "duration": 14,
    "start_time": "2024-10-23T00:29:37.931Z"
   },
   {
    "duration": 5,
    "start_time": "2024-10-23T00:29:37.947Z"
   },
   {
    "duration": 10,
    "start_time": "2024-10-23T00:29:37.953Z"
   },
   {
    "duration": 10,
    "start_time": "2024-10-23T00:29:37.965Z"
   },
   {
    "duration": 74,
    "start_time": "2024-10-23T00:29:37.978Z"
   },
   {
    "duration": 25,
    "start_time": "2024-10-23T00:29:38.054Z"
   },
   {
    "duration": 12,
    "start_time": "2024-10-23T00:29:38.081Z"
   },
   {
    "duration": 52,
    "start_time": "2024-10-23T00:29:38.095Z"
   },
   {
    "duration": 26,
    "start_time": "2024-10-23T00:29:38.149Z"
   },
   {
    "duration": 7,
    "start_time": "2024-10-23T00:29:38.176Z"
   },
   {
    "duration": 77,
    "start_time": "2024-10-23T00:29:38.186Z"
   },
   {
    "duration": 32,
    "start_time": "2024-10-23T00:29:38.265Z"
   },
   {
    "duration": 39,
    "start_time": "2024-10-23T00:29:38.299Z"
   },
   {
    "duration": 5,
    "start_time": "2024-10-23T00:29:38.339Z"
   },
   {
    "duration": 14,
    "start_time": "2024-10-23T00:29:38.346Z"
   },
   {
    "duration": 14,
    "start_time": "2024-10-23T00:29:38.362Z"
   },
   {
    "duration": 13,
    "start_time": "2024-10-23T00:29:38.377Z"
   },
   {
    "duration": 12,
    "start_time": "2024-10-23T00:29:38.424Z"
   },
   {
    "duration": 17,
    "start_time": "2024-10-23T00:29:38.437Z"
   },
   {
    "duration": 13,
    "start_time": "2024-10-23T00:29:38.456Z"
   },
   {
    "duration": 6,
    "start_time": "2024-10-23T00:29:38.470Z"
   },
   {
    "duration": 3,
    "start_time": "2024-10-23T00:29:38.479Z"
   },
   {
    "duration": 3,
    "start_time": "2024-10-23T00:29:38.487Z"
   },
   {
    "duration": 3,
    "start_time": "2024-10-23T00:29:38.524Z"
   },
   {
    "duration": 3,
    "start_time": "2024-10-23T00:29:38.529Z"
   },
   {
    "duration": 93,
    "start_time": "2024-10-23T00:29:38.533Z"
   },
   {
    "duration": 3,
    "start_time": "2024-10-23T00:29:38.627Z"
   },
   {
    "duration": 52,
    "start_time": "2024-10-23T00:29:38.632Z"
   },
   {
    "duration": 6,
    "start_time": "2024-10-23T00:29:38.686Z"
   },
   {
    "duration": 222,
    "start_time": "2024-10-23T00:29:38.693Z"
   },
   {
    "duration": 22,
    "start_time": "2024-10-23T00:29:38.917Z"
   },
   {
    "duration": 217,
    "start_time": "2024-10-23T00:29:38.941Z"
   },
   {
    "duration": 18,
    "start_time": "2024-10-23T00:29:39.160Z"
   },
   {
    "duration": 12,
    "start_time": "2024-10-23T00:29:39.180Z"
   },
   {
    "duration": 546,
    "start_time": "2024-10-23T00:29:39.194Z"
   },
   {
    "duration": 13,
    "start_time": "2024-10-23T00:29:39.742Z"
   },
   {
    "duration": 645,
    "start_time": "2024-10-23T00:29:39.756Z"
   },
   {
    "duration": 22,
    "start_time": "2024-10-23T00:29:40.403Z"
   },
   {
    "duration": 502,
    "start_time": "2024-10-23T00:29:40.427Z"
   },
   {
    "duration": 11,
    "start_time": "2024-10-23T00:29:40.931Z"
   },
   {
    "duration": 608,
    "start_time": "2024-10-23T00:29:40.943Z"
   },
   {
    "duration": 14,
    "start_time": "2024-10-23T00:29:41.553Z"
   },
   {
    "duration": 554,
    "start_time": "2024-10-23T00:29:41.568Z"
   },
   {
    "duration": 3,
    "start_time": "2024-10-23T00:29:42.124Z"
   },
   {
    "duration": 3,
    "start_time": "2024-10-23T00:29:42.128Z"
   },
   {
    "duration": 12,
    "start_time": "2024-10-23T00:32:12.987Z"
   },
   {
    "duration": 6,
    "start_time": "2024-10-23T00:43:09.120Z"
   },
   {
    "duration": 5,
    "start_time": "2024-10-23T00:43:33.837Z"
   },
   {
    "duration": 4,
    "start_time": "2024-10-23T00:43:50.252Z"
   },
   {
    "duration": 12,
    "start_time": "2024-10-23T00:44:46.770Z"
   },
   {
    "duration": 11,
    "start_time": "2024-10-23T00:46:17.843Z"
   },
   {
    "duration": 2441,
    "start_time": "2024-10-23T02:45:14.292Z"
   },
   {
    "duration": 229,
    "start_time": "2024-10-23T02:45:16.735Z"
   },
   {
    "duration": 16,
    "start_time": "2024-10-23T02:45:16.965Z"
   },
   {
    "duration": 7,
    "start_time": "2024-10-23T02:45:16.983Z"
   },
   {
    "duration": 4,
    "start_time": "2024-10-23T02:45:16.993Z"
   },
   {
    "duration": 13,
    "start_time": "2024-10-23T02:45:16.999Z"
   },
   {
    "duration": 5,
    "start_time": "2024-10-23T02:45:17.014Z"
   },
   {
    "duration": 10,
    "start_time": "2024-10-23T02:45:17.021Z"
   },
   {
    "duration": 10,
    "start_time": "2024-10-23T02:45:17.033Z"
   },
   {
    "duration": 77,
    "start_time": "2024-10-23T02:45:17.045Z"
   },
   {
    "duration": 25,
    "start_time": "2024-10-23T02:45:17.124Z"
   },
   {
    "duration": 12,
    "start_time": "2024-10-23T02:45:17.152Z"
   },
   {
    "duration": 51,
    "start_time": "2024-10-23T02:45:17.165Z"
   },
   {
    "duration": 23,
    "start_time": "2024-10-23T02:45:17.220Z"
   },
   {
    "duration": 7,
    "start_time": "2024-10-23T02:45:17.245Z"
   },
   {
    "duration": 73,
    "start_time": "2024-10-23T02:45:17.253Z"
   },
   {
    "duration": 31,
    "start_time": "2024-10-23T02:45:17.328Z"
   },
   {
    "duration": 25,
    "start_time": "2024-10-23T02:45:17.361Z"
   },
   {
    "duration": 20,
    "start_time": "2024-10-23T02:45:17.388Z"
   },
   {
    "duration": 14,
    "start_time": "2024-10-23T02:45:17.410Z"
   },
   {
    "duration": 14,
    "start_time": "2024-10-23T02:45:17.426Z"
   },
   {
    "duration": 12,
    "start_time": "2024-10-23T02:45:17.442Z"
   },
   {
    "duration": 12,
    "start_time": "2024-10-23T02:45:17.455Z"
   },
   {
    "duration": 49,
    "start_time": "2024-10-23T02:45:17.469Z"
   },
   {
    "duration": 12,
    "start_time": "2024-10-23T02:45:17.520Z"
   },
   {
    "duration": 5,
    "start_time": "2024-10-23T02:45:17.534Z"
   },
   {
    "duration": 5,
    "start_time": "2024-10-23T02:45:17.540Z"
   },
   {
    "duration": 3,
    "start_time": "2024-10-23T02:45:17.546Z"
   },
   {
    "duration": 3,
    "start_time": "2024-10-23T02:45:17.551Z"
   },
   {
    "duration": 3,
    "start_time": "2024-10-23T02:45:17.555Z"
   },
   {
    "duration": 135,
    "start_time": "2024-10-23T02:45:17.561Z"
   },
   {
    "duration": 7,
    "start_time": "2024-10-23T02:45:17.698Z"
   },
   {
    "duration": 50,
    "start_time": "2024-10-23T02:45:17.706Z"
   },
   {
    "duration": 5,
    "start_time": "2024-10-23T02:45:17.758Z"
   },
   {
    "duration": 207,
    "start_time": "2024-10-23T02:45:17.765Z"
   },
   {
    "duration": 5,
    "start_time": "2024-10-23T02:45:17.974Z"
   },
   {
    "duration": 201,
    "start_time": "2024-10-23T02:45:17.982Z"
   },
   {
    "duration": 5,
    "start_time": "2024-10-23T02:45:18.185Z"
   },
   {
    "duration": 208,
    "start_time": "2024-10-23T02:45:18.193Z"
   },
   {
    "duration": 20,
    "start_time": "2024-10-23T02:45:18.406Z"
   },
   {
    "duration": 12,
    "start_time": "2024-10-23T02:45:18.431Z"
   },
   {
    "duration": 571,
    "start_time": "2024-10-23T02:45:18.444Z"
   },
   {
    "duration": 13,
    "start_time": "2024-10-23T02:45:19.017Z"
   },
   {
    "duration": 610,
    "start_time": "2024-10-23T02:45:19.031Z"
   },
   {
    "duration": 12,
    "start_time": "2024-10-23T02:45:19.643Z"
   },
   {
    "duration": 12,
    "start_time": "2024-10-23T02:45:19.657Z"
   },
   {
    "duration": 542,
    "start_time": "2024-10-23T02:45:19.670Z"
   },
   {
    "duration": 14,
    "start_time": "2024-10-23T02:45:20.214Z"
   },
   {
    "duration": 571,
    "start_time": "2024-10-23T02:45:20.229Z"
   },
   {
    "duration": 14,
    "start_time": "2024-10-23T02:45:20.805Z"
   },
   {
    "duration": 531,
    "start_time": "2024-10-23T02:45:20.821Z"
   },
   {
    "duration": 3,
    "start_time": "2024-10-23T02:45:21.354Z"
   },
   {
    "duration": 3,
    "start_time": "2024-10-23T02:45:21.358Z"
   },
   {
    "duration": 6,
    "start_time": "2024-10-23T02:46:23.956Z"
   },
   {
    "duration": 291,
    "start_time": "2024-10-23T02:52:33.601Z"
   },
   {
    "duration": 8,
    "start_time": "2024-10-23T02:53:00.939Z"
   },
   {
    "duration": 13,
    "start_time": "2024-10-23T02:55:23.432Z"
   },
   {
    "duration": 13,
    "start_time": "2024-10-23T02:56:09.839Z"
   },
   {
    "duration": 6,
    "start_time": "2024-10-23T02:56:58.096Z"
   },
   {
    "duration": 12,
    "start_time": "2024-10-23T02:57:08.545Z"
   },
   {
    "duration": 491,
    "start_time": "2024-10-23T02:59:06.816Z"
   },
   {
    "duration": 5,
    "start_time": "2024-10-23T02:59:52.717Z"
   },
   {
    "duration": 5,
    "start_time": "2024-10-23T03:00:55.147Z"
   },
   {
    "duration": 7,
    "start_time": "2024-10-23T03:01:17.574Z"
   },
   {
    "duration": 5,
    "start_time": "2024-10-23T03:01:51.247Z"
   },
   {
    "duration": 8,
    "start_time": "2024-10-23T03:02:57.039Z"
   },
   {
    "duration": 7,
    "start_time": "2024-10-23T03:03:33.074Z"
   },
   {
    "duration": 8,
    "start_time": "2024-10-23T03:03:44.991Z"
   },
   {
    "duration": 13,
    "start_time": "2024-10-23T03:08:01.635Z"
   },
   {
    "duration": 178,
    "start_time": "2024-10-23T03:24:42.007Z"
   },
   {
    "duration": 5,
    "start_time": "2024-10-23T03:24:45.139Z"
   },
   {
    "duration": 175,
    "start_time": "2024-10-23T03:24:50.982Z"
   },
   {
    "duration": 162,
    "start_time": "2024-10-23T03:25:11.198Z"
   },
   {
    "duration": 244,
    "start_time": "2024-10-23T03:29:14.036Z"
   },
   {
    "duration": 238,
    "start_time": "2024-10-23T03:31:02.369Z"
   },
   {
    "duration": 236,
    "start_time": "2024-10-23T03:31:41.807Z"
   },
   {
    "duration": 7,
    "start_time": "2024-10-23T03:32:41.289Z"
   },
   {
    "duration": 257,
    "start_time": "2024-10-23T03:32:44.650Z"
   },
   {
    "duration": 234,
    "start_time": "2024-10-23T03:33:01.875Z"
   },
   {
    "duration": 8,
    "start_time": "2024-10-23T03:37:12.760Z"
   },
   {
    "duration": 595,
    "start_time": "2024-10-23T03:52:31.302Z"
   },
   {
    "duration": 133,
    "start_time": "2024-10-23T03:52:49.799Z"
   },
   {
    "duration": 125,
    "start_time": "2024-10-23T03:53:14.632Z"
   },
   {
    "duration": 252,
    "start_time": "2024-10-23T03:55:02.487Z"
   },
   {
    "duration": 44,
    "start_time": "2024-10-23T03:55:19.616Z"
   },
   {
    "duration": 10,
    "start_time": "2024-10-23T03:56:16.580Z"
   },
   {
    "duration": 9,
    "start_time": "2024-10-23T03:56:43.456Z"
   },
   {
    "duration": 4,
    "start_time": "2024-10-23T04:26:09.814Z"
   },
   {
    "duration": 4,
    "start_time": "2024-10-23T04:26:50.829Z"
   },
   {
    "duration": 18,
    "start_time": "2024-10-23T04:27:00.465Z"
   },
   {
    "duration": 3,
    "start_time": "2024-10-23T04:27:11.832Z"
   },
   {
    "duration": 159,
    "start_time": "2024-10-23T04:27:11.845Z"
   },
   {
    "duration": 14,
    "start_time": "2024-10-23T04:27:12.006Z"
   },
   {
    "duration": 6,
    "start_time": "2024-10-23T04:27:12.022Z"
   },
   {
    "duration": 6,
    "start_time": "2024-10-23T04:27:12.030Z"
   },
   {
    "duration": 12,
    "start_time": "2024-10-23T04:27:12.037Z"
   },
   {
    "duration": 5,
    "start_time": "2024-10-23T04:27:12.051Z"
   },
   {
    "duration": 48,
    "start_time": "2024-10-23T04:27:12.058Z"
   },
   {
    "duration": 10,
    "start_time": "2024-10-23T04:27:12.108Z"
   },
   {
    "duration": 53,
    "start_time": "2024-10-23T04:27:12.121Z"
   },
   {
    "duration": 50,
    "start_time": "2024-10-23T04:27:12.178Z"
   },
   {
    "duration": 11,
    "start_time": "2024-10-23T04:27:12.230Z"
   },
   {
    "duration": 30,
    "start_time": "2024-10-23T04:27:12.243Z"
   },
   {
    "duration": 57,
    "start_time": "2024-10-23T04:27:12.275Z"
   },
   {
    "duration": 8,
    "start_time": "2024-10-23T04:27:12.334Z"
   },
   {
    "duration": 73,
    "start_time": "2024-10-23T04:27:12.344Z"
   },
   {
    "duration": 41,
    "start_time": "2024-10-23T04:27:12.419Z"
   },
   {
    "duration": 43,
    "start_time": "2024-10-23T04:27:12.462Z"
   },
   {
    "duration": 5,
    "start_time": "2024-10-23T04:27:12.509Z"
   },
   {
    "duration": 14,
    "start_time": "2024-10-23T04:27:12.516Z"
   },
   {
    "duration": 15,
    "start_time": "2024-10-23T04:27:12.532Z"
   },
   {
    "duration": 12,
    "start_time": "2024-10-23T04:27:12.548Z"
   },
   {
    "duration": 13,
    "start_time": "2024-10-23T04:27:12.561Z"
   },
   {
    "duration": 48,
    "start_time": "2024-10-23T04:27:12.575Z"
   },
   {
    "duration": 12,
    "start_time": "2024-10-23T04:27:12.625Z"
   },
   {
    "duration": 7,
    "start_time": "2024-10-23T04:27:12.639Z"
   },
   {
    "duration": 5,
    "start_time": "2024-10-23T04:27:12.647Z"
   },
   {
    "duration": 3,
    "start_time": "2024-10-23T04:27:12.653Z"
   },
   {
    "duration": 2,
    "start_time": "2024-10-23T04:27:12.661Z"
   },
   {
    "duration": 3,
    "start_time": "2024-10-23T04:27:12.665Z"
   },
   {
    "duration": 84,
    "start_time": "2024-10-23T04:27:12.706Z"
   },
   {
    "duration": 3,
    "start_time": "2024-10-23T04:27:12.791Z"
   },
   {
    "duration": 57,
    "start_time": "2024-10-23T04:27:12.806Z"
   },
   {
    "duration": 5,
    "start_time": "2024-10-23T04:27:12.865Z"
   },
   {
    "duration": 204,
    "start_time": "2024-10-23T04:27:12.872Z"
   },
   {
    "duration": 6,
    "start_time": "2024-10-23T04:27:13.077Z"
   },
   {
    "duration": 295,
    "start_time": "2024-10-23T04:27:13.084Z"
   },
   {
    "duration": 6,
    "start_time": "2024-10-23T04:27:13.381Z"
   },
   {
    "duration": 212,
    "start_time": "2024-10-23T04:27:13.389Z"
   },
   {
    "duration": 6,
    "start_time": "2024-10-23T04:27:13.603Z"
   },
   {
    "duration": 14,
    "start_time": "2024-10-23T04:27:13.611Z"
   },
   {
    "duration": 8,
    "start_time": "2024-10-23T04:27:13.626Z"
   },
   {
    "duration": 12,
    "start_time": "2024-10-23T04:27:13.635Z"
   },
   {
    "duration": 560,
    "start_time": "2024-10-23T04:27:13.648Z"
   },
   {
    "duration": 495,
    "start_time": "2024-10-23T04:27:14.210Z"
   },
   {
    "duration": 6,
    "start_time": "2024-10-23T04:27:14.707Z"
   },
   {
    "duration": 549,
    "start_time": "2024-10-23T04:27:14.714Z"
   },
   {
    "duration": 7,
    "start_time": "2024-10-23T04:27:15.265Z"
   },
   {
    "duration": 12,
    "start_time": "2024-10-23T04:27:15.273Z"
   },
   {
    "duration": 523,
    "start_time": "2024-10-23T04:27:15.287Z"
   },
   {
    "duration": 6,
    "start_time": "2024-10-23T04:27:15.811Z"
   },
   {
    "duration": 701,
    "start_time": "2024-10-23T04:27:15.818Z"
   },
   {
    "duration": 7,
    "start_time": "2024-10-23T04:27:16.521Z"
   },
   {
    "duration": 13,
    "start_time": "2024-10-23T04:27:16.530Z"
   },
   {
    "duration": 566,
    "start_time": "2024-10-23T04:27:16.544Z"
   },
   {
    "duration": 9,
    "start_time": "2024-10-23T04:27:17.112Z"
   },
   {
    "duration": 8,
    "start_time": "2024-10-23T04:27:17.122Z"
   },
   {
    "duration": 196,
    "start_time": "2024-10-23T04:27:17.132Z"
   },
   {
    "duration": 238,
    "start_time": "2024-10-23T04:27:17.329Z"
   },
   {
    "duration": 14,
    "start_time": "2024-10-23T04:27:17.569Z"
   },
   {
    "duration": 3,
    "start_time": "2024-10-23T04:27:17.585Z"
   },
   {
    "duration": 0,
    "start_time": "2024-10-23T04:27:17.606Z"
   },
   {
    "duration": 0,
    "start_time": "2024-10-23T04:27:17.607Z"
   },
   {
    "duration": 20,
    "start_time": "2024-10-23T04:27:31.547Z"
   },
   {
    "duration": 536,
    "start_time": "2024-10-23T04:27:41.619Z"
   },
   {
    "duration": 180,
    "start_time": "2024-10-23T04:29:43.121Z"
   },
   {
    "duration": 15,
    "start_time": "2024-10-23T04:33:02.420Z"
   },
   {
    "duration": 21,
    "start_time": "2024-10-23T04:33:54.457Z"
   },
   {
    "duration": 9,
    "start_time": "2024-10-23T04:34:02.969Z"
   },
   {
    "duration": 9,
    "start_time": "2024-10-23T04:34:34.120Z"
   },
   {
    "duration": 24,
    "start_time": "2024-10-23T04:46:10.166Z"
   },
   {
    "duration": 4,
    "start_time": "2024-10-23T04:46:51.072Z"
   },
   {
    "duration": 4,
    "start_time": "2024-10-23T04:46:56.462Z"
   },
   {
    "duration": 5,
    "start_time": "2024-10-23T04:47:01.609Z"
   },
   {
    "duration": 20,
    "start_time": "2024-10-23T04:47:09.689Z"
   },
   {
    "duration": 9,
    "start_time": "2024-10-23T04:48:54.688Z"
   },
   {
    "duration": 2597,
    "start_time": "2024-10-23T18:34:48.783Z"
   },
   {
    "duration": 220,
    "start_time": "2024-10-23T18:34:51.382Z"
   },
   {
    "duration": 14,
    "start_time": "2024-10-23T18:34:51.603Z"
   },
   {
    "duration": 7,
    "start_time": "2024-10-23T18:34:51.619Z"
   },
   {
    "duration": 5,
    "start_time": "2024-10-23T18:34:51.628Z"
   },
   {
    "duration": 13,
    "start_time": "2024-10-23T18:34:51.634Z"
   },
   {
    "duration": 5,
    "start_time": "2024-10-23T18:34:51.649Z"
   },
   {
    "duration": 11,
    "start_time": "2024-10-23T18:34:51.655Z"
   },
   {
    "duration": 12,
    "start_time": "2024-10-23T18:34:51.668Z"
   },
   {
    "duration": 79,
    "start_time": "2024-10-23T18:34:51.682Z"
   },
   {
    "duration": 27,
    "start_time": "2024-10-23T18:34:51.763Z"
   },
   {
    "duration": 12,
    "start_time": "2024-10-23T18:34:51.792Z"
   },
   {
    "duration": 57,
    "start_time": "2024-10-23T18:34:51.806Z"
   },
   {
    "duration": 24,
    "start_time": "2024-10-23T18:34:51.867Z"
   },
   {
    "duration": 7,
    "start_time": "2024-10-23T18:34:51.893Z"
   },
   {
    "duration": 74,
    "start_time": "2024-10-23T18:34:51.901Z"
   },
   {
    "duration": 34,
    "start_time": "2024-10-23T18:34:51.977Z"
   },
   {
    "duration": 48,
    "start_time": "2024-10-23T18:34:52.013Z"
   },
   {
    "duration": 4,
    "start_time": "2024-10-23T18:34:52.063Z"
   },
   {
    "duration": 16,
    "start_time": "2024-10-23T18:34:52.070Z"
   },
   {
    "duration": 15,
    "start_time": "2024-10-23T18:34:52.089Z"
   },
   {
    "duration": 12,
    "start_time": "2024-10-23T18:34:52.106Z"
   },
   {
    "duration": 13,
    "start_time": "2024-10-23T18:34:52.143Z"
   },
   {
    "duration": 17,
    "start_time": "2024-10-23T18:34:52.157Z"
   },
   {
    "duration": 13,
    "start_time": "2024-10-23T18:34:52.176Z"
   },
   {
    "duration": 5,
    "start_time": "2024-10-23T18:34:52.191Z"
   },
   {
    "duration": 4,
    "start_time": "2024-10-23T18:34:52.198Z"
   },
   {
    "duration": 3,
    "start_time": "2024-10-23T18:34:52.203Z"
   },
   {
    "duration": 37,
    "start_time": "2024-10-23T18:34:52.207Z"
   },
   {
    "duration": 3,
    "start_time": "2024-10-23T18:34:52.246Z"
   },
   {
    "duration": 100,
    "start_time": "2024-10-23T18:34:52.251Z"
   },
   {
    "duration": 3,
    "start_time": "2024-10-23T18:34:52.352Z"
   },
   {
    "duration": 59,
    "start_time": "2024-10-23T18:34:52.357Z"
   },
   {
    "duration": 5,
    "start_time": "2024-10-23T18:34:52.418Z"
   },
   {
    "duration": 205,
    "start_time": "2024-10-23T18:34:52.425Z"
   },
   {
    "duration": 14,
    "start_time": "2024-10-23T18:34:52.632Z"
   },
   {
    "duration": 199,
    "start_time": "2024-10-23T18:34:52.647Z"
   },
   {
    "duration": 6,
    "start_time": "2024-10-23T18:34:52.848Z"
   },
   {
    "duration": 219,
    "start_time": "2024-10-23T18:34:52.856Z"
   },
   {
    "duration": 6,
    "start_time": "2024-10-23T18:34:53.077Z"
   },
   {
    "duration": 12,
    "start_time": "2024-10-23T18:34:53.088Z"
   },
   {
    "duration": 8,
    "start_time": "2024-10-23T18:34:53.101Z"
   },
   {
    "duration": 37,
    "start_time": "2024-10-23T18:34:53.111Z"
   },
   {
    "duration": 525,
    "start_time": "2024-10-23T18:34:53.150Z"
   },
   {
    "duration": 719,
    "start_time": "2024-10-23T18:34:53.676Z"
   },
   {
    "duration": 5,
    "start_time": "2024-10-23T18:34:54.397Z"
   },
   {
    "duration": 661,
    "start_time": "2024-10-23T18:34:54.404Z"
   },
   {
    "duration": 7,
    "start_time": "2024-10-23T18:34:55.067Z"
   },
   {
    "duration": 12,
    "start_time": "2024-10-23T18:34:55.075Z"
   },
   {
    "duration": 553,
    "start_time": "2024-10-23T18:34:55.089Z"
   },
   {
    "duration": 5,
    "start_time": "2024-10-23T18:34:55.645Z"
   },
   {
    "duration": 636,
    "start_time": "2024-10-23T18:34:55.652Z"
   },
   {
    "duration": 11,
    "start_time": "2024-10-23T18:34:56.291Z"
   },
   {
    "duration": 19,
    "start_time": "2024-10-23T18:34:56.304Z"
   },
   {
    "duration": 644,
    "start_time": "2024-10-23T18:34:56.325Z"
   },
   {
    "duration": 10,
    "start_time": "2024-10-23T18:34:56.971Z"
   },
   {
    "duration": 9,
    "start_time": "2024-10-23T18:34:56.984Z"
   },
   {
    "duration": 314,
    "start_time": "2024-10-23T18:34:56.995Z"
   },
   {
    "duration": 250,
    "start_time": "2024-10-23T18:34:57.312Z"
   },
   {
    "duration": 14,
    "start_time": "2024-10-23T18:34:57.564Z"
   },
   {
    "duration": 10,
    "start_time": "2024-10-23T18:34:57.579Z"
   },
   {
    "duration": 6,
    "start_time": "2024-10-23T18:34:57.590Z"
   },
   {
    "duration": 0,
    "start_time": "2024-10-23T18:34:57.598Z"
   },
   {
    "duration": 9,
    "start_time": "2024-10-23T18:35:11.067Z"
   },
   {
    "duration": 2587,
    "start_time": "2024-10-24T02:09:43.830Z"
   },
   {
    "duration": 224,
    "start_time": "2024-10-24T02:09:46.420Z"
   },
   {
    "duration": 16,
    "start_time": "2024-10-24T02:09:46.646Z"
   },
   {
    "duration": 11,
    "start_time": "2024-10-24T02:09:46.663Z"
   },
   {
    "duration": 5,
    "start_time": "2024-10-24T02:09:46.677Z"
   },
   {
    "duration": 16,
    "start_time": "2024-10-24T02:09:46.684Z"
   },
   {
    "duration": 5,
    "start_time": "2024-10-24T02:09:46.702Z"
   },
   {
    "duration": 11,
    "start_time": "2024-10-24T02:09:46.709Z"
   },
   {
    "duration": 58,
    "start_time": "2024-10-24T02:09:46.721Z"
   },
   {
    "duration": 56,
    "start_time": "2024-10-24T02:09:46.781Z"
   },
   {
    "duration": 45,
    "start_time": "2024-10-24T02:09:46.839Z"
   },
   {
    "duration": 13,
    "start_time": "2024-10-24T02:09:46.886Z"
   },
   {
    "duration": 33,
    "start_time": "2024-10-24T02:09:46.901Z"
   },
   {
    "duration": 33,
    "start_time": "2024-10-24T02:09:46.939Z"
   },
   {
    "duration": 0,
    "start_time": "2024-10-24T02:09:46.976Z"
   },
   {
    "duration": 0,
    "start_time": "2024-10-24T02:09:46.977Z"
   },
   {
    "duration": 0,
    "start_time": "2024-10-24T02:09:46.978Z"
   },
   {
    "duration": 0,
    "start_time": "2024-10-24T02:09:46.979Z"
   },
   {
    "duration": 0,
    "start_time": "2024-10-24T02:09:46.980Z"
   },
   {
    "duration": 0,
    "start_time": "2024-10-24T02:09:46.981Z"
   },
   {
    "duration": 0,
    "start_time": "2024-10-24T02:09:46.982Z"
   },
   {
    "duration": 0,
    "start_time": "2024-10-24T02:09:46.983Z"
   },
   {
    "duration": 0,
    "start_time": "2024-10-24T02:09:46.984Z"
   },
   {
    "duration": 0,
    "start_time": "2024-10-24T02:09:46.985Z"
   },
   {
    "duration": 0,
    "start_time": "2024-10-24T02:09:46.986Z"
   },
   {
    "duration": 0,
    "start_time": "2024-10-24T02:09:46.987Z"
   },
   {
    "duration": 0,
    "start_time": "2024-10-24T02:09:46.989Z"
   },
   {
    "duration": 0,
    "start_time": "2024-10-24T02:09:46.990Z"
   },
   {
    "duration": 0,
    "start_time": "2024-10-24T02:09:46.992Z"
   },
   {
    "duration": 0,
    "start_time": "2024-10-24T02:09:46.993Z"
   },
   {
    "duration": 0,
    "start_time": "2024-10-24T02:09:46.994Z"
   },
   {
    "duration": 0,
    "start_time": "2024-10-24T02:09:46.995Z"
   },
   {
    "duration": 0,
    "start_time": "2024-10-24T02:09:46.997Z"
   },
   {
    "duration": 0,
    "start_time": "2024-10-24T02:09:46.998Z"
   },
   {
    "duration": 0,
    "start_time": "2024-10-24T02:09:46.999Z"
   },
   {
    "duration": 0,
    "start_time": "2024-10-24T02:09:47.001Z"
   },
   {
    "duration": 0,
    "start_time": "2024-10-24T02:09:47.003Z"
   },
   {
    "duration": 0,
    "start_time": "2024-10-24T02:09:47.004Z"
   },
   {
    "duration": 0,
    "start_time": "2024-10-24T02:09:47.008Z"
   },
   {
    "duration": 0,
    "start_time": "2024-10-24T02:09:47.010Z"
   },
   {
    "duration": 0,
    "start_time": "2024-10-24T02:09:47.011Z"
   },
   {
    "duration": 0,
    "start_time": "2024-10-24T02:09:47.012Z"
   },
   {
    "duration": 0,
    "start_time": "2024-10-24T02:09:47.013Z"
   },
   {
    "duration": 0,
    "start_time": "2024-10-24T02:09:47.014Z"
   },
   {
    "duration": 0,
    "start_time": "2024-10-24T02:09:47.071Z"
   },
   {
    "duration": 0,
    "start_time": "2024-10-24T02:09:47.072Z"
   },
   {
    "duration": 0,
    "start_time": "2024-10-24T02:09:47.074Z"
   },
   {
    "duration": 0,
    "start_time": "2024-10-24T02:09:47.075Z"
   },
   {
    "duration": 0,
    "start_time": "2024-10-24T02:09:47.076Z"
   },
   {
    "duration": 0,
    "start_time": "2024-10-24T02:09:47.078Z"
   },
   {
    "duration": 0,
    "start_time": "2024-10-24T02:09:47.079Z"
   },
   {
    "duration": 0,
    "start_time": "2024-10-24T02:09:47.080Z"
   },
   {
    "duration": 0,
    "start_time": "2024-10-24T02:09:47.082Z"
   },
   {
    "duration": 0,
    "start_time": "2024-10-24T02:09:47.083Z"
   },
   {
    "duration": 0,
    "start_time": "2024-10-24T02:09:47.084Z"
   },
   {
    "duration": 0,
    "start_time": "2024-10-24T02:09:47.085Z"
   },
   {
    "duration": 0,
    "start_time": "2024-10-24T02:09:47.087Z"
   },
   {
    "duration": 0,
    "start_time": "2024-10-24T02:09:47.088Z"
   },
   {
    "duration": 0,
    "start_time": "2024-10-24T02:09:47.090Z"
   },
   {
    "duration": 0,
    "start_time": "2024-10-24T02:09:47.092Z"
   },
   {
    "duration": 0,
    "start_time": "2024-10-24T02:09:47.093Z"
   },
   {
    "duration": 0,
    "start_time": "2024-10-24T02:09:47.094Z"
   },
   {
    "duration": 0,
    "start_time": "2024-10-24T02:09:47.095Z"
   },
   {
    "duration": 0,
    "start_time": "2024-10-24T02:09:47.096Z"
   },
   {
    "duration": 3,
    "start_time": "2024-10-24T02:10:34.933Z"
   },
   {
    "duration": 167,
    "start_time": "2024-10-24T02:10:34.938Z"
   },
   {
    "duration": 15,
    "start_time": "2024-10-24T02:10:35.108Z"
   },
   {
    "duration": 8,
    "start_time": "2024-10-24T02:10:35.125Z"
   },
   {
    "duration": 5,
    "start_time": "2024-10-24T02:10:35.136Z"
   },
   {
    "duration": 14,
    "start_time": "2024-10-24T02:10:35.170Z"
   },
   {
    "duration": 5,
    "start_time": "2024-10-24T02:10:35.185Z"
   },
   {
    "duration": 10,
    "start_time": "2024-10-24T02:10:35.192Z"
   },
   {
    "duration": 12,
    "start_time": "2024-10-24T02:10:35.204Z"
   },
   {
    "duration": 94,
    "start_time": "2024-10-24T02:10:35.218Z"
   },
   {
    "duration": 25,
    "start_time": "2024-10-24T02:10:35.316Z"
   },
   {
    "duration": 32,
    "start_time": "2024-10-24T02:10:35.343Z"
   },
   {
    "duration": 31,
    "start_time": "2024-10-24T02:10:35.376Z"
   },
   {
    "duration": 3,
    "start_time": "2024-10-24T02:10:35.409Z"
   },
   {
    "duration": 0,
    "start_time": "2024-10-24T02:10:35.415Z"
   },
   {
    "duration": 0,
    "start_time": "2024-10-24T02:10:35.416Z"
   },
   {
    "duration": 0,
    "start_time": "2024-10-24T02:10:35.418Z"
   },
   {
    "duration": 0,
    "start_time": "2024-10-24T02:10:35.419Z"
   },
   {
    "duration": 0,
    "start_time": "2024-10-24T02:10:35.420Z"
   },
   {
    "duration": 0,
    "start_time": "2024-10-24T02:10:35.421Z"
   },
   {
    "duration": 0,
    "start_time": "2024-10-24T02:10:35.422Z"
   },
   {
    "duration": 0,
    "start_time": "2024-10-24T02:10:35.423Z"
   },
   {
    "duration": 0,
    "start_time": "2024-10-24T02:10:35.424Z"
   },
   {
    "duration": 0,
    "start_time": "2024-10-24T02:10:35.425Z"
   },
   {
    "duration": 0,
    "start_time": "2024-10-24T02:10:35.426Z"
   },
   {
    "duration": 0,
    "start_time": "2024-10-24T02:10:35.427Z"
   },
   {
    "duration": 0,
    "start_time": "2024-10-24T02:10:35.470Z"
   },
   {
    "duration": 0,
    "start_time": "2024-10-24T02:10:35.471Z"
   },
   {
    "duration": 0,
    "start_time": "2024-10-24T02:10:35.472Z"
   },
   {
    "duration": 0,
    "start_time": "2024-10-24T02:10:35.473Z"
   },
   {
    "duration": 0,
    "start_time": "2024-10-24T02:10:35.474Z"
   },
   {
    "duration": 0,
    "start_time": "2024-10-24T02:10:35.475Z"
   },
   {
    "duration": 0,
    "start_time": "2024-10-24T02:10:35.476Z"
   },
   {
    "duration": 0,
    "start_time": "2024-10-24T02:10:35.477Z"
   },
   {
    "duration": 0,
    "start_time": "2024-10-24T02:10:35.478Z"
   },
   {
    "duration": 0,
    "start_time": "2024-10-24T02:10:35.479Z"
   },
   {
    "duration": 0,
    "start_time": "2024-10-24T02:10:35.480Z"
   },
   {
    "duration": 0,
    "start_time": "2024-10-24T02:10:35.481Z"
   },
   {
    "duration": 0,
    "start_time": "2024-10-24T02:10:35.482Z"
   },
   {
    "duration": 0,
    "start_time": "2024-10-24T02:10:35.483Z"
   },
   {
    "duration": 0,
    "start_time": "2024-10-24T02:10:35.485Z"
   },
   {
    "duration": 0,
    "start_time": "2024-10-24T02:10:35.486Z"
   },
   {
    "duration": 0,
    "start_time": "2024-10-24T02:10:35.488Z"
   },
   {
    "duration": 0,
    "start_time": "2024-10-24T02:10:35.489Z"
   },
   {
    "duration": 0,
    "start_time": "2024-10-24T02:10:35.490Z"
   },
   {
    "duration": 0,
    "start_time": "2024-10-24T02:10:35.491Z"
   },
   {
    "duration": 0,
    "start_time": "2024-10-24T02:10:35.492Z"
   },
   {
    "duration": 0,
    "start_time": "2024-10-24T02:10:35.496Z"
   },
   {
    "duration": 0,
    "start_time": "2024-10-24T02:10:35.498Z"
   },
   {
    "duration": 0,
    "start_time": "2024-10-24T02:10:35.499Z"
   },
   {
    "duration": 0,
    "start_time": "2024-10-24T02:10:35.501Z"
   },
   {
    "duration": 0,
    "start_time": "2024-10-24T02:10:35.502Z"
   },
   {
    "duration": 1,
    "start_time": "2024-10-24T02:10:35.503Z"
   },
   {
    "duration": 0,
    "start_time": "2024-10-24T02:10:35.504Z"
   },
   {
    "duration": 0,
    "start_time": "2024-10-24T02:10:35.505Z"
   },
   {
    "duration": 0,
    "start_time": "2024-10-24T02:10:35.506Z"
   },
   {
    "duration": 0,
    "start_time": "2024-10-24T02:10:35.507Z"
   },
   {
    "duration": 0,
    "start_time": "2024-10-24T02:10:35.508Z"
   },
   {
    "duration": 0,
    "start_time": "2024-10-24T02:10:35.509Z"
   },
   {
    "duration": 0,
    "start_time": "2024-10-24T02:10:35.510Z"
   },
   {
    "duration": 0,
    "start_time": "2024-10-24T02:10:35.570Z"
   },
   {
    "duration": 0,
    "start_time": "2024-10-24T02:10:35.572Z"
   },
   {
    "duration": 0,
    "start_time": "2024-10-24T02:10:35.573Z"
   },
   {
    "duration": 0,
    "start_time": "2024-10-24T02:10:35.574Z"
   },
   {
    "duration": 24,
    "start_time": "2024-10-24T02:10:54.380Z"
   },
   {
    "duration": 2,
    "start_time": "2024-10-24T02:11:20.414Z"
   },
   {
    "duration": 239,
    "start_time": "2024-10-24T02:11:20.419Z"
   },
   {
    "duration": 18,
    "start_time": "2024-10-24T02:11:20.660Z"
   },
   {
    "duration": 9,
    "start_time": "2024-10-24T02:11:20.680Z"
   },
   {
    "duration": 6,
    "start_time": "2024-10-24T02:11:20.692Z"
   },
   {
    "duration": 16,
    "start_time": "2024-10-24T02:11:20.700Z"
   },
   {
    "duration": 55,
    "start_time": "2024-10-24T02:11:20.718Z"
   },
   {
    "duration": 14,
    "start_time": "2024-10-24T02:11:20.775Z"
   },
   {
    "duration": 16,
    "start_time": "2024-10-24T02:11:20.791Z"
   },
   {
    "duration": 80,
    "start_time": "2024-10-24T02:11:20.809Z"
   },
   {
    "duration": 25,
    "start_time": "2024-10-24T02:11:20.891Z"
   },
   {
    "duration": 14,
    "start_time": "2024-10-24T02:11:20.918Z"
   },
   {
    "duration": 71,
    "start_time": "2024-10-24T02:11:20.937Z"
   },
   {
    "duration": 4,
    "start_time": "2024-10-24T02:11:21.010Z"
   },
   {
    "duration": 0,
    "start_time": "2024-10-24T02:11:21.017Z"
   },
   {
    "duration": 0,
    "start_time": "2024-10-24T02:11:21.018Z"
   },
   {
    "duration": 0,
    "start_time": "2024-10-24T02:11:21.019Z"
   },
   {
    "duration": 0,
    "start_time": "2024-10-24T02:11:21.020Z"
   },
   {
    "duration": 0,
    "start_time": "2024-10-24T02:11:21.021Z"
   },
   {
    "duration": 0,
    "start_time": "2024-10-24T02:11:21.021Z"
   },
   {
    "duration": 0,
    "start_time": "2024-10-24T02:11:21.022Z"
   },
   {
    "duration": 0,
    "start_time": "2024-10-24T02:11:21.023Z"
   },
   {
    "duration": 0,
    "start_time": "2024-10-24T02:11:21.024Z"
   },
   {
    "duration": 0,
    "start_time": "2024-10-24T02:11:21.026Z"
   },
   {
    "duration": 0,
    "start_time": "2024-10-24T02:11:21.027Z"
   },
   {
    "duration": 0,
    "start_time": "2024-10-24T02:11:21.028Z"
   },
   {
    "duration": 0,
    "start_time": "2024-10-24T02:11:21.028Z"
   },
   {
    "duration": 0,
    "start_time": "2024-10-24T02:11:21.029Z"
   },
   {
    "duration": 0,
    "start_time": "2024-10-24T02:11:21.071Z"
   },
   {
    "duration": 0,
    "start_time": "2024-10-24T02:11:21.072Z"
   },
   {
    "duration": 0,
    "start_time": "2024-10-24T02:11:21.073Z"
   },
   {
    "duration": 0,
    "start_time": "2024-10-24T02:11:21.074Z"
   },
   {
    "duration": 0,
    "start_time": "2024-10-24T02:11:21.075Z"
   },
   {
    "duration": 0,
    "start_time": "2024-10-24T02:11:21.076Z"
   },
   {
    "duration": 0,
    "start_time": "2024-10-24T02:11:21.077Z"
   },
   {
    "duration": 0,
    "start_time": "2024-10-24T02:11:21.078Z"
   },
   {
    "duration": 0,
    "start_time": "2024-10-24T02:11:21.079Z"
   },
   {
    "duration": 0,
    "start_time": "2024-10-24T02:11:21.080Z"
   },
   {
    "duration": 0,
    "start_time": "2024-10-24T02:11:21.081Z"
   },
   {
    "duration": 0,
    "start_time": "2024-10-24T02:11:21.082Z"
   },
   {
    "duration": 0,
    "start_time": "2024-10-24T02:11:21.083Z"
   },
   {
    "duration": 0,
    "start_time": "2024-10-24T02:11:21.084Z"
   },
   {
    "duration": 0,
    "start_time": "2024-10-24T02:11:21.086Z"
   },
   {
    "duration": 0,
    "start_time": "2024-10-24T02:11:21.087Z"
   },
   {
    "duration": 0,
    "start_time": "2024-10-24T02:11:21.088Z"
   },
   {
    "duration": 0,
    "start_time": "2024-10-24T02:11:21.088Z"
   },
   {
    "duration": 0,
    "start_time": "2024-10-24T02:11:21.089Z"
   },
   {
    "duration": 0,
    "start_time": "2024-10-24T02:11:21.090Z"
   },
   {
    "duration": 0,
    "start_time": "2024-10-24T02:11:21.094Z"
   },
   {
    "duration": 0,
    "start_time": "2024-10-24T02:11:21.095Z"
   },
   {
    "duration": 0,
    "start_time": "2024-10-24T02:11:21.096Z"
   },
   {
    "duration": 0,
    "start_time": "2024-10-24T02:11:21.098Z"
   },
   {
    "duration": 0,
    "start_time": "2024-10-24T02:11:21.099Z"
   },
   {
    "duration": 0,
    "start_time": "2024-10-24T02:11:21.100Z"
   },
   {
    "duration": 0,
    "start_time": "2024-10-24T02:11:21.101Z"
   },
   {
    "duration": 0,
    "start_time": "2024-10-24T02:11:21.102Z"
   },
   {
    "duration": 0,
    "start_time": "2024-10-24T02:11:21.104Z"
   },
   {
    "duration": 1,
    "start_time": "2024-10-24T02:11:21.104Z"
   },
   {
    "duration": 0,
    "start_time": "2024-10-24T02:11:21.107Z"
   },
   {
    "duration": 0,
    "start_time": "2024-10-24T02:11:21.108Z"
   },
   {
    "duration": 0,
    "start_time": "2024-10-24T02:11:21.109Z"
   },
   {
    "duration": 0,
    "start_time": "2024-10-24T02:11:21.110Z"
   },
   {
    "duration": 0,
    "start_time": "2024-10-24T02:11:21.112Z"
   },
   {
    "duration": 0,
    "start_time": "2024-10-24T02:11:21.170Z"
   },
   {
    "duration": 24,
    "start_time": "2024-10-24T02:12:03.797Z"
   },
   {
    "duration": 8,
    "start_time": "2024-10-24T02:12:09.282Z"
   },
   {
    "duration": 49,
    "start_time": "2024-10-24T02:12:11.500Z"
   },
   {
    "duration": 2,
    "start_time": "2024-10-24T02:12:29.793Z"
   },
   {
    "duration": 161,
    "start_time": "2024-10-24T02:12:29.798Z"
   },
   {
    "duration": 19,
    "start_time": "2024-10-24T02:12:29.961Z"
   },
   {
    "duration": 7,
    "start_time": "2024-10-24T02:12:29.983Z"
   },
   {
    "duration": 6,
    "start_time": "2024-10-24T02:12:29.992Z"
   },
   {
    "duration": 13,
    "start_time": "2024-10-24T02:12:30.000Z"
   },
   {
    "duration": 6,
    "start_time": "2024-10-24T02:12:30.015Z"
   },
   {
    "duration": 11,
    "start_time": "2024-10-24T02:12:30.070Z"
   },
   {
    "duration": 12,
    "start_time": "2024-10-24T02:12:30.084Z"
   },
   {
    "duration": 77,
    "start_time": "2024-10-24T02:12:30.097Z"
   },
   {
    "duration": 25,
    "start_time": "2024-10-24T02:12:30.176Z"
   },
   {
    "duration": 11,
    "start_time": "2024-10-24T02:12:30.203Z"
   },
   {
    "duration": 57,
    "start_time": "2024-10-24T02:12:30.216Z"
   },
   {
    "duration": 32,
    "start_time": "2024-10-24T02:12:30.275Z"
   },
   {
    "duration": 8,
    "start_time": "2024-10-24T02:12:30.309Z"
   },
   {
    "duration": 81,
    "start_time": "2024-10-24T02:12:30.319Z"
   },
   {
    "duration": 30,
    "start_time": "2024-10-24T02:12:30.403Z"
   },
   {
    "duration": 43,
    "start_time": "2024-10-24T02:12:30.434Z"
   },
   {
    "duration": 5,
    "start_time": "2024-10-24T02:12:30.479Z"
   },
   {
    "duration": 15,
    "start_time": "2024-10-24T02:12:30.485Z"
   },
   {
    "duration": 15,
    "start_time": "2024-10-24T02:12:30.502Z"
   },
   {
    "duration": 12,
    "start_time": "2024-10-24T02:12:30.518Z"
   },
   {
    "duration": 50,
    "start_time": "2024-10-24T02:12:30.531Z"
   },
   {
    "duration": 17,
    "start_time": "2024-10-24T02:12:30.586Z"
   },
   {
    "duration": 13,
    "start_time": "2024-10-24T02:12:30.604Z"
   },
   {
    "duration": 6,
    "start_time": "2024-10-24T02:12:30.619Z"
   },
   {
    "duration": 42,
    "start_time": "2024-10-24T02:12:30.628Z"
   },
   {
    "duration": 2,
    "start_time": "2024-10-24T02:12:30.672Z"
   },
   {
    "duration": 3,
    "start_time": "2024-10-24T02:12:30.676Z"
   },
   {
    "duration": 3,
    "start_time": "2024-10-24T02:12:30.681Z"
   },
   {
    "duration": 106,
    "start_time": "2024-10-24T02:12:30.685Z"
   },
   {
    "duration": 3,
    "start_time": "2024-10-24T02:12:30.793Z"
   },
   {
    "duration": 51,
    "start_time": "2024-10-24T02:12:30.798Z"
   },
   {
    "duration": 5,
    "start_time": "2024-10-24T02:12:30.870Z"
   },
   {
    "duration": 201,
    "start_time": "2024-10-24T02:12:30.877Z"
   },
   {
    "duration": 6,
    "start_time": "2024-10-24T02:12:31.080Z"
   },
   {
    "duration": 212,
    "start_time": "2024-10-24T02:12:31.088Z"
   },
   {
    "duration": 5,
    "start_time": "2024-10-24T02:12:31.302Z"
   },
   {
    "duration": 225,
    "start_time": "2024-10-24T02:12:31.309Z"
   },
   {
    "duration": 8,
    "start_time": "2024-10-24T02:12:31.535Z"
   },
   {
    "duration": 29,
    "start_time": "2024-10-24T02:12:31.544Z"
   },
   {
    "duration": 8,
    "start_time": "2024-10-24T02:12:31.575Z"
   },
   {
    "duration": 13,
    "start_time": "2024-10-24T02:12:31.584Z"
   },
   {
    "duration": 594,
    "start_time": "2024-10-24T02:12:31.599Z"
   },
   {
    "duration": 522,
    "start_time": "2024-10-24T02:12:32.194Z"
   },
   {
    "duration": 5,
    "start_time": "2024-10-24T02:12:32.718Z"
   },
   {
    "duration": 573,
    "start_time": "2024-10-24T02:12:32.725Z"
   },
   {
    "duration": 5,
    "start_time": "2024-10-24T02:12:33.299Z"
   },
   {
    "duration": 0,
    "start_time": "2024-10-24T02:12:33.306Z"
   },
   {
    "duration": 0,
    "start_time": "2024-10-24T02:12:33.307Z"
   },
   {
    "duration": 0,
    "start_time": "2024-10-24T02:12:33.308Z"
   },
   {
    "duration": 0,
    "start_time": "2024-10-24T02:12:33.309Z"
   },
   {
    "duration": 0,
    "start_time": "2024-10-24T02:12:33.310Z"
   },
   {
    "duration": 0,
    "start_time": "2024-10-24T02:12:33.311Z"
   },
   {
    "duration": 0,
    "start_time": "2024-10-24T02:12:33.312Z"
   },
   {
    "duration": 0,
    "start_time": "2024-10-24T02:12:33.313Z"
   },
   {
    "duration": 0,
    "start_time": "2024-10-24T02:12:33.314Z"
   },
   {
    "duration": 0,
    "start_time": "2024-10-24T02:12:33.315Z"
   },
   {
    "duration": 0,
    "start_time": "2024-10-24T02:12:33.316Z"
   },
   {
    "duration": 0,
    "start_time": "2024-10-24T02:12:33.317Z"
   },
   {
    "duration": 0,
    "start_time": "2024-10-24T02:12:33.319Z"
   },
   {
    "duration": 0,
    "start_time": "2024-10-24T02:12:33.321Z"
   },
   {
    "duration": 0,
    "start_time": "2024-10-24T02:12:33.322Z"
   },
   {
    "duration": 8,
    "start_time": "2024-10-24T02:13:22.735Z"
   },
   {
    "duration": 14,
    "start_time": "2024-10-24T02:13:27.467Z"
   },
   {
    "duration": 508,
    "start_time": "2024-10-24T02:13:31.283Z"
   },
   {
    "duration": 5,
    "start_time": "2024-10-24T02:13:37.263Z"
   },
   {
    "duration": 669,
    "start_time": "2024-10-24T02:13:39.636Z"
   },
   {
    "duration": 9,
    "start_time": "2024-10-24T02:13:45.805Z"
   },
   {
    "duration": 13,
    "start_time": "2024-10-24T02:13:50.991Z"
   },
   {
    "duration": 3,
    "start_time": "2024-10-24T02:14:05.000Z"
   },
   {
    "duration": 156,
    "start_time": "2024-10-24T02:14:05.009Z"
   },
   {
    "duration": 13,
    "start_time": "2024-10-24T02:14:05.168Z"
   },
   {
    "duration": 7,
    "start_time": "2024-10-24T02:14:05.182Z"
   },
   {
    "duration": 5,
    "start_time": "2024-10-24T02:14:05.191Z"
   },
   {
    "duration": 16,
    "start_time": "2024-10-24T02:14:05.199Z"
   },
   {
    "duration": 6,
    "start_time": "2024-10-24T02:14:05.217Z"
   },
   {
    "duration": 11,
    "start_time": "2024-10-24T02:14:05.271Z"
   },
   {
    "duration": 12,
    "start_time": "2024-10-24T02:14:05.284Z"
   },
   {
    "duration": 86,
    "start_time": "2024-10-24T02:14:05.298Z"
   },
   {
    "duration": 25,
    "start_time": "2024-10-24T02:14:05.386Z"
   },
   {
    "duration": 12,
    "start_time": "2024-10-24T02:14:05.413Z"
   },
   {
    "duration": 61,
    "start_time": "2024-10-24T02:14:05.426Z"
   },
   {
    "duration": 25,
    "start_time": "2024-10-24T02:14:05.489Z"
   },
   {
    "duration": 7,
    "start_time": "2024-10-24T02:14:05.519Z"
   },
   {
    "duration": 80,
    "start_time": "2024-10-24T02:14:05.528Z"
   },
   {
    "duration": 31,
    "start_time": "2024-10-24T02:14:05.612Z"
   },
   {
    "duration": 43,
    "start_time": "2024-10-24T02:14:05.645Z"
   },
   {
    "duration": 6,
    "start_time": "2024-10-24T02:14:05.690Z"
   },
   {
    "duration": 11,
    "start_time": "2024-10-24T02:14:05.698Z"
   },
   {
    "duration": 12,
    "start_time": "2024-10-24T02:14:05.711Z"
   },
   {
    "duration": 49,
    "start_time": "2024-10-24T02:14:05.725Z"
   },
   {
    "duration": 13,
    "start_time": "2024-10-24T02:14:05.776Z"
   },
   {
    "duration": 16,
    "start_time": "2024-10-24T02:14:05.791Z"
   },
   {
    "duration": 14,
    "start_time": "2024-10-24T02:14:05.809Z"
   },
   {
    "duration": 6,
    "start_time": "2024-10-24T02:14:05.825Z"
   },
   {
    "duration": 5,
    "start_time": "2024-10-24T02:14:05.869Z"
   },
   {
    "duration": 5,
    "start_time": "2024-10-24T02:14:05.876Z"
   },
   {
    "duration": 3,
    "start_time": "2024-10-24T02:14:05.883Z"
   },
   {
    "duration": 3,
    "start_time": "2024-10-24T02:14:05.888Z"
   },
   {
    "duration": 108,
    "start_time": "2024-10-24T02:14:05.893Z"
   },
   {
    "duration": 3,
    "start_time": "2024-10-24T02:14:06.003Z"
   },
   {
    "duration": 63,
    "start_time": "2024-10-24T02:14:06.008Z"
   },
   {
    "duration": 5,
    "start_time": "2024-10-24T02:14:06.073Z"
   },
   {
    "duration": 203,
    "start_time": "2024-10-24T02:14:06.079Z"
   },
   {
    "duration": 6,
    "start_time": "2024-10-24T02:14:06.284Z"
   },
   {
    "duration": 224,
    "start_time": "2024-10-24T02:14:06.292Z"
   },
   {
    "duration": 6,
    "start_time": "2024-10-24T02:14:06.518Z"
   },
   {
    "duration": 217,
    "start_time": "2024-10-24T02:14:06.526Z"
   },
   {
    "duration": 7,
    "start_time": "2024-10-24T02:14:06.745Z"
   },
   {
    "duration": 27,
    "start_time": "2024-10-24T02:14:06.754Z"
   },
   {
    "duration": 10,
    "start_time": "2024-10-24T02:14:06.788Z"
   },
   {
    "duration": 14,
    "start_time": "2024-10-24T02:14:06.799Z"
   },
   {
    "duration": 575,
    "start_time": "2024-10-24T02:14:06.815Z"
   },
   {
    "duration": 590,
    "start_time": "2024-10-24T02:14:07.392Z"
   },
   {
    "duration": 5,
    "start_time": "2024-10-24T02:14:07.984Z"
   },
   {
    "duration": 611,
    "start_time": "2024-10-24T02:14:07.991Z"
   },
   {
    "duration": 8,
    "start_time": "2024-10-24T02:14:08.604Z"
   },
   {
    "duration": 15,
    "start_time": "2024-10-24T02:14:08.613Z"
   },
   {
    "duration": 541,
    "start_time": "2024-10-24T02:14:08.630Z"
   },
   {
    "duration": 6,
    "start_time": "2024-10-24T02:14:09.173Z"
   },
   {
    "duration": 573,
    "start_time": "2024-10-24T02:14:09.180Z"
   },
   {
    "duration": 17,
    "start_time": "2024-10-24T02:14:09.755Z"
   },
   {
    "duration": 12,
    "start_time": "2024-10-24T02:14:09.774Z"
   },
   {
    "duration": 544,
    "start_time": "2024-10-24T02:14:09.788Z"
   },
   {
    "duration": 9,
    "start_time": "2024-10-24T02:14:10.334Z"
   },
   {
    "duration": 25,
    "start_time": "2024-10-24T02:14:10.345Z"
   },
   {
    "duration": 278,
    "start_time": "2024-10-24T02:14:10.371Z"
   },
   {
    "duration": 269,
    "start_time": "2024-10-24T02:14:10.651Z"
   },
   {
    "duration": 16,
    "start_time": "2024-10-24T02:14:10.922Z"
   },
   {
    "duration": 9,
    "start_time": "2024-10-24T02:14:10.940Z"
   },
   {
    "duration": 9,
    "start_time": "2024-10-24T02:14:10.971Z"
   },
   {
    "duration": 16,
    "start_time": "2024-10-24T02:17:43.600Z"
   },
   {
    "duration": 16,
    "start_time": "2024-10-24T02:19:39.947Z"
   },
   {
    "duration": 6,
    "start_time": "2024-10-24T02:20:14.071Z"
   },
   {
    "duration": 6,
    "start_time": "2024-10-24T02:22:09.495Z"
   },
   {
    "duration": 5,
    "start_time": "2024-10-24T02:23:30.454Z"
   },
   {
    "duration": 6,
    "start_time": "2024-10-24T02:26:39.174Z"
   },
   {
    "duration": 5,
    "start_time": "2024-10-24T02:27:38.044Z"
   },
   {
    "duration": 6,
    "start_time": "2024-10-24T02:29:36.148Z"
   },
   {
    "duration": 6,
    "start_time": "2024-10-24T02:30:05.528Z"
   },
   {
    "duration": 6,
    "start_time": "2024-10-24T02:30:24.156Z"
   },
   {
    "duration": 16,
    "start_time": "2024-10-24T02:31:12.777Z"
   },
   {
    "duration": 18,
    "start_time": "2024-10-24T02:33:06.453Z"
   },
   {
    "duration": 3,
    "start_time": "2024-10-24T02:33:42.604Z"
   },
   {
    "duration": 161,
    "start_time": "2024-10-24T02:33:42.613Z"
   },
   {
    "duration": 13,
    "start_time": "2024-10-24T02:33:42.777Z"
   },
   {
    "duration": 7,
    "start_time": "2024-10-24T02:33:42.792Z"
   },
   {
    "duration": 5,
    "start_time": "2024-10-24T02:33:42.801Z"
   },
   {
    "duration": 15,
    "start_time": "2024-10-24T02:33:42.808Z"
   },
   {
    "duration": 5,
    "start_time": "2024-10-24T02:33:42.825Z"
   },
   {
    "duration": 11,
    "start_time": "2024-10-24T02:33:42.871Z"
   },
   {
    "duration": 11,
    "start_time": "2024-10-24T02:33:42.883Z"
   },
   {
    "duration": 82,
    "start_time": "2024-10-24T02:33:42.896Z"
   },
   {
    "duration": 25,
    "start_time": "2024-10-24T02:33:42.982Z"
   },
   {
    "duration": 11,
    "start_time": "2024-10-24T02:33:43.009Z"
   },
   {
    "duration": 63,
    "start_time": "2024-10-24T02:33:43.021Z"
   },
   {
    "duration": 23,
    "start_time": "2024-10-24T02:33:43.086Z"
   },
   {
    "duration": 7,
    "start_time": "2024-10-24T02:33:43.111Z"
   },
   {
    "duration": 73,
    "start_time": "2024-10-24T02:33:43.120Z"
   },
   {
    "duration": 29,
    "start_time": "2024-10-24T02:33:43.195Z"
   },
   {
    "duration": 48,
    "start_time": "2024-10-24T02:33:43.226Z"
   },
   {
    "duration": 5,
    "start_time": "2024-10-24T02:33:43.275Z"
   },
   {
    "duration": 13,
    "start_time": "2024-10-24T02:33:43.282Z"
   },
   {
    "duration": 11,
    "start_time": "2024-10-24T02:33:43.297Z"
   },
   {
    "duration": 12,
    "start_time": "2024-10-24T02:33:43.310Z"
   },
   {
    "duration": 46,
    "start_time": "2024-10-24T02:33:43.324Z"
   },
   {
    "duration": 23,
    "start_time": "2024-10-24T02:33:43.372Z"
   },
   {
    "duration": 16,
    "start_time": "2024-10-24T02:33:43.397Z"
   },
   {
    "duration": 7,
    "start_time": "2024-10-24T02:33:43.415Z"
   },
   {
    "duration": 4,
    "start_time": "2024-10-24T02:33:43.424Z"
   },
   {
    "duration": 40,
    "start_time": "2024-10-24T02:33:43.430Z"
   },
   {
    "duration": 3,
    "start_time": "2024-10-24T02:33:43.476Z"
   },
   {
    "duration": 3,
    "start_time": "2024-10-24T02:33:43.481Z"
   },
   {
    "duration": 105,
    "start_time": "2024-10-24T02:33:43.486Z"
   },
   {
    "duration": 4,
    "start_time": "2024-10-24T02:33:43.593Z"
   },
   {
    "duration": 51,
    "start_time": "2024-10-24T02:33:43.598Z"
   },
   {
    "duration": 21,
    "start_time": "2024-10-24T02:33:43.651Z"
   },
   {
    "duration": 196,
    "start_time": "2024-10-24T02:33:43.674Z"
   },
   {
    "duration": 6,
    "start_time": "2024-10-24T02:33:43.872Z"
   },
   {
    "duration": 203,
    "start_time": "2024-10-24T02:33:43.879Z"
   },
   {
    "duration": 7,
    "start_time": "2024-10-24T02:33:44.084Z"
   },
   {
    "duration": 208,
    "start_time": "2024-10-24T02:33:44.092Z"
   },
   {
    "duration": 7,
    "start_time": "2024-10-24T02:33:44.302Z"
   },
   {
    "duration": 15,
    "start_time": "2024-10-24T02:33:44.310Z"
   },
   {
    "duration": 9,
    "start_time": "2024-10-24T02:33:44.327Z"
   },
   {
    "duration": 43,
    "start_time": "2024-10-24T02:33:44.337Z"
   },
   {
    "duration": 567,
    "start_time": "2024-10-24T02:33:44.381Z"
   },
   {
    "duration": 626,
    "start_time": "2024-10-24T02:33:44.950Z"
   },
   {
    "duration": 5,
    "start_time": "2024-10-24T02:33:45.579Z"
   },
   {
    "duration": 602,
    "start_time": "2024-10-24T02:33:45.586Z"
   },
   {
    "duration": 7,
    "start_time": "2024-10-24T02:33:46.190Z"
   },
   {
    "duration": 16,
    "start_time": "2024-10-24T02:33:46.199Z"
   },
   {
    "duration": 576,
    "start_time": "2024-10-24T02:33:46.216Z"
   },
   {
    "duration": 6,
    "start_time": "2024-10-24T02:33:46.794Z"
   },
   {
    "duration": 630,
    "start_time": "2024-10-24T02:33:46.801Z"
   },
   {
    "duration": 11,
    "start_time": "2024-10-24T02:33:47.433Z"
   },
   {
    "duration": 30,
    "start_time": "2024-10-24T02:33:47.445Z"
   },
   {
    "duration": 517,
    "start_time": "2024-10-24T02:33:47.477Z"
   },
   {
    "duration": 9,
    "start_time": "2024-10-24T02:33:47.996Z"
   },
   {
    "duration": 7,
    "start_time": "2024-10-24T02:33:48.007Z"
   },
   {
    "duration": 283,
    "start_time": "2024-10-24T02:33:48.016Z"
   },
   {
    "duration": 233,
    "start_time": "2024-10-24T02:33:48.300Z"
   },
   {
    "duration": 16,
    "start_time": "2024-10-24T02:33:48.535Z"
   },
   {
    "duration": 22,
    "start_time": "2024-10-24T02:33:48.552Z"
   },
   {
    "duration": 8,
    "start_time": "2024-10-24T02:33:48.576Z"
   },
   {
    "duration": 3,
    "start_time": "2024-10-24T02:48:52.580Z"
   }
  ],
  "colab": {
   "provenance": []
  },
  "kernelspec": {
   "display_name": "Python 3 (ipykernel)",
   "language": "python",
   "name": "python3"
  },
  "language_info": {
   "codemirror_mode": {
    "name": "ipython",
    "version": 3
   },
   "file_extension": ".py",
   "mimetype": "text/x-python",
   "name": "python",
   "nbconvert_exporter": "python",
   "pygments_lexer": "ipython3",
   "version": "3.9.19"
  },
  "toc": {
   "base_numbering": 1,
   "nav_menu": {},
   "number_sections": true,
   "sideBar": true,
   "skip_h1_title": false,
   "title_cell": "Table of Contents",
   "title_sidebar": "Contents",
   "toc_cell": false,
   "toc_position": {
    "height": "calc(100% - 180px)",
    "left": "10px",
    "top": "150px",
    "width": "303.542px"
   },
   "toc_section_display": true,
   "toc_window_display": true
  }
 },
 "nbformat": 4,
 "nbformat_minor": 1
}
