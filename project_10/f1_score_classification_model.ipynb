{
 "cells": [
  {
   "cell_type": "markdown",
   "metadata": {},
   "source": [
    "# Descripcion del proyecto\n",
    "\n",
    "Los clientes de Beta Bank se están yendo, cada mes, poco a poco. Los banqueros descubrieron que es más barato salvar a los clientes existentes que atraer nuevos.\n",
    "\n",
    "Necesitamos predecir si un cliente dejará el banco pronto. Tú tienes los datos sobre el comportamiento pasado de los clientes y la terminación de contratos con el banco.\n",
    "\n",
    "Crea un modelo con el máximo valor F1 posible. Para aprobar la revisión, necesitas un valor F1 de al menos 0.59. Verifica F1 para el conjunto de prueba. \n",
    "\n",
    "Además, debes medir la métrica AUC-ROC y compararla con el valor F1."
   ]
  },
  {
   "cell_type": "markdown",
   "metadata": {},
   "source": [
    "# Tabla de contenido\n",
    "1. [Inicializacion](#Inicializacion)\n",
    "2. [Informacion general](#Informacion-general)\n",
    "3. [Segmenta los datos en entrenamiento, validacion y prueba](#Segmetar-los-datos-en-entrenamiento-validacion-y-prueba)\n",
    "\n",
    "   4.1.[Arbol de decision](#Arbol-de-decision)\n",
    "   \n",
    "   4.2.[Bosque aleatorio](#Bosque-aleatorio)\n",
    "   \n",
    "   4.3.[Regresion logistica](#Regresion-logistica)\n",
    "   \n",
    "   \n",
    "5. [Mejora la calidad del modelo](#Mejora-la-calidad-del-modelo)\n",
    "\n",
    "    \n",
    "   5.1.[Aplicacion del sobremuestreo para los modelos](#Aplicacion-del-sobremuestreo-para-los-modelos)\n",
    "    \n",
    "    \n",
    "   5.2.[Arbol de decision](#Arbol-de-decision)\n",
    "   \n",
    "   \n",
    "   5.3.[Bosque aleatorio](#Bosque-aleatorio)\n",
    "   \n",
    "   \n",
    "   5.4.[Regresion logistica](#Regresion-logistica)\n",
    "   \n",
    "    \n",
    "6. [Aplicacion del submuestro para los modelos](#Aplicacion-del-submuestreo-paralos-modelos)\n",
    "    \n",
    "    6.1.[Arbol de decision](#Arbol-de-decision)\n",
    "   \n",
    "   6.2.[Bosque aleatorio](#Bosque-aleatorio)\n",
    "   \n",
    "   6.3.[Regresion logistica](#Regresion-logistica)\n",
    "       \n",
    "7. [Realiza la prueba final](#Realiza-la-prueba-final)\n",
    "\n",
    "    \n",
    "   7.1.[Se realizara la prueba final con el sobremuestreo con los modelos](#Se-realizara-la-prueba-final-con-el-sobremuestreo-con-los-modelos)\n",
    "   \n",
    "   \n",
    "   7.2.[Arbol de decision](#Arbol-de-decision)\n",
    "   \n",
    "   7.3.[Bosque aleatorio](#Bosque-aleatorio)\n",
    "   \n",
    "   7.4.[Regresion logistica](#Regresion-logistica)\n",
    "       \n",
    "8. [Conclusión general](#Conclusión-general)"
   ]
  },
  {
   "cell_type": "markdown",
   "metadata": {},
   "source": [
    "## Inicializacion\n",
    "Abre el archivo de datos y estudia la información general\n"
   ]
  },
  {
   "cell_type": "code",
   "execution_count": 1,
   "metadata": {},
   "outputs": [],
   "source": [
    "# Cargar todas las librerías\n",
    "import pandas as pd \n",
    "import numpy as np\n",
    "from sklearn.model_selection import cross_val_score\n",
    "from sklearn.preprocessing import StandardScaler\n",
    "from sklearn.metrics import confusion_matrix, classification_report, precision_recall_curve\n",
    "import seaborn as sns\n",
    "import matplotlib.pyplot as plt\n",
    "from sklearn.model_selection import train_test_split\n",
    "from sklearn.utils import shuffle\n",
    "from sklearn.model_selection import cross_val_score\n",
    "import numpy as np\n",
    "from sklearn.metrics import f1_score, roc_auc_score\n",
    "from sklearn.ensemble import RandomForestClassifier\n",
    "from sklearn.tree import DecisionTreeClassifier\n",
    "from sklearn.linear_model import LogisticRegression\n"
   ]
  },
  {
   "cell_type": "code",
   "execution_count": 2,
   "metadata": {},
   "outputs": [],
   "source": [
    "df_churn = pd.read_csv('/datasets/Churn.csv',sep=',', header=0)"
   ]
  },
  {
   "cell_type": "markdown",
   "metadata": {},
   "source": [
    "## Informacion general\n",
    "sobre el DataFrame users_behavior"
   ]
  },
  {
   "cell_type": "code",
   "execution_count": 3,
   "metadata": {},
   "outputs": [
    {
     "name": "stdout",
     "output_type": "stream",
     "text": [
      "Primera filas:\n",
      "   RowNumber  CustomerId   Surname  CreditScore Geography  Gender  Age  \\\n",
      "0          1    15634602  Hargrave          619    France  Female   42   \n",
      "1          2    15647311      Hill          608     Spain  Female   41   \n",
      "2          3    15619304      Onio          502    France  Female   42   \n",
      "3          4    15701354      Boni          699    France  Female   39   \n",
      "4          5    15737888  Mitchell          850     Spain  Female   43   \n",
      "\n",
      "   Tenure    Balance  NumOfProducts  HasCrCard  IsActiveMember  \\\n",
      "0     2.0       0.00              1          1               1   \n",
      "1     1.0   83807.86              1          0               1   \n",
      "2     8.0  159660.80              3          1               0   \n",
      "3     1.0       0.00              2          0               0   \n",
      "4     2.0  125510.82              1          1               1   \n",
      "\n",
      "   EstimatedSalary  Exited  \n",
      "0        101348.88       1  \n",
      "1        112542.58       0  \n",
      "2        113931.57       1  \n",
      "3         93826.63       0  \n",
      "4         79084.10       0  \n",
      "\n",
      "Informacion:\n",
      "<class 'pandas.core.frame.DataFrame'>\n",
      "RangeIndex: 10000 entries, 0 to 9999\n",
      "Data columns (total 14 columns):\n",
      " #   Column           Non-Null Count  Dtype  \n",
      "---  ------           --------------  -----  \n",
      " 0   RowNumber        10000 non-null  int64  \n",
      " 1   CustomerId       10000 non-null  int64  \n",
      " 2   Surname          10000 non-null  object \n",
      " 3   CreditScore      10000 non-null  int64  \n",
      " 4   Geography        10000 non-null  object \n",
      " 5   Gender           10000 non-null  object \n",
      " 6   Age              10000 non-null  int64  \n",
      " 7   Tenure           9091 non-null   float64\n",
      " 8   Balance          10000 non-null  float64\n",
      " 9   NumOfProducts    10000 non-null  int64  \n",
      " 10  HasCrCard        10000 non-null  int64  \n",
      " 11  IsActiveMember   10000 non-null  int64  \n",
      " 12  EstimatedSalary  10000 non-null  float64\n",
      " 13  Exited           10000 non-null  int64  \n",
      "dtypes: float64(3), int64(8), object(3)\n",
      "memory usage: 1.1+ MB\n",
      "None\n",
      "\n",
      "El total de valores ausentes es:\n",
      "RowNumber            0\n",
      "CustomerId           0\n",
      "Surname              0\n",
      "CreditScore          0\n",
      "Geography            0\n",
      "Gender               0\n",
      "Age                  0\n",
      "Tenure             909\n",
      "Balance              0\n",
      "NumOfProducts        0\n",
      "HasCrCard            0\n",
      "IsActiveMember       0\n",
      "EstimatedSalary      0\n",
      "Exited               0\n",
      "dtype: int64\n",
      "\n",
      "El total de valores duplicados es:\n",
      "0\n",
      "None\n"
     ]
    }
   ],
   "source": [
    "def first_lookup(datos):\n",
    "    print('Primera filas:')\n",
    "    print(datos.head())\n",
    "    print()\n",
    "    print('Informacion:')\n",
    "    print(datos.info())\n",
    "    print()\n",
    "    print('El total de valores ausentes es:')\n",
    "    print(datos.isna().sum())\n",
    "    print()\n",
    "    print('El total de valores duplicados es:')\n",
    "    print(datos.duplicated().sum())\n",
    "print(first_lookup(df_churn))"
   ]
  },
  {
   "cell_type": "code",
   "execution_count": 4,
   "metadata": {},
   "outputs": [
    {
     "name": "stdout",
     "output_type": "stream",
     "text": [
      "Porcentaje de valores ausentes en 'Tenure': 9.09%\n"
     ]
    }
   ],
   "source": [
    "# Calcular el porcentaje de valores ausentes en la columna 'Tenure'\n",
    "missing_percentage = (df_churn['Tenure'].isna().sum() / len(df_churn)) * 100\n",
    "# Imprimir el resultado\n",
    "print(f\"Porcentaje de valores ausentes en 'Tenure': {missing_percentage:.2f}%\")"
   ]
  },
  {
   "cell_type": "code",
   "execution_count": 5,
   "metadata": {},
   "outputs": [
    {
     "name": "stdout",
     "output_type": "stream",
     "text": [
      "Porcentaje de valores ausentes en 'Tenure' después de la imputación: 0.00%\n"
     ]
    }
   ],
   "source": [
    "# Imputar los valores ausentes en la columna 'Tenure' con la media\n",
    "df_churn['Tenure'].fillna(df_churn['Tenure'].mean(), inplace=True)\n",
    "#Verificar que ya no haya valores ausentes\n",
    "tenure_after_imputation = (df_churn['Tenure'].isna().sum() / len(df_churn)) * 100\n",
    "print(f\"Porcentaje de valores ausentes en 'Tenure' después de la imputación: {tenure_after_imputation:.2f}%\")"
   ]
  },
  {
   "cell_type": "code",
   "execution_count": 6,
   "metadata": {},
   "outputs": [
    {
     "name": "stdout",
     "output_type": "stream",
     "text": [
      "   CreditScore Geography  Gender  Age  Tenure    Balance  NumOfProducts  \\\n",
      "0          619    France  Female   42     2.0       0.00              1   \n",
      "1          608     Spain  Female   41     1.0   83807.86              1   \n",
      "2          502    France  Female   42     8.0  159660.80              3   \n",
      "3          699    France  Female   39     1.0       0.00              2   \n",
      "4          850     Spain  Female   43     2.0  125510.82              1   \n",
      "\n",
      "   HasCrCard  IsActiveMember  EstimatedSalary  Exited  \n",
      "0          1               1        101348.88       1  \n",
      "1          0               1        112542.58       0  \n",
      "2          1               0        113931.57       1  \n",
      "3          0               0         93826.63       0  \n",
      "4          1               1         79084.10       0  \n"
     ]
    }
   ],
   "source": [
    "churn_clean= df_churn.drop(['RowNumber', 'CustomerId', 'Surname'], axis=1)\n",
    "print(churn_clean.head())"
   ]
  },
  {
   "cell_type": "code",
   "execution_count": 7,
   "metadata": {},
   "outputs": [
    {
     "name": "stdout",
     "output_type": "stream",
     "text": [
      "<class 'pandas.core.frame.DataFrame'>\n",
      "RangeIndex: 10000 entries, 0 to 9999\n",
      "Data columns (total 11 columns):\n",
      " #   Column           Non-Null Count  Dtype  \n",
      "---  ------           --------------  -----  \n",
      " 0   CreditScore      10000 non-null  int64  \n",
      " 1   Geography        10000 non-null  object \n",
      " 2   Gender           10000 non-null  object \n",
      " 3   Age              10000 non-null  int64  \n",
      " 4   Tenure           10000 non-null  float64\n",
      " 5   Balance          10000 non-null  float64\n",
      " 6   NumOfProducts    10000 non-null  int64  \n",
      " 7   HasCrCard        10000 non-null  int64  \n",
      " 8   IsActiveMember   10000 non-null  int64  \n",
      " 9   EstimatedSalary  10000 non-null  float64\n",
      " 10  Exited           10000 non-null  int64  \n",
      "dtypes: float64(3), int64(6), object(2)\n",
      "memory usage: 859.5+ KB\n"
     ]
    }
   ],
   "source": [
    "churn_clean.info()"
   ]
  },
  {
   "cell_type": "markdown",
   "metadata": {},
   "source": [
    "RowNumber: índice de cadena de datos,CustomerId: identificador de cliente único ,Surname: apellido estan columnas son eliminadas porque no me ayudar en mi moemnto de predecir cuantos cliente se van a ir o se van quedar, apellido no me sirve ya que cuento con el genero, al igual que identificador del cliente, ni tampoco el indice de cadena de datos, las demas columnas si son relevantes para poder hacer mi analisis escoger el modelo correcto de prediccion"
   ]
  },
  {
   "cell_type": "code",
   "execution_count": 8,
   "metadata": {},
   "outputs": [
    {
     "data": {
      "text/html": [
       "<div>\n",
       "<style scoped>\n",
       "    .dataframe tbody tr th:only-of-type {\n",
       "        vertical-align: middle;\n",
       "    }\n",
       "\n",
       "    .dataframe tbody tr th {\n",
       "        vertical-align: top;\n",
       "    }\n",
       "\n",
       "    .dataframe thead th {\n",
       "        text-align: right;\n",
       "    }\n",
       "</style>\n",
       "<table border=\"1\" class=\"dataframe\">\n",
       "  <thead>\n",
       "    <tr style=\"text-align: right;\">\n",
       "      <th></th>\n",
       "      <th>CreditScore</th>\n",
       "      <th>Age</th>\n",
       "      <th>Tenure</th>\n",
       "      <th>Balance</th>\n",
       "      <th>NumOfProducts</th>\n",
       "      <th>HasCrCard</th>\n",
       "      <th>IsActiveMember</th>\n",
       "      <th>EstimatedSalary</th>\n",
       "      <th>Exited</th>\n",
       "      <th>Geography_Germany</th>\n",
       "      <th>Geography_Spain</th>\n",
       "      <th>Gender_Male</th>\n",
       "    </tr>\n",
       "  </thead>\n",
       "  <tbody>\n",
       "    <tr>\n",
       "      <th>0</th>\n",
       "      <td>619</td>\n",
       "      <td>42</td>\n",
       "      <td>2.0</td>\n",
       "      <td>0.00</td>\n",
       "      <td>1</td>\n",
       "      <td>1</td>\n",
       "      <td>1</td>\n",
       "      <td>101348.88</td>\n",
       "      <td>1</td>\n",
       "      <td>0</td>\n",
       "      <td>0</td>\n",
       "      <td>0</td>\n",
       "    </tr>\n",
       "    <tr>\n",
       "      <th>1</th>\n",
       "      <td>608</td>\n",
       "      <td>41</td>\n",
       "      <td>1.0</td>\n",
       "      <td>83807.86</td>\n",
       "      <td>1</td>\n",
       "      <td>0</td>\n",
       "      <td>1</td>\n",
       "      <td>112542.58</td>\n",
       "      <td>0</td>\n",
       "      <td>0</td>\n",
       "      <td>1</td>\n",
       "      <td>0</td>\n",
       "    </tr>\n",
       "    <tr>\n",
       "      <th>2</th>\n",
       "      <td>502</td>\n",
       "      <td>42</td>\n",
       "      <td>8.0</td>\n",
       "      <td>159660.80</td>\n",
       "      <td>3</td>\n",
       "      <td>1</td>\n",
       "      <td>0</td>\n",
       "      <td>113931.57</td>\n",
       "      <td>1</td>\n",
       "      <td>0</td>\n",
       "      <td>0</td>\n",
       "      <td>0</td>\n",
       "    </tr>\n",
       "    <tr>\n",
       "      <th>3</th>\n",
       "      <td>699</td>\n",
       "      <td>39</td>\n",
       "      <td>1.0</td>\n",
       "      <td>0.00</td>\n",
       "      <td>2</td>\n",
       "      <td>0</td>\n",
       "      <td>0</td>\n",
       "      <td>93826.63</td>\n",
       "      <td>0</td>\n",
       "      <td>0</td>\n",
       "      <td>0</td>\n",
       "      <td>0</td>\n",
       "    </tr>\n",
       "    <tr>\n",
       "      <th>4</th>\n",
       "      <td>850</td>\n",
       "      <td>43</td>\n",
       "      <td>2.0</td>\n",
       "      <td>125510.82</td>\n",
       "      <td>1</td>\n",
       "      <td>1</td>\n",
       "      <td>1</td>\n",
       "      <td>79084.10</td>\n",
       "      <td>0</td>\n",
       "      <td>0</td>\n",
       "      <td>1</td>\n",
       "      <td>0</td>\n",
       "    </tr>\n",
       "  </tbody>\n",
       "</table>\n",
       "</div>"
      ],
      "text/plain": [
       "   CreditScore  Age  Tenure    Balance  NumOfProducts  HasCrCard  \\\n",
       "0          619   42     2.0       0.00              1          1   \n",
       "1          608   41     1.0   83807.86              1          0   \n",
       "2          502   42     8.0  159660.80              3          1   \n",
       "3          699   39     1.0       0.00              2          0   \n",
       "4          850   43     2.0  125510.82              1          1   \n",
       "\n",
       "   IsActiveMember  EstimatedSalary  Exited  Geography_Germany  \\\n",
       "0               1        101348.88       1                  0   \n",
       "1               1        112542.58       0                  0   \n",
       "2               0        113931.57       1                  0   \n",
       "3               0         93826.63       0                  0   \n",
       "4               1         79084.10       0                  0   \n",
       "\n",
       "   Geography_Spain  Gender_Male  \n",
       "0                0            0  \n",
       "1                1            0  \n",
       "2                0            0  \n",
       "3                0            0  \n",
       "4                1            0  "
      ]
     },
     "execution_count": 8,
     "metadata": {},
     "output_type": "execute_result"
    }
   ],
   "source": [
    "churn_clean = pd.get_dummies(churn_clean, drop_first=True, columns=['Geography', 'Gender'])\n",
    "churn_clean.head()"
   ]
  },
  {
   "cell_type": "code",
   "execution_count": 9,
   "metadata": {},
   "outputs": [
    {
     "name": "stdout",
     "output_type": "stream",
     "text": [
      "<class 'pandas.core.series.Series'>\n"
     ]
    }
   ],
   "source": [
    "#Preparar las caracteristicas y el objetivo\n",
    "features = churn_clean.drop(['Exited'], axis=1)\n",
    "target = churn_clean['Exited']\n",
    "print(type(target))"
   ]
  },
  {
   "cell_type": "markdown",
   "metadata": {},
   "source": [
    "##  Segmenta los datos en entrenamiento, validacion y prueba."
   ]
  },
  {
   "cell_type": "code",
   "execution_count": 10,
   "metadata": {},
   "outputs": [],
   "source": [
    "# Dividir los datos en conjuntos de entrenamiento (60%), validación (20%) y prueba (20%)\n",
    "features_train, features_temp, target_train, target_temp =train_test_split(features, target, test_size= 0.4, random_state=12345) # 40% para validación y prueba)\n",
    "features_valid, features_test, target_valid, target_test= train_test_split(features_temp, target_temp, test_size=0.5, random_state=12345 )# Divide el 40% en validación y prueba\n"
   ]
  },
  {
   "cell_type": "code",
   "execution_count": 11,
   "metadata": {},
   "outputs": [
    {
     "name": "stdout",
     "output_type": "stream",
     "text": [
      "(6000, 11)\n",
      "(6000,)\n",
      "(2000, 11)\n",
      "(2000,)\n",
      "(2000, 11)\n",
      "(2000,)\n"
     ]
    }
   ],
   "source": [
    "print(features_train.shape)\n",
    "print(target_train.shape)\n",
    "print(features_valid.shape)\n",
    "print(target_valid.shape)\n",
    "print(features_test.shape)\n",
    "print(target_test.shape)"
   ]
  },
  {
   "cell_type": "code",
   "execution_count": 12,
   "metadata": {},
   "outputs": [],
   "source": [
    "numeric = ['CreditScore', 'Age', 'Tenure', 'Balance', 'NumOfProducts', 'HasCrCard', 'IsActiveMember', 'EstimatedSalary']"
   ]
  },
  {
   "cell_type": "code",
   "execution_count": 13,
   "metadata": {},
   "outputs": [],
   "source": [
    "# Guardar los nombres de las columnas antes de la estandarización\n",
    "column_names = numeric"
   ]
  },
  {
   "cell_type": "code",
   "execution_count": 14,
   "metadata": {},
   "outputs": [
    {
     "name": "stdout",
     "output_type": "stream",
     "text": [
      "[[-0.88675067 -0.37319167  1.08235388 ...  0.64246552 -1.05518729\n",
      "  -0.18770538]\n",
      " [ 0.60866264 -0.18338494  1.08235388 ... -1.55650375 -1.05518729\n",
      "  -0.33394547]\n",
      " [ 2.05215189  0.48093862 -0.73761762 ... -1.55650375  0.94769906\n",
      "   1.50309521]\n",
      " ...\n",
      " [ 0.02711302  0.57584199 -0.01046984 ... -1.55650375  0.94769906\n",
      "  -0.90315791]\n",
      " [ 0.1517308  -1.41712869 -0.37362332 ... -1.55650375  0.94769906\n",
      "  -1.12853893]\n",
      " [ 0.40096635 -0.08848157 -1.46560622 ... -1.55650375 -1.05518729\n",
      "  -0.9498415 ]]\n",
      "[[-0.64373967 -0.36630504 -1.02426456 ...  0.64764683 -0.99501244\n",
      "  -0.0432994 ]\n",
      " [-0.22910255  0.56790827 -0.6641527  ...  0.64764683  1.00501256\n",
      "   1.43924509]\n",
      " [ 0.20626642 -0.64656903 -1.74448828 ...  0.64764683 -0.99501244\n",
      "  -1.39127552]\n",
      " ...\n",
      " [-1.30715905  0.00738029  0.41618287 ... -1.54405141  1.00501256\n",
      "  -1.27360081]\n",
      " [ 1.12883399  2.62317754 -0.30404085 ...  0.64764683  1.00501256\n",
      "  -0.13895192]\n",
      " [-0.38459147  0.94159359  0.41618287 ...  0.64764683 -0.99501244\n",
      "   1.6350627 ]]\n",
      "[[-2.15234333 -0.08811547 -1.104489   ...  0.65543311 -0.99501244\n",
      "   0.63911456]\n",
      " [-0.04476056  0.01077956  1.41816828 ...  0.65543311 -0.99501244\n",
      "  -1.7223122 ]\n",
      " [-0.8632393  -0.78038067 -0.02335017 ...  0.65543311  1.00501256\n",
      "  -1.42622326]\n",
      " ...\n",
      " [ 0.03708732 -0.1870105  -0.38372978 ...  0.65543311 -0.99501244\n",
      "   0.75501743]\n",
      " [-0.41307599  0.60414973 -0.38372978 ... -1.52570869 -0.99501244\n",
      "  -1.13768716]\n",
      " [-0.08568449  3.47210556 -1.104489   ...  0.65543311  1.00501256\n",
      "  -1.18322474]]\n"
     ]
    }
   ],
   "source": [
    "## Estandarizar las caracteristicas numericas\n",
    "scaler = StandardScaler()\n",
    "features_train = scaler.fit_transform(features_train[numeric]) \n",
    "features_valid = scaler.fit_transform(features_valid[numeric])\n",
    "features_test = scaler.fit_transform(features_test[numeric])\n",
    "print(features_train)\n",
    "print(features_valid)\n",
    "print(features_test)\n"
   ]
  },
  {
   "cell_type": "code",
   "execution_count": 15,
   "metadata": {
    "scrolled": true
   },
   "outputs": [
    {
     "name": "stdout",
     "output_type": "stream",
     "text": [
      "Class distribution\n",
      "0    0.7963\n",
      "1    0.2037\n",
      "Name: Exited, dtype: float64\n"
     ]
    }
   ],
   "source": [
    "# Verificar el equilibrio de clases\n",
    "class_distribution = target.value_counts(normalize=True)\n",
    "print('Class distribution')\n",
    "print(class_distribution)"
   ]
  },
  {
   "cell_type": "markdown",
   "metadata": {},
   "source": [
    "## Entrena el modelo sin tener en cuenta el desequilibrio. Describe brevemente tus hallazgos\n",
    "a) Arbol de decision\n",
    "b) Bosque aleatorio\n",
    "c) Regresion logistica"
   ]
  },
  {
   "cell_type": "markdown",
   "metadata": {},
   "source": [
    "### Modelo Arbol de decision"
   ]
  },
  {
   "cell_type": "code",
   "execution_count": 16,
   "metadata": {},
   "outputs": [
    {
     "name": "stdout",
     "output_type": "stream",
     "text": [
      "Arbol de decision-entranamiento-F1: 0.5612767238783499\n",
      "Arbol de decision-validacion-F1: 0.5637823371989295\n",
      "Arbol de decision-entrenamiento-AUC-ROC: 0.7654647464905222\n",
      "Arbol de decision-validacion-AUC-ROC: 0.7556769034412257\n"
     ]
    }
   ],
   "source": [
    "## Crear y entrenar el modelo de Arbol de decision\n",
    "dt_model = DecisionTreeClassifier(max_depth=7, min_samples_split=0.05, random_state=12345, class_weight='balanced')\n",
    "dt_model.fit(features_train, target_train)\n",
    "## Hacer predicciones en el conjunto de entraniento y de  validacion\n",
    "predictions_valid_tree = dt_model.predict(features_valid)\n",
    "predictions_train_tree = dt_model.predict(features_train)\n",
    "#Calcular metricas de F1 y AUC-ROC\n",
    "f1_valid_tree = f1_score(target_valid, predictions_valid_tree)\n",
    "f1_train_tree = f1_score(target_train, predictions_train_tree)\n",
    "auc_roc_valid_tree = roc_auc_score(target_valid, predictions_valid_tree)\n",
    "auc_roc_train_tree = roc_auc_score(target_train, predictions_train_tree)\n",
    "print('Arbol de decision-entranamiento-F1:', f1_train_tree)\n",
    "print('Arbol de decision-validacion-F1:', f1_valid_tree)\n",
    "print('Arbol de decision-entrenamiento-AUC-ROC:', auc_roc_train_tree)\n",
    "print('Arbol de decision-validacion-AUC-ROC:', auc_roc_valid_tree)"
   ]
  },
  {
   "cell_type": "markdown",
   "metadata": {},
   "source": [
    "a ) El valor de f1 para entrenamiento no llega al objetivo indicado lo que nos dice que el modelo tiene dificultades para identificar correctamente los clientes que abandonanm aunque entre F1 score de entrenamiento y validacion no hay diferencia que nos indique un subajuste ni sobreajuste\n",
    "b) El valor de AUC-ROC nos indica que el modelo tiene una buena capacidad de discriminar datos no vistos"
   ]
  },
  {
   "cell_type": "markdown",
   "metadata": {},
   "source": [
    "### Modelo Bosque aletorio"
   ]
  },
  {
   "cell_type": "code",
   "execution_count": 17,
   "metadata": {},
   "outputs": [
    {
     "name": "stdout",
     "output_type": "stream",
     "text": [
      "Bosque aleatorio-train-F1: 0.5987438939288207\n",
      "Bosque aleatorio-valid-F1: 0.6020408163265307\n",
      "Bosque aleatorio-train-AUC-ROC: 0.7741827462621729\n",
      "Bosque aleatorio-valid-AUC-ROC: 0.768483961311162\n"
     ]
    }
   ],
   "source": [
    "## Crear y entrenar el modelo de Random Forest\n",
    "rf_model= RandomForestClassifier(n_estimators=100, max_depth=6, random_state=12345, class_weight='balanced')\n",
    "rf_model.fit(features_train, target_train)\n",
    "## Hacer predicciones en el conjunto de entrenamiento y  validacion\n",
    "predictions_train_rf = rf_model.predict(features_train)\n",
    "predictions_valid_rf = rf_model.predict(features_valid)\n",
    "#Calcular metricas de F1 y AUC-ROC\n",
    "f1_train_rf = f1_score(target_train, predictions_train_rf)\n",
    "f1_valid_rf = f1_score(target_valid, predictions_valid_rf)\n",
    "auc_roc_train_rf = roc_auc_score(target_train, predictions_train_rf)\n",
    "auc_roc_valid_rf = roc_auc_score(target_valid, predictions_valid_rf)\n",
    "print('Bosque aleatorio-train-F1:', f1_train_rf)\n",
    "print('Bosque aleatorio-valid-F1:', f1_valid_rf)\n",
    "print('Bosque aleatorio-train-AUC-ROC:', auc_roc_train_rf)\n",
    "print('Bosque aleatorio-valid-AUC-ROC:', auc_roc_valid_rf)"
   ]
  },
  {
   "cell_type": "markdown",
   "metadata": {},
   "source": [
    "a) Los valores de F1 score entre entrenamiento y validacion llegaron el objetivo no se nota subajuste ni sobreajuste, el modelo nos indica que tiene buena capacidad para generalizar datos no visto \n",
    "b) El valor de AUC_ROC pra entrenamiento y validacion nos indica que el modelo es efectivo para la clasificacion incluso para datos no visto \n",
    "c) El desequilibrio de clases nos indica que el modelo esta sesgado hacia la clase mayoritaria esto nos lleva a un rendimiento no optimo para la identificacion de la clase minoritaria"
   ]
  },
  {
   "cell_type": "markdown",
   "metadata": {},
   "source": [
    "### Modelo Regresion logisitca"
   ]
  },
  {
   "cell_type": "code",
   "execution_count": 18,
   "metadata": {},
   "outputs": [
    {
     "name": "stdout",
     "output_type": "stream",
     "text": [
      "Regresion logistica-train-F1: 0.47624499141385235\n",
      "Regresion logistica-valid-F1: 0.4793103448275862\n",
      "Regresion logistica-train-AUC-ROC: 0.6952449046084784\n",
      "Regresion logistica-valid-AUC-ROC: 0.6858860748008396\n"
     ]
    }
   ],
   "source": [
    "## Crear y entrenar el modelo de Regresion Logistica\n",
    "logistic_model = LogisticRegression(solver='liblinear', random_state=12345, class_weight='balanced')\n",
    "#Entrenar el modelo\n",
    "logistic_model.fit(features_train, target_train)\n",
    "## Hacer predicciones en el conjunto de entrenamiento y  validacion\n",
    "predictions_train_lm = logistic_model.predict(features_train)\n",
    "predictions_valid_lm = logistic_model.predict(features_valid)\n",
    "#Calcular metricas de F1 y AUC-ROC\n",
    "f1_train_lm = f1_score(target_train, predictions_train_lm)\n",
    "f1_valid_lm = f1_score(target_valid, predictions_valid_lm)\n",
    "auc_roc_train_lm = roc_auc_score(target_train, predictions_train_lm)\n",
    "auc_roc_valid_lm = roc_auc_score(target_valid, predictions_valid_lm)\n",
    "print('Regresion logistica-train-F1:', f1_train_lm)\n",
    "print('Regresion logistica-valid-F1:', f1_valid_lm)\n",
    "print('Regresion logistica-train-AUC-ROC:', auc_roc_train_lm)\n",
    "print('Regresion logistica-valid-AUC-ROC:', auc_roc_valid_lm)\n"
   ]
  },
  {
   "cell_type": "markdown",
   "metadata": {},
   "source": [
    "a) El valor de F1 tanto para entrenamiento y validacion son demasiado bajos y no llegan al objetivo deseado  el modelo tiene difilcutades para generalizar datos no vistos  y no es efectivo  para la identificacion de clientes en riesgo de abandono\n",
    "b) Los valores de AUC-ROC para el conjunto de entrenamiento y validacion nos indican que el modelo tiene una capacidad limitada para discriminar correctamente entre las clases cuando se enfrenta a datos no vistos."
   ]
  },
  {
   "cell_type": "markdown",
   "metadata": {},
   "source": [
    "## Mejora la calidad del modelo. Asegúrate de utilizar al menos dos enfoques para corregir el desequilibrio de clases. Utiliza conjuntos de entrenamiento y validación para encontrar el mejor modelo y el mejor conjunto de parámetros. Entrena diferentes modelos en los conjuntos de entrenamiento y validación. Encuentra el mejor. Describe brevemente tus hallazgos."
   ]
  },
  {
   "cell_type": "markdown",
   "metadata": {},
   "source": [
    "### Aplicacion del sobremuestreo para los modelos de Regresion logistica, Bosque aleatorio y Arbol de decision"
   ]
  },
  {
   "cell_type": "code",
   "execution_count": 19,
   "metadata": {},
   "outputs": [
    {
     "name": "stdout",
     "output_type": "stream",
     "text": [
      "Tipo de features_train: <class 'numpy.ndarray'>\n",
      "Tipo de target_train: <class 'pandas.core.series.Series'>\n"
     ]
    }
   ],
   "source": [
    "# Verificar tipos antes del sobremuestreo\n",
    "print(\"Tipo de features_train:\", type(features_train))  # Debe ser un DataFrame\n",
    "print(\"Tipo de target_train:\", type(target_train))      # Debe ser una Series"
   ]
  },
  {
   "cell_type": "code",
   "execution_count": 20,
   "metadata": {},
   "outputs": [
    {
     "name": "stdout",
     "output_type": "stream",
     "text": [
      "Tipo de features_train despues de la conversion: <class 'pandas.core.frame.DataFrame'>\n",
      "Tipo de features_valid después de la conversion: <class 'pandas.core.frame.DataFrame'>\n"
     ]
    }
   ],
   "source": [
    "# Convertir features_train a DataFrame y mantener los nombres de las columnas\n",
    "features_train = pd.DataFrame(features_train, columns=column_names)\n",
    "features_valid = pd.DataFrame(features_valid, columns=column_names)\n",
    "# Verificar tipos despues de la conversion\n",
    "print(\"Tipo de features_train despues de la conversion:\", type(features_train))  # Ahora debe ser un DataFrame\n",
    "# Verificar tipos despues de la conversion\n",
    "print(\"Tipo de features_valid después de la conversion:\", type(features_valid))  # Ahora debe ser un DataFrame"
   ]
  },
  {
   "cell_type": "code",
   "execution_count": 21,
   "metadata": {},
   "outputs": [],
   "source": [
    "# Reiniciar índices para asegurar alineación\n",
    "features_train.reset_index(drop=True, inplace=True)\n",
    "target_train.reset_index(drop=True, inplace=True)\n"
   ]
  },
  {
   "cell_type": "code",
   "execution_count": 22,
   "metadata": {},
   "outputs": [],
   "source": [
    "def upsample(features, target, repeat):\n",
    "    # Separar las caracteristicas y el objetivo en clases\n",
    "    features_zeros = features[target == 0]\n",
    "    features_ones = features[target == 1]\n",
    "    target_zeros = target[target == 0]\n",
    "    target_ones = target[target ==1]\n",
    "    # Crear un nuevo conjunto con mas ejemplos de clase minorittaria\n",
    "    features_upsampled = pd.concat([features_zeros] + [features_ones] * repeat)\n",
    "    target_upsampled = pd.concat([target_zeros] + [target_ones] *repeat)\n",
    "    #Barajear los datos para mezclar las clases\n",
    "    features_upsampled, target_upsampled = shuffle(features_upsampled, target_upsampled, random_state=12345)\n",
    "    return features_upsampled, target_upsampled\n"
   ]
  },
  {
   "cell_type": "code",
   "execution_count": 23,
   "metadata": {},
   "outputs": [],
   "source": [
    "# Aplicar sobremuestreo de los datos de entrenamiento\n",
    "features_upsampled, target_upsampled = upsample(features_train, target_train, repeat=10)"
   ]
  },
  {
   "cell_type": "markdown",
   "metadata": {},
   "source": [
    "### Arbol de decision"
   ]
  },
  {
   "cell_type": "code",
   "execution_count": 24,
   "metadata": {
    "scrolled": true
   },
   "outputs": [
    {
     "name": "stdout",
     "output_type": "stream",
     "text": [
      "Arbol de Decision-train- max_depth: 2 - F1 Score: 0.75\n",
      "Arbol de Decision-valid- max_depth: 2 - F1 Score: 0.54\n",
      "Arbol de Decision-train- max_depth: 3 - F1 Score: 0.75\n",
      "Arbol de Decision-valid- max_depth: 3 - F1 Score: 0.54\n",
      "Arbol de Decision-train- max_depth: 4 - F1 Score: 0.82\n",
      "Arbol de Decision-valid- max_depth: 4 - F1 Score: 0.53\n",
      "Arbol de Decision-train- max_depth: 5 - F1 Score: 0.78\n",
      "Arbol de Decision-valid- max_depth: 5 - F1 Score: 0.59\n",
      "Mejor profundidad encontrada: 5\n",
      "Mejor F1 Score: 0.591880341880342\n"
     ]
    }
   ],
   "source": [
    "# Inicializar variables para almacenar los mejores resultados\n",
    "best_f1_score = 0\n",
    "best_depth = 0 \n",
    "for depth in range(2, 6):\n",
    "    dtree_model = DecisionTreeClassifier(random_state=12345, min_samples_split=10, min_samples_leaf=5, max_depth=depth, class_weight='balanced')\n",
    "    dtree_model.fit(features_upsampled, target_upsampled)\n",
    "    # Hacer predicciones en el conjunto de entrenamiento y de  validacion\n",
    "    predictions_train_dtree = dtree_model.predict(features_upsampled)\n",
    "    predictions_valid_dtree = dtree_model.predict(features_valid)\n",
    "    # Calcular las metricas de F1 y AUC-ROC\n",
    "    f1_train_dtree = f1_score(target_upsampled, predictions_train_dtree)\n",
    "    f1_valid_dtree = f1_score(target_valid, predictions_valid_dtree)\n",
    "    print(f\"Arbol de Decision-train- max_depth: {depth} - F1 Score: {f1_train_dtree:.2f}\")\n",
    "    print(f\"Arbol de Decision-valid- max_depth: {depth} - F1 Score: {f1_valid_dtree:.2f}\")\n",
    "    # Actualizar los mejores parametros si se encuentra una mejor puntuacion F1\n",
    "    if f1_valid_dtree > best_f1_score:\n",
    "        best_f1_score = f1_valid_dtree\n",
    "        best_depth = depth\n",
    "    # Imprimir los mejores parámetros encontrados y la mejor puntuación F1\n",
    "print('Mejor profundidad encontrada:', best_depth)\n",
    "print('Mejor F1 Score:', best_f1_score)\n"
   ]
  },
  {
   "cell_type": "code",
   "execution_count": 25,
   "metadata": {},
   "outputs": [
    {
     "name": "stdout",
     "output_type": "stream",
     "text": [
      "Arbol de Decisión-train- AUC-ROC: 0.849037887184314\n",
      "Arbol de Decisión-valid- AUC-ROC: 0.8241551182864644\n",
      "Mejor umbral: 0.6647601476014764\n",
      "F1 Score ajustado (entrenamiento): 0.7637629295553704\n",
      "F1 Score ajustado (validación): 0.6034285714285715\n",
      "AUC-ROC con umbral ajustado (entrenamiento): 0.7581210195517114\n",
      "AUC-ROC con umbral ajustado (validación): 0.7547907379067137\n"
     ]
    }
   ],
   "source": [
    "# Evaluar AUC-ROC para el Árbol de Decisión usando probabilidades\n",
    "probabilities_train = dtree_model.predict_proba(features_upsampled)[:, 1]\n",
    "probabilities_valid = dtree_model.predict_proba(features_valid)[:, 1]\n",
    "\n",
    "auc_roc_train_dtree = roc_auc_score(target_upsampled, probabilities_train)\n",
    "auc_roc_valid_dtree = roc_auc_score(target_valid, probabilities_valid)\n",
    "\n",
    "print('Arbol de Decisión-train- AUC-ROC:', auc_roc_train_dtree)\n",
    "print('Arbol de Decisión-valid- AUC-ROC:', auc_roc_valid_dtree)\n",
    "\n",
    "# Ajuste del umbral \n",
    "precision, recall, thresholds = precision_recall_curve(target_valid, probabilities_valid)\n",
    "\n",
    "# Calcular F1 Score para cada umbral\n",
    "f1_scores = 2 * (precision * recall) / (precision + recall)\n",
    "\n",
    "# Encontrar el umbral que da el mejor F1 Score\n",
    "best_threshold_index = np.argmax(f1_scores)\n",
    "best_threshold = thresholds[best_threshold_index]\n",
    "print(\"Mejor umbral:\", best_threshold)\n",
    "\n",
    "# Hacer predicciones con el nuevo umbral ajustado\n",
    "predictions_adjusted_train = (probabilities_train >= best_threshold).astype(int)\n",
    "predictions_adjusted_valid = (probabilities_valid >= best_threshold).astype(int)\n",
    "\n",
    "# Calcular el nuevo F1 Score ajustado para entrenamiento y validación\n",
    "f1_adjusted_train = f1_score(target_upsampled, predictions_adjusted_train)\n",
    "f1_adjusted_valid = f1_score(target_valid, predictions_adjusted_valid)\n",
    "\n",
    "print(\"F1 Score ajustado (entrenamiento):\", f1_adjusted_train)\n",
    "print(\"F1 Score ajustado (validación):\", f1_adjusted_valid)\n",
    "\n",
    "# Evaluar AUC-ROC con el nuevo umbral ajustado para validación y entrenamiento usando probabilidades\n",
    "auc_roc_adjusted_train = roc_auc_score(target_upsampled, predictions_adjusted_train)\n",
    "auc_roc_adjusted_valid = roc_auc_score(target_valid, predictions_adjusted_valid)\n",
    "\n",
    "print('AUC-ROC con umbral ajustado (entrenamiento):', auc_roc_adjusted_train)\n",
    "print('AUC-ROC con umbral ajustado (validación):', auc_roc_adjusted_valid)"
   ]
  },
  {
   "cell_type": "markdown",
   "metadata": {},
   "source": [
    " a) El valor de F1 de 0.4911 un valor alejado al objetivo del proyecto de llegar a un F1 de 0.59 nos indican que el modelo no esta capturando bien la relaciones de los datos puede indicar sobreajuste o subajuste y en comparacion con el valor de f1 de arbol de decision con desequilibrios de clases\n",
    "b) El valor de AUC-ROC : 0.6760 con un valor menor en comparacion el arbol de decision con desequilibrio de clase, esta lejos de ser optimo"
   ]
  },
  {
   "cell_type": "markdown",
   "metadata": {},
   "source": [
    "### Bosque Aleatorio"
   ]
  },
  {
   "cell_type": "code",
   "execution_count": 26,
   "metadata": {
    "scrolled": false
   },
   "outputs": [
    {
     "name": "stdout",
     "output_type": "stream",
     "text": [
      "Random Forest-train- n_estimators: 10, max_depth: 3 - F1 Score: 0.75\n",
      "Random Forest-valid- n_estimators: 10, max_depth: 3 - F1 Score: 0.56\n",
      "Random Forest-train- n_estimators: 10, max_depth: 4 - F1 Score: 0.76\n",
      "Random Forest-valid- n_estimators: 10, max_depth: 4 - F1 Score: 0.58\n",
      "Random Forest-train- n_estimators: 20, max_depth: 3 - F1 Score: 0.76\n",
      "Random Forest-valid- n_estimators: 20, max_depth: 3 - F1 Score: 0.57\n",
      "Random Forest-train- n_estimators: 20, max_depth: 4 - F1 Score: 0.78\n",
      "Random Forest-valid- n_estimators: 20, max_depth: 4 - F1 Score: 0.59\n",
      "Random Forest-train- n_estimators: 30, max_depth: 3 - F1 Score: 0.75\n",
      "Random Forest-valid- n_estimators: 30, max_depth: 3 - F1 Score: 0.58\n",
      "Random Forest-train- n_estimators: 30, max_depth: 4 - F1 Score: 0.78\n",
      "Random Forest-valid- n_estimators: 30, max_depth: 4 - F1 Score: 0.59\n",
      "Random Forest-train- n_estimators: 40, max_depth: 3 - F1 Score: 0.76\n",
      "Random Forest-valid- n_estimators: 40, max_depth: 3 - F1 Score: 0.58\n",
      "Random Forest-train- n_estimators: 40, max_depth: 4 - F1 Score: 0.78\n",
      "Random Forest-valid- n_estimators: 40, max_depth: 4 - F1 Score: 0.59\n",
      "Random Forest-train- n_estimators: 50, max_depth: 3 - F1 Score: 0.76\n",
      "Random Forest-valid- n_estimators: 50, max_depth: 3 - F1 Score: 0.58\n",
      "Random Forest-train- n_estimators: 50, max_depth: 4 - F1 Score: 0.78\n",
      "Random Forest-valid- n_estimators: 50, max_depth: 4 - F1 Score: 0.59\n",
      "Random Forest-train- n_estimators: 60, max_depth: 3 - F1 Score: 0.76\n",
      "Random Forest-valid- n_estimators: 60, max_depth: 3 - F1 Score: 0.59\n",
      "Random Forest-train- n_estimators: 60, max_depth: 4 - F1 Score: 0.79\n",
      "Random Forest-valid- n_estimators: 60, max_depth: 4 - F1 Score: 0.59\n",
      "Mejores parametros encontrados:\n",
      "{'n_estimators': 50, 'max_depth': 4}\n",
      "Mejor F1 Score: 0.5918367346938775\n"
     ]
    }
   ],
   "source": [
    "# Inicializar variables para almacenar los mejores parametros y la mejor puntuacion F1\n",
    "best_f1_score = 0\n",
    "best_params = {}\n",
    "\n",
    "# Probar diferentes combinaciones de hiperparametros\n",
    "for est in range(10, 61, 10):  \n",
    "    for depth in range(3, 5):       \n",
    "        random_forest = RandomForestClassifier(n_estimators=est, min_samples_split=10, min_samples_leaf=5, max_depth=depth, random_state=12345, class_weight='balanced')\n",
    "        \n",
    "        # Entrenar el modelo con los datos submuestreados\n",
    "        random_forest.fit(features_upsampled, target_upsampled)\n",
    "        \n",
    "        # Realizar predicciones con el conjunto de entrenamiento y validacion\n",
    "        predictions_train_randomforest = random_forest.predict(features_upsampled)\n",
    "        predictions_valid_randomforest = random_forest.predict(features_valid)\n",
    "        \n",
    "        # Calcular el valor F1 del modelo\n",
    "        f1_train_random_forest = f1_score(target_upsampled, predictions_train_randomforest)\n",
    "        f1_valid_random_forest = f1_score(target_valid, predictions_valid_randomforest)\n",
    "        \n",
    "        print(f\"Random Forest-train- n_estimators: {est}, max_depth: {depth} - F1 Score: {f1_train_random_forest:.2f}\")\n",
    "        print(f\"Random Forest-valid- n_estimators: {est}, max_depth: {depth} - F1 Score: {f1_valid_random_forest:.2f}\")\n",
    "        # Actualizar los mejores parametros si se encuentra una mejor puntuacion F1\n",
    "        if f1_valid_random_forest > best_f1_score:\n",
    "            best_f1_score = f1_valid_random_forest\n",
    "            best_params = {'n_estimators': est, 'max_depth': depth}\n",
    "\n",
    "# Imprimir los mejores parametros encontrados y la mejor puntuacion F1\n",
    "print('Mejores parametros encontrados:')\n",
    "print(best_params)\n",
    "print('Mejor F1 Score:', best_f1_score)\n"
   ]
  },
  {
   "cell_type": "code",
   "execution_count": 27,
   "metadata": {
    "scrolled": true
   },
   "outputs": [
    {
     "name": "stdout",
     "output_type": "stream",
     "text": [
      "Bosque aleatorio - AUC-ROC (entrenamiento): 0.8475879040320358\n",
      "Bosque aleatorio - AUC-ROC (validación): 0.8343324118824818\n",
      "Mejor umbral: 0.5805869975613694\n",
      "F1 Score ajustado (entrenamiento): 0.7169752927219271\n",
      "F1 Score ajustado (validación): 0.617283950617284\n",
      "AUC-ROC con umbral ajustado (entrenamiento): 0.740905711238405\n",
      "AUC-ROC con umbral ajustado (validación): 0.7541631633387573\n"
     ]
    }
   ],
   "source": [
    "probabilities_train = random_forest.predict_proba(features_upsampled)[:, 1]\n",
    "probabilities_valid = random_forest.predict_proba(features_valid)[:, 1]\n",
    "\n",
    "auc_roc_train_randomforest = roc_auc_score(target_upsampled, probabilities_train)\n",
    "auc_roc_valid_randomforest = roc_auc_score(target_valid, probabilities_valid)\n",
    "\n",
    "print('Bosque aleatorio - AUC-ROC (entrenamiento):', auc_roc_train_randomforest)\n",
    "print('Bosque aleatorio - AUC-ROC (validación):', auc_roc_valid_randomforest)\n",
    "\n",
    "# Ajuste del umbral \n",
    "precision, recall, thresholds = precision_recall_curve(target_valid, probabilities_valid)\n",
    "\n",
    "# Calcular F1 Score para cada umbral\n",
    "f1_scores = 2 * (precision * recall) / (precision + recall)\n",
    "\n",
    "# Encontrar el umbral que da el mejor F1 Score\n",
    "best_threshold_index = np.argmax(f1_scores)\n",
    "best_threshold = thresholds[best_threshold_index]\n",
    "print(\"Mejor umbral:\", best_threshold)\n",
    "\n",
    "# Hacer predicciones con el nuevo umbral ajustado\n",
    "predictions_adjusted_train = (probabilities_train >= best_threshold).astype(int)\n",
    "predictions_adjusted_valid = (probabilities_valid >= best_threshold).astype(int)\n",
    "\n",
    "# Calcular el nuevo F1 Score ajustado para entrenamiento y validación\n",
    "f1_adjusted_train = f1_score(target_upsampled, predictions_adjusted_train)\n",
    "f1_adjusted_valid = f1_score(target_valid, predictions_adjusted_valid)\n",
    "\n",
    "print(\"F1 Score ajustado (entrenamiento):\", f1_adjusted_train)\n",
    "print(\"F1 Score ajustado (validación):\", f1_adjusted_valid)\n",
    "\n",
    "# Evaluar AUC-ROC con el nuevo umbral ajustado para validación y entrenamiento usando probabilidades\n",
    "auc_roc_adjusted_train = roc_auc_score(target_upsampled, predictions_adjusted_train)\n",
    "auc_roc_adjusted_valid = roc_auc_score(target_valid, predictions_adjusted_valid)\n",
    "\n",
    "print('AUC-ROC con umbral ajustado (entrenamiento):', auc_roc_adjusted_train)\n",
    "print('AUC-ROC con umbral ajustado (validación):', auc_roc_adjusted_valid)"
   ]
  },
  {
   "cell_type": "markdown",
   "metadata": {},
   "source": [
    "### Regresion logistica"
   ]
  },
  {
   "cell_type": "code",
   "execution_count": 28,
   "metadata": {},
   "outputs": [
    {
     "name": "stdout",
     "output_type": "stream",
     "text": [
      "Regresion logistica-train-F1: 0.7652333869855139\n",
      "Regresion logistica-valid-F1: 0.4793103448275862\n",
      "Regresion logistica-train-AUC-ROC: 0.6953489845418673\n",
      "Regresion logistica-valid-AUC-ROC: 0.6858860748008396\n"
     ]
    }
   ],
   "source": [
    "# Inicializar el modelo de Regresion logistica\n",
    "log_model = LogisticRegression(solver='liblinear', random_state=54321, class_weight= 'balanced')\n",
    "#Entrenar el modelo\n",
    "log_model.fit(features_upsampled, target_upsampled)\n",
    "#Realizar predicciones del conjunto de enrenamiento y  validacion\n",
    "predictions_log_train = log_model.predict(features_upsampled)\n",
    "predictions_log_valid = log_model.predict(features_valid)\n",
    "#Calcular metricas de F1 y AUC-ROC\n",
    "f1_log_train = f1_score(target_upsampled, predictions_log_train)\n",
    "f1_log_valid = f1_score(target_valid, predictions_log_valid)\n",
    "auc_roc_log_train = roc_auc_score(target_upsampled, predictions_log_train)\n",
    "auc_roc_log_valid = roc_auc_score(target_valid, predictions_log_valid)\n",
    "print('Regresion logistica-train-F1:', f1_log_train)\n",
    "print('Regresion logistica-valid-F1:', f1_log_valid)\n",
    "print('Regresion logistica-train-AUC-ROC:', auc_roc_log_train)\n",
    "print('Regresion logistica-valid-AUC-ROC:', auc_roc_log_valid)"
   ]
  },
  {
   "cell_type": "markdown",
   "metadata": {},
   "source": [
    "## Aplicacion del submuestro para los modelos de Regresion logistica, Bosque aleatorio y Arbol de decision"
   ]
  },
  {
   "cell_type": "code",
   "execution_count": 29,
   "metadata": {},
   "outputs": [],
   "source": [
    "def downsample(features, target, fraction):\n",
    "    #Separar las caracteristicas y el objetivo en clases\n",
    "    features_zeros = features[target == 0]\n",
    "    features_ones = features[target == 1]\n",
    "    target_zeros = target[target == 0]\n",
    "    target_ones = target[target == 1]\n",
    "    #Crear un nuevo conjunto  con mas ejemplos de la clase mayoritaria\n",
    "    features_downsampled = pd.concat([features_zeros.sample(frac=fraction, random_state=12345)] + [features_ones])\n",
    "    target_downsampled = pd.concat([target_zeros.sample(frac=fraction, random_state=12345)] + [target_ones])\n",
    "    # Barajar los datos para mezclar las clases\n",
    "    features_downsampled, target_downsampled = shuffle(features_downsampled, target_downsampled, random_state=12345)\n",
    "    return features_downsampled, target_downsampled"
   ]
  },
  {
   "cell_type": "code",
   "execution_count": 30,
   "metadata": {},
   "outputs": [],
   "source": [
    "# Aplicar submuestreo a los datos de entrenamiento\n",
    "features_downsampled, target_downsampled = downsample(features_train, target_train, 0.1)"
   ]
  },
  {
   "cell_type": "markdown",
   "metadata": {},
   "source": [
    "### Arbol de decision"
   ]
  },
  {
   "cell_type": "code",
   "execution_count": 31,
   "metadata": {},
   "outputs": [
    {
     "name": "stdout",
     "output_type": "stream",
     "text": [
      "Arbol de Decision-train - max_depth: 2 - F1 Score: 0.81\n",
      "Arbol de Decision-valid - max_depth: 2 - F1 Score: 0.49\n",
      "Arbol de Decision-train - max_depth: 3 - F1 Score: 0.79\n",
      "Arbol de Decision-valid - max_depth: 3 - F1 Score: 0.52\n",
      "Arbol de Decision-train - max_depth: 4 - F1 Score: 0.80\n",
      "Arbol de Decision-valid - max_depth: 4 - F1 Score: 0.54\n",
      "Mejor profundidad encontrada: 4\n",
      "Mejor F1 Score: 0.5402504472271915\n"
     ]
    }
   ],
   "source": [
    "# Inicializar variables para almacenar los mejores resultados\n",
    "best_f1_score = 0\n",
    "best_depth = 0 \n",
    "# Probar diferentes profundidades para el arbol de decision\n",
    "for depth in range(2, 5):\n",
    "    decision_tree_model = DecisionTreeClassifier(random_state=12345, min_samples_split=10, min_samples_leaf=5, max_depth=depth, class_weight='balanced')\n",
    "    decision_tree_model.fit(features_downsampled, target_downsampled)\n",
    "    # Hacer predicciones en el conjunto de entrenamiento y  validacion\n",
    "    predictions_decision_tree_train = decision_tree_model.predict(features_downsampled)\n",
    "    predictions_decision_tree_valid = decision_tree_model.predict(features_valid)\n",
    "    # Calcular las metricas de F1 y AUC-ROC\n",
    "    f1_decision_tree_train = f1_score(target_downsampled, predictions_decision_tree_train)\n",
    "    f1_decision_tree_valid = f1_score(target_valid, predictions_decision_tree_valid)\n",
    "    print(f\"Arbol de Decision-train - max_depth: {depth} - F1 Score: {f1_decision_tree_train:.2f}\")\n",
    "    print(f\"Arbol de Decision-valid - max_depth: {depth} - F1 Score: {f1_decision_tree_valid:.2f}\")\n",
    "    # Actualizar los mejores parametros si se encuentra una mejor puntuacion F1\n",
    "    if f1_decision_tree_valid > best_f1_score:\n",
    "        best_f1_score = f1_decision_tree_valid\n",
    "        best_depth = depth\n",
    "    # Imprimir los mejores parametros encontrados y la mejor puntuacion F1\n",
    "print('Mejor profundidad encontrada:', best_depth)\n",
    "print('Mejor F1 Score:', best_f1_score)\n"
   ]
  },
  {
   "cell_type": "code",
   "execution_count": 32,
   "metadata": {},
   "outputs": [
    {
     "name": "stdout",
     "output_type": "stream",
     "text": [
      "Arbol de Decisión-train - AUC-ROC: 0.8223766722408026\n",
      "Arbol de Decisión-valid - AUC-ROC: 0.7944867196148054\n",
      "Mejor umbral: 0.6801265563471662\n",
      "F1 Score ajustado (entrenamiento): 0.782319391634981\n",
      "F1 Score ajustado (validación): 0.5444340505144996\n",
      "AUC-ROC ajustado (entrenamiento): 0.7555218784838349\n",
      "AUC-ROC ajustado (validación): 0.7343060991174638\n"
     ]
    }
   ],
   "source": [
    "# Evaluar AUC-ROC para el Árbol de Decisión usando probabilidades\n",
    "probabilities_train = decision_tree_model.predict_proba(features_downsampled)[:, 1]\n",
    "probabilities_valid = decision_tree_model.predict_proba(features_valid)[:, 1]\n",
    "\n",
    "auc_roc_decision_tree_train = roc_auc_score(target_downsampled, probabilities_train)\n",
    "auc_roc_decision_tree_valid = roc_auc_score(target_valid, probabilities_valid)\n",
    "\n",
    "print('Arbol de Decisión-train - AUC-ROC:', auc_roc_decision_tree_train)\n",
    "print('Arbol de Decisión-valid - AUC-ROC:', auc_roc_decision_tree_valid)\n",
    "\n",
    "# Ajuste del umbral \n",
    "precision, recall, thresholds = precision_recall_curve(target_valid, probabilities_valid)\n",
    "\n",
    "# Calcular F1 Score para cada umbral\n",
    "f1_scores = 2 * (precision * recall) / (precision + recall)\n",
    "\n",
    "# Encontrar el umbral que da el mejor F1 Score\n",
    "best_threshold_index = np.argmax(f1_scores)\n",
    "best_threshold = thresholds[best_threshold_index]\n",
    "print(\"Mejor umbral:\", best_threshold)\n",
    "\n",
    "# Hacer predicciones con el nuevo umbral ajustado\n",
    "predictions_adjusted_train = (probabilities_train >= best_threshold).astype(int)\n",
    "predictions_adjusted_valid = (probabilities_valid >= best_threshold).astype(int)\n",
    "\n",
    "# Calcular el nuevo F1 Score ajustado para entrenamiento y validación\n",
    "f1_adjusted_train = f1_score(target_downsampled, predictions_adjusted_train)\n",
    "f1_adjusted_valid = f1_score(target_valid, predictions_adjusted_valid)\n",
    "\n",
    "print(\"F1 Score ajustado (entrenamiento):\", f1_adjusted_train)\n",
    "print(\"F1 Score ajustado (validación):\", f1_adjusted_valid)\n",
    "\n",
    "# Evaluar AUC-ROC con el nuevo umbral ajustado para validación y entrenamiento usando probabilidades\n",
    "auc_roc_adjusted_train = roc_auc_score(target_downsampled, predictions_adjusted_train)\n",
    "auc_roc_adjusted_valid = roc_auc_score(target_valid, predictions_adjusted_valid)\n",
    "print(\"AUC-ROC ajustado (entrenamiento):\", auc_roc_adjusted_train)\n",
    "print(\"AUC-ROC ajustado (validación):\", auc_roc_adjusted_valid)\n"
   ]
  },
  {
   "cell_type": "markdown",
   "metadata": {},
   "source": [
    "En el caso de submuestreo se ajusto el F1 score tanto para valores de entrenamiento y validacion  hay una marcada difrencia de valores y un marcado sobreajuste entre ellos, ya que el conjunto de validacion no llega al objetivo de 0.59 no es optimo para poderle realizar la prueba final\n",
    "b) La diferencia entre AUC-ROC entre entrenamiento y validacion nos dicedisminución puede ser un indicativo de que el modelo esta comenzando a perder algo de efectividad al generalizar a datos no vistos."
   ]
  },
  {
   "cell_type": "markdown",
   "metadata": {},
   "source": [
    "### Bosque aleatorio"
   ]
  },
  {
   "cell_type": "code",
   "execution_count": 33,
   "metadata": {},
   "outputs": [
    {
     "name": "stdout",
     "output_type": "stream",
     "text": [
      "Random Forest-train- n_estimators: 10, max_depth: 1 - F1 Score: 0.77\n",
      "Random Forest-valid- n_estimators: 10, max_depth: 1 - F1 Score: 0.54\n",
      "Random Forest-train- n_estimators: 10, max_depth: 2 - F1 Score: 0.77\n",
      "Random Forest-valid- n_estimators: 10, max_depth: 2 - F1 Score: 0.54\n",
      "Random Forest-train- n_estimators: 10, max_depth: 3 - F1 Score: 0.78\n",
      "Random Forest-valid- n_estimators: 10, max_depth: 3 - F1 Score: 0.54\n",
      "Random Forest-train- n_estimators: 10, max_depth: 4 - F1 Score: 0.80\n",
      "Random Forest-valid- n_estimators: 10, max_depth: 4 - F1 Score: 0.55\n",
      "Random Forest-train- n_estimators: 10, max_depth: 5 - F1 Score: 0.81\n",
      "Random Forest-valid- n_estimators: 10, max_depth: 5 - F1 Score: 0.53\n",
      "Random Forest-train- n_estimators: 10, max_depth: 6 - F1 Score: 0.83\n",
      "Random Forest-valid- n_estimators: 10, max_depth: 6 - F1 Score: 0.54\n",
      "Random Forest-train- n_estimators: 10, max_depth: 7 - F1 Score: 0.85\n",
      "Random Forest-valid- n_estimators: 10, max_depth: 7 - F1 Score: 0.55\n",
      "Random Forest-train- n_estimators: 10, max_depth: 8 - F1 Score: 0.88\n",
      "Random Forest-valid- n_estimators: 10, max_depth: 8 - F1 Score: 0.53\n",
      "Random Forest-train- n_estimators: 10, max_depth: 9 - F1 Score: 0.91\n",
      "Random Forest-valid- n_estimators: 10, max_depth: 9 - F1 Score: 0.49\n",
      "Random Forest-train- n_estimators: 10, max_depth: 10 - F1 Score: 0.93\n",
      "Random Forest-valid- n_estimators: 10, max_depth: 10 - F1 Score: 0.49\n",
      "Random Forest-train- n_estimators: 20, max_depth: 1 - F1 Score: 0.77\n",
      "Random Forest-valid- n_estimators: 20, max_depth: 1 - F1 Score: 0.54\n",
      "Random Forest-train- n_estimators: 20, max_depth: 2 - F1 Score: 0.78\n",
      "Random Forest-valid- n_estimators: 20, max_depth: 2 - F1 Score: 0.53\n",
      "Random Forest-train- n_estimators: 20, max_depth: 3 - F1 Score: 0.80\n",
      "Random Forest-valid- n_estimators: 20, max_depth: 3 - F1 Score: 0.54\n",
      "Random Forest-train- n_estimators: 20, max_depth: 4 - F1 Score: 0.82\n",
      "Random Forest-valid- n_estimators: 20, max_depth: 4 - F1 Score: 0.55\n",
      "Random Forest-train- n_estimators: 20, max_depth: 5 - F1 Score: 0.82\n",
      "Random Forest-valid- n_estimators: 20, max_depth: 5 - F1 Score: 0.54\n",
      "Random Forest-train- n_estimators: 20, max_depth: 6 - F1 Score: 0.84\n",
      "Random Forest-valid- n_estimators: 20, max_depth: 6 - F1 Score: 0.55\n",
      "Random Forest-train- n_estimators: 20, max_depth: 7 - F1 Score: 0.85\n",
      "Random Forest-valid- n_estimators: 20, max_depth: 7 - F1 Score: 0.56\n",
      "Random Forest-train- n_estimators: 20, max_depth: 8 - F1 Score: 0.88\n",
      "Random Forest-valid- n_estimators: 20, max_depth: 8 - F1 Score: 0.53\n",
      "Random Forest-train- n_estimators: 20, max_depth: 9 - F1 Score: 0.91\n",
      "Random Forest-valid- n_estimators: 20, max_depth: 9 - F1 Score: 0.51\n",
      "Random Forest-train- n_estimators: 20, max_depth: 10 - F1 Score: 0.93\n",
      "Random Forest-valid- n_estimators: 20, max_depth: 10 - F1 Score: 0.50\n",
      "Random Forest-train- n_estimators: 30, max_depth: 1 - F1 Score: 0.76\n",
      "Random Forest-valid- n_estimators: 30, max_depth: 1 - F1 Score: 0.53\n",
      "Random Forest-train- n_estimators: 30, max_depth: 2 - F1 Score: 0.77\n",
      "Random Forest-valid- n_estimators: 30, max_depth: 2 - F1 Score: 0.54\n",
      "Random Forest-train- n_estimators: 30, max_depth: 3 - F1 Score: 0.79\n",
      "Random Forest-valid- n_estimators: 30, max_depth: 3 - F1 Score: 0.55\n",
      "Random Forest-train- n_estimators: 30, max_depth: 4 - F1 Score: 0.81\n",
      "Random Forest-valid- n_estimators: 30, max_depth: 4 - F1 Score: 0.56\n",
      "Random Forest-train- n_estimators: 30, max_depth: 5 - F1 Score: 0.82\n",
      "Random Forest-valid- n_estimators: 30, max_depth: 5 - F1 Score: 0.55\n",
      "Random Forest-train- n_estimators: 30, max_depth: 6 - F1 Score: 0.84\n",
      "Random Forest-valid- n_estimators: 30, max_depth: 6 - F1 Score: 0.55\n",
      "Random Forest-train- n_estimators: 30, max_depth: 7 - F1 Score: 0.87\n",
      "Random Forest-valid- n_estimators: 30, max_depth: 7 - F1 Score: 0.55\n",
      "Random Forest-train- n_estimators: 30, max_depth: 8 - F1 Score: 0.89\n",
      "Random Forest-valid- n_estimators: 30, max_depth: 8 - F1 Score: 0.53\n",
      "Random Forest-train- n_estimators: 30, max_depth: 9 - F1 Score: 0.92\n",
      "Random Forest-valid- n_estimators: 30, max_depth: 9 - F1 Score: 0.51\n",
      "Random Forest-train- n_estimators: 30, max_depth: 10 - F1 Score: 0.94\n",
      "Random Forest-valid- n_estimators: 30, max_depth: 10 - F1 Score: 0.51\n",
      "Random Forest-train- n_estimators: 40, max_depth: 1 - F1 Score: 0.77\n",
      "Random Forest-valid- n_estimators: 40, max_depth: 1 - F1 Score: 0.54\n",
      "Random Forest-train- n_estimators: 40, max_depth: 2 - F1 Score: 0.77\n",
      "Random Forest-valid- n_estimators: 40, max_depth: 2 - F1 Score: 0.54\n",
      "Random Forest-train- n_estimators: 40, max_depth: 3 - F1 Score: 0.80\n",
      "Random Forest-valid- n_estimators: 40, max_depth: 3 - F1 Score: 0.57\n",
      "Random Forest-train- n_estimators: 40, max_depth: 4 - F1 Score: 0.81\n",
      "Random Forest-valid- n_estimators: 40, max_depth: 4 - F1 Score: 0.56\n",
      "Random Forest-train- n_estimators: 40, max_depth: 5 - F1 Score: 0.82\n",
      "Random Forest-valid- n_estimators: 40, max_depth: 5 - F1 Score: 0.56\n",
      "Random Forest-train- n_estimators: 40, max_depth: 6 - F1 Score: 0.84\n",
      "Random Forest-valid- n_estimators: 40, max_depth: 6 - F1 Score: 0.55\n",
      "Random Forest-train- n_estimators: 40, max_depth: 7 - F1 Score: 0.87\n",
      "Random Forest-valid- n_estimators: 40, max_depth: 7 - F1 Score: 0.55\n",
      "Random Forest-train- n_estimators: 40, max_depth: 8 - F1 Score: 0.89\n",
      "Random Forest-valid- n_estimators: 40, max_depth: 8 - F1 Score: 0.53\n",
      "Random Forest-train- n_estimators: 40, max_depth: 9 - F1 Score: 0.92\n",
      "Random Forest-valid- n_estimators: 40, max_depth: 9 - F1 Score: 0.52\n",
      "Random Forest-train- n_estimators: 40, max_depth: 10 - F1 Score: 0.95\n",
      "Random Forest-valid- n_estimators: 40, max_depth: 10 - F1 Score: 0.51\n",
      "Random Forest-train- n_estimators: 50, max_depth: 1 - F1 Score: 0.77\n",
      "Random Forest-valid- n_estimators: 50, max_depth: 1 - F1 Score: 0.54\n",
      "Random Forest-train- n_estimators: 50, max_depth: 2 - F1 Score: 0.78\n",
      "Random Forest-valid- n_estimators: 50, max_depth: 2 - F1 Score: 0.54\n",
      "Random Forest-train- n_estimators: 50, max_depth: 3 - F1 Score: 0.80\n",
      "Random Forest-valid- n_estimators: 50, max_depth: 3 - F1 Score: 0.56\n",
      "Random Forest-train- n_estimators: 50, max_depth: 4 - F1 Score: 0.81\n",
      "Random Forest-valid- n_estimators: 50, max_depth: 4 - F1 Score: 0.56\n",
      "Random Forest-train- n_estimators: 50, max_depth: 5 - F1 Score: 0.82\n",
      "Random Forest-valid- n_estimators: 50, max_depth: 5 - F1 Score: 0.56\n",
      "Random Forest-train- n_estimators: 50, max_depth: 6 - F1 Score: 0.84\n",
      "Random Forest-valid- n_estimators: 50, max_depth: 6 - F1 Score: 0.55\n",
      "Random Forest-train- n_estimators: 50, max_depth: 7 - F1 Score: 0.87\n",
      "Random Forest-valid- n_estimators: 50, max_depth: 7 - F1 Score: 0.54\n",
      "Random Forest-train- n_estimators: 50, max_depth: 8 - F1 Score: 0.89\n",
      "Random Forest-valid- n_estimators: 50, max_depth: 8 - F1 Score: 0.53\n",
      "Random Forest-train- n_estimators: 50, max_depth: 9 - F1 Score: 0.92\n",
      "Random Forest-valid- n_estimators: 50, max_depth: 9 - F1 Score: 0.52\n",
      "Random Forest-train- n_estimators: 50, max_depth: 10 - F1 Score: 0.95\n",
      "Random Forest-valid- n_estimators: 50, max_depth: 10 - F1 Score: 0.50\n",
      "Random Forest-train- n_estimators: 60, max_depth: 1 - F1 Score: 0.77\n",
      "Random Forest-valid- n_estimators: 60, max_depth: 1 - F1 Score: 0.54\n",
      "Random Forest-train- n_estimators: 60, max_depth: 2 - F1 Score: 0.78\n",
      "Random Forest-valid- n_estimators: 60, max_depth: 2 - F1 Score: 0.54\n",
      "Random Forest-train- n_estimators: 60, max_depth: 3 - F1 Score: 0.80\n",
      "Random Forest-valid- n_estimators: 60, max_depth: 3 - F1 Score: 0.56\n",
      "Random Forest-train- n_estimators: 60, max_depth: 4 - F1 Score: 0.80\n",
      "Random Forest-valid- n_estimators: 60, max_depth: 4 - F1 Score: 0.56\n",
      "Random Forest-train- n_estimators: 60, max_depth: 5 - F1 Score: 0.82\n",
      "Random Forest-valid- n_estimators: 60, max_depth: 5 - F1 Score: 0.56\n",
      "Random Forest-train- n_estimators: 60, max_depth: 6 - F1 Score: 0.84\n",
      "Random Forest-valid- n_estimators: 60, max_depth: 6 - F1 Score: 0.55\n",
      "Random Forest-train- n_estimators: 60, max_depth: 7 - F1 Score: 0.87\n",
      "Random Forest-valid- n_estimators: 60, max_depth: 7 - F1 Score: 0.54\n",
      "Random Forest-train- n_estimators: 60, max_depth: 8 - F1 Score: 0.89\n",
      "Random Forest-valid- n_estimators: 60, max_depth: 8 - F1 Score: 0.53\n",
      "Random Forest-train- n_estimators: 60, max_depth: 9 - F1 Score: 0.92\n",
      "Random Forest-valid- n_estimators: 60, max_depth: 9 - F1 Score: 0.52\n",
      "Random Forest-train- n_estimators: 60, max_depth: 10 - F1 Score: 0.95\n",
      "Random Forest-valid- n_estimators: 60, max_depth: 10 - F1 Score: 0.50\n",
      "Random Forest-train- n_estimators: 70, max_depth: 1 - F1 Score: 0.77\n",
      "Random Forest-valid- n_estimators: 70, max_depth: 1 - F1 Score: 0.54\n"
     ]
    },
    {
     "name": "stdout",
     "output_type": "stream",
     "text": [
      "Random Forest-train- n_estimators: 70, max_depth: 2 - F1 Score: 0.78\n",
      "Random Forest-valid- n_estimators: 70, max_depth: 2 - F1 Score: 0.54\n",
      "Random Forest-train- n_estimators: 70, max_depth: 3 - F1 Score: 0.80\n",
      "Random Forest-valid- n_estimators: 70, max_depth: 3 - F1 Score: 0.55\n",
      "Random Forest-train- n_estimators: 70, max_depth: 4 - F1 Score: 0.81\n",
      "Random Forest-valid- n_estimators: 70, max_depth: 4 - F1 Score: 0.55\n",
      "Random Forest-train- n_estimators: 70, max_depth: 5 - F1 Score: 0.82\n",
      "Random Forest-valid- n_estimators: 70, max_depth: 5 - F1 Score: 0.56\n",
      "Random Forest-train- n_estimators: 70, max_depth: 6 - F1 Score: 0.84\n",
      "Random Forest-valid- n_estimators: 70, max_depth: 6 - F1 Score: 0.55\n",
      "Random Forest-train- n_estimators: 70, max_depth: 7 - F1 Score: 0.87\n",
      "Random Forest-valid- n_estimators: 70, max_depth: 7 - F1 Score: 0.54\n",
      "Random Forest-train- n_estimators: 70, max_depth: 8 - F1 Score: 0.90\n",
      "Random Forest-valid- n_estimators: 70, max_depth: 8 - F1 Score: 0.54\n",
      "Random Forest-train- n_estimators: 70, max_depth: 9 - F1 Score: 0.92\n",
      "Random Forest-valid- n_estimators: 70, max_depth: 9 - F1 Score: 0.52\n",
      "Random Forest-train- n_estimators: 70, max_depth: 10 - F1 Score: 0.95\n",
      "Random Forest-valid- n_estimators: 70, max_depth: 10 - F1 Score: 0.50\n",
      "Random Forest-train- n_estimators: 80, max_depth: 1 - F1 Score: 0.77\n",
      "Random Forest-valid- n_estimators: 80, max_depth: 1 - F1 Score: 0.55\n",
      "Random Forest-train- n_estimators: 80, max_depth: 2 - F1 Score: 0.78\n",
      "Random Forest-valid- n_estimators: 80, max_depth: 2 - F1 Score: 0.54\n",
      "Random Forest-train- n_estimators: 80, max_depth: 3 - F1 Score: 0.80\n",
      "Random Forest-valid- n_estimators: 80, max_depth: 3 - F1 Score: 0.56\n",
      "Random Forest-train- n_estimators: 80, max_depth: 4 - F1 Score: 0.81\n",
      "Random Forest-valid- n_estimators: 80, max_depth: 4 - F1 Score: 0.55\n",
      "Random Forest-train- n_estimators: 80, max_depth: 5 - F1 Score: 0.82\n",
      "Random Forest-valid- n_estimators: 80, max_depth: 5 - F1 Score: 0.56\n",
      "Random Forest-train- n_estimators: 80, max_depth: 6 - F1 Score: 0.84\n",
      "Random Forest-valid- n_estimators: 80, max_depth: 6 - F1 Score: 0.55\n",
      "Random Forest-train- n_estimators: 80, max_depth: 7 - F1 Score: 0.87\n",
      "Random Forest-valid- n_estimators: 80, max_depth: 7 - F1 Score: 0.54\n",
      "Random Forest-train- n_estimators: 80, max_depth: 8 - F1 Score: 0.90\n",
      "Random Forest-valid- n_estimators: 80, max_depth: 8 - F1 Score: 0.53\n",
      "Random Forest-train- n_estimators: 80, max_depth: 9 - F1 Score: 0.92\n",
      "Random Forest-valid- n_estimators: 80, max_depth: 9 - F1 Score: 0.52\n",
      "Random Forest-train- n_estimators: 80, max_depth: 10 - F1 Score: 0.95\n",
      "Random Forest-valid- n_estimators: 80, max_depth: 10 - F1 Score: 0.50\n",
      "Random Forest-train- n_estimators: 90, max_depth: 1 - F1 Score: 0.78\n",
      "Random Forest-valid- n_estimators: 90, max_depth: 1 - F1 Score: 0.54\n",
      "Random Forest-train- n_estimators: 90, max_depth: 2 - F1 Score: 0.78\n",
      "Random Forest-valid- n_estimators: 90, max_depth: 2 - F1 Score: 0.54\n",
      "Random Forest-train- n_estimators: 90, max_depth: 3 - F1 Score: 0.80\n",
      "Random Forest-valid- n_estimators: 90, max_depth: 3 - F1 Score: 0.56\n",
      "Random Forest-train- n_estimators: 90, max_depth: 4 - F1 Score: 0.81\n",
      "Random Forest-valid- n_estimators: 90, max_depth: 4 - F1 Score: 0.55\n",
      "Random Forest-train- n_estimators: 90, max_depth: 5 - F1 Score: 0.82\n",
      "Random Forest-valid- n_estimators: 90, max_depth: 5 - F1 Score: 0.56\n",
      "Random Forest-train- n_estimators: 90, max_depth: 6 - F1 Score: 0.84\n",
      "Random Forest-valid- n_estimators: 90, max_depth: 6 - F1 Score: 0.55\n",
      "Random Forest-train- n_estimators: 90, max_depth: 7 - F1 Score: 0.87\n",
      "Random Forest-valid- n_estimators: 90, max_depth: 7 - F1 Score: 0.55\n",
      "Random Forest-train- n_estimators: 90, max_depth: 8 - F1 Score: 0.89\n",
      "Random Forest-valid- n_estimators: 90, max_depth: 8 - F1 Score: 0.53\n",
      "Random Forest-train- n_estimators: 90, max_depth: 9 - F1 Score: 0.92\n",
      "Random Forest-valid- n_estimators: 90, max_depth: 9 - F1 Score: 0.52\n",
      "Random Forest-train- n_estimators: 90, max_depth: 10 - F1 Score: 0.95\n",
      "Random Forest-valid- n_estimators: 90, max_depth: 10 - F1 Score: 0.50\n",
      "Random Forest-train- n_estimators: 100, max_depth: 1 - F1 Score: 0.78\n",
      "Random Forest-valid- n_estimators: 100, max_depth: 1 - F1 Score: 0.54\n",
      "Random Forest-train- n_estimators: 100, max_depth: 2 - F1 Score: 0.79\n",
      "Random Forest-valid- n_estimators: 100, max_depth: 2 - F1 Score: 0.54\n",
      "Random Forest-train- n_estimators: 100, max_depth: 3 - F1 Score: 0.80\n",
      "Random Forest-valid- n_estimators: 100, max_depth: 3 - F1 Score: 0.56\n",
      "Random Forest-train- n_estimators: 100, max_depth: 4 - F1 Score: 0.81\n",
      "Random Forest-valid- n_estimators: 100, max_depth: 4 - F1 Score: 0.56\n",
      "Random Forest-train- n_estimators: 100, max_depth: 5 - F1 Score: 0.82\n",
      "Random Forest-valid- n_estimators: 100, max_depth: 5 - F1 Score: 0.56\n",
      "Random Forest-train- n_estimators: 100, max_depth: 6 - F1 Score: 0.84\n",
      "Random Forest-valid- n_estimators: 100, max_depth: 6 - F1 Score: 0.55\n",
      "Random Forest-train- n_estimators: 100, max_depth: 7 - F1 Score: 0.87\n",
      "Random Forest-valid- n_estimators: 100, max_depth: 7 - F1 Score: 0.54\n",
      "Random Forest-train- n_estimators: 100, max_depth: 8 - F1 Score: 0.90\n",
      "Random Forest-valid- n_estimators: 100, max_depth: 8 - F1 Score: 0.53\n",
      "Random Forest-train- n_estimators: 100, max_depth: 9 - F1 Score: 0.92\n",
      "Random Forest-valid- n_estimators: 100, max_depth: 9 - F1 Score: 0.52\n",
      "Random Forest-train- n_estimators: 100, max_depth: 10 - F1 Score: 0.96\n",
      "Random Forest-valid- n_estimators: 100, max_depth: 10 - F1 Score: 0.50\n",
      "Mejores parámetros encontrados:\n",
      "{'n_estimators': 40, 'max_depth': 3}\n",
      "Mejor F1 Score: 0.5651376146788991\n"
     ]
    }
   ],
   "source": [
    "# Inicializar variables para almacenar los mejores parametros y la mejor puntuacion F1\n",
    "best_f1_score = 0\n",
    "best_params = {}\n",
    "\n",
    "# Probar diferentes combinaciones de hiperparametros\n",
    "for est in range(10, 101, 10):  \n",
    "    for depth in range(1, 11):       \n",
    "        randomforest_model = RandomForestClassifier(n_estimators=est, max_depth=depth, random_state=12345, class_weight='balanced')\n",
    "        \n",
    "        # Entrenar el modelo con los datos submuestreados\n",
    "        randomforest_model.fit(features_downsampled, target_downsampled)\n",
    "        \n",
    "        # Realizar predicciones con el conjunto de entrenamiento y validacion\n",
    "        predictions_randomforest_train = randomforest_model.predict(features_downsampled)\n",
    "        predictions_randomforest_valid = randomforest_model.predict(features_valid)\n",
    "        \n",
    "        # Calcular el valor F1 del modelo\n",
    "        f1_randomforest_train = f1_score(target_downsampled, predictions_randomforest_train)\n",
    "        f1_randomforest_valid = f1_score(target_valid, predictions_randomforest_valid)\n",
    "        \n",
    "        print(f\"Random Forest-train- n_estimators: {est}, max_depth: {depth} - F1 Score: {f1_randomforest_train:.2f}\")\n",
    "        print(f\"Random Forest-valid- n_estimators: {est}, max_depth: {depth} - F1 Score: {f1_randomforest_valid:.2f}\")\n",
    "        \n",
    "        # Actualizar los mejores parametros si se encuentra una mejor puntuacion F1\n",
    "        if f1_randomforest_valid > best_f1_score:\n",
    "            best_f1_score = f1_randomforest_valid\n",
    "            best_params = {'n_estimators': est, 'max_depth': depth}\n",
    "\n",
    "# Imprimir los mejores parametros encontrados y la mejor puntuacion F1\n",
    "print('Mejores parámetros encontrados:')\n",
    "print(best_params)\n",
    "print('Mejor F1 Score:', best_f1_score)\n"
   ]
  },
  {
   "cell_type": "code",
   "execution_count": 34,
   "metadata": {},
   "outputs": [
    {
     "name": "stdout",
     "output_type": "stream",
     "text": [
      "Bosque aleatorio - AUC-ROC (entrenamiento): 0.988980629877369\n",
      "Bosque aleatorio - AUC-ROC (validación): 0.8220606826801518\n",
      "Mejor umbral: 0.6929203496213145\n",
      "F1 Score ajustado (entrenamiento): 0.8722300801508722\n",
      "F1 Score ajustado (validación): 0.5883597883597883\n",
      "AUC-ROC con umbral ajustado (entrenamiento): 0.8867056856187291\n",
      "AUC-ROC con umbral ajustado (validación): 0.7538380343457195\n"
     ]
    }
   ],
   "source": [
    "# Evaluar AUC-ROC para el Bosque Aleatorio usando probabilidades\n",
    "probabilities_train = randomforest_model.predict_proba(features_downsampled)[:, 1]\n",
    "probabilities_valid = randomforest_model.predict_proba(features_valid)[:, 1]\n",
    "\n",
    "auc_roc_randomforest_model_train = roc_auc_score(target_downsampled, probabilities_train)\n",
    "auc_roc_randomforest_model_valid = roc_auc_score(target_valid, probabilities_valid)\n",
    "\n",
    "print('Bosque aleatorio - AUC-ROC (entrenamiento):', auc_roc_randomforest_model_train)\n",
    "print('Bosque aleatorio - AUC-ROC (validación):', auc_roc_randomforest_model_valid)\n",
    "\n",
    "# Ajuste del umbral \n",
    "precision, recall, thresholds = precision_recall_curve(target_valid, probabilities_valid)\n",
    "\n",
    "# Calcular F1 Score para cada umbral\n",
    "f1_scores = 2 * (precision * recall) / (precision + recall)\n",
    "\n",
    "# Encontrar el umbral que da el mejor F1 Score\n",
    "best_threshold_index = np.argmax(f1_scores)\n",
    "best_threshold = thresholds[best_threshold_index]\n",
    "print(\"Mejor umbral:\", best_threshold)\n",
    "\n",
    "# Hacer predicciones con el nuevo umbral ajustado\n",
    "predictions_adjusted_train = (probabilities_train >= best_threshold).astype(int)\n",
    "predictions_adjusted_valid = (probabilities_valid >= best_threshold).astype(int)\n",
    "\n",
    "# Calcular el nuevo F1 Score ajustado para entrenamiento y validacion\n",
    "f1_adjusted_train = f1_score(target_downsampled, predictions_adjusted_train)\n",
    "f1_adjusted_valid = f1_score(target_valid, predictions_adjusted_valid)\n",
    "\n",
    "print(\"F1 Score ajustado (entrenamiento):\", f1_adjusted_train)\n",
    "print(\"F1 Score ajustado (validación):\", f1_adjusted_valid)\n",
    "\n",
    "# Evaluar AUC-ROC con el nuevo umbral ajustado para validacion y entrenamiento usando probabilidades\n",
    "auc_roc_adjusted_train = roc_auc_score(target_downsampled, predictions_adjusted_train)\n",
    "auc_roc_adjusted_valid = roc_auc_score(target_valid, predictions_adjusted_valid)\n",
    "\n",
    "print('AUC-ROC con umbral ajustado (entrenamiento):', auc_roc_adjusted_train)\n",
    "print('AUC-ROC con umbral ajustado (validación):', auc_roc_adjusted_valid)"
   ]
  },
  {
   "cell_type": "markdown",
   "metadata": {},
   "source": [
    "Para el valor de F1 score ajustado entre entrenamiento y validacion nos indica un muy notorio sobreajuste el modelo tiene dificultades para identificar correctamente la clase positiva en datos no vistos\n",
    "b) Para la comparacion de AUC-ROC ajustado  para el conjunto de entrenamiento y validacion indica una buena capacidad discriminativa  pero refleja una disminucion en comparacion con el entrenamiento."
   ]
  },
  {
   "cell_type": "markdown",
   "metadata": {},
   "source": [
    "### Regresion logistica\n"
   ]
  },
  {
   "cell_type": "code",
   "execution_count": 35,
   "metadata": {},
   "outputs": [
    {
     "name": "stdout",
     "output_type": "stream",
     "text": [
      "Regresion logistica-train-F1: 0.7782388197325957\n",
      "Regresion logistica-valid-F1: 0.4802744425385935\n",
      "Regresion logistica-train-AUC-ROC: 0.7184678093645485\n",
      "Regresion logistica-valid-AUC-ROC: 0.6870141967952866\n"
     ]
    }
   ],
   "source": [
    "# Inicializar el modelo de Regresion logistica\n",
    "logistic_reg = LogisticRegression(solver='liblinear', random_state=54321, class_weight= 'balanced')\n",
    "#Entrenar el modelo\n",
    "logistic_reg.fit(features_downsampled, target_downsampled)\n",
    "#Realizar predicciones del conjunto de entramiento y de validacion\n",
    "logistic_reg_predictions_train = logistic_reg.predict(features_downsampled)\n",
    "logistic_reg_predictions_valid = logistic_reg.predict(features_valid)\n",
    "#Calcular metricas de F1 y AUC-ROC\n",
    "f1_logistic_reg_train = f1_score(target_downsampled, logistic_reg_predictions_train)\n",
    "f1_logistic_reg_valid = f1_score(target_valid, logistic_reg_predictions_valid)\n",
    "auc_roc_logistic_reg_train = roc_auc_score(target_downsampled, logistic_reg_predictions_train)\n",
    "auc_roc_logistic_reg_valid = roc_auc_score(target_valid, logistic_reg_predictions_valid)\n",
    "print('Regresion logistica-train-F1:', f1_logistic_reg_train)\n",
    "print('Regresion logistica-valid-F1:', f1_logistic_reg_valid)\n",
    "print('Regresion logistica-train-AUC-ROC:', auc_roc_logistic_reg_train)\n",
    "print('Regresion logistica-valid-AUC-ROC:', auc_roc_logistic_reg_valid)"
   ]
  },
  {
   "cell_type": "markdown",
   "metadata": {},
   "source": [
    "a) Para la compracion entre el F1 acore nos indica un sobreajuste notorio este descenso indica que el modelo tiene dificultades para generalizar a datos no vistos y no logra identificar adecuadamente a los clientes que abandonan\n",
    "b) Para la compracion de AUC-ROC entre el conjunto de entramiento y validacion refleja una capacidad limitada para discriminar correctamente entre las clases en datos no vistos, este  valor es inferior al AUC del conjunto de entrenamiento, lo que nos muestra la idea de que el modelo no se está generalizando correctamente"
   ]
  },
  {
   "cell_type": "markdown",
   "metadata": {},
   "source": [
    "## Realiza la prueba final."
   ]
  },
  {
   "cell_type": "markdown",
   "metadata": {},
   "source": [
    "### Se realizara la prueba final con el sobremuestreo con los modelos de Random Forest y Decision Tree que fueron los modelos con un F1 score con conjuntos de entrenamiento y validacion  mayores o iguales a 0.59 que es el objetivo a llegar en el proyecto"
   ]
  },
  {
   "cell_type": "markdown",
   "metadata": {},
   "source": [
    "### Decision Tree"
   ]
  },
  {
   "cell_type": "code",
   "execution_count": 36,
   "metadata": {},
   "outputs": [
    {
     "name": "stdout",
     "output_type": "stream",
     "text": [
      "F1 Score ajustado (prueba): 0.514792899408284\n",
      "AUC-ROC con umbral ajustado (prueba): 0.8244122439740299\n"
     ]
    }
   ],
   "source": [
    "# Hacer predicciones en el conjunto de prueba\n",
    "probabilities_test = dtree_model.predict_proba(features_test)[:, 1]\n",
    "\n",
    "# Aplicar el umbral ajustado\n",
    "predictions_adjusted_test = (probabilities_test >= best_threshold).astype(int)\n",
    "\n",
    "# Calcular F1 Score para el conjunto de prueba\n",
    "f1_test = f1_score(target_test, predictions_adjusted_test)\n",
    "\n",
    "# Calcular AUC-ROC para el conjunto de prueba\n",
    "auc_roc_test = roc_auc_score(target_test, probabilities_test)\n",
    "\n",
    "print(\"F1 Score ajustado (prueba):\", f1_test)\n",
    "print(\"AUC-ROC con umbral ajustado (prueba):\", auc_roc_test)"
   ]
  },
  {
   "cell_type": "code",
   "execution_count": 37,
   "metadata": {},
   "outputs": [
    {
     "name": "stdout",
     "output_type": "stream",
     "text": [
      "             Métrica  Entrenamiento  Validacion    Prueba\n",
      "0  F1 Score Ajustado         0.7638      0.6034  0.514793\n",
      "1   AUC-ROC Ajustado         0.7581      0.7548  0.824412\n"
     ]
    }
   ],
   "source": [
    "# Definir los datos\n",
    "data = {\n",
    "    'Métrica': ['F1 Score Ajustado', 'AUC-ROC Ajustado'],\n",
    "    'Entrenamiento': [0.7638, 0.7581],\n",
    "    'Validacion': [0.6034, 0.7548],\n",
    "    'Prueba': [0.514792899408284, 0.8244122439740299]\n",
    "}\n",
    "\n",
    "# Crear el DataFrame\n",
    "metrics_df = pd.DataFrame(data)\n",
    "\n",
    "# Mostrar el DataFrame\n",
    "print(metrics_df)"
   ]
  },
  {
   "cell_type": "markdown",
   "metadata": {},
   "source": [
    "1. Analisis de F1 score\n",
    "a) Para entrenamiento el valor nos indica que el modelo tiene buen rendimiento en la identificacion de los clientes que abandonan\n",
    "b) Para validacion el valor disminuye nos indica que el modelo presenta dificultades para generalizar datos no vistos\n",
    "c) En el conjunto de prueba el valor cae considerablemente por debajo del umbral deseado el modelo no esta identificado adecuadamente a los clientes que abandonan en datos no vistos esto es un claro ejemplo de sobreajuste, pero en compracion con el submuestreo los valores de F1 del conjunto de validacion y entrenamiento ni siquiera llegaban al valor de 0.59, con sobremuestreo y ajustando el umbral mejorares los valores para F1.\n",
    "2. AUC-ROC\n",
    "a) Para entrenamiento el valor nos indica que el modelo tiene capacidad de discriminar entre las personas que abandonan y las que no.\n",
    "b) Para validacion presenta un valor adecuado el cual nos sugiere que el modelo es efectivo en la clasificacion\n",
    "c) Para prueba aumenta en valor en compracion nos indica que el modelo tiene la capacidad para clasificar correctamente las clases\n",
    "Compracion entre F1 score y AUC-ROC\n",
    "aunque el modelo puede discriminar bien entre las clases mencionadas no presenta una armonia o equilibrio adecuado entre la precision y el recall en la identificacion de los clientes que abandonan \n"
   ]
  },
  {
   "cell_type": "markdown",
   "metadata": {},
   "source": [
    "### Random Forest"
   ]
  },
  {
   "cell_type": "code",
   "execution_count": 38,
   "metadata": {},
   "outputs": [
    {
     "name": "stdout",
     "output_type": "stream",
     "text": [
      "F1 Score ajustado (prueba): 0.5059171597633136\n",
      "AUC-ROC con umbral ajustado (prueba): 0.8073106161113286\n"
     ]
    }
   ],
   "source": [
    "# Hacer predicciones en el conjunto de prueba\n",
    "probabilities_test = random_forest.predict_proba(features_test)[:, 1]\n",
    "\n",
    "# Aplicar el umbral ajustado\n",
    "predictions_adjusted_test = (probabilities_test >= best_threshold).astype(int)\n",
    "\n",
    "# Calcular F1 Score para el conjunto de prueba\n",
    "f1_test = f1_score(target_test, predictions_adjusted_test)\n",
    "\n",
    "# Calcular AUC-ROC para el conjunto de prueba\n",
    "auc_roc_test = roc_auc_score(target_test, probabilities_test)\n",
    "\n",
    "# Imprimir los resultados\n",
    "print(\"F1 Score ajustado (prueba):\", f1_test)\n",
    "print(\"AUC-ROC con umbral ajustado (prueba):\", auc_roc_test)"
   ]
  },
  {
   "cell_type": "code",
   "execution_count": 39,
   "metadata": {},
   "outputs": [
    {
     "name": "stdout",
     "output_type": "stream",
     "text": [
      "             Metrica  Entrenamiento  Validacion  Prueba\n",
      "0  F1 Score Ajustado         0.7169      0.6173  0.5059\n",
      "1   AUC-ROC Ajustado         0.7409      0.7542  0.8073\n"
     ]
    }
   ],
   "source": [
    "# Definir los datos\n",
    "data = {\n",
    "    'Metrica': ['F1 Score Ajustado', 'AUC-ROC Ajustado'],\n",
    "    'Entrenamiento': [0.7169, 0.7409],\n",
    "    'Validacion': [0.6173, 0.7542],\n",
    "    'Prueba': [0.5059, 0.8073]\n",
    "}\n",
    "\n",
    "# Crear el DataFrame\n",
    "metrics_df = pd.DataFrame(data)\n",
    "\n",
    "# Mostrar el DataFrame\n",
    "print(metrics_df)"
   ]
  },
  {
   "cell_type": "markdown",
   "metadata": {},
   "source": [
    "1. Analisis de F1 score\n",
    "a) Para entrenamiento el valor nos indica que el modelo tiende buen rendimiento con los clientes que abandonan\n",
    "b) Para validacion el resultado nos sugiere que el modelo comienza a presentar dificultades  para generalizar datos no vistos \n",
    "c) En el conjunto de prueba el valor nos indica que esta bajo valor deseado de F1 ya que el modelo no esta identificando correctamente los clientes que abandonan en datos no vistos\n",
    "2. AUC-ROC\n",
    "a) Para entrenamiento el valor nos indica que el modelo tiene capacidad de discriminar entre las personas que abandonan y las que no.\n",
    "b) Para validacion en compracion con el entrenamiento aumenta y nos indica la capacidad del modelo para clasificar \n",
    "c) Para prueba a pesar de que disminuye el F1 el valor del AUC-ROC nos indica que el modelo sigue teniendo una clasificacion adecuada para la clase que abandona y la que no\n",
    "\n"
   ]
  },
  {
   "cell_type": "markdown",
   "metadata": {},
   "source": [
    "### Logistic Regresion"
   ]
  },
  {
   "cell_type": "code",
   "execution_count": 40,
   "metadata": {},
   "outputs": [
    {
     "name": "stdout",
     "output_type": "stream",
     "text": [
      "Regresión Logística - F1 Score (Prueba): 0.46351931330472107\n",
      "Regresión Logística - AUC-ROC (Prueba): 0.6694976996451654\n"
     ]
    }
   ],
   "source": [
    "# Hacer predicciones en el conjunto de prueba\n",
    "predictions_log_test = log_model.predict(features_test)\n",
    "\n",
    "# Calcular F1 Score para el conjunto de prueba\n",
    "f1_log_test = f1_score(target_test, predictions_log_test)\n",
    "\n",
    "# Calcular AUC-ROC para el conjunto de prueba\n",
    "auc_roc_log_test = roc_auc_score(target_test, predictions_log_test)\n",
    "\n",
    "# Imprimir los resultados\n",
    "print(\"Regresión Logística - F1 Score (Prueba):\", f1_log_test)\n",
    "print(\"Regresión Logística - AUC-ROC (Prueba):\", auc_roc_log_test)"
   ]
  },
  {
   "cell_type": "code",
   "execution_count": 41,
   "metadata": {
    "scrolled": true
   },
   "outputs": [
    {
     "name": "stdout",
     "output_type": "stream",
     "text": [
      "    Metrica  Entrenamiento  Validacion  Prueba\n",
      "0  F1 Score         0.7652      0.4793  0.4635\n",
      "1   AUC-ROC         0.6953      0.6859  0.6695\n"
     ]
    }
   ],
   "source": [
    "# Definir los datos\n",
    "data = {\n",
    "    'Metrica': ['F1 Score', 'AUC-ROC'],\n",
    "    'Entrenamiento': [0.7652, 0.6953],\n",
    "    'Validacion': [0.4793, 0.6859],\n",
    "    'Prueba': [0.4635, 0.6695]\n",
    "}\n",
    "\n",
    "# Crear el DataFrame\n",
    "metrics_df_logistic = pd.DataFrame(data)\n",
    "\n",
    "# Mostrar el DataFrame\n",
    "print(metrics_df_logistic)"
   ]
  },
  {
   "cell_type": "markdown",
   "metadata": {},
   "source": [
    "1. Analisis de F1 score\n",
    "a) Para entrenamiento el valor indica un rendimiento adecuado para la identificacion de clientes en riesgo de abandonar\n",
    "b) Para validacion la disminuciion en el valor nos indica que el modelo esta presentando dificultades para generalizar datos no vistos\n",
    "c) En el conjunto de prueba hay una marcada diferencia en la disminucion del valor lo que nos indica que el modelo sobre la precision en el abandono de clientes\n",
    "2. AUC-ROC\n",
    "a) Para entrenamiento el valor nos indicar que el modelo tiene cierta capacidad para diferenciar entre clientes que abandonan y los que no lo hacen\n",
    "b) Para validacion  el valor disminuye en comparacion, pero a pesar de ello presentando una clafisicando de igual forma efectiva\n",
    "c) Para prueba el valor nos indica una disminucion en la capacidad del modelo para discriminar correctamente entre las clases en especial con datos no vistos"
   ]
  },
  {
   "cell_type": "markdown",
   "metadata": {},
   "source": [
    "## Conclusion general"
   ]
  },
  {
   "cell_type": "markdown",
   "metadata": {},
   "source": [
    "EL objetivo del proyecto desarrollar un modelo predictivo que permita identificar a los clientes en riesgo de abandonar Beta Bank donde modelo se fundamenta en la premisa de que es más costeable retener a los clientes existentes que atraer nuevos, lo que hace esencial la implementación de estrategias efectivas de retencion.\n",
    "a) En el estudio del modelo donde se presento un desequilibrio de clases notorio, primero se hizo el tratamiento asi para los tres modelo Ramdom Forest, Decision Tree, Regresion Logistic los tres presentaron en F1 score para entrenamiento y validacion valores proximos lo cual no hay indicativo de sobreajuste ni subajuste, el modelo que sobresalio fue Random Forest que si cumplio con f1 score tanto para entrenamiento como validacion.\n",
    "b) Para sobremuestreo solo los modelos de Random Forest y Decision Tree llegaron y superaron el valor de F1 pero existe la presencia de un sobreajuste por parte del entrenamiento esta aprendiendo las respuestas hay dificultades para generalizar datos no vistos.\n",
    "b) Compracion entre F1 y AUC-ROC revela fallas notorias entre la capacidad discriminativa del modelo y la efectividad en la identificacion de clientes que abandonan, aunque los modelos  pueden diferenciar entre clases, no se esta logrando un equilibrio adecuado entre precision y recall lo que nos indica un gran numero de falsos negativos"
   ]
  }
 ],
 "metadata": {
  "ExecuteTimeLog": [
   {
    "duration": 2698,
    "start_time": "2024-12-27T03:51:37.002Z"
   },
   {
    "duration": 25,
    "start_time": "2024-12-27T03:51:39.703Z"
   },
   {
    "duration": 28,
    "start_time": "2024-12-27T03:52:12.087Z"
   },
   {
    "duration": 865,
    "start_time": "2024-12-27T05:16:01.494Z"
   },
   {
    "duration": 7,
    "start_time": "2024-12-27T05:16:39.783Z"
   },
   {
    "duration": 15,
    "start_time": "2024-12-27T05:57:11.535Z"
   },
   {
    "duration": 3,
    "start_time": "2024-12-27T06:55:04.348Z"
   },
   {
    "duration": 17,
    "start_time": "2024-12-27T06:55:04.353Z"
   },
   {
    "duration": 20,
    "start_time": "2024-12-27T06:55:04.372Z"
   },
   {
    "duration": 6,
    "start_time": "2024-12-27T06:55:04.393Z"
   },
   {
    "duration": 12,
    "start_time": "2024-12-27T06:55:04.401Z"
   },
   {
    "duration": 89,
    "start_time": "2024-12-27T06:55:04.416Z"
   },
   {
    "duration": 0,
    "start_time": "2024-12-27T06:55:04.506Z"
   },
   {
    "duration": 4,
    "start_time": "2024-12-27T06:55:16.887Z"
   },
   {
    "duration": 2675,
    "start_time": "2024-12-27T08:35:56.881Z"
   },
   {
    "duration": 26,
    "start_time": "2024-12-27T08:35:59.559Z"
   },
   {
    "duration": 27,
    "start_time": "2024-12-27T08:35:59.587Z"
   },
   {
    "duration": 7,
    "start_time": "2024-12-27T08:35:59.617Z"
   },
   {
    "duration": 15,
    "start_time": "2024-12-27T08:35:59.626Z"
   },
   {
    "duration": 4,
    "start_time": "2024-12-27T08:35:59.642Z"
   },
   {
    "duration": 6,
    "start_time": "2024-12-27T08:35:59.648Z"
   },
   {
    "duration": 11,
    "start_time": "2024-12-27T08:35:59.656Z"
   },
   {
    "duration": 39,
    "start_time": "2024-12-27T08:35:59.668Z"
   },
   {
    "duration": 3,
    "start_time": "2024-12-27T08:56:18.808Z"
   },
   {
    "duration": 18,
    "start_time": "2024-12-27T08:56:18.815Z"
   },
   {
    "duration": 19,
    "start_time": "2024-12-27T08:56:18.836Z"
   },
   {
    "duration": 5,
    "start_time": "2024-12-27T08:56:18.857Z"
   },
   {
    "duration": 13,
    "start_time": "2024-12-27T08:56:18.864Z"
   },
   {
    "duration": 26,
    "start_time": "2024-12-27T08:56:18.880Z"
   },
   {
    "duration": 8,
    "start_time": "2024-12-27T08:56:18.907Z"
   },
   {
    "duration": 11,
    "start_time": "2024-12-27T08:56:18.917Z"
   },
   {
    "duration": 4,
    "start_time": "2024-12-27T08:56:18.929Z"
   },
   {
    "duration": 458,
    "start_time": "2024-12-27T08:56:18.935Z"
   },
   {
    "duration": 3,
    "start_time": "2024-12-27T09:02:02.682Z"
   },
   {
    "duration": 20,
    "start_time": "2024-12-27T09:02:02.689Z"
   },
   {
    "duration": 25,
    "start_time": "2024-12-27T09:02:02.712Z"
   },
   {
    "duration": 4,
    "start_time": "2024-12-27T09:02:02.738Z"
   },
   {
    "duration": 7,
    "start_time": "2024-12-27T09:02:02.745Z"
   },
   {
    "duration": 16,
    "start_time": "2024-12-27T09:02:02.755Z"
   },
   {
    "duration": 4,
    "start_time": "2024-12-27T09:02:02.772Z"
   },
   {
    "duration": 34,
    "start_time": "2024-12-27T09:02:02.778Z"
   },
   {
    "duration": 13,
    "start_time": "2024-12-27T09:02:02.814Z"
   },
   {
    "duration": 4,
    "start_time": "2024-12-27T09:02:02.829Z"
   },
   {
    "duration": 93,
    "start_time": "2024-12-27T09:02:02.835Z"
   },
   {
    "duration": 2621,
    "start_time": "2024-12-27T15:18:42.812Z"
   },
   {
    "duration": 31,
    "start_time": "2024-12-27T15:18:45.435Z"
   },
   {
    "duration": 20,
    "start_time": "2024-12-27T15:18:45.467Z"
   },
   {
    "duration": 3,
    "start_time": "2024-12-27T15:18:45.489Z"
   },
   {
    "duration": 290,
    "start_time": "2024-12-27T15:18:45.493Z"
   },
   {
    "duration": 0,
    "start_time": "2024-12-27T15:18:45.785Z"
   },
   {
    "duration": 0,
    "start_time": "2024-12-27T15:18:45.786Z"
   },
   {
    "duration": 0,
    "start_time": "2024-12-27T15:18:45.788Z"
   },
   {
    "duration": 0,
    "start_time": "2024-12-27T15:18:45.789Z"
   },
   {
    "duration": 0,
    "start_time": "2024-12-27T15:18:45.791Z"
   },
   {
    "duration": 0,
    "start_time": "2024-12-27T15:18:45.792Z"
   },
   {
    "duration": 0,
    "start_time": "2024-12-27T15:18:45.794Z"
   },
   {
    "duration": 4,
    "start_time": "2024-12-27T15:19:09.873Z"
   },
   {
    "duration": 3,
    "start_time": "2024-12-27T15:19:16.490Z"
   },
   {
    "duration": 15,
    "start_time": "2024-12-27T15:19:16.495Z"
   },
   {
    "duration": 18,
    "start_time": "2024-12-27T15:19:16.512Z"
   },
   {
    "duration": 3,
    "start_time": "2024-12-27T15:19:16.533Z"
   },
   {
    "duration": 4,
    "start_time": "2024-12-27T15:19:16.538Z"
   },
   {
    "duration": 7,
    "start_time": "2024-12-27T15:19:16.543Z"
   },
   {
    "duration": 14,
    "start_time": "2024-12-27T15:19:16.551Z"
   },
   {
    "duration": 4,
    "start_time": "2024-12-27T15:19:16.566Z"
   },
   {
    "duration": 6,
    "start_time": "2024-12-27T15:19:16.572Z"
   },
   {
    "duration": 10,
    "start_time": "2024-12-27T15:19:16.580Z"
   },
   {
    "duration": 4,
    "start_time": "2024-12-27T15:19:16.592Z"
   },
   {
    "duration": 219,
    "start_time": "2024-12-27T15:19:16.598Z"
   },
   {
    "duration": 3,
    "start_time": "2024-12-27T15:24:34.473Z"
   },
   {
    "duration": 15,
    "start_time": "2024-12-27T15:24:34.482Z"
   },
   {
    "duration": 19,
    "start_time": "2024-12-27T15:24:34.499Z"
   },
   {
    "duration": 4,
    "start_time": "2024-12-27T15:24:34.519Z"
   },
   {
    "duration": 4,
    "start_time": "2024-12-27T15:24:34.524Z"
   },
   {
    "duration": 7,
    "start_time": "2024-12-27T15:24:34.530Z"
   },
   {
    "duration": 14,
    "start_time": "2024-12-27T15:24:34.538Z"
   },
   {
    "duration": 4,
    "start_time": "2024-12-27T15:24:34.553Z"
   },
   {
    "duration": 5,
    "start_time": "2024-12-27T15:24:34.560Z"
   },
   {
    "duration": 3,
    "start_time": "2024-12-27T15:24:34.567Z"
   },
   {
    "duration": 0,
    "start_time": "2024-12-27T15:24:34.571Z"
   },
   {
    "duration": 0,
    "start_time": "2024-12-27T15:24:34.573Z"
   },
   {
    "duration": 0,
    "start_time": "2024-12-27T15:24:34.573Z"
   },
   {
    "duration": 4,
    "start_time": "2024-12-27T15:24:42.175Z"
   },
   {
    "duration": 3,
    "start_time": "2024-12-27T15:25:33.476Z"
   },
   {
    "duration": 16,
    "start_time": "2024-12-27T15:25:33.481Z"
   },
   {
    "duration": 18,
    "start_time": "2024-12-27T15:25:33.498Z"
   },
   {
    "duration": 3,
    "start_time": "2024-12-27T15:25:33.518Z"
   },
   {
    "duration": 4,
    "start_time": "2024-12-27T15:25:33.524Z"
   },
   {
    "duration": 6,
    "start_time": "2024-12-27T15:25:33.530Z"
   },
   {
    "duration": 8,
    "start_time": "2024-12-27T15:25:33.543Z"
   },
   {
    "duration": 12,
    "start_time": "2024-12-27T15:25:33.553Z"
   },
   {
    "duration": 4,
    "start_time": "2024-12-27T15:25:33.567Z"
   },
   {
    "duration": 6,
    "start_time": "2024-12-27T15:25:33.572Z"
   },
   {
    "duration": 3,
    "start_time": "2024-12-27T15:25:33.580Z"
   },
   {
    "duration": 12,
    "start_time": "2024-12-27T15:25:33.584Z"
   },
   {
    "duration": 4,
    "start_time": "2024-12-27T15:25:33.599Z"
   },
   {
    "duration": 85,
    "start_time": "2024-12-27T15:25:33.643Z"
   },
   {
    "duration": 4,
    "start_time": "2024-12-27T15:50:04.232Z"
   },
   {
    "duration": 16,
    "start_time": "2024-12-27T15:50:04.238Z"
   },
   {
    "duration": 20,
    "start_time": "2024-12-27T15:50:04.256Z"
   },
   {
    "duration": 4,
    "start_time": "2024-12-27T15:50:04.278Z"
   },
   {
    "duration": 4,
    "start_time": "2024-12-27T15:50:04.283Z"
   },
   {
    "duration": 6,
    "start_time": "2024-12-27T15:50:04.289Z"
   },
   {
    "duration": 9,
    "start_time": "2024-12-27T15:50:04.296Z"
   },
   {
    "duration": 45,
    "start_time": "2024-12-27T15:50:04.306Z"
   },
   {
    "duration": 4,
    "start_time": "2024-12-27T15:50:04.353Z"
   },
   {
    "duration": 6,
    "start_time": "2024-12-27T15:50:04.358Z"
   },
   {
    "duration": 3,
    "start_time": "2024-12-27T15:50:04.366Z"
   },
   {
    "duration": 3,
    "start_time": "2024-12-27T15:50:04.370Z"
   },
   {
    "duration": 14,
    "start_time": "2024-12-27T15:50:04.375Z"
   },
   {
    "duration": 4,
    "start_time": "2024-12-27T15:50:04.391Z"
   },
   {
    "duration": 121,
    "start_time": "2024-12-27T15:50:04.397Z"
   },
   {
    "duration": 968,
    "start_time": "2024-12-27T15:51:32.129Z"
   },
   {
    "duration": 15,
    "start_time": "2024-12-27T15:51:33.099Z"
   },
   {
    "duration": 29,
    "start_time": "2024-12-27T15:51:33.116Z"
   },
   {
    "duration": 3,
    "start_time": "2024-12-27T15:51:33.147Z"
   },
   {
    "duration": 4,
    "start_time": "2024-12-27T15:51:33.154Z"
   },
   {
    "duration": 6,
    "start_time": "2024-12-27T15:51:33.160Z"
   },
   {
    "duration": 8,
    "start_time": "2024-12-27T15:51:33.168Z"
   },
   {
    "duration": 13,
    "start_time": "2024-12-27T15:51:33.178Z"
   },
   {
    "duration": 3,
    "start_time": "2024-12-27T15:51:33.193Z"
   },
   {
    "duration": 45,
    "start_time": "2024-12-27T15:51:33.198Z"
   },
   {
    "duration": 4,
    "start_time": "2024-12-27T15:51:33.244Z"
   },
   {
    "duration": 3,
    "start_time": "2024-12-27T15:51:33.250Z"
   },
   {
    "duration": 15,
    "start_time": "2024-12-27T15:51:33.254Z"
   },
   {
    "duration": 5,
    "start_time": "2024-12-27T15:51:33.272Z"
   },
   {
    "duration": 431,
    "start_time": "2024-12-27T15:51:33.279Z"
   },
   {
    "duration": 29,
    "start_time": "2024-12-27T15:53:31.778Z"
   },
   {
    "duration": 2819,
    "start_time": "2024-12-28T02:30:26.732Z"
   },
   {
    "duration": 28,
    "start_time": "2024-12-28T02:30:29.553Z"
   },
   {
    "duration": 22,
    "start_time": "2024-12-28T02:30:29.583Z"
   },
   {
    "duration": 4,
    "start_time": "2024-12-28T02:30:29.607Z"
   },
   {
    "duration": 6,
    "start_time": "2024-12-28T02:30:29.613Z"
   },
   {
    "duration": 8,
    "start_time": "2024-12-28T02:30:29.632Z"
   },
   {
    "duration": 11,
    "start_time": "2024-12-28T02:30:29.641Z"
   },
   {
    "duration": 16,
    "start_time": "2024-12-28T02:30:29.654Z"
   },
   {
    "duration": 4,
    "start_time": "2024-12-28T02:30:29.672Z"
   },
   {
    "duration": 8,
    "start_time": "2024-12-28T02:30:29.678Z"
   },
   {
    "duration": 3,
    "start_time": "2024-12-28T02:30:29.688Z"
   },
   {
    "duration": 39,
    "start_time": "2024-12-28T02:30:29.693Z"
   },
   {
    "duration": 15,
    "start_time": "2024-12-28T02:30:29.734Z"
   },
   {
    "duration": 6,
    "start_time": "2024-12-28T02:30:29.752Z"
   },
   {
    "duration": 31,
    "start_time": "2024-12-28T02:30:29.759Z"
   },
   {
    "duration": 8,
    "start_time": "2024-12-28T02:30:29.791Z"
   },
   {
    "duration": 456,
    "start_time": "2024-12-28T02:30:47.840Z"
   },
   {
    "duration": 24,
    "start_time": "2024-12-28T02:46:06.207Z"
   },
   {
    "duration": 452,
    "start_time": "2024-12-28T02:46:09.793Z"
   },
   {
    "duration": 11,
    "start_time": "2024-12-28T02:59:22.115Z"
   },
   {
    "duration": 2665,
    "start_time": "2024-12-28T04:25:53.243Z"
   },
   {
    "duration": 27,
    "start_time": "2024-12-28T04:25:55.910Z"
   },
   {
    "duration": 20,
    "start_time": "2024-12-28T04:25:55.939Z"
   },
   {
    "duration": 2,
    "start_time": "2024-12-28T04:25:55.961Z"
   },
   {
    "duration": 4,
    "start_time": "2024-12-28T04:25:55.966Z"
   },
   {
    "duration": 8,
    "start_time": "2024-12-28T04:25:55.971Z"
   },
   {
    "duration": 8,
    "start_time": "2024-12-28T04:25:55.980Z"
   },
   {
    "duration": 13,
    "start_time": "2024-12-28T04:25:55.990Z"
   },
   {
    "duration": 4,
    "start_time": "2024-12-28T04:25:56.005Z"
   },
   {
    "duration": 9,
    "start_time": "2024-12-28T04:25:56.043Z"
   },
   {
    "duration": 3,
    "start_time": "2024-12-28T04:25:56.054Z"
   },
   {
    "duration": 3,
    "start_time": "2024-12-28T04:25:56.059Z"
   },
   {
    "duration": 13,
    "start_time": "2024-12-28T04:25:56.064Z"
   },
   {
    "duration": 4,
    "start_time": "2024-12-28T04:25:56.080Z"
   },
   {
    "duration": 57,
    "start_time": "2024-12-28T04:25:56.086Z"
   },
   {
    "duration": 451,
    "start_time": "2024-12-28T04:25:56.144Z"
   },
   {
    "duration": 12,
    "start_time": "2024-12-28T04:25:56.598Z"
   },
   {
    "duration": 408,
    "start_time": "2024-12-28T04:25:56.644Z"
   },
   {
    "duration": 0,
    "start_time": "2024-12-28T04:25:57.054Z"
   },
   {
    "duration": 6,
    "start_time": "2024-12-28T04:26:41.949Z"
   },
   {
    "duration": 39,
    "start_time": "2024-12-28T04:26:46.879Z"
   },
   {
    "duration": 4,
    "start_time": "2024-12-28T04:27:17.800Z"
   },
   {
    "duration": 14,
    "start_time": "2024-12-28T04:27:21.799Z"
   },
   {
    "duration": 3,
    "start_time": "2024-12-28T04:28:51.855Z"
   },
   {
    "duration": 14,
    "start_time": "2024-12-28T04:28:55.219Z"
   },
   {
    "duration": 14,
    "start_time": "2024-12-28T04:29:53.440Z"
   },
   {
    "duration": 52,
    "start_time": "2024-12-28T04:32:41.968Z"
   },
   {
    "duration": 3,
    "start_time": "2024-12-28T04:32:58.465Z"
   },
   {
    "duration": 5,
    "start_time": "2024-12-28T04:33:31.569Z"
   },
   {
    "duration": 3,
    "start_time": "2024-12-28T04:33:37.335Z"
   },
   {
    "duration": 43,
    "start_time": "2024-12-28T04:33:46.460Z"
   },
   {
    "duration": 3,
    "start_time": "2024-12-28T04:52:50.511Z"
   },
   {
    "duration": 17,
    "start_time": "2024-12-28T04:52:50.516Z"
   },
   {
    "duration": 25,
    "start_time": "2024-12-28T04:52:50.535Z"
   },
   {
    "duration": 3,
    "start_time": "2024-12-28T04:52:50.562Z"
   },
   {
    "duration": 6,
    "start_time": "2024-12-28T04:52:50.568Z"
   },
   {
    "duration": 7,
    "start_time": "2024-12-28T04:52:50.575Z"
   },
   {
    "duration": 9,
    "start_time": "2024-12-28T04:52:50.583Z"
   },
   {
    "duration": 13,
    "start_time": "2024-12-28T04:52:50.594Z"
   },
   {
    "duration": 36,
    "start_time": "2024-12-28T04:52:50.609Z"
   },
   {
    "duration": 7,
    "start_time": "2024-12-28T04:52:50.647Z"
   },
   {
    "duration": 4,
    "start_time": "2024-12-28T04:52:50.657Z"
   },
   {
    "duration": 3,
    "start_time": "2024-12-28T04:52:50.662Z"
   },
   {
    "duration": 16,
    "start_time": "2024-12-28T04:52:50.667Z"
   },
   {
    "duration": 5,
    "start_time": "2024-12-28T04:52:50.684Z"
   },
   {
    "duration": 65,
    "start_time": "2024-12-28T04:52:50.691Z"
   },
   {
    "duration": 462,
    "start_time": "2024-12-28T04:52:50.759Z"
   },
   {
    "duration": 23,
    "start_time": "2024-12-28T04:52:51.224Z"
   },
   {
    "duration": 6,
    "start_time": "2024-12-28T04:52:51.248Z"
   },
   {
    "duration": 115,
    "start_time": "2024-12-28T04:52:51.256Z"
   },
   {
    "duration": 0,
    "start_time": "2024-12-28T04:52:51.372Z"
   },
   {
    "duration": 3,
    "start_time": "2024-12-28T04:56:21.678Z"
   },
   {
    "duration": 15,
    "start_time": "2024-12-28T04:56:21.683Z"
   },
   {
    "duration": 18,
    "start_time": "2024-12-28T04:56:21.701Z"
   },
   {
    "duration": 3,
    "start_time": "2024-12-28T04:56:21.721Z"
   },
   {
    "duration": 4,
    "start_time": "2024-12-28T04:56:21.726Z"
   },
   {
    "duration": 6,
    "start_time": "2024-12-28T04:56:21.732Z"
   },
   {
    "duration": 9,
    "start_time": "2024-12-28T04:56:21.740Z"
   },
   {
    "duration": 13,
    "start_time": "2024-12-28T04:56:21.751Z"
   },
   {
    "duration": 4,
    "start_time": "2024-12-28T04:56:21.765Z"
   },
   {
    "duration": 5,
    "start_time": "2024-12-28T04:56:21.771Z"
   },
   {
    "duration": 3,
    "start_time": "2024-12-28T04:56:21.780Z"
   },
   {
    "duration": 2,
    "start_time": "2024-12-28T04:56:21.785Z"
   },
   {
    "duration": 13,
    "start_time": "2024-12-28T04:56:21.790Z"
   },
   {
    "duration": 41,
    "start_time": "2024-12-28T04:56:21.804Z"
   },
   {
    "duration": 25,
    "start_time": "2024-12-28T04:56:21.847Z"
   },
   {
    "duration": 458,
    "start_time": "2024-12-28T04:56:21.873Z"
   },
   {
    "duration": 13,
    "start_time": "2024-12-28T04:56:22.333Z"
   },
   {
    "duration": 2,
    "start_time": "2024-12-28T04:56:22.348Z"
   },
   {
    "duration": 4,
    "start_time": "2024-12-28T04:56:22.352Z"
   },
   {
    "duration": 112,
    "start_time": "2024-12-28T04:56:22.358Z"
   },
   {
    "duration": 0,
    "start_time": "2024-12-28T04:56:22.472Z"
   },
   {
    "duration": 3,
    "start_time": "2024-12-28T05:06:13.117Z"
   },
   {
    "duration": 16,
    "start_time": "2024-12-28T05:06:13.122Z"
   },
   {
    "duration": 19,
    "start_time": "2024-12-28T05:06:13.140Z"
   },
   {
    "duration": 3,
    "start_time": "2024-12-28T05:06:13.162Z"
   },
   {
    "duration": 5,
    "start_time": "2024-12-28T05:06:13.167Z"
   },
   {
    "duration": 7,
    "start_time": "2024-12-28T05:06:13.173Z"
   },
   {
    "duration": 9,
    "start_time": "2024-12-28T05:06:13.181Z"
   },
   {
    "duration": 12,
    "start_time": "2024-12-28T05:06:13.192Z"
   },
   {
    "duration": 5,
    "start_time": "2024-12-28T05:06:13.243Z"
   },
   {
    "duration": 7,
    "start_time": "2024-12-28T05:06:13.249Z"
   },
   {
    "duration": 3,
    "start_time": "2024-12-28T05:06:13.258Z"
   },
   {
    "duration": 3,
    "start_time": "2024-12-28T05:06:13.263Z"
   },
   {
    "duration": 14,
    "start_time": "2024-12-28T05:06:13.268Z"
   },
   {
    "duration": 4,
    "start_time": "2024-12-28T05:06:13.283Z"
   },
   {
    "duration": 63,
    "start_time": "2024-12-28T05:06:13.289Z"
   },
   {
    "duration": 453,
    "start_time": "2024-12-28T05:06:13.354Z"
   },
   {
    "duration": 11,
    "start_time": "2024-12-28T05:06:13.810Z"
   },
   {
    "duration": 3,
    "start_time": "2024-12-28T05:06:13.843Z"
   },
   {
    "duration": 575,
    "start_time": "2024-12-28T05:06:13.847Z"
   },
   {
    "duration": 0,
    "start_time": "2024-12-28T05:06:14.424Z"
   },
   {
    "duration": 0,
    "start_time": "2024-12-28T05:06:14.425Z"
   },
   {
    "duration": 0,
    "start_time": "2024-12-28T05:06:14.426Z"
   },
   {
    "duration": 15,
    "start_time": "2024-12-28T05:09:27.451Z"
   },
   {
    "duration": 992,
    "start_time": "2024-12-28T05:11:58.871Z"
   },
   {
    "duration": 16,
    "start_time": "2024-12-28T05:11:59.864Z"
   },
   {
    "duration": 20,
    "start_time": "2024-12-28T05:11:59.882Z"
   },
   {
    "duration": 3,
    "start_time": "2024-12-28T05:11:59.905Z"
   },
   {
    "duration": 5,
    "start_time": "2024-12-28T05:11:59.909Z"
   },
   {
    "duration": 30,
    "start_time": "2024-12-28T05:11:59.915Z"
   },
   {
    "duration": 8,
    "start_time": "2024-12-28T05:11:59.947Z"
   },
   {
    "duration": 13,
    "start_time": "2024-12-28T05:11:59.957Z"
   },
   {
    "duration": 4,
    "start_time": "2024-12-28T05:11:59.971Z"
   },
   {
    "duration": 7,
    "start_time": "2024-12-28T05:11:59.978Z"
   },
   {
    "duration": 4,
    "start_time": "2024-12-28T05:11:59.986Z"
   },
   {
    "duration": 3,
    "start_time": "2024-12-28T05:11:59.991Z"
   },
   {
    "duration": 3,
    "start_time": "2024-12-28T05:11:59.995Z"
   },
   {
    "duration": 53,
    "start_time": "2024-12-28T05:11:59.999Z"
   },
   {
    "duration": 4,
    "start_time": "2024-12-28T05:12:00.054Z"
   },
   {
    "duration": 25,
    "start_time": "2024-12-28T05:12:00.060Z"
   },
   {
    "duration": 474,
    "start_time": "2024-12-28T05:12:00.087Z"
   },
   {
    "duration": 12,
    "start_time": "2024-12-28T05:12:00.564Z"
   },
   {
    "duration": 6,
    "start_time": "2024-12-28T05:12:00.577Z"
   },
   {
    "duration": 849,
    "start_time": "2024-12-28T05:12:00.585Z"
   },
   {
    "duration": 0,
    "start_time": "2024-12-28T05:12:01.436Z"
   },
   {
    "duration": 0,
    "start_time": "2024-12-28T05:12:01.437Z"
   },
   {
    "duration": 0,
    "start_time": "2024-12-28T05:12:01.442Z"
   },
   {
    "duration": 3,
    "start_time": "2024-12-28T05:22:54.928Z"
   },
   {
    "duration": 16,
    "start_time": "2024-12-28T05:22:54.934Z"
   },
   {
    "duration": 19,
    "start_time": "2024-12-28T05:22:54.952Z"
   },
   {
    "duration": 4,
    "start_time": "2024-12-28T05:22:54.972Z"
   },
   {
    "duration": 3,
    "start_time": "2024-12-28T05:22:54.979Z"
   },
   {
    "duration": 6,
    "start_time": "2024-12-28T05:22:54.984Z"
   },
   {
    "duration": 9,
    "start_time": "2024-12-28T05:22:54.991Z"
   },
   {
    "duration": 43,
    "start_time": "2024-12-28T05:22:55.001Z"
   },
   {
    "duration": 4,
    "start_time": "2024-12-28T05:22:55.045Z"
   },
   {
    "duration": 6,
    "start_time": "2024-12-28T05:22:55.051Z"
   },
   {
    "duration": 3,
    "start_time": "2024-12-28T05:22:55.060Z"
   },
   {
    "duration": 2,
    "start_time": "2024-12-28T05:22:55.065Z"
   },
   {
    "duration": 2,
    "start_time": "2024-12-28T05:22:55.069Z"
   },
   {
    "duration": 14,
    "start_time": "2024-12-28T05:22:55.073Z"
   },
   {
    "duration": 5,
    "start_time": "2024-12-28T05:22:55.088Z"
   },
   {
    "duration": 65,
    "start_time": "2024-12-28T05:22:55.095Z"
   },
   {
    "duration": 467,
    "start_time": "2024-12-28T05:22:55.162Z"
   },
   {
    "duration": 20,
    "start_time": "2024-12-28T05:22:55.630Z"
   },
   {
    "duration": 3,
    "start_time": "2024-12-28T05:22:55.652Z"
   },
   {
    "duration": 4,
    "start_time": "2024-12-28T05:22:55.657Z"
   },
   {
    "duration": 80,
    "start_time": "2024-12-28T05:22:55.663Z"
   },
   {
    "duration": 141,
    "start_time": "2024-12-28T05:22:55.744Z"
   },
   {
    "duration": 0,
    "start_time": "2024-12-28T05:22:55.886Z"
   },
   {
    "duration": 4,
    "start_time": "2024-12-28T05:25:25.568Z"
   },
   {
    "duration": 3,
    "start_time": "2024-12-28T05:25:36.382Z"
   },
   {
    "duration": 37,
    "start_time": "2024-12-28T05:25:44.123Z"
   },
   {
    "duration": 4,
    "start_time": "2024-12-28T05:28:10.113Z"
   },
   {
    "duration": 14,
    "start_time": "2024-12-28T05:28:10.127Z"
   },
   {
    "duration": 19,
    "start_time": "2024-12-28T05:28:10.143Z"
   },
   {
    "duration": 3,
    "start_time": "2024-12-28T05:28:10.164Z"
   },
   {
    "duration": 4,
    "start_time": "2024-12-28T05:28:10.169Z"
   },
   {
    "duration": 6,
    "start_time": "2024-12-28T05:28:10.175Z"
   },
   {
    "duration": 8,
    "start_time": "2024-12-28T05:28:10.183Z"
   },
   {
    "duration": 12,
    "start_time": "2024-12-28T05:28:10.193Z"
   },
   {
    "duration": 5,
    "start_time": "2024-12-28T05:28:10.242Z"
   },
   {
    "duration": 7,
    "start_time": "2024-12-28T05:28:10.248Z"
   },
   {
    "duration": 4,
    "start_time": "2024-12-28T05:28:10.256Z"
   },
   {
    "duration": 3,
    "start_time": "2024-12-28T05:28:10.261Z"
   },
   {
    "duration": 2,
    "start_time": "2024-12-28T05:28:10.269Z"
   },
   {
    "duration": 14,
    "start_time": "2024-12-28T05:28:10.273Z"
   },
   {
    "duration": 4,
    "start_time": "2024-12-28T05:28:10.289Z"
   },
   {
    "duration": 66,
    "start_time": "2024-12-28T05:28:10.295Z"
   },
   {
    "duration": 461,
    "start_time": "2024-12-28T05:28:10.362Z"
   },
   {
    "duration": 24,
    "start_time": "2024-12-28T05:28:10.824Z"
   },
   {
    "duration": 3,
    "start_time": "2024-12-28T05:28:10.850Z"
   },
   {
    "duration": 4,
    "start_time": "2024-12-28T05:28:10.854Z"
   },
   {
    "duration": 2,
    "start_time": "2024-12-28T05:28:10.860Z"
   },
   {
    "duration": 79,
    "start_time": "2024-12-28T05:28:10.864Z"
   },
   {
    "duration": 9,
    "start_time": "2024-12-28T05:28:10.945Z"
   },
   {
    "duration": 48,
    "start_time": "2024-12-28T05:28:10.955Z"
   },
   {
    "duration": 48,
    "start_time": "2024-12-28T05:29:32.317Z"
   },
   {
    "duration": 42,
    "start_time": "2024-12-28T05:30:47.435Z"
   },
   {
    "duration": 48,
    "start_time": "2024-12-28T05:31:24.707Z"
   },
   {
    "duration": 6,
    "start_time": "2024-12-28T07:25:47.796Z"
   },
   {
    "duration": 6,
    "start_time": "2024-12-28T07:27:40.879Z"
   },
   {
    "duration": 5,
    "start_time": "2024-12-28T07:27:46.483Z"
   },
   {
    "duration": 16503,
    "start_time": "2024-12-28T07:28:45.971Z"
   },
   {
    "duration": 16449,
    "start_time": "2024-12-28T07:36:21.275Z"
   },
   {
    "duration": 16521,
    "start_time": "2024-12-28T07:37:32.746Z"
   },
   {
    "duration": 32699,
    "start_time": "2024-12-28T07:44:08.764Z"
   },
   {
    "duration": 27,
    "start_time": "2024-12-28T07:53:01.111Z"
   },
   {
    "duration": 248,
    "start_time": "2024-12-28T07:53:23.930Z"
   },
   {
    "duration": 32828,
    "start_time": "2024-12-28T07:55:05.701Z"
   },
   {
    "duration": 47194,
    "start_time": "2024-12-28T07:58:07.602Z"
   },
   {
    "duration": 32532,
    "start_time": "2024-12-28T08:00:15.175Z"
   },
   {
    "duration": 1020,
    "start_time": "2024-12-28T08:01:09.668Z"
   },
   {
    "duration": 16,
    "start_time": "2024-12-28T08:01:10.690Z"
   },
   {
    "duration": 19,
    "start_time": "2024-12-28T08:01:10.709Z"
   },
   {
    "duration": 3,
    "start_time": "2024-12-28T08:01:10.730Z"
   },
   {
    "duration": 7,
    "start_time": "2024-12-28T08:01:10.745Z"
   },
   {
    "duration": 12,
    "start_time": "2024-12-28T08:01:10.753Z"
   },
   {
    "duration": 10,
    "start_time": "2024-12-28T08:01:10.768Z"
   },
   {
    "duration": 14,
    "start_time": "2024-12-28T08:01:10.780Z"
   },
   {
    "duration": 4,
    "start_time": "2024-12-28T08:01:10.796Z"
   },
   {
    "duration": 6,
    "start_time": "2024-12-28T08:01:10.802Z"
   },
   {
    "duration": 34,
    "start_time": "2024-12-28T08:01:10.810Z"
   },
   {
    "duration": 3,
    "start_time": "2024-12-28T08:01:10.846Z"
   },
   {
    "duration": 3,
    "start_time": "2024-12-28T08:01:10.851Z"
   },
   {
    "duration": 15,
    "start_time": "2024-12-28T08:01:10.857Z"
   },
   {
    "duration": 5,
    "start_time": "2024-12-28T08:01:10.873Z"
   },
   {
    "duration": 26,
    "start_time": "2024-12-28T08:01:10.879Z"
   },
   {
    "duration": 488,
    "start_time": "2024-12-28T08:01:10.906Z"
   },
   {
    "duration": 10,
    "start_time": "2024-12-28T08:01:11.395Z"
   },
   {
    "duration": 36,
    "start_time": "2024-12-28T08:01:11.407Z"
   },
   {
    "duration": 6,
    "start_time": "2024-12-28T08:01:11.445Z"
   },
   {
    "duration": 3,
    "start_time": "2024-12-28T08:01:11.453Z"
   },
   {
    "duration": 6,
    "start_time": "2024-12-28T08:01:11.458Z"
   },
   {
    "duration": 80,
    "start_time": "2024-12-28T08:01:11.465Z"
   },
   {
    "duration": 281,
    "start_time": "2024-12-28T08:01:11.547Z"
   },
   {
    "duration": 32324,
    "start_time": "2024-12-28T08:01:11.831Z"
   },
   {
    "duration": 19,
    "start_time": "2024-12-28T08:06:38.962Z"
   },
   {
    "duration": 3,
    "start_time": "2024-12-28T08:08:30.256Z"
   },
   {
    "duration": 227,
    "start_time": "2024-12-28T08:27:02.480Z"
   },
   {
    "duration": 3,
    "start_time": "2024-12-28T08:27:13.987Z"
   },
   {
    "duration": 16,
    "start_time": "2024-12-28T08:27:13.994Z"
   },
   {
    "duration": 20,
    "start_time": "2024-12-28T08:27:14.012Z"
   },
   {
    "duration": 3,
    "start_time": "2024-12-28T08:27:14.034Z"
   },
   {
    "duration": 4,
    "start_time": "2024-12-28T08:27:14.039Z"
   },
   {
    "duration": 6,
    "start_time": "2024-12-28T08:27:14.046Z"
   },
   {
    "duration": 9,
    "start_time": "2024-12-28T08:27:14.053Z"
   },
   {
    "duration": 12,
    "start_time": "2024-12-28T08:27:14.063Z"
   },
   {
    "duration": 4,
    "start_time": "2024-12-28T08:27:14.077Z"
   },
   {
    "duration": 5,
    "start_time": "2024-12-28T08:27:14.083Z"
   },
   {
    "duration": 3,
    "start_time": "2024-12-28T08:27:14.090Z"
   },
   {
    "duration": 3,
    "start_time": "2024-12-28T08:27:14.095Z"
   },
   {
    "duration": 43,
    "start_time": "2024-12-28T08:27:14.100Z"
   },
   {
    "duration": 15,
    "start_time": "2024-12-28T08:27:14.145Z"
   },
   {
    "duration": 4,
    "start_time": "2024-12-28T08:27:14.163Z"
   },
   {
    "duration": 26,
    "start_time": "2024-12-28T08:27:14.169Z"
   },
   {
    "duration": 474,
    "start_time": "2024-12-28T08:27:14.197Z"
   },
   {
    "duration": 14,
    "start_time": "2024-12-28T08:27:14.673Z"
   },
   {
    "duration": 3,
    "start_time": "2024-12-28T08:27:14.688Z"
   },
   {
    "duration": 5,
    "start_time": "2024-12-28T08:27:14.743Z"
   },
   {
    "duration": 4,
    "start_time": "2024-12-28T08:27:14.749Z"
   },
   {
    "duration": 4,
    "start_time": "2024-12-28T08:27:14.755Z"
   },
   {
    "duration": 82,
    "start_time": "2024-12-28T08:27:14.761Z"
   },
   {
    "duration": 265,
    "start_time": "2024-12-28T08:27:14.845Z"
   },
   {
    "duration": 32437,
    "start_time": "2024-12-28T08:27:15.112Z"
   },
   {
    "duration": 19,
    "start_time": "2024-12-28T08:27:47.551Z"
   },
   {
    "duration": 5,
    "start_time": "2024-12-28T08:27:47.571Z"
   },
   {
    "duration": 78,
    "start_time": "2024-12-28T08:27:47.578Z"
   },
   {
    "duration": 0,
    "start_time": "2024-12-28T08:27:47.657Z"
   },
   {
    "duration": 14,
    "start_time": "2024-12-28T08:28:23.857Z"
   },
   {
    "duration": 3,
    "start_time": "2024-12-28T08:30:54.589Z"
   },
   {
    "duration": 6,
    "start_time": "2024-12-28T08:30:56.939Z"
   },
   {
    "duration": 69,
    "start_time": "2024-12-28T08:31:00.514Z"
   },
   {
    "duration": 8023,
    "start_time": "2024-12-28T08:37:13.362Z"
   },
   {
    "duration": 10,
    "start_time": "2024-12-28T08:41:15.689Z"
   },
   {
    "duration": 975,
    "start_time": "2024-12-28T08:44:47.080Z"
   },
   {
    "duration": 17,
    "start_time": "2024-12-28T08:44:48.057Z"
   },
   {
    "duration": 21,
    "start_time": "2024-12-28T08:44:48.075Z"
   },
   {
    "duration": 3,
    "start_time": "2024-12-28T08:44:48.098Z"
   },
   {
    "duration": 4,
    "start_time": "2024-12-28T08:44:48.103Z"
   },
   {
    "duration": 6,
    "start_time": "2024-12-28T08:44:48.109Z"
   },
   {
    "duration": 32,
    "start_time": "2024-12-28T08:44:48.117Z"
   },
   {
    "duration": 13,
    "start_time": "2024-12-28T08:44:48.151Z"
   },
   {
    "duration": 4,
    "start_time": "2024-12-28T08:44:48.167Z"
   },
   {
    "duration": 7,
    "start_time": "2024-12-28T08:44:48.175Z"
   },
   {
    "duration": 3,
    "start_time": "2024-12-28T08:44:48.183Z"
   },
   {
    "duration": 2,
    "start_time": "2024-12-28T08:44:48.188Z"
   },
   {
    "duration": 3,
    "start_time": "2024-12-28T08:44:48.192Z"
   },
   {
    "duration": 46,
    "start_time": "2024-12-28T08:44:48.196Z"
   },
   {
    "duration": 5,
    "start_time": "2024-12-28T08:44:48.244Z"
   },
   {
    "duration": 24,
    "start_time": "2024-12-28T08:44:48.251Z"
   },
   {
    "duration": 465,
    "start_time": "2024-12-28T08:44:48.277Z"
   },
   {
    "duration": 11,
    "start_time": "2024-12-28T08:44:48.744Z"
   },
   {
    "duration": 3,
    "start_time": "2024-12-28T08:44:48.756Z"
   },
   {
    "duration": 4,
    "start_time": "2024-12-28T08:44:48.761Z"
   },
   {
    "duration": 4,
    "start_time": "2024-12-28T08:44:48.767Z"
   },
   {
    "duration": 5,
    "start_time": "2024-12-28T08:44:48.843Z"
   },
   {
    "duration": 6,
    "start_time": "2024-12-28T08:44:48.852Z"
   },
   {
    "duration": 306,
    "start_time": "2024-12-28T08:44:48.860Z"
   },
   {
    "duration": 32432,
    "start_time": "2024-12-28T08:44:49.168Z"
   },
   {
    "duration": 42,
    "start_time": "2024-12-28T08:45:21.602Z"
   },
   {
    "duration": 4,
    "start_time": "2024-12-28T08:45:21.646Z"
   },
   {
    "duration": 7,
    "start_time": "2024-12-28T08:45:21.654Z"
   },
   {
    "duration": 142,
    "start_time": "2024-12-28T08:45:21.663Z"
   },
   {
    "duration": 8061,
    "start_time": "2024-12-28T08:45:21.807Z"
   },
   {
    "duration": 9,
    "start_time": "2024-12-28T08:45:29.870Z"
   },
   {
    "duration": 227,
    "start_time": "2024-12-28T08:52:32.511Z"
   },
   {
    "duration": 1477,
    "start_time": "2024-12-28T08:53:45.039Z"
   },
   {
    "duration": 0,
    "start_time": "2024-12-28T08:53:46.519Z"
   },
   {
    "duration": 0,
    "start_time": "2024-12-28T08:53:46.520Z"
   },
   {
    "duration": 0,
    "start_time": "2024-12-28T08:53:46.521Z"
   },
   {
    "duration": 0,
    "start_time": "2024-12-28T08:53:46.523Z"
   },
   {
    "duration": 0,
    "start_time": "2024-12-28T08:53:46.524Z"
   },
   {
    "duration": 0,
    "start_time": "2024-12-28T08:53:46.525Z"
   },
   {
    "duration": 0,
    "start_time": "2024-12-28T08:53:46.526Z"
   },
   {
    "duration": 0,
    "start_time": "2024-12-28T08:53:46.528Z"
   },
   {
    "duration": 0,
    "start_time": "2024-12-28T08:53:46.529Z"
   },
   {
    "duration": 0,
    "start_time": "2024-12-28T08:53:46.530Z"
   },
   {
    "duration": 0,
    "start_time": "2024-12-28T08:53:46.531Z"
   },
   {
    "duration": 0,
    "start_time": "2024-12-28T08:53:46.533Z"
   },
   {
    "duration": 0,
    "start_time": "2024-12-28T08:53:46.534Z"
   },
   {
    "duration": 0,
    "start_time": "2024-12-28T08:53:46.535Z"
   },
   {
    "duration": 1,
    "start_time": "2024-12-28T08:53:46.536Z"
   },
   {
    "duration": 0,
    "start_time": "2024-12-28T08:53:46.538Z"
   },
   {
    "duration": 0,
    "start_time": "2024-12-28T08:53:46.539Z"
   },
   {
    "duration": 0,
    "start_time": "2024-12-28T08:53:46.540Z"
   },
   {
    "duration": 0,
    "start_time": "2024-12-28T08:53:46.541Z"
   },
   {
    "duration": 0,
    "start_time": "2024-12-28T08:53:46.542Z"
   },
   {
    "duration": 0,
    "start_time": "2024-12-28T08:53:46.544Z"
   },
   {
    "duration": 0,
    "start_time": "2024-12-28T08:53:46.544Z"
   },
   {
    "duration": 0,
    "start_time": "2024-12-28T08:53:46.545Z"
   },
   {
    "duration": 0,
    "start_time": "2024-12-28T08:53:46.547Z"
   },
   {
    "duration": 0,
    "start_time": "2024-12-28T08:53:46.548Z"
   },
   {
    "duration": 0,
    "start_time": "2024-12-28T08:53:46.549Z"
   },
   {
    "duration": 0,
    "start_time": "2024-12-28T08:53:46.551Z"
   },
   {
    "duration": 0,
    "start_time": "2024-12-28T08:53:46.552Z"
   },
   {
    "duration": 0,
    "start_time": "2024-12-28T08:53:46.554Z"
   },
   {
    "duration": 0,
    "start_time": "2024-12-28T08:53:46.555Z"
   },
   {
    "duration": 0,
    "start_time": "2024-12-28T08:53:46.555Z"
   },
   {
    "duration": 1250,
    "start_time": "2024-12-28T08:54:21.269Z"
   },
   {
    "duration": 0,
    "start_time": "2024-12-28T08:54:22.522Z"
   },
   {
    "duration": 0,
    "start_time": "2024-12-28T08:54:22.523Z"
   },
   {
    "duration": 0,
    "start_time": "2024-12-28T08:54:22.525Z"
   },
   {
    "duration": 0,
    "start_time": "2024-12-28T08:54:22.526Z"
   },
   {
    "duration": 0,
    "start_time": "2024-12-28T08:54:22.527Z"
   },
   {
    "duration": 0,
    "start_time": "2024-12-28T08:54:22.529Z"
   },
   {
    "duration": 0,
    "start_time": "2024-12-28T08:54:22.530Z"
   },
   {
    "duration": 0,
    "start_time": "2024-12-28T08:54:22.532Z"
   },
   {
    "duration": 0,
    "start_time": "2024-12-28T08:54:22.533Z"
   },
   {
    "duration": 0,
    "start_time": "2024-12-28T08:54:22.534Z"
   },
   {
    "duration": 0,
    "start_time": "2024-12-28T08:54:22.536Z"
   },
   {
    "duration": 0,
    "start_time": "2024-12-28T08:54:22.537Z"
   },
   {
    "duration": 0,
    "start_time": "2024-12-28T08:54:22.539Z"
   },
   {
    "duration": 0,
    "start_time": "2024-12-28T08:54:22.540Z"
   },
   {
    "duration": 0,
    "start_time": "2024-12-28T08:54:22.542Z"
   },
   {
    "duration": 0,
    "start_time": "2024-12-28T08:54:22.543Z"
   },
   {
    "duration": 0,
    "start_time": "2024-12-28T08:54:22.545Z"
   },
   {
    "duration": 0,
    "start_time": "2024-12-28T08:54:22.546Z"
   },
   {
    "duration": 0,
    "start_time": "2024-12-28T08:54:22.548Z"
   },
   {
    "duration": 0,
    "start_time": "2024-12-28T08:54:22.549Z"
   },
   {
    "duration": 0,
    "start_time": "2024-12-28T08:54:22.551Z"
   },
   {
    "duration": 0,
    "start_time": "2024-12-28T08:54:22.552Z"
   },
   {
    "duration": 0,
    "start_time": "2024-12-28T08:54:22.554Z"
   },
   {
    "duration": 0,
    "start_time": "2024-12-28T08:54:22.555Z"
   },
   {
    "duration": 0,
    "start_time": "2024-12-28T08:54:22.557Z"
   },
   {
    "duration": 0,
    "start_time": "2024-12-28T08:54:22.558Z"
   },
   {
    "duration": 0,
    "start_time": "2024-12-28T08:54:22.559Z"
   },
   {
    "duration": 0,
    "start_time": "2024-12-28T08:54:22.561Z"
   },
   {
    "duration": 0,
    "start_time": "2024-12-28T08:54:22.563Z"
   },
   {
    "duration": 0,
    "start_time": "2024-12-28T08:54:22.564Z"
   },
   {
    "duration": 0,
    "start_time": "2024-12-28T08:54:22.565Z"
   },
   {
    "duration": 3,
    "start_time": "2024-12-28T08:56:42.889Z"
   },
   {
    "duration": 17,
    "start_time": "2024-12-28T08:56:42.894Z"
   },
   {
    "duration": 21,
    "start_time": "2024-12-28T08:56:42.913Z"
   },
   {
    "duration": 3,
    "start_time": "2024-12-28T08:56:42.935Z"
   },
   {
    "duration": 4,
    "start_time": "2024-12-28T08:56:42.941Z"
   },
   {
    "duration": 8,
    "start_time": "2024-12-28T08:56:42.946Z"
   },
   {
    "duration": 10,
    "start_time": "2024-12-28T08:56:42.955Z"
   },
   {
    "duration": 15,
    "start_time": "2024-12-28T08:56:42.966Z"
   },
   {
    "duration": 4,
    "start_time": "2024-12-28T08:56:42.983Z"
   },
   {
    "duration": 5,
    "start_time": "2024-12-28T08:56:42.990Z"
   },
   {
    "duration": 3,
    "start_time": "2024-12-28T08:56:42.999Z"
   },
   {
    "duration": 3,
    "start_time": "2024-12-28T08:56:43.043Z"
   },
   {
    "duration": 2,
    "start_time": "2024-12-28T08:56:43.048Z"
   },
   {
    "duration": 14,
    "start_time": "2024-12-28T08:56:43.052Z"
   },
   {
    "duration": 4,
    "start_time": "2024-12-28T08:56:43.068Z"
   },
   {
    "duration": 25,
    "start_time": "2024-12-28T08:56:43.074Z"
   },
   {
    "duration": 472,
    "start_time": "2024-12-28T08:56:43.100Z"
   },
   {
    "duration": 11,
    "start_time": "2024-12-28T08:56:43.573Z"
   },
   {
    "duration": 4,
    "start_time": "2024-12-28T08:56:43.586Z"
   },
   {
    "duration": 56,
    "start_time": "2024-12-28T08:56:43.593Z"
   },
   {
    "duration": 5,
    "start_time": "2024-12-28T08:56:43.652Z"
   },
   {
    "duration": 81,
    "start_time": "2024-12-28T08:56:43.662Z"
   },
   {
    "duration": 7,
    "start_time": "2024-12-28T08:56:43.745Z"
   },
   {
    "duration": 271,
    "start_time": "2024-12-28T08:56:43.754Z"
   },
   {
    "duration": 32389,
    "start_time": "2024-12-28T08:56:44.026Z"
   },
   {
    "duration": 30,
    "start_time": "2024-12-28T08:57:16.417Z"
   },
   {
    "duration": 7,
    "start_time": "2024-12-28T08:57:16.449Z"
   },
   {
    "duration": 7,
    "start_time": "2024-12-28T08:57:16.460Z"
   },
   {
    "duration": 136,
    "start_time": "2024-12-28T08:57:16.469Z"
   },
   {
    "duration": 8041,
    "start_time": "2024-12-28T08:57:16.607Z"
   },
   {
    "duration": 13,
    "start_time": "2024-12-28T08:57:24.650Z"
   },
   {
    "duration": 85,
    "start_time": "2024-12-28T08:57:24.665Z"
   },
   {
    "duration": 6,
    "start_time": "2024-12-28T08:58:05.484Z"
   },
   {
    "duration": 6,
    "start_time": "2024-12-28T08:58:19.971Z"
   },
   {
    "duration": 6,
    "start_time": "2024-12-28T08:58:31.416Z"
   },
   {
    "duration": 961,
    "start_time": "2024-12-28T09:13:38.815Z"
   },
   {
    "duration": 16,
    "start_time": "2024-12-28T09:13:39.778Z"
   },
   {
    "duration": 21,
    "start_time": "2024-12-28T09:13:39.796Z"
   },
   {
    "duration": 4,
    "start_time": "2024-12-28T09:13:39.819Z"
   },
   {
    "duration": 22,
    "start_time": "2024-12-28T09:13:39.825Z"
   },
   {
    "duration": 6,
    "start_time": "2024-12-28T09:13:39.848Z"
   },
   {
    "duration": 9,
    "start_time": "2024-12-28T09:13:39.856Z"
   },
   {
    "duration": 14,
    "start_time": "2024-12-28T09:13:39.867Z"
   },
   {
    "duration": 5,
    "start_time": "2024-12-28T09:13:39.882Z"
   },
   {
    "duration": 6,
    "start_time": "2024-12-28T09:13:39.890Z"
   },
   {
    "duration": 3,
    "start_time": "2024-12-28T09:13:39.942Z"
   },
   {
    "duration": 3,
    "start_time": "2024-12-28T09:13:39.947Z"
   },
   {
    "duration": 3,
    "start_time": "2024-12-28T09:13:39.952Z"
   },
   {
    "duration": 16,
    "start_time": "2024-12-28T09:13:39.957Z"
   },
   {
    "duration": 5,
    "start_time": "2024-12-28T09:13:39.975Z"
   },
   {
    "duration": 61,
    "start_time": "2024-12-28T09:13:39.982Z"
   },
   {
    "duration": 462,
    "start_time": "2024-12-28T09:13:40.045Z"
   },
   {
    "duration": 33,
    "start_time": "2024-12-28T09:13:40.509Z"
   },
   {
    "duration": 10,
    "start_time": "2024-12-28T09:13:40.545Z"
   },
   {
    "duration": 5,
    "start_time": "2024-12-28T09:13:40.563Z"
   },
   {
    "duration": 73,
    "start_time": "2024-12-28T09:13:40.570Z"
   },
   {
    "duration": 4,
    "start_time": "2024-12-28T09:13:40.646Z"
   },
   {
    "duration": 9,
    "start_time": "2024-12-28T09:13:40.652Z"
   },
   {
    "duration": 281,
    "start_time": "2024-12-28T09:13:40.662Z"
   },
   {
    "duration": 32525,
    "start_time": "2024-12-28T09:13:40.945Z"
   },
   {
    "duration": 20,
    "start_time": "2024-12-28T09:14:13.472Z"
   },
   {
    "duration": 49,
    "start_time": "2024-12-28T09:14:13.496Z"
   },
   {
    "duration": 6,
    "start_time": "2024-12-28T09:14:13.549Z"
   },
   {
    "duration": 148,
    "start_time": "2024-12-28T09:14:13.557Z"
   },
   {
    "duration": 8087,
    "start_time": "2024-12-28T09:14:13.707Z"
   },
   {
    "duration": 10,
    "start_time": "2024-12-28T09:14:21.795Z"
   },
   {
    "duration": 43,
    "start_time": "2024-12-28T09:14:21.807Z"
   },
   {
    "duration": 7,
    "start_time": "2024-12-28T09:14:55.576Z"
   },
   {
    "duration": 2675,
    "start_time": "2024-12-28T16:10:19.679Z"
   },
   {
    "duration": 26,
    "start_time": "2024-12-28T16:10:22.356Z"
   },
   {
    "duration": 21,
    "start_time": "2024-12-28T16:10:22.383Z"
   },
   {
    "duration": 3,
    "start_time": "2024-12-28T16:10:22.406Z"
   },
   {
    "duration": 5,
    "start_time": "2024-12-28T16:10:22.411Z"
   },
   {
    "duration": 7,
    "start_time": "2024-12-28T16:10:22.417Z"
   },
   {
    "duration": 9,
    "start_time": "2024-12-28T16:10:22.426Z"
   },
   {
    "duration": 14,
    "start_time": "2024-12-28T16:10:22.438Z"
   },
   {
    "duration": 35,
    "start_time": "2024-12-28T16:10:22.454Z"
   },
   {
    "duration": 6,
    "start_time": "2024-12-28T16:10:22.491Z"
   },
   {
    "duration": 3,
    "start_time": "2024-12-28T16:10:22.498Z"
   },
   {
    "duration": 2,
    "start_time": "2024-12-28T16:10:22.503Z"
   },
   {
    "duration": 3,
    "start_time": "2024-12-28T16:10:22.507Z"
   },
   {
    "duration": 14,
    "start_time": "2024-12-28T16:10:22.513Z"
   },
   {
    "duration": 5,
    "start_time": "2024-12-28T16:10:22.529Z"
   },
   {
    "duration": 72,
    "start_time": "2024-12-28T16:10:22.535Z"
   },
   {
    "duration": 458,
    "start_time": "2024-12-28T16:10:22.609Z"
   },
   {
    "duration": 19,
    "start_time": "2024-12-28T16:10:23.069Z"
   },
   {
    "duration": 4,
    "start_time": "2024-12-28T16:10:23.089Z"
   },
   {
    "duration": 5,
    "start_time": "2024-12-28T16:10:23.094Z"
   },
   {
    "duration": 3,
    "start_time": "2024-12-28T16:10:23.101Z"
   },
   {
    "duration": 5,
    "start_time": "2024-12-28T16:10:23.105Z"
   },
   {
    "duration": 80,
    "start_time": "2024-12-28T16:10:23.111Z"
   },
   {
    "duration": 281,
    "start_time": "2024-12-28T16:10:23.193Z"
   },
   {
    "duration": 32738,
    "start_time": "2024-12-28T16:10:23.475Z"
   },
   {
    "duration": 19,
    "start_time": "2024-12-28T16:10:56.215Z"
   },
   {
    "duration": 5,
    "start_time": "2024-12-28T16:10:56.235Z"
   },
   {
    "duration": 9,
    "start_time": "2024-12-28T16:10:56.287Z"
   },
   {
    "duration": 143,
    "start_time": "2024-12-28T16:10:56.298Z"
   },
   {
    "duration": 8224,
    "start_time": "2024-12-28T16:10:56.443Z"
   },
   {
    "duration": 18,
    "start_time": "2024-12-28T16:11:04.670Z"
   },
   {
    "duration": 8,
    "start_time": "2024-12-28T16:11:04.689Z"
   },
   {
    "duration": 35,
    "start_time": "2024-12-28T16:11:10.568Z"
   },
   {
    "duration": 34,
    "start_time": "2024-12-28T16:12:29.871Z"
   },
   {
    "duration": 5,
    "start_time": "2024-12-28T16:12:57.011Z"
   },
   {
    "duration": 35,
    "start_time": "2024-12-28T16:13:25.651Z"
   },
   {
    "duration": 25,
    "start_time": "2024-12-28T16:14:10.510Z"
   },
   {
    "duration": 5,
    "start_time": "2024-12-28T16:15:51.801Z"
   },
   {
    "duration": 317,
    "start_time": "2024-12-28T16:15:57.262Z"
   },
   {
    "duration": 22,
    "start_time": "2024-12-28T16:16:10.392Z"
   },
   {
    "duration": 16,
    "start_time": "2024-12-28T16:16:36.381Z"
   },
   {
    "duration": 23,
    "start_time": "2024-12-28T16:16:43.938Z"
   },
   {
    "duration": 24,
    "start_time": "2024-12-28T16:17:46.137Z"
   },
   {
    "duration": 4,
    "start_time": "2024-12-28T16:25:02.602Z"
   },
   {
    "duration": 17,
    "start_time": "2024-12-28T16:25:02.608Z"
   },
   {
    "duration": 20,
    "start_time": "2024-12-28T16:25:02.627Z"
   },
   {
    "duration": 3,
    "start_time": "2024-12-28T16:25:02.650Z"
   },
   {
    "duration": 4,
    "start_time": "2024-12-28T16:25:02.655Z"
   },
   {
    "duration": 6,
    "start_time": "2024-12-28T16:25:02.661Z"
   },
   {
    "duration": 25,
    "start_time": "2024-12-28T16:25:02.669Z"
   },
   {
    "duration": 13,
    "start_time": "2024-12-28T16:25:02.696Z"
   },
   {
    "duration": 5,
    "start_time": "2024-12-28T16:25:02.710Z"
   },
   {
    "duration": 6,
    "start_time": "2024-12-28T16:25:02.718Z"
   },
   {
    "duration": 4,
    "start_time": "2024-12-28T16:25:02.725Z"
   },
   {
    "duration": 2,
    "start_time": "2024-12-28T16:25:02.731Z"
   },
   {
    "duration": 3,
    "start_time": "2024-12-28T16:25:02.735Z"
   },
   {
    "duration": 59,
    "start_time": "2024-12-28T16:25:02.739Z"
   },
   {
    "duration": 5,
    "start_time": "2024-12-28T16:25:02.799Z"
   },
   {
    "duration": 21,
    "start_time": "2024-12-28T16:25:02.806Z"
   },
   {
    "duration": 339,
    "start_time": "2024-12-28T16:25:02.828Z"
   },
   {
    "duration": 24,
    "start_time": "2024-12-28T16:25:03.169Z"
   },
   {
    "duration": 7,
    "start_time": "2024-12-28T16:25:03.195Z"
   },
   {
    "duration": 5,
    "start_time": "2024-12-28T16:25:03.203Z"
   },
   {
    "duration": 2,
    "start_time": "2024-12-28T16:25:03.210Z"
   },
   {
    "duration": 9155,
    "start_time": "2024-12-28T16:25:03.214Z"
   },
   {
    "duration": 23,
    "start_time": "2024-12-28T16:25:12.372Z"
   },
   {
    "duration": 0,
    "start_time": "2024-12-28T16:25:12.397Z"
   },
   {
    "duration": 0,
    "start_time": "2024-12-28T16:25:12.398Z"
   },
   {
    "duration": 0,
    "start_time": "2024-12-28T16:25:12.400Z"
   },
   {
    "duration": 0,
    "start_time": "2024-12-28T16:25:12.401Z"
   },
   {
    "duration": 0,
    "start_time": "2024-12-28T16:25:12.402Z"
   },
   {
    "duration": 0,
    "start_time": "2024-12-28T16:25:12.402Z"
   },
   {
    "duration": 0,
    "start_time": "2024-12-28T16:25:12.404Z"
   },
   {
    "duration": 0,
    "start_time": "2024-12-28T16:25:12.404Z"
   },
   {
    "duration": 0,
    "start_time": "2024-12-28T16:25:12.405Z"
   },
   {
    "duration": 0,
    "start_time": "2024-12-28T16:25:12.407Z"
   },
   {
    "duration": 0,
    "start_time": "2024-12-28T16:25:12.408Z"
   },
   {
    "duration": 1261,
    "start_time": "2024-12-28T16:29:10.142Z"
   },
   {
    "duration": 980,
    "start_time": "2024-12-28T16:30:27.360Z"
   },
   {
    "duration": 16,
    "start_time": "2024-12-28T16:30:28.342Z"
   },
   {
    "duration": 32,
    "start_time": "2024-12-28T16:30:28.360Z"
   },
   {
    "duration": 3,
    "start_time": "2024-12-28T16:30:28.394Z"
   },
   {
    "duration": 5,
    "start_time": "2024-12-28T16:30:28.398Z"
   },
   {
    "duration": 7,
    "start_time": "2024-12-28T16:30:28.404Z"
   },
   {
    "duration": 9,
    "start_time": "2024-12-28T16:30:28.413Z"
   },
   {
    "duration": 14,
    "start_time": "2024-12-28T16:30:28.424Z"
   },
   {
    "duration": 4,
    "start_time": "2024-12-28T16:30:28.439Z"
   },
   {
    "duration": 6,
    "start_time": "2024-12-28T16:30:28.486Z"
   },
   {
    "duration": 3,
    "start_time": "2024-12-28T16:30:28.494Z"
   },
   {
    "duration": 2,
    "start_time": "2024-12-28T16:30:28.499Z"
   },
   {
    "duration": 2,
    "start_time": "2024-12-28T16:30:28.503Z"
   },
   {
    "duration": 15,
    "start_time": "2024-12-28T16:30:28.507Z"
   },
   {
    "duration": 5,
    "start_time": "2024-12-28T16:30:28.523Z"
   },
   {
    "duration": 57,
    "start_time": "2024-12-28T16:30:28.530Z"
   },
   {
    "duration": 318,
    "start_time": "2024-12-28T16:30:28.588Z"
   },
   {
    "duration": 14,
    "start_time": "2024-12-28T16:30:28.907Z"
   },
   {
    "duration": 5,
    "start_time": "2024-12-28T16:30:28.925Z"
   },
   {
    "duration": 4,
    "start_time": "2024-12-28T16:30:28.987Z"
   },
   {
    "duration": 2,
    "start_time": "2024-12-28T16:30:28.993Z"
   },
   {
    "duration": 1390,
    "start_time": "2024-12-28T16:30:28.997Z"
   },
   {
    "duration": 1487,
    "start_time": "2024-12-28T16:30:30.390Z"
   },
   {
    "duration": 0,
    "start_time": "2024-12-28T16:30:31.887Z"
   },
   {
    "duration": 0,
    "start_time": "2024-12-28T16:30:31.888Z"
   },
   {
    "duration": 0,
    "start_time": "2024-12-28T16:30:31.889Z"
   },
   {
    "duration": 0,
    "start_time": "2024-12-28T16:30:31.890Z"
   },
   {
    "duration": 0,
    "start_time": "2024-12-28T16:30:31.891Z"
   },
   {
    "duration": 0,
    "start_time": "2024-12-28T16:30:31.893Z"
   },
   {
    "duration": 0,
    "start_time": "2024-12-28T16:30:31.895Z"
   },
   {
    "duration": 0,
    "start_time": "2024-12-28T16:30:31.896Z"
   },
   {
    "duration": 0,
    "start_time": "2024-12-28T16:30:31.898Z"
   },
   {
    "duration": 0,
    "start_time": "2024-12-28T16:30:31.898Z"
   },
   {
    "duration": 0,
    "start_time": "2024-12-28T16:30:31.900Z"
   },
   {
    "duration": 1261,
    "start_time": "2024-12-28T16:32:39.256Z"
   },
   {
    "duration": 5,
    "start_time": "2024-12-28T16:36:10.352Z"
   },
   {
    "duration": 1421,
    "start_time": "2024-12-28T16:38:12.820Z"
   },
   {
    "duration": 994,
    "start_time": "2024-12-28T16:38:37.529Z"
   },
   {
    "duration": 17,
    "start_time": "2024-12-28T16:38:38.526Z"
   },
   {
    "duration": 20,
    "start_time": "2024-12-28T16:38:38.546Z"
   },
   {
    "duration": 3,
    "start_time": "2024-12-28T16:38:38.568Z"
   },
   {
    "duration": 4,
    "start_time": "2024-12-28T16:38:38.586Z"
   },
   {
    "duration": 6,
    "start_time": "2024-12-28T16:38:38.592Z"
   },
   {
    "duration": 9,
    "start_time": "2024-12-28T16:38:38.599Z"
   },
   {
    "duration": 13,
    "start_time": "2024-12-28T16:38:38.610Z"
   },
   {
    "duration": 3,
    "start_time": "2024-12-28T16:38:38.626Z"
   },
   {
    "duration": 6,
    "start_time": "2024-12-28T16:38:38.631Z"
   },
   {
    "duration": 3,
    "start_time": "2024-12-28T16:38:38.638Z"
   },
   {
    "duration": 2,
    "start_time": "2024-12-28T16:38:38.643Z"
   },
   {
    "duration": 8,
    "start_time": "2024-12-28T16:38:38.687Z"
   },
   {
    "duration": 15,
    "start_time": "2024-12-28T16:38:38.699Z"
   },
   {
    "duration": 5,
    "start_time": "2024-12-28T16:38:38.716Z"
   },
   {
    "duration": 21,
    "start_time": "2024-12-28T16:38:38.722Z"
   },
   {
    "duration": 334,
    "start_time": "2024-12-28T16:38:38.744Z"
   },
   {
    "duration": 19,
    "start_time": "2024-12-28T16:38:39.080Z"
   },
   {
    "duration": 4,
    "start_time": "2024-12-28T16:38:39.101Z"
   },
   {
    "duration": 5,
    "start_time": "2024-12-28T16:38:39.106Z"
   },
   {
    "duration": 75,
    "start_time": "2024-12-28T16:38:39.113Z"
   },
   {
    "duration": 1604,
    "start_time": "2024-12-28T16:38:39.190Z"
   },
   {
    "duration": 0,
    "start_time": "2024-12-28T16:38:40.796Z"
   },
   {
    "duration": 0,
    "start_time": "2024-12-28T16:38:40.797Z"
   },
   {
    "duration": 0,
    "start_time": "2024-12-28T16:38:40.798Z"
   },
   {
    "duration": 0,
    "start_time": "2024-12-28T16:38:40.800Z"
   },
   {
    "duration": 0,
    "start_time": "2024-12-28T16:38:40.802Z"
   },
   {
    "duration": 0,
    "start_time": "2024-12-28T16:38:40.803Z"
   },
   {
    "duration": 0,
    "start_time": "2024-12-28T16:38:40.805Z"
   },
   {
    "duration": 0,
    "start_time": "2024-12-28T16:38:40.806Z"
   },
   {
    "duration": 0,
    "start_time": "2024-12-28T16:38:40.808Z"
   },
   {
    "duration": 0,
    "start_time": "2024-12-28T16:38:40.810Z"
   },
   {
    "duration": 0,
    "start_time": "2024-12-28T16:38:40.811Z"
   },
   {
    "duration": 5,
    "start_time": "2024-12-28T16:45:46.697Z"
   },
   {
    "duration": 1381,
    "start_time": "2024-12-28T16:46:51.540Z"
   },
   {
    "duration": 1362,
    "start_time": "2024-12-28T16:48:04.950Z"
   },
   {
    "duration": 1343,
    "start_time": "2024-12-28T16:49:50.233Z"
   },
   {
    "duration": 1327,
    "start_time": "2024-12-28T16:50:31.763Z"
   },
   {
    "duration": 2486,
    "start_time": "2024-12-28T16:51:56.008Z"
   },
   {
    "duration": 3645,
    "start_time": "2024-12-28T16:53:15.831Z"
   },
   {
    "duration": 1362,
    "start_time": "2024-12-28T17:00:03.375Z"
   },
   {
    "duration": 23,
    "start_time": "2024-12-28T17:00:19.732Z"
   },
   {
    "duration": 3,
    "start_time": "2024-12-28T17:01:04.391Z"
   },
   {
    "duration": 17,
    "start_time": "2024-12-28T17:01:04.396Z"
   },
   {
    "duration": 20,
    "start_time": "2024-12-28T17:01:04.414Z"
   },
   {
    "duration": 3,
    "start_time": "2024-12-28T17:01:04.436Z"
   },
   {
    "duration": 4,
    "start_time": "2024-12-28T17:01:04.441Z"
   },
   {
    "duration": 7,
    "start_time": "2024-12-28T17:01:04.446Z"
   },
   {
    "duration": 38,
    "start_time": "2024-12-28T17:01:04.454Z"
   },
   {
    "duration": 15,
    "start_time": "2024-12-28T17:01:04.494Z"
   },
   {
    "duration": 5,
    "start_time": "2024-12-28T17:01:04.510Z"
   },
   {
    "duration": 7,
    "start_time": "2024-12-28T17:01:04.517Z"
   },
   {
    "duration": 3,
    "start_time": "2024-12-28T17:01:04.527Z"
   },
   {
    "duration": 3,
    "start_time": "2024-12-28T17:01:04.532Z"
   },
   {
    "duration": 3,
    "start_time": "2024-12-28T17:01:04.536Z"
   },
   {
    "duration": 58,
    "start_time": "2024-12-28T17:01:04.540Z"
   },
   {
    "duration": 4,
    "start_time": "2024-12-28T17:01:04.600Z"
   },
   {
    "duration": 25,
    "start_time": "2024-12-28T17:01:04.606Z"
   },
   {
    "duration": 334,
    "start_time": "2024-12-28T17:01:04.633Z"
   },
   {
    "duration": 22,
    "start_time": "2024-12-28T17:01:04.969Z"
   },
   {
    "duration": 3,
    "start_time": "2024-12-28T17:01:04.992Z"
   },
   {
    "duration": 4,
    "start_time": "2024-12-28T17:01:04.997Z"
   },
   {
    "duration": 3,
    "start_time": "2024-12-28T17:01:05.003Z"
   },
   {
    "duration": 78,
    "start_time": "2024-12-28T17:01:05.009Z"
   },
   {
    "duration": 49,
    "start_time": "2024-12-28T17:01:05.089Z"
   },
   {
    "duration": 268,
    "start_time": "2024-12-28T17:01:05.139Z"
   },
   {
    "duration": 32736,
    "start_time": "2024-12-28T17:01:05.409Z"
   },
   {
    "duration": 41,
    "start_time": "2024-12-28T17:01:38.147Z"
   },
   {
    "duration": 6,
    "start_time": "2024-12-28T17:01:38.189Z"
   },
   {
    "duration": 9,
    "start_time": "2024-12-28T17:01:38.197Z"
   },
   {
    "duration": 139,
    "start_time": "2024-12-28T17:01:38.210Z"
   },
   {
    "duration": 8138,
    "start_time": "2024-12-28T17:01:38.351Z"
   },
   {
    "duration": 10,
    "start_time": "2024-12-28T17:01:46.491Z"
   },
   {
    "duration": 6,
    "start_time": "2024-12-28T17:01:46.503Z"
   },
   {
    "duration": 11,
    "start_time": "2024-12-28T17:02:09.372Z"
   },
   {
    "duration": 4,
    "start_time": "2024-12-28T17:02:30.508Z"
   },
   {
    "duration": 58,
    "start_time": "2024-12-28T17:07:27.600Z"
   },
   {
    "duration": 33077,
    "start_time": "2024-12-28T17:07:46.092Z"
   },
   {
    "duration": 2721,
    "start_time": "2024-12-28T22:55:36.327Z"
   },
   {
    "duration": 27,
    "start_time": "2024-12-28T22:55:39.051Z"
   },
   {
    "duration": 22,
    "start_time": "2024-12-28T22:55:39.080Z"
   },
   {
    "duration": 4,
    "start_time": "2024-12-28T22:55:39.105Z"
   },
   {
    "duration": 4,
    "start_time": "2024-12-28T22:55:39.111Z"
   },
   {
    "duration": 6,
    "start_time": "2024-12-28T22:55:39.117Z"
   },
   {
    "duration": 8,
    "start_time": "2024-12-28T22:55:39.125Z"
   },
   {
    "duration": 14,
    "start_time": "2024-12-28T22:55:39.134Z"
   },
   {
    "duration": 5,
    "start_time": "2024-12-28T22:55:39.149Z"
   },
   {
    "duration": 37,
    "start_time": "2024-12-28T22:55:39.156Z"
   },
   {
    "duration": 3,
    "start_time": "2024-12-28T22:55:39.194Z"
   },
   {
    "duration": 3,
    "start_time": "2024-12-28T22:55:39.198Z"
   },
   {
    "duration": 3,
    "start_time": "2024-12-28T22:55:39.202Z"
   },
   {
    "duration": 14,
    "start_time": "2024-12-28T22:55:39.206Z"
   },
   {
    "duration": 5,
    "start_time": "2024-12-28T22:55:39.222Z"
   },
   {
    "duration": 62,
    "start_time": "2024-12-28T22:55:39.229Z"
   },
   {
    "duration": 318,
    "start_time": "2024-12-28T22:55:39.292Z"
   },
   {
    "duration": 10,
    "start_time": "2024-12-28T22:55:39.612Z"
   },
   {
    "duration": 3,
    "start_time": "2024-12-28T22:55:39.624Z"
   },
   {
    "duration": 57,
    "start_time": "2024-12-28T22:55:39.629Z"
   },
   {
    "duration": 3,
    "start_time": "2024-12-28T22:55:39.688Z"
   },
   {
    "duration": 5,
    "start_time": "2024-12-28T22:55:39.692Z"
   },
   {
    "duration": 11,
    "start_time": "2024-12-28T22:55:39.699Z"
   },
   {
    "duration": 78,
    "start_time": "2024-12-28T22:55:39.711Z"
   },
   {
    "duration": 297,
    "start_time": "2024-12-28T22:55:39.790Z"
   },
   {
    "duration": 33536,
    "start_time": "2024-12-28T22:55:40.089Z"
   },
   {
    "duration": 18,
    "start_time": "2024-12-28T22:56:13.627Z"
   },
   {
    "duration": 10,
    "start_time": "2024-12-28T22:56:13.686Z"
   },
   {
    "duration": 12,
    "start_time": "2024-12-28T22:56:13.703Z"
   },
   {
    "duration": 138,
    "start_time": "2024-12-28T22:56:13.716Z"
   },
   {
    "duration": 8168,
    "start_time": "2024-12-28T22:56:13.855Z"
   },
   {
    "duration": 11,
    "start_time": "2024-12-28T22:56:22.025Z"
   },
   {
    "duration": 49,
    "start_time": "2024-12-28T22:56:22.038Z"
   },
   {
    "duration": 33,
    "start_time": "2024-12-28T23:04:31.446Z"
   },
   {
    "duration": 32,
    "start_time": "2024-12-28T23:04:49.231Z"
   },
   {
    "duration": 317,
    "start_time": "2024-12-28T23:11:22.389Z"
   },
   {
    "duration": 364,
    "start_time": "2024-12-28T23:15:50.542Z"
   },
   {
    "duration": 20,
    "start_time": "2024-12-28T23:24:23.593Z"
   },
   {
    "duration": 335,
    "start_time": "2024-12-28T23:38:52.990Z"
   },
   {
    "duration": 228,
    "start_time": "2024-12-28T23:45:43.871Z"
   },
   {
    "duration": 312,
    "start_time": "2024-12-28T23:46:21.118Z"
   },
   {
    "duration": 39139,
    "start_time": "2024-12-28T23:54:10.613Z"
   },
   {
    "duration": 295,
    "start_time": "2024-12-28T23:58:19.950Z"
   },
   {
    "duration": 443,
    "start_time": "2024-12-29T00:06:59.598Z"
   },
   {
    "duration": 29,
    "start_time": "2024-12-29T00:07:19.216Z"
   },
   {
    "duration": 8,
    "start_time": "2024-12-29T00:22:07.551Z"
   },
   {
    "duration": 87,
    "start_time": "2024-12-29T00:22:31.666Z"
   },
   {
    "duration": 2737,
    "start_time": "2024-12-29T07:27:05.770Z"
   },
   {
    "duration": 21,
    "start_time": "2024-12-29T07:27:08.510Z"
   },
   {
    "duration": 21,
    "start_time": "2024-12-29T07:27:08.532Z"
   },
   {
    "duration": 3,
    "start_time": "2024-12-29T07:27:08.556Z"
   },
   {
    "duration": 4,
    "start_time": "2024-12-29T07:27:08.561Z"
   },
   {
    "duration": 26,
    "start_time": "2024-12-29T07:27:08.566Z"
   },
   {
    "duration": 9,
    "start_time": "2024-12-29T07:27:08.594Z"
   },
   {
    "duration": 14,
    "start_time": "2024-12-29T07:27:08.604Z"
   },
   {
    "duration": 4,
    "start_time": "2024-12-29T07:27:08.620Z"
   },
   {
    "duration": 6,
    "start_time": "2024-12-29T07:27:08.627Z"
   },
   {
    "duration": 3,
    "start_time": "2024-12-29T07:27:08.635Z"
   },
   {
    "duration": 2,
    "start_time": "2024-12-29T07:27:08.640Z"
   },
   {
    "duration": 42,
    "start_time": "2024-12-29T07:27:08.644Z"
   },
   {
    "duration": 14,
    "start_time": "2024-12-29T07:27:08.688Z"
   },
   {
    "duration": 5,
    "start_time": "2024-12-29T07:27:08.703Z"
   },
   {
    "duration": 22,
    "start_time": "2024-12-29T07:27:08.709Z"
   },
   {
    "duration": 389,
    "start_time": "2024-12-29T07:27:08.733Z"
   },
   {
    "duration": 17,
    "start_time": "2024-12-29T07:27:09.124Z"
   },
   {
    "duration": 3,
    "start_time": "2024-12-29T07:27:09.187Z"
   },
   {
    "duration": 6,
    "start_time": "2024-12-29T07:27:09.193Z"
   },
   {
    "duration": 4,
    "start_time": "2024-12-29T07:27:09.203Z"
   },
   {
    "duration": 77,
    "start_time": "2024-12-29T07:27:09.210Z"
   },
   {
    "duration": 8,
    "start_time": "2024-12-29T07:27:09.289Z"
   },
   {
    "duration": 310,
    "start_time": "2024-12-29T07:27:09.299Z"
   },
   {
    "duration": 39132,
    "start_time": "2024-12-29T07:27:09.610Z"
   },
   {
    "duration": 48,
    "start_time": "2024-12-29T07:27:48.743Z"
   },
   {
    "duration": 5,
    "start_time": "2024-12-29T07:27:48.792Z"
   },
   {
    "duration": 83,
    "start_time": "2024-12-29T07:27:48.802Z"
   },
   {
    "duration": 86,
    "start_time": "2024-12-29T07:27:48.888Z"
   },
   {
    "duration": 9071,
    "start_time": "2024-12-29T07:27:48.986Z"
   },
   {
    "duration": 29,
    "start_time": "2024-12-29T07:27:58.059Z"
   },
   {
    "duration": 8,
    "start_time": "2024-12-29T07:27:58.089Z"
   },
   {
    "duration": 16,
    "start_time": "2024-12-29T07:34:13.878Z"
   },
   {
    "duration": 549,
    "start_time": "2024-12-29T07:43:53.690Z"
   },
   {
    "duration": 9,
    "start_time": "2024-12-29T07:45:49.909Z"
   },
   {
    "duration": 9,
    "start_time": "2024-12-29T08:01:36.315Z"
   },
   {
    "duration": 8,
    "start_time": "2024-12-29T08:09:32.563Z"
   },
   {
    "duration": 8,
    "start_time": "2024-12-29T08:09:40.224Z"
   },
   {
    "duration": 9,
    "start_time": "2024-12-29T08:09:59.405Z"
   },
   {
    "duration": 266,
    "start_time": "2024-12-29T08:31:50.104Z"
   },
   {
    "duration": 18,
    "start_time": "2024-12-29T08:37:08.933Z"
   },
   {
    "duration": 4,
    "start_time": "2024-12-29T08:37:40.769Z"
   },
   {
    "duration": 16,
    "start_time": "2024-12-29T08:37:40.775Z"
   },
   {
    "duration": 20,
    "start_time": "2024-12-29T08:37:40.793Z"
   },
   {
    "duration": 4,
    "start_time": "2024-12-29T08:37:40.815Z"
   },
   {
    "duration": 4,
    "start_time": "2024-12-29T08:37:40.822Z"
   },
   {
    "duration": 6,
    "start_time": "2024-12-29T08:37:40.827Z"
   },
   {
    "duration": 9,
    "start_time": "2024-12-29T08:37:40.835Z"
   },
   {
    "duration": 48,
    "start_time": "2024-12-29T08:37:40.846Z"
   },
   {
    "duration": 4,
    "start_time": "2024-12-29T08:37:40.896Z"
   },
   {
    "duration": 6,
    "start_time": "2024-12-29T08:37:40.902Z"
   },
   {
    "duration": 3,
    "start_time": "2024-12-29T08:37:40.909Z"
   },
   {
    "duration": 3,
    "start_time": "2024-12-29T08:37:40.913Z"
   },
   {
    "duration": 3,
    "start_time": "2024-12-29T08:37:40.917Z"
   },
   {
    "duration": 13,
    "start_time": "2024-12-29T08:37:40.923Z"
   },
   {
    "duration": 5,
    "start_time": "2024-12-29T08:37:40.938Z"
   },
   {
    "duration": 63,
    "start_time": "2024-12-29T08:37:40.944Z"
   },
   {
    "duration": 377,
    "start_time": "2024-12-29T08:37:41.009Z"
   },
   {
    "duration": 16,
    "start_time": "2024-12-29T08:37:41.388Z"
   },
   {
    "duration": 3,
    "start_time": "2024-12-29T08:37:41.406Z"
   },
   {
    "duration": 5,
    "start_time": "2024-12-29T08:37:41.410Z"
   },
   {
    "duration": 73,
    "start_time": "2024-12-29T08:37:41.416Z"
   },
   {
    "duration": 4,
    "start_time": "2024-12-29T08:37:41.491Z"
   },
   {
    "duration": 7,
    "start_time": "2024-12-29T08:37:41.497Z"
   },
   {
    "duration": 319,
    "start_time": "2024-12-29T08:37:41.506Z"
   },
   {
    "duration": 17,
    "start_time": "2024-12-29T08:37:41.827Z"
   },
   {
    "duration": 0,
    "start_time": "2024-12-29T08:37:41.846Z"
   },
   {
    "duration": 0,
    "start_time": "2024-12-29T08:37:41.848Z"
   },
   {
    "duration": 0,
    "start_time": "2024-12-29T08:37:41.849Z"
   },
   {
    "duration": 0,
    "start_time": "2024-12-29T08:37:41.851Z"
   },
   {
    "duration": 0,
    "start_time": "2024-12-29T08:37:41.852Z"
   },
   {
    "duration": 0,
    "start_time": "2024-12-29T08:37:41.854Z"
   },
   {
    "duration": 0,
    "start_time": "2024-12-29T08:37:41.855Z"
   },
   {
    "duration": 0,
    "start_time": "2024-12-29T08:37:41.857Z"
   },
   {
    "duration": 4,
    "start_time": "2024-12-29T08:39:18.902Z"
   },
   {
    "duration": 14,
    "start_time": "2024-12-29T08:39:18.912Z"
   },
   {
    "duration": 19,
    "start_time": "2024-12-29T08:39:18.929Z"
   },
   {
    "duration": 4,
    "start_time": "2024-12-29T08:39:18.949Z"
   },
   {
    "duration": 4,
    "start_time": "2024-12-29T08:39:18.954Z"
   },
   {
    "duration": 6,
    "start_time": "2024-12-29T08:39:18.961Z"
   },
   {
    "duration": 25,
    "start_time": "2024-12-29T08:39:18.969Z"
   },
   {
    "duration": 12,
    "start_time": "2024-12-29T08:39:18.995Z"
   },
   {
    "duration": 4,
    "start_time": "2024-12-29T08:39:19.009Z"
   },
   {
    "duration": 5,
    "start_time": "2024-12-29T08:39:19.015Z"
   },
   {
    "duration": 3,
    "start_time": "2024-12-29T08:39:19.024Z"
   },
   {
    "duration": 2,
    "start_time": "2024-12-29T08:39:19.029Z"
   },
   {
    "duration": 2,
    "start_time": "2024-12-29T08:39:19.033Z"
   },
   {
    "duration": 50,
    "start_time": "2024-12-29T08:39:19.038Z"
   },
   {
    "duration": 4,
    "start_time": "2024-12-29T08:39:19.092Z"
   },
   {
    "duration": 23,
    "start_time": "2024-12-29T08:39:19.098Z"
   },
   {
    "duration": 386,
    "start_time": "2024-12-29T08:39:19.122Z"
   },
   {
    "duration": 16,
    "start_time": "2024-12-29T08:39:19.510Z"
   },
   {
    "duration": 3,
    "start_time": "2024-12-29T08:39:19.528Z"
   },
   {
    "duration": 4,
    "start_time": "2024-12-29T08:39:19.587Z"
   },
   {
    "duration": 3,
    "start_time": "2024-12-29T08:39:19.594Z"
   },
   {
    "duration": 5,
    "start_time": "2024-12-29T08:39:19.598Z"
   },
   {
    "duration": 82,
    "start_time": "2024-12-29T08:39:19.605Z"
   },
   {
    "duration": 288,
    "start_time": "2024-12-29T08:39:19.689Z"
   },
   {
    "duration": 39335,
    "start_time": "2024-12-29T08:39:19.979Z"
   },
   {
    "duration": 70,
    "start_time": "2024-12-29T08:39:59.317Z"
   },
   {
    "duration": 4,
    "start_time": "2024-12-29T08:39:59.389Z"
   },
   {
    "duration": 6,
    "start_time": "2024-12-29T08:39:59.395Z"
   },
   {
    "duration": 189,
    "start_time": "2024-12-29T08:39:59.402Z"
   },
   {
    "duration": 9213,
    "start_time": "2024-12-29T08:39:59.593Z"
   },
   {
    "duration": 20,
    "start_time": "2024-12-29T08:40:08.808Z"
   },
   {
    "duration": 57,
    "start_time": "2024-12-29T08:40:08.831Z"
   },
   {
    "duration": 19,
    "start_time": "2024-12-29T08:44:17.760Z"
   },
   {
    "duration": 4,
    "start_time": "2024-12-29T08:44:58.841Z"
   },
   {
    "duration": 15,
    "start_time": "2024-12-29T08:44:58.847Z"
   },
   {
    "duration": 19,
    "start_time": "2024-12-29T08:44:58.864Z"
   },
   {
    "duration": 3,
    "start_time": "2024-12-29T08:44:58.886Z"
   },
   {
    "duration": 4,
    "start_time": "2024-12-29T08:44:58.891Z"
   },
   {
    "duration": 6,
    "start_time": "2024-12-29T08:44:58.897Z"
   },
   {
    "duration": 8,
    "start_time": "2024-12-29T08:44:58.904Z"
   },
   {
    "duration": 12,
    "start_time": "2024-12-29T08:44:58.914Z"
   },
   {
    "duration": 4,
    "start_time": "2024-12-29T08:44:58.929Z"
   },
   {
    "duration": 6,
    "start_time": "2024-12-29T08:44:58.935Z"
   },
   {
    "duration": 43,
    "start_time": "2024-12-29T08:44:58.943Z"
   },
   {
    "duration": 3,
    "start_time": "2024-12-29T08:44:58.988Z"
   },
   {
    "duration": 2,
    "start_time": "2024-12-29T08:44:58.993Z"
   },
   {
    "duration": 12,
    "start_time": "2024-12-29T08:44:58.997Z"
   },
   {
    "duration": 4,
    "start_time": "2024-12-29T08:44:59.011Z"
   },
   {
    "duration": 22,
    "start_time": "2024-12-29T08:44:59.016Z"
   },
   {
    "duration": 399,
    "start_time": "2024-12-29T08:44:59.040Z"
   },
   {
    "duration": 47,
    "start_time": "2024-12-29T08:44:59.441Z"
   },
   {
    "duration": 3,
    "start_time": "2024-12-29T08:44:59.492Z"
   },
   {
    "duration": 5,
    "start_time": "2024-12-29T08:44:59.496Z"
   },
   {
    "duration": 3,
    "start_time": "2024-12-29T08:44:59.505Z"
   },
   {
    "duration": 78,
    "start_time": "2024-12-29T08:44:59.510Z"
   },
   {
    "duration": 7,
    "start_time": "2024-12-29T08:44:59.590Z"
   },
   {
    "duration": 296,
    "start_time": "2024-12-29T08:44:59.598Z"
   },
   {
    "duration": 9,
    "start_time": "2024-12-29T08:44:59.896Z"
   },
   {
    "duration": 39366,
    "start_time": "2024-12-29T08:44:59.907Z"
   },
   {
    "duration": 39,
    "start_time": "2024-12-29T08:45:39.275Z"
   },
   {
    "duration": 71,
    "start_time": "2024-12-29T08:45:39.316Z"
   },
   {
    "duration": 7,
    "start_time": "2024-12-29T08:45:39.389Z"
   },
   {
    "duration": 131,
    "start_time": "2024-12-29T08:45:39.398Z"
   },
   {
    "duration": 9218,
    "start_time": "2024-12-29T08:45:39.531Z"
   },
   {
    "duration": 38,
    "start_time": "2024-12-29T08:45:48.751Z"
   },
   {
    "duration": 10,
    "start_time": "2024-12-29T08:45:48.791Z"
   },
   {
    "duration": 15,
    "start_time": "2024-12-29T08:47:40.636Z"
   },
   {
    "duration": 4,
    "start_time": "2024-12-29T08:55:08.857Z"
   },
   {
    "duration": 16,
    "start_time": "2024-12-29T08:55:08.866Z"
   },
   {
    "duration": 19,
    "start_time": "2024-12-29T08:55:08.884Z"
   },
   {
    "duration": 3,
    "start_time": "2024-12-29T08:55:08.904Z"
   },
   {
    "duration": 4,
    "start_time": "2024-12-29T08:55:08.909Z"
   },
   {
    "duration": 6,
    "start_time": "2024-12-29T08:55:08.915Z"
   },
   {
    "duration": 9,
    "start_time": "2024-12-29T08:55:08.922Z"
   },
   {
    "duration": 14,
    "start_time": "2024-12-29T08:55:08.932Z"
   },
   {
    "duration": 41,
    "start_time": "2024-12-29T08:55:08.948Z"
   },
   {
    "duration": 8,
    "start_time": "2024-12-29T08:55:08.991Z"
   },
   {
    "duration": 3,
    "start_time": "2024-12-29T08:55:09.001Z"
   },
   {
    "duration": 4,
    "start_time": "2024-12-29T08:55:09.006Z"
   },
   {
    "duration": 3,
    "start_time": "2024-12-29T08:55:09.012Z"
   },
   {
    "duration": 16,
    "start_time": "2024-12-29T08:55:09.017Z"
   },
   {
    "duration": 4,
    "start_time": "2024-12-29T08:55:09.036Z"
   },
   {
    "duration": 68,
    "start_time": "2024-12-29T08:55:09.042Z"
   },
   {
    "duration": 380,
    "start_time": "2024-12-29T08:55:09.112Z"
   },
   {
    "duration": 23,
    "start_time": "2024-12-29T08:55:09.494Z"
   },
   {
    "duration": 3,
    "start_time": "2024-12-29T08:55:09.519Z"
   },
   {
    "duration": 4,
    "start_time": "2024-12-29T08:55:09.588Z"
   },
   {
    "duration": 3,
    "start_time": "2024-12-29T08:55:09.594Z"
   },
   {
    "duration": 4,
    "start_time": "2024-12-29T08:55:09.600Z"
   },
   {
    "duration": 81,
    "start_time": "2024-12-29T08:55:09.606Z"
   },
   {
    "duration": 274,
    "start_time": "2024-12-29T08:55:09.689Z"
   },
   {
    "duration": 27,
    "start_time": "2024-12-29T08:55:09.965Z"
   },
   {
    "duration": 7,
    "start_time": "2024-12-29T08:55:09.993Z"
   },
   {
    "duration": 0,
    "start_time": "2024-12-29T08:55:10.001Z"
   },
   {
    "duration": 0,
    "start_time": "2024-12-29T08:55:10.003Z"
   },
   {
    "duration": 0,
    "start_time": "2024-12-29T08:55:10.004Z"
   },
   {
    "duration": 0,
    "start_time": "2024-12-29T08:55:10.006Z"
   },
   {
    "duration": 0,
    "start_time": "2024-12-29T08:55:10.007Z"
   },
   {
    "duration": 0,
    "start_time": "2024-12-29T08:55:10.009Z"
   },
   {
    "duration": 0,
    "start_time": "2024-12-29T08:55:10.010Z"
   },
   {
    "duration": 0,
    "start_time": "2024-12-29T08:55:10.011Z"
   },
   {
    "duration": 39404,
    "start_time": "2024-12-29T08:55:22.614Z"
   },
   {
    "duration": 3562,
    "start_time": "2024-12-29T08:56:24.885Z"
   },
   {
    "duration": 180,
    "start_time": "2024-12-29T08:58:21.953Z"
   },
   {
    "duration": 182,
    "start_time": "2024-12-29T09:01:27.415Z"
   },
   {
    "duration": 23418,
    "start_time": "2024-12-29T09:02:54.659Z"
   },
   {
    "duration": 149,
    "start_time": "2024-12-29T09:04:10.882Z"
   },
   {
    "duration": 10829,
    "start_time": "2024-12-29T09:04:51.759Z"
   },
   {
    "duration": 2098,
    "start_time": "2024-12-29T09:05:50.228Z"
   },
   {
    "duration": 120,
    "start_time": "2024-12-29T09:05:52.328Z"
   },
   {
    "duration": 28,
    "start_time": "2024-12-29T09:06:10.503Z"
   },
   {
    "duration": 3,
    "start_time": "2024-12-29T09:06:14.030Z"
   },
   {
    "duration": 17,
    "start_time": "2024-12-29T09:06:14.036Z"
   },
   {
    "duration": 20,
    "start_time": "2024-12-29T09:06:14.056Z"
   },
   {
    "duration": 3,
    "start_time": "2024-12-29T09:06:14.078Z"
   },
   {
    "duration": 4,
    "start_time": "2024-12-29T09:06:14.084Z"
   },
   {
    "duration": 6,
    "start_time": "2024-12-29T09:06:14.090Z"
   },
   {
    "duration": 9,
    "start_time": "2024-12-29T09:06:14.098Z"
   },
   {
    "duration": 12,
    "start_time": "2024-12-29T09:06:14.109Z"
   },
   {
    "duration": 5,
    "start_time": "2024-12-29T09:06:14.122Z"
   },
   {
    "duration": 8,
    "start_time": "2024-12-29T09:06:14.129Z"
   },
   {
    "duration": 3,
    "start_time": "2024-12-29T09:06:14.140Z"
   },
   {
    "duration": 3,
    "start_time": "2024-12-29T09:06:14.145Z"
   },
   {
    "duration": 2,
    "start_time": "2024-12-29T09:06:14.187Z"
   },
   {
    "duration": 14,
    "start_time": "2024-12-29T09:06:14.191Z"
   },
   {
    "duration": 4,
    "start_time": "2024-12-29T09:06:14.207Z"
   },
   {
    "duration": 24,
    "start_time": "2024-12-29T09:06:14.212Z"
   },
   {
    "duration": 399,
    "start_time": "2024-12-29T09:06:14.237Z"
   },
   {
    "duration": 50,
    "start_time": "2024-12-29T09:06:14.637Z"
   },
   {
    "duration": 3,
    "start_time": "2024-12-29T09:06:14.692Z"
   },
   {
    "duration": 4,
    "start_time": "2024-12-29T09:06:14.698Z"
   },
   {
    "duration": 3,
    "start_time": "2024-12-29T09:06:14.704Z"
   },
   {
    "duration": 79,
    "start_time": "2024-12-29T09:06:14.708Z"
   },
   {
    "duration": 6,
    "start_time": "2024-12-29T09:06:14.789Z"
   },
   {
    "duration": 292,
    "start_time": "2024-12-29T09:06:14.797Z"
   },
   {
    "duration": 16,
    "start_time": "2024-12-29T09:06:15.091Z"
   },
   {
    "duration": 10834,
    "start_time": "2024-12-29T09:06:15.109Z"
   },
   {
    "duration": 2104,
    "start_time": "2024-12-29T09:06:25.944Z"
   },
   {
    "duration": 129,
    "start_time": "2024-12-29T09:06:28.050Z"
   },
   {
    "duration": 30,
    "start_time": "2024-12-29T09:06:28.186Z"
   },
   {
    "duration": 74,
    "start_time": "2024-12-29T09:06:28.217Z"
   },
   {
    "duration": 7,
    "start_time": "2024-12-29T09:06:28.295Z"
   },
   {
    "duration": 139,
    "start_time": "2024-12-29T09:06:28.304Z"
   },
   {
    "duration": 9226,
    "start_time": "2024-12-29T09:06:28.444Z"
   },
   {
    "duration": 21,
    "start_time": "2024-12-29T09:06:37.672Z"
   },
   {
    "duration": 10,
    "start_time": "2024-12-29T09:06:37.695Z"
   },
   {
    "duration": 2480,
    "start_time": "2024-12-29T09:10:15.254Z"
   },
   {
    "duration": 1284,
    "start_time": "2024-12-29T09:10:35.924Z"
   },
   {
    "duration": 77,
    "start_time": "2024-12-29T09:10:41.405Z"
   },
   {
    "duration": 122,
    "start_time": "2024-12-29T09:11:05.454Z"
   },
   {
    "duration": 15,
    "start_time": "2024-12-29T09:11:11.195Z"
   },
   {
    "duration": 77,
    "start_time": "2024-12-29T09:15:07.336Z"
   },
   {
    "duration": 16,
    "start_time": "2024-12-29T09:15:09.856Z"
   },
   {
    "duration": 54,
    "start_time": "2024-12-29T09:16:53.456Z"
   },
   {
    "duration": 16,
    "start_time": "2024-12-29T09:17:03.069Z"
   },
   {
    "duration": 78,
    "start_time": "2024-12-29T09:17:24.885Z"
   },
   {
    "duration": 15,
    "start_time": "2024-12-29T09:17:28.350Z"
   },
   {
    "duration": 2712,
    "start_time": "2024-12-29T18:32:53.824Z"
   },
   {
    "duration": 31,
    "start_time": "2024-12-29T18:32:56.544Z"
   },
   {
    "duration": 23,
    "start_time": "2024-12-29T18:32:56.577Z"
   },
   {
    "duration": 3,
    "start_time": "2024-12-29T18:32:56.602Z"
   },
   {
    "duration": 5,
    "start_time": "2024-12-29T18:32:56.607Z"
   },
   {
    "duration": 7,
    "start_time": "2024-12-29T18:32:56.613Z"
   },
   {
    "duration": 9,
    "start_time": "2024-12-29T18:32:56.621Z"
   },
   {
    "duration": 49,
    "start_time": "2024-12-29T18:32:56.632Z"
   },
   {
    "duration": 6,
    "start_time": "2024-12-29T18:32:56.682Z"
   },
   {
    "duration": 7,
    "start_time": "2024-12-29T18:32:56.691Z"
   },
   {
    "duration": 3,
    "start_time": "2024-12-29T18:32:56.699Z"
   },
   {
    "duration": 3,
    "start_time": "2024-12-29T18:32:56.704Z"
   },
   {
    "duration": 2,
    "start_time": "2024-12-29T18:32:56.709Z"
   },
   {
    "duration": 14,
    "start_time": "2024-12-29T18:32:56.713Z"
   },
   {
    "duration": 44,
    "start_time": "2024-12-29T18:32:56.728Z"
   },
   {
    "duration": 24,
    "start_time": "2024-12-29T18:32:56.774Z"
   },
   {
    "duration": 385,
    "start_time": "2024-12-29T18:32:56.799Z"
   },
   {
    "duration": 16,
    "start_time": "2024-12-29T18:32:57.188Z"
   },
   {
    "duration": 2,
    "start_time": "2024-12-29T18:32:57.206Z"
   },
   {
    "duration": 4,
    "start_time": "2024-12-29T18:32:57.210Z"
   },
   {
    "duration": 3,
    "start_time": "2024-12-29T18:32:57.271Z"
   },
   {
    "duration": 4,
    "start_time": "2024-12-29T18:32:57.276Z"
   },
   {
    "duration": 10,
    "start_time": "2024-12-29T18:32:57.282Z"
   },
   {
    "duration": 154,
    "start_time": "2024-12-29T18:32:57.293Z"
   },
   {
    "duration": 31,
    "start_time": "2024-12-29T18:32:57.448Z"
   },
   {
    "duration": 2483,
    "start_time": "2024-12-29T18:32:57.480Z"
   },
   {
    "duration": 1268,
    "start_time": "2024-12-29T18:32:59.969Z"
   },
   {
    "duration": 85,
    "start_time": "2024-12-29T18:33:01.240Z"
   },
   {
    "duration": 55,
    "start_time": "2024-12-29T18:33:01.326Z"
   },
   {
    "duration": 5,
    "start_time": "2024-12-29T18:33:01.383Z"
   },
   {
    "duration": 80,
    "start_time": "2024-12-29T18:33:01.393Z"
   },
   {
    "duration": 95,
    "start_time": "2024-12-29T18:33:01.475Z"
   },
   {
    "duration": 9106,
    "start_time": "2024-12-29T18:33:01.573Z"
   },
   {
    "duration": 15,
    "start_time": "2024-12-29T18:33:10.681Z"
   },
   {
    "duration": 72,
    "start_time": "2024-12-29T18:33:10.699Z"
   },
   {
    "duration": 17,
    "start_time": "2024-12-29T18:40:20.548Z"
   },
   {
    "duration": 444,
    "start_time": "2024-12-29T18:43:15.999Z"
   },
   {
    "duration": 75,
    "start_time": "2024-12-29T18:44:51.992Z"
   },
   {
    "duration": 16,
    "start_time": "2024-12-29T18:48:25.330Z"
   },
   {
    "duration": 18,
    "start_time": "2024-12-29T18:49:04.142Z"
   },
   {
    "duration": 21,
    "start_time": "2024-12-29T18:51:56.514Z"
   },
   {
    "duration": 27,
    "start_time": "2024-12-29T18:52:30.559Z"
   },
   {
    "duration": 17,
    "start_time": "2024-12-29T18:54:48.235Z"
   },
   {
    "duration": 16,
    "start_time": "2024-12-29T18:57:58.047Z"
   },
   {
    "duration": 17,
    "start_time": "2024-12-29T18:58:53.359Z"
   },
   {
    "duration": 21,
    "start_time": "2024-12-29T18:59:26.279Z"
   },
   {
    "duration": 14,
    "start_time": "2024-12-29T19:02:19.075Z"
   },
   {
    "duration": 57,
    "start_time": "2024-12-29T19:04:27.026Z"
   },
   {
    "duration": 2705,
    "start_time": "2024-12-29T22:37:58.938Z"
   },
   {
    "duration": 20,
    "start_time": "2024-12-29T22:38:01.646Z"
   },
   {
    "duration": 22,
    "start_time": "2024-12-29T22:38:01.667Z"
   },
   {
    "duration": 3,
    "start_time": "2024-12-29T22:38:01.691Z"
   },
   {
    "duration": 5,
    "start_time": "2024-12-29T22:38:01.709Z"
   },
   {
    "duration": 7,
    "start_time": "2024-12-29T22:38:01.715Z"
   },
   {
    "duration": 9,
    "start_time": "2024-12-29T22:38:01.723Z"
   },
   {
    "duration": 15,
    "start_time": "2024-12-29T22:38:01.733Z"
   },
   {
    "duration": 5,
    "start_time": "2024-12-29T22:38:01.749Z"
   },
   {
    "duration": 6,
    "start_time": "2024-12-29T22:38:01.757Z"
   },
   {
    "duration": 4,
    "start_time": "2024-12-29T22:38:01.764Z"
   },
   {
    "duration": 41,
    "start_time": "2024-12-29T22:38:01.769Z"
   },
   {
    "duration": 3,
    "start_time": "2024-12-29T22:38:01.811Z"
   },
   {
    "duration": 14,
    "start_time": "2024-12-29T22:38:01.816Z"
   },
   {
    "duration": 5,
    "start_time": "2024-12-29T22:38:01.831Z"
   },
   {
    "duration": 22,
    "start_time": "2024-12-29T22:38:01.837Z"
   },
   {
    "duration": 401,
    "start_time": "2024-12-29T22:38:01.861Z"
   },
   {
    "duration": 47,
    "start_time": "2024-12-29T22:38:02.264Z"
   },
   {
    "duration": 3,
    "start_time": "2024-12-29T22:38:02.312Z"
   },
   {
    "duration": 4,
    "start_time": "2024-12-29T22:38:02.317Z"
   },
   {
    "duration": 2,
    "start_time": "2024-12-29T22:38:02.323Z"
   },
   {
    "duration": 79,
    "start_time": "2024-12-29T22:38:02.330Z"
   },
   {
    "duration": 8,
    "start_time": "2024-12-29T22:38:02.411Z"
   },
   {
    "duration": 91,
    "start_time": "2024-12-29T22:38:02.420Z"
   },
   {
    "duration": 15,
    "start_time": "2024-12-29T22:38:02.513Z"
   },
   {
    "duration": 2474,
    "start_time": "2024-12-29T22:38:02.530Z"
   },
   {
    "duration": 76,
    "start_time": "2024-12-29T22:38:05.010Z"
   },
   {
    "duration": 37,
    "start_time": "2024-12-29T22:38:05.091Z"
   },
   {
    "duration": 5,
    "start_time": "2024-12-29T22:38:05.129Z"
   },
   {
    "duration": 7,
    "start_time": "2024-12-29T22:38:05.209Z"
   },
   {
    "duration": 27,
    "start_time": "2024-12-29T22:38:05.217Z"
   },
   {
    "duration": 14,
    "start_time": "2024-12-29T22:38:05.245Z"
   },
   {
    "duration": 9108,
    "start_time": "2024-12-29T22:38:05.260Z"
   },
   {
    "duration": 63,
    "start_time": "2024-12-29T22:38:14.370Z"
   },
   {
    "duration": 13,
    "start_time": "2024-12-29T22:38:14.435Z"
   },
   {
    "duration": 60,
    "start_time": "2024-12-29T22:38:14.450Z"
   },
   {
    "duration": 54,
    "start_time": "2024-12-29T23:27:06.581Z"
   },
   {
    "duration": 83,
    "start_time": "2024-12-29T23:30:41.421Z"
   },
   {
    "duration": 60,
    "start_time": "2024-12-29T23:34:11.202Z"
   },
   {
    "duration": 53,
    "start_time": "2024-12-29T23:34:18.402Z"
   },
   {
    "duration": 15,
    "start_time": "2024-12-29T23:36:41.572Z"
   },
   {
    "duration": 111,
    "start_time": "2024-12-29T23:40:37.586Z"
   },
   {
    "duration": 15,
    "start_time": "2024-12-29T23:40:40.966Z"
   },
   {
    "duration": 114,
    "start_time": "2024-12-29T23:49:07.109Z"
   },
   {
    "duration": 22,
    "start_time": "2024-12-29T23:51:35.867Z"
   },
   {
    "duration": 2467,
    "start_time": "2024-12-30T00:03:41.008Z"
   },
   {
    "duration": 83,
    "start_time": "2024-12-30T00:03:56.677Z"
   },
   {
    "duration": 23,
    "start_time": "2024-12-30T00:07:16.942Z"
   },
   {
    "duration": 17,
    "start_time": "2024-12-30T00:08:47.775Z"
   },
   {
    "duration": 23,
    "start_time": "2024-12-30T00:10:04.699Z"
   },
   {
    "duration": 21,
    "start_time": "2024-12-30T00:21:28.506Z"
   },
   {
    "duration": 3,
    "start_time": "2024-12-30T00:21:43.647Z"
   },
   {
    "duration": 18,
    "start_time": "2024-12-30T00:21:43.652Z"
   },
   {
    "duration": 20,
    "start_time": "2024-12-30T00:21:43.672Z"
   },
   {
    "duration": 3,
    "start_time": "2024-12-30T00:21:43.693Z"
   },
   {
    "duration": 4,
    "start_time": "2024-12-30T00:21:43.698Z"
   },
   {
    "duration": 6,
    "start_time": "2024-12-30T00:21:43.704Z"
   },
   {
    "duration": 9,
    "start_time": "2024-12-30T00:21:43.711Z"
   },
   {
    "duration": 13,
    "start_time": "2024-12-30T00:21:43.721Z"
   },
   {
    "duration": 4,
    "start_time": "2024-12-30T00:21:43.737Z"
   },
   {
    "duration": 5,
    "start_time": "2024-12-30T00:21:43.743Z"
   },
   {
    "duration": 4,
    "start_time": "2024-12-30T00:21:43.750Z"
   },
   {
    "duration": 3,
    "start_time": "2024-12-30T00:21:43.755Z"
   },
   {
    "duration": 2,
    "start_time": "2024-12-30T00:21:43.760Z"
   },
   {
    "duration": 54,
    "start_time": "2024-12-30T00:21:43.764Z"
   },
   {
    "duration": 4,
    "start_time": "2024-12-30T00:21:43.819Z"
   },
   {
    "duration": 23,
    "start_time": "2024-12-30T00:21:43.825Z"
   },
   {
    "duration": 384,
    "start_time": "2024-12-30T00:21:43.849Z"
   },
   {
    "duration": 16,
    "start_time": "2024-12-30T00:21:44.235Z"
   },
   {
    "duration": 55,
    "start_time": "2024-12-30T00:21:44.253Z"
   },
   {
    "duration": 5,
    "start_time": "2024-12-30T00:21:44.312Z"
   },
   {
    "duration": 3,
    "start_time": "2024-12-30T00:21:44.319Z"
   },
   {
    "duration": 4,
    "start_time": "2024-12-30T00:21:44.324Z"
   },
   {
    "duration": 79,
    "start_time": "2024-12-30T00:21:44.330Z"
   },
   {
    "duration": 124,
    "start_time": "2024-12-30T00:21:44.413Z"
   },
   {
    "duration": 21,
    "start_time": "2024-12-30T00:21:44.540Z"
   },
   {
    "duration": 2487,
    "start_time": "2024-12-30T00:21:44.563Z"
   },
   {
    "duration": 87,
    "start_time": "2024-12-30T00:21:47.052Z"
   },
   {
    "duration": 73,
    "start_time": "2024-12-30T00:21:47.140Z"
   },
   {
    "duration": 101,
    "start_time": "2024-12-30T00:21:47.216Z"
   },
   {
    "duration": 5,
    "start_time": "2024-12-30T00:21:47.320Z"
   },
   {
    "duration": 9,
    "start_time": "2024-12-30T00:21:47.326Z"
   },
   {
    "duration": 94,
    "start_time": "2024-12-30T00:21:47.337Z"
   },
   {
    "duration": 14,
    "start_time": "2024-12-30T00:21:47.433Z"
   },
   {
    "duration": 9326,
    "start_time": "2024-12-30T00:21:47.449Z"
   },
   {
    "duration": 61,
    "start_time": "2024-12-30T00:21:56.777Z"
   },
   {
    "duration": 15,
    "start_time": "2024-12-30T00:21:56.840Z"
   },
   {
    "duration": 57,
    "start_time": "2024-12-30T00:21:56.857Z"
   },
   {
    "duration": 8,
    "start_time": "2024-12-30T00:34:45.975Z"
   },
   {
    "duration": 1154,
    "start_time": "2024-12-30T00:35:14.516Z"
   },
   {
    "duration": 19,
    "start_time": "2024-12-30T00:35:15.673Z"
   },
   {
    "duration": 35,
    "start_time": "2024-12-30T00:35:15.693Z"
   },
   {
    "duration": 4,
    "start_time": "2024-12-30T00:35:15.731Z"
   },
   {
    "duration": 6,
    "start_time": "2024-12-30T00:35:15.737Z"
   },
   {
    "duration": 7,
    "start_time": "2024-12-30T00:35:15.745Z"
   },
   {
    "duration": 10,
    "start_time": "2024-12-30T00:35:15.754Z"
   },
   {
    "duration": 50,
    "start_time": "2024-12-30T00:35:15.766Z"
   },
   {
    "duration": 5,
    "start_time": "2024-12-30T00:35:15.818Z"
   },
   {
    "duration": 8,
    "start_time": "2024-12-30T00:35:15.827Z"
   },
   {
    "duration": 3,
    "start_time": "2024-12-30T00:35:15.837Z"
   },
   {
    "duration": 3,
    "start_time": "2024-12-30T00:35:15.842Z"
   },
   {
    "duration": 3,
    "start_time": "2024-12-30T00:35:15.848Z"
   },
   {
    "duration": 17,
    "start_time": "2024-12-30T00:35:15.852Z"
   },
   {
    "duration": 43,
    "start_time": "2024-12-30T00:35:15.871Z"
   },
   {
    "duration": 25,
    "start_time": "2024-12-30T00:35:15.916Z"
   },
   {
    "duration": 394,
    "start_time": "2024-12-30T00:35:15.942Z"
   },
   {
    "duration": 18,
    "start_time": "2024-12-30T00:35:16.338Z"
   },
   {
    "duration": 53,
    "start_time": "2024-12-30T00:35:16.358Z"
   },
   {
    "duration": 5,
    "start_time": "2024-12-30T00:35:16.413Z"
   },
   {
    "duration": 4,
    "start_time": "2024-12-30T00:35:16.420Z"
   },
   {
    "duration": 83,
    "start_time": "2024-12-30T00:35:16.426Z"
   },
   {
    "duration": 9,
    "start_time": "2024-12-30T00:35:16.512Z"
   },
   {
    "duration": 136,
    "start_time": "2024-12-30T00:35:16.523Z"
   },
   {
    "duration": 25,
    "start_time": "2024-12-30T00:35:16.661Z"
   },
   {
    "duration": 2631,
    "start_time": "2024-12-30T00:35:16.689Z"
   },
   {
    "duration": 98,
    "start_time": "2024-12-30T00:35:19.322Z"
   },
   {
    "duration": 85,
    "start_time": "2024-12-30T00:35:19.425Z"
   },
   {
    "duration": 5,
    "start_time": "2024-12-30T00:35:19.513Z"
   },
   {
    "duration": 9,
    "start_time": "2024-12-30T00:35:19.520Z"
   },
   {
    "duration": 101,
    "start_time": "2024-12-30T00:35:19.531Z"
   },
   {
    "duration": 15,
    "start_time": "2024-12-30T00:35:19.634Z"
   },
   {
    "duration": 9458,
    "start_time": "2024-12-30T00:35:19.651Z"
   },
   {
    "duration": 56,
    "start_time": "2024-12-30T00:35:29.111Z"
   },
   {
    "duration": 48,
    "start_time": "2024-12-30T00:35:29.170Z"
   },
   {
    "duration": 85,
    "start_time": "2024-12-30T00:35:29.223Z"
   },
   {
    "duration": 16,
    "start_time": "2024-12-30T00:39:59.915Z"
   },
   {
    "duration": 3,
    "start_time": "2024-12-30T00:41:28.641Z"
   },
   {
    "duration": 6,
    "start_time": "2024-12-30T00:48:39.569Z"
   },
   {
    "duration": 5,
    "start_time": "2024-12-30T00:49:08.157Z"
   },
   {
    "duration": 6,
    "start_time": "2024-12-30T00:51:33.653Z"
   },
   {
    "duration": 6,
    "start_time": "2024-12-30T00:53:13.018Z"
   },
   {
    "duration": 7,
    "start_time": "2024-12-30T00:54:32.874Z"
   },
   {
    "duration": 6,
    "start_time": "2024-12-30T00:57:57.563Z"
   },
   {
    "duration": 182,
    "start_time": "2024-12-30T03:51:22.963Z"
   },
   {
    "duration": 2712,
    "start_time": "2024-12-30T03:51:39.131Z"
   },
   {
    "duration": 33,
    "start_time": "2024-12-30T03:51:41.845Z"
   },
   {
    "duration": 21,
    "start_time": "2024-12-30T03:51:41.879Z"
   },
   {
    "duration": 3,
    "start_time": "2024-12-30T03:51:41.902Z"
   },
   {
    "duration": 4,
    "start_time": "2024-12-30T03:51:41.914Z"
   },
   {
    "duration": 7,
    "start_time": "2024-12-30T03:51:41.920Z"
   },
   {
    "duration": 9,
    "start_time": "2024-12-30T03:51:41.928Z"
   },
   {
    "duration": 15,
    "start_time": "2024-12-30T03:51:41.938Z"
   },
   {
    "duration": 4,
    "start_time": "2024-12-30T03:51:41.955Z"
   },
   {
    "duration": 7,
    "start_time": "2024-12-30T03:51:41.963Z"
   },
   {
    "duration": 3,
    "start_time": "2024-12-30T03:51:42.011Z"
   },
   {
    "duration": 2,
    "start_time": "2024-12-30T03:51:42.016Z"
   },
   {
    "duration": 3,
    "start_time": "2024-12-30T03:51:42.020Z"
   },
   {
    "duration": 14,
    "start_time": "2024-12-30T03:51:42.025Z"
   },
   {
    "duration": 5,
    "start_time": "2024-12-30T03:51:42.041Z"
   },
   {
    "duration": 22,
    "start_time": "2024-12-30T03:51:42.048Z"
   },
   {
    "duration": 391,
    "start_time": "2024-12-30T03:51:42.072Z"
   },
   {
    "duration": 48,
    "start_time": "2024-12-30T03:51:42.465Z"
   },
   {
    "duration": 3,
    "start_time": "2024-12-30T03:51:42.515Z"
   },
   {
    "duration": 7,
    "start_time": "2024-12-30T03:51:42.520Z"
   },
   {
    "duration": 82,
    "start_time": "2024-12-30T03:51:42.530Z"
   },
   {
    "duration": 4,
    "start_time": "2024-12-30T03:51:42.613Z"
   },
   {
    "duration": 7,
    "start_time": "2024-12-30T03:51:42.619Z"
   },
   {
    "duration": 114,
    "start_time": "2024-12-30T03:51:42.628Z"
   },
   {
    "duration": 20,
    "start_time": "2024-12-30T03:51:42.744Z"
   },
   {
    "duration": 2481,
    "start_time": "2024-12-30T03:51:42.766Z"
   },
   {
    "duration": 93,
    "start_time": "2024-12-30T03:51:45.249Z"
   },
   {
    "duration": 67,
    "start_time": "2024-12-30T03:51:45.346Z"
   },
   {
    "duration": 4,
    "start_time": "2024-12-30T03:51:45.415Z"
   },
   {
    "duration": 8,
    "start_time": "2024-12-30T03:51:45.420Z"
   },
   {
    "duration": 99,
    "start_time": "2024-12-30T03:51:45.429Z"
   },
   {
    "duration": 14,
    "start_time": "2024-12-30T03:51:45.530Z"
   },
   {
    "duration": 8981,
    "start_time": "2024-12-30T03:51:45.545Z"
   },
   {
    "duration": 52,
    "start_time": "2024-12-30T03:51:54.528Z"
   },
   {
    "duration": 37,
    "start_time": "2024-12-30T03:51:54.581Z"
   },
   {
    "duration": 6,
    "start_time": "2024-12-30T03:51:54.620Z"
   },
   {
    "duration": 5,
    "start_time": "2024-12-30T03:51:54.628Z"
   },
   {
    "duration": 89,
    "start_time": "2024-12-30T03:51:54.635Z"
   },
   {
    "duration": 6,
    "start_time": "2024-12-30T03:51:54.727Z"
   },
   {
    "duration": 8,
    "start_time": "2024-12-30T03:51:54.735Z"
   },
   {
    "duration": 5,
    "start_time": "2024-12-30T03:51:54.745Z"
   },
   {
    "duration": 7,
    "start_time": "2024-12-30T04:09:06.798Z"
   },
   {
    "duration": 6,
    "start_time": "2024-12-30T04:09:53.145Z"
   },
   {
    "duration": 15,
    "start_time": "2024-12-30T04:10:16.893Z"
   },
   {
    "duration": 25,
    "start_time": "2024-12-30T04:10:58.625Z"
   },
   {
    "duration": 14,
    "start_time": "2024-12-30T04:11:01.094Z"
   },
   {
    "duration": 8998,
    "start_time": "2024-12-30T04:14:19.343Z"
   },
   {
    "duration": 26,
    "start_time": "2024-12-30T04:28:48.325Z"
   },
   {
    "duration": 966,
    "start_time": "2024-12-30T04:30:32.890Z"
   },
   {
    "duration": 17,
    "start_time": "2024-12-30T04:30:33.858Z"
   },
   {
    "duration": 22,
    "start_time": "2024-12-30T04:30:33.876Z"
   },
   {
    "duration": 3,
    "start_time": "2024-12-30T04:30:33.912Z"
   },
   {
    "duration": 5,
    "start_time": "2024-12-30T04:30:33.916Z"
   },
   {
    "duration": 7,
    "start_time": "2024-12-30T04:30:33.923Z"
   },
   {
    "duration": 9,
    "start_time": "2024-12-30T04:30:33.931Z"
   },
   {
    "duration": 14,
    "start_time": "2024-12-30T04:30:33.942Z"
   },
   {
    "duration": 5,
    "start_time": "2024-12-30T04:30:33.957Z"
   },
   {
    "duration": 7,
    "start_time": "2024-12-30T04:30:33.966Z"
   },
   {
    "duration": 37,
    "start_time": "2024-12-30T04:30:33.975Z"
   },
   {
    "duration": 3,
    "start_time": "2024-12-30T04:30:34.014Z"
   },
   {
    "duration": 3,
    "start_time": "2024-12-30T04:30:34.019Z"
   },
   {
    "duration": 14,
    "start_time": "2024-12-30T04:30:34.023Z"
   },
   {
    "duration": 4,
    "start_time": "2024-12-30T04:30:34.039Z"
   },
   {
    "duration": 22,
    "start_time": "2024-12-30T04:30:34.045Z"
   },
   {
    "duration": 393,
    "start_time": "2024-12-30T04:30:34.068Z"
   },
   {
    "duration": 50,
    "start_time": "2024-12-30T04:30:34.462Z"
   },
   {
    "duration": 3,
    "start_time": "2024-12-30T04:30:34.514Z"
   },
   {
    "duration": 4,
    "start_time": "2024-12-30T04:30:34.520Z"
   },
   {
    "duration": 3,
    "start_time": "2024-12-30T04:30:34.526Z"
   },
   {
    "duration": 4,
    "start_time": "2024-12-30T04:30:34.530Z"
   },
   {
    "duration": 84,
    "start_time": "2024-12-30T04:30:34.535Z"
   },
   {
    "duration": 126,
    "start_time": "2024-12-30T04:30:34.620Z"
   },
   {
    "duration": 21,
    "start_time": "2024-12-30T04:30:34.748Z"
   },
   {
    "duration": 2472,
    "start_time": "2024-12-30T04:30:34.770Z"
   },
   {
    "duration": 89,
    "start_time": "2024-12-30T04:30:37.243Z"
   },
   {
    "duration": 77,
    "start_time": "2024-12-30T04:30:37.335Z"
   },
   {
    "duration": 4,
    "start_time": "2024-12-30T04:30:37.414Z"
   },
   {
    "duration": 6,
    "start_time": "2024-12-30T04:30:37.421Z"
   },
   {
    "duration": 96,
    "start_time": "2024-12-30T04:30:37.428Z"
   },
   {
    "duration": 14,
    "start_time": "2024-12-30T04:30:37.526Z"
   },
   {
    "duration": 9063,
    "start_time": "2024-12-30T04:30:37.542Z"
   },
   {
    "duration": 53,
    "start_time": "2024-12-30T04:30:46.607Z"
   },
   {
    "duration": 50,
    "start_time": "2024-12-30T04:30:46.662Z"
   },
   {
    "duration": 7,
    "start_time": "2024-12-30T04:30:46.713Z"
   },
   {
    "duration": 5,
    "start_time": "2024-12-30T04:30:46.722Z"
   },
   {
    "duration": 87,
    "start_time": "2024-12-30T04:30:46.729Z"
   },
   {
    "duration": 5,
    "start_time": "2024-12-30T04:30:46.818Z"
   },
   {
    "duration": 12,
    "start_time": "2024-12-30T04:30:46.825Z"
   },
   {
    "duration": 9,
    "start_time": "2024-12-30T04:30:46.838Z"
   },
   {
    "duration": 6,
    "start_time": "2024-12-30T04:46:50.936Z"
   },
   {
    "duration": 8,
    "start_time": "2024-12-30T04:47:33.992Z"
   },
   {
    "duration": 0,
    "start_time": "2024-12-30T04:47:34.002Z"
   },
   {
    "duration": 0,
    "start_time": "2024-12-30T04:47:34.003Z"
   },
   {
    "duration": 170,
    "start_time": "2024-12-30T04:47:34.009Z"
   },
   {
    "duration": 0,
    "start_time": "2024-12-30T04:47:34.182Z"
   },
   {
    "duration": 0,
    "start_time": "2024-12-30T04:47:34.183Z"
   },
   {
    "duration": 0,
    "start_time": "2024-12-30T04:47:34.184Z"
   },
   {
    "duration": 0,
    "start_time": "2024-12-30T04:47:34.186Z"
   },
   {
    "duration": 0,
    "start_time": "2024-12-30T04:47:34.186Z"
   },
   {
    "duration": 0,
    "start_time": "2024-12-30T04:47:34.188Z"
   },
   {
    "duration": 0,
    "start_time": "2024-12-30T04:47:34.189Z"
   },
   {
    "duration": 0,
    "start_time": "2024-12-30T04:47:34.190Z"
   },
   {
    "duration": 0,
    "start_time": "2024-12-30T04:47:34.191Z"
   },
   {
    "duration": 0,
    "start_time": "2024-12-30T04:47:34.211Z"
   },
   {
    "duration": 0,
    "start_time": "2024-12-30T04:47:34.212Z"
   },
   {
    "duration": 0,
    "start_time": "2024-12-30T04:47:34.214Z"
   },
   {
    "duration": 0,
    "start_time": "2024-12-30T04:47:34.214Z"
   },
   {
    "duration": 0,
    "start_time": "2024-12-30T04:47:34.216Z"
   },
   {
    "duration": 0,
    "start_time": "2024-12-30T04:47:34.216Z"
   },
   {
    "duration": 0,
    "start_time": "2024-12-30T04:47:34.218Z"
   },
   {
    "duration": 0,
    "start_time": "2024-12-30T04:47:34.219Z"
   },
   {
    "duration": 0,
    "start_time": "2024-12-30T04:47:34.222Z"
   },
   {
    "duration": 0,
    "start_time": "2024-12-30T04:47:34.224Z"
   },
   {
    "duration": 0,
    "start_time": "2024-12-30T04:47:34.226Z"
   },
   {
    "duration": 0,
    "start_time": "2024-12-30T04:47:34.227Z"
   },
   {
    "duration": 0,
    "start_time": "2024-12-30T04:47:34.228Z"
   },
   {
    "duration": 0,
    "start_time": "2024-12-30T04:47:34.230Z"
   },
   {
    "duration": 0,
    "start_time": "2024-12-30T04:47:34.232Z"
   },
   {
    "duration": 0,
    "start_time": "2024-12-30T04:47:34.233Z"
   },
   {
    "duration": 0,
    "start_time": "2024-12-30T04:47:34.235Z"
   },
   {
    "duration": 0,
    "start_time": "2024-12-30T04:47:34.237Z"
   },
   {
    "duration": 0,
    "start_time": "2024-12-30T04:47:34.238Z"
   },
   {
    "duration": 0,
    "start_time": "2024-12-30T04:47:34.240Z"
   },
   {
    "duration": 0,
    "start_time": "2024-12-30T04:47:34.241Z"
   },
   {
    "duration": 0,
    "start_time": "2024-12-30T04:47:34.243Z"
   },
   {
    "duration": 0,
    "start_time": "2024-12-30T04:47:34.244Z"
   },
   {
    "duration": 0,
    "start_time": "2024-12-30T04:47:34.246Z"
   },
   {
    "duration": 0,
    "start_time": "2024-12-30T04:47:34.247Z"
   },
   {
    "duration": 0,
    "start_time": "2024-12-30T04:47:34.249Z"
   },
   {
    "duration": 0,
    "start_time": "2024-12-30T04:47:34.250Z"
   },
   {
    "duration": 0,
    "start_time": "2024-12-30T04:47:34.311Z"
   },
   {
    "duration": 0,
    "start_time": "2024-12-30T04:47:34.312Z"
   },
   {
    "duration": 5,
    "start_time": "2024-12-30T04:48:31.942Z"
   },
   {
    "duration": 6,
    "start_time": "2024-12-30T04:49:40.132Z"
   },
   {
    "duration": 0,
    "start_time": "2024-12-30T04:49:40.140Z"
   },
   {
    "duration": 12,
    "start_time": "2024-12-30T04:49:40.141Z"
   },
   {
    "duration": 0,
    "start_time": "2024-12-30T04:49:40.155Z"
   },
   {
    "duration": 0,
    "start_time": "2024-12-30T04:49:40.156Z"
   },
   {
    "duration": 0,
    "start_time": "2024-12-30T04:49:40.157Z"
   },
   {
    "duration": 0,
    "start_time": "2024-12-30T04:49:40.158Z"
   },
   {
    "duration": 0,
    "start_time": "2024-12-30T04:49:40.160Z"
   },
   {
    "duration": 0,
    "start_time": "2024-12-30T04:49:40.161Z"
   },
   {
    "duration": 0,
    "start_time": "2024-12-30T04:49:40.162Z"
   },
   {
    "duration": 11,
    "start_time": "2024-12-30T04:49:40.169Z"
   },
   {
    "duration": 0,
    "start_time": "2024-12-30T04:49:40.182Z"
   },
   {
    "duration": 0,
    "start_time": "2024-12-30T04:49:40.183Z"
   },
   {
    "duration": 34,
    "start_time": "2024-12-30T04:49:40.184Z"
   },
   {
    "duration": 0,
    "start_time": "2024-12-30T04:49:40.220Z"
   },
   {
    "duration": 0,
    "start_time": "2024-12-30T04:49:40.221Z"
   },
   {
    "duration": 0,
    "start_time": "2024-12-30T04:49:40.222Z"
   },
   {
    "duration": 0,
    "start_time": "2024-12-30T04:49:40.223Z"
   },
   {
    "duration": 0,
    "start_time": "2024-12-30T04:49:40.224Z"
   },
   {
    "duration": 0,
    "start_time": "2024-12-30T04:49:40.225Z"
   },
   {
    "duration": 0,
    "start_time": "2024-12-30T04:49:40.226Z"
   },
   {
    "duration": 0,
    "start_time": "2024-12-30T04:49:40.227Z"
   },
   {
    "duration": 0,
    "start_time": "2024-12-30T04:49:40.229Z"
   },
   {
    "duration": 11,
    "start_time": "2024-12-30T04:49:40.231Z"
   },
   {
    "duration": 0,
    "start_time": "2024-12-30T04:49:40.244Z"
   },
   {
    "duration": 0,
    "start_time": "2024-12-30T04:49:40.245Z"
   },
   {
    "duration": 88,
    "start_time": "2024-12-30T04:49:40.247Z"
   },
   {
    "duration": 0,
    "start_time": "2024-12-30T04:49:40.337Z"
   },
   {
    "duration": 0,
    "start_time": "2024-12-30T04:49:40.338Z"
   },
   {
    "duration": 0,
    "start_time": "2024-12-30T04:49:40.339Z"
   },
   {
    "duration": 0,
    "start_time": "2024-12-30T04:49:40.340Z"
   },
   {
    "duration": 0,
    "start_time": "2024-12-30T04:49:40.341Z"
   },
   {
    "duration": 0,
    "start_time": "2024-12-30T04:49:40.342Z"
   },
   {
    "duration": 0,
    "start_time": "2024-12-30T04:49:40.343Z"
   },
   {
    "duration": 0,
    "start_time": "2024-12-30T04:49:40.344Z"
   },
   {
    "duration": 0,
    "start_time": "2024-12-30T04:49:40.345Z"
   },
   {
    "duration": 0,
    "start_time": "2024-12-30T04:49:40.346Z"
   },
   {
    "duration": 0,
    "start_time": "2024-12-30T04:49:40.347Z"
   },
   {
    "duration": 0,
    "start_time": "2024-12-30T04:49:40.348Z"
   },
   {
    "duration": 0,
    "start_time": "2024-12-30T04:49:40.350Z"
   },
   {
    "duration": 0,
    "start_time": "2024-12-30T04:49:40.350Z"
   },
   {
    "duration": 0,
    "start_time": "2024-12-30T04:49:40.352Z"
   },
   {
    "duration": 5,
    "start_time": "2024-12-30T04:50:53.350Z"
   },
   {
    "duration": 972,
    "start_time": "2024-12-30T04:50:53.359Z"
   },
   {
    "duration": 16,
    "start_time": "2024-12-30T04:50:54.334Z"
   },
   {
    "duration": 20,
    "start_time": "2024-12-30T04:50:54.352Z"
   },
   {
    "duration": 3,
    "start_time": "2024-12-30T04:50:54.373Z"
   },
   {
    "duration": 4,
    "start_time": "2024-12-30T04:50:54.380Z"
   },
   {
    "duration": 28,
    "start_time": "2024-12-30T04:50:54.385Z"
   },
   {
    "duration": 11,
    "start_time": "2024-12-30T04:50:54.414Z"
   },
   {
    "duration": 15,
    "start_time": "2024-12-30T04:50:54.426Z"
   },
   {
    "duration": 5,
    "start_time": "2024-12-30T04:50:54.443Z"
   },
   {
    "duration": 6,
    "start_time": "2024-12-30T04:50:54.449Z"
   },
   {
    "duration": 3,
    "start_time": "2024-12-30T04:50:54.457Z"
   },
   {
    "duration": 2,
    "start_time": "2024-12-30T04:50:54.462Z"
   },
   {
    "duration": 3,
    "start_time": "2024-12-30T04:50:54.466Z"
   },
   {
    "duration": 50,
    "start_time": "2024-12-30T04:50:54.472Z"
   },
   {
    "duration": 5,
    "start_time": "2024-12-30T04:50:54.524Z"
   },
   {
    "duration": 23,
    "start_time": "2024-12-30T04:50:54.530Z"
   },
   {
    "duration": 401,
    "start_time": "2024-12-30T04:50:54.555Z"
   },
   {
    "duration": 55,
    "start_time": "2024-12-30T04:50:54.958Z"
   },
   {
    "duration": 4,
    "start_time": "2024-12-30T04:50:55.015Z"
   },
   {
    "duration": 5,
    "start_time": "2024-12-30T04:50:55.021Z"
   },
   {
    "duration": 4,
    "start_time": "2024-12-30T04:50:55.027Z"
   },
   {
    "duration": 3,
    "start_time": "2024-12-30T04:50:55.033Z"
   },
   {
    "duration": 83,
    "start_time": "2024-12-30T04:50:55.038Z"
   },
   {
    "duration": 123,
    "start_time": "2024-12-30T04:50:55.123Z"
   },
   {
    "duration": 22,
    "start_time": "2024-12-30T04:50:55.248Z"
   },
   {
    "duration": 2465,
    "start_time": "2024-12-30T04:50:55.271Z"
   },
   {
    "duration": 87,
    "start_time": "2024-12-30T04:50:57.738Z"
   },
   {
    "duration": 31,
    "start_time": "2024-12-30T04:50:57.826Z"
   },
   {
    "duration": 5,
    "start_time": "2024-12-30T04:50:57.915Z"
   },
   {
    "duration": 6,
    "start_time": "2024-12-30T04:50:57.925Z"
   },
   {
    "duration": 102,
    "start_time": "2024-12-30T04:50:57.936Z"
   },
   {
    "duration": 14,
    "start_time": "2024-12-30T04:50:58.039Z"
   },
   {
    "duration": 8918,
    "start_time": "2024-12-30T04:50:58.055Z"
   },
   {
    "duration": 60,
    "start_time": "2024-12-30T04:51:06.975Z"
   },
   {
    "duration": 15,
    "start_time": "2024-12-30T04:51:07.037Z"
   },
   {
    "duration": 59,
    "start_time": "2024-12-30T04:51:07.054Z"
   },
   {
    "duration": 8,
    "start_time": "2024-12-30T04:51:07.115Z"
   },
   {
    "duration": 89,
    "start_time": "2024-12-30T04:51:07.125Z"
   },
   {
    "duration": 5,
    "start_time": "2024-12-30T04:51:07.221Z"
   },
   {
    "duration": 6,
    "start_time": "2024-12-30T04:51:07.229Z"
   },
   {
    "duration": 7,
    "start_time": "2024-12-30T04:51:07.240Z"
   },
   {
    "duration": 5,
    "start_time": "2024-12-30T04:52:24.584Z"
   },
   {
    "duration": 4,
    "start_time": "2024-12-30T04:52:24.598Z"
   },
   {
    "duration": 17,
    "start_time": "2024-12-30T04:52:24.604Z"
   },
   {
    "duration": 19,
    "start_time": "2024-12-30T04:52:24.622Z"
   },
   {
    "duration": 3,
    "start_time": "2024-12-30T04:52:24.642Z"
   },
   {
    "duration": 4,
    "start_time": "2024-12-30T04:52:24.647Z"
   },
   {
    "duration": 7,
    "start_time": "2024-12-30T04:52:24.654Z"
   },
   {
    "duration": 9,
    "start_time": "2024-12-30T04:52:24.662Z"
   },
   {
    "duration": 49,
    "start_time": "2024-12-30T04:52:24.673Z"
   },
   {
    "duration": 5,
    "start_time": "2024-12-30T04:52:24.723Z"
   },
   {
    "duration": 6,
    "start_time": "2024-12-30T04:52:24.731Z"
   },
   {
    "duration": 3,
    "start_time": "2024-12-30T04:52:24.739Z"
   },
   {
    "duration": 2,
    "start_time": "2024-12-30T04:52:24.744Z"
   },
   {
    "duration": 3,
    "start_time": "2024-12-30T04:52:24.748Z"
   },
   {
    "duration": 14,
    "start_time": "2024-12-30T04:52:24.752Z"
   },
   {
    "duration": 44,
    "start_time": "2024-12-30T04:52:24.768Z"
   },
   {
    "duration": 23,
    "start_time": "2024-12-30T04:52:24.814Z"
   },
   {
    "duration": 431,
    "start_time": "2024-12-30T04:52:24.839Z"
   },
   {
    "duration": 39,
    "start_time": "2024-12-30T04:52:25.274Z"
   },
   {
    "duration": 3,
    "start_time": "2024-12-30T04:52:25.315Z"
   },
   {
    "duration": 7,
    "start_time": "2024-12-30T04:52:25.320Z"
   },
   {
    "duration": 4,
    "start_time": "2024-12-30T04:52:25.331Z"
   },
   {
    "duration": 76,
    "start_time": "2024-12-30T04:52:25.337Z"
   },
   {
    "duration": 8,
    "start_time": "2024-12-30T04:52:25.415Z"
   },
   {
    "duration": 111,
    "start_time": "2024-12-30T04:52:25.425Z"
   },
   {
    "duration": 21,
    "start_time": "2024-12-30T04:52:25.538Z"
   },
   {
    "duration": 2475,
    "start_time": "2024-12-30T04:52:25.560Z"
   },
   {
    "duration": 91,
    "start_time": "2024-12-30T04:52:28.037Z"
   },
   {
    "duration": 28,
    "start_time": "2024-12-30T04:52:28.130Z"
   },
   {
    "duration": 57,
    "start_time": "2024-12-30T04:52:28.160Z"
   },
   {
    "duration": 6,
    "start_time": "2024-12-30T04:52:28.218Z"
   },
   {
    "duration": 103,
    "start_time": "2024-12-30T04:52:28.226Z"
   },
   {
    "duration": 14,
    "start_time": "2024-12-30T04:52:28.331Z"
   },
   {
    "duration": 9011,
    "start_time": "2024-12-30T04:52:28.347Z"
   },
   {
    "duration": 61,
    "start_time": "2024-12-30T04:52:37.360Z"
   },
   {
    "duration": 14,
    "start_time": "2024-12-30T04:52:37.423Z"
   },
   {
    "duration": 6,
    "start_time": "2024-12-30T04:52:37.439Z"
   },
   {
    "duration": 69,
    "start_time": "2024-12-30T04:52:37.447Z"
   },
   {
    "duration": 17,
    "start_time": "2024-12-30T04:52:37.517Z"
   },
   {
    "duration": 5,
    "start_time": "2024-12-30T04:52:37.536Z"
   },
   {
    "duration": 76,
    "start_time": "2024-12-30T04:52:37.542Z"
   },
   {
    "duration": 6,
    "start_time": "2024-12-30T04:52:37.622Z"
   },
   {
    "duration": 946,
    "start_time": "2024-12-30T04:53:16.195Z"
   },
   {
    "duration": 15,
    "start_time": "2024-12-30T04:53:17.142Z"
   },
   {
    "duration": 20,
    "start_time": "2024-12-30T04:53:17.159Z"
   },
   {
    "duration": 3,
    "start_time": "2024-12-30T04:53:17.182Z"
   },
   {
    "duration": 4,
    "start_time": "2024-12-30T04:53:17.187Z"
   },
   {
    "duration": 26,
    "start_time": "2024-12-30T04:53:17.192Z"
   },
   {
    "duration": 13,
    "start_time": "2024-12-30T04:53:17.219Z"
   },
   {
    "duration": 15,
    "start_time": "2024-12-30T04:53:17.235Z"
   },
   {
    "duration": 5,
    "start_time": "2024-12-30T04:53:17.252Z"
   },
   {
    "duration": 7,
    "start_time": "2024-12-30T04:53:17.260Z"
   },
   {
    "duration": 4,
    "start_time": "2024-12-30T04:53:17.268Z"
   },
   {
    "duration": 3,
    "start_time": "2024-12-30T04:53:17.274Z"
   },
   {
    "duration": 33,
    "start_time": "2024-12-30T04:53:17.279Z"
   },
   {
    "duration": 15,
    "start_time": "2024-12-30T04:53:17.314Z"
   },
   {
    "duration": 5,
    "start_time": "2024-12-30T04:53:17.330Z"
   },
   {
    "duration": 21,
    "start_time": "2024-12-30T04:53:17.337Z"
   },
   {
    "duration": 389,
    "start_time": "2024-12-30T04:53:17.360Z"
   },
   {
    "duration": 16,
    "start_time": "2024-12-30T04:53:17.752Z"
   },
   {
    "duration": 44,
    "start_time": "2024-12-30T04:53:17.769Z"
   },
   {
    "duration": 4,
    "start_time": "2024-12-30T04:53:17.816Z"
   },
   {
    "duration": 3,
    "start_time": "2024-12-30T04:53:17.822Z"
   },
   {
    "duration": 6,
    "start_time": "2024-12-30T04:53:17.826Z"
   },
   {
    "duration": 83,
    "start_time": "2024-12-30T04:53:17.834Z"
   },
   {
    "duration": 117,
    "start_time": "2024-12-30T04:53:17.919Z"
   },
   {
    "duration": 21,
    "start_time": "2024-12-30T04:53:18.038Z"
   },
   {
    "duration": 2471,
    "start_time": "2024-12-30T04:53:18.061Z"
   },
   {
    "duration": 90,
    "start_time": "2024-12-30T04:53:20.534Z"
   },
   {
    "duration": 29,
    "start_time": "2024-12-30T04:53:20.627Z"
   },
   {
    "duration": 56,
    "start_time": "2024-12-30T04:53:20.658Z"
   },
   {
    "duration": 6,
    "start_time": "2024-12-30T04:53:20.716Z"
   },
   {
    "duration": 105,
    "start_time": "2024-12-30T04:53:20.724Z"
   },
   {
    "duration": 14,
    "start_time": "2024-12-30T04:53:20.830Z"
   },
   {
    "duration": 9070,
    "start_time": "2024-12-30T04:53:20.846Z"
   },
   {
    "duration": 55,
    "start_time": "2024-12-30T04:53:29.918Z"
   },
   {
    "duration": 42,
    "start_time": "2024-12-30T04:53:29.975Z"
   },
   {
    "duration": 9,
    "start_time": "2024-12-30T04:53:30.019Z"
   },
   {
    "duration": 5,
    "start_time": "2024-12-30T04:53:30.030Z"
   },
   {
    "duration": 15,
    "start_time": "2024-12-30T04:53:30.111Z"
   },
   {
    "duration": 5,
    "start_time": "2024-12-30T04:53:30.128Z"
   },
   {
    "duration": 8,
    "start_time": "2024-12-30T04:53:30.135Z"
   },
   {
    "duration": 5,
    "start_time": "2024-12-30T04:53:30.145Z"
   }
  ],
  "kernelspec": {
   "display_name": "Python 3 (ipykernel)",
   "language": "python",
   "name": "python3"
  },
  "language_info": {
   "codemirror_mode": {
    "name": "ipython",
    "version": 3
   },
   "file_extension": ".py",
   "mimetype": "text/x-python",
   "name": "python",
   "nbconvert_exporter": "python",
   "pygments_lexer": "ipython3",
   "version": "3.9.19"
  },
  "toc": {
   "base_numbering": 1,
   "nav_menu": {},
   "number_sections": true,
   "sideBar": true,
   "skip_h1_title": true,
   "title_cell": "Table of Contents",
   "title_sidebar": "Contents",
   "toc_cell": false,
   "toc_position": {},
   "toc_section_display": true,
   "toc_window_display": false
  }
 },
 "nbformat": 4,
 "nbformat_minor": 2
}
