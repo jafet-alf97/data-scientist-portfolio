{
 "cells": [
  {
   "cell_type": "markdown",
   "metadata": {},
   "source": [
    "# Descripcion del proyecto\n",
    "La compañía móvil Megaline no está satisfecha al ver que muchos de sus clientes utilizan planes heredados. Quieren desarrollar un modelo que pueda analizar el comportamiento de los clientes y recomendar uno de los nuevos planes de Megaline: Smart o Ultra.\n",
    "\n",
    "Tienes acceso a los datos de comportamiento de los suscriptores que ya se han cambiado a los planes nuevos (del proyecto del sprint de Análisis estadístico de datos). Para esta tarea de clasificación debes crear un modelo que escoja el plan correcto. Como ya hiciste el paso de procesar los datos, puedes lanzarte directo a crear el modelo.\n",
    "\n",
    "Desarrolla un modelo con la mayor exactitud posible. En este proyecto, el umbral de exactitud es 0.75. Usa el dataset para comprobar la exactitud."
   ]
  },
  {
   "cell_type": "markdown",
   "metadata": {},
   "source": [
    "# Tabla de contenido\n",
    "1. [Inicialización](#Inicialización)\n",
    "2. [Informacion general](#Informacion-general)\n",
    "3. [Segmetar los datos](#Segmetar-los-datos) \n",
    "4. [Calidad de los modelos](#Calidad-de-los-modelos) \n",
    "\n",
    "   4.1.[Arbol de decision](#Arbol-de-decision)\n",
    "   \n",
    "   4.2.[Bosque aleatorio](#Bosque-aleatorio)\n",
    "   \n",
    "   4.3.[Regresion logistica](#Regresion-logistica)\n",
    "   \n",
    "5. [Calidad del modelo en el conjunto de prueba](#Calidad-del-modelo-en-el-conjunto-de-prueba)\n",
    "6. [Prueba de cordura al modelo](#Prueba-de-cordura-al-modelo)\n",
    "7. [Conclusión general](#Conclusión-general)"
   ]
  },
  {
   "cell_type": "markdown",
   "metadata": {},
   "source": [
    "## . Inicializacion \n",
    "Abre el archivo de datos y estudia la información general\n"
   ]
  },
  {
   "cell_type": "code",
   "execution_count": 1,
   "metadata": {},
   "outputs": [],
   "source": [
    "# Cargar todas las librerías\n",
    "import pandas as pd \n",
    "import numpy as np\n",
    "from sklearn.metrics import confusion_matrix, classification_report\n",
    "import seaborn as sns\n",
    "import matplotlib.pyplot as plt\n",
    "from sklearn.model_selection import train_test_split\n",
    "from sklearn.ensemble import RandomForestClassifier\n",
    "from sklearn.tree import DecisionTreeClassifier\n",
    "from sklearn.linear_model import LogisticRegression\n",
    "from sklearn.metrics import accuracy_score, mean_squared_error"
   ]
  },
  {
   "cell_type": "code",
   "execution_count": 2,
   "metadata": {},
   "outputs": [],
   "source": [
    "users_behavior = pd.read_csv('/datasets/users_behavior.csv',sep=',', header=0)"
   ]
  },
  {
   "cell_type": "markdown",
   "metadata": {},
   "source": [
    "##  Informacion general del DataFrame "
   ]
  },
  {
   "cell_type": "code",
   "execution_count": 3,
   "metadata": {},
   "outputs": [
    {
     "name": "stdout",
     "output_type": "stream",
     "text": [
      "Primera filas:\n",
      "   calls  minutes  messages   mb_used  is_ultra\n",
      "0   40.0   311.90      83.0  19915.42         0\n",
      "1   85.0   516.75      56.0  22696.96         0\n",
      "2   77.0   467.66      86.0  21060.45         0\n",
      "3  106.0   745.53      81.0   8437.39         1\n",
      "4   66.0   418.74       1.0  14502.75         0\n",
      "\n",
      "Informacion:\n",
      "<class 'pandas.core.frame.DataFrame'>\n",
      "RangeIndex: 3214 entries, 0 to 3213\n",
      "Data columns (total 5 columns):\n",
      " #   Column    Non-Null Count  Dtype  \n",
      "---  ------    --------------  -----  \n",
      " 0   calls     3214 non-null   float64\n",
      " 1   minutes   3214 non-null   float64\n",
      " 2   messages  3214 non-null   float64\n",
      " 3   mb_used   3214 non-null   float64\n",
      " 4   is_ultra  3214 non-null   int64  \n",
      "dtypes: float64(4), int64(1)\n",
      "memory usage: 125.7 KB\n",
      "None\n",
      "\n",
      "El total de valores ausentes es:\n",
      "calls       0\n",
      "minutes     0\n",
      "messages    0\n",
      "mb_used     0\n",
      "is_ultra    0\n",
      "dtype: int64\n",
      "\n",
      "El total de valores duplicados es:\n",
      "0\n",
      "None\n"
     ]
    }
   ],
   "source": [
    "## Imprime la información general/resumida sobre el DataFrame users_behavior\n",
    "def first_lookup(datos):\n",
    "    print('Primera filas:')\n",
    "    print(datos.head())\n",
    "    print()\n",
    "    print('Informacion:')\n",
    "    print(datos.info())\n",
    "    print()\n",
    "    print('El total de valores ausentes es:')\n",
    "    print(datos.isna().sum())\n",
    "    print()\n",
    "    print('El total de valores duplicados es:')\n",
    "    print(datos.duplicated().sum())\n",
    "print(first_lookup(users_behavior))"
   ]
  },
  {
   "cell_type": "code",
   "execution_count": 4,
   "metadata": {},
   "outputs": [
    {
     "name": "stdout",
     "output_type": "stream",
     "text": [
      "<class 'pandas.core.frame.DataFrame'>\n",
      "RangeIndex: 3214 entries, 0 to 3213\n",
      "Data columns (total 5 columns):\n",
      " #   Column    Non-Null Count  Dtype  \n",
      "---  ------    --------------  -----  \n",
      " 0   calls     3214 non-null   int64  \n",
      " 1   minutes   3214 non-null   float64\n",
      " 2   messages  3214 non-null   int64  \n",
      " 3   is_ultra  3214 non-null   int64  \n",
      " 4   gb_used   3214 non-null   float64\n",
      "dtypes: float64(2), int64(3)\n",
      "memory usage: 125.7 KB\n",
      "None\n"
     ]
    }
   ],
   "source": [
    "users_behavior['messages'] = users_behavior['messages'].astype(int)\n",
    "users_behavior['calls'] = users_behavior['calls'].astype(int)\n",
    "users_behavior['gb_used'] = users_behavior['mb_used'] / 1024\n",
    "users_behavior.drop('mb_used', axis=1, inplace=True)\n",
    "print(users_behavior.info())\n"
   ]
  },
  {
   "cell_type": "code",
   "execution_count": 5,
   "metadata": {},
   "outputs": [],
   "source": [
    "#Preparar las caracteristicas y el objetivo\n",
    "features = users_behavior.drop(['is_ultra'], axis=1)\n",
    "target = users_behavior['is_ultra']"
   ]
  },
  {
   "cell_type": "markdown",
   "metadata": {},
   "source": [
    "## .  Segmenta los datos fuente en un conjunto de entrenamiento, uno de validación y uno de prueba."
   ]
  },
  {
   "cell_type": "code",
   "execution_count": 6,
   "metadata": {},
   "outputs": [],
   "source": [
    "# Dividir los datos en conjuntos de entrenamiento (60%), validación (20%) y prueba (20%)\n",
    "features_train, features_temp, target_train, target_temp =train_test_split(features, target, test_size= 0.4, random_state=54321) # 40% para validación y prueba)\n",
    "features_valid, features_test, target_valid, target_test= train_test_split(features_temp, target_temp, test_size=0.5, random_state=54321 )# Divide el 40% en validación y prueba\n"
   ]
  },
  {
   "cell_type": "markdown",
   "metadata": {},
   "source": [
    "## . Investiga la calidad de diferentes modelos cambiando los hiperparámetros. Describe brevemente los hallazgos del estudio."
   ]
  },
  {
   "cell_type": "markdown",
   "metadata": {},
   "source": [
    "### Arbol de decision"
   ]
  },
  {
   "cell_type": "code",
   "execution_count": 7,
   "metadata": {},
   "outputs": [
    {
     "name": "stdout",
     "output_type": "stream",
     "text": [
      "Árbol de Decisión - max_depth: 1 - Exactitud: 0.71\n",
      "Árbol de Decisión - max_depth: 2 - Exactitud: 0.74\n",
      "Árbol de Decisión - max_depth: 3 - Exactitud: 0.76\n",
      "Árbol de Decisión - max_depth: 4 - Exactitud: 0.73\n",
      "Árbol de Decisión - max_depth: 5 - Exactitud: 0.76\n",
      "Árbol de Decisión - max_depth: 6 - Exactitud: 0.76\n",
      "Árbol de Decisión - max_depth: 7 - Exactitud: 0.76\n",
      "Árbol de Decisión - max_depth: 8 - Exactitud: 0.75\n",
      "Árbol de Decisión - max_depth: 9 - Exactitud: 0.72\n",
      "Árbol de Decisión - max_depth: 10 - Exactitud: 0.72\n",
      "Mejor profundidad encontrada: 7\n",
      "Mejor exactitud: 0.76049766718507\n"
     ]
    }
   ],
   "source": [
    "# Inicializar variables para almacenar los mejores resultados\n",
    "best_accuracy = 0\n",
    "best_depth= 0 \n",
    "# Probar diferentres profundidades\n",
    "for depth in range(1, 11):\n",
    "    dt_model = DecisionTreeClassifier(\n",
    "    max_depth=depth,\n",
    "    criterion='gini',\n",
    "    class_weight='balanced',\n",
    "    random_state=54321\n",
    ")\n",
    "#Entrenar el modelo\n",
    "    dt_model.fit(features_train, target_train)\n",
    "#Realizar las predicciones del conjunto de validacion\n",
    "    dt_predictions = dt_model.predict(features_valid)\n",
    "    dt_accuracy = accuracy_score(target_valid, dt_predictions)\n",
    "    print(f\"Árbol de Decisión - max_depth: {depth} - Exactitud: {dt_accuracy:.2f}\")\n",
    "#Actualizar los mejores parametros si se encuentra una mejor exactitud\n",
    "    if dt_accuracy > best_accuracy:\n",
    "        best_accuracy = dt_accuracy\n",
    "        best_depth = depth\n",
    "#imprimir los mejores parametros encontrados\n",
    "print('Mejor profundidad encontrada:', best_depth)\n",
    "print('Mejor exactitud:', best_accuracy)\n"
   ]
  },
  {
   "cell_type": "markdown",
   "metadata": {},
   "source": [
    "El resultado de exactitud para mi modelo de Arbol de decision supera el umbral de 0.75 que se ha establecido, modelo predijo correctamente el plan Smart o ultra en un 76.05% de los casos del conjunto de validacion con una profundidad de 7 logrando un mejor equilibrio entre la complejidad del modelo y su capacidad para generalizar nuevos datos. A medida que aumentas la profundidad del arbol alzanzando su punto maximo en max_depth= 3, pero en el punto tiene a estabilizarse y tambien a disminuir lo cual indica un sobreajusto a profunidades mas altas, el uso de class_weight='balanced ha ajustado el modelo para majear posibles desabalances en las clases"
   ]
  },
  {
   "cell_type": "markdown",
   "metadata": {},
   "source": [
    "### Bosque aleatorio"
   ]
  },
  {
   "cell_type": "code",
   "execution_count": 8,
   "metadata": {},
   "outputs": [
    {
     "name": "stdout",
     "output_type": "stream",
     "text": [
      "Random Forest - n_estimators: 10, max_depth: 1 - Exactitud: 0.72\n",
      "Random Forest - n_estimators: 10, max_depth: 2 - Exactitud: 0.75\n",
      "Random Forest - n_estimators: 10, max_depth: 3 - Exactitud: 0.75\n",
      "Random Forest - n_estimators: 10, max_depth: 4 - Exactitud: 0.79\n",
      "Random Forest - n_estimators: 10, max_depth: 5 - Exactitud: 0.78\n",
      "Random Forest - n_estimators: 10, max_depth: 6 - Exactitud: 0.78\n",
      "Random Forest - n_estimators: 10, max_depth: 7 - Exactitud: 0.79\n",
      "Random Forest - n_estimators: 10, max_depth: 8 - Exactitud: 0.80\n",
      "Random Forest - n_estimators: 10, max_depth: 9 - Exactitud: 0.79\n",
      "Random Forest - n_estimators: 10, max_depth: 10 - Exactitud: 0.80\n",
      "Random Forest - n_estimators: 20, max_depth: 1 - Exactitud: 0.70\n",
      "Random Forest - n_estimators: 20, max_depth: 2 - Exactitud: 0.73\n",
      "Random Forest - n_estimators: 20, max_depth: 3 - Exactitud: 0.77\n",
      "Random Forest - n_estimators: 20, max_depth: 4 - Exactitud: 0.78\n",
      "Random Forest - n_estimators: 20, max_depth: 5 - Exactitud: 0.78\n",
      "Random Forest - n_estimators: 20, max_depth: 6 - Exactitud: 0.78\n",
      "Random Forest - n_estimators: 20, max_depth: 7 - Exactitud: 0.78\n",
      "Random Forest - n_estimators: 20, max_depth: 8 - Exactitud: 0.79\n",
      "Random Forest - n_estimators: 20, max_depth: 9 - Exactitud: 0.79\n",
      "Random Forest - n_estimators: 20, max_depth: 10 - Exactitud: 0.79\n",
      "Random Forest - n_estimators: 30, max_depth: 1 - Exactitud: 0.70\n",
      "Random Forest - n_estimators: 30, max_depth: 2 - Exactitud: 0.74\n",
      "Random Forest - n_estimators: 30, max_depth: 3 - Exactitud: 0.77\n",
      "Random Forest - n_estimators: 30, max_depth: 4 - Exactitud: 0.78\n",
      "Random Forest - n_estimators: 30, max_depth: 5 - Exactitud: 0.78\n",
      "Random Forest - n_estimators: 30, max_depth: 6 - Exactitud: 0.78\n",
      "Random Forest - n_estimators: 30, max_depth: 7 - Exactitud: 0.78\n",
      "Random Forest - n_estimators: 30, max_depth: 8 - Exactitud: 0.78\n",
      "Random Forest - n_estimators: 30, max_depth: 9 - Exactitud: 0.79\n",
      "Random Forest - n_estimators: 30, max_depth: 10 - Exactitud: 0.79\n",
      "Random Forest - n_estimators: 40, max_depth: 1 - Exactitud: 0.70\n",
      "Random Forest - n_estimators: 40, max_depth: 2 - Exactitud: 0.74\n",
      "Random Forest - n_estimators: 40, max_depth: 3 - Exactitud: 0.77\n",
      "Random Forest - n_estimators: 40, max_depth: 4 - Exactitud: 0.78\n",
      "Random Forest - n_estimators: 40, max_depth: 5 - Exactitud: 0.78\n",
      "Random Forest - n_estimators: 40, max_depth: 6 - Exactitud: 0.79\n",
      "Random Forest - n_estimators: 40, max_depth: 7 - Exactitud: 0.78\n",
      "Random Forest - n_estimators: 40, max_depth: 8 - Exactitud: 0.79\n",
      "Random Forest - n_estimators: 40, max_depth: 9 - Exactitud: 0.79\n",
      "Random Forest - n_estimators: 40, max_depth: 10 - Exactitud: 0.79\n",
      "Random Forest - n_estimators: 50, max_depth: 1 - Exactitud: 0.70\n",
      "Random Forest - n_estimators: 50, max_depth: 2 - Exactitud: 0.74\n",
      "Random Forest - n_estimators: 50, max_depth: 3 - Exactitud: 0.77\n",
      "Random Forest - n_estimators: 50, max_depth: 4 - Exactitud: 0.78\n",
      "Random Forest - n_estimators: 50, max_depth: 5 - Exactitud: 0.78\n",
      "Random Forest - n_estimators: 50, max_depth: 6 - Exactitud: 0.78\n",
      "Random Forest - n_estimators: 50, max_depth: 7 - Exactitud: 0.78\n",
      "Random Forest - n_estimators: 50, max_depth: 8 - Exactitud: 0.79\n",
      "Random Forest - n_estimators: 50, max_depth: 9 - Exactitud: 0.79\n",
      "Random Forest - n_estimators: 50, max_depth: 10 - Exactitud: 0.79\n",
      "Mejores parametros encontrados:\n",
      "{'n_estimators': 10, 'max_depth': 10}\n",
      "Mejor exactitud: 0.80248833592535\n"
     ]
    }
   ],
   "source": [
    "# Se inicia y se entrena el modelo de Random Forest  implementando hiperparametros\n",
    "best_accuracy= 0\n",
    "best_params ={}\n",
    "#Probar diferentes combinaciones de hiperparametros\n",
    "for est in range(10, 51, 10): # n_estimators desde 10 hasta 50 (incrementos de 10)\n",
    "    for depth in range (1, 11): # max_depth desde 1 hasta 10\n",
    "        model= RandomForestClassifier(random_state=54321, n_estimators=est, max_depth=depth)\n",
    "        #Entrenar el modelo\n",
    "        model.fit(features_train, target_train)\n",
    "        # Realizar predicciones en el conjunto de validacion\n",
    "        rf_predictions = model.predict(features_valid)\n",
    "        #Calcular la exactitud del modelo\n",
    "        rf_accuracy= accuracy_score(target_valid, rf_predictions)\n",
    "        print(f\"Random Forest - n_estimators: {est}, max_depth: {depth} - Exactitud: {rf_accuracy:.2f}\")\n",
    "        # Actualizar los mejores parámetros si se encuentra una mejor exactitud\n",
    "        if rf_accuracy > best_accuracy:\n",
    "            best_accuracy = rf_accuracy\n",
    "            best_params = {'n_estimators': est, 'max_depth': depth}\n",
    "#Imprimir los mejores parametros encontrados\n",
    "print('Mejores parametros encontrados:')\n",
    "print(best_params)\n",
    "print('Mejor exactitud:', best_accuracy)\n",
    "            \n",
    "        "
   ]
  },
  {
   "cell_type": "markdown",
   "metadata": {},
   "source": [
    "Para los mejores hiperparametros encontrados n_estimartors de 10, max_depth de 10 con una exactitud de 0.8025 el modelo Random Forest ha logrado superar el umbral objetivo de 0.75, se observa que la exactitud aumenta conforme aummenta la profundidad hasta cierto punto y se mantiene relativamente constante con diferentes valores de n_estimators, mostrando que al aumentar el numero de arboles no siempre mejora la precision"
   ]
  },
  {
   "cell_type": "markdown",
   "metadata": {},
   "source": [
    "### Regresion logistica"
   ]
  },
  {
   "cell_type": "code",
   "execution_count": 9,
   "metadata": {},
   "outputs": [
    {
     "name": "stdout",
     "output_type": "stream",
     "text": [
      "Regresion logistica - Exactitud: 0.7060653188180405\n"
     ]
    }
   ],
   "source": [
    "# Inicializar el modelo de Regresion logistica\n",
    "logistic_model = LogisticRegression(solver='liblinear', random_state=54321)\n",
    "#Entrenar el modelo\n",
    "logistic_model.fit(features_train, target_train)\n",
    "#Realizar predicciones y evaluar el modelo\n",
    "#Realizar predicciones del conjunto de validacion\n",
    "lr_predictions = logistic_model.predict(features_valid)\n",
    "#Calcular la exactitud del modelo\n",
    "lr_accuracy= accuracy_score(target_valid, lr_predictions)\n",
    "print('Regresion logistica - Exactitud:', lr_accuracy)"
   ]
  },
  {
   "cell_type": "markdown",
   "metadata": {},
   "source": [
    "La exactitud obtenida mediante el modelo de regresion lostica obtuvo 0.7061 lo cual no logro superar el umbral propuesto de 0.75 este modelo no se consideraria como opcion a eleigir por esta razon y porque el modelo random forest y decision tree tuvieron una mejor exaxctitud. "
   ]
  },
  {
   "cell_type": "markdown",
   "metadata": {},
   "source": [
    "## . Comprueba la calidad del modelo usando el conjunto de prueba."
   ]
  },
  {
   "cell_type": "code",
   "execution_count": 11,
   "metadata": {},
   "outputs": [
    {
     "name": "stdout",
     "output_type": "stream",
     "text": [
      "Exactitud del modelo Random Forest en el conjunto de prueba: 0.8242612752721618\n",
      "rmse: 0.4192120283673147\n"
     ]
    }
   ],
   "source": [
    "# Inicializar el modelo final con los mejores parametros encontrados\n",
    "final_rf_model = RandomForestClassifier(n_estimators=10, max_depth=10, random_state=54321)\n",
    "#Entrenar el modelo en el conjunto de entrenamiento\n",
    "final_rf_model.fit(features_train, target_train)\n",
    "#Realizar predicciones en el conjunto de prueba\n",
    "test_predictions_rf = final_rf_model.predict(features_test)\n",
    "#Calcular la aecactitud en el conjunto de prueba\n",
    "test_accuracy = accuracy_score(target_test, test_predictions_rf)\n",
    "print('Exactitud del modelo Random Forest en el conjunto de prueba:', test_accuracy)\n",
    "rmse = mean_squared_error(target_test, test_predictions_rf, squared=False)\n",
    "print('rmse:', rmse)\n"
   ]
  },
  {
   "cell_type": "markdown",
   "metadata": {},
   "source": [
    "La exactitud del modelo Random Forest en el conjunto de validacion fue de 0.8025 superior en comparacion con Decision Tree y con la Regresion Logistica y tambien superior con la exactitud del modelo Random Forest en el conjunto de prueba de 0.8243  sugiere que es mas efectivo para capturar las relaciones en los datos, puede deberse a su capacidad para manejar  interacciones complejas entre caracteristicas y su robustez frente al sobreajuste al utilizar multiples arboles, el modelo puede manejar mejor la variablidad  y el ruido de los datos"
   ]
  },
  {
   "cell_type": "markdown",
   "metadata": {},
   "source": [
    "## . Tarea adicional: haz una prueba de cordura al modelo. Estos datos son más complejos que los que habías usado antes así que no será una tarea fácil. Más adelante lo veremos con más detalle."
   ]
  },
  {
   "cell_type": "code",
   "execution_count": 16,
   "metadata": {
    "scrolled": false
   },
   "outputs": [
    {
     "name": "stdout",
     "output_type": "stream",
     "text": [
      "rmse: 0.4466513167022035\n"
     ]
    }
   ],
   "source": [
    "# Calcular el valor promedio  para los elementos del conjunto de prueba del target \n",
    "predictions_avg = pd.Series(target_test.mean(), index=target_test.index)# Una vez calcula el promedio del target_test se convierte a un series\n",
    "rmse = mean_squared_error(target_test, predictions_avg, squared=False) # Calcular el rmse que proviene de nuestro mse\n",
    "print('rmse:', rmse)\n"
   ]
  },
  {
   "cell_type": "markdown",
   "metadata": {},
   "source": [
    "Para el analisis de mi prueba de cordura\n",
    "a) El calculo del promedio target de mi conjunto de prueba y se ha convertido en una serie devolviendo las predicciones del promedio donde aparece el plan ultra\n",
    "b) Para el calculo del rmse del error cuadratico medio entre el target_test y predictions_avg el valor obtenido se compara con el rmse del modelo de Random forest \n",
    "c) Comparacion rmse del valor promedio del target del conjunto de prueba fue de 0.4467 fue mayor que el rmse del modelo de Random forest del cojunto de prueba fue de 0.4193 al tenero un valor mas bajo de nuestro modelo es correcto se acerca mas a los valores reales un valor bajo de rmse, mi prueba de cordura usando rmse me proporciona infomacion util para la calidad de mi modelo"
   ]
  },
  {
   "cell_type": "markdown",
   "metadata": {},
   "source": [
    "## . Conclusion general"
   ]
  },
  {
   "cell_type": "markdown",
   "metadata": {},
   "source": [
    "El proposito del proyecto La compañía móvil Megaline quieren desarrollar un modelo que pueda analizar el comportamiento de los clientes y recomendar uno de los nuevos planes de Megaline: Smart o Ultra. Donde al segmenta los datos fuente en un conjunto de entrenamiento, uno de validación y uno de prueba se realizo los siguiente con la meta de que el umbral de exactitud es 0.75\n",
    "a) Se analizo la calidad de diferentes modelos cambiando los hiperparámetros primer modelo el arbol de decision con diferentes profunidas para observar cual presenta mayor exactitud sus resultados fueron (mejor profundidad encontrada: 7\n",
    ", mejor exactitud: 0.76049766718507) a simple vista dirias cumplio el propisito del proyecto, pero se el segundo modelo a analizar fue el bosque aleatorio con los resultados obtenidos (Mejores parametros encontrados:{'n_estimators': 10, 'max_depth': 10}Mejor exactitud: 0.80248833592535) donde sus hiperparametros el numero de arboles, profundidad se analizaron con diferentes valores para no establecer arbitrariamente un valor sino que establecer valores y observar como se comportaba el modelo y obtuvo una mejor exactitud que el arbol de decision. Por ultimo la regresion logistica que tuvo un modelo con los siguientes resultados: Regresion logistica - Exactitud: 0.7060653188180405 fue de los tres modelos la mas baja este modelo no nos funciona, el ideal es el bosque aleatorio al aumentar el numero de arboles aumenta la exactitud.\n",
    "b) Comprueba la calidad del modelo usando el conjunto de prueba del modelo de bosque aleatorio Exactitud del modelo Random Forest en el conjunto de prueba: 0.8242612752721618 presento una mejoria en cuanto a su exactitud esto confirma que seria el modelo a elegir pero aun queda la prueba de cordura.\n",
    "c) El analsis de la prueba de cordura al obtener el promedio de target_test  representa si un cliente esta en el plan Ultra y se obtuvo un 27.53%, el calculo de rmse de 0.4467  que representa la diferencia promedio entre las predicciones basadas en el promedio y los valores reales y en comparacion con el rmse del modelo random forest  de 0.4192  esto indica que el modelo random forest  realiza un mejor trabajo al predecir los valores reales y un valor bajo de rmse nos indica un mejor ajuste del modelo a los datos. Se entreno un modelo utilizando datos sobre el comportamiento de los clientes que ya se han cambiado a los planes nuevos donde se incluye: número de llamadas,duración total de la llamada, numero de mensajes de texto, trafico de internet, la variable objetivo es is_ultra, que indica si un cliente está en el plan Ultra (1) o Smart (0). Al obtner la mejor exactitud para el modelo random forest esto indica que el modelo es capaz de predecir correctamente que clientes deberian estar en el plan Ultra, que actualmente están en planes heredados podrían beneficiarse al cambiarse al plan Ultra.\n",
    "\n"
   ]
  }
 ],
 "metadata": {
  "ExecuteTimeLog": [
   {
    "duration": 355,
    "start_time": "2024-12-16T01:59:27.233Z"
   },
   {
    "duration": 6,
    "start_time": "2024-12-16T01:59:27.590Z"
   },
   {
    "duration": 0,
    "start_time": "2024-12-16T01:59:27.598Z"
   },
   {
    "duration": 2,
    "start_time": "2024-12-16T02:00:08.234Z"
   },
   {
    "duration": 3,
    "start_time": "2024-12-16T02:00:08.239Z"
   },
   {
    "duration": 242,
    "start_time": "2024-12-16T02:00:08.244Z"
   },
   {
    "duration": 2,
    "start_time": "2024-12-16T02:00:26.512Z"
   },
   {
    "duration": 17,
    "start_time": "2024-12-16T02:00:26.517Z"
   },
   {
    "duration": 14,
    "start_time": "2024-12-16T02:00:26.536Z"
   },
   {
    "duration": 4,
    "start_time": "2024-12-16T02:32:05.052Z"
   },
   {
    "duration": 310,
    "start_time": "2024-12-16T02:32:14.421Z"
   },
   {
    "duration": 217,
    "start_time": "2024-12-16T02:32:37.061Z"
   },
   {
    "duration": 40,
    "start_time": "2024-12-16T02:33:38.570Z"
   },
   {
    "duration": 3,
    "start_time": "2024-12-16T02:37:23.692Z"
   },
   {
    "duration": 9,
    "start_time": "2024-12-16T02:37:23.697Z"
   },
   {
    "duration": 13,
    "start_time": "2024-12-16T02:37:23.707Z"
   },
   {
    "duration": 10,
    "start_time": "2024-12-16T02:37:23.721Z"
   },
   {
    "duration": 4,
    "start_time": "2024-12-16T03:33:22.342Z"
   },
   {
    "duration": 800,
    "start_time": "2024-12-16T09:38:56.531Z"
   },
   {
    "duration": 14,
    "start_time": "2024-12-16T09:38:57.333Z"
   },
   {
    "duration": 14,
    "start_time": "2024-12-16T09:38:57.349Z"
   },
   {
    "duration": 11,
    "start_time": "2024-12-16T09:38:57.365Z"
   },
   {
    "duration": 3,
    "start_time": "2024-12-16T09:38:57.379Z"
   },
   {
    "duration": 5,
    "start_time": "2024-12-16T09:38:57.384Z"
   },
   {
    "duration": 276,
    "start_time": "2024-12-16T09:38:57.405Z"
   },
   {
    "duration": 2,
    "start_time": "2024-12-16T09:42:08.447Z"
   },
   {
    "duration": 10,
    "start_time": "2024-12-16T09:42:08.453Z"
   },
   {
    "duration": 13,
    "start_time": "2024-12-16T09:42:08.465Z"
   },
   {
    "duration": 10,
    "start_time": "2024-12-16T09:42:08.479Z"
   },
   {
    "duration": 3,
    "start_time": "2024-12-16T09:42:08.491Z"
   },
   {
    "duration": 6,
    "start_time": "2024-12-16T09:42:08.496Z"
   },
   {
    "duration": 0,
    "start_time": "2024-12-16T09:42:08.503Z"
   },
   {
    "duration": 2,
    "start_time": "2024-12-16T09:43:06.919Z"
   },
   {
    "duration": 8,
    "start_time": "2024-12-16T09:43:06.923Z"
   },
   {
    "duration": 13,
    "start_time": "2024-12-16T09:43:06.932Z"
   },
   {
    "duration": 10,
    "start_time": "2024-12-16T09:43:06.947Z"
   },
   {
    "duration": 3,
    "start_time": "2024-12-16T09:43:06.959Z"
   },
   {
    "duration": 4,
    "start_time": "2024-12-16T09:43:06.963Z"
   },
   {
    "duration": 0,
    "start_time": "2024-12-16T09:43:06.969Z"
   },
   {
    "duration": 3,
    "start_time": "2024-12-16T09:43:49.451Z"
   },
   {
    "duration": 9,
    "start_time": "2024-12-16T09:43:49.457Z"
   },
   {
    "duration": 13,
    "start_time": "2024-12-16T09:43:49.468Z"
   },
   {
    "duration": 11,
    "start_time": "2024-12-16T09:43:49.483Z"
   },
   {
    "duration": 3,
    "start_time": "2024-12-16T09:43:49.495Z"
   },
   {
    "duration": 5,
    "start_time": "2024-12-16T09:43:49.500Z"
   },
   {
    "duration": 39,
    "start_time": "2024-12-16T09:43:49.506Z"
   },
   {
    "duration": 3,
    "start_time": "2024-12-16T09:45:11.232Z"
   },
   {
    "duration": 8,
    "start_time": "2024-12-16T09:45:11.242Z"
   },
   {
    "duration": 15,
    "start_time": "2024-12-16T09:45:11.252Z"
   },
   {
    "duration": 11,
    "start_time": "2024-12-16T09:45:11.268Z"
   },
   {
    "duration": 3,
    "start_time": "2024-12-16T09:45:11.281Z"
   },
   {
    "duration": 5,
    "start_time": "2024-12-16T09:45:11.286Z"
   },
   {
    "duration": 16,
    "start_time": "2024-12-16T09:45:11.292Z"
   },
   {
    "duration": 109,
    "start_time": "2024-12-16T10:15:59.266Z"
   },
   {
    "duration": 3,
    "start_time": "2024-12-16T10:17:50.953Z"
   },
   {
    "duration": 10,
    "start_time": "2024-12-16T10:17:50.958Z"
   },
   {
    "duration": 13,
    "start_time": "2024-12-16T10:17:50.969Z"
   },
   {
    "duration": 10,
    "start_time": "2024-12-16T10:17:50.984Z"
   },
   {
    "duration": 2,
    "start_time": "2024-12-16T10:17:50.996Z"
   },
   {
    "duration": 5,
    "start_time": "2024-12-16T10:17:51.000Z"
   },
   {
    "duration": 12,
    "start_time": "2024-12-16T10:17:51.006Z"
   },
   {
    "duration": 97,
    "start_time": "2024-12-16T10:17:51.020Z"
   },
   {
    "duration": 2787,
    "start_time": "2024-12-16T10:19:06.257Z"
   },
   {
    "duration": 32,
    "start_time": "2024-12-16T10:23:27.842Z"
   },
   {
    "duration": 2783,
    "start_time": "2024-12-16T10:23:38.554Z"
   },
   {
    "duration": 834,
    "start_time": "2024-12-16T19:29:02.403Z"
   },
   {
    "duration": 26,
    "start_time": "2024-12-16T19:29:03.239Z"
   },
   {
    "duration": 17,
    "start_time": "2024-12-16T19:29:03.266Z"
   },
   {
    "duration": 11,
    "start_time": "2024-12-16T19:29:03.285Z"
   },
   {
    "duration": 3,
    "start_time": "2024-12-16T19:29:03.298Z"
   },
   {
    "duration": 8,
    "start_time": "2024-12-16T19:29:03.303Z"
   },
   {
    "duration": 12,
    "start_time": "2024-12-16T19:29:03.313Z"
   },
   {
    "duration": 2982,
    "start_time": "2024-12-16T19:29:03.326Z"
   },
   {
    "duration": 247,
    "start_time": "2024-12-16T19:29:06.312Z"
   },
   {
    "duration": 11,
    "start_time": "2024-12-16T19:29:17.833Z"
   },
   {
    "duration": 3,
    "start_time": "2024-12-16T20:08:43.115Z"
   },
   {
    "duration": 8,
    "start_time": "2024-12-16T20:08:43.120Z"
   },
   {
    "duration": 13,
    "start_time": "2024-12-16T20:08:43.129Z"
   },
   {
    "duration": 10,
    "start_time": "2024-12-16T20:08:43.143Z"
   },
   {
    "duration": 3,
    "start_time": "2024-12-16T20:08:43.155Z"
   },
   {
    "duration": 5,
    "start_time": "2024-12-16T20:08:43.160Z"
   },
   {
    "duration": 6,
    "start_time": "2024-12-16T20:08:43.167Z"
   },
   {
    "duration": 0,
    "start_time": "2024-12-16T20:08:43.174Z"
   },
   {
    "duration": 0,
    "start_time": "2024-12-16T20:08:43.175Z"
   },
   {
    "duration": 5,
    "start_time": "2024-12-16T20:09:27.517Z"
   },
   {
    "duration": 60,
    "start_time": "2024-12-16T20:10:41.534Z"
   },
   {
    "duration": 171,
    "start_time": "2024-12-16T20:11:27.210Z"
   },
   {
    "duration": 64,
    "start_time": "2024-12-16T20:12:02.682Z"
   },
   {
    "duration": 3,
    "start_time": "2024-12-16T20:15:00.077Z"
   },
   {
    "duration": 9,
    "start_time": "2024-12-16T20:15:00.083Z"
   },
   {
    "duration": 13,
    "start_time": "2024-12-16T20:15:00.093Z"
   },
   {
    "duration": 10,
    "start_time": "2024-12-16T20:15:00.109Z"
   },
   {
    "duration": 3,
    "start_time": "2024-12-16T20:15:00.121Z"
   },
   {
    "duration": 5,
    "start_time": "2024-12-16T20:15:00.125Z"
   },
   {
    "duration": 61,
    "start_time": "2024-12-16T20:15:00.131Z"
   },
   {
    "duration": 2837,
    "start_time": "2024-12-16T20:15:00.193Z"
   },
   {
    "duration": 8,
    "start_time": "2024-12-16T20:15:03.032Z"
   },
   {
    "duration": 31,
    "start_time": "2024-12-16T20:38:57.494Z"
   },
   {
    "duration": 160,
    "start_time": "2024-12-17T09:25:46.254Z"
   },
   {
    "duration": 2710,
    "start_time": "2024-12-17T09:25:51.938Z"
   },
   {
    "duration": 15,
    "start_time": "2024-12-17T09:25:54.650Z"
   },
   {
    "duration": 14,
    "start_time": "2024-12-17T09:25:54.666Z"
   },
   {
    "duration": 13,
    "start_time": "2024-12-17T09:25:54.682Z"
   },
   {
    "duration": 5,
    "start_time": "2024-12-17T09:25:54.711Z"
   },
   {
    "duration": 9,
    "start_time": "2024-12-17T09:25:54.718Z"
   },
   {
    "duration": 61,
    "start_time": "2024-12-17T09:25:54.729Z"
   },
   {
    "duration": 2836,
    "start_time": "2024-12-17T09:25:54.791Z"
   },
   {
    "duration": 9,
    "start_time": "2024-12-17T09:25:57.630Z"
   },
   {
    "duration": 32,
    "start_time": "2024-12-17T09:25:57.642Z"
   },
   {
    "duration": 112,
    "start_time": "2024-12-17T09:25:57.675Z"
   },
   {
    "duration": 149,
    "start_time": "2024-12-17T09:26:20.079Z"
   },
   {
    "duration": 135,
    "start_time": "2024-12-17T09:26:39.400Z"
   },
   {
    "duration": 3,
    "start_time": "2024-12-17T10:12:19.087Z"
   },
   {
    "duration": 8,
    "start_time": "2024-12-17T10:12:19.098Z"
   },
   {
    "duration": 13,
    "start_time": "2024-12-17T10:12:19.108Z"
   },
   {
    "duration": 10,
    "start_time": "2024-12-17T10:12:19.123Z"
   },
   {
    "duration": 3,
    "start_time": "2024-12-17T10:12:19.135Z"
   },
   {
    "duration": 5,
    "start_time": "2024-12-17T10:12:19.140Z"
   },
   {
    "duration": 87,
    "start_time": "2024-12-17T10:12:19.147Z"
   },
   {
    "duration": 2796,
    "start_time": "2024-12-17T10:12:19.236Z"
   },
   {
    "duration": 9,
    "start_time": "2024-12-17T10:12:22.034Z"
   },
   {
    "duration": 32,
    "start_time": "2024-12-17T10:12:22.045Z"
   },
   {
    "duration": 153,
    "start_time": "2024-12-17T10:12:22.078Z"
   },
   {
    "duration": 2719,
    "start_time": "2024-12-17T16:48:18.918Z"
   },
   {
    "duration": 15,
    "start_time": "2024-12-17T16:48:21.640Z"
   },
   {
    "duration": 14,
    "start_time": "2024-12-17T16:48:21.656Z"
   },
   {
    "duration": 11,
    "start_time": "2024-12-17T16:48:21.672Z"
   },
   {
    "duration": 3,
    "start_time": "2024-12-17T16:48:21.684Z"
   },
   {
    "duration": 22,
    "start_time": "2024-12-17T16:48:21.689Z"
   },
   {
    "duration": 61,
    "start_time": "2024-12-17T16:48:21.713Z"
   },
   {
    "duration": 2860,
    "start_time": "2024-12-17T16:48:21.777Z"
   },
   {
    "duration": 11,
    "start_time": "2024-12-17T16:48:24.638Z"
   },
   {
    "duration": 35,
    "start_time": "2024-12-17T16:48:24.651Z"
   },
   {
    "duration": 322,
    "start_time": "2024-12-17T16:48:24.688Z"
   },
   {
    "duration": 0,
    "start_time": "2024-12-17T16:48:25.012Z"
   },
   {
    "duration": 5,
    "start_time": "2024-12-17T16:48:35.729Z"
   },
   {
    "duration": 108,
    "start_time": "2024-12-17T16:53:41.941Z"
   },
   {
    "duration": 3,
    "start_time": "2024-12-17T16:56:20.739Z"
   },
   {
    "duration": 8,
    "start_time": "2024-12-17T16:56:20.770Z"
   },
   {
    "duration": 13,
    "start_time": "2024-12-17T16:56:20.779Z"
   },
   {
    "duration": 10,
    "start_time": "2024-12-17T16:56:20.794Z"
   },
   {
    "duration": 3,
    "start_time": "2024-12-17T16:56:20.806Z"
   },
   {
    "duration": 5,
    "start_time": "2024-12-17T16:56:20.812Z"
   },
   {
    "duration": 61,
    "start_time": "2024-12-17T16:56:20.818Z"
   },
   {
    "duration": 2844,
    "start_time": "2024-12-17T16:56:20.881Z"
   },
   {
    "duration": 10,
    "start_time": "2024-12-17T16:56:23.727Z"
   },
   {
    "duration": 31,
    "start_time": "2024-12-17T16:56:23.738Z"
   },
   {
    "duration": 49,
    "start_time": "2024-12-17T16:56:23.772Z"
   },
   {
    "duration": 0,
    "start_time": "2024-12-17T16:56:23.822Z"
   },
   {
    "duration": 16,
    "start_time": "2024-12-17T16:57:43.346Z"
   },
   {
    "duration": 5,
    "start_time": "2024-12-17T16:57:55.902Z"
   },
   {
    "duration": 6,
    "start_time": "2024-12-17T16:59:13.279Z"
   },
   {
    "duration": 4,
    "start_time": "2024-12-17T16:59:41.912Z"
   },
   {
    "duration": 34,
    "start_time": "2024-12-17T17:02:43.795Z"
   },
   {
    "duration": 2923,
    "start_time": "2024-12-17T19:23:15.293Z"
   },
   {
    "duration": 13,
    "start_time": "2024-12-17T19:23:18.219Z"
   },
   {
    "duration": 13,
    "start_time": "2024-12-17T19:23:18.235Z"
   },
   {
    "duration": 11,
    "start_time": "2024-12-17T19:23:18.250Z"
   },
   {
    "duration": 2,
    "start_time": "2024-12-17T19:23:18.263Z"
   },
   {
    "duration": 6,
    "start_time": "2024-12-17T19:23:18.267Z"
   },
   {
    "duration": 87,
    "start_time": "2024-12-17T19:23:18.275Z"
   },
   {
    "duration": 2891,
    "start_time": "2024-12-17T19:23:18.364Z"
   },
   {
    "duration": 9,
    "start_time": "2024-12-17T19:23:21.257Z"
   },
   {
    "duration": 355,
    "start_time": "2024-12-17T19:23:21.268Z"
   },
   {
    "duration": 0,
    "start_time": "2024-12-17T19:23:21.624Z"
   },
   {
    "duration": 34,
    "start_time": "2024-12-17T19:23:58.226Z"
   },
   {
    "duration": 5,
    "start_time": "2024-12-17T19:24:03.599Z"
   },
   {
    "duration": 5,
    "start_time": "2024-12-17T19:28:54.921Z"
   },
   {
    "duration": 4,
    "start_time": "2024-12-17T19:29:07.822Z"
   },
   {
    "duration": 5,
    "start_time": "2024-12-17T20:05:16.027Z"
   },
   {
    "duration": 4,
    "start_time": "2024-12-17T20:23:30.725Z"
   }
  ],
  "kernelspec": {
   "display_name": "Python 3 (ipykernel)",
   "language": "python",
   "name": "python3"
  },
  "language_info": {
   "codemirror_mode": {
    "name": "ipython",
    "version": 3
   },
   "file_extension": ".py",
   "mimetype": "text/x-python",
   "name": "python",
   "nbconvert_exporter": "python",
   "pygments_lexer": "ipython3",
   "version": "3.9.19"
  },
  "toc": {
   "base_numbering": 1,
   "nav_menu": {},
   "number_sections": true,
   "sideBar": true,
   "skip_h1_title": true,
   "title_cell": "Table of Contents",
   "title_sidebar": "Contents",
   "toc_cell": false,
   "toc_position": {},
   "toc_section_display": true,
   "toc_window_display": false
  }
 },
 "nbformat": 4,
 "nbformat_minor": 2
}
