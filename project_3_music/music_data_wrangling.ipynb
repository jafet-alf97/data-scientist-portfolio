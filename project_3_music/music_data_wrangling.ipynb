{
 "cells": [
  {
   "cell_type": "markdown",
   "metadata": {
    "id": "E0vqbgi9ay0H"
   },
   "source": [
    "# Déjame escuchar la música"
   ]
  },
  {
   "cell_type": "markdown",
   "metadata": {
    "id": "fhq_eyov_Zcs"
   },
   "source": [
    "# Contenido <a id='back'></a>\n",
    "\n",
    "* [Introducción](#intro)\n",
    "* [Etapa 1. Descripción de los datos](#data_review)\n",
    "    * [Conclusiones](#data_review_conclusions)\n",
    "* [Etapa 2. Preprocesamiento de datos](#data_preprocessing)\n",
    "    * [2.1 Estilo del encabezado](#header_style)\n",
    "    * [2.2 Valores ausentes](#missing_values)\n",
    "    * [2.3 Duplicados](#duplicates)\n",
    "    * [2.4 Conclusiones](#data_preprocessing_conclusions)\n",
    "* [Etapa 3. Prueba de hipótesis](#hypothesis)\n",
    "    * [3.1 Hipótesis 1: actividad de los usuarios y las usuarias en las dos ciudades](#activity)\n",
    "* [Conclusiones](#end)"
   ]
  },
  {
   "cell_type": "markdown",
   "metadata": {
    "id": "VUC88oWjTJw2"
   },
   "source": [
    "## Introducción <a id='intro'></a>\n",
    "Como analista de datos, tu trabajo consiste en analizar datos para extraer información valiosa y tomar decisiones basadas en ellos. Esto implica diferentes etapas, como la descripción general de los datos, el preprocesamiento y la prueba de hipótesis.\n",
    "\n",
    "Siempre que investigamos, necesitamos formular hipótesis que después podamos probar. A veces aceptamos estas hipótesis; otras veces, las rechazamos. Para tomar las decisiones correctas, una empresa debe ser capaz de entender si está haciendo las suposiciones correctas.\n",
    "\n",
    "En este proyecto, compararás las preferencias musicales de las ciudades de Springfield y Shelbyville. Estudiarás datos reales de transmisión de música online para probar la hipótesis a continuación y comparar el comportamiento de los usuarios y las usuarias de estas dos ciudades.\n",
    "\n",
    "### Objetivo:\n",
    "Prueba la hipótesis:\n",
    "1. La actividad de los usuarios y las usuarias difiere según el día de la semana y dependiendo de la ciudad.\n",
    "\n",
    "\n",
    "### Etapas\n",
    "Los datos del comportamiento del usuario se almacenan en el archivo `/datasets/music_project_en.csv`. No hay ninguna información sobre la calidad de los datos, así que necesitarás examinarlos antes de probar la hipótesis.\n",
    "\n",
    "Primero, evaluarás la calidad de los datos y verás si los problemas son significativos. Entonces, durante el preprocesamiento de datos, tomarás en cuenta los problemas más críticos.\n",
    "\n",
    "Tu proyecto consistirá en tres etapas:\n",
    " 1. Descripción de los datos.\n",
    " 2. Preprocesamiento de datos.\n",
    " 3. Prueba de hipótesis.\n",
    "\n",
    "\n",
    "\n",
    "\n",
    "\n",
    "\n"
   ]
  },
  {
   "cell_type": "markdown",
   "metadata": {
    "id": "hDt6pg-Rw-1U"
   },
   "source": [
    "[Volver a Contenidos](#back)"
   ]
  },
  {
   "cell_type": "markdown",
   "metadata": {
    "id": "Ml1hmfXC_Zcs"
   },
   "source": [
    "## Etapa 1. Descripción de los datos <a id='data_review'></a>\n",
    "\n",
    "Abre los datos y examínalos."
   ]
  },
  {
   "cell_type": "markdown",
   "metadata": {
    "id": "57eAOGIz_Zcs"
   },
   "source": [
    "Necesitarás `pandas`, así que impórtalo."
   ]
  },
  {
   "cell_type": "code",
   "execution_count": 10,
   "metadata": {
    "id": "AXN7PHPN_Zcs"
   },
   "outputs": [],
   "source": [
    "# Importar pandas\n",
    "import pandas as pd\n"
   ]
  },
  {
   "cell_type": "markdown",
   "metadata": {
    "id": "SG23P8tt_Zcs"
   },
   "source": [
    "Lee el archivo `music_project_en.csv` de la carpeta `/datasets/` y guárdalo en la variable `df`:"
   ]
  },
  {
   "cell_type": "code",
   "execution_count": 11,
   "metadata": {
    "id": "fFVu7vqh_Zct"
   },
   "outputs": [],
   "source": [
    "# Leer el archivo y almacenarlo en df\n",
    "df = pd.read_csv (\"C:\\\\Users\\\\HP\\\\Downloads\\\\music_project_en.csv\")\n"
   ]
  },
  {
   "cell_type": "markdown",
   "metadata": {
    "id": "rDoOMd3uTqnZ"
   },
   "source": [
    "Muestra las 10 primeras filas de la tabla:"
   ]
  },
  {
   "cell_type": "code",
   "execution_count": 12,
   "metadata": {
    "id": "oWTVX3gW_Zct"
   },
   "outputs": [
    {
     "name": "stdout",
     "output_type": "stream",
     "text": [
      "     userID                        Track            artist  genre  \\\n",
      "0  FFB692EC            Kamigata To Boots  The Mass Missile   rock   \n",
      "1  55204538  Delayed Because of Accident  Andreas Rönnberg   rock   \n",
      "2    20EC38            Funiculì funiculà       Mario Lanza    pop   \n",
      "3  A3DD03C9        Dragons in the Sunset        Fire + Ice   folk   \n",
      "4  E2DC1FAE                  Soul People        Space Echo  dance   \n",
      "\n",
      "        City        time        Day  \n",
      "0  Shelbyville  20:28:33  Wednesday  \n",
      "1  Springfield  14:07:09     Friday  \n",
      "2  Shelbyville  20:58:07  Wednesday  \n",
      "3  Shelbyville  08:37:09     Monday  \n",
      "4  Springfield  08:34:34     Monday  \n"
     ]
    }
   ],
   "source": [
    "# Obtener las 10 primeras filas de la tabla df\n",
    "df = pd.read_csv(\"C:\\\\Users\\\\HP\\\\Downloads\\\\music_project_en.csv\")\n",
    "print(df.head())\n"
   ]
  },
  {
   "cell_type": "markdown",
   "metadata": {
    "id": "EO73Kwic_Zct"
   },
   "source": [
    "Obtén la información general sobre la tabla con un comando. Conoces el método que muestra la información general que necesitamos."
   ]
  },
  {
   "cell_type": "code",
   "execution_count": 13,
   "metadata": {
    "id": "DSf2kIb-_Zct"
   },
   "outputs": [
    {
     "name": "stdout",
     "output_type": "stream",
     "text": [
      "<class 'pandas.core.frame.DataFrame'>\n",
      "RangeIndex: 65079 entries, 0 to 65078\n",
      "Data columns (total 7 columns):\n",
      " #   Column    Non-Null Count  Dtype \n",
      "---  ------    --------------  ----- \n",
      " 0     userID  65079 non-null  object\n",
      " 1   Track     63736 non-null  object\n",
      " 2   artist    57512 non-null  object\n",
      " 3   genre     63881 non-null  object\n",
      " 4     City    65079 non-null  object\n",
      " 5   time      65079 non-null  object\n",
      " 6   Day       65079 non-null  object\n",
      "dtypes: object(7)\n",
      "memory usage: 3.5+ MB\n"
     ]
    }
   ],
   "source": [
    "# Obtener la información general sobre nuestros datos\n",
    "df.info()"
   ]
  },
  {
   "cell_type": "markdown",
   "metadata": {
    "id": "TaQ2Iwbr_Zct"
   },
   "source": [
    "Estas son nuestras observaciones sobre la tabla. Contiene siete columnas. Almacenan los mismos tipos de datos: `object`.\n",
    "\n",
    "Según la documentación:\n",
    "- `' userID'`: identificador del usuario o la usuaria;\n",
    "- `'Track'`: título de la canción;\n",
    "- `'artist'`: nombre del artista;\n",
    "- `'genre'`: género de la pista;\n",
    "- `'City'`: ciudad del usuario o la usuaria;\n",
    "- `'time'`: la hora exacta en la que se reprodujo la canción;\n",
    "- `'Day'`: día de la semana.\n",
    "\n",
    "Podemos ver tres problemas con el estilo en los encabezados de la tabla:\n",
    "1. Algunos encabezados están en mayúsculas, otros en minúsculas.\n",
    "2. Hay espacios en algunos encabezados.\n",
    "3. `Detecta el tercer problema por tu cuenta y descríbelo aquí`.\n",
    "\"UserID\" no se encuentra con la estructura snake_case donde se se separan las palabras con guiones bajos\n",
    "\n",
    "\n"
   ]
  },
  {
   "cell_type": "markdown",
   "metadata": {
    "id": "MCB6-dXG_Zct"
   },
   "source": [
    "### Escribe observaciones de tu parte. Estas son algunas de las preguntas que pueden ser útiles: <a id='data_review_conclusions'></a>\n",
    "\n",
    "`1.   ¿Qué tipo de datos tenemos a nuestra disposición en las filas? ¿Y cómo podemos entender lo que almacenan las columnas?`Segun la funcion la funcion info nos dice que tenemos 65079 filas del 0 al 65078, algunas columnas tienen valores no nulos que estan completos que no son nulo como en algunas columnas y las columnas son de tipo objeto son de cadena de texto  \n",
    "\n",
    "`2.   ¿Hay suficientes datos para proporcionar respuestas a nuestra hipótesis o necesitamos más información?` se necesita hacer el preprocesamiento de los datos, analizar los datos ausentes de las columnas\n",
    "\n",
    "`3.   ¿Notaste algún problema en los datos, como valores ausentes, duplicados o tipos de datos incorrectos?`Solo con la funcion info se muestran que algunas columnas hay valores ausentes, y no hay datos incorrectos pero mas adelantes se pueden presentar"
   ]
  },
  {
   "cell_type": "markdown",
   "metadata": {
    "id": "3eL__vcwViOi"
   },
   "source": [
    "[Volver a Contenidos](#back)"
   ]
  },
  {
   "cell_type": "markdown",
   "metadata": {
    "id": "SjYF6Ub9_Zct"
   },
   "source": [
    "## Etapa 2. Preprocesamiento de datos <a id='data_preprocessing'></a>\n",
    "\n",
    "El objetivo aquí es preparar los datos para que sean analizados.\n",
    "El primer paso es resolver cualquier problema con los encabezados. Luego podemos avanzar a los valores ausentes y duplicados. Empecemos.\n",
    "\n",
    "Corrige el formato en los encabezados de la tabla.\n"
   ]
  },
  {
   "cell_type": "markdown",
   "metadata": {
    "id": "dIaKXr29_Zct"
   },
   "source": [
    "### Estilo del encabezado <a id='header_style'></a>\n",
    "Muestra los encabezados de la tabla (los nombres de las columnas):"
   ]
  },
  {
   "cell_type": "code",
   "execution_count": 14,
   "metadata": {
    "id": "oKOTdF_Q_Zct"
   },
   "outputs": [
    {
     "name": "stdout",
     "output_type": "stream",
     "text": [
      "Index(['  userID', 'Track', 'artist', 'genre', '  City  ', 'time', 'Day'], dtype='object')\n"
     ]
    }
   ],
   "source": [
    "# Muestra los nombres de las columnas\n",
    "print(df.columns)"
   ]
  },
  {
   "cell_type": "markdown",
   "metadata": {
    "id": "zj5534cv_Zct"
   },
   "source": [
    "Cambia los encabezados de la tabla de acuerdo con las reglas del buen estilo:\n",
    "* Todos los caracteres deben ser minúsculas.\n",
    "* Elimina los espacios.\n",
    "* Si el nombre tiene varias palabras, utiliza snake_case."
   ]
  },
  {
   "cell_type": "markdown",
   "metadata": {
    "id": "Xu0zkfe5zNJe"
   },
   "source": [
    "Anteriormente, aprendiste acerca de la forma automática de cambiar el nombre de las columnas. Vamos a aplicarla ahora. Utiliza el bucle for para iterar sobre los nombres de las columnas y poner todos los caracteres en minúsculas. Cuando hayas terminado, vuelve a mostrar los encabezados de la tabla:"
   ]
  },
  {
   "cell_type": "code",
   "execution_count": 15,
   "metadata": {
    "id": "6I_RwwMhzM4e"
   },
   "outputs": [
    {
     "name": "stdout",
     "output_type": "stream",
     "text": [
      "Index(['  userid', 'track', 'artist', 'genre', '  city  ', 'time', 'day'], dtype='object')\n"
     ]
    }
   ],
   "source": [
    "# Bucle en los encabezados poniendo todo en minúsculas\n",
    "new_columns = []\n",
    "for column in df.columns:\n",
    "    name_lowered = column.lower()\n",
    "\n",
    "    new_columns.append(name_lowered)\n",
    "df.columns = new_columns\n",
    "print(df.columns)\n"
   ]
  },
  {
   "cell_type": "markdown",
   "metadata": {
    "id": "pweIRxjSzPYW"
   },
   "source": [
    "Ahora, utilizando el mismo método, elimina los espacios al principio y al final de los nombres de las columnas e imprime los nombres de las columnas nuevamente:"
   ]
  },
  {
   "cell_type": "code",
   "execution_count": 16,
   "metadata": {
    "id": "vVQXbFyJzSYl"
   },
   "outputs": [
    {
     "name": "stdout",
     "output_type": "stream",
     "text": [
      "Index(['userid', 'track', 'artist', 'genre', 'city', 'time', 'day'], dtype='object')\n"
     ]
    }
   ],
   "source": [
    "# Bucle en los encabezados eliminando los espacios\n",
    "new_columns = []\n",
    "for column in df.columns:\n",
    "    old_name = column.strip()\n",
    "    new_columns.append(old_name)\n",
    "df.columns = new_columns\n",
    "print(df.columns)"
   ]
  },
  {
   "cell_type": "markdown",
   "metadata": {
    "id": "yCb8MW1JzURd"
   },
   "source": [
    "Necesitamos aplicar la regla de snake_case a la columna `userid`. Debe ser `user_id`. Cambia el nombre de esta columna y muestra los nombres de todas las columnas cuando hayas terminado."
   ]
  },
  {
   "cell_type": "code",
   "execution_count": 17,
   "metadata": {
    "id": "ISlFqs5y_Zct"
   },
   "outputs": [
    {
     "name": "stdout",
     "output_type": "stream",
     "text": [
      "Index(['user_id', 'track', 'artist', 'genre', 'city', 'time', 'day'], dtype='object')\n"
     ]
    }
   ],
   "source": [
    "# Cambiar el nombre de la columna \"userid\"\n",
    "new_columns= []\n",
    "for old_name in df.columns:\n",
    "    name_stripped = old_name.strip()\n",
    "    name_lowered = name_stripped.lower()\n",
    "    name_no_spaces = name_lowered.replace(' ', '_')\n",
    "    new_columns.append(name_no_spaces)\n",
    "df.columns = new_columns\n",
    "df.rename(columns={'userid': 'user_id'}, inplace=True)\n",
    "print(df.columns)\n"
   ]
  },
  {
   "cell_type": "markdown",
   "metadata": {
    "id": "1dqbh00J_Zct"
   },
   "source": [
    "Comprueba el resultado. Muestra los encabezados una vez más:"
   ]
  },
  {
   "cell_type": "code",
   "execution_count": 18,
   "metadata": {
    "id": "d4NOAmTW_Zct"
   },
   "outputs": [
    {
     "name": "stdout",
     "output_type": "stream",
     "text": [
      "Index(['user_id', 'track', 'artist', 'genre', 'city', 'time', 'day'], dtype='object')\n"
     ]
    }
   ],
   "source": [
    "# Comprobar el resultado: la lista de encabezados\n",
    "print(df.columns)"
   ]
  },
  {
   "cell_type": "markdown",
   "metadata": {
    "id": "xYJk6ksJVpOl"
   },
   "source": [
    "[Volver a Contenidos](#back)"
   ]
  },
  {
   "cell_type": "markdown",
   "metadata": {
    "id": "5ISfbcfY_Zct"
   },
   "source": [
    "### Valores ausentes <a id='missing_values'></a>\n",
    " Primero, encuentra el número de valores ausentes en la tabla. Debes utilizar dos métodos en una secuencia para obtener el número de valores ausentes."
   ]
  },
  {
   "cell_type": "code",
   "execution_count": 19,
   "metadata": {
    "id": "RskX29qr_Zct"
   },
   "outputs": [
    {
     "name": "stdout",
     "output_type": "stream",
     "text": [
      "user_id       0\n",
      "track      1343\n",
      "artist     7567\n",
      "genre      1198\n",
      "city          0\n",
      "time          0\n",
      "day           0\n",
      "dtype: int64\n"
     ]
    }
   ],
   "source": [
    "# Calcular el número de valores ausentes\n",
    "print(df.isna().sum())\n"
   ]
  },
  {
   "cell_type": "markdown",
   "metadata": {
    "id": "qubhgnlO_Zct"
   },
   "source": [
    "No todos los valores ausentes afectan a la investigación. Por ejemplo, los valores ausentes en `track` y `artist` no son cruciales. Simplemente puedes reemplazarlos con valores predeterminados como el string `'unknown'` (desconocido).\n",
    "\n",
    "Pero los valores ausentes en `'genre'` pueden afectar la comparación entre las preferencias musicales de Springfield y Shelbyville. En la vida real, sería útil saber las razones por las cuales hay datos ausentes e intentar recuperarlos. Pero no tenemos esa oportunidad en este proyecto. Así que tendrás que:\n",
    "* rellenar estos valores ausentes con un valor predeterminado;\n",
    "* evaluar cuánto podrían afectar los valores ausentes a tus cómputos;"
   ]
  },
  {
   "cell_type": "markdown",
   "metadata": {
    "id": "fSv2laPA_Zct"
   },
   "source": [
    "Reemplazar los valores ausentes en las columnas `'track'`, `'artist'` y `'genre'` con el string `'unknown'`. Como mostramos anteriormente en las lecciones, la mejor forma de hacerlo es crear una lista que almacene los nombres de las columnas donde se necesita el reemplazo. Luego, utiliza esta lista e itera sobre las columnas donde se necesita el reemplazo haciendo el propio reemplazo."
   ]
  },
  {
   "cell_type": "code",
   "execution_count": 38,
   "metadata": {
    "id": "KplB5qWs_Zct"
   },
   "outputs": [
    {
     "name": "stdout",
     "output_type": "stream",
     "text": [
      "Valores ausentes después del reemplazo:\n",
      "track     0\n",
      "artist    0\n",
      "genre     0\n",
      "dtype: int64\n"
     ]
    }
   ],
   "source": [
    "# Lista de columnas a las que se les reemplazarán los valores ausentes\n",
    "columns_to_replace = ['track', 'artist', 'genre']\n",
    "\n",
    "# Bucle para reemplazar los valores ausentes con 'unknown'\n",
    "for column in columns_to_replace:\n",
    "    df[column] = df[column].fillna('unknown')\n",
    "\n",
    "# Mostrar los valores ausentes después del reemplazo\n",
    "print('Valores ausentes después del reemplazo:')\n",
    "print(df[columns_to_replace].isna().sum())\n",
    "\n",
    "    "
   ]
  },
  {
   "cell_type": "markdown",
   "metadata": {
    "id": "Ilsm-MZo_Zct"
   },
   "source": [
    "Ahora comprueba el resultado para asegurarte de que después del reemplazo no haya valores ausentes en el conjunto de datos. Para hacer esto, cuenta los valores ausentes nuevamente."
   ]
  },
  {
   "cell_type": "code",
   "execution_count": 21,
   "metadata": {
    "id": "Tq4nYRX4_Zct"
   },
   "outputs": [
    {
     "name": "stdout",
     "output_type": "stream",
     "text": [
      "Numero de valores ausentes despues del reemplazo\n",
      "user_id    0\n",
      "track      0\n",
      "artist     0\n",
      "genre      0\n",
      "city       0\n",
      "time       0\n",
      "day        0\n",
      "dtype: int64\n"
     ]
    }
   ],
   "source": [
    "# Contar valores ausentes\n",
    "missing_values_replacement = df.isnull().sum()\n",
    "print('Numero de valores ausentes despues del reemplazo')\n",
    "print(missing_values_replacement)"
   ]
  },
  {
   "cell_type": "markdown",
   "metadata": {
    "id": "74ZIBmq9VrsK"
   },
   "source": [
    "[Volver a Contenidos](#back)"
   ]
  },
  {
   "cell_type": "markdown",
   "metadata": {
    "id": "BWKRtBJ3_Zct"
   },
   "source": [
    "### Duplicados <a id='duplicates'></a>\n",
    "Encuentra el número de duplicados explícitos en la tabla. Una vez más, debes aplicar dos métodos en una secuencia para obtener la cantidad de duplicados explícitos."
   ]
  },
  {
   "cell_type": "code",
   "execution_count": 22,
   "metadata": {
    "id": "36eES_S0_Zct"
   },
   "outputs": [
    {
     "name": "stdout",
     "output_type": "stream",
     "text": [
      "3826\n"
     ]
    }
   ],
   "source": [
    "# Contar duplicados explícitos\n",
    "num_duplicates = df.duplicated().sum()\n",
    "print(num_duplicates)"
   ]
  },
  {
   "cell_type": "markdown",
   "metadata": {
    "id": "Ot25h6XR_Zct"
   },
   "source": [
    "Ahora, elimina todos los duplicados. Para ello, llama al método que hace exactamente esto."
   ]
  },
  {
   "cell_type": "code",
   "execution_count": 23,
   "metadata": {
    "id": "exFHq6tt_Zct"
   },
   "outputs": [
    {
     "name": "stdout",
     "output_type": "stream",
     "text": [
      "    user_id                        track            artist  genre  \\\n",
      "0  FFB692EC            Kamigata To Boots  The Mass Missile   rock   \n",
      "1  55204538  Delayed Because of Accident  Andreas Rönnberg   rock   \n",
      "2    20EC38            Funiculì funiculà       Mario Lanza    pop   \n",
      "3  A3DD03C9        Dragons in the Sunset        Fire + Ice   folk   \n",
      "4  E2DC1FAE                  Soul People        Space Echo  dance   \n",
      "\n",
      "          city      time        day  \n",
      "0  Shelbyville  20:28:33  Wednesday  \n",
      "1  Springfield  14:07:09     Friday  \n",
      "2  Shelbyville  20:58:07  Wednesday  \n",
      "3  Shelbyville  08:37:09     Monday  \n",
      "4  Springfield  08:34:34     Monday  \n"
     ]
    }
   ],
   "source": [
    "# Eliminar duplicados explícitos\n",
    "df.drop_duplicates(inplace=True)\n",
    "print(df.head())"
   ]
  },
  {
   "cell_type": "markdown",
   "metadata": {
    "id": "Im2YwBEG_Zct"
   },
   "source": [
    "Comprobemos ahora si eliminamos con éxito todos los duplicados. Cuenta los duplicados explícitos una vez más para asegurarte de haberlos eliminado todos:"
   ]
  },
  {
   "cell_type": "code",
   "execution_count": 24,
   "metadata": {
    "id": "-8PuNWQ0_Zct"
   },
   "outputs": [
    {
     "name": "stdout",
     "output_type": "stream",
     "text": [
      "Numero de duplicados despues de eliminar: 0\n"
     ]
    }
   ],
   "source": [
    "# Comprobar de nuevo si hay duplicados\n",
    "df.drop_duplicates(inplace=True)\n",
    "num_duplicates_after = df.duplicated().sum()\n",
    "print('Numero de duplicados despues de eliminar:', num_duplicates_after)\n"
   ]
  },
  {
   "cell_type": "markdown",
   "metadata": {
    "id": "QlFBsxAr_Zct"
   },
   "source": [
    "Ahora queremos deshacernos de los duplicados implícitos en la columna `genre`. Por ejemplo, el nombre de un género se puede escribir de varias formas. Dichos errores también pueden afectar al resultado."
   ]
  },
  {
   "cell_type": "markdown",
   "metadata": {
    "id": "eSjWwsOh_Zct"
   },
   "source": [
    "Para hacerlo, primero mostremos una lista de nombres de género únicos, ordenados en orden alfabético. Para ello:\n",
    "* Extrae la columna `genre` del DataFrame.\n",
    "* Llama al método que devolverá todos los valores únicos en la columna extraída.\n"
   ]
  },
  {
   "cell_type": "code",
   "execution_count": 25,
   "metadata": {
    "id": "JIUcqzZN_Zct"
   },
   "outputs": [
    {
     "name": "stdout",
     "output_type": "stream",
     "text": [
      "['acid', 'acoustic', 'action', 'adult', 'africa', 'afrikaans', 'alternative', 'ambient', 'americana', 'animated', 'anime', 'arabesk', 'arabic', 'arena', 'argentinetango', 'art', 'audiobook', 'avantgarde', 'axé', 'baile', 'balkan', 'beats', 'bigroom', 'black', 'bluegrass', 'blues', 'bollywood', 'bossa', 'brazilian', 'breakbeat', 'breaks', 'broadway', 'cantautori', 'cantopop', 'canzone', 'caribbean', 'caucasian', 'celtic', 'chamber', 'children', 'chill', 'chinese', 'choral', 'christian', 'christmas', 'classical', 'classicmetal', 'club', 'colombian', 'comedy', 'conjazz', 'contemporary', 'country', 'cuban', 'dance', 'dancehall', 'dancepop', 'dark', 'death', 'deep', 'deutschrock', 'deutschspr', 'dirty', 'disco', 'dnb', 'documentary', 'downbeat', 'downtempo', 'drum', 'dub', 'dubstep', 'eastern', 'easy', 'electronic', 'electropop', 'emo', 'entehno', 'epicmetal', 'estrada', 'ethnic', 'eurofolk', 'european', 'experimental', 'extrememetal', 'fado', 'film', 'fitness', 'flamenco', 'folk', 'folklore', 'folkmetal', 'folkrock', 'folktronica', 'forró', 'frankreich', 'französisch', 'french', 'funk', 'future', 'gangsta', 'garage', 'german', 'ghazal', 'gitarre', 'glitch', 'gospel', 'gothic', 'grime', 'grunge', 'gypsy', 'handsup', \"hard'n'heavy\", 'hardcore', 'hardstyle', 'hardtechno', 'hip', 'hip-hop', 'hiphop', 'historisch', 'holiday', 'hop', 'horror', 'house', 'idm', 'independent', 'indian', 'indie', 'indipop', 'industrial', 'inspirational', 'instrumental', 'international', 'irish', 'jam', 'japanese', 'jazz', 'jewish', 'jpop', 'jungle', 'k-pop', 'karadeniz', 'karaoke', 'kayokyoku', 'korean', 'laiko', 'latin', 'latino', 'leftfield', 'local', 'lounge', 'loungeelectronic', 'lovers', 'malaysian', 'mandopop', 'marschmusik', 'meditative', 'mediterranean', 'melodic', 'metal', 'metalcore', 'mexican', 'middle', 'minimal', 'miscellaneous', 'modern', 'mood', 'mpb', 'muslim', 'native', 'neoklassik', 'neue', 'new', 'newage', 'newwave', 'nu', 'nujazz', 'numetal', 'oceania', 'old', 'opera', 'orchestral', 'other', 'piano', 'pop', 'popelectronic', 'popeurodance', 'post', 'posthardcore', 'postrock', 'power', 'progmetal', 'progressive', 'psychedelic', 'punjabi', 'punk', 'quebecois', 'ragga', 'ram', 'rancheras', 'rap', 'rave', 'reggae', 'reggaeton', 'regional', 'relax', 'religious', 'retro', 'rhythm', 'rnb', 'rnr', 'rock', 'rockabilly', 'romance', 'roots', 'ruspop', 'rusrap', 'rusrock', 'salsa', 'samba', 'schlager', 'self', 'sertanejo', 'shoegazing', 'showtunes', 'singer', 'ska', 'slow', 'smooth', 'soul', 'soulful', 'sound', 'soundtrack', 'southern', 'specialty', 'speech', 'spiritual', 'sport', 'stonerrock', 'surf', 'swing', 'synthpop', 'sängerportrait', 'tango', 'tanzorchester', 'taraftar', 'tech', 'techno', 'thrash', 'top', 'traditional', 'tradjazz', 'trance', 'tribal', 'trip', 'triphop', 'tropical', 'türk', 'türkçe', 'unknown', 'urban', 'uzbek', 'variété', 'vi', 'videogame', 'vocal', 'western', 'world', 'worldbeat', 'ïîï']\n",
      "\n"
     ]
    }
   ],
   "source": [
    "# Inspeccionar los nombres de géneros únicos\n",
    "unique_genres = df['genre'].unique()\n",
    "sorted_genres = sorted(unique_genres)\n",
    "print(sorted_genres)\n",
    "print()"
   ]
  },
  {
   "cell_type": "markdown",
   "metadata": {
    "id": "qej-Qmuo_Zct"
   },
   "source": [
    "Busca en la lista para encontrar duplicados implícitos del género `hiphop`. Estos pueden ser nombres escritos incorrectamente o nombres alternativos para el mismo género.\n",
    "\n",
    "Verás los siguientes duplicados implícitos:\n",
    "* `hip`\n",
    "* `hop`\n",
    "* `hip-hop`\n",
    "\n",
    "Para deshacerte de ellos, crea una función llamada `replace_wrong_genres()` con dos parámetros:\n",
    "* `wrong_genres=`: esta es una lista que contiene todos los valores que necesitas reemplazar.\n",
    "* `correct_genre=`: este es un string que vas a utilizar como reemplazo.\n",
    "\n",
    "Como resultado, la función debería corregir los nombres en la columna `'genre'` de la tabla `df`, es decir, remplazar cada valor de la lista `wrong_genres` por el valor en `correct_genre`.\n",
    "\n",
    "Dentro del cuerpo de la función, utiliza un bucle `'for'` para iterar sobre la lista de géneros incorrectos, extrae la columna `'genre'` y aplica el método `replace` para hacer correcciones."
   ]
  },
  {
   "cell_type": "code",
   "execution_count": 26,
   "metadata": {
    "id": "ErNDkmns_Zct"
   },
   "outputs": [],
   "source": [
    "# Función para reemplazar duplicados implícitos\n",
    "def replace_wrong_genres(df, correct_genre, wrong_genres):\n",
    "    for wrong_genre in wrong_genres: \n",
    "     df['genre'] = df['genre'].replace(wrong_genre, correct_genre)\n",
    "    return df"
   ]
  },
  {
   "cell_type": "markdown",
   "metadata": {
    "id": "aDoBJxbA_Zct"
   },
   "source": [
    "Ahora, llama a `replace_wrong_genres()` y pásale tales argumentos para que retire los duplicados implícitos (`hip`, `hop` y `hip-hop`) y los reemplace por `hiphop`:"
   ]
  },
  {
   "cell_type": "code",
   "execution_count": 27,
   "metadata": {
    "id": "YN5i2hpmSo09"
   },
   "outputs": [
    {
     "name": "stdout",
     "output_type": "stream",
     "text": [
      "['rock' 'pop' 'folk' 'dance' 'rusrap' 'ruspop' 'world' 'electronic'\n",
      " 'unknown' 'alternative' 'children' 'rnb' 'hiphop' 'jazz' 'postrock'\n",
      " 'latin' 'classical' 'metal' 'reggae' 'triphop' 'blues' 'instrumental'\n",
      " 'rusrock' 'dnb' 'türk' 'post' 'country' 'psychedelic' 'conjazz' 'indie'\n",
      " 'posthardcore' 'local' 'avantgarde' 'punk' 'videogame' 'techno' 'house'\n",
      " 'christmas' 'melodic' 'caucasian' 'reggaeton' 'soundtrack' 'singer' 'ska'\n",
      " 'salsa' 'ambient' 'film' 'western' 'rap' 'beats' \"hard'n'heavy\"\n",
      " 'progmetal' 'minimal' 'tropical' 'contemporary' 'new' 'soul' 'holiday'\n",
      " 'german' 'jpop' 'spiritual' 'urban' 'gospel' 'nujazz' 'folkmetal'\n",
      " 'trance' 'miscellaneous' 'anime' 'hardcore' 'progressive' 'korean'\n",
      " 'numetal' 'vocal' 'estrada' 'tango' 'loungeelectronic' 'classicmetal'\n",
      " 'dubstep' 'club' 'deep' 'southern' 'black' 'folkrock' 'fitness' 'french'\n",
      " 'disco' 'religious' 'hiphophop' 'drum' 'extrememetal' 'türkçe'\n",
      " 'experimental' 'easy' 'metalcore' 'modern' 'argentinetango' 'old' 'swing'\n",
      " 'breaks' 'eurofolk' 'stonerrock' 'industrial' 'funk' 'middle' 'variété'\n",
      " 'other' 'adult' 'christian' 'thrash' 'gothic' 'international' 'muslim'\n",
      " 'relax' 'schlager' 'caribbean' 'nu' 'breakbeat' 'comedy' 'chill' 'newage'\n",
      " 'specialty' 'uzbek' 'k-pop' 'balkan' 'chinese' 'meditative' 'dub' 'power'\n",
      " 'death' 'grime' 'arabesk' 'romance' 'flamenco' 'leftfield' 'european'\n",
      " 'tech' 'newwave' 'dancehall' 'mpb' 'piano' 'top' 'bigroom' 'opera'\n",
      " 'celtic' 'tradjazz' 'acoustic' 'epicmetal' 'hiphop-hop' 'historisch'\n",
      " 'downbeat' 'downtempo' 'africa' 'audiobook' 'jewish' 'sängerportrait'\n",
      " 'deutschrock' 'eastern' 'action' 'future' 'electropop' 'folklore'\n",
      " 'bollywood' 'marschmusik' 'rnr' 'karaoke' 'indian' 'rancheras'\n",
      " 'afrikaans' 'rhythm' 'sound' 'deutschspr' 'trip' 'lovers' 'choral'\n",
      " 'dancepop' 'retro' 'smooth' 'mexican' 'brazilian' 'ïîï' 'mood' 'surf'\n",
      " 'gangsta' 'inspirational' 'idm' 'ethnic' 'bluegrass' 'broadway'\n",
      " 'animated' 'americana' 'karadeniz' 'rockabilly' 'colombian' 'self' 'hop'\n",
      " 'sertanejo' 'japanese' 'canzone' 'lounge' 'sport' 'ragga' 'traditional'\n",
      " 'gitarre' 'frankreich' 'emo' 'laiko' 'cantopop' 'glitch' 'documentary'\n",
      " 'oceania' 'popeurodance' 'dark' 'vi' 'grunge' 'hardstyle' 'samba'\n",
      " 'garage' 'art' 'folktronica' 'entehno' 'mediterranean' 'chamber' 'cuban'\n",
      " 'taraftar' 'gypsy' 'hardtechno' 'shoegazing' 'bossa' 'latino' 'worldbeat'\n",
      " 'malaysian' 'baile' 'ghazal' 'arabic' 'popelectronic' 'acid' 'kayokyoku'\n",
      " 'neoklassik' 'tribal' 'tanzorchester' 'native' 'independent' 'cantautori'\n",
      " 'handsup' 'punjabi' 'synthpop' 'rave' 'französisch' 'quebecois' 'speech'\n",
      " 'soulful' 'jam' 'ram' 'horror' 'orchestral' 'neue' 'roots' 'slow'\n",
      " 'jungle' 'indipop' 'axé' 'fado' 'showtunes' 'arena' 'irish' 'mandopop'\n",
      " 'forró' 'dirty' 'regional']\n"
     ]
    }
   ],
   "source": [
    "# Eliminar duplicados implícitos\n",
    "def replace_wrong_genres(df, correct_genre, wrong_genres):\n",
    "    for wrong_genre in wrong_genres: \n",
    "     df['genre'] = df['genre'].str.replace(wrong_genre, correct_genre, case= False, regex=False)\n",
    "     return df\n",
    "wrong_genres = ['hip', 'hop', 'hip-hop']\n",
    "correct_genre = 'hiphop'\n",
    "df = replace_wrong_genres(df, correct_genre, wrong_genres)\n",
    "print(df['genre'].unique())"
   ]
  },
  {
   "cell_type": "markdown",
   "metadata": {
    "id": "zQKF16_RG15m"
   },
   "source": [
    "Asegúrate de que los nombres duplicados han sido eliminados. Muestra la lista de valores únicos de la columna `'genre'` una vez más:"
   ]
  },
  {
   "cell_type": "code",
   "execution_count": 28,
   "metadata": {
    "id": "wvixALnFG15m"
   },
   "outputs": [
    {
     "name": "stdout",
     "output_type": "stream",
     "text": [
      "['rock' 'pop' 'folk' 'dance' 'rusrap' 'ruspop' 'world' 'electronic'\n",
      " 'unknown' 'alternative' 'children' 'rnb' 'hiphophop' 'jazz' 'postrock'\n",
      " 'latin' 'classical' 'metal' 'reggae' 'triphop' 'blues' 'instrumental'\n",
      " 'rusrock' 'dnb' 'türk' 'post' 'country' 'psychedelic' 'conjazz' 'indie'\n",
      " 'posthardcore' 'local' 'avantgarde' 'punk' 'videogame' 'techno' 'house'\n",
      " 'christmas' 'melodic' 'caucasian' 'reggaeton' 'soundtrack' 'singer' 'ska'\n",
      " 'salsa' 'ambient' 'film' 'western' 'rap' 'beats' \"hard'n'heavy\"\n",
      " 'progmetal' 'minimal' 'tropical' 'contemporary' 'new' 'soul' 'holiday'\n",
      " 'german' 'jpop' 'spiritual' 'urban' 'gospel' 'nujazz' 'folkmetal'\n",
      " 'trance' 'miscellaneous' 'anime' 'hardcore' 'progressive' 'korean'\n",
      " 'numetal' 'vocal' 'estrada' 'tango' 'loungeelectronic' 'classicmetal'\n",
      " 'dubstep' 'club' 'deep' 'southern' 'black' 'folkrock' 'fitness' 'french'\n",
      " 'disco' 'religious' 'hiphophophop' 'drum' 'extrememetal' 'türkçe'\n",
      " 'experimental' 'easy' 'metalcore' 'modern' 'argentinetango' 'old' 'swing'\n",
      " 'breaks' 'eurofolk' 'stonerrock' 'industrial' 'funk' 'middle' 'variété'\n",
      " 'other' 'adult' 'christian' 'thrash' 'gothic' 'international' 'muslim'\n",
      " 'relax' 'schlager' 'caribbean' 'nu' 'breakbeat' 'comedy' 'chill' 'newage'\n",
      " 'specialty' 'uzbek' 'k-pop' 'balkan' 'chinese' 'meditative' 'dub' 'power'\n",
      " 'death' 'grime' 'arabesk' 'romance' 'flamenco' 'leftfield' 'european'\n",
      " 'tech' 'newwave' 'dancehall' 'mpb' 'piano' 'top' 'bigroom' 'opera'\n",
      " 'celtic' 'tradjazz' 'acoustic' 'epicmetal' 'hiphophop-hop' 'historisch'\n",
      " 'downbeat' 'downtempo' 'africa' 'audiobook' 'jewish' 'sängerportrait'\n",
      " 'deutschrock' 'eastern' 'action' 'future' 'electropop' 'folklore'\n",
      " 'bollywood' 'marschmusik' 'rnr' 'karaoke' 'indian' 'rancheras'\n",
      " 'afrikaans' 'rhythm' 'sound' 'deutschspr' 'trip' 'lovers' 'choral'\n",
      " 'dancepop' 'retro' 'smooth' 'mexican' 'brazilian' 'ïîï' 'mood' 'surf'\n",
      " 'gangsta' 'inspirational' 'idm' 'ethnic' 'bluegrass' 'broadway'\n",
      " 'animated' 'americana' 'karadeniz' 'rockabilly' 'colombian' 'self' 'hop'\n",
      " 'sertanejo' 'japanese' 'canzone' 'lounge' 'sport' 'ragga' 'traditional'\n",
      " 'gitarre' 'frankreich' 'emo' 'laiko' 'cantopop' 'glitch' 'documentary'\n",
      " 'oceania' 'popeurodance' 'dark' 'vi' 'grunge' 'hardstyle' 'samba'\n",
      " 'garage' 'art' 'folktronica' 'entehno' 'mediterranean' 'chamber' 'cuban'\n",
      " 'taraftar' 'gypsy' 'hardtechno' 'shoegazing' 'bossa' 'latino' 'worldbeat'\n",
      " 'malaysian' 'baile' 'ghazal' 'arabic' 'popelectronic' 'acid' 'kayokyoku'\n",
      " 'neoklassik' 'tribal' 'tanzorchester' 'native' 'independent' 'cantautori'\n",
      " 'handsup' 'punjabi' 'synthpop' 'rave' 'französisch' 'quebecois' 'speech'\n",
      " 'soulful' 'jam' 'ram' 'horror' 'orchestral' 'neue' 'roots' 'slow'\n",
      " 'jungle' 'indipop' 'axé' 'fado' 'showtunes' 'arena' 'irish' 'mandopop'\n",
      " 'forró' 'dirty' 'regional']\n"
     ]
    }
   ],
   "source": [
    "# Comprobación de duplicados implícitos\n",
    "def replace_wrong_genres(df, correct_genre, wrong_genres):\n",
    "    for wrong_genre in wrong_genres: \n",
    "     df['genre'] = df['genre'].str.replace(wrong_genre, correct_genre, case= False, regex=False)\n",
    "     return df\n",
    "wrong_genres = ['hip', 'hop', 'hip-hop']\n",
    "correct_genre = 'hiphop'\n",
    "df = replace_wrong_genres(df, correct_genre, wrong_genres)\n",
    "unique_genres = df['genre'].unique()\n",
    "print(unique_genres)"
   ]
  },
  {
   "cell_type": "markdown",
   "metadata": {
    "id": "ALgNbvF3VtPA"
   },
   "source": [
    "[Volver a Contenidos](#back)"
   ]
  },
  {
   "cell_type": "markdown",
   "metadata": {
    "id": "jz6a9-7HQUDd"
   },
   "source": [
    "### Tus observaciones <a id='data_preprocessing_conclusions'></a>\n",
    "\n",
    "`Describe brevemente lo que has notado al analizar duplicados, cómo abordaste sus eliminaciones y qué resultados obtuviste.` En esta parte de preprocesamiento de los datos de identificaron los valores ausentes y se procedio a reemplazarlos, para los datos duplicados se contaron, se eliminaron, pero donde podria influir era en la columna 'genre' se formulo una funcion para poder eliminar generos duplicados y finalmente devolver los valores unicos de la columna 'genre'"
   ]
  },
  {
   "cell_type": "markdown",
   "metadata": {
    "id": "eK1es74rVujj"
   },
   "source": [
    "[Volver a Contenidos](#back)"
   ]
  },
  {
   "cell_type": "markdown",
   "metadata": {
    "id": "WttZHXH0SqKk"
   },
   "source": [
    "## Etapa 3. Prueba de hipótesis <a id='hypothesis'></a>"
   ]
  },
  {
   "cell_type": "markdown",
   "metadata": {
    "id": "Im936VVi_Zcu"
   },
   "source": [
    "### Hipótesis: comparar el comportamiento del usuario o la usuaria en las dos ciudades <a id='activity'></a>"
   ]
  },
  {
   "cell_type": "markdown",
   "metadata": {
    "id": "nwt_MuaL_Zcu"
   },
   "source": [
    "La hipótesis afirma que existen diferencias en la forma en que los usuarios y las usuarias de Springfield y Shelbyville consumen música. Para comprobar esto, usa los datos de tres días de la semana: lunes, miércoles y viernes.\n",
    "\n",
    "* Agrupa a los usuarios y las usuarias por ciudad.\n",
    "* Compara el número de canciones que cada grupo reprodujo el lunes, el miércoles y el viernes.\n"
   ]
  },
  {
   "cell_type": "markdown",
   "metadata": {
    "id": "8Dw_YMmT_Zcu"
   },
   "source": [
    "Realiza cada cálculo por separado.\n",
    "\n",
    "El primer paso es evaluar la actividad del usuario en cada ciudad. Recuerda las etapas dividir-aplicar-combinar de las que hablamos anteriormente en la lección. Tu objetivo ahora es agrupar los datos por ciudad, aplicar el método apropiado para contar durante la etapa de aplicación y luego encontrar la cantidad de canciones reproducidas en cada grupo especificando la columna para obtener el recuento.\n",
    "\n",
    "A continuación se muestra un ejemplo de cómo debería verse el resultado final:\n",
    "`df.groupby(by='....')['column'].method()`Realiza cada cálculo por separado.\n",
    "\n",
    "Para evaluar la actividad de los usuarios y las usuarias en cada ciudad, agrupa los datos por ciudad y encuentra la cantidad de canciones reproducidas en cada grupo.\n",
    "\n"
   ]
  },
  {
   "cell_type": "code",
   "execution_count": 29,
   "metadata": {
    "id": "0_Qs96oh_Zcu",
    "scrolled": true
   },
   "outputs": [
    {
     "name": "stdout",
     "output_type": "stream",
     "text": [
      "Canciones reproducidas el lunes:\n",
      "city\n",
      "Shelbyville     5614\n",
      "Springfield    15740\n",
      "Name: track, dtype: int64\n",
      "Canciones reproducidas el miercoles:\n",
      "city\n",
      "Shelbyville     7003\n",
      "Springfield    11056\n",
      "Name: track, dtype: int64\n",
      "Canciones reproducidas el viernes:\n",
      "city\n",
      "Shelbyville     5895\n",
      "Springfield    15945\n",
      "Name: track, dtype: int64\n"
     ]
    }
   ],
   "source": [
    "# Contar las canciones reproducidas en cada ciudad\n",
    "\n",
    "specific_days = ['Monday', 'Wednesday', 'Friday']\n",
    "filtered_df = df[df['day'].isin(specific_days)]\n",
    "\n",
    "\n",
    "count_monday = filtered_df[filtered_df['day'] == 'Monday'].groupby('city')['track'].count()\n",
    "count_wednesday = filtered_df[filtered_df['day'] == 'Wednesday'].groupby('city')['track'].count()\n",
    "count_friday = filtered_df[filtered_df['day'] == 'Friday'].groupby('city')['track'].count()\n",
    "\n",
    "print('Canciones reproducidas el lunes:')                           \n",
    "print(count_monday)\n",
    "print('Canciones reproducidas el miercoles:') \n",
    "print(count_wednesday)\n",
    "print('Canciones reproducidas el viernes:') \n",
    "print(count_friday)"
   ]
  },
  {
   "cell_type": "markdown",
   "metadata": {
    "id": "t_Qx-3NewAnK"
   },
   "source": [
    "`Comenta tus observaciones aquí` Aqui si afirmariamos nuestra hipotesis se muestran las canciones reproducidas los dias lunes, miercoles y viernes de ambas ciudad y nos muestran que Springfield reproduce mas canciones aunque no es un diferencia tan marcada"
   ]
  },
  {
   "cell_type": "markdown",
   "metadata": {
    "id": "dzli3w8o_Zcu"
   },
   "source": [
    "Ahora agrupemos los datos por día de la semana y encontremos el número de canciones reproducidas el lunes, miércoles y viernes. Utiliza el mismo método que antes, pero ahora necesitamos una agrupación diferente.\n"
   ]
  },
  {
   "cell_type": "code",
   "execution_count": 30,
   "metadata": {
    "id": "uZMKjiJz_Zcu"
   },
   "outputs": [
    {
     "name": "stdout",
     "output_type": "stream",
     "text": [
      "Numero de canciones reproducidas en cada uno de los tres dias:\n",
      "day\n",
      "Friday       21840\n",
      "Monday       21354\n",
      "Wednesday    18059\n",
      "Name: track, dtype: int64\n"
     ]
    }
   ],
   "source": [
    "# Calcular las canciones reproducidas en cada uno de los tres días\n",
    "specific_days = ['Monday', 'Wednesday', 'Friday']\n",
    "filtered_df = df[df['day'].isin(specific_days)]\n",
    "count_by_day = filtered_df.groupby('day')['track'].count()\n",
    "print('Numero de canciones reproducidas en cada uno de los tres dias:')\n",
    "print(count_by_day)"
   ]
  },
  {
   "cell_type": "markdown",
   "metadata": {
    "id": "cC2tNrlL_Zcu"
   },
   "source": [
    "`Comenta tus observaciones aquí` estos datos no nos ayudarian a rechzar o aceptar nuestra hipotesis ya que se mezclan ambas ciudades sobre el numero de canciones reproducidas por cada uno de los tres dias, nos ayudarian datos que nos muestren por ciudad y por dia"
   ]
  },
  {
   "cell_type": "markdown",
   "metadata": {
    "id": "POzs8bGa_Zcu"
   },
   "source": [
    "Ya sabes cómo contar entradas agrupándolas por ciudad o día. Ahora necesitas escribir una función que pueda contar entradas según ambos criterios simultáneamente.\n",
    "\n",
    "Crea la función `number_tracks()` para calcular el número de canciones reproducidas en un determinado día **y** ciudad. La función debe aceptar dos parámetros:\n",
    "\n",
    "- `day`: un día de la semana para filtrar. Por ejemplo, `'Monday'` (lunes).\n",
    "- `city`: una ciudad para filtrar. Por ejemplo, `'Springfield'`.\n",
    "\n",
    "Dentro de la función, aplicarás un filtrado consecutivo con indexación lógica.\n",
    "\n",
    "Primero filtra los datos por día y luego filtra la tabla resultante por ciudad.\n",
    "\n",
    "Después de filtrar los datos por dos criterios, cuenta el número de valores de la columna 'user_id' en la tabla resultante. Este recuento representa el número de entradas que estás buscando. Guarda el resultado en una nueva variable y devuélvelo desde la función."
   ]
  },
  {
   "cell_type": "code",
   "execution_count": 31,
   "metadata": {
    "id": "Nz3GdQB1_Zcu"
   },
   "outputs": [
    {
     "name": "stdout",
     "output_type": "stream",
     "text": [
      "Numero de canciones reproducidas en Springfield el lunes : 15740\n",
      "Numero de canciones reproducidas en Shelbyville el lunes : 5614\n",
      "Numero de canciones reproducidas en Springfield el miercoles : 11056\n",
      "Numero de canciones reproducidas en Shelbyville el miercoles : 7003\n",
      "Numero de canciones reproducidas en Springfield el viernes : 15945\n",
      "Numero de canciones reproducidas en Shelbyville el viernes : 5895\n"
     ]
    }
   ],
   "source": [
    "# Declara la función number_tracks() con dos parámetros: day= y city=.\n",
    "def number_tracks(day,city):\n",
    "\n",
    "    # Almacena las filas del DataFrame donde el valor en la columna 'day' es igual al parámetro day=\n",
    "    filtered_by_day = df[df['day'] == day]\n",
    "\n",
    "    # Filtra las filas donde el valor en la columna 'city' es igual al parámetro city=\n",
    "    filtered_by_city = filtered_by_day[filtered_by_day['city'] == city]\n",
    "\n",
    "    # Extrae la columna 'user_id' de la tabla filtrada y aplica el método count()\n",
    "    track_count = filtered_by_city['user_id'].count()\n",
    "    \n",
    "\n",
    "    # Devolve el número de valores de la columna 'user_id'\n",
    "    return track_count\n",
    "monday_springfield_tracks = number_tracks('Monday', 'Springfield')\n",
    "print(f'Numero de canciones reproducidas en Springfield el lunes : {monday_springfield_tracks}')\n",
    "monday_shelbyville_tracks = number_tracks('Monday', 'Shelbyville')\n",
    "print(f'Numero de canciones reproducidas en Shelbyville el lunes : {monday_shelbyville_tracks}')\n",
    "wednesday_springfield_tracks = number_tracks('Wednesday', 'Springfield')\n",
    "print(f'Numero de canciones reproducidas en Springfield el miercoles : {wednesday_springfield_tracks}')\n",
    "wednesday_shelbyville_tracks = number_tracks('Wednesday', 'Shelbyville')\n",
    "print(f'Numero de canciones reproducidas en Shelbyville el miercoles : {wednesday_shelbyville_tracks}')\n",
    "friday_springfield_tracks = number_tracks('Friday', 'Springfield')\n",
    "print(f'Numero de canciones reproducidas en Springfield el viernes : {friday_springfield_tracks}')\n",
    "friday_shelbyville_tracks = number_tracks('Friday', 'Shelbyville')\n",
    "print(f'Numero de canciones reproducidas en Shelbyville el viernes : {friday_shelbyville_tracks}')\n",
    "\n"
   ]
  },
  {
   "cell_type": "markdown",
   "metadata": {
    "id": "ytf7xFrFJQ2r"
   },
   "source": [
    "Llama a `number_tracks()` seis veces, cambiando los valores de los parámetros para que recuperes los datos de ambas ciudades para cada uno de los tres días."
   ]
  },
  {
   "cell_type": "code",
   "execution_count": 32,
   "metadata": {
    "id": "rJcRATNQ_Zcu"
   },
   "outputs": [
    {
     "name": "stdout",
     "output_type": "stream",
     "text": [
      "Numero de canciones reproducidas en Springfield el lunes : 15740\n"
     ]
    }
   ],
   "source": [
    "# El número de canciones reproducidas en Springfield el lunes\n",
    "monday_springfield_tracks = number_tracks('Monday', 'Springfield')\n",
    "print(f'Numero de canciones reproducidas en Springfield el lunes : {monday_springfield_tracks}')"
   ]
  },
  {
   "cell_type": "code",
   "execution_count": 33,
   "metadata": {
    "id": "hq_ncZ5T_Zcu"
   },
   "outputs": [
    {
     "name": "stdout",
     "output_type": "stream",
     "text": [
      "Numero de canciones reproducidas en Shelbyville el lunes : 5614\n"
     ]
    }
   ],
   "source": [
    "# El número de canciones reproducidas en Shelbyville el lunes\n",
    "monday_shelbyville_tracks = number_tracks('Monday', 'Shelbyville')\n",
    "print(f'Numero de canciones reproducidas en Shelbyville el lunes : {monday_shelbyville_tracks}')"
   ]
  },
  {
   "cell_type": "code",
   "execution_count": 34,
   "metadata": {
    "id": "_NTy2VPU_Zcu"
   },
   "outputs": [
    {
     "name": "stdout",
     "output_type": "stream",
     "text": [
      "Numero de canciones reproducidas en Springfield el miercoles : 11056\n"
     ]
    }
   ],
   "source": [
    "# El número de canciones reproducidas en Springfield el miércoles\n",
    "wednesday_springfield_tracks = number_tracks('Wednesday', 'Springfield')\n",
    "print(f'Numero de canciones reproducidas en Springfield el miercoles : {wednesday_springfield_tracks}')"
   ]
  },
  {
   "cell_type": "code",
   "execution_count": 35,
   "metadata": {
    "id": "j2y3TAwo_Zcu"
   },
   "outputs": [
    {
     "name": "stdout",
     "output_type": "stream",
     "text": [
      "Numero de canciones reproducidas en Shelbyville el miercoles : 7003\n"
     ]
    }
   ],
   "source": [
    "# El número de canciones reproducidas en Shelbyville el miércoles\n",
    "wednesday_shelbyville_tracks = number_tracks('Wednesday', 'Shelbyville')\n",
    "print(f'Numero de canciones reproducidas en Shelbyville el miercoles : {wednesday_shelbyville_tracks}')"
   ]
  },
  {
   "cell_type": "code",
   "execution_count": 36,
   "metadata": {
    "id": "vYDw5u_K_Zcu"
   },
   "outputs": [
    {
     "name": "stdout",
     "output_type": "stream",
     "text": [
      "Numero de canciones reproducidas en Springfield el viernes : 15945\n"
     ]
    }
   ],
   "source": [
    "# El número de canciones reproducidas en Springfield el viernes\n",
    "friday_springfield_tracks = number_tracks('Friday', 'Springfield')\n",
    "print(f'Numero de canciones reproducidas en Springfield el viernes : {friday_springfield_tracks}')"
   ]
  },
  {
   "cell_type": "code",
   "execution_count": 37,
   "metadata": {
    "id": "8_yzFtW3_Zcu"
   },
   "outputs": [
    {
     "name": "stdout",
     "output_type": "stream",
     "text": [
      "Numero de canciones reproducidas en Shelbyville el viernes : 5895\n"
     ]
    }
   ],
   "source": [
    "# El número de canciones reproducidas en Shelbyville el viernes\n",
    "friday_shelbyville_tracks = number_tracks('Friday', 'Shelbyville')\n",
    "print(f'Numero de canciones reproducidas en Shelbyville el viernes : {friday_shelbyville_tracks}')"
   ]
  },
  {
   "cell_type": "markdown",
   "metadata": {
    "id": "-EgPIHYu_Zcu"
   },
   "source": [
    "**Conclusiones**\n",
    "\n",
    "`Comenta si la hipótesis es correcta o se debe rechazar. Explica tu razonamiento. es correcta hay diferencias en cuanto a es mayor en Springfield que Shelbyville el numero de canciones reproducidas segun nos dicen los datos "
   ]
  },
  {
   "cell_type": "markdown",
   "metadata": {
    "id": "p7nFQajCVw5B"
   },
   "source": [
    "[Volver a Contenidos](#back)"
   ]
  },
  {
   "cell_type": "markdown",
   "metadata": {
    "id": "ykKQ0N65_Zcv"
   },
   "source": [
    "# Conclusiones <a id='end'></a>"
   ]
  },
  {
   "cell_type": "markdown",
   "metadata": {
    "id": "tjUwbHb3_Zcv"
   },
   "source": [
    "`Resume aquí tus conclusiones sobre la hipótesis.` Mediante el filtrado de datos, la agrupacion de los datos nos da pie a que ambas ciudades tienen diferencias en cuantos al numero de canciones reproducidas aunque para apoyar esta hipotesis se necesita un analisis estadistico que nos complemente nuesta afirmacion"
   ]
  },
  {
   "cell_type": "markdown",
   "metadata": {
    "id": "azLHu64yOIp7"
   },
   "source": [
    "### Nota\n",
    "En proyectos de investigación reales, la prueba de hipótesis estadística es más precisa y cuantitativa. También ten en cuenta que no siempre se pueden sacar conclusiones sobre una ciudad entera a partir de datos de una sola fuente.\n",
    "\n",
    "Aprenderás más sobre la prueba de hipótesis en el sprint de análisis estadístico de datos."
   ]
  },
  {
   "cell_type": "markdown",
   "metadata": {
    "id": "Ju4AHDSgV1FE"
   },
   "source": [
    "[Volver a Contenidos](#back)"
   ]
  }
 ],
 "metadata": {
  "ExecuteTimeLog": [
   {
    "duration": 290,
    "start_time": "2024-09-23T02:17:12.186Z"
   },
   {
    "duration": 139,
    "start_time": "2024-09-23T02:18:11.730Z"
   },
   {
    "duration": 96,
    "start_time": "2024-09-23T02:18:26.968Z"
   },
   {
    "duration": 23,
    "start_time": "2024-09-23T02:18:55.248Z"
   },
   {
    "duration": 3,
    "start_time": "2024-09-23T02:46:12.318Z"
   },
   {
    "duration": 4,
    "start_time": "2024-09-23T02:57:03.843Z"
   },
   {
    "duration": 4,
    "start_time": "2024-09-23T02:58:43.349Z"
   },
   {
    "duration": 216,
    "start_time": "2024-09-23T03:01:48.797Z"
   },
   {
    "duration": 5,
    "start_time": "2024-09-23T03:02:01.170Z"
   },
   {
    "duration": 4,
    "start_time": "2024-09-23T03:02:20.899Z"
   },
   {
    "duration": 16,
    "start_time": "2024-09-23T03:02:59.209Z"
   },
   {
    "duration": 19,
    "start_time": "2024-09-23T03:05:27.156Z"
   },
   {
    "duration": 20,
    "start_time": "2024-09-23T03:05:36.075Z"
   },
   {
    "duration": 17,
    "start_time": "2024-09-23T03:06:01.136Z"
   },
   {
    "duration": 42,
    "start_time": "2024-09-23T03:06:27.048Z"
   },
   {
    "duration": 69,
    "start_time": "2024-09-23T03:06:43.711Z"
   },
   {
    "duration": 101,
    "start_time": "2024-09-23T03:07:10.557Z"
   },
   {
    "duration": 6,
    "start_time": "2024-09-23T03:07:44.050Z"
   },
   {
    "duration": 24,
    "start_time": "2024-09-23T03:08:45.176Z"
   },
   {
    "duration": 30,
    "start_time": "2024-09-23T03:11:17.271Z"
   },
   {
    "duration": 10,
    "start_time": "2024-09-23T03:13:01.096Z"
   },
   {
    "duration": 13,
    "start_time": "2024-09-23T03:29:57.135Z"
   },
   {
    "duration": 38,
    "start_time": "2024-09-23T03:33:34.552Z"
   },
   {
    "duration": 16,
    "start_time": "2024-09-23T03:40:49.141Z"
   },
   {
    "duration": 17,
    "start_time": "2024-09-23T03:41:21.699Z"
   },
   {
    "duration": 34,
    "start_time": "2024-09-23T04:03:45.299Z"
   },
   {
    "duration": 43,
    "start_time": "2024-09-23T04:06:01.190Z"
   },
   {
    "duration": 55,
    "start_time": "2024-09-23T04:06:35.943Z"
   },
   {
    "duration": 64,
    "start_time": "2024-09-23T04:06:45.720Z"
   },
   {
    "duration": 13,
    "start_time": "2024-09-23T04:08:38.012Z"
   },
   {
    "duration": 14,
    "start_time": "2024-09-23T04:09:06.407Z"
   },
   {
    "duration": 13,
    "start_time": "2024-09-23T04:09:29.674Z"
   },
   {
    "duration": 11,
    "start_time": "2024-09-23T04:09:43.853Z"
   },
   {
    "duration": 12,
    "start_time": "2024-09-23T04:10:05.439Z"
   },
   {
    "duration": 11,
    "start_time": "2024-09-23T04:10:20.557Z"
   },
   {
    "duration": 40,
    "start_time": "2024-09-23T04:37:50.875Z"
   },
   {
    "duration": 43,
    "start_time": "2024-09-23T04:38:16.872Z"
   }
  ],
  "colab": {
   "collapsed_sections": [
    "E0vqbgi9ay0H",
    "VUC88oWjTJw2"
   ],
   "provenance": []
  },
  "kernelspec": {
   "display_name": "base",
   "language": "python",
   "name": "python3"
  },
  "language_info": {
   "codemirror_mode": {
    "name": "ipython",
    "version": 3
   },
   "file_extension": ".py",
   "mimetype": "text/x-python",
   "name": "python",
   "nbconvert_exporter": "python",
   "pygments_lexer": "ipython3",
   "version": "3.12.4"
  },
  "toc": {
   "base_numbering": 1,
   "nav_menu": {},
   "number_sections": true,
   "sideBar": true,
   "skip_h1_title": true,
   "title_cell": "Table of Contents",
   "title_sidebar": "Contents",
   "toc_cell": false,
   "toc_position": {},
   "toc_section_display": true,
   "toc_window_display": false
  }
 },
 "nbformat": 4,
 "nbformat_minor": 1
}
