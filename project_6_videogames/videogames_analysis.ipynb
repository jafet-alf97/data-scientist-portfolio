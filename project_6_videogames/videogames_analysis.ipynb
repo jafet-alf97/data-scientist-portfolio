{
 "cells": [
  {
   "cell_type": "markdown",
   "metadata": {},
   "source": [
    "# Descripcion del proyecto\n",
    "Trabajas para la tienda online Ice que vende videojuegos por todo el mundo. Las reseñas de usuarios y expertos, los géneros, las plataformas (por ejemplo, Xbox o PlayStation) y los datos históricos sobre las ventas de juegos están disponibles en fuentes abiertas. Tienes que identificar patrones que determinen si un juego tiene éxito o no. Esto te permitirá detectar proyectos prometedores y planificar campañas publicitarias.\n",
    "\n",
    "Delante de ti hay datos que se remontan a 2016. Imaginemos que es diciembre de 2016 y estás planeando una campaña para 2017.\n",
    "\n",
    "Lo importante es adquirir experiencia de trabajo con datos. Realmente no importa si estás pronosticando las ventas de 2017 en función de los datos de 2016 o las ventas de 2027 en función de los datos de 2026.\n",
    "\n",
    "El dataset contiene una columna \"rating\" que almacena la clasificación ESRB de cada juego. El Entertainment Software Rating Board (la Junta de clasificación de software de entretenimiento) evalúa el contenido de un juego y asigna una clasificación de edad como Adolescente o Adulto."
   ]
  },
  {
   "cell_type": "markdown",
   "metadata": {},
   "source": [
    "# Tabla de Contenido\n",
    "\n",
    "1. [Inicialización](#Inicialización)\n",
    "2. [Preparar los datos](#Preparar-los-datos)\n",
    "3. [Games](#Games)\n",
    "    1. [Reemplaza los nombres de las columnas (ponlos en minúsculas).](#Reemplaza-los-nombres-de-las-columnas)\n",
    "    2. [Describe las columnas en las que los tipos de datos han sido cambiados y explica por qué.](#Describe-los-tipos-de-datos)\n",
    "    3. [Calcula las ventas totales (la suma de las ventas en todas las regiones) para cada juego.](#Ventas-totales)\n",
    "4. [Analiza los datos](#Analiza-los-datos)\n",
    "    1. [Juegos lanzados en diferentes años.](#Juegos-lanzados-en-diferentes-años)\n",
    "    2. [Variación de ventas por plataforma.](#Ventas-por-plataforma)\n",
    "    3. [Correlación entre reseñas y ventas.](#Correlacion-reseñas-ventas)\n",
    "    4. [Distribución de juegos por género.](#Distribucion-por-genero)\n",
    "5. [Perfil de usuario para cada región](#Perfil-de-usuario)\n",
    "6. [Prueba de hipótesis](#Prueba-de-hipotesis)\n",
    "    1. [Calificaciones de usuarios para Xbox One y PC.](#Calificaciones-Xbox-PC)\n",
    "7. [Conclusión general](#Conclusión-general)"
   ]
  },
  {
   "cell_type": "markdown",
   "metadata": {},
   "source": [
    "## Inicializacion\n",
    "Abre el archivo de datos y estudia la información general \n"
   ]
  },
  {
   "cell_type": "code",
   "execution_count": 1,
   "metadata": {},
   "outputs": [],
   "source": [
    "# Cargar todas las librerías\n",
    "import pandas as pd \n",
    "import matplotlib.pyplot as plt\n",
    "import seaborn as sns\n",
    "from scipy import stats"
   ]
  },
  {
   "cell_type": "code",
   "execution_count": 2,
   "metadata": {},
   "outputs": [],
   "source": [
    "# Carga el  archivos de datos del DataFrame\n",
    "df_games = pd.read_csv(\"C:\\\\Users\\\\HP\\\\Downloads\\\\games.csv\", header=0)"
   ]
  },
  {
   "cell_type": "markdown",
   "metadata": {},
   "source": [
    "## Preparar los datos"
   ]
  },
  {
   "cell_type": "markdown",
   "metadata": {},
   "source": [
    "## Games"
   ]
  },
  {
   "cell_type": "markdown",
   "metadata": {},
   "source": [
    "###   Reemplaza los nombres de las columnas (ponlos en minúsculas)."
   ]
  },
  {
   "cell_type": "code",
   "execution_count": 3,
   "metadata": {},
   "outputs": [],
   "source": [
    "#Cambiar el el nombre de las columnas a minusculas\n",
    "df_games.columns = df_games.columns.str.lower()"
   ]
  },
  {
   "cell_type": "code",
   "execution_count": 4,
   "metadata": {},
   "outputs": [
    {
     "name": "stdout",
     "output_type": "stream",
     "text": [
      "Primera filas:\n",
      "                       name platform  year_of_release         genre  na_sales  \\\n",
      "0                Wii Sports      Wii           2006.0        Sports     41.36   \n",
      "1         Super Mario Bros.      NES           1985.0      Platform     29.08   \n",
      "2            Mario Kart Wii      Wii           2008.0        Racing     15.68   \n",
      "3         Wii Sports Resort      Wii           2009.0        Sports     15.61   \n",
      "4  Pokemon Red/Pokemon Blue       GB           1996.0  Role-Playing     11.27   \n",
      "\n",
      "   eu_sales  jp_sales  other_sales  critic_score user_score rating  \n",
      "0     28.96      3.77         8.45          76.0          8      E  \n",
      "1      3.58      6.81         0.77           NaN        NaN    NaN  \n",
      "2     12.76      3.79         3.29          82.0        8.3      E  \n",
      "3     10.93      3.28         2.95          80.0          8      E  \n",
      "4      8.89     10.22         1.00           NaN        NaN    NaN  \n",
      "\n",
      "Informacion:\n",
      "<class 'pandas.core.frame.DataFrame'>\n",
      "RangeIndex: 16715 entries, 0 to 16714\n",
      "Data columns (total 11 columns):\n",
      " #   Column           Non-Null Count  Dtype  \n",
      "---  ------           --------------  -----  \n",
      " 0   name             16713 non-null  object \n",
      " 1   platform         16715 non-null  object \n",
      " 2   year_of_release  16446 non-null  float64\n",
      " 3   genre            16713 non-null  object \n",
      " 4   na_sales         16715 non-null  float64\n",
      " 5   eu_sales         16715 non-null  float64\n",
      " 6   jp_sales         16715 non-null  float64\n",
      " 7   other_sales      16715 non-null  float64\n",
      " 8   critic_score     8137 non-null   float64\n",
      " 9   user_score       10014 non-null  object \n",
      " 10  rating           9949 non-null   object \n",
      "dtypes: float64(6), object(5)\n",
      "memory usage: 1.4+ MB\n",
      "None\n",
      "\n",
      "El total de valores ausentes es:\n",
      "name                  2\n",
      "platform              0\n",
      "year_of_release     269\n",
      "genre                 2\n",
      "na_sales              0\n",
      "eu_sales              0\n",
      "jp_sales              0\n",
      "other_sales           0\n",
      "critic_score       8578\n",
      "user_score         6701\n",
      "rating             6766\n",
      "dtype: int64\n",
      "\n",
      "El total de valores duplicados es:\n",
      "0\n",
      "None\n"
     ]
    }
   ],
   "source": [
    "# Imprime la información general/resumida sobre el DataFrame games\n",
    "def first_lookup(datos):\n",
    "    print('Primera filas:')\n",
    "    print(datos.head())\n",
    "    print()\n",
    "    print('Informacion:')\n",
    "    print(datos.info())\n",
    "    print()\n",
    "    print('El total de valores ausentes es:')\n",
    "    print(datos.isna().sum())\n",
    "    print()\n",
    "    print('El total de valores duplicados es:')\n",
    "    print(datos.duplicated().sum())\n",
    "print(first_lookup(df_games))"
   ]
  },
  {
   "cell_type": "markdown",
   "metadata": {},
   "source": [
    "### Describe las columnas en las que los tipos de datos han sido cambiados y explica por qué."
   ]
  },
  {
   "cell_type": "code",
   "execution_count": 5,
   "metadata": {},
   "outputs": [
    {
     "name": "stdout",
     "output_type": "stream",
     "text": [
      "Columna: name - valores duplicados: 5155\n",
      "Primeros 5 valores de la columna \"name\":\n",
      "0                           Wii Sports\n",
      "1                    Super Mario Bros.\n",
      "2                       Mario Kart Wii\n",
      "3                    Wii Sports Resort\n",
      "4             Pokemon Red/Pokemon Blue\n",
      "                     ...              \n",
      "16710    Samurai Warriors: Sanada Maru\n",
      "16711                 LMA Manager 2007\n",
      "16712          Haitaka no Psychedelica\n",
      "16713                 Spirits & Spells\n",
      "16714              Winning Post 8 2016\n",
      "Name: name, Length: 16715, dtype: object\n"
     ]
    }
   ],
   "source": [
    "#Analizar si existen duplicados en la columna name\n",
    "def check_duplicates_column(datos, column_name):\n",
    "    if column_name in datos.columns:\n",
    "        duplicates= datos[column_name].duplicated().sum()\n",
    "        print(f'Columna: {column_name} - valores duplicados: {duplicates}')\n",
    "        print(f'Primeros 5 valores de la columna \"{column_name}\":')\n",
    "        print(datos[column_name])\n",
    "check_duplicates_column(df_games, 'name')\n",
    "\n",
    "    "
   ]
  },
  {
   "cell_type": "markdown",
   "metadata": {},
   "source": [
    "Se tienen 5155 duplicados en la columna name pero no afectan realmente a nuestro analisis ya que se puede tener el mismo juego pero en diferente plataforma tendra otra critica subjetiva dependiendo la consula por ejemplo si hay diferencia en cuantos alas graficas o si presenta otro tipo de fallas."
   ]
  },
  {
   "cell_type": "code",
   "execution_count": 6,
   "metadata": {},
   "outputs": [
    {
     "name": "stdout",
     "output_type": "stream",
     "text": [
      "Duplicados engañosos encontrados:\n",
      "                name platform  year_of_release   genre  na_sales  eu_sales  \\\n",
      "604    Madden NFL 13      PS3           2012.0  Sports      2.11      0.22   \n",
      "659              NaN      GEN           1993.0     NaN      1.78      0.53   \n",
      "14244            NaN      GEN           1993.0     NaN      0.00      0.00   \n",
      "16230  Madden NFL 13      PS3           2012.0  Sports      0.00      0.01   \n",
      "\n",
      "       jp_sales  other_sales  critic_score user_score rating  \n",
      "604        0.00         0.23          83.0        5.5      E  \n",
      "659        0.00         0.08           NaN        NaN    NaN  \n",
      "14244      0.03         0.00           NaN        NaN    NaN  \n",
      "16230      0.00         0.00          83.0        5.5      E  \n"
     ]
    }
   ],
   "source": [
    "deceptive_duplicates = df_games[df_games.duplicated(subset=['name', 'year_of_release', 'platform'], keep=False)]\n",
    "if not deceptive_duplicates.empty:\n",
    "    print('Duplicados engañosos encontrados:')\n",
    "    print(deceptive_duplicates)\n",
    "else:\n",
    "    print('No se encontraron duplicados engañosos')"
   ]
  },
  {
   "cell_type": "markdown",
   "metadata": {},
   "source": [
    "Se observaron 2 videojuegos duplicados, pero lo interesante es que no pueden ser eliminados ya que hay diferencias en la ventas tanto en na,eu y jp repectivamente."
   ]
  },
  {
   "cell_type": "code",
   "execution_count": 7,
   "metadata": {},
   "outputs": [
    {
     "name": "stdout",
     "output_type": "stream",
     "text": [
      "Número de juegos en la plataforma 'Wii': 1320\n",
      "\n",
      "Número de juegos en la plataforma 'wii': 0\n"
     ]
    }
   ],
   "source": [
    "#Se analiza si en la columna de platform hay nombres mal escritos por ejemplo Wii\n",
    "wii_count_upper = (df_games['platform'] == 'Wii').sum()\n",
    "print(f\"Número de juegos en la plataforma 'Wii': {wii_count_upper}\")\n",
    "print()\n",
    "wii_count_lower= (df_games['platform'] == 'wii').sum()\n",
    "print(f\"Número de juegos en la plataforma 'wii': {wii_count_lower}\")"
   ]
  },
  {
   "cell_type": "code",
   "execution_count": 8,
   "metadata": {},
   "outputs": [
    {
     "name": "stderr",
     "output_type": "stream",
     "text": [
      "C:\\Users\\HP\\AppData\\Local\\Temp\\ipykernel_13348\\1480070705.py:2: FutureWarning: A value is trying to be set on a copy of a DataFrame or Series through chained assignment using an inplace method.\n",
      "The behavior will change in pandas 3.0. This inplace method will never work because the intermediate object on which we are setting values always behaves as a copy.\n",
      "\n",
      "For example, when doing 'df[col].method(value, inplace=True)', try using 'df.method({col: value}, inplace=True)' or df[col] = df[col].method(value) instead, to perform the operation inplace on the original object.\n",
      "\n",
      "\n",
      "  df_games['name'].fillna(0, inplace=True)\n"
     ]
    }
   ],
   "source": [
    "# La columna name rellenar con 0 los valores ausentes\n",
    "df_games['name'].fillna(0, inplace=True)"
   ]
  },
  {
   "cell_type": "code",
   "execution_count": 9,
   "metadata": {},
   "outputs": [
    {
     "name": "stdout",
     "output_type": "stream",
     "text": [
      "0              Sports\n",
      "1            Platform\n",
      "2              Racing\n",
      "3              Sports\n",
      "4        Role-Playing\n",
      "             ...     \n",
      "16710          Action\n",
      "16711          Sports\n",
      "16712       Adventure\n",
      "16713        Platform\n",
      "16714      Simulation\n",
      "Name: genre, Length: 16715, dtype: object\n"
     ]
    },
    {
     "name": "stderr",
     "output_type": "stream",
     "text": [
      "C:\\Users\\HP\\AppData\\Local\\Temp\\ipykernel_13348\\2880353641.py:2: FutureWarning: A value is trying to be set on a copy of a DataFrame or Series through chained assignment using an inplace method.\n",
      "The behavior will change in pandas 3.0. This inplace method will never work because the intermediate object on which we are setting values always behaves as a copy.\n",
      "\n",
      "For example, when doing 'df[col].method(value, inplace=True)', try using 'df.method({col: value}, inplace=True)' or df[col] = df[col].method(value) instead, to perform the operation inplace on the original object.\n",
      "\n",
      "\n",
      "  df_games['genre'].fillna(0, inplace=True)\n"
     ]
    }
   ],
   "source": [
    "# La columna genre rellenar con 0 los valores ausentes\n",
    "df_games['genre'].fillna(0, inplace=True)\n",
    "print(df_games['genre'])"
   ]
  },
  {
   "cell_type": "code",
   "execution_count": 10,
   "metadata": {},
   "outputs": [
    {
     "name": "stdout",
     "output_type": "stream",
     "text": [
      "int32\n"
     ]
    },
    {
     "name": "stderr",
     "output_type": "stream",
     "text": [
      "C:\\Users\\HP\\AppData\\Local\\Temp\\ipykernel_13348\\2570756903.py:2: FutureWarning: A value is trying to be set on a copy of a DataFrame or Series through chained assignment using an inplace method.\n",
      "The behavior will change in pandas 3.0. This inplace method will never work because the intermediate object on which we are setting values always behaves as a copy.\n",
      "\n",
      "For example, when doing 'df[col].method(value, inplace=True)', try using 'df.method({col: value}, inplace=True)' or df[col] = df[col].method(value) instead, to perform the operation inplace on the original object.\n",
      "\n",
      "\n",
      "  df_games['year_of_release'].fillna(0, inplace=True)\n"
     ]
    }
   ],
   "source": [
    "# La columna year_of_release rellenar con 0 los valores ausentes y convertir a numeros enteros\n",
    "df_games['year_of_release'].fillna(0, inplace=True)\n",
    "df_games['year_of_release'] = df_games['year_of_release'].astype(int)\n",
    "print(df_games['year_of_release'].dtype)"
   ]
  },
  {
   "cell_type": "code",
   "execution_count": 11,
   "metadata": {},
   "outputs": [
    {
     "data": {
      "image/png": "[encoded data removed]",
      "text/plain": [
       "<Figure size 1000x500 with 1 Axes>"
      ]
     },
     "metadata": {},
     "output_type": "display_data"
    }
   ],
   "source": [
    "plt.figure(figsize=(10, 5))\n",
    "plt.boxplot(df_games['critic_score'].dropna())\n",
    "plt.title('Boxplot de Critic score')\n",
    "plt.ylabel('Critic Score')\n",
    "plt.show()"
   ]
  },
  {
   "cell_type": "code",
   "execution_count": 12,
   "metadata": {},
   "outputs": [
    {
     "name": "stdout",
     "output_type": "stream",
     "text": [
      "Numero de valores de TBD en user_score: 2424\n"
     ]
    }
   ],
   "source": [
    "tbd_count = df_games['user_score'].value_counts().get('tbd', 0)\n",
    "print('Numero de valores de TBD en user_score:', tbd_count)"
   ]
  },
  {
   "cell_type": "markdown",
   "metadata": {},
   "source": [
    "Tiene un numero considerable de TBD pero la columna presenta un gran numero de valores ausentes y es preferible dejar asi para que no afecte nuestro analisis"
   ]
  },
  {
   "cell_type": "markdown",
   "metadata": {},
   "source": [
    "Tanto la columna user_score tiene 6701 valores ausentes (aprox 40% ) y critic_score: 8578 valores ausentes (apro el 50 %) al tener un numero significativo rellenarlo puede afectar nuestro analisis"
   ]
  },
  {
   "cell_type": "code",
   "execution_count": 13,
   "metadata": {},
   "outputs": [
    {
     "name": "stdout",
     "output_type": "stream",
     "text": [
      "Numero de valores ausentes en la columna rating despues del cambio: 0\n"
     ]
    },
    {
     "name": "stderr",
     "output_type": "stream",
     "text": [
      "C:\\Users\\HP\\AppData\\Local\\Temp\\ipykernel_13348\\335276793.py:1: FutureWarning: A value is trying to be set on a copy of a DataFrame or Series through chained assignment using an inplace method.\n",
      "The behavior will change in pandas 3.0. This inplace method will never work because the intermediate object on which we are setting values always behaves as a copy.\n",
      "\n",
      "For example, when doing 'df[col].method(value, inplace=True)', try using 'df.method({col: value}, inplace=True)' or df[col] = df[col].method(value) instead, to perform the operation inplace on the original object.\n",
      "\n",
      "\n",
      "  df_games['rating'].fillna('unknown', inplace=True)\n"
     ]
    }
   ],
   "source": [
    "df_games['rating'].fillna('unknown', inplace=True)\n",
    "missing_rating = df_games['rating'].isna().sum()\n",
    "print('Numero de valores ausentes en la columna rating despues del cambio:', missing_rating)"
   ]
  },
  {
   "cell_type": "markdown",
   "metadata": {},
   "source": [
    "¿Por qué crees que los valores están ausentes? Brinda explicaciones posibles. \n",
    "Columna name: pudo haber un error en la recopilacion de los datos\n",
    "columna year of release: algunos juegos pueden ser antiguos y no se sepa la fecha de lanzamiento y/o error en recopilacion de datos\n",
    "columna genre: algunos juegos puede que no se sepa exactamente a que genero pertenezca\n",
    "columna critic score: los juegos no tienen critica por distintas razones falta de interes, no son conocidos y juegos antiguos no se tiene crticas registradas\n",
    "columna user score puede que no existan opiniones de jugadores\n",
    "columna rating : puede que algunos juegos no tengan una clasificacion oficial o no se haya un recopilacion de los datos"
   ]
  },
  {
   "cell_type": "markdown",
   "metadata": {},
   "source": [
    "### Calcula las ventas totales (la suma de las ventas en todas las regiones) para cada juego y coloca estos valores en una columna separada."
   ]
  },
  {
   "cell_type": "code",
   "execution_count": 14,
   "metadata": {},
   "outputs": [
    {
     "name": "stdout",
     "output_type": "stream",
     "text": [
      "                       name  total_sales\n",
      "0                Wii Sports        82.54\n",
      "1         Super Mario Bros.        40.24\n",
      "2            Mario Kart Wii        35.52\n",
      "3         Wii Sports Resort        32.77\n",
      "4  Pokemon Red/Pokemon Blue        31.38\n"
     ]
    }
   ],
   "source": [
    "df_games['total_sales'] = df_games[['na_sales', 'eu_sales', 'jp_sales', 'other_sales']].sum(axis=1)\n",
    "print(df_games[['name', 'total_sales']].head())"
   ]
  },
  {
   "cell_type": "code",
   "execution_count": 15,
   "metadata": {},
   "outputs": [
    {
     "name": "stdout",
     "output_type": "stream",
     "text": [
      "                       name platform  year_of_release         genre  na_sales  \\\n",
      "0                Wii Sports      Wii             2006        Sports     41.36   \n",
      "1         Super Mario Bros.      NES             1985      Platform     29.08   \n",
      "2            Mario Kart Wii      Wii             2008        Racing     15.68   \n",
      "3         Wii Sports Resort      Wii             2009        Sports     15.61   \n",
      "4  Pokemon Red/Pokemon Blue       GB             1996  Role-Playing     11.27   \n",
      "\n",
      "   eu_sales  jp_sales  other_sales  critic_score user_score   rating  \\\n",
      "0     28.96      3.77         8.45          76.0          8        E   \n",
      "1      3.58      6.81         0.77           NaN        NaN  unknown   \n",
      "2     12.76      3.79         3.29          82.0        8.3        E   \n",
      "3     10.93      3.28         2.95          80.0          8        E   \n",
      "4      8.89     10.22         1.00           NaN        NaN  unknown   \n",
      "\n",
      "   total_sales  \n",
      "0        82.54  \n",
      "1        40.24  \n",
      "2        35.52  \n",
      "3        32.77  \n",
      "4        31.38  \n"
     ]
    }
   ],
   "source": [
    "print(df_games.head())"
   ]
  },
  {
   "cell_type": "code",
   "execution_count": 16,
   "metadata": {},
   "outputs": [
    {
     "name": "stdout",
     "output_type": "stream",
     "text": [
      "Valores nulos antes de la imputacion: 9125\n",
      "Media antes de la imputacion: 7.125046113306982\n"
     ]
    }
   ],
   "source": [
    "#Convertir user_score a numerico\n",
    "df_games['user_score'] = pd.to_numeric(df_games['user_score'], errors='coerce')\n",
    "# Contar valores nulos antes de la imputacion\n",
    "missing_before = df_games['user_score'].isna().sum()\n",
    "# Calcular la media antes de la imputacion\n",
    "mean_before = df_games['user_score'].mean()\n",
    "print('Valores nulos antes de la imputacion:', missing_before)\n",
    "print('Media antes de la imputacion:', mean_before)"
   ]
  },
  {
   "cell_type": "code",
   "execution_count": 17,
   "metadata": {},
   "outputs": [
    {
     "name": "stdout",
     "output_type": "stream",
     "text": [
      "Numero de valores ausentes en user_score despues de la imputacion: 2\n"
     ]
    }
   ],
   "source": [
    "# Calcular la media de user_score por genre\n",
    "mean_user_score = df_games.groupby('genre')['user_score'].mean()\n",
    "# Imputar los valores faltantes en user_score con la media por genero\n",
    "for genre, mean_score in mean_user_score.items():\n",
    "    df_games.loc[(df_games['user_score'].isnull()) & (df_games['genre'] == genre), 'user_score'] = mean_score\n",
    "# Comprobar si hay valores nulos restantes\n",
    "remaining_missing = df_games['user_score'].isna().sum()\n",
    "print('Numero de valores ausentes en user_score despues de la imputacion:', remaining_missing)"
   ]
  },
  {
   "cell_type": "code",
   "execution_count": 18,
   "metadata": {},
   "outputs": [
    {
     "name": "stdout",
     "output_type": "stream",
     "text": [
      "Valores nulos despues de la imputacion: 2\n",
      "Media despues de la imputacion: 7.114992842945292\n"
     ]
    }
   ],
   "source": [
    "missing_after = df_games['user_score'].isna().sum()\n",
    "# Calcular la media despues de la imputacion\n",
    "mean_after = df_games['user_score'].mean()\n",
    "print('Valores nulos despues de la imputacion:', missing_after)\n",
    "print('Media despues de la imputacion:', mean_after)"
   ]
  },
  {
   "cell_type": "code",
   "execution_count": 19,
   "metadata": {},
   "outputs": [
    {
     "name": "stdout",
     "output_type": "stream",
     "text": [
      "Numero de valores ausentes en user_score despues de rellenar con 0: 0\n",
      "La media de user_score después de imputar con 0 es: 7.114141512661961\n"
     ]
    },
    {
     "name": "stderr",
     "output_type": "stream",
     "text": [
      "C:\\Users\\HP\\AppData\\Local\\Temp\\ipykernel_13348\\942669072.py:2: FutureWarning: A value is trying to be set on a copy of a DataFrame or Series through chained assignment using an inplace method.\n",
      "The behavior will change in pandas 3.0. This inplace method will never work because the intermediate object on which we are setting values always behaves as a copy.\n",
      "\n",
      "For example, when doing 'df[col].method(value, inplace=True)', try using 'df.method({col: value}, inplace=True)' or df[col] = df[col].method(value) instead, to perform the operation inplace on the original object.\n",
      "\n",
      "\n",
      "  df_games['user_score'].fillna(0, inplace=True)\n"
     ]
    }
   ],
   "source": [
    "# Imputar los valores nulos restantes en user_score con 0\n",
    "df_games['user_score'].fillna(0, inplace=True)\n",
    "#Comprobar si hay valores nulos restantes\n",
    "remaining_missing = df_games['user_score'].isna().sum()\n",
    "print('Numero de valores ausentes en user_score despues de rellenar con 0:', remaining_missing)\n",
    "# Calcular la nueva media de user_score despues de la imputación\n",
    "mean_user_score_final = df_games['user_score'].mean()\n",
    "print('La media de user_score después de imputar con 0 es:', mean_user_score_final)"
   ]
  },
  {
   "cell_type": "markdown",
   "metadata": {},
   "source": [
    "Al realizar la imputacion multiple de la columna user_score con la columna genre coincio en cuanto a medias no afecto son similares antes y despues de la imputacion asi que en lugar de dejar la mitad en NaN para un mejor analisis se realizo la imputacion "
   ]
  },
  {
   "cell_type": "code",
   "execution_count": 20,
   "metadata": {},
   "outputs": [
    {
     "name": "stdout",
     "output_type": "stream",
     "text": [
      "La media de critic_score es: 68.96767850559173\n"
     ]
    }
   ],
   "source": [
    "# Asegurarnos de que critic_score sea numerico\n",
    "df_games['critic_score'] = pd.to_numeric(df_games['critic_score'], errors='coerce')\n",
    "# Calcular la media de critic_score\n",
    "mean_critic_score = df_games['critic_score'].mean()\n",
    "print('La media de critic_score es:', mean_critic_score)"
   ]
  },
  {
   "cell_type": "code",
   "execution_count": 21,
   "metadata": {},
   "outputs": [
    {
     "name": "stdout",
     "output_type": "stream",
     "text": [
      "Numero de valores ausentes en critic_score despues de la imputacion: 2\n",
      "La media de critic_score después de la imputación es: 68.75978961660628\n"
     ]
    }
   ],
   "source": [
    "# Calcular la media de critic_score por género\n",
    "mean_critic_scores = df_games.groupby('genre')['critic_score'].mean()\n",
    "for genre, mean_critic in mean_critic_scores.items():\n",
    "    df_games.loc[(df_games['critic_score'].isnull()) & (df_games['genre'] == genre), 'critic_score'] = mean_critic\n",
    "#Comprobar si hay valores nulos restantes\n",
    "remaining_missing = df_games['critic_score'].isna().sum()\n",
    "print('Numero de valores ausentes en critic_score despues de la imputacion:', remaining_missing)\n",
    "# Calcular la nueva media de critic_score después de la imputacion\n",
    "mean_critic_score_final = df_games['critic_score'].mean()\n",
    "print('La media de critic_score después de la imputación es:', mean_critic_score_final)\n",
    "\n"
   ]
  },
  {
   "cell_type": "code",
   "execution_count": 22,
   "metadata": {},
   "outputs": [
    {
     "name": "stdout",
     "output_type": "stream",
     "text": [
      "Numero de valores ausentes en user_score despues de rellenar con 0: 0\n",
      "La media de user_score después de imputar con 0 es: 68.75978961660628\n"
     ]
    },
    {
     "name": "stderr",
     "output_type": "stream",
     "text": [
      "C:\\Users\\HP\\AppData\\Local\\Temp\\ipykernel_13348\\243442289.py:2: FutureWarning: A value is trying to be set on a copy of a DataFrame or Series through chained assignment using an inplace method.\n",
      "The behavior will change in pandas 3.0. This inplace method will never work because the intermediate object on which we are setting values always behaves as a copy.\n",
      "\n",
      "For example, when doing 'df[col].method(value, inplace=True)', try using 'df.method({col: value}, inplace=True)' or df[col] = df[col].method(value) instead, to perform the operation inplace on the original object.\n",
      "\n",
      "\n",
      "  df_games['critic_score'].fillna(0, inplace=True)\n"
     ]
    }
   ],
   "source": [
    "# Imputar los valores nulos restantes en critic_score con 0\n",
    "df_games['critic_score'].fillna(0, inplace=True)\n",
    "#Comprobar si hay valores nulos restantes\n",
    "remaining_critic_missing = df_games['critic_score'].isna().sum()\n",
    "print('Numero de valores ausentes en user_score despues de rellenar con 0:', remaining_critic_missing)\n",
    "# Calcular la nueva media de critic_score después de la imputacion\n",
    "mean_citic_score_final = df_games['critic_score'].mean()\n",
    "print('La media de user_score después de imputar con 0 es:', mean_critic_score_final)"
   ]
  },
  {
   "cell_type": "markdown",
   "metadata": {},
   "source": [
    "Se hizo la comparacion de la media de critic_score con la media despues la imputacion con la columna genre son practicamente similares solo varian por decimas con esto ayuda a analisis que dejarlos como valores ausentes asi ya presentan un tratamiento adecuado"
   ]
  },
  {
   "cell_type": "code",
   "execution_count": 23,
   "metadata": {},
   "outputs": [
    {
     "name": "stdout",
     "output_type": "stream",
     "text": [
      "Primera filas:\n",
      "                       name platform  year_of_release         genre  na_sales  \\\n",
      "0                Wii Sports      Wii             2006        Sports     41.36   \n",
      "1         Super Mario Bros.      NES             1985      Platform     29.08   \n",
      "2            Mario Kart Wii      Wii             2008        Racing     15.68   \n",
      "3         Wii Sports Resort      Wii             2009        Sports     15.61   \n",
      "4  Pokemon Red/Pokemon Blue       GB             1996  Role-Playing     11.27   \n",
      "\n",
      "   eu_sales  jp_sales  other_sales  critic_score  user_score   rating  \\\n",
      "0     28.96      3.77         8.45     76.000000    8.000000        E   \n",
      "1      3.58      6.81         0.77     68.058350    7.301402  unknown   \n",
      "2     12.76      3.79         3.29     82.000000    8.300000        E   \n",
      "3     10.93      3.28         2.95     80.000000    8.000000        E   \n",
      "4      8.89     10.22         1.00     72.652646    7.619515  unknown   \n",
      "\n",
      "   total_sales  \n",
      "0        82.54  \n",
      "1        40.24  \n",
      "2        35.52  \n",
      "3        32.77  \n",
      "4        31.38  \n",
      "\n",
      "Informacion:\n",
      "<class 'pandas.core.frame.DataFrame'>\n",
      "RangeIndex: 16715 entries, 0 to 16714\n",
      "Data columns (total 12 columns):\n",
      " #   Column           Non-Null Count  Dtype  \n",
      "---  ------           --------------  -----  \n",
      " 0   name             16715 non-null  object \n",
      " 1   platform         16715 non-null  object \n",
      " 2   year_of_release  16715 non-null  int32  \n",
      " 3   genre            16715 non-null  object \n",
      " 4   na_sales         16715 non-null  float64\n",
      " 5   eu_sales         16715 non-null  float64\n",
      " 6   jp_sales         16715 non-null  float64\n",
      " 7   other_sales      16715 non-null  float64\n",
      " 8   critic_score     16715 non-null  float64\n",
      " 9   user_score       16715 non-null  float64\n",
      " 10  rating           16715 non-null  object \n",
      " 11  total_sales      16715 non-null  float64\n",
      "dtypes: float64(7), int32(1), object(4)\n",
      "memory usage: 1.5+ MB\n",
      "None\n",
      "\n",
      "El total de valores ausentes es:\n",
      "name               0\n",
      "platform           0\n",
      "year_of_release    0\n",
      "genre              0\n",
      "na_sales           0\n",
      "eu_sales           0\n",
      "jp_sales           0\n",
      "other_sales        0\n",
      "critic_score       0\n",
      "user_score         0\n",
      "rating             0\n",
      "total_sales        0\n",
      "dtype: int64\n",
      "\n",
      "El total de valores duplicados es:\n",
      "0\n",
      "None\n"
     ]
    }
   ],
   "source": [
    "# Imprime la información general/resumida sobre el DataFrame games\n",
    "def second_lookup(datos):\n",
    "    print('Primera filas:')\n",
    "    print(datos.head())\n",
    "    print()\n",
    "    print('Informacion:')\n",
    "    print(datos.info())\n",
    "    print()\n",
    "    print('El total de valores ausentes es:')\n",
    "    print(datos.isna().sum())\n",
    "    print()\n",
    "    print('El total de valores duplicados es:')\n",
    "    print(datos.duplicated().sum())\n",
    "print(second_lookup(df_games))"
   ]
  },
  {
   "cell_type": "markdown",
   "metadata": {},
   "source": [
    "## Analiza los datos"
   ]
  },
  {
   "cell_type": "markdown",
   "metadata": {},
   "source": [
    "### Mira cuántos juegos fueron lanzados en diferentes años. ¿Son significativos los datos de cada período?"
   ]
  },
  {
   "cell_type": "code",
   "execution_count": 24,
   "metadata": {},
   "outputs": [
    {
     "name": "stdout",
     "output_type": "stream",
     "text": [
      "platform\n",
      "2600     133\n",
      "3DO        3\n",
      "3DS      520\n",
      "DC        52\n",
      "DS      2151\n",
      "GB        98\n",
      "GBA      822\n",
      "GC       556\n",
      "GEN       29\n",
      "GG         1\n",
      "N64      319\n",
      "NES       98\n",
      "NG        12\n",
      "PC       974\n",
      "PCFX       1\n",
      "PS      1197\n",
      "PS2     2161\n",
      "PS3     1331\n",
      "PS4      392\n",
      "PSP     1209\n",
      "PSV      430\n",
      "SAT      173\n",
      "SCD        6\n",
      "SNES     239\n",
      "TG16       2\n",
      "WS         6\n",
      "Wii     1320\n",
      "WiiU     147\n",
      "X360    1262\n",
      "XB       824\n",
      "XOne     247\n",
      "Name: count, dtype: int64\n"
     ]
    }
   ],
   "source": [
    "games_per_platform = df_games['platform'].value_counts().sort_index()\n",
    "print(games_per_platform )"
   ]
  },
  {
   "cell_type": "code",
   "execution_count": 25,
   "metadata": {},
   "outputs": [
    {
     "name": "stdout",
     "output_type": "stream",
     "text": [
      "year_of_release\n",
      "0        269\n",
      "1980       9\n",
      "1981      46\n",
      "1982      36\n",
      "1983      17\n",
      "1984      14\n",
      "1985      14\n",
      "1986      21\n",
      "1987      16\n",
      "1988      15\n",
      "1989      17\n",
      "1990      16\n",
      "1991      41\n",
      "1992      43\n",
      "1993      62\n",
      "1994     121\n",
      "1995     219\n",
      "1996     263\n",
      "1997     289\n",
      "1998     379\n",
      "1999     338\n",
      "2000     350\n",
      "2001     482\n",
      "2002     829\n",
      "2003     775\n",
      "2004     762\n",
      "2005     939\n",
      "2006    1006\n",
      "2007    1197\n",
      "2008    1427\n",
      "2009    1426\n",
      "2010    1255\n",
      "2011    1136\n",
      "2012     653\n",
      "2013     544\n",
      "2014     581\n",
      "2015     606\n",
      "2016     502\n",
      "Name: count, dtype: int64\n"
     ]
    }
   ],
   "source": [
    "games_per_year= df_games['year_of_release'].value_counts().sort_index()\n",
    "print(games_per_year)"
   ]
  },
  {
   "cell_type": "code",
   "execution_count": 26,
   "metadata": {
    "scrolled": true
   },
   "outputs": [
    {
     "data": {
      "image/png": "[encoded data removed]",
      "text/plain": [
       "<Figure size 1200x600 with 1 Axes>"
      ]
     },
     "metadata": {},
     "output_type": "display_data"
    }
   ],
   "source": [
    "plt.figure(figsize=(12, 6))\n",
    "games_per_year.plot(kind='bar', x='year', y= 'Number of games')\n",
    "plt.title('Number of games released per year')\n",
    "plt.xlabel('year')\n",
    "plt.ylabel('Number of games')\n",
    "plt.show()"
   ]
  },
  {
   "cell_type": "markdown",
   "metadata": {},
   "source": [
    "Mediante el grafico de barras se puede observar que apartir del año 2001 se ve crecimiento en el numero de videojuegos lazandos cada año hasta llegar al años 2010, apartir del año del año 2011 hasta 2016 presenta picos ya que una de las razones puede ser que los consuidores ya juegan juegos en linea fue disminuyendo con el tiempo ya comprar videojuegos o solo los consumidores mas fieles qie prefieren seguir utilizando este tipo de videojuegos."
   ]
  },
  {
   "cell_type": "markdown",
   "metadata": {},
   "source": [
    "### Observa cómo varían las ventas de una plataforma a otra. Elige las plataformas con las mayores ventas totales y construye una distribución basada en los datos de cada año. Busca las plataformas que solían ser populares pero que ahora no tienen ventas. ¿Cuánto tardan generalmente las nuevas plataformas en aparecer y las antiguas en desaparecer?"
   ]
  },
  {
   "cell_type": "code",
   "execution_count": 27,
   "metadata": {},
   "outputs": [],
   "source": [
    "#Filtrar datos solo de 2011-2016\n",
    "df_games_filtered= df_games[(df_games['year_of_release']>= 2011) & (df_games['year_of_release'] <=2016)]"
   ]
  },
  {
   "cell_type": "code",
   "execution_count": 28,
   "metadata": {},
   "outputs": [
    {
     "name": "stdout",
     "output_type": "stream",
     "text": [
      "Ventas totales por plataforma:\n",
      "platform\n",
      "PS3     445.57\n",
      "X360    380.38\n",
      "PS4     314.14\n",
      "3DS     257.81\n",
      "XOne    159.32\n",
      "PC       97.68\n",
      "Wii      95.02\n",
      "WiiU     82.19\n",
      "PSV      53.81\n",
      "DS       38.73\n",
      "PSP      29.01\n",
      "PS2       0.45\n",
      "Name: total_sales, dtype: float64\n",
      "\n",
      "Ventas anuales por plataforma popular:\n",
      "platform           3DS     DS     PC     PS3     PS4    PSV    Wii   WiiU  \\\n",
      "year_of_release                                                             \n",
      "2011             63.20  26.18  35.03  156.78     NaN   4.63  59.65    NaN   \n",
      "2012             51.36  11.01  23.22  107.36     NaN  16.19  21.71  17.56   \n",
      "2013             56.57   1.54  12.38  113.25   25.99  10.59   8.59  21.65   \n",
      "2014             43.76    NaN  13.28   47.76  100.00  11.90   3.75  22.03   \n",
      "2015             27.78    NaN   8.52   16.82  118.90   6.25   1.14  16.35   \n",
      "2016             15.14    NaN   5.25    3.60   69.25   4.25   0.18   4.60   \n",
      "\n",
      "platform           X360   XOne  \n",
      "year_of_release                 \n",
      "2011             143.84    NaN  \n",
      "2012              99.74    NaN  \n",
      "2013              88.58  18.96  \n",
      "2014              34.74  54.07  \n",
      "2015              11.96  60.14  \n",
      "2016               1.52  26.15  \n"
     ]
    }
   ],
   "source": [
    "#Plataformas con mayores ventas totales\n",
    "platform_sales= df_games_filtered.groupby('platform')['total_sales'].sum().sort_values(ascending=False)#Agrupar por plataforma y sumar las ventas totales\n",
    "popular_platform = platform_sales.head(10).index.tolist()#Seleccionar 10 plataformas mas poulares\n",
    "sales_year_popular_platform = df_games_filtered[df_games_filtered['platform'].isin(popular_platform)].groupby(['year_of_release', 'platform'])['total_sales'].sum().unstack()\n",
    "\n",
    "print(\"Ventas totales por plataforma:\")\n",
    "print(platform_sales)\n",
    "\n",
    "print(\"\\nVentas anuales por plataforma popular:\")\n",
    "print(sales_year_popular_platform)"
   ]
  },
  {
   "cell_type": "code",
   "execution_count": 29,
   "metadata": {},
   "outputs": [
    {
     "data": {
      "image/png": "[encoded data removed]",
      "text/plain": [
       "<Figure size 1200x600 with 1 Axes>"
      ]
     },
     "metadata": {},
     "output_type": "display_data"
    }
   ],
   "source": [
    "sales_year_popular_platform.plot(kind= 'bar',stacked =True, xlabel = 'year of release', ylabel= 'total_sales', figsize=(12, 6))\n",
    "plt.title('Total Sales by Platform (2011-2016)')\n",
    "plt.xlabel('Year of release')\n",
    "plt.ylabel('Total sales')\n",
    "plt.legend(title='Platform')\n",
    "plt.show()"
   ]
  },
  {
   "cell_type": "markdown",
   "metadata": {},
   "source": [
    "El grafico nos muestra las ventales totales vs el año de lanzamiento (5 años) que platafomas tienes mayores ventas, cuales fueron diminuyendo,desaparenciendo practicamente, cuales fueron apareciendo"
   ]
  },
  {
   "cell_type": "code",
   "execution_count": 30,
   "metadata": {},
   "outputs": [
    {
     "name": "stdout",
     "output_type": "stream",
     "text": [
      "Popular platforms without recent sales: []\n"
     ]
    }
   ],
   "source": [
    "#Filtrar plataformas populares sin ventas recientes\n",
    "latest_year_with_sales = sales_year_popular_platform.loc[2016]\n",
    "popular_platforms_without_sales = latest_year_with_sales[latest_year_with_sales == 0].index.to_list()\n",
    "print(\"Popular platforms without recent sales:\", popular_platforms_without_sales)"
   ]
  },
  {
   "cell_type": "markdown",
   "metadata": {},
   "source": [
    "Nos indica que las plataformas populares tuvieron al menos alguna venta, dentro de este lapso de tiempo establecido de 2011 a 2016 "
   ]
  },
  {
   "cell_type": "code",
   "execution_count": 31,
   "metadata": {},
   "outputs": [
    {
     "name": "stdout",
     "output_type": "stream",
     "text": [
      "Tiempo promedio entre el lanzamiento de plataformas nuevas: 0.18181818181818182\n"
     ]
    }
   ],
   "source": [
    "#Hallar los años de lanzamiento de cada plataforma\n",
    "platform_release_years = df_games_filtered.groupby('platform')['year_of_release'].min().sort_values().reset_index()\n",
    "platform_release_years['years_since_last'] = platform_release_years['year_of_release'].diff() #calcular el tiempo entre lanzamiento de consolas\n",
    "df_games_filtered = df_games_filtered.merge(platform_release_years[['platform', 'years_since_last']], on='platform', how='left')\n",
    "avg_time_releases= platform_release_years['years_since_last'].mean()\n",
    "print('Tiempo promedio entre el lanzamiento de plataformas nuevas:', avg_time_releases)\n"
   ]
  },
  {
   "cell_type": "markdown",
   "metadata": {},
   "source": [
    " El tiempo promedio entre el lanzamiento de nuevas plataformas aproximadamente 2 meses esto se debe a muchas razones que el tiempo es relativamente poco debido a la competencia en el mercado con las distitnas plataformas, el avance de la tecnologia en el desarrollo de videojuegos"
   ]
  },
  {
   "cell_type": "code",
   "execution_count": 32,
   "metadata": {},
   "outputs": [
    {
     "name": "stdout",
     "output_type": "stream",
     "text": [
      "Tiempo promedio que tardan en desaparecer las plataformas: 4.422178020885132\n"
     ]
    }
   ],
   "source": [
    "#Añadir el año de lanzamiento de cada plataforma en el DataFrame\n",
    "df_games_filtered['year_of_release_platform'] = df_games_filtered.groupby('platform')['year_of_release'].transform('min')\n",
    "df_games_filtered['year_of_last_sale_platform'] = df_games_filtered.groupby('platform')['year_of_release'].transform('max')#Agregar el ultimo año de venta  de cada plataforma\n",
    "df_games_filtered['active_years_platform'] = df_games_filtered['year_of_last_sale_platform'] - df_games_filtered['year_of_release_platform']\n",
    "avg_disappearance_time = df_games_filtered['active_years_platform'].mean()\n",
    "print('Tiempo promedio que tardan en desaparecer las plataformas:', avg_disappearance_time)"
   ]
  },
  {
   "cell_type": "markdown",
   "metadata": {},
   "source": [
    "Aproximadamente 4 años con algunos meses tardan en desaparecer ya que despues de estos sus ventas bajaron considerablemente o no tienen ventas y ya no tiene relevancia en el mercado esta plataforma pero es un tiempo estimado puede varias dependiendo la plataforma y diversos factores"
   ]
  },
  {
   "cell_type": "markdown",
   "metadata": {},
   "source": [
    "¿Qué plataformas son líderes en ventas? ¿Cuáles crecen y cuáles se reducen? Elige varias plataformas potencialmente rentables."
   ]
  },
  {
   "cell_type": "code",
   "execution_count": 33,
   "metadata": {},
   "outputs": [
    {
     "name": "stdout",
     "output_type": "stream",
     "text": [
      "Plataformas populares:\n",
      " platform\n",
      "PS3     445.57\n",
      "X360    380.38\n",
      "PS4     314.14\n",
      "3DS     257.81\n",
      "XOne    159.32\n",
      "Name: total_sales, dtype: float64\n"
     ]
    }
   ],
   "source": [
    "platform_sales = df_games_filtered.groupby('platform')['total_sales'].sum().sort_values(ascending=False)\n",
    "top_platform = platform_sales.head(5)\n",
    "print('Plataformas populares:\\n', top_platform)"
   ]
  },
  {
   "cell_type": "code",
   "execution_count": 34,
   "metadata": {},
   "outputs": [
    {
     "name": "stdout",
     "output_type": "stream",
     "text": [
      "   year_of_release platform  total_sales\n",
      "0             2011      3DS        63.20\n",
      "1             2011       DS        26.18\n",
      "2             2011       PC        35.03\n",
      "3             2011      PS3       156.78\n",
      "4             2011      PSV         4.63\n"
     ]
    }
   ],
   "source": [
    "#Calcular las ventas populares por año\n",
    "sales_year_popular_platform = (\n",
    "    df_games_filtered[df_games_filtered['platform'].isin(popular_platform)]\n",
    "    .groupby(['year_of_release', 'platform'])['total_sales']\n",
    "    .sum()\n",
    "    .reset_index()\n",
    ")\n",
    "print(sales_year_popular_platform.head())\n"
   ]
  },
  {
   "cell_type": "code",
   "execution_count": 35,
   "metadata": {},
   "outputs": [
    {
     "name": "stdout",
     "output_type": "stream",
     "text": [
      "   platform  year_of_release  total_sales  sales_growth growth_trend\n",
      "0       3DS             2011        63.20           NaN      Estable\n",
      "7       3DS             2012        51.36        -11.84  Decreciente\n",
      "15      3DS             2013        56.57          5.21    Creciente\n",
      "25      3DS             2014        43.76        -12.81  Decreciente\n",
      "34      3DS             2015        27.78        -15.98  Decreciente\n",
      "43      3DS             2016        15.14        -12.64  Decreciente\n",
      "1        DS             2011        26.18           NaN      Estable\n",
      "8        DS             2012        11.01        -15.17  Decreciente\n",
      "16       DS             2013         1.54         -9.47  Decreciente\n",
      "2        PC             2011        35.03           NaN      Estable\n",
      "9        PC             2012        23.22        -11.81  Decreciente\n",
      "17       PC             2013        12.38        -10.84  Decreciente\n",
      "26       PC             2014        13.28          0.90    Creciente\n",
      "35       PC             2015         8.52         -4.76  Decreciente\n",
      "44       PC             2016         5.25         -3.27  Decreciente\n",
      "3       PS3             2011       156.78           NaN      Estable\n",
      "10      PS3             2012       107.36        -49.42  Decreciente\n",
      "18      PS3             2013       113.25          5.89    Creciente\n",
      "27      PS3             2014        47.76        -65.49  Decreciente\n",
      "36      PS3             2015        16.82        -30.94  Decreciente\n",
      "45      PS3             2016         3.60        -13.22  Decreciente\n",
      "19      PS4             2013        25.99           NaN      Estable\n",
      "28      PS4             2014       100.00         74.01    Creciente\n",
      "37      PS4             2015       118.90         18.90    Creciente\n",
      "46      PS4             2016        69.25        -49.65  Decreciente\n",
      "4       PSV             2011         4.63           NaN      Estable\n",
      "11      PSV             2012        16.19         11.56    Creciente\n",
      "20      PSV             2013        10.59         -5.60  Decreciente\n",
      "29      PSV             2014        11.90          1.31    Creciente\n",
      "38      PSV             2015         6.25         -5.65  Decreciente\n",
      "47      PSV             2016         4.25         -2.00  Decreciente\n",
      "5       Wii             2011        59.65           NaN      Estable\n",
      "12      Wii             2012        21.71        -37.94  Decreciente\n",
      "21      Wii             2013         8.59        -13.12  Decreciente\n",
      "30      Wii             2014         3.75         -4.84  Decreciente\n",
      "39      Wii             2015         1.14         -2.61  Decreciente\n",
      "48      Wii             2016         0.18         -0.96  Decreciente\n",
      "13     WiiU             2012        17.56           NaN      Estable\n",
      "22     WiiU             2013        21.65          4.09    Creciente\n",
      "31     WiiU             2014        22.03          0.38    Creciente\n",
      "40     WiiU             2015        16.35         -5.68  Decreciente\n",
      "49     WiiU             2016         4.60        -11.75  Decreciente\n",
      "6      X360             2011       143.84           NaN      Estable\n",
      "14     X360             2012        99.74        -44.10  Decreciente\n",
      "23     X360             2013        88.58        -11.16  Decreciente\n",
      "32     X360             2014        34.74        -53.84  Decreciente\n",
      "41     X360             2015        11.96        -22.78  Decreciente\n",
      "50     X360             2016         1.52        -10.44  Decreciente\n",
      "24     XOne             2013        18.96           NaN      Estable\n",
      "33     XOne             2014        54.07         35.11    Creciente\n",
      "42     XOne             2015        60.14          6.07    Creciente\n",
      "51     XOne             2016        26.15        -33.99  Decreciente\n"
     ]
    }
   ],
   "source": [
    "#Clasificar la tendencia de crecimiento\n",
    "def classify_growth_trend(sales_growth):\n",
    "    if sales_growth > 0:\n",
    "        return 'Creciente'\n",
    "    elif sales_growth < 0:\n",
    "        return 'Decreciente'\n",
    "    else:\n",
    "        return 'Estable'\n",
    "    # Calcular el crecimiento de las ventas\n",
    "sales_year_popular_platform = sales_year_popular_platform.sort_values(['platform', 'year_of_release'])\n",
    "sales_year_popular_platform['previous_year_sales'] = sales_year_popular_platform.groupby('platform')['total_sales'].shift(1)\n",
    "sales_year_popular_platform['sales_growth'] = sales_year_popular_platform['total_sales'] - sales_year_popular_platform['previous_year_sales']\n",
    "sales_year_popular_platform['growth_trend'] = sales_year_popular_platform['sales_growth'].apply(classify_growth_trend)\n",
    "\n",
    "print(sales_year_popular_platform[['platform', 'year_of_release', 'total_sales', 'sales_growth', 'growth_trend']])\n"
   ]
  },
  {
   "cell_type": "markdown",
   "metadata": {},
   "source": [
    "En la columan sales_growth presenta NaN son en plataformas donde es el primer juego de la plataforma y significa que no hay venta anterior a esta "
   ]
  },
  {
   "cell_type": "code",
   "execution_count": 36,
   "metadata": {},
   "outputs": [
    {
     "data": {
      "image/png": "[encoded data removed]",
      "text/plain": [
       "<Figure size 1200x600 with 1 Axes>"
      ]
     },
     "metadata": {},
     "output_type": "display_data"
    }
   ],
   "source": [
    "plt.figure(figsize=(12, 6))\n",
    "sns.boxplot(data= df_games_filtered, x='platform', y='total_sales')\n",
    "plt.title('Total sales by platform (2011-2016)' )\n",
    "plt.xlabel('Platform')\n",
    "plt.ylabel('Total sales (millions)')\n",
    "plt.xticks(rotation=45)\n",
    "plt.grid(axis='y')\n",
    "plt.show()"
   ]
  },
  {
   "cell_type": "markdown",
   "metadata": {},
   "source": [
    "Observando el grafico que abarca de 2011-2016 de ventas totales vs plataforma\n",
    "1. Mayores ventas como lo son PS3, X360 y PS4 son las plataformas con donde tienen videoujegos con mayores ventas, tales colo PS3 que sobrepasa los 20 millones \n",
    "2. Plataformas con menores ventas PSP, PS2 tiene ventas muy bajas menores a los 5 millones esto se debe a que ya no hubo actualizacion con videojuegos quedaron descontinuados y con el tiempo se quedaron obsoletos \n",
    "3. Los outliers presentan videojuegos  tienen ventas inusualmente altas en la misma plataforma\n",
    "4. Las ventas promedio altas en plataformas como PS3, X360, PS4, tienen cajas mas arriba en el eje de ventas totales\n",
    "5. Ventas promedio medias o bajas como las plataformas WiiU, PC, PSV,PSP tienen cajas mas abajo en el eje de ventas totales que indica videojuego con ventas mas baja en comparacion con otras plataformas"
   ]
  },
  {
   "cell_type": "code",
   "execution_count": 37,
   "metadata": {},
   "outputs": [
    {
     "name": "stdout",
     "output_type": "stream",
     "text": [
      "              mean       std  count  median       var\n",
      "platform                                             \n",
      "3DS       0.503535  1.441271    512    0.12  2.077262\n",
      "DS        0.210489  0.636579    184    0.08  0.405233\n",
      "PC        0.251105  0.505710    389    0.08  0.255743\n",
      "PS2       0.064286  0.042762      7    0.06  0.001829\n",
      "PS3       0.629336  1.451388    708    0.21  2.106528\n",
      "PS4       0.801378  1.609456    392    0.20  2.590350\n",
      "PSP       0.092981  0.116731    312    0.04  0.013626\n",
      "PSV       0.125431  0.212341    429    0.05  0.045089\n",
      "Wii       0.482335  1.059069    197    0.17  1.121628\n",
      "WiiU      0.559116  1.058836    147    0.22  1.121133\n",
      "X360      0.763815  1.637090    498    0.27  2.680063\n",
      "XOne      0.645020  1.036139    247    0.22  1.073584\n"
     ]
    }
   ],
   "source": [
    "sales_stats = df_games_filtered.groupby('platform')['total_sales'].agg(['mean', 'std', 'count', 'median', 'var'])\n",
    "print(sales_stats)"
   ]
  },
  {
   "cell_type": "markdown",
   "metadata": {},
   "source": [
    "Desglosando las estadisticas de las ventas totales por plataforma \n",
    "1. Media indica el valor promedio de las ventas totales por plataforma como lo son PS4 con 0.80 millones y  X360 con 0.76 millones con un buen rendimiento en cuanto a ventas\n",
    "2. La desviacion estadar indica la dispersion en ventas comparada con la media como el X360 tiene una variabilidad 1.63  con ventas variadas\n",
    "3. La cantidad de videojuegos por plataforma durante el lapso de 2011-2016 como en PS3 con 708 y con PS2 que tuvo 7\n",
    "4. Mediana nos dice por ejemplo PS4 0.20  el 50% de los videojuegos se vendio menos de 0,21 millones y el 50% vendio mas\n",
    "5. Varianza la dispersion de ventas tiene datos mas dispersos de la media como PS4 2.59  que tuvo diferencias en las ventas en cuanto a los videojuegos "
   ]
  },
  {
   "cell_type": "markdown",
   "metadata": {},
   "source": [
    "### Mira cómo las reseñas de usuarios y profesionales afectan las ventas de una plataforma popular (tu elección). Crea un gráfico de dispersión y calcula la correlación entre las reseñas y las ventas. Saca conclusiones."
   ]
  },
  {
   "cell_type": "code",
   "execution_count": 38,
   "metadata": {},
   "outputs": [
    {
     "data": {
      "image/png": "[encoded data removed]",
      "text/plain": [
       "<Figure size 1000x600 with 1 Axes>"
      ]
     },
     "metadata": {},
     "output_type": "display_data"
    }
   ],
   "source": [
    "x360_data = df_games_filtered[df_games_filtered['platform']== 'X360']\n",
    "#Grafico de dispersion de critic_score vs ventas totales\n",
    "plt.figure(figsize=(10, 6))\n",
    "sns.scatterplot(data=x360_data, x='critic_score', y='total_sales', color='orange', alpha=0.6)\n",
    "plt.title('Relationship between Critic Score and Total Sales X360')\n",
    "plt.xlabel('Critic Score')\n",
    "plt.ylabel('Total Sales (millions)')\n",
    "plt.grid()\n",
    "plt.show()"
   ]
  },
  {
   "cell_type": "markdown",
   "metadata": {},
   "source": [
    "Este grafico de dispersion entre el puntaje critic score  y total sales para la plataforma de X360 \n",
    "1. Presenta una tendencia positiva ya que apuntajes mas alto mayores ventas aunque no es totalemnte lineal\n",
    "2. No todos los videojuegos con buena critica tiene ventas altas, incluso son de venta promedio o hasta baja es indica que un buen puntaje en cuanto a la critica no significa ventas altas\n",
    "3. Los videojuegos con la puntaje de 60 tienen ventas menores a 2 millones esto tienen que a menor puntaje menores ventas"
   ]
  },
  {
   "cell_type": "code",
   "execution_count": 39,
   "metadata": {},
   "outputs": [
    {
     "data": {
      "image/png": "[encoded data removed]",
      "text/plain": [
       "<Figure size 1000x600 with 1 Axes>"
      ]
     },
     "metadata": {},
     "output_type": "display_data"
    }
   ],
   "source": [
    "plt.figure(figsize=(10, 6))\n",
    "sns.scatterplot(data=x360_data, x='user_score', y='total_sales', color='orange', alpha=0.6)\n",
    "plt.title('Relationship between User Score and Total Sales X360')\n",
    "plt.xlabel('User Score')\n",
    "plt.ylabel('Total Sales (million)')\n",
    "plt.grid()\n",
    "plt.show()"
   ]
  },
  {
   "cell_type": "markdown",
   "metadata": {},
   "source": [
    "Este grafico de dispersion entre el puntaje de user score y total sales para la plataforma de X360\n",
    "1. Relacion debil entre el puntaje de user score y total sales por ejemplo puntajes de 8 no necesariamente tienen ventas altas y puntajes menos de 5 tienen ventas similares a puntajes altos o hasta mayores que los puntajes altos\n",
    "2. los videojuegos con puntaje entre 5 y 8 se concentran con ventas menores de 2 millones de dolares dominan en cuanto a cantidad pero no destacan en ventas mayores\n",
    "3. Algunos videojuegos con ventas superiores a los 10 millones de dolares aunque no necesariamente tiene puntajes altos sino que puntajes bajos puede ser una franquicia valorada con los usuarios que tuvo buena campaña de marketing, pero al calificarla no le fue muy bien"
   ]
  },
  {
   "cell_type": "code",
   "execution_count": 40,
   "metadata": {},
   "outputs": [
    {
     "name": "stdout",
     "output_type": "stream",
     "text": [
      "Correlacion entre critic score y total sales: 0.37422791529487115\n",
      "\n",
      "Correlacion entre user score y total sales: -0.006872299215691651\n"
     ]
    }
   ],
   "source": [
    "corr_critic = x360_data['critic_score'].corr(x360_data['total_sales'])\n",
    "corr_user = x360_data['user_score'].corr(x360_data['total_sales'])\n",
    "print('Correlacion entre critic score y total sales:', corr_critic)\n",
    "print()\n",
    "print('Correlacion entre user score y total sales:', corr_user)\n"
   ]
  },
  {
   "cell_type": "markdown",
   "metadata": {},
   "source": [
    "Pára critic score tiene una tendecia positiva con total sales a medida que aumentan las calificaciones de los profesionales tambien aumentan las ventas significa que los consumidores confian en lo que los criticos opinan o este caso califican sobre el videojuego y asi confian mas y compran los videojuegos.\n",
    "Para user score no hay ninguna correlacion entre total sales significa que las calificaciones de los usuarios son importantes pero no son determinante en cuanto a ventas confian mas en la critica de un experto "
   ]
  },
  {
   "cell_type": "code",
   "execution_count": 41,
   "metadata": {},
   "outputs": [
    {
     "name": "stdout",
     "output_type": "stream",
     "text": [
      "platform                              3DS    DS    PC  PS2   PS3   PS4  PSP  \\\n",
      "name                                                                          \n",
      " Frozen: Olaf's Quest                0.59  0.51  0.00  0.0  0.00  0.00  0.0   \n",
      "2014 FIFA World Cup Brazil           0.00  0.00  0.00  0.0  0.61  0.00  0.0   \n",
      "3rd Super Robot Wars Z Jigoku Hen    0.00  0.00  0.00  0.0  0.23  0.00  0.0   \n",
      "3rd Super Robot Wars Z: Tengoku-Hen  0.00  0.00  0.00  0.0  0.15  0.00  0.0   \n",
      "7 Days to Die                        0.00  0.00  0.00  0.0  0.00  0.14  0.0   \n",
      "...                                   ...   ...   ...  ...   ...   ...  ...   \n",
      "Zumba Fitness Core                   0.00  0.00  0.00  0.0  0.00  0.00  0.0   \n",
      "Zumba Fitness: World Party           0.00  0.00  0.00  0.0  0.00  0.00  0.0   \n",
      "[Prototype 2]                        0.00  0.00  0.11  0.0  0.74  0.00  0.0   \n",
      "de Blob 2                            0.00  0.11  0.00  0.0  0.21  0.00  0.0   \n",
      "uDraw Studio: Instant Artist         0.00  0.00  0.00  0.0  0.00  0.00  0.0   \n",
      "\n",
      "platform                              PSV   Wii  WiiU  X360  XOne  \n",
      "name                                                               \n",
      " Frozen: Olaf's Quest                0.00  0.00   0.0  0.00  0.00  \n",
      "2014 FIFA World Cup Brazil           0.00  0.00   0.0  0.43  0.00  \n",
      "3rd Super Robot Wars Z Jigoku Hen    0.19  0.00   0.0  0.00  0.00  \n",
      "3rd Super Robot Wars Z: Tengoku-Hen  0.19  0.00   0.0  0.00  0.00  \n",
      "7 Days to Die                        0.00  0.00   0.0  0.00  0.05  \n",
      "...                                   ...   ...   ...   ...   ...  \n",
      "Zumba Fitness Core                   0.00  0.07   0.0  0.05  0.00  \n",
      "Zumba Fitness: World Party           0.00  0.23   0.0  0.00  0.24  \n",
      "[Prototype 2]                        0.00  0.00   0.0  0.79  0.00  \n",
      "de Blob 2                            0.00  0.19   0.0  0.15  0.00  \n",
      "uDraw Studio: Instant Artist         0.00  0.17   0.0  0.02  0.00  \n",
      "\n",
      "[796 rows x 12 columns]\n"
     ]
    }
   ],
   "source": [
    "game_counts = df_games_filtered.groupby('name').size()\n",
    "multi_platform_games = df_games_filtered[df_games_filtered['name'].isin(game_counts[game_counts > 1].index)]\n",
    "multi_platform_games = multi_platform_games.reset_index(drop=True)\n",
    "comparison_sales_platforms = multi_platform_games.groupby(['name', 'platform'])['total_sales'].sum().unstack(fill_value=0)\n",
    "print(comparison_sales_platforms)\n"
   ]
  },
  {
   "cell_type": "markdown",
   "metadata": {},
   "source": [
    "### Echa un vistazo a la distribución general de los juegos por género. ¿Qué se puede decir de los géneros más rentables? ¿Puedes generalizar acerca de los géneros con ventas altas y bajas?"
   ]
  },
  {
   "cell_type": "code",
   "execution_count": 42,
   "metadata": {},
   "outputs": [
    {
     "name": "stdout",
     "output_type": "stream",
     "text": [
      "genre\n",
      "Action          557.80\n",
      "Shooter         402.91\n",
      "Role-Playing    245.63\n",
      "Sports          237.15\n",
      "Misc            139.42\n",
      "Platform         88.68\n",
      "Racing           88.31\n",
      "Fighting         66.90\n",
      "Simulation       50.26\n",
      "Adventure        45.04\n",
      "Strategy         22.16\n",
      "Puzzle            9.85\n",
      "Name: total_sales, dtype: float64\n"
     ]
    }
   ],
   "source": [
    "genre_sales = df_games_filtered.groupby('genre')['total_sales'].sum().sort_values(ascending=False)\n",
    "print(genre_sales)"
   ]
  },
  {
   "cell_type": "markdown",
   "metadata": {},
   "source": [
    "Generos con ventas altas lo que nos dice que aventura: los jugadores es el genero extremadamente preferido por el consumido donde pueden contener uso de habildades del personaje ficticio, el uso de armas pero con una historia esto los hace sumamente populares e interesantes\n",
    "b)Shooter los videojuegos de disparos en su version primera persona y multijugador donde lo interesante son las misiones. uso de armas, estrategia, estar en equipos para lograr misones ganando armas y puntos es lo interesante de los videjuegos\n",
    "c) Role-Playing son videojuegos de fantasia donde el personaje es complejo con una profunda historia y narrativa donde debe de aplicar la imaginacion y ser muy intuitivo en este tipo de juegos por eso estos generos comandan las ventas al publico le gusta lo irreal como el juego de disparo, fantasia son cosas que no pueden hacer en su vida diaria\n",
    "Las genero con ventas mas bajas como strategy y puzzle  tiene un interes mas limitado aunque antes en los 2000 o incluso a finales de los 80's los juegos mas vendidos eran de este tipo donde se usaba mas la inteligencia, intuicion, imaginacion, creatividad tenian historias interesantes y uno como consumidor aprendia mucho y era juegos mas sanos en conjunto con los de deportes pero se fue revolucionando la industria y ahora estos de mas violencia son mas redituables.\n"
   ]
  },
  {
   "cell_type": "markdown",
   "metadata": {},
   "source": [
    "Los generos mas rentables es porque genera interaccion social gracias a su version en linea o su modo cooperativo , el diseño de los desarrolladores  en mejores graficos,inovaccion y actualizaciones en los videouejos despierta mas el interes de los consumidores estos ultimos años, pero lo mas probable es que cambie en unos 10 años las preferencias."
   ]
  },
  {
   "cell_type": "markdown",
   "metadata": {},
   "source": [
    "## Crea un perfil de usuario para cada región"
   ]
  },
  {
   "cell_type": "markdown",
   "metadata": {},
   "source": [
    "Para cada región (NA, UE, JP) determina:\n",
    "Las cinco plataformas principales. Describe las variaciones en sus cuotas de mercado de una región a otra.\n",
    "Los cinco géneros principales. Explica la diferencia.\n",
    "Si las clasificaciones de ESRB afectan a las ventas en regiones individuales."
   ]
  },
  {
   "cell_type": "code",
   "execution_count": 43,
   "metadata": {},
   "outputs": [
    {
     "name": "stdout",
     "output_type": "stream",
     "text": [
      "\n",
      "Top 5 plataformas en la región NA:\n",
      "Plataforma: X360, Ventas: 226.80, Cuota de Mercado: 27.33%\n",
      "Plataforma: PS3, Ventas: 168.26, Cuota de Mercado: 20.28%\n",
      "Plataforma: PS4, Ventas: 108.74, Cuota de Mercado: 13.10%\n",
      "Plataforma: XOne, Ventas: 93.12, Cuota de Mercado: 11.22%\n",
      "Plataforma: 3DS, Ventas: 82.65, Cuota de Mercado: 9.96%\n",
      "\n",
      "Top 5 plataformas en la región EU:\n",
      "Plataforma: PS3, Ventas: 163.10, Cuota de Mercado: 24.35%\n",
      "Plataforma: PS4, Ventas: 141.09, Cuota de Mercado: 21.06%\n",
      "Plataforma: X360, Ventas: 117.10, Cuota de Mercado: 17.48%\n",
      "Plataforma: 3DS, Ventas: 61.27, Cuota de Mercado: 9.15%\n",
      "Plataforma: PC, Ventas: 56.70, Cuota de Mercado: 8.47%\n",
      "\n",
      "Top 5 plataformas en la región JP:\n",
      "Plataforma: 3DS, Ventas: 100.62, Cuota de Mercado: 40.96%\n",
      "Plataforma: PS3, Ventas: 49.39, Cuota de Mercado: 20.11%\n",
      "Plataforma: PSP, Ventas: 24.04, Cuota de Mercado: 9.79%\n",
      "Plataforma: PSV, Ventas: 21.84, Cuota de Mercado: 8.89%\n",
      "Plataforma: PS4, Ventas: 15.96, Cuota de Mercado: 6.50%\n"
     ]
    }
   ],
   "source": [
    "#Filtrar datos para  las columnas de ventas por region\n",
    "regions =['na_sales', 'eu_sales', 'jp_sales']\n",
    "region_names = ['NA', 'EU', 'JP']\n",
    "top_platforms_per_region = {}\n",
    "for region, name in zip (regions, region_names):\n",
    "    #Agrupar por plataforma y sumar las ventas totales\n",
    "    platform_sales_region = df_games_filtered.groupby('platform')[region].sum().sort_values(ascending=False)\n",
    "    #Seleccionar las 5 plataformas principales\n",
    "    top_platforms = platform_sales_region.head(5)\n",
    "    total_sales_region = platform_sales_region.sum()\n",
    "    #Calcular cuota de mercado\n",
    "    market_share = (top_platforms / total_sales_region) * 100\n",
    "    top_platforms_per_region[name] = {\n",
    "        'Top Platforms' : top_platforms.index.tolist(),\n",
    "        'Total Sales' : top_platforms.values,\n",
    "        'Market Share' : market_share.values\n",
    " }\n",
    "for region, data in top_platforms_per_region.items():\n",
    "    print(f\"\\nTop 5 plataformas en la región {region}:\")\n",
    "    for platform, sales, share in zip(data['Top Platforms'], data['Total Sales'], data['Market Share']):\n",
    "        print(f\"Plataforma: {platform}, Ventas: {sales:.2f}, Cuota de Mercado: {share:.2f}%\")"
   ]
  },
  {
   "cell_type": "markdown",
   "metadata": {},
   "source": [
    "Variaciones en las cuota de mercado \n",
    "Region NA: X360 lidera el mercado indica una fuerte preferencia por esta plataforma, PS3 y PS4 le siguen en la lista esto refleja el porcentaje total de ventas esto indica una posicion fuerte en el mercado.\n",
    "Region EU: donde PS3 y PS4 lideran esta region europea diferente a la norteamaericana y por ultimo X360 de las tres plataformas mas fuertes donde ser refleja una cantidad de couta de mercado alta indicando una poscion fuerte en el mercado, evaluando su rendimiento y la perferencia de los consumidores\n",
    "Region JP: donde aqui cambia consideramblemnte en comparacion con las otras regiones se debe a en japon y tanto el continente asiatico preferencia por nintendo y aqui es notorio aunque tambien por PS3 y PSP dependeindo las preferencia del consumidor "
   ]
  },
  {
   "cell_type": "code",
   "execution_count": 44,
   "metadata": {},
   "outputs": [
    {
     "name": "stdout",
     "output_type": "stream",
     "text": [
      "\n",
      "Top 5 generos en la region NA:\n",
      "Genero: Action, Ventas: 230.92\n",
      "Genero: Shooter, Ventas: 194.43\n",
      "Genero: Sports, Ventas: 108.70\n",
      "Genero: Role-Playing, Ventas: 83.78\n",
      "Genero: Misc, Ventas: 69.69\n",
      "\n",
      "Top 5 generos en la region EU:\n",
      "Genero: Action, Ventas: 199.12\n",
      "Genero: Shooter, Ventas: 148.02\n",
      "Genero: Sports, Ventas: 88.48\n",
      "Genero: Role-Playing, Ventas: 62.30\n",
      "Genero: Racing, Ventas: 40.58\n",
      "\n",
      "Top 5 generos en la region JP:\n",
      "Genero: Role-Playing, Ventas: 79.87\n",
      "Genero: Action, Ventas: 63.62\n",
      "Genero: Misc, Ventas: 17.60\n",
      "Genero: Fighting, Ventas: 12.38\n",
      "Genero: Platform, Ventas: 12.13\n"
     ]
    }
   ],
   "source": [
    "genres = ['genre']\n",
    "top_genres_per_region = {}\n",
    "for region, name in zip(regions, region_names):\n",
    "    #Agrupar por genero  y sumar las ventas totales por cada region\n",
    "    genre_sales_region = df_games_filtered.groupby('genre')[region].sum().sort_values(ascending=False)\n",
    "    #Selccionar los 5 generos principales\n",
    "    top_genres = genre_sales_region.head(5)\n",
    "    top_genres_per_region[name] = {\n",
    "        'Top Genres' : top_genres.index.tolist(),\n",
    "        'Total Sales' : top_genres.values\n",
    "        \n",
    "    }\n",
    "for region, data in top_genres_per_region.items():\n",
    "    print(f\"\\nTop 5 generos en la region {region}:\")\n",
    "    for genre, sales in zip(data['Top Genres'], data['Total Sales']):\n",
    "        print(f\"Genero: {genre}, Ventas: {sales:.2f}\")"
   ]
  },
  {
   "cell_type": "markdown",
   "metadata": {},
   "source": [
    "Se puede decir tanto en la region de NA y EU los top 3 mas importantes con mayores ventas son acion, disparos y deportes y la pregunta seria porque a los jugadores de estas regiones prefieren estos generos en comparacion con ragion de JP que prefieren el role-paying encabezando sin duda influyen un sin fin de gustos, pero en el continente Asiatico se destaca por intelegencia para este tipo de videojuego donde se requiere de mucho imaginacion en comparacion con otras regiones ellos prefieren otros generos a lo que comunes"
   ]
  },
  {
   "cell_type": "code",
   "execution_count": 45,
   "metadata": {},
   "outputs": [
    {
     "name": "stdout",
     "output_type": "stream",
     "text": [
      "\n",
      "Ventas totales por clasificacion en la region NA:\n",
      "Clasificación: M, Ventas: 308.45\n",
      "Clasificación: E, Ventas: 170.17\n",
      "Clasificación: unknown, Ventas: 123.69\n",
      "Clasificación: E10+, Ventas: 117.72\n",
      "Clasificación: T, Ventas: 109.31\n",
      "Clasificación: EC, Ventas: 0.42\n",
      "Clasificación: RP, Ventas: 0.00\n",
      "\n",
      "Ventas totales por clasificacion en la region EU:\n",
      "Clasificación: M, Ventas: 250.26\n",
      "Clasificación: E, Ventas: 141.73\n",
      "Clasificación: unknown, Ventas: 116.61\n",
      "Clasificación: T, Ventas: 83.16\n",
      "Clasificación: E10+, Ventas: 78.00\n",
      "Clasificación: RP, Ventas: 0.03\n",
      "Clasificación: EC, Ventas: 0.00\n",
      "\n",
      "Ventas totales por clasificacion en la region JP:\n",
      "Clasificación: unknown, Ventas: 138.21\n",
      "Clasificación: E, Ventas: 36.68\n",
      "Clasificación: T, Ventas: 33.39\n",
      "Clasificación: M, Ventas: 26.14\n",
      "Clasificación: E10+, Ventas: 11.23\n",
      "Clasificación: EC, Ventas: 0.00\n",
      "Clasificación: RP, Ventas: 0.00\n"
     ]
    }
   ],
   "source": [
    "ratings =  df_games_filtered['rating'].unique()\n",
    "sales_rating = {region: {} for region in region_names}\n",
    "for region, name in zip(regions, region_names):\n",
    "    #Agrupar por clasificacion y sumar las ventas totales por region\n",
    "    rating_sales = df_games_filtered.groupby('rating')[region].sum().sort_values(ascending=False)\n",
    "    sales_rating[name] = rating_sales\n",
    "for region, sales in sales_rating.items():\n",
    "    print(f\"\\nVentas totales por clasificacion en la region {region}:\")\n",
    "    for rating, total_sales in sales.items():\n",
    "        print(f\"Clasificación: {rating}, Ventas: {total_sales:.2f}\")\n"
   ]
  },
  {
   "cell_type": "markdown",
   "metadata": {},
   "source": [
    "Para la clasificacion de la region de NA: mature encabeza las ventas, everyone y everyone +10 prefieren juegos para adultos, pero tambien aptos para todos y para adolescentes.\n",
    "b) Region de EU de igual forma mature y everyone encabezan las ventas donde los adultos y todo publico son los que mas videojuegos consumen esta area y la clasificacion no se especifica\n",
    "c) Region de JP desconocida, para todo publico y para adoolescentes encabezan las ventas en esta region donde en cualquier clasificacion esta area es diferente a las otras 2\n"
   ]
  },
  {
   "cell_type": "markdown",
   "metadata": {},
   "source": [
    "##  Prueba las siguientes hipótesis:\n",
    "\n"
   ]
  },
  {
   "cell_type": "markdown",
   "metadata": {},
   "source": [
    "### a) Las calificaciones promedio de los usuarios para las plataformas Xbox One y PC son las mismas.\n",
    "b)  Las calificaciones promedio de los usuarios para los géneros de Acción y Deportes son diferentes."
   ]
  },
  {
   "cell_type": "markdown",
   "metadata": {},
   "source": [
    "Explica:\n",
    "\n",
    "— Cómo formulaste las hipótesis nula y alternativa.\n",
    "\n",
    "— Qué criterio utilizaste para probar las hipótesis y por qué."
   ]
  },
  {
   "cell_type": "code",
   "execution_count": 46,
   "metadata": {},
   "outputs": [
    {
     "name": "stdout",
     "output_type": "stream",
     "text": [
      "Estadisitico de levene: 6.4428082051419375\n",
      "Valor p de levene: 0.011378387107244519\n"
     ]
    }
   ],
   "source": [
    "#Filtrar los puntajes de user_score de PC y XboxOne\n",
    "xbox_one_scores = df_games_filtered[df_games_filtered['platform'] == 'XOne']['user_score'].reset_index(drop=True)\n",
    "pc_scores = df_games_filtered[df_games_filtered['platform'] == 'PC']['user_score'].reset_index(drop=True)\n",
    "#Realizar test de levene para comprobar igualdad de varianzas\n",
    "stat_levene, p_levene = stats.levene(xbox_one_scores, pc_scores)\n",
    "print('Estadisitico de levene:', stat_levene)\n",
    "print('Valor p de levene:', p_levene)"
   ]
  },
  {
   "cell_type": "markdown",
   "metadata": {},
   "source": [
    "H1: Si hay diferencia significativa en las calificaciones promedio de los usuarios de XboxOne y PC\n",
    "H0 = No hay diferencia significativa en las calificaciones promedio de los usuarios de XboxOne y PC"
   ]
  },
  {
   "cell_type": "code",
   "execution_count": 47,
   "metadata": {},
   "outputs": [
    {
     "name": "stdout",
     "output_type": "stream",
     "text": [
      "Las varianzas son significativamente diferentes usar la prueba t de Welch\n",
      "Estadistico t: 0.718347060601157\n",
      "Valor de p: 0.4728278753485229\n",
      "No rechazamos la hipotesis nula\n"
     ]
    }
   ],
   "source": [
    "#Si p_levene < 0.05 las varianzas son significativamente diferentes\n",
    "if p_levene < 0.05:\n",
    "    print('Las varianzas son significativamente diferentes usar la prueba t de Welch')\n",
    "    t_stat, p_value = stats.ttest_ind(xbox_one_scores, pc_scores, equal_var=False)\n",
    "else:\n",
    "    print('Las varianzas son iguales usa las prueba t de Student')\n",
    "    t_stat, p_value = stats_ttest_ind(xbox_one_scores, pc_scores, equal_var=True)\n",
    "#Mostrar el resultado de la prueba t\n",
    "print('Estadistico t:', t_stat)\n",
    "print('Valor de p:', p_value)\n",
    "#interpretar el valor de p\n",
    "if p_value < 0.05:\n",
    "    print('Rechazamos la hipotesis nula')\n",
    "else:\n",
    "    print('No rechazamos la hipotesis nula')\n"
   ]
  },
  {
   "cell_type": "markdown",
   "metadata": {},
   "source": [
    "Se uso una prueba t de Student se utiliza para comparar medias de dos grupos, previo a esto se debe comprobar la homegeneidad de las varianzas mediante la prueba de levene y se encontro que no eran iguales y se opto por la pribea de t de Welch. La hipotesis nula y alternativa se formulan porque el objetivo era comparar las calificaciones promedio de los usuarios de XboxOne y PC las hipotesis deben de mostar la pregunta que buscamos responder"
   ]
  },
  {
   "cell_type": "markdown",
   "metadata": {},
   "source": [
    "El valor de p fue: 0.4728 y es mayor que 0.05 no se tiene evidencia para rechazar la hipotesis nula, es decir, que no se puede afirmar que las calificaciones promedio de XboxOne y PC sean significativamente diferentes y las calificaciones promedio son similares "
   ]
  },
  {
   "cell_type": "markdown",
   "metadata": {},
   "source": [
    "H1:Si hay diferencia significativa de las calificaciones promedio en los generos accion y deportes\n",
    "H0: No hay diferencia significativa de las calificiones promedio en los generos accion y deportes"
   ]
  },
  {
   "cell_type": "code",
   "execution_count": 48,
   "metadata": {},
   "outputs": [
    {
     "name": "stdout",
     "output_type": "stream",
     "text": [
      "Estadisitico de levene: 68.54664967655482\n",
      "Valor p de levene: 2.5215940803137537e-16\n"
     ]
    }
   ],
   "source": [
    "accion_scores = df_games_filtered[df_games_filtered['genre'] == 'Action']['user_score'].reset_index(drop=True)\n",
    "sports_scores = df_games_filtered[df_games_filtered['genre'] == 'Sports']['user_score'].reset_index(drop=True)\n",
    "#Realizar test de levene para comprobar igualdad de varianzas\n",
    "stat_levene, p_levene = stats.levene(accion_scores, sports_scores)\n",
    "print('Estadisitico de levene:', stat_levene)\n",
    "print('Valor p de levene:', p_levene)\n"
   ]
  },
  {
   "cell_type": "code",
   "execution_count": 49,
   "metadata": {},
   "outputs": [
    {
     "name": "stdout",
     "output_type": "stream",
     "text": [
      "Las varianzas son significativamente diferentes usar la prueba t de Welch\n",
      "Estadistico t: 9.647492659929567\n",
      "Valor de p: 2.6799821905369074e-20\n",
      "Rechazamos la hipotesis nula\n"
     ]
    }
   ],
   "source": [
    "#Si p_levene < 0.05 las varianzas son significativamente diferentes\n",
    "if p_levene < 0.05:\n",
    "    print('Las varianzas son significativamente diferentes usar la prueba t de Welch')\n",
    "    t_stat, p_value = stats.ttest_ind(accion_scores, sports_scores, equal_var=False)\n",
    "else:\n",
    "    print('Las varianzas son iguales usa las prueba t de Student')\n",
    "    t_stat, p_value = stats_ttest_ind(accion_scores, sports_scores, equal_var=True)\n",
    "#Mostrar el resultado de la prueba t\n",
    "print('Estadistico t:', t_stat)\n",
    "print('Valor de p:', p_value)\n",
    "#interpretar el valor de p\n",
    "if p_value < 0.05:\n",
    "    print('Rechazamos la hipotesis nula')\n",
    "else:\n",
    "    print('No rechazamos la hipotesis nula')"
   ]
  },
  {
   "cell_type": "markdown",
   "metadata": {},
   "source": [
    "Primero se hace una prueba de levene para comprar si las varianzas son iguales, el avlor de p_verene es menor que 0.05 por eso se ocupa la prueba de t de Welch.El objetivo era comprobar si la evidencia de los datos  es suficiente para rechazar la hipotesis nula tratando de comparar las medias de las calificaciones promedio de los usuarios de los generos de accion y deportes"
   ]
  },
  {
   "cell_type": "markdown",
   "metadata": {},
   "source": [
    "El valor de p es bajo por lo tanto se rechaza la hipotesis nula, es decir, que las calificaciones promedio de los usuarios para los generos de deportes y accion son diferentes"
   ]
  },
  {
   "cell_type": "markdown",
   "metadata": {},
   "source": [
    "## . Escribe una conclusión general"
   ]
  },
  {
   "cell_type": "markdown",
   "metadata": {},
   "source": [
    "La tienda ICE que vende videojuegos en linea por todo el mundo mediante los datos proporcionado de criticas de profesionales, usuarios, generos, plataforma, año de lanzamiento nos ayudan a poder llegar una conclusion para que la tienda observe que videojuegos tienen exito y cuales no para una campaña en 2017. al ver como fue cambiando al pasar los años desde los 80's hasta 2016 se puede ver que dependiendo el año las preferencias por un genero si cambia porque las generaciones van cambiando sus preferencias son distintas, pero dado que se hizo un estudio desde 2011 para poder ver las preferencias de los consumidores de videojuegos mediante el analisis exploratorio y el analisis estadistico se puede inferir lo siguiente dependido el area donde se estudie por ejemplo al escoger la plataforma X360 en regiones de Europa y Norteamericana tienen preferencias por generos similares y en Japon cambia ligeramente esta preferencia ya que aqui la preferencia desde siempre es por Nintendo no obstante tienen gustos y usan las distintas plataformas. Tambien se afirma que los consumidores de videojuegos se guian mas por la critica de profesionales que de usuarios creen mas o confian mas en lo que dice un experto. Ahora enfocandose con los generos la preferencia notoria hoy en dia por juegos de accion, shooter, sports encabezan las mayores ventas por las 3 zonas estudiadas aunque a principios de los 2000 o incluso 90's eran mas populares los videojuegos de aventura, de estrategia con el tiempo esto fue cambiando esto nos da un panorama para poder decir cuales tipos de videojuegos tienen mayor demanda y cuales no se venden de la misma forma aunque hay jugadores muy fieles a ciertos generos siendo minoria significan ventas al final de cuentas, con este analisis se puede dar cuenta cuales videojuegos tendra mas demanda y cuales no y se sabe que en 10 años o mas esto pueda cambiar ya que las generaciones son asi, y que hoy en dia una estrategia de mayores ganancias es compras dentro del mismo videojuego no solo ventas al adquirir el videouejo sino que seguir generando una vez comprado este."
   ]
  }
 ],
 "metadata": {
  "ExecuteTimeLog": [
   {
    "duration": 300,
    "start_time": "2024-10-28T02:53:33.602Z"
   },
   {
    "duration": 5,
    "start_time": "2024-10-28T02:53:36.678Z"
   },
   {
    "duration": 36,
    "start_time": "2024-10-28T02:53:45.878Z"
   },
   {
    "duration": 27,
    "start_time": "2024-10-28T02:53:50.931Z"
   },
   {
    "duration": 333,
    "start_time": "2024-10-28T18:30:40.987Z"
   },
   {
    "duration": 35,
    "start_time": "2024-10-28T18:30:41.323Z"
   },
   {
    "duration": 32,
    "start_time": "2024-10-28T18:30:41.360Z"
   },
   {
    "duration": 3,
    "start_time": "2024-10-28T18:39:19.236Z"
   },
   {
    "duration": 32,
    "start_time": "2024-10-28T18:39:22.306Z"
   },
   {
    "duration": 3,
    "start_time": "2024-10-28T18:53:28.305Z"
   },
   {
    "duration": 3,
    "start_time": "2024-10-28T18:53:35.426Z"
   },
   {
    "duration": 4,
    "start_time": "2024-10-28T18:54:37.419Z"
   },
   {
    "duration": 214,
    "start_time": "2024-10-28T18:54:50.829Z"
   },
   {
    "duration": 16,
    "start_time": "2024-10-28T18:55:02.039Z"
   },
   {
    "duration": 15,
    "start_time": "2024-10-28T18:56:19.485Z"
   },
   {
    "duration": 13,
    "start_time": "2024-10-28T18:56:29.458Z"
   },
   {
    "duration": 7,
    "start_time": "2024-10-28T18:57:29.173Z"
   },
   {
    "duration": 14,
    "start_time": "2024-10-28T18:57:46.980Z"
   },
   {
    "duration": 5,
    "start_time": "2024-10-28T18:58:12.767Z"
   },
   {
    "duration": 5,
    "start_time": "2024-10-28T18:58:52.175Z"
   },
   {
    "duration": 4,
    "start_time": "2024-10-28T18:59:06.917Z"
   },
   {
    "duration": 5,
    "start_time": "2024-10-28T19:00:21.130Z"
   },
   {
    "duration": 6,
    "start_time": "2024-10-28T19:00:51.690Z"
   },
   {
    "duration": 8,
    "start_time": "2024-10-28T21:34:43.549Z"
   },
   {
    "duration": 307,
    "start_time": "2024-10-28T21:34:48.832Z"
   },
   {
    "duration": 36,
    "start_time": "2024-10-28T21:34:49.141Z"
   },
   {
    "duration": 3,
    "start_time": "2024-10-28T21:34:49.178Z"
   },
   {
    "duration": 26,
    "start_time": "2024-10-28T21:34:49.184Z"
   },
   {
    "duration": 5,
    "start_time": "2024-10-28T21:34:49.212Z"
   },
   {
    "duration": 4,
    "start_time": "2024-10-28T21:34:49.218Z"
   },
   {
    "duration": 13,
    "start_time": "2024-10-28T21:34:55.781Z"
   },
   {
    "duration": 5,
    "start_time": "2024-10-28T21:46:35.153Z"
   },
   {
    "duration": 5,
    "start_time": "2024-10-28T21:46:54.676Z"
   },
   {
    "duration": 7,
    "start_time": "2024-10-28T21:48:15.452Z"
   },
   {
    "duration": 6,
    "start_time": "2024-10-28T21:48:52.723Z"
   },
   {
    "duration": 5,
    "start_time": "2024-10-28T21:55:13.722Z"
   },
   {
    "duration": 2017,
    "start_time": "2024-10-28T21:59:54.025Z"
   },
   {
    "duration": 27,
    "start_time": "2024-10-28T21:59:56.044Z"
   },
   {
    "duration": 14,
    "start_time": "2024-10-28T21:59:56.073Z"
   },
   {
    "duration": 29,
    "start_time": "2024-10-28T21:59:56.089Z"
   },
   {
    "duration": 6,
    "start_time": "2024-10-28T21:59:56.120Z"
   },
   {
    "duration": 11,
    "start_time": "2024-10-28T21:59:56.127Z"
   },
   {
    "duration": 6,
    "start_time": "2024-10-28T21:59:56.140Z"
   },
   {
    "duration": 5,
    "start_time": "2024-10-28T21:59:56.148Z"
   },
   {
    "duration": 112,
    "start_time": "2024-10-28T21:59:56.187Z"
   },
   {
    "duration": 90,
    "start_time": "2024-10-28T22:00:30.697Z"
   },
   {
    "duration": 955,
    "start_time": "2024-10-28T22:01:05.748Z"
   },
   {
    "duration": 159,
    "start_time": "2024-10-28T22:03:34.210Z"
   },
   {
    "duration": 2149,
    "start_time": "2024-10-29T00:51:56.265Z"
   },
   {
    "duration": 32,
    "start_time": "2024-10-29T00:51:58.416Z"
   },
   {
    "duration": 2,
    "start_time": "2024-10-29T00:51:58.450Z"
   },
   {
    "duration": 26,
    "start_time": "2024-10-29T00:51:58.455Z"
   },
   {
    "duration": 5,
    "start_time": "2024-10-29T00:51:58.483Z"
   },
   {
    "duration": 11,
    "start_time": "2024-10-29T00:51:58.489Z"
   },
   {
    "duration": 6,
    "start_time": "2024-10-29T00:51:58.501Z"
   },
   {
    "duration": 4,
    "start_time": "2024-10-29T00:51:58.508Z"
   },
   {
    "duration": 101,
    "start_time": "2024-10-29T00:51:58.543Z"
   },
   {
    "duration": 765,
    "start_time": "2024-10-29T00:51:58.648Z"
   },
   {
    "duration": 55,
    "start_time": "2024-10-29T00:53:58.396Z"
   },
   {
    "duration": 16,
    "start_time": "2024-10-29T00:55:57.719Z"
   },
   {
    "duration": 2133,
    "start_time": "2024-10-29T18:13:55.989Z"
   },
   {
    "duration": 43,
    "start_time": "2024-10-29T18:13:58.124Z"
   },
   {
    "duration": 5,
    "start_time": "2024-10-29T18:13:58.168Z"
   },
   {
    "duration": 31,
    "start_time": "2024-10-29T18:13:58.174Z"
   },
   {
    "duration": 9,
    "start_time": "2024-10-29T18:13:58.210Z"
   },
   {
    "duration": 12,
    "start_time": "2024-10-29T18:13:58.221Z"
   },
   {
    "duration": 6,
    "start_time": "2024-10-29T18:13:58.235Z"
   },
   {
    "duration": 6,
    "start_time": "2024-10-29T18:13:58.245Z"
   },
   {
    "duration": 116,
    "start_time": "2024-10-29T18:13:58.252Z"
   },
   {
    "duration": 4,
    "start_time": "2024-10-29T18:13:58.370Z"
   },
   {
    "duration": 0,
    "start_time": "2024-10-29T18:13:58.376Z"
   },
   {
    "duration": 4,
    "start_time": "2024-10-29T18:14:29.071Z"
   },
   {
    "duration": 4,
    "start_time": "2024-10-29T18:15:24.216Z"
   },
   {
    "duration": 5,
    "start_time": "2024-10-29T18:16:01.015Z"
   },
   {
    "duration": 5,
    "start_time": "2024-10-29T18:23:20.846Z"
   },
   {
    "duration": 3,
    "start_time": "2024-10-29T18:32:50.420Z"
   },
   {
    "duration": 3,
    "start_time": "2024-10-29T18:32:54.515Z"
   },
   {
    "duration": 27,
    "start_time": "2024-10-29T18:32:54.520Z"
   },
   {
    "duration": 3,
    "start_time": "2024-10-29T18:32:54.549Z"
   },
   {
    "duration": 82,
    "start_time": "2024-10-29T18:32:54.556Z"
   },
   {
    "duration": 6,
    "start_time": "2024-10-29T18:32:54.639Z"
   },
   {
    "duration": 12,
    "start_time": "2024-10-29T18:32:54.646Z"
   },
   {
    "duration": 7,
    "start_time": "2024-10-29T18:32:54.660Z"
   },
   {
    "duration": 4,
    "start_time": "2024-10-29T18:32:54.668Z"
   },
   {
    "duration": 32,
    "start_time": "2024-10-29T18:32:54.674Z"
   },
   {
    "duration": 88,
    "start_time": "2024-10-29T18:32:54.709Z"
   },
   {
    "duration": 5,
    "start_time": "2024-10-29T18:32:54.807Z"
   },
   {
    "duration": 16,
    "start_time": "2024-10-29T18:32:54.814Z"
   },
   {
    "duration": 5,
    "start_time": "2024-10-29T18:39:58.553Z"
   },
   {
    "duration": 184,
    "start_time": "2024-10-29T18:46:46.626Z"
   },
   {
    "duration": 5,
    "start_time": "2024-10-29T18:47:14.817Z"
   },
   {
    "duration": 3,
    "start_time": "2024-10-29T18:47:33.237Z"
   },
   {
    "duration": 23,
    "start_time": "2024-10-29T18:47:33.244Z"
   },
   {
    "duration": 2,
    "start_time": "2024-10-29T18:47:33.269Z"
   },
   {
    "duration": 23,
    "start_time": "2024-10-29T18:47:33.274Z"
   },
   {
    "duration": 5,
    "start_time": "2024-10-29T18:47:33.299Z"
   },
   {
    "duration": 9,
    "start_time": "2024-10-29T18:47:33.307Z"
   },
   {
    "duration": 5,
    "start_time": "2024-10-29T18:47:33.317Z"
   },
   {
    "duration": 5,
    "start_time": "2024-10-29T18:47:33.323Z"
   },
   {
    "duration": 4,
    "start_time": "2024-10-29T18:47:33.330Z"
   },
   {
    "duration": 104,
    "start_time": "2024-10-29T18:47:33.336Z"
   },
   {
    "duration": 4,
    "start_time": "2024-10-29T18:47:33.443Z"
   },
   {
    "duration": 5,
    "start_time": "2024-10-29T18:47:33.449Z"
   },
   {
    "duration": 10,
    "start_time": "2024-10-29T18:47:33.455Z"
   },
   {
    "duration": 5,
    "start_time": "2024-10-29T18:47:33.466Z"
   },
   {
    "duration": 4,
    "start_time": "2024-10-29T18:49:08.926Z"
   },
   {
    "duration": 7,
    "start_time": "2024-10-29T18:56:49.249Z"
   },
   {
    "duration": 7,
    "start_time": "2024-10-29T18:57:21.418Z"
   },
   {
    "duration": 23,
    "start_time": "2024-10-29T19:00:46.753Z"
   },
   {
    "duration": 3,
    "start_time": "2024-10-29T19:02:50.051Z"
   },
   {
    "duration": 2,
    "start_time": "2024-10-29T19:03:00.872Z"
   },
   {
    "duration": 24,
    "start_time": "2024-10-29T19:03:00.876Z"
   },
   {
    "duration": 2,
    "start_time": "2024-10-29T19:03:00.902Z"
   },
   {
    "duration": 23,
    "start_time": "2024-10-29T19:03:00.906Z"
   },
   {
    "duration": 5,
    "start_time": "2024-10-29T19:03:00.931Z"
   },
   {
    "duration": 9,
    "start_time": "2024-10-29T19:03:00.938Z"
   },
   {
    "duration": 5,
    "start_time": "2024-10-29T19:03:00.950Z"
   },
   {
    "duration": 4,
    "start_time": "2024-10-29T19:03:00.956Z"
   },
   {
    "duration": 4,
    "start_time": "2024-10-29T19:03:00.961Z"
   },
   {
    "duration": 4,
    "start_time": "2024-10-29T19:03:00.967Z"
   },
   {
    "duration": 114,
    "start_time": "2024-10-29T19:03:00.973Z"
   },
   {
    "duration": 5,
    "start_time": "2024-10-29T19:03:01.088Z"
   },
   {
    "duration": 14,
    "start_time": "2024-10-29T19:03:01.094Z"
   },
   {
    "duration": 10,
    "start_time": "2024-10-29T19:03:01.111Z"
   },
   {
    "duration": 5,
    "start_time": "2024-10-29T19:03:01.122Z"
   },
   {
    "duration": 7,
    "start_time": "2024-10-29T19:03:01.128Z"
   },
   {
    "duration": 6,
    "start_time": "2024-10-29T19:03:01.137Z"
   },
   {
    "duration": 23,
    "start_time": "2024-10-29T19:03:01.144Z"
   },
   {
    "duration": 2,
    "start_time": "2024-10-29T19:45:01.430Z"
   },
   {
    "duration": 32,
    "start_time": "2024-10-29T19:45:01.439Z"
   },
   {
    "duration": 3,
    "start_time": "2024-10-29T19:45:01.473Z"
   },
   {
    "duration": 23,
    "start_time": "2024-10-29T19:45:01.478Z"
   },
   {
    "duration": 5,
    "start_time": "2024-10-29T19:45:01.503Z"
   },
   {
    "duration": 11,
    "start_time": "2024-10-29T19:45:01.511Z"
   },
   {
    "duration": 6,
    "start_time": "2024-10-29T19:45:01.524Z"
   },
   {
    "duration": 4,
    "start_time": "2024-10-29T19:45:01.532Z"
   },
   {
    "duration": 3,
    "start_time": "2024-10-29T19:45:01.538Z"
   },
   {
    "duration": 6,
    "start_time": "2024-10-29T19:45:01.543Z"
   },
   {
    "duration": 122,
    "start_time": "2024-10-29T19:45:01.551Z"
   },
   {
    "duration": 5,
    "start_time": "2024-10-29T19:45:01.676Z"
   },
   {
    "duration": 22,
    "start_time": "2024-10-29T19:45:01.683Z"
   },
   {
    "duration": 11,
    "start_time": "2024-10-29T19:45:01.707Z"
   },
   {
    "duration": 7,
    "start_time": "2024-10-29T19:45:01.720Z"
   },
   {
    "duration": 28,
    "start_time": "2024-10-29T19:45:01.728Z"
   },
   {
    "duration": 5,
    "start_time": "2024-10-29T20:13:31.276Z"
   },
   {
    "duration": 262,
    "start_time": "2024-10-29T20:29:54.643Z"
   },
   {
    "duration": 735,
    "start_time": "2024-10-29T20:30:56.646Z"
   },
   {
    "duration": 886,
    "start_time": "2024-10-29T20:33:11.896Z"
   },
   {
    "duration": 239,
    "start_time": "2024-10-29T20:33:26.718Z"
   },
   {
    "duration": 4,
    "start_time": "2024-10-29T20:34:10.451Z"
   },
   {
    "duration": 341,
    "start_time": "2024-10-29T20:34:14.890Z"
   },
   {
    "duration": 250,
    "start_time": "2024-10-29T20:34:41.115Z"
   },
   {
    "duration": 267,
    "start_time": "2024-10-29T20:35:20.575Z"
   },
   {
    "duration": 4,
    "start_time": "2024-10-29T20:35:52.241Z"
   },
   {
    "duration": 2224,
    "start_time": "2024-10-30T02:11:22.493Z"
   },
   {
    "duration": 37,
    "start_time": "2024-10-30T02:11:24.719Z"
   },
   {
    "duration": 2,
    "start_time": "2024-10-30T02:11:24.758Z"
   },
   {
    "duration": 26,
    "start_time": "2024-10-30T02:11:24.762Z"
   },
   {
    "duration": 5,
    "start_time": "2024-10-30T02:11:24.790Z"
   },
   {
    "duration": 10,
    "start_time": "2024-10-30T02:11:24.797Z"
   },
   {
    "duration": 6,
    "start_time": "2024-10-30T02:11:24.825Z"
   },
   {
    "duration": 3,
    "start_time": "2024-10-30T02:11:24.833Z"
   },
   {
    "duration": 3,
    "start_time": "2024-10-30T02:11:24.838Z"
   },
   {
    "duration": 4,
    "start_time": "2024-10-30T02:11:24.843Z"
   },
   {
    "duration": 118,
    "start_time": "2024-10-30T02:11:24.849Z"
   },
   {
    "duration": 5,
    "start_time": "2024-10-30T02:11:24.969Z"
   },
   {
    "duration": 6,
    "start_time": "2024-10-30T02:11:24.976Z"
   },
   {
    "duration": 7,
    "start_time": "2024-10-30T02:11:24.984Z"
   },
   {
    "duration": 6,
    "start_time": "2024-10-30T02:11:24.992Z"
   },
   {
    "duration": 27,
    "start_time": "2024-10-30T02:11:25.025Z"
   },
   {
    "duration": 4,
    "start_time": "2024-10-30T02:11:25.053Z"
   },
   {
    "duration": 315,
    "start_time": "2024-10-30T02:11:25.059Z"
   },
   {
    "duration": 4,
    "start_time": "2024-10-30T02:11:25.376Z"
   },
   {
    "duration": 2425,
    "start_time": "2024-10-30T18:33:11.320Z"
   },
   {
    "duration": 48,
    "start_time": "2024-10-30T18:33:13.748Z"
   },
   {
    "duration": 4,
    "start_time": "2024-10-30T18:33:13.799Z"
   },
   {
    "duration": 39,
    "start_time": "2024-10-30T18:33:13.805Z"
   },
   {
    "duration": 5,
    "start_time": "2024-10-30T18:33:13.847Z"
   },
   {
    "duration": 14,
    "start_time": "2024-10-30T18:33:13.853Z"
   },
   {
    "duration": 25,
    "start_time": "2024-10-30T18:33:13.869Z"
   },
   {
    "duration": 4,
    "start_time": "2024-10-30T18:33:13.897Z"
   },
   {
    "duration": 6,
    "start_time": "2024-10-30T18:33:13.903Z"
   },
   {
    "duration": 7,
    "start_time": "2024-10-30T18:33:13.911Z"
   },
   {
    "duration": 131,
    "start_time": "2024-10-30T18:33:13.919Z"
   },
   {
    "duration": 5,
    "start_time": "2024-10-30T18:33:14.052Z"
   },
   {
    "duration": 6,
    "start_time": "2024-10-30T18:33:14.059Z"
   },
   {
    "duration": 20,
    "start_time": "2024-10-30T18:33:14.069Z"
   },
   {
    "duration": 7,
    "start_time": "2024-10-30T18:33:14.091Z"
   },
   {
    "duration": 27,
    "start_time": "2024-10-30T18:33:14.100Z"
   },
   {
    "duration": 4,
    "start_time": "2024-10-30T18:33:14.129Z"
   },
   {
    "duration": 300,
    "start_time": "2024-10-30T18:33:14.134Z"
   },
   {
    "duration": 4,
    "start_time": "2024-10-30T18:33:14.435Z"
   },
   {
    "duration": 4,
    "start_time": "2024-10-30T18:33:14.440Z"
   },
   {
    "duration": 0,
    "start_time": "2024-10-30T18:33:14.445Z"
   },
   {
    "duration": 7,
    "start_time": "2024-10-30T18:33:55.751Z"
   },
   {
    "duration": 14,
    "start_time": "2024-10-30T18:33:58.934Z"
   },
   {
    "duration": 15,
    "start_time": "2024-10-30T18:35:14.007Z"
   },
   {
    "duration": 436,
    "start_time": "2024-10-30T18:45:28.179Z"
   },
   {
    "duration": 182,
    "start_time": "2024-10-30T18:49:36.268Z"
   },
   {
    "duration": 403,
    "start_time": "2024-10-30T18:49:41.756Z"
   },
   {
    "duration": 24,
    "start_time": "2024-10-30T18:49:42.163Z"
   },
   {
    "duration": 3,
    "start_time": "2024-10-30T18:49:42.188Z"
   },
   {
    "duration": 24,
    "start_time": "2024-10-30T18:49:42.193Z"
   },
   {
    "duration": 6,
    "start_time": "2024-10-30T18:49:42.220Z"
   },
   {
    "duration": 11,
    "start_time": "2024-10-30T18:49:42.228Z"
   },
   {
    "duration": 6,
    "start_time": "2024-10-30T18:49:42.240Z"
   },
   {
    "duration": 4,
    "start_time": "2024-10-30T18:49:42.248Z"
   },
   {
    "duration": 3,
    "start_time": "2024-10-30T18:49:42.287Z"
   },
   {
    "duration": 5,
    "start_time": "2024-10-30T18:49:42.292Z"
   },
   {
    "duration": 103,
    "start_time": "2024-10-30T18:49:42.299Z"
   },
   {
    "duration": 4,
    "start_time": "2024-10-30T18:49:42.404Z"
   },
   {
    "duration": 5,
    "start_time": "2024-10-30T18:49:42.410Z"
   },
   {
    "duration": 6,
    "start_time": "2024-10-30T18:49:42.419Z"
   },
   {
    "duration": 6,
    "start_time": "2024-10-30T18:49:42.427Z"
   },
   {
    "duration": 55,
    "start_time": "2024-10-30T18:49:42.434Z"
   },
   {
    "duration": 4,
    "start_time": "2024-10-30T18:49:42.491Z"
   },
   {
    "duration": 270,
    "start_time": "2024-10-30T18:49:42.496Z"
   },
   {
    "duration": 4,
    "start_time": "2024-10-30T18:49:42.767Z"
   },
   {
    "duration": 17,
    "start_time": "2024-10-30T18:49:42.772Z"
   },
   {
    "duration": 14,
    "start_time": "2024-10-30T18:49:42.791Z"
   },
   {
    "duration": 420,
    "start_time": "2024-10-30T18:49:42.806Z"
   },
   {
    "duration": 318,
    "start_time": "2024-10-30T18:49:43.228Z"
   },
   {
    "duration": 48,
    "start_time": "2024-10-30T18:51:04.046Z"
   },
   {
    "duration": 256,
    "start_time": "2024-10-30T18:51:20.611Z"
   },
   {
    "duration": 90,
    "start_time": "2024-10-30T19:08:48.880Z"
   },
   {
    "duration": 8,
    "start_time": "2024-10-30T19:16:26.079Z"
   },
   {
    "duration": 5,
    "start_time": "2024-10-30T19:20:37.313Z"
   },
   {
    "duration": 7,
    "start_time": "2024-10-30T19:34:57.669Z"
   },
   {
    "duration": 23,
    "start_time": "2024-10-30T19:43:25.452Z"
   },
   {
    "duration": 25,
    "start_time": "2024-10-30T19:43:36.814Z"
   },
   {
    "duration": 4,
    "start_time": "2024-10-30T19:45:38.988Z"
   },
   {
    "duration": 6,
    "start_time": "2024-10-30T19:48:23.384Z"
   },
   {
    "duration": 2875,
    "start_time": "2024-10-30T21:00:44.628Z"
   },
   {
    "duration": 48,
    "start_time": "2024-10-30T21:00:47.506Z"
   },
   {
    "duration": 4,
    "start_time": "2024-10-30T21:00:47.558Z"
   },
   {
    "duration": 36,
    "start_time": "2024-10-30T21:00:47.564Z"
   },
   {
    "duration": 7,
    "start_time": "2024-10-30T21:00:47.602Z"
   },
   {
    "duration": 29,
    "start_time": "2024-10-30T21:00:47.612Z"
   },
   {
    "duration": 9,
    "start_time": "2024-10-30T21:00:47.643Z"
   },
   {
    "duration": 14,
    "start_time": "2024-10-30T21:00:47.656Z"
   },
   {
    "duration": 8,
    "start_time": "2024-10-30T21:00:47.675Z"
   },
   {
    "duration": 9,
    "start_time": "2024-10-30T21:00:47.687Z"
   },
   {
    "duration": 141,
    "start_time": "2024-10-30T21:00:47.699Z"
   },
   {
    "duration": 5,
    "start_time": "2024-10-30T21:00:47.842Z"
   },
   {
    "duration": 6,
    "start_time": "2024-10-30T21:00:47.849Z"
   },
   {
    "duration": 9,
    "start_time": "2024-10-30T21:00:47.857Z"
   },
   {
    "duration": 7,
    "start_time": "2024-10-30T21:00:47.868Z"
   },
   {
    "duration": 56,
    "start_time": "2024-10-30T21:00:47.877Z"
   },
   {
    "duration": 5,
    "start_time": "2024-10-30T21:00:47.938Z"
   },
   {
    "duration": 304,
    "start_time": "2024-10-30T21:00:47.945Z"
   },
   {
    "duration": 5,
    "start_time": "2024-10-30T21:00:48.252Z"
   },
   {
    "duration": 9,
    "start_time": "2024-10-30T21:00:48.259Z"
   },
   {
    "duration": 21,
    "start_time": "2024-10-30T21:00:48.269Z"
   },
   {
    "duration": 582,
    "start_time": "2024-10-30T21:00:48.292Z"
   },
   {
    "duration": 8,
    "start_time": "2024-10-30T21:00:48.877Z"
   },
   {
    "duration": 4,
    "start_time": "2024-10-30T21:00:48.889Z"
   },
   {
    "duration": 7,
    "start_time": "2024-10-30T21:00:48.896Z"
   },
   {
    "duration": 397,
    "start_time": "2024-10-30T21:00:48.905Z"
   },
   {
    "duration": 26,
    "start_time": "2024-10-30T21:04:12.297Z"
   },
   {
    "duration": 70,
    "start_time": "2024-10-30T21:04:38.022Z"
   },
   {
    "duration": 56,
    "start_time": "2024-10-30T21:04:50.064Z"
   },
   {
    "duration": 2445,
    "start_time": "2024-10-31T06:58:21.325Z"
   },
   {
    "duration": 33,
    "start_time": "2024-10-31T06:58:23.773Z"
   },
   {
    "duration": 3,
    "start_time": "2024-10-31T06:58:23.808Z"
   },
   {
    "duration": 30,
    "start_time": "2024-10-31T06:58:23.813Z"
   },
   {
    "duration": 4,
    "start_time": "2024-10-31T06:58:23.846Z"
   },
   {
    "duration": 11,
    "start_time": "2024-10-31T06:58:23.852Z"
   },
   {
    "duration": 5,
    "start_time": "2024-10-31T06:58:23.866Z"
   },
   {
    "duration": 3,
    "start_time": "2024-10-31T06:58:23.872Z"
   },
   {
    "duration": 3,
    "start_time": "2024-10-31T06:58:23.877Z"
   },
   {
    "duration": 3,
    "start_time": "2024-10-31T06:58:23.883Z"
   },
   {
    "duration": 125,
    "start_time": "2024-10-31T06:58:23.888Z"
   },
   {
    "duration": 5,
    "start_time": "2024-10-31T06:58:24.015Z"
   },
   {
    "duration": 5,
    "start_time": "2024-10-31T06:58:24.021Z"
   },
   {
    "duration": 8,
    "start_time": "2024-10-31T06:58:24.042Z"
   },
   {
    "duration": 6,
    "start_time": "2024-10-31T06:58:24.051Z"
   },
   {
    "duration": 25,
    "start_time": "2024-10-31T06:58:24.060Z"
   },
   {
    "duration": 5,
    "start_time": "2024-10-31T06:58:24.086Z"
   },
   {
    "duration": 274,
    "start_time": "2024-10-31T06:58:24.092Z"
   },
   {
    "duration": 4,
    "start_time": "2024-10-31T06:58:24.368Z"
   },
   {
    "duration": 6,
    "start_time": "2024-10-31T06:58:24.374Z"
   },
   {
    "duration": 14,
    "start_time": "2024-10-31T06:58:24.382Z"
   },
   {
    "duration": 420,
    "start_time": "2024-10-31T06:58:24.398Z"
   },
   {
    "duration": 7,
    "start_time": "2024-10-31T06:58:24.819Z"
   },
   {
    "duration": 15,
    "start_time": "2024-10-31T06:58:24.828Z"
   },
   {
    "duration": 5,
    "start_time": "2024-10-31T06:58:24.844Z"
   },
   {
    "duration": 285,
    "start_time": "2024-10-31T06:58:24.851Z"
   },
   {
    "duration": 24,
    "start_time": "2024-10-31T06:58:57.652Z"
   },
   {
    "duration": 23,
    "start_time": "2024-10-31T06:59:08.615Z"
   },
   {
    "duration": 12,
    "start_time": "2024-10-31T06:59:17.710Z"
   },
   {
    "duration": 18,
    "start_time": "2024-10-31T07:28:50.085Z"
   },
   {
    "duration": 13,
    "start_time": "2024-10-31T07:29:09.272Z"
   },
   {
    "duration": 2591,
    "start_time": "2024-10-31T19:11:08.398Z"
   },
   {
    "duration": 34,
    "start_time": "2024-10-31T19:11:10.991Z"
   },
   {
    "duration": 3,
    "start_time": "2024-10-31T19:11:11.026Z"
   },
   {
    "duration": 25,
    "start_time": "2024-10-31T19:11:11.031Z"
   },
   {
    "duration": 14,
    "start_time": "2024-10-31T19:11:11.058Z"
   },
   {
    "duration": 10,
    "start_time": "2024-10-31T19:11:11.074Z"
   },
   {
    "duration": 6,
    "start_time": "2024-10-31T19:11:11.085Z"
   },
   {
    "duration": 3,
    "start_time": "2024-10-31T19:11:11.094Z"
   },
   {
    "duration": 4,
    "start_time": "2024-10-31T19:11:11.098Z"
   },
   {
    "duration": 4,
    "start_time": "2024-10-31T19:11:11.103Z"
   },
   {
    "duration": 126,
    "start_time": "2024-10-31T19:11:11.109Z"
   },
   {
    "duration": 5,
    "start_time": "2024-10-31T19:11:11.237Z"
   },
   {
    "duration": 5,
    "start_time": "2024-10-31T19:11:11.244Z"
   },
   {
    "duration": 6,
    "start_time": "2024-10-31T19:11:11.269Z"
   },
   {
    "duration": 6,
    "start_time": "2024-10-31T19:11:11.277Z"
   },
   {
    "duration": 25,
    "start_time": "2024-10-31T19:11:11.285Z"
   },
   {
    "duration": 4,
    "start_time": "2024-10-31T19:11:11.312Z"
   },
   {
    "duration": 311,
    "start_time": "2024-10-31T19:11:11.318Z"
   },
   {
    "duration": 4,
    "start_time": "2024-10-31T19:11:11.631Z"
   },
   {
    "duration": 6,
    "start_time": "2024-10-31T19:11:11.637Z"
   },
   {
    "duration": 31,
    "start_time": "2024-10-31T19:11:11.644Z"
   },
   {
    "duration": 399,
    "start_time": "2024-10-31T19:11:11.677Z"
   },
   {
    "duration": 7,
    "start_time": "2024-10-31T19:11:12.077Z"
   },
   {
    "duration": 4,
    "start_time": "2024-10-31T19:11:12.086Z"
   },
   {
    "duration": 5,
    "start_time": "2024-10-31T19:11:12.092Z"
   },
   {
    "duration": 12,
    "start_time": "2024-10-31T19:11:12.098Z"
   },
   {
    "duration": 8,
    "start_time": "2024-10-31T19:11:12.112Z"
   },
   {
    "duration": 316,
    "start_time": "2024-10-31T19:11:12.122Z"
   },
   {
    "duration": 0,
    "start_time": "2024-10-31T19:11:12.440Z"
   },
   {
    "duration": 0,
    "start_time": "2024-10-31T19:11:12.441Z"
   },
   {
    "duration": 2550,
    "start_time": "2024-10-31T21:13:21.654Z"
   },
   {
    "duration": 35,
    "start_time": "2024-10-31T21:13:24.206Z"
   },
   {
    "duration": 2,
    "start_time": "2024-10-31T21:13:24.243Z"
   },
   {
    "duration": 28,
    "start_time": "2024-10-31T21:13:24.249Z"
   },
   {
    "duration": 4,
    "start_time": "2024-10-31T21:13:24.279Z"
   },
   {
    "duration": 9,
    "start_time": "2024-10-31T21:13:24.285Z"
   },
   {
    "duration": 5,
    "start_time": "2024-10-31T21:13:24.296Z"
   },
   {
    "duration": 3,
    "start_time": "2024-10-31T21:13:24.303Z"
   },
   {
    "duration": 35,
    "start_time": "2024-10-31T21:13:24.308Z"
   },
   {
    "duration": 4,
    "start_time": "2024-10-31T21:13:24.347Z"
   },
   {
    "duration": 120,
    "start_time": "2024-10-31T21:13:24.352Z"
   },
   {
    "duration": 4,
    "start_time": "2024-10-31T21:13:24.474Z"
   },
   {
    "duration": 4,
    "start_time": "2024-10-31T21:13:24.481Z"
   },
   {
    "duration": 7,
    "start_time": "2024-10-31T21:13:24.487Z"
   },
   {
    "duration": 6,
    "start_time": "2024-10-31T21:13:24.496Z"
   },
   {
    "duration": 54,
    "start_time": "2024-10-31T21:13:24.503Z"
   },
   {
    "duration": 4,
    "start_time": "2024-10-31T21:13:24.559Z"
   },
   {
    "duration": 274,
    "start_time": "2024-10-31T21:13:24.565Z"
   },
   {
    "duration": 3,
    "start_time": "2024-10-31T21:13:24.842Z"
   },
   {
    "duration": 7,
    "start_time": "2024-10-31T21:13:24.847Z"
   },
   {
    "duration": 15,
    "start_time": "2024-10-31T21:13:24.856Z"
   },
   {
    "duration": 5,
    "start_time": "2024-10-31T21:13:24.872Z"
   },
   {
    "duration": 421,
    "start_time": "2024-10-31T21:13:24.879Z"
   },
   {
    "duration": 8,
    "start_time": "2024-10-31T21:13:25.301Z"
   },
   {
    "duration": 3,
    "start_time": "2024-10-31T21:13:25.311Z"
   },
   {
    "duration": 5,
    "start_time": "2024-10-31T21:13:25.316Z"
   },
   {
    "duration": 12,
    "start_time": "2024-10-31T21:13:25.342Z"
   },
   {
    "duration": 9,
    "start_time": "2024-10-31T21:13:25.357Z"
   },
   {
    "duration": 5,
    "start_time": "2024-10-31T21:13:25.367Z"
   },
   {
    "duration": 0,
    "start_time": "2024-10-31T21:13:25.374Z"
   },
   {
    "duration": 0,
    "start_time": "2024-10-31T21:13:25.375Z"
   },
   {
    "duration": 16,
    "start_time": "2024-10-31T21:13:35.480Z"
   },
   {
    "duration": 2600,
    "start_time": "2024-11-01T00:28:45.027Z"
   },
   {
    "duration": 36,
    "start_time": "2024-11-01T00:28:47.630Z"
   },
   {
    "duration": 3,
    "start_time": "2024-11-01T00:28:47.668Z"
   },
   {
    "duration": 28,
    "start_time": "2024-11-01T00:28:47.674Z"
   },
   {
    "duration": 5,
    "start_time": "2024-11-01T00:28:47.704Z"
   },
   {
    "duration": 10,
    "start_time": "2024-11-01T00:28:47.711Z"
   },
   {
    "duration": 5,
    "start_time": "2024-11-01T00:28:47.723Z"
   },
   {
    "duration": 3,
    "start_time": "2024-11-01T00:28:47.730Z"
   },
   {
    "duration": 4,
    "start_time": "2024-11-01T00:28:47.735Z"
   },
   {
    "duration": 4,
    "start_time": "2024-11-01T00:28:47.742Z"
   },
   {
    "duration": 103,
    "start_time": "2024-11-01T00:28:47.786Z"
   },
   {
    "duration": 5,
    "start_time": "2024-11-01T00:28:47.891Z"
   },
   {
    "duration": 5,
    "start_time": "2024-11-01T00:28:47.898Z"
   },
   {
    "duration": 7,
    "start_time": "2024-11-01T00:28:47.906Z"
   },
   {
    "duration": 6,
    "start_time": "2024-11-01T00:28:47.914Z"
   },
   {
    "duration": 25,
    "start_time": "2024-11-01T00:28:47.922Z"
   },
   {
    "duration": 41,
    "start_time": "2024-11-01T00:28:47.948Z"
   },
   {
    "duration": 273,
    "start_time": "2024-11-01T00:28:47.990Z"
   },
   {
    "duration": 4,
    "start_time": "2024-11-01T00:28:48.265Z"
   },
   {
    "duration": 19,
    "start_time": "2024-11-01T00:28:48.271Z"
   },
   {
    "duration": 15,
    "start_time": "2024-11-01T00:28:48.291Z"
   },
   {
    "duration": 5,
    "start_time": "2024-11-01T00:28:48.308Z"
   },
   {
    "duration": 431,
    "start_time": "2024-11-01T00:28:48.315Z"
   },
   {
    "duration": 8,
    "start_time": "2024-11-01T00:28:48.747Z"
   },
   {
    "duration": 4,
    "start_time": "2024-11-01T00:28:48.756Z"
   },
   {
    "duration": 26,
    "start_time": "2024-11-01T00:28:48.762Z"
   },
   {
    "duration": 14,
    "start_time": "2024-11-01T00:28:48.789Z"
   },
   {
    "duration": 8,
    "start_time": "2024-11-01T00:28:48.806Z"
   },
   {
    "duration": 16,
    "start_time": "2024-11-01T00:28:48.816Z"
   },
   {
    "duration": 657,
    "start_time": "2024-11-01T00:28:48.833Z"
   },
   {
    "duration": 111,
    "start_time": "2024-11-01T00:28:58.989Z"
   },
   {
    "duration": 16,
    "start_time": "2024-11-01T00:30:10.086Z"
   },
   {
    "duration": 6,
    "start_time": "2024-11-01T00:37:20.421Z"
   },
   {
    "duration": 13,
    "start_time": "2024-11-01T00:37:31.089Z"
   },
   {
    "duration": 3,
    "start_time": "2024-11-01T00:38:01.913Z"
   },
   {
    "duration": 4,
    "start_time": "2024-11-01T00:58:06.808Z"
   },
   {
    "duration": 18,
    "start_time": "2024-11-01T00:58:18.502Z"
   },
   {
    "duration": 19,
    "start_time": "2024-11-01T00:58:41.467Z"
   },
   {
    "duration": 4,
    "start_time": "2024-11-01T01:00:21.225Z"
   },
   {
    "duration": 10,
    "start_time": "2024-11-01T01:03:25.197Z"
   },
   {
    "duration": 2637,
    "start_time": "2024-11-01T17:46:49.236Z"
   },
   {
    "duration": 35,
    "start_time": "2024-11-01T17:46:51.875Z"
   },
   {
    "duration": 2,
    "start_time": "2024-11-01T17:46:51.912Z"
   },
   {
    "duration": 26,
    "start_time": "2024-11-01T17:46:51.917Z"
   },
   {
    "duration": 6,
    "start_time": "2024-11-01T17:46:51.945Z"
   },
   {
    "duration": 12,
    "start_time": "2024-11-01T17:46:51.953Z"
   },
   {
    "duration": 7,
    "start_time": "2024-11-01T17:46:51.967Z"
   },
   {
    "duration": 4,
    "start_time": "2024-11-01T17:46:51.976Z"
   },
   {
    "duration": 4,
    "start_time": "2024-11-01T17:46:51.981Z"
   },
   {
    "duration": 43,
    "start_time": "2024-11-01T17:46:51.989Z"
   },
   {
    "duration": 105,
    "start_time": "2024-11-01T17:46:52.034Z"
   },
   {
    "duration": 6,
    "start_time": "2024-11-01T17:46:52.141Z"
   },
   {
    "duration": 4,
    "start_time": "2024-11-01T17:46:52.150Z"
   },
   {
    "duration": 9,
    "start_time": "2024-11-01T17:46:52.156Z"
   },
   {
    "duration": 10,
    "start_time": "2024-11-01T17:46:52.169Z"
   },
   {
    "duration": 31,
    "start_time": "2024-11-01T17:46:52.182Z"
   },
   {
    "duration": 6,
    "start_time": "2024-11-01T17:46:52.232Z"
   },
   {
    "duration": 270,
    "start_time": "2024-11-01T17:46:52.241Z"
   },
   {
    "duration": 4,
    "start_time": "2024-11-01T17:46:52.512Z"
   },
   {
    "duration": 15,
    "start_time": "2024-11-01T17:46:52.517Z"
   },
   {
    "duration": 15,
    "start_time": "2024-11-01T17:46:52.534Z"
   },
   {
    "duration": 4,
    "start_time": "2024-11-01T17:46:52.551Z"
   },
   {
    "duration": 431,
    "start_time": "2024-11-01T17:46:52.557Z"
   },
   {
    "duration": 7,
    "start_time": "2024-11-01T17:46:52.989Z"
   },
   {
    "duration": 5,
    "start_time": "2024-11-01T17:46:52.998Z"
   },
   {
    "duration": 5,
    "start_time": "2024-11-01T17:46:53.005Z"
   },
   {
    "duration": 32,
    "start_time": "2024-11-01T17:46:53.011Z"
   },
   {
    "duration": 9,
    "start_time": "2024-11-01T17:46:53.047Z"
   },
   {
    "duration": 5,
    "start_time": "2024-11-01T17:46:53.057Z"
   },
   {
    "duration": 17,
    "start_time": "2024-11-01T17:46:53.064Z"
   },
   {
    "duration": 48,
    "start_time": "2024-11-01T17:46:53.083Z"
   },
   {
    "duration": 4,
    "start_time": "2024-11-01T17:46:53.133Z"
   },
   {
    "duration": 12,
    "start_time": "2024-11-01T17:46:53.139Z"
   },
   {
    "duration": 5,
    "start_time": "2024-11-01T17:47:53.895Z"
   },
   {
    "duration": 3,
    "start_time": "2024-11-01T18:55:35.829Z"
   },
   {
    "duration": 27,
    "start_time": "2024-11-01T18:55:35.842Z"
   },
   {
    "duration": 3,
    "start_time": "2024-11-01T18:55:35.872Z"
   },
   {
    "duration": 27,
    "start_time": "2024-11-01T18:55:35.876Z"
   },
   {
    "duration": 26,
    "start_time": "2024-11-01T18:55:35.905Z"
   },
   {
    "duration": 12,
    "start_time": "2024-11-01T18:55:35.934Z"
   },
   {
    "duration": 6,
    "start_time": "2024-11-01T18:55:35.948Z"
   },
   {
    "duration": 4,
    "start_time": "2024-11-01T18:55:35.956Z"
   },
   {
    "duration": 4,
    "start_time": "2024-11-01T18:55:35.961Z"
   },
   {
    "duration": 4,
    "start_time": "2024-11-01T18:55:35.967Z"
   },
   {
    "duration": 123,
    "start_time": "2024-11-01T18:55:35.972Z"
   },
   {
    "duration": 5,
    "start_time": "2024-11-01T18:55:36.097Z"
   },
   {
    "duration": 5,
    "start_time": "2024-11-01T18:55:36.104Z"
   },
   {
    "duration": 26,
    "start_time": "2024-11-01T18:55:36.110Z"
   },
   {
    "duration": 7,
    "start_time": "2024-11-01T18:55:36.139Z"
   },
   {
    "duration": 111,
    "start_time": "2024-11-01T18:55:36.148Z"
   },
   {
    "duration": 5,
    "start_time": "2024-11-01T18:55:36.261Z"
   },
   {
    "duration": 259,
    "start_time": "2024-11-01T18:55:36.268Z"
   },
   {
    "duration": 3,
    "start_time": "2024-11-01T18:55:36.532Z"
   },
   {
    "duration": 7,
    "start_time": "2024-11-01T18:55:36.537Z"
   },
   {
    "duration": 12,
    "start_time": "2024-11-01T18:55:36.546Z"
   },
   {
    "duration": 5,
    "start_time": "2024-11-01T18:55:36.559Z"
   },
   {
    "duration": 286,
    "start_time": "2024-11-01T18:55:36.566Z"
   },
   {
    "duration": 6,
    "start_time": "2024-11-01T18:55:36.854Z"
   },
   {
    "duration": 4,
    "start_time": "2024-11-01T18:55:36.862Z"
   },
   {
    "duration": 5,
    "start_time": "2024-11-01T18:55:36.867Z"
   },
   {
    "duration": 11,
    "start_time": "2024-11-01T18:55:36.873Z"
   },
   {
    "duration": 7,
    "start_time": "2024-11-01T18:55:36.885Z"
   },
   {
    "duration": 41,
    "start_time": "2024-11-01T18:55:36.894Z"
   },
   {
    "duration": 13,
    "start_time": "2024-11-01T18:55:36.937Z"
   },
   {
    "duration": 16,
    "start_time": "2024-11-01T18:55:36.952Z"
   },
   {
    "duration": 4,
    "start_time": "2024-11-01T18:55:36.970Z"
   },
   {
    "duration": 10,
    "start_time": "2024-11-01T18:55:36.976Z"
   },
   {
    "duration": 3,
    "start_time": "2024-11-01T18:59:27.129Z"
   },
   {
    "duration": 25,
    "start_time": "2024-11-01T18:59:27.134Z"
   },
   {
    "duration": 3,
    "start_time": "2024-11-01T18:59:27.162Z"
   },
   {
    "duration": 26,
    "start_time": "2024-11-01T18:59:27.167Z"
   },
   {
    "duration": 5,
    "start_time": "2024-11-01T18:59:27.196Z"
   },
   {
    "duration": 12,
    "start_time": "2024-11-01T18:59:27.232Z"
   },
   {
    "duration": 6,
    "start_time": "2024-11-01T18:59:27.246Z"
   },
   {
    "duration": 4,
    "start_time": "2024-11-01T18:59:27.254Z"
   },
   {
    "duration": 4,
    "start_time": "2024-11-01T18:59:27.260Z"
   },
   {
    "duration": 4,
    "start_time": "2024-11-01T18:59:27.266Z"
   },
   {
    "duration": 121,
    "start_time": "2024-11-01T18:59:27.274Z"
   },
   {
    "duration": 5,
    "start_time": "2024-11-01T18:59:27.398Z"
   },
   {
    "duration": 5,
    "start_time": "2024-11-01T18:59:27.405Z"
   },
   {
    "duration": 24,
    "start_time": "2024-11-01T18:59:27.412Z"
   },
   {
    "duration": 6,
    "start_time": "2024-11-01T18:59:27.438Z"
   },
   {
    "duration": 25,
    "start_time": "2024-11-01T18:59:27.446Z"
   },
   {
    "duration": 5,
    "start_time": "2024-11-01T18:59:27.472Z"
   },
   {
    "duration": 297,
    "start_time": "2024-11-01T18:59:27.478Z"
   },
   {
    "duration": 3,
    "start_time": "2024-11-01T18:59:27.777Z"
   },
   {
    "duration": 5,
    "start_time": "2024-11-01T18:59:27.782Z"
   },
   {
    "duration": 11,
    "start_time": "2024-11-01T18:59:27.789Z"
   },
   {
    "duration": 4,
    "start_time": "2024-11-01T18:59:27.801Z"
   },
   {
    "duration": 262,
    "start_time": "2024-11-01T18:59:27.831Z"
   },
   {
    "duration": 8,
    "start_time": "2024-11-01T18:59:28.094Z"
   },
   {
    "duration": 5,
    "start_time": "2024-11-01T18:59:28.104Z"
   },
   {
    "duration": 8,
    "start_time": "2024-11-01T18:59:28.132Z"
   },
   {
    "duration": 11,
    "start_time": "2024-11-01T18:59:28.143Z"
   },
   {
    "duration": 7,
    "start_time": "2024-11-01T18:59:28.155Z"
   },
   {
    "duration": 4,
    "start_time": "2024-11-01T18:59:28.167Z"
   },
   {
    "duration": 14,
    "start_time": "2024-11-01T18:59:28.172Z"
   },
   {
    "duration": 44,
    "start_time": "2024-11-01T18:59:28.188Z"
   },
   {
    "duration": 4,
    "start_time": "2024-11-01T18:59:28.234Z"
   },
   {
    "duration": 10,
    "start_time": "2024-11-01T18:59:28.240Z"
   },
   {
    "duration": 3,
    "start_time": "2024-11-01T19:00:42.045Z"
   },
   {
    "duration": 24,
    "start_time": "2024-11-01T19:00:42.050Z"
   },
   {
    "duration": 3,
    "start_time": "2024-11-01T19:00:42.076Z"
   },
   {
    "duration": 28,
    "start_time": "2024-11-01T19:00:42.081Z"
   },
   {
    "duration": 22,
    "start_time": "2024-11-01T19:00:42.112Z"
   },
   {
    "duration": 13,
    "start_time": "2024-11-01T19:00:42.137Z"
   },
   {
    "duration": 7,
    "start_time": "2024-11-01T19:00:42.152Z"
   },
   {
    "duration": 4,
    "start_time": "2024-11-01T19:00:42.160Z"
   },
   {
    "duration": 4,
    "start_time": "2024-11-01T19:00:42.165Z"
   },
   {
    "duration": 5,
    "start_time": "2024-11-01T19:00:42.172Z"
   },
   {
    "duration": 123,
    "start_time": "2024-11-01T19:00:42.178Z"
   },
   {
    "duration": 5,
    "start_time": "2024-11-01T19:00:42.303Z"
   },
   {
    "duration": 17,
    "start_time": "2024-11-01T19:00:42.313Z"
   },
   {
    "duration": 8,
    "start_time": "2024-11-01T19:00:42.332Z"
   },
   {
    "duration": 6,
    "start_time": "2024-11-01T19:00:42.341Z"
   },
   {
    "duration": 28,
    "start_time": "2024-11-01T19:00:42.349Z"
   },
   {
    "duration": 5,
    "start_time": "2024-11-01T19:00:42.379Z"
   },
   {
    "duration": 369,
    "start_time": "2024-11-01T19:00:42.385Z"
   },
   {
    "duration": 4,
    "start_time": "2024-11-01T19:00:42.756Z"
   },
   {
    "duration": 6,
    "start_time": "2024-11-01T19:00:42.762Z"
   },
   {
    "duration": 11,
    "start_time": "2024-11-01T19:00:42.769Z"
   },
   {
    "duration": 5,
    "start_time": "2024-11-01T19:00:42.783Z"
   },
   {
    "duration": 305,
    "start_time": "2024-11-01T19:00:42.790Z"
   },
   {
    "duration": 11,
    "start_time": "2024-11-01T19:00:43.097Z"
   },
   {
    "duration": 6,
    "start_time": "2024-11-01T19:00:43.110Z"
   },
   {
    "duration": 6,
    "start_time": "2024-11-01T19:00:43.131Z"
   },
   {
    "duration": 10,
    "start_time": "2024-11-01T19:00:43.139Z"
   },
   {
    "duration": 8,
    "start_time": "2024-11-01T19:00:43.151Z"
   },
   {
    "duration": 6,
    "start_time": "2024-11-01T19:00:43.160Z"
   },
   {
    "duration": 16,
    "start_time": "2024-11-01T19:00:43.167Z"
   },
   {
    "duration": 47,
    "start_time": "2024-11-01T19:00:43.185Z"
   },
   {
    "duration": 5,
    "start_time": "2024-11-01T19:00:43.234Z"
   },
   {
    "duration": 14,
    "start_time": "2024-11-01T19:00:43.242Z"
   },
   {
    "duration": 3,
    "start_time": "2024-11-01T19:01:30.089Z"
   },
   {
    "duration": 25,
    "start_time": "2024-11-01T19:01:30.094Z"
   },
   {
    "duration": 3,
    "start_time": "2024-11-01T19:01:30.122Z"
   },
   {
    "duration": 33,
    "start_time": "2024-11-01T19:01:30.127Z"
   },
   {
    "duration": 6,
    "start_time": "2024-11-01T19:01:30.162Z"
   },
   {
    "duration": 13,
    "start_time": "2024-11-01T19:01:30.171Z"
   },
   {
    "duration": 7,
    "start_time": "2024-11-01T19:01:30.186Z"
   },
   {
    "duration": 6,
    "start_time": "2024-11-01T19:01:30.197Z"
   },
   {
    "duration": 26,
    "start_time": "2024-11-01T19:01:30.205Z"
   },
   {
    "duration": 4,
    "start_time": "2024-11-01T19:01:30.233Z"
   },
   {
    "duration": 94,
    "start_time": "2024-11-01T19:01:30.239Z"
   },
   {
    "duration": 5,
    "start_time": "2024-11-01T19:01:30.335Z"
   },
   {
    "duration": 5,
    "start_time": "2024-11-01T19:01:30.343Z"
   },
   {
    "duration": 8,
    "start_time": "2024-11-01T19:01:30.349Z"
   },
   {
    "duration": 6,
    "start_time": "2024-11-01T19:01:30.358Z"
   },
   {
    "duration": 65,
    "start_time": "2024-11-01T19:01:30.366Z"
   },
   {
    "duration": 5,
    "start_time": "2024-11-01T19:01:30.433Z"
   },
   {
    "duration": 261,
    "start_time": "2024-11-01T19:01:30.439Z"
   },
   {
    "duration": 4,
    "start_time": "2024-11-01T19:01:30.701Z"
   },
   {
    "duration": 6,
    "start_time": "2024-11-01T19:01:30.707Z"
   },
   {
    "duration": 13,
    "start_time": "2024-11-01T19:01:30.730Z"
   },
   {
    "duration": 4,
    "start_time": "2024-11-01T19:01:30.745Z"
   },
   {
    "duration": 299,
    "start_time": "2024-11-01T19:01:30.751Z"
   },
   {
    "duration": 6,
    "start_time": "2024-11-01T19:01:31.052Z"
   },
   {
    "duration": 4,
    "start_time": "2024-11-01T19:01:31.060Z"
   },
   {
    "duration": 6,
    "start_time": "2024-11-01T19:01:31.065Z"
   },
   {
    "duration": 11,
    "start_time": "2024-11-01T19:01:31.072Z"
   },
   {
    "duration": 7,
    "start_time": "2024-11-01T19:01:31.084Z"
   },
   {
    "duration": 39,
    "start_time": "2024-11-01T19:01:31.092Z"
   },
   {
    "duration": 16,
    "start_time": "2024-11-01T19:01:31.133Z"
   },
   {
    "duration": 12,
    "start_time": "2024-11-01T19:01:31.150Z"
   },
   {
    "duration": 4,
    "start_time": "2024-11-01T19:01:31.164Z"
   },
   {
    "duration": 11,
    "start_time": "2024-11-01T19:01:31.169Z"
   },
   {
    "duration": 3,
    "start_time": "2024-11-01T19:02:02.740Z"
   },
   {
    "duration": 24,
    "start_time": "2024-11-01T19:02:02.755Z"
   },
   {
    "duration": 2,
    "start_time": "2024-11-01T19:02:02.782Z"
   },
   {
    "duration": 30,
    "start_time": "2024-11-01T19:02:02.787Z"
   },
   {
    "duration": 15,
    "start_time": "2024-11-01T19:02:02.819Z"
   },
   {
    "duration": 14,
    "start_time": "2024-11-01T19:02:02.837Z"
   },
   {
    "duration": 6,
    "start_time": "2024-11-01T19:02:02.852Z"
   },
   {
    "duration": 5,
    "start_time": "2024-11-01T19:02:02.859Z"
   },
   {
    "duration": 3,
    "start_time": "2024-11-01T19:02:02.865Z"
   },
   {
    "duration": 4,
    "start_time": "2024-11-01T19:02:02.870Z"
   },
   {
    "duration": 130,
    "start_time": "2024-11-01T19:02:02.876Z"
   },
   {
    "duration": 5,
    "start_time": "2024-11-01T19:02:03.008Z"
   },
   {
    "duration": 17,
    "start_time": "2024-11-01T19:02:03.015Z"
   },
   {
    "duration": 9,
    "start_time": "2024-11-01T19:02:03.034Z"
   },
   {
    "duration": 6,
    "start_time": "2024-11-01T19:02:03.047Z"
   },
   {
    "duration": 29,
    "start_time": "2024-11-01T19:02:03.056Z"
   },
   {
    "duration": 5,
    "start_time": "2024-11-01T19:02:03.087Z"
   },
   {
    "duration": 345,
    "start_time": "2024-11-01T19:02:03.093Z"
   },
   {
    "duration": 4,
    "start_time": "2024-11-01T19:02:03.440Z"
   },
   {
    "duration": 6,
    "start_time": "2024-11-01T19:02:03.445Z"
   },
   {
    "duration": 12,
    "start_time": "2024-11-01T19:02:03.452Z"
   },
   {
    "duration": 4,
    "start_time": "2024-11-01T19:02:03.465Z"
   },
   {
    "duration": 374,
    "start_time": "2024-11-01T19:02:03.471Z"
   },
   {
    "duration": 7,
    "start_time": "2024-11-01T19:02:03.848Z"
   },
   {
    "duration": 4,
    "start_time": "2024-11-01T19:02:03.859Z"
   },
   {
    "duration": 6,
    "start_time": "2024-11-01T19:02:03.865Z"
   },
   {
    "duration": 14,
    "start_time": "2024-11-01T19:02:03.874Z"
   },
   {
    "duration": 9,
    "start_time": "2024-11-01T19:02:03.890Z"
   },
   {
    "duration": 7,
    "start_time": "2024-11-01T19:02:03.932Z"
   },
   {
    "duration": 15,
    "start_time": "2024-11-01T19:02:03.941Z"
   },
   {
    "duration": 12,
    "start_time": "2024-11-01T19:02:03.957Z"
   },
   {
    "duration": 5,
    "start_time": "2024-11-01T19:02:03.970Z"
   },
   {
    "duration": 9,
    "start_time": "2024-11-01T19:02:03.977Z"
   },
   {
    "duration": 4,
    "start_time": "2024-11-01T19:03:53.242Z"
   },
   {
    "duration": 2,
    "start_time": "2024-11-01T19:05:04.013Z"
   },
   {
    "duration": 36,
    "start_time": "2024-11-01T19:05:04.018Z"
   },
   {
    "duration": 4,
    "start_time": "2024-11-01T19:05:04.056Z"
   },
   {
    "duration": 28,
    "start_time": "2024-11-01T19:05:04.061Z"
   },
   {
    "duration": 6,
    "start_time": "2024-11-01T19:05:04.093Z"
   },
   {
    "duration": 31,
    "start_time": "2024-11-01T19:05:04.101Z"
   },
   {
    "duration": 9,
    "start_time": "2024-11-01T19:05:04.133Z"
   },
   {
    "duration": 5,
    "start_time": "2024-11-01T19:05:04.144Z"
   },
   {
    "duration": 4,
    "start_time": "2024-11-01T19:05:04.151Z"
   },
   {
    "duration": 4,
    "start_time": "2024-11-01T19:05:04.157Z"
   },
   {
    "duration": 125,
    "start_time": "2024-11-01T19:05:04.163Z"
   },
   {
    "duration": 5,
    "start_time": "2024-11-01T19:05:04.290Z"
   },
   {
    "duration": 6,
    "start_time": "2024-11-01T19:05:04.296Z"
   },
   {
    "duration": 6,
    "start_time": "2024-11-01T19:05:04.306Z"
   },
   {
    "duration": 20,
    "start_time": "2024-11-01T19:05:04.314Z"
   },
   {
    "duration": 41,
    "start_time": "2024-11-01T19:05:04.336Z"
   },
   {
    "duration": 4,
    "start_time": "2024-11-01T19:05:04.379Z"
   },
   {
    "duration": 327,
    "start_time": "2024-11-01T19:05:04.385Z"
   },
   {
    "duration": 3,
    "start_time": "2024-11-01T19:05:04.714Z"
   },
   {
    "duration": 6,
    "start_time": "2024-11-01T19:05:04.719Z"
   },
   {
    "duration": 22,
    "start_time": "2024-11-01T19:05:04.730Z"
   },
   {
    "duration": 5,
    "start_time": "2024-11-01T19:05:04.762Z"
   },
   {
    "duration": 316,
    "start_time": "2024-11-01T19:05:04.769Z"
   },
   {
    "duration": 9,
    "start_time": "2024-11-01T19:05:05.089Z"
   },
   {
    "duration": 4,
    "start_time": "2024-11-01T19:05:05.100Z"
   },
   {
    "duration": 5,
    "start_time": "2024-11-01T19:05:05.107Z"
   },
   {
    "duration": 24,
    "start_time": "2024-11-01T19:05:05.114Z"
   },
   {
    "duration": 15,
    "start_time": "2024-11-01T19:05:05.141Z"
   },
   {
    "duration": 8,
    "start_time": "2024-11-01T19:05:05.158Z"
   },
   {
    "duration": 17,
    "start_time": "2024-11-01T19:05:05.168Z"
   },
   {
    "duration": 11,
    "start_time": "2024-11-01T19:05:05.187Z"
   },
   {
    "duration": 3,
    "start_time": "2024-11-01T19:05:05.200Z"
   },
   {
    "duration": 28,
    "start_time": "2024-11-01T19:05:05.231Z"
   },
   {
    "duration": 160,
    "start_time": "2024-11-01T19:43:13.473Z"
   },
   {
    "duration": 2602,
    "start_time": "2024-11-01T19:43:31.323Z"
   },
   {
    "duration": 35,
    "start_time": "2024-11-01T19:43:33.927Z"
   },
   {
    "duration": 3,
    "start_time": "2024-11-01T19:43:33.964Z"
   },
   {
    "duration": 36,
    "start_time": "2024-11-01T19:43:33.968Z"
   },
   {
    "duration": 7,
    "start_time": "2024-11-01T19:43:34.007Z"
   },
   {
    "duration": 26,
    "start_time": "2024-11-01T19:43:34.015Z"
   },
   {
    "duration": 6,
    "start_time": "2024-11-01T19:43:34.043Z"
   },
   {
    "duration": 3,
    "start_time": "2024-11-01T19:43:34.051Z"
   },
   {
    "duration": 3,
    "start_time": "2024-11-01T19:43:34.056Z"
   },
   {
    "duration": 4,
    "start_time": "2024-11-01T19:43:34.061Z"
   },
   {
    "duration": 130,
    "start_time": "2024-11-01T19:43:34.067Z"
   },
   {
    "duration": 5,
    "start_time": "2024-11-01T19:43:34.199Z"
   },
   {
    "duration": 5,
    "start_time": "2024-11-01T19:43:34.207Z"
   },
   {
    "duration": 21,
    "start_time": "2024-11-01T19:43:34.217Z"
   },
   {
    "duration": 6,
    "start_time": "2024-11-01T19:43:34.240Z"
   },
   {
    "duration": 26,
    "start_time": "2024-11-01T19:43:34.248Z"
   },
   {
    "duration": 5,
    "start_time": "2024-11-01T19:43:34.277Z"
   },
   {
    "duration": 304,
    "start_time": "2024-11-01T19:43:34.284Z"
   },
   {
    "duration": 3,
    "start_time": "2024-11-01T19:43:34.590Z"
   },
   {
    "duration": 6,
    "start_time": "2024-11-01T19:43:34.595Z"
   },
   {
    "duration": 32,
    "start_time": "2024-11-01T19:43:34.603Z"
   },
   {
    "duration": 4,
    "start_time": "2024-11-01T19:43:34.636Z"
   },
   {
    "duration": 318,
    "start_time": "2024-11-01T19:43:34.642Z"
   },
   {
    "duration": 7,
    "start_time": "2024-11-01T19:43:34.962Z"
   },
   {
    "duration": 4,
    "start_time": "2024-11-01T19:43:34.972Z"
   },
   {
    "duration": 6,
    "start_time": "2024-11-01T19:43:34.978Z"
   },
   {
    "duration": 11,
    "start_time": "2024-11-01T19:43:34.985Z"
   },
   {
    "duration": 39,
    "start_time": "2024-11-01T19:43:34.998Z"
   },
   {
    "duration": 7,
    "start_time": "2024-11-01T19:43:35.039Z"
   },
   {
    "duration": 18,
    "start_time": "2024-11-01T19:43:35.048Z"
   },
   {
    "duration": 13,
    "start_time": "2024-11-01T19:43:35.069Z"
   },
   {
    "duration": 3,
    "start_time": "2024-11-01T19:43:35.085Z"
   },
   {
    "duration": 9,
    "start_time": "2024-11-01T19:43:35.090Z"
   },
   {
    "duration": 3,
    "start_time": "2024-11-01T19:52:58.436Z"
   },
   {
    "duration": 24,
    "start_time": "2024-11-01T19:52:58.441Z"
   },
   {
    "duration": 3,
    "start_time": "2024-11-01T19:52:58.467Z"
   },
   {
    "duration": 26,
    "start_time": "2024-11-01T19:52:58.472Z"
   },
   {
    "duration": 5,
    "start_time": "2024-11-01T19:52:58.500Z"
   },
   {
    "duration": 11,
    "start_time": "2024-11-01T19:52:58.530Z"
   },
   {
    "duration": 6,
    "start_time": "2024-11-01T19:52:58.543Z"
   },
   {
    "duration": 3,
    "start_time": "2024-11-01T19:52:58.551Z"
   },
   {
    "duration": 4,
    "start_time": "2024-11-01T19:52:58.555Z"
   },
   {
    "duration": 5,
    "start_time": "2024-11-01T19:52:58.560Z"
   },
   {
    "duration": 119,
    "start_time": "2024-11-01T19:52:58.569Z"
   },
   {
    "duration": 5,
    "start_time": "2024-11-01T19:52:58.690Z"
   },
   {
    "duration": 5,
    "start_time": "2024-11-01T19:52:58.696Z"
   },
   {
    "duration": 30,
    "start_time": "2024-11-01T19:52:58.702Z"
   },
   {
    "duration": 7,
    "start_time": "2024-11-01T19:52:58.734Z"
   },
   {
    "duration": 28,
    "start_time": "2024-11-01T19:52:58.742Z"
   },
   {
    "duration": 5,
    "start_time": "2024-11-01T19:52:58.772Z"
   },
   {
    "duration": 294,
    "start_time": "2024-11-01T19:52:58.779Z"
   },
   {
    "duration": 3,
    "start_time": "2024-11-01T19:52:59.075Z"
   },
   {
    "duration": 6,
    "start_time": "2024-11-01T19:52:59.080Z"
   },
   {
    "duration": 13,
    "start_time": "2024-11-01T19:52:59.088Z"
   },
   {
    "duration": 4,
    "start_time": "2024-11-01T19:52:59.103Z"
   },
   {
    "duration": 263,
    "start_time": "2024-11-01T19:52:59.132Z"
   },
   {
    "duration": 7,
    "start_time": "2024-11-01T19:52:59.397Z"
   },
   {
    "duration": 5,
    "start_time": "2024-11-01T19:52:59.406Z"
   },
   {
    "duration": 21,
    "start_time": "2024-11-01T19:52:59.413Z"
   },
   {
    "duration": 11,
    "start_time": "2024-11-01T19:52:59.436Z"
   },
   {
    "duration": 8,
    "start_time": "2024-11-01T19:52:59.449Z"
   },
   {
    "duration": 5,
    "start_time": "2024-11-01T19:52:59.461Z"
   },
   {
    "duration": 15,
    "start_time": "2024-11-01T19:52:59.468Z"
   },
   {
    "duration": 50,
    "start_time": "2024-11-01T19:52:59.485Z"
   },
   {
    "duration": 4,
    "start_time": "2024-11-01T19:52:59.537Z"
   },
   {
    "duration": 8,
    "start_time": "2024-11-01T19:52:59.543Z"
   },
   {
    "duration": 2,
    "start_time": "2024-11-01T19:53:36.650Z"
   },
   {
    "duration": 23,
    "start_time": "2024-11-01T19:53:36.657Z"
   },
   {
    "duration": 3,
    "start_time": "2024-11-01T19:53:36.681Z"
   },
   {
    "duration": 25,
    "start_time": "2024-11-01T19:53:36.687Z"
   },
   {
    "duration": 5,
    "start_time": "2024-11-01T19:53:36.714Z"
   },
   {
    "duration": 17,
    "start_time": "2024-11-01T19:53:36.721Z"
   },
   {
    "duration": 7,
    "start_time": "2024-11-01T19:53:36.740Z"
   },
   {
    "duration": 4,
    "start_time": "2024-11-01T19:53:36.748Z"
   },
   {
    "duration": 4,
    "start_time": "2024-11-01T19:53:36.755Z"
   },
   {
    "duration": 4,
    "start_time": "2024-11-01T19:53:36.760Z"
   },
   {
    "duration": 125,
    "start_time": "2024-11-01T19:53:36.766Z"
   },
   {
    "duration": 6,
    "start_time": "2024-11-01T19:53:36.893Z"
   },
   {
    "duration": 6,
    "start_time": "2024-11-01T19:53:36.901Z"
   },
   {
    "duration": 23,
    "start_time": "2024-11-01T19:53:36.908Z"
   },
   {
    "duration": 8,
    "start_time": "2024-11-01T19:53:36.933Z"
   },
   {
    "duration": 33,
    "start_time": "2024-11-01T19:53:36.943Z"
   },
   {
    "duration": 6,
    "start_time": "2024-11-01T19:53:36.978Z"
   },
   {
    "duration": 287,
    "start_time": "2024-11-01T19:53:36.987Z"
   },
   {
    "duration": 4,
    "start_time": "2024-11-01T19:53:37.276Z"
   },
   {
    "duration": 6,
    "start_time": "2024-11-01T19:53:37.282Z"
   },
   {
    "duration": 11,
    "start_time": "2024-11-01T19:53:37.289Z"
   },
   {
    "duration": 4,
    "start_time": "2024-11-01T19:53:37.302Z"
   },
   {
    "duration": 267,
    "start_time": "2024-11-01T19:53:37.331Z"
   },
   {
    "duration": 7,
    "start_time": "2024-11-01T19:53:37.601Z"
   },
   {
    "duration": 5,
    "start_time": "2024-11-01T19:53:37.609Z"
   },
   {
    "duration": 5,
    "start_time": "2024-11-01T19:53:37.631Z"
   },
   {
    "duration": 16,
    "start_time": "2024-11-01T19:53:37.638Z"
   },
   {
    "duration": 10,
    "start_time": "2024-11-01T19:53:37.656Z"
   },
   {
    "duration": 7,
    "start_time": "2024-11-01T19:53:37.668Z"
   },
   {
    "duration": 14,
    "start_time": "2024-11-01T19:53:37.678Z"
   },
   {
    "duration": 139,
    "start_time": "2024-11-01T19:53:37.694Z"
   },
   {
    "duration": 4,
    "start_time": "2024-11-01T19:53:37.835Z"
   },
   {
    "duration": 9,
    "start_time": "2024-11-01T19:53:37.841Z"
   },
   {
    "duration": 3,
    "start_time": "2024-11-01T19:54:23.550Z"
   },
   {
    "duration": 24,
    "start_time": "2024-11-01T19:54:23.555Z"
   },
   {
    "duration": 3,
    "start_time": "2024-11-01T19:54:23.581Z"
   },
   {
    "duration": 28,
    "start_time": "2024-11-01T19:54:23.586Z"
   },
   {
    "duration": 14,
    "start_time": "2024-11-01T19:54:23.617Z"
   },
   {
    "duration": 11,
    "start_time": "2024-11-01T19:54:23.633Z"
   },
   {
    "duration": 5,
    "start_time": "2024-11-01T19:54:23.646Z"
   },
   {
    "duration": 4,
    "start_time": "2024-11-01T19:54:23.653Z"
   },
   {
    "duration": 4,
    "start_time": "2024-11-01T19:54:23.658Z"
   },
   {
    "duration": 4,
    "start_time": "2024-11-01T19:54:23.663Z"
   },
   {
    "duration": 124,
    "start_time": "2024-11-01T19:54:23.670Z"
   },
   {
    "duration": 5,
    "start_time": "2024-11-01T19:54:23.796Z"
   },
   {
    "duration": 5,
    "start_time": "2024-11-01T19:54:23.802Z"
   },
   {
    "duration": 23,
    "start_time": "2024-11-01T19:54:23.809Z"
   },
   {
    "duration": 7,
    "start_time": "2024-11-01T19:54:23.835Z"
   },
   {
    "duration": 28,
    "start_time": "2024-11-01T19:54:23.844Z"
   },
   {
    "duration": 5,
    "start_time": "2024-11-01T19:54:23.875Z"
   },
   {
    "duration": 293,
    "start_time": "2024-11-01T19:54:23.881Z"
   },
   {
    "duration": 4,
    "start_time": "2024-11-01T19:54:24.176Z"
   },
   {
    "duration": 6,
    "start_time": "2024-11-01T19:54:24.182Z"
   },
   {
    "duration": 13,
    "start_time": "2024-11-01T19:54:24.189Z"
   },
   {
    "duration": 30,
    "start_time": "2024-11-01T19:54:24.204Z"
   },
   {
    "duration": 295,
    "start_time": "2024-11-01T19:54:24.236Z"
   },
   {
    "duration": 7,
    "start_time": "2024-11-01T19:54:24.533Z"
   },
   {
    "duration": 3,
    "start_time": "2024-11-01T19:54:24.543Z"
   },
   {
    "duration": 6,
    "start_time": "2024-11-01T19:54:24.549Z"
   },
   {
    "duration": 12,
    "start_time": "2024-11-01T19:54:24.557Z"
   },
   {
    "duration": 10,
    "start_time": "2024-11-01T19:54:24.571Z"
   },
   {
    "duration": 47,
    "start_time": "2024-11-01T19:54:24.585Z"
   },
   {
    "duration": 16,
    "start_time": "2024-11-01T19:54:24.634Z"
   },
   {
    "duration": 12,
    "start_time": "2024-11-01T19:54:24.652Z"
   },
   {
    "duration": 3,
    "start_time": "2024-11-01T19:54:24.666Z"
   },
   {
    "duration": 11,
    "start_time": "2024-11-01T19:54:24.671Z"
   },
   {
    "duration": 6,
    "start_time": "2024-11-01T19:55:02.962Z"
   },
   {
    "duration": 2,
    "start_time": "2024-11-01T19:56:24.310Z"
   },
   {
    "duration": 24,
    "start_time": "2024-11-01T19:56:24.314Z"
   },
   {
    "duration": 4,
    "start_time": "2024-11-01T19:56:24.340Z"
   },
   {
    "duration": 28,
    "start_time": "2024-11-01T19:56:24.346Z"
   },
   {
    "duration": 6,
    "start_time": "2024-11-01T19:56:24.377Z"
   },
   {
    "duration": 11,
    "start_time": "2024-11-01T19:56:24.386Z"
   },
   {
    "duration": 35,
    "start_time": "2024-11-01T19:56:24.399Z"
   },
   {
    "duration": 4,
    "start_time": "2024-11-01T19:56:24.437Z"
   },
   {
    "duration": 4,
    "start_time": "2024-11-01T19:56:24.442Z"
   },
   {
    "duration": 4,
    "start_time": "2024-11-01T19:56:24.448Z"
   },
   {
    "duration": 117,
    "start_time": "2024-11-01T19:56:24.454Z"
   },
   {
    "duration": 6,
    "start_time": "2024-11-01T19:56:24.575Z"
   },
   {
    "duration": 8,
    "start_time": "2024-11-01T19:56:24.587Z"
   },
   {
    "duration": 8,
    "start_time": "2024-11-01T19:56:24.598Z"
   },
   {
    "duration": 22,
    "start_time": "2024-11-01T19:56:24.609Z"
   },
   {
    "duration": 28,
    "start_time": "2024-11-01T19:56:24.634Z"
   },
   {
    "duration": 4,
    "start_time": "2024-11-01T19:56:24.665Z"
   },
   {
    "duration": 300,
    "start_time": "2024-11-01T19:56:24.670Z"
   },
   {
    "duration": 5,
    "start_time": "2024-11-01T19:56:24.972Z"
   },
   {
    "duration": 6,
    "start_time": "2024-11-01T19:56:24.979Z"
   },
   {
    "duration": 11,
    "start_time": "2024-11-01T19:56:24.987Z"
   },
   {
    "duration": 32,
    "start_time": "2024-11-01T19:56:25.000Z"
   },
   {
    "duration": 253,
    "start_time": "2024-11-01T19:56:25.035Z"
   },
   {
    "duration": 6,
    "start_time": "2024-11-01T19:56:25.290Z"
   },
   {
    "duration": 4,
    "start_time": "2024-11-01T19:56:25.298Z"
   },
   {
    "duration": 27,
    "start_time": "2024-11-01T19:56:25.304Z"
   },
   {
    "duration": 11,
    "start_time": "2024-11-01T19:56:25.333Z"
   },
   {
    "duration": 7,
    "start_time": "2024-11-01T19:56:25.346Z"
   },
   {
    "duration": 4,
    "start_time": "2024-11-01T19:56:25.355Z"
   },
   {
    "duration": 13,
    "start_time": "2024-11-01T19:56:25.361Z"
   },
   {
    "duration": 13,
    "start_time": "2024-11-01T19:56:25.376Z"
   },
   {
    "duration": 3,
    "start_time": "2024-11-01T19:56:25.392Z"
   },
   {
    "duration": 42,
    "start_time": "2024-11-01T19:56:25.397Z"
   },
   {
    "duration": 5,
    "start_time": "2024-11-01T19:57:21.177Z"
   },
   {
    "duration": 40,
    "start_time": "2024-11-01T20:25:21.087Z"
   },
   {
    "duration": 99,
    "start_time": "2024-11-01T20:38:55.002Z"
   },
   {
    "duration": 508,
    "start_time": "2024-11-01T20:40:44.644Z"
   },
   {
    "duration": 184,
    "start_time": "2024-11-01T20:40:46.934Z"
   },
   {
    "duration": 57,
    "start_time": "2024-11-01T20:41:02.221Z"
   },
   {
    "duration": 101,
    "start_time": "2024-11-01T20:41:08.937Z"
   },
   {
    "duration": 13212,
    "start_time": "2024-11-01T20:42:14.834Z"
   },
   {
    "duration": 107,
    "start_time": "2024-11-01T20:42:28.048Z"
   },
   {
    "duration": 97,
    "start_time": "2024-11-01T20:42:37.519Z"
   },
   {
    "duration": 38,
    "start_time": "2024-11-01T20:44:10.910Z"
   },
   {
    "duration": 119,
    "start_time": "2024-11-01T20:44:12.880Z"
   },
   {
    "duration": 3,
    "start_time": "2024-11-01T20:44:33.440Z"
   },
   {
    "duration": 36,
    "start_time": "2024-11-01T20:44:33.448Z"
   },
   {
    "duration": 3,
    "start_time": "2024-11-01T20:44:33.486Z"
   },
   {
    "duration": 25,
    "start_time": "2024-11-01T20:44:33.491Z"
   },
   {
    "duration": 8,
    "start_time": "2024-11-01T20:44:33.534Z"
   },
   {
    "duration": 14,
    "start_time": "2024-11-01T20:44:33.544Z"
   },
   {
    "duration": 7,
    "start_time": "2024-11-01T20:44:33.561Z"
   },
   {
    "duration": 9,
    "start_time": "2024-11-01T20:44:33.570Z"
   },
   {
    "duration": 3,
    "start_time": "2024-11-01T20:44:33.583Z"
   },
   {
    "duration": 5,
    "start_time": "2024-11-01T20:44:33.588Z"
   },
   {
    "duration": 130,
    "start_time": "2024-11-01T20:44:33.597Z"
   },
   {
    "duration": 6,
    "start_time": "2024-11-01T20:44:33.732Z"
   },
   {
    "duration": 6,
    "start_time": "2024-11-01T20:44:33.741Z"
   },
   {
    "duration": 12,
    "start_time": "2024-11-01T20:44:33.749Z"
   },
   {
    "duration": 8,
    "start_time": "2024-11-01T20:44:33.763Z"
   },
   {
    "duration": 63,
    "start_time": "2024-11-01T20:44:33.773Z"
   },
   {
    "duration": 123,
    "start_time": "2024-11-01T20:44:33.838Z"
   },
   {
    "duration": 30,
    "start_time": "2024-11-01T20:44:33.963Z"
   },
   {
    "duration": 5,
    "start_time": "2024-11-01T20:44:33.995Z"
   },
   {
    "duration": 340,
    "start_time": "2024-11-01T20:44:34.003Z"
   },
   {
    "duration": 4,
    "start_time": "2024-11-01T20:44:34.345Z"
   },
   {
    "duration": 7,
    "start_time": "2024-11-01T20:44:34.352Z"
   },
   {
    "duration": 15,
    "start_time": "2024-11-01T20:44:34.361Z"
   },
   {
    "duration": 4,
    "start_time": "2024-11-01T20:44:34.378Z"
   },
   {
    "duration": 330,
    "start_time": "2024-11-01T20:44:34.384Z"
   },
   {
    "duration": 16,
    "start_time": "2024-11-01T20:44:34.715Z"
   },
   {
    "duration": 6,
    "start_time": "2024-11-01T20:44:34.733Z"
   },
   {
    "duration": 6,
    "start_time": "2024-11-01T20:44:34.740Z"
   },
   {
    "duration": 11,
    "start_time": "2024-11-01T20:44:34.750Z"
   },
   {
    "duration": 9,
    "start_time": "2024-11-01T20:44:34.762Z"
   },
   {
    "duration": 7,
    "start_time": "2024-11-01T20:44:34.773Z"
   },
   {
    "duration": 53,
    "start_time": "2024-11-01T20:44:34.782Z"
   },
   {
    "duration": 14,
    "start_time": "2024-11-01T20:44:34.838Z"
   },
   {
    "duration": 3,
    "start_time": "2024-11-01T20:44:34.857Z"
   },
   {
    "duration": 12,
    "start_time": "2024-11-01T20:44:34.863Z"
   },
   {
    "duration": 47,
    "start_time": "2024-11-01T20:45:26.258Z"
   },
   {
    "duration": 36,
    "start_time": "2024-11-01T20:46:50.174Z"
   },
   {
    "duration": 3,
    "start_time": "2024-11-01T21:10:21.151Z"
   },
   {
    "duration": 32,
    "start_time": "2024-11-01T21:10:21.162Z"
   },
   {
    "duration": 24,
    "start_time": "2024-11-01T21:10:21.197Z"
   },
   {
    "duration": 42,
    "start_time": "2024-11-01T21:10:21.223Z"
   },
   {
    "duration": 10,
    "start_time": "2024-11-01T21:10:21.268Z"
   },
   {
    "duration": 15,
    "start_time": "2024-11-01T21:10:21.281Z"
   },
   {
    "duration": 7,
    "start_time": "2024-11-01T21:10:21.300Z"
   },
   {
    "duration": 4,
    "start_time": "2024-11-01T21:10:21.332Z"
   },
   {
    "duration": 4,
    "start_time": "2024-11-01T21:10:21.338Z"
   },
   {
    "duration": 4,
    "start_time": "2024-11-01T21:10:21.345Z"
   },
   {
    "duration": 137,
    "start_time": "2024-11-01T21:10:21.351Z"
   },
   {
    "duration": 6,
    "start_time": "2024-11-01T21:10:21.490Z"
   },
   {
    "duration": 6,
    "start_time": "2024-11-01T21:10:21.498Z"
   },
   {
    "duration": 29,
    "start_time": "2024-11-01T21:10:21.506Z"
   },
   {
    "duration": 10,
    "start_time": "2024-11-01T21:10:21.539Z"
   },
   {
    "duration": 48,
    "start_time": "2024-11-01T21:10:21.552Z"
   },
   {
    "duration": 157,
    "start_time": "2024-11-01T21:10:21.603Z"
   },
   {
    "duration": 33,
    "start_time": "2024-11-01T21:10:21.762Z"
   },
   {
    "duration": 5,
    "start_time": "2024-11-01T21:10:21.797Z"
   },
   {
    "duration": 365,
    "start_time": "2024-11-01T21:10:21.806Z"
   },
   {
    "duration": 7,
    "start_time": "2024-11-01T21:10:22.174Z"
   },
   {
    "duration": 7,
    "start_time": "2024-11-01T21:10:22.184Z"
   },
   {
    "duration": 14,
    "start_time": "2024-11-01T21:10:22.193Z"
   },
   {
    "duration": 5,
    "start_time": "2024-11-01T21:10:22.209Z"
   },
   {
    "duration": 326,
    "start_time": "2024-11-01T21:10:22.233Z"
   },
   {
    "duration": 8,
    "start_time": "2024-11-01T21:10:22.564Z"
   },
   {
    "duration": 8,
    "start_time": "2024-11-01T21:10:22.574Z"
   },
   {
    "duration": 11,
    "start_time": "2024-11-01T21:10:22.584Z"
   },
   {
    "duration": 13,
    "start_time": "2024-11-01T21:10:22.597Z"
   },
   {
    "duration": 11,
    "start_time": "2024-11-01T21:10:22.633Z"
   },
   {
    "duration": 6,
    "start_time": "2024-11-01T21:10:22.646Z"
   },
   {
    "duration": 17,
    "start_time": "2024-11-01T21:10:22.654Z"
   },
   {
    "duration": 192,
    "start_time": "2024-11-01T21:10:22.673Z"
   },
   {
    "duration": 5,
    "start_time": "2024-11-01T21:10:22.870Z"
   },
   {
    "duration": 12,
    "start_time": "2024-11-01T21:10:22.878Z"
   },
   {
    "duration": 177,
    "start_time": "2024-11-01T23:12:40.460Z"
   },
   {
    "duration": 2590,
    "start_time": "2024-11-01T23:14:19.693Z"
   },
   {
    "duration": 36,
    "start_time": "2024-11-01T23:14:22.285Z"
   },
   {
    "duration": 4,
    "start_time": "2024-11-01T23:14:22.322Z"
   },
   {
    "duration": 26,
    "start_time": "2024-11-01T23:14:22.330Z"
   },
   {
    "duration": 5,
    "start_time": "2024-11-01T23:14:22.358Z"
   },
   {
    "duration": 10,
    "start_time": "2024-11-01T23:14:22.365Z"
   },
   {
    "duration": 6,
    "start_time": "2024-11-01T23:14:22.376Z"
   },
   {
    "duration": 3,
    "start_time": "2024-11-01T23:14:22.384Z"
   },
   {
    "duration": 4,
    "start_time": "2024-11-01T23:14:22.389Z"
   },
   {
    "duration": 4,
    "start_time": "2024-11-01T23:14:22.396Z"
   },
   {
    "duration": 133,
    "start_time": "2024-11-01T23:14:22.402Z"
   },
   {
    "duration": 6,
    "start_time": "2024-11-01T23:14:22.538Z"
   },
   {
    "duration": 6,
    "start_time": "2024-11-01T23:14:22.546Z"
   },
   {
    "duration": 7,
    "start_time": "2024-11-01T23:14:22.553Z"
   },
   {
    "duration": 8,
    "start_time": "2024-11-01T23:14:22.562Z"
   },
   {
    "duration": 38,
    "start_time": "2024-11-01T23:14:22.575Z"
   },
   {
    "duration": 157,
    "start_time": "2024-11-01T23:14:22.614Z"
   },
   {
    "duration": 25,
    "start_time": "2024-11-01T23:14:22.772Z"
   },
   {
    "duration": 5,
    "start_time": "2024-11-01T23:14:22.798Z"
   },
   {
    "duration": 336,
    "start_time": "2024-11-01T23:14:22.804Z"
   },
   {
    "duration": 5,
    "start_time": "2024-11-01T23:14:23.143Z"
   },
   {
    "duration": 7,
    "start_time": "2024-11-01T23:14:23.151Z"
   },
   {
    "duration": 16,
    "start_time": "2024-11-01T23:14:23.160Z"
   },
   {
    "duration": 7,
    "start_time": "2024-11-01T23:14:23.179Z"
   },
   {
    "duration": 276,
    "start_time": "2024-11-01T23:14:23.188Z"
   },
   {
    "duration": 6,
    "start_time": "2024-11-01T23:14:23.467Z"
   },
   {
    "duration": 4,
    "start_time": "2024-11-01T23:14:23.477Z"
   },
   {
    "duration": 5,
    "start_time": "2024-11-01T23:14:23.484Z"
   },
   {
    "duration": 10,
    "start_time": "2024-11-01T23:14:23.491Z"
   },
   {
    "duration": 8,
    "start_time": "2024-11-01T23:14:23.502Z"
   },
   {
    "duration": 5,
    "start_time": "2024-11-01T23:14:23.543Z"
   },
   {
    "duration": 13,
    "start_time": "2024-11-01T23:14:23.550Z"
   },
   {
    "duration": 12,
    "start_time": "2024-11-01T23:14:23.565Z"
   },
   {
    "duration": 3,
    "start_time": "2024-11-01T23:14:23.579Z"
   },
   {
    "duration": 202,
    "start_time": "2024-11-01T23:14:23.584Z"
   },
   {
    "duration": 4,
    "start_time": "2024-11-01T23:17:10.936Z"
   },
   {
    "duration": 3,
    "start_time": "2024-11-01T23:41:57.443Z"
   },
   {
    "duration": 26,
    "start_time": "2024-11-01T23:41:57.448Z"
   },
   {
    "duration": 3,
    "start_time": "2024-11-01T23:41:57.476Z"
   },
   {
    "duration": 31,
    "start_time": "2024-11-01T23:41:57.482Z"
   },
   {
    "duration": 29,
    "start_time": "2024-11-01T23:41:57.515Z"
   },
   {
    "duration": 10,
    "start_time": "2024-11-01T23:41:57.546Z"
   },
   {
    "duration": 6,
    "start_time": "2024-11-01T23:41:57.558Z"
   },
   {
    "duration": 4,
    "start_time": "2024-11-01T23:41:57.566Z"
   },
   {
    "duration": 3,
    "start_time": "2024-11-01T23:41:57.573Z"
   },
   {
    "duration": 4,
    "start_time": "2024-11-01T23:41:57.578Z"
   },
   {
    "duration": 124,
    "start_time": "2024-11-01T23:41:57.585Z"
   },
   {
    "duration": 7,
    "start_time": "2024-11-01T23:41:57.710Z"
   },
   {
    "duration": 5,
    "start_time": "2024-11-01T23:41:57.719Z"
   },
   {
    "duration": 22,
    "start_time": "2024-11-01T23:41:57.726Z"
   },
   {
    "duration": 7,
    "start_time": "2024-11-01T23:41:57.750Z"
   },
   {
    "duration": 35,
    "start_time": "2024-11-01T23:41:57.759Z"
   },
   {
    "duration": 125,
    "start_time": "2024-11-01T23:41:57.796Z"
   },
   {
    "duration": 33,
    "start_time": "2024-11-01T23:41:57.923Z"
   },
   {
    "duration": 4,
    "start_time": "2024-11-01T23:41:57.958Z"
   },
   {
    "duration": 267,
    "start_time": "2024-11-01T23:41:57.964Z"
   },
   {
    "duration": 11,
    "start_time": "2024-11-01T23:41:58.233Z"
   },
   {
    "duration": 7,
    "start_time": "2024-11-01T23:41:58.245Z"
   },
   {
    "duration": 15,
    "start_time": "2024-11-01T23:41:58.253Z"
   },
   {
    "duration": 5,
    "start_time": "2024-11-01T23:41:58.273Z"
   },
   {
    "duration": 349,
    "start_time": "2024-11-01T23:41:58.281Z"
   },
   {
    "duration": 13,
    "start_time": "2024-11-01T23:41:58.632Z"
   },
   {
    "duration": 4,
    "start_time": "2024-11-01T23:41:58.647Z"
   },
   {
    "duration": 4,
    "start_time": "2024-11-01T23:41:58.653Z"
   },
   {
    "duration": 12,
    "start_time": "2024-11-01T23:41:58.659Z"
   },
   {
    "duration": 8,
    "start_time": "2024-11-01T23:41:58.672Z"
   },
   {
    "duration": 4,
    "start_time": "2024-11-01T23:41:58.682Z"
   },
   {
    "duration": 12,
    "start_time": "2024-11-01T23:41:58.688Z"
   },
   {
    "duration": 49,
    "start_time": "2024-11-01T23:41:58.702Z"
   },
   {
    "duration": 4,
    "start_time": "2024-11-01T23:41:58.753Z"
   },
   {
    "duration": 24,
    "start_time": "2024-11-01T23:41:58.759Z"
   },
   {
    "duration": 2,
    "start_time": "2024-11-01T23:48:28.179Z"
   },
   {
    "duration": 497,
    "start_time": "2024-11-01T23:50:51.847Z"
   },
   {
    "duration": 2,
    "start_time": "2024-11-01T23:53:15.449Z"
   },
   {
    "duration": 33,
    "start_time": "2024-11-01T23:53:15.454Z"
   },
   {
    "duration": 2,
    "start_time": "2024-11-01T23:53:15.489Z"
   },
   {
    "duration": 52,
    "start_time": "2024-11-01T23:53:15.494Z"
   },
   {
    "duration": 7,
    "start_time": "2024-11-01T23:53:15.549Z"
   },
   {
    "duration": 13,
    "start_time": "2024-11-01T23:53:15.557Z"
   },
   {
    "duration": 6,
    "start_time": "2024-11-01T23:53:15.571Z"
   },
   {
    "duration": 4,
    "start_time": "2024-11-01T23:53:15.579Z"
   },
   {
    "duration": 3,
    "start_time": "2024-11-01T23:53:15.586Z"
   },
   {
    "duration": 5,
    "start_time": "2024-11-01T23:53:15.591Z"
   },
   {
    "duration": 123,
    "start_time": "2024-11-01T23:53:15.598Z"
   },
   {
    "duration": 4,
    "start_time": "2024-11-01T23:53:15.723Z"
   },
   {
    "duration": 5,
    "start_time": "2024-11-01T23:53:15.742Z"
   },
   {
    "duration": 7,
    "start_time": "2024-11-01T23:53:15.749Z"
   },
   {
    "duration": 9,
    "start_time": "2024-11-01T23:53:15.757Z"
   },
   {
    "duration": 35,
    "start_time": "2024-11-01T23:53:15.768Z"
   },
   {
    "duration": 123,
    "start_time": "2024-11-01T23:53:15.805Z"
   },
   {
    "duration": 32,
    "start_time": "2024-11-01T23:53:15.930Z"
   },
   {
    "duration": 4,
    "start_time": "2024-11-01T23:53:15.964Z"
   },
   {
    "duration": 276,
    "start_time": "2024-11-01T23:53:15.970Z"
   },
   {
    "duration": 4,
    "start_time": "2024-11-01T23:53:16.249Z"
   },
   {
    "duration": 6,
    "start_time": "2024-11-01T23:53:16.255Z"
   },
   {
    "duration": 11,
    "start_time": "2024-11-01T23:53:16.265Z"
   },
   {
    "duration": 3,
    "start_time": "2024-11-01T23:53:16.281Z"
   },
   {
    "duration": 5,
    "start_time": "2024-11-01T23:53:16.286Z"
   },
   {
    "duration": 293,
    "start_time": "2024-11-01T23:53:16.293Z"
   },
   {
    "duration": 10,
    "start_time": "2024-11-01T23:53:16.588Z"
   },
   {
    "duration": 6,
    "start_time": "2024-11-01T23:53:16.601Z"
   },
   {
    "duration": 5,
    "start_time": "2024-11-01T23:53:16.609Z"
   },
   {
    "duration": 31,
    "start_time": "2024-11-01T23:53:16.616Z"
   },
   {
    "duration": 12,
    "start_time": "2024-11-01T23:53:16.649Z"
   },
   {
    "duration": 5,
    "start_time": "2024-11-01T23:53:16.664Z"
   },
   {
    "duration": 12,
    "start_time": "2024-11-01T23:53:16.671Z"
   },
   {
    "duration": 13,
    "start_time": "2024-11-01T23:53:16.685Z"
   },
   {
    "duration": 3,
    "start_time": "2024-11-01T23:53:16.699Z"
   },
   {
    "duration": 49,
    "start_time": "2024-11-01T23:53:16.704Z"
   },
   {
    "duration": 2590,
    "start_time": "2024-11-03T00:36:55.000Z"
   },
   {
    "duration": 35,
    "start_time": "2024-11-03T00:36:57.592Z"
   },
   {
    "duration": 3,
    "start_time": "2024-11-03T00:36:57.629Z"
   },
   {
    "duration": 40,
    "start_time": "2024-11-03T00:36:57.635Z"
   },
   {
    "duration": 6,
    "start_time": "2024-11-03T00:36:57.677Z"
   },
   {
    "duration": 11,
    "start_time": "2024-11-03T00:36:57.685Z"
   },
   {
    "duration": 6,
    "start_time": "2024-11-03T00:36:57.698Z"
   },
   {
    "duration": 29,
    "start_time": "2024-11-03T00:36:57.705Z"
   },
   {
    "duration": 6,
    "start_time": "2024-11-03T00:36:57.736Z"
   },
   {
    "duration": 6,
    "start_time": "2024-11-03T00:36:57.744Z"
   },
   {
    "duration": 129,
    "start_time": "2024-11-03T00:36:57.752Z"
   },
   {
    "duration": 5,
    "start_time": "2024-11-03T00:36:57.882Z"
   },
   {
    "duration": 5,
    "start_time": "2024-11-03T00:36:57.889Z"
   },
   {
    "duration": 7,
    "start_time": "2024-11-03T00:36:57.898Z"
   },
   {
    "duration": 27,
    "start_time": "2024-11-03T00:36:57.906Z"
   },
   {
    "duration": 41,
    "start_time": "2024-11-03T00:36:57.935Z"
   },
   {
    "duration": 121,
    "start_time": "2024-11-03T00:36:57.978Z"
   },
   {
    "duration": 38,
    "start_time": "2024-11-03T00:36:58.102Z"
   },
   {
    "duration": 5,
    "start_time": "2024-11-03T00:36:58.142Z"
   },
   {
    "duration": 288,
    "start_time": "2024-11-03T00:36:58.149Z"
   },
   {
    "duration": 4,
    "start_time": "2024-11-03T00:36:58.439Z"
   },
   {
    "duration": 8,
    "start_time": "2024-11-03T00:36:58.444Z"
   },
   {
    "duration": 13,
    "start_time": "2024-11-03T00:36:58.454Z"
   },
   {
    "duration": 336,
    "start_time": "2024-11-03T00:36:58.469Z"
   },
   {
    "duration": 3,
    "start_time": "2024-11-03T00:36:58.808Z"
   },
   {
    "duration": 18,
    "start_time": "2024-11-03T00:36:58.813Z"
   },
   {
    "duration": 7,
    "start_time": "2024-11-03T00:36:58.833Z"
   },
   {
    "duration": 10,
    "start_time": "2024-11-03T00:36:58.842Z"
   },
   {
    "duration": 8,
    "start_time": "2024-11-03T00:36:58.853Z"
   },
   {
    "duration": 6,
    "start_time": "2024-11-03T00:36:58.862Z"
   },
   {
    "duration": 14,
    "start_time": "2024-11-03T00:36:58.870Z"
   },
   {
    "duration": 47,
    "start_time": "2024-11-03T00:36:58.885Z"
   },
   {
    "duration": 3,
    "start_time": "2024-11-03T00:36:58.934Z"
   },
   {
    "duration": 344,
    "start_time": "2024-11-03T00:36:58.939Z"
   },
   {
    "duration": 5,
    "start_time": "2024-11-03T00:38:35.868Z"
   },
   {
    "duration": 23,
    "start_time": "2024-11-03T00:42:52.345Z"
   },
   {
    "duration": 3,
    "start_time": "2024-11-03T00:44:13.010Z"
   },
   {
    "duration": 3,
    "start_time": "2024-11-03T00:44:29.568Z"
   },
   {
    "duration": 4,
    "start_time": "2024-11-03T00:46:16.734Z"
   },
   {
    "duration": 2,
    "start_time": "2024-11-03T00:49:13.749Z"
   },
   {
    "duration": 25,
    "start_time": "2024-11-03T00:49:13.753Z"
   },
   {
    "duration": 2,
    "start_time": "2024-11-03T00:49:13.781Z"
   },
   {
    "duration": 27,
    "start_time": "2024-11-03T00:49:13.786Z"
   },
   {
    "duration": 19,
    "start_time": "2024-11-03T00:49:13.815Z"
   },
   {
    "duration": 12,
    "start_time": "2024-11-03T00:49:13.836Z"
   },
   {
    "duration": 6,
    "start_time": "2024-11-03T00:49:13.849Z"
   },
   {
    "duration": 4,
    "start_time": "2024-11-03T00:49:13.857Z"
   },
   {
    "duration": 5,
    "start_time": "2024-11-03T00:49:13.864Z"
   },
   {
    "duration": 5,
    "start_time": "2024-11-03T00:49:13.870Z"
   },
   {
    "duration": 122,
    "start_time": "2024-11-03T00:49:13.877Z"
   },
   {
    "duration": 5,
    "start_time": "2024-11-03T00:49:14.001Z"
   },
   {
    "duration": 5,
    "start_time": "2024-11-03T00:49:14.007Z"
   },
   {
    "duration": 24,
    "start_time": "2024-11-03T00:49:14.013Z"
   },
   {
    "duration": 7,
    "start_time": "2024-11-03T00:49:14.038Z"
   },
   {
    "duration": 7,
    "start_time": "2024-11-03T00:49:14.047Z"
   },
   {
    "duration": 22,
    "start_time": "2024-11-03T00:49:14.056Z"
   },
   {
    "duration": 5,
    "start_time": "2024-11-03T00:49:14.080Z"
   },
   {
    "duration": 137,
    "start_time": "2024-11-03T00:49:14.086Z"
   },
   {
    "duration": 27,
    "start_time": "2024-11-03T00:49:14.231Z"
   },
   {
    "duration": 4,
    "start_time": "2024-11-03T00:49:14.260Z"
   },
   {
    "duration": 270,
    "start_time": "2024-11-03T00:49:14.266Z"
   },
   {
    "duration": 6,
    "start_time": "2024-11-03T00:49:14.537Z"
   },
   {
    "duration": 6,
    "start_time": "2024-11-03T00:49:14.548Z"
   },
   {
    "duration": 11,
    "start_time": "2024-11-03T00:49:14.556Z"
   },
   {
    "duration": 343,
    "start_time": "2024-11-03T00:49:14.569Z"
   },
   {
    "duration": 4,
    "start_time": "2024-11-03T00:49:14.914Z"
   },
   {
    "duration": 14,
    "start_time": "2024-11-03T00:49:14.920Z"
   },
   {
    "duration": 6,
    "start_time": "2024-11-03T00:49:14.936Z"
   },
   {
    "duration": 10,
    "start_time": "2024-11-03T00:49:14.944Z"
   },
   {
    "duration": 8,
    "start_time": "2024-11-03T00:49:14.956Z"
   },
   {
    "duration": 4,
    "start_time": "2024-11-03T00:49:14.967Z"
   },
   {
    "duration": 14,
    "start_time": "2024-11-03T00:49:14.973Z"
   },
   {
    "duration": 52,
    "start_time": "2024-11-03T00:49:14.988Z"
   },
   {
    "duration": 4,
    "start_time": "2024-11-03T00:49:15.042Z"
   },
   {
    "duration": 26,
    "start_time": "2024-11-03T00:49:15.048Z"
   },
   {
    "duration": 2,
    "start_time": "2024-11-03T00:53:15.597Z"
   },
   {
    "duration": 23,
    "start_time": "2024-11-03T00:53:15.602Z"
   },
   {
    "duration": 3,
    "start_time": "2024-11-03T00:53:15.626Z"
   },
   {
    "duration": 26,
    "start_time": "2024-11-03T00:53:15.631Z"
   },
   {
    "duration": 5,
    "start_time": "2024-11-03T00:53:15.660Z"
   },
   {
    "duration": 11,
    "start_time": "2024-11-03T00:53:15.667Z"
   },
   {
    "duration": 5,
    "start_time": "2024-11-03T00:53:15.679Z"
   },
   {
    "duration": 5,
    "start_time": "2024-11-03T00:53:15.686Z"
   },
   {
    "duration": 6,
    "start_time": "2024-11-03T00:53:15.692Z"
   },
   {
    "duration": 35,
    "start_time": "2024-11-03T00:53:15.700Z"
   },
   {
    "duration": 103,
    "start_time": "2024-11-03T00:53:15.737Z"
   },
   {
    "duration": 5,
    "start_time": "2024-11-03T00:53:15.842Z"
   },
   {
    "duration": 4,
    "start_time": "2024-11-03T00:53:15.851Z"
   },
   {
    "duration": 7,
    "start_time": "2024-11-03T00:53:15.857Z"
   },
   {
    "duration": 7,
    "start_time": "2024-11-03T00:53:15.865Z"
   },
   {
    "duration": 9,
    "start_time": "2024-11-03T00:53:15.873Z"
   },
   {
    "duration": 58,
    "start_time": "2024-11-03T00:53:15.884Z"
   },
   {
    "duration": 4,
    "start_time": "2024-11-03T00:53:15.944Z"
   },
   {
    "duration": 4,
    "start_time": "2024-11-03T00:53:15.949Z"
   },
   {
    "duration": 117,
    "start_time": "2024-11-03T00:53:15.956Z"
   },
   {
    "duration": 27,
    "start_time": "2024-11-03T00:53:16.074Z"
   },
   {
    "duration": 4,
    "start_time": "2024-11-03T00:53:16.103Z"
   },
   {
    "duration": 282,
    "start_time": "2024-11-03T00:53:16.109Z"
   },
   {
    "duration": 3,
    "start_time": "2024-11-03T00:53:16.393Z"
   },
   {
    "duration": 5,
    "start_time": "2024-11-03T00:53:16.399Z"
   },
   {
    "duration": 25,
    "start_time": "2024-11-03T00:53:16.406Z"
   },
   {
    "duration": 260,
    "start_time": "2024-11-03T00:53:16.433Z"
   },
   {
    "duration": 4,
    "start_time": "2024-11-03T00:53:16.695Z"
   },
   {
    "duration": 4,
    "start_time": "2024-11-03T00:53:16.701Z"
   },
   {
    "duration": 27,
    "start_time": "2024-11-03T00:53:16.707Z"
   },
   {
    "duration": 12,
    "start_time": "2024-11-03T00:53:16.735Z"
   },
   {
    "duration": 8,
    "start_time": "2024-11-03T00:53:16.749Z"
   },
   {
    "duration": 5,
    "start_time": "2024-11-03T00:53:16.758Z"
   },
   {
    "duration": 14,
    "start_time": "2024-11-03T00:53:16.765Z"
   },
   {
    "duration": 11,
    "start_time": "2024-11-03T00:53:16.781Z"
   },
   {
    "duration": 40,
    "start_time": "2024-11-03T00:53:16.794Z"
   },
   {
    "duration": 28,
    "start_time": "2024-11-03T00:53:16.838Z"
   },
   {
    "duration": 4,
    "start_time": "2024-11-03T00:57:23.739Z"
   },
   {
    "duration": 2,
    "start_time": "2024-11-03T00:58:44.250Z"
   },
   {
    "duration": 24,
    "start_time": "2024-11-03T00:58:44.254Z"
   },
   {
    "duration": 3,
    "start_time": "2024-11-03T00:58:44.279Z"
   },
   {
    "duration": 27,
    "start_time": "2024-11-03T00:58:44.285Z"
   },
   {
    "duration": 6,
    "start_time": "2024-11-03T00:58:44.313Z"
   },
   {
    "duration": 19,
    "start_time": "2024-11-03T00:58:44.321Z"
   },
   {
    "duration": 6,
    "start_time": "2024-11-03T00:58:44.341Z"
   },
   {
    "duration": 4,
    "start_time": "2024-11-03T00:58:44.348Z"
   },
   {
    "duration": 5,
    "start_time": "2024-11-03T00:58:44.355Z"
   },
   {
    "duration": 5,
    "start_time": "2024-11-03T00:58:44.361Z"
   },
   {
    "duration": 128,
    "start_time": "2024-11-03T00:58:44.368Z"
   },
   {
    "duration": 5,
    "start_time": "2024-11-03T00:58:44.499Z"
   },
   {
    "duration": 25,
    "start_time": "2024-11-03T00:58:44.506Z"
   },
   {
    "duration": 7,
    "start_time": "2024-11-03T00:58:44.533Z"
   },
   {
    "duration": 8,
    "start_time": "2024-11-03T00:58:44.542Z"
   },
   {
    "duration": 8,
    "start_time": "2024-11-03T00:58:44.552Z"
   },
   {
    "duration": 22,
    "start_time": "2024-11-03T00:58:44.562Z"
   },
   {
    "duration": 4,
    "start_time": "2024-11-03T00:58:44.587Z"
   },
   {
    "duration": 4,
    "start_time": "2024-11-03T00:58:44.594Z"
   },
   {
    "duration": 5,
    "start_time": "2024-11-03T00:58:44.632Z"
   },
   {
    "duration": 108,
    "start_time": "2024-11-03T00:58:44.640Z"
   },
   {
    "duration": 25,
    "start_time": "2024-11-03T00:58:44.750Z"
   },
   {
    "duration": 4,
    "start_time": "2024-11-03T00:58:44.777Z"
   },
   {
    "duration": 385,
    "start_time": "2024-11-03T00:58:44.785Z"
   },
   {
    "duration": 4,
    "start_time": "2024-11-03T00:58:45.172Z"
   },
   {
    "duration": 6,
    "start_time": "2024-11-03T00:58:45.177Z"
   },
   {
    "duration": 12,
    "start_time": "2024-11-03T00:58:45.184Z"
   },
   {
    "duration": 273,
    "start_time": "2024-11-03T00:58:45.198Z"
   },
   {
    "duration": 4,
    "start_time": "2024-11-03T00:58:45.472Z"
   },
   {
    "duration": 5,
    "start_time": "2024-11-03T00:58:45.478Z"
   },
   {
    "duration": 6,
    "start_time": "2024-11-03T00:58:45.485Z"
   },
   {
    "duration": 9,
    "start_time": "2024-11-03T00:58:45.494Z"
   },
   {
    "duration": 32,
    "start_time": "2024-11-03T00:58:45.505Z"
   },
   {
    "duration": 5,
    "start_time": "2024-11-03T00:58:45.538Z"
   },
   {
    "duration": 14,
    "start_time": "2024-11-03T00:58:45.545Z"
   },
   {
    "duration": 11,
    "start_time": "2024-11-03T00:58:45.560Z"
   },
   {
    "duration": 4,
    "start_time": "2024-11-03T00:58:45.573Z"
   },
   {
    "duration": 60,
    "start_time": "2024-11-03T00:58:45.579Z"
   },
   {
    "duration": 15,
    "start_time": "2024-11-03T01:01:31.006Z"
   },
   {
    "duration": 3,
    "start_time": "2024-11-03T01:01:55.342Z"
   },
   {
    "duration": 25,
    "start_time": "2024-11-03T01:01:55.347Z"
   },
   {
    "duration": 3,
    "start_time": "2024-11-03T01:01:55.373Z"
   },
   {
    "duration": 29,
    "start_time": "2024-11-03T01:01:55.378Z"
   },
   {
    "duration": 24,
    "start_time": "2024-11-03T01:01:55.410Z"
   },
   {
    "duration": 12,
    "start_time": "2024-11-03T01:01:55.435Z"
   },
   {
    "duration": 6,
    "start_time": "2024-11-03T01:01:55.449Z"
   },
   {
    "duration": 5,
    "start_time": "2024-11-03T01:01:55.457Z"
   },
   {
    "duration": 5,
    "start_time": "2024-11-03T01:01:55.463Z"
   },
   {
    "duration": 4,
    "start_time": "2024-11-03T01:01:55.469Z"
   },
   {
    "duration": 129,
    "start_time": "2024-11-03T01:01:55.475Z"
   },
   {
    "duration": 5,
    "start_time": "2024-11-03T01:01:55.606Z"
   },
   {
    "duration": 5,
    "start_time": "2024-11-03T01:01:55.612Z"
   },
   {
    "duration": 7,
    "start_time": "2024-11-03T01:01:55.632Z"
   },
   {
    "duration": 6,
    "start_time": "2024-11-03T01:01:55.641Z"
   },
   {
    "duration": 8,
    "start_time": "2024-11-03T01:01:55.649Z"
   },
   {
    "duration": 22,
    "start_time": "2024-11-03T01:01:55.658Z"
   },
   {
    "duration": 4,
    "start_time": "2024-11-03T01:01:55.681Z"
   },
   {
    "duration": 5,
    "start_time": "2024-11-03T01:01:55.687Z"
   },
   {
    "duration": 5,
    "start_time": "2024-11-03T01:01:55.732Z"
   },
   {
    "duration": 15,
    "start_time": "2024-11-03T01:01:55.739Z"
   },
   {
    "duration": 0,
    "start_time": "2024-11-03T01:01:55.756Z"
   },
   {
    "duration": 0,
    "start_time": "2024-11-03T01:01:55.757Z"
   },
   {
    "duration": 0,
    "start_time": "2024-11-03T01:01:55.758Z"
   },
   {
    "duration": 0,
    "start_time": "2024-11-03T01:01:55.759Z"
   },
   {
    "duration": 0,
    "start_time": "2024-11-03T01:01:55.760Z"
   },
   {
    "duration": 0,
    "start_time": "2024-11-03T01:01:55.762Z"
   },
   {
    "duration": 0,
    "start_time": "2024-11-03T01:01:55.763Z"
   },
   {
    "duration": 0,
    "start_time": "2024-11-03T01:01:55.765Z"
   },
   {
    "duration": 0,
    "start_time": "2024-11-03T01:01:55.766Z"
   },
   {
    "duration": 0,
    "start_time": "2024-11-03T01:01:55.768Z"
   },
   {
    "duration": 0,
    "start_time": "2024-11-03T01:01:55.769Z"
   },
   {
    "duration": 0,
    "start_time": "2024-11-03T01:01:55.771Z"
   },
   {
    "duration": 0,
    "start_time": "2024-11-03T01:01:55.772Z"
   },
   {
    "duration": 0,
    "start_time": "2024-11-03T01:01:55.774Z"
   },
   {
    "duration": 0,
    "start_time": "2024-11-03T01:01:55.775Z"
   },
   {
    "duration": 0,
    "start_time": "2024-11-03T01:01:55.776Z"
   },
   {
    "duration": 0,
    "start_time": "2024-11-03T01:01:55.778Z"
   },
   {
    "duration": 0,
    "start_time": "2024-11-03T01:01:55.778Z"
   },
   {
    "duration": 22,
    "start_time": "2024-11-03T01:06:37.478Z"
   },
   {
    "duration": 4,
    "start_time": "2024-11-03T01:10:32.826Z"
   },
   {
    "duration": 3,
    "start_time": "2024-11-03T01:12:35.068Z"
   },
   {
    "duration": 26,
    "start_time": "2024-11-03T01:12:35.073Z"
   },
   {
    "duration": 3,
    "start_time": "2024-11-03T01:12:35.102Z"
   },
   {
    "duration": 27,
    "start_time": "2024-11-03T01:12:35.107Z"
   },
   {
    "duration": 7,
    "start_time": "2024-11-03T01:12:35.137Z"
   },
   {
    "duration": 10,
    "start_time": "2024-11-03T01:12:35.146Z"
   },
   {
    "duration": 6,
    "start_time": "2024-11-03T01:12:35.157Z"
   },
   {
    "duration": 4,
    "start_time": "2024-11-03T01:12:35.165Z"
   },
   {
    "duration": 7,
    "start_time": "2024-11-03T01:12:35.170Z"
   },
   {
    "duration": 4,
    "start_time": "2024-11-03T01:12:35.180Z"
   },
   {
    "duration": 118,
    "start_time": "2024-11-03T01:12:35.187Z"
   },
   {
    "duration": 5,
    "start_time": "2024-11-03T01:12:35.306Z"
   },
   {
    "duration": 18,
    "start_time": "2024-11-03T01:12:35.313Z"
   },
   {
    "duration": 8,
    "start_time": "2024-11-03T01:12:35.333Z"
   },
   {
    "duration": 8,
    "start_time": "2024-11-03T01:12:35.342Z"
   },
   {
    "duration": 8,
    "start_time": "2024-11-03T01:12:35.351Z"
   },
   {
    "duration": 22,
    "start_time": "2024-11-03T01:12:35.361Z"
   },
   {
    "duration": 4,
    "start_time": "2024-11-03T01:12:35.385Z"
   },
   {
    "duration": 5,
    "start_time": "2024-11-03T01:12:35.391Z"
   },
   {
    "duration": 37,
    "start_time": "2024-11-03T01:12:35.397Z"
   },
   {
    "duration": 22,
    "start_time": "2024-11-03T01:12:35.436Z"
   },
   {
    "duration": 4,
    "start_time": "2024-11-03T01:12:35.460Z"
   },
   {
    "duration": 120,
    "start_time": "2024-11-03T01:12:35.466Z"
   },
   {
    "duration": 26,
    "start_time": "2024-11-03T01:12:35.588Z"
   },
   {
    "duration": 17,
    "start_time": "2024-11-03T01:12:35.616Z"
   },
   {
    "duration": 260,
    "start_time": "2024-11-03T01:12:35.636Z"
   },
   {
    "duration": 4,
    "start_time": "2024-11-03T01:12:35.898Z"
   },
   {
    "duration": 7,
    "start_time": "2024-11-03T01:12:35.904Z"
   },
   {
    "duration": 12,
    "start_time": "2024-11-03T01:12:35.931Z"
   },
   {
    "duration": 254,
    "start_time": "2024-11-03T01:12:35.945Z"
   },
   {
    "duration": 3,
    "start_time": "2024-11-03T01:12:36.201Z"
   },
   {
    "duration": 5,
    "start_time": "2024-11-03T01:12:36.206Z"
   },
   {
    "duration": 23,
    "start_time": "2024-11-03T01:12:36.213Z"
   },
   {
    "duration": 9,
    "start_time": "2024-11-03T01:12:36.238Z"
   },
   {
    "duration": 7,
    "start_time": "2024-11-03T01:12:36.249Z"
   },
   {
    "duration": 6,
    "start_time": "2024-11-03T01:12:36.257Z"
   },
   {
    "duration": 13,
    "start_time": "2024-11-03T01:12:36.265Z"
   },
   {
    "duration": 12,
    "start_time": "2024-11-03T01:12:36.279Z"
   },
   {
    "duration": 40,
    "start_time": "2024-11-03T01:12:36.293Z"
   },
   {
    "duration": 27,
    "start_time": "2024-11-03T01:12:36.335Z"
   },
   {
    "duration": 14,
    "start_time": "2024-11-03T01:41:02.281Z"
   },
   {
    "duration": 26,
    "start_time": "2024-11-03T01:42:46.581Z"
   },
   {
    "duration": 2,
    "start_time": "2024-11-03T01:49:06.266Z"
   },
   {
    "duration": 24,
    "start_time": "2024-11-03T01:49:06.300Z"
   },
   {
    "duration": 3,
    "start_time": "2024-11-03T01:49:06.327Z"
   },
   {
    "duration": 27,
    "start_time": "2024-11-03T01:49:06.332Z"
   },
   {
    "duration": 5,
    "start_time": "2024-11-03T01:49:06.361Z"
   },
   {
    "duration": 10,
    "start_time": "2024-11-03T01:49:06.369Z"
   },
   {
    "duration": 5,
    "start_time": "2024-11-03T01:49:06.382Z"
   },
   {
    "duration": 4,
    "start_time": "2024-11-03T01:49:06.389Z"
   },
   {
    "duration": 5,
    "start_time": "2024-11-03T01:49:06.432Z"
   },
   {
    "duration": 5,
    "start_time": "2024-11-03T01:49:06.439Z"
   },
   {
    "duration": 109,
    "start_time": "2024-11-03T01:49:06.446Z"
   },
   {
    "duration": 5,
    "start_time": "2024-11-03T01:49:06.557Z"
   },
   {
    "duration": 5,
    "start_time": "2024-11-03T01:49:06.564Z"
   },
   {
    "duration": 8,
    "start_time": "2024-11-03T01:49:06.570Z"
   },
   {
    "duration": 6,
    "start_time": "2024-11-03T01:49:06.583Z"
   },
   {
    "duration": 7,
    "start_time": "2024-11-03T01:49:06.591Z"
   },
   {
    "duration": 22,
    "start_time": "2024-11-03T01:49:06.632Z"
   },
   {
    "duration": 4,
    "start_time": "2024-11-03T01:49:06.656Z"
   },
   {
    "duration": 4,
    "start_time": "2024-11-03T01:49:06.662Z"
   },
   {
    "duration": 4,
    "start_time": "2024-11-03T01:49:06.668Z"
   },
   {
    "duration": 23,
    "start_time": "2024-11-03T01:49:06.673Z"
   },
   {
    "duration": 38,
    "start_time": "2024-11-03T01:49:06.698Z"
   },
   {
    "duration": 116,
    "start_time": "2024-11-03T01:49:06.738Z"
   },
   {
    "duration": 25,
    "start_time": "2024-11-03T01:49:06.856Z"
   },
   {
    "duration": 4,
    "start_time": "2024-11-03T01:49:06.883Z"
   },
   {
    "duration": 374,
    "start_time": "2024-11-03T01:49:06.889Z"
   },
   {
    "duration": 4,
    "start_time": "2024-11-03T01:49:07.264Z"
   },
   {
    "duration": 7,
    "start_time": "2024-11-03T01:49:07.269Z"
   },
   {
    "duration": 17,
    "start_time": "2024-11-03T01:49:07.278Z"
   },
   {
    "duration": 294,
    "start_time": "2024-11-03T01:49:07.298Z"
   },
   {
    "duration": 494,
    "start_time": "2024-11-03T01:49:07.594Z"
   },
   {
    "duration": 0,
    "start_time": "2024-11-03T01:49:08.090Z"
   },
   {
    "duration": 0,
    "start_time": "2024-11-03T01:49:08.091Z"
   },
   {
    "duration": 0,
    "start_time": "2024-11-03T01:49:08.091Z"
   },
   {
    "duration": 0,
    "start_time": "2024-11-03T01:49:08.093Z"
   },
   {
    "duration": 0,
    "start_time": "2024-11-03T01:49:08.094Z"
   },
   {
    "duration": 0,
    "start_time": "2024-11-03T01:49:08.095Z"
   },
   {
    "duration": 0,
    "start_time": "2024-11-03T01:49:08.097Z"
   },
   {
    "duration": 0,
    "start_time": "2024-11-03T01:49:08.098Z"
   },
   {
    "duration": 5,
    "start_time": "2024-11-03T01:53:09.276Z"
   },
   {
    "duration": 4,
    "start_time": "2024-11-03T01:53:20.301Z"
   },
   {
    "duration": 33,
    "start_time": "2024-11-03T01:53:20.308Z"
   },
   {
    "duration": 3,
    "start_time": "2024-11-03T01:53:20.344Z"
   },
   {
    "duration": 28,
    "start_time": "2024-11-03T01:53:20.349Z"
   },
   {
    "duration": 5,
    "start_time": "2024-11-03T01:53:20.380Z"
   },
   {
    "duration": 44,
    "start_time": "2024-11-03T01:53:20.387Z"
   },
   {
    "duration": 7,
    "start_time": "2024-11-03T01:53:20.433Z"
   },
   {
    "duration": 4,
    "start_time": "2024-11-03T01:53:20.442Z"
   },
   {
    "duration": 6,
    "start_time": "2024-11-03T01:53:20.448Z"
   },
   {
    "duration": 5,
    "start_time": "2024-11-03T01:53:20.455Z"
   },
   {
    "duration": 126,
    "start_time": "2024-11-03T01:53:20.462Z"
   },
   {
    "duration": 5,
    "start_time": "2024-11-03T01:53:20.591Z"
   },
   {
    "duration": 7,
    "start_time": "2024-11-03T01:53:20.600Z"
   },
   {
    "duration": 7,
    "start_time": "2024-11-03T01:53:20.609Z"
   },
   {
    "duration": 8,
    "start_time": "2024-11-03T01:53:20.632Z"
   },
   {
    "duration": 9,
    "start_time": "2024-11-03T01:53:20.642Z"
   },
   {
    "duration": 23,
    "start_time": "2024-11-03T01:53:20.653Z"
   },
   {
    "duration": 4,
    "start_time": "2024-11-03T01:53:20.677Z"
   },
   {
    "duration": 4,
    "start_time": "2024-11-03T01:53:20.683Z"
   },
   {
    "duration": 5,
    "start_time": "2024-11-03T01:53:20.689Z"
   },
   {
    "duration": 58,
    "start_time": "2024-11-03T01:53:20.697Z"
   },
   {
    "duration": 5,
    "start_time": "2024-11-03T01:53:20.757Z"
   },
   {
    "duration": 121,
    "start_time": "2024-11-03T01:53:20.763Z"
   },
   {
    "duration": 32,
    "start_time": "2024-11-03T01:53:20.886Z"
   },
   {
    "duration": 4,
    "start_time": "2024-11-03T01:53:20.931Z"
   },
   {
    "duration": 279,
    "start_time": "2024-11-03T01:53:20.937Z"
   },
   {
    "duration": 4,
    "start_time": "2024-11-03T01:53:21.218Z"
   },
   {
    "duration": 7,
    "start_time": "2024-11-03T01:53:21.232Z"
   },
   {
    "duration": 5,
    "start_time": "2024-11-03T01:53:21.241Z"
   },
   {
    "duration": 0,
    "start_time": "2024-11-03T01:53:21.247Z"
   },
   {
    "duration": 0,
    "start_time": "2024-11-03T01:53:21.249Z"
   },
   {
    "duration": 0,
    "start_time": "2024-11-03T01:53:21.249Z"
   },
   {
    "duration": 0,
    "start_time": "2024-11-03T01:53:21.251Z"
   },
   {
    "duration": 0,
    "start_time": "2024-11-03T01:53:21.252Z"
   },
   {
    "duration": 0,
    "start_time": "2024-11-03T01:53:21.254Z"
   },
   {
    "duration": 0,
    "start_time": "2024-11-03T01:53:21.255Z"
   },
   {
    "duration": 0,
    "start_time": "2024-11-03T01:53:21.256Z"
   },
   {
    "duration": 0,
    "start_time": "2024-11-03T01:53:21.257Z"
   },
   {
    "duration": 0,
    "start_time": "2024-11-03T01:53:21.259Z"
   },
   {
    "duration": 9,
    "start_time": "2024-11-03T01:53:32.780Z"
   },
   {
    "duration": 515,
    "start_time": "2024-11-03T01:53:42.571Z"
   },
   {
    "duration": 20,
    "start_time": "2024-11-03T01:58:15.986Z"
   },
   {
    "duration": 17,
    "start_time": "2024-11-03T02:05:22.936Z"
   },
   {
    "duration": 8,
    "start_time": "2024-11-03T02:05:38.359Z"
   },
   {
    "duration": 8,
    "start_time": "2024-11-03T02:06:08.931Z"
   },
   {
    "duration": 2,
    "start_time": "2024-11-03T02:06:26.322Z"
   },
   {
    "duration": 26,
    "start_time": "2024-11-03T02:06:26.326Z"
   },
   {
    "duration": 3,
    "start_time": "2024-11-03T02:06:26.355Z"
   },
   {
    "duration": 26,
    "start_time": "2024-11-03T02:06:26.360Z"
   },
   {
    "duration": 5,
    "start_time": "2024-11-03T02:06:26.389Z"
   },
   {
    "duration": 40,
    "start_time": "2024-11-03T02:06:26.396Z"
   },
   {
    "duration": 6,
    "start_time": "2024-11-03T02:06:26.438Z"
   },
   {
    "duration": 4,
    "start_time": "2024-11-03T02:06:26.446Z"
   },
   {
    "duration": 5,
    "start_time": "2024-11-03T02:06:26.452Z"
   },
   {
    "duration": 4,
    "start_time": "2024-11-03T02:06:26.459Z"
   },
   {
    "duration": 121,
    "start_time": "2024-11-03T02:06:26.467Z"
   },
   {
    "duration": 6,
    "start_time": "2024-11-03T02:06:26.590Z"
   },
   {
    "duration": 6,
    "start_time": "2024-11-03T02:06:26.597Z"
   },
   {
    "duration": 28,
    "start_time": "2024-11-03T02:06:26.604Z"
   },
   {
    "duration": 7,
    "start_time": "2024-11-03T02:06:26.635Z"
   },
   {
    "duration": 9,
    "start_time": "2024-11-03T02:06:26.644Z"
   },
   {
    "duration": 22,
    "start_time": "2024-11-03T02:06:26.655Z"
   },
   {
    "duration": 4,
    "start_time": "2024-11-03T02:06:26.679Z"
   },
   {
    "duration": 7,
    "start_time": "2024-11-03T02:06:26.685Z"
   },
   {
    "duration": 37,
    "start_time": "2024-11-03T02:06:26.694Z"
   },
   {
    "duration": 23,
    "start_time": "2024-11-03T02:06:26.733Z"
   },
   {
    "duration": 5,
    "start_time": "2024-11-03T02:06:26.758Z"
   },
   {
    "duration": 123,
    "start_time": "2024-11-03T02:06:26.764Z"
   },
   {
    "duration": 26,
    "start_time": "2024-11-03T02:06:26.889Z"
   },
   {
    "duration": 18,
    "start_time": "2024-11-03T02:06:26.916Z"
   },
   {
    "duration": 264,
    "start_time": "2024-11-03T02:06:26.935Z"
   },
   {
    "duration": 3,
    "start_time": "2024-11-03T02:06:27.201Z"
   },
   {
    "duration": 5,
    "start_time": "2024-11-03T02:06:27.206Z"
   },
   {
    "duration": 23,
    "start_time": "2024-11-03T02:06:27.215Z"
   },
   {
    "duration": 268,
    "start_time": "2024-11-03T02:06:27.240Z"
   },
   {
    "duration": 5,
    "start_time": "2024-11-03T02:06:27.509Z"
   },
   {
    "duration": 15,
    "start_time": "2024-11-03T02:06:27.530Z"
   },
   {
    "duration": 8,
    "start_time": "2024-11-03T02:06:27.548Z"
   },
   {
    "duration": 5,
    "start_time": "2024-11-03T02:06:27.557Z"
   },
   {
    "duration": 16,
    "start_time": "2024-11-03T02:06:27.564Z"
   },
   {
    "duration": 11,
    "start_time": "2024-11-03T02:06:27.582Z"
   },
   {
    "duration": 3,
    "start_time": "2024-11-03T02:06:27.595Z"
   },
   {
    "duration": 33,
    "start_time": "2024-11-03T02:06:27.632Z"
   },
   {
    "duration": 15,
    "start_time": "2024-11-03T02:08:04.890Z"
   },
   {
    "duration": 10,
    "start_time": "2024-11-03T02:26:14.579Z"
   },
   {
    "duration": 26,
    "start_time": "2024-11-03T02:27:58.944Z"
   },
   {
    "duration": 70,
    "start_time": "2024-11-03T02:58:38.941Z"
   },
   {
    "duration": 35,
    "start_time": "2024-11-03T03:01:15.221Z"
   },
   {
    "duration": 13,
    "start_time": "2024-11-03T03:02:40.307Z"
   },
   {
    "duration": 11,
    "start_time": "2024-11-03T03:13:29.044Z"
   },
   {
    "duration": 468,
    "start_time": "2024-11-03T03:13:41.470Z"
   },
   {
    "duration": 5,
    "start_time": "2024-11-03T03:15:25.667Z"
   },
   {
    "duration": 17,
    "start_time": "2024-11-03T03:15:44.349Z"
   },
   {
    "duration": 4,
    "start_time": "2024-11-03T03:16:18.388Z"
   },
   {
    "duration": 231,
    "start_time": "2024-11-03T03:17:19.844Z"
   },
   {
    "duration": 8,
    "start_time": "2024-11-03T03:20:16.676Z"
   },
   {
    "duration": 2,
    "start_time": "2024-11-03T03:21:45.586Z"
   },
   {
    "duration": 25,
    "start_time": "2024-11-03T03:21:45.594Z"
   },
   {
    "duration": 3,
    "start_time": "2024-11-03T03:21:45.621Z"
   },
   {
    "duration": 26,
    "start_time": "2024-11-03T03:21:45.626Z"
   },
   {
    "duration": 5,
    "start_time": "2024-11-03T03:21:45.654Z"
   },
   {
    "duration": 12,
    "start_time": "2024-11-03T03:21:45.662Z"
   },
   {
    "duration": 7,
    "start_time": "2024-11-03T03:21:45.675Z"
   },
   {
    "duration": 3,
    "start_time": "2024-11-03T03:21:45.684Z"
   },
   {
    "duration": 5,
    "start_time": "2024-11-03T03:21:45.689Z"
   },
   {
    "duration": 37,
    "start_time": "2024-11-03T03:21:45.695Z"
   },
   {
    "duration": 128,
    "start_time": "2024-11-03T03:21:45.734Z"
   },
   {
    "duration": 5,
    "start_time": "2024-11-03T03:21:45.864Z"
   },
   {
    "duration": 6,
    "start_time": "2024-11-03T03:21:45.871Z"
   },
   {
    "duration": 8,
    "start_time": "2024-11-03T03:21:45.881Z"
   },
   {
    "duration": 8,
    "start_time": "2024-11-03T03:21:45.890Z"
   },
   {
    "duration": 36,
    "start_time": "2024-11-03T03:21:45.900Z"
   },
   {
    "duration": 23,
    "start_time": "2024-11-03T03:21:45.938Z"
   },
   {
    "duration": 4,
    "start_time": "2024-11-03T03:21:45.962Z"
   },
   {
    "duration": 5,
    "start_time": "2024-11-03T03:21:45.970Z"
   },
   {
    "duration": 4,
    "start_time": "2024-11-03T03:21:45.977Z"
   },
   {
    "duration": 59,
    "start_time": "2024-11-03T03:21:45.983Z"
   },
   {
    "duration": 7,
    "start_time": "2024-11-03T03:21:46.044Z"
   },
   {
    "duration": 110,
    "start_time": "2024-11-03T03:21:46.053Z"
   },
   {
    "duration": 28,
    "start_time": "2024-11-03T03:21:46.167Z"
   },
   {
    "duration": 4,
    "start_time": "2024-11-03T03:21:46.196Z"
   },
   {
    "duration": 4,
    "start_time": "2024-11-03T03:21:46.202Z"
   },
   {
    "duration": 281,
    "start_time": "2024-11-03T03:21:46.207Z"
   },
   {
    "duration": 4,
    "start_time": "2024-11-03T03:21:46.490Z"
   },
   {
    "duration": 5,
    "start_time": "2024-11-03T03:21:46.496Z"
   },
   {
    "duration": 35,
    "start_time": "2024-11-03T03:21:46.502Z"
   },
   {
    "duration": 262,
    "start_time": "2024-11-03T03:21:46.543Z"
   },
   {
    "duration": 4,
    "start_time": "2024-11-03T03:21:46.808Z"
   },
   {
    "duration": 23,
    "start_time": "2024-11-03T03:21:46.813Z"
   },
   {
    "duration": 22,
    "start_time": "2024-11-03T03:21:46.842Z"
   },
   {
    "duration": 6,
    "start_time": "2024-11-03T03:21:46.866Z"
   },
   {
    "duration": 9,
    "start_time": "2024-11-03T03:21:46.873Z"
   },
   {
    "duration": 12,
    "start_time": "2024-11-03T03:21:46.886Z"
   },
   {
    "duration": 254,
    "start_time": "2024-11-03T03:21:46.900Z"
   },
   {
    "duration": 9,
    "start_time": "2024-11-03T03:21:47.156Z"
   },
   {
    "duration": 29,
    "start_time": "2024-11-03T03:22:05.930Z"
   },
   {
    "duration": 2517,
    "start_time": "2024-11-03T23:41:04.905Z"
   },
   {
    "duration": 33,
    "start_time": "2024-11-03T23:41:07.424Z"
   },
   {
    "duration": 2,
    "start_time": "2024-11-03T23:41:07.459Z"
   },
   {
    "duration": 25,
    "start_time": "2024-11-03T23:41:07.463Z"
   },
   {
    "duration": 5,
    "start_time": "2024-11-03T23:41:07.490Z"
   },
   {
    "duration": 10,
    "start_time": "2024-11-03T23:41:07.505Z"
   },
   {
    "duration": 5,
    "start_time": "2024-11-03T23:41:07.516Z"
   },
   {
    "duration": 3,
    "start_time": "2024-11-03T23:41:07.523Z"
   },
   {
    "duration": 4,
    "start_time": "2024-11-03T23:41:07.528Z"
   },
   {
    "duration": 5,
    "start_time": "2024-11-03T23:41:07.534Z"
   },
   {
    "duration": 127,
    "start_time": "2024-11-03T23:41:07.541Z"
   },
   {
    "duration": 5,
    "start_time": "2024-11-03T23:41:07.669Z"
   },
   {
    "duration": 6,
    "start_time": "2024-11-03T23:41:07.675Z"
   },
   {
    "duration": 23,
    "start_time": "2024-11-03T23:41:07.684Z"
   },
   {
    "duration": 7,
    "start_time": "2024-11-03T23:41:07.708Z"
   },
   {
    "duration": 9,
    "start_time": "2024-11-03T23:41:07.716Z"
   },
   {
    "duration": 22,
    "start_time": "2024-11-03T23:41:07.726Z"
   },
   {
    "duration": 4,
    "start_time": "2024-11-03T23:41:07.749Z"
   },
   {
    "duration": 5,
    "start_time": "2024-11-03T23:41:07.755Z"
   },
   {
    "duration": 4,
    "start_time": "2024-11-03T23:41:07.761Z"
   },
   {
    "duration": 21,
    "start_time": "2024-11-03T23:41:07.806Z"
   },
   {
    "duration": 4,
    "start_time": "2024-11-03T23:41:07.828Z"
   },
   {
    "duration": 116,
    "start_time": "2024-11-03T23:41:07.834Z"
   },
   {
    "duration": 24,
    "start_time": "2024-11-03T23:41:07.951Z"
   },
   {
    "duration": 5,
    "start_time": "2024-11-03T23:41:07.977Z"
   },
   {
    "duration": 24,
    "start_time": "2024-11-03T23:41:07.984Z"
   },
   {
    "duration": 258,
    "start_time": "2024-11-03T23:41:08.010Z"
   },
   {
    "duration": 4,
    "start_time": "2024-11-03T23:41:08.270Z"
   },
   {
    "duration": 4,
    "start_time": "2024-11-03T23:41:08.276Z"
   },
   {
    "duration": 29,
    "start_time": "2024-11-03T23:41:08.282Z"
   },
   {
    "duration": 293,
    "start_time": "2024-11-03T23:41:08.313Z"
   },
   {
    "duration": 4,
    "start_time": "2024-11-03T23:41:08.608Z"
   },
   {
    "duration": 10,
    "start_time": "2024-11-03T23:41:08.614Z"
   },
   {
    "duration": 9,
    "start_time": "2024-11-03T23:41:08.627Z"
   },
   {
    "duration": 4,
    "start_time": "2024-11-03T23:41:08.639Z"
   },
   {
    "duration": 10,
    "start_time": "2024-11-03T23:41:08.645Z"
   },
   {
    "duration": 12,
    "start_time": "2024-11-03T23:41:08.656Z"
   },
   {
    "duration": 252,
    "start_time": "2024-11-03T23:41:08.670Z"
   },
   {
    "duration": 10,
    "start_time": "2024-11-03T23:41:08.923Z"
   },
   {
    "duration": 2,
    "start_time": "2024-11-04T00:09:43.729Z"
   },
   {
    "duration": 23,
    "start_time": "2024-11-04T00:09:43.734Z"
   },
   {
    "duration": 2,
    "start_time": "2024-11-04T00:09:43.759Z"
   },
   {
    "duration": 25,
    "start_time": "2024-11-04T00:09:43.763Z"
   },
   {
    "duration": 5,
    "start_time": "2024-11-04T00:09:43.790Z"
   },
   {
    "duration": 13,
    "start_time": "2024-11-04T00:09:43.797Z"
   },
   {
    "duration": 7,
    "start_time": "2024-11-04T00:09:43.812Z"
   },
   {
    "duration": 4,
    "start_time": "2024-11-04T00:09:43.821Z"
   },
   {
    "duration": 4,
    "start_time": "2024-11-04T00:09:43.827Z"
   },
   {
    "duration": 4,
    "start_time": "2024-11-04T00:09:43.833Z"
   },
   {
    "duration": 118,
    "start_time": "2024-11-04T00:09:43.840Z"
   },
   {
    "duration": 5,
    "start_time": "2024-11-04T00:09:43.959Z"
   },
   {
    "duration": 5,
    "start_time": "2024-11-04T00:09:43.965Z"
   },
   {
    "duration": 8,
    "start_time": "2024-11-04T00:09:43.972Z"
   },
   {
    "duration": 27,
    "start_time": "2024-11-04T00:09:43.981Z"
   },
   {
    "duration": 8,
    "start_time": "2024-11-04T00:09:44.010Z"
   },
   {
    "duration": 22,
    "start_time": "2024-11-04T00:09:44.020Z"
   },
   {
    "duration": 4,
    "start_time": "2024-11-04T00:09:44.043Z"
   },
   {
    "duration": 4,
    "start_time": "2024-11-04T00:09:44.049Z"
   },
   {
    "duration": 4,
    "start_time": "2024-11-04T00:09:44.054Z"
   },
   {
    "duration": 61,
    "start_time": "2024-11-04T00:09:44.060Z"
   },
   {
    "duration": 4,
    "start_time": "2024-11-04T00:09:44.123Z"
   },
   {
    "duration": 28,
    "start_time": "2024-11-04T00:09:44.130Z"
   },
   {
    "duration": 5,
    "start_time": "2024-11-04T00:09:44.159Z"
   },
   {
    "duration": 4,
    "start_time": "2024-11-04T00:09:44.166Z"
   },
   {
    "duration": 278,
    "start_time": "2024-11-04T00:09:44.173Z"
   },
   {
    "duration": 4,
    "start_time": "2024-11-04T00:09:44.452Z"
   },
   {
    "duration": 12,
    "start_time": "2024-11-04T00:09:44.458Z"
   },
   {
    "duration": 257,
    "start_time": "2024-11-04T00:09:44.471Z"
   },
   {
    "duration": 4,
    "start_time": "2024-11-04T00:09:44.730Z"
   },
   {
    "duration": 10,
    "start_time": "2024-11-04T00:09:44.736Z"
   },
   {
    "duration": 8,
    "start_time": "2024-11-04T00:09:44.747Z"
   },
   {
    "duration": 4,
    "start_time": "2024-11-04T00:09:44.757Z"
   },
   {
    "duration": 43,
    "start_time": "2024-11-04T00:09:44.763Z"
   },
   {
    "duration": 13,
    "start_time": "2024-11-04T00:09:44.807Z"
   },
   {
    "duration": 226,
    "start_time": "2024-11-04T00:09:44.822Z"
   },
   {
    "duration": 8,
    "start_time": "2024-11-04T00:09:45.049Z"
   },
   {
    "duration": 4,
    "start_time": "2024-11-04T01:03:54.321Z"
   },
   {
    "duration": 115,
    "start_time": "2024-11-04T01:04:14.192Z"
   },
   {
    "duration": 172,
    "start_time": "2024-11-04T01:05:58.735Z"
   },
   {
    "duration": 123,
    "start_time": "2024-11-04T01:06:20.703Z"
   },
   {
    "duration": 150,
    "start_time": "2024-11-04T01:07:16.423Z"
   },
   {
    "duration": 133,
    "start_time": "2024-11-04T01:07:24.274Z"
   },
   {
    "duration": 137,
    "start_time": "2024-11-04T01:08:39.591Z"
   },
   {
    "duration": 416,
    "start_time": "2024-11-04T01:37:09.798Z"
   },
   {
    "duration": 6,
    "start_time": "2024-11-04T01:39:00.450Z"
   },
   {
    "duration": 5,
    "start_time": "2024-11-04T01:39:14.000Z"
   },
   {
    "duration": 14,
    "start_time": "2024-11-04T01:55:12.920Z"
   },
   {
    "duration": 17,
    "start_time": "2024-11-04T01:57:11.126Z"
   },
   {
    "duration": 18,
    "start_time": "2024-11-04T01:58:47.864Z"
   },
   {
    "duration": 84183,
    "start_time": "2024-11-04T01:59:11.427Z"
   },
   {
    "duration": 36257,
    "start_time": "2024-11-04T02:01:34.429Z"
   },
   {
    "duration": 4,
    "start_time": "2024-11-04T02:20:40.790Z"
   },
   {
    "duration": 282,
    "start_time": "2024-11-04T02:21:55.932Z"
   },
   {
    "duration": 4,
    "start_time": "2024-11-04T02:25:23.265Z"
   },
   {
    "duration": 4,
    "start_time": "2024-11-04T02:25:31.150Z"
   },
   {
    "duration": 22,
    "start_time": "2024-11-04T02:28:11.843Z"
   },
   {
    "duration": 14,
    "start_time": "2024-11-04T02:28:29.490Z"
   },
   {
    "duration": 28683,
    "start_time": "2024-11-04T02:29:42.010Z"
   },
   {
    "duration": 16,
    "start_time": "2024-11-04T02:32:09.533Z"
   },
   {
    "duration": 6,
    "start_time": "2024-11-04T02:36:19.783Z"
   },
   {
    "duration": 2643,
    "start_time": "2024-11-04T20:24:19.530Z"
   },
   {
    "duration": 36,
    "start_time": "2024-11-04T20:24:22.175Z"
   },
   {
    "duration": 3,
    "start_time": "2024-11-04T20:24:22.213Z"
   },
   {
    "duration": 39,
    "start_time": "2024-11-04T20:24:22.218Z"
   },
   {
    "duration": 7,
    "start_time": "2024-11-04T20:24:22.261Z"
   },
   {
    "duration": 11,
    "start_time": "2024-11-04T20:24:22.272Z"
   },
   {
    "duration": 5,
    "start_time": "2024-11-04T20:24:22.285Z"
   },
   {
    "duration": 4,
    "start_time": "2024-11-04T20:24:22.292Z"
   },
   {
    "duration": 30,
    "start_time": "2024-11-04T20:24:22.298Z"
   },
   {
    "duration": 5,
    "start_time": "2024-11-04T20:24:22.329Z"
   },
   {
    "duration": 121,
    "start_time": "2024-11-04T20:24:22.336Z"
   },
   {
    "duration": 5,
    "start_time": "2024-11-04T20:24:22.459Z"
   },
   {
    "duration": 5,
    "start_time": "2024-11-04T20:24:22.465Z"
   },
   {
    "duration": 6,
    "start_time": "2024-11-04T20:24:22.474Z"
   },
   {
    "duration": 6,
    "start_time": "2024-11-04T20:24:22.482Z"
   },
   {
    "duration": 37,
    "start_time": "2024-11-04T20:24:22.490Z"
   },
   {
    "duration": 23,
    "start_time": "2024-11-04T20:24:22.529Z"
   },
   {
    "duration": 5,
    "start_time": "2024-11-04T20:24:22.553Z"
   },
   {
    "duration": 5,
    "start_time": "2024-11-04T20:24:22.559Z"
   },
   {
    "duration": 5,
    "start_time": "2024-11-04T20:24:22.565Z"
   },
   {
    "duration": 55,
    "start_time": "2024-11-04T20:24:22.572Z"
   },
   {
    "duration": 4,
    "start_time": "2024-11-04T20:24:22.629Z"
   },
   {
    "duration": 25,
    "start_time": "2024-11-04T20:24:22.635Z"
   },
   {
    "duration": 5,
    "start_time": "2024-11-04T20:24:22.662Z"
   },
   {
    "duration": 4,
    "start_time": "2024-11-04T20:24:22.669Z"
   },
   {
    "duration": 288,
    "start_time": "2024-11-04T20:24:22.675Z"
   },
   {
    "duration": 6,
    "start_time": "2024-11-04T20:24:22.966Z"
   },
   {
    "duration": 13,
    "start_time": "2024-11-04T20:24:22.973Z"
   },
   {
    "duration": 268,
    "start_time": "2024-11-04T20:24:22.987Z"
   },
   {
    "duration": 4,
    "start_time": "2024-11-04T20:24:23.257Z"
   },
   {
    "duration": 10,
    "start_time": "2024-11-04T20:24:23.263Z"
   },
   {
    "duration": 8,
    "start_time": "2024-11-04T20:24:23.275Z"
   },
   {
    "duration": 4,
    "start_time": "2024-11-04T20:24:23.285Z"
   },
   {
    "duration": 41,
    "start_time": "2024-11-04T20:24:23.291Z"
   },
   {
    "duration": 76,
    "start_time": "2024-11-04T20:24:23.334Z"
   },
   {
    "duration": 231,
    "start_time": "2024-11-04T20:24:23.424Z"
   },
   {
    "duration": 9,
    "start_time": "2024-11-04T20:24:23.657Z"
   },
   {
    "duration": 172,
    "start_time": "2024-11-04T20:24:23.667Z"
   },
   {
    "duration": 153,
    "start_time": "2024-11-04T20:24:23.841Z"
   },
   {
    "duration": 4,
    "start_time": "2024-11-04T20:24:23.996Z"
   },
   {
    "duration": 28,
    "start_time": "2024-11-04T20:24:24.004Z"
   },
   {
    "duration": 5,
    "start_time": "2024-11-04T20:24:24.034Z"
   },
   {
    "duration": 7,
    "start_time": "2024-11-04T20:24:24.040Z"
   },
   {
    "duration": 6,
    "start_time": "2024-11-04T20:28:19.045Z"
   },
   {
    "duration": 6,
    "start_time": "2024-11-04T20:30:04.681Z"
   },
   {
    "duration": 8,
    "start_time": "2024-11-04T20:31:53.128Z"
   },
   {
    "duration": 5,
    "start_time": "2024-11-04T20:34:06.104Z"
   },
   {
    "duration": 6,
    "start_time": "2024-11-04T20:35:18.812Z"
   },
   {
    "duration": 10,
    "start_time": "2024-11-04T20:35:36.396Z"
   },
   {
    "duration": 4,
    "start_time": "2024-11-04T20:35:48.983Z"
   },
   {
    "duration": 9,
    "start_time": "2024-11-04T20:35:56.528Z"
   },
   {
    "duration": 10,
    "start_time": "2024-11-04T20:44:01.103Z"
   },
   {
    "duration": 221,
    "start_time": "2024-11-04T21:16:42.469Z"
   },
   {
    "duration": 8,
    "start_time": "2024-11-04T21:18:07.229Z"
   },
   {
    "duration": 211,
    "start_time": "2024-11-04T23:42:13.085Z"
   },
   {
    "duration": 2623,
    "start_time": "2024-11-04T23:42:19.096Z"
   },
   {
    "duration": 40,
    "start_time": "2024-11-04T23:42:21.722Z"
   },
   {
    "duration": 2,
    "start_time": "2024-11-04T23:42:21.764Z"
   },
   {
    "duration": 38,
    "start_time": "2024-11-04T23:42:21.769Z"
   },
   {
    "duration": 6,
    "start_time": "2024-11-04T23:42:21.809Z"
   },
   {
    "duration": 10,
    "start_time": "2024-11-04T23:42:21.816Z"
   },
   {
    "duration": 5,
    "start_time": "2024-11-04T23:42:21.827Z"
   },
   {
    "duration": 3,
    "start_time": "2024-11-04T23:42:21.834Z"
   },
   {
    "duration": 5,
    "start_time": "2024-11-04T23:42:21.839Z"
   },
   {
    "duration": 4,
    "start_time": "2024-11-04T23:42:21.846Z"
   },
   {
    "duration": 137,
    "start_time": "2024-11-04T23:42:21.852Z"
   },
   {
    "duration": 5,
    "start_time": "2024-11-04T23:42:21.990Z"
   },
   {
    "duration": 5,
    "start_time": "2024-11-04T23:42:21.996Z"
   },
   {
    "duration": 8,
    "start_time": "2024-11-04T23:42:22.004Z"
   },
   {
    "duration": 6,
    "start_time": "2024-11-04T23:42:22.014Z"
   },
   {
    "duration": 8,
    "start_time": "2024-11-04T23:42:22.022Z"
   },
   {
    "duration": 22,
    "start_time": "2024-11-04T23:42:22.032Z"
   },
   {
    "duration": 4,
    "start_time": "2024-11-04T23:42:22.087Z"
   },
   {
    "duration": 4,
    "start_time": "2024-11-04T23:42:22.093Z"
   },
   {
    "duration": 4,
    "start_time": "2024-11-04T23:42:22.099Z"
   },
   {
    "duration": 21,
    "start_time": "2024-11-04T23:42:22.104Z"
   },
   {
    "duration": 5,
    "start_time": "2024-11-04T23:42:22.127Z"
   },
   {
    "duration": 60,
    "start_time": "2024-11-04T23:42:22.133Z"
   },
   {
    "duration": 5,
    "start_time": "2024-11-04T23:42:22.195Z"
   },
   {
    "duration": 4,
    "start_time": "2024-11-04T23:42:22.202Z"
   },
   {
    "duration": 271,
    "start_time": "2024-11-04T23:42:22.208Z"
   },
   {
    "duration": 5,
    "start_time": "2024-11-04T23:42:22.486Z"
   },
   {
    "duration": 12,
    "start_time": "2024-11-04T23:42:22.495Z"
   },
   {
    "duration": 260,
    "start_time": "2024-11-04T23:42:22.509Z"
   },
   {
    "duration": 4,
    "start_time": "2024-11-04T23:42:22.771Z"
   },
   {
    "duration": 19,
    "start_time": "2024-11-04T23:42:22.777Z"
   },
   {
    "duration": 8,
    "start_time": "2024-11-04T23:42:22.797Z"
   },
   {
    "duration": 5,
    "start_time": "2024-11-04T23:42:22.807Z"
   },
   {
    "duration": 9,
    "start_time": "2024-11-04T23:42:22.814Z"
   },
   {
    "duration": 16,
    "start_time": "2024-11-04T23:42:22.824Z"
   },
   {
    "duration": 262,
    "start_time": "2024-11-04T23:42:22.842Z"
   },
   {
    "duration": 10,
    "start_time": "2024-11-04T23:42:23.106Z"
   },
   {
    "duration": 179,
    "start_time": "2024-11-04T23:42:23.118Z"
   },
   {
    "duration": 147,
    "start_time": "2024-11-04T23:42:23.299Z"
   },
   {
    "duration": 4,
    "start_time": "2024-11-04T23:42:23.448Z"
   },
   {
    "duration": 16,
    "start_time": "2024-11-04T23:42:23.454Z"
   },
   {
    "duration": 18,
    "start_time": "2024-11-04T23:42:23.471Z"
   },
   {
    "duration": 12,
    "start_time": "2024-11-04T23:42:23.491Z"
   },
   {
    "duration": 7,
    "start_time": "2024-11-04T23:42:23.504Z"
   },
   {
    "duration": 98,
    "start_time": "2024-11-04T23:42:23.513Z"
   },
   {
    "duration": 7,
    "start_time": "2024-11-04T23:42:32.182Z"
   },
   {
    "duration": 2573,
    "start_time": "2024-11-05T18:50:48.524Z"
   },
   {
    "duration": 34,
    "start_time": "2024-11-05T18:50:51.099Z"
   },
   {
    "duration": 3,
    "start_time": "2024-11-05T18:50:51.136Z"
   },
   {
    "duration": 27,
    "start_time": "2024-11-05T18:50:51.141Z"
   },
   {
    "duration": 5,
    "start_time": "2024-11-05T18:50:51.169Z"
   },
   {
    "duration": 18,
    "start_time": "2024-11-05T18:50:51.176Z"
   },
   {
    "duration": 5,
    "start_time": "2024-11-05T18:50:51.196Z"
   },
   {
    "duration": 4,
    "start_time": "2024-11-05T18:50:51.202Z"
   },
   {
    "duration": 5,
    "start_time": "2024-11-05T18:50:51.207Z"
   },
   {
    "duration": 4,
    "start_time": "2024-11-05T18:50:51.216Z"
   },
   {
    "duration": 129,
    "start_time": "2024-11-05T18:50:51.221Z"
   },
   {
    "duration": 4,
    "start_time": "2024-11-05T18:50:51.352Z"
   },
   {
    "duration": 5,
    "start_time": "2024-11-05T18:50:51.358Z"
   },
   {
    "duration": 22,
    "start_time": "2024-11-05T18:50:51.364Z"
   },
   {
    "duration": 6,
    "start_time": "2024-11-05T18:50:51.388Z"
   },
   {
    "duration": 8,
    "start_time": "2024-11-05T18:50:51.396Z"
   },
   {
    "duration": 21,
    "start_time": "2024-11-05T18:50:51.406Z"
   },
   {
    "duration": 3,
    "start_time": "2024-11-05T18:50:51.429Z"
   },
   {
    "duration": 4,
    "start_time": "2024-11-05T18:50:51.434Z"
   },
   {
    "duration": 4,
    "start_time": "2024-11-05T18:50:51.440Z"
   },
   {
    "duration": 59,
    "start_time": "2024-11-05T18:50:51.446Z"
   },
   {
    "duration": 4,
    "start_time": "2024-11-05T18:50:51.507Z"
   },
   {
    "duration": 23,
    "start_time": "2024-11-05T18:50:51.512Z"
   },
   {
    "duration": 5,
    "start_time": "2024-11-05T18:50:51.537Z"
   },
   {
    "duration": 4,
    "start_time": "2024-11-05T18:50:51.543Z"
   },
   {
    "duration": 294,
    "start_time": "2024-11-05T18:50:51.549Z"
   },
   {
    "duration": 6,
    "start_time": "2024-11-05T18:50:51.845Z"
   },
   {
    "duration": 14,
    "start_time": "2024-11-05T18:50:51.854Z"
   },
   {
    "duration": 268,
    "start_time": "2024-11-05T18:50:51.869Z"
   },
   {
    "duration": 3,
    "start_time": "2024-11-05T18:50:52.139Z"
   },
   {
    "duration": 10,
    "start_time": "2024-11-05T18:50:52.145Z"
   },
   {
    "duration": 8,
    "start_time": "2024-11-05T18:50:52.156Z"
   },
   {
    "duration": 5,
    "start_time": "2024-11-05T18:50:52.187Z"
   },
   {
    "duration": 8,
    "start_time": "2024-11-05T18:50:52.194Z"
   },
   {
    "duration": 12,
    "start_time": "2024-11-05T18:50:52.204Z"
   },
   {
    "duration": 242,
    "start_time": "2024-11-05T18:50:52.217Z"
   },
   {
    "duration": 8,
    "start_time": "2024-11-05T18:50:52.461Z"
   },
   {
    "duration": 226,
    "start_time": "2024-11-05T18:50:52.471Z"
   },
   {
    "duration": 148,
    "start_time": "2024-11-05T18:50:52.699Z"
   },
   {
    "duration": 5,
    "start_time": "2024-11-05T18:50:52.849Z"
   },
   {
    "duration": 31,
    "start_time": "2024-11-05T18:50:52.855Z"
   },
   {
    "duration": 5,
    "start_time": "2024-11-05T18:50:52.887Z"
   },
   {
    "duration": 9,
    "start_time": "2024-11-05T18:50:52.893Z"
   },
   {
    "duration": 7,
    "start_time": "2024-11-05T18:50:52.903Z"
   },
   {
    "duration": 6,
    "start_time": "2024-11-05T18:50:52.912Z"
   },
   {
    "duration": 266,
    "start_time": "2024-11-05T18:50:52.920Z"
   },
   {
    "duration": 6,
    "start_time": "2024-11-05T18:51:07.614Z"
   },
   {
    "duration": 4,
    "start_time": "2024-11-05T19:03:19.691Z"
   },
   {
    "duration": 8,
    "start_time": "2024-11-05T20:35:28.867Z"
   },
   {
    "duration": 2580,
    "start_time": "2024-11-05T20:35:33.688Z"
   },
   {
    "duration": 35,
    "start_time": "2024-11-05T20:35:36.270Z"
   },
   {
    "duration": 3,
    "start_time": "2024-11-05T20:35:36.307Z"
   },
   {
    "duration": 31,
    "start_time": "2024-11-05T20:35:36.313Z"
   },
   {
    "duration": 5,
    "start_time": "2024-11-05T20:35:36.346Z"
   },
   {
    "duration": 10,
    "start_time": "2024-11-05T20:35:36.353Z"
   },
   {
    "duration": 6,
    "start_time": "2024-11-05T20:35:36.364Z"
   },
   {
    "duration": 4,
    "start_time": "2024-11-05T20:35:36.371Z"
   },
   {
    "duration": 6,
    "start_time": "2024-11-05T20:35:36.377Z"
   },
   {
    "duration": 5,
    "start_time": "2024-11-05T20:35:36.386Z"
   },
   {
    "duration": 142,
    "start_time": "2024-11-05T20:35:36.392Z"
   },
   {
    "duration": 4,
    "start_time": "2024-11-05T20:35:36.536Z"
   },
   {
    "duration": 5,
    "start_time": "2024-11-05T20:35:36.542Z"
   },
   {
    "duration": 7,
    "start_time": "2024-11-05T20:35:36.549Z"
   },
   {
    "duration": 6,
    "start_time": "2024-11-05T20:35:36.558Z"
   },
   {
    "duration": 8,
    "start_time": "2024-11-05T20:35:36.567Z"
   },
   {
    "duration": 61,
    "start_time": "2024-11-05T20:35:36.577Z"
   },
   {
    "duration": 4,
    "start_time": "2024-11-05T20:35:36.641Z"
   },
   {
    "duration": 5,
    "start_time": "2024-11-05T20:35:36.647Z"
   },
   {
    "duration": 6,
    "start_time": "2024-11-05T20:35:36.653Z"
   },
   {
    "duration": 22,
    "start_time": "2024-11-05T20:35:36.660Z"
   },
   {
    "duration": 4,
    "start_time": "2024-11-05T20:35:36.685Z"
   },
   {
    "duration": 63,
    "start_time": "2024-11-05T20:35:36.691Z"
   },
   {
    "duration": 5,
    "start_time": "2024-11-05T20:35:36.756Z"
   },
   {
    "duration": 5,
    "start_time": "2024-11-05T20:35:36.762Z"
   },
   {
    "duration": 286,
    "start_time": "2024-11-05T20:35:36.768Z"
   },
   {
    "duration": 5,
    "start_time": "2024-11-05T20:35:37.056Z"
   },
   {
    "duration": 12,
    "start_time": "2024-11-05T20:35:37.065Z"
   },
   {
    "duration": 266,
    "start_time": "2024-11-05T20:35:37.079Z"
   },
   {
    "duration": 3,
    "start_time": "2024-11-05T20:35:37.347Z"
   },
   {
    "duration": 14,
    "start_time": "2024-11-05T20:35:37.351Z"
   },
   {
    "duration": 12,
    "start_time": "2024-11-05T20:35:37.368Z"
   },
   {
    "duration": 6,
    "start_time": "2024-11-05T20:35:37.382Z"
   },
   {
    "duration": 9,
    "start_time": "2024-11-05T20:35:37.389Z"
   },
   {
    "duration": 40,
    "start_time": "2024-11-05T20:35:37.400Z"
   },
   {
    "duration": 229,
    "start_time": "2024-11-05T20:35:37.442Z"
   },
   {
    "duration": 10,
    "start_time": "2024-11-05T20:35:37.673Z"
   },
   {
    "duration": 250,
    "start_time": "2024-11-05T20:35:37.685Z"
   },
   {
    "duration": 143,
    "start_time": "2024-11-05T20:35:37.936Z"
   },
   {
    "duration": 5,
    "start_time": "2024-11-05T20:35:38.081Z"
   },
   {
    "duration": 14,
    "start_time": "2024-11-05T20:35:38.088Z"
   },
   {
    "duration": 27,
    "start_time": "2024-11-05T20:35:38.104Z"
   },
   {
    "duration": 11,
    "start_time": "2024-11-05T20:35:38.135Z"
   },
   {
    "duration": 7,
    "start_time": "2024-11-05T20:35:38.147Z"
   },
   {
    "duration": 7,
    "start_time": "2024-11-05T20:35:38.156Z"
   },
   {
    "duration": 6,
    "start_time": "2024-11-05T20:35:38.165Z"
   },
   {
    "duration": 5,
    "start_time": "2024-11-05T20:35:38.173Z"
   },
   {
    "duration": 4,
    "start_time": "2024-11-05T20:35:38.180Z"
   },
   {
    "duration": 7,
    "start_time": "2024-11-05T20:35:46.647Z"
   },
   {
    "duration": 7,
    "start_time": "2024-11-05T20:36:55.231Z"
   },
   {
    "duration": 4,
    "start_time": "2024-11-05T20:36:57.526Z"
   },
   {
    "duration": 5,
    "start_time": "2024-11-05T21:39:23.619Z"
   },
   {
    "duration": 0,
    "start_time": "2024-11-05T21:39:23.627Z"
   },
   {
    "duration": 48,
    "start_time": "2024-11-05T21:39:23.640Z"
   },
   {
    "duration": 5,
    "start_time": "2024-11-05T21:39:23.695Z"
   },
   {
    "duration": 42,
    "start_time": "2024-11-05T21:39:23.704Z"
   },
   {
    "duration": 6,
    "start_time": "2024-11-05T21:39:23.748Z"
   },
   {
    "duration": 13,
    "start_time": "2024-11-05T21:39:23.757Z"
   },
   {
    "duration": 6,
    "start_time": "2024-11-05T21:39:23.772Z"
   },
   {
    "duration": 6,
    "start_time": "2024-11-05T21:39:23.780Z"
   },
   {
    "duration": 6,
    "start_time": "2024-11-05T21:39:23.790Z"
   },
   {
    "duration": 5,
    "start_time": "2024-11-05T21:39:23.798Z"
   },
   {
    "duration": 150,
    "start_time": "2024-11-05T21:39:23.832Z"
   },
   {
    "duration": 7,
    "start_time": "2024-11-05T21:39:23.984Z"
   },
   {
    "duration": 7,
    "start_time": "2024-11-05T21:39:23.993Z"
   },
   {
    "duration": 35,
    "start_time": "2024-11-05T21:39:24.002Z"
   },
   {
    "duration": 9,
    "start_time": "2024-11-05T21:39:24.042Z"
   },
   {
    "duration": 12,
    "start_time": "2024-11-05T21:39:24.054Z"
   },
   {
    "duration": 33,
    "start_time": "2024-11-05T21:39:24.069Z"
   },
   {
    "duration": 31,
    "start_time": "2024-11-05T21:39:24.105Z"
   },
   {
    "duration": 5,
    "start_time": "2024-11-05T21:39:24.139Z"
   },
   {
    "duration": 6,
    "start_time": "2024-11-05T21:39:24.146Z"
   },
   {
    "duration": 35,
    "start_time": "2024-11-05T21:39:24.154Z"
   },
   {
    "duration": 6,
    "start_time": "2024-11-05T21:39:24.191Z"
   },
   {
    "duration": 72,
    "start_time": "2024-11-05T21:39:24.199Z"
   },
   {
    "duration": 7,
    "start_time": "2024-11-05T21:39:24.273Z"
   },
   {
    "duration": 5,
    "start_time": "2024-11-05T21:39:24.283Z"
   },
   {
    "duration": 446,
    "start_time": "2024-11-05T21:39:24.290Z"
   },
   {
    "duration": 5,
    "start_time": "2024-11-05T21:39:24.738Z"
   },
   {
    "duration": 19,
    "start_time": "2024-11-05T21:39:24.746Z"
   },
   {
    "duration": 435,
    "start_time": "2024-11-05T21:39:24.767Z"
   },
   {
    "duration": 5,
    "start_time": "2024-11-05T21:39:25.204Z"
   },
   {
    "duration": 34,
    "start_time": "2024-11-05T21:39:25.211Z"
   },
   {
    "duration": 13,
    "start_time": "2024-11-05T21:39:25.247Z"
   },
   {
    "duration": 7,
    "start_time": "2024-11-05T21:39:25.263Z"
   },
   {
    "duration": 12,
    "start_time": "2024-11-05T21:39:25.272Z"
   },
   {
    "duration": 21,
    "start_time": "2024-11-05T21:39:25.286Z"
   },
   {
    "duration": 386,
    "start_time": "2024-11-05T21:39:25.309Z"
   },
   {
    "duration": 12,
    "start_time": "2024-11-05T21:39:25.697Z"
   },
   {
    "duration": 221,
    "start_time": "2024-11-05T21:39:25.714Z"
   },
   {
    "duration": 199,
    "start_time": "2024-11-05T21:39:25.937Z"
   },
   {
    "duration": 9,
    "start_time": "2024-11-05T21:39:26.139Z"
   },
   {
    "duration": 26,
    "start_time": "2024-11-05T21:39:26.156Z"
   },
   {
    "duration": 9,
    "start_time": "2024-11-05T21:39:26.187Z"
   },
   {
    "duration": 15,
    "start_time": "2024-11-05T21:39:26.199Z"
   },
   {
    "duration": 11,
    "start_time": "2024-11-05T21:39:26.217Z"
   },
   {
    "duration": 14,
    "start_time": "2024-11-05T21:39:26.232Z"
   },
   {
    "duration": 10,
    "start_time": "2024-11-05T21:39:26.250Z"
   },
   {
    "duration": 10,
    "start_time": "2024-11-05T21:39:26.263Z"
   },
   {
    "duration": 118,
    "start_time": "2024-11-05T21:39:26.281Z"
   },
   {
    "duration": 7,
    "start_time": "2024-11-05T21:39:26.401Z"
   },
   {
    "duration": 5,
    "start_time": "2024-11-05T21:46:52.831Z"
   },
   {
    "duration": 5,
    "start_time": "2024-11-05T21:47:17.695Z"
   },
   {
    "duration": 3,
    "start_time": "2024-11-05T21:47:17.734Z"
   },
   {
    "duration": 23,
    "start_time": "2024-11-05T21:47:17.741Z"
   },
   {
    "duration": 3,
    "start_time": "2024-11-05T21:47:17.766Z"
   },
   {
    "duration": 34,
    "start_time": "2024-11-05T21:47:17.771Z"
   },
   {
    "duration": 7,
    "start_time": "2024-11-05T21:47:17.831Z"
   },
   {
    "duration": 17,
    "start_time": "2024-11-05T21:47:17.841Z"
   },
   {
    "duration": 7,
    "start_time": "2024-11-05T21:47:17.859Z"
   },
   {
    "duration": 5,
    "start_time": "2024-11-05T21:47:17.867Z"
   },
   {
    "duration": 7,
    "start_time": "2024-11-05T21:47:17.873Z"
   },
   {
    "duration": 4,
    "start_time": "2024-11-05T21:47:17.882Z"
   },
   {
    "duration": 128,
    "start_time": "2024-11-05T21:47:17.888Z"
   },
   {
    "duration": 6,
    "start_time": "2024-11-05T21:47:18.031Z"
   },
   {
    "duration": 5,
    "start_time": "2024-11-05T21:47:18.039Z"
   },
   {
    "duration": 7,
    "start_time": "2024-11-05T21:47:18.047Z"
   },
   {
    "duration": 6,
    "start_time": "2024-11-05T21:47:18.058Z"
   },
   {
    "duration": 8,
    "start_time": "2024-11-05T21:47:18.066Z"
   },
   {
    "duration": 22,
    "start_time": "2024-11-05T21:47:18.075Z"
   },
   {
    "duration": 8,
    "start_time": "2024-11-05T21:47:18.133Z"
   },
   {
    "duration": 6,
    "start_time": "2024-11-05T21:47:18.145Z"
   },
   {
    "duration": 4,
    "start_time": "2024-11-05T21:47:18.153Z"
   },
   {
    "duration": 22,
    "start_time": "2024-11-05T21:47:18.159Z"
   },
   {
    "duration": 4,
    "start_time": "2024-11-05T21:47:18.183Z"
   },
   {
    "duration": 57,
    "start_time": "2024-11-05T21:47:18.189Z"
   },
   {
    "duration": 5,
    "start_time": "2024-11-05T21:47:18.248Z"
   },
   {
    "duration": 5,
    "start_time": "2024-11-05T21:47:18.255Z"
   },
   {
    "duration": 298,
    "start_time": "2024-11-05T21:47:18.261Z"
   },
   {
    "duration": 5,
    "start_time": "2024-11-05T21:47:18.561Z"
   },
   {
    "duration": 15,
    "start_time": "2024-11-05T21:47:18.568Z"
   },
   {
    "duration": 263,
    "start_time": "2024-11-05T21:47:18.584Z"
   },
   {
    "duration": 3,
    "start_time": "2024-11-05T21:47:18.849Z"
   },
   {
    "duration": 13,
    "start_time": "2024-11-05T21:47:18.854Z"
   },
   {
    "duration": 9,
    "start_time": "2024-11-05T21:47:18.869Z"
   },
   {
    "duration": 7,
    "start_time": "2024-11-05T21:47:18.880Z"
   },
   {
    "duration": 42,
    "start_time": "2024-11-05T21:47:18.889Z"
   },
   {
    "duration": 14,
    "start_time": "2024-11-05T21:47:18.933Z"
   },
   {
    "duration": 224,
    "start_time": "2024-11-05T21:47:18.949Z"
   },
   {
    "duration": 10,
    "start_time": "2024-11-05T21:47:19.175Z"
   },
   {
    "duration": 171,
    "start_time": "2024-11-05T21:47:19.186Z"
   },
   {
    "duration": 150,
    "start_time": "2024-11-05T21:47:19.358Z"
   },
   {
    "duration": 4,
    "start_time": "2024-11-05T21:47:19.510Z"
   },
   {
    "duration": 28,
    "start_time": "2024-11-05T21:47:19.516Z"
   },
   {
    "duration": 5,
    "start_time": "2024-11-05T21:47:19.549Z"
   },
   {
    "duration": 9,
    "start_time": "2024-11-05T21:47:19.555Z"
   },
   {
    "duration": 7,
    "start_time": "2024-11-05T21:47:19.566Z"
   },
   {
    "duration": 7,
    "start_time": "2024-11-05T21:47:19.575Z"
   },
   {
    "duration": 6,
    "start_time": "2024-11-05T21:47:19.584Z"
   },
   {
    "duration": 40,
    "start_time": "2024-11-05T21:47:19.591Z"
   },
   {
    "duration": 7,
    "start_time": "2024-11-05T21:47:19.633Z"
   },
   {
    "duration": 5,
    "start_time": "2024-11-05T21:47:19.642Z"
   },
   {
    "duration": 5,
    "start_time": "2024-11-05T21:47:49.323Z"
   },
   {
    "duration": 3,
    "start_time": "2024-11-05T21:49:11.889Z"
   },
   {
    "duration": 23,
    "start_time": "2024-11-05T21:49:11.894Z"
   },
   {
    "duration": 3,
    "start_time": "2024-11-05T21:49:11.919Z"
   },
   {
    "duration": 31,
    "start_time": "2024-11-05T21:49:11.924Z"
   },
   {
    "duration": 6,
    "start_time": "2024-11-05T21:49:11.957Z"
   },
   {
    "duration": 14,
    "start_time": "2024-11-05T21:49:11.965Z"
   },
   {
    "duration": 6,
    "start_time": "2024-11-05T21:49:11.981Z"
   },
   {
    "duration": 4,
    "start_time": "2024-11-05T21:49:11.989Z"
   },
   {
    "duration": 39,
    "start_time": "2024-11-05T21:49:11.994Z"
   },
   {
    "duration": 4,
    "start_time": "2024-11-05T21:49:12.035Z"
   },
   {
    "duration": 104,
    "start_time": "2024-11-05T21:49:12.042Z"
   },
   {
    "duration": 5,
    "start_time": "2024-11-05T21:49:12.147Z"
   },
   {
    "duration": 6,
    "start_time": "2024-11-05T21:49:12.154Z"
   },
   {
    "duration": 7,
    "start_time": "2024-11-05T21:49:12.161Z"
   },
   {
    "duration": 5,
    "start_time": "2024-11-05T21:49:12.170Z"
   },
   {
    "duration": 8,
    "start_time": "2024-11-05T21:49:12.177Z"
   },
   {
    "duration": 62,
    "start_time": "2024-11-05T21:49:12.186Z"
   },
   {
    "duration": 4,
    "start_time": "2024-11-05T21:49:12.250Z"
   },
   {
    "duration": 5,
    "start_time": "2024-11-05T21:49:12.256Z"
   },
   {
    "duration": 4,
    "start_time": "2024-11-05T21:49:12.262Z"
   },
   {
    "duration": 24,
    "start_time": "2024-11-05T21:49:12.270Z"
   },
   {
    "duration": 37,
    "start_time": "2024-11-05T21:49:12.296Z"
   },
   {
    "duration": 25,
    "start_time": "2024-11-05T21:49:12.335Z"
   },
   {
    "duration": 6,
    "start_time": "2024-11-05T21:49:12.361Z"
   },
   {
    "duration": 4,
    "start_time": "2024-11-05T21:49:12.369Z"
   },
   {
    "duration": 349,
    "start_time": "2024-11-05T21:49:12.374Z"
   },
   {
    "duration": 10,
    "start_time": "2024-11-05T21:49:12.725Z"
   },
   {
    "duration": 12,
    "start_time": "2024-11-05T21:49:12.737Z"
   },
   {
    "duration": 279,
    "start_time": "2024-11-05T21:49:12.751Z"
   },
   {
    "duration": 3,
    "start_time": "2024-11-05T21:49:13.033Z"
   },
   {
    "duration": 11,
    "start_time": "2024-11-05T21:49:13.038Z"
   },
   {
    "duration": 7,
    "start_time": "2024-11-05T21:49:13.051Z"
   },
   {
    "duration": 4,
    "start_time": "2024-11-05T21:49:13.060Z"
   },
   {
    "duration": 9,
    "start_time": "2024-11-05T21:49:13.066Z"
   },
   {
    "duration": 12,
    "start_time": "2024-11-05T21:49:13.077Z"
   },
   {
    "duration": 282,
    "start_time": "2024-11-05T21:49:13.090Z"
   },
   {
    "duration": 8,
    "start_time": "2024-11-05T21:49:13.374Z"
   },
   {
    "duration": 173,
    "start_time": "2024-11-05T21:49:13.384Z"
   },
   {
    "duration": 148,
    "start_time": "2024-11-05T21:49:13.559Z"
   },
   {
    "duration": 5,
    "start_time": "2024-11-05T21:49:13.709Z"
   },
   {
    "duration": 28,
    "start_time": "2024-11-05T21:49:13.717Z"
   },
   {
    "duration": 6,
    "start_time": "2024-11-05T21:49:13.746Z"
   },
   {
    "duration": 9,
    "start_time": "2024-11-05T21:49:13.753Z"
   },
   {
    "duration": 7,
    "start_time": "2024-11-05T21:49:13.764Z"
   },
   {
    "duration": 10,
    "start_time": "2024-11-05T21:49:13.773Z"
   },
   {
    "duration": 8,
    "start_time": "2024-11-05T21:49:13.784Z"
   },
   {
    "duration": 37,
    "start_time": "2024-11-05T21:49:13.794Z"
   },
   {
    "duration": 7,
    "start_time": "2024-11-05T21:49:13.834Z"
   },
   {
    "duration": 5,
    "start_time": "2024-11-05T21:49:13.843Z"
   },
   {
    "duration": 3,
    "start_time": "2024-11-05T21:53:42.910Z"
   },
   {
    "duration": 23,
    "start_time": "2024-11-05T21:53:42.916Z"
   },
   {
    "duration": 3,
    "start_time": "2024-11-05T21:53:42.961Z"
   },
   {
    "duration": 26,
    "start_time": "2024-11-05T21:53:42.967Z"
   },
   {
    "duration": 6,
    "start_time": "2024-11-05T21:53:43.026Z"
   },
   {
    "duration": 11,
    "start_time": "2024-11-05T21:53:43.034Z"
   },
   {
    "duration": 5,
    "start_time": "2024-11-05T21:53:43.048Z"
   },
   {
    "duration": 5,
    "start_time": "2024-11-05T21:53:43.096Z"
   },
   {
    "duration": 5,
    "start_time": "2024-11-05T21:53:43.103Z"
   },
   {
    "duration": 5,
    "start_time": "2024-11-05T21:53:43.109Z"
   },
   {
    "duration": 91,
    "start_time": "2024-11-05T21:53:43.115Z"
   },
   {
    "duration": 23,
    "start_time": "2024-11-05T21:53:43.209Z"
   },
   {
    "duration": 6,
    "start_time": "2024-11-05T21:53:43.234Z"
   },
   {
    "duration": 7,
    "start_time": "2024-11-05T21:53:43.243Z"
   },
   {
    "duration": 8,
    "start_time": "2024-11-05T21:53:43.252Z"
   },
   {
    "duration": 10,
    "start_time": "2024-11-05T21:53:43.262Z"
   },
   {
    "duration": 57,
    "start_time": "2024-11-05T21:53:43.274Z"
   },
   {
    "duration": 4,
    "start_time": "2024-11-05T21:53:43.334Z"
   },
   {
    "duration": 5,
    "start_time": "2024-11-05T21:53:43.340Z"
   },
   {
    "duration": 4,
    "start_time": "2024-11-05T21:53:43.346Z"
   },
   {
    "duration": 23,
    "start_time": "2024-11-05T21:53:43.354Z"
   },
   {
    "duration": 5,
    "start_time": "2024-11-05T21:53:43.379Z"
   },
   {
    "duration": 65,
    "start_time": "2024-11-05T21:53:43.386Z"
   },
   {
    "duration": 5,
    "start_time": "2024-11-05T21:53:43.453Z"
   },
   {
    "duration": 5,
    "start_time": "2024-11-05T21:53:43.460Z"
   },
   {
    "duration": 287,
    "start_time": "2024-11-05T21:53:43.466Z"
   },
   {
    "duration": 5,
    "start_time": "2024-11-05T21:53:43.756Z"
   },
   {
    "duration": 12,
    "start_time": "2024-11-05T21:53:43.762Z"
   },
   {
    "duration": 359,
    "start_time": "2024-11-05T21:53:43.776Z"
   },
   {
    "duration": 4,
    "start_time": "2024-11-05T21:53:44.137Z"
   },
   {
    "duration": 19,
    "start_time": "2024-11-05T21:53:44.143Z"
   },
   {
    "duration": 8,
    "start_time": "2024-11-05T21:53:44.164Z"
   },
   {
    "duration": 7,
    "start_time": "2024-11-05T21:53:44.173Z"
   },
   {
    "duration": 9,
    "start_time": "2024-11-05T21:53:44.182Z"
   },
   {
    "duration": 41,
    "start_time": "2024-11-05T21:53:44.193Z"
   },
   {
    "duration": 239,
    "start_time": "2024-11-05T21:53:44.236Z"
   },
   {
    "duration": 9,
    "start_time": "2024-11-05T21:53:44.477Z"
   },
   {
    "duration": 187,
    "start_time": "2024-11-05T21:53:44.487Z"
   },
   {
    "duration": 164,
    "start_time": "2024-11-05T21:53:44.676Z"
   },
   {
    "duration": 5,
    "start_time": "2024-11-05T21:53:44.842Z"
   },
   {
    "duration": 15,
    "start_time": "2024-11-05T21:53:44.848Z"
   },
   {
    "duration": 5,
    "start_time": "2024-11-05T21:53:44.865Z"
   },
   {
    "duration": 9,
    "start_time": "2024-11-05T21:53:44.874Z"
   },
   {
    "duration": 7,
    "start_time": "2024-11-05T21:53:44.884Z"
   },
   {
    "duration": 38,
    "start_time": "2024-11-05T21:53:44.893Z"
   },
   {
    "duration": 7,
    "start_time": "2024-11-05T21:53:44.933Z"
   },
   {
    "duration": 5,
    "start_time": "2024-11-05T21:53:44.941Z"
   },
   {
    "duration": 6,
    "start_time": "2024-11-05T21:53:44.948Z"
   },
   {
    "duration": 4,
    "start_time": "2024-11-05T21:53:44.955Z"
   },
   {
    "duration": 3,
    "start_time": "2024-11-05T21:58:02.307Z"
   },
   {
    "duration": 24,
    "start_time": "2024-11-05T21:58:02.320Z"
   },
   {
    "duration": 3,
    "start_time": "2024-11-05T21:58:02.346Z"
   },
   {
    "duration": 27,
    "start_time": "2024-11-05T21:58:02.351Z"
   },
   {
    "duration": 6,
    "start_time": "2024-11-05T21:58:02.381Z"
   },
   {
    "duration": 12,
    "start_time": "2024-11-05T21:58:02.388Z"
   },
   {
    "duration": 33,
    "start_time": "2024-11-05T21:58:02.401Z"
   },
   {
    "duration": 5,
    "start_time": "2024-11-05T21:58:02.436Z"
   },
   {
    "duration": 5,
    "start_time": "2024-11-05T21:58:02.443Z"
   },
   {
    "duration": 4,
    "start_time": "2024-11-05T21:58:02.450Z"
   },
   {
    "duration": 116,
    "start_time": "2024-11-05T21:58:02.458Z"
   },
   {
    "duration": 5,
    "start_time": "2024-11-05T21:58:02.577Z"
   },
   {
    "duration": 6,
    "start_time": "2024-11-05T21:58:02.584Z"
   },
   {
    "duration": 7,
    "start_time": "2024-11-05T21:58:02.591Z"
   },
   {
    "duration": 6,
    "start_time": "2024-11-05T21:58:02.600Z"
   },
   {
    "duration": 9,
    "start_time": "2024-11-05T21:58:02.632Z"
   },
   {
    "duration": 22,
    "start_time": "2024-11-05T21:58:02.643Z"
   },
   {
    "duration": 3,
    "start_time": "2024-11-05T21:58:02.667Z"
   },
   {
    "duration": 10,
    "start_time": "2024-11-05T21:58:02.672Z"
   },
   {
    "duration": 4,
    "start_time": "2024-11-05T21:58:02.684Z"
   },
   {
    "duration": 55,
    "start_time": "2024-11-05T21:58:02.689Z"
   },
   {
    "duration": 5,
    "start_time": "2024-11-05T21:58:02.746Z"
   },
   {
    "duration": 25,
    "start_time": "2024-11-05T21:58:02.755Z"
   },
   {
    "duration": 6,
    "start_time": "2024-11-05T21:58:02.782Z"
   },
   {
    "duration": 4,
    "start_time": "2024-11-05T21:58:02.790Z"
   },
   {
    "duration": 293,
    "start_time": "2024-11-05T21:58:02.796Z"
   },
   {
    "duration": 5,
    "start_time": "2024-11-05T21:58:03.091Z"
   },
   {
    "duration": 13,
    "start_time": "2024-11-05T21:58:03.098Z"
   },
   {
    "duration": 288,
    "start_time": "2024-11-05T21:58:03.113Z"
   },
   {
    "duration": 4,
    "start_time": "2024-11-05T21:58:03.403Z"
   },
   {
    "duration": 25,
    "start_time": "2024-11-05T21:58:03.409Z"
   },
   {
    "duration": 7,
    "start_time": "2024-11-05T21:58:03.437Z"
   },
   {
    "duration": 5,
    "start_time": "2024-11-05T21:58:03.445Z"
   },
   {
    "duration": 9,
    "start_time": "2024-11-05T21:58:03.451Z"
   },
   {
    "duration": 13,
    "start_time": "2024-11-05T21:58:03.461Z"
   },
   {
    "duration": 329,
    "start_time": "2024-11-05T21:58:03.475Z"
   },
   {
    "duration": 9,
    "start_time": "2024-11-05T21:58:03.805Z"
   },
   {
    "duration": 171,
    "start_time": "2024-11-05T21:58:03.815Z"
   },
   {
    "duration": 145,
    "start_time": "2024-11-05T21:58:03.988Z"
   },
   {
    "duration": 5,
    "start_time": "2024-11-05T21:58:04.135Z"
   },
   {
    "duration": 15,
    "start_time": "2024-11-05T21:58:04.142Z"
   },
   {
    "duration": 4,
    "start_time": "2024-11-05T21:58:04.159Z"
   },
   {
    "duration": 10,
    "start_time": "2024-11-05T21:58:04.166Z"
   },
   {
    "duration": 8,
    "start_time": "2024-11-05T21:58:04.178Z"
   },
   {
    "duration": 8,
    "start_time": "2024-11-05T21:58:04.188Z"
   },
   {
    "duration": 8,
    "start_time": "2024-11-05T21:58:04.232Z"
   },
   {
    "duration": 5,
    "start_time": "2024-11-05T21:58:04.241Z"
   },
   {
    "duration": 7,
    "start_time": "2024-11-05T21:58:04.247Z"
   },
   {
    "duration": 5,
    "start_time": "2024-11-05T21:58:04.256Z"
   }
  ],
  "kernelspec": {
   "display_name": "base",
   "language": "python",
   "name": "python3"
  },
  "language_info": {
   "codemirror_mode": {
    "name": "ipython",
    "version": 3
   },
   "file_extension": ".py",
   "mimetype": "text/x-python",
   "name": "python",
   "nbconvert_exporter": "python",
   "pygments_lexer": "ipython3",
   "version": "3.12.4"
  },
  "toc": {
   "base_numbering": 1,
   "nav_menu": {},
   "number_sections": true,
   "sideBar": true,
   "skip_h1_title": true,
   "title_cell": "Table of Contents",
   "title_sidebar": "Contents",
   "toc_cell": false,
   "toc_position": {
    "height": "calc(100% - 180px)",
    "left": "10px",
    "top": "150px",
    "width": "300.417px"
   },
   "toc_section_display": true,
   "toc_window_display": true
  }
 },
 "nbformat": 4,
 "nbformat_minor": 2
}
