{
 "cells": [
  {
   "cell_type": "markdown",
   "metadata": {},
   "source": [
    "# Descripcion del proyecto\n",
    "Los datos se almacenan en tres archivos:\n",
    "\n",
    "gold_recovery_train.csv — el dataset de entrenamiento descargado\n",
    "gold_recovery_test.csv —el dataset de prueba descargado\n",
    "gold_recovery_full.csv — el dataset fuente descargado\n",
    "Los datos se indexan con la fecha y la hora de adquisición (date). Los parámetros cercanos en el tiempo suelen ser similares.\n",
    "\n",
    "Algunos parámetros no están disponibles porque fueron medidos o calculados mucho más tarde. Por eso, algunas de las características que están presentes en el conjunto de entrenamiento pueden estar ausentes en el conjunto de prueba. El conjunto de prueba tampoco contiene objetivos.\n",
    "\n",
    "El dataset fuente contiene los conjuntos de entrenamiento y prueba con todas las características.\n",
    "\n",
    "Tienes a tu disposición los datos en bruto que solamente fueron descargados del almacén de datos. Antes de construir el modelo, comprueba que los datos sean correctos. Para ello, utiliza nuestras instrucciones.\n",
    "\n",
    "Instrucciones del proyecto"
   ]
  },
  {
   "cell_type": "markdown",
   "metadata": {},
   "source": [
    "# Tabla de contenido\n",
    "1. [Prepara los datos](#Prepara-los-datos)\n",
    "\n",
    "   1.1. [Abre los archivos y examina los datos](#Abre-los-datos-y-examina)\n",
    "   \n",
    "   1.2. [Calculo de recuperacion y EAM](#Calculo-de-recuperacion-y-EAM) \n",
    "   \n",
    "   1.3. [Analiza las características no disponibles en el conjunto de prueba](#Analiza-las-caracteristicas-no-disponibles-en-el-conjunto-prueba) \n",
    "\n",
    "   1.4. [Preprocesamiento de los datos](#Preprocesamiento-de-los-datos)\n",
    "   \n",
    "2.[Analiza los datos](#Analiza-los-datos)\n",
    "   \n",
    "   2.1.[Observa el cambio de concentracion de los metales](#Obser-el-cambio-de-concentracion-de-los-metales)\n",
    "   \n",
    "   2.2.[Compara las distribuciones del tamaño de las partículas de la alimentación en el conjunto de entrenamiento y en el conjunto de prueba](#Compara-las-distribuciones-de-tamaño-de-las-particulas-de-la-alimentacion-en-el-conjunto-de-entrenamiento-prueba)\n",
    "   \n",
    "   2.3.[Considera las concentraciones totales de todas las sustancias en las diferentes etapas](#Considera-las-concentraciones-totales-de-todas-las-sustancias-en-las-diferentes-etapas)\n",
    "   \n",
    "3.[Construye el modelo](#Contruye-el-modelo)\n",
    "\n",
    "   3.1.[Escribe una función para calcular el valor final de smape](#escribe-una-funcion-para-calcular-el-valor-final-de-smape)\n",
    "   \n",
    "   \n",
    "   3.2.[Entrena diferentes modelos. Evalúalos aplicando la validación cruzada. Elige el mejor modelo y pruébalo utilizando la muestra de prueba](#Entrena-diferentes-modelos-Evalúalos-aplicando-la-validación-cruzada-Elige-el-mejor-modelo-y-pruébalo-utilizando-la-muestra-de-prueba) \n",
    "   \n",
    "4. [Conclusión general](#Conclusión-general)"
   ]
  },
  {
   "cell_type": "markdown",
   "metadata": {},
   "source": [
    "## Prepara los datos"
   ]
  },
  {
   "cell_type": "markdown",
   "metadata": {},
   "source": [
    "### Abre los archivos y examina los datos."
   ]
  },
  {
   "cell_type": "code",
   "execution_count": 1,
   "metadata": {},
   "outputs": [],
   "source": [
    "# Cargar todas las librerías\n",
    "import pandas as pd \n",
    "import numpy as np\n",
    "from sklearn.model_selection import cross_val_score\n",
    "from sklearn.preprocessing import StandardScaler\n",
    "import seaborn as sns\n",
    "import matplotlib.pyplot as plt\n",
    "from sklearn.model_selection import train_test_split\n",
    "from sklearn.utils import shuffle\n",
    "from sklearn.metrics import f1_score, r2_score, mean_squared_error\n",
    "from sklearn.ensemble import RandomForestClassifier\n",
    "from sklearn.tree import DecisionTreeClassifier\n",
    "from sklearn.linear_model import LinearRegression\n",
    "from scipy.stats import levene, bartlett\n",
    "from sklearn.tree import DecisionTreeRegressor\n",
    "from sklearn.ensemble import RandomForestRegressor\n",
    "from scipy import stats\n",
    "from sklearn.metrics import mean_absolute_error"
   ]
  },
  {
   "cell_type": "code",
   "execution_count": 2,
   "metadata": {},
   "outputs": [],
   "source": [
    "# Ruta de acceso de los archivos\n",
    "gold_recovery_train = pd.read_csv('/datasets/gold_recovery_train.csv',sep=',', header=0)\n",
    "gold_recovery_test = pd.read_csv('/datasets/gold_recovery_test.csv',sep=',', header=0)\n",
    "gold_recovery_full = pd.read_csv('/datasets/gold_recovery_full.csv',sep=',', header=0)"
   ]
  },
  {
   "cell_type": "code",
   "execution_count": 3,
   "metadata": {},
   "outputs": [
    {
     "name": "stdout",
     "output_type": "stream",
     "text": [
      "Primera filas:\n",
      "                  date  final.output.concentrate_ag  \\\n",
      "0  2016-01-15 00:00:00                     6.055403   \n",
      "1  2016-01-15 01:00:00                     6.029369   \n",
      "2  2016-01-15 02:00:00                     6.055926   \n",
      "3  2016-01-15 03:00:00                     6.047977   \n",
      "4  2016-01-15 04:00:00                     6.148599   \n",
      "\n",
      "   final.output.concentrate_pb  final.output.concentrate_sol  \\\n",
      "0                     9.889648                      5.507324   \n",
      "1                     9.968944                      5.257781   \n",
      "2                    10.213995                      5.383759   \n",
      "3                     9.977019                      4.858634   \n",
      "4                    10.142511                      4.939416   \n",
      "\n",
      "   final.output.concentrate_au  final.output.recovery  final.output.tail_ag  \\\n",
      "0                    42.192020              70.541216             10.411962   \n",
      "1                    42.701629              69.266198             10.462676   \n",
      "2                    42.657501              68.116445             10.507046   \n",
      "3                    42.689819              68.347543             10.422762   \n",
      "4                    42.774141              66.927016             10.360302   \n",
      "\n",
      "   final.output.tail_pb  final.output.tail_sol  final.output.tail_au  ...  \\\n",
      "0              0.895447              16.904297              2.143149  ...   \n",
      "1              0.927452              16.634514              2.224930  ...   \n",
      "2              0.953716              16.208849              2.257889  ...   \n",
      "3              0.883763              16.532835              2.146849  ...   \n",
      "4              0.792826              16.525686              2.055292  ...   \n",
      "\n",
      "   secondary_cleaner.state.floatbank4_a_air  \\\n",
      "0                                 14.016835   \n",
      "1                                 13.992281   \n",
      "2                                 14.015015   \n",
      "3                                 14.036510   \n",
      "4                                 14.027298   \n",
      "\n",
      "   secondary_cleaner.state.floatbank4_a_level  \\\n",
      "0                                 -502.488007   \n",
      "1                                 -505.503262   \n",
      "2                                 -502.520901   \n",
      "3                                 -500.857308   \n",
      "4                                 -499.838632   \n",
      "\n",
      "   secondary_cleaner.state.floatbank4_b_air  \\\n",
      "0                                 12.099931   \n",
      "1                                 11.950531   \n",
      "2                                 11.912783   \n",
      "3                                 11.999550   \n",
      "4                                 11.953070   \n",
      "\n",
      "   secondary_cleaner.state.floatbank4_b_level  \\\n",
      "0                                 -504.715942   \n",
      "1                                 -501.331529   \n",
      "2                                 -501.133383   \n",
      "3                                 -501.193686   \n",
      "4                                 -501.053894   \n",
      "\n",
      "   secondary_cleaner.state.floatbank5_a_air  \\\n",
      "0                                  9.925633   \n",
      "1                                 10.039245   \n",
      "2                                 10.070913   \n",
      "3                                  9.970366   \n",
      "4                                  9.925709   \n",
      "\n",
      "   secondary_cleaner.state.floatbank5_a_level  \\\n",
      "0                                 -498.310211   \n",
      "1                                 -500.169983   \n",
      "2                                 -500.129135   \n",
      "3                                 -499.201640   \n",
      "4                                 -501.686727   \n",
      "\n",
      "   secondary_cleaner.state.floatbank5_b_air  \\\n",
      "0                                  8.079666   \n",
      "1                                  7.984757   \n",
      "2                                  8.013877   \n",
      "3                                  7.977324   \n",
      "4                                  7.894242   \n",
      "\n",
      "   secondary_cleaner.state.floatbank5_b_level  \\\n",
      "0                                 -500.470978   \n",
      "1                                 -500.582168   \n",
      "2                                 -500.517572   \n",
      "3                                 -500.255908   \n",
      "4                                 -500.356035   \n",
      "\n",
      "   secondary_cleaner.state.floatbank6_a_air  \\\n",
      "0                                 14.151341   \n",
      "1                                 13.998353   \n",
      "2                                 14.028663   \n",
      "3                                 14.005551   \n",
      "4                                 13.996647   \n",
      "\n",
      "   secondary_cleaner.state.floatbank6_a_level  \n",
      "0                                 -605.841980  \n",
      "1                                 -599.787184  \n",
      "2                                 -601.427363  \n",
      "3                                 -599.996129  \n",
      "4                                 -601.496691  \n",
      "\n",
      "[5 rows x 87 columns]\n",
      "\n",
      "Informacion:\n",
      "<class 'pandas.core.frame.DataFrame'>\n",
      "RangeIndex: 16860 entries, 0 to 16859\n",
      "Data columns (total 87 columns):\n",
      " #   Column                                              Non-Null Count  Dtype  \n",
      "---  ------                                              --------------  -----  \n",
      " 0   date                                                16860 non-null  object \n",
      " 1   final.output.concentrate_ag                         16788 non-null  float64\n",
      " 2   final.output.concentrate_pb                         16788 non-null  float64\n",
      " 3   final.output.concentrate_sol                        16490 non-null  float64\n",
      " 4   final.output.concentrate_au                         16789 non-null  float64\n",
      " 5   final.output.recovery                               15339 non-null  float64\n",
      " 6   final.output.tail_ag                                16794 non-null  float64\n",
      " 7   final.output.tail_pb                                16677 non-null  float64\n",
      " 8   final.output.tail_sol                               16715 non-null  float64\n",
      " 9   final.output.tail_au                                16794 non-null  float64\n",
      " 10  primary_cleaner.input.sulfate                       15553 non-null  float64\n",
      " 11  primary_cleaner.input.depressant                    15598 non-null  float64\n",
      " 12  primary_cleaner.input.feed_size                     16860 non-null  float64\n",
      " 13  primary_cleaner.input.xanthate                      15875 non-null  float64\n",
      " 14  primary_cleaner.output.concentrate_ag               16778 non-null  float64\n",
      " 15  primary_cleaner.output.concentrate_pb               16502 non-null  float64\n",
      " 16  primary_cleaner.output.concentrate_sol              16224 non-null  float64\n",
      " 17  primary_cleaner.output.concentrate_au               16778 non-null  float64\n",
      " 18  primary_cleaner.output.tail_ag                      16777 non-null  float64\n",
      " 19  primary_cleaner.output.tail_pb                      16761 non-null  float64\n",
      " 20  primary_cleaner.output.tail_sol                     16579 non-null  float64\n",
      " 21  primary_cleaner.output.tail_au                      16777 non-null  float64\n",
      " 22  primary_cleaner.state.floatbank8_a_air              16820 non-null  float64\n",
      " 23  primary_cleaner.state.floatbank8_a_level            16827 non-null  float64\n",
      " 24  primary_cleaner.state.floatbank8_b_air              16820 non-null  float64\n",
      " 25  primary_cleaner.state.floatbank8_b_level            16833 non-null  float64\n",
      " 26  primary_cleaner.state.floatbank8_c_air              16822 non-null  float64\n",
      " 27  primary_cleaner.state.floatbank8_c_level            16833 non-null  float64\n",
      " 28  primary_cleaner.state.floatbank8_d_air              16821 non-null  float64\n",
      " 29  primary_cleaner.state.floatbank8_d_level            16833 non-null  float64\n",
      " 30  rougher.calculation.sulfate_to_au_concentrate       16833 non-null  float64\n",
      " 31  rougher.calculation.floatbank10_sulfate_to_au_feed  16833 non-null  float64\n",
      " 32  rougher.calculation.floatbank11_sulfate_to_au_feed  16833 non-null  float64\n",
      " 33  rougher.calculation.au_pb_ratio                     15618 non-null  float64\n",
      " 34  rougher.input.feed_ag                               16778 non-null  float64\n",
      " 35  rougher.input.feed_pb                               16632 non-null  float64\n",
      " 36  rougher.input.feed_rate                             16347 non-null  float64\n",
      " 37  rougher.input.feed_size                             16443 non-null  float64\n",
      " 38  rougher.input.feed_sol                              16568 non-null  float64\n",
      " 39  rougher.input.feed_au                               16777 non-null  float64\n",
      " 40  rougher.input.floatbank10_sulfate                   15816 non-null  float64\n",
      " 41  rougher.input.floatbank10_xanthate                  16514 non-null  float64\n",
      " 42  rougher.input.floatbank11_sulfate                   16237 non-null  float64\n",
      " 43  rougher.input.floatbank11_xanthate                  14956 non-null  float64\n",
      " 44  rougher.output.concentrate_ag                       16778 non-null  float64\n",
      " 45  rougher.output.concentrate_pb                       16778 non-null  float64\n",
      " 46  rougher.output.concentrate_sol                      16698 non-null  float64\n",
      " 47  rougher.output.concentrate_au                       16778 non-null  float64\n",
      " 48  rougher.output.recovery                             14287 non-null  float64\n",
      " 49  rougher.output.tail_ag                              14610 non-null  float64\n",
      " 50  rougher.output.tail_pb                              16778 non-null  float64\n",
      " 51  rougher.output.tail_sol                             14611 non-null  float64\n",
      " 52  rougher.output.tail_au                              14611 non-null  float64\n",
      " 53  rougher.state.floatbank10_a_air                     16807 non-null  float64\n",
      " 54  rougher.state.floatbank10_a_level                   16807 non-null  float64\n",
      " 55  rougher.state.floatbank10_b_air                     16807 non-null  float64\n",
      " 56  rougher.state.floatbank10_b_level                   16807 non-null  float64\n",
      " 57  rougher.state.floatbank10_c_air                     16807 non-null  float64\n",
      " 58  rougher.state.floatbank10_c_level                   16814 non-null  float64\n",
      " 59  rougher.state.floatbank10_d_air                     16802 non-null  float64\n",
      " 60  rougher.state.floatbank10_d_level                   16809 non-null  float64\n",
      " 61  rougher.state.floatbank10_e_air                     16257 non-null  float64\n",
      " 62  rougher.state.floatbank10_e_level                   16809 non-null  float64\n",
      " 63  rougher.state.floatbank10_f_air                     16802 non-null  float64\n",
      " 64  rougher.state.floatbank10_f_level                   16802 non-null  float64\n",
      " 65  secondary_cleaner.output.tail_ag                    16776 non-null  float64\n",
      " 66  secondary_cleaner.output.tail_pb                    16764 non-null  float64\n",
      " 67  secondary_cleaner.output.tail_sol                   14874 non-null  float64\n",
      " 68  secondary_cleaner.output.tail_au                    16778 non-null  float64\n",
      " 69  secondary_cleaner.state.floatbank2_a_air            16497 non-null  float64\n",
      " 70  secondary_cleaner.state.floatbank2_a_level          16751 non-null  float64\n",
      " 71  secondary_cleaner.state.floatbank2_b_air            16705 non-null  float64\n",
      " 72  secondary_cleaner.state.floatbank2_b_level          16748 non-null  float64\n",
      " 73  secondary_cleaner.state.floatbank3_a_air            16763 non-null  float64\n",
      " 74  secondary_cleaner.state.floatbank3_a_level          16747 non-null  float64\n",
      " 75  secondary_cleaner.state.floatbank3_b_air            16752 non-null  float64\n",
      " 76  secondary_cleaner.state.floatbank3_b_level          16750 non-null  float64\n",
      " 77  secondary_cleaner.state.floatbank4_a_air            16731 non-null  float64\n",
      " 78  secondary_cleaner.state.floatbank4_a_level          16747 non-null  float64\n",
      " 79  secondary_cleaner.state.floatbank4_b_air            16768 non-null  float64\n",
      " 80  secondary_cleaner.state.floatbank4_b_level          16767 non-null  float64\n",
      " 81  secondary_cleaner.state.floatbank5_a_air            16775 non-null  float64\n",
      " 82  secondary_cleaner.state.floatbank5_a_level          16775 non-null  float64\n",
      " 83  secondary_cleaner.state.floatbank5_b_air            16775 non-null  float64\n",
      " 84  secondary_cleaner.state.floatbank5_b_level          16776 non-null  float64\n",
      " 85  secondary_cleaner.state.floatbank6_a_air            16757 non-null  float64\n",
      " 86  secondary_cleaner.state.floatbank6_a_level          16775 non-null  float64\n",
      "dtypes: float64(86), object(1)\n",
      "memory usage: 11.2+ MB\n",
      "None\n",
      "\n",
      "El total de valores ausentes es:\n",
      "date                                            0\n",
      "final.output.concentrate_ag                    72\n",
      "final.output.concentrate_pb                    72\n",
      "final.output.concentrate_sol                  370\n",
      "final.output.concentrate_au                    71\n",
      "                                             ... \n",
      "secondary_cleaner.state.floatbank5_a_level     85\n",
      "secondary_cleaner.state.floatbank5_b_air       85\n",
      "secondary_cleaner.state.floatbank5_b_level     84\n",
      "secondary_cleaner.state.floatbank6_a_air      103\n",
      "secondary_cleaner.state.floatbank6_a_level     85\n",
      "Length: 87, dtype: int64\n",
      "\n",
      "El total de valores duplicados es:\n",
      "0\n",
      "None\n"
     ]
    }
   ],
   "source": [
    "# Informacion general de los respectivos datasets\n",
    "def first_lookup(datos):\n",
    "    print('Primera filas:')\n",
    "    print(datos.head())\n",
    "    print()\n",
    "    print('Informacion:')\n",
    "    print(datos.info())\n",
    "    print()\n",
    "    print('El total de valores ausentes es:')\n",
    "    print(datos.isna().sum())\n",
    "    print()\n",
    "    print('El total de valores duplicados es:')\n",
    "    print(datos.duplicated().sum())\n",
    "print(first_lookup(gold_recovery_train))"
   ]
  },
  {
   "cell_type": "code",
   "execution_count": 4,
   "metadata": {},
   "outputs": [
    {
     "name": "stdout",
     "output_type": "stream",
     "text": [
      "Primera filas:\n",
      "                  date  primary_cleaner.input.sulfate  \\\n",
      "0  2016-09-01 00:59:59                     210.800909   \n",
      "1  2016-09-01 01:59:59                     215.392455   \n",
      "2  2016-09-01 02:59:59                     215.259946   \n",
      "3  2016-09-01 03:59:59                     215.336236   \n",
      "4  2016-09-01 04:59:59                     199.099327   \n",
      "\n",
      "   primary_cleaner.input.depressant  primary_cleaner.input.feed_size  \\\n",
      "0                         14.993118                         8.080000   \n",
      "1                         14.987471                         8.080000   \n",
      "2                         12.884934                         7.786667   \n",
      "3                         12.006805                         7.640000   \n",
      "4                         10.682530                         7.530000   \n",
      "\n",
      "   primary_cleaner.input.xanthate  primary_cleaner.state.floatbank8_a_air  \\\n",
      "0                        1.005021                             1398.981301   \n",
      "1                        0.990469                             1398.777912   \n",
      "2                        0.996043                             1398.493666   \n",
      "3                        0.863514                             1399.618111   \n",
      "4                        0.805575                             1401.268123   \n",
      "\n",
      "   primary_cleaner.state.floatbank8_a_level  \\\n",
      "0                               -500.225577   \n",
      "1                               -500.057435   \n",
      "2                               -500.868360   \n",
      "3                               -498.863574   \n",
      "4                               -500.808305   \n",
      "\n",
      "   primary_cleaner.state.floatbank8_b_air  \\\n",
      "0                             1399.144926   \n",
      "1                             1398.055362   \n",
      "2                             1398.860436   \n",
      "3                             1397.440120   \n",
      "4                             1398.128818   \n",
      "\n",
      "   primary_cleaner.state.floatbank8_b_level  \\\n",
      "0                               -499.919735   \n",
      "1                               -499.778182   \n",
      "2                               -499.764529   \n",
      "3                               -499.211024   \n",
      "4                               -499.504543   \n",
      "\n",
      "   primary_cleaner.state.floatbank8_c_air  ...  \\\n",
      "0                             1400.102998  ...   \n",
      "1                             1396.151033  ...   \n",
      "2                             1398.075709  ...   \n",
      "3                             1400.129303  ...   \n",
      "4                             1402.172226  ...   \n",
      "\n",
      "   secondary_cleaner.state.floatbank4_a_air  \\\n",
      "0                                 12.023554   \n",
      "1                                 12.058140   \n",
      "2                                 11.962366   \n",
      "3                                 12.033091   \n",
      "4                                 12.025367   \n",
      "\n",
      "   secondary_cleaner.state.floatbank4_a_level  \\\n",
      "0                                 -497.795834   \n",
      "1                                 -498.695773   \n",
      "2                                 -498.767484   \n",
      "3                                 -498.350935   \n",
      "4                                 -500.786497   \n",
      "\n",
      "   secondary_cleaner.state.floatbank4_b_air  \\\n",
      "0                                  8.016656   \n",
      "1                                  8.130979   \n",
      "2                                  8.096893   \n",
      "3                                  8.074946   \n",
      "4                                  8.054678   \n",
      "\n",
      "   secondary_cleaner.state.floatbank4_b_level  \\\n",
      "0                                 -501.289139   \n",
      "1                                 -499.634209   \n",
      "2                                 -500.827423   \n",
      "3                                 -499.474407   \n",
      "4                                 -500.397500   \n",
      "\n",
      "   secondary_cleaner.state.floatbank5_a_air  \\\n",
      "0                                  7.946562   \n",
      "1                                  7.958270   \n",
      "2                                  8.071056   \n",
      "3                                  7.897085   \n",
      "4                                  8.107890   \n",
      "\n",
      "   secondary_cleaner.state.floatbank5_a_level  \\\n",
      "0                                 -432.317850   \n",
      "1                                 -525.839648   \n",
      "2                                 -500.801673   \n",
      "3                                 -500.868509   \n",
      "4                                 -509.526725   \n",
      "\n",
      "   secondary_cleaner.state.floatbank5_b_air  \\\n",
      "0                                  4.872511   \n",
      "1                                  4.878850   \n",
      "2                                  4.905125   \n",
      "3                                  4.931400   \n",
      "4                                  4.957674   \n",
      "\n",
      "   secondary_cleaner.state.floatbank5_b_level  \\\n",
      "0                                 -500.037437   \n",
      "1                                 -500.162375   \n",
      "2                                 -499.828510   \n",
      "3                                 -499.963623   \n",
      "4                                 -500.360026   \n",
      "\n",
      "   secondary_cleaner.state.floatbank6_a_air  \\\n",
      "0                                 26.705889   \n",
      "1                                 25.019940   \n",
      "2                                 24.994862   \n",
      "3                                 24.948919   \n",
      "4                                 25.003331   \n",
      "\n",
      "   secondary_cleaner.state.floatbank6_a_level  \n",
      "0                                 -499.709414  \n",
      "1                                 -499.819438  \n",
      "2                                 -500.622559  \n",
      "3                                 -498.709987  \n",
      "4                                 -500.856333  \n",
      "\n",
      "[5 rows x 53 columns]\n",
      "\n",
      "Informacion:\n",
      "<class 'pandas.core.frame.DataFrame'>\n",
      "RangeIndex: 5856 entries, 0 to 5855\n",
      "Data columns (total 53 columns):\n",
      " #   Column                                      Non-Null Count  Dtype  \n",
      "---  ------                                      --------------  -----  \n",
      " 0   date                                        5856 non-null   object \n",
      " 1   primary_cleaner.input.sulfate               5554 non-null   float64\n",
      " 2   primary_cleaner.input.depressant            5572 non-null   float64\n",
      " 3   primary_cleaner.input.feed_size             5856 non-null   float64\n",
      " 4   primary_cleaner.input.xanthate              5690 non-null   float64\n",
      " 5   primary_cleaner.state.floatbank8_a_air      5840 non-null   float64\n",
      " 6   primary_cleaner.state.floatbank8_a_level    5840 non-null   float64\n",
      " 7   primary_cleaner.state.floatbank8_b_air      5840 non-null   float64\n",
      " 8   primary_cleaner.state.floatbank8_b_level    5840 non-null   float64\n",
      " 9   primary_cleaner.state.floatbank8_c_air      5840 non-null   float64\n",
      " 10  primary_cleaner.state.floatbank8_c_level    5840 non-null   float64\n",
      " 11  primary_cleaner.state.floatbank8_d_air      5840 non-null   float64\n",
      " 12  primary_cleaner.state.floatbank8_d_level    5840 non-null   float64\n",
      " 13  rougher.input.feed_ag                       5840 non-null   float64\n",
      " 14  rougher.input.feed_pb                       5840 non-null   float64\n",
      " 15  rougher.input.feed_rate                     5816 non-null   float64\n",
      " 16  rougher.input.feed_size                     5834 non-null   float64\n",
      " 17  rougher.input.feed_sol                      5789 non-null   float64\n",
      " 18  rougher.input.feed_au                       5840 non-null   float64\n",
      " 19  rougher.input.floatbank10_sulfate           5599 non-null   float64\n",
      " 20  rougher.input.floatbank10_xanthate          5733 non-null   float64\n",
      " 21  rougher.input.floatbank11_sulfate           5801 non-null   float64\n",
      " 22  rougher.input.floatbank11_xanthate          5503 non-null   float64\n",
      " 23  rougher.state.floatbank10_a_air             5839 non-null   float64\n",
      " 24  rougher.state.floatbank10_a_level           5840 non-null   float64\n",
      " 25  rougher.state.floatbank10_b_air             5839 non-null   float64\n",
      " 26  rougher.state.floatbank10_b_level           5840 non-null   float64\n",
      " 27  rougher.state.floatbank10_c_air             5839 non-null   float64\n",
      " 28  rougher.state.floatbank10_c_level           5840 non-null   float64\n",
      " 29  rougher.state.floatbank10_d_air             5839 non-null   float64\n",
      " 30  rougher.state.floatbank10_d_level           5840 non-null   float64\n",
      " 31  rougher.state.floatbank10_e_air             5839 non-null   float64\n",
      " 32  rougher.state.floatbank10_e_level           5840 non-null   float64\n",
      " 33  rougher.state.floatbank10_f_air             5839 non-null   float64\n",
      " 34  rougher.state.floatbank10_f_level           5840 non-null   float64\n",
      " 35  secondary_cleaner.state.floatbank2_a_air    5836 non-null   float64\n",
      " 36  secondary_cleaner.state.floatbank2_a_level  5840 non-null   float64\n",
      " 37  secondary_cleaner.state.floatbank2_b_air    5833 non-null   float64\n",
      " 38  secondary_cleaner.state.floatbank2_b_level  5840 non-null   float64\n",
      " 39  secondary_cleaner.state.floatbank3_a_air    5822 non-null   float64\n",
      " 40  secondary_cleaner.state.floatbank3_a_level  5840 non-null   float64\n",
      " 41  secondary_cleaner.state.floatbank3_b_air    5840 non-null   float64\n",
      " 42  secondary_cleaner.state.floatbank3_b_level  5840 non-null   float64\n",
      " 43  secondary_cleaner.state.floatbank4_a_air    5840 non-null   float64\n",
      " 44  secondary_cleaner.state.floatbank4_a_level  5840 non-null   float64\n",
      " 45  secondary_cleaner.state.floatbank4_b_air    5840 non-null   float64\n",
      " 46  secondary_cleaner.state.floatbank4_b_level  5840 non-null   float64\n",
      " 47  secondary_cleaner.state.floatbank5_a_air    5840 non-null   float64\n",
      " 48  secondary_cleaner.state.floatbank5_a_level  5840 non-null   float64\n",
      " 49  secondary_cleaner.state.floatbank5_b_air    5840 non-null   float64\n",
      " 50  secondary_cleaner.state.floatbank5_b_level  5840 non-null   float64\n",
      " 51  secondary_cleaner.state.floatbank6_a_air    5840 non-null   float64\n",
      " 52  secondary_cleaner.state.floatbank6_a_level  5840 non-null   float64\n",
      "dtypes: float64(52), object(1)\n",
      "memory usage: 2.4+ MB\n",
      "None\n",
      "\n",
      "El total de valores ausentes es:\n",
      "date                                            0\n",
      "primary_cleaner.input.sulfate                 302\n",
      "primary_cleaner.input.depressant              284\n",
      "primary_cleaner.input.feed_size                 0\n",
      "primary_cleaner.input.xanthate                166\n",
      "primary_cleaner.state.floatbank8_a_air         16\n",
      "primary_cleaner.state.floatbank8_a_level       16\n",
      "primary_cleaner.state.floatbank8_b_air         16\n",
      "primary_cleaner.state.floatbank8_b_level       16\n",
      "primary_cleaner.state.floatbank8_c_air         16\n",
      "primary_cleaner.state.floatbank8_c_level       16\n",
      "primary_cleaner.state.floatbank8_d_air         16\n",
      "primary_cleaner.state.floatbank8_d_level       16\n",
      "rougher.input.feed_ag                          16\n",
      "rougher.input.feed_pb                          16\n",
      "rougher.input.feed_rate                        40\n",
      "rougher.input.feed_size                        22\n",
      "rougher.input.feed_sol                         67\n",
      "rougher.input.feed_au                          16\n",
      "rougher.input.floatbank10_sulfate             257\n",
      "rougher.input.floatbank10_xanthate            123\n",
      "rougher.input.floatbank11_sulfate              55\n",
      "rougher.input.floatbank11_xanthate            353\n",
      "rougher.state.floatbank10_a_air                17\n",
      "rougher.state.floatbank10_a_level              16\n",
      "rougher.state.floatbank10_b_air                17\n",
      "rougher.state.floatbank10_b_level              16\n",
      "rougher.state.floatbank10_c_air                17\n",
      "rougher.state.floatbank10_c_level              16\n",
      "rougher.state.floatbank10_d_air                17\n",
      "rougher.state.floatbank10_d_level              16\n",
      "rougher.state.floatbank10_e_air                17\n",
      "rougher.state.floatbank10_e_level              16\n",
      "rougher.state.floatbank10_f_air                17\n",
      "rougher.state.floatbank10_f_level              16\n",
      "secondary_cleaner.state.floatbank2_a_air       20\n",
      "secondary_cleaner.state.floatbank2_a_level     16\n",
      "secondary_cleaner.state.floatbank2_b_air       23\n",
      "secondary_cleaner.state.floatbank2_b_level     16\n",
      "secondary_cleaner.state.floatbank3_a_air       34\n",
      "secondary_cleaner.state.floatbank3_a_level     16\n",
      "secondary_cleaner.state.floatbank3_b_air       16\n",
      "secondary_cleaner.state.floatbank3_b_level     16\n",
      "secondary_cleaner.state.floatbank4_a_air       16\n",
      "secondary_cleaner.state.floatbank4_a_level     16\n",
      "secondary_cleaner.state.floatbank4_b_air       16\n",
      "secondary_cleaner.state.floatbank4_b_level     16\n",
      "secondary_cleaner.state.floatbank5_a_air       16\n",
      "secondary_cleaner.state.floatbank5_a_level     16\n",
      "secondary_cleaner.state.floatbank5_b_air       16\n",
      "secondary_cleaner.state.floatbank5_b_level     16\n",
      "secondary_cleaner.state.floatbank6_a_air       16\n",
      "secondary_cleaner.state.floatbank6_a_level     16\n",
      "dtype: int64\n",
      "\n",
      "El total de valores duplicados es:\n",
      "0\n",
      "None\n"
     ]
    }
   ],
   "source": [
    "# Informacion general de los respectivos datasets\n",
    "def first_lookup(datos):\n",
    "    print('Primera filas:')\n",
    "    print(datos.head())\n",
    "    print()\n",
    "    print('Informacion:')\n",
    "    print(datos.info())\n",
    "    print()\n",
    "    print('El total de valores ausentes es:')\n",
    "    print(datos.isna().sum())\n",
    "    print()\n",
    "    print('El total de valores duplicados es:')\n",
    "    print(datos.duplicated().sum())\n",
    "print(first_lookup(gold_recovery_test))"
   ]
  },
  {
   "cell_type": "code",
   "execution_count": 5,
   "metadata": {},
   "outputs": [
    {
     "name": "stdout",
     "output_type": "stream",
     "text": [
      "Primera filas:\n",
      "                  date  final.output.concentrate_ag  \\\n",
      "0  2016-01-15 00:00:00                     6.055403   \n",
      "1  2016-01-15 01:00:00                     6.029369   \n",
      "2  2016-01-15 02:00:00                     6.055926   \n",
      "3  2016-01-15 03:00:00                     6.047977   \n",
      "4  2016-01-15 04:00:00                     6.148599   \n",
      "\n",
      "   final.output.concentrate_pb  final.output.concentrate_sol  \\\n",
      "0                     9.889648                      5.507324   \n",
      "1                     9.968944                      5.257781   \n",
      "2                    10.213995                      5.383759   \n",
      "3                     9.977019                      4.858634   \n",
      "4                    10.142511                      4.939416   \n",
      "\n",
      "   final.output.concentrate_au  final.output.recovery  final.output.tail_ag  \\\n",
      "0                    42.192020              70.541216             10.411962   \n",
      "1                    42.701629              69.266198             10.462676   \n",
      "2                    42.657501              68.116445             10.507046   \n",
      "3                    42.689819              68.347543             10.422762   \n",
      "4                    42.774141              66.927016             10.360302   \n",
      "\n",
      "   final.output.tail_pb  final.output.tail_sol  final.output.tail_au  ...  \\\n",
      "0              0.895447              16.904297              2.143149  ...   \n",
      "1              0.927452              16.634514              2.224930  ...   \n",
      "2              0.953716              16.208849              2.257889  ...   \n",
      "3              0.883763              16.532835              2.146849  ...   \n",
      "4              0.792826              16.525686              2.055292  ...   \n",
      "\n",
      "   secondary_cleaner.state.floatbank4_a_air  \\\n",
      "0                                 14.016835   \n",
      "1                                 13.992281   \n",
      "2                                 14.015015   \n",
      "3                                 14.036510   \n",
      "4                                 14.027298   \n",
      "\n",
      "   secondary_cleaner.state.floatbank4_a_level  \\\n",
      "0                                 -502.488007   \n",
      "1                                 -505.503262   \n",
      "2                                 -502.520901   \n",
      "3                                 -500.857308   \n",
      "4                                 -499.838632   \n",
      "\n",
      "   secondary_cleaner.state.floatbank4_b_air  \\\n",
      "0                                 12.099931   \n",
      "1                                 11.950531   \n",
      "2                                 11.912783   \n",
      "3                                 11.999550   \n",
      "4                                 11.953070   \n",
      "\n",
      "   secondary_cleaner.state.floatbank4_b_level  \\\n",
      "0                                 -504.715942   \n",
      "1                                 -501.331529   \n",
      "2                                 -501.133383   \n",
      "3                                 -501.193686   \n",
      "4                                 -501.053894   \n",
      "\n",
      "   secondary_cleaner.state.floatbank5_a_air  \\\n",
      "0                                  9.925633   \n",
      "1                                 10.039245   \n",
      "2                                 10.070913   \n",
      "3                                  9.970366   \n",
      "4                                  9.925709   \n",
      "\n",
      "   secondary_cleaner.state.floatbank5_a_level  \\\n",
      "0                                 -498.310211   \n",
      "1                                 -500.169983   \n",
      "2                                 -500.129135   \n",
      "3                                 -499.201640   \n",
      "4                                 -501.686727   \n",
      "\n",
      "   secondary_cleaner.state.floatbank5_b_air  \\\n",
      "0                                  8.079666   \n",
      "1                                  7.984757   \n",
      "2                                  8.013877   \n",
      "3                                  7.977324   \n",
      "4                                  7.894242   \n",
      "\n",
      "   secondary_cleaner.state.floatbank5_b_level  \\\n",
      "0                                 -500.470978   \n",
      "1                                 -500.582168   \n",
      "2                                 -500.517572   \n",
      "3                                 -500.255908   \n",
      "4                                 -500.356035   \n",
      "\n",
      "   secondary_cleaner.state.floatbank6_a_air  \\\n",
      "0                                 14.151341   \n",
      "1                                 13.998353   \n",
      "2                                 14.028663   \n",
      "3                                 14.005551   \n",
      "4                                 13.996647   \n",
      "\n",
      "   secondary_cleaner.state.floatbank6_a_level  \n",
      "0                                 -605.841980  \n",
      "1                                 -599.787184  \n",
      "2                                 -601.427363  \n",
      "3                                 -599.996129  \n",
      "4                                 -601.496691  \n",
      "\n",
      "[5 rows x 87 columns]\n",
      "\n",
      "Informacion:\n",
      "<class 'pandas.core.frame.DataFrame'>\n",
      "RangeIndex: 22716 entries, 0 to 22715\n",
      "Data columns (total 87 columns):\n",
      " #   Column                                              Non-Null Count  Dtype  \n",
      "---  ------                                              --------------  -----  \n",
      " 0   date                                                22716 non-null  object \n",
      " 1   final.output.concentrate_ag                         22627 non-null  float64\n",
      " 2   final.output.concentrate_pb                         22629 non-null  float64\n",
      " 3   final.output.concentrate_sol                        22331 non-null  float64\n",
      " 4   final.output.concentrate_au                         22630 non-null  float64\n",
      " 5   final.output.recovery                               20753 non-null  float64\n",
      " 6   final.output.tail_ag                                22633 non-null  float64\n",
      " 7   final.output.tail_pb                                22516 non-null  float64\n",
      " 8   final.output.tail_sol                               22445 non-null  float64\n",
      " 9   final.output.tail_au                                22635 non-null  float64\n",
      " 10  primary_cleaner.input.sulfate                       21107 non-null  float64\n",
      " 11  primary_cleaner.input.depressant                    21170 non-null  float64\n",
      " 12  primary_cleaner.input.feed_size                     22716 non-null  float64\n",
      " 13  primary_cleaner.input.xanthate                      21565 non-null  float64\n",
      " 14  primary_cleaner.output.concentrate_ag               22618 non-null  float64\n",
      " 15  primary_cleaner.output.concentrate_pb               22268 non-null  float64\n",
      " 16  primary_cleaner.output.concentrate_sol              21918 non-null  float64\n",
      " 17  primary_cleaner.output.concentrate_au               22618 non-null  float64\n",
      " 18  primary_cleaner.output.tail_ag                      22614 non-null  float64\n",
      " 19  primary_cleaner.output.tail_pb                      22594 non-null  float64\n",
      " 20  primary_cleaner.output.tail_sol                     22365 non-null  float64\n",
      " 21  primary_cleaner.output.tail_au                      22617 non-null  float64\n",
      " 22  primary_cleaner.state.floatbank8_a_air              22660 non-null  float64\n",
      " 23  primary_cleaner.state.floatbank8_a_level            22667 non-null  float64\n",
      " 24  primary_cleaner.state.floatbank8_b_air              22660 non-null  float64\n",
      " 25  primary_cleaner.state.floatbank8_b_level            22673 non-null  float64\n",
      " 26  primary_cleaner.state.floatbank8_c_air              22662 non-null  float64\n",
      " 27  primary_cleaner.state.floatbank8_c_level            22673 non-null  float64\n",
      " 28  primary_cleaner.state.floatbank8_d_air              22661 non-null  float64\n",
      " 29  primary_cleaner.state.floatbank8_d_level            22673 non-null  float64\n",
      " 30  rougher.calculation.sulfate_to_au_concentrate       22672 non-null  float64\n",
      " 31  rougher.calculation.floatbank10_sulfate_to_au_feed  22672 non-null  float64\n",
      " 32  rougher.calculation.floatbank11_sulfate_to_au_feed  22672 non-null  float64\n",
      " 33  rougher.calculation.au_pb_ratio                     21089 non-null  float64\n",
      " 34  rougher.input.feed_ag                               22618 non-null  float64\n",
      " 35  rougher.input.feed_pb                               22472 non-null  float64\n",
      " 36  rougher.input.feed_rate                             22163 non-null  float64\n",
      " 37  rougher.input.feed_size                             22277 non-null  float64\n",
      " 38  rougher.input.feed_sol                              22357 non-null  float64\n",
      " 39  rougher.input.feed_au                               22617 non-null  float64\n",
      " 40  rougher.input.floatbank10_sulfate                   21415 non-null  float64\n",
      " 41  rougher.input.floatbank10_xanthate                  22247 non-null  float64\n",
      " 42  rougher.input.floatbank11_sulfate                   22038 non-null  float64\n",
      " 43  rougher.input.floatbank11_xanthate                  20459 non-null  float64\n",
      " 44  rougher.output.concentrate_ag                       22618 non-null  float64\n",
      " 45  rougher.output.concentrate_pb                       22618 non-null  float64\n",
      " 46  rougher.output.concentrate_sol                      22526 non-null  float64\n",
      " 47  rougher.output.concentrate_au                       22618 non-null  float64\n",
      " 48  rougher.output.recovery                             19597 non-null  float64\n",
      " 49  rougher.output.tail_ag                              19979 non-null  float64\n",
      " 50  rougher.output.tail_pb                              22618 non-null  float64\n",
      " 51  rougher.output.tail_sol                             19980 non-null  float64\n",
      " 52  rougher.output.tail_au                              19980 non-null  float64\n",
      " 53  rougher.state.floatbank10_a_air                     22646 non-null  float64\n",
      " 54  rougher.state.floatbank10_a_level                   22647 non-null  float64\n",
      " 55  rougher.state.floatbank10_b_air                     22646 non-null  float64\n",
      " 56  rougher.state.floatbank10_b_level                   22647 non-null  float64\n",
      " 57  rougher.state.floatbank10_c_air                     22646 non-null  float64\n",
      " 58  rougher.state.floatbank10_c_level                   22654 non-null  float64\n",
      " 59  rougher.state.floatbank10_d_air                     22641 non-null  float64\n",
      " 60  rougher.state.floatbank10_d_level                   22649 non-null  float64\n",
      " 61  rougher.state.floatbank10_e_air                     22096 non-null  float64\n",
      " 62  rougher.state.floatbank10_e_level                   22649 non-null  float64\n",
      " 63  rougher.state.floatbank10_f_air                     22641 non-null  float64\n",
      " 64  rougher.state.floatbank10_f_level                   22642 non-null  float64\n",
      " 65  secondary_cleaner.output.tail_ag                    22616 non-null  float64\n",
      " 66  secondary_cleaner.output.tail_pb                    22600 non-null  float64\n",
      " 67  secondary_cleaner.output.tail_sol                   20501 non-null  float64\n",
      " 68  secondary_cleaner.output.tail_au                    22618 non-null  float64\n",
      " 69  secondary_cleaner.state.floatbank2_a_air            22333 non-null  float64\n",
      " 70  secondary_cleaner.state.floatbank2_a_level          22591 non-null  float64\n",
      " 71  secondary_cleaner.state.floatbank2_b_air            22538 non-null  float64\n",
      " 72  secondary_cleaner.state.floatbank2_b_level          22588 non-null  float64\n",
      " 73  secondary_cleaner.state.floatbank3_a_air            22585 non-null  float64\n",
      " 74  secondary_cleaner.state.floatbank3_a_level          22587 non-null  float64\n",
      " 75  secondary_cleaner.state.floatbank3_b_air            22592 non-null  float64\n",
      " 76  secondary_cleaner.state.floatbank3_b_level          22590 non-null  float64\n",
      " 77  secondary_cleaner.state.floatbank4_a_air            22571 non-null  float64\n",
      " 78  secondary_cleaner.state.floatbank4_a_level          22587 non-null  float64\n",
      " 79  secondary_cleaner.state.floatbank4_b_air            22608 non-null  float64\n",
      " 80  secondary_cleaner.state.floatbank4_b_level          22607 non-null  float64\n",
      " 81  secondary_cleaner.state.floatbank5_a_air            22615 non-null  float64\n",
      " 82  secondary_cleaner.state.floatbank5_a_level          22615 non-null  float64\n",
      " 83  secondary_cleaner.state.floatbank5_b_air            22615 non-null  float64\n",
      " 84  secondary_cleaner.state.floatbank5_b_level          22616 non-null  float64\n",
      " 85  secondary_cleaner.state.floatbank6_a_air            22597 non-null  float64\n",
      " 86  secondary_cleaner.state.floatbank6_a_level          22615 non-null  float64\n",
      "dtypes: float64(86), object(1)\n",
      "memory usage: 15.1+ MB\n",
      "None\n",
      "\n",
      "El total de valores ausentes es:\n",
      "date                                            0\n",
      "final.output.concentrate_ag                    89\n",
      "final.output.concentrate_pb                    87\n",
      "final.output.concentrate_sol                  385\n",
      "final.output.concentrate_au                    86\n",
      "                                             ... \n",
      "secondary_cleaner.state.floatbank5_a_level    101\n",
      "secondary_cleaner.state.floatbank5_b_air      101\n",
      "secondary_cleaner.state.floatbank5_b_level    100\n",
      "secondary_cleaner.state.floatbank6_a_air      119\n",
      "secondary_cleaner.state.floatbank6_a_level    101\n",
      "Length: 87, dtype: int64\n",
      "\n",
      "El total de valores duplicados es:\n"
     ]
    },
    {
     "name": "stdout",
     "output_type": "stream",
     "text": [
      "0\n",
      "None\n"
     ]
    }
   ],
   "source": [
    "# Informacion general de los respectivos datasets\n",
    "def first_lookup(datos):\n",
    "    print('Primera filas:')\n",
    "    print(datos.head())\n",
    "    print()\n",
    "    print('Informacion:')\n",
    "    print(datos.info())\n",
    "    print()\n",
    "    print('El total de valores ausentes es:')\n",
    "    print(datos.isna().sum())\n",
    "    print()\n",
    "    print('El total de valores duplicados es:')\n",
    "    print(datos.duplicated().sum())\n",
    "print(first_lookup(gold_recovery_full))"
   ]
  },
  {
   "cell_type": "markdown",
   "metadata": {},
   "source": [
    "### Comprueba que el cálculo de la recuperación sea correcto. Calcula la recuperación de la característica rougher.output.recovery mediante el conjunto de entrenamiento. Encuentra el EAM entre tus cálculos y los valores de la característica. Facilita los resultados."
   ]
  },
  {
   "cell_type": "code",
   "execution_count": 6,
   "metadata": {},
   "outputs": [],
   "source": [
    "gold_recovery_train.dropna(inplace=True)\n",
    "gold_recovery_test.dropna(inplace=True)\n",
    "gold_recovery_full.dropna(inplace=True)"
   ]
  },
  {
   "cell_type": "code",
   "execution_count": 7,
   "metadata": {},
   "outputs": [
    {
     "name": "stdout",
     "output_type": "stream",
     "text": [
      "Valores ausentes en gold_recovery_train despues de la eliminacion:\n",
      "date                                          0\n",
      "final.output.concentrate_ag                   0\n",
      "final.output.concentrate_pb                   0\n",
      "final.output.concentrate_sol                  0\n",
      "final.output.concentrate_au                   0\n",
      "                                             ..\n",
      "secondary_cleaner.state.floatbank5_a_level    0\n",
      "secondary_cleaner.state.floatbank5_b_air      0\n",
      "secondary_cleaner.state.floatbank5_b_level    0\n",
      "secondary_cleaner.state.floatbank6_a_air      0\n",
      "secondary_cleaner.state.floatbank6_a_level    0\n",
      "Length: 87, dtype: int64\n",
      "Valores ausentes en gold_recovery_test despues de la eliminacion:\n",
      "date                                          0\n",
      "primary_cleaner.input.sulfate                 0\n",
      "primary_cleaner.input.depressant              0\n",
      "primary_cleaner.input.feed_size               0\n",
      "primary_cleaner.input.xanthate                0\n",
      "primary_cleaner.state.floatbank8_a_air        0\n",
      "primary_cleaner.state.floatbank8_a_level      0\n",
      "primary_cleaner.state.floatbank8_b_air        0\n",
      "primary_cleaner.state.floatbank8_b_level      0\n",
      "primary_cleaner.state.floatbank8_c_air        0\n",
      "primary_cleaner.state.floatbank8_c_level      0\n",
      "primary_cleaner.state.floatbank8_d_air        0\n",
      "primary_cleaner.state.floatbank8_d_level      0\n",
      "rougher.input.feed_ag                         0\n",
      "rougher.input.feed_pb                         0\n",
      "rougher.input.feed_rate                       0\n",
      "rougher.input.feed_size                       0\n",
      "rougher.input.feed_sol                        0\n",
      "rougher.input.feed_au                         0\n",
      "rougher.input.floatbank10_sulfate             0\n",
      "rougher.input.floatbank10_xanthate            0\n",
      "rougher.input.floatbank11_sulfate             0\n",
      "rougher.input.floatbank11_xanthate            0\n",
      "rougher.state.floatbank10_a_air               0\n",
      "rougher.state.floatbank10_a_level             0\n",
      "rougher.state.floatbank10_b_air               0\n",
      "rougher.state.floatbank10_b_level             0\n",
      "rougher.state.floatbank10_c_air               0\n",
      "rougher.state.floatbank10_c_level             0\n",
      "rougher.state.floatbank10_d_air               0\n",
      "rougher.state.floatbank10_d_level             0\n",
      "rougher.state.floatbank10_e_air               0\n",
      "rougher.state.floatbank10_e_level             0\n",
      "rougher.state.floatbank10_f_air               0\n",
      "rougher.state.floatbank10_f_level             0\n",
      "secondary_cleaner.state.floatbank2_a_air      0\n",
      "secondary_cleaner.state.floatbank2_a_level    0\n",
      "secondary_cleaner.state.floatbank2_b_air      0\n",
      "secondary_cleaner.state.floatbank2_b_level    0\n",
      "secondary_cleaner.state.floatbank3_a_air      0\n",
      "secondary_cleaner.state.floatbank3_a_level    0\n",
      "secondary_cleaner.state.floatbank3_b_air      0\n",
      "secondary_cleaner.state.floatbank3_b_level    0\n",
      "secondary_cleaner.state.floatbank4_a_air      0\n",
      "secondary_cleaner.state.floatbank4_a_level    0\n",
      "secondary_cleaner.state.floatbank4_b_air      0\n",
      "secondary_cleaner.state.floatbank4_b_level    0\n",
      "secondary_cleaner.state.floatbank5_a_air      0\n",
      "secondary_cleaner.state.floatbank5_a_level    0\n",
      "secondary_cleaner.state.floatbank5_b_air      0\n",
      "secondary_cleaner.state.floatbank5_b_level    0\n",
      "secondary_cleaner.state.floatbank6_a_air      0\n",
      "secondary_cleaner.state.floatbank6_a_level    0\n",
      "dtype: int64\n",
      "Valores ausentes en gold_recovery_full despues de la eliminacion:\n",
      "date                                          0\n",
      "final.output.concentrate_ag                   0\n",
      "final.output.concentrate_pb                   0\n",
      "final.output.concentrate_sol                  0\n",
      "final.output.concentrate_au                   0\n",
      "                                             ..\n",
      "secondary_cleaner.state.floatbank5_a_level    0\n",
      "secondary_cleaner.state.floatbank5_b_air      0\n",
      "secondary_cleaner.state.floatbank5_b_level    0\n",
      "secondary_cleaner.state.floatbank6_a_air      0\n",
      "secondary_cleaner.state.floatbank6_a_level    0\n",
      "Length: 87, dtype: int64\n"
     ]
    }
   ],
   "source": [
    "#Verificar que no existan valores ausentes despues de la eliminacion\n",
    "print('Valores ausentes en gold_recovery_train despues de la eliminacion:')\n",
    "print(gold_recovery_train.isna().sum())\n",
    "print('Valores ausentes en gold_recovery_test despues de la eliminacion:')\n",
    "print(gold_recovery_test.isna().sum())\n",
    "print('Valores ausentes en gold_recovery_full despues de la eliminacion:')\n",
    "print(gold_recovery_full.isna().sum())"
   ]
  },
  {
   "cell_type": "code",
   "execution_count": 8,
   "metadata": {},
   "outputs": [
    {
     "name": "stdout",
     "output_type": "stream",
     "text": [
      "<class 'pandas.core.frame.DataFrame'>\n",
      "Int64Index: 11017 entries, 0 to 16859\n",
      "Data columns (total 87 columns):\n",
      " #   Column                                              Non-Null Count  Dtype  \n",
      "---  ------                                              --------------  -----  \n",
      " 0   date                                                11017 non-null  object \n",
      " 1   final.output.concentrate_ag                         11017 non-null  float64\n",
      " 2   final.output.concentrate_pb                         11017 non-null  float64\n",
      " 3   final.output.concentrate_sol                        11017 non-null  float64\n",
      " 4   final.output.concentrate_au                         11017 non-null  float64\n",
      " 5   final.output.recovery                               11017 non-null  float64\n",
      " 6   final.output.tail_ag                                11017 non-null  float64\n",
      " 7   final.output.tail_pb                                11017 non-null  float64\n",
      " 8   final.output.tail_sol                               11017 non-null  float64\n",
      " 9   final.output.tail_au                                11017 non-null  float64\n",
      " 10  primary_cleaner.input.sulfate                       11017 non-null  float64\n",
      " 11  primary_cleaner.input.depressant                    11017 non-null  float64\n",
      " 12  primary_cleaner.input.feed_size                     11017 non-null  float64\n",
      " 13  primary_cleaner.input.xanthate                      11017 non-null  float64\n",
      " 14  primary_cleaner.output.concentrate_ag               11017 non-null  float64\n",
      " 15  primary_cleaner.output.concentrate_pb               11017 non-null  float64\n",
      " 16  primary_cleaner.output.concentrate_sol              11017 non-null  float64\n",
      " 17  primary_cleaner.output.concentrate_au               11017 non-null  float64\n",
      " 18  primary_cleaner.output.tail_ag                      11017 non-null  float64\n",
      " 19  primary_cleaner.output.tail_pb                      11017 non-null  float64\n",
      " 20  primary_cleaner.output.tail_sol                     11017 non-null  float64\n",
      " 21  primary_cleaner.output.tail_au                      11017 non-null  float64\n",
      " 22  primary_cleaner.state.floatbank8_a_air              11017 non-null  float64\n",
      " 23  primary_cleaner.state.floatbank8_a_level            11017 non-null  float64\n",
      " 24  primary_cleaner.state.floatbank8_b_air              11017 non-null  float64\n",
      " 25  primary_cleaner.state.floatbank8_b_level            11017 non-null  float64\n",
      " 26  primary_cleaner.state.floatbank8_c_air              11017 non-null  float64\n",
      " 27  primary_cleaner.state.floatbank8_c_level            11017 non-null  float64\n",
      " 28  primary_cleaner.state.floatbank8_d_air              11017 non-null  float64\n",
      " 29  primary_cleaner.state.floatbank8_d_level            11017 non-null  float64\n",
      " 30  rougher.calculation.sulfate_to_au_concentrate       11017 non-null  float64\n",
      " 31  rougher.calculation.floatbank10_sulfate_to_au_feed  11017 non-null  float64\n",
      " 32  rougher.calculation.floatbank11_sulfate_to_au_feed  11017 non-null  float64\n",
      " 33  rougher.calculation.au_pb_ratio                     11017 non-null  float64\n",
      " 34  rougher.input.feed_ag                               11017 non-null  float64\n",
      " 35  rougher.input.feed_pb                               11017 non-null  float64\n",
      " 36  rougher.input.feed_rate                             11017 non-null  float64\n",
      " 37  rougher.input.feed_size                             11017 non-null  float64\n",
      " 38  rougher.input.feed_sol                              11017 non-null  float64\n",
      " 39  rougher.input.feed_au                               11017 non-null  float64\n",
      " 40  rougher.input.floatbank10_sulfate                   11017 non-null  float64\n",
      " 41  rougher.input.floatbank10_xanthate                  11017 non-null  float64\n",
      " 42  rougher.input.floatbank11_sulfate                   11017 non-null  float64\n",
      " 43  rougher.input.floatbank11_xanthate                  11017 non-null  float64\n",
      " 44  rougher.output.concentrate_ag                       11017 non-null  float64\n",
      " 45  rougher.output.concentrate_pb                       11017 non-null  float64\n",
      " 46  rougher.output.concentrate_sol                      11017 non-null  float64\n",
      " 47  rougher.output.concentrate_au                       11017 non-null  float64\n",
      " 48  rougher.output.recovery                             11017 non-null  float64\n",
      " 49  rougher.output.tail_ag                              11017 non-null  float64\n",
      " 50  rougher.output.tail_pb                              11017 non-null  float64\n",
      " 51  rougher.output.tail_sol                             11017 non-null  float64\n",
      " 52  rougher.output.tail_au                              11017 non-null  float64\n",
      " 53  rougher.state.floatbank10_a_air                     11017 non-null  float64\n",
      " 54  rougher.state.floatbank10_a_level                   11017 non-null  float64\n",
      " 55  rougher.state.floatbank10_b_air                     11017 non-null  float64\n",
      " 56  rougher.state.floatbank10_b_level                   11017 non-null  float64\n",
      " 57  rougher.state.floatbank10_c_air                     11017 non-null  float64\n",
      " 58  rougher.state.floatbank10_c_level                   11017 non-null  float64\n",
      " 59  rougher.state.floatbank10_d_air                     11017 non-null  float64\n",
      " 60  rougher.state.floatbank10_d_level                   11017 non-null  float64\n",
      " 61  rougher.state.floatbank10_e_air                     11017 non-null  float64\n",
      " 62  rougher.state.floatbank10_e_level                   11017 non-null  float64\n",
      " 63  rougher.state.floatbank10_f_air                     11017 non-null  float64\n",
      " 64  rougher.state.floatbank10_f_level                   11017 non-null  float64\n",
      " 65  secondary_cleaner.output.tail_ag                    11017 non-null  float64\n",
      " 66  secondary_cleaner.output.tail_pb                    11017 non-null  float64\n",
      " 67  secondary_cleaner.output.tail_sol                   11017 non-null  float64\n",
      " 68  secondary_cleaner.output.tail_au                    11017 non-null  float64\n",
      " 69  secondary_cleaner.state.floatbank2_a_air            11017 non-null  float64\n",
      " 70  secondary_cleaner.state.floatbank2_a_level          11017 non-null  float64\n",
      " 71  secondary_cleaner.state.floatbank2_b_air            11017 non-null  float64\n",
      " 72  secondary_cleaner.state.floatbank2_b_level          11017 non-null  float64\n",
      " 73  secondary_cleaner.state.floatbank3_a_air            11017 non-null  float64\n",
      " 74  secondary_cleaner.state.floatbank3_a_level          11017 non-null  float64\n",
      " 75  secondary_cleaner.state.floatbank3_b_air            11017 non-null  float64\n",
      " 76  secondary_cleaner.state.floatbank3_b_level          11017 non-null  float64\n",
      " 77  secondary_cleaner.state.floatbank4_a_air            11017 non-null  float64\n",
      " 78  secondary_cleaner.state.floatbank4_a_level          11017 non-null  float64\n",
      " 79  secondary_cleaner.state.floatbank4_b_air            11017 non-null  float64\n",
      " 80  secondary_cleaner.state.floatbank4_b_level          11017 non-null  float64\n",
      " 81  secondary_cleaner.state.floatbank5_a_air            11017 non-null  float64\n",
      " 82  secondary_cleaner.state.floatbank5_a_level          11017 non-null  float64\n",
      " 83  secondary_cleaner.state.floatbank5_b_air            11017 non-null  float64\n",
      " 84  secondary_cleaner.state.floatbank5_b_level          11017 non-null  float64\n",
      " 85  secondary_cleaner.state.floatbank6_a_air            11017 non-null  float64\n",
      " 86  secondary_cleaner.state.floatbank6_a_level          11017 non-null  float64\n",
      "dtypes: float64(86), object(1)\n",
      "memory usage: 7.4+ MB\n"
     ]
    }
   ],
   "source": [
    "gold_recovery_train.info()"
   ]
  },
  {
   "cell_type": "code",
   "execution_count": 9,
   "metadata": {},
   "outputs": [
    {
     "name": "stdout",
     "output_type": "stream",
     "text": [
      "       calculated_recovery  rougher.input.feed_au  rougher.output.tail_au  \\\n",
      "0                87.107763               6.486150                1.170244   \n",
      "1                86.843261               6.478583                1.184827   \n",
      "2                86.842308               6.362222                1.162562   \n",
      "3                87.226430               6.118189                1.079755   \n",
      "4                86.688794               5.663707                1.012642   \n",
      "...                    ...                    ...                     ...   \n",
      "16855            89.574376               5.335862                0.748633   \n",
      "16856            87.724007               4.838619                0.771582   \n",
      "16857            88.890579               4.525061                0.685059   \n",
      "16858            89.858126               4.362781                0.567130   \n",
      "16859            89.514960               4.365491                0.586439   \n",
      "\n",
      "       rougher.output.concentrate_au  \n",
      "0                          19.793808  \n",
      "1                          20.050975  \n",
      "2                          19.737170  \n",
      "3                          19.320810  \n",
      "4                          19.216101  \n",
      "...                              ...  \n",
      "16855                      18.603550  \n",
      "16856                      18.441436  \n",
      "16857                      15.111231  \n",
      "16858                      17.834772  \n",
      "16859                      17.804134  \n",
      "\n",
      "[11017 rows x 4 columns]\n",
      "       calculated_recovery  rougher.input.feed_au  rougher.output.tail_au  \\\n",
      "count         11017.000000           11017.000000            11017.000000   \n",
      "mean             82.741888               8.107739                1.840316   \n",
      "std              13.590523               1.790876                0.645168   \n",
      "min              -0.000000               0.010000                0.053283   \n",
      "25%              79.997468               6.830117                1.440929   \n",
      "50%              84.847754               7.865763                1.815137   \n",
      "75%              89.635149               9.247575                2.223659   \n",
      "max             100.000000              13.126043                6.023451   \n",
      "\n",
      "       rougher.output.concentrate_au  \n",
      "count                   11017.000000  \n",
      "mean                       19.776788  \n",
      "std                         3.600455  \n",
      "min                         0.000000  \n",
      "25%                        18.835324  \n",
      "50%                        20.262237  \n",
      "75%                        21.662943  \n",
      "max                        28.146838  \n"
     ]
    }
   ],
   "source": [
    "# Calcula la recuperacion\n",
    "c = gold_recovery_train['rougher.output.concentrate_au']\n",
    "f = gold_recovery_train['rougher.input.feed_au']\n",
    "t = gold_recovery_train[ 'rougher.output.tail_au']\n",
    "\n",
    "gold_recovery_train['calculated_recovery'] = (c * (f - t)) / (f * (c - t)) * 100\n",
    "print(gold_recovery_train[['calculated_recovery', 'rougher.input.feed_au', 'rougher.output.tail_au', 'rougher.output.concentrate_au']])\n",
    "print(gold_recovery_train[['calculated_recovery', 'rougher.input.feed_au', 'rougher.output.tail_au', 'rougher.output.concentrate_au']].describe())"
   ]
  },
  {
   "cell_type": "markdown",
   "metadata": {},
   "source": [
    "Analisis de mis resultados en la recuperacion\n",
    "a) El promedio de 82.74% lo que nos indica que el proceso de flotacion esta recuperando una cantidad significativa de oro que se encuentra presente en la alimentacion\n",
    "b) La desviacion estandar de 13.60%  lo que nos indica una variabilidad en los resultados de recuperacion esto puede deberse a cambios en las condiciones del proceso variacion en el calidad del elemento"
   ]
  },
  {
   "cell_type": "code",
   "execution_count": 10,
   "metadata": {},
   "outputs": [
    {
     "name": "stdout",
     "output_type": "stream",
     "text": [
      "Error absoluto medio: 9.460144184559453e-15\n"
     ]
    }
   ],
   "source": [
    "# Calcula el error absoluto medio (EAM) entre tus calculos y los valores de la característica\n",
    "\n",
    "print('Error absoluto medio:', mean_absolute_error(gold_recovery_train['rougher.output.recovery'], gold_recovery_train['calculated_recovery']))"
   ]
  },
  {
   "cell_type": "markdown",
   "metadata": {},
   "source": [
    "Este valor nos indica que los calculos de recuperacion son casi identicos a los valores reales de recuperacion para el conjunto de entrenamiento"
   ]
  },
  {
   "cell_type": "markdown",
   "metadata": {},
   "source": [
    "### Analiza las características no disponibles en el conjunto de prueba. ¿Cuáles son estos parámetros? ¿Cuál es su tipo?"
   ]
  },
  {
   "cell_type": "code",
   "execution_count": 11,
   "metadata": {},
   "outputs": [
    {
     "name": "stdout",
     "output_type": "stream",
     "text": [
      "Columnas que faltan en el conjunto de prueba:\n",
      "{'rougher.output.concentrate_ag', 'rougher.output.concentrate_au', 'rougher.output.tail_au', 'rougher.output.concentrate_sol', 'rougher.output.tail_ag', 'primary_cleaner.output.concentrate_pb', 'secondary_cleaner.output.tail_pb', 'primary_cleaner.output.concentrate_ag', 'primary_cleaner.output.tail_sol', 'primary_cleaner.output.concentrate_sol', 'rougher.calculation.au_pb_ratio', 'final.output.concentrate_pb', 'final.output.tail_au', 'rougher.output.tail_pb', 'primary_cleaner.output.tail_ag', 'final.output.tail_sol', 'final.output.concentrate_ag', 'final.output.concentrate_sol', 'rougher.calculation.floatbank10_sulfate_to_au_feed', 'primary_cleaner.output.concentrate_au', 'rougher.calculation.floatbank11_sulfate_to_au_feed', 'final.output.tail_ag', 'secondary_cleaner.output.tail_au', 'final.output.recovery', 'primary_cleaner.output.tail_au', 'final.output.concentrate_au', 'rougher.output.recovery', 'rougher.output.concentrate_pb', 'secondary_cleaner.output.tail_sol', 'primary_cleaner.output.tail_pb', 'final.output.tail_pb', 'rougher.output.tail_sol', 'rougher.calculation.sulfate_to_au_concentrate', 'calculated_recovery', 'secondary_cleaner.output.tail_ag'}\n"
     ]
    }
   ],
   "source": [
    "## Comparar columnas \n",
    "train_columns = set(gold_recovery_train.columns)\n",
    "test_columns = set(gold_recovery_test.columns)\n",
    "#Columnas que estan en el conjunto de entrenamiento y no en el conjunto de prueba\n",
    "missing_columns = train_columns - test_columns\n",
    "print('Columnas que faltan en el conjunto de prueba:')\n",
    "print(missing_columns)\n"
   ]
  },
  {
   "cell_type": "markdown",
   "metadata": {},
   "source": [
    "Las columnas faltantes en el conjunto de prueba \n",
    "a) No estan presentes las columnas objetivo\n",
    "b) La presencia de las colas de flotacion para los 3 elementos y la solucion\n",
    "c) primary cleaner  del concentrados y las colas de los 3 elementos\n",
    "d) La columna creada de calculated recovery\n",
    "e) El final de las colas y conentrados de los 3 elementos y solucion\n",
    "f) Los calculos de flotacion floatbank11 y loatbank10 de sulfato a la alimentacion de oro  "
   ]
  },
  {
   "cell_type": "code",
   "execution_count": 12,
   "metadata": {},
   "outputs": [
    {
     "name": "stdout",
     "output_type": "stream",
     "text": [
      "Tipo de dato de rougher.output.concentrate_ag: float64\n",
      "Tipo de dato de rougher.output.concentrate_au: float64\n",
      "Tipo de dato de rougher.output.tail_au: float64\n",
      "Tipo de dato de rougher.output.concentrate_sol: float64\n",
      "Tipo de dato de rougher.output.tail_ag: float64\n",
      "Tipo de dato de primary_cleaner.output.concentrate_pb: float64\n",
      "Tipo de dato de secondary_cleaner.output.tail_pb: float64\n",
      "Tipo de dato de primary_cleaner.output.concentrate_ag: float64\n",
      "Tipo de dato de primary_cleaner.output.tail_sol: float64\n",
      "Tipo de dato de primary_cleaner.output.concentrate_sol: float64\n",
      "Tipo de dato de rougher.calculation.au_pb_ratio: float64\n",
      "Tipo de dato de final.output.concentrate_pb: float64\n",
      "Tipo de dato de final.output.tail_au: float64\n",
      "Tipo de dato de rougher.output.tail_pb: float64\n",
      "Tipo de dato de primary_cleaner.output.tail_ag: float64\n",
      "Tipo de dato de final.output.tail_sol: float64\n",
      "Tipo de dato de final.output.concentrate_ag: float64\n",
      "Tipo de dato de final.output.concentrate_sol: float64\n",
      "Tipo de dato de rougher.calculation.floatbank10_sulfate_to_au_feed: float64\n",
      "Tipo de dato de primary_cleaner.output.concentrate_au: float64\n",
      "Tipo de dato de rougher.calculation.floatbank11_sulfate_to_au_feed: float64\n",
      "Tipo de dato de final.output.tail_ag: float64\n",
      "Tipo de dato de secondary_cleaner.output.tail_au: float64\n",
      "Tipo de dato de final.output.recovery: float64\n",
      "Tipo de dato de primary_cleaner.output.tail_au: float64\n",
      "Tipo de dato de final.output.concentrate_au: float64\n",
      "Tipo de dato de rougher.output.recovery: float64\n",
      "Tipo de dato de rougher.output.concentrate_pb: float64\n",
      "Tipo de dato de secondary_cleaner.output.tail_sol: float64\n",
      "Tipo de dato de primary_cleaner.output.tail_pb: float64\n",
      "Tipo de dato de final.output.tail_pb: float64\n",
      "Tipo de dato de rougher.output.tail_sol: float64\n",
      "Tipo de dato de rougher.calculation.sulfate_to_au_concentrate: float64\n",
      "Tipo de dato de calculated_recovery: float64\n",
      "Tipo de dato de secondary_cleaner.output.tail_ag: float64\n"
     ]
    }
   ],
   "source": [
    "# Tipo de datos de las columnas faltantes\n",
    "for column in missing_columns:\n",
    "    print(f\"Tipo de dato de {column}: {gold_recovery_train[column].dtype}\")"
   ]
  },
  {
   "cell_type": "markdown",
   "metadata": {},
   "source": [
    "Los tipos de datos presentes en las columnas faltantes son flotantes los que nos indica valores numericos con decimales columnas imporatantes para el modelado y el analisis para el proceso de recuperacion de oro proporcionando imformacion cuantitativa sobre concentrados, recuperacion, flotaciones y colas"
   ]
  },
  {
   "cell_type": "markdown",
   "metadata": {},
   "source": [
    "### Realiza el preprocesamiento de datos"
   ]
  },
  {
   "cell_type": "code",
   "execution_count": 13,
   "metadata": {},
   "outputs": [
    {
     "name": "stdout",
     "output_type": "stream",
     "text": [
      "Porcentaje de valores ausentes en gold_recovery_train:\n",
      "date                                          0.0\n",
      "final.output.concentrate_ag                   0.0\n",
      "final.output.concentrate_pb                   0.0\n",
      "final.output.concentrate_sol                  0.0\n",
      "final.output.concentrate_au                   0.0\n",
      "                                             ... \n",
      "secondary_cleaner.state.floatbank5_b_air      0.0\n",
      "secondary_cleaner.state.floatbank5_b_level    0.0\n",
      "secondary_cleaner.state.floatbank6_a_air      0.0\n",
      "secondary_cleaner.state.floatbank6_a_level    0.0\n",
      "calculated_recovery                           0.0\n",
      "Length: 88, dtype: float64\n",
      "\n",
      "Porcentaje de valores ausentes en gold_recovery_test:\n",
      "date                                          0.0\n",
      "primary_cleaner.input.sulfate                 0.0\n",
      "primary_cleaner.input.depressant              0.0\n",
      "primary_cleaner.input.feed_size               0.0\n",
      "primary_cleaner.input.xanthate                0.0\n",
      "primary_cleaner.state.floatbank8_a_air        0.0\n",
      "primary_cleaner.state.floatbank8_a_level      0.0\n",
      "primary_cleaner.state.floatbank8_b_air        0.0\n",
      "primary_cleaner.state.floatbank8_b_level      0.0\n",
      "primary_cleaner.state.floatbank8_c_air        0.0\n",
      "primary_cleaner.state.floatbank8_c_level      0.0\n",
      "primary_cleaner.state.floatbank8_d_air        0.0\n",
      "primary_cleaner.state.floatbank8_d_level      0.0\n",
      "rougher.input.feed_ag                         0.0\n",
      "rougher.input.feed_pb                         0.0\n",
      "rougher.input.feed_rate                       0.0\n",
      "rougher.input.feed_size                       0.0\n",
      "rougher.input.feed_sol                        0.0\n",
      "rougher.input.feed_au                         0.0\n",
      "rougher.input.floatbank10_sulfate             0.0\n",
      "rougher.input.floatbank10_xanthate            0.0\n",
      "rougher.input.floatbank11_sulfate             0.0\n",
      "rougher.input.floatbank11_xanthate            0.0\n",
      "rougher.state.floatbank10_a_air               0.0\n",
      "rougher.state.floatbank10_a_level             0.0\n",
      "rougher.state.floatbank10_b_air               0.0\n",
      "rougher.state.floatbank10_b_level             0.0\n",
      "rougher.state.floatbank10_c_air               0.0\n",
      "rougher.state.floatbank10_c_level             0.0\n",
      "rougher.state.floatbank10_d_air               0.0\n",
      "rougher.state.floatbank10_d_level             0.0\n",
      "rougher.state.floatbank10_e_air               0.0\n",
      "rougher.state.floatbank10_e_level             0.0\n",
      "rougher.state.floatbank10_f_air               0.0\n",
      "rougher.state.floatbank10_f_level             0.0\n",
      "secondary_cleaner.state.floatbank2_a_air      0.0\n",
      "secondary_cleaner.state.floatbank2_a_level    0.0\n",
      "secondary_cleaner.state.floatbank2_b_air      0.0\n",
      "secondary_cleaner.state.floatbank2_b_level    0.0\n",
      "secondary_cleaner.state.floatbank3_a_air      0.0\n",
      "secondary_cleaner.state.floatbank3_a_level    0.0\n",
      "secondary_cleaner.state.floatbank3_b_air      0.0\n",
      "secondary_cleaner.state.floatbank3_b_level    0.0\n",
      "secondary_cleaner.state.floatbank4_a_air      0.0\n",
      "secondary_cleaner.state.floatbank4_a_level    0.0\n",
      "secondary_cleaner.state.floatbank4_b_air      0.0\n",
      "secondary_cleaner.state.floatbank4_b_level    0.0\n",
      "secondary_cleaner.state.floatbank5_a_air      0.0\n",
      "secondary_cleaner.state.floatbank5_a_level    0.0\n",
      "secondary_cleaner.state.floatbank5_b_air      0.0\n",
      "secondary_cleaner.state.floatbank5_b_level    0.0\n",
      "secondary_cleaner.state.floatbank6_a_air      0.0\n",
      "secondary_cleaner.state.floatbank6_a_level    0.0\n",
      "dtype: float64\n",
      "\n",
      "Porcentaje de valores ausentes en gold_recovery_full:\n",
      "date                                          0.0\n",
      "final.output.concentrate_ag                   0.0\n",
      "final.output.concentrate_pb                   0.0\n",
      "final.output.concentrate_sol                  0.0\n",
      "final.output.concentrate_au                   0.0\n",
      "                                             ... \n",
      "secondary_cleaner.state.floatbank5_a_level    0.0\n",
      "secondary_cleaner.state.floatbank5_b_air      0.0\n",
      "secondary_cleaner.state.floatbank5_b_level    0.0\n",
      "secondary_cleaner.state.floatbank6_a_air      0.0\n",
      "secondary_cleaner.state.floatbank6_a_level    0.0\n",
      "Length: 87, dtype: float64\n"
     ]
    }
   ],
   "source": [
    "# Función para calcular el porcentaje de valores ausentes\n",
    "def calculate_missing_percentage(datos):\n",
    "    missing_count = datos.isna().sum()\n",
    "    total_count = len(datos)\n",
    "    missing_percentage = (missing_count / total_count) * 100\n",
    "    return missing_percentage\n",
    "\n",
    "# Calcular y mostrar el porcentaje de valores ausentes para cada conjunto de datos\n",
    "print(\"Porcentaje de valores ausentes en gold_recovery_train:\")\n",
    "print(calculate_missing_percentage(gold_recovery_train))\n",
    "\n",
    "print(\"\\nPorcentaje de valores ausentes en gold_recovery_test:\")\n",
    "print(calculate_missing_percentage(gold_recovery_test))\n",
    "\n",
    "print(\"\\nPorcentaje de valores ausentes en gold_recovery_full:\")\n",
    "print(calculate_missing_percentage(gold_recovery_full))"
   ]
  },
  {
   "cell_type": "code",
   "execution_count": 14,
   "metadata": {},
   "outputs": [],
   "source": [
    " #Eliminar la columna 'date' de cada conjunto de datos\n",
    "gold_recovery_train = gold_recovery_train.drop('date', axis=1)\n",
    "gold_recovery_test = gold_recovery_test.drop('date', axis=1)\n",
    "gold_recovery_full = gold_recovery_full.drop('date', axis=1)\n"
   ]
  },
  {
   "cell_type": "code",
   "execution_count": 15,
   "metadata": {},
   "outputs": [],
   "source": [
    "# Resetear el indica\n",
    "gold_recovery_train = gold_recovery_train.reset_index(drop=True)\n",
    "gold_recovery_test = gold_recovery_test.reset_index(drop=True)\n",
    "gold_recovery_full = gold_recovery_full.reset_index(drop=True)"
   ]
  },
  {
   "cell_type": "markdown",
   "metadata": {},
   "source": [
    "## Analiza los datos\n",
    "\n"
   ]
  },
  {
   "cell_type": "markdown",
   "metadata": {},
   "source": [
    "### Observa cómo cambia la concentración de metales (Au, Ag, Pb) en función de la etapa de purificación."
   ]
  },
  {
   "cell_type": "code",
   "execution_count": 16,
   "metadata": {},
   "outputs": [
    {
     "name": "stdout",
     "output_type": "stream",
     "text": [
      "<class 'pandas.core.frame.DataFrame'>\n",
      "RangeIndex: 11017 entries, 0 to 11016\n",
      "Data columns (total 87 columns):\n",
      " #   Column                                              Non-Null Count  Dtype  \n",
      "---  ------                                              --------------  -----  \n",
      " 0   final.output.concentrate_ag                         11017 non-null  float64\n",
      " 1   final.output.concentrate_pb                         11017 non-null  float64\n",
      " 2   final.output.concentrate_sol                        11017 non-null  float64\n",
      " 3   final.output.concentrate_au                         11017 non-null  float64\n",
      " 4   final.output.recovery                               11017 non-null  float64\n",
      " 5   final.output.tail_ag                                11017 non-null  float64\n",
      " 6   final.output.tail_pb                                11017 non-null  float64\n",
      " 7   final.output.tail_sol                               11017 non-null  float64\n",
      " 8   final.output.tail_au                                11017 non-null  float64\n",
      " 9   primary_cleaner.input.sulfate                       11017 non-null  float64\n",
      " 10  primary_cleaner.input.depressant                    11017 non-null  float64\n",
      " 11  primary_cleaner.input.feed_size                     11017 non-null  float64\n",
      " 12  primary_cleaner.input.xanthate                      11017 non-null  float64\n",
      " 13  primary_cleaner.output.concentrate_ag               11017 non-null  float64\n",
      " 14  primary_cleaner.output.concentrate_pb               11017 non-null  float64\n",
      " 15  primary_cleaner.output.concentrate_sol              11017 non-null  float64\n",
      " 16  primary_cleaner.output.concentrate_au               11017 non-null  float64\n",
      " 17  primary_cleaner.output.tail_ag                      11017 non-null  float64\n",
      " 18  primary_cleaner.output.tail_pb                      11017 non-null  float64\n",
      " 19  primary_cleaner.output.tail_sol                     11017 non-null  float64\n",
      " 20  primary_cleaner.output.tail_au                      11017 non-null  float64\n",
      " 21  primary_cleaner.state.floatbank8_a_air              11017 non-null  float64\n",
      " 22  primary_cleaner.state.floatbank8_a_level            11017 non-null  float64\n",
      " 23  primary_cleaner.state.floatbank8_b_air              11017 non-null  float64\n",
      " 24  primary_cleaner.state.floatbank8_b_level            11017 non-null  float64\n",
      " 25  primary_cleaner.state.floatbank8_c_air              11017 non-null  float64\n",
      " 26  primary_cleaner.state.floatbank8_c_level            11017 non-null  float64\n",
      " 27  primary_cleaner.state.floatbank8_d_air              11017 non-null  float64\n",
      " 28  primary_cleaner.state.floatbank8_d_level            11017 non-null  float64\n",
      " 29  rougher.calculation.sulfate_to_au_concentrate       11017 non-null  float64\n",
      " 30  rougher.calculation.floatbank10_sulfate_to_au_feed  11017 non-null  float64\n",
      " 31  rougher.calculation.floatbank11_sulfate_to_au_feed  11017 non-null  float64\n",
      " 32  rougher.calculation.au_pb_ratio                     11017 non-null  float64\n",
      " 33  rougher.input.feed_ag                               11017 non-null  float64\n",
      " 34  rougher.input.feed_pb                               11017 non-null  float64\n",
      " 35  rougher.input.feed_rate                             11017 non-null  float64\n",
      " 36  rougher.input.feed_size                             11017 non-null  float64\n",
      " 37  rougher.input.feed_sol                              11017 non-null  float64\n",
      " 38  rougher.input.feed_au                               11017 non-null  float64\n",
      " 39  rougher.input.floatbank10_sulfate                   11017 non-null  float64\n",
      " 40  rougher.input.floatbank10_xanthate                  11017 non-null  float64\n",
      " 41  rougher.input.floatbank11_sulfate                   11017 non-null  float64\n",
      " 42  rougher.input.floatbank11_xanthate                  11017 non-null  float64\n",
      " 43  rougher.output.concentrate_ag                       11017 non-null  float64\n",
      " 44  rougher.output.concentrate_pb                       11017 non-null  float64\n",
      " 45  rougher.output.concentrate_sol                      11017 non-null  float64\n",
      " 46  rougher.output.concentrate_au                       11017 non-null  float64\n",
      " 47  rougher.output.recovery                             11017 non-null  float64\n",
      " 48  rougher.output.tail_ag                              11017 non-null  float64\n",
      " 49  rougher.output.tail_pb                              11017 non-null  float64\n",
      " 50  rougher.output.tail_sol                             11017 non-null  float64\n",
      " 51  rougher.output.tail_au                              11017 non-null  float64\n",
      " 52  rougher.state.floatbank10_a_air                     11017 non-null  float64\n",
      " 53  rougher.state.floatbank10_a_level                   11017 non-null  float64\n",
      " 54  rougher.state.floatbank10_b_air                     11017 non-null  float64\n",
      " 55  rougher.state.floatbank10_b_level                   11017 non-null  float64\n",
      " 56  rougher.state.floatbank10_c_air                     11017 non-null  float64\n",
      " 57  rougher.state.floatbank10_c_level                   11017 non-null  float64\n",
      " 58  rougher.state.floatbank10_d_air                     11017 non-null  float64\n",
      " 59  rougher.state.floatbank10_d_level                   11017 non-null  float64\n",
      " 60  rougher.state.floatbank10_e_air                     11017 non-null  float64\n",
      " 61  rougher.state.floatbank10_e_level                   11017 non-null  float64\n",
      " 62  rougher.state.floatbank10_f_air                     11017 non-null  float64\n",
      " 63  rougher.state.floatbank10_f_level                   11017 non-null  float64\n",
      " 64  secondary_cleaner.output.tail_ag                    11017 non-null  float64\n",
      " 65  secondary_cleaner.output.tail_pb                    11017 non-null  float64\n",
      " 66  secondary_cleaner.output.tail_sol                   11017 non-null  float64\n",
      " 67  secondary_cleaner.output.tail_au                    11017 non-null  float64\n",
      " 68  secondary_cleaner.state.floatbank2_a_air            11017 non-null  float64\n",
      " 69  secondary_cleaner.state.floatbank2_a_level          11017 non-null  float64\n",
      " 70  secondary_cleaner.state.floatbank2_b_air            11017 non-null  float64\n",
      " 71  secondary_cleaner.state.floatbank2_b_level          11017 non-null  float64\n",
      " 72  secondary_cleaner.state.floatbank3_a_air            11017 non-null  float64\n",
      " 73  secondary_cleaner.state.floatbank3_a_level          11017 non-null  float64\n",
      " 74  secondary_cleaner.state.floatbank3_b_air            11017 non-null  float64\n",
      " 75  secondary_cleaner.state.floatbank3_b_level          11017 non-null  float64\n",
      " 76  secondary_cleaner.state.floatbank4_a_air            11017 non-null  float64\n",
      " 77  secondary_cleaner.state.floatbank4_a_level          11017 non-null  float64\n",
      " 78  secondary_cleaner.state.floatbank4_b_air            11017 non-null  float64\n",
      " 79  secondary_cleaner.state.floatbank4_b_level          11017 non-null  float64\n",
      " 80  secondary_cleaner.state.floatbank5_a_air            11017 non-null  float64\n",
      " 81  secondary_cleaner.state.floatbank5_a_level          11017 non-null  float64\n",
      " 82  secondary_cleaner.state.floatbank5_b_air            11017 non-null  float64\n",
      " 83  secondary_cleaner.state.floatbank5_b_level          11017 non-null  float64\n",
      " 84  secondary_cleaner.state.floatbank6_a_air            11017 non-null  float64\n",
      " 85  secondary_cleaner.state.floatbank6_a_level          11017 non-null  float64\n",
      " 86  calculated_recovery                                 11017 non-null  float64\n",
      "dtypes: float64(87)\n",
      "memory usage: 7.3 MB\n",
      "None\n"
     ]
    }
   ],
   "source": [
    "print(gold_recovery_train.info())"
   ]
  },
  {
   "cell_type": "code",
   "execution_count": 17,
   "metadata": {},
   "outputs": [
    {
     "name": "stdout",
     "output_type": "stream",
     "text": [
      "<class 'pandas.core.frame.DataFrame'>\n",
      "RangeIndex: 5383 entries, 0 to 5382\n",
      "Data columns (total 52 columns):\n",
      " #   Column                                      Non-Null Count  Dtype  \n",
      "---  ------                                      --------------  -----  \n",
      " 0   primary_cleaner.input.sulfate               5383 non-null   float64\n",
      " 1   primary_cleaner.input.depressant            5383 non-null   float64\n",
      " 2   primary_cleaner.input.feed_size             5383 non-null   float64\n",
      " 3   primary_cleaner.input.xanthate              5383 non-null   float64\n",
      " 4   primary_cleaner.state.floatbank8_a_air      5383 non-null   float64\n",
      " 5   primary_cleaner.state.floatbank8_a_level    5383 non-null   float64\n",
      " 6   primary_cleaner.state.floatbank8_b_air      5383 non-null   float64\n",
      " 7   primary_cleaner.state.floatbank8_b_level    5383 non-null   float64\n",
      " 8   primary_cleaner.state.floatbank8_c_air      5383 non-null   float64\n",
      " 9   primary_cleaner.state.floatbank8_c_level    5383 non-null   float64\n",
      " 10  primary_cleaner.state.floatbank8_d_air      5383 non-null   float64\n",
      " 11  primary_cleaner.state.floatbank8_d_level    5383 non-null   float64\n",
      " 12  rougher.input.feed_ag                       5383 non-null   float64\n",
      " 13  rougher.input.feed_pb                       5383 non-null   float64\n",
      " 14  rougher.input.feed_rate                     5383 non-null   float64\n",
      " 15  rougher.input.feed_size                     5383 non-null   float64\n",
      " 16  rougher.input.feed_sol                      5383 non-null   float64\n",
      " 17  rougher.input.feed_au                       5383 non-null   float64\n",
      " 18  rougher.input.floatbank10_sulfate           5383 non-null   float64\n",
      " 19  rougher.input.floatbank10_xanthate          5383 non-null   float64\n",
      " 20  rougher.input.floatbank11_sulfate           5383 non-null   float64\n",
      " 21  rougher.input.floatbank11_xanthate          5383 non-null   float64\n",
      " 22  rougher.state.floatbank10_a_air             5383 non-null   float64\n",
      " 23  rougher.state.floatbank10_a_level           5383 non-null   float64\n",
      " 24  rougher.state.floatbank10_b_air             5383 non-null   float64\n",
      " 25  rougher.state.floatbank10_b_level           5383 non-null   float64\n",
      " 26  rougher.state.floatbank10_c_air             5383 non-null   float64\n",
      " 27  rougher.state.floatbank10_c_level           5383 non-null   float64\n",
      " 28  rougher.state.floatbank10_d_air             5383 non-null   float64\n",
      " 29  rougher.state.floatbank10_d_level           5383 non-null   float64\n",
      " 30  rougher.state.floatbank10_e_air             5383 non-null   float64\n",
      " 31  rougher.state.floatbank10_e_level           5383 non-null   float64\n",
      " 32  rougher.state.floatbank10_f_air             5383 non-null   float64\n",
      " 33  rougher.state.floatbank10_f_level           5383 non-null   float64\n",
      " 34  secondary_cleaner.state.floatbank2_a_air    5383 non-null   float64\n",
      " 35  secondary_cleaner.state.floatbank2_a_level  5383 non-null   float64\n",
      " 36  secondary_cleaner.state.floatbank2_b_air    5383 non-null   float64\n",
      " 37  secondary_cleaner.state.floatbank2_b_level  5383 non-null   float64\n",
      " 38  secondary_cleaner.state.floatbank3_a_air    5383 non-null   float64\n",
      " 39  secondary_cleaner.state.floatbank3_a_level  5383 non-null   float64\n",
      " 40  secondary_cleaner.state.floatbank3_b_air    5383 non-null   float64\n",
      " 41  secondary_cleaner.state.floatbank3_b_level  5383 non-null   float64\n",
      " 42  secondary_cleaner.state.floatbank4_a_air    5383 non-null   float64\n",
      " 43  secondary_cleaner.state.floatbank4_a_level  5383 non-null   float64\n",
      " 44  secondary_cleaner.state.floatbank4_b_air    5383 non-null   float64\n",
      " 45  secondary_cleaner.state.floatbank4_b_level  5383 non-null   float64\n",
      " 46  secondary_cleaner.state.floatbank5_a_air    5383 non-null   float64\n",
      " 47  secondary_cleaner.state.floatbank5_a_level  5383 non-null   float64\n",
      " 48  secondary_cleaner.state.floatbank5_b_air    5383 non-null   float64\n",
      " 49  secondary_cleaner.state.floatbank5_b_level  5383 non-null   float64\n",
      " 50  secondary_cleaner.state.floatbank6_a_air    5383 non-null   float64\n",
      " 51  secondary_cleaner.state.floatbank6_a_level  5383 non-null   float64\n",
      "dtypes: float64(52)\n",
      "memory usage: 2.1 MB\n",
      "None\n"
     ]
    }
   ],
   "source": [
    "print(gold_recovery_test.info())"
   ]
  },
  {
   "cell_type": "code",
   "execution_count": 18,
   "metadata": {},
   "outputs": [
    {
     "name": "stdout",
     "output_type": "stream",
     "text": [
      "<class 'pandas.core.frame.DataFrame'>\n",
      "RangeIndex: 16094 entries, 0 to 16093\n",
      "Data columns (total 86 columns):\n",
      " #   Column                                              Non-Null Count  Dtype  \n",
      "---  ------                                              --------------  -----  \n",
      " 0   final.output.concentrate_ag                         16094 non-null  float64\n",
      " 1   final.output.concentrate_pb                         16094 non-null  float64\n",
      " 2   final.output.concentrate_sol                        16094 non-null  float64\n",
      " 3   final.output.concentrate_au                         16094 non-null  float64\n",
      " 4   final.output.recovery                               16094 non-null  float64\n",
      " 5   final.output.tail_ag                                16094 non-null  float64\n",
      " 6   final.output.tail_pb                                16094 non-null  float64\n",
      " 7   final.output.tail_sol                               16094 non-null  float64\n",
      " 8   final.output.tail_au                                16094 non-null  float64\n",
      " 9   primary_cleaner.input.sulfate                       16094 non-null  float64\n",
      " 10  primary_cleaner.input.depressant                    16094 non-null  float64\n",
      " 11  primary_cleaner.input.feed_size                     16094 non-null  float64\n",
      " 12  primary_cleaner.input.xanthate                      16094 non-null  float64\n",
      " 13  primary_cleaner.output.concentrate_ag               16094 non-null  float64\n",
      " 14  primary_cleaner.output.concentrate_pb               16094 non-null  float64\n",
      " 15  primary_cleaner.output.concentrate_sol              16094 non-null  float64\n",
      " 16  primary_cleaner.output.concentrate_au               16094 non-null  float64\n",
      " 17  primary_cleaner.output.tail_ag                      16094 non-null  float64\n",
      " 18  primary_cleaner.output.tail_pb                      16094 non-null  float64\n",
      " 19  primary_cleaner.output.tail_sol                     16094 non-null  float64\n",
      " 20  primary_cleaner.output.tail_au                      16094 non-null  float64\n",
      " 21  primary_cleaner.state.floatbank8_a_air              16094 non-null  float64\n",
      " 22  primary_cleaner.state.floatbank8_a_level            16094 non-null  float64\n",
      " 23  primary_cleaner.state.floatbank8_b_air              16094 non-null  float64\n",
      " 24  primary_cleaner.state.floatbank8_b_level            16094 non-null  float64\n",
      " 25  primary_cleaner.state.floatbank8_c_air              16094 non-null  float64\n",
      " 26  primary_cleaner.state.floatbank8_c_level            16094 non-null  float64\n",
      " 27  primary_cleaner.state.floatbank8_d_air              16094 non-null  float64\n",
      " 28  primary_cleaner.state.floatbank8_d_level            16094 non-null  float64\n",
      " 29  rougher.calculation.sulfate_to_au_concentrate       16094 non-null  float64\n",
      " 30  rougher.calculation.floatbank10_sulfate_to_au_feed  16094 non-null  float64\n",
      " 31  rougher.calculation.floatbank11_sulfate_to_au_feed  16094 non-null  float64\n",
      " 32  rougher.calculation.au_pb_ratio                     16094 non-null  float64\n",
      " 33  rougher.input.feed_ag                               16094 non-null  float64\n",
      " 34  rougher.input.feed_pb                               16094 non-null  float64\n",
      " 35  rougher.input.feed_rate                             16094 non-null  float64\n",
      " 36  rougher.input.feed_size                             16094 non-null  float64\n",
      " 37  rougher.input.feed_sol                              16094 non-null  float64\n",
      " 38  rougher.input.feed_au                               16094 non-null  float64\n",
      " 39  rougher.input.floatbank10_sulfate                   16094 non-null  float64\n",
      " 40  rougher.input.floatbank10_xanthate                  16094 non-null  float64\n",
      " 41  rougher.input.floatbank11_sulfate                   16094 non-null  float64\n",
      " 42  rougher.input.floatbank11_xanthate                  16094 non-null  float64\n",
      " 43  rougher.output.concentrate_ag                       16094 non-null  float64\n",
      " 44  rougher.output.concentrate_pb                       16094 non-null  float64\n",
      " 45  rougher.output.concentrate_sol                      16094 non-null  float64\n",
      " 46  rougher.output.concentrate_au                       16094 non-null  float64\n",
      " 47  rougher.output.recovery                             16094 non-null  float64\n",
      " 48  rougher.output.tail_ag                              16094 non-null  float64\n",
      " 49  rougher.output.tail_pb                              16094 non-null  float64\n",
      " 50  rougher.output.tail_sol                             16094 non-null  float64\n",
      " 51  rougher.output.tail_au                              16094 non-null  float64\n",
      " 52  rougher.state.floatbank10_a_air                     16094 non-null  float64\n",
      " 53  rougher.state.floatbank10_a_level                   16094 non-null  float64\n",
      " 54  rougher.state.floatbank10_b_air                     16094 non-null  float64\n",
      " 55  rougher.state.floatbank10_b_level                   16094 non-null  float64\n",
      " 56  rougher.state.floatbank10_c_air                     16094 non-null  float64\n",
      " 57  rougher.state.floatbank10_c_level                   16094 non-null  float64\n",
      " 58  rougher.state.floatbank10_d_air                     16094 non-null  float64\n",
      " 59  rougher.state.floatbank10_d_level                   16094 non-null  float64\n",
      " 60  rougher.state.floatbank10_e_air                     16094 non-null  float64\n",
      " 61  rougher.state.floatbank10_e_level                   16094 non-null  float64\n",
      " 62  rougher.state.floatbank10_f_air                     16094 non-null  float64\n",
      " 63  rougher.state.floatbank10_f_level                   16094 non-null  float64\n",
      " 64  secondary_cleaner.output.tail_ag                    16094 non-null  float64\n",
      " 65  secondary_cleaner.output.tail_pb                    16094 non-null  float64\n",
      " 66  secondary_cleaner.output.tail_sol                   16094 non-null  float64\n",
      " 67  secondary_cleaner.output.tail_au                    16094 non-null  float64\n",
      " 68  secondary_cleaner.state.floatbank2_a_air            16094 non-null  float64\n",
      " 69  secondary_cleaner.state.floatbank2_a_level          16094 non-null  float64\n",
      " 70  secondary_cleaner.state.floatbank2_b_air            16094 non-null  float64\n",
      " 71  secondary_cleaner.state.floatbank2_b_level          16094 non-null  float64\n",
      " 72  secondary_cleaner.state.floatbank3_a_air            16094 non-null  float64\n",
      " 73  secondary_cleaner.state.floatbank3_a_level          16094 non-null  float64\n",
      " 74  secondary_cleaner.state.floatbank3_b_air            16094 non-null  float64\n",
      " 75  secondary_cleaner.state.floatbank3_b_level          16094 non-null  float64\n",
      " 76  secondary_cleaner.state.floatbank4_a_air            16094 non-null  float64\n",
      " 77  secondary_cleaner.state.floatbank4_a_level          16094 non-null  float64\n",
      " 78  secondary_cleaner.state.floatbank4_b_air            16094 non-null  float64\n",
      " 79  secondary_cleaner.state.floatbank4_b_level          16094 non-null  float64\n",
      " 80  secondary_cleaner.state.floatbank5_a_air            16094 non-null  float64\n",
      " 81  secondary_cleaner.state.floatbank5_a_level          16094 non-null  float64\n",
      " 82  secondary_cleaner.state.floatbank5_b_air            16094 non-null  float64\n",
      " 83  secondary_cleaner.state.floatbank5_b_level          16094 non-null  float64\n",
      " 84  secondary_cleaner.state.floatbank6_a_air            16094 non-null  float64\n",
      " 85  secondary_cleaner.state.floatbank6_a_level          16094 non-null  float64\n",
      "dtypes: float64(86)\n",
      "memory usage: 10.6 MB\n",
      "None\n"
     ]
    }
   ],
   "source": [
    "print(gold_recovery_full.info())"
   ]
  },
  {
   "cell_type": "code",
   "execution_count": 19,
   "metadata": {},
   "outputs": [],
   "source": [
    "# Seleccionar columnas relevantes \n",
    "primary_concentrations = gold_recovery_train[['primary_cleaner.output.concentrate_ag', 'primary_cleaner.output.concentrate_au', 'primary_cleaner.output.concentrate_pb']]\n",
    "final_concentrations = gold_recovery_train[['final.output.concentrate_ag', 'final.output.concentrate_au', 'final.output.concentrate_pb']]"
   ]
  },
  {
   "cell_type": "code",
   "execution_count": 20,
   "metadata": {
    "scrolled": true
   },
   "outputs": [
    {
     "data": {
      "image/png": "[encoded data removed]",
      "text/plain": [
       "<Figure size 1000x600 with 1 Axes>"
      ]
     },
     "metadata": {},
     "output_type": "display_data"
    }
   ],
   "source": [
    "plt.figure(figsize=(10, 6))\n",
    "# Scatter plot para primary_cleaner vs final concentrate\n",
    "for i, metal in enumerate(primary_concentrations.columns):\n",
    "    final_metal = final_concentrations.columns[i]\n",
    "    plt.scatter(primary_concentrations[metal], final_concentrations[final_metal], label=metal.split('.')[-1])\n",
    "plt.title(' Primary cleaner metals concentrate  vs Final metals concentrate')\n",
    "plt.xlabel('Primary Cleaner metals concentrate')\n",
    "plt.ylabel('Final metals concentrate')\n",
    "plt.legend()\n",
    "plt.show()"
   ]
  },
  {
   "cell_type": "markdown",
   "metadata": {},
   "source": [
    "Observaciones del diagrama scatter plot donde se compara para primary_cleaner metals concentrate vs final metals concentrate\n",
    "a) En el caso del oro es evidente muestra un incremento significativo en las concentracion final implica que el proceso esta optimizando para maximinzar su recuperacion\n",
    "b) Para el plomo Se mantiene la concentracion en rangos bajos no hay incremento significativo  y no es prioritario en la etapa primaria de purificacion\n",
    "c) La plata tiene cambios moderados pero igual no un gran incremento de la concentracion final y se correlaciona con la estapa primaria de purificacion"
   ]
  },
  {
   "cell_type": "code",
   "execution_count": 21,
   "metadata": {},
   "outputs": [
    {
     "data": {
      "image/png": "[encoded data removed]",
      "text/plain": [
       "<Figure size 2000x600 with 3 Axes>"
      ]
     },
     "metadata": {},
     "output_type": "display_data"
    }
   ],
   "source": [
    "# Crear gráficos de dispersión para cada elemento\n",
    "fig, axs = plt.subplots(1, 3, figsize=(20, 6))\n",
    "\n",
    "for i, metal in enumerate(primary_concentrations.columns):\n",
    "    final_metal = final_concentrations.columns[i]\n",
    "    axs[i].scatter(primary_concentrations[metal], final_concentrations[final_metal])\n",
    "    axs[i].set_title(f'{metal.split(\".\")[-1]}')\n",
    "    axs[i].set_xlabel(f'Primary Cleaner {metal.split(\".\")[-1]} Concentrate')\n",
    "    axs[i].set_ylabel(f'Final {metal.split(\".\")[-1]} Concentrate')\n",
    "\n",
    "plt.tight_layout()\n",
    "plt.show()"
   ]
  },
  {
   "cell_type": "markdown",
   "metadata": {},
   "source": [
    "Se necesito analizar por separado el scatter-plot por elemento ya que en el diagrama anterior es notorio el aumento en el final del concentrado del oro, pero era necesario observar el comportamiento de de plata y plomo. Mediante el scatter plot de plata tiene mas concentracion entre 3-10 del final del concentrado siendo ese el mas bajo de los tres, le sigue el plomo donde tiene un ligero aumento al final del concentrado entre 7.5-13 pero de igual forma no tienen un incremento significativo"
   ]
  },
  {
   "cell_type": "markdown",
   "metadata": {},
   "source": [
    "### Compara las distribuciones del tamaño de las partículas de la alimentación en el conjunto de entrenamiento y en el conjunto de prueba. Si las distribuciones varían significativamente, la evaluación del modelo no será correcta."
   ]
  },
  {
   "cell_type": "code",
   "execution_count": 22,
   "metadata": {},
   "outputs": [
    {
     "data": {
      "image/png": "[encoded data removed]",
      "text/plain": [
       "<Figure size 1000x600 with 1 Axes>"
      ]
     },
     "metadata": {},
     "output_type": "display_data"
    }
   ],
   "source": [
    "# Seleccionar columnas relevantes\n",
    "train_feed_size = gold_recovery_train['primary_cleaner.input.feed_size']\n",
    "test_feed_size = gold_recovery_test['primary_cleaner.input.feed_size']\n",
    "# Ejecutar histogramas\n",
    "plt.figure(figsize=(10, 6))\n",
    "plt.hist(train_feed_size, alpha=0.5, label='Train', bins=50)\n",
    "plt.hist(test_feed_size, alpha=0.5, label='Test', bins=50)\n",
    "plt.title('Feed Size Histogram')\n",
    "plt.xlabel('Feed Size')\n",
    "plt.ylabel('Frequency')\n",
    "plt.legend()\n",
    "plt.show()"
   ]
  },
  {
   "cell_type": "markdown",
   "metadata": {},
   "source": [
    "La interpretacion del histograma que compra las distribuciones del tamaño de particulas de alimentacion de los conjuntos de entrenamiento y prueba\n",
    "a) La mayor cantidad de particulas en ambos conjuntos en una rango bajo un poco mas de 6 -8 , el conjunto de entrenamiento tiene mas datos en comparacion con el conjunto de prueba principalmente en el tamaño como se oberva a simple vista\n",
    "b) Las distribuciones de ambos conjuntos parecen estar alineados en cuanto a su rango y su forma esto nos quiere decir que los datos del conjunto de prueba estan representados de manera adecuada con el conjunto de entrenamiento \n",
    "pero se recominda una prueba de hipotesis para corroborar este grafico para que no afecte el analisis"
   ]
  },
  {
   "cell_type": "markdown",
   "metadata": {},
   "source": [
    "Prueba para comparar varianzas \n",
    "H0: Las varianzas de train y test son iguales\n",
    "H1: Las varianzas son diferentes \n"
   ]
  },
  {
   "cell_type": "code",
   "execution_count": 23,
   "metadata": {},
   "outputs": [
    {
     "name": "stdout",
     "output_type": "stream",
     "text": [
      "Levene:Estadistico=13.605655382634163, P-valor=0.00022623379199857314\n",
      "Se rechaza H0 en levene: las varianzas son diferentes(usar pruebas no parametricas)\n"
     ]
    }
   ],
   "source": [
    "# Prueba de Levene para igualdad de varianzas\n",
    "levene_stat, levene_p = levene(train_feed_size, test_feed_size)\n",
    "print(f\"Levene:Estadistico={levene_stat}, P-valor={levene_p}\")\n",
    "#Nivel de significancia en alpha\n",
    "alpha = 0.05\n",
    "if levene_p > alpha:\n",
    "    print('No se rechaza H0 en levene: las varianzas son iguales(usar pruebas parametricas)')\n",
    "else:\n",
    "    print('Se rechaza H0 en levene: las varianzas son diferentes(usar pruebas no parametricas)')\n",
    "        \n"
   ]
  },
  {
   "cell_type": "markdown",
   "metadata": {},
   "source": [
    "Hipotesis H0: Las medias de los tamaños de las particulas en el conjunto de entrenamiento y en el conjunto de prueba son iguales\n",
    "Hipotesis H1: Las medias de los tamaños de las particulas en el conjunto de entrenamiento y en el conjunto de prueba son diferentes"
   ]
  },
  {
   "cell_type": "code",
   "execution_count": 24,
   "metadata": {},
   "outputs": [
    {
     "name": "stdout",
     "output_type": "stream",
     "text": [
      "t-Student: Estadístico=13.046064156722506, P-valor=1.0429194009871561e-38\n",
      "Se rechaza HO:Las medias de los tamaños de las particulas en el conjunto de entrenamiento y en el conjunto de prueba son diferentes\n"
     ]
    }
   ],
   "source": [
    "# Prueba t de Student\n",
    "t_stat, t_p = stats.ttest_ind(train_feed_size, test_feed_size)\n",
    "#Nivel de significacia\n",
    "alpha = 0.05\n",
    "print(f\"t-Student: Estadístico={t_stat}, P-valor={t_p}\")\n",
    "if t_p > alpha:\n",
    "    print('No se rechaza HO: las medias son de los tamaños de las particulas en el conjunto de entrenamiento y en el conjunto de prueba son iguales')\n",
    "else:\n",
    "    print('Se rechaza HO:Las medias de los tamaños de las particulas en el conjunto de entrenamiento y en el conjunto de prueba son diferentes')"
   ]
  },
  {
   "cell_type": "code",
   "execution_count": 25,
   "metadata": {},
   "outputs": [
    {
     "name": "stdout",
     "output_type": "stream",
     "text": [
      "7.396035641526691\n"
     ]
    }
   ],
   "source": [
    "print(train_feed_size.mean())"
   ]
  },
  {
   "cell_type": "code",
   "execution_count": 26,
   "metadata": {},
   "outputs": [
    {
     "name": "stdout",
     "output_type": "stream",
     "text": [
      "7.268669977430076\n"
     ]
    }
   ],
   "source": [
    "print(test_feed_size.mean())"
   ]
  },
  {
   "cell_type": "markdown",
   "metadata": {},
   "source": [
    "La diferencia entre las medias puede afectar a la evaluacion del modelo ya que el conjunto de entrenamiento y prueba no tienen la misma distribucion en cuanto a tamaño de particulas esto infuye en que el modelo no pueda generalizar de manera adecuada los nuevos datos."
   ]
  },
  {
   "cell_type": "markdown",
   "metadata": {},
   "source": [
    "### Considera las concentraciones totales de todas las sustancias en las diferentes etapas: materia prima, concentrado rougher y concentrado final. ¿Observas algún valor anormal en la distribución total? Si es así, ¿merece la pena eliminar esos valores de ambas muestras? Describe los resultados y elimina las anomalías."
   ]
  },
  {
   "cell_type": "code",
   "execution_count": 27,
   "metadata": {},
   "outputs": [
    {
     "data": {
      "image/png": "[encoded data removed]",
      "text/plain": [
       "<Figure size 1500x600 with 3 Axes>"
      ]
     },
     "metadata": {},
     "output_type": "display_data"
    }
   ],
   "source": [
    "# Seleccionar columnas relevantes para el análisis\n",
    "rougher_input = gold_recovery_train[['rougher.input.feed_ag', \n",
    "                                     'rougher.input.feed_pb', \n",
    "                                     'rougher.input.feed_sol', \n",
    "                                     'rougher.input.feed_au']]\n",
    "\n",
    "rougher_output = gold_recovery_train[['rougher.output.concentrate_ag', \n",
    "                                      'rougher.output.concentrate_pb', \n",
    "                                      'rougher.output.concentrate_sol', \n",
    "                                      'rougher.output.concentrate_au']]\n",
    "\n",
    "final_output = gold_recovery_train[['final.output.concentrate_ag', \n",
    "                                    'final.output.concentrate_pb', \n",
    "                                    'final.output.concentrate_sol', \n",
    "                                    'final.output.concentrate_au']]\n",
    "\n",
    "# Plotear gráficos de cajas y bigotes\n",
    "plt.figure(figsize=(15, 6))\n",
    "\n",
    "plt.subplot(1, 3, 1)\n",
    "plt.boxplot([rougher_input['rougher.input.feed_ag'], \n",
    "             rougher_input['rougher.input.feed_pb'], \n",
    "             rougher_input['rougher.input.feed_sol'], \n",
    "             rougher_input['rougher.input.feed_au']], \n",
    "            labels=['Ag', 'Pb', 'Sol', 'Au'])\n",
    "plt.title('Rougher feed ')\n",
    "\n",
    "plt.subplot(1, 3, 2)\n",
    "plt.boxplot([rougher_output['rougher.output.concentrate_ag'], \n",
    "             rougher_output['rougher.output.concentrate_pb'], \n",
    "             rougher_output['rougher.output.concentrate_sol'], \n",
    "             rougher_output['rougher.output.concentrate_au']], \n",
    "            labels=['Ag', 'Pb', 'Sol', 'Au'])\n",
    "plt.title('Rougher concentrate')\n",
    "\n",
    "plt.subplot(1, 3, 3)\n",
    "plt.boxplot([final_output['final.output.concentrate_ag'], \n",
    "             final_output['final.output.concentrate_pb'], \n",
    "             final_output['final.output.concentrate_sol'], \n",
    "             final_output['final.output.concentrate_au']], \n",
    "            labels=['Ag', 'Pb', 'Sol', 'Au'])\n",
    "plt.title('Final concentrate')\n",
    "\n",
    "plt.tight_layout()\n",
    "plt.show()"
   ]
  },
  {
   "cell_type": "code",
   "execution_count": 28,
   "metadata": {},
   "outputs": [
    {
     "name": "stdout",
     "output_type": "stream",
     "text": [
      "Filas antes de eliminar outliers: 11017\n",
      "Filas después de eliminar outliers: 10450\n"
     ]
    },
    {
     "data": {
      "image/png": "[encoded data removed]",
      "text/plain": [
       "<Figure size 1000x600 with 2 Axes>"
      ]
     },
     "metadata": {},
     "output_type": "display_data"
    }
   ],
   "source": [
    "final_gold_concentration = gold_recovery_train['final.output.concentrate_au']\n",
    "#Funcion para eliminar outliers\n",
    "def eliminate_outliers(df, columna):\n",
    "    Q1 = df[columna].quantile(0.25)\n",
    "    Q3 = df[columna].quantile(0.75)\n",
    "    IQR = Q3 - Q1\n",
    "    lower_bound = Q1 - 1.5 * IQR\n",
    "    upper_bound = Q3 + 1.5 * IQR\n",
    "    return df[(df[columna] >= lower_bound) & (df[columna] <= upper_bound)]\n",
    "#Aplicar la funcion a la columna de concentracion de Au\n",
    "clean_gold_recovery_train = eliminate_outliers(gold_recovery_train, 'final.output.concentrate_au')\n",
    "#Verificar el numero de filas antes y despues de eliminar los outliers\n",
    "print(f\"Filas antes de eliminar outliers: {len(gold_recovery_train)}\")\n",
    "print(f\"Filas después de eliminar outliers: {len(clean_gold_recovery_train)}\")\n",
    "#Implementar histogramas para comparar distribuciones\n",
    "plt.figure(figsize=(10, 6))\n",
    "plt.subplot(1, 2, 1)\n",
    "plt.hist(gold_recovery_train['final.output.concentrate_au'], alpha=0.5, label='Original')\n",
    "plt.title ('Original distribution')\n",
    "plt.xlabel('Gold concentrate')\n",
    "plt.ylabel('Frequency')\n",
    "plt.legend()\n",
    "plt.subplot(1, 2, 2)\n",
    "plt.hist(clean_gold_recovery_train['final.output.concentrate_au'], alpha=0.5, label='Without outliers')\n",
    "plt.title('Distribution without outliers')\n",
    "plt.xlabel('Gold concentrate')\n",
    "plt.ylabel('Frequency')\n",
    "plt.legend()\n",
    "\n",
    "plt.tight_layout()\n",
    "plt.show()"
   ]
  },
  {
   "cell_type": "markdown",
   "metadata": {},
   "source": [
    "Observaciones los histogramas antes y despues de la eliminacion de outliers para el concentrado final del oro\n",
    "a) Es evidente que la mayor concentracion de valores se encuentas 40 y 50  y los valores atipicos por debajo de 10 (Original distribution)\n",
    "b) En el histograma (Distribution without outliers) parece estar mas normalizada y ajustada, con los valores fuera del rango eliminado (posibles errores o casos extremos)\n",
    "c) La eliminacion de outliers mejoro notablemente la representacion de los datos eliminado datos que podrian sesgar el analisis de mi modelo predictivo"
   ]
  },
  {
   "cell_type": "markdown",
   "metadata": {},
   "source": [
    "## Construye el modelo"
   ]
  },
  {
   "cell_type": "code",
   "execution_count": 29,
   "metadata": {},
   "outputs": [
    {
     "name": "stdout",
     "output_type": "stream",
     "text": [
      "Las columnas objetivo no están en gold_recovery_test.\n",
      "Las columnas objetivo ahora estan en gold_recovery_test.\n"
     ]
    }
   ],
   "source": [
    "# Definir las columnas objetivo\n",
    "target_columns = ['rougher.output.recovery', 'final.output.recovery']\n",
    "\n",
    "# Verificar si las columnas objetivo están en gold_recovery_test\n",
    "if all(column in gold_recovery_test.columns for column in target_columns):\n",
    "    print(\"Las columnas objetivo ya están en gold_recovery_test.\")\n",
    "else:\n",
    "    print(\"Las columnas objetivo no están en gold_recovery_test.\")\n",
    "\n",
    "# Agregar columnas objetivo a gold_recovery_test\n",
    "target_test = gold_recovery_full[target_columns].loc[gold_recovery_test.index].reset_index(drop=True)\n",
    "gold_recovery_test[target_columns] = target_test\n",
    "\n",
    "# Verificar nuevamente\n",
    "if all(column in gold_recovery_test.columns for column in target_columns):\n",
    "    print(\"Las columnas objetivo ahora estan en gold_recovery_test.\")\n",
    "else:\n",
    "    print(\"Las columnas objetivo todavia no estan en gold_recovery_test.\")"
   ]
  },
  {
   "cell_type": "code",
   "execution_count": 30,
   "metadata": {},
   "outputs": [
    {
     "name": "stdout",
     "output_type": "stream",
     "text": [
      "<class 'pandas.core.series.Series'>\n"
     ]
    }
   ],
   "source": [
    "#Preparar las caracteristicas y el objetivo\n",
    "features_rougher_recovery = gold_recovery_train.drop(['rougher.output.recovery'], axis=1)\n",
    "target_rougher_recovery = gold_recovery_train['rougher.output.recovery']\n",
    "print(type(target_rougher_recovery))"
   ]
  },
  {
   "cell_type": "code",
   "execution_count": 31,
   "metadata": {},
   "outputs": [],
   "source": [
    "features_train_rougher_recovery, features_test_rougher_recovery, target_train_rougher_recovery, target_test_rougher_recovery = train_test_split(features_rougher_recovery, target_rougher_recovery, test_size=0.2, random_state=12345)"
   ]
  },
  {
   "cell_type": "code",
   "execution_count": 32,
   "metadata": {},
   "outputs": [
    {
     "name": "stdout",
     "output_type": "stream",
     "text": [
      "(8813, 86)\n",
      "(8813,)\n",
      "(2204, 86)\n",
      "(2204,)\n"
     ]
    }
   ],
   "source": [
    "print(features_train_rougher_recovery.shape)\n",
    "print(target_train_rougher_recovery.shape)\n",
    "print(features_test_rougher_recovery.shape)\n",
    "print(target_test_rougher_recovery.shape)"
   ]
  },
  {
   "cell_type": "code",
   "execution_count": 33,
   "metadata": {},
   "outputs": [],
   "source": [
    "# Seleccionar columnas numéricas\n",
    "numeric_columns_rougher = features_train_rougher_recovery.select_dtypes(include=['float64']).columns"
   ]
  },
  {
   "cell_type": "code",
   "execution_count": 34,
   "metadata": {},
   "outputs": [],
   "source": [
    "scaler_rougher = StandardScaler()"
   ]
  },
  {
   "cell_type": "code",
   "execution_count": 35,
   "metadata": {},
   "outputs": [],
   "source": [
    "scaler_rougher = scaler_rougher.fit(features_train_rougher_recovery[numeric_columns_rougher])\n",
    "features_train_rougher_recovery = scaler_rougher.transform(features_train_rougher_recovery[numeric_columns_rougher])\n",
    "features_test_rougher = scaler_rougher.transform(features_test_rougher_recovery[numeric_columns_rougher])"
   ]
  },
  {
   "cell_type": "code",
   "execution_count": 36,
   "metadata": {},
   "outputs": [
    {
     "name": "stdout",
     "output_type": "stream",
     "text": [
      "      final.output.concentrate_ag  final.output.concentrate_pb  \\\n",
      "0                        2.343972                     1.296024   \n",
      "1                       -0.080225                    -2.403904   \n",
      "2                       -1.648164                    -1.955693   \n",
      "3                        0.806204                     0.985977   \n",
      "4                       -0.224204                    -0.485399   \n",
      "...                           ...                          ...   \n",
      "8808                    -0.943315                    -1.897008   \n",
      "8809                     0.026980                     0.664442   \n",
      "8810                    -0.409881                    -0.557130   \n",
      "8811                    -0.676084                    -0.184898   \n",
      "8812                     0.432325                    -0.124667   \n",
      "\n",
      "      final.output.concentrate_sol  final.output.concentrate_au  \\\n",
      "0                         0.830250                    -1.813371   \n",
      "1                        -0.175232                     1.127743   \n",
      "2                         0.008177                     1.445550   \n",
      "3                        -0.523107                    -0.678111   \n",
      "4                        -0.631729                     0.473938   \n",
      "...                            ...                          ...   \n",
      "8808                      0.851680                     1.131397   \n",
      "8809                     -0.757658                    -0.166577   \n",
      "8810                      0.406606                     0.231311   \n",
      "8811                     -0.210665                     0.431259   \n",
      "8812                      2.171322                    -0.216763   \n",
      "\n",
      "      final.output.recovery  final.output.tail_ag  final.output.tail_pb  \\\n",
      "0                  1.021582              1.748078              0.142634   \n",
      "1                  0.809624             -0.422496             -1.832175   \n",
      "2                 -0.322797             -1.003630             -0.732664   \n",
      "3                 -0.342787             -1.318077             -0.818345   \n",
      "4                  0.253649             -0.692832             -1.869855   \n",
      "...                     ...                   ...                   ...   \n",
      "8808              -0.655832             -0.449185             -0.013644   \n",
      "8809              -0.508191             -0.437046              0.156828   \n",
      "8810               0.465766             -0.565254             -0.393504   \n",
      "8811              -2.107993             -1.023464             -1.485453   \n",
      "8812               0.992083              1.175573              0.934548   \n",
      "\n",
      "      final.output.tail_sol  final.output.tail_au  \\\n",
      "0                 -1.359798              0.378434   \n",
      "1                  0.760169             -1.712541   \n",
      "2                  0.386531             -0.272124   \n",
      "3                  1.089434             -0.321057   \n",
      "4                  0.000049             -1.967802   \n",
      "...                     ...                   ...   \n",
      "8808              -0.484165              0.223491   \n",
      "8809              -1.069279              0.657175   \n",
      "8810              -0.460076             -0.330484   \n",
      "8811              -0.075278             -1.194457   \n",
      "8812              -0.237890              0.027089   \n",
      "\n",
      "      primary_cleaner.input.sulfate  ...  \\\n",
      "0                          2.118694  ...   \n",
      "1                         -1.208041  ...   \n",
      "2                         -0.466449  ...   \n",
      "3                         -0.766981  ...   \n",
      "4                         -1.173639  ...   \n",
      "...                             ...  ...   \n",
      "8808                       0.526561  ...   \n",
      "8809                      -0.538491  ...   \n",
      "8810                      -0.040639  ...   \n",
      "8811                      -1.574685  ...   \n",
      "8812                       1.584721  ...   \n",
      "\n",
      "      secondary_cleaner.state.floatbank4_a_level  \\\n",
      "0                                       1.439980   \n",
      "1                                      -0.439336   \n",
      "2                                      -0.456067   \n",
      "3                                      -6.052637   \n",
      "4                                      -0.441409   \n",
      "...                                          ...   \n",
      "8808                                   -0.559567   \n",
      "8809                                    1.431158   \n",
      "8810                                    1.442430   \n",
      "8811                                   -0.451500   \n",
      "8812                                   -0.420860   \n",
      "\n",
      "      secondary_cleaner.state.floatbank4_b_air  \\\n",
      "0                                    -0.924000   \n",
      "1                                    -1.121446   \n",
      "2                                    -1.301990   \n",
      "3                                    -0.958289   \n",
      "4                                     0.931355   \n",
      "...                                        ...   \n",
      "8808                                 -0.197435   \n",
      "8809                                 -0.933475   \n",
      "8810                                 -0.922970   \n",
      "8811                                 -1.309381   \n",
      "8812                                  0.176835   \n",
      "\n",
      "      secondary_cleaner.state.floatbank4_b_level  \\\n",
      "0                                       0.921637   \n",
      "1                                      -0.720905   \n",
      "2                                      -0.718074   \n",
      "3                                      -5.645889   \n",
      "4                                      -0.722649   \n",
      "...                                          ...   \n",
      "8808                                   -0.941246   \n",
      "8809                                    0.918040   \n",
      "8810                                    0.952514   \n",
      "8811                                   -0.761168   \n",
      "8812                                   -0.707249   \n",
      "\n",
      "      secondary_cleaner.state.floatbank5_a_air  \\\n",
      "0                                    -1.101300   \n",
      "1                                     0.095071   \n",
      "2                                    -1.449761   \n",
      "3                                     0.429675   \n",
      "4                                     1.456977   \n",
      "...                                        ...   \n",
      "8808                                 -0.554895   \n",
      "8809                                 -1.103288   \n",
      "8810                                 -1.115417   \n",
      "8811                                 -1.306671   \n",
      "8812                                 -2.873209   \n",
      "\n",
      "      secondary_cleaner.state.floatbank5_a_level  \\\n",
      "0                                       2.071805   \n",
      "1                                      -0.400382   \n",
      "2                                      -0.456929   \n",
      "3                                      -0.486841   \n",
      "4                                      -0.460968   \n",
      "...                                          ...   \n",
      "8808                                   -0.852785   \n",
      "8809                                    2.009846   \n",
      "8810                                    2.028824   \n",
      "8811                                   -1.689052   \n",
      "8812                                   -0.435970   \n",
      "\n",
      "      secondary_cleaner.state.floatbank5_b_air  \\\n",
      "0                                    -0.803604   \n",
      "1                                    -0.831751   \n",
      "2                                    -1.150532   \n",
      "3                                     1.061009   \n",
      "4                                     1.742102   \n",
      "...                                        ...   \n",
      "8808                                 -0.805297   \n",
      "8809                                 -1.331292   \n",
      "8810                                 -1.318098   \n",
      "8811                                 -1.146927   \n",
      "8812                                  0.377577   \n",
      "\n",
      "      secondary_cleaner.state.floatbank5_b_level  \\\n",
      "0                                       1.970981   \n",
      "1                                      -0.416051   \n",
      "2                                      -0.421520   \n",
      "3                                      -0.436902   \n",
      "4                                      -0.427850   \n",
      "...                                          ...   \n",
      "8808                                    4.604729   \n",
      "8809                                    1.939371   \n",
      "8810                                    1.948129   \n",
      "8811                                   -1.622646   \n",
      "8812                                   -0.431780   \n",
      "\n",
      "      secondary_cleaner.state.floatbank6_a_air  \\\n",
      "0                                    -0.022050   \n",
      "1                                     0.858772   \n",
      "2                                    -0.387799   \n",
      "3                                     0.865356   \n",
      "4                                     0.869322   \n",
      "...                                        ...   \n",
      "8808                                 -0.028391   \n",
      "8809                                  0.870178   \n",
      "8810                                  0.509151   \n",
      "8811                                 -0.040664   \n",
      "8812                                 -0.029991   \n",
      "\n",
      "      secondary_cleaner.state.floatbank6_a_level  calculated_recovery  \n",
      "0                                       2.766606             0.618290  \n",
      "1                                       0.295847             0.001994  \n",
      "2                                       0.257338            -0.485530  \n",
      "3                                       0.172822            -0.839067  \n",
      "4                                       0.207278             0.307676  \n",
      "...                                          ...                  ...  \n",
      "8808                                   -2.439524            -0.004086  \n",
      "8809                                    0.159803            -0.085524  \n",
      "8810                                    0.230443             0.263836  \n",
      "8811                                   -2.296857            -1.638021  \n",
      "8812                                   -2.288495             0.460289  \n",
      "\n",
      "[8813 rows x 86 columns]\n",
      "       final.output.concentrate_ag  final.output.concentrate_pb  \\\n",
      "2507                      3.545798                     9.851455   \n",
      "784                       4.824675                    11.481948   \n",
      "2728                      5.839752                    11.274206   \n",
      "7113                      4.942623                    10.997759   \n",
      "7947                      4.016809                    12.077938   \n",
      "...                            ...                          ...   \n",
      "9918                      3.688960                    10.370795   \n",
      "10981                     4.205796                    13.116198   \n",
      "6245                      3.570754                    10.713485   \n",
      "7026                      5.252577                    10.675713   \n",
      "3535                      5.743269                     9.432255   \n",
      "\n",
      "       final.output.concentrate_sol  final.output.concentrate_au  \\\n",
      "2507                       8.507705                    46.196534   \n",
      "784                       11.837219                    39.016961   \n",
      "2728                       8.724725                    41.277954   \n",
      "7113                       8.540375                    43.321975   \n",
      "7947                       6.546438                    44.472019   \n",
      "...                             ...                          ...   \n",
      "9918                       8.102460                    47.860485   \n",
      "10981                      6.791434                    43.237559   \n",
      "6245                      10.328550                    47.194214   \n",
      "7026                       8.936191                    43.229640   \n",
      "3535                       9.144362                    43.068739   \n",
      "\n",
      "       final.output.recovery  final.output.tail_ag  final.output.tail_pb  \\\n",
      "2507               57.906031              7.655491              1.990385   \n",
      "784                70.529015              9.814662              1.839589   \n",
      "2728               72.769384              7.347422              1.451571   \n",
      "7113               65.949184              9.723271              3.835569   \n",
      "7947               44.440020              7.401757              4.793900   \n",
      "...                      ...                   ...                   ...   \n",
      "9918               64.465578              9.183818              2.938531   \n",
      "10981              63.510974              8.994415              3.192404   \n",
      "6245               63.871974              8.206799              2.996367   \n",
      "7026               68.712415              9.800471              3.721923   \n",
      "3535               69.594188              9.554295              2.475588   \n",
      "\n",
      "       final.output.tail_sol  final.output.tail_au  \\\n",
      "2507               10.701570              3.442641   \n",
      "784                 9.031910              2.473069   \n",
      "2728               10.978022              2.382536   \n",
      "7113                8.680737              3.434841   \n",
      "7947               11.422365              4.724371   \n",
      "...                      ...                   ...   \n",
      "9918                9.288322              2.663825   \n",
      "10981              10.247063              2.147700   \n",
      "6245               11.060981              2.809251   \n",
      "7026               10.184412              3.217493   \n",
      "3535               10.464410              3.087964   \n",
      "\n",
      "       primary_cleaner.input.sulfate  ...  \\\n",
      "2507                      115.122462  ...   \n",
      "784                       149.133799  ...   \n",
      "2728                      130.700942  ...   \n",
      "7113                      141.682753  ...   \n",
      "7947                      138.897991  ...   \n",
      "...                              ...  ...   \n",
      "9918                      140.224008  ...   \n",
      "10981                      98.617411  ...   \n",
      "6245                      131.115735  ...   \n",
      "7026                      152.192774  ...   \n",
      "3535                      117.710446  ...   \n",
      "\n",
      "       secondary_cleaner.state.floatbank4_a_level  \\\n",
      "2507                                  -500.076577   \n",
      "784                                   -500.604913   \n",
      "2728                                  -500.695760   \n",
      "7113                                  -501.121190   \n",
      "7947                                  -500.033401   \n",
      "...                                           ...   \n",
      "9918                                  -498.419302   \n",
      "10981                                 -501.519236   \n",
      "6245                                  -401.726929   \n",
      "7026                                  -499.912187   \n",
      "3535                                  -399.689932   \n",
      "\n",
      "       secondary_cleaner.state.floatbank4_b_air  \\\n",
      "2507                                   8.079013   \n",
      "784                                   13.936049   \n",
      "2728                                  13.967190   \n",
      "7113                                  13.025214   \n",
      "7947                                   9.947193   \n",
      "...                                         ...   \n",
      "9918                                  20.061112   \n",
      "10981                                 20.028399   \n",
      "6245                                  23.016287   \n",
      "7026                                  12.924778   \n",
      "3535                                  10.004175   \n",
      "\n",
      "       secondary_cleaner.state.floatbank4_b_level  \\\n",
      "2507                                  -504.589172   \n",
      "784                                   -499.987596   \n",
      "2728                                  -505.314662   \n",
      "7113                                  -382.130972   \n",
      "7947                                  -399.904476   \n",
      "...                                           ...   \n",
      "9918                                  -497.566396   \n",
      "10981                                 -500.042579   \n",
      "6245                                  -401.981097   \n",
      "7026                                  -380.295240   \n",
      "3535                                  -402.739930   \n",
      "\n",
      "       secondary_cleaner.state.floatbank5_a_air  \\\n",
      "2507                                   7.957086   \n",
      "784                                   11.973199   \n",
      "2728                                  14.039070   \n",
      "7113                                  18.001837   \n",
      "7947                                  10.955814   \n",
      "...                                         ...   \n",
      "9918                                  24.988277   \n",
      "10981                                 17.960232   \n",
      "6245                                  26.010772   \n",
      "7026                                  17.996707   \n",
      "3535                                   9.969473   \n",
      "\n",
      "       secondary_cleaner.state.floatbank5_a_level  \\\n",
      "2507                                  -499.841349   \n",
      "784                                   -499.054362   \n",
      "2728                                  -500.204119   \n",
      "7113                                  -500.818444   \n",
      "7947                                  -500.452160   \n",
      "...                                           ...   \n",
      "9918                                  -499.873212   \n",
      "10981                                 -500.171199   \n",
      "6245                                  -450.493785   \n",
      "7026                                  -500.240306   \n",
      "3535                                  -399.212831   \n",
      "\n",
      "       secondary_cleaner.state.floatbank5_b_air  \\\n",
      "2507                                   6.010644   \n",
      "784                                    9.937844   \n",
      "2728                                  12.051891   \n",
      "7113                                  13.004722   \n",
      "7947                                   9.004134   \n",
      "...                                         ...   \n",
      "9918                                  23.009956   \n",
      "10981                                 12.972321   \n",
      "6245                                  24.015628   \n",
      "7026                                  12.984781   \n",
      "3535                                   4.937855   \n",
      "\n",
      "       secondary_cleaner.state.floatbank5_b_level  \\\n",
      "2507                                  -499.676174   \n",
      "784                                   -499.789166   \n",
      "2728                                  -500.681041   \n",
      "7113                                  -500.372540   \n",
      "7947                                  -500.221931   \n",
      "...                                           ...   \n",
      "9918                                  -500.151398   \n",
      "10981                                 -499.895225   \n",
      "6245                                  -450.110573   \n",
      "7026                                  -499.918449   \n",
      "3535                                  -399.196434   \n",
      "\n",
      "       secondary_cleaner.state.floatbank6_a_air  \\\n",
      "2507                                  17.945783   \n",
      "784                                   20.005966   \n",
      "2728                                  24.989932   \n",
      "7113                                  15.040659   \n",
      "7947                                  12.004579   \n",
      "...                                         ...   \n",
      "9918                                  24.985981   \n",
      "10981                                 19.997074   \n",
      "6245                                  29.994625   \n",
      "7026                                  19.995307   \n",
      "3535                                  22.941742   \n",
      "\n",
      "       secondary_cleaner.state.floatbank6_a_level  calculated_recovery  \n",
      "2507                                  -499.218119            70.768168  \n",
      "784                                   -499.022308            88.505520  \n",
      "2728                                  -499.589152            80.200369  \n",
      "7113                                  -501.567598            83.618245  \n",
      "7947                                  -500.277781            81.924995  \n",
      "...                                           ...                  ...  \n",
      "9918                                  -499.789679            87.544898  \n",
      "10981                                 -502.543258            86.152589  \n",
      "6245                                  -500.267008            82.912466  \n",
      "7026                                  -499.607433            84.170558  \n",
      "3535                                  -500.207946            82.805321  \n",
      "\n",
      "[2204 rows x 86 columns]\n"
     ]
    }
   ],
   "source": [
    "features_train_rougher_recovery= pd.DataFrame(features_train_rougher_recovery, columns=numeric_columns_rougher)\n",
    "features_test_rougher_recovery= pd.DataFrame(features_test_rougher_recovery, columns=numeric_columns_rougher)\n",
    "\n",
    "features_train_rougher_recovery[numeric_columns_rougher] = features_train_rougher_recovery\n",
    "features_test_rougher_recovery[numeric_columns_rougher] = features_test_rougher_recovery\n",
    "print(features_train_rougher_recovery)\n",
    "print(features_test_rougher_recovery)"
   ]
  },
  {
   "cell_type": "code",
   "execution_count": 37,
   "metadata": {},
   "outputs": [
    {
     "name": "stdout",
     "output_type": "stream",
     "text": [
      "<class 'pandas.core.series.Series'>\n"
     ]
    }
   ],
   "source": [
    "#Preparar las caracteristicas y el objetivo\n",
    "features_final_recovery = gold_recovery_train.drop(['rougher.output.recovery'], axis=1)\n",
    "target_final_recovery = gold_recovery_train['rougher.output.recovery']\n",
    "print(type(target_final_recovery))"
   ]
  },
  {
   "cell_type": "code",
   "execution_count": 38,
   "metadata": {},
   "outputs": [],
   "source": [
    "features_train_final_recovery, features_test_final_recovery, target_train_final_recovery, target_test_final_recovery = train_test_split(features_final_recovery, target_final_recovery, test_size=0.2, random_state=12345)"
   ]
  },
  {
   "cell_type": "code",
   "execution_count": 39,
   "metadata": {},
   "outputs": [
    {
     "name": "stdout",
     "output_type": "stream",
     "text": [
      "(8813, 86)\n",
      "(8813,)\n",
      "(2204, 86)\n",
      "(2204,)\n"
     ]
    }
   ],
   "source": [
    "print(features_train_final_recovery.shape)\n",
    "print(target_train_final_recovery.shape)\n",
    "print(features_test_final_recovery.shape)\n",
    "print(target_test_final_recovery .shape)"
   ]
  },
  {
   "cell_type": "code",
   "execution_count": 40,
   "metadata": {},
   "outputs": [],
   "source": [
    "numeric_columns_final = features_train_final_recovery.select_dtypes(include=['float64']).columns"
   ]
  },
  {
   "cell_type": "code",
   "execution_count": 41,
   "metadata": {},
   "outputs": [],
   "source": [
    "scaler_final = StandardScaler()\n"
   ]
  },
  {
   "cell_type": "code",
   "execution_count": 42,
   "metadata": {},
   "outputs": [],
   "source": [
    "scaler_final = scaler_final.fit(features_train_final_recovery[numeric_columns_final])\n",
    "features_train_final_recovery = scaler_final.transform(features_train_final_recovery[numeric_columns_final])\n",
    "features_test_final_recovery= scaler_final.transform(features_test_final_recovery[numeric_columns_final])\n"
   ]
  },
  {
   "cell_type": "code",
   "execution_count": 43,
   "metadata": {},
   "outputs": [
    {
     "name": "stdout",
     "output_type": "stream",
     "text": [
      "      final.output.concentrate_ag  final.output.concentrate_pb  \\\n",
      "0                        2.343972                     1.296024   \n",
      "1                       -0.080225                    -2.403904   \n",
      "2                       -1.648164                    -1.955693   \n",
      "3                        0.806204                     0.985977   \n",
      "4                       -0.224204                    -0.485399   \n",
      "...                           ...                          ...   \n",
      "8808                    -0.943315                    -1.897008   \n",
      "8809                     0.026980                     0.664442   \n",
      "8810                    -0.409881                    -0.557130   \n",
      "8811                    -0.676084                    -0.184898   \n",
      "8812                     0.432325                    -0.124667   \n",
      "\n",
      "      final.output.concentrate_sol  final.output.concentrate_au  \\\n",
      "0                         0.830250                    -1.813371   \n",
      "1                        -0.175232                     1.127743   \n",
      "2                         0.008177                     1.445550   \n",
      "3                        -0.523107                    -0.678111   \n",
      "4                        -0.631729                     0.473938   \n",
      "...                            ...                          ...   \n",
      "8808                      0.851680                     1.131397   \n",
      "8809                     -0.757658                    -0.166577   \n",
      "8810                      0.406606                     0.231311   \n",
      "8811                     -0.210665                     0.431259   \n",
      "8812                      2.171322                    -0.216763   \n",
      "\n",
      "      final.output.recovery  final.output.tail_ag  final.output.tail_pb  \\\n",
      "0                  1.021582              1.748078              0.142634   \n",
      "1                  0.809624             -0.422496             -1.832175   \n",
      "2                 -0.322797             -1.003630             -0.732664   \n",
      "3                 -0.342787             -1.318077             -0.818345   \n",
      "4                  0.253649             -0.692832             -1.869855   \n",
      "...                     ...                   ...                   ...   \n",
      "8808              -0.655832             -0.449185             -0.013644   \n",
      "8809              -0.508191             -0.437046              0.156828   \n",
      "8810               0.465766             -0.565254             -0.393504   \n",
      "8811              -2.107993             -1.023464             -1.485453   \n",
      "8812               0.992083              1.175573              0.934548   \n",
      "\n",
      "      final.output.tail_sol  final.output.tail_au  \\\n",
      "0                 -1.359798              0.378434   \n",
      "1                  0.760169             -1.712541   \n",
      "2                  0.386531             -0.272124   \n",
      "3                  1.089434             -0.321057   \n",
      "4                  0.000049             -1.967802   \n",
      "...                     ...                   ...   \n",
      "8808              -0.484165              0.223491   \n",
      "8809              -1.069279              0.657175   \n",
      "8810              -0.460076             -0.330484   \n",
      "8811              -0.075278             -1.194457   \n",
      "8812              -0.237890              0.027089   \n",
      "\n",
      "      primary_cleaner.input.sulfate  ...  \\\n",
      "0                          2.118694  ...   \n",
      "1                         -1.208041  ...   \n",
      "2                         -0.466449  ...   \n",
      "3                         -0.766981  ...   \n",
      "4                         -1.173639  ...   \n",
      "...                             ...  ...   \n",
      "8808                       0.526561  ...   \n",
      "8809                      -0.538491  ...   \n",
      "8810                      -0.040639  ...   \n",
      "8811                      -1.574685  ...   \n",
      "8812                       1.584721  ...   \n",
      "\n",
      "      secondary_cleaner.state.floatbank4_a_level  \\\n",
      "0                                       1.439980   \n",
      "1                                      -0.439336   \n",
      "2                                      -0.456067   \n",
      "3                                      -6.052637   \n",
      "4                                      -0.441409   \n",
      "...                                          ...   \n",
      "8808                                   -0.559567   \n",
      "8809                                    1.431158   \n",
      "8810                                    1.442430   \n",
      "8811                                   -0.451500   \n",
      "8812                                   -0.420860   \n",
      "\n",
      "      secondary_cleaner.state.floatbank4_b_air  \\\n",
      "0                                    -0.924000   \n",
      "1                                    -1.121446   \n",
      "2                                    -1.301990   \n",
      "3                                    -0.958289   \n",
      "4                                     0.931355   \n",
      "...                                        ...   \n",
      "8808                                 -0.197435   \n",
      "8809                                 -0.933475   \n",
      "8810                                 -0.922970   \n",
      "8811                                 -1.309381   \n",
      "8812                                  0.176835   \n",
      "\n",
      "      secondary_cleaner.state.floatbank4_b_level  \\\n",
      "0                                       0.921637   \n",
      "1                                      -0.720905   \n",
      "2                                      -0.718074   \n",
      "3                                      -5.645889   \n",
      "4                                      -0.722649   \n",
      "...                                          ...   \n",
      "8808                                   -0.941246   \n",
      "8809                                    0.918040   \n",
      "8810                                    0.952514   \n",
      "8811                                   -0.761168   \n",
      "8812                                   -0.707249   \n",
      "\n",
      "      secondary_cleaner.state.floatbank5_a_air  \\\n",
      "0                                    -1.101300   \n",
      "1                                     0.095071   \n",
      "2                                    -1.449761   \n",
      "3                                     0.429675   \n",
      "4                                     1.456977   \n",
      "...                                        ...   \n",
      "8808                                 -0.554895   \n",
      "8809                                 -1.103288   \n",
      "8810                                 -1.115417   \n",
      "8811                                 -1.306671   \n",
      "8812                                 -2.873209   \n",
      "\n",
      "      secondary_cleaner.state.floatbank5_a_level  \\\n",
      "0                                       2.071805   \n",
      "1                                      -0.400382   \n",
      "2                                      -0.456929   \n",
      "3                                      -0.486841   \n",
      "4                                      -0.460968   \n",
      "...                                          ...   \n",
      "8808                                   -0.852785   \n",
      "8809                                    2.009846   \n",
      "8810                                    2.028824   \n",
      "8811                                   -1.689052   \n",
      "8812                                   -0.435970   \n",
      "\n",
      "      secondary_cleaner.state.floatbank5_b_air  \\\n",
      "0                                    -0.803604   \n",
      "1                                    -0.831751   \n",
      "2                                    -1.150532   \n",
      "3                                     1.061009   \n",
      "4                                     1.742102   \n",
      "...                                        ...   \n",
      "8808                                 -0.805297   \n",
      "8809                                 -1.331292   \n",
      "8810                                 -1.318098   \n",
      "8811                                 -1.146927   \n",
      "8812                                  0.377577   \n",
      "\n",
      "      secondary_cleaner.state.floatbank5_b_level  \\\n",
      "0                                       1.970981   \n",
      "1                                      -0.416051   \n",
      "2                                      -0.421520   \n",
      "3                                      -0.436902   \n",
      "4                                      -0.427850   \n",
      "...                                          ...   \n",
      "8808                                    4.604729   \n",
      "8809                                    1.939371   \n",
      "8810                                    1.948129   \n",
      "8811                                   -1.622646   \n",
      "8812                                   -0.431780   \n",
      "\n",
      "      secondary_cleaner.state.floatbank6_a_air  \\\n",
      "0                                    -0.022050   \n",
      "1                                     0.858772   \n",
      "2                                    -0.387799   \n",
      "3                                     0.865356   \n",
      "4                                     0.869322   \n",
      "...                                        ...   \n",
      "8808                                 -0.028391   \n",
      "8809                                  0.870178   \n",
      "8810                                  0.509151   \n",
      "8811                                 -0.040664   \n",
      "8812                                 -0.029991   \n",
      "\n",
      "      secondary_cleaner.state.floatbank6_a_level  calculated_recovery  \n",
      "0                                       2.766606             0.618290  \n",
      "1                                       0.295847             0.001994  \n",
      "2                                       0.257338            -0.485530  \n",
      "3                                       0.172822            -0.839067  \n",
      "4                                       0.207278             0.307676  \n",
      "...                                          ...                  ...  \n",
      "8808                                   -2.439524            -0.004086  \n",
      "8809                                    0.159803            -0.085524  \n",
      "8810                                    0.230443             0.263836  \n",
      "8811                                   -2.296857            -1.638021  \n",
      "8812                                   -2.288495             0.460289  \n",
      "\n",
      "[8813 rows x 86 columns]\n",
      "      final.output.concentrate_ag  final.output.concentrate_pb  \\\n",
      "0                       -1.190637                    -0.203269   \n",
      "1                       -0.244080                     0.816636   \n",
      "2                        0.507226                     0.686690   \n",
      "3                       -0.156781                     0.513767   \n",
      "4                       -0.842019                     1.189441   \n",
      "...                           ...                          ...   \n",
      "2199                    -1.084676                     0.121588   \n",
      "2200                    -0.702141                     1.838892   \n",
      "2201                    -1.172166                     0.335948   \n",
      "2202                     0.072631                     0.312320   \n",
      "2203                     0.435815                    -0.465487   \n",
      "\n",
      "      final.output.concentrate_sol  final.output.concentrate_au  \\\n",
      "0                        -0.383823                     0.489995   \n",
      "1                         0.783486                    -1.198544   \n",
      "2                        -0.307737                    -0.666789   \n",
      "3                        -0.372369                    -0.186062   \n",
      "4                        -1.071433                     0.084412   \n",
      "...                            ...                          ...   \n",
      "2199                     -0.525900                     0.881334   \n",
      "2200                     -0.985538                    -0.205916   \n",
      "2201                      0.254555                     0.724636   \n",
      "2202                     -0.233599                    -0.207779   \n",
      "2203                     -0.160615                    -0.245620   \n",
      "\n",
      "      final.output.recovery  final.output.tail_ag  final.output.tail_pb  \\\n",
      "0                 -1.016527             -0.877257             -0.699610   \n",
      "1                  0.420246              0.050916             -0.857700   \n",
      "2                  0.675249             -1.009687             -1.264486   \n",
      "3                 -0.101039              0.011630              1.234827   \n",
      "4                 -2.549254             -0.986330              2.239513   \n",
      "...                     ...                   ...                   ...   \n",
      "2199              -0.269906             -0.220267              0.294398   \n",
      "2200              -0.378561             -0.301687              0.560551   \n",
      "2201              -0.337472             -0.640263              0.355032   \n",
      "2202               0.213477              0.044816              1.115684   \n",
      "2203               0.313842             -0.061009             -0.190938   \n",
      "\n",
      "      final.output.tail_sol  final.output.tail_au  \\\n",
      "0                 -0.084889              0.550849   \n",
      "1                 -0.698004             -0.657214   \n",
      "2                  0.016626             -0.770017   \n",
      "3                 -0.826959              0.541131   \n",
      "4                  0.179793              2.147854   \n",
      "...                     ...                   ...   \n",
      "2199              -0.603848             -0.419537   \n",
      "2200              -0.251789             -1.062616   \n",
      "2201               0.047090             -0.238340   \n",
      "2202              -0.274795              0.270320   \n",
      "2203              -0.171977              0.108930   \n",
      "\n",
      "      primary_cleaner.input.sulfate  ...  \\\n",
      "0                         -0.697700  ...   \n",
      "1                          0.246155  ...   \n",
      "2                         -0.265379  ...   \n",
      "3                          0.039379  ...   \n",
      "4                         -0.037901  ...   \n",
      "...                             ...  ...   \n",
      "2199                      -0.001103  ...   \n",
      "2200                      -1.155734  ...   \n",
      "2201                      -0.253868  ...   \n",
      "2202                       0.331045  ...   \n",
      "2203                      -0.625880  ...   \n",
      "\n",
      "      secondary_cleaner.state.floatbank4_a_level  \\\n",
      "0                                      -0.442240   \n",
      "1                                      -0.452138   \n",
      "2                                      -0.453840   \n",
      "3                                      -0.461810   \n",
      "4                                      -0.441431   \n",
      "...                                          ...   \n",
      "2199                                   -0.411191   \n",
      "2200                                   -0.469268   \n",
      "2201                                    1.400321   \n",
      "2202                                   -0.439160   \n",
      "2203                                    1.438484   \n",
      "\n",
      "      secondary_cleaner.state.floatbank4_b_air  \\\n",
      "0                                    -1.287243   \n",
      "1                                    -0.203097   \n",
      "2                                    -0.197332   \n",
      "3                                    -0.371694   \n",
      "4                                    -0.941440   \n",
      "...                                        ...   \n",
      "2199                                  0.930662   \n",
      "2200                                  0.924607   \n",
      "2201                                  1.477670   \n",
      "2202                                 -0.390285   \n",
      "2203                                 -0.930893   \n",
      "\n",
      "      secondary_cleaner.state.floatbank4_b_level  \\\n",
      "0                                      -0.793584   \n",
      "1                                      -0.717926   \n",
      "2                                      -0.805512   \n",
      "3                                       1.219827   \n",
      "4                                       0.927602   \n",
      "...                                          ...   \n",
      "2199                                   -0.678118   \n",
      "2200                                   -0.718830   \n",
      "2201                                    0.893459   \n",
      "2202                                    1.250010   \n",
      "2203                                    0.880983   \n",
      "\n",
      "      secondary_cleaner.state.floatbank5_a_air  \\\n",
      "0                                    -1.453018   \n",
      "1                                    -0.768105   \n",
      "2                                    -0.415789   \n",
      "3                                     0.260025   \n",
      "4                                    -0.941611   \n",
      "...                                        ...   \n",
      "2199                                  1.451501   \n",
      "2200                                  0.252930   \n",
      "2201                                  1.625879   \n",
      "2202                                  0.259151   \n",
      "2203                                 -1.109823   \n",
      "\n",
      "      secondary_cleaner.state.floatbank5_a_level  \\\n",
      "0                                      -0.444753   \n",
      "1                                      -0.425198   \n",
      "2                                      -0.453767   \n",
      "3                                      -0.469031   \n",
      "4                                      -0.459930   \n",
      "...                                          ...   \n",
      "2199                                   -0.445544   \n",
      "2200                                   -0.452949   \n",
      "2201                                    0.781430   \n",
      "2202                                   -0.454666   \n",
      "2203                                    2.055654   \n",
      "\n",
      "      secondary_cleaner.state.floatbank5_b_air  \\\n",
      "0                                    -1.151615   \n",
      "1                                    -0.482715   \n",
      "2                                    -0.122640   \n",
      "3                                     0.039651   \n",
      "4                                    -0.641749   \n",
      "...                                        ...   \n",
      "2199                                  1.743793   \n",
      "2200                                  0.034133   \n",
      "2201                                  1.915084   \n",
      "2202                                  0.036255   \n",
      "2203                                 -1.334338   \n",
      "\n",
      "      secondary_cleaner.state.floatbank5_b_level  \\\n",
      "0                                      -0.420857   \n",
      "1                                      -0.423558   \n",
      "2                                      -0.444871   \n",
      "3                                      -0.437498   \n",
      "4                                      -0.433899   \n",
      "...                                          ...   \n",
      "2199                                   -0.432214   \n",
      "2200                                   -0.426092   \n",
      "2201                                    0.763617   \n",
      "2202                                   -0.426647   \n",
      "2203                                    1.980318   \n",
      "\n",
      "      secondary_cleaner.state.floatbank6_a_air  \\\n",
      "0                                    -0.397606   \n",
      "1                                    -0.027984   \n",
      "2                                     0.866198   \n",
      "3                                    -0.918819   \n",
      "4                                    -1.463528   \n",
      "...                                        ...   \n",
      "2199                                  0.865489   \n",
      "2200                                 -0.029580   \n",
      "2201                                  1.764099   \n",
      "2202                                 -0.029897   \n",
      "2203                                  0.498728   \n",
      "\n",
      "      secondary_cleaner.state.floatbank6_a_level  calculated_recovery  \n",
      "0                                       0.236016            -0.877175  \n",
      "1                                       0.240947             0.423281  \n",
      "2                                       0.226673            -0.185631  \n",
      "3                                       0.176853             0.064958  \n",
      "4                                       0.209332            -0.059186  \n",
      "...                                          ...                  ...  \n",
      "2199                                    0.221623             0.352850  \n",
      "2200                                    0.152285             0.250770  \n",
      "2201                                    0.209604             0.013213  \n",
      "2202                                    0.226213             0.105453  \n",
      "2203                                    0.211091             0.005357  \n",
      "\n",
      "[2204 rows x 86 columns]\n"
     ]
    }
   ],
   "source": [
    "features_train_final_recovery = pd.DataFrame(features_train_final_recovery, columns=numeric_columns_final)\n",
    "features_test_final_recovery= pd.DataFrame(features_test_final_recovery, columns=numeric_columns_final)\n",
    "features_train_final_recovery[numeric_columns_final] = features_train_final_recovery\n",
    "features_test_final_recovery[numeric_columns_final] = features_test_final_recovery\n",
    "print(features_train_final_recovery)\n",
    "print(features_test_final_recovery)"
   ]
  },
  {
   "cell_type": "markdown",
   "metadata": {},
   "source": [
    "### Escribe una función para calcular el valor final de sMAPE."
   ]
  },
  {
   "cell_type": "code",
   "execution_count": 44,
   "metadata": {},
   "outputs": [],
   "source": [
    "def calculate_smape(y_true, y_pred):\n",
    "    return np.mean(np.abs((y_true - y_pred) / ((np.abs(y_true) + np.abs(y_pred)) / 2)))\n",
    "# Calcular sMAPE final combinado\n",
    "def calculate_final_smape(smape_rougher, smape_final):\n",
    "    return 0.25 * smape_rougher + 0.75 * smape_final\n"
   ]
  },
  {
   "cell_type": "markdown",
   "metadata": {},
   "source": [
    "###  Linear regression model"
   ]
  },
  {
   "cell_type": "code",
   "execution_count": 45,
   "metadata": {},
   "outputs": [
    {
     "name": "stdout",
     "output_type": "stream",
     "text": [
      "Model: Linear Regression - Rougher\n",
      "Cross-validation scores: [-1.78168911e-27 -1.47573100e-27 -1.79688822e-27 -9.54584374e-28\n",
      " -1.37985651e-27]\n",
      "Mean score: 1.4777498442669865e-27\n",
      "Model: Linear Regression - Final\n",
      "Cross-validation scores: [-1.78168911e-27 -1.47573100e-27 -1.79688822e-27 -9.54584374e-28\n",
      " -1.37985651e-27]\n",
      "Mean score: 1.4777498442669865e-27\n"
     ]
    }
   ],
   "source": [
    "rougher_linear_regression = LinearRegression()\n",
    "final_linear_regression = LinearRegression()\n",
    "\n",
    "# Validacion cruzada para cada modelo\n",
    "scores_linear_rougher = cross_val_score(rougher_linear_regression, features_train_rougher_recovery, target_train_rougher_recovery, cv=5, scoring='neg_mean_squared_error')\n",
    "scores_linear_final = cross_val_score(final_linear_regression, features_train_final_recovery, target_train_final_recovery, cv=5, scoring='neg_mean_squared_error')\n",
    "\n",
    "# Imprimir resultados de validacion cruzada\n",
    "print(f\"Model: Linear Regression - Rougher\")\n",
    "print(f\"Cross-validation scores: {scores_linear_rougher}\")\n",
    "print(f\"Mean score: {-scores_linear_rougher.mean()}\")\n",
    "\n",
    "print(f\"Model: Linear Regression - Final\")\n",
    "print(f\"Cross-validation scores: {scores_linear_final}\")\n",
    "print(f\"Mean score: {-scores_linear_final.mean()}\")"
   ]
  },
  {
   "cell_type": "code",
   "execution_count": 46,
   "metadata": {},
   "outputs": [],
   "source": [
    "# Entrenar modelos con todo el conjunto de entrenamiento\n",
    "rougher_linear_regression.fit(features_train_rougher_recovery, target_train_rougher_recovery)\n",
    "final_linear_regression.fit(features_train_final_recovery, target_train_final_recovery)\n",
    "\n",
    "# Hacer predicciones\n",
    "y_rougher_linear_pred = rougher_linear_regression.predict(features_test_rougher_recovery)\n",
    "y_final_linear_pred = final_linear_regression.predict(features_test_final_recovery)"
   ]
  },
  {
   "cell_type": "code",
   "execution_count": 47,
   "metadata": {},
   "outputs": [
    {
     "name": "stdout",
     "output_type": "stream",
     "text": [
      "Model: Linear regression\n",
      "sMAPE Rougher: 1.7485673081686552\n",
      "sMAPE Final: 0.03001364256480257\n",
      "sMAPE final combinado: 0.4596520589657657\n"
     ]
    }
   ],
   "source": [
    "smape_rougher_linear = calculate_smape(target_test_rougher_recovery, y_rougher_linear_pred)\n",
    "smape_final_linear = calculate_smape(target_test_final_recovery, y_final_linear_pred)\n",
    "smape_combine_final = calculate_final_smape(smape_rougher_linear, smape_final_linear)\n",
    "\n",
    "print(f\"Model: Linear regression\")\n",
    "print(f\"sMAPE Rougher: {smape_rougher_linear}\")\n",
    "print(f\"sMAPE Final: {smape_final_linear}\")\n",
    "print(f\"sMAPE final combinado: {smape_combine_final}\")\n"
   ]
  },
  {
   "cell_type": "markdown",
   "metadata": {},
   "source": [
    "### Decision tree model"
   ]
  },
  {
   "cell_type": "code",
   "execution_count": 48,
   "metadata": {},
   "outputs": [
    {
     "name": "stdout",
     "output_type": "stream",
     "text": [
      "Model: Decision Tree with depth 1 - Rougher\n",
      "Cross-validation scores: [-54.39452235 -55.68860553 -50.39430544 -51.00071602 -51.96030979]\n",
      "Mean score: 52.68769182808654\n",
      "Model: Decision Tree with depth 2 - Rougher\n",
      "Cross-validation scores: [-21.85977772 -21.77250399 -19.08552159 -18.67325848 -19.49301886]\n",
      "Mean score: 20.176816128711806\n",
      "Model: Decision Tree with depth 3 - Rougher\n",
      "Cross-validation scores: [-7.53504608 -7.1919954  -6.11875998 -6.38674915 -6.02079306]\n",
      "Mean score: 6.65066873385901\n",
      "Model: Decision Tree with depth 4 - Rougher\n",
      "Cross-validation scores: [-2.45246293 -2.18599541 -1.96426397 -1.96333153 -1.89701372]\n",
      "Mean score: 2.0926135134109662\n",
      "Model: Decision Tree with depth 5 - Rougher\n",
      "Cross-validation scores: [-0.95195549 -0.64422734 -0.59371541 -0.54928003 -0.51457279]\n",
      "Mean score: 0.6507502123324234\n",
      "Model: Decision Tree with depth 6 - Rougher\n",
      "Cross-validation scores: [-0.53450691 -0.20114158 -0.20110249 -0.16389114 -0.13522004]\n",
      "Mean score: 0.24717242999763506\n",
      "Model: Decision Tree with depth 7 - Rougher\n",
      "Cross-validation scores: [-0.43567591 -0.08671233 -0.09250345 -0.06335394 -0.03824382]\n",
      "Mean score: 0.14329789031345813\n",
      "Model: Decision Tree with depth 8 - Rougher\n",
      "Cross-validation scores: [-0.4130733  -0.06289304 -0.06941033 -0.04169602 -0.01531825]\n",
      "Mean score: 0.12047818742155021\n",
      "Model: Decision Tree with depth 9 - Rougher\n",
      "Cross-validation scores: [-0.40774465 -0.05729568 -0.06369159 -0.0362969  -0.00995325]\n",
      "Mean score: 0.11499641477065943\n",
      "Model: Decision Tree with depth 10 - Rougher\n",
      "Cross-validation scores: [-0.40646411 -0.0564966  -0.06248954 -0.03504864 -0.00877789]\n",
      "Mean score: 0.11385535696039921\n"
     ]
    }
   ],
   "source": [
    "# Inicializar variables para almacenar la mejor profundidad y puntuacion\n",
    "best_mean_score_rougher = float('inf')\n",
    "best_mean_score_final = float('inf')\n",
    "best_depth_rougher = None\n",
    "best_depth_final = None\n",
    "\n",
    "# Definir hiperparámetros para el arbol de decision\n",
    "for depth in range(1, 11):\n",
    "    decision_tree_rougher = DecisionTreeRegressor(random_state=12345, min_samples_split=10, min_samples_leaf=5, max_depth=depth)\n",
    "    decision_tree_final = DecisionTreeRegressor(random_state=12345, min_samples_split=10, min_samples_leaf=5, max_depth=depth)\n",
    "    \n",
    "    # Validacion cruzada para cada modelo\n",
    "    scores_tree_rougher = cross_val_score(decision_tree_rougher, features_train_rougher_recovery, target_train_rougher_recovery, cv=5, scoring='neg_mean_squared_error')\n",
    "    scores_tree_final = cross_val_score(decision_tree_final, features_train_final_recovery, target_train_final_recovery, cv=5, scoring='neg_mean_squared_error')\n",
    "    \n",
    "    # Imprimir resultados de validacion cruzada\n",
    "    print(f\"Model: Decision Tree with depth {depth} - Rougher\")\n",
    "    print(f\"Cross-validation scores: {scores_tree_rougher}\")\n",
    "    print(f\"Mean score: {-scores_tree_rougher.mean()}\")\n",
    "    \n",
    "    # Actualizar la mejor profundidad si la puntuacion es mejor\n",
    "    if -scores_tree_rougher.mean() < best_mean_score_rougher:\n",
    "        best_mean_score_rougher = -scores_tree_rougher.mean()\n",
    "        best_depth_rougher = depth\n",
    "\n",
    "    if -scores_tree_final.mean() < best_mean_score_final:\n",
    "        best_mean_score_final = -scores_tree_final.mean()\n",
    "        best_depth_final = depth\n",
    "        \n",
    "# Entrenar modelos con los mejores hiperparametros y todo el conjunto de entrenamiento\n",
    "decision_tree_rougher_best = DecisionTreeRegressor(random_state=12345, min_samples_split=10, min_samples_leaf=5, max_depth=best_depth_rougher)\n",
    "decision_tree_final_best = DecisionTreeRegressor(random_state=12345, min_samples_split=10, min_samples_leaf=5, max_depth=best_depth_final)\n",
    "\n",
    "decision_tree_rougher_best.fit(features_train_rougher_recovery, target_train_rougher_recovery)\n",
    "decision_tree_final_best.fit(features_train_final_recovery, target_train_final_recovery)\n",
    "\n",
    "# Predecir valores con los mejores modelos\n",
    "y_rougher_tree_pred_best = decision_tree_rougher_best.predict(features_test_rougher_recovery)\n",
    "y_final_tree_pred_best = decision_tree_final_best.predict(features_test_final_recovery)"
   ]
  },
  {
   "cell_type": "code",
   "execution_count": 49,
   "metadata": {},
   "outputs": [
    {
     "name": "stdout",
     "output_type": "stream",
     "text": [
      "Model: Decision Tree with best depth 10 (Rougher) and 10 (Final)\n",
      "sMAPE Rougher: 0.20660622741361898\n",
      "sMAPE Final: 0.0013639115162734157\n",
      "sMAPE Final combinado: 0.05267449049060981\n"
     ]
    }
   ],
   "source": [
    "#Calcula sMAPE\n",
    "smape_tree_rougher_best = calculate_smape(target_test_rougher_recovery, y_rougher_tree_pred_best)\n",
    "smape_final_tree_best = calculate_smape(target_test_final_recovery, y_final_tree_pred_best)\n",
    "smape_final_combine_tree_best = calculate_final_smape(smape_tree_rougher_best, smape_final_tree_best)\n",
    "print(f\"Model: Decision Tree with best depth {best_depth_rougher} (Rougher) and {best_depth_final} (Final)\")\n",
    "print(f\"sMAPE Rougher: {smape_tree_rougher_best}\")\n",
    "print(f\"sMAPE Final: {smape_final_tree_best}\")\n",
    "print(f\"sMAPE Final combinado: {smape_final_combine_tree_best}\")"
   ]
  },
  {
   "cell_type": "markdown",
   "metadata": {},
   "source": [
    "### Random forest model"
   ]
  },
  {
   "cell_type": "code",
   "execution_count": 50,
   "metadata": {},
   "outputs": [
    {
     "name": "stdout",
     "output_type": "stream",
     "text": [
      "Model: Random forest with 10 trees and depth 1 - Rougher\n",
      "Cross-validation scores: [-54.36910764 -55.67698915 -49.80465643 -50.38988512 -51.9765741 ]\n",
      "Mean score: 52.44344249044491\n",
      "Model: Random forest with 10 trees and depth 1 - Final\n",
      "Cross-validation scores: [-54.36910764 -55.67698915 -49.80465643 -50.38988512 -51.9765741 ]\n",
      "Mean score: 52.44344249044491\n",
      "Model: Random forest with 10 trees and depth 2 - Rougher\n",
      "Cross-validation scores: [-21.22853091 -21.13508376 -18.45144862 -17.96571985 -18.98074657]\n",
      "Mean score: 19.552305941014836\n",
      "Model: Random forest with 10 trees and depth 2 - Final\n",
      "Cross-validation scores: [-21.22853091 -21.13508376 -18.45144862 -17.96571985 -18.98074657]\n",
      "Mean score: 19.552305941014836\n",
      "Model: Random forest with 10 trees and depth 3 - Rougher\n",
      "Cross-validation scores: [-6.89703376 -6.44166363 -5.52576641 -5.67086986 -5.53802426]\n",
      "Mean score: 6.014671584382881\n",
      "Model: Random forest with 10 trees and depth 3 - Final\n",
      "Cross-validation scores: [-6.89703376 -6.44166363 -5.52576641 -5.67086986 -5.53802426]\n",
      "Mean score: 6.014671584382881\n",
      "Model: Random forest with 10 trees and depth 4 - Rougher\n",
      "Cross-validation scores: [-2.00255916 -1.5684817  -1.43807039 -1.46666525 -1.44662157]\n",
      "Mean score: 1.5844796113371602\n",
      "Model: Random forest with 10 trees and depth 4 - Final\n",
      "Cross-validation scores: [-2.00255916 -1.5684817  -1.43807039 -1.46666525 -1.44662157]\n",
      "Mean score: 1.5844796113371602\n",
      "Model: Random forest with 10 trees and depth 5 - Rougher\n",
      "Cross-validation scores: [-0.73645045 -0.32190449 -0.29316161 -0.31113415 -0.28977227]\n",
      "Mean score: 0.39048459228030313\n",
      "Model: Random forest with 10 trees and depth 5 - Final\n",
      "Cross-validation scores: [-0.73645045 -0.32190449 -0.29316161 -0.31113415 -0.28977227]\n",
      "Mean score: 0.39048459228030313\n",
      "Model: Random forest with 10 trees and depth 6 - Rougher\n",
      "Cross-validation scores: [-0.45399085 -0.10805207 -0.05925065 -0.07250057 -0.04488716]\n",
      "Mean score: 0.1477362598070551\n",
      "Model: Random forest with 10 trees and depth 6 - Final\n",
      "Cross-validation scores: [-0.45399085 -0.10805207 -0.05925065 -0.07250057 -0.04488716]\n",
      "Mean score: 0.1477362598070551\n",
      "Model: Random forest with 10 trees and depth 7 - Rougher\n",
      "Cross-validation scores: [-0.4145114  -0.08006168 -0.03128549 -0.04167839 -0.00721964]\n",
      "Mean score: 0.11495131995273182\n",
      "Model: Random forest with 10 trees and depth 7 - Final\n",
      "Cross-validation scores: [-0.4145114  -0.08006168 -0.03128549 -0.04167839 -0.00721964]\n",
      "Mean score: 0.11495131995273182\n",
      "Model: Random forest with 10 trees and depth 8 - Rougher\n",
      "Cross-validation scores: [-0.41169127 -0.07843568 -0.02666557 -0.03904875 -0.00227545]\n",
      "Mean score: 0.11162334547647301\n",
      "Model: Random forest with 10 trees and depth 8 - Final\n",
      "Cross-validation scores: [-0.41169127 -0.07843568 -0.02666557 -0.03904875 -0.00227545]\n",
      "Mean score: 0.11162334547647301\n",
      "Model: Random forest with 10 trees and depth 9 - Rougher\n",
      "Cross-validation scores: [-0.41148913 -0.07595303 -0.02859543 -0.03796241 -0.00243132]\n",
      "Mean score: 0.11128626389678735\n",
      "Model: Random forest with 10 trees and depth 9 - Final\n",
      "Cross-validation scores: [-0.41148913 -0.07595303 -0.02859543 -0.03796241 -0.00243132]\n",
      "Mean score: 0.11128626389678735\n",
      "Model: Random forest with 10 trees and depth 10 - Rougher\n",
      "Cross-validation scores: [-0.41050638 -0.07669905 -0.02814118 -0.03756991 -0.00144825]\n",
      "Mean score: 0.11087295300880551\n",
      "Model: Random forest with 10 trees and depth 10 - Final\n",
      "Cross-validation scores: [-0.41050638 -0.07669905 -0.02814118 -0.03756991 -0.00144825]\n",
      "Mean score: 0.11087295300880551\n",
      "Model: Random forest with 20 trees and depth 1 - Rougher\n",
      "Cross-validation scores: [-54.38733589 -55.6885697  -50.07013404 -49.9691066  -51.95378436]\n",
      "Mean score: 52.413786119066415\n",
      "Model: Random forest with 20 trees and depth 1 - Final\n",
      "Cross-validation scores: [-54.38733589 -55.6885697  -50.07013404 -49.9691066  -51.95378436]\n",
      "Mean score: 52.413786119066415\n",
      "Model: Random forest with 20 trees and depth 2 - Rougher\n",
      "Cross-validation scores: [-20.83620042 -21.03764177 -18.23752851 -17.84453682 -18.64636865]\n",
      "Mean score: 19.320455233848154\n",
      "Model: Random forest with 20 trees and depth 2 - Final\n",
      "Cross-validation scores: [-20.83620042 -21.03764177 -18.23752851 -17.84453682 -18.64636865]\n",
      "Mean score: 19.320455233848154\n",
      "Model: Random forest with 20 trees and depth 3 - Rougher\n",
      "Cross-validation scores: [-6.58781432 -6.3421151  -5.39201674 -5.5229079  -5.30894026]\n",
      "Mean score: 5.830758865774747\n",
      "Model: Random forest with 20 trees and depth 3 - Final\n",
      "Cross-validation scores: [-6.58781432 -6.3421151  -5.39201674 -5.5229079  -5.30894026]\n",
      "Mean score: 5.830758865774747\n",
      "Model: Random forest with 20 trees and depth 4 - Rougher\n",
      "Cross-validation scores: [-1.71426245 -1.5153915  -1.39906471 -1.36025246 -1.31247967]\n",
      "Mean score: 1.460290159376382\n",
      "Model: Random forest with 20 trees and depth 4 - Final\n",
      "Cross-validation scores: [-1.71426245 -1.5153915  -1.39906471 -1.36025246 -1.31247967]\n",
      "Mean score: 1.460290159376382\n",
      "Model: Random forest with 20 trees and depth 5 - Rougher\n",
      "Cross-validation scores: [-0.47056929 -0.29835621 -0.26767811 -0.25149569 -0.23447153]\n",
      "Mean score: 0.30451416580678\n",
      "Model: Random forest with 20 trees and depth 5 - Final\n",
      "Cross-validation scores: [-0.47056929 -0.29835621 -0.26767811 -0.25149569 -0.23447153]\n",
      "Mean score: 0.30451416580678\n",
      "Model: Random forest with 20 trees and depth 6 - Rougher\n",
      "Cross-validation scores: [-0.20718722 -0.08918713 -0.05616169 -0.04619129 -0.03267849]\n",
      "Mean score: 0.0862811633391444\n",
      "Model: Random forest with 20 trees and depth 6 - Final\n",
      "Cross-validation scores: [-0.20718722 -0.08918713 -0.05616169 -0.04619129 -0.03267849]\n",
      "Mean score: 0.0862811633391444\n",
      "Model: Random forest with 20 trees and depth 7 - Rougher\n",
      "Cross-validation scores: [-0.17492825 -0.06465622 -0.03268402 -0.02257855 -0.00516853]\n",
      "Mean score: 0.060003114542070524\n",
      "Model: Random forest with 20 trees and depth 7 - Final\n",
      "Cross-validation scores: [-0.17492825 -0.06465622 -0.03268402 -0.02257855 -0.00516853]\n",
      "Mean score: 0.060003114542070524\n",
      "Model: Random forest with 20 trees and depth 8 - Rougher\n",
      "Cross-validation scores: [-0.17213917 -0.06281589 -0.02965471 -0.01980113 -0.00177525]\n",
      "Mean score: 0.05723722841131138\n",
      "Model: Random forest with 20 trees and depth 8 - Final\n",
      "Cross-validation scores: [-0.17213917 -0.06281589 -0.02965471 -0.01980113 -0.00177525]\n",
      "Mean score: 0.05723722841131138\n",
      "Model: Random forest with 20 trees and depth 9 - Rougher\n",
      "Cross-validation scores: [-0.17171583 -0.06186872 -0.03037918 -0.01952473 -0.00166848]\n",
      "Mean score: 0.05703139056499544\n",
      "Model: Random forest with 20 trees and depth 9 - Final\n",
      "Cross-validation scores: [-0.17171583 -0.06186872 -0.03037918 -0.01952473 -0.00166848]\n",
      "Mean score: 0.05703139056499544\n",
      "Model: Random forest with 20 trees and depth 10 - Rougher\n",
      "Cross-validation scores: [-0.1710994  -0.06227929 -0.0304189  -0.01896176 -0.0014527 ]\n",
      "Mean score: 0.05684240958454403\n",
      "Model: Random forest with 20 trees and depth 10 - Final\n",
      "Cross-validation scores: [-0.1710994  -0.06227929 -0.0304189  -0.01896176 -0.0014527 ]\n",
      "Mean score: 0.05684240958454403\n",
      "Model: Random forest with 30 trees and depth 1 - Rougher\n",
      "Cross-validation scores: [-54.39419658 -55.68998974 -49.76687363 -49.83686031 -51.94784344]\n",
      "Mean score: 52.32715273771326\n",
      "Model: Random forest with 30 trees and depth 1 - Final\n",
      "Cross-validation scores: [-54.39419658 -55.68998974 -49.76687363 -49.83686031 -51.94784344]\n",
      "Mean score: 52.32715273771326\n",
      "Model: Random forest with 30 trees and depth 2 - Rougher\n",
      "Cross-validation scores: [-20.75557142 -20.97464053 -18.1816358  -17.61207816 -18.56794776]\n",
      "Mean score: 19.21837473465387\n",
      "Model: Random forest with 30 trees and depth 2 - Final\n",
      "Cross-validation scores: [-20.75557142 -20.97464053 -18.1816358  -17.61207816 -18.56794776]\n",
      "Mean score: 19.21837473465387\n",
      "Model: Random forest with 30 trees and depth 3 - Rougher\n",
      "Cross-validation scores: [-6.55531168 -6.30581331 -5.37177851 -5.35231826 -5.27283704]\n",
      "Mean score: 5.771611760885196\n",
      "Model: Random forest with 30 trees and depth 3 - Final\n",
      "Cross-validation scores: [-6.55531168 -6.30581331 -5.37177851 -5.35231826 -5.27283704]\n",
      "Mean score: 5.771611760885196\n",
      "Model: Random forest with 30 trees and depth 4 - Rougher\n",
      "Cross-validation scores: [-1.72890461 -1.49088616 -1.38442762 -1.27741064 -1.29203681]\n",
      "Mean score: 1.4347331659038551\n",
      "Model: Random forest with 30 trees and depth 4 - Final\n",
      "Cross-validation scores: [-1.72890461 -1.49088616 -1.38442762 -1.27741064 -1.29203681]\n",
      "Mean score: 1.4347331659038551\n"
     ]
    },
    {
     "name": "stdout",
     "output_type": "stream",
     "text": [
      "Model: Random forest with 30 trees and depth 5 - Rougher\n",
      "Cross-validation scores: [-0.50793772 -0.29583493 -0.26952835 -0.22854192 -0.2242408 ]\n",
      "Mean score: 0.3052167444420468\n",
      "Model: Random forest with 30 trees and depth 5 - Final\n",
      "Cross-validation scores: [-0.50793772 -0.29583493 -0.26952835 -0.22854192 -0.2242408 ]\n",
      "Mean score: 0.3052167444420468\n",
      "Model: Random forest with 30 trees and depth 6 - Rougher\n",
      "Cross-validation scores: [-0.27690204 -0.08531588 -0.06763761 -0.05498826 -0.0283334 ]\n",
      "Mean score: 0.10263543883357595\n",
      "Model: Random forest with 30 trees and depth 6 - Final\n",
      "Cross-validation scores: [-0.27690204 -0.08531588 -0.06763761 -0.05498826 -0.0283334 ]\n",
      "Mean score: 0.10263543883357595\n",
      "Model: Random forest with 30 trees and depth 7 - Rougher\n",
      "Cross-validation scores: [-0.24937581 -0.06393457 -0.04473975 -0.03950405 -0.00392856]\n",
      "Mean score: 0.08029654739227\n",
      "Model: Random forest with 30 trees and depth 7 - Final\n",
      "Cross-validation scores: [-0.24937581 -0.06393457 -0.04473975 -0.03950405 -0.00392856]\n",
      "Mean score: 0.08029654739227\n",
      "Model: Random forest with 30 trees and depth 8 - Rougher\n",
      "Cross-validation scores: [-0.24631849 -0.06174612 -0.0425563  -0.03667398 -0.00150943]\n",
      "Mean score: 0.07776086535890261\n",
      "Model: Random forest with 30 trees and depth 8 - Final\n",
      "Cross-validation scores: [-0.24631849 -0.06174612 -0.0425563  -0.03667398 -0.00150943]\n",
      "Mean score: 0.07776086535890261\n",
      "Model: Random forest with 30 trees and depth 9 - Rougher\n",
      "Cross-validation scores: [-0.24693802 -0.06125369 -0.04304104 -0.03658092 -0.00126713]\n",
      "Mean score: 0.07781616061800298\n",
      "Model: Random forest with 30 trees and depth 9 - Final\n",
      "Cross-validation scores: [-0.24693802 -0.06125369 -0.04304104 -0.03658092 -0.00126713]\n",
      "Mean score: 0.07781616061800298\n",
      "Model: Random forest with 30 trees and depth 10 - Rougher\n",
      "Cross-validation scores: [-0.24603423 -0.06128689 -0.04296532 -0.03613771 -0.00108861]\n",
      "Mean score: 0.07750255339987173\n",
      "Model: Random forest with 30 trees and depth 10 - Final\n",
      "Cross-validation scores: [-0.24603423 -0.06128689 -0.04296532 -0.03613771 -0.00108861]\n",
      "Mean score: 0.07750255339987173\n",
      "Model: Random forest with 40 trees and depth 1 - Rougher\n",
      "Cross-validation scores: [-54.39300158 -55.69389122 -49.90570477 -49.7752777  -51.95173601]\n",
      "Mean score: 52.343922254734025\n",
      "Model: Random forest with 40 trees and depth 1 - Final\n",
      "Cross-validation scores: [-54.39300158 -55.69389122 -49.90570477 -49.7752777  -51.95173601]\n",
      "Mean score: 52.343922254734025\n",
      "Model: Random forest with 40 trees and depth 2 - Rougher\n",
      "Cross-validation scores: [-20.78069311 -20.95933359 -18.21526139 -17.65315926 -18.64803625]\n",
      "Mean score: 19.25129671818439\n",
      "Model: Random forest with 40 trees and depth 2 - Final\n",
      "Cross-validation scores: [-20.78069311 -20.95933359 -18.21526139 -17.65315926 -18.64803625]\n",
      "Mean score: 19.25129671818439\n",
      "Model: Random forest with 40 trees and depth 3 - Rougher\n",
      "Cross-validation scores: [-6.54897579 -6.29425203 -5.40429123 -5.39025327 -5.33735357]\n",
      "Mean score: 5.795025176050278\n",
      "Model: Random forest with 40 trees and depth 3 - Final\n",
      "Cross-validation scores: [-6.54897579 -6.29425203 -5.40429123 -5.39025327 -5.33735357]\n",
      "Mean score: 5.795025176050278\n",
      "Model: Random forest with 40 trees and depth 4 - Rougher\n",
      "Cross-validation scores: [-1.72013388 -1.47314365 -1.39926616 -1.2864012  -1.32314068]\n",
      "Mean score: 1.440417114809995\n",
      "Model: Random forest with 40 trees and depth 4 - Final\n",
      "Cross-validation scores: [-1.72013388 -1.47314365 -1.39926616 -1.2864012  -1.32314068]\n",
      "Mean score: 1.440417114809995\n",
      "Model: Random forest with 40 trees and depth 5 - Rougher\n",
      "Cross-validation scores: [-0.49987844 -0.27888793 -0.27346211 -0.22712468 -0.23547214]\n",
      "Mean score: 0.3029650570027082\n",
      "Model: Random forest with 40 trees and depth 5 - Final\n",
      "Cross-validation scores: [-0.49987844 -0.27888793 -0.27346211 -0.22712468 -0.23547214]\n",
      "Mean score: 0.3029650570027082\n",
      "Model: Random forest with 40 trees and depth 6 - Rougher\n",
      "Cross-validation scores: [-0.27151669 -0.0733813  -0.07103593 -0.05049505 -0.02988686]\n",
      "Mean score: 0.09926316762827656\n",
      "Model: Random forest with 40 trees and depth 6 - Final\n",
      "Cross-validation scores: [-0.27151669 -0.0733813  -0.07103593 -0.05049505 -0.02988686]\n",
      "Mean score: 0.09926316762827656\n",
      "Model: Random forest with 40 trees and depth 7 - Rougher\n",
      "Cross-validation scores: [-0.24404151 -0.05068053 -0.04567215 -0.03354968 -0.00371584]\n",
      "Mean score: 0.07553194075311565\n",
      "Model: Random forest with 40 trees and depth 7 - Final\n",
      "Cross-validation scores: [-0.24404151 -0.05068053 -0.04567215 -0.03354968 -0.00371584]\n",
      "Mean score: 0.07553194075311565\n",
      "Model: Random forest with 40 trees and depth 8 - Rougher\n",
      "Cross-validation scores: [-0.24091842 -0.04795507 -0.04319541 -0.03099341 -0.00109079]\n",
      "Mean score: 0.07283062215737036\n",
      "Model: Random forest with 40 trees and depth 8 - Final\n",
      "Cross-validation scores: [-0.24091842 -0.04795507 -0.04319541 -0.03099341 -0.00109079]\n",
      "Mean score: 0.07283062215737036\n",
      "Model: Random forest with 40 trees and depth 9 - Rougher\n",
      "Cross-validation scores: [-0.2415933  -0.04787265 -0.04343849 -0.03093924 -0.00088038]\n",
      "Mean score: 0.07294481046190343\n",
      "Model: Random forest with 40 trees and depth 9 - Final\n",
      "Cross-validation scores: [-0.2415933  -0.04787265 -0.04343849 -0.03093924 -0.00088038]\n",
      "Mean score: 0.07294481046190343\n",
      "Model: Random forest with 40 trees and depth 10 - Rougher\n",
      "Cross-validation scores: [-0.2408868  -0.04800793 -0.04353893 -0.03062971 -0.00078091]\n",
      "Mean score: 0.07276885552749722\n",
      "Model: Random forest with 40 trees and depth 10 - Final\n",
      "Cross-validation scores: [-0.2408868  -0.04800793 -0.04353893 -0.03062971 -0.00078091]\n",
      "Mean score: 0.07276885552749722\n"
     ]
    }
   ],
   "source": [
    "best_n_estimators_rougher = None\n",
    "best_max_depth_rougher = None\n",
    "best_mean_score_rougher = float('inf')\n",
    "\n",
    "best_n_estimators_final = None\n",
    "best_max_depth_final = None\n",
    "best_mean_score_final = float('inf')\n",
    "# Iterar sobre diferentes hiperparametros\n",
    "for est in range(10, 50, 10):\n",
    "    for depth in range(1, 11):\n",
    "        random_forest_rougher = RandomForestRegressor(n_estimators=est, max_depth=depth, random_state=12345)\n",
    "        random_forest_final = RandomForestRegressor(n_estimators=est, max_depth=depth, random_state=12345)\n",
    "\n",
    "        # Validacion cruzada para cada modelo\n",
    "        scores_forest_rougher = cross_val_score(random_forest_rougher, features_train_rougher_recovery, target_train_rougher_recovery, cv=5, scoring='neg_mean_squared_error')\n",
    "        scores_final_forest = cross_val_score(random_forest_final, features_train_final_recovery, target_train_final_recovery, cv=5, scoring='neg_mean_squared_error')\n",
    "\n",
    "        # Imprimir resultados de validacion cruzada\n",
    "        print(f\"Model: Random forest with {est} trees and depth {depth} - Rougher\")\n",
    "        print(f\"Cross-validation scores: {scores_forest_rougher}\")\n",
    "        print(f\"Mean score: {-scores_forest_rougher.mean()}\")\n",
    "\n",
    "        print(f\"Model: Random forest with {est} trees and depth {depth} - Final\")\n",
    "        print(f\"Cross-validation scores: {scores_final_forest}\")\n",
    "        print(f\"Mean score: {-scores_final_forest.mean()}\")\n",
    "\n",
    "        # Actualizar los mejores hiperparametros si la puntuacion es mejor\n",
    "        if -scores_forest_rougher.mean() < best_mean_score_rougher:\n",
    "            best_mean_score_rougher = -scores_forest_rougher.mean()\n",
    "            best_n_estimators_rougher = est\n",
    "            best_max_depth_rougher = depth\n",
    "\n",
    "        if -scores_final_forest.mean() < best_mean_score_final:\n",
    "            best_mean_score_final = -scores_final_forest.mean()\n",
    "            best_n_estimators_final = est\n",
    "            best_max_depth_final = depth"
   ]
  },
  {
   "cell_type": "code",
   "execution_count": 51,
   "metadata": {},
   "outputs": [],
   "source": [
    "# Entrenar modelos con los mejores hiperparametros y todo el conjunto de entrenamiento\n",
    "random_forest_rougher_best = RandomForestRegressor(n_estimators=best_n_estimators_rougher, max_depth=best_max_depth_rougher, random_state=12345)\n",
    "random_forest_final_best = RandomForestRegressor(n_estimators=best_n_estimators_final, max_depth=best_max_depth_final, random_state=12345)\n",
    "\n",
    "random_forest_rougher_best.fit(features_train_rougher_recovery, target_train_rougher_recovery)\n",
    "random_forest_final_best.fit(features_train_final_recovery, target_train_final_recovery)\n",
    "\n",
    "# Predecir valores\n",
    "y_rougher_forest_pred_best = random_forest_rougher_best.predict(features_test_rougher_recovery)\n",
    "y_final_forest_pred_best = random_forest_final_best.predict(features_test_final_recovery)"
   ]
  },
  {
   "cell_type": "code",
   "execution_count": 52,
   "metadata": {},
   "outputs": [
    {
     "name": "stdout",
     "output_type": "stream",
     "text": [
      "Model: Random forest with best depth 10, trees 20 (Rougher), depth 10, trees 20 (Final)\n",
      "sMAPE Rougher: 0.20431111655918474\n",
      "sMAPE Final: 0.0019558709826599154\n",
      "sMAPE Final combinado: 0.05254468237679112\n"
     ]
    }
   ],
   "source": [
    "# Calcular sMAPE con los mejores modelos\n",
    "smape_rougher_forest = calculate_smape(target_test_rougher_recovery, y_rougher_forest_pred_best)\n",
    "smape_final_forest = calculate_smape(target_test_final_recovery, y_final_forest_pred_best)\n",
    "smape_final_combine_forest = calculate_final_smape(smape_rougher_forest, smape_final_forest)\n",
    "\n",
    "print(f\"Model: Random forest with best depth {best_max_depth_rougher}, trees {best_n_estimators_rougher} (Rougher), depth {best_max_depth_final}, trees {best_n_estimators_final} (Final)\")\n",
    "print(f\"sMAPE Rougher: {smape_rougher_forest}\")\n",
    "print(f\"sMAPE Final: {smape_final_forest}\")\n",
    "print(f\"sMAPE Final combinado: {smape_final_combine_forest}\")"
   ]
  },
  {
   "cell_type": "code",
   "execution_count": 54,
   "metadata": {},
   "outputs": [
    {
     "name": "stdout",
     "output_type": "stream",
     "text": [
      "              Modelo  sMAPE Rougher  sMAPE Final  sMAPE Final Combinado\n",
      "0  Linear Regression       1.748567     0.030014               0.459652\n",
      "1      Decision Tree       0.206606     0.001364               0.052674\n",
      "2      Random Forest       0.204311     0.001956               0.052545\n"
     ]
    }
   ],
   "source": [
    "# Crear un DataFrame para resumir los resultados\n",
    "data = {\n",
    "    'Modelo': ['Linear Regression', 'Decision Tree', 'Random Forest'],\n",
    "    'sMAPE Rougher': [1.7485673081686552, 0.20660622741361898, 0.20431111655918474],\n",
    "    'sMAPE Final': [0.03001364256480257, 0.0013639115162734157, 0.0019558709826599154],\n",
    "    'sMAPE Final Combinado': [0.4596520589657657, 0.05267449049060981, 0.05254468237679112]\n",
    "}\n",
    "\n",
    "df_results = pd.DataFrame(data)\n",
    "\n",
    "# Imprimir el DataFrame\n",
    "print(df_results)"
   ]
  },
  {
   "cell_type": "markdown",
   "metadata": {},
   "source": [
    "Dado los resultados obtenido para sMAPE final combinado para los 3 modelos es evidente que la seleccion del mejor modelo el que presenta mejor precision es Ramdom forest aunque la diferencia es minima entre Decision tree, Zyfra al escoger este modelo puede optimizar la produccion al identificar los parametros que influyen en la extraccion de oro y ajustarlos para conseguir mayor eficiencia "
   ]
  },
  {
   "cell_type": "markdown",
   "metadata": {},
   "source": [
    "## Conclusion general"
   ]
  },
  {
   "cell_type": "markdown",
   "metadata": {},
   "source": [
    "El sMAPE final combinado donde se une sMAPE rougher y sMAPE final nos permite evaluar de la manera en como el modelo predice la cantidad de oro extraido en todo el proceso. Al identificar el mejor modelo  Zyfra  puede optimizar el proceso reduciendo costos al minizar parametros que no contribuyen a la extraccion de oro, tambien de extraccion ajustando parametros en la etapa de rougher y final para maximizar la eficiencia del modelo y minimizar errores en la prediccion"
   ]
  },
  {
   "cell_type": "code",
   "execution_count": null,
   "metadata": {},
   "outputs": [],
   "source": []
  }
 ],
 "metadata": {
  "ExecuteTimeLog": [
   {
    "duration": 3043,
    "start_time": "2025-01-14T05:31:05.945Z"
   },
   {
    "duration": 632,
    "start_time": "2025-01-14T05:31:08.990Z"
   },
   {
    "duration": 78,
    "start_time": "2025-01-14T05:31:09.624Z"
   },
   {
    "duration": 33,
    "start_time": "2025-01-14T05:42:53.747Z"
   },
   {
    "duration": 107,
    "start_time": "2025-01-14T05:47:17.848Z"
   },
   {
    "duration": 13,
    "start_time": "2025-01-14T06:51:13.958Z"
   },
   {
    "duration": 277,
    "start_time": "2025-01-14T07:10:13.013Z"
   },
   {
    "duration": 4,
    "start_time": "2025-01-14T07:10:42.412Z"
   },
   {
    "duration": 4,
    "start_time": "2025-01-14T07:11:20.763Z"
   },
   {
    "duration": 4,
    "start_time": "2025-01-14T07:11:23.326Z"
   },
   {
    "duration": 13,
    "start_time": "2025-01-14T08:03:50.794Z"
   },
   {
    "duration": 7,
    "start_time": "2025-01-14T08:15:45.091Z"
   },
   {
    "duration": 9,
    "start_time": "2025-01-14T08:16:04.858Z"
   },
   {
    "duration": 5,
    "start_time": "2025-01-14T08:16:44.233Z"
   },
   {
    "duration": 9,
    "start_time": "2025-01-14T08:17:27.578Z"
   },
   {
    "duration": 2695,
    "start_time": "2025-01-14T18:55:54.897Z"
   },
   {
    "duration": 600,
    "start_time": "2025-01-14T18:55:57.594Z"
   },
   {
    "duration": 95,
    "start_time": "2025-01-14T18:55:58.195Z"
   },
   {
    "duration": 43,
    "start_time": "2025-01-14T18:55:58.292Z"
   },
   {
    "duration": 118,
    "start_time": "2025-01-14T18:55:58.337Z"
   },
   {
    "duration": 7,
    "start_time": "2025-01-14T18:55:58.457Z"
   },
   {
    "duration": 3,
    "start_time": "2025-01-14T18:55:58.467Z"
   },
   {
    "duration": 4,
    "start_time": "2025-01-14T18:55:58.472Z"
   },
   {
    "duration": 17,
    "start_time": "2025-01-14T18:55:58.478Z"
   },
   {
    "duration": 32,
    "start_time": "2025-01-14T18:55:58.498Z"
   },
   {
    "duration": 5,
    "start_time": "2025-01-14T18:55:58.531Z"
   },
   {
    "duration": 7,
    "start_time": "2025-01-14T18:55:58.538Z"
   },
   {
    "duration": 131,
    "start_time": "2025-01-14T18:55:58.548Z"
   },
   {
    "duration": 11,
    "start_time": "2025-01-14T18:55:58.681Z"
   },
   {
    "duration": 8,
    "start_time": "2025-01-14T18:59:59.636Z"
   },
   {
    "duration": 14,
    "start_time": "2025-01-14T19:02:17.110Z"
   },
   {
    "duration": 5,
    "start_time": "2025-01-14T19:33:05.047Z"
   },
   {
    "duration": 279,
    "start_time": "2025-01-14T19:33:55.841Z"
   },
   {
    "duration": 9,
    "start_time": "2025-01-14T19:34:22.754Z"
   },
   {
    "duration": 5,
    "start_time": "2025-01-14T19:34:25.728Z"
   },
   {
    "duration": 19,
    "start_time": "2025-01-14T19:34:34.543Z"
   },
   {
    "duration": 1145,
    "start_time": "2025-01-14T19:37:39.451Z"
   },
   {
    "duration": 1014,
    "start_time": "2025-01-14T20:21:19.147Z"
   },
   {
    "duration": 480,
    "start_time": "2025-01-14T20:21:20.163Z"
   },
   {
    "duration": 85,
    "start_time": "2025-01-14T20:21:20.644Z"
   },
   {
    "duration": 33,
    "start_time": "2025-01-14T20:21:20.730Z"
   },
   {
    "duration": 123,
    "start_time": "2025-01-14T20:21:20.765Z"
   },
   {
    "duration": 6,
    "start_time": "2025-01-14T20:21:20.890Z"
   },
   {
    "duration": 3,
    "start_time": "2025-01-14T20:21:20.898Z"
   },
   {
    "duration": 22,
    "start_time": "2025-01-14T20:21:20.902Z"
   },
   {
    "duration": 14,
    "start_time": "2025-01-14T20:21:20.925Z"
   },
   {
    "duration": 8,
    "start_time": "2025-01-14T20:21:20.940Z"
   },
   {
    "duration": 5,
    "start_time": "2025-01-14T20:21:20.950Z"
   },
   {
    "duration": 8,
    "start_time": "2025-01-14T20:21:20.957Z"
   },
   {
    "duration": 133,
    "start_time": "2025-01-14T20:21:20.967Z"
   },
   {
    "duration": 20,
    "start_time": "2025-01-14T20:21:21.104Z"
   },
   {
    "duration": 8,
    "start_time": "2025-01-14T20:21:21.126Z"
   },
   {
    "duration": 13,
    "start_time": "2025-01-14T20:21:21.136Z"
   },
   {
    "duration": 10,
    "start_time": "2025-01-14T20:21:21.151Z"
   },
   {
    "duration": 8,
    "start_time": "2025-01-14T20:21:21.163Z"
   },
   {
    "duration": 1163,
    "start_time": "2025-01-14T20:21:21.173Z"
   },
   {
    "duration": 101,
    "start_time": "2025-01-14T20:46:08.931Z"
   },
   {
    "duration": 144,
    "start_time": "2025-01-14T20:47:22.457Z"
   },
   {
    "duration": 2730,
    "start_time": "2025-01-15T06:40:07.094Z"
   },
   {
    "duration": 633,
    "start_time": "2025-01-15T06:40:09.826Z"
   },
   {
    "duration": 91,
    "start_time": "2025-01-15T06:40:10.461Z"
   },
   {
    "duration": 33,
    "start_time": "2025-01-15T06:40:10.555Z"
   },
   {
    "duration": 119,
    "start_time": "2025-01-15T06:40:10.590Z"
   },
   {
    "duration": 6,
    "start_time": "2025-01-15T06:40:10.710Z"
   },
   {
    "duration": 3,
    "start_time": "2025-01-15T06:40:10.718Z"
   },
   {
    "duration": 4,
    "start_time": "2025-01-15T06:40:10.723Z"
   },
   {
    "duration": 14,
    "start_time": "2025-01-15T06:40:10.729Z"
   },
   {
    "duration": 6,
    "start_time": "2025-01-15T06:40:10.746Z"
   },
   {
    "duration": 5,
    "start_time": "2025-01-15T06:40:10.754Z"
   },
   {
    "duration": 50,
    "start_time": "2025-01-15T06:40:10.761Z"
   },
   {
    "duration": 107,
    "start_time": "2025-01-15T06:40:10.812Z"
   },
   {
    "duration": 11,
    "start_time": "2025-01-15T06:40:10.921Z"
   },
   {
    "duration": 8,
    "start_time": "2025-01-15T06:40:10.933Z"
   },
   {
    "duration": 14,
    "start_time": "2025-01-15T06:40:10.943Z"
   },
   {
    "duration": 11,
    "start_time": "2025-01-15T06:40:10.958Z"
   },
   {
    "duration": 39,
    "start_time": "2025-01-15T06:40:10.970Z"
   },
   {
    "duration": 1115,
    "start_time": "2025-01-15T06:40:11.011Z"
   },
   {
    "duration": 101,
    "start_time": "2025-01-15T06:40:12.128Z"
   },
   {
    "duration": 141,
    "start_time": "2025-01-15T06:40:12.231Z"
   },
   {
    "duration": 5,
    "start_time": "2025-01-15T06:40:12.374Z"
   },
   {
    "duration": 5,
    "start_time": "2025-01-15T06:50:17.147Z"
   },
   {
    "duration": 5,
    "start_time": "2025-01-15T06:50:33.002Z"
   },
   {
    "duration": 4,
    "start_time": "2025-01-15T06:50:56.247Z"
   },
   {
    "duration": 6,
    "start_time": "2025-01-15T06:51:28.454Z"
   },
   {
    "duration": 5,
    "start_time": "2025-01-15T06:51:41.556Z"
   },
   {
    "duration": 289,
    "start_time": "2025-01-15T07:00:58.933Z"
   },
   {
    "duration": 1015,
    "start_time": "2025-01-15T07:01:27.481Z"
   },
   {
    "duration": 523,
    "start_time": "2025-01-15T07:01:28.499Z"
   },
   {
    "duration": 93,
    "start_time": "2025-01-15T07:01:29.023Z"
   },
   {
    "duration": 34,
    "start_time": "2025-01-15T07:01:29.118Z"
   },
   {
    "duration": 119,
    "start_time": "2025-01-15T07:01:29.155Z"
   },
   {
    "duration": 6,
    "start_time": "2025-01-15T07:01:29.275Z"
   },
   {
    "duration": 3,
    "start_time": "2025-01-15T07:01:29.283Z"
   },
   {
    "duration": 23,
    "start_time": "2025-01-15T07:01:29.287Z"
   },
   {
    "duration": 13,
    "start_time": "2025-01-15T07:01:29.312Z"
   },
   {
    "duration": 7,
    "start_time": "2025-01-15T07:01:29.327Z"
   },
   {
    "duration": 5,
    "start_time": "2025-01-15T07:01:29.335Z"
   },
   {
    "duration": 7,
    "start_time": "2025-01-15T07:01:29.342Z"
   },
   {
    "duration": 135,
    "start_time": "2025-01-15T07:01:29.351Z"
   },
   {
    "duration": 20,
    "start_time": "2025-01-15T07:01:29.490Z"
   },
   {
    "duration": 9,
    "start_time": "2025-01-15T07:01:29.512Z"
   },
   {
    "duration": 14,
    "start_time": "2025-01-15T07:01:29.523Z"
   },
   {
    "duration": 11,
    "start_time": "2025-01-15T07:01:29.539Z"
   },
   {
    "duration": 8,
    "start_time": "2025-01-15T07:01:29.551Z"
   },
   {
    "duration": 1220,
    "start_time": "2025-01-15T07:01:29.561Z"
   },
   {
    "duration": 100,
    "start_time": "2025-01-15T07:01:30.783Z"
   },
   {
    "duration": 134,
    "start_time": "2025-01-15T07:01:30.884Z"
   },
   {
    "duration": 5,
    "start_time": "2025-01-15T07:01:31.020Z"
   },
   {
    "duration": 4,
    "start_time": "2025-01-15T07:01:31.027Z"
   },
   {
    "duration": 4,
    "start_time": "2025-01-15T07:01:40.163Z"
   },
   {
    "duration": 525,
    "start_time": "2025-01-15T07:01:40.169Z"
   },
   {
    "duration": 79,
    "start_time": "2025-01-15T07:01:40.695Z"
   },
   {
    "duration": 45,
    "start_time": "2025-01-15T07:01:40.776Z"
   },
   {
    "duration": 108,
    "start_time": "2025-01-15T07:01:40.823Z"
   },
   {
    "duration": 6,
    "start_time": "2025-01-15T07:01:40.933Z"
   },
   {
    "duration": 3,
    "start_time": "2025-01-15T07:01:40.941Z"
   },
   {
    "duration": 5,
    "start_time": "2025-01-15T07:01:40.946Z"
   },
   {
    "duration": 13,
    "start_time": "2025-01-15T07:01:40.953Z"
   },
   {
    "duration": 6,
    "start_time": "2025-01-15T07:01:40.968Z"
   },
   {
    "duration": 36,
    "start_time": "2025-01-15T07:01:40.976Z"
   },
   {
    "duration": 7,
    "start_time": "2025-01-15T07:01:41.014Z"
   },
   {
    "duration": 119,
    "start_time": "2025-01-15T07:01:41.022Z"
   },
   {
    "duration": 12,
    "start_time": "2025-01-15T07:01:41.142Z"
   },
   {
    "duration": 5,
    "start_time": "2025-01-15T07:01:41.156Z"
   },
   {
    "duration": 14,
    "start_time": "2025-01-15T07:01:41.162Z"
   },
   {
    "duration": 34,
    "start_time": "2025-01-15T07:01:41.177Z"
   },
   {
    "duration": 6,
    "start_time": "2025-01-15T07:01:41.212Z"
   },
   {
    "duration": 1106,
    "start_time": "2025-01-15T07:01:41.219Z"
   },
   {
    "duration": 107,
    "start_time": "2025-01-15T07:01:42.328Z"
   },
   {
    "duration": 154,
    "start_time": "2025-01-15T07:01:42.438Z"
   },
   {
    "duration": 5,
    "start_time": "2025-01-15T07:01:42.593Z"
   },
   {
    "duration": 5,
    "start_time": "2025-01-15T07:01:42.609Z"
   },
   {
    "duration": 4,
    "start_time": "2025-01-15T07:02:05.440Z"
   },
   {
    "duration": 5,
    "start_time": "2025-01-15T07:02:20.630Z"
   },
   {
    "duration": 508,
    "start_time": "2025-01-15T08:15:59.814Z"
   },
   {
    "duration": 457,
    "start_time": "2025-01-15T08:19:34.353Z"
   },
   {
    "duration": 982,
    "start_time": "2025-01-15T08:24:39.871Z"
   },
   {
    "duration": 517,
    "start_time": "2025-01-15T08:24:40.855Z"
   },
   {
    "duration": 79,
    "start_time": "2025-01-15T08:24:41.374Z"
   },
   {
    "duration": 34,
    "start_time": "2025-01-15T08:24:41.455Z"
   },
   {
    "duration": 124,
    "start_time": "2025-01-15T08:24:41.490Z"
   },
   {
    "duration": 6,
    "start_time": "2025-01-15T08:24:41.615Z"
   },
   {
    "duration": 3,
    "start_time": "2025-01-15T08:24:41.623Z"
   },
   {
    "duration": 4,
    "start_time": "2025-01-15T08:24:41.627Z"
   },
   {
    "duration": 13,
    "start_time": "2025-01-15T08:24:41.632Z"
   },
   {
    "duration": 6,
    "start_time": "2025-01-15T08:24:41.648Z"
   },
   {
    "duration": 5,
    "start_time": "2025-01-15T08:24:41.656Z"
   },
   {
    "duration": 52,
    "start_time": "2025-01-15T08:24:41.663Z"
   },
   {
    "duration": 107,
    "start_time": "2025-01-15T08:24:41.718Z"
   },
   {
    "duration": 12,
    "start_time": "2025-01-15T08:24:41.828Z"
   },
   {
    "duration": 9,
    "start_time": "2025-01-15T08:24:41.841Z"
   },
   {
    "duration": 13,
    "start_time": "2025-01-15T08:24:41.851Z"
   },
   {
    "duration": 10,
    "start_time": "2025-01-15T08:24:41.865Z"
   },
   {
    "duration": 36,
    "start_time": "2025-01-15T08:24:41.877Z"
   },
   {
    "duration": 1080,
    "start_time": "2025-01-15T08:24:41.915Z"
   },
   {
    "duration": 112,
    "start_time": "2025-01-15T08:24:42.997Z"
   },
   {
    "duration": 147,
    "start_time": "2025-01-15T08:24:43.111Z"
   },
   {
    "duration": 5,
    "start_time": "2025-01-15T08:24:43.259Z"
   },
   {
    "duration": 4,
    "start_time": "2025-01-15T08:24:43.266Z"
   },
   {
    "duration": 453,
    "start_time": "2025-01-15T08:24:43.272Z"
   },
   {
    "duration": 2703,
    "start_time": "2025-01-15T14:18:30.884Z"
   },
   {
    "duration": 642,
    "start_time": "2025-01-15T14:18:33.589Z"
   },
   {
    "duration": 83,
    "start_time": "2025-01-15T14:18:34.233Z"
   },
   {
    "duration": 33,
    "start_time": "2025-01-15T14:18:34.319Z"
   },
   {
    "duration": 124,
    "start_time": "2025-01-15T14:18:34.354Z"
   },
   {
    "duration": 7,
    "start_time": "2025-01-15T14:18:34.480Z"
   },
   {
    "duration": 3,
    "start_time": "2025-01-15T14:18:34.488Z"
   },
   {
    "duration": 17,
    "start_time": "2025-01-15T14:18:34.493Z"
   },
   {
    "duration": 13,
    "start_time": "2025-01-15T14:18:34.512Z"
   },
   {
    "duration": 7,
    "start_time": "2025-01-15T14:18:34.529Z"
   },
   {
    "duration": 5,
    "start_time": "2025-01-15T14:18:34.538Z"
   },
   {
    "duration": 8,
    "start_time": "2025-01-15T14:18:34.545Z"
   },
   {
    "duration": 135,
    "start_time": "2025-01-15T14:18:34.554Z"
   },
   {
    "duration": 18,
    "start_time": "2025-01-15T14:18:34.691Z"
   },
   {
    "duration": 8,
    "start_time": "2025-01-15T14:18:34.711Z"
   },
   {
    "duration": 12,
    "start_time": "2025-01-15T14:18:34.721Z"
   },
   {
    "duration": 9,
    "start_time": "2025-01-15T14:18:34.735Z"
   },
   {
    "duration": 7,
    "start_time": "2025-01-15T14:18:34.746Z"
   },
   {
    "duration": 1146,
    "start_time": "2025-01-15T14:18:34.755Z"
   },
   {
    "duration": 103,
    "start_time": "2025-01-15T14:18:35.903Z"
   },
   {
    "duration": 146,
    "start_time": "2025-01-15T14:18:36.009Z"
   },
   {
    "duration": 5,
    "start_time": "2025-01-15T14:18:36.157Z"
   },
   {
    "duration": 5,
    "start_time": "2025-01-15T14:18:36.164Z"
   },
   {
    "duration": 3,
    "start_time": "2025-01-15T14:18:36.171Z"
   },
   {
    "duration": 558,
    "start_time": "2025-01-15T14:18:36.177Z"
   },
   {
    "duration": 3,
    "start_time": "2025-01-15T14:18:57.559Z"
   },
   {
    "duration": 2723,
    "start_time": "2025-01-16T03:33:35.402Z"
   },
   {
    "duration": 651,
    "start_time": "2025-01-16T03:33:38.128Z"
   },
   {
    "duration": 88,
    "start_time": "2025-01-16T03:33:38.781Z"
   },
   {
    "duration": 42,
    "start_time": "2025-01-16T03:33:38.871Z"
   },
   {
    "duration": 112,
    "start_time": "2025-01-16T03:33:38.916Z"
   },
   {
    "duration": 6,
    "start_time": "2025-01-16T03:33:39.030Z"
   },
   {
    "duration": 3,
    "start_time": "2025-01-16T03:33:39.038Z"
   },
   {
    "duration": 3,
    "start_time": "2025-01-16T03:33:39.043Z"
   },
   {
    "duration": 13,
    "start_time": "2025-01-16T03:33:39.048Z"
   },
   {
    "duration": 7,
    "start_time": "2025-01-16T03:33:39.063Z"
   },
   {
    "duration": 42,
    "start_time": "2025-01-16T03:33:39.072Z"
   },
   {
    "duration": 8,
    "start_time": "2025-01-16T03:33:39.116Z"
   },
   {
    "duration": 116,
    "start_time": "2025-01-16T03:33:39.126Z"
   },
   {
    "duration": 11,
    "start_time": "2025-01-16T03:33:39.245Z"
   },
   {
    "duration": 8,
    "start_time": "2025-01-16T03:33:39.258Z"
   },
   {
    "duration": 13,
    "start_time": "2025-01-16T03:33:39.268Z"
   },
   {
    "duration": 37,
    "start_time": "2025-01-16T03:33:39.282Z"
   },
   {
    "duration": 7,
    "start_time": "2025-01-16T03:33:39.321Z"
   },
   {
    "duration": 1126,
    "start_time": "2025-01-16T03:33:39.330Z"
   },
   {
    "duration": 114,
    "start_time": "2025-01-16T03:33:40.459Z"
   },
   {
    "duration": 200,
    "start_time": "2025-01-16T03:33:40.575Z"
   },
   {
    "duration": 6,
    "start_time": "2025-01-16T03:33:40.777Z"
   },
   {
    "duration": 5,
    "start_time": "2025-01-16T03:33:40.784Z"
   },
   {
    "duration": 22,
    "start_time": "2025-01-16T03:33:40.791Z"
   },
   {
    "duration": 4,
    "start_time": "2025-01-16T03:33:40.814Z"
   },
   {
    "duration": 478,
    "start_time": "2025-01-16T03:33:40.820Z"
   },
   {
    "duration": 6,
    "start_time": "2025-01-16T03:58:08.257Z"
   },
   {
    "duration": 6,
    "start_time": "2025-01-16T03:58:36.398Z"
   },
   {
    "duration": 333,
    "start_time": "2025-01-16T03:58:45.953Z"
   },
   {
    "duration": 361,
    "start_time": "2025-01-16T04:06:32.815Z"
   },
   {
    "duration": 296,
    "start_time": "2025-01-16T06:15:36.535Z"
   },
   {
    "duration": 17,
    "start_time": "2025-01-16T06:16:17.883Z"
   },
   {
    "duration": 991,
    "start_time": "2025-01-16T06:17:54.852Z"
   },
   {
    "duration": 519,
    "start_time": "2025-01-16T06:17:55.845Z"
   },
   {
    "duration": 88,
    "start_time": "2025-01-16T06:17:56.366Z"
   },
   {
    "duration": 33,
    "start_time": "2025-01-16T06:17:56.456Z"
   },
   {
    "duration": 124,
    "start_time": "2025-01-16T06:17:56.491Z"
   },
   {
    "duration": 6,
    "start_time": "2025-01-16T06:17:56.617Z"
   },
   {
    "duration": 3,
    "start_time": "2025-01-16T06:17:56.625Z"
   },
   {
    "duration": 4,
    "start_time": "2025-01-16T06:17:56.630Z"
   },
   {
    "duration": 14,
    "start_time": "2025-01-16T06:17:56.635Z"
   },
   {
    "duration": 7,
    "start_time": "2025-01-16T06:17:56.651Z"
   },
   {
    "duration": 5,
    "start_time": "2025-01-16T06:17:56.659Z"
   },
   {
    "duration": 48,
    "start_time": "2025-01-16T06:17:56.666Z"
   },
   {
    "duration": 105,
    "start_time": "2025-01-16T06:17:56.716Z"
   },
   {
    "duration": 11,
    "start_time": "2025-01-16T06:17:56.826Z"
   },
   {
    "duration": 9,
    "start_time": "2025-01-16T06:17:56.839Z"
   },
   {
    "duration": 12,
    "start_time": "2025-01-16T06:17:56.849Z"
   },
   {
    "duration": 9,
    "start_time": "2025-01-16T06:17:56.863Z"
   },
   {
    "duration": 39,
    "start_time": "2025-01-16T06:17:56.874Z"
   },
   {
    "duration": 1110,
    "start_time": "2025-01-16T06:17:56.914Z"
   },
   {
    "duration": 103,
    "start_time": "2025-01-16T06:17:58.026Z"
   },
   {
    "duration": 132,
    "start_time": "2025-01-16T06:17:58.131Z"
   },
   {
    "duration": 4,
    "start_time": "2025-01-16T06:17:58.264Z"
   },
   {
    "duration": 4,
    "start_time": "2025-01-16T06:17:58.271Z"
   },
   {
    "duration": 3,
    "start_time": "2025-01-16T06:17:58.277Z"
   },
   {
    "duration": 3,
    "start_time": "2025-01-16T06:17:58.282Z"
   },
   {
    "duration": 443,
    "start_time": "2025-01-16T06:17:58.286Z"
   },
   {
    "duration": 340,
    "start_time": "2025-01-16T06:17:58.732Z"
   },
   {
    "duration": 3,
    "start_time": "2025-01-16T06:17:59.074Z"
   },
   {
    "duration": 295,
    "start_time": "2025-01-16T06:17:59.078Z"
   },
   {
    "duration": 0,
    "start_time": "2025-01-16T06:17:59.375Z"
   },
   {
    "duration": 7,
    "start_time": "2025-01-16T06:20:08.399Z"
   },
   {
    "duration": 18,
    "start_time": "2025-01-16T06:20:11.989Z"
   },
   {
    "duration": 165,
    "start_time": "2025-01-16T07:00:49.750Z"
   },
   {
    "duration": 6,
    "start_time": "2025-01-16T07:00:52.680Z"
   },
   {
    "duration": 20,
    "start_time": "2025-01-16T07:23:19.397Z"
   },
   {
    "duration": 1182,
    "start_time": "2025-01-16T07:24:47.891Z"
   },
   {
    "duration": 0,
    "start_time": "2025-01-16T07:24:49.077Z"
   },
   {
    "duration": 0,
    "start_time": "2025-01-16T07:24:49.078Z"
   },
   {
    "duration": 0,
    "start_time": "2025-01-16T07:24:49.079Z"
   },
   {
    "duration": 0,
    "start_time": "2025-01-16T07:24:49.080Z"
   },
   {
    "duration": 0,
    "start_time": "2025-01-16T07:24:49.081Z"
   },
   {
    "duration": 0,
    "start_time": "2025-01-16T07:24:49.082Z"
   },
   {
    "duration": 0,
    "start_time": "2025-01-16T07:24:49.083Z"
   },
   {
    "duration": 0,
    "start_time": "2025-01-16T07:24:49.084Z"
   },
   {
    "duration": 0,
    "start_time": "2025-01-16T07:24:49.085Z"
   },
   {
    "duration": 0,
    "start_time": "2025-01-16T07:24:49.086Z"
   },
   {
    "duration": 0,
    "start_time": "2025-01-16T07:24:49.086Z"
   },
   {
    "duration": 0,
    "start_time": "2025-01-16T07:24:49.088Z"
   },
   {
    "duration": 0,
    "start_time": "2025-01-16T07:24:49.088Z"
   },
   {
    "duration": 0,
    "start_time": "2025-01-16T07:24:49.089Z"
   },
   {
    "duration": 0,
    "start_time": "2025-01-16T07:24:49.090Z"
   },
   {
    "duration": 0,
    "start_time": "2025-01-16T07:24:49.091Z"
   },
   {
    "duration": 0,
    "start_time": "2025-01-16T07:24:49.111Z"
   },
   {
    "duration": 0,
    "start_time": "2025-01-16T07:24:49.113Z"
   },
   {
    "duration": 0,
    "start_time": "2025-01-16T07:24:49.114Z"
   },
   {
    "duration": 0,
    "start_time": "2025-01-16T07:24:49.116Z"
   },
   {
    "duration": 0,
    "start_time": "2025-01-16T07:24:49.117Z"
   },
   {
    "duration": 0,
    "start_time": "2025-01-16T07:24:49.119Z"
   },
   {
    "duration": 0,
    "start_time": "2025-01-16T07:24:49.121Z"
   },
   {
    "duration": 0,
    "start_time": "2025-01-16T07:24:49.122Z"
   },
   {
    "duration": 0,
    "start_time": "2025-01-16T07:24:49.124Z"
   },
   {
    "duration": 0,
    "start_time": "2025-01-16T07:24:49.125Z"
   },
   {
    "duration": 0,
    "start_time": "2025-01-16T07:24:49.126Z"
   },
   {
    "duration": 0,
    "start_time": "2025-01-16T07:24:49.128Z"
   },
   {
    "duration": 0,
    "start_time": "2025-01-16T07:24:49.129Z"
   },
   {
    "duration": 1,
    "start_time": "2025-01-16T07:24:49.130Z"
   },
   {
    "duration": 0,
    "start_time": "2025-01-16T07:24:49.132Z"
   },
   {
    "duration": 0,
    "start_time": "2025-01-16T07:24:49.134Z"
   },
   {
    "duration": 0,
    "start_time": "2025-01-16T07:24:49.136Z"
   },
   {
    "duration": 4,
    "start_time": "2025-01-16T07:24:59.342Z"
   },
   {
    "duration": 15,
    "start_time": "2025-01-16T07:25:02.984Z"
   },
   {
    "duration": 0,
    "start_time": "2025-01-16T07:25:03.002Z"
   },
   {
    "duration": 0,
    "start_time": "2025-01-16T07:25:03.004Z"
   },
   {
    "duration": 0,
    "start_time": "2025-01-16T07:25:03.006Z"
   },
   {
    "duration": 18,
    "start_time": "2025-01-16T07:25:03.011Z"
   },
   {
    "duration": 0,
    "start_time": "2025-01-16T07:25:03.031Z"
   },
   {
    "duration": 0,
    "start_time": "2025-01-16T07:25:03.033Z"
   },
   {
    "duration": 0,
    "start_time": "2025-01-16T07:25:03.034Z"
   },
   {
    "duration": 0,
    "start_time": "2025-01-16T07:25:03.035Z"
   },
   {
    "duration": 0,
    "start_time": "2025-01-16T07:25:03.036Z"
   },
   {
    "duration": 0,
    "start_time": "2025-01-16T07:25:03.038Z"
   },
   {
    "duration": 0,
    "start_time": "2025-01-16T07:25:03.038Z"
   },
   {
    "duration": 0,
    "start_time": "2025-01-16T07:25:03.040Z"
   },
   {
    "duration": 0,
    "start_time": "2025-01-16T07:25:03.041Z"
   },
   {
    "duration": 14,
    "start_time": "2025-01-16T07:25:03.042Z"
   },
   {
    "duration": 0,
    "start_time": "2025-01-16T07:25:03.058Z"
   },
   {
    "duration": 0,
    "start_time": "2025-01-16T07:25:03.060Z"
   },
   {
    "duration": 0,
    "start_time": "2025-01-16T07:25:03.061Z"
   },
   {
    "duration": 0,
    "start_time": "2025-01-16T07:25:03.062Z"
   },
   {
    "duration": 0,
    "start_time": "2025-01-16T07:25:03.064Z"
   },
   {
    "duration": 0,
    "start_time": "2025-01-16T07:25:03.112Z"
   },
   {
    "duration": 0,
    "start_time": "2025-01-16T07:25:03.113Z"
   },
   {
    "duration": 14,
    "start_time": "2025-01-16T07:25:03.115Z"
   },
   {
    "duration": 0,
    "start_time": "2025-01-16T07:25:03.131Z"
   },
   {
    "duration": 0,
    "start_time": "2025-01-16T07:25:03.132Z"
   },
   {
    "duration": 0,
    "start_time": "2025-01-16T07:25:03.133Z"
   },
   {
    "duration": 0,
    "start_time": "2025-01-16T07:25:03.134Z"
   },
   {
    "duration": 0,
    "start_time": "2025-01-16T07:25:03.135Z"
   },
   {
    "duration": 0,
    "start_time": "2025-01-16T07:25:03.136Z"
   },
   {
    "duration": 0,
    "start_time": "2025-01-16T07:25:03.137Z"
   },
   {
    "duration": 0,
    "start_time": "2025-01-16T07:25:03.138Z"
   },
   {
    "duration": 0,
    "start_time": "2025-01-16T07:25:03.139Z"
   },
   {
    "duration": 0,
    "start_time": "2025-01-16T07:25:03.140Z"
   },
   {
    "duration": 0,
    "start_time": "2025-01-16T07:25:03.141Z"
   },
   {
    "duration": 999,
    "start_time": "2025-01-16T07:25:33.247Z"
   },
   {
    "duration": 523,
    "start_time": "2025-01-16T07:25:34.248Z"
   },
   {
    "duration": 79,
    "start_time": "2025-01-16T07:25:34.773Z"
   },
   {
    "duration": 33,
    "start_time": "2025-01-16T07:25:34.854Z"
   },
   {
    "duration": 132,
    "start_time": "2025-01-16T07:25:34.889Z"
   },
   {
    "duration": 6,
    "start_time": "2025-01-16T07:25:35.023Z"
   },
   {
    "duration": 3,
    "start_time": "2025-01-16T07:25:35.031Z"
   },
   {
    "duration": 4,
    "start_time": "2025-01-16T07:25:35.036Z"
   },
   {
    "duration": 15,
    "start_time": "2025-01-16T07:25:35.041Z"
   },
   {
    "duration": 8,
    "start_time": "2025-01-16T07:25:35.057Z"
   },
   {
    "duration": 6,
    "start_time": "2025-01-16T07:25:35.067Z"
   },
   {
    "duration": 46,
    "start_time": "2025-01-16T07:25:35.074Z"
   },
   {
    "duration": 117,
    "start_time": "2025-01-16T07:25:35.121Z"
   },
   {
    "duration": 10,
    "start_time": "2025-01-16T07:25:35.242Z"
   },
   {
    "duration": 8,
    "start_time": "2025-01-16T07:25:35.254Z"
   },
   {
    "duration": 13,
    "start_time": "2025-01-16T07:25:35.264Z"
   },
   {
    "duration": 34,
    "start_time": "2025-01-16T07:25:35.278Z"
   },
   {
    "duration": 9,
    "start_time": "2025-01-16T07:25:35.313Z"
   },
   {
    "duration": 1082,
    "start_time": "2025-01-16T07:25:35.324Z"
   },
   {
    "duration": 105,
    "start_time": "2025-01-16T07:25:36.412Z"
   },
   {
    "duration": 146,
    "start_time": "2025-01-16T07:25:36.519Z"
   },
   {
    "duration": 5,
    "start_time": "2025-01-16T07:25:36.667Z"
   },
   {
    "duration": 5,
    "start_time": "2025-01-16T07:25:36.673Z"
   },
   {
    "duration": 3,
    "start_time": "2025-01-16T07:25:36.679Z"
   },
   {
    "duration": 3,
    "start_time": "2025-01-16T07:25:36.684Z"
   },
   {
    "duration": 414,
    "start_time": "2025-01-16T07:25:36.712Z"
   },
   {
    "duration": 357,
    "start_time": "2025-01-16T07:25:37.128Z"
   },
   {
    "duration": 3,
    "start_time": "2025-01-16T07:25:37.487Z"
   },
   {
    "duration": 24,
    "start_time": "2025-01-16T07:25:37.491Z"
   },
   {
    "duration": 80,
    "start_time": "2025-01-16T07:25:37.516Z"
   },
   {
    "duration": 215,
    "start_time": "2025-01-16T07:25:37.598Z"
   },
   {
    "duration": 8,
    "start_time": "2025-01-16T07:25:37.815Z"
   },
   {
    "duration": 1214,
    "start_time": "2025-01-16T07:25:37.825Z"
   },
   {
    "duration": 4,
    "start_time": "2025-01-16T07:25:39.040Z"
   },
   {
    "duration": 5,
    "start_time": "2025-01-16T07:26:11.588Z"
   },
   {
    "duration": 5,
    "start_time": "2025-01-16T07:26:36.664Z"
   },
   {
    "duration": 6,
    "start_time": "2025-01-16T07:26:44.781Z"
   },
   {
    "duration": 5,
    "start_time": "2025-01-16T07:47:04.113Z"
   },
   {
    "duration": 7,
    "start_time": "2025-01-16T07:47:16.074Z"
   },
   {
    "duration": 6,
    "start_time": "2025-01-16T08:09:32.406Z"
   },
   {
    "duration": 242,
    "start_time": "2025-01-16T08:09:53.488Z"
   },
   {
    "duration": 991,
    "start_time": "2025-01-16T08:10:18.863Z"
   },
   {
    "duration": 529,
    "start_time": "2025-01-16T08:10:19.856Z"
   },
   {
    "duration": 85,
    "start_time": "2025-01-16T08:10:20.387Z"
   },
   {
    "duration": 41,
    "start_time": "2025-01-16T08:10:20.474Z"
   },
   {
    "duration": 117,
    "start_time": "2025-01-16T08:10:20.517Z"
   },
   {
    "duration": 6,
    "start_time": "2025-01-16T08:10:20.635Z"
   },
   {
    "duration": 3,
    "start_time": "2025-01-16T08:10:20.643Z"
   },
   {
    "duration": 4,
    "start_time": "2025-01-16T08:10:20.647Z"
   },
   {
    "duration": 13,
    "start_time": "2025-01-16T08:10:20.653Z"
   },
   {
    "duration": 6,
    "start_time": "2025-01-16T08:10:20.670Z"
   },
   {
    "duration": 35,
    "start_time": "2025-01-16T08:10:20.678Z"
   },
   {
    "duration": 8,
    "start_time": "2025-01-16T08:10:20.715Z"
   },
   {
    "duration": 123,
    "start_time": "2025-01-16T08:10:20.725Z"
   },
   {
    "duration": 13,
    "start_time": "2025-01-16T08:10:20.850Z"
   },
   {
    "duration": 9,
    "start_time": "2025-01-16T08:10:20.864Z"
   },
   {
    "duration": 12,
    "start_time": "2025-01-16T08:10:20.874Z"
   },
   {
    "duration": 29,
    "start_time": "2025-01-16T08:10:20.888Z"
   },
   {
    "duration": 10,
    "start_time": "2025-01-16T08:10:20.919Z"
   },
   {
    "duration": 1125,
    "start_time": "2025-01-16T08:10:20.930Z"
   },
   {
    "duration": 110,
    "start_time": "2025-01-16T08:10:22.056Z"
   },
   {
    "duration": 148,
    "start_time": "2025-01-16T08:10:22.168Z"
   },
   {
    "duration": 5,
    "start_time": "2025-01-16T08:10:22.317Z"
   },
   {
    "duration": 5,
    "start_time": "2025-01-16T08:10:22.323Z"
   },
   {
    "duration": 3,
    "start_time": "2025-01-16T08:10:22.329Z"
   },
   {
    "duration": 3,
    "start_time": "2025-01-16T08:10:22.334Z"
   },
   {
    "duration": 480,
    "start_time": "2025-01-16T08:10:22.339Z"
   },
   {
    "duration": 365,
    "start_time": "2025-01-16T08:10:22.821Z"
   },
   {
    "duration": 3,
    "start_time": "2025-01-16T08:10:23.190Z"
   },
   {
    "duration": 19,
    "start_time": "2025-01-16T08:10:23.196Z"
   },
   {
    "duration": 104,
    "start_time": "2025-01-16T08:10:23.217Z"
   },
   {
    "duration": 200,
    "start_time": "2025-01-16T08:10:23.323Z"
   },
   {
    "duration": 7,
    "start_time": "2025-01-16T08:10:23.525Z"
   },
   {
    "duration": 1257,
    "start_time": "2025-01-16T08:10:23.535Z"
   },
   {
    "duration": 6,
    "start_time": "2025-01-16T08:10:24.793Z"
   },
   {
    "duration": 1239117,
    "start_time": "2025-01-16T08:10:24.801Z"
   },
   {
    "duration": 6,
    "start_time": "2025-01-16T08:31:03.920Z"
   },
   {
    "duration": 1118,
    "start_time": "2025-01-16T08:43:08.180Z"
   },
   {
    "duration": 236,
    "start_time": "2025-01-16T08:43:25.451Z"
   },
   {
    "duration": 6,
    "start_time": "2025-01-16T08:44:05.192Z"
   },
   {
    "duration": 6,
    "start_time": "2025-01-16T08:45:51.751Z"
   },
   {
    "duration": 169,
    "start_time": "2025-01-16T08:56:37.855Z"
   },
   {
    "duration": 962,
    "start_time": "2025-01-16T08:56:39.887Z"
   },
   {
    "duration": 494,
    "start_time": "2025-01-16T08:56:40.851Z"
   },
   {
    "duration": 88,
    "start_time": "2025-01-16T08:56:41.347Z"
   },
   {
    "duration": 31,
    "start_time": "2025-01-16T08:56:41.438Z"
   },
   {
    "duration": 117,
    "start_time": "2025-01-16T08:56:41.471Z"
   },
   {
    "duration": 6,
    "start_time": "2025-01-16T08:56:41.590Z"
   },
   {
    "duration": 16,
    "start_time": "2025-01-16T08:56:41.598Z"
   },
   {
    "duration": 5,
    "start_time": "2025-01-16T08:56:41.616Z"
   },
   {
    "duration": 13,
    "start_time": "2025-01-16T08:56:41.622Z"
   },
   {
    "duration": 6,
    "start_time": "2025-01-16T08:56:41.638Z"
   },
   {
    "duration": 6,
    "start_time": "2025-01-16T08:56:41.646Z"
   },
   {
    "duration": 8,
    "start_time": "2025-01-16T08:56:41.654Z"
   },
   {
    "duration": 132,
    "start_time": "2025-01-16T08:56:41.664Z"
   },
   {
    "duration": 22,
    "start_time": "2025-01-16T08:56:41.798Z"
   },
   {
    "duration": 8,
    "start_time": "2025-01-16T08:56:41.822Z"
   },
   {
    "duration": 12,
    "start_time": "2025-01-16T08:56:41.831Z"
   },
   {
    "duration": 9,
    "start_time": "2025-01-16T08:56:41.845Z"
   },
   {
    "duration": 9,
    "start_time": "2025-01-16T08:56:41.856Z"
   },
   {
    "duration": 1119,
    "start_time": "2025-01-16T08:56:41.866Z"
   },
   {
    "duration": 111,
    "start_time": "2025-01-16T08:56:42.987Z"
   },
   {
    "duration": 148,
    "start_time": "2025-01-16T08:56:43.100Z"
   },
   {
    "duration": 4,
    "start_time": "2025-01-16T08:56:43.250Z"
   },
   {
    "duration": 4,
    "start_time": "2025-01-16T08:56:43.256Z"
   },
   {
    "duration": 3,
    "start_time": "2025-01-16T08:56:43.262Z"
   },
   {
    "duration": 3,
    "start_time": "2025-01-16T08:56:43.267Z"
   },
   {
    "duration": 456,
    "start_time": "2025-01-16T08:56:43.272Z"
   },
   {
    "duration": 411,
    "start_time": "2025-01-16T08:56:43.730Z"
   },
   {
    "duration": 3,
    "start_time": "2025-01-16T08:56:44.145Z"
   },
   {
    "duration": 9,
    "start_time": "2025-01-16T08:56:44.150Z"
   },
   {
    "duration": 19,
    "start_time": "2025-01-16T08:56:44.161Z"
   },
   {
    "duration": 232,
    "start_time": "2025-01-16T08:56:44.181Z"
   },
   {
    "duration": 6,
    "start_time": "2025-01-16T08:56:44.414Z"
   },
   {
    "duration": 1224,
    "start_time": "2025-01-16T08:56:44.422Z"
   },
   {
    "duration": 5,
    "start_time": "2025-01-16T08:56:45.648Z"
   },
   {
    "duration": 224527,
    "start_time": "2025-01-16T08:56:45.655Z"
   },
   {
    "duration": 3088,
    "start_time": "2025-01-16T09:00:33.181Z"
   },
   {
    "duration": 3011,
    "start_time": "2025-01-16T09:02:03.258Z"
   },
   {
    "duration": 3001,
    "start_time": "2025-01-16T09:02:13.484Z"
   },
   {
    "duration": 2992,
    "start_time": "2025-01-16T09:03:17.750Z"
   },
   {
    "duration": 939,
    "start_time": "2025-01-16T09:06:46.713Z"
   },
   {
    "duration": 966,
    "start_time": "2025-01-16T09:09:31.165Z"
   },
   {
    "duration": 5,
    "start_time": "2025-01-16T09:09:47.489Z"
   },
   {
    "duration": 6,
    "start_time": "2025-01-16T09:10:20.713Z"
   },
   {
    "duration": 6,
    "start_time": "2025-01-16T09:14:05.393Z"
   },
   {
    "duration": 6,
    "start_time": "2025-01-16T09:14:17.600Z"
   },
   {
    "duration": 1000,
    "start_time": "2025-01-16T09:20:12.439Z"
   },
   {
    "duration": 505,
    "start_time": "2025-01-16T09:20:13.442Z"
   },
   {
    "duration": 83,
    "start_time": "2025-01-16T09:20:13.949Z"
   },
   {
    "duration": 32,
    "start_time": "2025-01-16T09:20:14.034Z"
   },
   {
    "duration": 118,
    "start_time": "2025-01-16T09:20:14.068Z"
   },
   {
    "duration": 5,
    "start_time": "2025-01-16T09:20:14.188Z"
   },
   {
    "duration": 16,
    "start_time": "2025-01-16T09:20:14.195Z"
   },
   {
    "duration": 4,
    "start_time": "2025-01-16T09:20:14.213Z"
   },
   {
    "duration": 20,
    "start_time": "2025-01-16T09:20:14.219Z"
   },
   {
    "duration": 7,
    "start_time": "2025-01-16T09:20:14.242Z"
   },
   {
    "duration": 6,
    "start_time": "2025-01-16T09:20:14.251Z"
   },
   {
    "duration": 7,
    "start_time": "2025-01-16T09:20:14.259Z"
   },
   {
    "duration": 130,
    "start_time": "2025-01-16T09:20:14.268Z"
   },
   {
    "duration": 15,
    "start_time": "2025-01-16T09:20:14.399Z"
   },
   {
    "duration": 7,
    "start_time": "2025-01-16T09:20:14.416Z"
   },
   {
    "duration": 12,
    "start_time": "2025-01-16T09:20:14.425Z"
   },
   {
    "duration": 10,
    "start_time": "2025-01-16T09:20:14.438Z"
   },
   {
    "duration": 8,
    "start_time": "2025-01-16T09:20:14.450Z"
   },
   {
    "duration": 1138,
    "start_time": "2025-01-16T09:20:14.459Z"
   },
   {
    "duration": 114,
    "start_time": "2025-01-16T09:20:15.599Z"
   },
   {
    "duration": 143,
    "start_time": "2025-01-16T09:20:15.715Z"
   },
   {
    "duration": 5,
    "start_time": "2025-01-16T09:20:15.859Z"
   },
   {
    "duration": 4,
    "start_time": "2025-01-16T09:20:15.866Z"
   },
   {
    "duration": 5,
    "start_time": "2025-01-16T09:20:15.872Z"
   },
   {
    "duration": 3,
    "start_time": "2025-01-16T09:20:15.878Z"
   },
   {
    "duration": 448,
    "start_time": "2025-01-16T09:20:15.883Z"
   },
   {
    "duration": 342,
    "start_time": "2025-01-16T09:20:16.333Z"
   },
   {
    "duration": 3,
    "start_time": "2025-01-16T09:20:16.680Z"
   },
   {
    "duration": 6,
    "start_time": "2025-01-16T09:20:16.685Z"
   },
   {
    "duration": 96,
    "start_time": "2025-01-16T09:20:16.693Z"
   },
   {
    "duration": 225,
    "start_time": "2025-01-16T09:20:16.791Z"
   },
   {
    "duration": 8,
    "start_time": "2025-01-16T09:20:17.018Z"
   },
   {
    "duration": 1068,
    "start_time": "2025-01-16T09:20:17.028Z"
   },
   {
    "duration": 5,
    "start_time": "2025-01-16T09:20:18.098Z"
   },
   {
    "duration": 225046,
    "start_time": "2025-01-16T09:20:18.105Z"
   },
   {
    "duration": 3022,
    "start_time": "2025-01-16T09:24:03.153Z"
   },
   {
    "duration": 6,
    "start_time": "2025-01-16T09:27:10.122Z"
   },
   {
    "duration": 3014,
    "start_time": "2025-01-16T09:27:21.997Z"
   },
   {
    "duration": 2992,
    "start_time": "2025-01-16T09:28:50.789Z"
   },
   {
    "duration": 2984,
    "start_time": "2025-01-16T09:29:28.980Z"
   },
   {
    "duration": 3023,
    "start_time": "2025-01-16T09:29:43.767Z"
   },
   {
    "duration": 3008,
    "start_time": "2025-01-16T09:30:23.693Z"
   },
   {
    "duration": 2991,
    "start_time": "2025-01-16T09:30:41.554Z"
   },
   {
    "duration": 7,
    "start_time": "2025-01-16T09:35:59.997Z"
   },
   {
    "duration": 6,
    "start_time": "2025-01-16T09:36:58.569Z"
   },
   {
    "duration": 6,
    "start_time": "2025-01-16T09:37:09.070Z"
   },
   {
    "duration": 1041,
    "start_time": "2025-01-16T09:42:53.922Z"
   },
   {
    "duration": 546,
    "start_time": "2025-01-16T09:42:54.965Z"
   },
   {
    "duration": 78,
    "start_time": "2025-01-16T09:42:55.513Z"
   },
   {
    "duration": 42,
    "start_time": "2025-01-16T09:42:55.593Z"
   },
   {
    "duration": 117,
    "start_time": "2025-01-16T09:42:55.636Z"
   },
   {
    "duration": 6,
    "start_time": "2025-01-16T09:42:55.754Z"
   },
   {
    "duration": 3,
    "start_time": "2025-01-16T09:42:55.762Z"
   },
   {
    "duration": 5,
    "start_time": "2025-01-16T09:42:55.767Z"
   },
   {
    "duration": 14,
    "start_time": "2025-01-16T09:42:55.773Z"
   },
   {
    "duration": 6,
    "start_time": "2025-01-16T09:42:55.813Z"
   },
   {
    "duration": 6,
    "start_time": "2025-01-16T09:42:55.821Z"
   },
   {
    "duration": 9,
    "start_time": "2025-01-16T09:42:55.828Z"
   },
   {
    "duration": 123,
    "start_time": "2025-01-16T09:42:55.838Z"
   },
   {
    "duration": 15,
    "start_time": "2025-01-16T09:42:55.963Z"
   },
   {
    "duration": 8,
    "start_time": "2025-01-16T09:42:55.980Z"
   },
   {
    "duration": 29,
    "start_time": "2025-01-16T09:42:55.990Z"
   },
   {
    "duration": 9,
    "start_time": "2025-01-16T09:42:56.021Z"
   },
   {
    "duration": 7,
    "start_time": "2025-01-16T09:42:56.032Z"
   },
   {
    "duration": 1116,
    "start_time": "2025-01-16T09:42:56.040Z"
   },
   {
    "duration": 117,
    "start_time": "2025-01-16T09:42:57.158Z"
   },
   {
    "duration": 141,
    "start_time": "2025-01-16T09:42:57.277Z"
   },
   {
    "duration": 4,
    "start_time": "2025-01-16T09:42:57.420Z"
   },
   {
    "duration": 4,
    "start_time": "2025-01-16T09:42:57.426Z"
   },
   {
    "duration": 4,
    "start_time": "2025-01-16T09:42:57.431Z"
   },
   {
    "duration": 3,
    "start_time": "2025-01-16T09:42:57.437Z"
   },
   {
    "duration": 470,
    "start_time": "2025-01-16T09:42:57.442Z"
   },
   {
    "duration": 364,
    "start_time": "2025-01-16T09:42:57.914Z"
   },
   {
    "duration": 4,
    "start_time": "2025-01-16T09:42:58.282Z"
   },
   {
    "duration": 7,
    "start_time": "2025-01-16T09:42:58.288Z"
   },
   {
    "duration": 92,
    "start_time": "2025-01-16T09:42:58.297Z"
   },
   {
    "duration": 144,
    "start_time": "2025-01-16T09:42:58.391Z"
   },
   {
    "duration": 7,
    "start_time": "2025-01-16T09:42:58.613Z"
   },
   {
    "duration": 1037,
    "start_time": "2025-01-16T09:42:58.622Z"
   },
   {
    "duration": 5,
    "start_time": "2025-01-16T09:42:59.661Z"
   },
   {
    "duration": 224594,
    "start_time": "2025-01-16T09:42:59.668Z"
   },
   {
    "duration": 3024,
    "start_time": "2025-01-16T09:46:44.264Z"
   },
   {
    "duration": 7,
    "start_time": "2025-01-16T09:46:47.290Z"
   },
   {
    "duration": 2735,
    "start_time": "2025-01-16T14:41:23.473Z"
   },
   {
    "duration": 650,
    "start_time": "2025-01-16T14:41:26.210Z"
   },
   {
    "duration": 87,
    "start_time": "2025-01-16T14:41:26.861Z"
   },
   {
    "duration": 45,
    "start_time": "2025-01-16T14:41:26.950Z"
   },
   {
    "duration": 118,
    "start_time": "2025-01-16T14:41:26.998Z"
   },
   {
    "duration": 5,
    "start_time": "2025-01-16T14:41:27.118Z"
   },
   {
    "duration": 3,
    "start_time": "2025-01-16T14:41:27.125Z"
   },
   {
    "duration": 4,
    "start_time": "2025-01-16T14:41:27.130Z"
   },
   {
    "duration": 49,
    "start_time": "2025-01-16T14:41:27.136Z"
   },
   {
    "duration": 8,
    "start_time": "2025-01-16T14:41:27.188Z"
   },
   {
    "duration": 6,
    "start_time": "2025-01-16T14:41:27.197Z"
   },
   {
    "duration": 9,
    "start_time": "2025-01-16T14:41:27.204Z"
   },
   {
    "duration": 119,
    "start_time": "2025-01-16T14:41:27.214Z"
   },
   {
    "duration": 12,
    "start_time": "2025-01-16T14:41:27.337Z"
   },
   {
    "duration": 24,
    "start_time": "2025-01-16T14:41:27.350Z"
   },
   {
    "duration": 13,
    "start_time": "2025-01-16T14:41:27.375Z"
   },
   {
    "duration": 10,
    "start_time": "2025-01-16T14:41:27.389Z"
   },
   {
    "duration": 7,
    "start_time": "2025-01-16T14:41:27.401Z"
   },
   {
    "duration": 1110,
    "start_time": "2025-01-16T14:41:27.410Z"
   },
   {
    "duration": 162,
    "start_time": "2025-01-16T14:41:28.522Z"
   },
   {
    "duration": 145,
    "start_time": "2025-01-16T14:41:28.686Z"
   },
   {
    "duration": 5,
    "start_time": "2025-01-16T14:41:28.833Z"
   },
   {
    "duration": 4,
    "start_time": "2025-01-16T14:41:28.840Z"
   },
   {
    "duration": 3,
    "start_time": "2025-01-16T14:41:28.846Z"
   },
   {
    "duration": 3,
    "start_time": "2025-01-16T14:41:28.870Z"
   },
   {
    "duration": 484,
    "start_time": "2025-01-16T14:41:28.875Z"
   },
   {
    "duration": 368,
    "start_time": "2025-01-16T14:41:29.360Z"
   },
   {
    "duration": 5,
    "start_time": "2025-01-16T14:41:29.730Z"
   },
   {
    "duration": 565,
    "start_time": "2025-01-16T14:41:29.737Z"
   },
   {
    "duration": 0,
    "start_time": "2025-01-16T14:41:30.304Z"
   },
   {
    "duration": 0,
    "start_time": "2025-01-16T14:41:30.305Z"
   },
   {
    "duration": 0,
    "start_time": "2025-01-16T14:41:30.306Z"
   },
   {
    "duration": 0,
    "start_time": "2025-01-16T14:41:30.307Z"
   },
   {
    "duration": 0,
    "start_time": "2025-01-16T14:41:30.309Z"
   },
   {
    "duration": 0,
    "start_time": "2025-01-16T14:41:30.310Z"
   },
   {
    "duration": 0,
    "start_time": "2025-01-16T14:41:30.311Z"
   },
   {
    "duration": 0,
    "start_time": "2025-01-16T14:41:30.312Z"
   },
   {
    "duration": 3,
    "start_time": "2025-01-16T14:41:41.993Z"
   },
   {
    "duration": 489,
    "start_time": "2025-01-16T14:41:41.999Z"
   },
   {
    "duration": 81,
    "start_time": "2025-01-16T14:41:42.490Z"
   },
   {
    "duration": 45,
    "start_time": "2025-01-16T14:41:42.573Z"
   },
   {
    "duration": 109,
    "start_time": "2025-01-16T14:41:42.622Z"
   },
   {
    "duration": 6,
    "start_time": "2025-01-16T14:41:42.733Z"
   },
   {
    "duration": 3,
    "start_time": "2025-01-16T14:41:42.741Z"
   },
   {
    "duration": 25,
    "start_time": "2025-01-16T14:41:42.746Z"
   },
   {
    "duration": 14,
    "start_time": "2025-01-16T14:41:42.772Z"
   },
   {
    "duration": 7,
    "start_time": "2025-01-16T14:41:42.787Z"
   },
   {
    "duration": 6,
    "start_time": "2025-01-16T14:41:42.795Z"
   },
   {
    "duration": 7,
    "start_time": "2025-01-16T14:41:42.803Z"
   },
   {
    "duration": 130,
    "start_time": "2025-01-16T14:41:42.811Z"
   },
   {
    "duration": 10,
    "start_time": "2025-01-16T14:41:42.945Z"
   },
   {
    "duration": 17,
    "start_time": "2025-01-16T14:41:42.957Z"
   },
   {
    "duration": 13,
    "start_time": "2025-01-16T14:41:42.976Z"
   },
   {
    "duration": 9,
    "start_time": "2025-01-16T14:41:42.991Z"
   },
   {
    "duration": 5,
    "start_time": "2025-01-16T14:41:43.002Z"
   },
   {
    "duration": 1098,
    "start_time": "2025-01-16T14:41:43.009Z"
   },
   {
    "duration": 112,
    "start_time": "2025-01-16T14:41:44.109Z"
   },
   {
    "duration": 144,
    "start_time": "2025-01-16T14:41:44.223Z"
   },
   {
    "duration": 4,
    "start_time": "2025-01-16T14:41:44.369Z"
   },
   {
    "duration": 5,
    "start_time": "2025-01-16T14:41:44.375Z"
   },
   {
    "duration": 4,
    "start_time": "2025-01-16T14:41:44.381Z"
   },
   {
    "duration": 3,
    "start_time": "2025-01-16T14:41:44.387Z"
   },
   {
    "duration": 572,
    "start_time": "2025-01-16T14:41:44.392Z"
   },
   {
    "duration": 371,
    "start_time": "2025-01-16T14:41:44.966Z"
   },
   {
    "duration": 3,
    "start_time": "2025-01-16T14:41:45.340Z"
   },
   {
    "duration": 44,
    "start_time": "2025-01-16T14:41:45.345Z"
   },
   {
    "duration": 0,
    "start_time": "2025-01-16T14:41:45.390Z"
   },
   {
    "duration": 0,
    "start_time": "2025-01-16T14:41:45.391Z"
   },
   {
    "duration": 0,
    "start_time": "2025-01-16T14:41:45.392Z"
   },
   {
    "duration": 0,
    "start_time": "2025-01-16T14:41:45.393Z"
   },
   {
    "duration": 0,
    "start_time": "2025-01-16T14:41:45.394Z"
   },
   {
    "duration": 0,
    "start_time": "2025-01-16T14:41:45.395Z"
   },
   {
    "duration": 0,
    "start_time": "2025-01-16T14:41:45.397Z"
   },
   {
    "duration": 0,
    "start_time": "2025-01-16T14:41:45.398Z"
   },
   {
    "duration": 1004,
    "start_time": "2025-01-16T14:42:55.942Z"
   },
   {
    "duration": 505,
    "start_time": "2025-01-16T14:42:56.948Z"
   },
   {
    "duration": 88,
    "start_time": "2025-01-16T14:42:57.455Z"
   },
   {
    "duration": 41,
    "start_time": "2025-01-16T14:42:57.545Z"
   },
   {
    "duration": 110,
    "start_time": "2025-01-16T14:42:57.588Z"
   },
   {
    "duration": 5,
    "start_time": "2025-01-16T14:42:57.700Z"
   },
   {
    "duration": 3,
    "start_time": "2025-01-16T14:42:57.707Z"
   },
   {
    "duration": 4,
    "start_time": "2025-01-16T14:42:57.712Z"
   },
   {
    "duration": 14,
    "start_time": "2025-01-16T14:42:57.717Z"
   },
   {
    "duration": 37,
    "start_time": "2025-01-16T14:42:57.734Z"
   },
   {
    "duration": 6,
    "start_time": "2025-01-16T14:42:57.773Z"
   },
   {
    "duration": 9,
    "start_time": "2025-01-16T14:42:57.781Z"
   },
   {
    "duration": 124,
    "start_time": "2025-01-16T14:42:57.792Z"
   },
   {
    "duration": 12,
    "start_time": "2025-01-16T14:42:57.917Z"
   },
   {
    "duration": 8,
    "start_time": "2025-01-16T14:42:57.931Z"
   },
   {
    "duration": 34,
    "start_time": "2025-01-16T14:42:57.940Z"
   },
   {
    "duration": 10,
    "start_time": "2025-01-16T14:42:57.975Z"
   },
   {
    "duration": 8,
    "start_time": "2025-01-16T14:42:57.986Z"
   },
   {
    "duration": 1089,
    "start_time": "2025-01-16T14:42:57.996Z"
   },
   {
    "duration": 115,
    "start_time": "2025-01-16T14:42:59.086Z"
   },
   {
    "duration": 145,
    "start_time": "2025-01-16T14:42:59.203Z"
   },
   {
    "duration": 5,
    "start_time": "2025-01-16T14:42:59.350Z"
   },
   {
    "duration": 17,
    "start_time": "2025-01-16T14:42:59.356Z"
   },
   {
    "duration": 4,
    "start_time": "2025-01-16T14:42:59.374Z"
   },
   {
    "duration": 3,
    "start_time": "2025-01-16T14:42:59.380Z"
   },
   {
    "duration": 494,
    "start_time": "2025-01-16T14:42:59.385Z"
   },
   {
    "duration": 357,
    "start_time": "2025-01-16T14:42:59.881Z"
   },
   {
    "duration": 3,
    "start_time": "2025-01-16T14:43:00.243Z"
   },
   {
    "duration": 620,
    "start_time": "2025-01-16T14:43:00.247Z"
   },
   {
    "duration": 0,
    "start_time": "2025-01-16T14:43:00.870Z"
   },
   {
    "duration": 0,
    "start_time": "2025-01-16T14:43:00.871Z"
   },
   {
    "duration": 0,
    "start_time": "2025-01-16T14:43:00.873Z"
   },
   {
    "duration": 0,
    "start_time": "2025-01-16T14:43:00.875Z"
   },
   {
    "duration": 0,
    "start_time": "2025-01-16T14:43:00.876Z"
   },
   {
    "duration": 0,
    "start_time": "2025-01-16T14:43:00.877Z"
   },
   {
    "duration": 0,
    "start_time": "2025-01-16T14:43:00.879Z"
   },
   {
    "duration": 0,
    "start_time": "2025-01-16T14:43:00.883Z"
   },
   {
    "duration": 993,
    "start_time": "2025-01-16T14:44:26.341Z"
   },
   {
    "duration": 496,
    "start_time": "2025-01-16T14:44:27.336Z"
   },
   {
    "duration": 81,
    "start_time": "2025-01-16T14:44:27.834Z"
   },
   {
    "duration": 32,
    "start_time": "2025-01-16T14:44:27.917Z"
   },
   {
    "duration": 122,
    "start_time": "2025-01-16T14:44:27.952Z"
   },
   {
    "duration": 6,
    "start_time": "2025-01-16T14:44:28.076Z"
   },
   {
    "duration": 3,
    "start_time": "2025-01-16T14:44:28.083Z"
   },
   {
    "duration": 3,
    "start_time": "2025-01-16T14:44:28.088Z"
   },
   {
    "duration": 13,
    "start_time": "2025-01-16T14:44:28.093Z"
   },
   {
    "duration": 8,
    "start_time": "2025-01-16T14:44:28.108Z"
   },
   {
    "duration": 6,
    "start_time": "2025-01-16T14:44:28.117Z"
   },
   {
    "duration": 50,
    "start_time": "2025-01-16T14:44:28.125Z"
   },
   {
    "duration": 107,
    "start_time": "2025-01-16T14:44:28.177Z"
   },
   {
    "duration": 12,
    "start_time": "2025-01-16T14:44:28.289Z"
   },
   {
    "duration": 9,
    "start_time": "2025-01-16T14:44:28.303Z"
   },
   {
    "duration": 12,
    "start_time": "2025-01-16T14:44:28.313Z"
   },
   {
    "duration": 9,
    "start_time": "2025-01-16T14:44:28.327Z"
   },
   {
    "duration": 8,
    "start_time": "2025-01-16T14:44:28.370Z"
   },
   {
    "duration": 1097,
    "start_time": "2025-01-16T14:44:28.379Z"
   },
   {
    "duration": 114,
    "start_time": "2025-01-16T14:44:29.478Z"
   },
   {
    "duration": 150,
    "start_time": "2025-01-16T14:44:29.594Z"
   },
   {
    "duration": 4,
    "start_time": "2025-01-16T14:44:29.746Z"
   },
   {
    "duration": 18,
    "start_time": "2025-01-16T14:44:29.752Z"
   },
   {
    "duration": 3,
    "start_time": "2025-01-16T14:44:29.771Z"
   },
   {
    "duration": 3,
    "start_time": "2025-01-16T14:44:29.776Z"
   },
   {
    "duration": 464,
    "start_time": "2025-01-16T14:44:29.781Z"
   },
   {
    "duration": 374,
    "start_time": "2025-01-16T14:44:30.247Z"
   },
   {
    "duration": 3,
    "start_time": "2025-01-16T14:44:30.623Z"
   },
   {
    "duration": 615,
    "start_time": "2025-01-16T14:44:30.628Z"
   },
   {
    "duration": 0,
    "start_time": "2025-01-16T14:44:31.245Z"
   },
   {
    "duration": 0,
    "start_time": "2025-01-16T14:44:31.246Z"
   },
   {
    "duration": 0,
    "start_time": "2025-01-16T14:44:31.248Z"
   },
   {
    "duration": 0,
    "start_time": "2025-01-16T14:44:31.249Z"
   },
   {
    "duration": 0,
    "start_time": "2025-01-16T14:44:31.250Z"
   },
   {
    "duration": 0,
    "start_time": "2025-01-16T14:44:31.251Z"
   },
   {
    "duration": 0,
    "start_time": "2025-01-16T14:44:31.252Z"
   },
   {
    "duration": 0,
    "start_time": "2025-01-16T14:44:31.253Z"
   },
   {
    "duration": 975,
    "start_time": "2025-01-16T14:45:03.844Z"
   },
   {
    "duration": 505,
    "start_time": "2025-01-16T14:45:04.822Z"
   },
   {
    "duration": 83,
    "start_time": "2025-01-16T14:45:05.329Z"
   },
   {
    "duration": 33,
    "start_time": "2025-01-16T14:45:05.414Z"
   },
   {
    "duration": 128,
    "start_time": "2025-01-16T14:45:05.449Z"
   },
   {
    "duration": 5,
    "start_time": "2025-01-16T14:45:05.579Z"
   },
   {
    "duration": 3,
    "start_time": "2025-01-16T14:45:05.586Z"
   },
   {
    "duration": 4,
    "start_time": "2025-01-16T14:45:05.591Z"
   },
   {
    "duration": 13,
    "start_time": "2025-01-16T14:45:05.597Z"
   },
   {
    "duration": 6,
    "start_time": "2025-01-16T14:45:05.612Z"
   },
   {
    "duration": 6,
    "start_time": "2025-01-16T14:45:05.620Z"
   },
   {
    "duration": 45,
    "start_time": "2025-01-16T14:45:05.628Z"
   },
   {
    "duration": 110,
    "start_time": "2025-01-16T14:45:05.674Z"
   },
   {
    "duration": 10,
    "start_time": "2025-01-16T14:45:05.788Z"
   },
   {
    "duration": 8,
    "start_time": "2025-01-16T14:45:05.800Z"
   },
   {
    "duration": 12,
    "start_time": "2025-01-16T14:45:05.810Z"
   },
   {
    "duration": 10,
    "start_time": "2025-01-16T14:45:05.824Z"
   },
   {
    "duration": 38,
    "start_time": "2025-01-16T14:45:05.835Z"
   },
   {
    "duration": 1125,
    "start_time": "2025-01-16T14:45:05.875Z"
   },
   {
    "duration": 111,
    "start_time": "2025-01-16T14:45:07.002Z"
   },
   {
    "duration": 154,
    "start_time": "2025-01-16T14:45:07.115Z"
   },
   {
    "duration": 6,
    "start_time": "2025-01-16T14:45:07.270Z"
   },
   {
    "duration": 5,
    "start_time": "2025-01-16T14:45:07.277Z"
   },
   {
    "duration": 3,
    "start_time": "2025-01-16T14:45:07.284Z"
   },
   {
    "duration": 4,
    "start_time": "2025-01-16T14:45:07.288Z"
   },
   {
    "duration": 491,
    "start_time": "2025-01-16T14:45:07.294Z"
   },
   {
    "duration": 355,
    "start_time": "2025-01-16T14:45:07.786Z"
   },
   {
    "duration": 3,
    "start_time": "2025-01-16T14:45:08.143Z"
   },
   {
    "duration": 8,
    "start_time": "2025-01-16T14:45:08.148Z"
   },
   {
    "duration": 794,
    "start_time": "2025-01-16T14:45:08.170Z"
   },
   {
    "duration": 0,
    "start_time": "2025-01-16T14:45:08.966Z"
   },
   {
    "duration": 0,
    "start_time": "2025-01-16T14:45:08.970Z"
   },
   {
    "duration": 0,
    "start_time": "2025-01-16T14:45:08.971Z"
   },
   {
    "duration": 0,
    "start_time": "2025-01-16T14:45:08.973Z"
   },
   {
    "duration": 0,
    "start_time": "2025-01-16T14:45:08.974Z"
   },
   {
    "duration": 0,
    "start_time": "2025-01-16T14:45:08.976Z"
   },
   {
    "duration": 0,
    "start_time": "2025-01-16T14:45:08.977Z"
   },
   {
    "duration": 18,
    "start_time": "2025-01-16T14:47:13.117Z"
   },
   {
    "duration": 18,
    "start_time": "2025-01-16T14:47:35.542Z"
   },
   {
    "duration": 18,
    "start_time": "2025-01-16T14:50:40.670Z"
   },
   {
    "duration": 108,
    "start_time": "2025-01-16T14:54:18.258Z"
   },
   {
    "duration": 19,
    "start_time": "2025-01-16T14:54:57.081Z"
   },
   {
    "duration": 15,
    "start_time": "2025-01-16T14:56:10.542Z"
   },
   {
    "duration": 1050,
    "start_time": "2025-01-16T14:56:35.672Z"
   },
   {
    "duration": 540,
    "start_time": "2025-01-16T14:56:36.724Z"
   },
   {
    "duration": 81,
    "start_time": "2025-01-16T14:56:37.266Z"
   },
   {
    "duration": 43,
    "start_time": "2025-01-16T14:56:37.350Z"
   },
   {
    "duration": 115,
    "start_time": "2025-01-16T14:56:37.395Z"
   },
   {
    "duration": 6,
    "start_time": "2025-01-16T14:56:37.513Z"
   },
   {
    "duration": 3,
    "start_time": "2025-01-16T14:56:37.521Z"
   },
   {
    "duration": 4,
    "start_time": "2025-01-16T14:56:37.525Z"
   },
   {
    "duration": 39,
    "start_time": "2025-01-16T14:56:37.531Z"
   },
   {
    "duration": 7,
    "start_time": "2025-01-16T14:56:37.573Z"
   },
   {
    "duration": 5,
    "start_time": "2025-01-16T14:56:37.581Z"
   },
   {
    "duration": 8,
    "start_time": "2025-01-16T14:56:37.588Z"
   },
   {
    "duration": 123,
    "start_time": "2025-01-16T14:56:37.598Z"
   },
   {
    "duration": 13,
    "start_time": "2025-01-16T14:56:37.723Z"
   },
   {
    "duration": 9,
    "start_time": "2025-01-16T14:56:37.737Z"
   },
   {
    "duration": 32,
    "start_time": "2025-01-16T14:56:37.747Z"
   },
   {
    "duration": 9,
    "start_time": "2025-01-16T14:56:37.781Z"
   },
   {
    "duration": 8,
    "start_time": "2025-01-16T14:56:37.792Z"
   },
   {
    "duration": 1122,
    "start_time": "2025-01-16T14:56:37.801Z"
   },
   {
    "duration": 109,
    "start_time": "2025-01-16T14:56:38.925Z"
   },
   {
    "duration": 142,
    "start_time": "2025-01-16T14:56:39.037Z"
   },
   {
    "duration": 4,
    "start_time": "2025-01-16T14:56:39.181Z"
   },
   {
    "duration": 4,
    "start_time": "2025-01-16T14:56:39.187Z"
   },
   {
    "duration": 3,
    "start_time": "2025-01-16T14:56:39.193Z"
   },
   {
    "duration": 3,
    "start_time": "2025-01-16T14:56:39.198Z"
   },
   {
    "duration": 499,
    "start_time": "2025-01-16T14:56:39.202Z"
   },
   {
    "duration": 356,
    "start_time": "2025-01-16T14:56:39.703Z"
   },
   {
    "duration": 8,
    "start_time": "2025-01-16T14:56:40.062Z"
   },
   {
    "duration": 7,
    "start_time": "2025-01-16T14:56:40.072Z"
   },
   {
    "duration": 303,
    "start_time": "2025-01-16T14:56:40.081Z"
   },
   {
    "duration": 0,
    "start_time": "2025-01-16T14:56:40.386Z"
   },
   {
    "duration": 0,
    "start_time": "2025-01-16T14:56:40.387Z"
   },
   {
    "duration": 0,
    "start_time": "2025-01-16T14:56:40.388Z"
   },
   {
    "duration": 0,
    "start_time": "2025-01-16T14:56:40.389Z"
   },
   {
    "duration": 0,
    "start_time": "2025-01-16T14:56:40.390Z"
   },
   {
    "duration": 0,
    "start_time": "2025-01-16T14:56:40.391Z"
   },
   {
    "duration": 0,
    "start_time": "2025-01-16T14:56:40.392Z"
   },
   {
    "duration": 18,
    "start_time": "2025-01-16T14:57:26.633Z"
   },
   {
    "duration": 512,
    "start_time": "2025-01-16T14:58:59.660Z"
   },
   {
    "duration": 8,
    "start_time": "2025-01-16T15:03:03.999Z"
   },
   {
    "duration": 16,
    "start_time": "2025-01-16T15:03:09.039Z"
   },
   {
    "duration": 969,
    "start_time": "2025-01-16T15:03:19.947Z"
   },
   {
    "duration": 516,
    "start_time": "2025-01-16T15:03:20.918Z"
   },
   {
    "duration": 83,
    "start_time": "2025-01-16T15:03:21.436Z"
   },
   {
    "duration": 33,
    "start_time": "2025-01-16T15:03:21.521Z"
   },
   {
    "duration": 145,
    "start_time": "2025-01-16T15:03:21.557Z"
   },
   {
    "duration": 6,
    "start_time": "2025-01-16T15:03:21.704Z"
   },
   {
    "duration": 3,
    "start_time": "2025-01-16T15:03:21.712Z"
   },
   {
    "duration": 4,
    "start_time": "2025-01-16T15:03:21.718Z"
   },
   {
    "duration": 15,
    "start_time": "2025-01-16T15:03:21.724Z"
   },
   {
    "duration": 30,
    "start_time": "2025-01-16T15:03:21.741Z"
   },
   {
    "duration": 6,
    "start_time": "2025-01-16T15:03:21.773Z"
   },
   {
    "duration": 9,
    "start_time": "2025-01-16T15:03:21.781Z"
   },
   {
    "duration": 125,
    "start_time": "2025-01-16T15:03:21.792Z"
   },
   {
    "duration": 11,
    "start_time": "2025-01-16T15:03:21.921Z"
   },
   {
    "duration": 8,
    "start_time": "2025-01-16T15:03:21.933Z"
   },
   {
    "duration": 33,
    "start_time": "2025-01-16T15:03:21.943Z"
   },
   {
    "duration": 11,
    "start_time": "2025-01-16T15:03:21.978Z"
   },
   {
    "duration": 8,
    "start_time": "2025-01-16T15:03:21.991Z"
   },
   {
    "duration": 1097,
    "start_time": "2025-01-16T15:03:22.000Z"
   },
   {
    "duration": 116,
    "start_time": "2025-01-16T15:03:23.099Z"
   },
   {
    "duration": 148,
    "start_time": "2025-01-16T15:03:23.216Z"
   },
   {
    "duration": 7,
    "start_time": "2025-01-16T15:03:23.366Z"
   },
   {
    "duration": 5,
    "start_time": "2025-01-16T15:03:23.376Z"
   },
   {
    "duration": 4,
    "start_time": "2025-01-16T15:03:23.383Z"
   },
   {
    "duration": 4,
    "start_time": "2025-01-16T15:03:23.388Z"
   },
   {
    "duration": 484,
    "start_time": "2025-01-16T15:03:23.393Z"
   },
   {
    "duration": 360,
    "start_time": "2025-01-16T15:03:23.879Z"
   },
   {
    "duration": 3,
    "start_time": "2025-01-16T15:03:24.241Z"
   },
   {
    "duration": 7,
    "start_time": "2025-01-16T15:03:24.246Z"
   },
   {
    "duration": 98,
    "start_time": "2025-01-16T15:03:24.254Z"
   },
   {
    "duration": 223,
    "start_time": "2025-01-16T15:03:24.354Z"
   },
   {
    "duration": 8,
    "start_time": "2025-01-16T15:03:24.579Z"
   },
   {
    "duration": 1353,
    "start_time": "2025-01-16T15:03:24.592Z"
   },
   {
    "duration": 5,
    "start_time": "2025-01-16T15:03:25.947Z"
   },
   {
    "duration": 287189,
    "start_time": "2025-01-16T15:03:25.954Z"
   },
   {
    "duration": 2855,
    "start_time": "2025-01-16T15:08:13.145Z"
   },
   {
    "duration": 6,
    "start_time": "2025-01-16T15:08:16.001Z"
   },
   {
    "duration": 0,
    "start_time": "2025-01-16T20:01:25.973Z"
   },
   {
    "duration": 0,
    "start_time": "2025-01-16T20:01:25.974Z"
   },
   {
    "duration": 0,
    "start_time": "2025-01-16T20:01:25.975Z"
   },
   {
    "duration": 0,
    "start_time": "2025-01-16T20:01:25.976Z"
   },
   {
    "duration": 0,
    "start_time": "2025-01-16T20:01:25.976Z"
   },
   {
    "duration": 0,
    "start_time": "2025-01-16T20:01:25.978Z"
   },
   {
    "duration": 0,
    "start_time": "2025-01-16T20:01:25.979Z"
   },
   {
    "duration": 0,
    "start_time": "2025-01-16T20:01:25.980Z"
   },
   {
    "duration": 0,
    "start_time": "2025-01-16T20:01:26.010Z"
   },
   {
    "duration": 0,
    "start_time": "2025-01-16T20:01:26.012Z"
   },
   {
    "duration": 0,
    "start_time": "2025-01-16T20:01:26.013Z"
   },
   {
    "duration": 0,
    "start_time": "2025-01-16T20:01:26.015Z"
   },
   {
    "duration": 0,
    "start_time": "2025-01-16T20:01:26.016Z"
   },
   {
    "duration": 0,
    "start_time": "2025-01-16T20:01:26.017Z"
   },
   {
    "duration": 0,
    "start_time": "2025-01-16T20:01:26.018Z"
   },
   {
    "duration": 0,
    "start_time": "2025-01-16T20:01:26.020Z"
   },
   {
    "duration": 0,
    "start_time": "2025-01-16T20:01:26.021Z"
   },
   {
    "duration": 0,
    "start_time": "2025-01-16T20:01:26.022Z"
   },
   {
    "duration": 0,
    "start_time": "2025-01-16T20:01:26.023Z"
   },
   {
    "duration": 0,
    "start_time": "2025-01-16T20:01:26.024Z"
   },
   {
    "duration": 0,
    "start_time": "2025-01-16T20:01:26.025Z"
   },
   {
    "duration": 0,
    "start_time": "2025-01-16T20:01:26.027Z"
   },
   {
    "duration": 0,
    "start_time": "2025-01-16T20:01:26.028Z"
   },
   {
    "duration": 0,
    "start_time": "2025-01-16T20:01:26.029Z"
   },
   {
    "duration": 0,
    "start_time": "2025-01-16T20:01:26.035Z"
   },
   {
    "duration": 0,
    "start_time": "2025-01-16T20:01:26.037Z"
   },
   {
    "duration": 0,
    "start_time": "2025-01-16T20:01:26.038Z"
   },
   {
    "duration": 0,
    "start_time": "2025-01-16T20:01:26.040Z"
   },
   {
    "duration": 0,
    "start_time": "2025-01-16T20:01:26.042Z"
   },
   {
    "duration": 0,
    "start_time": "2025-01-16T20:01:26.043Z"
   },
   {
    "duration": 0,
    "start_time": "2025-01-16T20:01:26.045Z"
   },
   {
    "duration": 1,
    "start_time": "2025-01-16T20:01:26.046Z"
   },
   {
    "duration": 0,
    "start_time": "2025-01-16T20:01:26.048Z"
   },
   {
    "duration": 0,
    "start_time": "2025-01-16T20:01:26.049Z"
   },
   {
    "duration": 0,
    "start_time": "2025-01-16T20:01:26.050Z"
   },
   {
    "duration": 0,
    "start_time": "2025-01-16T20:01:26.051Z"
   },
   {
    "duration": 0,
    "start_time": "2025-01-16T20:01:26.109Z"
   },
   {
    "duration": 0,
    "start_time": "2025-01-16T20:01:26.111Z"
   },
   {
    "duration": 0,
    "start_time": "2025-01-16T20:01:26.113Z"
   },
   {
    "duration": 4,
    "start_time": "2025-01-16T20:01:32.331Z"
   },
   {
    "duration": 533,
    "start_time": "2025-01-16T20:01:32.337Z"
   },
   {
    "duration": 78,
    "start_time": "2025-01-16T20:01:32.871Z"
   },
   {
    "duration": 34,
    "start_time": "2025-01-16T20:01:32.952Z"
   },
   {
    "duration": 110,
    "start_time": "2025-01-16T20:01:33.008Z"
   },
   {
    "duration": 6,
    "start_time": "2025-01-16T20:01:33.120Z"
   },
   {
    "duration": 4,
    "start_time": "2025-01-16T20:01:33.127Z"
   },
   {
    "duration": 4,
    "start_time": "2025-01-16T20:01:33.133Z"
   },
   {
    "duration": 14,
    "start_time": "2025-01-16T20:01:33.138Z"
   },
   {
    "duration": 8,
    "start_time": "2025-01-16T20:01:33.154Z"
   },
   {
    "duration": 6,
    "start_time": "2025-01-16T20:01:33.163Z"
   },
   {
    "duration": 47,
    "start_time": "2025-01-16T20:01:33.170Z"
   },
   {
    "duration": 10,
    "start_time": "2025-01-16T20:01:33.219Z"
   },
   {
    "duration": 118,
    "start_time": "2025-01-16T20:01:33.233Z"
   },
   {
    "duration": 11,
    "start_time": "2025-01-16T20:01:33.353Z"
   },
   {
    "duration": 13,
    "start_time": "2025-01-16T20:01:33.367Z"
   },
   {
    "duration": 35,
    "start_time": "2025-01-16T20:01:33.382Z"
   },
   {
    "duration": 10,
    "start_time": "2025-01-16T20:01:33.418Z"
   },
   {
    "duration": 12,
    "start_time": "2025-01-16T20:01:33.430Z"
   },
   {
    "duration": 4,
    "start_time": "2025-01-16T20:01:33.443Z"
   },
   {
    "duration": 1162,
    "start_time": "2025-01-16T20:01:33.449Z"
   },
   {
    "duration": 126,
    "start_time": "2025-01-16T20:01:34.613Z"
   },
   {
    "duration": 155,
    "start_time": "2025-01-16T20:01:34.741Z"
   },
   {
    "duration": 13,
    "start_time": "2025-01-16T20:01:34.898Z"
   },
   {
    "duration": 5,
    "start_time": "2025-01-16T20:01:34.913Z"
   },
   {
    "duration": 4,
    "start_time": "2025-01-16T20:01:34.919Z"
   },
   {
    "duration": 3,
    "start_time": "2025-01-16T20:01:34.925Z"
   },
   {
    "duration": 493,
    "start_time": "2025-01-16T20:01:34.930Z"
   },
   {
    "duration": 354,
    "start_time": "2025-01-16T20:01:35.426Z"
   },
   {
    "duration": 4,
    "start_time": "2025-01-16T20:01:35.782Z"
   },
   {
    "duration": 5,
    "start_time": "2025-01-16T20:01:35.787Z"
   },
   {
    "duration": 32,
    "start_time": "2025-01-16T20:01:35.794Z"
   },
   {
    "duration": 0,
    "start_time": "2025-01-16T20:01:35.828Z"
   },
   {
    "duration": 1,
    "start_time": "2025-01-16T20:01:35.829Z"
   },
   {
    "duration": 0,
    "start_time": "2025-01-16T20:01:35.831Z"
   },
   {
    "duration": 0,
    "start_time": "2025-01-16T20:01:35.832Z"
   },
   {
    "duration": 0,
    "start_time": "2025-01-16T20:01:35.833Z"
   },
   {
    "duration": 0,
    "start_time": "2025-01-16T20:01:35.835Z"
   },
   {
    "duration": 0,
    "start_time": "2025-01-16T20:01:35.836Z"
   },
   {
    "duration": 1052,
    "start_time": "2025-01-16T20:01:57.480Z"
   },
   {
    "duration": 518,
    "start_time": "2025-01-16T20:01:58.535Z"
   },
   {
    "duration": 91,
    "start_time": "2025-01-16T20:01:59.055Z"
   },
   {
    "duration": 34,
    "start_time": "2025-01-16T20:01:59.149Z"
   },
   {
    "duration": 127,
    "start_time": "2025-01-16T20:01:59.184Z"
   },
   {
    "duration": 6,
    "start_time": "2025-01-16T20:01:59.313Z"
   },
   {
    "duration": 4,
    "start_time": "2025-01-16T20:01:59.321Z"
   },
   {
    "duration": 4,
    "start_time": "2025-01-16T20:01:59.327Z"
   },
   {
    "duration": 16,
    "start_time": "2025-01-16T20:01:59.332Z"
   },
   {
    "duration": 10,
    "start_time": "2025-01-16T20:01:59.351Z"
   },
   {
    "duration": 42,
    "start_time": "2025-01-16T20:01:59.366Z"
   },
   {
    "duration": 9,
    "start_time": "2025-01-16T20:01:59.411Z"
   },
   {
    "duration": 15,
    "start_time": "2025-01-16T20:01:59.422Z"
   },
   {
    "duration": 124,
    "start_time": "2025-01-16T20:01:59.438Z"
   },
   {
    "duration": 12,
    "start_time": "2025-01-16T20:01:59.564Z"
   },
   {
    "duration": 8,
    "start_time": "2025-01-16T20:01:59.578Z"
   },
   {
    "duration": 14,
    "start_time": "2025-01-16T20:01:59.608Z"
   },
   {
    "duration": 10,
    "start_time": "2025-01-16T20:01:59.623Z"
   },
   {
    "duration": 12,
    "start_time": "2025-01-16T20:01:59.635Z"
   },
   {
    "duration": 4,
    "start_time": "2025-01-16T20:01:59.649Z"
   },
   {
    "duration": 1178,
    "start_time": "2025-01-16T20:01:59.655Z"
   },
   {
    "duration": 106,
    "start_time": "2025-01-16T20:02:00.836Z"
   },
   {
    "duration": 152,
    "start_time": "2025-01-16T20:02:00.944Z"
   },
   {
    "duration": 10,
    "start_time": "2025-01-16T20:02:01.098Z"
   },
   {
    "duration": 5,
    "start_time": "2025-01-16T20:02:01.110Z"
   },
   {
    "duration": 3,
    "start_time": "2025-01-16T20:02:01.117Z"
   },
   {
    "duration": 3,
    "start_time": "2025-01-16T20:02:01.122Z"
   },
   {
    "duration": 498,
    "start_time": "2025-01-16T20:02:01.129Z"
   },
   {
    "duration": 356,
    "start_time": "2025-01-16T20:02:01.629Z"
   },
   {
    "duration": 4,
    "start_time": "2025-01-16T20:02:01.987Z"
   },
   {
    "duration": 16,
    "start_time": "2025-01-16T20:02:01.993Z"
   },
   {
    "duration": 319,
    "start_time": "2025-01-16T20:02:02.010Z"
   },
   {
    "duration": 0,
    "start_time": "2025-01-16T20:02:02.331Z"
   },
   {
    "duration": 0,
    "start_time": "2025-01-16T20:02:02.333Z"
   },
   {
    "duration": 0,
    "start_time": "2025-01-16T20:02:02.335Z"
   },
   {
    "duration": 0,
    "start_time": "2025-01-16T20:02:02.336Z"
   },
   {
    "duration": 0,
    "start_time": "2025-01-16T20:02:02.338Z"
   },
   {
    "duration": 0,
    "start_time": "2025-01-16T20:02:02.339Z"
   },
   {
    "duration": 0,
    "start_time": "2025-01-16T20:02:02.341Z"
   },
   {
    "duration": 953,
    "start_time": "2025-01-16T20:07:42.394Z"
   },
   {
    "duration": 538,
    "start_time": "2025-01-16T20:07:43.349Z"
   },
   {
    "duration": 84,
    "start_time": "2025-01-16T20:07:43.889Z"
   },
   {
    "duration": 45,
    "start_time": "2025-01-16T20:07:43.975Z"
   },
   {
    "duration": 117,
    "start_time": "2025-01-16T20:07:44.022Z"
   },
   {
    "duration": 6,
    "start_time": "2025-01-16T20:07:44.141Z"
   },
   {
    "duration": 3,
    "start_time": "2025-01-16T20:07:44.148Z"
   },
   {
    "duration": 4,
    "start_time": "2025-01-16T20:07:44.153Z"
   },
   {
    "duration": 14,
    "start_time": "2025-01-16T20:07:44.159Z"
   },
   {
    "duration": 7,
    "start_time": "2025-01-16T20:07:44.176Z"
   },
   {
    "duration": 5,
    "start_time": "2025-01-16T20:07:44.210Z"
   },
   {
    "duration": 8,
    "start_time": "2025-01-16T20:07:44.216Z"
   },
   {
    "duration": 14,
    "start_time": "2025-01-16T20:07:44.226Z"
   },
   {
    "duration": 129,
    "start_time": "2025-01-16T20:07:44.241Z"
   },
   {
    "duration": 10,
    "start_time": "2025-01-16T20:07:44.372Z"
   },
   {
    "duration": 26,
    "start_time": "2025-01-16T20:07:44.384Z"
   },
   {
    "duration": 12,
    "start_time": "2025-01-16T20:07:44.412Z"
   },
   {
    "duration": 10,
    "start_time": "2025-01-16T20:07:44.425Z"
   },
   {
    "duration": 12,
    "start_time": "2025-01-16T20:07:44.436Z"
   },
   {
    "duration": 5,
    "start_time": "2025-01-16T20:07:44.450Z"
   },
   {
    "duration": 1130,
    "start_time": "2025-01-16T20:07:44.456Z"
   },
   {
    "duration": 101,
    "start_time": "2025-01-16T20:07:45.588Z"
   },
   {
    "duration": 141,
    "start_time": "2025-01-16T20:07:45.690Z"
   },
   {
    "duration": 5,
    "start_time": "2025-01-16T20:07:45.833Z"
   },
   {
    "duration": 4,
    "start_time": "2025-01-16T20:07:45.839Z"
   },
   {
    "duration": 3,
    "start_time": "2025-01-16T20:07:45.845Z"
   },
   {
    "duration": 3,
    "start_time": "2025-01-16T20:07:45.850Z"
   },
   {
    "duration": 466,
    "start_time": "2025-01-16T20:07:45.857Z"
   },
   {
    "duration": 344,
    "start_time": "2025-01-16T20:07:46.325Z"
   },
   {
    "duration": 3,
    "start_time": "2025-01-16T20:07:46.671Z"
   },
   {
    "duration": 4,
    "start_time": "2025-01-16T20:07:46.676Z"
   },
   {
    "duration": 4,
    "start_time": "2025-01-16T20:07:46.682Z"
   },
   {
    "duration": 301,
    "start_time": "2025-01-16T20:07:46.709Z"
   },
   {
    "duration": 0,
    "start_time": "2025-01-16T20:07:47.012Z"
   },
   {
    "duration": 0,
    "start_time": "2025-01-16T20:07:47.014Z"
   },
   {
    "duration": 0,
    "start_time": "2025-01-16T20:07:47.015Z"
   },
   {
    "duration": 0,
    "start_time": "2025-01-16T20:07:47.016Z"
   },
   {
    "duration": 0,
    "start_time": "2025-01-16T20:07:47.017Z"
   },
   {
    "duration": 0,
    "start_time": "2025-01-16T20:07:47.019Z"
   },
   {
    "duration": 0,
    "start_time": "2025-01-16T20:07:47.020Z"
   },
   {
    "duration": 1008,
    "start_time": "2025-01-16T20:19:58.847Z"
   },
   {
    "duration": 510,
    "start_time": "2025-01-16T20:19:59.856Z"
   },
   {
    "duration": 84,
    "start_time": "2025-01-16T20:20:00.368Z"
   },
   {
    "duration": 33,
    "start_time": "2025-01-16T20:20:00.455Z"
   },
   {
    "duration": 132,
    "start_time": "2025-01-16T20:20:00.490Z"
   },
   {
    "duration": 6,
    "start_time": "2025-01-16T20:20:00.625Z"
   },
   {
    "duration": 3,
    "start_time": "2025-01-16T20:20:00.633Z"
   },
   {
    "duration": 4,
    "start_time": "2025-01-16T20:20:00.637Z"
   },
   {
    "duration": 13,
    "start_time": "2025-01-16T20:20:00.642Z"
   },
   {
    "duration": 6,
    "start_time": "2025-01-16T20:20:00.658Z"
   },
   {
    "duration": 5,
    "start_time": "2025-01-16T20:20:00.666Z"
   },
   {
    "duration": 41,
    "start_time": "2025-01-16T20:20:00.673Z"
   },
   {
    "duration": 14,
    "start_time": "2025-01-16T20:20:00.715Z"
   },
   {
    "duration": 117,
    "start_time": "2025-01-16T20:20:00.730Z"
   },
   {
    "duration": 10,
    "start_time": "2025-01-16T20:20:00.849Z"
   },
   {
    "duration": 9,
    "start_time": "2025-01-16T20:20:00.860Z"
   },
   {
    "duration": 12,
    "start_time": "2025-01-16T20:20:00.871Z"
   },
   {
    "duration": 32,
    "start_time": "2025-01-16T20:20:00.884Z"
   },
   {
    "duration": 11,
    "start_time": "2025-01-16T20:20:00.917Z"
   },
   {
    "duration": 4,
    "start_time": "2025-01-16T20:20:00.929Z"
   },
   {
    "duration": 1146,
    "start_time": "2025-01-16T20:20:00.935Z"
   },
   {
    "duration": 103,
    "start_time": "2025-01-16T20:20:02.083Z"
   },
   {
    "duration": 136,
    "start_time": "2025-01-16T20:20:02.188Z"
   },
   {
    "duration": 4,
    "start_time": "2025-01-16T20:20:02.326Z"
   },
   {
    "duration": 4,
    "start_time": "2025-01-16T20:20:02.332Z"
   },
   {
    "duration": 3,
    "start_time": "2025-01-16T20:20:02.337Z"
   },
   {
    "duration": 3,
    "start_time": "2025-01-16T20:20:02.343Z"
   },
   {
    "duration": 481,
    "start_time": "2025-01-16T20:20:02.351Z"
   },
   {
    "duration": 358,
    "start_time": "2025-01-16T20:20:02.835Z"
   },
   {
    "duration": 4,
    "start_time": "2025-01-16T20:20:03.195Z"
   },
   {
    "duration": 11,
    "start_time": "2025-01-16T20:20:03.200Z"
   },
   {
    "duration": 8,
    "start_time": "2025-01-16T20:20:03.213Z"
   },
   {
    "duration": 113,
    "start_time": "2025-01-16T20:20:03.223Z"
   },
   {
    "duration": 388,
    "start_time": "2025-01-16T20:20:03.338Z"
   },
   {
    "duration": 87,
    "start_time": "2025-01-16T20:20:03.729Z"
   },
   {
    "duration": 1298,
    "start_time": "2025-01-16T20:20:03.818Z"
   },
   {
    "duration": 5,
    "start_time": "2025-01-16T20:20:05.118Z"
   },
   {
    "duration": 288070,
    "start_time": "2025-01-16T20:20:05.125Z"
   },
   {
    "duration": 2871,
    "start_time": "2025-01-16T20:24:53.197Z"
   },
   {
    "duration": 6,
    "start_time": "2025-01-16T20:24:56.069Z"
   },
   {
    "duration": 648,
    "start_time": "2025-01-16T20:24:56.079Z"
   },
   {
    "duration": 2682,
    "start_time": "2025-01-16T23:38:29.288Z"
   },
   {
    "duration": 592,
    "start_time": "2025-01-16T23:38:31.972Z"
   },
   {
    "duration": 80,
    "start_time": "2025-01-16T23:38:32.566Z"
   },
   {
    "duration": 34,
    "start_time": "2025-01-16T23:38:32.649Z"
   },
   {
    "duration": 118,
    "start_time": "2025-01-16T23:38:32.684Z"
   },
   {
    "duration": 5,
    "start_time": "2025-01-16T23:38:32.812Z"
   },
   {
    "duration": 3,
    "start_time": "2025-01-16T23:38:32.819Z"
   },
   {
    "duration": 4,
    "start_time": "2025-01-16T23:38:32.824Z"
   },
   {
    "duration": 13,
    "start_time": "2025-01-16T23:38:32.830Z"
   },
   {
    "duration": 7,
    "start_time": "2025-01-16T23:38:32.847Z"
   },
   {
    "duration": 5,
    "start_time": "2025-01-16T23:38:32.856Z"
   },
   {
    "duration": 8,
    "start_time": "2025-01-16T23:38:32.862Z"
   },
   {
    "duration": 52,
    "start_time": "2025-01-16T23:38:32.872Z"
   },
   {
    "duration": 112,
    "start_time": "2025-01-16T23:38:32.926Z"
   },
   {
    "duration": 9,
    "start_time": "2025-01-16T23:38:33.040Z"
   },
   {
    "duration": 8,
    "start_time": "2025-01-16T23:38:33.051Z"
   },
   {
    "duration": 11,
    "start_time": "2025-01-16T23:38:33.060Z"
   },
   {
    "duration": 9,
    "start_time": "2025-01-16T23:38:33.073Z"
   },
   {
    "duration": 37,
    "start_time": "2025-01-16T23:38:33.084Z"
   },
   {
    "duration": 5,
    "start_time": "2025-01-16T23:38:33.122Z"
   },
   {
    "duration": 1195,
    "start_time": "2025-01-16T23:38:33.129Z"
   },
   {
    "duration": 632,
    "start_time": "2025-01-16T23:38:34.326Z"
   },
   {
    "duration": 254,
    "start_time": "2025-01-16T23:38:34.961Z"
   },
   {
    "duration": 0,
    "start_time": "2025-01-16T23:38:35.218Z"
   },
   {
    "duration": 0,
    "start_time": "2025-01-16T23:38:35.220Z"
   },
   {
    "duration": 0,
    "start_time": "2025-01-16T23:38:35.221Z"
   },
   {
    "duration": 0,
    "start_time": "2025-01-16T23:38:35.223Z"
   },
   {
    "duration": 0,
    "start_time": "2025-01-16T23:38:35.224Z"
   },
   {
    "duration": 0,
    "start_time": "2025-01-16T23:38:35.224Z"
   },
   {
    "duration": 0,
    "start_time": "2025-01-16T23:38:35.227Z"
   },
   {
    "duration": 0,
    "start_time": "2025-01-16T23:38:35.228Z"
   },
   {
    "duration": 0,
    "start_time": "2025-01-16T23:38:35.230Z"
   },
   {
    "duration": 0,
    "start_time": "2025-01-16T23:38:35.231Z"
   },
   {
    "duration": 0,
    "start_time": "2025-01-16T23:38:35.232Z"
   },
   {
    "duration": 0,
    "start_time": "2025-01-16T23:38:35.233Z"
   },
   {
    "duration": 0,
    "start_time": "2025-01-16T23:38:35.234Z"
   },
   {
    "duration": 0,
    "start_time": "2025-01-16T23:38:35.235Z"
   },
   {
    "duration": 0,
    "start_time": "2025-01-16T23:38:35.236Z"
   },
   {
    "duration": 0,
    "start_time": "2025-01-16T23:38:35.237Z"
   },
   {
    "duration": 0,
    "start_time": "2025-01-16T23:38:35.238Z"
   },
   {
    "duration": 3,
    "start_time": "2025-01-16T23:38:41.754Z"
   },
   {
    "duration": 542,
    "start_time": "2025-01-16T23:38:41.763Z"
   },
   {
    "duration": 76,
    "start_time": "2025-01-16T23:38:42.307Z"
   },
   {
    "duration": 45,
    "start_time": "2025-01-16T23:38:42.385Z"
   },
   {
    "duration": 104,
    "start_time": "2025-01-16T23:38:42.432Z"
   },
   {
    "duration": 5,
    "start_time": "2025-01-16T23:38:42.539Z"
   },
   {
    "duration": 3,
    "start_time": "2025-01-16T23:38:42.546Z"
   },
   {
    "duration": 5,
    "start_time": "2025-01-16T23:38:42.551Z"
   },
   {
    "duration": 13,
    "start_time": "2025-01-16T23:38:42.558Z"
   },
   {
    "duration": 39,
    "start_time": "2025-01-16T23:38:42.573Z"
   },
   {
    "duration": 6,
    "start_time": "2025-01-16T23:38:42.614Z"
   },
   {
    "duration": 8,
    "start_time": "2025-01-16T23:38:42.621Z"
   },
   {
    "duration": 11,
    "start_time": "2025-01-16T23:38:42.630Z"
   },
   {
    "duration": 124,
    "start_time": "2025-01-16T23:38:42.643Z"
   },
   {
    "duration": 10,
    "start_time": "2025-01-16T23:38:42.771Z"
   },
   {
    "duration": 6,
    "start_time": "2025-01-16T23:38:42.782Z"
   },
   {
    "duration": 23,
    "start_time": "2025-01-16T23:38:42.790Z"
   },
   {
    "duration": 9,
    "start_time": "2025-01-16T23:38:42.815Z"
   },
   {
    "duration": 12,
    "start_time": "2025-01-16T23:38:42.825Z"
   },
   {
    "duration": 4,
    "start_time": "2025-01-16T23:38:42.838Z"
   },
   {
    "duration": 1130,
    "start_time": "2025-01-16T23:38:42.844Z"
   },
   {
    "duration": 631,
    "start_time": "2025-01-16T23:38:43.976Z"
   },
   {
    "duration": 81,
    "start_time": "2025-01-16T23:38:44.609Z"
   },
   {
    "duration": 0,
    "start_time": "2025-01-16T23:38:44.693Z"
   },
   {
    "duration": 0,
    "start_time": "2025-01-16T23:38:44.694Z"
   },
   {
    "duration": 0,
    "start_time": "2025-01-16T23:38:44.696Z"
   },
   {
    "duration": 0,
    "start_time": "2025-01-16T23:38:44.715Z"
   },
   {
    "duration": 0,
    "start_time": "2025-01-16T23:38:44.717Z"
   },
   {
    "duration": 0,
    "start_time": "2025-01-16T23:38:44.718Z"
   },
   {
    "duration": 0,
    "start_time": "2025-01-16T23:38:44.719Z"
   },
   {
    "duration": 0,
    "start_time": "2025-01-16T23:38:44.720Z"
   },
   {
    "duration": 0,
    "start_time": "2025-01-16T23:38:44.722Z"
   },
   {
    "duration": 0,
    "start_time": "2025-01-16T23:38:44.724Z"
   },
   {
    "duration": 0,
    "start_time": "2025-01-16T23:38:44.725Z"
   },
   {
    "duration": 0,
    "start_time": "2025-01-16T23:38:44.726Z"
   },
   {
    "duration": 0,
    "start_time": "2025-01-16T23:38:44.727Z"
   },
   {
    "duration": 0,
    "start_time": "2025-01-16T23:38:44.729Z"
   },
   {
    "duration": 0,
    "start_time": "2025-01-16T23:38:44.731Z"
   },
   {
    "duration": 0,
    "start_time": "2025-01-16T23:38:44.732Z"
   },
   {
    "duration": 0,
    "start_time": "2025-01-16T23:38:44.733Z"
   },
   {
    "duration": 981,
    "start_time": "2025-01-16T23:39:30.173Z"
   },
   {
    "duration": 490,
    "start_time": "2025-01-16T23:39:31.156Z"
   },
   {
    "duration": 91,
    "start_time": "2025-01-16T23:39:31.647Z"
   },
   {
    "duration": 36,
    "start_time": "2025-01-16T23:39:31.740Z"
   },
   {
    "duration": 120,
    "start_time": "2025-01-16T23:39:31.778Z"
   },
   {
    "duration": 16,
    "start_time": "2025-01-16T23:39:31.900Z"
   },
   {
    "duration": 3,
    "start_time": "2025-01-16T23:39:31.917Z"
   },
   {
    "duration": 5,
    "start_time": "2025-01-16T23:39:31.922Z"
   },
   {
    "duration": 13,
    "start_time": "2025-01-16T23:39:31.928Z"
   },
   {
    "duration": 7,
    "start_time": "2025-01-16T23:39:31.944Z"
   },
   {
    "duration": 6,
    "start_time": "2025-01-16T23:39:31.953Z"
   },
   {
    "duration": 8,
    "start_time": "2025-01-16T23:39:31.960Z"
   },
   {
    "duration": 49,
    "start_time": "2025-01-16T23:39:31.970Z"
   },
   {
    "duration": 111,
    "start_time": "2025-01-16T23:39:32.021Z"
   },
   {
    "duration": 9,
    "start_time": "2025-01-16T23:39:32.134Z"
   },
   {
    "duration": 8,
    "start_time": "2025-01-16T23:39:32.145Z"
   },
   {
    "duration": 11,
    "start_time": "2025-01-16T23:39:32.155Z"
   },
   {
    "duration": 8,
    "start_time": "2025-01-16T23:39:32.168Z"
   },
   {
    "duration": 43,
    "start_time": "2025-01-16T23:39:32.178Z"
   },
   {
    "duration": 4,
    "start_time": "2025-01-16T23:39:32.222Z"
   },
   {
    "duration": 1113,
    "start_time": "2025-01-16T23:39:32.227Z"
   },
   {
    "duration": 596,
    "start_time": "2025-01-16T23:39:33.342Z"
   },
   {
    "duration": 239,
    "start_time": "2025-01-16T23:39:33.939Z"
   },
   {
    "duration": 0,
    "start_time": "2025-01-16T23:39:34.181Z"
   },
   {
    "duration": 1,
    "start_time": "2025-01-16T23:39:34.182Z"
   },
   {
    "duration": 0,
    "start_time": "2025-01-16T23:39:34.184Z"
   },
   {
    "duration": 0,
    "start_time": "2025-01-16T23:39:34.185Z"
   },
   {
    "duration": 0,
    "start_time": "2025-01-16T23:39:34.187Z"
   },
   {
    "duration": 0,
    "start_time": "2025-01-16T23:39:34.189Z"
   },
   {
    "duration": 0,
    "start_time": "2025-01-16T23:39:34.190Z"
   },
   {
    "duration": 0,
    "start_time": "2025-01-16T23:39:34.191Z"
   },
   {
    "duration": 1,
    "start_time": "2025-01-16T23:39:34.211Z"
   },
   {
    "duration": 0,
    "start_time": "2025-01-16T23:39:34.212Z"
   },
   {
    "duration": 0,
    "start_time": "2025-01-16T23:39:34.214Z"
   },
   {
    "duration": 0,
    "start_time": "2025-01-16T23:39:34.215Z"
   },
   {
    "duration": 0,
    "start_time": "2025-01-16T23:39:34.216Z"
   },
   {
    "duration": 0,
    "start_time": "2025-01-16T23:39:34.217Z"
   },
   {
    "duration": 0,
    "start_time": "2025-01-16T23:39:34.218Z"
   },
   {
    "duration": 0,
    "start_time": "2025-01-16T23:39:34.220Z"
   },
   {
    "duration": 0,
    "start_time": "2025-01-16T23:39:34.220Z"
   },
   {
    "duration": 979,
    "start_time": "2025-01-16T23:43:03.796Z"
   },
   {
    "duration": 516,
    "start_time": "2025-01-16T23:43:04.778Z"
   },
   {
    "duration": 85,
    "start_time": "2025-01-16T23:43:05.296Z"
   },
   {
    "duration": 44,
    "start_time": "2025-01-16T23:43:05.383Z"
   },
   {
    "duration": 113,
    "start_time": "2025-01-16T23:43:05.430Z"
   },
   {
    "duration": 5,
    "start_time": "2025-01-16T23:43:05.545Z"
   },
   {
    "duration": 3,
    "start_time": "2025-01-16T23:43:05.552Z"
   },
   {
    "duration": 5,
    "start_time": "2025-01-16T23:43:05.557Z"
   },
   {
    "duration": 13,
    "start_time": "2025-01-16T23:43:05.563Z"
   },
   {
    "duration": 35,
    "start_time": "2025-01-16T23:43:05.577Z"
   },
   {
    "duration": 5,
    "start_time": "2025-01-16T23:43:05.614Z"
   },
   {
    "duration": 9,
    "start_time": "2025-01-16T23:43:05.620Z"
   },
   {
    "duration": 14,
    "start_time": "2025-01-16T23:43:05.630Z"
   },
   {
    "duration": 123,
    "start_time": "2025-01-16T23:43:05.648Z"
   },
   {
    "duration": 10,
    "start_time": "2025-01-16T23:43:05.772Z"
   },
   {
    "duration": 11,
    "start_time": "2025-01-16T23:43:05.783Z"
   },
   {
    "duration": 25,
    "start_time": "2025-01-16T23:43:05.795Z"
   },
   {
    "duration": 10,
    "start_time": "2025-01-16T23:43:05.822Z"
   },
   {
    "duration": 12,
    "start_time": "2025-01-16T23:43:05.833Z"
   },
   {
    "duration": 5,
    "start_time": "2025-01-16T23:43:05.846Z"
   },
   {
    "duration": 1149,
    "start_time": "2025-01-16T23:43:05.852Z"
   },
   {
    "duration": 643,
    "start_time": "2025-01-16T23:43:07.003Z"
   },
   {
    "duration": 237,
    "start_time": "2025-01-16T23:43:07.647Z"
   },
   {
    "duration": 0,
    "start_time": "2025-01-16T23:43:07.886Z"
   },
   {
    "duration": 0,
    "start_time": "2025-01-16T23:43:07.887Z"
   },
   {
    "duration": 0,
    "start_time": "2025-01-16T23:43:07.888Z"
   },
   {
    "duration": 0,
    "start_time": "2025-01-16T23:43:07.889Z"
   },
   {
    "duration": 0,
    "start_time": "2025-01-16T23:43:07.890Z"
   },
   {
    "duration": 0,
    "start_time": "2025-01-16T23:43:07.892Z"
   },
   {
    "duration": 0,
    "start_time": "2025-01-16T23:43:07.893Z"
   },
   {
    "duration": 0,
    "start_time": "2025-01-16T23:43:07.894Z"
   },
   {
    "duration": 0,
    "start_time": "2025-01-16T23:43:07.912Z"
   },
   {
    "duration": 0,
    "start_time": "2025-01-16T23:43:07.913Z"
   },
   {
    "duration": 0,
    "start_time": "2025-01-16T23:43:07.914Z"
   },
   {
    "duration": 0,
    "start_time": "2025-01-16T23:43:07.916Z"
   },
   {
    "duration": 0,
    "start_time": "2025-01-16T23:43:07.918Z"
   },
   {
    "duration": 0,
    "start_time": "2025-01-16T23:43:07.920Z"
   },
   {
    "duration": 0,
    "start_time": "2025-01-16T23:43:07.921Z"
   },
   {
    "duration": 0,
    "start_time": "2025-01-16T23:43:07.923Z"
   },
   {
    "duration": 0,
    "start_time": "2025-01-16T23:43:07.924Z"
   },
   {
    "duration": 146,
    "start_time": "2025-01-16T23:44:13.583Z"
   },
   {
    "duration": 311,
    "start_time": "2025-01-16T23:47:32.341Z"
   },
   {
    "duration": 961,
    "start_time": "2025-01-16T23:47:50.893Z"
   },
   {
    "duration": 486,
    "start_time": "2025-01-16T23:47:51.856Z"
   },
   {
    "duration": 83,
    "start_time": "2025-01-16T23:47:52.343Z"
   },
   {
    "duration": 32,
    "start_time": "2025-01-16T23:47:52.428Z"
   },
   {
    "duration": 119,
    "start_time": "2025-01-16T23:47:52.461Z"
   },
   {
    "duration": 6,
    "start_time": "2025-01-16T23:47:52.583Z"
   },
   {
    "duration": 4,
    "start_time": "2025-01-16T23:47:52.591Z"
   },
   {
    "duration": 16,
    "start_time": "2025-01-16T23:47:52.597Z"
   },
   {
    "duration": 13,
    "start_time": "2025-01-16T23:47:52.615Z"
   },
   {
    "duration": 7,
    "start_time": "2025-01-16T23:47:52.632Z"
   },
   {
    "duration": 5,
    "start_time": "2025-01-16T23:47:52.640Z"
   },
   {
    "duration": 8,
    "start_time": "2025-01-16T23:47:52.647Z"
   },
   {
    "duration": 14,
    "start_time": "2025-01-16T23:47:52.656Z"
   },
   {
    "duration": 135,
    "start_time": "2025-01-16T23:47:52.672Z"
   },
   {
    "duration": 11,
    "start_time": "2025-01-16T23:47:52.808Z"
   },
   {
    "duration": 7,
    "start_time": "2025-01-16T23:47:52.821Z"
   },
   {
    "duration": 11,
    "start_time": "2025-01-16T23:47:52.830Z"
   },
   {
    "duration": 9,
    "start_time": "2025-01-16T23:47:52.843Z"
   },
   {
    "duration": 11,
    "start_time": "2025-01-16T23:47:52.854Z"
   },
   {
    "duration": 3,
    "start_time": "2025-01-16T23:47:52.867Z"
   },
   {
    "duration": 1148,
    "start_time": "2025-01-16T23:47:52.872Z"
   },
   {
    "duration": 606,
    "start_time": "2025-01-16T23:47:54.022Z"
   },
   {
    "duration": 257,
    "start_time": "2025-01-16T23:47:54.630Z"
   },
   {
    "duration": 5,
    "start_time": "2025-01-16T23:47:54.889Z"
   },
   {
    "duration": 19,
    "start_time": "2025-01-16T23:47:54.895Z"
   },
   {
    "duration": 3,
    "start_time": "2025-01-16T23:47:54.917Z"
   },
   {
    "duration": 3,
    "start_time": "2025-01-16T23:47:54.923Z"
   },
   {
    "duration": 496,
    "start_time": "2025-01-16T23:47:54.930Z"
   },
   {
    "duration": 455,
    "start_time": "2025-01-16T23:47:55.428Z"
   },
   {
    "duration": 804,
    "start_time": "2025-01-16T23:47:55.885Z"
   },
   {
    "duration": 0,
    "start_time": "2025-01-16T23:47:56.691Z"
   },
   {
    "duration": 0,
    "start_time": "2025-01-16T23:47:56.692Z"
   },
   {
    "duration": 0,
    "start_time": "2025-01-16T23:47:56.693Z"
   },
   {
    "duration": 0,
    "start_time": "2025-01-16T23:47:56.694Z"
   },
   {
    "duration": 0,
    "start_time": "2025-01-16T23:47:56.695Z"
   },
   {
    "duration": 0,
    "start_time": "2025-01-16T23:47:56.697Z"
   },
   {
    "duration": 0,
    "start_time": "2025-01-16T23:47:56.698Z"
   },
   {
    "duration": 0,
    "start_time": "2025-01-16T23:47:56.700Z"
   },
   {
    "duration": 0,
    "start_time": "2025-01-16T23:47:56.700Z"
   },
   {
    "duration": 0,
    "start_time": "2025-01-16T23:47:56.701Z"
   },
   {
    "duration": 4,
    "start_time": "2025-01-16T23:52:45.048Z"
   },
   {
    "duration": 14,
    "start_time": "2025-01-16T23:55:03.031Z"
   },
   {
    "duration": 4,
    "start_time": "2025-01-16T23:57:01.486Z"
   },
   {
    "duration": 6,
    "start_time": "2025-01-16T23:58:32.876Z"
   },
   {
    "duration": 9,
    "start_time": "2025-01-17T00:00:26.641Z"
   },
   {
    "duration": 167,
    "start_time": "2025-01-17T04:55:26.882Z"
   },
   {
    "duration": 2754,
    "start_time": "2025-01-17T04:55:34.023Z"
   },
   {
    "duration": 617,
    "start_time": "2025-01-17T04:55:36.780Z"
   },
   {
    "duration": 82,
    "start_time": "2025-01-17T04:55:37.400Z"
   },
   {
    "duration": 33,
    "start_time": "2025-01-17T04:55:37.485Z"
   },
   {
    "duration": 120,
    "start_time": "2025-01-17T04:55:37.520Z"
   },
   {
    "duration": 8,
    "start_time": "2025-01-17T04:55:37.642Z"
   },
   {
    "duration": 4,
    "start_time": "2025-01-17T04:55:37.651Z"
   },
   {
    "duration": 10,
    "start_time": "2025-01-17T04:55:37.657Z"
   },
   {
    "duration": 15,
    "start_time": "2025-01-17T04:55:37.669Z"
   },
   {
    "duration": 7,
    "start_time": "2025-01-17T04:55:37.688Z"
   },
   {
    "duration": 5,
    "start_time": "2025-01-17T04:55:37.697Z"
   },
   {
    "duration": 37,
    "start_time": "2025-01-17T04:55:37.703Z"
   },
   {
    "duration": 14,
    "start_time": "2025-01-17T04:55:37.742Z"
   },
   {
    "duration": 117,
    "start_time": "2025-01-17T04:55:37.758Z"
   },
   {
    "duration": 10,
    "start_time": "2025-01-17T04:55:37.876Z"
   },
   {
    "duration": 8,
    "start_time": "2025-01-17T04:55:37.888Z"
   },
   {
    "duration": 87,
    "start_time": "2025-01-17T04:55:37.897Z"
   },
   {
    "duration": 10,
    "start_time": "2025-01-17T04:55:37.986Z"
   },
   {
    "duration": 12,
    "start_time": "2025-01-17T04:55:37.997Z"
   },
   {
    "duration": 21,
    "start_time": "2025-01-17T04:55:38.010Z"
   },
   {
    "duration": 1154,
    "start_time": "2025-01-17T04:55:38.033Z"
   },
   {
    "duration": 652,
    "start_time": "2025-01-17T04:55:39.190Z"
   },
   {
    "duration": 240,
    "start_time": "2025-01-17T04:55:39.844Z"
   },
   {
    "duration": 4,
    "start_time": "2025-01-17T04:55:40.086Z"
   },
   {
    "duration": 4,
    "start_time": "2025-01-17T04:55:40.092Z"
   },
   {
    "duration": 3,
    "start_time": "2025-01-17T04:55:40.098Z"
   },
   {
    "duration": 3,
    "start_time": "2025-01-17T04:55:40.102Z"
   },
   {
    "duration": 473,
    "start_time": "2025-01-17T04:55:40.131Z"
   },
   {
    "duration": 388,
    "start_time": "2025-01-17T04:55:40.605Z"
   },
   {
    "duration": 7,
    "start_time": "2025-01-17T04:55:40.996Z"
   },
   {
    "duration": 9,
    "start_time": "2025-01-17T04:55:41.004Z"
   },
   {
    "duration": 3,
    "start_time": "2025-01-17T04:55:41.030Z"
   },
   {
    "duration": 7,
    "start_time": "2025-01-17T04:55:41.035Z"
   },
   {
    "duration": 100,
    "start_time": "2025-01-17T04:55:41.044Z"
   },
   {
    "duration": 300,
    "start_time": "2025-01-17T04:55:41.146Z"
   },
   {
    "duration": 6,
    "start_time": "2025-01-17T04:55:41.448Z"
   },
   {
    "duration": 1323,
    "start_time": "2025-01-17T04:55:41.531Z"
   },
   {
    "duration": 5,
    "start_time": "2025-01-17T04:55:42.856Z"
   },
   {
    "duration": 289559,
    "start_time": "2025-01-17T04:55:42.863Z"
   },
   {
    "duration": 2869,
    "start_time": "2025-01-17T05:00:32.423Z"
   },
   {
    "duration": 6,
    "start_time": "2025-01-17T05:00:35.294Z"
   },
   {
    "duration": 5,
    "start_time": "2025-01-17T05:00:35.304Z"
   },
   {
    "duration": 1017,
    "start_time": "2025-01-17T05:42:55.705Z"
   },
   {
    "duration": 504,
    "start_time": "2025-01-17T05:42:56.724Z"
   },
   {
    "duration": 78,
    "start_time": "2025-01-17T05:42:57.230Z"
   },
   {
    "duration": 41,
    "start_time": "2025-01-17T05:42:57.310Z"
   },
   {
    "duration": 117,
    "start_time": "2025-01-17T05:42:57.353Z"
   },
   {
    "duration": 6,
    "start_time": "2025-01-17T05:42:57.473Z"
   },
   {
    "duration": 3,
    "start_time": "2025-01-17T05:42:57.480Z"
   },
   {
    "duration": 3,
    "start_time": "2025-01-17T05:42:57.485Z"
   },
   {
    "duration": 13,
    "start_time": "2025-01-17T05:42:57.490Z"
   },
   {
    "duration": 7,
    "start_time": "2025-01-17T05:42:57.531Z"
   },
   {
    "duration": 6,
    "start_time": "2025-01-17T05:42:57.540Z"
   },
   {
    "duration": 8,
    "start_time": "2025-01-17T05:42:57.548Z"
   },
   {
    "duration": 13,
    "start_time": "2025-01-17T05:42:57.557Z"
   },
   {
    "duration": 139,
    "start_time": "2025-01-17T05:42:57.572Z"
   },
   {
    "duration": 9,
    "start_time": "2025-01-17T05:42:57.713Z"
   },
   {
    "duration": 13,
    "start_time": "2025-01-17T05:42:57.724Z"
   },
   {
    "duration": 13,
    "start_time": "2025-01-17T05:42:57.739Z"
   },
   {
    "duration": 10,
    "start_time": "2025-01-17T05:42:57.753Z"
   },
   {
    "duration": 12,
    "start_time": "2025-01-17T05:42:57.765Z"
   },
   {
    "duration": 3,
    "start_time": "2025-01-17T05:42:57.779Z"
   },
   {
    "duration": 1175,
    "start_time": "2025-01-17T05:42:57.784Z"
   },
   {
    "duration": 625,
    "start_time": "2025-01-17T05:42:58.960Z"
   },
   {
    "duration": 249,
    "start_time": "2025-01-17T05:42:59.587Z"
   },
   {
    "duration": 5,
    "start_time": "2025-01-17T05:42:59.838Z"
   },
   {
    "duration": 4,
    "start_time": "2025-01-17T05:42:59.845Z"
   },
   {
    "duration": 3,
    "start_time": "2025-01-17T05:42:59.852Z"
   },
   {
    "duration": 3,
    "start_time": "2025-01-17T05:42:59.857Z"
   },
   {
    "duration": 480,
    "start_time": "2025-01-17T05:42:59.866Z"
   },
   {
    "duration": 443,
    "start_time": "2025-01-17T05:43:00.348Z"
   },
   {
    "duration": 7,
    "start_time": "2025-01-17T05:43:00.793Z"
   },
   {
    "duration": 10,
    "start_time": "2025-01-17T05:43:00.801Z"
   },
   {
    "duration": 22,
    "start_time": "2025-01-17T05:43:00.812Z"
   },
   {
    "duration": 11,
    "start_time": "2025-01-17T05:43:00.836Z"
   },
   {
    "duration": 6,
    "start_time": "2025-01-17T05:43:00.849Z"
   },
   {
    "duration": 3,
    "start_time": "2025-01-17T05:43:00.857Z"
   },
   {
    "duration": 271,
    "start_time": "2025-01-17T05:43:00.861Z"
   },
   {
    "duration": 0,
    "start_time": "2025-01-17T05:43:01.135Z"
   },
   {
    "duration": 0,
    "start_time": "2025-01-17T05:43:01.136Z"
   },
   {
    "duration": 0,
    "start_time": "2025-01-17T05:43:01.137Z"
   },
   {
    "duration": 0,
    "start_time": "2025-01-17T05:43:01.139Z"
   },
   {
    "duration": 0,
    "start_time": "2025-01-17T05:43:01.140Z"
   },
   {
    "duration": 0,
    "start_time": "2025-01-17T05:43:01.141Z"
   },
   {
    "duration": 0,
    "start_time": "2025-01-17T05:43:01.143Z"
   },
   {
    "duration": 0,
    "start_time": "2025-01-17T05:43:01.145Z"
   },
   {
    "duration": 0,
    "start_time": "2025-01-17T05:43:01.146Z"
   },
   {
    "duration": 0,
    "start_time": "2025-01-17T05:43:01.148Z"
   },
   {
    "duration": 0,
    "start_time": "2025-01-17T05:43:01.149Z"
   },
   {
    "duration": 0,
    "start_time": "2025-01-17T05:43:01.151Z"
   },
   {
    "duration": 0,
    "start_time": "2025-01-17T05:43:01.152Z"
   },
   {
    "duration": 0,
    "start_time": "2025-01-17T05:43:01.154Z"
   },
   {
    "duration": 0,
    "start_time": "2025-01-17T05:43:01.155Z"
   },
   {
    "duration": 0,
    "start_time": "2025-01-17T05:43:01.156Z"
   },
   {
    "duration": 0,
    "start_time": "2025-01-17T05:43:01.157Z"
   },
   {
    "duration": 212,
    "start_time": "2025-01-17T05:44:53.396Z"
   },
   {
    "duration": 10,
    "start_time": "2025-01-17T05:48:25.543Z"
   },
   {
    "duration": 41,
    "start_time": "2025-01-17T05:51:36.391Z"
   },
   {
    "duration": 0,
    "start_time": "2025-01-17T05:51:59.647Z"
   },
   {
    "duration": 0,
    "start_time": "2025-01-17T05:51:59.648Z"
   },
   {
    "duration": 0,
    "start_time": "2025-01-17T05:51:59.649Z"
   },
   {
    "duration": 0,
    "start_time": "2025-01-17T05:51:59.651Z"
   },
   {
    "duration": 0,
    "start_time": "2025-01-17T05:51:59.652Z"
   },
   {
    "duration": 0,
    "start_time": "2025-01-17T05:51:59.654Z"
   },
   {
    "duration": 0,
    "start_time": "2025-01-17T05:51:59.655Z"
   },
   {
    "duration": 0,
    "start_time": "2025-01-17T05:51:59.656Z"
   },
   {
    "duration": 0,
    "start_time": "2025-01-17T05:51:59.657Z"
   },
   {
    "duration": 0,
    "start_time": "2025-01-17T05:51:59.658Z"
   },
   {
    "duration": 0,
    "start_time": "2025-01-17T05:51:59.660Z"
   },
   {
    "duration": 1,
    "start_time": "2025-01-17T05:51:59.660Z"
   },
   {
    "duration": 0,
    "start_time": "2025-01-17T05:51:59.661Z"
   },
   {
    "duration": 0,
    "start_time": "2025-01-17T05:51:59.662Z"
   },
   {
    "duration": 0,
    "start_time": "2025-01-17T05:51:59.664Z"
   },
   {
    "duration": 0,
    "start_time": "2025-01-17T05:51:59.665Z"
   },
   {
    "duration": 0,
    "start_time": "2025-01-17T05:51:59.667Z"
   },
   {
    "duration": 0,
    "start_time": "2025-01-17T05:51:59.668Z"
   },
   {
    "duration": 0,
    "start_time": "2025-01-17T05:51:59.670Z"
   },
   {
    "duration": 0,
    "start_time": "2025-01-17T05:51:59.732Z"
   },
   {
    "duration": 0,
    "start_time": "2025-01-17T05:51:59.732Z"
   },
   {
    "duration": 0,
    "start_time": "2025-01-17T05:51:59.734Z"
   },
   {
    "duration": 0,
    "start_time": "2025-01-17T05:51:59.735Z"
   },
   {
    "duration": 0,
    "start_time": "2025-01-17T05:51:59.736Z"
   },
   {
    "duration": 0,
    "start_time": "2025-01-17T05:51:59.737Z"
   },
   {
    "duration": 0,
    "start_time": "2025-01-17T05:51:59.738Z"
   },
   {
    "duration": 0,
    "start_time": "2025-01-17T05:51:59.739Z"
   },
   {
    "duration": 0,
    "start_time": "2025-01-17T05:51:59.740Z"
   },
   {
    "duration": 0,
    "start_time": "2025-01-17T05:51:59.742Z"
   },
   {
    "duration": 0,
    "start_time": "2025-01-17T05:51:59.743Z"
   },
   {
    "duration": 0,
    "start_time": "2025-01-17T05:51:59.744Z"
   },
   {
    "duration": 0,
    "start_time": "2025-01-17T05:51:59.745Z"
   },
   {
    "duration": 0,
    "start_time": "2025-01-17T05:51:59.747Z"
   },
   {
    "duration": 0,
    "start_time": "2025-01-17T05:51:59.748Z"
   },
   {
    "duration": 0,
    "start_time": "2025-01-17T05:51:59.749Z"
   },
   {
    "duration": 0,
    "start_time": "2025-01-17T05:51:59.751Z"
   },
   {
    "duration": 0,
    "start_time": "2025-01-17T05:51:59.754Z"
   },
   {
    "duration": 0,
    "start_time": "2025-01-17T05:51:59.755Z"
   },
   {
    "duration": 0,
    "start_time": "2025-01-17T05:51:59.756Z"
   },
   {
    "duration": 0,
    "start_time": "2025-01-17T05:51:59.757Z"
   },
   {
    "duration": 0,
    "start_time": "2025-01-17T05:51:59.758Z"
   },
   {
    "duration": 0,
    "start_time": "2025-01-17T05:51:59.759Z"
   },
   {
    "duration": 0,
    "start_time": "2025-01-17T05:51:59.760Z"
   },
   {
    "duration": 0,
    "start_time": "2025-01-17T05:51:59.761Z"
   },
   {
    "duration": 0,
    "start_time": "2025-01-17T05:51:59.762Z"
   },
   {
    "duration": 0,
    "start_time": "2025-01-17T05:51:59.764Z"
   },
   {
    "duration": 0,
    "start_time": "2025-01-17T05:51:59.765Z"
   },
   {
    "duration": 0,
    "start_time": "2025-01-17T05:51:59.767Z"
   },
   {
    "duration": 0,
    "start_time": "2025-01-17T05:51:59.768Z"
   },
   {
    "duration": 0,
    "start_time": "2025-01-17T05:51:59.770Z"
   },
   {
    "duration": 0,
    "start_time": "2025-01-17T05:51:59.831Z"
   },
   {
    "duration": 0,
    "start_time": "2025-01-17T05:51:59.832Z"
   },
   {
    "duration": 0,
    "start_time": "2025-01-17T05:51:59.834Z"
   },
   {
    "duration": 0,
    "start_time": "2025-01-17T05:51:59.835Z"
   },
   {
    "duration": 4,
    "start_time": "2025-01-17T05:52:11.817Z"
   },
   {
    "duration": 528,
    "start_time": "2025-01-17T05:52:11.825Z"
   },
   {
    "duration": 81,
    "start_time": "2025-01-17T05:52:12.356Z"
   },
   {
    "duration": 34,
    "start_time": "2025-01-17T05:52:12.439Z"
   },
   {
    "duration": 115,
    "start_time": "2025-01-17T05:52:12.475Z"
   },
   {
    "duration": 5,
    "start_time": "2025-01-17T05:52:12.593Z"
   },
   {
    "duration": 4,
    "start_time": "2025-01-17T05:52:12.599Z"
   },
   {
    "duration": 5,
    "start_time": "2025-01-17T05:52:12.604Z"
   },
   {
    "duration": 33,
    "start_time": "2025-01-17T05:52:12.610Z"
   },
   {
    "duration": 8,
    "start_time": "2025-01-17T05:52:12.645Z"
   },
   {
    "duration": 5,
    "start_time": "2025-01-17T05:52:12.654Z"
   },
   {
    "duration": 8,
    "start_time": "2025-01-17T05:52:12.661Z"
   },
   {
    "duration": 13,
    "start_time": "2025-01-17T05:52:12.671Z"
   },
   {
    "duration": 134,
    "start_time": "2025-01-17T05:52:12.685Z"
   },
   {
    "duration": 10,
    "start_time": "2025-01-17T05:52:12.823Z"
   },
   {
    "duration": 10,
    "start_time": "2025-01-17T05:52:12.835Z"
   },
   {
    "duration": 12,
    "start_time": "2025-01-17T05:52:12.847Z"
   },
   {
    "duration": 9,
    "start_time": "2025-01-17T05:52:12.861Z"
   },
   {
    "duration": 12,
    "start_time": "2025-01-17T05:52:12.872Z"
   },
   {
    "duration": 4,
    "start_time": "2025-01-17T05:52:12.886Z"
   },
   {
    "duration": 1103,
    "start_time": "2025-01-17T05:52:12.931Z"
   },
   {
    "duration": 610,
    "start_time": "2025-01-17T05:52:14.036Z"
   },
   {
    "duration": 335,
    "start_time": "2025-01-17T05:52:14.648Z"
   },
   {
    "duration": 5,
    "start_time": "2025-01-17T05:52:14.984Z"
   },
   {
    "duration": 4,
    "start_time": "2025-01-17T05:52:14.991Z"
   },
   {
    "duration": 3,
    "start_time": "2025-01-17T05:52:14.997Z"
   },
   {
    "duration": 31,
    "start_time": "2025-01-17T05:52:15.002Z"
   },
   {
    "duration": 450,
    "start_time": "2025-01-17T05:52:15.034Z"
   },
   {
    "duration": 386,
    "start_time": "2025-01-17T05:52:15.486Z"
   },
   {
    "duration": 7,
    "start_time": "2025-01-17T05:52:15.873Z"
   },
   {
    "duration": 9,
    "start_time": "2025-01-17T05:52:15.881Z"
   },
   {
    "duration": 6,
    "start_time": "2025-01-17T05:52:15.892Z"
   },
   {
    "duration": 37,
    "start_time": "2025-01-17T05:52:15.900Z"
   },
   {
    "duration": 0,
    "start_time": "2025-01-17T05:52:15.939Z"
   },
   {
    "duration": 0,
    "start_time": "2025-01-17T05:52:15.940Z"
   },
   {
    "duration": 0,
    "start_time": "2025-01-17T05:52:15.941Z"
   },
   {
    "duration": 0,
    "start_time": "2025-01-17T05:52:15.943Z"
   },
   {
    "duration": 0,
    "start_time": "2025-01-17T05:52:15.944Z"
   },
   {
    "duration": 0,
    "start_time": "2025-01-17T05:52:15.945Z"
   },
   {
    "duration": 0,
    "start_time": "2025-01-17T05:52:15.946Z"
   },
   {
    "duration": 0,
    "start_time": "2025-01-17T05:52:15.947Z"
   },
   {
    "duration": 0,
    "start_time": "2025-01-17T05:52:15.948Z"
   },
   {
    "duration": 0,
    "start_time": "2025-01-17T05:52:15.950Z"
   },
   {
    "duration": 0,
    "start_time": "2025-01-17T05:52:15.951Z"
   },
   {
    "duration": 0,
    "start_time": "2025-01-17T05:52:15.952Z"
   },
   {
    "duration": 0,
    "start_time": "2025-01-17T05:52:15.953Z"
   },
   {
    "duration": 0,
    "start_time": "2025-01-17T05:52:15.954Z"
   },
   {
    "duration": 0,
    "start_time": "2025-01-17T05:52:15.954Z"
   },
   {
    "duration": 0,
    "start_time": "2025-01-17T05:52:15.955Z"
   },
   {
    "duration": 0,
    "start_time": "2025-01-17T05:52:15.958Z"
   },
   {
    "duration": 0,
    "start_time": "2025-01-17T05:52:15.959Z"
   },
   {
    "duration": 0,
    "start_time": "2025-01-17T05:52:15.961Z"
   },
   {
    "duration": 0,
    "start_time": "2025-01-17T05:52:15.962Z"
   },
   {
    "duration": 0,
    "start_time": "2025-01-17T05:52:15.963Z"
   },
   {
    "duration": 15,
    "start_time": "2025-01-17T05:52:52.259Z"
   },
   {
    "duration": 10,
    "start_time": "2025-01-17T05:53:01.843Z"
   },
   {
    "duration": 39,
    "start_time": "2025-01-17T05:53:04.212Z"
   },
   {
    "duration": 4,
    "start_time": "2025-01-17T05:53:10.339Z"
   },
   {
    "duration": 2,
    "start_time": "2025-01-17T05:53:13.193Z"
   },
   {
    "duration": 295,
    "start_time": "2025-01-17T05:53:15.169Z"
   },
   {
    "duration": 87,
    "start_time": "2025-01-17T05:59:09.912Z"
   },
   {
    "duration": 5,
    "start_time": "2025-01-17T05:59:17.066Z"
   },
   {
    "duration": 3,
    "start_time": "2025-01-17T05:59:19.340Z"
   },
   {
    "duration": 63,
    "start_time": "2025-01-17T05:59:23.641Z"
   },
   {
    "duration": 1023,
    "start_time": "2025-01-17T05:59:35.357Z"
   },
   {
    "duration": 495,
    "start_time": "2025-01-17T05:59:36.382Z"
   },
   {
    "duration": 82,
    "start_time": "2025-01-17T05:59:36.879Z"
   },
   {
    "duration": 33,
    "start_time": "2025-01-17T05:59:36.963Z"
   },
   {
    "duration": 125,
    "start_time": "2025-01-17T05:59:36.997Z"
   },
   {
    "duration": 6,
    "start_time": "2025-01-17T05:59:37.132Z"
   },
   {
    "duration": 3,
    "start_time": "2025-01-17T05:59:37.139Z"
   },
   {
    "duration": 3,
    "start_time": "2025-01-17T05:59:37.144Z"
   },
   {
    "duration": 13,
    "start_time": "2025-01-17T05:59:37.148Z"
   },
   {
    "duration": 7,
    "start_time": "2025-01-17T05:59:37.165Z"
   },
   {
    "duration": 5,
    "start_time": "2025-01-17T05:59:37.174Z"
   },
   {
    "duration": 7,
    "start_time": "2025-01-17T05:59:37.181Z"
   },
   {
    "duration": 14,
    "start_time": "2025-01-17T05:59:37.232Z"
   },
   {
    "duration": 116,
    "start_time": "2025-01-17T05:59:37.248Z"
   },
   {
    "duration": 12,
    "start_time": "2025-01-17T05:59:37.365Z"
   },
   {
    "duration": 9,
    "start_time": "2025-01-17T05:59:37.380Z"
   },
   {
    "duration": 13,
    "start_time": "2025-01-17T05:59:37.390Z"
   },
   {
    "duration": 33,
    "start_time": "2025-01-17T05:59:37.404Z"
   },
   {
    "duration": 12,
    "start_time": "2025-01-17T05:59:37.439Z"
   },
   {
    "duration": 4,
    "start_time": "2025-01-17T05:59:37.453Z"
   },
   {
    "duration": 1181,
    "start_time": "2025-01-17T05:59:37.459Z"
   },
   {
    "duration": 602,
    "start_time": "2025-01-17T05:59:38.642Z"
   },
   {
    "duration": 257,
    "start_time": "2025-01-17T05:59:39.246Z"
   },
   {
    "duration": 5,
    "start_time": "2025-01-17T05:59:39.505Z"
   },
   {
    "duration": 4,
    "start_time": "2025-01-17T05:59:39.513Z"
   },
   {
    "duration": 3,
    "start_time": "2025-01-17T05:59:39.531Z"
   },
   {
    "duration": 3,
    "start_time": "2025-01-17T05:59:39.537Z"
   },
   {
    "duration": 501,
    "start_time": "2025-01-17T05:59:39.544Z"
   },
   {
    "duration": 458,
    "start_time": "2025-01-17T05:59:40.046Z"
   },
   {
    "duration": 7,
    "start_time": "2025-01-17T05:59:40.506Z"
   },
   {
    "duration": 21,
    "start_time": "2025-01-17T05:59:40.514Z"
   },
   {
    "duration": 6,
    "start_time": "2025-01-17T05:59:40.537Z"
   },
   {
    "duration": 11,
    "start_time": "2025-01-17T05:59:40.544Z"
   },
   {
    "duration": 111,
    "start_time": "2025-01-17T05:59:40.557Z"
   },
   {
    "duration": 5,
    "start_time": "2025-01-17T05:59:40.669Z"
   },
   {
    "duration": 3,
    "start_time": "2025-01-17T05:59:40.675Z"
   },
   {
    "duration": 428,
    "start_time": "2025-01-17T05:59:40.680Z"
   },
   {
    "duration": 0,
    "start_time": "2025-01-17T05:59:41.110Z"
   },
   {
    "duration": 0,
    "start_time": "2025-01-17T05:59:41.111Z"
   },
   {
    "duration": 0,
    "start_time": "2025-01-17T05:59:41.112Z"
   },
   {
    "duration": 0,
    "start_time": "2025-01-17T05:59:41.114Z"
   },
   {
    "duration": 0,
    "start_time": "2025-01-17T05:59:41.115Z"
   },
   {
    "duration": 0,
    "start_time": "2025-01-17T05:59:41.131Z"
   },
   {
    "duration": 0,
    "start_time": "2025-01-17T05:59:41.133Z"
   },
   {
    "duration": 0,
    "start_time": "2025-01-17T05:59:41.134Z"
   },
   {
    "duration": 0,
    "start_time": "2025-01-17T05:59:41.136Z"
   },
   {
    "duration": 0,
    "start_time": "2025-01-17T05:59:41.137Z"
   },
   {
    "duration": 0,
    "start_time": "2025-01-17T05:59:41.138Z"
   },
   {
    "duration": 0,
    "start_time": "2025-01-17T05:59:41.139Z"
   },
   {
    "duration": 0,
    "start_time": "2025-01-17T05:59:41.140Z"
   },
   {
    "duration": 0,
    "start_time": "2025-01-17T05:59:41.141Z"
   },
   {
    "duration": 0,
    "start_time": "2025-01-17T05:59:41.143Z"
   },
   {
    "duration": 0,
    "start_time": "2025-01-17T05:59:41.144Z"
   },
   {
    "duration": 0,
    "start_time": "2025-01-17T05:59:41.145Z"
   },
   {
    "duration": 8,
    "start_time": "2025-01-17T06:02:44.235Z"
   },
   {
    "duration": 43,
    "start_time": "2025-01-17T06:28:35.843Z"
   },
   {
    "duration": 21,
    "start_time": "2025-01-17T06:29:37.005Z"
   },
   {
    "duration": 20,
    "start_time": "2025-01-17T06:30:29.842Z"
   },
   {
    "duration": 3,
    "start_time": "2025-01-17T06:36:23.891Z"
   },
   {
    "duration": 15,
    "start_time": "2025-01-17T06:36:49.522Z"
   },
   {
    "duration": 3,
    "start_time": "2025-01-17T06:37:17.502Z"
   },
   {
    "duration": 2764,
    "start_time": "2025-01-17T14:30:24.424Z"
   },
   {
    "duration": 639,
    "start_time": "2025-01-17T14:30:27.190Z"
   },
   {
    "duration": 90,
    "start_time": "2025-01-17T14:30:27.831Z"
   },
   {
    "duration": 33,
    "start_time": "2025-01-17T14:30:27.923Z"
   },
   {
    "duration": 124,
    "start_time": "2025-01-17T14:30:27.958Z"
   },
   {
    "duration": 6,
    "start_time": "2025-01-17T14:30:28.087Z"
   },
   {
    "duration": 3,
    "start_time": "2025-01-17T14:30:28.095Z"
   },
   {
    "duration": 5,
    "start_time": "2025-01-17T14:30:28.099Z"
   },
   {
    "duration": 15,
    "start_time": "2025-01-17T14:30:28.106Z"
   },
   {
    "duration": 8,
    "start_time": "2025-01-17T14:30:28.125Z"
   },
   {
    "duration": 10,
    "start_time": "2025-01-17T14:30:28.135Z"
   },
   {
    "duration": 41,
    "start_time": "2025-01-17T14:30:28.147Z"
   },
   {
    "duration": 14,
    "start_time": "2025-01-17T14:30:28.189Z"
   },
   {
    "duration": 115,
    "start_time": "2025-01-17T14:30:28.205Z"
   },
   {
    "duration": 10,
    "start_time": "2025-01-17T14:30:28.321Z"
   },
   {
    "duration": 13,
    "start_time": "2025-01-17T14:30:28.333Z"
   },
   {
    "duration": 12,
    "start_time": "2025-01-17T14:30:28.347Z"
   },
   {
    "duration": 33,
    "start_time": "2025-01-17T14:30:28.361Z"
   },
   {
    "duration": 11,
    "start_time": "2025-01-17T14:30:28.396Z"
   },
   {
    "duration": 4,
    "start_time": "2025-01-17T14:30:28.409Z"
   },
   {
    "duration": 1116,
    "start_time": "2025-01-17T14:30:28.415Z"
   },
   {
    "duration": 668,
    "start_time": "2025-01-17T14:30:29.533Z"
   },
   {
    "duration": 243,
    "start_time": "2025-01-17T14:30:30.203Z"
   },
   {
    "duration": 5,
    "start_time": "2025-01-17T14:30:30.449Z"
   },
   {
    "duration": 5,
    "start_time": "2025-01-17T14:30:30.455Z"
   },
   {
    "duration": 3,
    "start_time": "2025-01-17T14:30:30.462Z"
   },
   {
    "duration": 3,
    "start_time": "2025-01-17T14:30:30.486Z"
   },
   {
    "duration": 457,
    "start_time": "2025-01-17T14:30:30.494Z"
   },
   {
    "duration": 396,
    "start_time": "2025-01-17T14:30:30.952Z"
   },
   {
    "duration": 7,
    "start_time": "2025-01-17T14:30:31.350Z"
   },
   {
    "duration": 9,
    "start_time": "2025-01-17T14:30:31.359Z"
   },
   {
    "duration": 331,
    "start_time": "2025-01-17T14:30:31.386Z"
   },
   {
    "duration": 0,
    "start_time": "2025-01-17T14:30:31.719Z"
   },
   {
    "duration": 0,
    "start_time": "2025-01-17T14:30:31.721Z"
   },
   {
    "duration": 0,
    "start_time": "2025-01-17T14:30:31.722Z"
   },
   {
    "duration": 0,
    "start_time": "2025-01-17T14:30:31.723Z"
   },
   {
    "duration": 0,
    "start_time": "2025-01-17T14:30:31.725Z"
   },
   {
    "duration": 0,
    "start_time": "2025-01-17T14:30:31.727Z"
   },
   {
    "duration": 0,
    "start_time": "2025-01-17T14:30:31.728Z"
   },
   {
    "duration": 0,
    "start_time": "2025-01-17T14:30:31.730Z"
   },
   {
    "duration": 0,
    "start_time": "2025-01-17T14:30:31.734Z"
   },
   {
    "duration": 0,
    "start_time": "2025-01-17T14:30:31.743Z"
   },
   {
    "duration": 0,
    "start_time": "2025-01-17T14:30:31.744Z"
   },
   {
    "duration": 0,
    "start_time": "2025-01-17T14:30:31.745Z"
   },
   {
    "duration": 0,
    "start_time": "2025-01-17T14:30:31.746Z"
   },
   {
    "duration": 0,
    "start_time": "2025-01-17T14:30:31.747Z"
   },
   {
    "duration": 0,
    "start_time": "2025-01-17T14:30:31.748Z"
   },
   {
    "duration": 0,
    "start_time": "2025-01-17T14:30:31.749Z"
   },
   {
    "duration": 0,
    "start_time": "2025-01-17T14:30:31.750Z"
   },
   {
    "duration": 0,
    "start_time": "2025-01-17T14:30:31.787Z"
   },
   {
    "duration": 0,
    "start_time": "2025-01-17T14:30:31.788Z"
   },
   {
    "duration": 0,
    "start_time": "2025-01-17T14:30:31.790Z"
   },
   {
    "duration": 0,
    "start_time": "2025-01-17T14:30:31.794Z"
   },
   {
    "duration": 0,
    "start_time": "2025-01-17T14:30:31.795Z"
   },
   {
    "duration": 0,
    "start_time": "2025-01-17T14:30:31.796Z"
   },
   {
    "duration": 0,
    "start_time": "2025-01-17T14:30:31.800Z"
   },
   {
    "duration": 15,
    "start_time": "2025-01-17T14:30:50.283Z"
   },
   {
    "duration": 3,
    "start_time": "2025-01-17T14:31:16.145Z"
   },
   {
    "duration": 7,
    "start_time": "2025-01-17T14:31:27.689Z"
   },
   {
    "duration": 12,
    "start_time": "2025-01-17T14:31:31.128Z"
   },
   {
    "duration": 24,
    "start_time": "2025-01-17T14:31:33.879Z"
   },
   {
    "duration": 8,
    "start_time": "2025-01-17T14:32:09.745Z"
   },
   {
    "duration": 12,
    "start_time": "2025-01-17T14:37:52.103Z"
   },
   {
    "duration": 8,
    "start_time": "2025-01-17T14:39:41.278Z"
   },
   {
    "duration": 4,
    "start_time": "2025-01-17T14:39:44.070Z"
   },
   {
    "duration": 7,
    "start_time": "2025-01-17T14:41:07.300Z"
   },
   {
    "duration": 5,
    "start_time": "2025-01-17T14:41:17.979Z"
   },
   {
    "duration": 4,
    "start_time": "2025-01-17T14:41:20.792Z"
   },
   {
    "duration": 3,
    "start_time": "2025-01-17T14:41:24.040Z"
   },
   {
    "duration": 197,
    "start_time": "2025-01-17T14:41:25.759Z"
   },
   {
    "duration": 14,
    "start_time": "2025-01-17T14:45:07.596Z"
   },
   {
    "duration": 1046,
    "start_time": "2025-01-17T14:45:27.700Z"
   },
   {
    "duration": 512,
    "start_time": "2025-01-17T14:45:28.748Z"
   },
   {
    "duration": 86,
    "start_time": "2025-01-17T14:45:29.262Z"
   },
   {
    "duration": 41,
    "start_time": "2025-01-17T14:45:29.350Z"
   },
   {
    "duration": 120,
    "start_time": "2025-01-17T14:45:29.393Z"
   },
   {
    "duration": 6,
    "start_time": "2025-01-17T14:45:29.515Z"
   },
   {
    "duration": 4,
    "start_time": "2025-01-17T14:45:29.523Z"
   },
   {
    "duration": 3,
    "start_time": "2025-01-17T14:45:29.530Z"
   },
   {
    "duration": 15,
    "start_time": "2025-01-17T14:45:29.535Z"
   },
   {
    "duration": 40,
    "start_time": "2025-01-17T14:45:29.553Z"
   },
   {
    "duration": 5,
    "start_time": "2025-01-17T14:45:29.595Z"
   },
   {
    "duration": 8,
    "start_time": "2025-01-17T14:45:29.602Z"
   },
   {
    "duration": 15,
    "start_time": "2025-01-17T14:45:29.611Z"
   },
   {
    "duration": 144,
    "start_time": "2025-01-17T14:45:29.627Z"
   },
   {
    "duration": 21,
    "start_time": "2025-01-17T14:45:29.772Z"
   },
   {
    "duration": 8,
    "start_time": "2025-01-17T14:45:29.796Z"
   },
   {
    "duration": 13,
    "start_time": "2025-01-17T14:45:29.806Z"
   },
   {
    "duration": 10,
    "start_time": "2025-01-17T14:45:29.821Z"
   },
   {
    "duration": 13,
    "start_time": "2025-01-17T14:45:29.832Z"
   },
   {
    "duration": 40,
    "start_time": "2025-01-17T14:45:29.847Z"
   },
   {
    "duration": 1134,
    "start_time": "2025-01-17T14:45:29.889Z"
   },
   {
    "duration": 645,
    "start_time": "2025-01-17T14:45:31.025Z"
   },
   {
    "duration": 257,
    "start_time": "2025-01-17T14:45:31.672Z"
   },
   {
    "duration": 5,
    "start_time": "2025-01-17T14:45:31.932Z"
   },
   {
    "duration": 5,
    "start_time": "2025-01-17T14:45:31.939Z"
   },
   {
    "duration": 3,
    "start_time": "2025-01-17T14:45:31.946Z"
   },
   {
    "duration": 35,
    "start_time": "2025-01-17T14:45:31.952Z"
   },
   {
    "duration": 453,
    "start_time": "2025-01-17T14:45:31.992Z"
   },
   {
    "duration": 460,
    "start_time": "2025-01-17T14:45:32.448Z"
   },
   {
    "duration": 7,
    "start_time": "2025-01-17T14:45:32.909Z"
   },
   {
    "duration": 11,
    "start_time": "2025-01-17T14:45:32.918Z"
   },
   {
    "duration": 5,
    "start_time": "2025-01-17T14:45:32.931Z"
   },
   {
    "duration": 11,
    "start_time": "2025-01-17T14:45:32.938Z"
   },
   {
    "duration": 42,
    "start_time": "2025-01-17T14:45:32.950Z"
   },
   {
    "duration": 7,
    "start_time": "2025-01-17T14:45:32.994Z"
   },
   {
    "duration": 4,
    "start_time": "2025-01-17T14:45:33.003Z"
   },
   {
    "duration": 4,
    "start_time": "2025-01-17T14:45:33.010Z"
   },
   {
    "duration": 9,
    "start_time": "2025-01-17T14:45:33.017Z"
   },
   {
    "duration": 3,
    "start_time": "2025-01-17T14:45:33.028Z"
   },
   {
    "duration": 68,
    "start_time": "2025-01-17T14:45:33.033Z"
   },
   {
    "duration": 6,
    "start_time": "2025-01-17T14:45:33.104Z"
   },
   {
    "duration": 0,
    "start_time": "2025-01-17T14:45:33.112Z"
   },
   {
    "duration": 0,
    "start_time": "2025-01-17T14:45:33.113Z"
   },
   {
    "duration": 0,
    "start_time": "2025-01-17T14:45:33.114Z"
   },
   {
    "duration": 0,
    "start_time": "2025-01-17T14:45:33.116Z"
   },
   {
    "duration": 0,
    "start_time": "2025-01-17T14:45:33.117Z"
   },
   {
    "duration": 0,
    "start_time": "2025-01-17T14:45:33.118Z"
   },
   {
    "duration": 0,
    "start_time": "2025-01-17T14:45:33.120Z"
   },
   {
    "duration": 0,
    "start_time": "2025-01-17T14:45:33.121Z"
   },
   {
    "duration": 0,
    "start_time": "2025-01-17T14:45:33.123Z"
   },
   {
    "duration": 0,
    "start_time": "2025-01-17T14:45:33.124Z"
   },
   {
    "duration": 0,
    "start_time": "2025-01-17T14:45:33.125Z"
   },
   {
    "duration": 0,
    "start_time": "2025-01-17T14:45:33.126Z"
   },
   {
    "duration": 0,
    "start_time": "2025-01-17T14:45:33.127Z"
   },
   {
    "duration": 0,
    "start_time": "2025-01-17T14:45:33.129Z"
   },
   {
    "duration": 0,
    "start_time": "2025-01-17T14:45:33.130Z"
   },
   {
    "duration": 0,
    "start_time": "2025-01-17T14:45:33.131Z"
   },
   {
    "duration": 228,
    "start_time": "2025-01-17T14:47:19.206Z"
   },
   {
    "duration": 14,
    "start_time": "2025-01-17T14:49:02.291Z"
   },
   {
    "duration": 18,
    "start_time": "2025-01-17T14:53:00.790Z"
   },
   {
    "duration": 16,
    "start_time": "2025-01-17T14:53:06.660Z"
   },
   {
    "duration": 15,
    "start_time": "2025-01-17T14:54:47.047Z"
   },
   {
    "duration": 14,
    "start_time": "2025-01-17T14:55:48.469Z"
   },
   {
    "duration": 13,
    "start_time": "2025-01-17T14:56:43.245Z"
   },
   {
    "duration": 980,
    "start_time": "2025-01-17T14:56:56.667Z"
   },
   {
    "duration": 497,
    "start_time": "2025-01-17T14:56:57.649Z"
   },
   {
    "duration": 83,
    "start_time": "2025-01-17T14:56:58.147Z"
   },
   {
    "duration": 35,
    "start_time": "2025-01-17T14:56:58.233Z"
   },
   {
    "duration": 132,
    "start_time": "2025-01-17T14:56:58.269Z"
   },
   {
    "duration": 5,
    "start_time": "2025-01-17T14:56:58.403Z"
   },
   {
    "duration": 3,
    "start_time": "2025-01-17T14:56:58.410Z"
   },
   {
    "duration": 3,
    "start_time": "2025-01-17T14:56:58.415Z"
   },
   {
    "duration": 13,
    "start_time": "2025-01-17T14:56:58.419Z"
   },
   {
    "duration": 7,
    "start_time": "2025-01-17T14:56:58.436Z"
   },
   {
    "duration": 43,
    "start_time": "2025-01-17T14:56:58.444Z"
   },
   {
    "duration": 9,
    "start_time": "2025-01-17T14:56:58.489Z"
   },
   {
    "duration": 13,
    "start_time": "2025-01-17T14:56:58.499Z"
   },
   {
    "duration": 128,
    "start_time": "2025-01-17T14:56:58.514Z"
   },
   {
    "duration": 12,
    "start_time": "2025-01-17T14:56:58.644Z"
   },
   {
    "duration": 28,
    "start_time": "2025-01-17T14:56:58.658Z"
   },
   {
    "duration": 13,
    "start_time": "2025-01-17T14:56:58.688Z"
   },
   {
    "duration": 9,
    "start_time": "2025-01-17T14:56:58.703Z"
   },
   {
    "duration": 11,
    "start_time": "2025-01-17T14:56:58.714Z"
   },
   {
    "duration": 4,
    "start_time": "2025-01-17T14:56:58.726Z"
   },
   {
    "duration": 1149,
    "start_time": "2025-01-17T14:56:58.732Z"
   },
   {
    "duration": 605,
    "start_time": "2025-01-17T14:56:59.883Z"
   },
   {
    "duration": 244,
    "start_time": "2025-01-17T14:57:00.489Z"
   },
   {
    "duration": 5,
    "start_time": "2025-01-17T14:57:00.736Z"
   },
   {
    "duration": 4,
    "start_time": "2025-01-17T14:57:00.743Z"
   },
   {
    "duration": 4,
    "start_time": "2025-01-17T14:57:00.748Z"
   },
   {
    "duration": 32,
    "start_time": "2025-01-17T14:57:00.754Z"
   },
   {
    "duration": 436,
    "start_time": "2025-01-17T14:57:00.790Z"
   },
   {
    "duration": 428,
    "start_time": "2025-01-17T14:57:01.228Z"
   },
   {
    "duration": 8,
    "start_time": "2025-01-17T14:57:01.658Z"
   },
   {
    "duration": 26,
    "start_time": "2025-01-17T14:57:01.667Z"
   },
   {
    "duration": 6,
    "start_time": "2025-01-17T14:57:01.695Z"
   },
   {
    "duration": 10,
    "start_time": "2025-01-17T14:57:01.703Z"
   },
   {
    "duration": 7,
    "start_time": "2025-01-17T14:57:01.715Z"
   },
   {
    "duration": 173,
    "start_time": "2025-01-17T14:57:01.723Z"
   },
   {
    "duration": 0,
    "start_time": "2025-01-17T14:57:01.898Z"
   },
   {
    "duration": 0,
    "start_time": "2025-01-17T14:57:01.899Z"
   },
   {
    "duration": 0,
    "start_time": "2025-01-17T14:57:01.900Z"
   },
   {
    "duration": 0,
    "start_time": "2025-01-17T14:57:01.902Z"
   },
   {
    "duration": 0,
    "start_time": "2025-01-17T14:57:01.903Z"
   },
   {
    "duration": 0,
    "start_time": "2025-01-17T14:57:01.904Z"
   },
   {
    "duration": 0,
    "start_time": "2025-01-17T14:57:01.905Z"
   },
   {
    "duration": 0,
    "start_time": "2025-01-17T14:57:01.906Z"
   },
   {
    "duration": 0,
    "start_time": "2025-01-17T14:57:01.907Z"
   },
   {
    "duration": 0,
    "start_time": "2025-01-17T14:57:01.908Z"
   },
   {
    "duration": 0,
    "start_time": "2025-01-17T14:57:01.909Z"
   },
   {
    "duration": 0,
    "start_time": "2025-01-17T14:57:01.910Z"
   },
   {
    "duration": 0,
    "start_time": "2025-01-17T14:57:01.911Z"
   },
   {
    "duration": 0,
    "start_time": "2025-01-17T14:57:01.912Z"
   },
   {
    "duration": 0,
    "start_time": "2025-01-17T14:57:01.913Z"
   },
   {
    "duration": 0,
    "start_time": "2025-01-17T14:57:01.914Z"
   },
   {
    "duration": 0,
    "start_time": "2025-01-17T14:57:01.915Z"
   },
   {
    "duration": 0,
    "start_time": "2025-01-17T14:57:01.916Z"
   },
   {
    "duration": 0,
    "start_time": "2025-01-17T14:57:01.918Z"
   },
   {
    "duration": 0,
    "start_time": "2025-01-17T14:57:01.919Z"
   },
   {
    "duration": 0,
    "start_time": "2025-01-17T14:57:01.921Z"
   },
   {
    "duration": 0,
    "start_time": "2025-01-17T14:57:01.922Z"
   },
   {
    "duration": 0,
    "start_time": "2025-01-17T14:57:01.924Z"
   },
   {
    "duration": 104,
    "start_time": "2025-01-17T14:57:31.857Z"
   },
   {
    "duration": 3,
    "start_time": "2025-01-17T14:57:57.067Z"
   },
   {
    "duration": 496,
    "start_time": "2025-01-17T14:59:48.521Z"
   },
   {
    "duration": 22,
    "start_time": "2025-01-17T15:00:13.205Z"
   },
   {
    "duration": 17,
    "start_time": "2025-01-17T15:01:30.262Z"
   },
   {
    "duration": 110,
    "start_time": "2025-01-17T15:05:47.785Z"
   },
   {
    "duration": 12,
    "start_time": "2025-01-17T15:06:47.473Z"
   },
   {
    "duration": 1036,
    "start_time": "2025-01-17T16:12:07.819Z"
   },
   {
    "duration": 500,
    "start_time": "2025-01-17T16:12:08.857Z"
   },
   {
    "duration": 15,
    "start_time": "2025-01-17T16:12:09.359Z"
   },
   {
    "duration": 85,
    "start_time": "2025-01-17T16:12:09.375Z"
   },
   {
    "duration": 48,
    "start_time": "2025-01-17T16:12:09.463Z"
   },
   {
    "duration": 118,
    "start_time": "2025-01-17T16:12:09.513Z"
   },
   {
    "duration": 6,
    "start_time": "2025-01-17T16:12:09.633Z"
   },
   {
    "duration": 4,
    "start_time": "2025-01-17T16:12:09.640Z"
   },
   {
    "duration": 3,
    "start_time": "2025-01-17T16:12:09.646Z"
   },
   {
    "duration": 4,
    "start_time": "2025-01-17T16:12:09.651Z"
   },
   {
    "duration": 44,
    "start_time": "2025-01-17T16:12:09.656Z"
   },
   {
    "duration": 7,
    "start_time": "2025-01-17T16:12:09.701Z"
   },
   {
    "duration": 5,
    "start_time": "2025-01-17T16:12:09.710Z"
   },
   {
    "duration": 7,
    "start_time": "2025-01-17T16:12:09.719Z"
   },
   {
    "duration": 59,
    "start_time": "2025-01-17T16:12:09.727Z"
   },
   {
    "duration": 135,
    "start_time": "2025-01-17T16:12:09.788Z"
   },
   {
    "duration": 11,
    "start_time": "2025-01-17T16:12:09.925Z"
   },
   {
    "duration": 8,
    "start_time": "2025-01-17T16:12:09.938Z"
   },
   {
    "duration": 47,
    "start_time": "2025-01-17T16:12:09.947Z"
   },
   {
    "duration": 9,
    "start_time": "2025-01-17T16:12:09.996Z"
   },
   {
    "duration": 11,
    "start_time": "2025-01-17T16:12:10.007Z"
   },
   {
    "duration": 4,
    "start_time": "2025-01-17T16:12:10.020Z"
   },
   {
    "duration": 1157,
    "start_time": "2025-01-17T16:12:10.026Z"
   },
   {
    "duration": 619,
    "start_time": "2025-01-17T16:12:11.185Z"
   },
   {
    "duration": 252,
    "start_time": "2025-01-17T16:12:11.806Z"
   },
   {
    "duration": 5,
    "start_time": "2025-01-17T16:12:12.059Z"
   },
   {
    "duration": 4,
    "start_time": "2025-01-17T16:12:12.066Z"
   },
   {
    "duration": 3,
    "start_time": "2025-01-17T16:12:12.087Z"
   },
   {
    "duration": 4,
    "start_time": "2025-01-17T16:12:12.092Z"
   },
   {
    "duration": 490,
    "start_time": "2025-01-17T16:12:12.098Z"
   },
   {
    "duration": 458,
    "start_time": "2025-01-17T16:12:12.590Z"
   },
   {
    "duration": 8,
    "start_time": "2025-01-17T16:12:13.050Z"
   },
   {
    "duration": 31,
    "start_time": "2025-01-17T16:12:13.060Z"
   },
   {
    "duration": 5,
    "start_time": "2025-01-17T16:12:13.093Z"
   },
   {
    "duration": 16,
    "start_time": "2025-01-17T16:12:13.099Z"
   },
   {
    "duration": 8,
    "start_time": "2025-01-17T16:12:13.118Z"
   },
   {
    "duration": 4,
    "start_time": "2025-01-17T16:12:13.128Z"
   },
   {
    "duration": 5,
    "start_time": "2025-01-17T16:12:13.134Z"
   },
   {
    "duration": 50,
    "start_time": "2025-01-17T16:12:13.141Z"
   },
   {
    "duration": 16,
    "start_time": "2025-01-17T16:12:13.193Z"
   },
   {
    "duration": 6,
    "start_time": "2025-01-17T16:12:13.214Z"
   },
   {
    "duration": 2,
    "start_time": "2025-01-17T16:12:13.222Z"
   },
   {
    "duration": 19,
    "start_time": "2025-01-17T16:12:13.226Z"
   },
   {
    "duration": 39,
    "start_time": "2025-01-17T16:12:13.247Z"
   },
   {
    "duration": 0,
    "start_time": "2025-01-17T16:12:13.288Z"
   },
   {
    "duration": 0,
    "start_time": "2025-01-17T16:12:13.289Z"
   },
   {
    "duration": 0,
    "start_time": "2025-01-17T16:12:13.291Z"
   },
   {
    "duration": 0,
    "start_time": "2025-01-17T16:12:13.292Z"
   },
   {
    "duration": 0,
    "start_time": "2025-01-17T16:12:13.292Z"
   },
   {
    "duration": 0,
    "start_time": "2025-01-17T16:12:13.295Z"
   },
   {
    "duration": 0,
    "start_time": "2025-01-17T16:12:13.296Z"
   },
   {
    "duration": 0,
    "start_time": "2025-01-17T16:12:13.297Z"
   },
   {
    "duration": 0,
    "start_time": "2025-01-17T16:12:13.298Z"
   },
   {
    "duration": 0,
    "start_time": "2025-01-17T16:12:13.299Z"
   },
   {
    "duration": 0,
    "start_time": "2025-01-17T16:12:13.300Z"
   },
   {
    "duration": 0,
    "start_time": "2025-01-17T16:12:13.302Z"
   },
   {
    "duration": 0,
    "start_time": "2025-01-17T16:12:13.302Z"
   },
   {
    "duration": 0,
    "start_time": "2025-01-17T16:12:13.305Z"
   },
   {
    "duration": 0,
    "start_time": "2025-01-17T16:12:13.306Z"
   },
   {
    "duration": 0,
    "start_time": "2025-01-17T16:12:13.307Z"
   },
   {
    "duration": 4,
    "start_time": "2025-01-17T16:13:01.662Z"
   },
   {
    "duration": 7,
    "start_time": "2025-01-17T16:13:10.420Z"
   },
   {
    "duration": 11,
    "start_time": "2025-01-17T16:15:42.112Z"
   },
   {
    "duration": 8,
    "start_time": "2025-01-17T16:19:43.312Z"
   },
   {
    "duration": 962,
    "start_time": "2025-01-17T16:25:44.367Z"
   },
   {
    "duration": 485,
    "start_time": "2025-01-17T16:25:45.332Z"
   },
   {
    "duration": 14,
    "start_time": "2025-01-17T16:25:45.819Z"
   },
   {
    "duration": 93,
    "start_time": "2025-01-17T16:25:45.836Z"
   },
   {
    "duration": 34,
    "start_time": "2025-01-17T16:25:45.930Z"
   },
   {
    "duration": 134,
    "start_time": "2025-01-17T16:25:45.966Z"
   },
   {
    "duration": 116,
    "start_time": "2025-01-17T16:25:46.102Z"
   },
   {
    "duration": 11,
    "start_time": "2025-01-17T16:25:46.220Z"
   },
   {
    "duration": 15,
    "start_time": "2025-01-17T16:25:46.233Z"
   },
   {
    "duration": 5,
    "start_time": "2025-01-17T16:25:46.251Z"
   },
   {
    "duration": 4,
    "start_time": "2025-01-17T16:25:46.287Z"
   },
   {
    "duration": 4,
    "start_time": "2025-01-17T16:25:46.293Z"
   },
   {
    "duration": 15,
    "start_time": "2025-01-17T16:25:46.299Z"
   },
   {
    "duration": 7,
    "start_time": "2025-01-17T16:25:46.315Z"
   },
   {
    "duration": 5,
    "start_time": "2025-01-17T16:25:46.324Z"
   },
   {
    "duration": 7,
    "start_time": "2025-01-17T16:25:46.331Z"
   },
   {
    "duration": 57,
    "start_time": "2025-01-17T16:25:46.339Z"
   },
   {
    "duration": 10,
    "start_time": "2025-01-17T16:25:46.398Z"
   },
   {
    "duration": 14,
    "start_time": "2025-01-17T16:25:46.410Z"
   },
   {
    "duration": 12,
    "start_time": "2025-01-17T16:25:46.425Z"
   },
   {
    "duration": 49,
    "start_time": "2025-01-17T16:25:46.438Z"
   },
   {
    "duration": 3,
    "start_time": "2025-01-17T16:25:46.489Z"
   },
   {
    "duration": 1105,
    "start_time": "2025-01-17T16:25:46.494Z"
   },
   {
    "duration": 614,
    "start_time": "2025-01-17T16:25:47.601Z"
   },
   {
    "duration": 249,
    "start_time": "2025-01-17T16:25:48.217Z"
   },
   {
    "duration": 5,
    "start_time": "2025-01-17T16:25:48.467Z"
   },
   {
    "duration": 14,
    "start_time": "2025-01-17T16:25:48.474Z"
   },
   {
    "duration": 4,
    "start_time": "2025-01-17T16:25:48.492Z"
   },
   {
    "duration": 4,
    "start_time": "2025-01-17T16:25:48.497Z"
   },
   {
    "duration": 496,
    "start_time": "2025-01-17T16:25:48.502Z"
   },
   {
    "duration": 470,
    "start_time": "2025-01-17T16:25:48.999Z"
   },
   {
    "duration": 16,
    "start_time": "2025-01-17T16:25:49.471Z"
   },
   {
    "duration": 12,
    "start_time": "2025-01-17T16:25:49.489Z"
   },
   {
    "duration": 6,
    "start_time": "2025-01-17T16:25:49.503Z"
   },
   {
    "duration": 12,
    "start_time": "2025-01-17T16:25:49.511Z"
   },
   {
    "duration": 8,
    "start_time": "2025-01-17T16:25:49.525Z"
   },
   {
    "duration": 4,
    "start_time": "2025-01-17T16:25:49.536Z"
   },
   {
    "duration": 51,
    "start_time": "2025-01-17T16:25:49.542Z"
   },
   {
    "duration": 11,
    "start_time": "2025-01-17T16:25:49.596Z"
   },
   {
    "duration": 19,
    "start_time": "2025-01-17T16:25:49.609Z"
   },
   {
    "duration": 7,
    "start_time": "2025-01-17T16:25:49.631Z"
   },
   {
    "duration": 47,
    "start_time": "2025-01-17T16:25:49.640Z"
   },
   {
    "duration": 24,
    "start_time": "2025-01-17T16:25:49.690Z"
   },
   {
    "duration": 5,
    "start_time": "2025-01-17T16:25:49.716Z"
   },
   {
    "duration": 0,
    "start_time": "2025-01-17T16:25:49.723Z"
   },
   {
    "duration": 0,
    "start_time": "2025-01-17T16:25:49.725Z"
   },
   {
    "duration": 0,
    "start_time": "2025-01-17T16:25:49.727Z"
   },
   {
    "duration": 0,
    "start_time": "2025-01-17T16:25:49.728Z"
   },
   {
    "duration": 0,
    "start_time": "2025-01-17T16:25:49.730Z"
   },
   {
    "duration": 0,
    "start_time": "2025-01-17T16:25:49.732Z"
   },
   {
    "duration": 0,
    "start_time": "2025-01-17T16:25:49.733Z"
   },
   {
    "duration": 0,
    "start_time": "2025-01-17T16:25:49.734Z"
   },
   {
    "duration": 1,
    "start_time": "2025-01-17T16:25:49.735Z"
   },
   {
    "duration": 0,
    "start_time": "2025-01-17T16:25:49.737Z"
   },
   {
    "duration": 0,
    "start_time": "2025-01-17T16:25:49.738Z"
   },
   {
    "duration": 0,
    "start_time": "2025-01-17T16:25:49.739Z"
   },
   {
    "duration": 0,
    "start_time": "2025-01-17T16:25:49.787Z"
   },
   {
    "duration": 0,
    "start_time": "2025-01-17T16:25:49.789Z"
   },
   {
    "duration": 0,
    "start_time": "2025-01-17T16:25:49.790Z"
   },
   {
    "duration": 0,
    "start_time": "2025-01-17T16:25:49.791Z"
   },
   {
    "duration": 8,
    "start_time": "2025-01-17T16:29:42.752Z"
   },
   {
    "duration": 4,
    "start_time": "2025-01-17T16:30:13.347Z"
   },
   {
    "duration": 4,
    "start_time": "2025-01-17T16:32:21.491Z"
   },
   {
    "duration": 279,
    "start_time": "2025-01-17T16:34:40.912Z"
   },
   {
    "duration": 85,
    "start_time": "2025-01-17T16:35:16.961Z"
   },
   {
    "duration": 1054,
    "start_time": "2025-01-17T16:36:04.709Z"
   },
   {
    "duration": 498,
    "start_time": "2025-01-17T16:36:05.765Z"
   },
   {
    "duration": 15,
    "start_time": "2025-01-17T16:36:06.265Z"
   },
   {
    "duration": 78,
    "start_time": "2025-01-17T16:36:06.287Z"
   },
   {
    "duration": 46,
    "start_time": "2025-01-17T16:36:06.366Z"
   },
   {
    "duration": 120,
    "start_time": "2025-01-17T16:36:06.414Z"
   },
   {
    "duration": 122,
    "start_time": "2025-01-17T16:36:06.536Z"
   },
   {
    "duration": 28,
    "start_time": "2025-01-17T16:36:06.660Z"
   },
   {
    "duration": 13,
    "start_time": "2025-01-17T16:36:06.690Z"
   },
   {
    "duration": 347,
    "start_time": "2025-01-17T16:36:06.708Z"
   },
   {
    "duration": 0,
    "start_time": "2025-01-17T16:36:07.060Z"
   },
   {
    "duration": 0,
    "start_time": "2025-01-17T16:36:07.062Z"
   },
   {
    "duration": 0,
    "start_time": "2025-01-17T16:36:07.063Z"
   },
   {
    "duration": 0,
    "start_time": "2025-01-17T16:36:07.064Z"
   },
   {
    "duration": 0,
    "start_time": "2025-01-17T16:36:07.066Z"
   },
   {
    "duration": 0,
    "start_time": "2025-01-17T16:36:07.067Z"
   },
   {
    "duration": 0,
    "start_time": "2025-01-17T16:36:07.069Z"
   },
   {
    "duration": 0,
    "start_time": "2025-01-17T16:36:07.086Z"
   },
   {
    "duration": 0,
    "start_time": "2025-01-17T16:36:07.088Z"
   },
   {
    "duration": 0,
    "start_time": "2025-01-17T16:36:07.089Z"
   },
   {
    "duration": 0,
    "start_time": "2025-01-17T16:36:07.090Z"
   },
   {
    "duration": 0,
    "start_time": "2025-01-17T16:36:07.092Z"
   },
   {
    "duration": 0,
    "start_time": "2025-01-17T16:36:07.094Z"
   },
   {
    "duration": 0,
    "start_time": "2025-01-17T16:36:07.095Z"
   },
   {
    "duration": 0,
    "start_time": "2025-01-17T16:36:07.096Z"
   },
   {
    "duration": 0,
    "start_time": "2025-01-17T16:36:07.097Z"
   },
   {
    "duration": 0,
    "start_time": "2025-01-17T16:36:07.098Z"
   },
   {
    "duration": 0,
    "start_time": "2025-01-17T16:36:07.099Z"
   },
   {
    "duration": 0,
    "start_time": "2025-01-17T16:36:07.101Z"
   },
   {
    "duration": 0,
    "start_time": "2025-01-17T16:36:07.103Z"
   },
   {
    "duration": 0,
    "start_time": "2025-01-17T16:36:07.104Z"
   },
   {
    "duration": 0,
    "start_time": "2025-01-17T16:36:07.106Z"
   },
   {
    "duration": 0,
    "start_time": "2025-01-17T16:36:07.108Z"
   },
   {
    "duration": 0,
    "start_time": "2025-01-17T16:36:07.109Z"
   },
   {
    "duration": 0,
    "start_time": "2025-01-17T16:36:07.110Z"
   },
   {
    "duration": 0,
    "start_time": "2025-01-17T16:36:07.110Z"
   },
   {
    "duration": 0,
    "start_time": "2025-01-17T16:36:07.111Z"
   },
   {
    "duration": 0,
    "start_time": "2025-01-17T16:36:07.112Z"
   },
   {
    "duration": 0,
    "start_time": "2025-01-17T16:36:07.113Z"
   },
   {
    "duration": 0,
    "start_time": "2025-01-17T16:36:07.114Z"
   },
   {
    "duration": 0,
    "start_time": "2025-01-17T16:36:07.116Z"
   },
   {
    "duration": 0,
    "start_time": "2025-01-17T16:36:07.117Z"
   },
   {
    "duration": 0,
    "start_time": "2025-01-17T16:36:07.119Z"
   },
   {
    "duration": 0,
    "start_time": "2025-01-17T16:36:07.120Z"
   },
   {
    "duration": 0,
    "start_time": "2025-01-17T16:36:07.121Z"
   },
   {
    "duration": 0,
    "start_time": "2025-01-17T16:36:07.123Z"
   },
   {
    "duration": 0,
    "start_time": "2025-01-17T16:36:07.124Z"
   },
   {
    "duration": 0,
    "start_time": "2025-01-17T16:36:07.125Z"
   },
   {
    "duration": 0,
    "start_time": "2025-01-17T16:36:07.126Z"
   },
   {
    "duration": 0,
    "start_time": "2025-01-17T16:36:07.187Z"
   },
   {
    "duration": 0,
    "start_time": "2025-01-17T16:36:07.189Z"
   },
   {
    "duration": 0,
    "start_time": "2025-01-17T16:36:07.190Z"
   },
   {
    "duration": 0,
    "start_time": "2025-01-17T16:36:07.191Z"
   },
   {
    "duration": 0,
    "start_time": "2025-01-17T16:36:07.192Z"
   },
   {
    "duration": 0,
    "start_time": "2025-01-17T16:36:07.194Z"
   },
   {
    "duration": 0,
    "start_time": "2025-01-17T16:36:07.195Z"
   },
   {
    "duration": 0,
    "start_time": "2025-01-17T16:36:07.196Z"
   },
   {
    "duration": 0,
    "start_time": "2025-01-17T16:36:07.198Z"
   },
   {
    "duration": 0,
    "start_time": "2025-01-17T16:36:07.199Z"
   },
   {
    "duration": 0,
    "start_time": "2025-01-17T16:36:07.200Z"
   },
   {
    "duration": 3,
    "start_time": "2025-01-17T16:37:25.256Z"
   },
   {
    "duration": 14,
    "start_time": "2025-01-17T16:37:30.777Z"
   },
   {
    "duration": 9,
    "start_time": "2025-01-17T16:39:35.888Z"
   },
   {
    "duration": 55,
    "start_time": "2025-01-17T16:39:41.251Z"
   },
   {
    "duration": 20,
    "start_time": "2025-01-17T16:46:22.858Z"
   },
   {
    "duration": 968,
    "start_time": "2025-01-17T16:49:54.669Z"
   },
   {
    "duration": 537,
    "start_time": "2025-01-17T16:49:55.639Z"
   },
   {
    "duration": 22,
    "start_time": "2025-01-17T16:49:56.178Z"
   },
   {
    "duration": 98,
    "start_time": "2025-01-17T16:49:56.203Z"
   },
   {
    "duration": 34,
    "start_time": "2025-01-17T16:49:56.303Z"
   },
   {
    "duration": 123,
    "start_time": "2025-01-17T16:49:56.338Z"
   },
   {
    "duration": 25,
    "start_time": "2025-01-17T16:49:56.463Z"
   },
   {
    "duration": 11,
    "start_time": "2025-01-17T16:49:56.490Z"
   },
   {
    "duration": 24,
    "start_time": "2025-01-17T16:49:56.503Z"
   },
   {
    "duration": 354,
    "start_time": "2025-01-17T16:49:56.530Z"
   },
   {
    "duration": 0,
    "start_time": "2025-01-17T16:49:56.887Z"
   },
   {
    "duration": 0,
    "start_time": "2025-01-17T16:49:56.889Z"
   },
   {
    "duration": 0,
    "start_time": "2025-01-17T16:49:56.890Z"
   },
   {
    "duration": 0,
    "start_time": "2025-01-17T16:49:56.892Z"
   },
   {
    "duration": 0,
    "start_time": "2025-01-17T16:49:56.894Z"
   },
   {
    "duration": 0,
    "start_time": "2025-01-17T16:49:56.895Z"
   },
   {
    "duration": 0,
    "start_time": "2025-01-17T16:49:56.897Z"
   },
   {
    "duration": 0,
    "start_time": "2025-01-17T16:49:56.898Z"
   },
   {
    "duration": 0,
    "start_time": "2025-01-17T16:49:56.899Z"
   },
   {
    "duration": 0,
    "start_time": "2025-01-17T16:49:56.900Z"
   },
   {
    "duration": 0,
    "start_time": "2025-01-17T16:49:56.902Z"
   },
   {
    "duration": 0,
    "start_time": "2025-01-17T16:49:56.903Z"
   },
   {
    "duration": 0,
    "start_time": "2025-01-17T16:49:56.904Z"
   },
   {
    "duration": 0,
    "start_time": "2025-01-17T16:49:56.905Z"
   },
   {
    "duration": 0,
    "start_time": "2025-01-17T16:49:56.906Z"
   },
   {
    "duration": 0,
    "start_time": "2025-01-17T16:49:56.907Z"
   },
   {
    "duration": 0,
    "start_time": "2025-01-17T16:49:56.910Z"
   },
   {
    "duration": 0,
    "start_time": "2025-01-17T16:49:56.912Z"
   },
   {
    "duration": 0,
    "start_time": "2025-01-17T16:49:56.913Z"
   },
   {
    "duration": 0,
    "start_time": "2025-01-17T16:49:56.915Z"
   },
   {
    "duration": 0,
    "start_time": "2025-01-17T16:49:56.916Z"
   },
   {
    "duration": 0,
    "start_time": "2025-01-17T16:49:56.917Z"
   },
   {
    "duration": 0,
    "start_time": "2025-01-17T16:49:56.919Z"
   },
   {
    "duration": 0,
    "start_time": "2025-01-17T16:49:56.920Z"
   },
   {
    "duration": 0,
    "start_time": "2025-01-17T16:49:56.921Z"
   },
   {
    "duration": 0,
    "start_time": "2025-01-17T16:49:56.923Z"
   },
   {
    "duration": 0,
    "start_time": "2025-01-17T16:49:56.924Z"
   },
   {
    "duration": 0,
    "start_time": "2025-01-17T16:49:56.926Z"
   },
   {
    "duration": 0,
    "start_time": "2025-01-17T16:49:56.928Z"
   },
   {
    "duration": 0,
    "start_time": "2025-01-17T16:49:56.929Z"
   },
   {
    "duration": 0,
    "start_time": "2025-01-17T16:49:56.987Z"
   },
   {
    "duration": 0,
    "start_time": "2025-01-17T16:49:56.989Z"
   },
   {
    "duration": 0,
    "start_time": "2025-01-17T16:49:56.990Z"
   },
   {
    "duration": 0,
    "start_time": "2025-01-17T16:49:56.991Z"
   },
   {
    "duration": 0,
    "start_time": "2025-01-17T16:49:56.992Z"
   },
   {
    "duration": 1,
    "start_time": "2025-01-17T16:49:56.993Z"
   },
   {
    "duration": 0,
    "start_time": "2025-01-17T16:49:56.995Z"
   },
   {
    "duration": 0,
    "start_time": "2025-01-17T16:49:56.996Z"
   },
   {
    "duration": 0,
    "start_time": "2025-01-17T16:49:56.997Z"
   },
   {
    "duration": 0,
    "start_time": "2025-01-17T16:49:56.998Z"
   },
   {
    "duration": 0,
    "start_time": "2025-01-17T16:49:57.000Z"
   },
   {
    "duration": 0,
    "start_time": "2025-01-17T16:49:57.001Z"
   },
   {
    "duration": 0,
    "start_time": "2025-01-17T16:49:57.003Z"
   },
   {
    "duration": 0,
    "start_time": "2025-01-17T16:49:57.005Z"
   },
   {
    "duration": 0,
    "start_time": "2025-01-17T16:49:57.006Z"
   },
   {
    "duration": 0,
    "start_time": "2025-01-17T16:49:57.007Z"
   },
   {
    "duration": 0,
    "start_time": "2025-01-17T16:49:57.008Z"
   },
   {
    "duration": 0,
    "start_time": "2025-01-17T16:49:57.009Z"
   },
   {
    "duration": 0,
    "start_time": "2025-01-17T16:49:57.010Z"
   },
   {
    "duration": 0,
    "start_time": "2025-01-17T16:49:57.011Z"
   },
   {
    "duration": 19,
    "start_time": "2025-01-17T16:52:30.640Z"
   },
   {
    "duration": 11,
    "start_time": "2025-01-17T16:52:35.084Z"
   },
   {
    "duration": 14,
    "start_time": "2025-01-17T16:52:39.433Z"
   },
   {
    "duration": 18,
    "start_time": "2025-01-17T16:52:55.002Z"
   },
   {
    "duration": 14,
    "start_time": "2025-01-17T16:53:14.145Z"
   },
   {
    "duration": 987,
    "start_time": "2025-01-17T17:00:08.742Z"
   },
   {
    "duration": 491,
    "start_time": "2025-01-17T17:00:09.731Z"
   },
   {
    "duration": 13,
    "start_time": "2025-01-17T17:00:10.225Z"
   },
   {
    "duration": 88,
    "start_time": "2025-01-17T17:00:10.241Z"
   },
   {
    "duration": 34,
    "start_time": "2025-01-17T17:00:10.332Z"
   },
   {
    "duration": 111,
    "start_time": "2025-01-17T17:00:10.386Z"
   },
   {
    "duration": 20,
    "start_time": "2025-01-17T17:00:10.499Z"
   },
   {
    "duration": 10,
    "start_time": "2025-01-17T17:00:10.521Z"
   },
   {
    "duration": 12,
    "start_time": "2025-01-17T17:00:10.532Z"
   },
   {
    "duration": 53,
    "start_time": "2025-01-17T17:00:10.548Z"
   },
   {
    "duration": 4,
    "start_time": "2025-01-17T17:00:10.602Z"
   },
   {
    "duration": 4,
    "start_time": "2025-01-17T17:00:10.607Z"
   },
   {
    "duration": 5,
    "start_time": "2025-01-17T17:00:10.612Z"
   },
   {
    "duration": 12,
    "start_time": "2025-01-17T17:00:10.618Z"
   },
   {
    "duration": 5,
    "start_time": "2025-01-17T17:00:10.632Z"
   },
   {
    "duration": 50,
    "start_time": "2025-01-17T17:00:10.639Z"
   },
   {
    "duration": 8,
    "start_time": "2025-01-17T17:00:10.691Z"
   },
   {
    "duration": 6,
    "start_time": "2025-01-17T17:00:10.701Z"
   },
   {
    "duration": 7,
    "start_time": "2025-01-17T17:00:10.709Z"
   },
   {
    "duration": 11,
    "start_time": "2025-01-17T17:00:10.717Z"
   },
   {
    "duration": 8,
    "start_time": "2025-01-17T17:00:10.730Z"
   },
   {
    "duration": 57,
    "start_time": "2025-01-17T17:00:10.740Z"
   },
   {
    "duration": 4,
    "start_time": "2025-01-17T17:00:10.799Z"
   },
   {
    "duration": 570,
    "start_time": "2025-01-17T17:00:10.805Z"
   },
   {
    "duration": 566,
    "start_time": "2025-01-17T17:00:11.377Z"
   },
   {
    "duration": 252,
    "start_time": "2025-01-17T17:00:11.945Z"
   },
   {
    "duration": 5,
    "start_time": "2025-01-17T17:00:12.199Z"
   },
   {
    "duration": 4,
    "start_time": "2025-01-17T17:00:12.209Z"
   },
   {
    "duration": 3,
    "start_time": "2025-01-17T17:00:12.215Z"
   },
   {
    "duration": 3,
    "start_time": "2025-01-17T17:00:12.220Z"
   },
   {
    "duration": 452,
    "start_time": "2025-01-17T17:00:12.226Z"
   },
   {
    "duration": 454,
    "start_time": "2025-01-17T17:00:12.680Z"
   },
   {
    "duration": 6,
    "start_time": "2025-01-17T17:00:13.140Z"
   },
   {
    "duration": 12,
    "start_time": "2025-01-17T17:00:13.148Z"
   },
   {
    "duration": 5,
    "start_time": "2025-01-17T17:00:13.163Z"
   },
   {
    "duration": 8,
    "start_time": "2025-01-17T17:00:13.188Z"
   },
   {
    "duration": 6,
    "start_time": "2025-01-17T17:00:13.198Z"
   },
   {
    "duration": 3,
    "start_time": "2025-01-17T17:00:13.206Z"
   },
   {
    "duration": 5,
    "start_time": "2025-01-17T17:00:13.210Z"
   },
   {
    "duration": 8,
    "start_time": "2025-01-17T17:00:13.216Z"
   },
   {
    "duration": 9,
    "start_time": "2025-01-17T17:00:13.226Z"
   },
   {
    "duration": 57,
    "start_time": "2025-01-17T17:00:13.236Z"
   },
   {
    "duration": 4,
    "start_time": "2025-01-17T17:00:13.297Z"
   },
   {
    "duration": 14,
    "start_time": "2025-01-17T17:00:13.303Z"
   },
   {
    "duration": 3,
    "start_time": "2025-01-17T17:00:13.319Z"
   },
   {
    "duration": 0,
    "start_time": "2025-01-17T17:00:13.324Z"
   },
   {
    "duration": 0,
    "start_time": "2025-01-17T17:00:13.326Z"
   },
   {
    "duration": 0,
    "start_time": "2025-01-17T17:00:13.327Z"
   },
   {
    "duration": 0,
    "start_time": "2025-01-17T17:00:13.329Z"
   },
   {
    "duration": 0,
    "start_time": "2025-01-17T17:00:13.330Z"
   },
   {
    "duration": 0,
    "start_time": "2025-01-17T17:00:13.331Z"
   },
   {
    "duration": 0,
    "start_time": "2025-01-17T17:00:13.332Z"
   },
   {
    "duration": 0,
    "start_time": "2025-01-17T17:00:13.333Z"
   },
   {
    "duration": 0,
    "start_time": "2025-01-17T17:00:13.334Z"
   },
   {
    "duration": 0,
    "start_time": "2025-01-17T17:00:13.336Z"
   },
   {
    "duration": 0,
    "start_time": "2025-01-17T17:00:13.337Z"
   },
   {
    "duration": 0,
    "start_time": "2025-01-17T17:00:13.339Z"
   },
   {
    "duration": 0,
    "start_time": "2025-01-17T17:00:13.340Z"
   },
   {
    "duration": 0,
    "start_time": "2025-01-17T17:00:13.342Z"
   },
   {
    "duration": 0,
    "start_time": "2025-01-17T17:00:13.387Z"
   },
   {
    "duration": 0,
    "start_time": "2025-01-17T17:00:13.388Z"
   },
   {
    "duration": 226,
    "start_time": "2025-01-17T17:01:34.648Z"
   },
   {
    "duration": 36,
    "start_time": "2025-01-17T17:02:48.303Z"
   },
   {
    "duration": 1003,
    "start_time": "2025-01-17T17:03:00.863Z"
   },
   {
    "duration": 502,
    "start_time": "2025-01-17T17:03:01.869Z"
   },
   {
    "duration": 18,
    "start_time": "2025-01-17T17:03:02.372Z"
   },
   {
    "duration": 76,
    "start_time": "2025-01-17T17:03:02.391Z"
   },
   {
    "duration": 47,
    "start_time": "2025-01-17T17:03:02.470Z"
   },
   {
    "duration": 120,
    "start_time": "2025-01-17T17:03:02.518Z"
   },
   {
    "duration": 21,
    "start_time": "2025-01-17T17:03:02.640Z"
   },
   {
    "duration": 29,
    "start_time": "2025-01-17T17:03:02.662Z"
   },
   {
    "duration": 11,
    "start_time": "2025-01-17T17:03:02.692Z"
   },
   {
    "duration": 20,
    "start_time": "2025-01-17T17:03:02.705Z"
   },
   {
    "duration": 4,
    "start_time": "2025-01-17T17:03:02.727Z"
   },
   {
    "duration": 3,
    "start_time": "2025-01-17T17:03:02.732Z"
   },
   {
    "duration": 5,
    "start_time": "2025-01-17T17:03:02.737Z"
   },
   {
    "duration": 13,
    "start_time": "2025-01-17T17:03:02.788Z"
   },
   {
    "duration": 6,
    "start_time": "2025-01-17T17:03:02.803Z"
   },
   {
    "duration": 5,
    "start_time": "2025-01-17T17:03:02.811Z"
   },
   {
    "duration": 6,
    "start_time": "2025-01-17T17:03:02.818Z"
   },
   {
    "duration": 8,
    "start_time": "2025-01-17T17:03:02.826Z"
   },
   {
    "duration": 53,
    "start_time": "2025-01-17T17:03:02.836Z"
   },
   {
    "duration": 12,
    "start_time": "2025-01-17T17:03:02.891Z"
   },
   {
    "duration": 11,
    "start_time": "2025-01-17T17:03:02.905Z"
   },
   {
    "duration": 12,
    "start_time": "2025-01-17T17:03:02.917Z"
   },
   {
    "duration": 3,
    "start_time": "2025-01-17T17:03:02.931Z"
   },
   {
    "duration": 635,
    "start_time": "2025-01-17T17:03:02.936Z"
   },
   {
    "duration": 595,
    "start_time": "2025-01-17T17:03:03.573Z"
   },
   {
    "duration": 252,
    "start_time": "2025-01-17T17:03:04.170Z"
   },
   {
    "duration": 5,
    "start_time": "2025-01-17T17:03:04.424Z"
   },
   {
    "duration": 4,
    "start_time": "2025-01-17T17:03:04.431Z"
   },
   {
    "duration": 3,
    "start_time": "2025-01-17T17:03:04.437Z"
   },
   {
    "duration": 3,
    "start_time": "2025-01-17T17:03:04.442Z"
   },
   {
    "duration": 435,
    "start_time": "2025-01-17T17:03:04.447Z"
   },
   {
    "duration": 446,
    "start_time": "2025-01-17T17:03:04.887Z"
   },
   {
    "duration": 6,
    "start_time": "2025-01-17T17:03:05.335Z"
   },
   {
    "duration": 9,
    "start_time": "2025-01-17T17:03:05.343Z"
   },
   {
    "duration": 6,
    "start_time": "2025-01-17T17:03:05.354Z"
   },
   {
    "duration": 32,
    "start_time": "2025-01-17T17:03:05.361Z"
   },
   {
    "duration": 7,
    "start_time": "2025-01-17T17:03:05.394Z"
   },
   {
    "duration": 4,
    "start_time": "2025-01-17T17:03:05.403Z"
   },
   {
    "duration": 6,
    "start_time": "2025-01-17T17:03:05.408Z"
   },
   {
    "duration": 2,
    "start_time": "2025-01-17T17:03:05.417Z"
   },
   {
    "duration": 14,
    "start_time": "2025-01-17T17:03:05.425Z"
   },
   {
    "duration": 74,
    "start_time": "2025-01-17T17:03:05.441Z"
   },
   {
    "duration": 5,
    "start_time": "2025-01-17T17:03:05.517Z"
   },
   {
    "duration": 6,
    "start_time": "2025-01-17T17:03:05.523Z"
   },
   {
    "duration": 6,
    "start_time": "2025-01-17T17:03:05.531Z"
   },
   {
    "duration": 3,
    "start_time": "2025-01-17T17:03:05.539Z"
   },
   {
    "duration": 262,
    "start_time": "2025-01-17T17:03:05.545Z"
   },
   {
    "duration": 0,
    "start_time": "2025-01-17T17:03:05.809Z"
   },
   {
    "duration": 0,
    "start_time": "2025-01-17T17:03:05.811Z"
   },
   {
    "duration": 0,
    "start_time": "2025-01-17T17:03:05.812Z"
   },
   {
    "duration": 0,
    "start_time": "2025-01-17T17:03:05.814Z"
   },
   {
    "duration": 0,
    "start_time": "2025-01-17T17:03:05.816Z"
   },
   {
    "duration": 0,
    "start_time": "2025-01-17T17:03:05.817Z"
   },
   {
    "duration": 0,
    "start_time": "2025-01-17T17:03:05.819Z"
   },
   {
    "duration": 0,
    "start_time": "2025-01-17T17:03:05.820Z"
   },
   {
    "duration": 0,
    "start_time": "2025-01-17T17:03:05.822Z"
   },
   {
    "duration": 0,
    "start_time": "2025-01-17T17:03:05.823Z"
   },
   {
    "duration": 0,
    "start_time": "2025-01-17T17:03:05.823Z"
   },
   {
    "duration": 2663,
    "start_time": "2025-01-18T05:04:30.517Z"
   },
   {
    "duration": 615,
    "start_time": "2025-01-18T05:04:33.182Z"
   },
   {
    "duration": 81,
    "start_time": "2025-01-18T05:04:33.798Z"
   },
   {
    "duration": 32,
    "start_time": "2025-01-18T05:04:33.881Z"
   },
   {
    "duration": 116,
    "start_time": "2025-01-18T05:04:33.915Z"
   },
   {
    "duration": 27,
    "start_time": "2025-01-18T05:04:34.033Z"
   },
   {
    "duration": 10,
    "start_time": "2025-01-18T05:04:34.062Z"
   },
   {
    "duration": 12,
    "start_time": "2025-01-18T05:04:34.074Z"
   },
   {
    "duration": 18,
    "start_time": "2025-01-18T05:04:34.087Z"
   },
   {
    "duration": 3,
    "start_time": "2025-01-18T05:04:34.109Z"
   },
   {
    "duration": 3,
    "start_time": "2025-01-18T05:04:34.142Z"
   },
   {
    "duration": 6,
    "start_time": "2025-01-18T05:04:34.147Z"
   },
   {
    "duration": 12,
    "start_time": "2025-01-18T05:04:34.155Z"
   },
   {
    "duration": 8,
    "start_time": "2025-01-18T05:04:34.168Z"
   },
   {
    "duration": 5,
    "start_time": "2025-01-18T05:04:34.178Z"
   },
   {
    "duration": 12,
    "start_time": "2025-01-18T05:04:34.184Z"
   },
   {
    "duration": 50,
    "start_time": "2025-01-18T05:04:34.197Z"
   },
   {
    "duration": 11,
    "start_time": "2025-01-18T05:04:34.248Z"
   },
   {
    "duration": 4,
    "start_time": "2025-01-18T05:04:34.260Z"
   },
   {
    "duration": 625,
    "start_time": "2025-01-18T05:04:34.266Z"
   },
   {
    "duration": 606,
    "start_time": "2025-01-18T05:04:34.893Z"
   },
   {
    "duration": 245,
    "start_time": "2025-01-18T05:04:35.501Z"
   },
   {
    "duration": 5,
    "start_time": "2025-01-18T05:04:35.748Z"
   },
   {
    "duration": 5,
    "start_time": "2025-01-18T05:04:35.754Z"
   },
   {
    "duration": 3,
    "start_time": "2025-01-18T05:04:35.761Z"
   },
   {
    "duration": 3,
    "start_time": "2025-01-18T05:04:35.766Z"
   },
   {
    "duration": 460,
    "start_time": "2025-01-18T05:04:35.772Z"
   },
   {
    "duration": 355,
    "start_time": "2025-01-18T05:04:36.237Z"
   },
   {
    "duration": 6,
    "start_time": "2025-01-18T05:04:36.593Z"
   },
   {
    "duration": 6,
    "start_time": "2025-01-18T05:04:36.601Z"
   },
   {
    "duration": 8,
    "start_time": "2025-01-18T05:04:36.608Z"
   },
   {
    "duration": 31,
    "start_time": "2025-01-18T05:04:36.617Z"
   },
   {
    "duration": 4,
    "start_time": "2025-01-18T05:04:36.650Z"
   },
   {
    "duration": 5,
    "start_time": "2025-01-18T05:04:36.655Z"
   },
   {
    "duration": 2,
    "start_time": "2025-01-18T05:04:36.662Z"
   },
   {
    "duration": 14,
    "start_time": "2025-01-18T05:04:36.666Z"
   },
   {
    "duration": 61,
    "start_time": "2025-01-18T05:04:36.682Z"
   },
   {
    "duration": 4,
    "start_time": "2025-01-18T05:04:36.744Z"
   },
   {
    "duration": 8,
    "start_time": "2025-01-18T05:04:36.750Z"
   },
   {
    "duration": 4,
    "start_time": "2025-01-18T05:04:36.760Z"
   },
   {
    "duration": 3,
    "start_time": "2025-01-18T05:04:36.766Z"
   },
   {
    "duration": 323,
    "start_time": "2025-01-18T05:04:36.770Z"
   },
   {
    "duration": 0,
    "start_time": "2025-01-18T05:04:37.094Z"
   },
   {
    "duration": 0,
    "start_time": "2025-01-18T05:04:37.096Z"
   },
   {
    "duration": 0,
    "start_time": "2025-01-18T05:04:37.097Z"
   },
   {
    "duration": 0,
    "start_time": "2025-01-18T05:04:37.098Z"
   },
   {
    "duration": 0,
    "start_time": "2025-01-18T05:04:37.099Z"
   },
   {
    "duration": 0,
    "start_time": "2025-01-18T05:04:37.100Z"
   },
   {
    "duration": 0,
    "start_time": "2025-01-18T05:04:37.101Z"
   },
   {
    "duration": 0,
    "start_time": "2025-01-18T05:04:37.102Z"
   },
   {
    "duration": 0,
    "start_time": "2025-01-18T05:04:37.104Z"
   },
   {
    "duration": 0,
    "start_time": "2025-01-18T05:04:37.105Z"
   },
   {
    "duration": 0,
    "start_time": "2025-01-18T05:04:37.106Z"
   },
   {
    "duration": 15,
    "start_time": "2025-01-18T05:06:33.592Z"
   },
   {
    "duration": 13,
    "start_time": "2025-01-18T05:06:39.494Z"
   },
   {
    "duration": 14,
    "start_time": "2025-01-18T05:06:42.411Z"
   },
   {
    "duration": 28,
    "start_time": "2025-01-18T05:07:17.528Z"
   },
   {
    "duration": 3,
    "start_time": "2025-01-18T05:12:39.905Z"
   },
   {
    "duration": 3,
    "start_time": "2025-01-18T05:15:42.033Z"
   },
   {
    "duration": 20,
    "start_time": "2025-01-18T05:57:17.781Z"
   },
   {
    "duration": 3,
    "start_time": "2025-01-18T05:57:53.478Z"
   },
   {
    "duration": 1072,
    "start_time": "2025-01-18T05:57:56.175Z"
   },
   {
    "duration": 52,
    "start_time": "2025-01-18T05:58:37.216Z"
   },
   {
    "duration": 16,
    "start_time": "2025-01-18T06:01:42.231Z"
   },
   {
    "duration": 5,
    "start_time": "2025-01-18T06:01:57.123Z"
   },
   {
    "duration": 8194,
    "start_time": "2025-01-18T06:15:33.861Z"
   },
   {
    "duration": 6,
    "start_time": "2025-01-18T06:15:42.057Z"
   },
   {
    "duration": 1570963,
    "start_time": "2025-01-18T06:28:47.092Z"
   },
   {
    "duration": 12948,
    "start_time": "2025-01-18T06:54:58.057Z"
   },
   {
    "duration": 6,
    "start_time": "2025-01-18T07:38:02.167Z"
   },
   {
    "duration": 1128,
    "start_time": "2025-01-18T07:41:55.960Z"
   },
   {
    "duration": 543,
    "start_time": "2025-01-18T07:41:57.091Z"
   },
   {
    "duration": 104,
    "start_time": "2025-01-18T07:41:57.644Z"
   },
   {
    "duration": 34,
    "start_time": "2025-01-18T07:41:57.751Z"
   },
   {
    "duration": 129,
    "start_time": "2025-01-18T07:41:57.787Z"
   },
   {
    "duration": 33,
    "start_time": "2025-01-18T07:41:57.919Z"
   },
   {
    "duration": 15,
    "start_time": "2025-01-18T07:41:57.957Z"
   },
   {
    "duration": 16,
    "start_time": "2025-01-18T07:41:57.974Z"
   },
   {
    "duration": 21,
    "start_time": "2025-01-18T07:41:57.992Z"
   },
   {
    "duration": 28,
    "start_time": "2025-01-18T07:41:58.017Z"
   },
   {
    "duration": 4,
    "start_time": "2025-01-18T07:41:58.047Z"
   },
   {
    "duration": 8,
    "start_time": "2025-01-18T07:41:58.052Z"
   },
   {
    "duration": 16,
    "start_time": "2025-01-18T07:41:58.062Z"
   },
   {
    "duration": 8,
    "start_time": "2025-01-18T07:41:58.080Z"
   },
   {
    "duration": 6,
    "start_time": "2025-01-18T07:41:58.091Z"
   },
   {
    "duration": 45,
    "start_time": "2025-01-18T07:41:58.099Z"
   },
   {
    "duration": 13,
    "start_time": "2025-01-18T07:41:58.146Z"
   },
   {
    "duration": 15,
    "start_time": "2025-01-18T07:41:58.162Z"
   },
   {
    "duration": 5,
    "start_time": "2025-01-18T07:41:58.179Z"
   },
   {
    "duration": 597,
    "start_time": "2025-01-18T07:41:58.186Z"
   },
   {
    "duration": 649,
    "start_time": "2025-01-18T07:41:58.785Z"
   },
   {
    "duration": 273,
    "start_time": "2025-01-18T07:41:59.443Z"
   },
   {
    "duration": 7,
    "start_time": "2025-01-18T07:41:59.719Z"
   },
   {
    "duration": 17,
    "start_time": "2025-01-18T07:41:59.728Z"
   },
   {
    "duration": 3,
    "start_time": "2025-01-18T07:41:59.747Z"
   },
   {
    "duration": 3,
    "start_time": "2025-01-18T07:41:59.752Z"
   },
   {
    "duration": 502,
    "start_time": "2025-01-18T07:41:59.757Z"
   },
   {
    "duration": 469,
    "start_time": "2025-01-18T07:42:00.264Z"
   },
   {
    "duration": 8,
    "start_time": "2025-01-18T07:42:00.736Z"
   },
   {
    "duration": 7,
    "start_time": "2025-01-18T07:42:00.746Z"
   },
   {
    "duration": 10,
    "start_time": "2025-01-18T07:42:00.755Z"
   },
   {
    "duration": 3,
    "start_time": "2025-01-18T07:42:00.767Z"
   },
   {
    "duration": 6,
    "start_time": "2025-01-18T07:42:00.771Z"
   },
   {
    "duration": 3,
    "start_time": "2025-01-18T07:42:00.780Z"
   },
   {
    "duration": 17,
    "start_time": "2025-01-18T07:42:00.786Z"
   },
   {
    "duration": 72,
    "start_time": "2025-01-18T07:42:00.805Z"
   },
   {
    "duration": 5,
    "start_time": "2025-01-18T07:42:00.879Z"
   },
   {
    "duration": 8,
    "start_time": "2025-01-18T07:42:00.886Z"
   },
   {
    "duration": 3,
    "start_time": "2025-01-18T07:42:00.895Z"
   },
   {
    "duration": 5,
    "start_time": "2025-01-18T07:42:00.900Z"
   },
   {
    "duration": 37,
    "start_time": "2025-01-18T07:42:00.907Z"
   },
   {
    "duration": 20,
    "start_time": "2025-01-18T07:42:00.947Z"
   },
   {
    "duration": 37,
    "start_time": "2025-01-18T07:42:00.969Z"
   },
   {
    "duration": 4,
    "start_time": "2025-01-18T07:42:01.008Z"
   },
   {
    "duration": 1543,
    "start_time": "2025-01-18T07:42:01.014Z"
   },
   {
    "duration": 213,
    "start_time": "2025-01-18T07:42:02.560Z"
   },
   {
    "duration": 8,
    "start_time": "2025-01-18T07:42:02.844Z"
   },
   {
    "duration": 28102,
    "start_time": "2025-01-18T07:42:02.854Z"
   },
   {
    "duration": 6,
    "start_time": "2025-01-18T07:42:30.958Z"
   },
   {
    "duration": 1583538,
    "start_time": "2025-01-18T07:42:30.966Z"
   },
   {
    "duration": 13492,
    "start_time": "2025-01-18T08:08:54.505Z"
   },
   {
    "duration": 5,
    "start_time": "2025-01-18T08:09:07.999Z"
   },
   {
    "duration": 6,
    "start_time": "2025-01-18T08:09:08.006Z"
   },
   {
    "duration": 6,
    "start_time": "2025-01-18T08:14:19.069Z"
   }
  ],
  "kernelspec": {
   "display_name": "Python 3 (ipykernel)",
   "language": "python",
   "name": "python3"
  },
  "language_info": {
   "codemirror_mode": {
    "name": "ipython",
    "version": 3
   },
   "file_extension": ".py",
   "mimetype": "text/x-python",
   "name": "python",
   "nbconvert_exporter": "python",
   "pygments_lexer": "ipython3",
   "version": "3.9.19"
  },
  "toc": {
   "base_numbering": 1,
   "nav_menu": {},
   "number_sections": true,
   "sideBar": true,
   "skip_h1_title": true,
   "title_cell": "Table of Contents",
   "title_sidebar": "Contents",
   "toc_cell": false,
   "toc_position": {},
   "toc_section_display": true,
   "toc_window_display": false
  }
 },
 "nbformat": 4,
 "nbformat_minor": 2
}
