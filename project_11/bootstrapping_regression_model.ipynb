{
 "cells": [
  {
   "cell_type": "markdown",
   "metadata": {},
   "source": [
    "# Descripcion del proyecto\n",
    "Descripción del proyecto\n",
    "Trabajas en la compañía de extracción de petróleo OilyGiant. Tu tarea es encontrar los mejores lugares donde abrir 200 pozos nuevos de petróleo.\n",
    "\n",
    "Para completar esta tarea, tendrás que realizar los siguientes pasos:\n",
    "\n",
    "Leer los archivos con los parámetros recogidos de pozos petrolíferos en la región seleccionada: calidad de crudo y volumen de reservas.\n",
    "Crear un modelo para predecir el volumen de reservas en pozos nuevos.\n",
    "Elegir los pozos petrolíferos que tienen los valores estimados más altos.\n",
    "Elegir la región con el beneficio total más alto para los pozos petrolíferos seleccionados.\n",
    "Tienes datos sobre muestras de crudo de tres regiones. Ya se conocen los parámetros de cada pozo petrolero de la región. Crea un modelo que ayude a elegir la región con el mayor margen de beneficio. Analiza los beneficios y riesgos potenciales utilizando la técnica bootstrapping."
   ]
  },
  {
   "cell_type": "markdown",
   "metadata": {},
   "source": [
    "# Tabla de contenido\n",
    "1. [Inicializacion](#Inicializacion)\n",
    "\n",
    "    1.1.[Informacion general](#Informacion-general)\n",
    "    \n",
    "    \n",
    "2. [Entrena y prueba el modelo para cada región en geo_data_0](#Entrena-y-prueba-el-modelo-para-cada-región-en-geo-data-0)\n",
    "\n",
    "   2.1 [Divide los datos en un conjunto de entrenamiento y un conjunto de validación en una proporción de 75:25](#Divide-los-datos)\n",
    "   \n",
    "   2.2 [Entrena el modelo y haz predicciones para el conjunto de validación.](#Entrena-el-modelo)\n",
    "   \n",
    "   2.3 [Guarda las predicciones y las respuestas correctas para el conjunto de validación.](#Guarda-las-predicciones)\n",
    "   \n",
    "   2.4[Muestra el volumen medio de reservas predicho y RMSE del modelo](#Muestra-el-volumen-medio)\n",
    "   \n",
    "   2.5[Entrena y prueba el modelo para cada región en geo_data_1](#Entrena-y-prueba-el-modelo-para-cada-región-en-geo-data-1)\n",
    "   \n",
    "   2.6[Divide los datos en un conjunto de entrenamiento y un conjunto de validación en una proporción de 75:25](#Divide-los-datos)\n",
    "   \n",
    "   2.7[Entrena el modelo y haz predicciones para el conjunto de validación.](#Entrena-el-modelo)\n",
    "   \n",
    "   2.8[Guarda las predicciones y las respuestas correctas para el conjunto de validación.](#Guarda-las-predicciones)\n",
    "   \n",
    "   2.9[Muestra el volumen medio de reservas predicho y RMSE del modelo](#Muestra-el-volumen-medio)\n",
    "   \n",
    "   2.10[Entrena y prueba el modelo para cada región en geo_data_2](#Entrena-y-prueba-el-modelo-para-cada-región-en-geo-data-2)\n",
    "   \n",
    "   2.11[Divide los datos en un conjunto de entrenamiento y un conjunto de validación en una proporción de 75:25](#Divide-los-datos)\n",
    "   \n",
    "   2.12[Entrena el modelo y haz predicciones para el conjunto de validación.](#Entrena-el-modelo)\n",
    "   \n",
    "   2.13[Guarda las predicciones y las respuestas correctas para el conjunto de validación.](#Guarda-las-predicciones)\n",
    "   \n",
    "   2.14[Muestra el volumen medio de reservas predicho y RMSE del modelo](#Muestra-el-volumen-medio)\n",
    "   \n",
    "3. [Prepárate para el cálculo de ganancias](#Preparate-para-el-calculo-de-ganacias)\n",
    "\n",
    "    3.1[Almacena todos los valores necesarios para los cálculos en variables separadas](#Almacena-todos-los-valores)\n",
    "    \n",
    "    3.2[Dada la inversión de 100 millones por 200 pozos petrolíferos, de media un pozo petrolífero debe producir al menos un valor de 500,000 dólares en unidades para evitar pérdidas (esto es equivalente a 111.1 unidades). Compara esta cantidad con la cantidad media de reservas en cada región.](#Comparar-esta-cantidad-con-la-cantidad-media-de-reservas-en-cada-region)\n",
    "     \n",
    "    3.3[Presenta conclusiones sobre cómo preparar el paso para calcular el beneficio.](#Presenta-conclusiones)\n",
    "    \n",
    "    \n",
    "4. [Escribe una función para calcular la ganancia de un conjunto de pozos de petróleo seleccionados y modela las predicciones](#Esribe-una-funcion)\n",
    "\n",
    "   4.1.[Elige los 200 pozos con los valores de predicción más altos de cada una de las 3 regiones (es decir, archivos 'csv').](#Elige-los-200-pozos-con-los-valores-de-prediccion-mas-altos)\n",
    "   \n",
    "   4.2[Resume el volumen objetivo de reservas según dichas predicciones. Almacena las predicciones para los 200 pozos para cada una de las 3 regiones.](#Resume-el-volumen-objetivo-de-reservas-predicho)\n",
    "   \n",
    "   4.3[Calcula la ganancia potencial de los 200 pozos principales por región. Presenta tus conclusiones: propón una región para el desarrollo de pozos petrolíferos y justifica tu elección.](#Calcula-la-ganancia-potencial)\n",
    "   \n",
    "   \n",
    "5. [Calcula riesgos y ganancias para cada región](#Calcula-riesgos-y-ganancias-para-cada-region)\n",
    "\n",
    "    \n",
    "   5.1.[Utilizando las predicciones que almacenaste en el paso 4.2, emplea la técnica del bootstrapping con 1000 muestras para hallar la distribución de los beneficios.](#Utilizando-las-preicciones-que-almacenaste-en-el-paso-4.2)\n",
    "   \n",
    "    \n",
    "    \n",
    "   5.2.[Encuentra el beneficio promedio, el intervalo de confianza del 95% y el riesgo de pérdidas. La pérdida es una ganancia negativa, calcúlala como una probabilidad y luego exprésala como un porcentaje.](#Encuentra-el-beneficio-promedio-elintervalo-de-confianza-del-95-y-el-riesgo-de-perdidas)\n",
    "   \n",
    "   \n",
    "   5.3.[Presenta tus conclusiones: propón una región para el desarrollo de pozos petrolíferos y justifica tu elección. ¿Coincide tu elección con la elección anterior en el punto 4.3?](#Presenta-tus-conclusiones)\n",
    "     \n",
    "6. [Conclusión general](#Conclusión-general)\n",
    "    "
   ]
  },
  {
   "cell_type": "markdown",
   "metadata": {},
   "source": [
    "## Inicializacion\n",
    "Abre el archivo de datos y estudia la información general\n"
   ]
  },
  {
   "cell_type": "code",
   "execution_count": 1,
   "metadata": {},
   "outputs": [],
   "source": [
    "# Cargar todas las librerías\n",
    "import pandas as pd \n",
    "import numpy as np\n",
    "from sklearn.model_selection import cross_val_score\n",
    "from sklearn.preprocessing import StandardScaler\n",
    "import seaborn as sns\n",
    "import matplotlib.pyplot as plt\n",
    "from sklearn.model_selection import train_test_split\n",
    "from sklearn.utils import shuffle\n",
    "from sklearn.metrics import f1_score, r2_score, mean_squared_error\n",
    "from sklearn.ensemble import RandomForestClassifier\n",
    "from sklearn.tree import DecisionTreeClassifier\n",
    "from sklearn.linear_model import LogisticRegression, LinearRegression\n",
    "\n"
   ]
  },
  {
   "cell_type": "code",
   "execution_count": 2,
   "metadata": {},
   "outputs": [],
   "source": [
    "geo_data_0 = pd.read_csv('/datasets/geo_data_0.csv',sep=',', header=0)\n",
    "geo_data_1 = pd.read_csv('/datasets/geo_data_1.csv',sep=',', header=0)\n",
    "geo_data_2 = pd.read_csv('/datasets/geo_data_2.csv',sep=',', header=0)"
   ]
  },
  {
   "cell_type": "markdown",
   "metadata": {},
   "source": [
    "### Informacion general\n",
    "sobre los DataFrames geo_data_0, geo_data_1, geo_data_2 "
   ]
  },
  {
   "cell_type": "code",
   "execution_count": 3,
   "metadata": {},
   "outputs": [
    {
     "name": "stdout",
     "output_type": "stream",
     "text": [
      "Primera filas:\n",
      "      id        f0        f1        f2     product\n",
      "0  txEyH  0.705745 -0.497823  1.221170  105.280062\n",
      "1  2acmU  1.334711 -0.340164  4.365080   73.037750\n",
      "2  409Wp  1.022732  0.151990  1.419926   85.265647\n",
      "3  iJLyR -0.032172  0.139033  2.978566  168.620776\n",
      "4  Xdl7t  1.988431  0.155413  4.751769  154.036647\n",
      "\n",
      "Informacion:\n",
      "<class 'pandas.core.frame.DataFrame'>\n",
      "RangeIndex: 100000 entries, 0 to 99999\n",
      "Data columns (total 5 columns):\n",
      " #   Column   Non-Null Count   Dtype  \n",
      "---  ------   --------------   -----  \n",
      " 0   id       100000 non-null  object \n",
      " 1   f0       100000 non-null  float64\n",
      " 2   f1       100000 non-null  float64\n",
      " 3   f2       100000 non-null  float64\n",
      " 4   product  100000 non-null  float64\n",
      "dtypes: float64(4), object(1)\n",
      "memory usage: 3.8+ MB\n",
      "None\n",
      "\n",
      "El total de valores ausentes es:\n",
      "id         0\n",
      "f0         0\n",
      "f1         0\n",
      "f2         0\n",
      "product    0\n",
      "dtype: int64\n",
      "\n",
      "El total de valores duplicados es:\n",
      "0\n",
      "None\n"
     ]
    }
   ],
   "source": [
    "def first_lookup(datos):\n",
    "    print('Primera filas:')\n",
    "    print(datos.head())\n",
    "    print()\n",
    "    print('Informacion:')\n",
    "    print(datos.info())\n",
    "    print()\n",
    "    print('El total de valores ausentes es:')\n",
    "    print(datos.isna().sum())\n",
    "    print()\n",
    "    print('El total de valores duplicados es:')\n",
    "    print(datos.duplicated().sum())\n",
    "print(first_lookup(geo_data_0))"
   ]
  },
  {
   "cell_type": "code",
   "execution_count": 4,
   "metadata": {},
   "outputs": [
    {
     "name": "stdout",
     "output_type": "stream",
     "text": [
      "Primera filas:\n",
      "      id         f0         f1        f2     product\n",
      "0  kBEdx -15.001348  -8.276000 -0.005876    3.179103\n",
      "1  62mP7  14.272088  -3.475083  0.999183   26.953261\n",
      "2  vyE1P   6.263187  -5.948386  5.001160  134.766305\n",
      "3  KcrkZ -13.081196 -11.506057  4.999415  137.945408\n",
      "4  AHL4O  12.702195  -8.147433  5.004363  134.766305\n",
      "\n",
      "Informacion:\n",
      "<class 'pandas.core.frame.DataFrame'>\n",
      "RangeIndex: 100000 entries, 0 to 99999\n",
      "Data columns (total 5 columns):\n",
      " #   Column   Non-Null Count   Dtype  \n",
      "---  ------   --------------   -----  \n",
      " 0   id       100000 non-null  object \n",
      " 1   f0       100000 non-null  float64\n",
      " 2   f1       100000 non-null  float64\n",
      " 3   f2       100000 non-null  float64\n",
      " 4   product  100000 non-null  float64\n",
      "dtypes: float64(4), object(1)\n",
      "memory usage: 3.8+ MB\n",
      "None\n",
      "\n",
      "El total de valores ausentes es:\n",
      "id         0\n",
      "f0         0\n",
      "f1         0\n",
      "f2         0\n",
      "product    0\n",
      "dtype: int64\n",
      "\n",
      "El total de valores duplicados es:\n",
      "0\n",
      "None\n"
     ]
    }
   ],
   "source": [
    "def first_lookup(datos):\n",
    "    print('Primera filas:')\n",
    "    print(datos.head())\n",
    "    print()\n",
    "    print('Informacion:')\n",
    "    print(datos.info())\n",
    "    print()\n",
    "    print('El total de valores ausentes es:')\n",
    "    print(datos.isna().sum())\n",
    "    print()\n",
    "    print('El total de valores duplicados es:')\n",
    "    print(datos.duplicated().sum())\n",
    "print(first_lookup(geo_data_1))"
   ]
  },
  {
   "cell_type": "code",
   "execution_count": 5,
   "metadata": {},
   "outputs": [
    {
     "name": "stdout",
     "output_type": "stream",
     "text": [
      "Primera filas:\n",
      "      id        f0        f1        f2     product\n",
      "0  fwXo0 -1.146987  0.963328 -0.828965   27.758673\n",
      "1  WJtFt  0.262778  0.269839 -2.530187   56.069697\n",
      "2  ovLUW  0.194587  0.289035 -5.586433   62.871910\n",
      "3  q6cA6  2.236060 -0.553760  0.930038  114.572842\n",
      "4  WPMUX -0.515993  1.716266  5.899011  149.600746\n",
      "\n",
      "Informacion:\n",
      "<class 'pandas.core.frame.DataFrame'>\n",
      "RangeIndex: 100000 entries, 0 to 99999\n",
      "Data columns (total 5 columns):\n",
      " #   Column   Non-Null Count   Dtype  \n",
      "---  ------   --------------   -----  \n",
      " 0   id       100000 non-null  object \n",
      " 1   f0       100000 non-null  float64\n",
      " 2   f1       100000 non-null  float64\n",
      " 3   f2       100000 non-null  float64\n",
      " 4   product  100000 non-null  float64\n",
      "dtypes: float64(4), object(1)\n",
      "memory usage: 3.8+ MB\n",
      "None\n",
      "\n",
      "El total de valores ausentes es:\n",
      "id         0\n",
      "f0         0\n",
      "f1         0\n",
      "f2         0\n",
      "product    0\n",
      "dtype: int64\n",
      "\n",
      "El total de valores duplicados es:\n",
      "0\n",
      "None\n"
     ]
    }
   ],
   "source": [
    "def first_lookup(datos):\n",
    "    print('Primera filas:')\n",
    "    print(datos.head())\n",
    "    print()\n",
    "    print('Informacion:')\n",
    "    print(datos.info())\n",
    "    print()\n",
    "    print('El total de valores ausentes es:')\n",
    "    print(datos.isna().sum())\n",
    "    print()\n",
    "    print('El total de valores duplicados es:')\n",
    "    print(datos.duplicated().sum())\n",
    "print(first_lookup(geo_data_2))"
   ]
  },
  {
   "cell_type": "markdown",
   "metadata": {},
   "source": [
    "Se analizaron los los 3 DataFrame de las respectivas regiones donde se analizaron su infomacion, las primeras 5 filas para darnos un panorama de que tipo de datos nos enfrentaremos, los valores ausentes y los duplicados y no se encontraron."
   ]
  },
  {
   "cell_type": "code",
   "execution_count": 6,
   "metadata": {},
   "outputs": [],
   "source": [
    "# Eliminar la columna 'id' del DataFrame\n",
    "geo_data_0 = geo_data_0.drop(columns=['id'])\n",
    "geo_data_1 = geo_data_1.drop(columns=['id'])\n",
    "geo_data_2 = geo_data_2.drop(columns=['id'])"
   ]
  },
  {
   "cell_type": "code",
   "execution_count": 7,
   "metadata": {},
   "outputs": [
    {
     "name": "stdout",
     "output_type": "stream",
     "text": [
      "<class 'pandas.core.frame.DataFrame'>\n",
      "RangeIndex: 100000 entries, 0 to 99999\n",
      "Data columns (total 4 columns):\n",
      " #   Column   Non-Null Count   Dtype  \n",
      "---  ------   --------------   -----  \n",
      " 0   f0       100000 non-null  float64\n",
      " 1   f1       100000 non-null  float64\n",
      " 2   f2       100000 non-null  float64\n",
      " 3   product  100000 non-null  float64\n",
      "dtypes: float64(4)\n",
      "memory usage: 3.1 MB\n",
      "None\n",
      "<class 'pandas.core.frame.DataFrame'>\n",
      "RangeIndex: 100000 entries, 0 to 99999\n",
      "Data columns (total 4 columns):\n",
      " #   Column   Non-Null Count   Dtype  \n",
      "---  ------   --------------   -----  \n",
      " 0   f0       100000 non-null  float64\n",
      " 1   f1       100000 non-null  float64\n",
      " 2   f2       100000 non-null  float64\n",
      " 3   product  100000 non-null  float64\n",
      "dtypes: float64(4)\n",
      "memory usage: 3.1 MB\n",
      "None\n",
      "<class 'pandas.core.frame.DataFrame'>\n",
      "RangeIndex: 100000 entries, 0 to 99999\n",
      "Data columns (total 4 columns):\n",
      " #   Column   Non-Null Count   Dtype  \n",
      "---  ------   --------------   -----  \n",
      " 0   f0       100000 non-null  float64\n",
      " 1   f1       100000 non-null  float64\n",
      " 2   f2       100000 non-null  float64\n",
      " 3   product  100000 non-null  float64\n",
      "dtypes: float64(4)\n",
      "memory usage: 3.1 MB\n",
      "None\n"
     ]
    }
   ],
   "source": [
    "print(geo_data_0.info())\n",
    "print(geo_data_1.info())\n",
    "print(geo_data_2.info())"
   ]
  },
  {
   "cell_type": "markdown",
   "metadata": {},
   "source": [
    "## Entrena y prueba el modelo para cada región en geo_data_0.csv:"
   ]
  },
  {
   "cell_type": "code",
   "execution_count": 8,
   "metadata": {},
   "outputs": [
    {
     "name": "stdout",
     "output_type": "stream",
     "text": [
      "<class 'pandas.core.series.Series'>\n"
     ]
    }
   ],
   "source": [
    "#Preparar las caracteristicas y el objetivo\n",
    "features_0 = geo_data_0.drop(['product'], axis=1)\n",
    "target_0 = geo_data_0['product']\n",
    "print(type(target_0))"
   ]
  },
  {
   "cell_type": "markdown",
   "metadata": {},
   "source": [
    "### Divide los datos en un conjunto de entrenamiento y un conjunto de validación en una proporción de 75:25"
   ]
  },
  {
   "cell_type": "code",
   "execution_count": 9,
   "metadata": {},
   "outputs": [],
   "source": [
    "# Dividir los datos en conjuntos de entrenamiento y validacion\n",
    "features_train_0, features_valid_0, target_train_0, target_valid_0 = train_test_split(features_0, target_0, test_size=0.25, random_state=12345)"
   ]
  },
  {
   "cell_type": "code",
   "execution_count": 10,
   "metadata": {},
   "outputs": [
    {
     "name": "stdout",
     "output_type": "stream",
     "text": [
      "(75000, 3)\n",
      "(75000,)\n",
      "(25000, 3)\n",
      "(25000,)\n"
     ]
    }
   ],
   "source": [
    "print(features_train_0.shape)\n",
    "print(target_train_0.shape)\n",
    "print(features_valid_0.shape)\n",
    "print(target_valid_0.shape)"
   ]
  },
  {
   "cell_type": "code",
   "execution_count": 11,
   "metadata": {},
   "outputs": [],
   "source": [
    "# Definir las columnas numericas\n",
    "numeric_0 = ['f0', 'f1', 'f2'] "
   ]
  },
  {
   "cell_type": "code",
   "execution_count": 12,
   "metadata": {},
   "outputs": [],
   "source": [
    "# Guardar los nombres de las columnas antes de la estandarización\n",
    "column_names = numeric_0"
   ]
  },
  {
   "cell_type": "code",
   "execution_count": 13,
   "metadata": {},
   "outputs": [
    {
     "name": "stdout",
     "output_type": "stream",
     "text": [
      "[[-0.5448279   1.39026372 -0.09495893]\n",
      " [ 1.4559119  -0.48042154  1.20956708]\n",
      " [ 0.26045969  0.82506858 -0.2048645 ]\n",
      " ...\n",
      " [ 0.41894874 -1.29678805 -0.19640667]\n",
      " [ 0.40007671 -1.46687406 -0.44531736]\n",
      " [ 1.746246    0.02741521  2.76684795]]\n",
      "[[ 0.51791717 -0.61009708 -0.1262255 ]\n",
      " [ 0.56839077 -0.08606292 -0.81491398]\n",
      " [ 0.80568773 -1.61328908 -1.34134194]\n",
      " ...\n",
      " [-0.13884985  1.59507055 -0.90348498]\n",
      " [ 0.65826677 -1.42822432  0.62196665]\n",
      " [ 1.40955604 -0.65040653  0.76966953]]\n"
     ]
    }
   ],
   "source": [
    "## Estandarizar las caracteristicas numericas\n",
    "scaler = StandardScaler()\n",
    "scaler = scaler.fit(features_train_0[numeric_0])\n",
    "features_train_0 = scaler.transform(features_train_0[numeric_0]) \n",
    "features_valid_0 = scaler.transform(features_valid_0[numeric_0])\n",
    "print(features_train_0)\n",
    "print(features_valid_0)\n"
   ]
  },
  {
   "cell_type": "code",
   "execution_count": 14,
   "metadata": {},
   "outputs": [
    {
     "data": {
      "image/png": "[encoded data removed]",
      "text/plain": [
       "<Figure size 1000x600 with 1 Axes>"
      ]
     },
     "metadata": {},
     "output_type": "display_data"
    }
   ],
   "source": [
    "# Visualizar la distribucion del objetivo\n",
    "plt.figure(figsize=(10, 6))\n",
    "sns.histplot(target_0, bins=30, kde=True)\n",
    "plt.title('Distribution of Reserve Volume')\n",
    "plt.xlabel('Reserve Volume (thousands of barrels)')\n",
    "plt.ylabel('Frequency')\n",
    "plt.show()"
   ]
  },
  {
   "cell_type": "markdown",
   "metadata": {},
   "source": [
    "a) La distribucion multimodal al presentar varios tipos (modas) nos indican que los datos pueden estar agrupados en diferentes rangos indicando subpoblaciones dentro de los datos\n",
    "b) Simetria la distribucion parece tener un equilibrio balanceado se puede ver en los valores centralos y diferencias entre los extremos\n",
    "c) Los valores mas comunes del volumne de reserva estan concentrados alrededor de los rangos de 50, 100, 125 ml de barriles indicando volumenes tipicos en el conjunto de datos"
   ]
  },
  {
   "cell_type": "code",
   "execution_count": 15,
   "metadata": {},
   "outputs": [
    {
     "data": {
      "image/png": "[encoded data removed]",
      "text/plain": [
       "<Figure size 1200x600 with 1 Axes>"
      ]
     },
     "metadata": {},
     "output_type": "display_data"
    }
   ],
   "source": [
    "# Configurar el estilo de Seaborn\n",
    "sns.set(style=\"whitegrid\")\n",
    "\n",
    "# Crear una figura\n",
    "plt.figure(figsize=(12, 6))\n",
    "# Histograma para el conjunto de entrenamiento\n",
    "sns.histplot(target_train_0, bins = 30, kde = True, color = 'blue', label = 'Train', stat= 'density', alpha=0.5)\n",
    "# Histograma para el conjunto de validacion\n",
    "sns.histplot(target_valid_0, bins=30, kde=True, color='pink', label='Valid', stat='density', alpha=0.5)\n",
    "plt.title('Distribution of Reserve Volume (Training vs Validation)')\n",
    "plt.xlabel('Reserve Volume (thousands of barrels))')\n",
    "plt.ylabel('Density')\n",
    "plt.legend()\n",
    "# Mostrar el grafico\n",
    "plt.show()"
   ]
  },
  {
   "cell_type": "markdown",
   "metadata": {},
   "source": [
    "a)Las distribuciones entre el entrenamiento y la validacion son similares en forma general  y densidad esto es deseable, lo que no indica que no hay sobreajuste ni subajuste aprarentemente.\n",
    "b) La multimodalidad ambas distribuciones muestran modas  alrededor de valores de 50, 100, 125 mil de barriles esto cons afrima la consistencia entre train y valid tiene la composicion equilibrada\n",
    "c) Las areas bajo la curva nos muestra equilibrio entre los dos conjunto de datos y no se presenta un sesgo significativo entre los datos"
   ]
  },
  {
   "cell_type": "code",
   "execution_count": 16,
   "metadata": {},
   "outputs": [
    {
     "data": {
      "image/png": "[encoded data removed]",
      "text/plain": [
       "<Figure size 1000x600 with 1 Axes>"
      ]
     },
     "metadata": {},
     "output_type": "display_data"
    }
   ],
   "source": [
    "# Boxplot para visualizar outliers\n",
    "plt.figure(figsize=(10, 6))\n",
    "sns.boxplot(x=target_0)\n",
    "plt.title('Boxplot of Reserve Volume')\n",
    "plt.xlabel('Reserve Volume (thousands of barrels)')\n",
    "plt.show()"
   ]
  },
  {
   "cell_type": "markdown",
   "metadata": {},
   "source": [
    "a)El rango Q1 y Q3 es amplio mostrando una variacionen los valores centrales aproximadamente el 50% de los datos.\n",
    "b) La mediana esta casi en el centro intercuantilico nos indica simetria en los datos\n",
    "c)No hay outliers estos indica una distrucion uniforme en el rango establecido de los datos"
   ]
  },
  {
   "cell_type": "code",
   "execution_count": 17,
   "metadata": {},
   "outputs": [
    {
     "name": "stdout",
     "output_type": "stream",
     "text": [
      "Estadisticas descriptivas del volumen de reservas:\n",
      "count    100000.000000\n",
      "mean         92.500000\n",
      "std          44.288691\n",
      "min           0.000000\n",
      "25%          56.497507\n",
      "50%          91.849972\n",
      "75%         128.564089\n",
      "max         185.364347\n",
      "Name: product, dtype: float64\n"
     ]
    }
   ],
   "source": [
    "# Calcular estadisticas descriptivas para la variable objetivo\n",
    "stats = target_0.describe()\n",
    "print('Estadisticas descriptivas del volumen de reservas:')\n",
    "print(stats)"
   ]
  },
  {
   "cell_type": "markdown",
   "metadata": {},
   "source": [
    "### Entrena el modelo y haz predicciones para el conjunto de validación."
   ]
  },
  {
   "cell_type": "code",
   "execution_count": 18,
   "metadata": {},
   "outputs": [
    {
     "data": {
      "text/plain": [
       "LinearRegression()"
      ]
     },
     "execution_count": 18,
     "metadata": {},
     "output_type": "execute_result"
    }
   ],
   "source": [
    "# Entrenar el modelo de regresion lineal\n",
    "model_0 = LinearRegression()\n",
    "model_0.fit(features_train_0, target_train_0)"
   ]
  },
  {
   "cell_type": "code",
   "execution_count": 19,
   "metadata": {},
   "outputs": [
    {
     "name": "stdout",
     "output_type": "stream",
     "text": [
      "MSE por fold_0: [1421.15788282 1427.75616975 1417.65298495 1432.67941499 1419.44451473]\n",
      "RMSE por fold_0: [37.69824774 37.7856609  37.65173283 37.85075184 37.67551612]\n",
      "MSE promedio_0: 1423.7381934496414\n",
      "RMSE promedio_0: 37.73238188617927\n"
     ]
    }
   ],
   "source": [
    "# Aplicar validación cruzada\n",
    "cv_scores_0 = cross_val_score(model_0, features_train_0, target_train_0, cv=5, scoring='neg_mean_squared_error')\n",
    "# Convertir los scores a valores positivos (ya que cross_val_score devuelve negativos para MSE)\n",
    "mse_cv_0 = -cv_scores_0\n",
    "rmse_cv_0 = np.sqrt(mse_cv_0)\n",
    "\n",
    "print('MSE por fold_0:', mse_cv_0)\n",
    "print('RMSE por fold_0:', rmse_cv_0)\n",
    "print('MSE promedio_0:', mse_cv_0.mean())\n",
    "print('RMSE promedio_0:', rmse_cv_0.mean())"
   ]
  },
  {
   "cell_type": "markdown",
   "metadata": {},
   "source": [
    "a) El valor de RMSE para el modelo de regresion lineal al aplicar validacion cruzada nos indica un rendimiento consistente en las direferentes particiones de los datos \n",
    "b) RMSE promedio el modelo es robusto y no existe una gran variablidad entre el rendimiento de las diferentes iteraciones en la validacion cruzada.\n",
    "En comparacion presentan una variablidad baja"
   ]
  },
  {
   "cell_type": "markdown",
   "metadata": {},
   "source": [
    "### Guarda las predicciones y las respuestas correctas para el conjunto de validación."
   ]
  },
  {
   "cell_type": "code",
   "execution_count": 20,
   "metadata": {},
   "outputs": [],
   "source": [
    "# Hacer predicciones en el conjunto de  validacion\n",
    "predictions_valid_0 = model_0.predict(features_valid_0)"
   ]
  },
  {
   "cell_type": "code",
   "execution_count": 21,
   "metadata": {},
   "outputs": [
    {
     "name": "stdout",
     "output_type": "stream",
     "text": [
      "R2-Valid-0= 0.27994321524487786\n"
     ]
    }
   ],
   "source": [
    "# Calculo de R2 del conjunto de validacion\n",
    "r2_0 = r2_score(target_valid_0, predictions_valid_0)\n",
    "print('R2-Valid-0=', r2_0 )"
   ]
  },
  {
   "cell_type": "markdown",
   "metadata": {},
   "source": [
    "Indica variabilidad en el volumen de reservas el modelo no es optimo no se esta capturando bien las relaciones entre las variables"
   ]
  },
  {
   "cell_type": "markdown",
   "metadata": {},
   "source": [
    "###  Muestra el volumen medio de reservas predicho y RMSE del modelo."
   ]
  },
  {
   "cell_type": "code",
   "execution_count": 22,
   "metadata": {},
   "outputs": [
    {
     "name": "stdout",
     "output_type": "stream",
     "text": [
      "MSE-valid-0 = 1412.2129364399243\n",
      "RMSE-valid-0 = 37.5794217150813\n"
     ]
    }
   ],
   "source": [
    "# Calcular MSE y RMSE para el modelo de regresión lineal\n",
    "mse_valid_0 = mean_squared_error(target_valid_0, predictions_valid_0)\n",
    "print('MSE-valid-0 =', mse_valid_0)\n",
    "print('RMSE-valid-0 =', mse_valid_0 ** 0.5)"
   ]
  },
  {
   "cell_type": "markdown",
   "metadata": {},
   "source": [
    "El valor de MRSE nos indica que tienen un error moderado de predicciones y en comparacion con la validacion cruzada tiene un rendimiento consistente en diferentes conjuntos de datos"
   ]
  },
  {
   "cell_type": "code",
   "execution_count": 23,
   "metadata": {},
   "outputs": [
    {
     "name": "stdout",
     "output_type": "stream",
     "text": [
      "Volumen medio de reservas predicho (valid_0) = 92.59256778438035\n"
     ]
    }
   ],
   "source": [
    "# Calcular y mostrar el volumen medio de reservas predicho en ambos conjuntos\n",
    "mean_predicted_valid_0 = np.mean(predictions_valid_0)\n",
    "print('Volumen medio de reservas predicho (valid_0) =', mean_predicted_valid_0)"
   ]
  },
  {
   "cell_type": "markdown",
   "metadata": {},
   "source": [
    "El valor es consistente con el valor que se proporciona en las estadistias despecritivas en la media, el modelo es capaz de predecir la media con precision, pero presenta variabilidad en predicciones individuales"
   ]
  },
  {
   "cell_type": "markdown",
   "metadata": {},
   "source": [
    "###  Entrena y prueba el modelo para cada región en geo_data_01csv"
   ]
  },
  {
   "cell_type": "code",
   "execution_count": 24,
   "metadata": {},
   "outputs": [
    {
     "name": "stdout",
     "output_type": "stream",
     "text": [
      "<class 'pandas.core.series.Series'>\n"
     ]
    }
   ],
   "source": [
    "#Preparar las caracteristicas y el objetivo\n",
    "features_1 = geo_data_1.drop(['product'], axis=1)\n",
    "target_1 = geo_data_1['product']\n",
    "print(type(target_1))"
   ]
  },
  {
   "cell_type": "markdown",
   "metadata": {},
   "source": [
    "### Divide los datos en un conjunto de entrenamiento y un conjunto de validación en una proporción de 75:25"
   ]
  },
  {
   "cell_type": "code",
   "execution_count": 25,
   "metadata": {},
   "outputs": [],
   "source": [
    "# Dividir los datos en conjuntos de entrenamiento y validacion\n",
    "features_train_1, features_valid_1, target_train_1, target_valid_1 = train_test_split(features_1, target_1, test_size=0.25, random_state=12345)"
   ]
  },
  {
   "cell_type": "code",
   "execution_count": 26,
   "metadata": {},
   "outputs": [
    {
     "name": "stdout",
     "output_type": "stream",
     "text": [
      "(75000, 3)\n",
      "(75000,)\n",
      "(25000, 3)\n",
      "(25000,)\n"
     ]
    }
   ],
   "source": [
    "print(features_train_1.shape)\n",
    "print(target_train_1.shape)\n",
    "print(features_valid_1.shape)\n",
    "print(target_valid_1.shape)"
   ]
  },
  {
   "cell_type": "code",
   "execution_count": 27,
   "metadata": {},
   "outputs": [],
   "source": [
    "# Definir las columnas numericas\n",
    "numeric_1 = ['f0', 'f1', 'f2'] "
   ]
  },
  {
   "cell_type": "code",
   "execution_count": 28,
   "metadata": {},
   "outputs": [],
   "source": [
    "# Guardar los nombres de las columnas antes de la estandarización\n",
    "column_names = numeric_1"
   ]
  },
  {
   "cell_type": "code",
   "execution_count": 29,
   "metadata": {},
   "outputs": [
    {
     "name": "stdout",
     "output_type": "stream",
     "text": [
      "[[-0.85085526  0.62442838  0.29694289]\n",
      " [ 1.97193524  1.83227487  0.29433274]\n",
      " [ 1.07930536  0.17012731 -0.29641817]\n",
      " ...\n",
      " [ 1.04707022 -0.64999232  1.47336769]\n",
      " [-0.11478048 -1.19069924  0.29915578]\n",
      " [-0.64614644  0.09907453  0.29561113]]\n",
      "[[-0.16861596  0.57137209  0.29747121]\n",
      " [ 0.87838443 -1.77290335 -0.29390091]\n",
      " [-0.85297627 -0.00498601 -0.87650171]\n",
      " ...\n",
      " [-1.14617169 -0.11924701  1.47141699]\n",
      " [-0.83946623  0.78552051  0.302943  ]\n",
      " [ 1.0487796  -0.27590745 -0.29570604]]\n"
     ]
    }
   ],
   "source": [
    "## Estandarizar las caracteristicas numericas\n",
    "scaler = StandardScaler()\n",
    "scaler = scaler.fit(features_train_1[numeric_1])\n",
    "features_train_1 = scaler.transform(features_train_1[numeric_1]) \n",
    "features_valid_1 = scaler.transform(features_valid_1[numeric_1])\n",
    "print(features_train_1)\n",
    "print(features_valid_1)"
   ]
  },
  {
   "cell_type": "code",
   "execution_count": 30,
   "metadata": {},
   "outputs": [
    {
     "data": {
      "image/png": "[encoded data removed]",
      "text/plain": [
       "<Figure size 1000x600 with 1 Axes>"
      ]
     },
     "metadata": {},
     "output_type": "display_data"
    }
   ],
   "source": [
    "# Visualizar la distribucion del objetivo\n",
    "plt.figure(figsize=(10, 6))\n",
    "sns.histplot(target_1, bins=30, kde=True)\n",
    "plt.title('Distribution of Reserve Volume')\n",
    "plt.xlabel('Reserve Volume (thousands of barrels)')\n",
    "plt.ylabel('Frequency')\n",
    "plt.show()"
   ]
  },
  {
   "cell_type": "markdown",
   "metadata": {},
   "source": [
    "a) La distribucion multimodal muestra una cantidad considerable bien definidad de datos \n",
    "b) Frecuencia desigual existe una variacion significativa en la frecuencia entre los picos, no quiere decir que hay volumnes de reserva mucho mas frecuentes que otros\n",
    "c) La distribucuion de los picos esta uniformemente espaciada nos indica una cierta periodicidad en como se distribuyen los datos, esta periodicidad puede indicsr un sesgo en el porcesamiento de los datos"
   ]
  },
  {
   "cell_type": "code",
   "execution_count": 31,
   "metadata": {},
   "outputs": [
    {
     "data": {
      "image/png": "[encoded data removed]",
      "text/plain": [
       "<Figure size 1200x600 with 1 Axes>"
      ]
     },
     "metadata": {},
     "output_type": "display_data"
    }
   ],
   "source": [
    "# Configurar el estilo de Seaborn\n",
    "sns.set(style=\"whitegrid\")\n",
    "\n",
    "# Crear una figura\n",
    "plt.figure(figsize=(12, 6))\n",
    "# Histograma para el conjunto de entrenamiento\n",
    "sns.histplot(target_train_1, bins = 30, kde = True, color = 'green', label = 'Train', stat= 'density', alpha=0.5)\n",
    "# Histograma para el conjunto de validacion\n",
    "sns.histplot(target_valid_1, bins=30, kde=True, color='orange', label='Valid', stat='density', alpha=0.5)\n",
    "plt.title('Distribution of Reserve Volume (Training vs Validation)')\n",
    "plt.xlabel('Reserve Volume (thousands of barrels)')\n",
    "plt.ylabel('Density')\n",
    "plt.legend()\n",
    "\n",
    "# Mostrar el grafico\n",
    "plt.show()"
   ]
  },
  {
   "cell_type": "markdown",
   "metadata": {},
   "source": [
    "a) Las curvas de densidad para el conjunto de entrenamiento y validacion son casi semejantes esto es un buen indicativo ya que el modelo puede generalizar bien\n",
    "b) Distribucion multimodal tanto el conjunto de entrenamiento y validacion presentan varios picos distribuidos de manera periodica\n",
    "c) Se observan pequeñas diferencias en la densidad de algunos intervalos"
   ]
  },
  {
   "cell_type": "code",
   "execution_count": 32,
   "metadata": {},
   "outputs": [
    {
     "data": {
      "image/png": "[encoded data removed]",
      "text/plain": [
       "<Figure size 1000x600 with 1 Axes>"
      ]
     },
     "metadata": {},
     "output_type": "display_data"
    }
   ],
   "source": [
    "# Boxplot para visualizar outliers\n",
    "plt.figure(figsize=(10, 6))\n",
    "sns.boxplot(x=target_1)\n",
    "plt.title('Boxplot of Reserve Volume')\n",
    "plt.xlabel('Reserve Volume (thousands of barrels)')\n",
    "plt.show()"
   ]
  },
  {
   "cell_type": "markdown",
   "metadata": {},
   "source": [
    "El diagrama de bloxplot nos indica que no hay outliers esto indica una distrucion uniforme en el rango establecido de los datos valores, la mediana esta mas orientada hacia Q1 nos indica que no existe tanta simetria en los datos\n"
   ]
  },
  {
   "cell_type": "code",
   "execution_count": 33,
   "metadata": {},
   "outputs": [
    {
     "name": "stdout",
     "output_type": "stream",
     "text": [
      "Estadisticas descriptivas del volumen de reservas:\n",
      "count    100000.000000\n",
      "mean         68.825000\n",
      "std          45.944423\n",
      "min           0.000000\n",
      "25%          26.953261\n",
      "50%          57.085625\n",
      "75%         107.813044\n",
      "max         137.945408\n",
      "Name: product, dtype: float64\n"
     ]
    }
   ],
   "source": [
    "# Calcular estadisticas descriptivas para la variable objetivo\n",
    "stats = target_1.describe()\n",
    "print('Estadisticas descriptivas del volumen de reservas:')\n",
    "print(stats)"
   ]
  },
  {
   "cell_type": "markdown",
   "metadata": {},
   "source": [
    "### Entrena el modelo y haz predicciones para el conjunto de validación."
   ]
  },
  {
   "cell_type": "code",
   "execution_count": 34,
   "metadata": {},
   "outputs": [
    {
     "data": {
      "text/plain": [
       "LinearRegression()"
      ]
     },
     "execution_count": 34,
     "metadata": {},
     "output_type": "execute_result"
    }
   ],
   "source": [
    "# Entrenar el modelo de regresion lineal\n",
    "model_1 = LinearRegression()\n",
    "model_1.fit(features_train_1, target_train_1)"
   ]
  },
  {
   "cell_type": "code",
   "execution_count": 35,
   "metadata": {},
   "outputs": [
    {
     "name": "stdout",
     "output_type": "stream",
     "text": [
      "MSE por fold_1: [0.7696626  0.8032365  0.79997326 0.79191222 0.79184944]\n",
      "RMSE por fold_1: [0.87730417 0.89623462 0.89441224 0.8898945  0.88985922]\n",
      "MSE promedio_1: 0.791326803811734\n",
      "RMSE promedio_1: 0.8895409511809371\n"
     ]
    }
   ],
   "source": [
    "# Aplicar validacion cruzada\n",
    "cv_scores_1 = cross_val_score(model_1, features_train_1, target_train_1, cv=5, scoring='neg_mean_squared_error')\n",
    "# Convertir los scores a valores positivos (ya que cross_val_score devuelve negativos para MSE)\n",
    "mse_cv_1 = -cv_scores_1\n",
    "rmse_cv_1 = np.sqrt(mse_cv_1)\n",
    "\n",
    "print('MSE por fold_1:', mse_cv_1)\n",
    "print('RMSE por fold_1:', rmse_cv_1)\n",
    "print('MSE promedio_1:', mse_cv_1.mean())\n",
    "print('RMSE promedio_1:', rmse_cv_1.mean())"
   ]
  },
  {
   "cell_type": "markdown",
   "metadata": {},
   "source": [
    "a ) para el RMSE lo que sugiere una precision muy alta en las predicciones\n",
    "b) RMSE promedio el modelo al predecir los valores con un error de 0.88 inidica una buena precision, los resultados indican que el modelo de regresion lineal en la region 1 tiene un rendimiento optimo, con un error muy bajo y una consistencia alta en las predicciones. Esto sugiere que el modelo es adecuado para predecir el volumen de reservas en esta region con una alta precision."
   ]
  },
  {
   "cell_type": "markdown",
   "metadata": {},
   "source": [
    "### Guarda las predicciones y las respuestas correctas para el conjunto de validación."
   ]
  },
  {
   "cell_type": "code",
   "execution_count": 36,
   "metadata": {},
   "outputs": [],
   "source": [
    "# Hacer predicciones en el conjunto de   validacion\n",
    "predictions_valid_1 = model_1.predict(features_valid_1)"
   ]
  },
  {
   "cell_type": "code",
   "execution_count": 37,
   "metadata": {},
   "outputs": [
    {
     "name": "stdout",
     "output_type": "stream",
     "text": [
      "R2-Valid-1= 0.9996233978805127\n"
     ]
    }
   ],
   "source": [
    "# Calculo de R2 del conjunto de validacion\n",
    "r2_1 = r2_score(target_valid_1, predictions_valid_1)\n",
    "print('R2-Valid-1=', r2_1 )"
   ]
  },
  {
   "cell_type": "markdown",
   "metadata": {},
   "source": [
    " Un R2 tan alto inidica que el modelo tiene un muy buen  rendimiento, se puede esperar que las predicciones del modelo sean muy precisas"
   ]
  },
  {
   "cell_type": "markdown",
   "metadata": {},
   "source": [
    "### Muestra el volumen medio de reservas predicho y RMSE del modelo"
   ]
  },
  {
   "cell_type": "code",
   "execution_count": 38,
   "metadata": {},
   "outputs": [
    {
     "name": "stdout",
     "output_type": "stream",
     "text": [
      "MSE-valid-1 = 0.7976263360391157\n",
      "RMSE-valid-1 = 0.893099286775617\n"
     ]
    }
   ],
   "source": [
    "# Calcular MSE y RMSE para el modelo de regresión lineal con validacion cruzada\n",
    "mse_valid_1 = mean_squared_error(target_valid_1, predictions_valid_1)\n",
    "print('MSE-valid-1 =', mse_valid_1)\n",
    "print('RMSE-valid-1 =', mse_valid_1 ** 0.5)"
   ]
  },
  {
   "cell_type": "markdown",
   "metadata": {},
   "source": [
    "Para el conjunto de validacion indica que el modelo de regresion lineal para esta region tiene un muy buen rendimiento con un error muy  bajo en sus predicciones en conjunto con el valor de R2 el modelo es muy preciso e ideal para predecir el volumen de reservas de esta region"
   ]
  },
  {
   "cell_type": "code",
   "execution_count": 39,
   "metadata": {},
   "outputs": [
    {
     "name": "stdout",
     "output_type": "stream",
     "text": [
      "Volumen medio de reservas predicho (valid_1) = 68.728546895446\n"
     ]
    }
   ],
   "source": [
    "# Calcular y mostrar el volumen medio de reservas predicho en ambos conjuntos\n",
    "mean_predicted_valid_1 = np.mean(predictions_valid_1)\n",
    "print('Volumen medio de reservas predicho (valid_1) =', mean_predicted_valid_1)"
   ]
  },
  {
   "cell_type": "markdown",
   "metadata": {},
   "source": [
    "el volumen medio de reservas predicho en el conjunto de validacion tiene un rendimiento consistente el modelo captura bien la tendencia central de los datos indica que las predicciones son confiables para la region 1"
   ]
  },
  {
   "cell_type": "markdown",
   "metadata": {},
   "source": [
    "### Entrena y prueba el modelo para cada región en geo_data_02.csv"
   ]
  },
  {
   "cell_type": "code",
   "execution_count": 40,
   "metadata": {},
   "outputs": [
    {
     "name": "stdout",
     "output_type": "stream",
     "text": [
      "<class 'pandas.core.series.Series'>\n"
     ]
    }
   ],
   "source": [
    "#Preparar las caracteristicas y el objetivo\n",
    "features_2 = geo_data_2.drop(['product'], axis=1)\n",
    "target_2 = geo_data_2['product']\n",
    "print(type(target_2))"
   ]
  },
  {
   "cell_type": "markdown",
   "metadata": {},
   "source": [
    "### Divide los datos en un conjunto de entrenamiento y un conjunto de validación en una proporción de 75:25"
   ]
  },
  {
   "cell_type": "code",
   "execution_count": 41,
   "metadata": {},
   "outputs": [],
   "source": [
    "# Dividir los datos en conjuntos de entrenamiento y validacion\n",
    "features_train_2, features_valid_2, target_train_2, target_valid_2 = train_test_split(features_2, target_2, test_size=0.25, random_state=12345)"
   ]
  },
  {
   "cell_type": "code",
   "execution_count": 42,
   "metadata": {},
   "outputs": [
    {
     "name": "stdout",
     "output_type": "stream",
     "text": [
      "(75000, 3)\n",
      "(75000,)\n",
      "(25000, 3)\n",
      "(25000,)\n"
     ]
    }
   ],
   "source": [
    "print(features_train_2.shape)\n",
    "print(target_train_2.shape)\n",
    "print(features_valid_2.shape)\n",
    "print(target_valid_2.shape)"
   ]
  },
  {
   "cell_type": "code",
   "execution_count": 43,
   "metadata": {},
   "outputs": [],
   "source": [
    "# Definir las columnas numericas\n",
    "numeric_2 = ['f0', 'f1', 'f2'] "
   ]
  },
  {
   "cell_type": "code",
   "execution_count": 44,
   "metadata": {},
   "outputs": [],
   "source": [
    "# Guardar los nombres de las columnas antes de la estandarización\n",
    "column_names = numeric_2"
   ]
  },
  {
   "cell_type": "code",
   "execution_count": 45,
   "metadata": {},
   "outputs": [
    {
     "name": "stdout",
     "output_type": "stream",
     "text": [
      "[[-0.52615957  0.77632883 -0.40079292]\n",
      " [-0.88962499 -0.4040698  -1.22293566]\n",
      " [-1.1339838   0.20857647  0.2967648 ]\n",
      " ...\n",
      " [ 0.36856367  0.79722508  0.66557457]\n",
      " [-2.44068989  0.11378427  0.440907  ]\n",
      " [-1.73246811  0.39357329 -1.4244654 ]]\n",
      "[[-0.8367172  -2.22743862 -0.07848897]\n",
      " [-0.8216484   0.74023665 -1.00081148]\n",
      " [-2.6513359  -0.2357207  -0.24454565]\n",
      " ...\n",
      " [ 0.41644358 -0.08459513  0.21898695]\n",
      " [-0.13665813 -0.10123498 -0.87078695]\n",
      " [-1.35956529 -0.59845714  1.71664386]]\n"
     ]
    }
   ],
   "source": [
    "## Estandarizar las caracteristicas numericas\n",
    "scaler = StandardScaler()\n",
    "scaler = scaler.fit(features_train_2[numeric_2])\n",
    "features_train_2 = scaler.transform(features_train_2[numeric_2]) \n",
    "features_valid_2 = scaler.transform(features_valid_2[numeric_2])\n",
    "print(features_train_2)\n",
    "print(features_valid_2)"
   ]
  },
  {
   "cell_type": "code",
   "execution_count": 46,
   "metadata": {},
   "outputs": [
    {
     "data": {
      "image/png": "[encoded data removed]",
      "text/plain": [
       "<Figure size 1000x600 with 1 Axes>"
      ]
     },
     "metadata": {},
     "output_type": "display_data"
    }
   ],
   "source": [
    "# Visualizar la distribucion del objetivo\n",
    "plt.figure(figsize=(10, 6))\n",
    "sns.histplot(target_2, bins=30, kde=True)\n",
    "plt.title('\"Distribution of Reserve Volume')\n",
    "plt.xlabel('Reserve Volume (thousands of barrels)')\n",
    "plt.ylabel('Frequency')\n",
    "plt.show()"
   ]
  },
  {
   "cell_type": "markdown",
   "metadata": {},
   "source": [
    "a) La distribucion multimodal al presentar varios tipos (modas) nos indican que los datos pueden estar agrupados en diferentes rangos indicando subpoblaciones dentro de los datos\n",
    "b) Simetria la distribucion parece tener un equilibrio balanceado se puede ver en los valores centralos y diferencias entre los extremos\n",
    "c) Los valores mas comunes del volumnen de reserva estan concentrados alrededor de los rangos de 50, 100, 125 ml de barriles indicando volumenes tipicos en el conjunto de datos\n",
    "siendo muy similar a la region 0"
   ]
  },
  {
   "cell_type": "code",
   "execution_count": 47,
   "metadata": {},
   "outputs": [
    {
     "data": {
      "image/png": "[encoded data removed]",
      "text/plain": [
       "<Figure size 1200x600 with 1 Axes>"
      ]
     },
     "metadata": {},
     "output_type": "display_data"
    }
   ],
   "source": [
    "# Configurar el estilo de Seaborn\n",
    "sns.set(style=\"whitegrid\")\n",
    "\n",
    "# Crear una figura\n",
    "plt.figure(figsize=(12, 6))\n",
    "# Histograma para el conjunto de entrenamiento\n",
    "sns.histplot(target_train_2, bins = 30, kde = True, color = 'red', label = 'Train', stat= 'density', alpha=0.5)\n",
    "# Histograma para el conjunto de validacion\n",
    "sns.histplot(target_valid_2, bins=30, kde=True, color='green', label='Valid', stat='density', alpha=0.5)\n",
    "plt.title('Distribution of Reserve Volume (Training vs Validation)')\n",
    "plt.xlabel('Reserve Volume (thousands of barrels)')\n",
    "plt.ylabel('Density')\n",
    "plt.legend()\n",
    "\n",
    "# Mostrar el grafico\n",
    "plt.show()"
   ]
  },
  {
   "cell_type": "markdown",
   "metadata": {},
   "source": [
    "a)Las distribuciones entre el entrenamiento y la validacion son similares en forma general  y densidad esto es deseable, lo que no indica que no hay sobreajuste ni subajuste aparentemente.\n",
    "b) La multimodalidad ambas distribuciones muestran modas  alrededor de valores de 50, 100, 125 mil de barriles esto cons afirma la consistencia entre train y valid tiene la composicion equilibrada\n",
    "c) Las areas bajo la curva nos muestra equilibrio entre los dos conjunto de datos y no se presenta un sesgo significativo entre los datos\n",
    "muy similar de igual forma  la region 0"
   ]
  },
  {
   "cell_type": "code",
   "execution_count": 48,
   "metadata": {},
   "outputs": [
    {
     "data": {
      "image/png": "[encoded data removed]",
      "text/plain": [
       "<Figure size 1000x600 with 1 Axes>"
      ]
     },
     "metadata": {},
     "output_type": "display_data"
    }
   ],
   "source": [
    "# Boxplot para visualizar outliers\n",
    "plt.figure(figsize=(10, 6))\n",
    "sns.boxplot(x=target_2)\n",
    "plt.title('Boxplot of Reserve Volume')\n",
    "plt.xlabel('Reserve Volume (thousands of barrels)')\n",
    "plt.show()"
   ]
  },
  {
   "cell_type": "markdown",
   "metadata": {},
   "source": [
    "a)El rango Q1 y Q3 es amplio mostrando una variacionen los valores centrales aproximadamente el 50% de los datos.\n",
    "b) La mediana esta casi en el centro intercuantilico nos indica simetria en los datos\n",
    "c)No hay outliers estos indica una distrucion uniforme en el rango establecido de los datos"
   ]
  },
  {
   "cell_type": "code",
   "execution_count": 49,
   "metadata": {},
   "outputs": [
    {
     "name": "stdout",
     "output_type": "stream",
     "text": [
      "Estadisticas descriptivas del volumen de reservas:\n",
      "count    100000.000000\n",
      "mean         95.000000\n",
      "std          44.749921\n",
      "min           0.000000\n",
      "25%          59.450441\n",
      "50%          94.925613\n",
      "75%         130.595027\n",
      "max         190.029838\n",
      "Name: product, dtype: float64\n"
     ]
    }
   ],
   "source": [
    "# Calcular estadisticas descriptivas para la variable objetivo\n",
    "stats = target_2.describe()\n",
    "print('Estadisticas descriptivas del volumen de reservas:')\n",
    "print(stats)"
   ]
  },
  {
   "cell_type": "markdown",
   "metadata": {},
   "source": [
    "### Entrena el modelo y haz predicciones para el conjunto de validación."
   ]
  },
  {
   "cell_type": "code",
   "execution_count": 50,
   "metadata": {},
   "outputs": [
    {
     "data": {
      "text/plain": [
       "LinearRegression()"
      ]
     },
     "execution_count": 50,
     "metadata": {},
     "output_type": "execute_result"
    }
   ],
   "source": [
    "# Entrenar el modelo de regresion lineal\n",
    "model_2 = LinearRegression()\n",
    "model_2.fit(features_train_2, target_train_2)"
   ]
  },
  {
   "cell_type": "code",
   "execution_count": 51,
   "metadata": {},
   "outputs": [
    {
     "name": "stdout",
     "output_type": "stream",
     "text": [
      "MSE por fold_2: [1598.19456358 1601.01039236 1602.24677517 1607.33214117 1617.57822958]\n",
      "RMSE por fold_2: [39.97742567 40.01262791 40.02807484 40.091547   40.21912766]\n",
      "MSE promedio_2: 1605.272420369923\n",
      "RMSE promedio_2: 40.06576061701094\n"
     ]
    }
   ],
   "source": [
    "# Aplicar validacion cruzada\n",
    "cv_scores_2 = cross_val_score(model_2, features_train_2, target_train_2, cv=5, scoring='neg_mean_squared_error')\n",
    "# Convertir los scores a valores positivos (ya que cross_val_score devuelve negativos para MSE)\n",
    "mse_cv_2 = -cv_scores_2\n",
    "rmse_cv_2 = np.sqrt(mse_cv_2)\n",
    "\n",
    "print('MSE por fold_2:', mse_cv_2)\n",
    "print('RMSE por fold_2:', rmse_cv_2)\n",
    "print('MSE promedio_2:', mse_cv_2.mean())\n",
    "print('RMSE promedio_2:', rmse_cv_2.mean())"
   ]
  },
  {
   "cell_type": "markdown",
   "metadata": {},
   "source": [
    "a)El RMSE por fold indican que el error medio en cada iteracion es aprox 40.06 sugiere una precision moderada en la predicciones\n",
    "b)El RMSE promedio el valor nos indica que en comparacion se tiene un rendimiento moderado y un error significativo en las predicciones"
   ]
  },
  {
   "cell_type": "markdown",
   "metadata": {},
   "source": [
    "### Guarda las predicciones y las respuestas correctas para el conjunto de validación"
   ]
  },
  {
   "cell_type": "code",
   "execution_count": 52,
   "metadata": {},
   "outputs": [],
   "source": [
    "# Hacer predicciones en el conjunto de  entreanmiento y validacion\n",
    "predictions_valid_2 = model_2.predict(features_valid_2)\n"
   ]
  },
  {
   "cell_type": "code",
   "execution_count": 53,
   "metadata": {},
   "outputs": [
    {
     "name": "stdout",
     "output_type": "stream",
     "text": [
      "R2-Valid-2= 0.20524758386040443\n"
     ]
    }
   ],
   "source": [
    "# Calculo de R2\n",
    "r2_2 = r2_score(target_valid_2, predictions_valid_2)\n",
    "print('R2-Valid-2=', r2_2 )"
   ]
  },
  {
   "cell_type": "markdown",
   "metadata": {},
   "source": [
    "Este resultado R2 para validacion no explica bien la variabilidad en los datos, lo que sugiere que no se captura adecuadamente las relaciones entre las variables. Un R² tan bajo se puede esperar que podría no ser adecuado para predecir el volumen de reservas en la region 2 "
   ]
  },
  {
   "cell_type": "markdown",
   "metadata": {},
   "source": [
    "### Muestra el volumen medio de reservas predicho y RMSE del modelo"
   ]
  },
  {
   "cell_type": "code",
   "execution_count": 54,
   "metadata": {},
   "outputs": [
    {
     "name": "stdout",
     "output_type": "stream",
     "text": [
      "MSE-valid-2 = 1602.3775813236196\n",
      "RMSE-valid-2 = 40.02970873393434\n"
     ]
    }
   ],
   "source": [
    "# Calcular MSE y RMSE para el modelo de regresión lineal y vlidacion cruzada\n",
    "mse_valid_2 = mean_squared_error(target_valid_2, predictions_valid_2)\n",
    "print('MSE-valid-2 =', mse_valid_2)\n",
    "print('RMSE-valid-2 =', mse_valid_2 ** 0.5)"
   ]
  },
  {
   "cell_type": "markdown",
   "metadata": {},
   "source": [
    "El valor RMSE en el conjunto de validación indican que el modelo de regresion lineal en la region 2 tiene un rendimiento moderado con un error significativo en sus predicciones similar al resultado con validacion cruzada"
   ]
  },
  {
   "cell_type": "code",
   "execution_count": 55,
   "metadata": {},
   "outputs": [
    {
     "name": "stdout",
     "output_type": "stream",
     "text": [
      "Volumen medio de reservas predicho (valid_2) = 94.96504596800489\n"
     ]
    }
   ],
   "source": [
    "# Calcular y mostrar el volumen medio de reservas predicho en ambos conjuntos\n",
    "mean_predicted_valid_2= np.mean(predictions_valid_2)\n",
    "print('Volumen medio de reservas predicho (valid_2) =', mean_predicted_valid_2)"
   ]
  },
  {
   "cell_type": "markdown",
   "metadata": {},
   "source": [
    "El valor de volumen medio de reservas  en el conjunto de validacion es consistente con un rendimiento moderado, lo que sugiere que el modelo captura una tendencia central aparentemente razonable pero no del todo precisa. La precisión del modelo, combinada con este volumen medio, indica que las predicciones son útiles pero podrían requerir ajustes para distintas aplicaciones "
   ]
  },
  {
   "cell_type": "markdown",
   "metadata": {},
   "source": [
    "## Prepárate para el cálculo de ganancias"
   ]
  },
  {
   "cell_type": "markdown",
   "metadata": {},
   "source": [
    "### Almacena todos los valores necesarios para los cálculos en variables separadas."
   ]
  },
  {
   "cell_type": "code",
   "execution_count": 56,
   "metadata": {},
   "outputs": [],
   "source": [
    "# Variables iniciales\n",
    "total_investment = 100000000  # Inversion total en dolares\n",
    "num_wells = 200  # Numero de pozos petroleros\n",
    "cost_well= total_investment / num_wells  # Costo por pozo en dolares\n",
    "cost_well = 500000\n",
    "# Valores de producción\n",
    "required_prod_well = 500000  # Produccion minima necesaria por pozo en dolares\n",
    "required_prod_well_units = required_prod_well / 4500  # En unidades de producto\n",
    "avg_prod_well_thousands_barrels= 111.1  # Produccion minima en miles de barriles\n",
    "\n",
    "# Ingresos por barril y unidad\n",
    "revenue_barrel = 4.5  # Ingreso por barril en dolares\n",
    "revenue_unit= 4500  # Ingreso por unidad de producto en dolares\n",
    "\n"
   ]
  },
  {
   "cell_type": "code",
   "execution_count": 57,
   "metadata": {},
   "outputs": [
    {
     "name": "stdout",
     "output_type": "stream",
     "text": [
      "Ganancia total: -10000.0\n"
     ]
    }
   ],
   "source": [
    "# Definir la funcion para calcular ganancia\n",
    "def profit (num_barrels):\n",
    "    revenues = revenue_barrel * num_barrels # Ingresos totales por barriles producidos\n",
    "    total_costs = cost_well * num_wells # Inversion total\n",
    "    profit_value = revenues - total_costs\n",
    "    return profit_value  #Ganancia neta\n",
    "\n",
    "num_barrels_produced = num_wells * avg_prod_well_thousands_barrels * 1000 #Comvertir a barriles\n",
    "total_profit = profit(num_barrels_produced)\n",
    "print(\"Ganancia total:\", total_profit)\n",
    "    "
   ]
  },
  {
   "cell_type": "markdown",
   "metadata": {},
   "source": [
    "-10,000 indica que el proyecto no es rentable bajo las condiciones actuales; los ingresos generados no cubren la inversión inicial.A pesar de que la producción promedio parece alta (111.1 miles de barriles), el ingreso por barril es relativamente bajo (4.5 dólares), lo que contribuye a que los ingresos totales sean insuficientes para cubrir la inversión"
   ]
  },
  {
   "cell_type": "markdown",
   "metadata": {},
   "source": [
    "###  Dada la inversión de 100 millones por 200 pozos petrolíferos, de media un pozo petrolífero debe producir al menos un valor de 500,000 dólares en unidades para evitar pérdidas (esto es equivalente a 111.1 unidades). Compara esta cantidad con la cantidad media de reservas en cada región."
   ]
  },
  {
   "cell_type": "code",
   "execution_count": 58,
   "metadata": {},
   "outputs": [
    {
     "name": "stdout",
     "output_type": "stream",
     "text": [
      "     Region  Produccion minima necesaria (miles de barriles)  \\\n",
      "0  Region_0                                            111.1   \n",
      "1  Region_1                                            111.1   \n",
      "2  Region_2                                            111.1   \n",
      "\n",
      "   Volumen medio  de reservas (miles de barriles)  \n",
      "0                                           92.59  \n",
      "1                                           68.73  \n",
      "2                                           94.97  \n"
     ]
    }
   ],
   "source": [
    "# Datos para comparar \n",
    "data = {\n",
    "    'Region': ['Region_0', 'Region_1', 'Region_2'], 'Produccion minima necesaria (miles de barriles)': [111.1, 111.1, 111.1], 'Volumen medio  de reservas (miles de barriles)':[92.59, 68.73, 94.97]\n",
    "}\n",
    "comparative_data = pd.DataFrame(data)\n",
    "print(comparative_data )"
   ]
  },
  {
   "cell_type": "markdown",
   "metadata": {},
   "source": [
    "### Presenta conclusiones sobre cómo preparar el paso para calcular el beneficio."
   ]
  },
  {
   "cell_type": "markdown",
   "metadata": {},
   "source": [
    "La produccion minima necesaria cada pozo debe producir minimo  500, 000 dolares en unidades, equivalente a 111. 11 miles de barriles en comparacion con el volumen medio de reservas predicho por las tres regiones para la region 0 se obtuvo el valor de mean_predicted_valid_0 con 92.59 miles de barriles es evidente que esta por debajo de la produccion minima necesaria\n",
    "b) Para la region 1 se obtuvo el valor de mean_predicted_valid_1 con 68.73 miles de barriles que de igual forma esta por muy por debajo de la produccion minima necesaria\n",
    "c) Para la region 2 se obtuvo el valor de mean_predicted_valid_2 con 94.97 miles de barriles que en comparacion el numero de produccion minima necesaria esta por debajo del objetivo. Nos quiere decir con estos resultados que al estar por debajo del valor para evitar perdidas nos sugiere que los pozos en estas regiones no son rentables"
   ]
  },
  {
   "cell_type": "markdown",
   "metadata": {},
   "source": [
    "## Escribe una función para calcular la ganancia de un conjunto de pozos de petróleo seleccionados y modela las predicciones:"
   ]
  },
  {
   "cell_type": "markdown",
   "metadata": {},
   "source": [
    "### Elige los 200 pozos con los valores de predicción más altos de cada una de las 3 regiones (es decir, archivos 'csv')."
   ]
  },
  {
   "cell_type": "code",
   "execution_count": 59,
   "metadata": {},
   "outputs": [],
   "source": [
    "# Seleccionar los 200 valores mas altos de cada conjunto de predicciones\n",
    "top_200_values_0 = np.sort(predictions_valid_0)[::-1][:200]\n",
    "top_200_values_1 = np.sort(predictions_valid_1)[::-1][:200]\n",
    "top_200_values_2 = np.sort(predictions_valid_2)[::-1][:200]\n"
   ]
  },
  {
   "cell_type": "markdown",
   "metadata": {},
   "source": [
    "### Resume el volumen objetivo de reservas según dichas predicciones. Almacena las predicciones para los 200 pozos para cada una de las 3 regiones."
   ]
  },
  {
   "cell_type": "code",
   "execution_count": 60,
   "metadata": {},
   "outputs": [
    {
     "name": "stdout",
     "output_type": "stream",
     "text": [
      "Promedio de predicciones en region 0: 155.511654194057\n",
      "Promedio de predicciones en region 1: 138.73013391081716\n",
      "Promedio de predicciones en region 2: 148.01949329159174\n"
     ]
    }
   ],
   "source": [
    "# Calcular el promedio de los valores seleccionados\n",
    "avg_region_0 = np.mean(top_200_values_0)\n",
    "avg_region_1 = np.mean(top_200_values_1)\n",
    "avg_region_2 = np.mean(top_200_values_2)\n",
    "\n",
    "print(f\"Promedio de predicciones en region 0: {avg_region_0}\")\n",
    "print(f\"Promedio de predicciones en region 1: {avg_region_1}\")\n",
    "print(f\"Promedio de predicciones en region 2: {avg_region_2}\")"
   ]
  },
  {
   "cell_type": "markdown",
   "metadata": {},
   "source": [
    "Al seleccionar los 200 mejores pozos segun mis valores de prediccion en cada una de las 3 regiones, la region que tiene un promedio de predicciones mas alto sugiere que tiene un gran potencial significativo  de reservas petroliferas"
   ]
  },
  {
   "cell_type": "markdown",
   "metadata": {},
   "source": [
    "### Calcula la ganancia potencial de los 200 pozos principales por región. Presenta tus conclusiones: propón una región para el desarrollo de pozos petrolíferos y justifica tu elección."
   ]
  },
  {
   "cell_type": "code",
   "execution_count": 61,
   "metadata": {},
   "outputs": [
    {
     "name": "stdout",
     "output_type": "stream",
     "text": [
      "Ganancia potencial en region 0: 39960488.77465132 dolares\n",
      "Ganancia potencial en region 1: 24857120.519735456 dolares\n",
      "Ganancia potencial en region 2: 33217543.96243258 dolares\n"
     ]
    }
   ],
   "source": [
    "# Variables\n",
    "num_wells_region = 200\n",
    "# Calcular la producción total por region (asumiendo que cada prediccion es en miles de barriles)\n",
    "production_region_0 = avg_region_0 * num_wells_region * 1000\n",
    "production_region_1 = avg_region_1 * num_wells_region * 1000\n",
    "production_region_2 = avg_region_2 * num_wells_region * 1000\n",
    "def final_profit(num_barrels, num_wells):\n",
    "    final_revenues = revenue_barrel * num_barrels\n",
    "    final_total_costs = cost_well * num_wells\n",
    "    final_profit_value = final_revenues - final_total_costs\n",
    "    return final_profit_value\n",
    "#Calcular ganancia por region\n",
    "gain_region_0 = final_profit(production_region_0, num_wells_region)\n",
    "gain_region_1 = final_profit(production_region_1, num_wells_region)\n",
    "gain_region_2 = final_profit(production_region_2, num_wells_region)\n",
    "\n",
    "print(f\"Ganancia potencial en region 0: {gain_region_0} dolares\")\n",
    "print(f\"Ganancia potencial en region 1: {gain_region_1} dolares\")\n",
    "print(f\"Ganancia potencial en region 2: {gain_region_2} dolares\")"
   ]
  },
  {
   "cell_type": "code",
   "execution_count": 62,
   "metadata": {},
   "outputs": [
    {
     "name": "stdout",
     "output_type": "stream",
     "text": [
      "La region mas adecuada para el desarrollo de pozos petrolíferos es la region 0\n"
     ]
    }
   ],
   "source": [
    "# Seleccionar la region con la ganancia potencial mas alta\n",
    "max_gain = max ( gain_region_0, gain_region_1, gain_region_2)\n",
    "if max_gain == gain_region_0:\n",
    "    print(\"La region mas adecuada para el desarrollo de pozos petrolíferos es la region 0\")\n",
    "elif max_gain == gain_region_1:\n",
    "    print(\"La region mas adecuada para el desarrollo de pozos petrolíferos es la region 1\")\n",
    "else:\n",
    "    print(\"La region mas adecuada para el desarrollo de pozos petrolíferos es la region 2\")\n"
   ]
  },
  {
   "cell_type": "markdown",
   "metadata": {},
   "source": [
    "En base a la escala de operaiones de la industria petrolera por ese motivo las grandes cantidades de dinero en las 3 regiones, la gananacia neta calculada refleja la rentabilidad potencial del proyecto en cada region. La region para el desarrollo de pozos petrolíferos es la 0 ya que segun los calculos realizados es la region mas optima y rentable."
   ]
  },
  {
   "cell_type": "markdown",
   "metadata": {},
   "source": [
    "## Calcula riesgos y ganancias para cada región:\n"
   ]
  },
  {
   "cell_type": "markdown",
   "metadata": {},
   "source": [
    "### Utilizando las predicciones que almacenaste en el paso 4.2, emplea la técnica del bootstrapping con 1000 muestras para hallar la distribución de los beneficios."
   ]
  },
  {
   "cell_type": "code",
   "execution_count": 63,
   "metadata": {},
   "outputs": [],
   "source": [
    "num_samples = 1000\n",
    "# Aplicar bootstrapping\n",
    "bootstrap_gains_0 = []\n",
    "bootstrap_gains_1 = []\n",
    "bootstrap_gains_2 = []\n",
    "for _ in range(num_samples):\n",
    "    # Muestrear con reemplazo\n",
    "    sample_0 = np.random.choice(top_200_values_0, size= num_wells_region, replace=True)\n",
    "    sample_1 = np.random.choice(top_200_values_1, size= num_wells_region, replace=True)\n",
    "    sample_2 = np.random.choice(top_200_values_2, size= num_wells_region, replace=True)\n",
    "    #Calcular produccion total para cada muestra\n",
    "    production_sample_0 = sample_0.sum() * 1000\n",
    "    production_sample_1 = sample_1.sum() * 1000\n",
    "    production_sample_2 = sample_2.sum() * 1000\n",
    "    # Calcular ganancia para cada muestra\n",
    "    gain_sample_0 = final_profit(production_sample_0, num_wells_region)\n",
    "    gain_sample_1 = final_profit(production_sample_1, num_wells_region)\n",
    "    gain_sample_2 = final_profit(production_sample_2, num_wells_region)\n",
    "    #Almacenar ganancias\n",
    "    bootstrap_gains_0.append(gain_sample_0)\n",
    "    bootstrap_gains_1.append(gain_sample_1)\n",
    "    bootstrap_gains_2.append(gain_sample_2)\n",
    "# Convertir a arrays NumPy para facilitar el análisis\n",
    "bootstrap_gains_0 = np.array(bootstrap_gains_0)\n",
    "bootstrap_gains_1 = np.array(bootstrap_gains_1)\n",
    "bootstrap_gains_2 = np.array(bootstrap_gains_2)\n",
    "# Calcular beneficio promedio\n",
    "mean_gain_0 = np.mean(bootstrap_gains_0)\n",
    "mean_gain_1 = np.mean(bootstrap_gains_1)\n",
    "mean_gain_2 = np.mean(bootstrap_gains_2)\n",
    "# Calcular intervalo de confianza de 95%\n",
    "percentile_025_0 = np.percentile(bootstrap_gains_0, 2.5)\n",
    "percentile_975_0 = np.percentile(bootstrap_gains_0, 97.5)\n",
    "percentile_025_1 = np.percentile(bootstrap_gains_1, 2.5)\n",
    "percentile_975_1 = np.percentile(bootstrap_gains_1, 97.5)\n",
    "percentile_025_2 = np.percentile(bootstrap_gains_2, 2.5)\n",
    "percentile_975_2 = np.percentile(bootstrap_gains_2, 97.5)"
   ]
  },
  {
   "cell_type": "markdown",
   "metadata": {},
   "source": [
    "### Encuentra el beneficio promedio, el intervalo de confianza del 95% y el riesgo de pérdidas. La pérdida es una ganancia negativa, calcúlala como una probabilidad y luego exprésala como un porcentaje."
   ]
  },
  {
   "cell_type": "code",
   "execution_count": 64,
   "metadata": {},
   "outputs": [
    {
     "name": "stdout",
     "output_type": "stream",
     "text": [
      "Beneficio promedio en region 0: 39951107.63979605 dolares\n",
      "Beneficio promedio en region 1: 24857039.796076134 dolares\n",
      "Beneficio promedio en region 2: 33224826.48344181 dolares\n",
      "\n",
      "Intervalo de confianza del 95% para region 0: [39220551.232407756, 40719707.34779996]\n",
      "Intervalo de confianza del 95% para region 1: [24822943.744321503, 24895093.326834925]\n",
      "Intervalo de confianza del 95% para region 2: [32577461.102939997, 33869882.22494608]\n"
     ]
    }
   ],
   "source": [
    "print(f\"Beneficio promedio en region 0: {mean_gain_0} dolares\")\n",
    "print(f\"Beneficio promedio en region 1: {mean_gain_1} dolares\")\n",
    "print(f\"Beneficio promedio en region 2: {mean_gain_2} dolares\")\n",
    "print()\n",
    "print(f\"Intervalo de confianza del 95% para region 0: [{percentile_025_0}, {percentile_975_0}]\")\n",
    "print(f\"Intervalo de confianza del 95% para region 1: [{percentile_025_1}, {percentile_975_1}]\")\n",
    "print(f\"Intervalo de confianza del 95% para region 2: [{percentile_025_2}, {percentile_975_2}]\")"
   ]
  },
  {
   "cell_type": "code",
   "execution_count": 65,
   "metadata": {},
   "outputs": [
    {
     "name": "stdout",
     "output_type": "stream",
     "text": [
      "Riesgo de perdidas en region 0: 0.0%\n",
      "Riesgo de perdidas en region 1: 0.0%\n",
      "Riesgo de perdidas en region 2: 0.0%\n"
     ]
    }
   ],
   "source": [
    "# Calcular riesgo de perdidas (probabilidad de ganancia negativa)\n",
    "risk_loss_0 = np.mean(bootstrap_gains_0 < 0) * 100\n",
    "risk_loss_1 = np.mean(bootstrap_gains_1 < 0) * 100\n",
    "risk_loss_2 = np.mean(bootstrap_gains_2 < 0) * 100\n",
    "print(f\"Riesgo de perdidas en region 0: {risk_loss_0}%\")\n",
    "print(f\"Riesgo de perdidas en region 1: {risk_loss_1}%\")\n",
    "print(f\"Riesgo de perdidas en region 2: {risk_loss_2}%\")\n"
   ]
  },
  {
   "cell_type": "code",
   "execution_count": 66,
   "metadata": {},
   "outputs": [
    {
     "name": "stdout",
     "output_type": "stream",
     "text": [
      "Regiones elegibles: [('Region 0', 39951107.63979605), ('Region 1', 24857039.796076134), ('Region 2', 33224826.48344181)]\n"
     ]
    }
   ],
   "source": [
    "# Seleccionar regiones con riesgo de perdidas inferior al 2.5%\n",
    "eligible_regions = []\n",
    "if risk_loss_0 <= 2.5:\n",
    "    eligible_regions.append(('Region 0', mean_gain_0))\n",
    "if risk_loss_1 <= 2.5:\n",
    "    eligible_regions.append(('Region 1', mean_gain_1))\n",
    "if risk_loss_2 <= 2.5:\n",
    "    eligible_regions.append(('Region 2', mean_gain_2))\n",
    "print(\"Regiones elegibles:\", eligible_regions)"
   ]
  },
  {
   "cell_type": "code",
   "execution_count": 67,
   "metadata": {},
   "outputs": [
    {
     "name": "stdout",
     "output_type": "stream",
     "text": [
      "La region mas adecuada es Region 0 con un beneficio promedio de 39951107.63979605 dolares\n"
     ]
    }
   ],
   "source": [
    "# Seleccionar la region con el beneficio promedio mas alto\n",
    "if eligible_regions:\n",
    "    eligible_regions.sort(key=lambda x: x[1])\n",
    "    best_region = eligible_regions[-1]\n",
    "    print(f\"La region mas adecuada es {best_region[0]} con un beneficio promedio de {best_region[1]} dolares\")\n",
    "else:\n",
    "    print('No hay regiones que cumplan con el criterio de riesgo')"
   ]
  },
  {
   "cell_type": "code",
   "execution_count": 68,
   "metadata": {},
   "outputs": [
    {
     "name": "stdout",
     "output_type": "stream",
     "text": [
      "            Categoria  Valor (USD)\n",
      "0  Beneficio promedio  39977774.42\n",
      "1  Ganancia potencial  39960488.77\n"
     ]
    }
   ],
   "source": [
    "data_region_0 = {\n",
    "    \"Categoria\": ['Beneficio promedio', 'Ganancia potencial'],\n",
    "    \"Valor (USD)\": [39977774.42, 39960488.77]\n",
    "}\n",
    "\n",
    "# Crear DataFrame\n",
    "df = pd.DataFrame(data_region_0)\n",
    "\n",
    "# Mostrar DataFrame\n",
    "print(df)"
   ]
  },
  {
   "cell_type": "markdown",
   "metadata": {},
   "source": [
    "## Conclusion general "
   ]
  },
  {
   "cell_type": "markdown",
   "metadata": {},
   "source": [
    "El objetivo del proyecto el analisis de la compañía de extracción de petróleo OilyGiant, es encontrar los mejores lugares donde abrir 200 pozos nuevos de petróleo, previo a esto se calculo la ganancia dada la inversion de 100 millones de dolares nos indica con la perdida de 10000 dado que el proyecto no era rentable los ingresos generados no cubren  la inversion inicial  a pesar de la que la produccion promedio es de 111.11 miles de barriles  ya que eñ ingreso por barril es relativamente bajo de 4.5  dolares lo que contribuye  a que los ingresos totales sean insuficientes. El calculo de las ganacias mediante la eleccion de los 200 pozos con los valores de prediccion mas altos de las 3 regiones al realizar el calculo promedio de las predicciones se selecciono la region 0 ya que presentaba mayor ingreso que las otras 2 con la cantidad de 39,960,488.77 de dolares siendo la region mas optima y rentable. En comparacion con el metodo de bootstrapping ya que proporciona una estimacion donde se considera la variabilidad completa de los datos con una muestra de 1000 y la eleccion de la region 0 con riesgo de perdidas inferior al 2.5% fue de in beneficio promedio 39,977,774.42 la diferencia es relativamente pequeña puede deberse a como se distribuyen los datos siendo la tecnica de boostrapping superior, pero cumpliendo el objetivo al encontrar los 200 mejores pozos fue la region 0 la mas rentable."
   ]
  }
 ],
 "metadata": {
  "ExecuteTimeLog": [
   {
    "duration": 2671,
    "start_time": "2025-01-06T04:17:24.541Z"
   },
   {
    "duration": 295,
    "start_time": "2025-01-06T04:17:27.214Z"
   },
   {
    "duration": 3,
    "start_time": "2025-01-06T04:19:25.661Z"
   },
   {
    "duration": 214,
    "start_time": "2025-01-06T04:19:25.667Z"
   },
   {
    "duration": 5,
    "start_time": "2025-01-06T04:19:25.884Z"
   },
   {
    "duration": 0,
    "start_time": "2025-01-06T04:19:25.890Z"
   },
   {
    "duration": 0,
    "start_time": "2025-01-06T04:19:25.891Z"
   },
   {
    "duration": 0,
    "start_time": "2025-01-06T04:19:25.892Z"
   },
   {
    "duration": 3,
    "start_time": "2025-01-06T04:19:38.237Z"
   },
   {
    "duration": 220,
    "start_time": "2025-01-06T04:19:38.244Z"
   },
   {
    "duration": 44,
    "start_time": "2025-01-06T04:19:38.467Z"
   },
   {
    "duration": 40,
    "start_time": "2025-01-06T04:19:38.513Z"
   },
   {
    "duration": 55,
    "start_time": "2025-01-06T04:19:38.555Z"
   },
   {
    "duration": 3,
    "start_time": "2025-01-06T06:01:33.828Z"
   },
   {
    "duration": 325,
    "start_time": "2025-01-06T06:01:33.834Z"
   },
   {
    "duration": 60,
    "start_time": "2025-01-06T06:01:34.164Z"
   },
   {
    "duration": 41,
    "start_time": "2025-01-06T06:01:34.226Z"
   },
   {
    "duration": 23,
    "start_time": "2025-01-06T06:01:34.269Z"
   },
   {
    "duration": 17,
    "start_time": "2025-01-06T06:02:39.419Z"
   },
   {
    "duration": 282,
    "start_time": "2025-01-06T06:03:08.032Z"
   },
   {
    "duration": 15,
    "start_time": "2025-01-06T06:03:41.480Z"
   },
   {
    "duration": 15,
    "start_time": "2025-01-06T06:04:16.475Z"
   },
   {
    "duration": 4,
    "start_time": "2025-01-06T06:11:05.428Z"
   },
   {
    "duration": 214,
    "start_time": "2025-01-06T06:11:05.435Z"
   },
   {
    "duration": 47,
    "start_time": "2025-01-06T06:11:05.653Z"
   },
   {
    "duration": 41,
    "start_time": "2025-01-06T06:11:05.702Z"
   },
   {
    "duration": 60,
    "start_time": "2025-01-06T06:11:05.746Z"
   },
   {
    "duration": 10,
    "start_time": "2025-01-06T06:11:05.808Z"
   },
   {
    "duration": 17,
    "start_time": "2025-01-06T06:11:05.820Z"
   },
   {
    "duration": 5,
    "start_time": "2025-01-06T06:27:08.925Z"
   },
   {
    "duration": 11,
    "start_time": "2025-01-06T06:30:38.407Z"
   },
   {
    "duration": 21,
    "start_time": "2025-01-06T06:31:17.125Z"
   },
   {
    "duration": 4,
    "start_time": "2025-01-06T06:31:33.031Z"
   },
   {
    "duration": 3,
    "start_time": "2025-01-06T06:43:36.149Z"
   },
   {
    "duration": 213,
    "start_time": "2025-01-06T06:43:36.160Z"
   },
   {
    "duration": 44,
    "start_time": "2025-01-06T06:43:36.375Z"
   },
   {
    "duration": 42,
    "start_time": "2025-01-06T06:43:36.421Z"
   },
   {
    "duration": 58,
    "start_time": "2025-01-06T06:43:36.466Z"
   },
   {
    "duration": 10,
    "start_time": "2025-01-06T06:43:36.526Z"
   },
   {
    "duration": 16,
    "start_time": "2025-01-06T06:43:36.538Z"
   },
   {
    "duration": 4,
    "start_time": "2025-01-06T06:43:36.556Z"
   },
   {
    "duration": 32,
    "start_time": "2025-01-06T06:43:36.562Z"
   },
   {
    "duration": 2,
    "start_time": "2025-01-06T06:43:36.596Z"
   },
   {
    "duration": 3,
    "start_time": "2025-01-06T06:43:36.601Z"
   },
   {
    "duration": 2,
    "start_time": "2025-01-06T06:43:36.605Z"
   },
   {
    "duration": 12,
    "start_time": "2025-01-06T06:43:36.609Z"
   },
   {
    "duration": 538,
    "start_time": "2025-01-06T07:02:25.756Z"
   },
   {
    "duration": 97,
    "start_time": "2025-01-06T07:03:15.383Z"
   },
   {
    "duration": 8,
    "start_time": "2025-01-06T07:04:50.322Z"
   },
   {
    "duration": 17,
    "start_time": "2025-01-06T07:31:47.399Z"
   },
   {
    "duration": 3,
    "start_time": "2025-01-06T07:31:59.520Z"
   },
   {
    "duration": 216,
    "start_time": "2025-01-06T07:31:59.526Z"
   },
   {
    "duration": 49,
    "start_time": "2025-01-06T07:31:59.743Z"
   },
   {
    "duration": 40,
    "start_time": "2025-01-06T07:31:59.794Z"
   },
   {
    "duration": 56,
    "start_time": "2025-01-06T07:31:59.836Z"
   },
   {
    "duration": 12,
    "start_time": "2025-01-06T07:31:59.894Z"
   },
   {
    "duration": 16,
    "start_time": "2025-01-06T07:31:59.908Z"
   },
   {
    "duration": 4,
    "start_time": "2025-01-06T07:31:59.926Z"
   },
   {
    "duration": 9,
    "start_time": "2025-01-06T07:31:59.932Z"
   },
   {
    "duration": 3,
    "start_time": "2025-01-06T07:31:59.944Z"
   },
   {
    "duration": 2,
    "start_time": "2025-01-06T07:31:59.949Z"
   },
   {
    "duration": 35,
    "start_time": "2025-01-06T07:31:59.953Z"
   },
   {
    "duration": 11,
    "start_time": "2025-01-06T07:31:59.989Z"
   },
   {
    "duration": 499,
    "start_time": "2025-01-06T07:32:00.001Z"
   },
   {
    "duration": 104,
    "start_time": "2025-01-06T07:32:00.502Z"
   },
   {
    "duration": 8,
    "start_time": "2025-01-06T07:32:00.608Z"
   },
   {
    "duration": 15,
    "start_time": "2025-01-06T07:32:00.618Z"
   },
   {
    "duration": 948,
    "start_time": "2025-01-06T07:32:58.180Z"
   },
   {
    "duration": 218,
    "start_time": "2025-01-06T07:32:59.131Z"
   },
   {
    "duration": 50,
    "start_time": "2025-01-06T07:32:59.351Z"
   },
   {
    "duration": 44,
    "start_time": "2025-01-06T07:32:59.404Z"
   },
   {
    "duration": 57,
    "start_time": "2025-01-06T07:32:59.450Z"
   },
   {
    "duration": 11,
    "start_time": "2025-01-06T07:32:59.509Z"
   },
   {
    "duration": 15,
    "start_time": "2025-01-06T07:32:59.522Z"
   },
   {
    "duration": 4,
    "start_time": "2025-01-06T07:32:59.539Z"
   },
   {
    "duration": 10,
    "start_time": "2025-01-06T07:32:59.545Z"
   },
   {
    "duration": 3,
    "start_time": "2025-01-06T07:32:59.587Z"
   },
   {
    "duration": 2,
    "start_time": "2025-01-06T07:32:59.592Z"
   },
   {
    "duration": 2,
    "start_time": "2025-01-06T07:32:59.596Z"
   },
   {
    "duration": 12,
    "start_time": "2025-01-06T07:32:59.600Z"
   },
   {
    "duration": 482,
    "start_time": "2025-01-06T07:32:59.614Z"
   },
   {
    "duration": 106,
    "start_time": "2025-01-06T07:33:00.098Z"
   },
   {
    "duration": 9,
    "start_time": "2025-01-06T07:33:00.205Z"
   },
   {
    "duration": 10,
    "start_time": "2025-01-06T07:33:00.215Z"
   },
   {
    "duration": 5,
    "start_time": "2025-01-06T07:37:17.007Z"
   },
   {
    "duration": 8,
    "start_time": "2025-01-06T07:37:33.177Z"
   },
   {
    "duration": 4,
    "start_time": "2025-01-06T07:37:41.406Z"
   },
   {
    "duration": 5,
    "start_time": "2025-01-06T07:37:44.036Z"
   },
   {
    "duration": 4,
    "start_time": "2025-01-06T07:39:02.032Z"
   },
   {
    "duration": 2655,
    "start_time": "2025-01-06T09:16:39.538Z"
   },
   {
    "duration": 300,
    "start_time": "2025-01-06T09:16:42.195Z"
   },
   {
    "duration": 48,
    "start_time": "2025-01-06T09:16:42.497Z"
   },
   {
    "duration": 51,
    "start_time": "2025-01-06T09:16:42.547Z"
   },
   {
    "duration": 44,
    "start_time": "2025-01-06T09:16:42.599Z"
   },
   {
    "duration": 11,
    "start_time": "2025-01-06T09:16:42.645Z"
   },
   {
    "duration": 16,
    "start_time": "2025-01-06T09:16:42.670Z"
   },
   {
    "duration": 294,
    "start_time": "2025-01-06T09:16:42.688Z"
   },
   {
    "duration": 0,
    "start_time": "2025-01-06T09:16:42.985Z"
   },
   {
    "duration": 0,
    "start_time": "2025-01-06T09:16:42.987Z"
   },
   {
    "duration": 0,
    "start_time": "2025-01-06T09:16:42.988Z"
   },
   {
    "duration": 0,
    "start_time": "2025-01-06T09:16:42.989Z"
   },
   {
    "duration": 0,
    "start_time": "2025-01-06T09:16:42.991Z"
   },
   {
    "duration": 0,
    "start_time": "2025-01-06T09:16:42.992Z"
   },
   {
    "duration": 0,
    "start_time": "2025-01-06T09:16:42.994Z"
   },
   {
    "duration": 0,
    "start_time": "2025-01-06T09:16:42.996Z"
   },
   {
    "duration": 0,
    "start_time": "2025-01-06T09:16:42.997Z"
   },
   {
    "duration": 0,
    "start_time": "2025-01-06T09:16:42.998Z"
   },
   {
    "duration": 0,
    "start_time": "2025-01-06T09:16:42.999Z"
   },
   {
    "duration": 0,
    "start_time": "2025-01-06T09:16:43.000Z"
   },
   {
    "duration": 987,
    "start_time": "2025-01-06T09:17:04.915Z"
   },
   {
    "duration": 215,
    "start_time": "2025-01-06T09:17:05.905Z"
   },
   {
    "duration": 51,
    "start_time": "2025-01-06T09:17:06.121Z"
   },
   {
    "duration": 42,
    "start_time": "2025-01-06T09:17:06.174Z"
   },
   {
    "duration": 61,
    "start_time": "2025-01-06T09:17:06.220Z"
   },
   {
    "duration": 12,
    "start_time": "2025-01-06T09:17:06.282Z"
   },
   {
    "duration": 16,
    "start_time": "2025-01-06T09:17:06.295Z"
   },
   {
    "duration": 5,
    "start_time": "2025-01-06T09:17:06.312Z"
   },
   {
    "duration": 0,
    "start_time": "2025-01-06T09:17:06.319Z"
   },
   {
    "duration": 0,
    "start_time": "2025-01-06T09:17:06.321Z"
   },
   {
    "duration": 0,
    "start_time": "2025-01-06T09:17:06.322Z"
   },
   {
    "duration": 0,
    "start_time": "2025-01-06T09:17:06.324Z"
   },
   {
    "duration": 0,
    "start_time": "2025-01-06T09:17:06.325Z"
   },
   {
    "duration": 0,
    "start_time": "2025-01-06T09:17:06.326Z"
   },
   {
    "duration": 0,
    "start_time": "2025-01-06T09:17:06.327Z"
   },
   {
    "duration": 0,
    "start_time": "2025-01-06T09:17:06.330Z"
   },
   {
    "duration": 0,
    "start_time": "2025-01-06T09:17:06.335Z"
   },
   {
    "duration": 0,
    "start_time": "2025-01-06T09:17:06.336Z"
   },
   {
    "duration": 0,
    "start_time": "2025-01-06T09:17:06.337Z"
   },
   {
    "duration": 0,
    "start_time": "2025-01-06T09:17:06.338Z"
   },
   {
    "duration": 4,
    "start_time": "2025-01-06T09:17:16.093Z"
   },
   {
    "duration": 214,
    "start_time": "2025-01-06T09:17:16.099Z"
   },
   {
    "duration": 55,
    "start_time": "2025-01-06T09:17:16.315Z"
   },
   {
    "duration": 41,
    "start_time": "2025-01-06T09:17:16.372Z"
   },
   {
    "duration": 55,
    "start_time": "2025-01-06T09:17:16.415Z"
   },
   {
    "duration": 9,
    "start_time": "2025-01-06T09:17:16.472Z"
   },
   {
    "duration": 16,
    "start_time": "2025-01-06T09:17:16.483Z"
   },
   {
    "duration": 4,
    "start_time": "2025-01-06T09:17:16.501Z"
   },
   {
    "duration": 8,
    "start_time": "2025-01-06T09:17:16.507Z"
   },
   {
    "duration": 3,
    "start_time": "2025-01-06T09:17:16.516Z"
   },
   {
    "duration": 2,
    "start_time": "2025-01-06T09:17:16.521Z"
   },
   {
    "duration": 3,
    "start_time": "2025-01-06T09:17:16.525Z"
   },
   {
    "duration": 283,
    "start_time": "2025-01-06T09:17:16.531Z"
   },
   {
    "duration": 0,
    "start_time": "2025-01-06T09:17:16.816Z"
   },
   {
    "duration": 0,
    "start_time": "2025-01-06T09:17:16.817Z"
   },
   {
    "duration": 0,
    "start_time": "2025-01-06T09:17:16.818Z"
   },
   {
    "duration": 0,
    "start_time": "2025-01-06T09:17:16.819Z"
   },
   {
    "duration": 0,
    "start_time": "2025-01-06T09:17:16.820Z"
   },
   {
    "duration": 0,
    "start_time": "2025-01-06T09:17:16.821Z"
   },
   {
    "duration": 0,
    "start_time": "2025-01-06T09:17:16.822Z"
   },
   {
    "duration": 11,
    "start_time": "2025-01-06T09:17:31.469Z"
   },
   {
    "duration": 467,
    "start_time": "2025-01-06T09:17:42.313Z"
   },
   {
    "duration": 98,
    "start_time": "2025-01-06T09:17:47.392Z"
   },
   {
    "duration": 8,
    "start_time": "2025-01-06T09:17:51.202Z"
   },
   {
    "duration": 9,
    "start_time": "2025-01-06T09:17:58.157Z"
   },
   {
    "duration": 6,
    "start_time": "2025-01-06T09:18:00.639Z"
   },
   {
    "duration": 17,
    "start_time": "2025-01-06T09:18:03.617Z"
   },
   {
    "duration": 5,
    "start_time": "2025-01-06T09:18:16.493Z"
   },
   {
    "duration": 4,
    "start_time": "2025-01-06T09:18:24.416Z"
   },
   {
    "duration": 3,
    "start_time": "2025-01-06T09:18:34.423Z"
   },
   {
    "duration": 4,
    "start_time": "2025-01-06T09:20:42.252Z"
   },
   {
    "duration": 3,
    "start_time": "2025-01-06T09:26:40.919Z"
   },
   {
    "duration": 219,
    "start_time": "2025-01-06T09:26:40.928Z"
   },
   {
    "duration": 50,
    "start_time": "2025-01-06T09:26:41.149Z"
   },
   {
    "duration": 43,
    "start_time": "2025-01-06T09:26:41.200Z"
   },
   {
    "duration": 60,
    "start_time": "2025-01-06T09:26:41.245Z"
   },
   {
    "duration": 9,
    "start_time": "2025-01-06T09:26:41.308Z"
   },
   {
    "duration": 16,
    "start_time": "2025-01-06T09:26:41.319Z"
   },
   {
    "duration": 4,
    "start_time": "2025-01-06T09:26:41.337Z"
   },
   {
    "duration": 31,
    "start_time": "2025-01-06T09:26:41.343Z"
   },
   {
    "duration": 3,
    "start_time": "2025-01-06T09:26:41.376Z"
   },
   {
    "duration": 2,
    "start_time": "2025-01-06T09:26:41.381Z"
   },
   {
    "duration": 3,
    "start_time": "2025-01-06T09:26:41.385Z"
   },
   {
    "duration": 14,
    "start_time": "2025-01-06T09:26:41.390Z"
   },
   {
    "duration": 514,
    "start_time": "2025-01-06T09:26:41.405Z"
   },
   {
    "duration": 106,
    "start_time": "2025-01-06T09:26:41.923Z"
   },
   {
    "duration": 10,
    "start_time": "2025-01-06T09:26:42.031Z"
   },
   {
    "duration": 6,
    "start_time": "2025-01-06T09:26:42.043Z"
   },
   {
    "duration": 20,
    "start_time": "2025-01-06T09:26:42.051Z"
   },
   {
    "duration": 5,
    "start_time": "2025-01-06T09:26:42.073Z"
   },
   {
    "duration": 6,
    "start_time": "2025-01-06T09:26:42.080Z"
   },
   {
    "duration": 4,
    "start_time": "2025-01-06T09:26:42.088Z"
   },
   {
    "duration": 9,
    "start_time": "2025-01-06T09:26:42.171Z"
   },
   {
    "duration": 3,
    "start_time": "2025-01-06T09:26:42.181Z"
   },
   {
    "duration": 2,
    "start_time": "2025-01-06T09:26:42.186Z"
   },
   {
    "duration": 2,
    "start_time": "2025-01-06T09:26:42.190Z"
   },
   {
    "duration": 10,
    "start_time": "2025-01-06T09:26:42.195Z"
   },
   {
    "duration": 514,
    "start_time": "2025-01-06T09:26:42.207Z"
   },
   {
    "duration": 173,
    "start_time": "2025-01-06T09:26:42.723Z"
   },
   {
    "duration": 8,
    "start_time": "2025-01-06T09:26:42.898Z"
   },
   {
    "duration": 7,
    "start_time": "2025-01-06T09:26:42.907Z"
   },
   {
    "duration": 3,
    "start_time": "2025-01-06T09:26:42.916Z"
   },
   {
    "duration": 50,
    "start_time": "2025-01-06T09:26:42.920Z"
   },
   {
    "duration": 3,
    "start_time": "2025-01-06T09:26:42.972Z"
   },
   {
    "duration": 1003,
    "start_time": "2025-01-06T09:46:57.895Z"
   },
   {
    "duration": 217,
    "start_time": "2025-01-06T09:46:58.901Z"
   },
   {
    "duration": 51,
    "start_time": "2025-01-06T09:46:59.119Z"
   },
   {
    "duration": 43,
    "start_time": "2025-01-06T09:46:59.172Z"
   },
   {
    "duration": 56,
    "start_time": "2025-01-06T09:46:59.217Z"
   },
   {
    "duration": 11,
    "start_time": "2025-01-06T09:46:59.275Z"
   },
   {
    "duration": 15,
    "start_time": "2025-01-06T09:46:59.288Z"
   },
   {
    "duration": 3,
    "start_time": "2025-01-06T09:46:59.305Z"
   },
   {
    "duration": 10,
    "start_time": "2025-01-06T09:46:59.310Z"
   },
   {
    "duration": 3,
    "start_time": "2025-01-06T09:46:59.322Z"
   },
   {
    "duration": 3,
    "start_time": "2025-01-06T09:46:59.327Z"
   },
   {
    "duration": 2,
    "start_time": "2025-01-06T09:46:59.331Z"
   },
   {
    "duration": 12,
    "start_time": "2025-01-06T09:46:59.370Z"
   },
   {
    "duration": 507,
    "start_time": "2025-01-06T09:46:59.384Z"
   },
   {
    "duration": 106,
    "start_time": "2025-01-06T09:46:59.893Z"
   },
   {
    "duration": 9,
    "start_time": "2025-01-06T09:47:00.000Z"
   },
   {
    "duration": 8,
    "start_time": "2025-01-06T09:47:00.011Z"
   },
   {
    "duration": 49,
    "start_time": "2025-01-06T09:47:00.021Z"
   },
   {
    "duration": 4,
    "start_time": "2025-01-06T09:47:00.072Z"
   },
   {
    "duration": 3,
    "start_time": "2025-01-06T09:47:00.078Z"
   },
   {
    "duration": 4,
    "start_time": "2025-01-06T09:47:00.083Z"
   },
   {
    "duration": 84,
    "start_time": "2025-01-06T09:47:00.088Z"
   },
   {
    "duration": 3,
    "start_time": "2025-01-06T09:47:00.174Z"
   },
   {
    "duration": 2,
    "start_time": "2025-01-06T09:47:00.179Z"
   },
   {
    "duration": 3,
    "start_time": "2025-01-06T09:47:00.182Z"
   },
   {
    "duration": 12,
    "start_time": "2025-01-06T09:47:00.187Z"
   },
   {
    "duration": 470,
    "start_time": "2025-01-06T09:47:00.200Z"
   },
   {
    "duration": 103,
    "start_time": "2025-01-06T09:47:00.675Z"
   },
   {
    "duration": 8,
    "start_time": "2025-01-06T09:47:00.780Z"
   },
   {
    "duration": 7,
    "start_time": "2025-01-06T09:47:00.790Z"
   },
   {
    "duration": 6,
    "start_time": "2025-01-06T09:47:00.798Z"
   },
   {
    "duration": 4,
    "start_time": "2025-01-06T09:47:00.806Z"
   },
   {
    "duration": 3,
    "start_time": "2025-01-06T09:47:00.812Z"
   },
   {
    "duration": 4,
    "start_time": "2025-01-06T09:47:00.871Z"
   },
   {
    "duration": 11,
    "start_time": "2025-01-06T09:47:00.877Z"
   },
   {
    "duration": 3,
    "start_time": "2025-01-06T09:47:00.889Z"
   },
   {
    "duration": 76,
    "start_time": "2025-01-06T09:47:00.894Z"
   },
   {
    "duration": 4,
    "start_time": "2025-01-06T09:47:00.972Z"
   },
   {
    "duration": 16,
    "start_time": "2025-01-06T09:47:00.977Z"
   },
   {
    "duration": 506,
    "start_time": "2025-01-06T09:47:00.994Z"
   },
   {
    "duration": 104,
    "start_time": "2025-01-06T09:47:01.502Z"
   },
   {
    "duration": 9,
    "start_time": "2025-01-06T09:47:01.607Z"
   },
   {
    "duration": 7,
    "start_time": "2025-01-06T09:47:01.617Z"
   },
   {
    "duration": 9,
    "start_time": "2025-01-06T09:47:01.625Z"
   },
   {
    "duration": 5,
    "start_time": "2025-01-06T09:47:01.671Z"
   },
   {
    "duration": 4,
    "start_time": "2025-01-06T09:47:01.681Z"
   },
   {
    "duration": 5,
    "start_time": "2025-01-06T09:48:41.723Z"
   },
   {
    "duration": 1024,
    "start_time": "2025-01-06T09:51:47.284Z"
   },
   {
    "duration": 214,
    "start_time": "2025-01-06T09:51:48.310Z"
   },
   {
    "duration": 56,
    "start_time": "2025-01-06T09:51:48.526Z"
   },
   {
    "duration": 41,
    "start_time": "2025-01-06T09:51:48.585Z"
   },
   {
    "duration": 57,
    "start_time": "2025-01-06T09:51:48.628Z"
   },
   {
    "duration": 11,
    "start_time": "2025-01-06T09:51:48.687Z"
   },
   {
    "duration": 16,
    "start_time": "2025-01-06T09:51:48.700Z"
   },
   {
    "duration": 4,
    "start_time": "2025-01-06T09:51:48.717Z"
   },
   {
    "duration": 10,
    "start_time": "2025-01-06T09:51:48.723Z"
   },
   {
    "duration": 2,
    "start_time": "2025-01-06T09:51:48.736Z"
   },
   {
    "duration": 31,
    "start_time": "2025-01-06T09:51:48.740Z"
   },
   {
    "duration": 3,
    "start_time": "2025-01-06T09:51:48.772Z"
   },
   {
    "duration": 13,
    "start_time": "2025-01-06T09:51:48.777Z"
   },
   {
    "duration": 521,
    "start_time": "2025-01-06T09:51:48.792Z"
   },
   {
    "duration": 109,
    "start_time": "2025-01-06T09:51:49.315Z"
   },
   {
    "duration": 9,
    "start_time": "2025-01-06T09:51:49.426Z"
   },
   {
    "duration": 7,
    "start_time": "2025-01-06T09:51:49.437Z"
   },
   {
    "duration": 24,
    "start_time": "2025-01-06T09:51:49.446Z"
   },
   {
    "duration": 4,
    "start_time": "2025-01-06T09:51:49.474Z"
   },
   {
    "duration": 4,
    "start_time": "2025-01-06T09:51:49.481Z"
   },
   {
    "duration": 4,
    "start_time": "2025-01-06T09:51:49.487Z"
   },
   {
    "duration": 85,
    "start_time": "2025-01-06T09:51:49.494Z"
   },
   {
    "duration": 3,
    "start_time": "2025-01-06T09:51:49.580Z"
   },
   {
    "duration": 3,
    "start_time": "2025-01-06T09:51:49.585Z"
   },
   {
    "duration": 3,
    "start_time": "2025-01-06T09:51:49.589Z"
   },
   {
    "duration": 12,
    "start_time": "2025-01-06T09:51:49.594Z"
   },
   {
    "duration": 534,
    "start_time": "2025-01-06T09:51:49.607Z"
   },
   {
    "duration": 102,
    "start_time": "2025-01-06T09:51:50.144Z"
   },
   {
    "duration": 7,
    "start_time": "2025-01-06T09:51:50.248Z"
   },
   {
    "duration": 18,
    "start_time": "2025-01-06T09:51:50.257Z"
   },
   {
    "duration": 2,
    "start_time": "2025-01-06T09:51:50.277Z"
   },
   {
    "duration": 5,
    "start_time": "2025-01-06T09:51:50.281Z"
   },
   {
    "duration": 4,
    "start_time": "2025-01-06T09:51:50.288Z"
   },
   {
    "duration": 4,
    "start_time": "2025-01-06T09:51:50.293Z"
   },
   {
    "duration": 81,
    "start_time": "2025-01-06T09:51:50.299Z"
   },
   {
    "duration": 3,
    "start_time": "2025-01-06T09:51:50.382Z"
   },
   {
    "duration": 2,
    "start_time": "2025-01-06T09:51:50.388Z"
   },
   {
    "duration": 2,
    "start_time": "2025-01-06T09:51:50.392Z"
   },
   {
    "duration": 17,
    "start_time": "2025-01-06T09:51:50.398Z"
   },
   {
    "duration": 556,
    "start_time": "2025-01-06T09:51:50.416Z"
   },
   {
    "duration": 106,
    "start_time": "2025-01-06T09:51:50.974Z"
   },
   {
    "duration": 9,
    "start_time": "2025-01-06T09:51:51.082Z"
   },
   {
    "duration": 7,
    "start_time": "2025-01-06T09:51:51.092Z"
   },
   {
    "duration": 5,
    "start_time": "2025-01-06T09:51:51.101Z"
   },
   {
    "duration": 5,
    "start_time": "2025-01-06T09:51:51.108Z"
   },
   {
    "duration": 57,
    "start_time": "2025-01-06T09:51:51.116Z"
   },
   {
    "duration": 3027,
    "start_time": "2025-01-06T14:31:02.376Z"
   },
   {
    "duration": 356,
    "start_time": "2025-01-06T14:31:05.410Z"
   },
   {
    "duration": 66,
    "start_time": "2025-01-06T14:31:05.768Z"
   },
   {
    "duration": 41,
    "start_time": "2025-01-06T14:31:05.835Z"
   },
   {
    "duration": 53,
    "start_time": "2025-01-06T14:31:05.879Z"
   },
   {
    "duration": 12,
    "start_time": "2025-01-06T14:31:05.934Z"
   },
   {
    "duration": 15,
    "start_time": "2025-01-06T14:31:05.947Z"
   },
   {
    "duration": 4,
    "start_time": "2025-01-06T14:31:05.964Z"
   },
   {
    "duration": 10,
    "start_time": "2025-01-06T14:31:05.970Z"
   },
   {
    "duration": 4,
    "start_time": "2025-01-06T14:31:05.981Z"
   },
   {
    "duration": 21,
    "start_time": "2025-01-06T14:31:05.987Z"
   },
   {
    "duration": 6,
    "start_time": "2025-01-06T14:31:06.010Z"
   },
   {
    "duration": 350,
    "start_time": "2025-01-06T14:31:06.017Z"
   },
   {
    "duration": 0,
    "start_time": "2025-01-06T14:31:06.370Z"
   },
   {
    "duration": 0,
    "start_time": "2025-01-06T14:31:06.372Z"
   },
   {
    "duration": 0,
    "start_time": "2025-01-06T14:31:06.373Z"
   },
   {
    "duration": 0,
    "start_time": "2025-01-06T14:31:06.374Z"
   },
   {
    "duration": 0,
    "start_time": "2025-01-06T14:31:06.376Z"
   },
   {
    "duration": 0,
    "start_time": "2025-01-06T14:31:06.377Z"
   },
   {
    "duration": 0,
    "start_time": "2025-01-06T14:31:06.378Z"
   },
   {
    "duration": 0,
    "start_time": "2025-01-06T14:31:06.379Z"
   },
   {
    "duration": 0,
    "start_time": "2025-01-06T14:31:06.380Z"
   },
   {
    "duration": 0,
    "start_time": "2025-01-06T14:31:06.381Z"
   },
   {
    "duration": 0,
    "start_time": "2025-01-06T14:31:06.383Z"
   },
   {
    "duration": 0,
    "start_time": "2025-01-06T14:31:06.384Z"
   },
   {
    "duration": 0,
    "start_time": "2025-01-06T14:31:06.385Z"
   },
   {
    "duration": 1,
    "start_time": "2025-01-06T14:31:06.385Z"
   },
   {
    "duration": 0,
    "start_time": "2025-01-06T14:31:06.387Z"
   },
   {
    "duration": 0,
    "start_time": "2025-01-06T14:31:06.388Z"
   },
   {
    "duration": 0,
    "start_time": "2025-01-06T14:31:06.424Z"
   },
   {
    "duration": 0,
    "start_time": "2025-01-06T14:31:06.425Z"
   },
   {
    "duration": 0,
    "start_time": "2025-01-06T14:31:06.426Z"
   },
   {
    "duration": 0,
    "start_time": "2025-01-06T14:31:06.426Z"
   },
   {
    "duration": 0,
    "start_time": "2025-01-06T14:31:06.427Z"
   },
   {
    "duration": 0,
    "start_time": "2025-01-06T14:31:06.428Z"
   },
   {
    "duration": 0,
    "start_time": "2025-01-06T14:31:06.428Z"
   },
   {
    "duration": 0,
    "start_time": "2025-01-06T14:31:06.429Z"
   },
   {
    "duration": 0,
    "start_time": "2025-01-06T14:31:06.430Z"
   },
   {
    "duration": 0,
    "start_time": "2025-01-06T14:31:06.430Z"
   },
   {
    "duration": 0,
    "start_time": "2025-01-06T14:31:06.431Z"
   },
   {
    "duration": 0,
    "start_time": "2025-01-06T14:31:06.431Z"
   },
   {
    "duration": 0,
    "start_time": "2025-01-06T14:31:06.437Z"
   },
   {
    "duration": 0,
    "start_time": "2025-01-06T14:31:06.438Z"
   },
   {
    "duration": 0,
    "start_time": "2025-01-06T14:31:06.439Z"
   },
   {
    "duration": 0,
    "start_time": "2025-01-06T14:31:06.440Z"
   },
   {
    "duration": 0,
    "start_time": "2025-01-06T14:31:06.442Z"
   },
   {
    "duration": 3,
    "start_time": "2025-01-06T14:31:24.038Z"
   },
   {
    "duration": 286,
    "start_time": "2025-01-06T14:31:24.043Z"
   },
   {
    "duration": 44,
    "start_time": "2025-01-06T14:31:24.331Z"
   },
   {
    "duration": 57,
    "start_time": "2025-01-06T14:31:24.377Z"
   },
   {
    "duration": 45,
    "start_time": "2025-01-06T14:31:24.436Z"
   },
   {
    "duration": 9,
    "start_time": "2025-01-06T14:31:24.483Z"
   },
   {
    "duration": 41,
    "start_time": "2025-01-06T14:31:24.494Z"
   },
   {
    "duration": 4,
    "start_time": "2025-01-06T14:31:24.537Z"
   },
   {
    "duration": 8,
    "start_time": "2025-01-06T14:31:24.543Z"
   },
   {
    "duration": 3,
    "start_time": "2025-01-06T14:31:24.553Z"
   },
   {
    "duration": 4,
    "start_time": "2025-01-06T14:31:24.559Z"
   },
   {
    "duration": 2,
    "start_time": "2025-01-06T14:31:24.564Z"
   },
   {
    "duration": 10,
    "start_time": "2025-01-06T14:31:24.568Z"
   },
   {
    "duration": 568,
    "start_time": "2025-01-06T14:31:24.579Z"
   },
   {
    "duration": 123,
    "start_time": "2025-01-06T14:31:25.149Z"
   },
   {
    "duration": 8,
    "start_time": "2025-01-06T14:31:25.274Z"
   },
   {
    "duration": 7,
    "start_time": "2025-01-06T14:31:25.284Z"
   },
   {
    "duration": 29,
    "start_time": "2025-01-06T14:31:25.292Z"
   },
   {
    "duration": 98,
    "start_time": "2025-01-06T14:31:25.322Z"
   },
   {
    "duration": 0,
    "start_time": "2025-01-06T14:31:25.434Z"
   },
   {
    "duration": 0,
    "start_time": "2025-01-06T14:31:25.435Z"
   },
   {
    "duration": 0,
    "start_time": "2025-01-06T14:31:25.436Z"
   },
   {
    "duration": 0,
    "start_time": "2025-01-06T14:31:25.437Z"
   },
   {
    "duration": 0,
    "start_time": "2025-01-06T14:31:25.438Z"
   },
   {
    "duration": 0,
    "start_time": "2025-01-06T14:31:25.439Z"
   },
   {
    "duration": 0,
    "start_time": "2025-01-06T14:31:25.440Z"
   },
   {
    "duration": 0,
    "start_time": "2025-01-06T14:31:25.441Z"
   },
   {
    "duration": 0,
    "start_time": "2025-01-06T14:31:25.443Z"
   },
   {
    "duration": 0,
    "start_time": "2025-01-06T14:31:25.444Z"
   },
   {
    "duration": 0,
    "start_time": "2025-01-06T14:31:25.445Z"
   },
   {
    "duration": 0,
    "start_time": "2025-01-06T14:31:25.446Z"
   },
   {
    "duration": 0,
    "start_time": "2025-01-06T14:31:25.447Z"
   },
   {
    "duration": 0,
    "start_time": "2025-01-06T14:31:25.448Z"
   },
   {
    "duration": 0,
    "start_time": "2025-01-06T14:31:25.450Z"
   },
   {
    "duration": 0,
    "start_time": "2025-01-06T14:31:25.452Z"
   },
   {
    "duration": 0,
    "start_time": "2025-01-06T14:31:25.453Z"
   },
   {
    "duration": 0,
    "start_time": "2025-01-06T14:31:25.454Z"
   },
   {
    "duration": 0,
    "start_time": "2025-01-06T14:31:25.455Z"
   },
   {
    "duration": 0,
    "start_time": "2025-01-06T14:31:25.456Z"
   },
   {
    "duration": 0,
    "start_time": "2025-01-06T14:31:25.457Z"
   },
   {
    "duration": 0,
    "start_time": "2025-01-06T14:31:25.458Z"
   },
   {
    "duration": 0,
    "start_time": "2025-01-06T14:31:25.459Z"
   },
   {
    "duration": 0,
    "start_time": "2025-01-06T14:31:25.459Z"
   },
   {
    "duration": 0,
    "start_time": "2025-01-06T14:31:25.460Z"
   },
   {
    "duration": 0,
    "start_time": "2025-01-06T14:31:25.462Z"
   },
   {
    "duration": 0,
    "start_time": "2025-01-06T14:31:25.463Z"
   },
   {
    "duration": 3,
    "start_time": "2025-01-06T14:31:37.438Z"
   },
   {
    "duration": 250,
    "start_time": "2025-01-06T14:31:37.443Z"
   },
   {
    "duration": 63,
    "start_time": "2025-01-06T14:31:37.695Z"
   },
   {
    "duration": 41,
    "start_time": "2025-01-06T14:31:37.760Z"
   },
   {
    "duration": 53,
    "start_time": "2025-01-06T14:31:37.804Z"
   },
   {
    "duration": 10,
    "start_time": "2025-01-06T14:31:37.859Z"
   },
   {
    "duration": 15,
    "start_time": "2025-01-06T14:31:37.871Z"
   },
   {
    "duration": 37,
    "start_time": "2025-01-06T14:31:37.887Z"
   },
   {
    "duration": 10,
    "start_time": "2025-01-06T14:31:37.933Z"
   },
   {
    "duration": 4,
    "start_time": "2025-01-06T14:31:37.944Z"
   },
   {
    "duration": 2,
    "start_time": "2025-01-06T14:31:37.950Z"
   },
   {
    "duration": 2,
    "start_time": "2025-01-06T14:31:37.954Z"
   },
   {
    "duration": 11,
    "start_time": "2025-01-06T14:31:37.959Z"
   },
   {
    "duration": 597,
    "start_time": "2025-01-06T14:31:37.971Z"
   },
   {
    "duration": 116,
    "start_time": "2025-01-06T14:31:38.570Z"
   },
   {
    "duration": 8,
    "start_time": "2025-01-06T14:31:38.687Z"
   },
   {
    "duration": 39,
    "start_time": "2025-01-06T14:31:38.697Z"
   },
   {
    "duration": 9,
    "start_time": "2025-01-06T14:31:38.738Z"
   },
   {
    "duration": 6,
    "start_time": "2025-01-06T14:31:38.749Z"
   },
   {
    "duration": 4,
    "start_time": "2025-01-06T14:31:38.757Z"
   },
   {
    "duration": 10,
    "start_time": "2025-01-06T14:31:38.810Z"
   },
   {
    "duration": 25,
    "start_time": "2025-01-06T14:31:38.822Z"
   },
   {
    "duration": 3,
    "start_time": "2025-01-06T14:31:38.848Z"
   },
   {
    "duration": 3,
    "start_time": "2025-01-06T14:31:38.853Z"
   },
   {
    "duration": 3,
    "start_time": "2025-01-06T14:31:38.857Z"
   },
   {
    "duration": 67,
    "start_time": "2025-01-06T14:31:38.861Z"
   },
   {
    "duration": 513,
    "start_time": "2025-01-06T14:31:38.930Z"
   },
   {
    "duration": 109,
    "start_time": "2025-01-06T14:31:39.445Z"
   },
   {
    "duration": 8,
    "start_time": "2025-01-06T14:31:39.555Z"
   },
   {
    "duration": 7,
    "start_time": "2025-01-06T14:31:39.565Z"
   },
   {
    "duration": 55,
    "start_time": "2025-01-06T14:31:39.574Z"
   },
   {
    "duration": 13,
    "start_time": "2025-01-06T14:31:39.633Z"
   },
   {
    "duration": 69,
    "start_time": "2025-01-06T14:31:39.648Z"
   },
   {
    "duration": 11,
    "start_time": "2025-01-06T14:31:39.721Z"
   },
   {
    "duration": 11,
    "start_time": "2025-01-06T14:31:39.738Z"
   },
   {
    "duration": 3,
    "start_time": "2025-01-06T14:31:39.751Z"
   },
   {
    "duration": 2,
    "start_time": "2025-01-06T14:31:39.761Z"
   },
   {
    "duration": 2,
    "start_time": "2025-01-06T14:31:39.765Z"
   },
   {
    "duration": 51,
    "start_time": "2025-01-06T14:31:39.769Z"
   },
   {
    "duration": 533,
    "start_time": "2025-01-06T14:31:39.833Z"
   },
   {
    "duration": 204,
    "start_time": "2025-01-06T14:31:40.367Z"
   },
   {
    "duration": 9,
    "start_time": "2025-01-06T14:31:40.573Z"
   },
   {
    "duration": 7,
    "start_time": "2025-01-06T14:31:40.583Z"
   },
   {
    "duration": 40,
    "start_time": "2025-01-06T14:31:40.592Z"
   },
   {
    "duration": 5,
    "start_time": "2025-01-06T14:31:40.637Z"
   },
   {
    "duration": 4,
    "start_time": "2025-01-06T14:31:40.643Z"
   },
   {
    "duration": 1083,
    "start_time": "2025-01-06T15:19:13.862Z"
   },
   {
    "duration": 250,
    "start_time": "2025-01-06T15:19:14.947Z"
   },
   {
    "duration": 67,
    "start_time": "2025-01-06T15:19:15.199Z"
   },
   {
    "duration": 60,
    "start_time": "2025-01-06T15:19:15.270Z"
   },
   {
    "duration": 44,
    "start_time": "2025-01-06T15:19:15.332Z"
   },
   {
    "duration": 11,
    "start_time": "2025-01-06T15:19:15.378Z"
   },
   {
    "duration": 37,
    "start_time": "2025-01-06T15:19:15.391Z"
   },
   {
    "duration": 4,
    "start_time": "2025-01-06T15:19:15.435Z"
   },
   {
    "duration": 11,
    "start_time": "2025-01-06T15:19:15.441Z"
   },
   {
    "duration": 3,
    "start_time": "2025-01-06T15:19:15.456Z"
   },
   {
    "duration": 3,
    "start_time": "2025-01-06T15:19:15.461Z"
   },
   {
    "duration": 2,
    "start_time": "2025-01-06T15:19:15.465Z"
   },
   {
    "duration": 13,
    "start_time": "2025-01-06T15:19:15.469Z"
   },
   {
    "duration": 557,
    "start_time": "2025-01-06T15:19:15.483Z"
   },
   {
    "duration": 104,
    "start_time": "2025-01-06T15:19:16.042Z"
   },
   {
    "duration": 8,
    "start_time": "2025-01-06T15:19:16.148Z"
   },
   {
    "duration": 7,
    "start_time": "2025-01-06T15:19:16.158Z"
   },
   {
    "duration": 3,
    "start_time": "2025-01-06T15:19:16.166Z"
   },
   {
    "duration": 38,
    "start_time": "2025-01-06T15:19:16.171Z"
   },
   {
    "duration": 2,
    "start_time": "2025-01-06T15:19:16.213Z"
   },
   {
    "duration": 4,
    "start_time": "2025-01-06T15:19:16.216Z"
   },
   {
    "duration": 25,
    "start_time": "2025-01-06T15:19:16.222Z"
   },
   {
    "duration": 61,
    "start_time": "2025-01-06T15:19:16.251Z"
   },
   {
    "duration": 19,
    "start_time": "2025-01-06T15:19:16.314Z"
   },
   {
    "duration": 3,
    "start_time": "2025-01-06T15:19:16.334Z"
   },
   {
    "duration": 12,
    "start_time": "2025-01-06T15:19:16.338Z"
   },
   {
    "duration": 503,
    "start_time": "2025-01-06T15:19:16.351Z"
   },
   {
    "duration": 106,
    "start_time": "2025-01-06T15:19:16.860Z"
   },
   {
    "duration": 9,
    "start_time": "2025-01-06T15:19:16.968Z"
   },
   {
    "duration": 7,
    "start_time": "2025-01-06T15:19:16.978Z"
   },
   {
    "duration": 22,
    "start_time": "2025-01-06T15:19:16.986Z"
   },
   {
    "duration": 8,
    "start_time": "2025-01-06T15:19:17.009Z"
   },
   {
    "duration": 4,
    "start_time": "2025-01-06T15:19:17.019Z"
   },
   {
    "duration": 7,
    "start_time": "2025-01-06T15:19:17.025Z"
   },
   {
    "duration": 94,
    "start_time": "2025-01-06T15:19:17.035Z"
   },
   {
    "duration": 3,
    "start_time": "2025-01-06T15:19:17.131Z"
   },
   {
    "duration": 2,
    "start_time": "2025-01-06T15:19:17.136Z"
   },
   {
    "duration": 3,
    "start_time": "2025-01-06T15:19:17.140Z"
   },
   {
    "duration": 16,
    "start_time": "2025-01-06T15:19:17.144Z"
   },
   {
    "duration": 507,
    "start_time": "2025-01-06T15:19:17.162Z"
   },
   {
    "duration": 105,
    "start_time": "2025-01-06T15:19:17.671Z"
   },
   {
    "duration": 8,
    "start_time": "2025-01-06T15:19:17.778Z"
   },
   {
    "duration": 45,
    "start_time": "2025-01-06T15:19:17.788Z"
   },
   {
    "duration": 3,
    "start_time": "2025-01-06T15:19:17.835Z"
   },
   {
    "duration": 7,
    "start_time": "2025-01-06T15:19:17.839Z"
   },
   {
    "duration": 4,
    "start_time": "2025-01-06T15:19:17.849Z"
   },
   {
    "duration": 1135,
    "start_time": "2025-01-06T15:22:11.767Z"
   },
   {
    "duration": 285,
    "start_time": "2025-01-06T15:22:12.905Z"
   },
   {
    "duration": 66,
    "start_time": "2025-01-06T15:22:13.192Z"
   },
   {
    "duration": 51,
    "start_time": "2025-01-06T15:22:13.261Z"
   },
   {
    "duration": 50,
    "start_time": "2025-01-06T15:22:13.325Z"
   },
   {
    "duration": 11,
    "start_time": "2025-01-06T15:22:13.377Z"
   },
   {
    "duration": 34,
    "start_time": "2025-01-06T15:22:13.390Z"
   },
   {
    "duration": 4,
    "start_time": "2025-01-06T15:22:13.434Z"
   },
   {
    "duration": 10,
    "start_time": "2025-01-06T15:22:13.440Z"
   },
   {
    "duration": 3,
    "start_time": "2025-01-06T15:22:13.454Z"
   },
   {
    "duration": 3,
    "start_time": "2025-01-06T15:22:13.459Z"
   },
   {
    "duration": 2,
    "start_time": "2025-01-06T15:22:13.464Z"
   },
   {
    "duration": 11,
    "start_time": "2025-01-06T15:22:13.468Z"
   },
   {
    "duration": 565,
    "start_time": "2025-01-06T15:22:13.481Z"
   },
   {
    "duration": 118,
    "start_time": "2025-01-06T15:22:14.048Z"
   },
   {
    "duration": 8,
    "start_time": "2025-01-06T15:22:14.168Z"
   },
   {
    "duration": 7,
    "start_time": "2025-01-06T15:22:14.178Z"
   },
   {
    "duration": 37,
    "start_time": "2025-01-06T15:22:14.187Z"
   },
   {
    "duration": 7,
    "start_time": "2025-01-06T15:22:14.225Z"
   },
   {
    "duration": 9,
    "start_time": "2025-01-06T15:22:14.235Z"
   },
   {
    "duration": 7,
    "start_time": "2025-01-06T15:22:14.247Z"
   },
   {
    "duration": 76,
    "start_time": "2025-01-06T15:22:14.256Z"
   },
   {
    "duration": 4,
    "start_time": "2025-01-06T15:22:14.335Z"
   },
   {
    "duration": 3,
    "start_time": "2025-01-06T15:22:14.341Z"
   },
   {
    "duration": 2,
    "start_time": "2025-01-06T15:22:14.346Z"
   },
   {
    "duration": 13,
    "start_time": "2025-01-06T15:22:14.350Z"
   },
   {
    "duration": 527,
    "start_time": "2025-01-06T15:22:14.365Z"
   },
   {
    "duration": 131,
    "start_time": "2025-01-06T15:22:14.897Z"
   },
   {
    "duration": 12,
    "start_time": "2025-01-06T15:22:15.030Z"
   },
   {
    "duration": 7,
    "start_time": "2025-01-06T15:22:15.044Z"
   },
   {
    "duration": 2,
    "start_time": "2025-01-06T15:22:15.053Z"
   },
   {
    "duration": 3,
    "start_time": "2025-01-06T15:22:15.057Z"
   },
   {
    "duration": 3,
    "start_time": "2025-01-06T15:22:15.062Z"
   },
   {
    "duration": 10,
    "start_time": "2025-01-06T15:22:15.109Z"
   },
   {
    "duration": 23,
    "start_time": "2025-01-06T15:22:15.124Z"
   },
   {
    "duration": 4,
    "start_time": "2025-01-06T15:22:15.148Z"
   },
   {
    "duration": 75,
    "start_time": "2025-01-06T15:22:15.153Z"
   },
   {
    "duration": 3,
    "start_time": "2025-01-06T15:22:15.231Z"
   },
   {
    "duration": 12,
    "start_time": "2025-01-06T15:22:15.236Z"
   },
   {
    "duration": 492,
    "start_time": "2025-01-06T15:22:15.249Z"
   },
   {
    "duration": 110,
    "start_time": "2025-01-06T15:22:15.743Z"
   },
   {
    "duration": 9,
    "start_time": "2025-01-06T15:22:15.856Z"
   },
   {
    "duration": 6,
    "start_time": "2025-01-06T15:22:15.867Z"
   },
   {
    "duration": 2,
    "start_time": "2025-01-06T15:22:15.875Z"
   },
   {
    "duration": 3,
    "start_time": "2025-01-06T15:22:15.879Z"
   },
   {
    "duration": 48,
    "start_time": "2025-01-06T15:22:15.884Z"
   },
   {
    "duration": 2764,
    "start_time": "2025-01-06T22:02:58.820Z"
   },
   {
    "duration": 298,
    "start_time": "2025-01-06T22:03:01.586Z"
   },
   {
    "duration": 46,
    "start_time": "2025-01-06T22:03:01.886Z"
   },
   {
    "duration": 44,
    "start_time": "2025-01-06T22:03:01.936Z"
   },
   {
    "duration": 57,
    "start_time": "2025-01-06T22:03:01.983Z"
   },
   {
    "duration": 12,
    "start_time": "2025-01-06T22:03:02.042Z"
   },
   {
    "duration": 16,
    "start_time": "2025-01-06T22:03:02.056Z"
   },
   {
    "duration": 4,
    "start_time": "2025-01-06T22:03:02.074Z"
   },
   {
    "duration": 36,
    "start_time": "2025-01-06T22:03:02.080Z"
   },
   {
    "duration": 2,
    "start_time": "2025-01-06T22:03:02.119Z"
   },
   {
    "duration": 3,
    "start_time": "2025-01-06T22:03:02.123Z"
   },
   {
    "duration": 2,
    "start_time": "2025-01-06T22:03:02.128Z"
   },
   {
    "duration": 13,
    "start_time": "2025-01-06T22:03:02.132Z"
   },
   {
    "duration": 608,
    "start_time": "2025-01-06T22:03:02.148Z"
   },
   {
    "duration": 107,
    "start_time": "2025-01-06T22:03:02.757Z"
   },
   {
    "duration": 8,
    "start_time": "2025-01-06T22:03:02.867Z"
   },
   {
    "duration": 238,
    "start_time": "2025-01-06T22:03:02.877Z"
   },
   {
    "duration": 0,
    "start_time": "2025-01-06T22:03:03.117Z"
   },
   {
    "duration": 0,
    "start_time": "2025-01-06T22:03:03.119Z"
   },
   {
    "duration": 0,
    "start_time": "2025-01-06T22:03:03.120Z"
   },
   {
    "duration": 0,
    "start_time": "2025-01-06T22:03:03.121Z"
   },
   {
    "duration": 0,
    "start_time": "2025-01-06T22:03:03.123Z"
   },
   {
    "duration": 0,
    "start_time": "2025-01-06T22:03:03.124Z"
   },
   {
    "duration": 0,
    "start_time": "2025-01-06T22:03:03.125Z"
   },
   {
    "duration": 0,
    "start_time": "2025-01-06T22:03:03.126Z"
   },
   {
    "duration": 0,
    "start_time": "2025-01-06T22:03:03.127Z"
   },
   {
    "duration": 0,
    "start_time": "2025-01-06T22:03:03.127Z"
   },
   {
    "duration": 0,
    "start_time": "2025-01-06T22:03:03.128Z"
   },
   {
    "duration": 0,
    "start_time": "2025-01-06T22:03:03.129Z"
   },
   {
    "duration": 0,
    "start_time": "2025-01-06T22:03:03.131Z"
   },
   {
    "duration": 0,
    "start_time": "2025-01-06T22:03:03.132Z"
   },
   {
    "duration": 0,
    "start_time": "2025-01-06T22:03:03.134Z"
   },
   {
    "duration": 0,
    "start_time": "2025-01-06T22:03:03.135Z"
   },
   {
    "duration": 1,
    "start_time": "2025-01-06T22:03:03.135Z"
   },
   {
    "duration": 0,
    "start_time": "2025-01-06T22:03:03.136Z"
   },
   {
    "duration": 0,
    "start_time": "2025-01-06T22:03:03.137Z"
   },
   {
    "duration": 0,
    "start_time": "2025-01-06T22:03:03.139Z"
   },
   {
    "duration": 0,
    "start_time": "2025-01-06T22:03:03.141Z"
   },
   {
    "duration": 0,
    "start_time": "2025-01-06T22:03:03.142Z"
   },
   {
    "duration": 0,
    "start_time": "2025-01-06T22:03:03.144Z"
   },
   {
    "duration": 0,
    "start_time": "2025-01-06T22:03:03.145Z"
   },
   {
    "duration": 0,
    "start_time": "2025-01-06T22:03:03.147Z"
   },
   {
    "duration": 0,
    "start_time": "2025-01-06T22:03:03.149Z"
   },
   {
    "duration": 0,
    "start_time": "2025-01-06T22:03:03.152Z"
   },
   {
    "duration": 0,
    "start_time": "2025-01-06T22:03:03.209Z"
   },
   {
    "duration": 0,
    "start_time": "2025-01-06T22:03:03.211Z"
   },
   {
    "duration": 0,
    "start_time": "2025-01-06T22:03:03.212Z"
   },
   {
    "duration": 0,
    "start_time": "2025-01-06T22:03:03.214Z"
   },
   {
    "duration": 4,
    "start_time": "2025-01-06T22:03:26.566Z"
   },
   {
    "duration": 222,
    "start_time": "2025-01-06T22:03:26.572Z"
   },
   {
    "duration": 52,
    "start_time": "2025-01-06T22:03:26.796Z"
   },
   {
    "duration": 43,
    "start_time": "2025-01-06T22:03:26.849Z"
   },
   {
    "duration": 46,
    "start_time": "2025-01-06T22:03:26.908Z"
   },
   {
    "duration": 10,
    "start_time": "2025-01-06T22:03:26.955Z"
   },
   {
    "duration": 17,
    "start_time": "2025-01-06T22:03:26.966Z"
   },
   {
    "duration": 25,
    "start_time": "2025-01-06T22:03:26.985Z"
   },
   {
    "duration": 10,
    "start_time": "2025-01-06T22:03:27.011Z"
   },
   {
    "duration": 4,
    "start_time": "2025-01-06T22:03:27.023Z"
   },
   {
    "duration": 3,
    "start_time": "2025-01-06T22:03:27.030Z"
   },
   {
    "duration": 3,
    "start_time": "2025-01-06T22:03:27.034Z"
   },
   {
    "duration": 11,
    "start_time": "2025-01-06T22:03:27.039Z"
   },
   {
    "duration": 528,
    "start_time": "2025-01-06T22:03:27.051Z"
   },
   {
    "duration": 118,
    "start_time": "2025-01-06T22:03:27.581Z"
   },
   {
    "duration": 16,
    "start_time": "2025-01-06T22:03:27.701Z"
   },
   {
    "duration": 9,
    "start_time": "2025-01-06T22:03:27.719Z"
   },
   {
    "duration": 100,
    "start_time": "2025-01-06T22:03:27.729Z"
   },
   {
    "duration": 3,
    "start_time": "2025-01-06T22:03:27.831Z"
   },
   {
    "duration": 73,
    "start_time": "2025-01-06T22:03:27.836Z"
   },
   {
    "duration": 4,
    "start_time": "2025-01-06T22:03:27.911Z"
   },
   {
    "duration": 5,
    "start_time": "2025-01-06T22:03:27.918Z"
   },
   {
    "duration": 5,
    "start_time": "2025-01-06T22:03:27.928Z"
   },
   {
    "duration": 10,
    "start_time": "2025-01-06T22:03:28.009Z"
   },
   {
    "duration": 4,
    "start_time": "2025-01-06T22:03:28.020Z"
   },
   {
    "duration": 3,
    "start_time": "2025-01-06T22:03:28.025Z"
   },
   {
    "duration": 3,
    "start_time": "2025-01-06T22:03:28.030Z"
   },
   {
    "duration": 12,
    "start_time": "2025-01-06T22:03:28.034Z"
   },
   {
    "duration": 559,
    "start_time": "2025-01-06T22:03:28.050Z"
   },
   {
    "duration": 109,
    "start_time": "2025-01-06T22:03:28.610Z"
   },
   {
    "duration": 8,
    "start_time": "2025-01-06T22:03:28.721Z"
   },
   {
    "duration": 9,
    "start_time": "2025-01-06T22:03:28.731Z"
   },
   {
    "duration": 9,
    "start_time": "2025-01-06T22:03:28.742Z"
   },
   {
    "duration": 3,
    "start_time": "2025-01-06T22:03:28.752Z"
   },
   {
    "duration": 3,
    "start_time": "2025-01-06T22:03:28.810Z"
   },
   {
    "duration": 4,
    "start_time": "2025-01-06T22:03:28.815Z"
   },
   {
    "duration": 91,
    "start_time": "2025-01-06T22:03:28.820Z"
   },
   {
    "duration": 3,
    "start_time": "2025-01-06T22:03:28.913Z"
   },
   {
    "duration": 3,
    "start_time": "2025-01-06T22:03:28.918Z"
   },
   {
    "duration": 3,
    "start_time": "2025-01-06T22:03:28.922Z"
   },
   {
    "duration": 12,
    "start_time": "2025-01-06T22:03:28.927Z"
   },
   {
    "duration": 562,
    "start_time": "2025-01-06T22:03:28.940Z"
   },
   {
    "duration": 174,
    "start_time": "2025-01-06T22:03:29.508Z"
   },
   {
    "duration": 9,
    "start_time": "2025-01-06T22:03:29.684Z"
   },
   {
    "duration": 19,
    "start_time": "2025-01-06T22:03:29.695Z"
   },
   {
    "duration": 3,
    "start_time": "2025-01-06T22:03:29.716Z"
   },
   {
    "duration": 4,
    "start_time": "2025-01-06T22:03:29.720Z"
   },
   {
    "duration": 3,
    "start_time": "2025-01-06T22:03:29.726Z"
   },
   {
    "duration": 4,
    "start_time": "2025-01-06T22:04:21.549Z"
   },
   {
    "duration": 2670,
    "start_time": "2025-01-07T03:33:17.366Z"
   },
   {
    "duration": 311,
    "start_time": "2025-01-07T03:33:20.038Z"
   },
   {
    "duration": 50,
    "start_time": "2025-01-07T03:33:20.350Z"
   },
   {
    "duration": 46,
    "start_time": "2025-01-07T03:33:20.403Z"
   },
   {
    "duration": 61,
    "start_time": "2025-01-07T03:33:20.451Z"
   },
   {
    "duration": 12,
    "start_time": "2025-01-07T03:33:20.514Z"
   },
   {
    "duration": 16,
    "start_time": "2025-01-07T03:33:20.527Z"
   },
   {
    "duration": 4,
    "start_time": "2025-01-07T03:33:20.544Z"
   },
   {
    "duration": 10,
    "start_time": "2025-01-07T03:33:20.549Z"
   },
   {
    "duration": 25,
    "start_time": "2025-01-07T03:33:20.562Z"
   },
   {
    "duration": 2,
    "start_time": "2025-01-07T03:33:20.590Z"
   },
   {
    "duration": 2,
    "start_time": "2025-01-07T03:33:20.594Z"
   },
   {
    "duration": 12,
    "start_time": "2025-01-07T03:33:20.598Z"
   },
   {
    "duration": 509,
    "start_time": "2025-01-07T03:33:20.611Z"
   },
   {
    "duration": 110,
    "start_time": "2025-01-07T03:33:21.121Z"
   },
   {
    "duration": 8,
    "start_time": "2025-01-07T03:33:21.233Z"
   },
   {
    "duration": 7,
    "start_time": "2025-01-07T03:33:21.243Z"
   },
   {
    "duration": 136,
    "start_time": "2025-01-07T03:33:21.252Z"
   },
   {
    "duration": 5,
    "start_time": "2025-01-07T03:33:21.391Z"
   },
   {
    "duration": 4,
    "start_time": "2025-01-07T03:33:21.398Z"
   },
   {
    "duration": 4,
    "start_time": "2025-01-07T03:33:21.404Z"
   },
   {
    "duration": 79,
    "start_time": "2025-01-07T03:33:21.410Z"
   },
   {
    "duration": 5,
    "start_time": "2025-01-07T03:33:21.491Z"
   },
   {
    "duration": 10,
    "start_time": "2025-01-07T03:33:21.498Z"
   },
   {
    "duration": 4,
    "start_time": "2025-01-07T03:33:21.509Z"
   },
   {
    "duration": 2,
    "start_time": "2025-01-07T03:33:21.515Z"
   },
   {
    "duration": 3,
    "start_time": "2025-01-07T03:33:21.518Z"
   },
   {
    "duration": 65,
    "start_time": "2025-01-07T03:33:21.526Z"
   },
   {
    "duration": 510,
    "start_time": "2025-01-07T03:33:21.593Z"
   },
   {
    "duration": 162,
    "start_time": "2025-01-07T03:33:22.105Z"
   },
   {
    "duration": 17,
    "start_time": "2025-01-07T03:33:22.269Z"
   },
   {
    "duration": 6,
    "start_time": "2025-01-07T03:33:22.288Z"
   },
   {
    "duration": 109,
    "start_time": "2025-01-07T03:33:22.296Z"
   },
   {
    "duration": 3,
    "start_time": "2025-01-07T03:33:22.407Z"
   },
   {
    "duration": 79,
    "start_time": "2025-01-07T03:33:22.411Z"
   },
   {
    "duration": 3,
    "start_time": "2025-01-07T03:33:22.492Z"
   },
   {
    "duration": 2,
    "start_time": "2025-01-07T03:33:22.497Z"
   },
   {
    "duration": 5,
    "start_time": "2025-01-07T03:33:22.501Z"
   },
   {
    "duration": 81,
    "start_time": "2025-01-07T03:33:22.508Z"
   },
   {
    "duration": 3,
    "start_time": "2025-01-07T03:33:22.591Z"
   },
   {
    "duration": 3,
    "start_time": "2025-01-07T03:33:22.595Z"
   },
   {
    "duration": 3,
    "start_time": "2025-01-07T03:33:22.599Z"
   },
   {
    "duration": 11,
    "start_time": "2025-01-07T03:33:22.604Z"
   },
   {
    "duration": 510,
    "start_time": "2025-01-07T03:33:22.617Z"
   },
   {
    "duration": 115,
    "start_time": "2025-01-07T03:33:23.129Z"
   },
   {
    "duration": 8,
    "start_time": "2025-01-07T03:33:23.246Z"
   },
   {
    "duration": 7,
    "start_time": "2025-01-07T03:33:23.256Z"
   },
   {
    "duration": 56,
    "start_time": "2025-01-07T03:33:23.265Z"
   },
   {
    "duration": 66,
    "start_time": "2025-01-07T03:33:23.323Z"
   },
   {
    "duration": 13,
    "start_time": "2025-01-07T03:33:23.390Z"
   },
   {
    "duration": 4,
    "start_time": "2025-01-07T03:33:23.404Z"
   },
   {
    "duration": 4,
    "start_time": "2025-01-07T03:33:23.409Z"
   },
   {
    "duration": 2703,
    "start_time": "2025-01-07T07:37:47.173Z"
   },
   {
    "duration": 290,
    "start_time": "2025-01-07T07:37:49.879Z"
   },
   {
    "duration": 46,
    "start_time": "2025-01-07T07:37:50.171Z"
   },
   {
    "duration": 42,
    "start_time": "2025-01-07T07:37:50.219Z"
   },
   {
    "duration": 58,
    "start_time": "2025-01-07T07:37:50.263Z"
   },
   {
    "duration": 11,
    "start_time": "2025-01-07T07:37:50.323Z"
   },
   {
    "duration": 16,
    "start_time": "2025-01-07T07:37:50.336Z"
   },
   {
    "duration": 3,
    "start_time": "2025-01-07T07:37:50.354Z"
   },
   {
    "duration": 11,
    "start_time": "2025-01-07T07:37:50.359Z"
   },
   {
    "duration": 3,
    "start_time": "2025-01-07T07:37:50.371Z"
   },
   {
    "duration": 31,
    "start_time": "2025-01-07T07:37:50.375Z"
   },
   {
    "duration": 2,
    "start_time": "2025-01-07T07:37:50.408Z"
   },
   {
    "duration": 13,
    "start_time": "2025-01-07T07:37:50.412Z"
   },
   {
    "duration": 515,
    "start_time": "2025-01-07T07:37:50.429Z"
   },
   {
    "duration": 750,
    "start_time": "2025-01-07T07:37:50.947Z"
   },
   {
    "duration": 121,
    "start_time": "2025-01-07T07:37:51.699Z"
   },
   {
    "duration": 8,
    "start_time": "2025-01-07T07:37:51.822Z"
   },
   {
    "duration": 7,
    "start_time": "2025-01-07T07:37:51.832Z"
   },
   {
    "duration": 166,
    "start_time": "2025-01-07T07:37:51.841Z"
   },
   {
    "duration": 3,
    "start_time": "2025-01-07T07:37:52.009Z"
   },
   {
    "duration": 3,
    "start_time": "2025-01-07T07:37:52.014Z"
   },
   {
    "duration": 148,
    "start_time": "2025-01-07T07:37:52.019Z"
   },
   {
    "duration": 38,
    "start_time": "2025-01-07T07:37:52.169Z"
   },
   {
    "duration": 4,
    "start_time": "2025-01-07T07:37:52.209Z"
   },
   {
    "duration": 9,
    "start_time": "2025-01-07T07:37:52.215Z"
   },
   {
    "duration": 3,
    "start_time": "2025-01-07T07:37:52.225Z"
   },
   {
    "duration": 3,
    "start_time": "2025-01-07T07:37:52.230Z"
   },
   {
    "duration": 3,
    "start_time": "2025-01-07T07:37:52.234Z"
   },
   {
    "duration": 12,
    "start_time": "2025-01-07T07:37:52.239Z"
   },
   {
    "duration": 578,
    "start_time": "2025-01-07T07:37:52.252Z"
   },
   {
    "duration": 131,
    "start_time": "2025-01-07T07:37:52.832Z"
   },
   {
    "duration": 8,
    "start_time": "2025-01-07T07:37:52.964Z"
   },
   {
    "duration": 7,
    "start_time": "2025-01-07T07:37:52.974Z"
   },
   {
    "duration": 136,
    "start_time": "2025-01-07T07:37:52.982Z"
   },
   {
    "duration": 2,
    "start_time": "2025-01-07T07:37:53.120Z"
   },
   {
    "duration": 83,
    "start_time": "2025-01-07T07:37:53.126Z"
   },
   {
    "duration": 6,
    "start_time": "2025-01-07T07:37:53.213Z"
   },
   {
    "duration": 3,
    "start_time": "2025-01-07T07:37:53.222Z"
   },
   {
    "duration": 3,
    "start_time": "2025-01-07T07:37:53.227Z"
   },
   {
    "duration": 8,
    "start_time": "2025-01-07T07:37:53.232Z"
   },
   {
    "duration": 63,
    "start_time": "2025-01-07T07:37:53.244Z"
   },
   {
    "duration": 2,
    "start_time": "2025-01-07T07:37:53.309Z"
   },
   {
    "duration": 3,
    "start_time": "2025-01-07T07:37:53.313Z"
   },
   {
    "duration": 11,
    "start_time": "2025-01-07T07:37:53.318Z"
   },
   {
    "duration": 499,
    "start_time": "2025-01-07T07:37:53.331Z"
   },
   {
    "duration": 128,
    "start_time": "2025-01-07T07:37:53.832Z"
   },
   {
    "duration": 8,
    "start_time": "2025-01-07T07:37:53.962Z"
   },
   {
    "duration": 7,
    "start_time": "2025-01-07T07:37:53.972Z"
   },
   {
    "duration": 137,
    "start_time": "2025-01-07T07:37:53.980Z"
   },
   {
    "duration": 3,
    "start_time": "2025-01-07T07:37:54.119Z"
   },
   {
    "duration": 3,
    "start_time": "2025-01-07T07:37:54.124Z"
   },
   {
    "duration": 80,
    "start_time": "2025-01-07T07:37:54.128Z"
   },
   {
    "duration": 9,
    "start_time": "2025-01-07T07:37:54.209Z"
   },
   {
    "duration": 1002,
    "start_time": "2025-01-07T07:45:42.061Z"
   },
   {
    "duration": 262,
    "start_time": "2025-01-07T07:45:43.065Z"
   },
   {
    "duration": 49,
    "start_time": "2025-01-07T07:45:43.328Z"
   },
   {
    "duration": 55,
    "start_time": "2025-01-07T07:45:43.379Z"
   },
   {
    "duration": 46,
    "start_time": "2025-01-07T07:45:43.436Z"
   },
   {
    "duration": 26,
    "start_time": "2025-01-07T07:45:43.484Z"
   },
   {
    "duration": 17,
    "start_time": "2025-01-07T07:45:43.511Z"
   },
   {
    "duration": 4,
    "start_time": "2025-01-07T07:45:43.529Z"
   },
   {
    "duration": 9,
    "start_time": "2025-01-07T07:45:43.534Z"
   },
   {
    "duration": 3,
    "start_time": "2025-01-07T07:45:43.546Z"
   },
   {
    "duration": 2,
    "start_time": "2025-01-07T07:45:43.552Z"
   },
   {
    "duration": 2,
    "start_time": "2025-01-07T07:45:43.556Z"
   },
   {
    "duration": 52,
    "start_time": "2025-01-07T07:45:43.560Z"
   },
   {
    "duration": 481,
    "start_time": "2025-01-07T07:45:43.613Z"
   },
   {
    "duration": 777,
    "start_time": "2025-01-07T07:45:44.097Z"
   },
   {
    "duration": 121,
    "start_time": "2025-01-07T07:45:44.876Z"
   },
   {
    "duration": 7,
    "start_time": "2025-01-07T07:45:44.999Z"
   },
   {
    "duration": 8,
    "start_time": "2025-01-07T07:45:45.008Z"
   },
   {
    "duration": 108,
    "start_time": "2025-01-07T07:45:45.017Z"
   },
   {
    "duration": 79,
    "start_time": "2025-01-07T07:45:45.127Z"
   },
   {
    "duration": 4,
    "start_time": "2025-01-07T07:45:45.208Z"
   },
   {
    "duration": 3,
    "start_time": "2025-01-07T07:45:45.214Z"
   },
   {
    "duration": 3,
    "start_time": "2025-01-07T07:45:45.218Z"
   },
   {
    "duration": 4,
    "start_time": "2025-01-07T07:45:45.223Z"
   },
   {
    "duration": 84,
    "start_time": "2025-01-07T07:45:45.228Z"
   },
   {
    "duration": 2,
    "start_time": "2025-01-07T07:45:45.314Z"
   },
   {
    "duration": 3,
    "start_time": "2025-01-07T07:45:45.318Z"
   },
   {
    "duration": 2,
    "start_time": "2025-01-07T07:45:45.326Z"
   },
   {
    "duration": 12,
    "start_time": "2025-01-07T07:45:45.330Z"
   },
   {
    "duration": 575,
    "start_time": "2025-01-07T07:45:45.344Z"
   },
   {
    "duration": 730,
    "start_time": "2025-01-07T07:45:45.921Z"
   },
   {
    "duration": 129,
    "start_time": "2025-01-07T07:45:46.653Z"
   },
   {
    "duration": 9,
    "start_time": "2025-01-07T07:45:46.783Z"
   },
   {
    "duration": 17,
    "start_time": "2025-01-07T07:45:46.794Z"
   },
   {
    "duration": 110,
    "start_time": "2025-01-07T07:45:46.813Z"
   },
   {
    "duration": 79,
    "start_time": "2025-01-07T07:45:46.926Z"
   },
   {
    "duration": 4,
    "start_time": "2025-01-07T07:45:47.007Z"
   },
   {
    "duration": 5,
    "start_time": "2025-01-07T07:45:47.013Z"
   },
   {
    "duration": 3,
    "start_time": "2025-01-07T07:45:47.020Z"
   },
   {
    "duration": 5,
    "start_time": "2025-01-07T07:45:47.025Z"
   },
   {
    "duration": 8,
    "start_time": "2025-01-07T07:45:47.105Z"
   },
   {
    "duration": 3,
    "start_time": "2025-01-07T07:45:47.114Z"
   },
   {
    "duration": 2,
    "start_time": "2025-01-07T07:45:47.119Z"
   },
   {
    "duration": 2,
    "start_time": "2025-01-07T07:45:47.123Z"
   },
   {
    "duration": 12,
    "start_time": "2025-01-07T07:45:47.126Z"
   },
   {
    "duration": 541,
    "start_time": "2025-01-07T07:45:47.140Z"
   },
   {
    "duration": 774,
    "start_time": "2025-01-07T07:45:47.683Z"
   },
   {
    "duration": 142,
    "start_time": "2025-01-07T07:45:48.459Z"
   },
   {
    "duration": 8,
    "start_time": "2025-01-07T07:45:48.606Z"
   },
   {
    "duration": 7,
    "start_time": "2025-01-07T07:45:48.616Z"
   },
   {
    "duration": 100,
    "start_time": "2025-01-07T07:45:48.625Z"
   },
   {
    "duration": 3,
    "start_time": "2025-01-07T07:45:48.727Z"
   },
   {
    "duration": 4,
    "start_time": "2025-01-07T07:45:48.807Z"
   },
   {
    "duration": 4,
    "start_time": "2025-01-07T07:45:48.812Z"
   },
   {
    "duration": 2,
    "start_time": "2025-01-07T07:45:48.818Z"
   },
   {
    "duration": 2806,
    "start_time": "2025-01-07T17:06:00.045Z"
   },
   {
    "duration": 291,
    "start_time": "2025-01-07T17:06:02.854Z"
   },
   {
    "duration": 46,
    "start_time": "2025-01-07T17:06:03.147Z"
   },
   {
    "duration": 55,
    "start_time": "2025-01-07T17:06:03.197Z"
   },
   {
    "duration": 51,
    "start_time": "2025-01-07T17:06:03.253Z"
   },
   {
    "duration": 12,
    "start_time": "2025-01-07T17:06:03.306Z"
   },
   {
    "duration": 32,
    "start_time": "2025-01-07T17:06:03.320Z"
   },
   {
    "duration": 4,
    "start_time": "2025-01-07T17:06:03.354Z"
   },
   {
    "duration": 10,
    "start_time": "2025-01-07T17:06:03.360Z"
   },
   {
    "duration": 3,
    "start_time": "2025-01-07T17:06:03.372Z"
   },
   {
    "duration": 3,
    "start_time": "2025-01-07T17:06:03.376Z"
   },
   {
    "duration": 2,
    "start_time": "2025-01-07T17:06:03.382Z"
   },
   {
    "duration": 11,
    "start_time": "2025-01-07T17:06:03.386Z"
   },
   {
    "duration": 547,
    "start_time": "2025-01-07T17:06:03.398Z"
   },
   {
    "duration": 812,
    "start_time": "2025-01-07T17:06:03.947Z"
   },
   {
    "duration": 121,
    "start_time": "2025-01-07T17:06:04.761Z"
   },
   {
    "duration": 10,
    "start_time": "2025-01-07T17:06:04.884Z"
   },
   {
    "duration": 8,
    "start_time": "2025-01-07T17:06:04.896Z"
   },
   {
    "duration": 157,
    "start_time": "2025-01-07T17:06:04.905Z"
   },
   {
    "duration": 78,
    "start_time": "2025-01-07T17:06:05.064Z"
   },
   {
    "duration": 3,
    "start_time": "2025-01-07T17:06:05.144Z"
   },
   {
    "duration": 4,
    "start_time": "2025-01-07T17:06:05.149Z"
   },
   {
    "duration": 3,
    "start_time": "2025-01-07T17:06:05.155Z"
   },
   {
    "duration": 84,
    "start_time": "2025-01-07T17:06:05.159Z"
   },
   {
    "duration": 10,
    "start_time": "2025-01-07T17:06:05.245Z"
   },
   {
    "duration": 3,
    "start_time": "2025-01-07T17:06:05.257Z"
   },
   {
    "duration": 3,
    "start_time": "2025-01-07T17:06:05.261Z"
   },
   {
    "duration": 2,
    "start_time": "2025-01-07T17:06:05.268Z"
   },
   {
    "duration": 12,
    "start_time": "2025-01-07T17:06:05.272Z"
   },
   {
    "duration": 563,
    "start_time": "2025-01-07T17:06:05.285Z"
   },
   {
    "duration": 730,
    "start_time": "2025-01-07T17:06:05.850Z"
   },
   {
    "duration": 129,
    "start_time": "2025-01-07T17:06:06.582Z"
   },
   {
    "duration": 8,
    "start_time": "2025-01-07T17:06:06.712Z"
   },
   {
    "duration": 24,
    "start_time": "2025-01-07T17:06:06.722Z"
   },
   {
    "duration": 116,
    "start_time": "2025-01-07T17:06:06.748Z"
   },
   {
    "duration": 78,
    "start_time": "2025-01-07T17:06:06.866Z"
   },
   {
    "duration": 3,
    "start_time": "2025-01-07T17:06:06.946Z"
   },
   {
    "duration": 4,
    "start_time": "2025-01-07T17:06:06.950Z"
   },
   {
    "duration": 2,
    "start_time": "2025-01-07T17:06:06.956Z"
   },
   {
    "duration": 5,
    "start_time": "2025-01-07T17:06:06.960Z"
   },
   {
    "duration": 10,
    "start_time": "2025-01-07T17:06:07.042Z"
   },
   {
    "duration": 3,
    "start_time": "2025-01-07T17:06:07.054Z"
   },
   {
    "duration": 2,
    "start_time": "2025-01-07T17:06:07.060Z"
   },
   {
    "duration": 2,
    "start_time": "2025-01-07T17:06:07.064Z"
   },
   {
    "duration": 11,
    "start_time": "2025-01-07T17:06:07.069Z"
   },
   {
    "duration": 569,
    "start_time": "2025-01-07T17:06:07.082Z"
   },
   {
    "duration": 724,
    "start_time": "2025-01-07T17:06:07.653Z"
   },
   {
    "duration": 131,
    "start_time": "2025-01-07T17:06:08.378Z"
   },
   {
    "duration": 9,
    "start_time": "2025-01-07T17:06:08.510Z"
   },
   {
    "duration": 7,
    "start_time": "2025-01-07T17:06:08.520Z"
   },
   {
    "duration": 111,
    "start_time": "2025-01-07T17:06:08.542Z"
   },
   {
    "duration": 6,
    "start_time": "2025-01-07T17:06:08.655Z"
   },
   {
    "duration": 81,
    "start_time": "2025-01-07T17:06:08.662Z"
   },
   {
    "duration": 4,
    "start_time": "2025-01-07T17:06:08.745Z"
   },
   {
    "duration": 2,
    "start_time": "2025-01-07T17:06:08.751Z"
   },
   {
    "duration": 3,
    "start_time": "2025-01-07T17:06:08.755Z"
   },
   {
    "duration": 2,
    "start_time": "2025-01-07T17:06:08.760Z"
   },
   {
    "duration": 2801,
    "start_time": "2025-01-07T18:33:01.630Z"
   },
   {
    "duration": 299,
    "start_time": "2025-01-07T18:33:04.434Z"
   },
   {
    "duration": 51,
    "start_time": "2025-01-07T18:33:04.734Z"
   },
   {
    "duration": 51,
    "start_time": "2025-01-07T18:33:04.788Z"
   },
   {
    "duration": 44,
    "start_time": "2025-01-07T18:33:04.840Z"
   },
   {
    "duration": 11,
    "start_time": "2025-01-07T18:33:04.886Z"
   },
   {
    "duration": 32,
    "start_time": "2025-01-07T18:33:04.899Z"
   },
   {
    "duration": 3,
    "start_time": "2025-01-07T18:33:04.933Z"
   },
   {
    "duration": 10,
    "start_time": "2025-01-07T18:33:04.938Z"
   },
   {
    "duration": 3,
    "start_time": "2025-01-07T18:33:04.951Z"
   },
   {
    "duration": 3,
    "start_time": "2025-01-07T18:33:04.955Z"
   },
   {
    "duration": 3,
    "start_time": "2025-01-07T18:33:04.959Z"
   },
   {
    "duration": 12,
    "start_time": "2025-01-07T18:33:04.964Z"
   },
   {
    "duration": 544,
    "start_time": "2025-01-07T18:33:04.978Z"
   },
   {
    "duration": 833,
    "start_time": "2025-01-07T18:33:05.531Z"
   },
   {
    "duration": 124,
    "start_time": "2025-01-07T18:33:06.366Z"
   },
   {
    "duration": 8,
    "start_time": "2025-01-07T18:33:06.491Z"
   },
   {
    "duration": 8,
    "start_time": "2025-01-07T18:33:06.501Z"
   },
   {
    "duration": 132,
    "start_time": "2025-01-07T18:33:06.510Z"
   },
   {
    "duration": 4,
    "start_time": "2025-01-07T18:33:06.644Z"
   },
   {
    "duration": 4,
    "start_time": "2025-01-07T18:33:06.650Z"
   },
   {
    "duration": 4,
    "start_time": "2025-01-07T18:33:06.731Z"
   },
   {
    "duration": 3,
    "start_time": "2025-01-07T18:33:06.737Z"
   },
   {
    "duration": 6,
    "start_time": "2025-01-07T18:33:06.741Z"
   },
   {
    "duration": 9,
    "start_time": "2025-01-07T18:33:06.749Z"
   },
   {
    "duration": 2,
    "start_time": "2025-01-07T18:33:06.760Z"
   },
   {
    "duration": 4,
    "start_time": "2025-01-07T18:33:06.764Z"
   },
   {
    "duration": 2,
    "start_time": "2025-01-07T18:33:06.834Z"
   },
   {
    "duration": 12,
    "start_time": "2025-01-07T18:33:06.838Z"
   },
   {
    "duration": 536,
    "start_time": "2025-01-07T18:33:06.851Z"
   },
   {
    "duration": 728,
    "start_time": "2025-01-07T18:33:07.388Z"
   },
   {
    "duration": 147,
    "start_time": "2025-01-07T18:33:08.119Z"
   },
   {
    "duration": 8,
    "start_time": "2025-01-07T18:33:08.267Z"
   },
   {
    "duration": 6,
    "start_time": "2025-01-07T18:33:08.277Z"
   },
   {
    "duration": 162,
    "start_time": "2025-01-07T18:33:08.285Z"
   },
   {
    "duration": 5,
    "start_time": "2025-01-07T18:33:08.448Z"
   },
   {
    "duration": 83,
    "start_time": "2025-01-07T18:33:08.455Z"
   },
   {
    "duration": 6,
    "start_time": "2025-01-07T18:33:08.544Z"
   },
   {
    "duration": 2,
    "start_time": "2025-01-07T18:33:08.553Z"
   },
   {
    "duration": 78,
    "start_time": "2025-01-07T18:33:08.557Z"
   },
   {
    "duration": 10,
    "start_time": "2025-01-07T18:33:08.636Z"
   },
   {
    "duration": 3,
    "start_time": "2025-01-07T18:33:08.648Z"
   },
   {
    "duration": 3,
    "start_time": "2025-01-07T18:33:08.653Z"
   },
   {
    "duration": 3,
    "start_time": "2025-01-07T18:33:08.657Z"
   },
   {
    "duration": 13,
    "start_time": "2025-01-07T18:33:08.661Z"
   },
   {
    "duration": 572,
    "start_time": "2025-01-07T18:33:08.676Z"
   },
   {
    "duration": 749,
    "start_time": "2025-01-07T18:33:09.249Z"
   },
   {
    "duration": 147,
    "start_time": "2025-01-07T18:33:09.999Z"
   },
   {
    "duration": 10,
    "start_time": "2025-01-07T18:33:10.148Z"
   },
   {
    "duration": 8,
    "start_time": "2025-01-07T18:33:10.160Z"
   },
   {
    "duration": 163,
    "start_time": "2025-01-07T18:33:10.171Z"
   },
   {
    "duration": 3,
    "start_time": "2025-01-07T18:33:10.336Z"
   },
   {
    "duration": 4,
    "start_time": "2025-01-07T18:33:10.340Z"
   },
   {
    "duration": 4,
    "start_time": "2025-01-07T18:33:10.345Z"
   },
   {
    "duration": 3,
    "start_time": "2025-01-07T18:33:10.350Z"
   },
   {
    "duration": 82,
    "start_time": "2025-01-07T18:33:10.355Z"
   },
   {
    "duration": 0,
    "start_time": "2025-01-07T18:33:10.439Z"
   },
   {
    "duration": 4,
    "start_time": "2025-01-07T18:33:19.513Z"
   },
   {
    "duration": 334,
    "start_time": "2025-01-07T18:33:27.354Z"
   },
   {
    "duration": 3,
    "start_time": "2025-01-07T18:33:56.173Z"
   },
   {
    "duration": 5,
    "start_time": "2025-01-07T18:33:59.013Z"
   },
   {
    "duration": 3,
    "start_time": "2025-01-07T18:34:23.332Z"
   },
   {
    "duration": 3,
    "start_time": "2025-01-07T18:36:14.748Z"
   },
   {
    "duration": 3124,
    "start_time": "2025-01-08T06:29:51.859Z"
   },
   {
    "duration": 362,
    "start_time": "2025-01-08T06:29:54.985Z"
   },
   {
    "duration": 51,
    "start_time": "2025-01-08T06:29:55.349Z"
   },
   {
    "duration": 47,
    "start_time": "2025-01-08T06:29:55.402Z"
   },
   {
    "duration": 59,
    "start_time": "2025-01-08T06:29:55.452Z"
   },
   {
    "duration": 13,
    "start_time": "2025-01-08T06:29:55.513Z"
   },
   {
    "duration": 17,
    "start_time": "2025-01-08T06:29:55.528Z"
   },
   {
    "duration": 4,
    "start_time": "2025-01-08T06:29:55.547Z"
   },
   {
    "duration": 11,
    "start_time": "2025-01-08T06:29:55.553Z"
   },
   {
    "duration": 22,
    "start_time": "2025-01-08T06:29:55.566Z"
   },
   {
    "duration": 3,
    "start_time": "2025-01-08T06:29:55.590Z"
   },
   {
    "duration": 3,
    "start_time": "2025-01-08T06:29:55.595Z"
   },
   {
    "duration": 19,
    "start_time": "2025-01-08T06:29:55.599Z"
   },
   {
    "duration": 596,
    "start_time": "2025-01-08T06:29:55.623Z"
   },
   {
    "duration": 778,
    "start_time": "2025-01-08T06:29:56.221Z"
   },
   {
    "duration": 133,
    "start_time": "2025-01-08T06:29:57.001Z"
   },
   {
    "duration": 9,
    "start_time": "2025-01-08T06:29:57.136Z"
   },
   {
    "duration": 8,
    "start_time": "2025-01-08T06:29:57.147Z"
   },
   {
    "duration": 72,
    "start_time": "2025-01-08T06:29:57.156Z"
   },
   {
    "duration": 57,
    "start_time": "2025-01-08T06:29:57.229Z"
   },
   {
    "duration": 5,
    "start_time": "2025-01-08T06:29:57.288Z"
   },
   {
    "duration": 7,
    "start_time": "2025-01-08T06:29:57.297Z"
   },
   {
    "duration": 5,
    "start_time": "2025-01-08T06:29:57.306Z"
   },
   {
    "duration": 7,
    "start_time": "2025-01-08T06:29:57.314Z"
   },
   {
    "duration": 65,
    "start_time": "2025-01-08T06:29:57.324Z"
   },
   {
    "duration": 4,
    "start_time": "2025-01-08T06:29:57.390Z"
   },
   {
    "duration": 3,
    "start_time": "2025-01-08T06:29:57.396Z"
   },
   {
    "duration": 2,
    "start_time": "2025-01-08T06:29:57.402Z"
   },
   {
    "duration": 19,
    "start_time": "2025-01-08T06:29:57.406Z"
   },
   {
    "duration": 620,
    "start_time": "2025-01-08T06:29:57.427Z"
   },
   {
    "duration": 840,
    "start_time": "2025-01-08T06:29:58.049Z"
   },
   {
    "duration": 150,
    "start_time": "2025-01-08T06:29:58.891Z"
   },
   {
    "duration": 8,
    "start_time": "2025-01-08T06:29:59.045Z"
   },
   {
    "duration": 10,
    "start_time": "2025-01-08T06:29:59.054Z"
   },
   {
    "duration": 123,
    "start_time": "2025-01-08T06:29:59.065Z"
   },
   {
    "duration": 8,
    "start_time": "2025-01-08T06:29:59.190Z"
   },
   {
    "duration": 5,
    "start_time": "2025-01-08T06:29:59.199Z"
   },
   {
    "duration": 7,
    "start_time": "2025-01-08T06:29:59.205Z"
   },
   {
    "duration": 3,
    "start_time": "2025-01-08T06:29:59.214Z"
   },
   {
    "duration": 10,
    "start_time": "2025-01-08T06:29:59.219Z"
   },
   {
    "duration": 26,
    "start_time": "2025-01-08T06:29:59.295Z"
   },
   {
    "duration": 3,
    "start_time": "2025-01-08T06:29:59.323Z"
   },
   {
    "duration": 3,
    "start_time": "2025-01-08T06:29:59.327Z"
   },
   {
    "duration": 2,
    "start_time": "2025-01-08T06:29:59.332Z"
   },
   {
    "duration": 11,
    "start_time": "2025-01-08T06:29:59.336Z"
   },
   {
    "duration": 625,
    "start_time": "2025-01-08T06:29:59.349Z"
   },
   {
    "duration": 801,
    "start_time": "2025-01-08T06:29:59.977Z"
   },
   {
    "duration": 229,
    "start_time": "2025-01-08T06:30:00.781Z"
   },
   {
    "duration": 9,
    "start_time": "2025-01-08T06:30:01.012Z"
   },
   {
    "duration": 6,
    "start_time": "2025-01-08T06:30:01.023Z"
   },
   {
    "duration": 157,
    "start_time": "2025-01-08T06:30:01.031Z"
   },
   {
    "duration": 6,
    "start_time": "2025-01-08T06:30:01.192Z"
   },
   {
    "duration": 5,
    "start_time": "2025-01-08T06:30:01.201Z"
   },
   {
    "duration": 7,
    "start_time": "2025-01-08T06:30:01.208Z"
   },
   {
    "duration": 4,
    "start_time": "2025-01-08T06:30:01.218Z"
   },
   {
    "duration": 5,
    "start_time": "2025-01-08T06:30:01.226Z"
   },
   {
    "duration": 54,
    "start_time": "2025-01-08T06:30:01.234Z"
   },
   {
    "duration": 9,
    "start_time": "2025-01-08T06:45:30.088Z"
   },
   {
    "duration": 161,
    "start_time": "2025-01-08T14:23:08.132Z"
   },
   {
    "duration": 2754,
    "start_time": "2025-01-08T14:23:12.141Z"
   },
   {
    "duration": 290,
    "start_time": "2025-01-08T14:23:14.897Z"
   },
   {
    "duration": 53,
    "start_time": "2025-01-08T14:23:15.188Z"
   },
   {
    "duration": 43,
    "start_time": "2025-01-08T14:23:15.244Z"
   },
   {
    "duration": 58,
    "start_time": "2025-01-08T14:23:15.289Z"
   },
   {
    "duration": 13,
    "start_time": "2025-01-08T14:23:15.348Z"
   },
   {
    "duration": 16,
    "start_time": "2025-01-08T14:23:15.363Z"
   },
   {
    "duration": 3,
    "start_time": "2025-01-08T14:23:15.381Z"
   },
   {
    "duration": 9,
    "start_time": "2025-01-08T14:23:15.386Z"
   },
   {
    "duration": 3,
    "start_time": "2025-01-08T14:23:15.425Z"
   },
   {
    "duration": 3,
    "start_time": "2025-01-08T14:23:15.429Z"
   },
   {
    "duration": 2,
    "start_time": "2025-01-08T14:23:15.434Z"
   },
   {
    "duration": 12,
    "start_time": "2025-01-08T14:23:15.438Z"
   },
   {
    "duration": 507,
    "start_time": "2025-01-08T14:23:15.451Z"
   },
   {
    "duration": 722,
    "start_time": "2025-01-08T14:23:15.959Z"
   },
   {
    "duration": 119,
    "start_time": "2025-01-08T14:23:16.683Z"
   },
   {
    "duration": 8,
    "start_time": "2025-01-08T14:23:16.804Z"
   },
   {
    "duration": 7,
    "start_time": "2025-01-08T14:23:16.824Z"
   },
   {
    "duration": 109,
    "start_time": "2025-01-08T14:23:16.833Z"
   },
   {
    "duration": 5,
    "start_time": "2025-01-08T14:23:16.944Z"
   },
   {
    "duration": 3,
    "start_time": "2025-01-08T14:23:17.025Z"
   },
   {
    "duration": 3,
    "start_time": "2025-01-08T14:23:17.030Z"
   },
   {
    "duration": 3,
    "start_time": "2025-01-08T14:23:17.035Z"
   },
   {
    "duration": 6,
    "start_time": "2025-01-08T14:23:17.039Z"
   },
   {
    "duration": 81,
    "start_time": "2025-01-08T14:23:17.046Z"
   },
   {
    "duration": 4,
    "start_time": "2025-01-08T14:23:17.129Z"
   },
   {
    "duration": 4,
    "start_time": "2025-01-08T14:23:17.135Z"
   },
   {
    "duration": 1,
    "start_time": "2025-01-08T14:23:17.145Z"
   },
   {
    "duration": 12,
    "start_time": "2025-01-08T14:23:17.148Z"
   },
   {
    "duration": 591,
    "start_time": "2025-01-08T14:23:17.162Z"
   },
   {
    "duration": 813,
    "start_time": "2025-01-08T14:23:17.754Z"
   },
   {
    "duration": 131,
    "start_time": "2025-01-08T14:23:18.569Z"
   },
   {
    "duration": 8,
    "start_time": "2025-01-08T14:23:18.702Z"
   },
   {
    "duration": 15,
    "start_time": "2025-01-08T14:23:18.712Z"
   },
   {
    "duration": 106,
    "start_time": "2025-01-08T14:23:18.728Z"
   },
   {
    "duration": 4,
    "start_time": "2025-01-08T14:23:18.838Z"
   },
   {
    "duration": 4,
    "start_time": "2025-01-08T14:23:18.843Z"
   },
   {
    "duration": 4,
    "start_time": "2025-01-08T14:23:18.924Z"
   },
   {
    "duration": 3,
    "start_time": "2025-01-08T14:23:18.930Z"
   },
   {
    "duration": 5,
    "start_time": "2025-01-08T14:23:18.935Z"
   },
   {
    "duration": 8,
    "start_time": "2025-01-08T14:23:18.942Z"
   },
   {
    "duration": 3,
    "start_time": "2025-01-08T14:23:18.951Z"
   },
   {
    "duration": 70,
    "start_time": "2025-01-08T14:23:18.956Z"
   },
   {
    "duration": 2,
    "start_time": "2025-01-08T14:23:19.028Z"
   },
   {
    "duration": 10,
    "start_time": "2025-01-08T14:23:19.032Z"
   },
   {
    "duration": 548,
    "start_time": "2025-01-08T14:23:19.044Z"
   },
   {
    "duration": 768,
    "start_time": "2025-01-08T14:23:19.594Z"
   },
   {
    "duration": 135,
    "start_time": "2025-01-08T14:23:20.364Z"
   },
   {
    "duration": 8,
    "start_time": "2025-01-08T14:23:20.501Z"
   },
   {
    "duration": 18,
    "start_time": "2025-01-08T14:23:20.511Z"
   },
   {
    "duration": 111,
    "start_time": "2025-01-08T14:23:20.531Z"
   },
   {
    "duration": 4,
    "start_time": "2025-01-08T14:23:20.644Z"
   },
   {
    "duration": 3,
    "start_time": "2025-01-08T14:23:20.725Z"
   },
   {
    "duration": 3,
    "start_time": "2025-01-08T14:23:20.730Z"
   },
   {
    "duration": 3,
    "start_time": "2025-01-08T14:23:20.734Z"
   },
   {
    "duration": 5,
    "start_time": "2025-01-08T14:23:20.739Z"
   },
   {
    "duration": 80,
    "start_time": "2025-01-08T14:23:20.745Z"
   },
   {
    "duration": 5,
    "start_time": "2025-01-08T14:23:20.826Z"
   },
   {
    "duration": 6,
    "start_time": "2025-01-08T14:23:20.833Z"
   },
   {
    "duration": 3,
    "start_time": "2025-01-08T14:25:00.811Z"
   },
   {
    "duration": 4,
    "start_time": "2025-01-08T14:25:12.131Z"
   },
   {
    "duration": 6,
    "start_time": "2025-01-08T14:25:39.353Z"
   },
   {
    "duration": 3,
    "start_time": "2025-01-08T14:28:00.314Z"
   },
   {
    "duration": 9,
    "start_time": "2025-01-08T14:40:11.513Z"
   },
   {
    "duration": 9,
    "start_time": "2025-01-08T14:42:10.769Z"
   },
   {
    "duration": 8,
    "start_time": "2025-01-08T14:42:30.564Z"
   },
   {
    "duration": 11,
    "start_time": "2025-01-08T14:50:30.044Z"
   },
   {
    "duration": 8,
    "start_time": "2025-01-08T14:50:46.027Z"
   },
   {
    "duration": 4,
    "start_time": "2025-01-08T14:50:50.849Z"
   },
   {
    "duration": 2722,
    "start_time": "2025-01-09T03:11:00.331Z"
   },
   {
    "duration": 299,
    "start_time": "2025-01-09T03:11:03.055Z"
   },
   {
    "duration": 46,
    "start_time": "2025-01-09T03:11:03.356Z"
   },
   {
    "duration": 47,
    "start_time": "2025-01-09T03:11:03.404Z"
   },
   {
    "duration": 44,
    "start_time": "2025-01-09T03:11:03.453Z"
   },
   {
    "duration": 30,
    "start_time": "2025-01-09T03:11:03.499Z"
   },
   {
    "duration": 17,
    "start_time": "2025-01-09T03:11:03.531Z"
   },
   {
    "duration": 4,
    "start_time": "2025-01-09T03:11:03.550Z"
   },
   {
    "duration": 10,
    "start_time": "2025-01-09T03:11:03.556Z"
   },
   {
    "duration": 3,
    "start_time": "2025-01-09T03:11:03.569Z"
   },
   {
    "duration": 3,
    "start_time": "2025-01-09T03:11:03.574Z"
   },
   {
    "duration": 3,
    "start_time": "2025-01-09T03:11:03.578Z"
   },
   {
    "duration": 48,
    "start_time": "2025-01-09T03:11:03.583Z"
   },
   {
    "duration": 499,
    "start_time": "2025-01-09T03:11:03.633Z"
   },
   {
    "duration": 816,
    "start_time": "2025-01-09T03:11:04.133Z"
   },
   {
    "duration": 121,
    "start_time": "2025-01-09T03:11:04.951Z"
   },
   {
    "duration": 9,
    "start_time": "2025-01-09T03:11:05.074Z"
   },
   {
    "duration": 7,
    "start_time": "2025-01-09T03:11:05.085Z"
   },
   {
    "duration": 137,
    "start_time": "2025-01-09T03:11:05.093Z"
   },
   {
    "duration": 3,
    "start_time": "2025-01-09T03:11:05.232Z"
   },
   {
    "duration": 6,
    "start_time": "2025-01-09T03:11:05.238Z"
   },
   {
    "duration": 3,
    "start_time": "2025-01-09T03:11:05.325Z"
   },
   {
    "duration": 3,
    "start_time": "2025-01-09T03:11:05.330Z"
   },
   {
    "duration": 5,
    "start_time": "2025-01-09T03:11:05.334Z"
   },
   {
    "duration": 8,
    "start_time": "2025-01-09T03:11:05.340Z"
   },
   {
    "duration": 3,
    "start_time": "2025-01-09T03:11:05.350Z"
   },
   {
    "duration": 3,
    "start_time": "2025-01-09T03:11:05.354Z"
   },
   {
    "duration": 2,
    "start_time": "2025-01-09T03:11:05.362Z"
   },
   {
    "duration": 12,
    "start_time": "2025-01-09T03:11:05.424Z"
   },
   {
    "duration": 527,
    "start_time": "2025-01-09T03:11:05.438Z"
   },
   {
    "duration": 707,
    "start_time": "2025-01-09T03:11:05.967Z"
   },
   {
    "duration": 138,
    "start_time": "2025-01-09T03:11:06.676Z"
   },
   {
    "duration": 14,
    "start_time": "2025-01-09T03:11:06.816Z"
   },
   {
    "duration": 7,
    "start_time": "2025-01-09T03:11:06.831Z"
   },
   {
    "duration": 102,
    "start_time": "2025-01-09T03:11:06.840Z"
   },
   {
    "duration": 2,
    "start_time": "2025-01-09T03:11:06.944Z"
   },
   {
    "duration": 79,
    "start_time": "2025-01-09T03:11:06.948Z"
   },
   {
    "duration": 3,
    "start_time": "2025-01-09T03:11:07.029Z"
   },
   {
    "duration": 4,
    "start_time": "2025-01-09T03:11:07.034Z"
   },
   {
    "duration": 4,
    "start_time": "2025-01-09T03:11:07.040Z"
   },
   {
    "duration": 78,
    "start_time": "2025-01-09T03:11:07.046Z"
   },
   {
    "duration": 3,
    "start_time": "2025-01-09T03:11:07.126Z"
   },
   {
    "duration": 3,
    "start_time": "2025-01-09T03:11:07.131Z"
   },
   {
    "duration": 2,
    "start_time": "2025-01-09T03:11:07.136Z"
   },
   {
    "duration": 12,
    "start_time": "2025-01-09T03:11:07.140Z"
   },
   {
    "duration": 538,
    "start_time": "2025-01-09T03:11:07.153Z"
   },
   {
    "duration": 778,
    "start_time": "2025-01-09T03:11:07.693Z"
   },
   {
    "duration": 127,
    "start_time": "2025-01-09T03:11:08.473Z"
   },
   {
    "duration": 8,
    "start_time": "2025-01-09T03:11:08.602Z"
   },
   {
    "duration": 19,
    "start_time": "2025-01-09T03:11:08.611Z"
   },
   {
    "duration": 111,
    "start_time": "2025-01-09T03:11:08.631Z"
   },
   {
    "duration": 3,
    "start_time": "2025-01-09T03:11:08.744Z"
   },
   {
    "duration": 3,
    "start_time": "2025-01-09T03:11:08.825Z"
   },
   {
    "duration": 3,
    "start_time": "2025-01-09T03:11:08.830Z"
   },
   {
    "duration": 3,
    "start_time": "2025-01-09T03:11:08.835Z"
   },
   {
    "duration": 3,
    "start_time": "2025-01-09T03:11:08.839Z"
   },
   {
    "duration": 4,
    "start_time": "2025-01-09T03:11:08.844Z"
   },
   {
    "duration": 5,
    "start_time": "2025-01-09T03:11:08.850Z"
   },
   {
    "duration": 8,
    "start_time": "2025-01-09T03:11:08.925Z"
   },
   {
    "duration": 4,
    "start_time": "2025-01-09T03:11:08.935Z"
   },
   {
    "duration": 104,
    "start_time": "2025-01-09T03:11:08.940Z"
   },
   {
    "duration": 4,
    "start_time": "2025-01-09T03:11:09.046Z"
   },
   {
    "duration": 3069,
    "start_time": "2025-01-09T21:14:55.307Z"
   },
   {
    "duration": 325,
    "start_time": "2025-01-09T21:14:58.379Z"
   },
   {
    "duration": 49,
    "start_time": "2025-01-09T21:14:58.707Z"
   },
   {
    "duration": 49,
    "start_time": "2025-01-09T21:14:58.758Z"
   },
   {
    "duration": 48,
    "start_time": "2025-01-09T21:14:58.811Z"
   },
   {
    "duration": 30,
    "start_time": "2025-01-09T21:14:58.861Z"
   },
   {
    "duration": 22,
    "start_time": "2025-01-09T21:14:58.893Z"
   },
   {
    "duration": 5,
    "start_time": "2025-01-09T21:14:58.916Z"
   },
   {
    "duration": 14,
    "start_time": "2025-01-09T21:14:58.922Z"
   },
   {
    "duration": 5,
    "start_time": "2025-01-09T21:14:58.938Z"
   },
   {
    "duration": 4,
    "start_time": "2025-01-09T21:14:58.946Z"
   },
   {
    "duration": 2,
    "start_time": "2025-01-09T21:14:58.952Z"
   },
   {
    "duration": 44,
    "start_time": "2025-01-09T21:14:58.956Z"
   },
   {
    "duration": 525,
    "start_time": "2025-01-09T21:14:59.004Z"
   },
   {
    "duration": 820,
    "start_time": "2025-01-09T21:14:59.531Z"
   },
   {
    "duration": 125,
    "start_time": "2025-01-09T21:15:00.353Z"
   },
   {
    "duration": 12,
    "start_time": "2025-01-09T21:15:00.480Z"
   },
   {
    "duration": 11,
    "start_time": "2025-01-09T21:15:00.499Z"
   },
   {
    "duration": 99,
    "start_time": "2025-01-09T21:15:00.514Z"
   },
   {
    "duration": 11,
    "start_time": "2025-01-09T21:15:00.691Z"
   },
   {
    "duration": 12,
    "start_time": "2025-01-09T21:15:00.703Z"
   },
   {
    "duration": 3,
    "start_time": "2025-01-09T21:15:00.788Z"
   },
   {
    "duration": 5,
    "start_time": "2025-01-09T21:15:00.793Z"
   },
   {
    "duration": 4,
    "start_time": "2025-01-09T21:15:00.800Z"
   },
   {
    "duration": 11,
    "start_time": "2025-01-09T21:15:00.806Z"
   },
   {
    "duration": 6,
    "start_time": "2025-01-09T21:15:00.819Z"
   },
   {
    "duration": 2,
    "start_time": "2025-01-09T21:15:00.827Z"
   },
   {
    "duration": 3,
    "start_time": "2025-01-09T21:15:00.831Z"
   },
   {
    "duration": 58,
    "start_time": "2025-01-09T21:15:00.836Z"
   },
   {
    "duration": 533,
    "start_time": "2025-01-09T21:15:00.897Z"
   },
   {
    "duration": 823,
    "start_time": "2025-01-09T21:15:01.432Z"
   },
   {
    "duration": 140,
    "start_time": "2025-01-09T21:15:02.257Z"
   },
   {
    "duration": 9,
    "start_time": "2025-01-09T21:15:02.399Z"
   },
   {
    "duration": 7,
    "start_time": "2025-01-09T21:15:02.410Z"
   },
   {
    "duration": 179,
    "start_time": "2025-01-09T21:15:02.418Z"
   },
   {
    "duration": 4,
    "start_time": "2025-01-09T21:15:02.599Z"
   },
   {
    "duration": 5,
    "start_time": "2025-01-09T21:15:02.605Z"
   },
   {
    "duration": 6,
    "start_time": "2025-01-09T21:15:02.612Z"
   },
   {
    "duration": 5,
    "start_time": "2025-01-09T21:15:02.688Z"
   },
   {
    "duration": 7,
    "start_time": "2025-01-09T21:15:02.694Z"
   },
   {
    "duration": 10,
    "start_time": "2025-01-09T21:15:02.708Z"
   },
   {
    "duration": 4,
    "start_time": "2025-01-09T21:15:02.722Z"
   },
   {
    "duration": 60,
    "start_time": "2025-01-09T21:15:02.728Z"
   },
   {
    "duration": 4,
    "start_time": "2025-01-09T21:15:02.790Z"
   },
   {
    "duration": 12,
    "start_time": "2025-01-09T21:15:02.796Z"
   },
   {
    "duration": 649,
    "start_time": "2025-01-09T21:15:02.810Z"
   },
   {
    "duration": 867,
    "start_time": "2025-01-09T21:15:03.461Z"
   },
   {
    "duration": 153,
    "start_time": "2025-01-09T21:15:04.331Z"
   },
   {
    "duration": 10,
    "start_time": "2025-01-09T21:15:04.487Z"
   },
   {
    "duration": 8,
    "start_time": "2025-01-09T21:15:04.499Z"
   },
   {
    "duration": 200,
    "start_time": "2025-01-09T21:15:04.509Z"
   },
   {
    "duration": 6,
    "start_time": "2025-01-09T21:15:04.711Z"
   },
   {
    "duration": 5,
    "start_time": "2025-01-09T21:15:04.787Z"
   },
   {
    "duration": 4,
    "start_time": "2025-01-09T21:15:04.794Z"
   },
   {
    "duration": 5,
    "start_time": "2025-01-09T21:15:04.799Z"
   },
   {
    "duration": 4,
    "start_time": "2025-01-09T21:15:04.805Z"
   },
   {
    "duration": 5,
    "start_time": "2025-01-09T21:15:04.811Z"
   },
   {
    "duration": 73,
    "start_time": "2025-01-09T21:15:04.818Z"
   },
   {
    "duration": 9,
    "start_time": "2025-01-09T21:15:04.893Z"
   },
   {
    "duration": 4,
    "start_time": "2025-01-09T21:15:04.904Z"
   },
   {
    "duration": 5,
    "start_time": "2025-01-09T21:15:04.909Z"
   },
   {
    "duration": 5,
    "start_time": "2025-01-09T21:15:04.915Z"
   },
   {
    "duration": 376,
    "start_time": "2025-01-09T21:15:04.922Z"
   },
   {
    "duration": 0,
    "start_time": "2025-01-09T21:15:05.300Z"
   },
   {
    "duration": 29,
    "start_time": "2025-01-09T21:15:55.060Z"
   },
   {
    "duration": 22,
    "start_time": "2025-01-09T21:16:00.133Z"
   },
   {
    "duration": 638,
    "start_time": "2025-01-09T21:16:11.262Z"
   },
   {
    "duration": 15,
    "start_time": "2025-01-09T21:16:15.335Z"
   },
   {
    "duration": 4,
    "start_time": "2025-01-09T21:16:38.379Z"
   },
   {
    "duration": 4,
    "start_time": "2025-01-09T21:16:47.962Z"
   },
   {
    "duration": 194,
    "start_time": "2025-01-10T19:45:26.492Z"
   },
   {
    "duration": 2753,
    "start_time": "2025-01-10T19:45:34.132Z"
   },
   {
    "duration": 302,
    "start_time": "2025-01-10T19:45:36.888Z"
   },
   {
    "duration": 63,
    "start_time": "2025-01-10T19:45:37.192Z"
   },
   {
    "duration": 61,
    "start_time": "2025-01-10T19:45:37.258Z"
   },
   {
    "duration": 62,
    "start_time": "2025-01-10T19:45:37.323Z"
   },
   {
    "duration": 28,
    "start_time": "2025-01-10T19:45:37.387Z"
   },
   {
    "duration": 22,
    "start_time": "2025-01-10T19:45:37.418Z"
   },
   {
    "duration": 5,
    "start_time": "2025-01-10T19:45:37.442Z"
   },
   {
    "duration": 16,
    "start_time": "2025-01-10T19:45:37.449Z"
   },
   {
    "duration": 3,
    "start_time": "2025-01-10T19:45:37.467Z"
   },
   {
    "duration": 3,
    "start_time": "2025-01-10T19:45:37.472Z"
   },
   {
    "duration": 3,
    "start_time": "2025-01-10T19:45:37.506Z"
   },
   {
    "duration": 14,
    "start_time": "2025-01-10T19:45:37.511Z"
   },
   {
    "duration": 594,
    "start_time": "2025-01-10T19:45:37.529Z"
   },
   {
    "duration": 797,
    "start_time": "2025-01-10T19:45:38.125Z"
   },
   {
    "duration": 144,
    "start_time": "2025-01-10T19:45:38.924Z"
   },
   {
    "duration": 8,
    "start_time": "2025-01-10T19:45:39.070Z"
   },
   {
    "duration": 7,
    "start_time": "2025-01-10T19:45:39.079Z"
   },
   {
    "duration": 123,
    "start_time": "2025-01-10T19:45:39.088Z"
   },
   {
    "duration": 4,
    "start_time": "2025-01-10T19:45:39.213Z"
   },
   {
    "duration": 3,
    "start_time": "2025-01-10T19:45:39.220Z"
   },
   {
    "duration": 5,
    "start_time": "2025-01-10T19:45:39.225Z"
   },
   {
    "duration": 4,
    "start_time": "2025-01-10T19:45:39.232Z"
   },
   {
    "duration": 75,
    "start_time": "2025-01-10T19:45:39.237Z"
   },
   {
    "duration": 11,
    "start_time": "2025-01-10T19:45:39.315Z"
   },
   {
    "duration": 3,
    "start_time": "2025-01-10T19:45:39.328Z"
   },
   {
    "duration": 2,
    "start_time": "2025-01-10T19:45:39.333Z"
   },
   {
    "duration": 2,
    "start_time": "2025-01-10T19:45:39.337Z"
   },
   {
    "duration": 65,
    "start_time": "2025-01-10T19:45:39.341Z"
   },
   {
    "duration": 600,
    "start_time": "2025-01-10T19:45:39.408Z"
   },
   {
    "duration": 755,
    "start_time": "2025-01-10T19:45:40.010Z"
   },
   {
    "duration": 132,
    "start_time": "2025-01-10T19:45:40.767Z"
   },
   {
    "duration": 9,
    "start_time": "2025-01-10T19:45:40.900Z"
   },
   {
    "duration": 7,
    "start_time": "2025-01-10T19:45:40.911Z"
   },
   {
    "duration": 190,
    "start_time": "2025-01-10T19:45:40.919Z"
   },
   {
    "duration": 3,
    "start_time": "2025-01-10T19:45:41.110Z"
   },
   {
    "duration": 5,
    "start_time": "2025-01-10T19:45:41.114Z"
   },
   {
    "duration": 3,
    "start_time": "2025-01-10T19:45:41.120Z"
   },
   {
    "duration": 3,
    "start_time": "2025-01-10T19:45:41.125Z"
   },
   {
    "duration": 5,
    "start_time": "2025-01-10T19:45:41.209Z"
   },
   {
    "duration": 10,
    "start_time": "2025-01-10T19:45:41.220Z"
   },
   {
    "duration": 5,
    "start_time": "2025-01-10T19:45:41.232Z"
   },
   {
    "duration": 2,
    "start_time": "2025-01-10T19:45:41.240Z"
   },
   {
    "duration": 3,
    "start_time": "2025-01-10T19:45:41.243Z"
   },
   {
    "duration": 60,
    "start_time": "2025-01-10T19:45:41.247Z"
   },
   {
    "duration": 531,
    "start_time": "2025-01-10T19:45:41.308Z"
   },
   {
    "duration": 836,
    "start_time": "2025-01-10T19:45:41.840Z"
   },
   {
    "duration": 208,
    "start_time": "2025-01-10T19:45:42.678Z"
   },
   {
    "duration": 22,
    "start_time": "2025-01-10T19:45:42.888Z"
   },
   {
    "duration": 9,
    "start_time": "2025-01-10T19:45:42.912Z"
   },
   {
    "duration": 184,
    "start_time": "2025-01-10T19:45:42.923Z"
   },
   {
    "duration": 5,
    "start_time": "2025-01-10T19:45:43.109Z"
   },
   {
    "duration": 4,
    "start_time": "2025-01-10T19:45:43.115Z"
   },
   {
    "duration": 4,
    "start_time": "2025-01-10T19:45:43.121Z"
   },
   {
    "duration": 3,
    "start_time": "2025-01-10T19:45:43.126Z"
   },
   {
    "duration": 75,
    "start_time": "2025-01-10T19:45:43.131Z"
   },
   {
    "duration": 4,
    "start_time": "2025-01-10T19:45:43.207Z"
   },
   {
    "duration": 8,
    "start_time": "2025-01-10T19:45:43.213Z"
   },
   {
    "duration": 8,
    "start_time": "2025-01-10T19:45:43.223Z"
   },
   {
    "duration": 4,
    "start_time": "2025-01-10T19:45:43.232Z"
   },
   {
    "duration": 4,
    "start_time": "2025-01-10T19:45:43.238Z"
   },
   {
    "duration": 4,
    "start_time": "2025-01-10T19:45:43.244Z"
   },
   {
    "duration": 616,
    "start_time": "2025-01-10T19:45:43.306Z"
   },
   {
    "duration": 4,
    "start_time": "2025-01-10T19:45:43.923Z"
   },
   {
    "duration": 252,
    "start_time": "2025-01-10T19:45:43.929Z"
   },
   {
    "duration": 25,
    "start_time": "2025-01-10T19:47:53.577Z"
   },
   {
    "duration": 83,
    "start_time": "2025-01-10T19:58:41.471Z"
   },
   {
    "duration": 4,
    "start_time": "2025-01-10T19:58:47.223Z"
   },
   {
    "duration": 4,
    "start_time": "2025-01-10T19:59:15.862Z"
   },
   {
    "duration": 6,
    "start_time": "2025-01-10T20:04:40.434Z"
   },
   {
    "duration": 19,
    "start_time": "2025-01-10T20:05:14.794Z"
   },
   {
    "duration": 3,
    "start_time": "2025-01-10T20:05:44.436Z"
   },
   {
    "duration": 14,
    "start_time": "2025-01-10T20:07:08.246Z"
   },
   {
    "duration": 4,
    "start_time": "2025-01-10T20:07:49.044Z"
   },
   {
    "duration": 3,
    "start_time": "2025-01-10T20:07:51.766Z"
   },
   {
    "duration": 4,
    "start_time": "2025-01-10T20:09:22.505Z"
   },
   {
    "duration": 6,
    "start_time": "2025-01-10T20:25:55.023Z"
   },
   {
    "duration": 4,
    "start_time": "2025-01-10T20:26:15.869Z"
   },
   {
    "duration": 2731,
    "start_time": "2025-01-13T01:38:06.306Z"
   },
   {
    "duration": 315,
    "start_time": "2025-01-13T01:38:09.039Z"
   },
   {
    "duration": 47,
    "start_time": "2025-01-13T01:38:09.356Z"
   },
   {
    "duration": 42,
    "start_time": "2025-01-13T01:38:09.405Z"
   },
   {
    "duration": 56,
    "start_time": "2025-01-13T01:38:09.450Z"
   },
   {
    "duration": 11,
    "start_time": "2025-01-13T01:38:09.508Z"
   },
   {
    "duration": 15,
    "start_time": "2025-01-13T01:38:09.521Z"
   },
   {
    "duration": 3,
    "start_time": "2025-01-13T01:38:09.538Z"
   },
   {
    "duration": 10,
    "start_time": "2025-01-13T01:38:09.542Z"
   },
   {
    "duration": 3,
    "start_time": "2025-01-13T01:38:09.553Z"
   },
   {
    "duration": 30,
    "start_time": "2025-01-13T01:38:09.558Z"
   },
   {
    "duration": 2,
    "start_time": "2025-01-13T01:38:09.590Z"
   },
   {
    "duration": 11,
    "start_time": "2025-01-13T01:38:09.594Z"
   },
   {
    "duration": 510,
    "start_time": "2025-01-13T01:38:09.608Z"
   },
   {
    "duration": 724,
    "start_time": "2025-01-13T01:38:10.119Z"
   },
   {
    "duration": 127,
    "start_time": "2025-01-13T01:38:10.845Z"
   },
   {
    "duration": 8,
    "start_time": "2025-01-13T01:38:10.974Z"
   },
   {
    "duration": 8,
    "start_time": "2025-01-13T01:38:10.986Z"
   },
   {
    "duration": 109,
    "start_time": "2025-01-13T01:38:10.996Z"
   },
   {
    "duration": 79,
    "start_time": "2025-01-13T01:38:11.108Z"
   },
   {
    "duration": 3,
    "start_time": "2025-01-13T01:38:11.189Z"
   },
   {
    "duration": 136,
    "start_time": "2025-01-13T01:38:11.194Z"
   },
   {
    "duration": 3,
    "start_time": "2025-01-13T01:38:11.332Z"
   },
   {
    "duration": 4,
    "start_time": "2025-01-13T01:38:11.337Z"
   },
   {
    "duration": 8,
    "start_time": "2025-01-13T01:38:11.343Z"
   },
   {
    "duration": 3,
    "start_time": "2025-01-13T01:38:11.353Z"
   },
   {
    "duration": 3,
    "start_time": "2025-01-13T01:38:11.387Z"
   },
   {
    "duration": 3,
    "start_time": "2025-01-13T01:38:11.391Z"
   },
   {
    "duration": 11,
    "start_time": "2025-01-13T01:38:11.396Z"
   },
   {
    "duration": 498,
    "start_time": "2025-01-13T01:38:11.408Z"
   },
   {
    "duration": 720,
    "start_time": "2025-01-13T01:38:11.908Z"
   },
   {
    "duration": 130,
    "start_time": "2025-01-13T01:38:12.630Z"
   },
   {
    "duration": 8,
    "start_time": "2025-01-13T01:38:12.761Z"
   },
   {
    "duration": 18,
    "start_time": "2025-01-13T01:38:12.771Z"
   },
   {
    "duration": 110,
    "start_time": "2025-01-13T01:38:12.791Z"
   },
   {
    "duration": 4,
    "start_time": "2025-01-13T01:38:12.903Z"
   },
   {
    "duration": 80,
    "start_time": "2025-01-13T01:38:12.909Z"
   },
   {
    "duration": 4,
    "start_time": "2025-01-13T01:38:12.991Z"
   },
   {
    "duration": 5,
    "start_time": "2025-01-13T01:38:12.999Z"
   },
   {
    "duration": 4,
    "start_time": "2025-01-13T01:38:13.006Z"
   },
   {
    "duration": 72,
    "start_time": "2025-01-13T01:38:13.016Z"
   },
   {
    "duration": 4,
    "start_time": "2025-01-13T01:38:13.090Z"
   },
   {
    "duration": 2,
    "start_time": "2025-01-13T01:38:13.096Z"
   },
   {
    "duration": 3,
    "start_time": "2025-01-13T01:38:13.100Z"
   },
   {
    "duration": 22,
    "start_time": "2025-01-13T01:38:13.105Z"
   },
   {
    "duration": 581,
    "start_time": "2025-01-13T01:38:13.130Z"
   },
   {
    "duration": 715,
    "start_time": "2025-01-13T01:38:13.713Z"
   },
   {
    "duration": 123,
    "start_time": "2025-01-13T01:38:14.430Z"
   },
   {
    "duration": 8,
    "start_time": "2025-01-13T01:38:14.555Z"
   },
   {
    "duration": 23,
    "start_time": "2025-01-13T01:38:14.564Z"
   },
   {
    "duration": 109,
    "start_time": "2025-01-13T01:38:14.589Z"
   },
   {
    "duration": 4,
    "start_time": "2025-01-13T01:38:14.699Z"
   },
   {
    "duration": 3,
    "start_time": "2025-01-13T01:38:14.705Z"
   },
   {
    "duration": 85,
    "start_time": "2025-01-13T01:38:14.709Z"
   },
   {
    "duration": 5,
    "start_time": "2025-01-13T01:38:14.796Z"
   },
   {
    "duration": 2,
    "start_time": "2025-01-13T01:38:14.803Z"
   },
   {
    "duration": 4,
    "start_time": "2025-01-13T01:38:14.807Z"
   },
   {
    "duration": 5,
    "start_time": "2025-01-13T01:38:14.813Z"
   },
   {
    "duration": 8,
    "start_time": "2025-01-13T01:38:14.886Z"
   },
   {
    "duration": 3,
    "start_time": "2025-01-13T01:38:14.895Z"
   },
   {
    "duration": 4,
    "start_time": "2025-01-13T01:38:14.900Z"
   },
   {
    "duration": 3,
    "start_time": "2025-01-13T01:38:14.906Z"
   },
   {
    "duration": 116,
    "start_time": "2025-01-13T01:38:14.910Z"
   },
   {
    "duration": 3,
    "start_time": "2025-01-13T01:38:15.028Z"
   },
   {
    "duration": 4,
    "start_time": "2025-01-13T01:38:15.034Z"
   },
   {
    "duration": 3,
    "start_time": "2025-01-13T01:38:15.040Z"
   },
   {
    "duration": 41,
    "start_time": "2025-01-13T01:38:15.045Z"
   },
   {
    "duration": 4,
    "start_time": "2025-01-13T01:38:15.088Z"
   },
   {
    "duration": 2713,
    "start_time": "2025-01-13T04:21:32.308Z"
   },
   {
    "duration": 301,
    "start_time": "2025-01-13T04:21:35.023Z"
   },
   {
    "duration": 46,
    "start_time": "2025-01-13T04:21:35.325Z"
   },
   {
    "duration": 56,
    "start_time": "2025-01-13T04:21:35.372Z"
   },
   {
    "duration": 46,
    "start_time": "2025-01-13T04:21:35.430Z"
   },
   {
    "duration": 11,
    "start_time": "2025-01-13T04:21:35.478Z"
   },
   {
    "duration": 33,
    "start_time": "2025-01-13T04:21:35.491Z"
   },
   {
    "duration": 4,
    "start_time": "2025-01-13T04:21:35.525Z"
   },
   {
    "duration": 9,
    "start_time": "2025-01-13T04:21:35.531Z"
   },
   {
    "duration": 3,
    "start_time": "2025-01-13T04:21:35.541Z"
   },
   {
    "duration": 2,
    "start_time": "2025-01-13T04:21:35.546Z"
   },
   {
    "duration": 3,
    "start_time": "2025-01-13T04:21:35.550Z"
   },
   {
    "duration": 13,
    "start_time": "2025-01-13T04:21:35.554Z"
   },
   {
    "duration": 594,
    "start_time": "2025-01-13T04:21:35.571Z"
   },
   {
    "duration": 729,
    "start_time": "2025-01-13T04:21:36.167Z"
   },
   {
    "duration": 119,
    "start_time": "2025-01-13T04:21:36.899Z"
   },
   {
    "duration": 7,
    "start_time": "2025-01-13T04:21:37.020Z"
   },
   {
    "duration": 8,
    "start_time": "2025-01-13T04:21:37.028Z"
   },
   {
    "duration": 105,
    "start_time": "2025-01-13T04:21:37.039Z"
   },
   {
    "duration": 4,
    "start_time": "2025-01-13T04:21:37.224Z"
   },
   {
    "duration": 4,
    "start_time": "2025-01-13T04:21:37.229Z"
   },
   {
    "duration": 4,
    "start_time": "2025-01-13T04:21:37.235Z"
   },
   {
    "duration": 4,
    "start_time": "2025-01-13T04:21:37.240Z"
   },
   {
    "duration": 4,
    "start_time": "2025-01-13T04:21:37.245Z"
   },
   {
    "duration": 10,
    "start_time": "2025-01-13T04:21:37.325Z"
   },
   {
    "duration": 3,
    "start_time": "2025-01-13T04:21:37.336Z"
   },
   {
    "duration": 3,
    "start_time": "2025-01-13T04:21:37.341Z"
   },
   {
    "duration": 4,
    "start_time": "2025-01-13T04:21:37.346Z"
   },
   {
    "duration": 11,
    "start_time": "2025-01-13T04:21:37.352Z"
   },
   {
    "duration": 598,
    "start_time": "2025-01-13T04:21:37.364Z"
   },
   {
    "duration": 709,
    "start_time": "2025-01-13T04:21:37.964Z"
   },
   {
    "duration": 128,
    "start_time": "2025-01-13T04:21:38.676Z"
   },
   {
    "duration": 9,
    "start_time": "2025-01-13T04:21:38.805Z"
   },
   {
    "duration": 8,
    "start_time": "2025-01-13T04:21:38.823Z"
   },
   {
    "duration": 192,
    "start_time": "2025-01-13T04:21:38.832Z"
   },
   {
    "duration": 5,
    "start_time": "2025-01-13T04:21:39.026Z"
   },
   {
    "duration": 4,
    "start_time": "2025-01-13T04:21:39.032Z"
   },
   {
    "duration": 4,
    "start_time": "2025-01-13T04:21:39.038Z"
   },
   {
    "duration": 3,
    "start_time": "2025-01-13T04:21:39.044Z"
   },
   {
    "duration": 5,
    "start_time": "2025-01-13T04:21:39.124Z"
   },
   {
    "duration": 10,
    "start_time": "2025-01-13T04:21:39.134Z"
   },
   {
    "duration": 3,
    "start_time": "2025-01-13T04:21:39.145Z"
   },
   {
    "duration": 3,
    "start_time": "2025-01-13T04:21:39.149Z"
   },
   {
    "duration": 2,
    "start_time": "2025-01-13T04:21:39.154Z"
   },
   {
    "duration": 11,
    "start_time": "2025-01-13T04:21:39.158Z"
   },
   {
    "duration": 561,
    "start_time": "2025-01-13T04:21:39.170Z"
   },
   {
    "duration": 749,
    "start_time": "2025-01-13T04:21:39.733Z"
   },
   {
    "duration": 198,
    "start_time": "2025-01-13T04:21:40.484Z"
   },
   {
    "duration": 8,
    "start_time": "2025-01-13T04:21:40.684Z"
   },
   {
    "duration": 7,
    "start_time": "2025-01-13T04:21:40.693Z"
   },
   {
    "duration": 132,
    "start_time": "2025-01-13T04:21:40.702Z"
   },
   {
    "duration": 3,
    "start_time": "2025-01-13T04:21:40.835Z"
   },
   {
    "duration": 4,
    "start_time": "2025-01-13T04:21:40.839Z"
   },
   {
    "duration": 3,
    "start_time": "2025-01-13T04:21:40.844Z"
   },
   {
    "duration": 78,
    "start_time": "2025-01-13T04:21:40.849Z"
   },
   {
    "duration": 4,
    "start_time": "2025-01-13T04:21:40.928Z"
   },
   {
    "duration": 4,
    "start_time": "2025-01-13T04:21:40.933Z"
   },
   {
    "duration": 5,
    "start_time": "2025-01-13T04:21:40.939Z"
   },
   {
    "duration": 8,
    "start_time": "2025-01-13T04:21:40.946Z"
   },
   {
    "duration": 3,
    "start_time": "2025-01-13T04:21:40.955Z"
   },
   {
    "duration": 5,
    "start_time": "2025-01-13T04:21:41.024Z"
   },
   {
    "duration": 4,
    "start_time": "2025-01-13T04:21:41.031Z"
   },
   {
    "duration": 112,
    "start_time": "2025-01-13T04:21:41.037Z"
   },
   {
    "duration": 9,
    "start_time": "2025-01-13T04:21:41.150Z"
   },
   {
    "duration": 9,
    "start_time": "2025-01-13T04:21:41.161Z"
   },
   {
    "duration": 8,
    "start_time": "2025-01-13T04:21:41.172Z"
   },
   {
    "duration": 7,
    "start_time": "2025-01-13T04:21:41.182Z"
   },
   {
    "duration": 8,
    "start_time": "2025-01-13T04:21:41.191Z"
   },
   {
    "duration": 999,
    "start_time": "2025-01-13T06:41:13.087Z"
   },
   {
    "duration": 225,
    "start_time": "2025-01-13T06:41:14.089Z"
   },
   {
    "duration": 51,
    "start_time": "2025-01-13T06:41:14.315Z"
   },
   {
    "duration": 41,
    "start_time": "2025-01-13T06:41:14.370Z"
   },
   {
    "duration": 44,
    "start_time": "2025-01-13T06:41:14.423Z"
   },
   {
    "duration": 12,
    "start_time": "2025-01-13T06:41:14.469Z"
   },
   {
    "duration": 16,
    "start_time": "2025-01-13T06:41:14.483Z"
   },
   {
    "duration": 23,
    "start_time": "2025-01-13T06:41:14.501Z"
   },
   {
    "duration": 10,
    "start_time": "2025-01-13T06:41:14.526Z"
   },
   {
    "duration": 3,
    "start_time": "2025-01-13T06:41:14.539Z"
   },
   {
    "duration": 2,
    "start_time": "2025-01-13T06:41:14.544Z"
   },
   {
    "duration": 3,
    "start_time": "2025-01-13T06:41:14.548Z"
   },
   {
    "duration": 11,
    "start_time": "2025-01-13T06:41:14.553Z"
   },
   {
    "duration": 549,
    "start_time": "2025-01-13T06:41:14.565Z"
   },
   {
    "duration": 773,
    "start_time": "2025-01-13T06:41:15.124Z"
   },
   {
    "duration": 119,
    "start_time": "2025-01-13T06:41:15.899Z"
   },
   {
    "duration": 11,
    "start_time": "2025-01-13T06:41:16.020Z"
   },
   {
    "duration": 7,
    "start_time": "2025-01-13T06:41:16.033Z"
   },
   {
    "duration": 103,
    "start_time": "2025-01-13T06:41:16.042Z"
   },
   {
    "duration": 81,
    "start_time": "2025-01-13T06:41:16.147Z"
   },
   {
    "duration": 4,
    "start_time": "2025-01-13T06:41:16.229Z"
   },
   {
    "duration": 3,
    "start_time": "2025-01-13T06:41:16.235Z"
   },
   {
    "duration": 4,
    "start_time": "2025-01-13T06:41:16.240Z"
   },
   {
    "duration": 79,
    "start_time": "2025-01-13T06:41:16.246Z"
   },
   {
    "duration": 8,
    "start_time": "2025-01-13T06:41:16.327Z"
   },
   {
    "duration": 3,
    "start_time": "2025-01-13T06:41:16.336Z"
   },
   {
    "duration": 3,
    "start_time": "2025-01-13T06:41:16.341Z"
   },
   {
    "duration": 2,
    "start_time": "2025-01-13T06:41:16.349Z"
   },
   {
    "duration": 11,
    "start_time": "2025-01-13T06:41:16.353Z"
   },
   {
    "duration": 573,
    "start_time": "2025-01-13T06:41:16.366Z"
   },
   {
    "duration": 766,
    "start_time": "2025-01-13T06:41:16.941Z"
   },
   {
    "duration": 134,
    "start_time": "2025-01-13T06:41:17.708Z"
   },
   {
    "duration": 8,
    "start_time": "2025-01-13T06:41:17.844Z"
   },
   {
    "duration": 8,
    "start_time": "2025-01-13T06:41:17.853Z"
   },
   {
    "duration": 163,
    "start_time": "2025-01-13T06:41:17.863Z"
   },
   {
    "duration": 3,
    "start_time": "2025-01-13T06:41:18.028Z"
   },
   {
    "duration": 4,
    "start_time": "2025-01-13T06:41:18.033Z"
   },
   {
    "duration": 4,
    "start_time": "2025-01-13T06:41:18.038Z"
   },
   {
    "duration": 3,
    "start_time": "2025-01-13T06:41:18.044Z"
   },
   {
    "duration": 78,
    "start_time": "2025-01-13T06:41:18.049Z"
   },
   {
    "duration": 13,
    "start_time": "2025-01-13T06:41:18.130Z"
   },
   {
    "duration": 3,
    "start_time": "2025-01-13T06:41:18.145Z"
   },
   {
    "duration": 3,
    "start_time": "2025-01-13T06:41:18.149Z"
   },
   {
    "duration": 3,
    "start_time": "2025-01-13T06:41:18.154Z"
   },
   {
    "duration": 12,
    "start_time": "2025-01-13T06:41:18.158Z"
   },
   {
    "duration": 565,
    "start_time": "2025-01-13T06:41:18.171Z"
   },
   {
    "duration": 820,
    "start_time": "2025-01-13T06:41:18.738Z"
   },
   {
    "duration": 129,
    "start_time": "2025-01-13T06:41:19.560Z"
   },
   {
    "duration": 9,
    "start_time": "2025-01-13T06:41:19.690Z"
   },
   {
    "duration": 8,
    "start_time": "2025-01-13T06:41:19.700Z"
   },
   {
    "duration": 112,
    "start_time": "2025-01-13T06:41:19.724Z"
   },
   {
    "duration": 5,
    "start_time": "2025-01-13T06:41:19.838Z"
   },
   {
    "duration": 80,
    "start_time": "2025-01-13T06:41:19.845Z"
   },
   {
    "duration": 3,
    "start_time": "2025-01-13T06:41:19.927Z"
   },
   {
    "duration": 2,
    "start_time": "2025-01-13T06:41:19.932Z"
   },
   {
    "duration": 3,
    "start_time": "2025-01-13T06:41:19.936Z"
   },
   {
    "duration": 4,
    "start_time": "2025-01-13T06:41:19.941Z"
   },
   {
    "duration": 6,
    "start_time": "2025-01-13T06:41:19.947Z"
   },
   {
    "duration": 75,
    "start_time": "2025-01-13T06:41:19.954Z"
   },
   {
    "duration": 4,
    "start_time": "2025-01-13T06:41:20.031Z"
   },
   {
    "duration": 5,
    "start_time": "2025-01-13T06:41:20.036Z"
   },
   {
    "duration": 5,
    "start_time": "2025-01-13T06:41:20.042Z"
   },
   {
    "duration": 77,
    "start_time": "2025-01-13T06:41:20.048Z"
   },
   {
    "duration": 3,
    "start_time": "2025-01-13T06:41:20.127Z"
   },
   {
    "duration": 4,
    "start_time": "2025-01-13T06:41:20.132Z"
   },
   {
    "duration": 4,
    "start_time": "2025-01-13T06:41:20.137Z"
   },
   {
    "duration": 4,
    "start_time": "2025-01-13T06:41:20.143Z"
   },
   {
    "duration": 6,
    "start_time": "2025-01-13T06:41:20.148Z"
   }
  ],
  "kernelspec": {
   "display_name": "Python 3 (ipykernel)",
   "language": "python",
   "name": "python3"
  },
  "language_info": {
   "codemirror_mode": {
    "name": "ipython",
    "version": 3
   },
   "file_extension": ".py",
   "mimetype": "text/x-python",
   "name": "python",
   "nbconvert_exporter": "python",
   "pygments_lexer": "ipython3",
   "version": "3.9.19"
  },
  "toc": {
   "base_numbering": 1,
   "nav_menu": {},
   "number_sections": true,
   "sideBar": true,
   "skip_h1_title": true,
   "title_cell": "Table of Contents",
   "title_sidebar": "Contents",
   "toc_cell": false,
   "toc_position": {},
   "toc_section_display": true,
   "toc_window_display": false
  }
 },
 "nbformat": 4,
 "nbformat_minor": 2
}
