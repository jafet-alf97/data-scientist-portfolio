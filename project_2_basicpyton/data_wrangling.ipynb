{
 "cells": [
  {
   "cell_type": "markdown",
   "metadata": {
    "id": "UCjlyTyyJm9R"
   },
   "source": [
    "\n",
    "\n",
    "Todavía desempeñándote como miembro del equipo analítico, en el primer proyecto hemos sentado las bases para la segunda fase. ¡Hemos llegado! Ahora aplicarás técnicas avanzadas para extraer datos significativos, atendiendo a las crecientes necesidades del cliente."
   ]
  },
  {
   "cell_type": "markdown",
   "metadata": {
    "id": "4ZzATQthJm9Y"
   },
   "source": [
    "Como sabes, las empresas recopilan y almacenan datos de una forma particular. Store 1 quiere almacenar toda la información de sus clientes en una tabla.\n",
    "\n",
    "\n",
    "| user_id | user_name | user_age | purchase_category | spending_per_category |\n",
    "| --- | --- | --- | --- | --- |\n",
    "| '32415' | 'mike', 'reed' | 32 | 'electronics', 'sport', 'books' | 894, 213, 173 |\n",
    "| '31980' | 'kate', 'morgan' | 24 | 'clothes', 'shoes' | 439, 390 |\n",
    "\n",
    "En términos técnicos, una tabla es simplemente una lista anidada que contiene una sublista para cada usuario o usuaria.\n",
    "\n",
    "Store 1 ha creado una tabla de este tipo para sus usuarios. Está almacenada en la variable \"users\". Cada sublista contiene el ID del usuario, nombre y apellido, edad, categorías favoritas y el importe gastado en cada categoría."
   ]
  },
  {
   "cell_type": "markdown",
   "metadata": {
    "id": "EMQlsEYlxGET"
   },
   "source": [
    "-\t**user_id:** el identificador único para cada usuario.\n",
    "-\t**user_name:** el nombre de usuario.\n",
    "-\t**user_age:** la edad del usuario.\n",
    "-\t**fav_categories:** las categorías de artículos comprados por el usuario, como 'ELECTRONICS', 'SPORT', 'BOOKS', etc.\n",
    "-\t**total_spendings:** la lista de enteros que indican la cantidad gastada en cada una de sus categorías favoritas.\n"
   ]
  },
  {
   "cell_type": "code",
   "execution_count": 1,
   "metadata": {
    "id": "LfBCH4crxLOt"
   },
   "outputs": [],
   "source": [
    "users = [\n",
    "    ['32415', ' mike_reed ', 32.0, ['ELECTRONICS', 'SPORT', 'BOOKS'], [894, 213, 173]],\n",
    "    ['31980', 'kate morgan', 24.0, ['CLOTHES', 'BOOKS'], [439, 390]],\n",
    "    ['32156', ' john doe ', 37.0, ['ELECTRONICS', 'HOME', 'FOOD'], [459, 120, 99]],\n",
    "    ['32761', 'SAMANTHA SMITH', 29.0, ['CLOTHES', 'ELECTRONICS', 'BEAUTY'], [299, 679, 85]],\n",
    "    ['32984', 'David White', 41.0, ['BOOKS', 'HOME', 'SPORT'], [234, 329, 243]],\n",
    "    ['33001', 'emily brown', 26.0, ['BEAUTY', 'HOME', 'FOOD'], [213, 659, 79]],\n",
    "    ['33767', ' Maria Garcia', 33.0, ['CLOTHES', 'FOOD', 'BEAUTY'], [499, 189, 63]],\n",
    "    ['33912', 'JOSE MARTINEZ', 22.0, ['SPORT', 'ELECTRONICS', 'HOME'], [259, 549, 109]],\n",
    "    ['34009', 'lisa wilson ', 35.0, ['HOME', 'BOOKS', 'CLOTHES'], [329, 189, 329]],\n",
    "    ['34278', 'James Lee', 28.0, ['BEAUTY', 'CLOTHES', 'ELECTRONICS'], [189, 299, 579]],\n",
    "]\n"
   ]
  },
  {
   "cell_type": "markdown",
   "metadata": {
    "id": "vgnoxECvlWvr"
   },
   "source": [
    "# Paso 1\n",
    "\n",
    "En la última tarea de la primera parte de este proyecto escribiste código para:\n",
    "\n",
    "1. Eliminar todos los espacios iniciales y finales de los nombres, así como cualquier guion bajo.\n",
    "2. Convertir todas las edades en números enteros.\n",
    "3. Separar todos los nombres y apellidos en una sublista.\n",
    "\n",
    "Hagámoslo ahora una función para que podamos usarla para fijar a cualquier cliente. Nombra a tu función `clean_user`. Debe recibir una lista con toda la información del cliente (user_info), así como dos enteros. Uno de ellos señala el índice del nombre del cliente y el otro es el índice de la edad del cliente en la lista. Debe devolver la lista limpia después de aplicar todos los cambios anteriores. Pruébala llamándola, pasándole la lista `test_user[]` y luego muéstrala en pantalla.\n"
   ]
  },
  {
   "cell_type": "code",
   "execution_count": 2,
   "metadata": {
    "colab": {
     "base_uri": "https://localhost:8080/"
    },
    "id": "RN6LIlHelWvr",
    "outputId": "632ceadd-0f9a-46cf-91c1-b4bea53623d0"
   },
   "outputs": [
    {
     "name": "stdout",
     "output_type": "stream",
     "text": [
      "['32415', ['mike', 'reed'], 32, ['ELECTRONICS', 'SPORT', 'BOOKS'], [894, 213, 173]]\n"
     ]
    }
   ],
   "source": [
    "# define tu función aquí\n",
    "def clean_user(test_user, name_index, age_index):\n",
    "\n",
    "    # Paso 1: elimina del nombre espacios iniciales y finales, así como guiones\n",
    "    user_name_1 = test_user[name_index]\n",
    "    user_name_1 = user_name_1.strip()\n",
    "    user_name_1 = user_name_1.replace('_', ' ')\n",
    "    test_user[name_index] = user_name_1\n",
    "    \n",
    "\n",
    "    # Paso 2: convierte la edad en entero\n",
    "    user_age_1 = int(test_user[age_index])\n",
    "    test_user[age_index] = user_age_1\n",
    "\n",
    "    # Paso 3: separa el nombre y el apellido en una sublista\n",
    "    test_user[name_index] = list (user_name_1.split())\n",
    "    \n",
    "    return test_user\n",
    "\n",
    "# Prueba la función\n",
    "test_user = ['32415', ' mike_reed ', 32.0, ['ELECTRONICS', 'SPORT', 'BOOKS'], [894, 213, 173]]\n",
    "name_index = 1\n",
    "age_index = 2\n",
    "\n",
    "print(clean_user( test_user, name_index, age_index))"
   ]
  },
  {
   "cell_type": "markdown",
   "metadata": {
    "id": "E8u2OO1YlWvr"
   },
   "source": [
    "********Pista********\n",
    "\n",
    "Para implementar la función `clean_user`, efectúa los siguientes pasos:\n",
    "\n",
    "1. **Recortar y reemplazar:** utiliza `strip()` para eliminar espacios iniciales y finales del nombre del usuario y `replace('_', ' ')` para eliminar guiones bajos con espacios.\n",
    "2. **Convertir la edad:** convierte la edad en entero utilizando la función `int()`.\n",
    "3. **Separar el nombre:** utiliza el método `split()` para separar el nombre y el apellido, creando una sublista.\n",
    "\n",
    "Asegúrate de modificar la lista `user_info` que aparece actualizando el nombre y la edad con los datos limpios antes de devolver la lista. Prueba tu función con un usuario de ejemplo para verificar que funciona correctamente.\n"
   ]
  },
  {
   "cell_type": "markdown",
   "metadata": {
    "id": "zF6ADQNLJm9W"
   },
   "source": [
    "# Paso 2\n",
    "\n",
    "Observa que todas las categorías favoritas están almacenadas en mayúsculas. Llena una nueva lista llamada `fav_categories_low` con las mismas categorías, pero en minúsculas, iterando sobre los valores en la lista `fav_categories`, modificándolos y luego añade los nuevos valores a la lista `fav_categories_low`. Como siempre, muestra el resultado final.\n"
   ]
  },
  {
   "cell_type": "code",
   "execution_count": 3,
   "metadata": {
    "colab": {
     "base_uri": "https://localhost:8080/"
    },
    "id": "Ltoq2LXjJm9W",
    "outputId": "5a05c845-8d3c-4890-8070-38ccb63dd5b4"
   },
   "outputs": [
    {
     "name": "stdout",
     "output_type": "stream",
     "text": [
      "['electronics', 'sport', 'books']\n"
     ]
    }
   ],
   "source": [
    "fav_categories = ['ELECTRONICS', 'SPORT', 'BOOKS']\n",
    "fav_categories_low = []\n",
    "\n",
    "# escribe tu código aquí\n",
    "for category in fav_categories:\n",
    "    category_low = category.lower()\n",
    "    fav_categories_low.append(category_low)\n",
    "\n",
    "print(fav_categories_low) "
   ]
  },
  {
   "cell_type": "markdown",
   "metadata": {
    "id": "w0fevXJTJm9X"
   },
   "source": [
    "********Pista********\n",
    "\n",
    "Crea un bucle `for` que itere sobre la lista `fav_categories`. Utiliza el método `lower()` para transformar cada categoría a minúsculas. Luego, utiliza el método `append()` para agregar los valores actualizados a la lista `fav_categories_low`."
   ]
  },
  {
   "cell_type": "markdown",
   "metadata": {
    "id": "xhKqJwaqdrRu"
   },
   "source": [
    "# Paso 3\n",
    "\n",
    "Ahora hagamos lo mismo, pero para cada uno de los usuarios de la empresa. Llena una lista nueva llamada `users_categories_low` con los mismos usuarios, pero con sus categorías en minúsculas, iterando sobre los valores en la lista `users`, luego itera sobre los valores en `user_categories`, modificándolos, y después agrega los nuevos valores de usuarios a la lista `users_categories_low`. Como siempre, muestra el resultado final.\n"
   ]
  },
  {
   "cell_type": "code",
   "execution_count": 4,
   "metadata": {
    "colab": {
     "base_uri": "https://localhost:8080/"
    },
    "id": "uBfnDzZfdrR1",
    "outputId": "6e0b3a3b-c94e-4402-a9d1-dc88fe07256e"
   },
   "outputs": [
    {
     "name": "stdout",
     "output_type": "stream",
     "text": [
      "['32415', ' mike_reed ', 32.0, ['electronics', 'sport', 'books'], [894, 213, 173]]\n",
      "['31980', 'kate morgan', 24.0, ['clothes', 'books'], [439, 390]]\n",
      "['32156', ' john doe ', 37.0, ['electronics', 'home', 'food'], [459, 120, 99]]\n",
      "['32761', 'SAMANTHA SMITH', 29.0, ['clothes', 'electronics', 'beauty'], [299, 679, 85]]\n",
      "['32984', 'David White', 41.0, ['books', 'home', 'sport'], [234, 329, 243]]\n",
      "['33001', 'emily brown', 26.0, ['beauty', 'home', 'food'], [213, 659, 79]]\n",
      "['33767', ' Maria Garcia', 33.0, ['clothes', 'food', 'beauty'], [499, 189, 63]]\n",
      "['33912', 'JOSE MARTINEZ', 22.0, ['sport', 'electronics', 'home'], [259, 549, 109]]\n",
      "['34009', 'lisa wilson ', 35.0, ['home', 'books', 'clothes'], [329, 189, 329]]\n",
      "['34278', 'James Lee', 28.0, ['beauty', 'clothes', 'electronics'], [189, 299, 579]]\n"
     ]
    }
   ],
   "source": [
    "users = [\n",
    "    ['32415', ' mike_reed ', 32.0, ['ELECTRONICS', 'SPORT', 'BOOKS'], [894, 213, 173]],\n",
    "    ['31980', 'kate morgan', 24.0, ['CLOTHES', 'BOOKS'], [439, 390]],\n",
    "    ['32156', ' john doe ', 37.0, ['ELECTRONICS', 'HOME', 'FOOD'], [459, 120, 99]],\n",
    "    ['32761', 'SAMANTHA SMITH', 29.0, ['CLOTHES', 'ELECTRONICS', 'BEAUTY'], [299, 679, 85]],\n",
    "    ['32984', 'David White', 41.0, ['BOOKS', 'HOME', 'SPORT'], [234, 329, 243]],\n",
    "    ['33001', 'emily brown', 26.0, ['BEAUTY', 'HOME', 'FOOD'], [213, 659, 79]],\n",
    "    ['33767', ' Maria Garcia', 33.0, ['CLOTHES', 'FOOD', 'BEAUTY'], [499, 189, 63]],\n",
    "    ['33912', 'JOSE MARTINEZ', 22.0, ['SPORT', 'ELECTRONICS', 'HOME'], [259, 549, 109]],\n",
    "    ['34009', 'lisa wilson ', 35.0, ['HOME', 'BOOKS', 'CLOTHES'], [329, 189, 329]],\n",
    "    ['34278', 'James Lee', 28.0, ['BEAUTY', 'CLOTHES', 'ELECTRONICS'], [189, 299, 579]],\n",
    "]\n",
    "\n",
    "users_categories_low = []\n",
    "for user in users:\n",
    "    categories_low = []\n",
    "    for category in user[3]: \n",
    "        lowered_category = category.lower()\n",
    "        categories_low.append(lowered_category)\n",
    "    user.pop(3)\n",
    "    user.insert(3, categories_low)\n",
    "    users_categories_low.append(user)\n",
    "        \n",
    "for user in users_categories_low:\n",
    "    print(user)"
   ]
  },
  {
   "cell_type": "markdown",
   "metadata": {
    "id": "lom04QHKdrR1"
   },
   "source": [
    "********Pista********\n",
    "\n",
    "Crea un bucle `for` que itere sobre la lista `users`. Luego crea otro bucle `for` que itere sobre las categorías de usuarios para acceder al usuario y modificarlo. Utiliza el método `lower()` para transformar cada categoría a minúsculas. Luego, modifica al usuario eliminando la lista de categorías anteriores con `pop()` y con `insert()` inserta la nueva en su lugar. A continuación utiliza el método `append()` para agregar a los usuarios actualizados a la lista `users_categories_low`."
   ]
  },
  {
   "cell_type": "markdown",
   "metadata": {
    "id": "uisdgp0or8rS"
   },
   "source": [
    "# Paso 4\n",
    "\n",
    "Ahora, completemos el código de nuestra función `clean_user` para limpiar la categoría:\n",
    "1. Añade otro parámetro con el índice de categorías.\n",
    "2. Pon todos los nombres en minúsculas antes de aplicar \"strip\" y \"replace\".\n",
    "\n",
    "Después, crea un bucle y aplica tu función a toda la lista de usuarios, agregando tus resultados a la lista `users_clean`. Después muéstralo"
   ]
  },
  {
   "cell_type": "code",
   "execution_count": 5,
   "metadata": {
    "colab": {
     "base_uri": "https://localhost:8080/"
    },
    "id": "ioGD_Cs5r8ra",
    "outputId": "fddb59df-a686-4270-9a01-1803d53a0da9"
   },
   "outputs": [
    {
     "name": "stdout",
     "output_type": "stream",
     "text": [
      "['32415', ['mike', 'reed'], 32, ['electronics', 'sport', 'books'], [894, 213, 173]]\n",
      "['31980', ['kate', 'morgan'], 24, ['clothes', 'books'], [439, 390]]\n",
      "['32156', ['john', 'doe'], 37, ['electronics', 'home', 'food'], [459, 120, 99]]\n",
      "['32761', ['samantha', 'smith'], 29, ['clothes', 'electronics', 'beauty'], [299, 679, 85]]\n",
      "['32984', ['david', 'white'], 41, ['books', 'home', 'sport'], [234, 329, 243]]\n",
      "['33001', ['emily', 'brown'], 26, ['beauty', 'home', 'food'], [213, 659, 79]]\n",
      "['33767', ['maria', 'garcia'], 33, ['clothes', 'food', 'beauty'], [499, 189, 63]]\n",
      "['33912', ['jose', 'martinez'], 22, ['sport', 'electronics', 'home'], [259, 549, 109]]\n",
      "['34009', ['lisa', 'wilson'], 35, ['home', 'books', 'clothes'], [329, 189, 329]]\n",
      "['34278', ['james', 'lee'], 28, ['beauty', 'clothes', 'electronics'], [189, 299, 579]]\n"
     ]
    }
   ],
   "source": [
    "def clean_user(user_info, name_index, age_index, cat_index):\n",
    "\n",
    "  # Paso 1: pon todo en minúsculas y elimina del nombre espacios iniciales y finales, así como guiones\n",
    "  \n",
    "    user_name_1 = user_info[name_index]\n",
    "    user_name_1 = user_name_1.lower()\n",
    "    user_name_1 = user_name_1.strip()\n",
    "    user_name_1 = user_name_1.replace('_', ' ')\n",
    "    user_info[name_index] = user_name_1\n",
    "    \n",
    "\n",
    "  # Paso 2: convierte la edad en entero\n",
    "    user_age_1 = int(user_info[age_index])\n",
    "    user_info[age_index] = user_age_1\n",
    "\n",
    "\n",
    "  # Paso 3: separa el nombre y el apellido en una sublista\n",
    "    user_info[name_index] = list (user_name_1.split())\n",
    "\n",
    "  # Paso 4: separa el nombre y el apellido en una sublista\n",
    "    categories_low = []\n",
    "    for category in user_info[cat_index]:\n",
    "        lowered_category = category.lower()\n",
    "        categories_low.append(lowered_category)\n",
    "    user_info[cat_index] = categories_low\n",
    "      \n",
    "\n",
    "\n",
    "  # Prepara la lista con la información completa del usuario\n",
    "  # Reemplaza el nombre y la edad originales con los datos limpios\n",
    "  # escribe tu código aquí\n",
    "\n",
    "#user['32415', ' mike_reed ', 32.0, ['ELECTRONICS', 'SPORT', 'BOOKS'], [894, 213, 173]]\n",
    "#user['32415',user_info[name_index],user_info[age_index], [categories_low], [894, 213, 173]]\n",
    "\n",
    "\n",
    "    return user_info\n",
    "\n",
    "\n",
    "users = [\n",
    "    ['32415', ' mike_reed ', 32.0, ['ELECTRONICS', 'SPORT', 'BOOKS'], [894, 213, 173]],\n",
    "    ['31980', 'kate morgan', 24.0, ['CLOTHES', 'BOOKS'], [439, 390]],\n",
    "    ['32156', ' john doe ', 37.0, ['ELECTRONICS', 'HOME', 'FOOD'], [459, 120, 99]],\n",
    "    ['32761', 'SAMANTHA SMITH', 29.0, ['CLOTHES', 'ELECTRONICS', 'BEAUTY'], [299, 679, 85]],\n",
    "    ['32984', 'David White', 41.0, ['BOOKS', 'HOME', 'SPORT'], [234, 329, 243]],\n",
    "    ['33001', 'emily brown', 26.0, ['BEAUTY', 'HOME', 'FOOD'], [213, 659, 79]],\n",
    "    ['33767', ' Maria Garcia', 33.0, ['CLOTHES', 'FOOD', 'BEAUTY'], [499, 189, 63]],\n",
    "    ['33912', 'JOSE MARTINEZ', 22.0, ['SPORT', 'ELECTRONICS', 'HOME'], [259, 549, 109]],\n",
    "    ['34009', 'lisa wilson ', 35.0, ['HOME', 'BOOKS', 'CLOTHES'], [329, 189, 329]],\n",
    "    ['34278', 'James Lee', 28.0, ['BEAUTY', 'CLOTHES', 'ELECTRONICS'], [189, 299, 579]],\n",
    "]\n",
    "\n",
    "name_index = 1\n",
    "age_index = 2\n",
    "cat_index = 3\n",
    "users_cleaned = []\n",
    "\n",
    "for user in users:\n",
    "    user_clean = clean_user(user, name_index, age_index, cat_index)\n",
    "    users_cleaned.append(user_clean)\n",
    "    \n",
    "\n",
    "\n",
    "for user in users_cleaned:\n",
    "    print(user)\n",
    "    "
   ]
  },
  {
   "cell_type": "markdown",
   "metadata": {
    "id": "h5SOurz6r8ra"
   },
   "source": [
    "********Pista********\n",
    "\n",
    "Efectúa los siguientes pasos para implementar la función `clean_user`:\n",
    "\n",
    "1. **Copia y adapta:** copia el código de tu función anterior `clean_user`.\n",
    "\n",
    "2. **Pon el nombre en minúsculas:** antes de aplicar `split()` y `replace()`, aplica `lower()` al nombre del cliente.\n",
    "\n",
    "3. **Procesa las categorías:** agrega una sección nueva para gestionar las categorías. Pon cada categoría de la lista en minúsculas y almacénalas en una nueva lista.\n",
    "\n",
    "4. **Ejecuta tu código:** asegúrate de que la función `clean_user` actualice la lista `user_info` con el nombre, edad y categorías limpias. Haz un bucle en la lista `users` y llama a la función `clean_user`, pasando el usuario, `name_index`, `age_index` y `cat_index` para especificar los índices correctos para el nombre, la edad y las categorías, respectivamente.\n",
    "\n",
    "5. Guarda cada nuevo usuario limpio en la lista nueva `users_cleaned`.\n",
    "\n",
    "Muestra en pantalla la lista `users_cleaned` para asegurarte de que tu código realiza las respectivas transformaciones.\n"
   ]
  },
  {
   "cell_type": "markdown",
   "metadata": {
    "id": "eONfrv9nJm9Y"
   },
   "source": [
    "# Paso 5\n",
    "\n",
    "La empresa desea conocer sus ingresos totales y te pide que proporciones este valor.\n",
    "Para calcular los ingresos de la empresa, sigue estos pasos:\n",
    "\n",
    "1. Utiliza `for` para iterar sobre la lista `users`.\n",
    "2. Extrae la lista de gastos de cada usuario y suma los valores.\n",
    "3. Actualiza el valor de los ingresos con el total de cada usuario.\n",
    "\n",
    "Así obtendrás los ingresos totales de la empresa que mostrarás en la pantalla al final.\n"
   ]
  },
  {
   "cell_type": "code",
   "execution_count": 6,
   "metadata": {
    "colab": {
     "base_uri": "https://localhost:8080/"
    },
    "id": "ijzboKgoJm9Y",
    "outputId": "9aad5fe8-55ec-475b-9b40-afc590ae05e6"
   },
   "outputs": [
    {
     "name": "stdout",
     "output_type": "stream",
     "text": [
      "9189\n"
     ]
    }
   ],
   "source": [
    "users = [['32415', ['mike', 'reed'], 32, ['electronics', 'sport', 'books'], [894, 213, 173]],\n",
    "         ['31980', ['kate', 'morgan'], 24, ['clothes', 'books'], [439, 390]],\n",
    "         ['32156', ['john', 'doe'], 37, ['electronics', 'home', 'food'], [459, 120, 99]],\n",
    "         ['32761', ['samantha', 'smith'], 29, ['clothes', 'electronics', 'beauty'], [299, 679, 85]],\n",
    "         ['32984', ['david', 'white'], 41, ['books', 'home', 'sport'], [234, 329, 243]],\n",
    "         ['33001', ['emily', 'brown'], 26, ['beauty', 'home', 'food'], [213, 659, 79]],\n",
    "         ['33767', ['maria', 'garcia'], 33, ['clothes', 'food', 'beauty'], [499, 189, 63]],\n",
    "         ['33912', ['jose', 'martinez'], 22, ['sport', 'electronics', 'home'], [259, 549, 109]],\n",
    "         ['34009', ['lisa', 'wilson'], 35, ['home', 'books', 'clothes'], [329, 189, 329]],\n",
    "         ['34278', ['james', 'lee'], 28, ['beauty', 'clothes', 'electronics'], [189, 299, 579]]]\n",
    "\n",
    "revenue = 0\n",
    "\n",
    "for user in users:\n",
    "\t# escribe tu código aquí\n",
    "    spendings_list = user[4] \n",
    "    total_spendings = sum(spendings_list)\n",
    "    revenue += total_spendings\n",
    "\n",
    "print(revenue)"
   ]
  },
  {
   "cell_type": "markdown",
   "metadata": {
    "id": "s_1nxg0nJm9Y"
   },
   "source": [
    "********Pista********\n",
    "\n",
    "Para extraer la lista de gastos realizados por un usuario, utiliza la indexación y asígnala a la variable `spendings_list`. Luego, utiliza la función integrada para calcular la suma de `spending_list`. Por último, actualiza el valor de `revenue` añadiéndole  `total_spendings` mediante la asignación aumentada."
   ]
  },
  {
   "cell_type": "markdown",
   "metadata": {
    "id": "R1wNYes8Jm9X"
   },
   "source": [
    "# Paso 6\n",
    "\n",
    "La empresa quiere ofrecer descuentos a sus clientes leales. Los clientes que realizan compras por un importe total mayor a $1500 se consideran leales y recibirán un descuento.\n",
    "\n",
    "Nuestro objetivo es crear un bucle `while` que compruebe el importe total gastado y se detenga al alcanzarlo. Para simular nuevas compras, la variable `new_purchase` genera un número entre 30 y 80 en cada iteración del bucle. Esto representa la cantidad de dinero gastada en una nueva compra y es lo que debes agregar al total.\n",
    "\n",
    "Una vez que se alcance el importe objetivo y se termine el bucle `while`, se mostrará la cantidad final.\n"
   ]
  },
  {
   "cell_type": "code",
   "execution_count": 7,
   "metadata": {
    "colab": {
     "base_uri": "https://localhost:8080/"
    },
    "id": "eVBfoyx7Jm9X",
    "outputId": "27091cb5-f5f4-4b74-f92a-c2d822354a40"
   },
   "outputs": [
    {
     "name": "stdout",
     "output_type": "stream",
     "text": [
      "1553\n"
     ]
    }
   ],
   "source": [
    "from random import randint\n",
    "\n",
    "total_amount_spent = 1280\n",
    "target_amount = 1500\n",
    "\n",
    "while total_amount_spent < target_amount:\n",
    "\tnew_purchase = randint(30, 80) # generamos un número aleatorio de 30 a 80\n",
    "\ttotal_amount_spent +=  new_purchase\n",
    "\n",
    "print(total_amount_spent)"
   ]
  },
  {
   "cell_type": "markdown",
   "metadata": {
    "id": "u7GIkFFnJm9Y"
   },
   "source": [
    "********Pista********\n",
    "\n",
    "En el bucle `while`, debes comparar `total_amount_spent` (importe total gastado) con `target_amount` (importe objetivo). Durante cada iteración del bucle, actualiza la variable `total_amount_spent` agregándole el valor `new_purchase`."
   ]
  },
  {
   "cell_type": "markdown",
   "metadata": {
    "id": "IoyNnalCJm9Z"
   },
   "source": [
    "# Paso 7\n",
    "\n",
    "Recorre la lista de usuarios que te hemos proporcionado y muestra los nombres de los clientes menores de 30 años.\n"
   ]
  },
  {
   "cell_type": "code",
   "execution_count": 8,
   "metadata": {
    "colab": {
     "base_uri": "https://localhost:8080/"
    },
    "id": "pn5WkcpJJm9Z",
    "outputId": "e95fe449-868e-4a89-f9e6-6e3c7b62bd80"
   },
   "outputs": [
    {
     "name": "stdout",
     "output_type": "stream",
     "text": [
      "kate\n",
      "samantha\n",
      "emily\n",
      "jose\n",
      "james\n"
     ]
    }
   ],
   "source": [
    "users = [['32415', ['mike', 'reed'], 32, ['electronics', 'sport', 'books'], [894, 213, 173]],\n",
    "         ['31980', ['kate', 'morgan'], 24, ['clothes', 'books'], [439, 390]],\n",
    "         ['32156', ['john', 'doe'], 37, ['electronics', 'home', 'food'], [459, 120, 99]],\n",
    "         ['32761', ['samantha', 'smith'], 29, ['clothes', 'electronics', 'beauty'], [299, 679, 85]],\n",
    "         ['32984', ['david', 'white'], 41, ['books', 'home', 'sport'], [234, 329, 243]],\n",
    "         ['33001', ['emily', 'brown'], 26, ['beauty', 'home', 'food'], [213, 659, 79]],\n",
    "         ['33767', ['maria', 'garcia'], 33, ['clothes', 'food', 'beauty'], [499, 189, 63]],\n",
    "         ['33912', ['jose', 'martinez'], 22, ['sport', 'electronics', 'home'], [259, 549, 109]],\n",
    "         ['34009', ['lisa', 'wilson'], 35, ['home', 'books', 'clothes'], [329, 189, 329]],\n",
    "         ['34278', ['james', 'lee'], 28, ['beauty', 'clothes', 'electronics'], [189, 299, 579]]]\n",
    "\n",
    "\n",
    "for user in users:\n",
    "    if user[2] < 30:\n",
    "        first_name = user[1][0]\n",
    "        print(first_name)"
   ]
  },
  {
   "cell_type": "markdown",
   "metadata": {
    "id": "23wCUaWZJm9Z"
   },
   "source": [
    "********Pista********\n",
    "\n",
    "Utiliza el bucle for para iterar sobre cada fila de la tabla. Utiliza `if` dentro de un bucle `for` para imprimir el nombre de usuario o usuaria. El campo `age` tiene el índice 2"
   ]
  },
  {
   "cell_type": "markdown",
   "metadata": {
    "id": "0ok38JMoJm9Z"
   },
   "source": [
    "# Paso 8\n",
    "\n",
    "Mostremos en pantalla los nombres de los usuarios menores de 30 años que acumulan un gasto total superior a 1000 dólares.\n"
   ]
  },
  {
   "cell_type": "code",
   "execution_count": 9,
   "metadata": {
    "colab": {
     "base_uri": "https://localhost:8080/"
    },
    "id": "4oAW1QDFJm9Z",
    "outputId": "c514027b-62cc-42bd-a8bb-d29975abd663"
   },
   "outputs": [
    {
     "name": "stdout",
     "output_type": "stream",
     "text": [
      "samantha\n",
      "james\n"
     ]
    }
   ],
   "source": [
    "users = [['32415', ['mike', 'reed'], 32, ['electronics', 'sport', 'books'], [894, 213, 173]],\n",
    "         ['31980', ['kate', 'morgan'], 24, ['clothes', 'books'], [439, 390]],\n",
    "         ['32156', ['john', 'doe'], 37, ['electronics', 'home', 'food'], [459, 120, 99]],\n",
    "         ['32761', ['samantha', 'smith'], 29, ['clothes', 'electronics', 'beauty'], [299, 679, 85]],\n",
    "         ['32984', ['david', 'white'], 41, ['books', 'home', 'sport'], [234, 329, 243]],\n",
    "         ['33001', ['emily', 'brown'], 26, ['beauty', 'home', 'food'], [213, 659, 79]],\n",
    "         ['33767', ['maria', 'garcia'], 33, ['clothes', 'food', 'beauty'], [499, 189, 63]],\n",
    "         ['33912', ['jose', 'martinez'], 22, ['sport', 'electronics', 'home'], [259, 549, 109]],\n",
    "         ['34009', ['lisa', 'wilson'], 35, ['home', 'books', 'clothes'], [329, 189, 329]],\n",
    "         ['34278', ['james', 'lee'], 28, ['beauty', 'clothes', 'electronics'], [189, 299, 579]]]\n",
    "\n",
    "for user in users:\n",
    "    if user[2] < 30:\n",
    "        spendings_list = user[4] \n",
    "        total_spendings = sum(spendings_list)\n",
    "        if total_spendings > 1000:\n",
    "            first_name = user[1][0]\n",
    "            print(first_name)"
   ]
  },
  {
   "cell_type": "markdown",
   "metadata": {
    "id": "5atbF9e_Jm9Z"
   },
   "source": [
    "********Pista********\n",
    "\n",
    "Utiliza el bucle for para iterar sobre cada fila de la tabla. Utiliza `if` dentro de un bucle `for` para imprimir el nombre de usuario o usuaria. El campo `age` tiene el índice 2. Utiliza la función `sum` para sumar los gastos y luego comprueba si es mayor de 1000 dólares."
   ]
  },
  {
   "cell_type": "markdown",
   "metadata": {
    "id": "H2jI5ljVJm9d"
   },
   "source": [
    "# Paso 9\n",
    "\n",
    "Ahora vamos a mostrar el nombre y la edad de todos los usuarios y todas las usuarias que han comprado ropa (\"clothes\"). Imprime el nombre y la edad en la misma declaración print.\n"
   ]
  },
  {
   "cell_type": "code",
   "execution_count": 10,
   "metadata": {
    "colab": {
     "base_uri": "https://localhost:8080/"
    },
    "id": "oSLk86udJm9d",
    "outputId": "5c323307-6591-4af9-c2d2-529a329367d6"
   },
   "outputs": [
    {
     "name": "stdout",
     "output_type": "stream",
     "text": [
      "kate 24\n",
      "samantha 29\n",
      "maria 33\n",
      "lisa 35\n",
      "james 28\n"
     ]
    }
   ],
   "source": [
    "users = [['32415', ['mike', 'reed'], 32, ['electronics', 'sport', 'books'], [894, 213, 173]],\n",
    "         ['31980', ['kate', 'morgan'], 24, ['clothes', 'books'], [439, 390]],\n",
    "         ['32156', ['john', 'doe'], 37, ['electronics', 'home', 'food'], [459, 120, 99]],\n",
    "         ['32761', ['samantha', 'smith'], 29, ['clothes', 'electronics', 'beauty'], [299, 679, 85]],\n",
    "         ['32984', ['david', 'white'], 41, ['books', 'home', 'sport'], [234, 329, 243]],\n",
    "         ['33001', ['emily', 'brown'], 26, ['beauty', 'home', 'food'], [213, 659, 79]],\n",
    "         ['33767', ['maria', 'garcia'], 33, ['clothes', 'food', 'beauty'], [499, 189, 63]],\n",
    "         ['33912', ['jose', 'martinez'], 22, ['sport', 'electronics', 'home'], [259, 549, 109]],\n",
    "         ['34009', ['lisa', 'wilson'], 35, ['home', 'books', 'clothes'], [329, 189, 329]],\n",
    "         ['34278', ['james', 'lee'], 28, ['beauty', 'clothes', 'electronics'], [189, 299, 579]]]\n",
    "\n",
    "for user in users:\n",
    "    \n",
    "    for category in user[3]:\n",
    "        if 'clothes' == category:\n",
    "            print(user[1][0], user[2])"
   ]
  },
  {
   "cell_type": "markdown",
   "metadata": {
    "id": "EasWyEPqJm9d"
   },
   "source": [
    "********Pista********\n",
    "\n",
    "Utiliza el bucle for para iterar sobre cada fila de la tabla. A continuación, utiliza otro bucle para comprobar si este usuario ha comprado ropa (\"clothes\") y, en caso afirmativo, muestra el nombre y la edad dentro de la misma declaración print, separándolos por comas: `print(firstname, age)`."
   ]
  },
  {
   "cell_type": "markdown",
   "metadata": {
    "id": "88QES-0NJzCJ"
   },
   "source": [
    "# Paso 10\n",
    "\n",
    "La dirección requiere de una función que proporcione información sobre los clientes, incluyendo sus nombres, edades y gasto total, filtrada por categorías específicas. Con base en fragmentos de código anteriores, crearemos una función llamada `get_client_by_cat` con las siguientes especificaciones:\n",
    "\n",
    "1. **Parámetros:**\n",
    "   - **users:** una lista con los datos de los usuarios.\n",
    "   - **id_index:** el índice donde está almacenado el ID del cliente en la lista de usuarios.\n",
    "   - **name_index:** el índice donde está almacenado el nombre del cliente en la lista de usuarios.\n",
    "   - **age_index:** el índice donde la edad del cliente está almacenada en la lista de usuarios.\n",
    "   - **category_index:** el índice donde las categorías de compras del cliente están listadas.\n",
    "   - **amounts_index:** el índice donde las cantidades gastadas en cada categoría están almacenadas.\n",
    "   - **filter_category:** un string que representa el nombre de la categoría para filtrar clientes.\n",
    "\n",
    "2. **Salida:**\n",
    "   - La función devuelve una lista de sublistas. Cada sublista contiene:\n",
    "     - El número ID del cliente.\n",
    "     - Una sublista con el nombre y apellido del cliente.\n",
    "     - La edad del cliente.\n",
    "     - Un entero que representa la cantidad total gastada por el cliente.\n",
    "\n",
    "Por ejemplo, si llamas a la función con los siguientes parámetros:\n",
    "\n",
    "\n",
    "```python\n",
    "get_client_by_cat([\n",
    "    ['32415', ['mike', 'reed'], 32, ['electronics', 'sport', 'books'], [894, 213, 173]]\n",
    "], 0, 1, 2, 3, 4, 'books')\n",
    "```\n",
    "\n",
    "La salida será:\n",
    "\n",
    "```python\n",
    "[['32415', ['mike', 'reed'], 32, 1280]]\n",
    "```\n",
    "\n",
    "Esta salida muestra que el cliente con el ID '32415', llamado Mike Reed, de 32 años, gastó un total de 1280 en la categoría 'books' y otras compras.\n",
    "\n",
    "Después de hacer tu función, llámala pasándole nuestra lista de usuarios, los índices adecuados y la categoría 'home' y muestra en pantalla la lista que resulta.\n",
    "\n"
   ]
  },
  {
   "cell_type": "code",
   "execution_count": 11,
   "metadata": {},
   "outputs": [
    {
     "ename": "NameError",
     "evalue": "name 'get_client_by_cat' is not defined",
     "output_type": "error",
     "traceback": [
      "\u001b[1;31m---------------------------------------------------------------------------\u001b[0m",
      "\u001b[1;31mNameError\u001b[0m                                 Traceback (most recent call last)",
      "Cell \u001b[1;32mIn[11], line 1\u001b[0m\n\u001b[1;32m----> 1\u001b[0m get_client_by_cat(\n\u001b[0;32m      2\u001b[0m     [\n\u001b[0;32m      3\u001b[0m     [\u001b[38;5;124m'\u001b[39m\u001b[38;5;124m32415\u001b[39m\u001b[38;5;124m'\u001b[39m, [\u001b[38;5;124m'\u001b[39m\u001b[38;5;124mmike\u001b[39m\u001b[38;5;124m'\u001b[39m, \u001b[38;5;124m'\u001b[39m\u001b[38;5;124mreed\u001b[39m\u001b[38;5;124m'\u001b[39m], \u001b[38;5;241m32\u001b[39m, [\u001b[38;5;124m'\u001b[39m\u001b[38;5;124melectronics\u001b[39m\u001b[38;5;124m'\u001b[39m, \u001b[38;5;124m'\u001b[39m\u001b[38;5;124msport\u001b[39m\u001b[38;5;124m'\u001b[39m, \u001b[38;5;124m'\u001b[39m\u001b[38;5;124mbooks\u001b[39m\u001b[38;5;124m'\u001b[39m], [\u001b[38;5;241m894\u001b[39m, \u001b[38;5;241m213\u001b[39m, \u001b[38;5;241m173\u001b[39m]]\n\u001b[0;32m      4\u001b[0m ], \n\u001b[0;32m      5\u001b[0m     \u001b[38;5;241m0\u001b[39m, \n\u001b[0;32m      6\u001b[0m     \u001b[38;5;241m1\u001b[39m,\n\u001b[0;32m      7\u001b[0m     \u001b[38;5;241m2\u001b[39m,\n\u001b[0;32m      8\u001b[0m     \u001b[38;5;241m3\u001b[39m,\n\u001b[0;32m      9\u001b[0m     \u001b[38;5;241m4\u001b[39m,\n\u001b[0;32m     10\u001b[0m     \u001b[38;5;124m'\u001b[39m\u001b[38;5;124mbooks\u001b[39m\u001b[38;5;124m'\u001b[39m)\n",
      "\u001b[1;31mNameError\u001b[0m: name 'get_client_by_cat' is not defined"
     ]
    }
   ],
   "source": [
    "get_client_by_cat(\n",
    "    [\n",
    "    ['32415', ['mike', 'reed'], 32, ['electronics', 'sport', 'books'], [894, 213, 173]]\n",
    "], \n",
    "    0, \n",
    "    1,\n",
    "    2,\n",
    "    3,\n",
    "    4,\n",
    "    'books')"
   ]
  },
  {
   "cell_type": "code",
   "execution_count": null,
   "metadata": {
    "colab": {
     "base_uri": "https://localhost:8080/"
    },
    "id": "-Iqf7AcXJzCP",
    "outputId": "ab62869b-a028-4096-9553-e0a5b5a8c92e"
   },
   "outputs": [
    {
     "name": "stdout",
     "output_type": "stream",
     "text": [
      "[['32156', ['john', 'doe'], 37, 678], ['32984', ['david', 'white'], 41, 806], ['33001', ['emily', 'brown'], 26, 951], ['33912', ['jose', 'martinez'], 22, 917], ['34009', ['lisa', 'wilson'], 35, 847]]\n"
     ]
    }
   ],
   "source": [
    "def get_client_by_cat(users, id_index, name_index, age_index, category_index, amounts_index, filter_category):\n",
    "    result = []\n",
    "    # escribe tu código aquí\n",
    "    for user in users:\n",
    "        user_id = user[id_index]\n",
    "        user_name = user[name_index]\n",
    "        user_age = user[age_index]\n",
    "        user_category = user[category_index]\n",
    "        user_amounts = user[amounts_index]\n",
    "        \n",
    "        for category in user_category: \n",
    "            if category == filter_category:\n",
    "                total_spendings = sum(user_amounts)\n",
    "                user_info = []\n",
    "                user_info = [user_id, user_name, user_age, total_spendings]\n",
    "                result.append(user_info)\n",
    "    return result\n",
    "            \n",
    "\n",
    "# La lista de usuarios\n",
    "users = [\n",
    "    ['32415', ['mike', 'reed'], 32, ['electronics', 'sport', 'books'], [894, 213, 173]],\n",
    "    ['31980', ['kate', 'morgan'], 24, ['clothes', 'books'], [439, 390]],\n",
    "    ['32156', ['john', 'doe'], 37, ['electronics', 'home', 'food'], [459, 120, 99]],\n",
    "    ['32761', ['samantha', 'smith'], 29, ['clothes', 'electronics', 'beauty'], [299, 679, 85]],\n",
    "    ['32984', ['david', 'white'], 41, ['books', 'home', 'sport'], [234, 329, 243]],\n",
    "    ['33001', ['emily', 'brown'], 26, ['beauty', 'home', 'food'], [213, 659, 79]],\n",
    "    ['33767', ['maria', 'garcia'], 33, ['clothes', 'food', 'beauty'], [499, 189, 63]],\n",
    "    ['33912', ['jose', 'martinez'], 22, ['sport', 'electronics', 'home'], [259, 549, 109]],\n",
    "    ['34009', ['lisa', 'wilson'], 35, ['home', 'books', 'clothes'], [329, 189, 329]],\n",
    "    ['34278', ['james', 'lee'], 28, ['beauty', 'clothes', 'electronics'], [189, 299, 579]]\n",
    "]\n",
    "\n",
    "# Llama a la función con la categoría 'home'\n",
    "result = get_client_by_cat(users, 0, 1, 2, 3, 4, 'home')\n",
    "\n",
    "# Muestra en pantalla la lista que resulta\n",
    "print(result)\n"
   ]
  },
  {
   "cell_type": "markdown",
   "metadata": {
    "id": "wkWQL9Z9JzCP"
   },
   "source": [
    "********Pista********\n",
    "\n",
    "Utiliza un bucle for para iterar sobre cada usuario en la lista. Para cada usuario, verifica que la categoría deseada (\"filter_category\") esté en su lista de categorías de compras. Si se encuentra la categoría, calcula la cantidad total gastada sumando las cantidades en la lista correspondiente. Después, crea una sublista con el ID, nombre (como una lista de nombres y apellidos), edad y cantidad total gastada del usuario. Añade esta sublista a la lista final que resulta."
   ]
  }
 ],
 "metadata": {
  "ExecuteTimeLog": [
   {
    "duration": 9,
    "start_time": "2024-09-04T03:18:15.011Z"
   },
   {
    "duration": 7,
    "start_time": "2024-09-04T03:30:12.619Z"
   },
   {
    "duration": 165,
    "start_time": "2024-09-04T04:02:17.624Z"
   },
   {
    "duration": 163,
    "start_time": "2024-09-04T06:30:52.530Z"
   },
   {
    "duration": 13,
    "start_time": "2024-09-04T06:40:13.878Z"
   },
   {
    "duration": 5,
    "start_time": "2024-09-04T06:53:09.424Z"
   },
   {
    "duration": 0,
    "start_time": "2024-09-04T06:53:09.431Z"
   },
   {
    "duration": 13,
    "start_time": "2024-09-04T06:55:52.485Z"
   },
   {
    "duration": 14,
    "start_time": "2024-09-04T06:57:25.803Z"
   },
   {
    "duration": 13,
    "start_time": "2024-09-04T06:57:43.093Z"
   },
   {
    "duration": 3,
    "start_time": "2024-09-04T07:03:37.727Z"
   },
   {
    "duration": 4,
    "start_time": "2024-09-04T07:05:37.216Z"
   },
   {
    "duration": 165,
    "start_time": "2024-09-04T14:50:01.656Z"
   },
   {
    "duration": 4,
    "start_time": "2024-09-04T14:52:05.677Z"
   },
   {
    "duration": 12,
    "start_time": "2024-09-04T18:13:14.010Z"
   },
   {
    "duration": 5,
    "start_time": "2024-09-04T18:13:37.587Z"
   },
   {
    "duration": 5,
    "start_time": "2024-09-04T18:13:49.384Z"
   },
   {
    "duration": 5,
    "start_time": "2024-09-04T18:13:56.599Z"
   },
   {
    "duration": 7,
    "start_time": "2024-09-04T18:15:07.951Z"
   },
   {
    "duration": 5,
    "start_time": "2024-09-04T18:15:14.193Z"
   },
   {
    "duration": 6,
    "start_time": "2024-09-04T18:15:20.684Z"
   },
   {
    "duration": 162,
    "start_time": "2024-09-04T18:15:34.947Z"
   },
   {
    "duration": 5,
    "start_time": "2024-09-04T18:16:20.109Z"
   },
   {
    "duration": 6,
    "start_time": "2024-09-04T18:16:35.102Z"
   },
   {
    "duration": 5,
    "start_time": "2024-09-04T18:16:42.624Z"
   },
   {
    "duration": 6,
    "start_time": "2024-09-04T19:06:13.473Z"
   },
   {
    "duration": 6,
    "start_time": "2024-09-04T19:10:05.857Z"
   },
   {
    "duration": 7,
    "start_time": "2024-09-04T19:11:42.624Z"
   },
   {
    "duration": 7,
    "start_time": "2024-09-04T19:13:29.444Z"
   },
   {
    "duration": 5,
    "start_time": "2024-09-04T19:13:43.412Z"
   },
   {
    "duration": 4,
    "start_time": "2024-09-04T19:13:54.056Z"
   },
   {
    "duration": 9,
    "start_time": "2024-09-05T01:11:51.257Z"
   },
   {
    "duration": 8,
    "start_time": "2024-09-05T01:11:57.205Z"
   },
   {
    "duration": 6,
    "start_time": "2024-09-05T01:12:21.285Z"
   },
   {
    "duration": 5,
    "start_time": "2024-09-05T01:12:31.219Z"
   },
   {
    "duration": 9,
    "start_time": "2024-09-05T01:12:42.493Z"
   },
   {
    "duration": 6,
    "start_time": "2024-09-05T01:12:52.569Z"
   },
   {
    "duration": 5,
    "start_time": "2024-09-05T01:13:03.536Z"
   },
   {
    "duration": 7,
    "start_time": "2024-09-05T01:13:17.950Z"
   },
   {
    "duration": 17,
    "start_time": "2024-09-05T04:14:04.895Z"
   },
   {
    "duration": 8,
    "start_time": "2024-09-05T04:14:13.712Z"
   },
   {
    "duration": 6,
    "start_time": "2024-09-05T04:14:19.339Z"
   },
   {
    "duration": 6,
    "start_time": "2024-09-05T04:14:27.263Z"
   },
   {
    "duration": 3,
    "start_time": "2024-09-05T04:29:40.414Z"
   },
   {
    "duration": 3,
    "start_time": "2024-09-05T04:30:37.929Z"
   },
   {
    "duration": 5,
    "start_time": "2024-09-05T04:31:43.513Z"
   },
   {
    "duration": 3,
    "start_time": "2024-09-05T04:31:51.328Z"
   },
   {
    "duration": 5,
    "start_time": "2024-09-05T05:01:49.650Z"
   },
   {
    "duration": 6,
    "start_time": "2024-09-05T05:03:33.271Z"
   },
   {
    "duration": 6,
    "start_time": "2024-09-05T07:08:51.469Z"
   },
   {
    "duration": 3,
    "start_time": "2024-09-05T07:09:21.136Z"
   },
   {
    "duration": 3,
    "start_time": "2024-09-05T07:14:56.824Z"
   },
   {
    "duration": 4,
    "start_time": "2024-09-05T07:15:19.251Z"
   },
   {
    "duration": 4,
    "start_time": "2024-09-05T07:15:37.121Z"
   },
   {
    "duration": 3,
    "start_time": "2024-09-05T07:15:49.521Z"
   },
   {
    "duration": 3,
    "start_time": "2024-09-05T07:16:00.830Z"
   },
   {
    "duration": 5,
    "start_time": "2024-09-05T07:16:38.612Z"
   },
   {
    "duration": 11,
    "start_time": "2024-09-05T07:16:52.869Z"
   },
   {
    "duration": 171,
    "start_time": "2024-09-05T07:17:14.955Z"
   },
   {
    "duration": 5,
    "start_time": "2024-09-05T07:33:57.991Z"
   },
   {
    "duration": 5,
    "start_time": "2024-09-05T07:34:05.680Z"
   },
   {
    "duration": 6,
    "start_time": "2024-09-05T07:34:13.555Z"
   },
   {
    "duration": 6,
    "start_time": "2024-09-05T07:34:28.006Z"
   },
   {
    "duration": 8,
    "start_time": "2024-09-05T07:34:33.496Z"
   },
   {
    "duration": 5,
    "start_time": "2024-09-05T07:34:46.484Z"
   },
   {
    "duration": 6,
    "start_time": "2024-09-05T07:35:09.197Z"
   },
   {
    "duration": 6,
    "start_time": "2024-09-05T07:35:15.138Z"
   },
   {
    "duration": 7,
    "start_time": "2024-09-05T07:38:53.888Z"
   },
   {
    "duration": 7,
    "start_time": "2024-09-05T07:39:09.459Z"
   },
   {
    "duration": 6,
    "start_time": "2024-09-05T07:39:15.821Z"
   },
   {
    "duration": 5,
    "start_time": "2024-09-05T07:40:31.443Z"
   },
   {
    "duration": 5,
    "start_time": "2024-09-05T07:47:58.145Z"
   },
   {
    "duration": 6,
    "start_time": "2024-09-05T07:48:08.133Z"
   },
   {
    "duration": 6,
    "start_time": "2024-09-05T07:48:23.033Z"
   },
   {
    "duration": 6,
    "start_time": "2024-09-05T07:49:37.998Z"
   },
   {
    "duration": 7,
    "start_time": "2024-09-05T07:50:01.236Z"
   },
   {
    "duration": 7,
    "start_time": "2024-09-05T07:55:05.855Z"
   },
   {
    "duration": 8,
    "start_time": "2024-09-05T07:57:33.747Z"
   },
   {
    "duration": 6,
    "start_time": "2024-09-05T07:57:46.543Z"
   },
   {
    "duration": 6,
    "start_time": "2024-09-05T07:58:20.012Z"
   },
   {
    "duration": 6,
    "start_time": "2024-09-05T07:58:39.269Z"
   },
   {
    "duration": 7,
    "start_time": "2024-09-05T08:19:40.284Z"
   },
   {
    "duration": 6,
    "start_time": "2024-09-05T08:20:02.845Z"
   },
   {
    "duration": 5,
    "start_time": "2024-09-05T08:20:11.923Z"
   },
   {
    "duration": 6,
    "start_time": "2024-09-05T08:20:23.339Z"
   },
   {
    "duration": 6,
    "start_time": "2024-09-05T08:20:39.418Z"
   },
   {
    "duration": 7,
    "start_time": "2024-09-05T08:20:59.032Z"
   },
   {
    "duration": 25,
    "start_time": "2024-09-05T08:21:12.264Z"
   },
   {
    "duration": 6,
    "start_time": "2024-09-05T08:21:17.845Z"
   },
   {
    "duration": 4,
    "start_time": "2024-09-05T08:21:25.178Z"
   },
   {
    "duration": 6,
    "start_time": "2024-09-05T08:21:30.643Z"
   },
   {
    "duration": 12,
    "start_time": "2024-09-05T08:29:34.300Z"
   },
   {
    "duration": 10,
    "start_time": "2024-09-05T08:30:02.702Z"
   },
   {
    "duration": 6,
    "start_time": "2024-09-05T08:30:29.314Z"
   },
   {
    "duration": 178,
    "start_time": "2024-09-05T14:18:48.777Z"
   },
   {
    "duration": 30,
    "start_time": "2024-09-05T14:20:36.011Z"
   },
   {
    "duration": 9,
    "start_time": "2024-09-05T14:21:06.657Z"
   },
   {
    "duration": 12,
    "start_time": "2024-09-05T14:23:11.555Z"
   },
   {
    "duration": 7,
    "start_time": "2024-09-05T14:23:31.922Z"
   },
   {
    "duration": 8,
    "start_time": "2024-09-05T14:25:37.075Z"
   },
   {
    "duration": 7,
    "start_time": "2024-09-05T14:26:38.149Z"
   },
   {
    "duration": 6,
    "start_time": "2024-09-05T14:31:49.658Z"
   },
   {
    "duration": 6,
    "start_time": "2024-09-05T14:35:59.274Z"
   },
   {
    "duration": 8,
    "start_time": "2024-09-05T14:36:03.981Z"
   },
   {
    "duration": 6,
    "start_time": "2024-09-05T14:41:16.851Z"
   },
   {
    "duration": 6,
    "start_time": "2024-09-05T14:41:28.562Z"
   },
   {
    "duration": 5,
    "start_time": "2024-09-05T14:41:34.104Z"
   },
   {
    "duration": 8,
    "start_time": "2024-09-05T14:41:39.586Z"
   },
   {
    "duration": 6,
    "start_time": "2024-09-05T14:41:44.781Z"
   },
   {
    "duration": 7,
    "start_time": "2024-09-05T14:41:48.666Z"
   },
   {
    "duration": 6,
    "start_time": "2024-09-05T14:41:54.556Z"
   },
   {
    "duration": 6,
    "start_time": "2024-09-05T14:42:00.387Z"
   },
   {
    "duration": 6,
    "start_time": "2024-09-05T14:42:05.038Z"
   },
   {
    "duration": 6,
    "start_time": "2024-09-05T14:42:09.524Z"
   },
   {
    "duration": 6,
    "start_time": "2024-09-05T14:42:15.019Z"
   },
   {
    "duration": 28,
    "start_time": "2024-09-05T14:42:19.566Z"
   },
   {
    "duration": 7,
    "start_time": "2024-09-05T14:42:23.336Z"
   },
   {
    "duration": 7,
    "start_time": "2024-09-05T14:42:27.732Z"
   },
   {
    "duration": 6,
    "start_time": "2024-09-05T14:42:32.204Z"
   },
   {
    "duration": 5,
    "start_time": "2024-09-05T14:42:37.446Z"
   },
   {
    "duration": 6,
    "start_time": "2024-09-05T15:00:08.066Z"
   },
   {
    "duration": 10,
    "start_time": "2024-09-06T16:20:41.872Z"
   },
   {
    "duration": 7,
    "start_time": "2024-09-06T16:59:07.249Z"
   },
   {
    "duration": 166,
    "start_time": "2024-09-06T17:00:55.709Z"
   },
   {
    "duration": 7,
    "start_time": "2024-09-06T17:01:08.017Z"
   },
   {
    "duration": 6,
    "start_time": "2024-09-06T20:30:10.475Z"
   },
   {
    "duration": 4,
    "start_time": "2024-09-06T20:30:24.661Z"
   },
   {
    "duration": 8,
    "start_time": "2024-09-06T20:30:59.300Z"
   },
   {
    "duration": 4,
    "start_time": "2024-09-06T20:31:22.966Z"
   },
   {
    "duration": 6,
    "start_time": "2024-09-06T20:31:35.161Z"
   },
   {
    "duration": 6,
    "start_time": "2024-09-06T20:31:47.828Z"
   },
   {
    "duration": 8,
    "start_time": "2024-09-06T20:32:02.602Z"
   },
   {
    "duration": 176,
    "start_time": "2024-09-06T20:32:11.244Z"
   },
   {
    "duration": 32,
    "start_time": "2024-09-06T20:56:56.556Z"
   },
   {
    "duration": 6,
    "start_time": "2024-09-06T20:57:17.401Z"
   },
   {
    "duration": 11,
    "start_time": "2024-09-06T20:58:39.934Z"
   },
   {
    "duration": 7,
    "start_time": "2024-09-06T20:59:04.985Z"
   },
   {
    "duration": 6,
    "start_time": "2024-09-06T21:03:33.210Z"
   },
   {
    "duration": 164,
    "start_time": "2024-09-07T00:07:34.328Z"
   },
   {
    "duration": 5,
    "start_time": "2024-09-07T00:07:48.916Z"
   },
   {
    "duration": 6,
    "start_time": "2024-09-07T01:08:20.971Z"
   },
   {
    "duration": 6,
    "start_time": "2024-09-07T01:10:43.864Z"
   }
  ],
  "colab": {
   "provenance": []
  },
  "kernelspec": {
   "display_name": "base",
   "language": "python",
   "name": "python3"
  },
  "language_info": {
   "codemirror_mode": {
    "name": "ipython",
    "version": 3
   },
   "file_extension": ".py",
   "mimetype": "text/x-python",
   "name": "python",
   "nbconvert_exporter": "python",
   "pygments_lexer": "ipython3",
   "version": "3.12.4"
  },
  "toc": {
   "base_numbering": 1,
   "nav_menu": {},
   "number_sections": true,
   "sideBar": true,
   "skip_h1_title": true,
   "title_cell": "Table of Contents",
   "title_sidebar": "Contents",
   "toc_cell": false,
   "toc_position": {},
   "toc_section_display": true,
   "toc_window_display": false
  }
 },
 "nbformat": 4,
 "nbformat_minor": 1
}
